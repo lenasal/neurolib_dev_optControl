{
 "cells": [
  {
   "cell_type": "code",
   "execution_count": 107,
   "id": "a9c89448",
   "metadata": {},
   "outputs": [],
   "source": [
    "#### TODO\n",
    "# precision variables\n",
    "# network without delay\n",
    "# network with delay"
   ]
  },
  {
   "cell_type": "code",
   "execution_count": 108,
   "id": "f5d65776",
   "metadata": {},
   "outputs": [
    {
     "name": "stdout",
     "output_type": "stream",
     "text": [
      "The autoreload extension is already loaded. To reload it, use:\n",
      "  %reload_ext autoreload\n"
     ]
    }
   ],
   "source": [
    "import os, sys\n",
    "import numpy as np\n",
    "import matplotlib.pyplot as plt\n",
    "import random\n",
    "\n",
    "path = os.getcwd().split(os.sep + 'Jacobian')[0]\n",
    "if path not in sys.path:\n",
    "    sys.path.append(path)\n",
    "\n",
    "%load_ext autoreload\n",
    "%autoreload 2\n",
    "\n",
    "from neurolib.models.fhn import FHNModel\n",
    "from neurolib.models.hopf import HopfModel\n",
    "from neurolib.models.wc import WCModel\n",
    "from neurolib.models.aln import ALNModel\n",
    "\n",
    "from neurolib.utils import jacobian as jac\n",
    "from neurolib.utils import adjoint as adj"
   ]
  },
  {
   "cell_type": "code",
   "execution_count": 178,
   "id": "484697d6",
   "metadata": {},
   "outputs": [
    {
     "data": {
      "image/png": "[encoded data removed]",
      "text/plain": [
       "<Figure size 432x288 with 1 Axes>"
      ]
     },
     "metadata": {
      "needs_background": "light"
     },
     "output_type": "display_data"
    },
    {
     "data": {
      "image/png": "[encoded data removed]",
      "text/plain": [
       "<Figure size 432x288 with 1 Axes>"
      ]
     },
     "metadata": {
      "needs_background": "light"
     },
     "output_type": "display_data"
    }
   ],
   "source": [
    "#model = FHNModel()\n",
    "#model = HopfModel()\n",
    "#model = WCModel()\n",
    "model = ALNModel()\n",
    "\n",
    "N = model.params.N\n",
    "\n",
    "if model.name == 'aln':\n",
    "    model.params.de = 0.\n",
    "    model.params.di = 0.\n",
    "    model.params.a = 0.\n",
    "    model.params.b = 0.\n",
    "    model.params.IA_init = np.zeros((N,))\n",
    "    model.params.mue_ext_mean = 3.\n",
    "    model.params.mui_ext_mean = 1.\n",
    "    model.params.mue_ou = model.params.mue_ext_mean * np.ones((N,))\n",
    "    model.params.mui_ou = model.params.mui_ext_mean * np.ones((N,))\n",
    "\n",
    "dur0 = 2000.\n",
    "dt = model.params.dt\n",
    "T = int(dur0/dt)+1\n",
    "V = len(model.state_vars)\n",
    "model.params.duration = dur0\n",
    "model.run()\n",
    "init = adj.get_fullstate(model, model.state_vars, model.params.N, V, T)[:,:,-1]\n",
    "\n",
    "plt.plot(model.t, model.rates_exc[0,:])\n",
    "plt.show()\n",
    "\n",
    "input_vars = model.input_vars\n",
    "dur = 0.3\n",
    "T = np.around(1+dur/dt,0).astype(int)\n",
    "model.params.duration = dur\n",
    "adj.set_init(model, init, model.init_vars, model.state_vars)\n",
    "model.run()\n",
    "\n",
    "\n",
    "start = adj.get_fullstate(model, model.state_vars, model.params.N, V, T)\n",
    "plt.plot(model.t, start[0,0,:])\n",
    "\n",
    "u0 = np.zeros(( N,len(input_vars),T ))\n",
    "u_stim = np.zeros(( N,len(input_vars),T ))\n",
    "\n",
    "v_control = np.array( [None] * N )\n",
    "v_control[0] = [0]\n",
    "\n",
    "if model.name in ['wc']:\n",
    "    maxcontrol = 50.\n",
    "else:\n",
    "    maxcontrol = 5.\n",
    "\n",
    "for t in np.arange(2, T-1, 1):\n",
    "    for n in range(N):\n",
    "        for v in v_control[n]:\n",
    "            u_stim[n,v,t] = random.uniform( - 0.9 * maxcontrol, 0.9 * maxcontrol )\n",
    "\n",
    "#u_stim[0,0,1] = 2.\n",
    "                \n",
    "for iv in range(len(input_vars)):\n",
    "    model.params[input_vars[iv]] = u_stim[:,iv,:]\n",
    "\n",
    "adj.set_init(model, init, model.init_vars, model.state_vars)\n",
    "model.run()\n",
    "target = adj.get_fullstate(model, model.state_vars, model.params.N, V, T)[:,:1,:]\n",
    "plt.plot(model.t, target[0,0,:])\n",
    "plt.show()\n"
   ]
  },
  {
   "cell_type": "code",
   "execution_count": 188,
   "id": "be8a0f51",
   "metadata": {},
   "outputs": [
    {
     "name": "stdout",
     "output_type": "stream",
     "text": [
      "Initial cost =  161.24767962760092\n",
      "adj =  [-33.0932085  -39.33376035 -46.5965153  -54.64657036]\n",
      "-0.21444415978599807\n",
      "-0.21444415978599807\n",
      "-0.21444415978599807\n",
      "-0.21444415978599807\n",
      "direction  [ -7.09664529  -8.43489519  -9.99235057 -11.71863787]\n",
      "direction  [-0. -0. -0. -0.]\n",
      "1  cost =  34.402212843163944\n",
      "adj =  [-29.148461   -38.21523629 -50.05965271 -60.4628297 ]\n",
      "-0.21444415978599807\n",
      "-0.142999253797349\n",
      "-0.07345454899843062\n",
      "-0.04457927949208518\n",
      "direction  [-6.25071723 -5.46475027 -3.67710921 -2.69538938]\n",
      "direction  [-0. -0. -0. -0.]\n",
      "step size limit reached\n",
      "iteration  1\n"
     ]
    },
    {
     "data": {
      "image/png": "[encoded data removed]",
      "text/plain": [
       "<Figure size 432x288 with 1 Axes>"
      ]
     },
     "metadata": {
      "needs_background": "light"
     },
     "output_type": "display_data"
    }
   ],
   "source": [
    "w = 0.\n",
    "iterations = 10\n",
    "\n",
    "u1, costlist1 = adj.opt_c(model, iterations, init, target, w, u0, v_control, maxcontrol, method='generic')\n",
    "\n",
    "model.params.x_ext = u1[:,0,:]\n",
    "model.params.y_ext = u1[:,1,:]\n",
    "\n",
    "adj.set_init(model, init, model.init_vars, model.state_vars)\n",
    "model.run()\n",
    "state1 = adj.get_fullstate(model, model.state_vars, model.params.N, 2, T)\n",
    "plt.plot(model.t, start[0,0,:], linestyle=':', color='blue')\n",
    "plt.plot(model.t, state1[0,0,:], color='blue')\n",
    "plt.show()"
   ]
  },
  {
   "cell_type": "code",
   "execution_count": 111,
   "id": "69309b7d",
   "metadata": {},
   "outputs": [
    {
     "name": "stdout",
     "output_type": "stream",
     "text": [
      "Initial cost =  1085.4673691179082\n",
      "Analytic jacobian not implemented for aln model.\n",
      "Analytic duh not implemented for aln model.\n"
     ]
    },
    {
     "ename": "TypeError",
     "evalue": "bad operand type for unary -: 'NoneType'",
     "output_type": "error",
     "traceback": [
      "\u001b[1;31m---------------------------------------------------------------------------\u001b[0m",
      "\u001b[1;31mTypeError\u001b[0m                                 Traceback (most recent call last)",
      "\u001b[1;32mc:\\Users\\diehl\\Desktop\\Lena\\neurolib_dev_optControl\\Jacobian\\jacobian.ipynb Cell 5'\u001b[0m in \u001b[0;36m<cell line: 1>\u001b[1;34m()\u001b[0m\n\u001b[1;32m----> <a href='vscode-notebook-cell:/c%3A/Users/diehl/Desktop/Lena/neurolib_dev_optControl/Jacobian/jacobian.ipynb#ch0000004?line=0'>1</a>\u001b[0m u2, costlist2 \u001b[39m=\u001b[39m adj\u001b[39m.\u001b[39;49mopt_c(model, iterations, init, target, w, u0, v_control, maxcontrol, method\u001b[39m=\u001b[39;49m\u001b[39m'\u001b[39;49m\u001b[39manalytic\u001b[39;49m\u001b[39m'\u001b[39;49m)\n\u001b[0;32m      <a href='vscode-notebook-cell:/c%3A/Users/diehl/Desktop/Lena/neurolib_dev_optControl/Jacobian/jacobian.ipynb#ch0000004?line=2'>3</a>\u001b[0m model\u001b[39m.\u001b[39mparams\u001b[39m.\u001b[39mx_ext \u001b[39m=\u001b[39m u2[:,\u001b[39m0\u001b[39m,:]\n\u001b[0;32m      <a href='vscode-notebook-cell:/c%3A/Users/diehl/Desktop/Lena/neurolib_dev_optControl/Jacobian/jacobian.ipynb#ch0000004?line=3'>4</a>\u001b[0m model\u001b[39m.\u001b[39mparams\u001b[39m.\u001b[39my_ext \u001b[39m=\u001b[39m u2[:,\u001b[39m1\u001b[39m,:]\n",
      "File \u001b[1;32mc:\\Users\\diehl\\Desktop\\Lena\\neurolib_dev_optControl\\neurolib\\utils\\adjoint.py:191\u001b[0m, in \u001b[0;36mopt_c\u001b[1;34m(model, max_it, init_state_, target_, w, u0, v_control, maxcontrol, method, step0, factor)\u001b[0m\n\u001b[0;32m    <a href='file:///c%3A/Users/diehl/Desktop/Lena/neurolib_dev_optControl/neurolib/utils/adjoint.py?line=188'>189</a>\u001b[0m \u001b[39m#print(state0.shape)\u001b[39;00m\n\u001b[0;32m    <a href='file:///c%3A/Users/diehl/Desktop/Lena/neurolib_dev_optControl/neurolib/utils/adjoint.py?line=189'>190</a>\u001b[0m adj \u001b[39m=\u001b[39m adjoint(model, state0, fp_, u0, method)\n\u001b[1;32m--> <a href='file:///c%3A/Users/diehl/Desktop/Lena/neurolib_dev_optControl/neurolib/utils/adjoint.py?line=190'>191</a>\u001b[0m direction \u001b[39m=\u001b[39m \u001b[39m-\u001b[39;49m grad(adj, state0, fu_, u0, v_control, model, method)\n\u001b[0;32m    <a href='file:///c%3A/Users/diehl/Desktop/Lena/neurolib_dev_optControl/neurolib/utils/adjoint.py?line=191'>192</a>\u001b[0m \u001b[39m#print('direction ', direction[0,0,:])\u001b[39;00m\n\u001b[0;32m    <a href='file:///c%3A/Users/diehl/Desktop/Lena/neurolib_dev_optControl/neurolib/utils/adjoint.py?line=192'>193</a>\u001b[0m \u001b[39m#print('direction ', direction[0,1,:])\u001b[39;00m\n\u001b[0;32m    <a href='file:///c%3A/Users/diehl/Desktop/Lena/neurolib_dev_optControl/neurolib/utils/adjoint.py?line=193'>194</a>\u001b[0m step \u001b[39m=\u001b[39m bisection(model, dur_, init_state_, u0, direction, target_, w, T, maxcontrol, step0, factor)\n",
      "\u001b[1;31mTypeError\u001b[0m: bad operand type for unary -: 'NoneType'"
     ]
    }
   ],
   "source": [
    "u2, costlist2 = adj.opt_c(model, iterations, init, target, w, u0, v_control, maxcontrol, method='analytic')\n",
    "\n",
    "model.params.x_ext = u2[:,0,:]\n",
    "model.params.y_ext = u2[:,1,:]\n",
    "\n",
    "adj.set_init(model, init, model.init_vars, model.state_vars)\n",
    "model.run()\n",
    "state2 = adj.get_fullstate(model, model.state_vars, model.params.N, 2, T)\n",
    "plt.plot(model.t, start[0,0,:], linestyle=':', color='blue')\n",
    "plt.plot(model.t, state2[0,0,:], color='blue')\n",
    "plt.show()"
   ]
  },
  {
   "cell_type": "code",
   "execution_count": 166,
   "id": "84eb6480",
   "metadata": {},
   "outputs": [
    {
     "name": "stdout",
     "output_type": "stream",
     "text": [
      "generic =  10 [ 0.00000000e+00  6.10554547e-06  0.00000000e+00  0.00000000e+00\n",
      "  0.00000000e+00  0.00000000e+00 -5.15774612e-02  0.00000000e+00\n",
      "  0.00000000e+00  0.00000000e+00 -3.47158793e+00  0.00000000e+00\n",
      "  0.00000000e+00  0.00000000e+00  0.00000000e+00  0.00000000e+00\n",
      "  0.00000000e+00  0.00000000e+00  0.00000000e+00  0.00000000e+00]\n",
      "analytic   10 [ 0.00000000e+00 -6.10554547e-06  0.00000000e+00  0.00000000e+00\n",
      "  0.00000000e+00  0.00000000e+00  5.40951562e-02  0.00000000e+00\n",
      "  0.00000000e+00  0.00000000e+00  3.47158793e+00  0.00000000e+00\n",
      "  0.00000000e+00  0.00000000e+00  0.00000000e+00  0.00000000e+00\n",
      "  0.00000000e+00  0.00000000e+00  0.00000000e+00  0.00000000e+00]\n",
      "generic =  11 [ 4.31402704e-06  0.00000000e+00  0.00000000e+00  0.00000000e+00\n",
      "  0.00000000e+00  0.00000000e+00  0.00000000e+00 -9.96377468e-02\n",
      "  0.00000000e+00  0.00000000e+00  0.00000000e+00 -1.02983014e+01\n",
      "  0.00000000e+00  0.00000000e+00  0.00000000e+00  0.00000000e+00\n",
      "  0.00000000e+00  0.00000000e+00  0.00000000e+00  0.00000000e+00]\n",
      "analytic   11 [-4.31402704e-06  0.00000000e+00  0.00000000e+00  0.00000000e+00\n",
      "  0.00000000e+00  0.00000000e+00  0.00000000e+00  1.07002500e-01\n",
      "  0.00000000e+00  0.00000000e+00  0.00000000e+00  1.30290978e+01\n",
      "  0.00000000e+00  0.00000000e+00  0.00000000e+00  0.00000000e+00\n",
      "  0.00000000e+00  0.00000000e+00  0.00000000e+00  0.00000000e+00]\n",
      "generic =  12 [ 0.00000000e+00  3.90366875e-06  0.00000000e+00  0.00000000e+00\n",
      "  0.00000000e+00  0.00000000e+00  0.00000000e+00  0.00000000e+00\n",
      " -1.04874393e-01  0.00000000e+00  0.00000000e+00  0.00000000e+00\n",
      " -6.06784672e+00  0.00000000e+00  0.00000000e+00  0.00000000e+00\n",
      "  0.00000000e+00  0.00000000e+00  0.00000000e+00  0.00000000e+00]\n",
      "analytic   12 [ 0.00000000e+00 -3.90366875e-06  0.00000000e+00  0.00000000e+00\n",
      "  0.00000000e+00  0.00000000e+00  0.00000000e+00  0.00000000e+00\n",
      "  1.15068362e-01  0.00000000e+00  0.00000000e+00  0.00000000e+00\n",
      "  6.06784672e+00  0.00000000e+00  0.00000000e+00  0.00000000e+00\n",
      "  0.00000000e+00  0.00000000e+00  0.00000000e+00  0.00000000e+00]\n"
     ]
    }
   ],
   "source": [
    "adj.set_vartype(model)\n",
    "\n",
    "generic_jac = jac.generic_jacobian(start[:,:,0], model)\n",
    "\n",
    "analytic_jac = jacobian_analytic(V, start, u0, T, init)\n",
    "for v in np.arange(10,13,1):\n",
    "    print('generic = ', v, generic_jac[0,v,:])\n",
    "    print('analytic  ', v, analytic_jac[v,:,0])"
   ]
  },
  {
   "cell_type": "code",
   "execution_count": 132,
   "id": "b0146660",
   "metadata": {},
   "outputs": [],
   "source": [
    "from neurolib.utils.A1_aln_rate_control import jacobian\n",
    "\n",
    "def jacobian_analytic(V, state_, control_, T, state_pre_):\n",
    "    ext_exc_current = model.params.ext_exc_current\n",
    "    ext_inh_current = model.params.ext_inh_current\n",
    "    ext_ee_rate = model.params.ext_ee_rate\n",
    "    ext_ei_rate = model.params.ext_ei_rate\n",
    "    ext_ie_rate = model.params.ext_ie_rate\n",
    "    ext_ii_rate = model.params.ext_ii_rate\n",
    "    sigmae_ext = model.params.sigmae_ext\n",
    "    sigmai_ext = model.params.sigmai_ext\n",
    "    a = model.params[\"a\"]\n",
    "    b = model.params[\"b\"]\n",
    "    tauA = model.params[\"tauA\"]\n",
    "    C = model.params[\"C\"]\n",
    "    c_gl = model.params[\"c_gl\"]\n",
    "    Ke_gl = model.params[\"Ke_gl\"]\n",
    "    Ki_gl = model.params[\"Ki_gl\"]\n",
    "    Ke = model.params[\"Ke\"]\n",
    "    Ki = model.params[\"Ki\"]\n",
    "    tau_se = model.params[\"tau_se\"] \n",
    "    tau_si = model.params[\"tau_si\"] \n",
    "    cee = model.params[\"cee\"]\n",
    "    cei = model.params[\"cei\"]\n",
    "    cie = model.params[\"cie\"]\n",
    "    cii = model.params[\"cii\"]\n",
    "    Jee_max = model.params[\"Jee_max\"]\n",
    "    Jei_max = model.params[\"Jei_max\"]\n",
    "    Jie_max = model.params[\"Jie_max\"]\n",
    "    Jii_max = model.params[\"Jii_max\"]\n",
    "    taum = model.params.C / model.params.gL\n",
    "    tau_se_sq = tau_se**2\n",
    "    tau_si_sq = tau_si**2\n",
    "    Jee_sq = Jee_max**2\n",
    "    Jei_sq = Jei_max**2\n",
    "    Jie_sq = Jie_max**2\n",
    "    Jii_sq = Jii_max**2\n",
    "    tau_ou = model.params.tau_ou\n",
    "    N = model.params.N\n",
    "    ndt_de = np.around(model.params.de / dt).astype(int)\n",
    "    ndt_di = np.around(model.params.di / dt).astype(int)\n",
    "    factor_ee1 = ( cee * Ke * tau_se / np.abs(Jee_max) )\n",
    "    factor_ee2 = ( cee**2 * Ke * tau_se_sq / Jee_sq )\n",
    "    factor_ei1 = ( cei * Ki * tau_si / np.abs(Jei_max) )\n",
    "    factor_ei2 = ( cei**2 * Ki * tau_si_sq / Jei_sq )\n",
    "    factor_ie1 = ( cie * Ke * tau_se / np.abs(Jie_max) )\n",
    "    factor_ie2 = ( cie**2 * Ke * tau_se_sq / Jie_sq )\n",
    "    factor_ii1 = ( cii * Ki * tau_si / np.abs(Jii_max) )\n",
    "    factor_ii2 = ( cii**2 * Ki * tau_si_sq / Jii_sq )\n",
    "    factor_eec1 = c_gl * Ke_gl * tau_se / np.abs(Jee_max)\n",
    "    factor_eec2 = c_gl**2 * Ke_gl * tau_se_sq / Jee_sq \n",
    "    factor_eic1 = c_gl * Ki_gl * tau_si / np.abs(Jei_max)\n",
    "    factor_eic2 = c_gl**2 * Ki_gl * tau_si_sq / Jei_sq \n",
    "    factor_iec1 = c_gl * Ke_gl * tau_se / np.abs(Jie_max)\n",
    "    factor_iec2 = c_gl**2 * Ke_gl * tau_se_sq / Jie_sq \n",
    "    factor_iic1 = c_gl * Ki_gl * tau_si / np.abs(Jii_max)\n",
    "    factor_iic2 = c_gl**2 * Ki_gl * tau_si_sq / Jii_sq\n",
    "\n",
    "    rd_exc = np.zeros(( N,N, T ))\n",
    "    rd_exc[0,0,:] = state_[0,0,:] * 1e-3\n",
    "    rd_inh = np.zeros(( N, T ))\n",
    "    rd_inh[0,:] = state_[0,1,:] * 1e-3\n",
    "    \n",
    "    sigmarange = model.params[\"sigmarange\"]\n",
    "    ds = model.params[\"ds\"]\n",
    "    Irange = model.params[\"Irange\"]\n",
    "    dI = model.params[\"dI\"]\n",
    "    precalc_r = model.params[\"precalc_r\"]\n",
    "    precalc_tau_mu = model.params[\"precalc_tau_mu\"]\n",
    "    precalc_V = model.params[\"precalc_V\"]\n",
    "    interpolate_rate = model.params[\"interpolate_rate\"]\n",
    "    interpolate_V = model.params[\"interpolate_V\"]\n",
    "    interpolate_tau = model.params[\"interpolate_tau\"]\n",
    "\n",
    "    return jacobian(V, state_, control_, T, state_pre_,\n",
    "        ext_exc_current,\n",
    "        ext_inh_current,\n",
    "        ext_ee_rate,\n",
    "        ext_ei_rate,\n",
    "        ext_ie_rate,\n",
    "        ext_ii_rate,\n",
    "        sigmae_ext,\n",
    "        sigmai_ext,\n",
    "        a,\n",
    "        b,\n",
    "        tauA,\n",
    "        tau_se,\n",
    "        tau_si,\n",
    "        Jee_max,\n",
    "        Jei_max,\n",
    "        Jie_max,\n",
    "        Jii_max,\n",
    "        tau_se_sq,\n",
    "        tau_si_sq,\n",
    "        Jee_sq,\n",
    "        Jei_sq,\n",
    "        Jie_sq,\n",
    "        Jii_sq,\n",
    "        taum,\n",
    "        tau_ou,\n",
    "        factor_ee1,\n",
    "        factor_ee2,\n",
    "        factor_ei1,\n",
    "        factor_ei2,\n",
    "        factor_ie1,\n",
    "        factor_ie2,\n",
    "        factor_ii1,\n",
    "        factor_ii2,\n",
    "        factor_eec1,\n",
    "        factor_eec2,\n",
    "        factor_eic1,\n",
    "        factor_eic2,\n",
    "        factor_iec1,\n",
    "        factor_iec2,\n",
    "        factor_iic1,\n",
    "        factor_iic2,\n",
    "        rd_exc,\n",
    "        rd_inh,\n",
    "        sigmarange, ds, Irange, dI,\n",
    "        C,\n",
    "        precalc_r, precalc_tau_mu, precalc_V,\n",
    "        ndt_de,\n",
    "        ndt_di,  \n",
    "        interpolate_rate,\n",
    "        interpolate_V,\n",
    "        interpolate_tau\n",
    "        )"
   ]
  },
  {
   "cell_type": "code",
   "execution_count": 52,
   "id": "ad36b81f",
   "metadata": {},
   "outputs": [
    {
     "name": "stdout",
     "output_type": "stream",
     "text": [
      "0.035262203839750095\n"
     ]
    }
   ],
   "source": [
    "maxdiff = 0.\n",
    "\n",
    "for t in np.arange(10,10000, 1000):\n",
    "    model = FHNModel()\n",
    "    model.run()\n",
    "    x = np.transpose(np.array( [model.x[:,t], model.y[:,t] ]))\n",
    "    diff = jac.jacobian_fhn(x, model) - jac.generic_jacobian(x, model)\n",
    "    if np.amax(np.abs(diff)) > maxdiff:\n",
    "        maxdiff = np.amax(np.abs(diff))\n",
    "        \n",
    "print(maxdiff)"
   ]
  },
  {
   "cell_type": "code",
   "execution_count": null,
   "id": "5f575131",
   "metadata": {},
   "outputs": [],
   "source": []
  },
  {
   "cell_type": "code",
   "execution_count": null,
   "id": "37356731",
   "metadata": {},
   "outputs": [],
   "source": [
    "p.array( [model.x[:,t], model.y[:,t] ]))\n",
    "    diff = jac.jacobian_fhn(x, model) - jac.generic_jacobian(x, model)\n",
    "    if np.amax(np.abs(diff)) > maxdiff:\n",
    "        maxdiff = np.amax(np.abs(diff))\n",
    "        \n",
    "print(maxdiff)"
   ]
  },
  {
   "cell_type": "code",
   "execution_count": 9,
   "id": "f27534a2",
   "metadata": {},
   "outputs": [
    {
     "name": "stdout",
     "output_type": "stream",
     "text": [
      "0.01493902103071032\n"
     ]
    }
   ],
   "source": [
    "maxdiff = 0.\n",
    "\n",
    "for t in np.arange(10,10000, 1000):\n",
    "    model = HopfModel()\n",
    "    model.run()\n",
    "    x = np.transpose(np.array( [model.x[:,t], model.y[:,t] ]))\n",
    "    diff = jac.jacobian_hopf(x, model) - jac.generic_jacobian(x, model)\n",
    "    if np.amax(np.abs(diff)) > maxdiff:\n",
    "        maxdiff = np.amax(np.abs(diff))\n",
    "        \n",
    "print(maxdiff)"
   ]
  },
  {
   "cell_type": "code",
   "execution_count": 26,
   "id": "19cab4a9",
   "metadata": {},
   "outputs": [
    {
     "name": "stdout",
     "output_type": "stream",
     "text": [
      "0.012288316362294383\n"
     ]
    }
   ],
   "source": [
    "maxdiff = 0.\n",
    "Tmax = 10000\n",
    "\n",
    "for t in np.arange(10,Tmax, 1000):\n",
    "    model = WCModel()\n",
    "    model.params.exc_ext = np.zeros((N,Tmax ))\n",
    "    model.params.inh_ext = np.zeros((N,Tmax ))\n",
    "    u0 = model.params.exc_ext[:,t]\n",
    "    u1 = model.params.inh_ext[:,t]\n",
    "    model.run()\n",
    "    x = np.transpose(np.array( [model.exc[:,t], model.inh[:,t] ]))\n",
    "    diff = jac.jacobian_wc(x, model, u0, u1) - jac.generic_jacobian(x, model)\n",
    "    if np.amax(np.abs(diff)) > maxdiff:\n",
    "        maxdiff = np.amax(np.abs(diff))\n",
    "        \n",
    "print(maxdiff)"
   ]
  },
  {
   "cell_type": "code",
   "execution_count": null,
   "id": "f9f98dbe",
   "metadata": {},
   "outputs": [],
   "source": []
  }
 ],
 "metadata": {
  "interpreter": {
   "hash": "59652797412c80c1cc95db7d79cd92e93ccf925b7ad52aed7aab321c4f92c0ec"
  },
  "kernelspec": {
   "display_name": "Python 3.8.10 64-bit (windows store)",
   "language": "python",
   "name": "python3"
  },
  "language_info": {
   "codemirror_mode": {
    "name": "ipython",
    "version": 3
   },
   "file_extension": ".py",
   "mimetype": "text/x-python",
   "name": "python",
   "nbconvert_exporter": "python",
   "pygments_lexer": "ipython3",
   "version": "3.8.10"
  }
 },
 "nbformat": 4,
 "nbformat_minor": 5
}
