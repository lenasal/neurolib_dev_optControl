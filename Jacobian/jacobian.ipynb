{
 "cells": [
  {
   "cell_type": "code",
   "execution_count": null,
   "id": "a9c89448",
   "metadata": {},
   "outputs": [],
   "source": [
    "#### TODO\n",
    "# precision variables\n",
    "# network without delay\n",
    "# network with delay"
   ]
  },
  {
   "cell_type": "code",
   "execution_count": 305,
   "id": "f5d65776",
   "metadata": {},
   "outputs": [
    {
     "name": "stdout",
     "output_type": "stream",
     "text": [
      "The autoreload extension is already loaded. To reload it, use:\n",
      "  %reload_ext autoreload\n"
     ]
    }
   ],
   "source": [
    "import os, sys\n",
    "import numpy as np\n",
    "import matplotlib.pyplot as plt\n",
    "import random\n",
    "\n",
    "path = os.getcwd().split(os.sep + 'Jacobian')[0]\n",
    "if path not in sys.path:\n",
    "    sys.path.append(path)\n",
    "\n",
    "%load_ext autoreload\n",
    "%autoreload 2\n",
    "\n",
    "from neurolib.models.fhn import FHNModel\n",
    "from neurolib.models.hopf import HopfModel\n",
    "from neurolib.models.wc import WCModel\n",
    "\n",
    "from neurolib.utils import jacobian as jac\n",
    "from neurolib.utils import adjoint as adj"
   ]
  },
  {
   "cell_type": "code",
   "execution_count": 383,
   "id": "484697d6",
   "metadata": {},
   "outputs": [
    {
     "data": {
      "image/png": "[encoded data removed]",
      "text/plain": [
       "<Figure size 432x288 with 1 Axes>"
      ]
     },
     "metadata": {
      "needs_background": "light"
     },
     "output_type": "display_data"
    }
   ],
   "source": [
    "model = FHNModel()\n",
    "model = HopfModel()\n",
    "model = WCModel()\n",
    "\n",
    "dur0 = 1000.\n",
    "dt = model.params.dt\n",
    "T = int(dur0/dt)+1\n",
    "model.params.duration = dur0\n",
    "model.run()\n",
    "init = jac.get_fullstate(model, model.state_vars, model.params.N, 2, T)[:,:,-1]\n",
    "\n",
    "input_vars = model.input_vars\n",
    "dur = 3.\n",
    "T = np.around(1+dur/dt,0).astype(int)\n",
    "model.params.duration = dur\n",
    "jac.set_init(model, init, model.init_vars, model.state_vars)\n",
    "model.run()\n",
    "start = jac.get_fullstate(model, model.state_vars, model.params.N, 2, T)\n",
    "plt.plot(model.t, start[0,0,:])\n",
    "\n",
    "N = model.params.N\n",
    "\n",
    "u0 = np.zeros(( N,len(input_vars),T ))\n",
    "u_stim = np.zeros(( N,len(input_vars),T ))\n",
    "\n",
    "v_control = np.array( [None] * N )\n",
    "v_control[0] = [0]\n",
    "\n",
    "if model.name in ['wc']:\n",
    "    maxcontrol = 50.\n",
    "else:\n",
    "    maxcontrol = 5.\n",
    "\n",
    "for t in np.arange(2, T-1, 1):\n",
    "    for n in range(N):\n",
    "        for v in v_control[n]:\n",
    "            u_stim[n,v,t] = random.uniform( - 0.9 * maxcontrol, 0.9 * maxcontrol )\n",
    "                \n",
    "for iv in range(len(input_vars)):\n",
    "    model.params[input_vars[iv]] = u_stim[:,iv,:]\n",
    "\n",
    "jac.set_init(model, init, model.init_vars, model.state_vars)\n",
    "model.run()\n",
    "target = jac.get_fullstate(model, model.state_vars, model.params.N, 2, T)\n",
    "plt.plot(model.t, target[0,0,:])\n",
    "plt.show()"
   ]
  },
  {
   "cell_type": "code",
   "execution_count": 384,
   "id": "be8a0f51",
   "metadata": {},
   "outputs": [
    {
     "name": "stdout",
     "output_type": "stream",
     "text": [
      "Initial cost =  0.5943985539155366\n",
      "1  cost =  0.04621534791883983\n",
      "2  cost =  0.03949549791096137\n",
      "3  cost =  0.03681944462627255\n",
      "4  cost =  0.02441801649632955\n",
      "5  cost =  0.015511463195559122\n",
      "6  cost =  0.014462835717210576\n",
      "7  cost =  0.013956796811271774\n",
      "8  cost =  0.004316246078117725\n",
      "9  cost =  0.003432673565755236\n",
      "10  cost =  0.003401491485619423\n",
      "50  cost =  0.0018186659137217473\n",
      "100  cost =  0.0013340818989198905\n",
      "150  cost =  0.0009875172953809086\n",
      "200  cost =  0.0007680129354975358\n",
      "250  cost =  0.0006178716631780092\n",
      "300  cost =  0.0004979471322100965\n",
      "350  cost =  0.0004070092093900562\n",
      "400  cost =  0.00033655732149031676\n",
      "450  cost =  0.0002800925399898264\n",
      "500  cost =  0.00023450254616368333\n",
      "550  cost =  0.00019750065610435412\n",
      "600  cost =  0.00016711072075487236\n",
      "650  cost =  0.00014179281831836916\n",
      "700  cost =  0.00012073612467880633\n",
      "750  cost =  0.00010300239149490536\n",
      "800  cost =  8.811001754100547e-05\n",
      "850  cost =  7.557558741870135e-05\n",
      "900  cost =  6.530985979062954e-05\n",
      "950  cost =  5.697206874984652e-05\n",
      "1000  cost =  5.010641074895074e-05\n"
     ]
    },
    {
     "data": {
      "image/png": "[encoded data removed]",
      "text/plain": [
       "<Figure size 432x288 with 1 Axes>"
      ]
     },
     "metadata": {
      "needs_background": "light"
     },
     "output_type": "display_data"
    }
   ],
   "source": [
    "w = 0.\n",
    "iterations = 1000\n",
    "\n",
    "u1, costlist1 = adj.opt_c(model, iterations, init, target, w, u0, v_control, maxcontrol, method='generic')\n",
    "\n",
    "model.params.x_ext = u1[:,0,:]\n",
    "model.params.y_ext = u1[:,1,:]\n",
    "\n",
    "jac.set_init(model, init, model.init_vars, model.state_vars)\n",
    "model.run()\n",
    "state1 = jac.get_fullstate(model, model.state_vars, model.params.N, 2, T)\n",
    "plt.plot(model.t, start[0,0,:], linestyle=':', color='blue')\n",
    "plt.plot(model.t, state1[0,0,:], color='blue')\n",
    "plt.show()"
   ]
  },
  {
   "cell_type": "code",
   "execution_count": 385,
   "id": "69309b7d",
   "metadata": {},
   "outputs": [
    {
     "name": "stdout",
     "output_type": "stream",
     "text": [
      "Initial cost =  0.5943985539155366\n",
      "1  cost =  0.04571918494784035\n",
      "2  cost =  0.04358575086192685\n",
      "3  cost =  0.04071001935371917\n",
      "4  cost =  0.038173102302166646\n",
      "5  cost =  0.036144345869376496\n",
      "6  cost =  0.03437003264997456\n",
      "7  cost =  0.03262203593765951\n",
      "8  cost =  0.031064779407830354\n",
      "9  cost =  0.029497771941008062\n",
      "10  cost =  0.02802349114372575\n",
      "50  cost =  0.003077201615430363\n",
      "100  cost =  0.002518886894607913\n",
      "150  cost =  0.0022917308791074002\n",
      "200  cost =  0.0020529530708869805\n",
      "250  cost =  0.0016464232321507202\n",
      "300  cost =  0.0014432736978394127\n",
      "350  cost =  0.0013762147479058097\n",
      "400  cost =  0.0012958032477277902\n",
      "450  cost =  0.0012109028052837683\n",
      "500  cost =  0.0010902226512872544\n",
      "550  cost =  0.0009671889375831918\n",
      "600  cost =  0.0008390560475919584\n",
      "650  cost =  0.0006932504425866975\n",
      "700  cost =  0.0005651379978526493\n",
      "750  cost =  0.0005020772700841065\n",
      "800  cost =  0.0004370077360868174\n",
      "850  cost =  0.00038808162728986586\n",
      "900  cost =  0.00035072693616836173\n",
      "950  cost =  0.0003123516489294428\n",
      "1000  cost =  0.0002774543416159523\n"
     ]
    },
    {
     "data": {
      "image/png": "[encoded data removed]",
      "text/plain": [
       "<Figure size 432x288 with 1 Axes>"
      ]
     },
     "metadata": {
      "needs_background": "light"
     },
     "output_type": "display_data"
    }
   ],
   "source": [
    "u2, costlist2 = adj.opt_c(model, iterations, init, target, w, u0, v_control, maxcontrol, method='analytic')\n",
    "\n",
    "model.params.x_ext = u2[:,0,:]\n",
    "model.params.y_ext = u2[:,1,:]\n",
    "\n",
    "jac.set_init(model, init, model.init_vars, model.state_vars)\n",
    "model.run()\n",
    "state2 = jac.get_fullstate(model, model.state_vars, model.params.N, 2, T)\n",
    "plt.plot(model.t, start[0,0,:], linestyle=':', color='blue')\n",
    "plt.plot(model.t, state2[0,0,:], color='blue')\n",
    "plt.show()"
   ]
  },
  {
   "cell_type": "code",
   "execution_count": 302,
   "id": "ad36b81f",
   "metadata": {},
   "outputs": [
    {
     "name": "stdout",
     "output_type": "stream",
     "text": [
      "10\n",
      "1010\n",
      "2010\n",
      "3010\n",
      "4010\n",
      "5010\n",
      "6010\n",
      "7010\n",
      "8010\n",
      "9010\n",
      "0.039263090256842936\n"
     ]
    }
   ],
   "source": [
    "maxdiff = 0.\n",
    "\n",
    "for t in np.arange(10,10000, 1000):\n",
    "    print(t)\n",
    "    model = FHNModel()\n",
    "    model.run()\n",
    "    x = np.transpose(np.array( [model.x[:,t], model.y[:,t] ]))\n",
    "    diff = jac.jacobian_fhn(x, model) - jac.generic_jacobian(x, model)\n",
    "    if np.amax(np.abs(diff)) > maxdiff:\n",
    "        maxdiff = np.amax(np.abs(diff))\n",
    "        \n",
    "print(maxdiff)"
   ]
  },
  {
   "cell_type": "code",
   "execution_count": 303,
   "id": "f27534a2",
   "metadata": {},
   "outputs": [
    {
     "name": "stdout",
     "output_type": "stream",
     "text": [
      "10\n",
      "1010\n",
      "2010\n",
      "3010\n",
      "4010\n",
      "5010\n",
      "6010\n",
      "7010\n",
      "8010\n",
      "9010\n",
      "0.015053190976855091\n"
     ]
    }
   ],
   "source": [
    "maxdiff = 0.\n",
    "\n",
    "for t in np.arange(10,10000, 1000):\n",
    "    print(t)\n",
    "    model = HopfModel()\n",
    "    model.run()\n",
    "    x = np.transpose(np.array( [model.x[:,t], model.y[:,t] ]))\n",
    "    diff = jac.jacobian_hopf(x, model) - jac.generic_jacobian(x, model)\n",
    "    if np.amax(np.abs(diff)) > maxdiff:\n",
    "        maxdiff = np.amax(np.abs(diff))\n",
    "        \n",
    "print(maxdiff)"
   ]
  },
  {
   "cell_type": "code",
   "execution_count": null,
   "id": "19cab4a9",
   "metadata": {},
   "outputs": [],
   "source": []
  }
 ],
 "metadata": {
  "kernelspec": {
   "display_name": "Python 3 (ipykernel)",
   "language": "python",
   "name": "python3"
  },
  "language_info": {
   "codemirror_mode": {
    "name": "ipython",
    "version": 3
   },
   "file_extension": ".py",
   "mimetype": "text/x-python",
   "name": "python",
   "nbconvert_exporter": "python",
   "pygments_lexer": "ipython3",
   "version": "3.9.7"
  }
 },
 "nbformat": 4,
 "nbformat_minor": 5
}
