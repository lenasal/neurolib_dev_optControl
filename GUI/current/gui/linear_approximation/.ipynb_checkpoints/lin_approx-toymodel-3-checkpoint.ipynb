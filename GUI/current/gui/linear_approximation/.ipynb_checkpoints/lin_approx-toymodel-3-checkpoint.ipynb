{
 "cells": [
  {
   "cell_type": "code",
   "execution_count": 1,
   "id": "84b9a4f3",
   "metadata": {},
   "outputs": [],
   "source": [
    "import numpy as np\n",
    "import matplotlib.pyplot as plt\n",
    "import os\n",
    "import sys\n",
    "import random\n",
    "\n",
    "path = os.getcwd().split(os.sep + 'GUI')[0]\n",
    "if path not in sys.path:\n",
    "    sys.path.append(path)\n",
    "\n",
    "%load_ext autoreload\n",
    "%autoreload 2\n",
    "\n",
    "from neurolib.models.aln.timeIntegration import fast_interp2_opt, interpolate_values\n",
    "from neurolib.models.aln import ALNModel\n",
    "from neurolib.models import jacobian_aln as jac_aln"
   ]
  },
  {
   "cell_type": "code",
   "execution_count": 2,
   "id": "c89ac399",
   "metadata": {},
   "outputs": [],
   "source": [
    "aln = ALNModel()\n",
    "\n",
    "precalc_r = aln.params[\"precalc_r\"]\n",
    "dI = aln.params[\"dI\"]\n",
    "ds = aln.params[\"ds\"]\n",
    "sigmarange = aln.params[\"sigmarange\"]\n",
    "Irange = aln.params[\"Irange\"]"
   ]
  },
  {
   "cell_type": "code",
   "execution_count": 7,
   "id": "e96c1129",
   "metadata": {},
   "outputs": [],
   "source": [
    "alg = [0,4]\n",
    "diff = [1,2,3]\n",
    "n_var = len(alg) + len(diff)\n",
    "\n",
    "dep_mat = np.zeros(( n_var, n_var ))\n",
    "for j in [ [0,1], [0,4], [1,1], [1,2], [2,2], [3,2], [4,3]]:\n",
    "    dep_mat[j[0], j[1]] = 1.\n",
    "    \n",
    "dep_mat_delay = np.zeros(( n_var, n_var ))\n",
    "for j in [[2,0], [3,0]]:\n",
    "    dep_mat_delay[j[0], j[1]] = 1.\n",
    "\n",
    "offset_mat = [1., 1., 0., 1., 1.]\n",
    "fs_ = 16.\n",
    "\n",
    "def plot(time, state, target, u):\n",
    "    fig, ax = plt.subplots(n_var+1,1, figsize=(10,12))\n",
    "    for j in range(n_var):\n",
    "        ax[j].plot(time, state[j,:])\n",
    "    ax[0].plot(time, target[:], color='grey', linestyle='--')\n",
    "    ax[-1].plot(time, u[:], color='red', label='control')\n",
    "    \n",
    "    plt.show()\n",
    "    \n",
    "def time_integration(x0, T, u, dt):\n",
    "    time_steps_total = x0.shape[1] + np.around(T/dt, 0).astype(int)\n",
    "        \n",
    "    x = np.zeros(( n_var, time_steps_total ))\n",
    "    x[:,:x0.shape[1]] = x0[:,:]\n",
    "        \n",
    "    if x0.shape[1] != delay+1:\n",
    "        print(\"WARNING: initial state does not have correct length\")\n",
    "        \n",
    "    for t in range(x0.shape[1], time_steps_total, 1):\n",
    "        #s_dt = ( - x[2,t-1] + (1. - x[2,t-1]) * x[0,t-1-delay] ) / tau\n",
    "        s_dt = ( - x[2,t-1] + ( 1. - x[2,t-1] ) * x[0,t-1-delay] ) / tau\n",
    "        x[2,t] = x[2,t-1] + dt * s_dt\n",
    "        mu_dt = ( x[2,t-1] + mu_ext - x[1,t-1] + u[t-1-delay]) / tau\n",
    "        #mu_dt = ( mu_ext - x[1,t-1] + u[t-1-delay]) / tau\n",
    "        x[1,t] = x[1,t-1] + dt * mu_dt\n",
    "        sigma_dt =  ( 1. - x[2,t-1]**2 ) * x[0,t-1-delay] / tau**2\n",
    "        x[3,t] = x[3,t-1] + dt * sigma_dt\n",
    "        x[4,t] =  0.5 * ( x[3,t] + sigma_ext )\n",
    "        x[0,t] = r_func(x[1,t], x[4,t])\n",
    "                \n",
    "    \n",
    "    return x"
   ]
  },
  {
   "cell_type": "code",
   "execution_count": 4,
   "id": "2324ccdf",
   "metadata": {},
   "outputs": [
    {
     "name": "stdout",
     "output_type": "stream",
     "text": [
      "DELAY =  3\n"
     ]
    }
   ],
   "source": [
    "tau = 10.\n",
    "mu_ext = 1.\n",
    "sigma_ext = 2.\n",
    "\n",
    "x_shift_mu = - 2.\n",
    "x_shift_sigma = -1.\n",
    "x_scale_mu = 0.5\n",
    "x_scale_sigma = 0.5\n",
    "y_shift = 100.\n",
    "y_scale_mu = 10.\n",
    "y_scale_sigma = .1\n",
    "\n",
    "global interpolate\n",
    "interpolate = False\n",
    "\n",
    "def r_func(mu, sigma):\n",
    "    if interpolate:\n",
    "        xid1, yid1, dxid, dyid = fast_interp2_opt(sigmarange, ds, sigma, Irange, dI, mu)\n",
    "        xid1, yid1 = int(xid1), int(yid1)\n",
    "        r_int = 1e3 * interpolate_values(precalc_r, xid1, yid1, dxid, dyid)\n",
    "        return r_int\n",
    "    #return mu + sigma\n",
    "    else:\n",
    "        return (y_shift + np.tanh(x_scale_mu * mu + x_shift_mu) * y_scale_mu\n",
    "                #+ sigma )\n",
    "                + np.cosh(x_scale_sigma * sigma + x_shift_sigma) * y_scale_sigma )\n",
    "\n",
    "def r_der_mu(mu, sigma):\n",
    "    if interpolate:\n",
    "        result = 1e3 * jac_aln.der_mu(sigma, sigmarange, ds, mu, Irange, dI, 1., precalc_r)\n",
    "        return result\n",
    "    #return 1.\n",
    "    else:\n",
    "        return x_scale_mu * y_scale_mu / np.cosh(x_scale_mu * mu + x_shift_mu)**2\n",
    "\n",
    "def r_der_sigma(mu, sigma):\n",
    "    if interpolate:\n",
    "        result = 1e3 * jac_aln.der_sigma(sigma, sigmarange, ds, mu, Irange, dI, 1., precalc_r)\n",
    "        return result\n",
    "    #return 1.\n",
    "    else:\n",
    "        return x_scale_sigma * y_scale_sigma / np.sinh(x_scale_sigma * sigma + x_shift_sigma)\n",
    "    \n",
    "\n",
    "global delay, dt\n",
    "delay = 3\n",
    "x0 = np.ones(( n_var,max(delay+1,1) ))\n",
    "T = 200.\n",
    "dt = 0.1\n",
    "    \n",
    "time = np.arange(0,T+dt, dt)\n",
    "u0 = np.zeros(time.shape[0])\n",
    "u0[1980] = 10.\n",
    "x = time_integration(x0, T, u0, dt)\n",
    "x0[:,:] = x[:,-delay-1:]\n",
    "#print(x0)"
   ]
  },
  {
   "cell_type": "code",
   "execution_count": 8,
   "id": "d5d0a740",
   "metadata": {},
   "outputs": [
    {
     "data": {
      "image/png": "[encoded data removed]",
      "text/plain": [
       "<Figure size 720x864 with 6 Axes>"
      ]
     },
     "metadata": {
      "needs_background": "light"
     },
     "output_type": "display_data"
    },
    {
     "name": "stdout",
     "output_type": "stream",
     "text": [
      "[92.66740004 92.6656089  92.6638372  92.66208473 92.66035127]\n",
      "[2.07192381 2.07109782 2.07028008 2.06947051 2.06866904]\n",
      "[3.46693946 3.46792348 3.4689075  3.46989152 3.47087555]\n"
     ]
    }
   ],
   "source": [
    "############# HOW TO APPROXIMATE TRANSFER FUNCTIONS?\n",
    "\n",
    "delay = 0\n",
    "x0 = np.ones(( n_var,max(delay+1,1) ))\n",
    "T = 200.\n",
    "dt = 0.1\n",
    "    \n",
    "time = np.arange(0,T+dt, dt)\n",
    "u0 = np.zeros(time.shape[0])\n",
    "u0[1980] = 10.\n",
    "x = time_integration(x0, T, u0, dt)\n",
    "x0[:,:] = x[:,-delay-1:]\n",
    "\n",
    "T = 1.\n",
    "time = np.arange(0,T+dt, dt)\n",
    "u0 = np.zeros(time.shape[0])\n",
    "x = time_integration(x0, T, u0, dt)\n",
    "state = x.copy()\n",
    "target = state[0,delay:]\n",
    "\n",
    "plot(time, state[:,delay:], target[:], u0)\n",
    "\n",
    "print(state[0,:5])\n",
    "print(state[1,:5])\n",
    "print(state[4,:5])"
   ]
  },
  {
   "cell_type": "code",
   "execution_count": 495,
   "id": "6bdf6a13",
   "metadata": {
    "scrolled": true
   },
   "outputs": [
    {
     "name": "stdout",
     "output_type": "stream",
     "text": [
      "actual derivatives:\n",
      "2.2168779295443453 0.062419896345948196\n",
      "2.2155120240759265 0.062370803778930894\n",
      "2.2141602735717814 0.06232177330231475\n",
      "2.2128225268792434 0.06227280479344568\n",
      "2.2114986345390357 0.06222389812999882\n",
      "2.2101884487650327 0.06217505318997758\n",
      "2.2088918234242794 0.062126269851712525\n",
      "2.207608614017259 0.06207754799386019\n",
      "2.206338677658413 0.06202888749540209\n",
      "2.205081873056917 0.061980288235643576\n",
      "2.2038380604976915 0.061931750094212756\n",
      "mean values :  2.2102562623663564 0.06217536120104064\n",
      "[ 2.35316154  0.1550425  87.25430565]\n",
      "[[ 7.24332281e-07  6.00717504e-07 -3.58340805e-06]\n",
      " [ 6.00717504e-07  4.98203978e-07 -2.97188023e-06]\n",
      " [-3.58340805e-06 -2.97188023e-06  1.77278552e-05]]\n"
     ]
    }
   ],
   "source": [
    "import scipy.optimize as opt\n",
    "\n",
    "def fit_func(data_tuple, a, b, c):\n",
    "    (x, y) = data_tuple\n",
    "    return a*x + b*y + c\n",
    "\n",
    "mu = state[1,delay:]\n",
    "sigma = state[4,delay:]\n",
    "r = state[0,delay:]\n",
    "\n",
    "der_list_mu = []\n",
    "der_list_sigma = []\n",
    "\n",
    "print('actual derivatives:')\n",
    "for t in range(state.shape[1]):\n",
    "    print(r_der_mu(mu[t], sigma[t]), r_der_sigma(mu[t], sigma[t]))\n",
    "    der_list_mu.append( r_der_mu(mu[t], sigma[t]) )\n",
    "    der_list_sigma.append( r_der_sigma(mu[t], sigma[t]) )\n",
    "    \n",
    "print('mean values : ', np.mean(der_list_mu), np.mean(der_list_sigma))\n",
    "\n",
    "n_data = 4\n",
    "    \n",
    "popt, pcov = opt.curve_fit(fit_func, (mu[:n_data], sigma[:n_data]), r[:n_data], p0=[0.03, 0.001, 0.])\n",
    "print(popt)\n",
    "print(pcov)"
   ]
  },
  {
   "cell_type": "code",
   "execution_count": 530,
   "id": "37747414",
   "metadata": {},
   "outputs": [],
   "source": [
    "delay = 0\n",
    "dt = 0.1"
   ]
  },
  {
   "cell_type": "code",
   "execution_count": 531,
   "id": "4afd3278",
   "metadata": {},
   "outputs": [
    {
     "name": "stdout",
     "output_type": "stream",
     "text": [
      "(5, 1)\n",
      "[[92.67288666]\n",
      " [ 2.07445161]\n",
      " [ 0.98932543]\n",
      " [ 4.92775478]\n",
      " [ 3.46387739]]\n",
      "DELAY =  0\n"
     ]
    }
   ],
   "source": [
    "x0_dt = np.zeros(( x0.shape[0], int( delay*dt ) + 1 ))\n",
    "print(x0_dt.shape)\n",
    "factor_dt = x0_dt.shape[1]/x0.shape[1]\n",
    "\n",
    "for t in range(x0_dt.shape[1]):\n",
    "    for v in range(x0_dt.shape[0]):\n",
    "        x0_dt[v,t] = x0[v,int(t/factor_dt)]\n",
    "        \n",
    "print(x0_dt)\n",
    "       \n",
    "T = 40.\n",
    "time = np.arange(0,T+dt, dt)\n",
    "u0 = np.zeros(time.shape[0])\n",
    "x = time_integration(x0_dt, T, u0, dt)\n",
    "state = x.copy()\n",
    "target = state[0,delay:]\n",
    "\n",
    "#plot(time, state[:,delay:], target[:], u0)"
   ]
  },
  {
   "cell_type": "code",
   "execution_count": 532,
   "id": "aece9eef",
   "metadata": {},
   "outputs": [
    {
     "name": "stdout",
     "output_type": "stream",
     "text": [
      "actual derivatives:\n",
      "2.221061159341396 0.06257306035227257\n",
      "mean values :  2.1163508655603693 0.054107481333872505\n",
      "data points, fit paramters :  4 [ 2.36122643  0.16184309 92.67288666]\n",
      "data points, fit paramters :  40 [ 2.31788498  0.12698137 92.67287877]\n",
      "data points, fit paramters :  400 [2.18738852e+00 5.60603568e-02 9.26721771e+01]\n",
      "data points, fit paramters :  4 [ 2.17091125e+00 -1.15980502e-03  8.81734529e+01]\n",
      "data points, fit paramters :  40 [ 2.3178932   0.12698728 87.42465312]\n",
      "data points, fit paramters :  400 [2.18738853e+00 5.60603591e-02 8.79403593e+01]\n"
     ]
    }
   ],
   "source": [
    "mu = state[1,delay:]\n",
    "sigma = state[4,delay:]\n",
    "r = state[0,delay:]\n",
    "\n",
    "mu_diff = mu[:] - mu[0]\n",
    "sigma_diff = sigma[:] - sigma[0]\n",
    "\n",
    "der_list_mu = []\n",
    "der_list_sigma = []\n",
    "\n",
    "print('actual derivatives:')\n",
    "for t in range(mu.shape[0]):\n",
    "    if t == 0:\n",
    "        print(r_der_mu(mu[t], sigma[t]), r_der_sigma(mu[t], sigma[t]))\n",
    "    der_list_mu.append( r_der_mu(mu[t], sigma[t]) )\n",
    "    der_list_sigma.append( r_der_sigma(mu[t], sigma[t]) )\n",
    "    \n",
    "print('mean values : ', np.mean(der_list_mu), np.mean(der_list_sigma))\n",
    "\n",
    "for n_data in [4,40,400]:\n",
    "    popt, pcov = opt.curve_fit(fit_func, (mu_diff[:n_data], sigma_diff[:n_data]), r[:n_data], p0=[0.03, 0.001, r[0]])\n",
    "    print('data points, fit paramters : ', n_data, popt)\n",
    "    #print(pcov)\n",
    "    \n",
    "for n_data in [4,40,400]:\n",
    "    popt, pcov = opt.curve_fit(fit_func, (mu[:n_data], sigma[:n_data]), r[:n_data], p0=[0.03, 0.001, r[0]])\n",
    "    print('data points, fit paramters : ', n_data, popt)\n",
    "    #print(pcov)"
   ]
  },
  {
   "cell_type": "code",
   "execution_count": 518,
   "id": "caf7b4d9",
   "metadata": {},
   "outputs": [
    {
     "name": "stdout",
     "output_type": "stream",
     "text": [
      "[92.66740004 92.66738213 92.66736421 92.6673463  92.66732839]\n",
      "[2.07192381 2.07191555 2.07190729 2.07189903 2.07189078]\n",
      "[3.46693946 3.4669493  3.46695914 3.46696898 3.46697882]\n",
      "1\n",
      "92.66738212590242 92.6673823459562 -2.2005377786626923e-07\n",
      "92.66738212590242 92.6673821255355 3.6692426874651574e-10\n",
      "2\n",
      "92.66736421068383 92.66736465067544 -4.399916093689171e-07\n",
      "92.66736421068383 92.66736421086786 -1.8403056856186595e-10\n",
      "3\n",
      "92.66734629741161 92.66734695722518 -6.598135655622173e-07\n",
      "92.66734629741161 92.6673462979629 -5.512816869668313e-10\n",
      "4\n",
      "92.66732838608554 92.66732926560522 -8.795196748678791e-07\n",
      "92.66732838608554 92.66732838682043 -7.348859298872412e-10\n"
     ]
    }
   ],
   "source": [
    "print(r[:5])\n",
    "print(mu[:5])\n",
    "print(sigma[:5])\n",
    "\n",
    "def r_anal(mu, sigma, mu_, sigma_):\n",
    "    drmu = r_der_mu(mu, sigma)\n",
    "    drsigma = r_der_sigma(mu, sigma)\n",
    "    r = r_func(mu, sigma) \n",
    "    return r + drmu * (-mu) + drsigma * (-sigma) + ( drmu * mu_ + drsigma * sigma_ )\n",
    "\n",
    "\n",
    "for k in [1,2,3,4]:\n",
    "    r_ = r_anal(mu[0], sigma[0], mu[k], sigma[k])\n",
    "    r_fit = fit_func( (mu[k], sigma[k]), popt[0], popt[1], popt[2] )\n",
    "    print(k)\n",
    "    print(r[k], r_, r[k]-r_)\n",
    "    print(r[k], r_fit, r[k]-r_fit)"
   ]
  },
  {
   "cell_type": "code",
   "execution_count": null,
   "id": "1bbb8d1f",
   "metadata": {},
   "outputs": [],
   "source": []
  }
 ],
 "metadata": {
  "kernelspec": {
   "display_name": "Python 3 (ipykernel)",
   "language": "python",
   "name": "python3"
  },
  "language_info": {
   "codemirror_mode": {
    "name": "ipython",
    "version": 3
   },
   "file_extension": ".py",
   "mimetype": "text/x-python",
   "name": "python",
   "nbconvert_exporter": "python",
   "pygments_lexer": "ipython3",
   "version": "3.9.7"
  }
 },
 "nbformat": 4,
 "nbformat_minor": 5
}
