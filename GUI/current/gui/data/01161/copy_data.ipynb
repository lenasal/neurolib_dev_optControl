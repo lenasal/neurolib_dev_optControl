{
 "cells": [
  {
   "cell_type": "code",
   "execution_count": 1,
   "metadata": {},
   "outputs": [],
   "source": [
    "import os\n",
    "import pickle"
   ]
  },
  {
   "cell_type": "code",
   "execution_count": 2,
   "metadata": {},
   "outputs": [
    {
     "name": "stdout",
     "output_type": "stream",
     "text": [
      "D:\\Promotion\\neurolib\\GUI\\current\\gui\\data\\01161\n",
      "01161\n"
     ]
    }
   ],
   "source": [
    "print(os.getcwd())\n",
    "case = os.getcwd().split(os.sep)[-1]\n",
    "print(case)"
   ]
  },
  {
   "cell_type": "code",
   "execution_count": 3,
   "metadata": {},
   "outputs": [
    {
     "name": "stdout",
     "output_type": "stream",
     "text": [
      "147\n"
     ]
    }
   ],
   "source": [
    "data_file = 'bi.pickle'\n",
    "with open(data_file,'rb') as f:\n",
    "    load_array= pickle.load(f)\n",
    "exc = load_array[0]\n",
    "inh = load_array[1]\n",
    "print(len(exc))"
   ]
  },
  {
   "cell_type": "code",
   "execution_count": 4,
   "metadata": {},
   "outputs": [],
   "source": [
    "bestControl_init = [None] * len(exc)\n",
    "bestState_init = [None] * len(exc)\n",
    "cost_init = [None] * len(exc)\n",
    "runtime_init = [None] * len(exc)\n",
    "grad_init = [None] * len(exc)\n",
    "phi_init = [None] * len(exc)\n",
    "costnode_init = [None] * len(exc)\n",
    "weights_init = [None] * len(exc)\n",
    "\n",
    "bestControl_dump = [None] * len(exc)\n",
    "bestState_dump = [None] * len(exc)\n",
    "cost_dump = [None] * len(exc)\n",
    "runtime_dump = [None] * len(exc)\n",
    "grad_dump = [None] * len(exc)\n",
    "phi_dump = [None] * len(exc)\n",
    "costnode_dump = [None] * len(exc)\n",
    "weights_dump= [None] * len(exc)"
   ]
  },
  {
   "cell_type": "code",
   "execution_count": 5,
   "metadata": {},
   "outputs": [],
   "source": [
    "bestControl_0 = [None] * len(exc)\n",
    "bestState_0 = [None] * len(exc)\n",
    "cost_0 = [None] * len(exc)\n",
    "runtime_0 = [None] * len(exc)\n",
    "grad_0 = [None] * len(exc)\n",
    "phi_0 = [None] * len(exc)\n",
    "costnode_0 = [None] * len(exc)\n",
    "weights_0 = [None] * len(exc)"
   ]
  },
  {
   "cell_type": "code",
   "execution_count": 6,
   "metadata": {},
   "outputs": [],
   "source": [
    "bestControl_1 = [None] * len(exc)\n",
    "bestState_1 = [None] * len(exc)\n",
    "cost_1 = [None] * len(exc)\n",
    "runtime_1 = [None] * len(exc)\n",
    "grad_1 = [None] * len(exc)\n",
    "phi_1 = [None] * len(exc)\n",
    "costnode_1 = [None] * len(exc)\n",
    "weights_1 = [None] * len(exc)"
   ]
  },
  {
   "cell_type": "code",
   "execution_count": 13,
   "metadata": {},
   "outputs": [
    {
     "name": "stdout",
     "output_type": "stream",
     "text": [
      "file found\n",
      "found data for index  0\n",
      "found data for index  5\n",
      "found data for index  10\n",
      "found data for index  15\n",
      "found data for index  20\n",
      "found data for index  25\n",
      "found data for index  30\n",
      "found data for index  35\n",
      "found data for index  40\n",
      "found data for index  45\n",
      "found data for index  50\n",
      "found data for index  55\n",
      "found data for index  60\n",
      "found data for index  65\n",
      "found data for index  70\n",
      "found data for index  75\n",
      "found data for index  80\n",
      "found data for index  85\n",
      "found data for index  90\n",
      "found data for index  95\n",
      "found data for index  100\n",
      "found data for index  105\n",
      "found data for index  110\n",
      "found data for index  115\n",
      "found data for index  120\n",
      "found data for index  125\n",
      "found data for index  130\n",
      "found data for index  135\n",
      "found data for index  140\n",
      "found data for index  145\n"
     ]
    }
   ],
   "source": [
    "init_file = '_control_init_' + case + '.pickle'\n",
    "final_file = '_control_' + case + '.pickle'\n",
    "case_1 = case[0] + case[1] + '0' + case[3] + case[4]\n",
    "final_file_1 = '_control_' + case_1 + '.pickle'\n",
    "\n",
    "if os.path.isfile(final_file_1) :\n",
    "    print(\"file found\")\n",
    "    \n",
    "    with open(init_file,'rb') as f:\n",
    "        load_array = pickle.load(f)\n",
    "\n",
    "    bestControl_init = load_array[0]\n",
    "    bestState_init = load_array[1]\n",
    "    cost_init = load_array[2]\n",
    "    runtime_init = load_array[3]\n",
    "    grad_init = load_array[4]\n",
    "    phi_init = load_array[5]\n",
    "    costnode_init = load_array[6]\n",
    "    weights_init = load_array[7]\n",
    "    \n",
    "for i in range(len(bestControl_init)):\n",
    "    if type(bestControl_init[i]) != type(None):\n",
    "        print(\"found data for index \", i)\n",
    "        \n",
    "i_stepsize = 5\n",
    "limit = 150\n",
    "i_range = range(0, limit,i_stepsize)\n",
    "\n",
    "for i in i_range:\n",
    "    bestControl_dump[i] = bestControl_init[i]\n",
    "    bestState_dump[i] = bestState_init[i]\n",
    "    cost_dump[i] = cost_init[i]\n",
    "    runtime_dump[i] = runtime_init[i]\n",
    "    grad_dump[i] = grad_init[i]\n",
    "    phi_dump[i] = phi_init[i]\n",
    "    costnode_dump[i] = costnode_init[i]\n",
    "    weights_dump[i] = weights_init[i]"
   ]
  },
  {
   "cell_type": "code",
   "execution_count": 14,
   "metadata": {},
   "outputs": [
    {
     "name": "stdout",
     "output_type": "stream",
     "text": [
      "file found\n",
      "found data for index  0\n",
      "found data for index  4\n",
      "found data for index  5\n",
      "found data for index  8\n",
      "found data for index  10\n",
      "found data for index  12\n",
      "found data for index  15\n",
      "found data for index  16\n",
      "found data for index  20\n",
      "found data for index  24\n",
      "found data for index  25\n",
      "found data for index  28\n",
      "found data for index  30\n",
      "found data for index  32\n",
      "found data for index  35\n",
      "found data for index  36\n",
      "found data for index  40\n",
      "found data for index  45\n",
      "found data for index  50\n",
      "found data for index  55\n",
      "found data for index  60\n",
      "found data for index  65\n",
      "found data for index  70\n",
      "found data for index  75\n",
      "found data for index  80\n",
      "found data for index  85\n",
      "found data for index  90\n",
      "found data for index  95\n",
      "found data for index  100\n",
      "found data for index  105\n",
      "found data for index  110\n",
      "found data for index  115\n",
      "found data for index  120\n",
      "found data for index  125\n",
      "found data for index  130\n",
      "found data for index  135\n",
      "found data for index  140\n",
      "found data for index  145\n"
     ]
    }
   ],
   "source": [
    "init_file = 'control_init_' + case + '.pickle'\n",
    "final_file = 'control_' + case + '.pickle'\n",
    "final_file_1 = 'control_' + case_1 + '.pickle'\n",
    "\n",
    "if os.path.isfile(final_file_1) :\n",
    "    print(\"file found\")\n",
    "    \n",
    "    with open(final_file,'rb') as f:\n",
    "        load_array = pickle.load(f)\n",
    "\n",
    "    bestControl_init = load_array[0]\n",
    "    bestState_init = load_array[1]\n",
    "    cost_init = load_array[2]\n",
    "    runtime_init = load_array[3]\n",
    "    grad_init = load_array[4]\n",
    "    phi_init = load_array[5]\n",
    "    costnode_init = load_array[6]\n",
    "    weights_init = load_array[7]\n",
    "    \n",
    "for i in range(len(bestControl_init)):\n",
    "    if type(bestControl_init[i]) != type(None):\n",
    "        print(\"found data for index \", i)\n",
    "        \n",
    "i_stepsize = 4\n",
    "limit = 40\n",
    "i_range = range(0, limit,i_stepsize)\n",
    "\n",
    "for i in i_range:\n",
    "    bestControl_dump[i] = bestControl_init[i]\n",
    "    bestState_dump[i] = bestState_init[i]\n",
    "    cost_dump[i] = cost_init[i]\n",
    "    runtime_dump[i] = runtime_init[i]\n",
    "    grad_dump[i] = grad_init[i]\n",
    "    phi_dump[i] = phi_init[i]\n",
    "    costnode_dump[i] = costnode_init[i]\n",
    "    weights_dump[i] = weights_init[i]"
   ]
  },
  {
   "cell_type": "code",
   "execution_count": 15,
   "metadata": {},
   "outputs": [],
   "source": [
    "with open(init_file,'wb') as f:\n",
    "    pickle.dump([bestControl_dump, bestState_dump, cost_dump, runtime_dump, grad_dump, phi_dump,\n",
    "            costnode_dump, weights_dump], f)"
   ]
  },
  {
   "cell_type": "code",
   "execution_count": null,
   "metadata": {},
   "outputs": [],
   "source": []
  }
 ],
 "metadata": {
  "kernelspec": {
   "display_name": "Python 3 (Spyder)",
   "language": "python3",
   "name": "python3"
  },
  "language_info": {
   "codemirror_mode": {
    "name": "ipython",
    "version": 3
   },
   "file_extension": ".py",
   "mimetype": "text/x-python",
   "name": "python",
   "nbconvert_exporter": "python",
   "pygments_lexer": "ipython3",
   "version": "3.7.6"
  }
 },
 "nbformat": 4,
 "nbformat_minor": 4
}
