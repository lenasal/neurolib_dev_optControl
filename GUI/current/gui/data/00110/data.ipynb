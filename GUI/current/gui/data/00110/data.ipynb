{
 "cells": [
  {
   "cell_type": "code",
   "execution_count": 1,
   "metadata": {},
   "outputs": [
    {
     "name": "stdout",
     "output_type": "stream",
     "text": [
      "not here\n"
     ]
    }
   ],
   "source": [
    "import matplotlib.pyplot as plt\n",
    "import numpy as np\n",
    "import os\n",
    "import sys\n",
    "import pickle\n",
    "\n",
    "path = os.getcwd().split(os.sep + 'GUI')[0]\n",
    "if path not in sys.path:\n",
    "    print(\"not here\")\n",
    "    sys.path.append(path)\n",
    "\n",
    "from neurolib.models.aln import ALNModel\n",
    "from neurolib.utils import plotFunctions as plotFunc\n",
    "from neurolib.utils import costFunctions as cost\n",
    "import neurolib.dashboard.functions as functions\n",
    "import neurolib.dashboard.data as data\n",
    "    \n",
    "# This will reload all imports as soon as the code changes\n",
    "%load_ext autoreload\n",
    "%autoreload 2 \n",
    "\n",
    "#path = os.path.join(os.getcwd(), \"plots\")"
   ]
  },
  {
   "cell_type": "code",
   "execution_count": 2,
   "metadata": {},
   "outputs": [
    {
     "name": "stdout",
     "output_type": "stream",
     "text": [
      "/home/lena/Promotion/neurolib/GUI/current/gui/data/00110\n",
      "00110\n"
     ]
    }
   ],
   "source": [
    "# read case\n",
    "print(os.getcwd())\n",
    "case = os.getcwd().split(os.sep)[-1]\n",
    "print(case)"
   ]
  },
  {
   "cell_type": "markdown",
   "metadata": {},
   "source": [
    "### Bistability"
   ]
  },
  {
   "cell_type": "code",
   "execution_count": 3,
   "metadata": {},
   "outputs": [],
   "source": [
    "aln = ALNModel()\n",
    "N = aln.params.N\n",
    "\n",
    "data.set_parameters(aln)\n",
    "\n",
    "state_vars = aln.state_vars\n",
    "init_vars = aln.init_vars\n",
    "\n",
    "##############################################################\n",
    "def setinit(init_vars_, model):\n",
    "    state_vars = model.state_vars\n",
    "    init_vars = model.init_vars\n",
    "    for iv in range(len(init_vars)):\n",
    "        for sv in range(len(state_vars)):\n",
    "            if state_vars[sv] in init_vars[iv]:\n",
    "                #print(\"set init vars \", )\n",
    "                if model.params[init_vars[iv]].ndim == 2:\n",
    "                    model.params[init_vars[iv]][0,:] = init_vars_[sv]\n",
    "                else:\n",
    "                    model.params[init_vars[iv]][0] = init_vars_[sv]\n",
    "                    \n",
    "##############################################################               \n",
    "def setmaxmincontrol(max_c_c, min_c_c, max_c_r, min_c_r):\n",
    "    import numpy as np\n",
    "    \n",
    "    max_cntrl = np.zeros(( 6 ))\n",
    "    min_cntrl = np.zeros(( 6 ))\n",
    "    \n",
    "    max_cntrl[0] = max_c_c\n",
    "    min_cntrl[0] = min_c_c\n",
    "    max_cntrl[1] = max_c_c\n",
    "    min_cntrl[1] = min_c_c\n",
    "    max_cntrl[2] = max_c_r\n",
    "    min_cntrl[2] = min_c_r\n",
    "    max_cntrl[3] = max_c_r\n",
    "    min_cntrl[3] = min_c_r\n",
    "    max_cntrl[4] = max_c_r\n",
    "    min_cntrl[4] = min_c_r\n",
    "    max_cntrl[5] = max_c_r\n",
    "    min_cntrl[5] = min_c_r\n",
    "            \n",
    "    return max_cntrl, min_cntrl\n",
    "\n",
    "#####################################################\n",
    "def getclosest(k_, found_solution, exc, inh, already_tried_):\n",
    "    import numpy as np\n",
    "    if len(found_solution) == 0:\n",
    "        print(\"no solutions found\")\n",
    "        return -1\n",
    "    \n",
    "    start_ind = -1\n",
    "    for j_ in found_solution:\n",
    "        if j_ not in already_tried_ and j_ != k_:\n",
    "            start_ind = j_\n",
    "            break\n",
    "            \n",
    "    if start_ind == -1:\n",
    "        return -1\n",
    "        \n",
    "    min_dist = np.sqrt((exc[k_] - exc[start_ind])**2 + (inh[k_] - inh[start_ind])**2)\n",
    "    min_i = start_ind\n",
    "        \n",
    "    print(found_solution, already_tried_)\n",
    "        \n",
    "    if len(found_solution) == len(already_tried_):\n",
    "        print(\"already tried all options\")\n",
    "        min_i = -1\n",
    "        return min_i\n",
    "    \n",
    "    for i_ in found_solution:\n",
    "        if i_ not in already_tried_:\n",
    "            if i_ != k_ and i_ != min_i:\n",
    "                dist_ = np.sqrt((exc[k_] - exc[i_])**2 + (inh[k_] - inh[i_])**2)\n",
    "                if dist_ < min_dist:\n",
    "                    min_dist = dist_\n",
    "                    min_i = i_\n",
    "                    \n",
    "    if min_i == 0 and 0 in already_tried_:\n",
    "        return -1\n",
    "    \n",
    "    return min_i"
   ]
  },
  {
   "cell_type": "code",
   "execution_count": 4,
   "metadata": {},
   "outputs": [
    {
     "name": "stdout",
     "output_type": "stream",
     "text": [
      "147\n"
     ]
    }
   ],
   "source": [
    "##### LOAD BOUNDARIES\n",
    "data_file = 'bi.pickle'\n",
    "with open(data_file,'rb') as f:\n",
    "    load_array= pickle.load(f)\n",
    "exc = load_array[0]\n",
    "inh = load_array[1]\n",
    "print(len(exc))\n",
    "#plt.scatter(exc, inh)"
   ]
  },
  {
   "cell_type": "code",
   "execution_count": 5,
   "metadata": {},
   "outputs": [],
   "source": [
    "bestControl_init = [None] * len(exc)\n",
    "bestState_init = [None] * len(exc)\n",
    "cost_init = [None] * len(exc)\n",
    "runtime_init = [None] * len(exc)\n",
    "grad_init = [None] * len(exc)\n",
    "phi_init = [None] * len(exc)\n",
    "costnode_init = [None] * len(exc)\n",
    "weights_init = [None] * len(exc)\n",
    "\n",
    "conv_init = [[False]*2] * len(exc)"
   ]
  },
  {
   "cell_type": "code",
   "execution_count": 7,
   "metadata": {},
   "outputs": [],
   "source": [
    "bestControl_0 = [None] * len(exc)\n",
    "bestState_0 = [None] * len(exc)\n",
    "cost_0 = [None] * len(exc)\n",
    "runtime_0 = [None] * len(exc)\n",
    "grad_0 = [None] * len(exc)\n",
    "phi_0 = [None] * len(exc)\n",
    "costnode_0 = [None] * len(exc)\n",
    "weights_0 = [None] * len(exc)\n",
    "\n",
    "conv_0 = [[False]*2] * len(exc)"
   ]
  },
  {
   "cell_type": "code",
   "execution_count": 8,
   "metadata": {},
   "outputs": [],
   "source": [
    "bestControl_1 = [None] * len(exc)\n",
    "bestState_1 = [None] * len(exc)\n",
    "cost_1 = [None] * len(exc)\n",
    "runtime_1 = [None] * len(exc)\n",
    "grad_1 = [None] * len(exc)\n",
    "phi_1 = [None] * len(exc)\n",
    "costnode_1 = [None] * len(exc)\n",
    "weights_1 = [None] * len(exc)\n",
    "\n",
    "conv_1 = [[False]*2] * len(exc)"
   ]
  },
  {
   "cell_type": "code",
   "execution_count": 9,
   "metadata": {},
   "outputs": [],
   "source": [
    "initVars = [None] * len(exc)\n",
    "target = [None] * len(exc)\n",
    "cost_uncontrolled = [None] * len(exc)\n",
    "\n",
    "cgv_list = [None, \"HS\", \"FR\", \"PR\", \"CD\", \"LS\", \"DY\", \"WYL\", \"HZ\", None]"
   ]
  },
  {
   "cell_type": "code",
   "execution_count": 10,
   "metadata": {},
   "outputs": [],
   "source": [
    "dur_pre = 10\n",
    "dur_post = 10\n",
    "\n",
    "n_pre = int(np.around(dur_pre/aln.params.dt + 1.,1))\n",
    "n_post = int(np.around(dur_post/aln.params.dt + 1.,1))\n",
    "\n",
    "tol = 1e-32\n",
    "start_step = 10.\n",
    "c_scheme = np.zeros(( 1,1 ))\n",
    "c_scheme[0,0] = 1.\n",
    "u_mat = np.identity(1)\n",
    "u_scheme = np.array([[1.]])\n",
    "\n",
    "c_var = [ [0], [1], [0,1]]\n",
    "p_var = [ [0], [0], [0]]\n",
    "\n",
    "### CURRENTS\n",
    "cntrl_vars_0 = [0,1]\n",
    "prec_vars = [0]\n",
    "\n",
    "if case[0] == '0':    # low to high\n",
    "    max_I = [3., -3.]\n",
    "elif case[0] == '1':\n",
    "    max_I = [-3., 3.]\n",
    "    \n",
    "if case[1] == '0':    # sparsity\n",
    "    factor_ws = 1.\n",
    "    factor_we = 0.\n",
    "elif case[1] == '1':  # energy\n",
    "    factor_ws = 0.\n",
    "    factor_we = 1.\n",
    "    \n",
    "if case[3] == '0':\n",
    "    cntrl_vars_init = [0]\n",
    "elif case[3] == '1':\n",
    "    cntrl_vars_init = [1]\n",
    "elif case[3] == '2':\n",
    "    cntrl_vars_init = [0,1]\n",
    "\n",
    "if case[4] == '0':\n",
    "    dur = 100\n",
    "    trans_time = 0.8\n",
    "elif case[4] == '1':\n",
    "    dur = 400\n",
    "    trans_time = 0.95\n",
    "    \n",
    "maxC = [5., -5., 0.18, 0.]\n",
    "\n",
    "n_dur = int(np.around(dur/aln.params.dt + 1.,1))\n",
    "max_cntrl, min_cntrl = setmaxmincontrol(maxC[0], maxC[1], maxC[2], maxC[3])"
   ]
  },
  {
   "cell_type": "code",
   "execution_count": 11,
   "metadata": {},
   "outputs": [],
   "source": [
    "init_file = 'control_init_' + case + '.pickle'\n",
    "final_file = 'control_' + case + '.pickle'\n",
    "case_1 = case[0] + case[1] + '0' + case[3] + case[4]\n",
    "final_file_1 = 'control_' + case_1 + '.pickle'"
   ]
  },
  {
   "cell_type": "code",
   "execution_count": 25,
   "metadata": {},
   "outputs": [
    {
     "name": "stdout",
     "output_type": "stream",
     "text": [
      "file found\n"
     ]
    }
   ],
   "source": [
    "if os.path.isfile(init_file) :\n",
    "    print(\"file found\")\n",
    "    \n",
    "    with open(init_file,'rb') as f:\n",
    "        load_array = pickle.load(f)\n",
    "\n",
    "    bestControl_init = load_array[0]\n",
    "    bestState_init = load_array[1]\n",
    "    cost_init = load_array[2]\n",
    "    runtime_init = load_array[3]\n",
    "    grad_init = load_array[4]\n",
    "    phi_init = load_array[5]\n",
    "    costnode_init = load_array[6]\n",
    "    weights_init = load_array[7]"
   ]
  },
  {
   "cell_type": "code",
   "execution_count": 27,
   "metadata": {},
   "outputs": [
    {
     "name": "stdout",
     "output_type": "stream",
     "text": [
      "-------  0 0.4000000000000001 0.3500000000000001\n",
      "-------  10 0.4250000000000001 0.42500000000000016\n",
      "-------  20 0.4500000000000001 0.4750000000000002\n",
      "-------  30 0.4250000000000001 0.5250000000000002\n",
      "-------  40 0.5250000000000001 0.5500000000000003\n",
      "-------  50 0.47500000000000014 0.6000000000000003\n"
     ]
    }
   ],
   "source": [
    "# get initial parameters and target states\n",
    "\n",
    "i_stepsize = 2\n",
    "limit = 40\n",
    "start_index = 1\n",
    "i_range = range(start_index, limit,i_stepsize)\n",
    "i_range_0 = range(start_index, limit,i_stepsize)\n",
    "i_range_1 = range(start_index, limit,i_stepsize)\n",
    "data.set_parameters(aln)\n",
    "\n",
    "i_range = [0,10,20,30,40,50]\n",
    "\n",
    "for i in i_range:\n",
    "    print(\"------- \", i, exc[i], inh[i])\n",
    "    aln.params.ext_exc_current = exc[i] * 5.\n",
    "    aln.params.ext_inh_current = inh[i] * 5.\n",
    "    \n",
    "    aln.params.duration = 3000.\n",
    "    \n",
    "    control0 = aln.getZeroControl()\n",
    "    control0 = functions.step_control(aln, maxI_ = max_I[0])\n",
    "\n",
    "    aln.run(control=control0)\n",
    "    \n",
    "    target_rates = np.zeros((2))\n",
    "    target_rates[0] = aln.rates_exc[0,-1] \n",
    "    target_rates[1] = aln.rates_inh[0,-1]\n",
    "\n",
    "    control0 = functions.step_control(aln, maxI_ = max_I[1])\n",
    "    aln.run(control=control0)\n",
    "\n",
    "    init_state_vars = np.zeros(( len(state_vars) ))\n",
    "    for j in range(len(state_vars)):\n",
    "        if aln.state[state_vars[j]].size == 1:\n",
    "            init_state_vars[j] = aln.state[state_vars[j]][0]\n",
    "        else:\n",
    "            init_state_vars[j] = aln.state[state_vars[j]][0,-1]\n",
    "\n",
    "    initVars[i] = init_state_vars\n",
    "    \n",
    "    aln.params.duration = dur\n",
    "\n",
    "    target[i] = aln.getZeroTarget()\n",
    "    target[i][:,0,:] = target_rates[0]\n",
    "    target[i][:,1,:] = target_rates[1]"
   ]
  },
  {
   "cell_type": "code",
   "execution_count": 14,
   "metadata": {
    "scrolled": true
   },
   "outputs": [
    {
     "name": "stdout",
     "output_type": "stream",
     "text": [
      "-------  20 0.4500000000000001 0.4750000000000002\n",
      "set cost params:  1.0 0.0 0.0\n",
      "interpolate adjoint :  True True True\n",
      "RUN  0 , total integrated cost =  63437.08739662635\n",
      "Gradient descend method:  None\n",
      "RUN  0 , total integrated cost =  63437.08739662635\n",
      "Improved over  0  iterations in  0.0  seconds by  0.0  percent.\n"
     ]
    }
   ],
   "source": [
    "# get uncontrolled cost\n",
    "\n",
    "data.set_parameters(aln)\n",
    "\n",
    "for i in i_range:\n",
    "    print(\"------- \", i, exc[i], inh[i])\n",
    "    aln.params.ext_exc_current = exc[i] * 5.\n",
    "    aln.params.ext_inh_current = inh[i] * 5.\n",
    "    \n",
    "    aln.params.duration = dur\n",
    "        \n",
    "    cost.setParams(1.0, 0.0, 0.0)\n",
    "\n",
    "##### zero control as input for uncontrolled cost\n",
    "    setinit(initVars[i], aln)\n",
    "    control0 = aln.getZeroControl()\n",
    "\n",
    "    # \"HS\", \"FR\", \"PR\", \"HZ\"\n",
    "    cgv = None\n",
    "    max_it = 0\n",
    "\n",
    "    bestControl_init_, bestState_init_, cost_init_, runtime_init_, grad_init_, phi_init_, costnode_init_ = aln.A1(\n",
    "        control0, target[i], c_scheme, u_mat, u_scheme, max_iteration_ = max_it, tolerance_ = tol,\n",
    "        startStep_ = start_step, max_control_ = max_cntrl, min_control_ = min_cntrl, t_sim_ = dur,\n",
    "        t_sim_pre_ = dur_pre, t_sim_post_ = dur_post, CGVar = cgv, control_variables_ = cntrl_vars_init,\n",
    "        prec_variables_ = prec_vars, transition_time_ = trans_time)\n",
    "    \n",
    "    cost_uncontrolled[i] = cost_init_[0]"
   ]
  },
  {
   "cell_type": "code",
   "execution_count": 16,
   "metadata": {
    "scrolled": true
   },
   "outputs": [
    {
     "name": "stdout",
     "output_type": "stream",
     "text": [
      "-------  20 0.4500000000000001 0.4750000000000002\n",
      "set cost params:  1.0 0.0 10.0\n",
      "interpolate adjoint :  True True True\n",
      "RUN  0 , total integrated cost =  63437.08739662635\n",
      "Gradient descend method:  None\n",
      "RUN  1 , total integrated cost =  8254.424395300603\n",
      "RUN  2 , total integrated cost =  172.96356567277368\n",
      "RUN  3 , total integrated cost =  105.47510890227255\n",
      "RUN  4 , total integrated cost =  78.10841015165795\n",
      "RUN  5 , total integrated cost =  55.67888645774245\n",
      "RUN  6 , total integrated cost =  47.18332369540861\n",
      "RUN  7 , total integrated cost =  47.18209137256874\n",
      "RUN  8 , total integrated cost =  47.18006872261613\n",
      "RUN  9 , total integrated cost =  47.17649458449195\n",
      "RUN  10 , total integrated cost =  47.16722380156603\n",
      "RUN  11 , total integrated cost =  47.12106102500733\n",
      "RUN  12 , total integrated cost =  46.2677179615985\n",
      "RUN  13 , total integrated cost =  43.97404471700584\n",
      "RUN  14 , total integrated cost =  43.915192410038415\n",
      "RUN  15 , total integrated cost =  43.915026484773705\n",
      "RUN  16 , total integrated cost =  43.915024828767365\n",
      "RUN  17 , total integrated cost =  43.91502482192146\n",
      "RUN  18 , total integrated cost =  43.91502482174999\n",
      "RUN  19 , total integrated cost =  43.915024821744254\n",
      "RUN  20 , total integrated cost =  43.91502482174407\n",
      "Control only changes marginally.\n",
      "RUN  21 , total integrated cost =  43.91502482174407\n",
      "Improved over  21  iterations in  6.8388907149928855  seconds by  99.93077389485558  percent.\n"
     ]
    },
    {
     "data": {
      "image/png": "[encoded data removed]",
      "text/plain": [
       "<Figure size 288x288 with 2 Axes>"
      ]
     },
     "metadata": {
      "needs_background": "light"
     },
     "output_type": "display_data"
    },
    {
     "name": "stdout",
     "output_type": "stream",
     "text": [
      "weight =  14445.417634197973\n",
      "set cost params:  1.0 0.0 14445.417634197973\n",
      "interpolate adjoint :  True True True\n",
      "RUN  0 , total integrated cost =  62460.709379697\n",
      "Gradient descend method:  None\n",
      "RUN  1 , total integrated cost =  56783.22968956709\n",
      "RUN  2 , total integrated cost =  56783.22968956707\n",
      "RUN  3 , total integrated cost =  56783.229689567066\n",
      "RUN  4 , total integrated cost =  56783.229689567066\n",
      "Control only changes marginally.\n",
      "RUN  4 , total integrated cost =  56783.229689567066\n",
      "Improved over  4  iterations in  0.11750425799982622  seconds by  9.089681731945575  percent.\n"
     ]
    },
    {
     "data": {
      "image/png": "[encoded data removed]",
      "text/plain": [
       "<Figure size 288x288 with 2 Axes>"
      ]
     },
     "metadata": {
      "needs_background": "light"
     },
     "output_type": "display_data"
    }
   ],
   "source": [
    "factor_iteration = 20.\n",
    "\n",
    "for i in i_range:\n",
    "    print(\"------- \", i, exc[i], inh[i])\n",
    "    aln.params.ext_exc_current = exc[i] * 5.\n",
    "    aln.params.ext_inh_current = inh[i] * 5.\n",
    "    \n",
    "    aln.params.duration = dur\n",
    "        \n",
    "##### zero control as input for uncontrolled cost\n",
    "    setinit(initVars[i], aln)\n",
    "    \n",
    "    #if not type(bestControl_init[i]) == type(None):\n",
    "    #    continue\n",
    "        \n",
    "    control0 = aln.getZeroControl()\n",
    "\n",
    "    ##### initial guess\n",
    "    weight_ = 10\n",
    "    cost.setParams(1.0, weight_ * factor_we, weight_ * factor_ws)\n",
    "\n",
    "    setinit(initVars[i], aln)\n",
    "\n",
    "    # \"HS\", \"FR\", \"PR\", \"HZ\"\n",
    "    cgv = None\n",
    "    max_it = int(100 * factor_iteration)\n",
    "\n",
    "    weights_init[i] = cost.getParams()\n",
    "\n",
    "    bestControl_init[i], bestState_init[i], cost_init[i], runtime_init[i], grad_init[i], phi_init[i], costnode_init[i] = aln.A1(\n",
    "        control0, target[i], c_scheme, u_mat, u_scheme, max_iteration_ = max_it, tolerance_ = tol,\n",
    "        startStep_ = start_step, max_control_ = max_cntrl, min_control_ = min_cntrl, t_sim_ = dur,\n",
    "        t_sim_pre_ = dur_pre, t_sim_post_ = dur_post, CGVar = cgv, control_variables_ = cntrl_vars_init,\n",
    "        prec_variables_ = prec_vars, transition_time_ = trans_time)\n",
    "    \n",
    "    if True:\n",
    "        time_ = np.arange(-dur_pre,round(dur+dur_post+aln.params.dt,1),aln.params.dt)\n",
    "        fig, ax = plt.subplots(2,1, constrained_layout=True, figsize = (4,4) )\n",
    "        ax[1].plot(time_, bestControl_init[i][0,0,:], color = 'red')\n",
    "        ax[0].plot(time_, bestState_init[i][0,0,:], color= 'red')\n",
    "        ax[1].plot(time_, bestControl_init[i][0,1,:], color = 'blue')\n",
    "        ax[0].plot(time_, bestState_init[i][0,1,:], color= 'blue')\n",
    "        plt.show()\n",
    "    \n",
    "    j = 1\n",
    "    while cost_init[i][-j] == 0.:\n",
    "        j += 1\n",
    "    \n",
    "    weight_ = 10 * cost_uncontrolled[i] / cost_init[i][-j]\n",
    "    print(\"weight = \", weight_)\n",
    "    cost.setParams(1.0, weight_ * factor_we, weight_ * factor_ws)\n",
    "\n",
    "    setinit(initVars[i], aln)\n",
    "    control0 = bestControl_init[i][:,:,n_pre-1:-n_post+1]\n",
    "\n",
    "    # \"HS\", \"FR\", \"PR\", \"HZ\"\n",
    "    cgv = None\n",
    "    max_it = int(500 * factor_iteration)\n",
    "\n",
    "    weights_init[i] = cost.getParams()\n",
    "    \n",
    "    bestControl_init[i], bestState_init[i], cost_init[i], runtime_init[i], grad_init[i], phi_init[i], costnode_init[i] = aln.A1(\n",
    "        control0, target[i], c_scheme, u_mat, u_scheme, max_iteration_ = max_it, tolerance_ = tol,\n",
    "        startStep_ = start_step, max_control_ = max_cntrl, min_control_ = min_cntrl, t_sim_ = dur,\n",
    "        t_sim_pre_ = dur_pre, t_sim_post_ = dur_post, CGVar = cgv, control_variables_ = cntrl_vars_init,\n",
    "        prec_variables_ = prec_vars, transition_time_ = trans_time)\n",
    "    \n",
    "    if True:\n",
    "        time_ = np.arange(-dur_pre,round(dur+dur_post+aln.params.dt,1),aln.params.dt)\n",
    "        fig, ax = plt.subplots(2,1, constrained_layout=True, figsize = (4,4) )\n",
    "        ax[1].plot(time_, bestControl_init[i][0,0,:], color = 'red')\n",
    "        ax[0].plot(time_, bestState_init[i][0,0,:], color= 'red')\n",
    "        ax[1].plot(time_, bestControl_init[i][0,1,:], color = 'blue')\n",
    "        ax[0].plot(time_, bestState_init[i][0,1,:], color= 'blue')\n",
    "        plt.show()\n",
    "        \n",
    "    with open(init_file,'wb') as f:\n",
    "        pickle.dump([bestControl_init, bestState_init, cost_init, runtime_init, grad_init, phi_init,\n",
    "                 costnode_init, weights_init], f)"
   ]
  },
  {
   "cell_type": "code",
   "execution_count": 29,
   "metadata": {
    "scrolled": true
   },
   "outputs": [
    {
     "name": "stdout",
     "output_type": "stream",
     "text": [
      "--------- 35\n"
     ]
    },
    {
     "ename": "TypeError",
     "evalue": "'NoneType' object is not subscriptable",
     "output_type": "error",
     "traceback": [
      "\u001b[0;31m---------------------------------------------------------------------------\u001b[0m",
      "\u001b[0;31mTypeError\u001b[0m                                 Traceback (most recent call last)",
      "\u001b[0;32m/tmp/ipykernel_100055/746298277.py\u001b[0m in \u001b[0;36m<module>\u001b[0;34m\u001b[0m\n\u001b[1;32m      6\u001b[0m     \u001b[0maln\u001b[0m\u001b[0;34m.\u001b[0m\u001b[0mparams\u001b[0m\u001b[0;34m.\u001b[0m\u001b[0mext_inh_current\u001b[0m \u001b[0;34m=\u001b[0m \u001b[0minh\u001b[0m\u001b[0;34m[\u001b[0m\u001b[0mi\u001b[0m\u001b[0;34m]\u001b[0m \u001b[0;34m*\u001b[0m \u001b[0;36m5.\u001b[0m\u001b[0;34m\u001b[0m\u001b[0;34m\u001b[0m\u001b[0m\n\u001b[1;32m      7\u001b[0m \u001b[0;34m\u001b[0m\u001b[0m\n\u001b[0;32m----> 8\u001b[0;31m     plotFunc.plot_control_current(aln, [bestControl_init[i]],\n\u001b[0m\u001b[1;32m      9\u001b[0m         \u001b[0;34m[\u001b[0m\u001b[0mcostnode_init\u001b[0m\u001b[0;34m[\u001b[0m\u001b[0mi\u001b[0m\u001b[0;34m]\u001b[0m\u001b[0;34m]\u001b[0m\u001b[0;34m,\u001b[0m \u001b[0;34m[\u001b[0m\u001b[0mweights_init\u001b[0m\u001b[0;34m[\u001b[0m\u001b[0mi\u001b[0m\u001b[0;34m]\u001b[0m\u001b[0;34m]\u001b[0m\u001b[0;34m,\u001b[0m \u001b[0mdur\u001b[0m\u001b[0;34m,\u001b[0m\u001b[0;34m\u001b[0m\u001b[0;34m\u001b[0m\u001b[0m\n\u001b[1;32m     10\u001b[0m         \u001b[0mdur_pre\u001b[0m\u001b[0;34m,\u001b[0m \u001b[0mdur_post\u001b[0m\u001b[0;34m,\u001b[0m \u001b[0minitVars\u001b[0m\u001b[0;34m[\u001b[0m\u001b[0mi\u001b[0m\u001b[0;34m]\u001b[0m\u001b[0;34m,\u001b[0m \u001b[0mtarget\u001b[0m\u001b[0;34m[\u001b[0m\u001b[0mi\u001b[0m\u001b[0;34m]\u001b[0m\u001b[0;34m,\u001b[0m \u001b[0;34m''\u001b[0m\u001b[0;34m,\u001b[0m \u001b[0mfilename_\u001b[0m \u001b[0;34m=\u001b[0m \u001b[0;34m''\u001b[0m\u001b[0;34m,\u001b[0m \u001b[0mtransition_time_\u001b[0m \u001b[0;34m=\u001b[0m \u001b[0mtrans_time\u001b[0m\u001b[0;34m,\u001b[0m\u001b[0;34m\u001b[0m\u001b[0;34m\u001b[0m\u001b[0m\n",
      "\u001b[0;32m~/Promotion/neurolib/neurolib/utils/plotFunctions.py\u001b[0m in \u001b[0;36mplot_control_current\u001b[0;34m(model, control_array, cost_node_array, weights_array, t_sim_, t_sim_pre_, t_sim_post_, initial_params_, target_, path_, filename_, shading, transition_time_, labels_, precision_variables_, print_cost_)\u001b[0m\n\u001b[1;32m    515\u001b[0m             \u001b[0mmodel\u001b[0m\u001b[0;34m.\u001b[0m\u001b[0mparams\u001b[0m\u001b[0;34m[\u001b[0m\u001b[0minit_vars\u001b[0m\u001b[0;34m[\u001b[0m\u001b[0miv\u001b[0m\u001b[0;34m]\u001b[0m\u001b[0;34m]\u001b[0m \u001b[0;34m=\u001b[0m \u001b[0minitial_params_\u001b[0m\u001b[0;34m[\u001b[0m\u001b[0miv\u001b[0m\u001b[0;34m]\u001b[0m\u001b[0;34m\u001b[0m\u001b[0;34m\u001b[0m\u001b[0m\n\u001b[1;32m    516\u001b[0m         \u001b[0;32melif\u001b[0m \u001b[0mmodel\u001b[0m\u001b[0;34m.\u001b[0m\u001b[0mparams\u001b[0m\u001b[0;34m[\u001b[0m\u001b[0minit_vars\u001b[0m\u001b[0;34m[\u001b[0m\u001b[0miv\u001b[0m\u001b[0;34m]\u001b[0m\u001b[0;34m]\u001b[0m\u001b[0;34m.\u001b[0m\u001b[0mndim\u001b[0m \u001b[0;34m==\u001b[0m \u001b[0;36m2\u001b[0m\u001b[0;34m:\u001b[0m\u001b[0;34m\u001b[0m\u001b[0;34m\u001b[0m\u001b[0m\n\u001b[0;32m--> 517\u001b[0;31m             \u001b[0mmodel\u001b[0m\u001b[0;34m.\u001b[0m\u001b[0mparams\u001b[0m\u001b[0;34m[\u001b[0m\u001b[0minit_vars\u001b[0m\u001b[0;34m[\u001b[0m\u001b[0miv\u001b[0m\u001b[0;34m]\u001b[0m\u001b[0;34m]\u001b[0m\u001b[0;34m[\u001b[0m\u001b[0;36m0\u001b[0m\u001b[0;34m,\u001b[0m\u001b[0;34m:\u001b[0m\u001b[0;34m]\u001b[0m \u001b[0;34m=\u001b[0m \u001b[0minitial_params_\u001b[0m\u001b[0;34m[\u001b[0m\u001b[0miv\u001b[0m\u001b[0;34m]\u001b[0m\u001b[0;34m\u001b[0m\u001b[0;34m\u001b[0m\u001b[0m\n\u001b[0m\u001b[1;32m    518\u001b[0m             \u001b[0;31m#print(\"set initial vars = \", model.params[init_vars[iv]] )\u001b[0m\u001b[0;34m\u001b[0m\u001b[0;34m\u001b[0m\u001b[0;34m\u001b[0m\u001b[0m\n\u001b[1;32m    519\u001b[0m         \u001b[0;32melse\u001b[0m\u001b[0;34m:\u001b[0m\u001b[0;34m\u001b[0m\u001b[0;34m\u001b[0m\u001b[0m\n",
      "\u001b[0;31mTypeError\u001b[0m: 'NoneType' object is not subscriptable"
     ]
    }
   ],
   "source": [
    "#plot initial guesses\n",
    "for i in [35]:\n",
    "    print(\"---------\", i)\n",
    "        \n",
    "    aln.params.ext_exc_current = exc[i] * 5.\n",
    "    aln.params.ext_inh_current = inh[i] * 5.\n",
    "\n",
    "    plotFunc.plot_control_current(aln, [bestControl_init[i]],\n",
    "        [costnode_init[i]], [weights_init[i]], dur,\n",
    "        dur_pre, dur_post, initVars[i], target[i], '', filename_ = '', transition_time_ = trans_time,\n",
    "        labels_ = [\"init\", \"sparse control\" + str(i)], print_cost_ = False)\n",
    "    plt.show()"
   ]
  },
  {
   "cell_type": "code",
   "execution_count": 17,
   "metadata": {
    "scrolled": true
   },
   "outputs": [
    {
     "name": "stdout",
     "output_type": "stream",
     "text": [
      "------------------------------------------------------------\n",
      "-------------------- 0\n",
      "------------------------------------------------------------\n",
      "found solution:  []\n",
      "no solution:  []\n",
      "-------  20 0.4500000000000001 0.4750000000000002\n",
      "found solution for  20\n"
     ]
    }
   ],
   "source": [
    "found_solution = []\n",
    "no_solution = []\n",
    "factor_iteration = 20.\n",
    "already_tried = [ [] for _ in range(len(exc)) ]\n",
    "\n",
    "for k in range(len(i_range)**2):\n",
    "    print('------------------------------------------------------------')\n",
    "    print('--------------------', k)\n",
    "    print('------------------------------------------------------------')\n",
    "        \n",
    "    print(\"found solution: \", found_solution)\n",
    "    print(\"no solution: \", no_solution)\n",
    "    \n",
    "    if len(i_range) == len(found_solution) + len(no_solution):\n",
    "        print(\"found solution for all parameters\")\n",
    "        break\n",
    "\n",
    "\n",
    "    for i in i_range:\n",
    "        print(\"------- \", i, exc[i], inh[i])        \n",
    "\n",
    "        if np.abs(np.mean(bestState_init[i][0,0,-300:]) - target[i][0,0,-1]) < 0.1 * np.abs(\n",
    "            np.mean(bestState_init[i][0,0,-100:]) - bestState_init[i][0,0,0]) and np.abs(\n",
    "            np.mean(bestState_init[i][0,1,-300:]) - target[i][0,1,-1]) < 0.1 * np.abs(\n",
    "            np.mean(bestState_init[i][0,1,-100:]) - bestState_init[i][0,1,0]) and np.amax(\n",
    "            bestState_init[i][0,0,:]) < target[i][0,0,-1] + 1. and np.amax(\n",
    "            bestState_init[i][0,1,:]) < target[i][0,1,-1] + 1.:\n",
    "            # and np.amin(bestState_init[i][0,0,:]) > bestState_init[i][0,0,0] - 1.\n",
    "            #and np.amin(bestState_init[i][0,1,:]) > bestState_init[i][0,1,0] - 1.:\n",
    "            if i not in found_solution:\n",
    "                print(\"found solution for \", i)\n",
    "                found_solution.append(i)\n",
    "            if i in no_solution:\n",
    "                no_solution.pop(no_solution.index(i))\n",
    "            continue\n",
    "\n",
    "        if len(found_solution) == 0:\n",
    "            continue\n",
    "            \n",
    "        closest_ = getclosest(i, found_solution, exc, inh, already_tried[i])\n",
    "        print(\"closest index \", closest_)\n",
    "\n",
    "        weight_ = 10\n",
    "        cost.setParams(1.0, weight_ * factor_we, weight_ * factor_ws)\n",
    "\n",
    "        setinit(initVars[i], aln)\n",
    "        aln.params.ext_exc_current = exc[i] * 5.\n",
    "        aln.params.ext_inh_current = inh[i] * 5.\n",
    "            \n",
    "        if i != 0 and closest_ != -1:\n",
    "            control0 = bestControl_init[closest_][:,:,n_pre-1:-n_post+1]\n",
    "            if closest_ not in already_tried[i]:\n",
    "                already_tried[i].append(closest_)\n",
    "                        \n",
    "        if closest_ == -1:\n",
    "            print(\"all options tried already\")\n",
    "            if i not in no_solution:\n",
    "                no_solution.append(i)\n",
    "                continue\n",
    "\n",
    "        # \"HS\", \"FR\", \"PR\", \"HZ\"\n",
    "        cgv = None\n",
    "        max_it = int(100 * factor_iteration)\n",
    "\n",
    "        weights_init[i] = cost.getParams()\n",
    "        \n",
    "        print(\"precision vars = \", prec_vars)\n",
    "\n",
    "        bestControl_init[i], bestState_init[i], cost_init[i], runtime_init[i], grad_init[i], phi_init[i], costnode_init[i] = aln.A1(\n",
    "            control0, target[i], c_scheme, u_mat, u_scheme, max_iteration_ = max_it, tolerance_ = tol,\n",
    "            startStep_ = start_step, max_control_ = max_cntrl, min_control_ = min_cntrl, t_sim_ = dur,\n",
    "            t_sim_pre_ = dur_pre, t_sim_post_ = dur_post, CGVar = cgv, control_variables_ = cntrl_vars_init,\n",
    "            prec_variables_ = prec_vars, transition_time_ = trans_time)\n",
    "\n",
    "        j = 1\n",
    "        while cost_init[i][-j] == 0.:\n",
    "            j += 1\n",
    "\n",
    "        weight_ = 10 * cost_uncontrolled[i] / cost_init[i][-j]\n",
    "        print(\"weight = \", weight_)\n",
    "        cost.setParams(1.0, weight_ * factor_we, weight_ * factor_ws)\n",
    "\n",
    "        setinit(initVars[i], aln)\n",
    "        control0 = bestControl_init[i][:,:,n_pre-1:-n_post+1]\n",
    "\n",
    "        # \"HS\", \"FR\", \"PR\", \"HZ\"\n",
    "        cgv = None\n",
    "        max_it = int(500 * factor_iteration)\n",
    "\n",
    "        weights_init[i] = cost.getParams()\n",
    "\n",
    "        bestControl_init[i], bestState_init[i], cost_init[i], runtime_init[i], grad_init[i], phi_init[i], costnode_init[i] = aln.A1(\n",
    "            control0, target[i], c_scheme, u_mat, u_scheme, max_iteration_ = max_it, tolerance_ = tol,\n",
    "            startStep_ = start_step, max_control_ = max_cntrl, min_control_ = min_cntrl, t_sim_ = dur,\n",
    "            t_sim_pre_ = dur_pre, t_sim_post_ = dur_post, CGVar = cgv, control_variables_ = cntrl_vars_init,\n",
    "            prec_variables_ = prec_vars, transition_time_ = trans_time)\n",
    "        \n",
    "        with open(init_file,'wb') as f:\n",
    "            pickle.dump([bestControl_init, bestState_init, cost_init, runtime_init, grad_init, phi_init,\n",
    "                         costnode_init, weights_init], f)"
   ]
  },
  {
   "cell_type": "code",
   "execution_count": 24,
   "metadata": {
    "scrolled": true
   },
   "outputs": [
    {
     "name": "stdout",
     "output_type": "stream",
     "text": [
      "0\n",
      "1\n",
      "2\n",
      "3\n",
      "4\n",
      "5\n",
      "6\n",
      "7\n",
      "8\n",
      "9\n",
      "10\n",
      "11\n",
      "12\n",
      "13\n",
      "14\n",
      "15\n",
      "16\n",
      "17\n",
      "18\n",
      "19\n",
      "21\n",
      "22\n",
      "23\n",
      "24\n",
      "25\n",
      "26\n",
      "27\n",
      "28\n",
      "29\n",
      "30\n",
      "31\n",
      "32\n",
      "33\n",
      "34\n",
      "35\n",
      "36\n",
      "37\n",
      "38\n",
      "39\n",
      "40\n",
      "41\n",
      "42\n",
      "43\n",
      "44\n",
      "45\n",
      "46\n",
      "47\n",
      "48\n",
      "49\n",
      "50\n",
      "51\n",
      "52\n",
      "53\n",
      "54\n",
      "55\n",
      "56\n",
      "57\n",
      "58\n",
      "59\n",
      "60\n",
      "61\n",
      "62\n",
      "63\n",
      "64\n",
      "65\n",
      "66\n",
      "67\n",
      "68\n",
      "69\n",
      "70\n",
      "71\n",
      "72\n",
      "73\n",
      "74\n",
      "75\n",
      "76\n",
      "77\n",
      "78\n",
      "79\n",
      "80\n",
      "81\n",
      "82\n",
      "83\n",
      "84\n",
      "85\n",
      "86\n",
      "87\n",
      "88\n",
      "89\n",
      "90\n",
      "91\n",
      "92\n",
      "93\n",
      "94\n",
      "95\n",
      "96\n",
      "97\n",
      "98\n",
      "99\n",
      "100\n",
      "101\n",
      "102\n",
      "103\n",
      "104\n",
      "105\n",
      "106\n",
      "107\n",
      "108\n",
      "109\n",
      "110\n",
      "111\n",
      "112\n",
      "113\n",
      "114\n",
      "115\n",
      "116\n",
      "117\n",
      "118\n",
      "119\n",
      "120\n",
      "121\n",
      "122\n",
      "123\n",
      "124\n",
      "125\n",
      "126\n",
      "127\n",
      "128\n",
      "129\n",
      "130\n",
      "131\n",
      "132\n",
      "133\n",
      "134\n",
      "135\n",
      "136\n",
      "137\n",
      "138\n",
      "139\n",
      "140\n",
      "141\n",
      "142\n",
      "143\n",
      "144\n",
      "145\n",
      "146\n",
      "------------------------------------------------\n",
      "------------------------- 0\n",
      "[[True, True], [True, True], [True, True], [True, True], [True, True], [True, True], [True, True], [True, True], [True, True], [True, True], [True, True], [True, True], [True, True], [True, True], [True, True], [True, True], [True, True], [True, True], [True, True], [True, True]]\n",
      "-------  20 0.4500000000000001 0.4750000000000002\n",
      "weight =  16182.601019606802\n",
      "set cost params:  1.0 0.0 16182.601019606802\n",
      "interpolate adjoint :  True True True\n",
      "RUN  0 , total integrated cost =  63433.16531388455\n",
      "Gradient descend method:  None\n",
      "RUN  1 , total integrated cost =  63433.16531388455\n",
      "Control only changes marginally.\n",
      "RUN  1 , total integrated cost =  63433.16531388455\n",
      "Improved over  1  iterations in  0.049298475991236046  seconds by  0.0  percent.\n",
      "converged for  20\n",
      "no convergence\n"
     ]
    },
    {
     "data": {
      "image/png": "[encoded data removed]",
      "text/plain": [
       "<Figure size 288x288 with 2 Axes>"
      ]
     },
     "metadata": {
      "needs_background": "light"
     },
     "output_type": "display_data"
    }
   ],
   "source": [
    "factor_iteration = 20\n",
    "full_converge = False\n",
    "conv_init = [[False]*2] * len(exc)\n",
    "\n",
    "for i in range(len(conv_init)):\n",
    "    if i not in i_range:\n",
    "        print(i)\n",
    "        conv_init[i] = [True, True]\n",
    "        \n",
    "counter = 0\n",
    "\n",
    "while full_converge == False:\n",
    "    \n",
    "    print(\"------------------------------------------------\")\n",
    "    print('-------------------------', counter)\n",
    "    \n",
    "    if counter > 20:\n",
    "        break\n",
    "        \n",
    "    print(conv_init[start_index:limit:i_stepsize])\n",
    "    full_converge = True\n",
    "    \n",
    "    #for conv in conv_init[start_index:limit:i_stepsize]:\n",
    "    #    if not conv[0]:\n",
    "    #        full_converge = False\n",
    "    #        break\n",
    "    #    if not conv[1]:\n",
    "    #        full_converge = False\n",
    "    #        break\n",
    "    \n",
    "    #if full_converge:\n",
    "    #    print(\"full convergence\")\n",
    "    #    break\n",
    "\n",
    "    for i in i_range:        \n",
    "\n",
    "        print(\"------- \", i, exc[i], inh[i])\n",
    "        \n",
    "        #if conv_init[i] == [True, True]:\n",
    "        #    continue\n",
    "        aln.params.ext_exc_current = exc[i] * 5.\n",
    "        aln.params.ext_inh_current = inh[i] * 5.\n",
    "        \n",
    "        j = 1\n",
    "        while cost_init[i][-j] == 0.:\n",
    "            j += 1\n",
    "                       \n",
    "        weight_ = (factor_we * weights_init[i][1] * cost_uncontrolled[i] / cost_init[i][-j]\n",
    "                   + factor_ws * weights_init[i][2] * cost_uncontrolled[i] / cost_init[i][-j]) - 1\n",
    "        print(\"weight = \", weight_)\n",
    "        cost.setParams(1.0, weight_ * factor_we, weight_ * factor_ws)\n",
    "\n",
    "        setinit(initVars[i], aln)\n",
    "        control0 = bestControl_init[i][:,:,n_pre-1:-n_post+1]\n",
    "\n",
    "        # \"HS\", \"FR\", \"PR\", \"HZ\"\n",
    "        cgv = None\n",
    "        max_it = int( 500 * factor_iteration )\n",
    "\n",
    "        weights_init[i] = cost.getParams()\n",
    "\n",
    "        bestControl_init[i], bestState_init[i], cost_init[i], runtime_init[i], grad_init[i], phi_init[i], costnode_init[i] = aln.A1(\n",
    "            control0, target[i], c_scheme, u_mat, u_scheme, max_iteration_ = max_it, tolerance_ = tol,\n",
    "            startStep_ = start_step, max_control_ = max_cntrl, min_control_ = min_cntrl, t_sim_ = dur,\n",
    "            t_sim_pre_ = dur_pre, t_sim_post_ = dur_post, CGVar = cgv, control_variables_ = cntrl_vars_init,\n",
    "            prec_variables_ = prec_vars, transition_time_ = trans_time)\n",
    "        \n",
    "        with open(init_file,'wb') as f:\n",
    "            pickle.dump([bestControl_init, bestState_init, cost_init, runtime_init, grad_init, phi_init,\n",
    "                         costnode_init, weights_init], f)\n",
    "            \n",
    "        if j == cost_init[i].shape[0]-1:\n",
    "            print(\"converged for \", i)\n",
    "            if conv_init[i][0]:\n",
    "                conv_init[i] = [True, True]\n",
    "            else:\n",
    "                conv_init[i] = [True, False]\n",
    "            #continue\n",
    "    \n",
    "        print(\"no convergence\")\n",
    "        \n",
    "        if True:\n",
    "            time_ = np.arange(-dur_pre,round(dur+dur_post+aln.params.dt,1),aln.params.dt)\n",
    "            fig, ax = plt.subplots(2,1, constrained_layout=True, figsize = (4,4) )\n",
    "            ax[1].plot(time_, bestControl_init[i][0,0,:], color = 'red')\n",
    "            ax[0].plot(time_, bestState_init[i][0,0,:], color= 'red')\n",
    "            ax[1].plot(time_, bestControl_init[i][0,1,:], color = 'blue')\n",
    "            ax[0].plot(time_, bestState_init[i][0,1,:], color= 'blue')\n",
    "            plt.show()\n",
    "            \n",
    "    counter += 1"
   ]
  },
  {
   "cell_type": "code",
   "execution_count": 18,
   "metadata": {},
   "outputs": [
    {
     "name": "stdout",
     "output_type": "stream",
     "text": [
      "file found\n"
     ]
    }
   ],
   "source": [
    "if os.path.isfile(final_file) :\n",
    "    print(\"file found\")\n",
    "    \n",
    "    with open(final_file,'rb') as f:\n",
    "        load_array = pickle.load(f)\n",
    "\n",
    "    bestControl_0 = load_array[0]\n",
    "    bestState_0 = load_array[1]\n",
    "    cost_0 = load_array[2]\n",
    "    runtime_0 = load_array[3]\n",
    "    grad_0 = load_array[4]\n",
    "    phi_0 = load_array[5]\n",
    "    costnode_0 = load_array[6]\n",
    "    weights_0 = load_array[7]"
   ]
  },
  {
   "cell_type": "code",
   "execution_count": 19,
   "metadata": {
    "scrolled": true
   },
   "outputs": [
    {
     "name": "stdout",
     "output_type": "stream",
     "text": [
      "--------------- 0\n",
      "[[False, False], [False, False], [False, False], [False, False], [False, False], [False, False], [False, False], [False, False], [False, False], [False, False], [False, False], [False, False], [False, False], [False, False], [False, False], [False, False], [False, False], [False, False], [False, False], [False, False], [True, True], [True, True], [True, True], [True, True], [True, True], [True, True], [True, True], [True, True], [True, True], [True, True], [True, True], [True, True], [True, True], [True, True], [True, True], [True, True], [True, True], [True, True], [True, True], [True, True], [True, True], [True, True], [True, True], [True, True], [True, True], [True, True], [True, True], [True, True], [True, True], [True, True], [True, True], [True, True], [True, True], [True, True], [True, True], [True, True], [True, True], [True, True], [True, True], [True, True], [True, True], [True, True], [True, True], [True, True], [True, True], [True, True], [True, True], [True, True], [True, True], [True, True], [True, True], [True, True], [True, True], [True, True]]\n",
      "-------  0 0.4000000000000001 0.3500000000000001\n",
      "weight =  5828.257030205453\n",
      "set cost params:  1.0 0.0 5828.257030205453\n",
      "interpolate adjoint :  True True True\n",
      "RUN  0 , total integrated cost =  5901.393930563886\n",
      "Gradient descend method:  None\n"
     ]
    },
    {
     "name": "stderr",
     "output_type": "stream",
     "text": [
      "ERROR:root:Problem in initial value trasfer\n"
     ]
    },
    {
     "name": "stdout",
     "output_type": "stream",
     "text": [
      "RUN  1 , total integrated cost =  5901.393930563886\n",
      "Control only changes marginally.\n",
      "RUN  1 , total integrated cost =  5901.393930563886\n",
      "Improved over  1  iterations in  0.5360316000000012  seconds by  0.0  percent.\n",
      "Problem in initial value trasfer:  Vmean_exc -56.62656045650696 -56.626568743997524\n",
      "converged for  0\n",
      "-------  2 0.4000000000000001 0.3750000000000001\n",
      "weight =  3360.476839310955\n",
      "set cost params:  1.0 0.0 3360.476839310955\n",
      "interpolate adjoint :  True True True\n",
      "RUN  0 , total integrated cost =  5537.060061461092\n",
      "Gradient descend method:  None\n",
      "RUN  1 , total integrated cost =  5537.060061461091\n",
      "RUN  2 , total integrated cost =  5537.06006146109\n"
     ]
    },
    {
     "name": "stderr",
     "output_type": "stream",
     "text": [
      "ERROR:root:Problem in initial value trasfer\n"
     ]
    },
    {
     "name": "stdout",
     "output_type": "stream",
     "text": [
      "RUN  3 , total integrated cost =  5537.06006146109\n",
      "Control only changes marginally.\n",
      "RUN  3 , total integrated cost =  5537.06006146109\n",
      "Improved over  3  iterations in  1.3418339000000117  seconds by  2.842170943040401e-14  percent.\n",
      "Problem in initial value trasfer:  Vmean_exc -56.62520149438092 -56.625191030695746\n",
      "converged for  2\n",
      "-------  4 0.4500000000000001 0.3750000000000001\n",
      "weight =  24852.781316730285\n",
      "set cost params:  1.0 0.0 24852.781316730285\n",
      "interpolate adjoint :  True True True\n",
      "RUN  0 , total integrated cost =  13601.719333695793\n",
      "Gradient descend method:  None\n"
     ]
    },
    {
     "name": "stderr",
     "output_type": "stream",
     "text": [
      "ERROR:root:Problem in initial value trasfer\n"
     ]
    },
    {
     "name": "stdout",
     "output_type": "stream",
     "text": [
      "RUN  1 , total integrated cost =  13601.719333695793\n",
      "Control only changes marginally.\n",
      "RUN  1 , total integrated cost =  13601.719333695793\n",
      "Improved over  1  iterations in  0.6014349999999808  seconds by  0.0  percent.\n",
      "Problem in initial value trasfer:  Vmean_exc -56.67586175157012 -56.67586690700022\n",
      "converged for  4\n",
      "-------  6 0.4250000000000001 0.40000000000000013\n",
      "weight =  5096.268883573492\n",
      "set cost params:  1.0 0.0 5096.268883573492\n",
      "interpolate adjoint :  True True True\n",
      "RUN  0 , total integrated cost =  9437.224945873999\n",
      "Gradient descend method:  None\n"
     ]
    },
    {
     "name": "stderr",
     "output_type": "stream",
     "text": [
      "ERROR:root:Problem in initial value trasfer\n"
     ]
    },
    {
     "name": "stdout",
     "output_type": "stream",
     "text": [
      "RUN  1 , total integrated cost =  9437.224945873999\n",
      "Control only changes marginally.\n",
      "RUN  1 , total integrated cost =  9437.224945873999\n",
      "Improved over  1  iterations in  0.6200934000000018  seconds by  0.0  percent.\n",
      "Problem in initial value trasfer:  Vmean_exc -56.646507791545446 -56.64655242825527\n",
      "converged for  6\n",
      "-------  8 0.47500000000000014 0.40000000000000013\n",
      "weight =  36931.24088327514\n",
      "set cost params:  1.0 0.0 36931.24088327514\n",
      "interpolate adjoint :  True True True\n",
      "RUN  0 , total integrated cost =  17550.67259277677\n",
      "Gradient descend method:  None\n"
     ]
    },
    {
     "name": "stderr",
     "output_type": "stream",
     "text": [
      "ERROR:root:Problem in initial value trasfer\n"
     ]
    },
    {
     "name": "stdout",
     "output_type": "stream",
     "text": [
      "RUN  1 , total integrated cost =  17550.67259277677\n",
      "Control only changes marginally.\n",
      "RUN  1 , total integrated cost =  17550.67259277677\n",
      "Improved over  1  iterations in  0.5231263000000013  seconds by  0.0  percent.\n",
      "Problem in initial value trasfer:  Vmean_exc -56.690577805899736 -56.6905806073913\n",
      "no convergence\n",
      "-------  10 0.4250000000000001 0.42500000000000016\n",
      "weight =  3311.0503909909726\n",
      "set cost params:  1.0 0.0 3311.0503909909726\n",
      "interpolate adjoint :  True True True\n",
      "RUN  0 , total integrated cost =  9108.705488440217\n",
      "Gradient descend method:  None\n"
     ]
    },
    {
     "name": "stderr",
     "output_type": "stream",
     "text": [
      "ERROR:root:Problem in initial value trasfer\n"
     ]
    },
    {
     "name": "stdout",
     "output_type": "stream",
     "text": [
      "RUN  1 , total integrated cost =  9108.705488440217\n",
      "Control only changes marginally.\n",
      "RUN  1 , total integrated cost =  9108.705488440217\n",
      "Improved over  1  iterations in  0.4811924999999917  seconds by  0.0  percent.\n",
      "Problem in initial value trasfer:  Vmean_exc -56.64369631588489 -56.64374227324168\n",
      "converged for  10\n",
      "-------  12 0.47500000000000014 0.42500000000000016\n",
      "weight =  15340.521656486815\n",
      "set cost params:  1.0 0.0 15340.521656486815\n",
      "interpolate adjoint :  True True True\n",
      "RUN  0 , total integrated cost =  17570.054830090157\n",
      "Gradient descend method:  None\n"
     ]
    },
    {
     "name": "stderr",
     "output_type": "stream",
     "text": [
      "ERROR:root:Problem in initial value trasfer\n"
     ]
    },
    {
     "name": "stdout",
     "output_type": "stream",
     "text": [
      "RUN  1 , total integrated cost =  17570.054830090157\n",
      "Control only changes marginally.\n",
      "RUN  1 , total integrated cost =  17570.054830090157\n",
      "Improved over  1  iterations in  0.4790050000000008  seconds by  0.0  percent.\n",
      "Problem in initial value trasfer:  Vmean_exc -56.689474650316114 -56.68947729243195\n",
      "converged for  12\n",
      "-------  14 0.4250000000000001 0.4500000000000002\n",
      "weight =  2495.6520068069663\n",
      "set cost params:  1.0 0.0 2495.6520068069663\n",
      "interpolate adjoint :  True True True\n",
      "RUN  0 , total integrated cost =  8792.652372215814\n",
      "Gradient descend method:  None\n"
     ]
    },
    {
     "name": "stderr",
     "output_type": "stream",
     "text": [
      "ERROR:root:Problem in initial value trasfer\n"
     ]
    },
    {
     "name": "stdout",
     "output_type": "stream",
     "text": [
      "RUN  1 , total integrated cost =  8792.652372215814\n",
      "Control only changes marginally.\n",
      "RUN  1 , total integrated cost =  8792.652372215814\n",
      "Improved over  1  iterations in  0.5569287000000145  seconds by  0.0  percent.\n",
      "Problem in initial value trasfer:  Vmean_exc -56.641883581168734 -56.641918603800605\n",
      "converged for  14\n",
      "-------  16 0.47500000000000014 0.4500000000000002\n",
      "weight =  8973.205250018676\n",
      "set cost params:  1.0 0.0 8973.205250018676\n",
      "interpolate adjoint :  True True True\n",
      "RUN  0 , total integrated cost =  17338.965650538285\n",
      "Gradient descend method:  None\n"
     ]
    },
    {
     "name": "stderr",
     "output_type": "stream",
     "text": [
      "ERROR:root:Problem in initial value trasfer\n"
     ]
    },
    {
     "name": "stdout",
     "output_type": "stream",
     "text": [
      "RUN  1 , total integrated cost =  17338.965650538285\n",
      "Control only changes marginally.\n",
      "RUN  1 , total integrated cost =  17338.965650538285\n",
      "Improved over  1  iterations in  0.6931608000000153  seconds by  0.0  percent.\n",
      "Problem in initial value trasfer:  Vmean_exc -56.68841931779417 -56.68842230399403\n",
      "converged for  16\n",
      "-------  18 0.4000000000000001 0.4750000000000002\n",
      "weight =  735.5601320228589\n",
      "set cost params:  1.0 0.0 735.5601320228589\n",
      "interpolate adjoint :  True True True\n",
      "RUN  0 , total integrated cost =  3666.1750494144794\n",
      "Gradient descend method:  None\n"
     ]
    },
    {
     "name": "stderr",
     "output_type": "stream",
     "text": [
      "ERROR:root:Problem in initial value trasfer\n"
     ]
    },
    {
     "name": "stdout",
     "output_type": "stream",
     "text": [
      "RUN  1 , total integrated cost =  3666.1750494144794\n",
      "Control only changes marginally.\n",
      "RUN  1 , total integrated cost =  3666.1750494144794\n",
      "Improved over  1  iterations in  0.5776225000000181  seconds by  0.0  percent.\n",
      "Problem in initial value trasfer:  Vmean_exc -56.64003034328377 -56.64000781278161\n",
      "converged for  18\n",
      "-------  20 0.4500000000000001 0.4750000000000002\n",
      "weight =  3514.0456562958484\n",
      "set cost params:  1.0 0.0 3514.0456562958484\n",
      "interpolate adjoint :  True True True\n",
      "RUN  0 , total integrated cost =  12734.492566630535\n",
      "Gradient descend method:  None\n"
     ]
    },
    {
     "name": "stderr",
     "output_type": "stream",
     "text": [
      "ERROR:root:Problem in initial value trasfer\n"
     ]
    },
    {
     "name": "stdout",
     "output_type": "stream",
     "text": [
      "RUN  1 , total integrated cost =  12734.492566630535\n",
      "Control only changes marginally.\n",
      "RUN  1 , total integrated cost =  12734.492566630535\n",
      "Improved over  1  iterations in  0.5731964999999946  seconds by  0.0  percent.\n",
      "Problem in initial value trasfer:  Vmean_exc -56.668329572243344 -56.66834633913388\n",
      "converged for  20\n",
      "-------  22 0.5000000000000002 0.4750000000000002\n",
      "weight =  10924.66976649676\n",
      "set cost params:  1.0 0.0 10924.66976649676\n",
      "interpolate adjoint :  True True True\n",
      "RUN  0 , total integrated cost =  21563.203779932952\n",
      "Gradient descend method:  None\n"
     ]
    },
    {
     "name": "stderr",
     "output_type": "stream",
     "text": [
      "ERROR:root:Problem in initial value trasfer\n"
     ]
    },
    {
     "name": "stdout",
     "output_type": "stream",
     "text": [
      "RUN  1 , total integrated cost =  21563.203779932952\n",
      "Control only changes marginally.\n",
      "RUN  1 , total integrated cost =  21563.203779932952\n",
      "Improved over  1  iterations in  0.5066536999999869  seconds by  0.0  percent.\n",
      "Problem in initial value trasfer:  Vmean_exc -56.69835996911231 -56.69836095902131\n",
      "converged for  22\n",
      "-------  24 0.4000000000000001 0.5000000000000002\n",
      "weight =  513.4056616419335\n",
      "set cost params:  1.0 0.0 513.4056616419335\n",
      "interpolate adjoint :  True True True\n",
      "RUN  0 , total integrated cost =  2975.1866307933387\n",
      "Gradient descend method:  None\n"
     ]
    },
    {
     "name": "stderr",
     "output_type": "stream",
     "text": [
      "ERROR:root:Problem in initial value trasfer\n"
     ]
    },
    {
     "name": "stdout",
     "output_type": "stream",
     "text": [
      "RUN  1 , total integrated cost =  2975.1866307933387\n",
      "Control only changes marginally.\n",
      "RUN  1 , total integrated cost =  2975.1866307933387\n",
      "Improved over  1  iterations in  0.44306720000000155  seconds by  0.0  percent.\n",
      "Problem in initial value trasfer:  Vmean_exc -56.660524320190824 -56.66051384564873\n",
      "converged for  24\n",
      "-------  26 0.4500000000000001 0.5000000000000002\n",
      "weight =  2815.379282832549\n",
      "set cost params:  1.0 0.0 2815.379282832549\n",
      "interpolate adjoint :  True True True\n",
      "RUN  0 , total integrated cost =  12475.25350410244\n",
      "Gradient descend method:  None\n"
     ]
    },
    {
     "name": "stderr",
     "output_type": "stream",
     "text": [
      "ERROR:root:Problem in initial value trasfer\n"
     ]
    },
    {
     "name": "stdout",
     "output_type": "stream",
     "text": [
      "RUN  1 , total integrated cost =  12475.25350410244\n",
      "Control only changes marginally.\n",
      "RUN  1 , total integrated cost =  12475.25350410244\n",
      "Improved over  1  iterations in  0.5383487999999943  seconds by  0.0  percent.\n",
      "Problem in initial value trasfer:  Vmean_exc -56.66683199605681 -56.66684843550554\n",
      "converged for  26\n",
      "-------  28 0.5000000000000002 0.5000000000000002\n",
      "weight =  7609.262986608585\n",
      "set cost params:  1.0 0.0 7609.262986608585\n",
      "interpolate adjoint :  True True True\n",
      "RUN  0 , total integrated cost =  21310.2922095222\n",
      "Gradient descend method:  None\n"
     ]
    },
    {
     "name": "stderr",
     "output_type": "stream",
     "text": [
      "ERROR:root:Problem in initial value trasfer\n"
     ]
    },
    {
     "name": "stdout",
     "output_type": "stream",
     "text": [
      "RUN  1 , total integrated cost =  21310.2922095222\n",
      "Control only changes marginally.\n",
      "RUN  1 , total integrated cost =  21310.2922095222\n",
      "Improved over  1  iterations in  0.5635226999999929  seconds by  0.0  percent.\n",
      "Problem in initial value trasfer:  Vmean_exc -56.697827734373206 -56.69782858359614\n",
      "converged for  28\n",
      "-------  30 0.4250000000000001 0.5250000000000002\n",
      "weight =  1370.835164619997\n",
      "set cost params:  1.0 0.0 1370.835164619997\n",
      "interpolate adjoint :  True True True\n",
      "RUN  0 , total integrated cost =  7972.501383074911\n",
      "Gradient descend method:  None\n"
     ]
    },
    {
     "name": "stderr",
     "output_type": "stream",
     "text": [
      "ERROR:root:Problem in initial value trasfer\n"
     ]
    },
    {
     "name": "stdout",
     "output_type": "stream",
     "text": [
      "RUN  1 , total integrated cost =  7972.501383074911\n",
      "Control only changes marginally.\n",
      "RUN  1 , total integrated cost =  7972.501383074911\n",
      "Improved over  1  iterations in  0.5632305999999971  seconds by  0.0  percent.\n",
      "Problem in initial value trasfer:  Vmean_exc -56.636716159026804 -56.636732046377944\n",
      "converged for  30\n",
      "-------  32 0.47500000000000014 0.5250000000000002\n",
      "weight =  3711.667107287623\n",
      "set cost params:  1.0 0.0 3711.667107287623\n",
      "interpolate adjoint :  True True True\n",
      "RUN  0 , total integrated cost =  16563.755760756692\n",
      "Gradient descend method:  None\n"
     ]
    },
    {
     "name": "stderr",
     "output_type": "stream",
     "text": [
      "ERROR:root:Problem in initial value trasfer\n"
     ]
    },
    {
     "name": "stdout",
     "output_type": "stream",
     "text": [
      "RUN  1 , total integrated cost =  16563.755760756692\n",
      "Control only changes marginally.\n",
      "RUN  1 , total integrated cost =  16563.755760756692\n",
      "Improved over  1  iterations in  0.7939054999999939  seconds by  0.0  percent.\n",
      "Problem in initial value trasfer:  Vmean_exc -56.68548287702932 -56.68548886486611\n",
      "converged for  32\n",
      "-------  34 0.5250000000000001 0.5250000000000002\n",
      "weight =  9424.884791025443\n",
      "set cost params:  1.0 0.0 9424.884791025443\n",
      "interpolate adjoint :  True True True\n",
      "RUN  0 , total integrated cost =  25756.95744330182\n",
      "Gradient descend method:  None\n",
      "RUN  1 , total integrated cost =  25756.957443301806\n",
      "RUN  2 , total integrated cost =  25756.957443301802\n"
     ]
    },
    {
     "name": "stderr",
     "output_type": "stream",
     "text": [
      "ERROR:root:Problem in initial value trasfer\n"
     ]
    },
    {
     "name": "stdout",
     "output_type": "stream",
     "text": [
      "RUN  3 , total integrated cost =  25756.957443301802\n",
      "Control only changes marginally.\n",
      "RUN  3 , total integrated cost =  25756.957443301802\n",
      "Improved over  3  iterations in  1.8845057000000054  seconds by  7.105427357601002e-14  percent.\n",
      "Problem in initial value trasfer:  Vmean_exc -56.70306585604258 -56.703066652727415\n",
      "no convergence\n",
      "-------  36 0.4250000000000001 0.5500000000000003\n",
      "weight =  1160.3130686636462\n",
      "set cost params:  1.0 0.0 1160.3130686636462\n",
      "interpolate adjoint :  True True True\n",
      "RUN  0 , total integrated cost =  7735.00142774919\n",
      "Gradient descend method:  None\n"
     ]
    },
    {
     "name": "stderr",
     "output_type": "stream",
     "text": [
      "ERROR:root:Problem in initial value trasfer\n"
     ]
    },
    {
     "name": "stdout",
     "output_type": "stream",
     "text": [
      "RUN  1 , total integrated cost =  7735.00142774919\n",
      "Control only changes marginally.\n",
      "RUN  1 , total integrated cost =  7735.00142774919\n",
      "Improved over  1  iterations in  0.4208193999999992  seconds by  0.0  percent.\n",
      "Problem in initial value trasfer:  Vmean_exc -56.63472920481226 -56.634747039299135\n",
      "converged for  36\n",
      "-------  38 0.47500000000000014 0.5500000000000003\n",
      "weight =  3146.444995923379\n",
      "set cost params:  1.0 0.0 3146.444995923379\n",
      "interpolate adjoint :  True True True\n",
      "RUN  0 , total integrated cost =  16339.435211269765\n",
      "Gradient descend method:  None\n"
     ]
    },
    {
     "name": "stderr",
     "output_type": "stream",
     "text": [
      "ERROR:root:Problem in initial value trasfer\n"
     ]
    },
    {
     "name": "stdout",
     "output_type": "stream",
     "text": [
      "RUN  1 , total integrated cost =  16339.435211269765\n",
      "Control only changes marginally.\n",
      "RUN  1 , total integrated cost =  16339.435211269765\n",
      "Improved over  1  iterations in  0.34517569999999864  seconds by  0.0  percent.\n",
      "Problem in initial value trasfer:  Vmean_exc -56.684660363717256 -56.68466569897238\n",
      "converged for  38\n",
      "--------------- 1\n",
      "[[True, False], [True, False], [True, False], [True, False], [False, False], [True, False], [True, False], [True, False], [True, False], [True, False], [True, False], [True, False], [True, False], [True, False], [True, False], [True, False], [True, False], [False, False], [True, False], [True, False], [True, True], [True, True], [True, True], [True, True], [True, True], [True, True], [True, True], [True, True], [True, True], [True, True], [True, True], [True, True], [True, True], [True, True], [True, True], [True, True], [True, True], [True, True], [True, True], [True, True], [True, True], [True, True], [True, True], [True, True], [True, True], [True, True], [True, True], [True, True], [True, True], [True, True], [True, True], [True, True], [True, True], [True, True], [True, True], [True, True], [True, True], [True, True], [True, True], [True, True], [True, True], [True, True], [True, True], [True, True], [True, True], [True, True], [True, True], [True, True], [True, True], [True, True], [True, True], [True, True], [True, True], [True, True]]\n",
      "-------  0 0.4000000000000001 0.3500000000000001\n",
      "weight =  5828.257030205453\n",
      "set cost params:  1.0 0.0 5828.257030205453\n",
      "interpolate adjoint :  True True True\n",
      "RUN  0 , total integrated cost =  5901.393930563886\n",
      "Gradient descend method:  None\n"
     ]
    },
    {
     "name": "stderr",
     "output_type": "stream",
     "text": [
      "ERROR:root:Problem in initial value trasfer\n"
     ]
    },
    {
     "name": "stdout",
     "output_type": "stream",
     "text": [
      "RUN  1 , total integrated cost =  5901.393930563886\n",
      "Control only changes marginally.\n",
      "RUN  1 , total integrated cost =  5901.393930563886\n",
      "Improved over  1  iterations in  0.33391430000000355  seconds by  0.0  percent.\n",
      "Problem in initial value trasfer:  Vmean_exc -56.62656045650696 -56.626568743997524\n",
      "converged for  0\n",
      "-------  2 0.4000000000000001 0.3750000000000001\n",
      "weight =  3360.4768393109584\n",
      "set cost params:  1.0 0.0 3360.4768393109584\n",
      "interpolate adjoint :  True True True\n",
      "RUN  0 , total integrated cost =  5537.060061461097\n",
      "Gradient descend method:  None\n",
      "RUN  1 , total integrated cost =  5537.060061461096\n"
     ]
    },
    {
     "name": "stderr",
     "output_type": "stream",
     "text": [
      "ERROR:root:Problem in initial value trasfer\n"
     ]
    },
    {
     "name": "stdout",
     "output_type": "stream",
     "text": [
      "RUN  2 , total integrated cost =  5537.060061461096\n",
      "Control only changes marginally.\n",
      "RUN  2 , total integrated cost =  5537.060061461096\n",
      "Improved over  2  iterations in  0.6714778000000194  seconds by  1.4210854715202004e-14  percent.\n",
      "Problem in initial value trasfer:  Vmean_exc -56.62520149438092 -56.625191030695746\n",
      "no convergence\n",
      "-------  4 0.4500000000000001 0.3750000000000001\n",
      "weight =  24852.781316730285\n",
      "set cost params:  1.0 0.0 24852.781316730285\n",
      "interpolate adjoint :  True True True\n",
      "RUN  0 , total integrated cost =  13601.719333695793\n",
      "Gradient descend method:  None\n"
     ]
    },
    {
     "name": "stderr",
     "output_type": "stream",
     "text": [
      "ERROR:root:Problem in initial value trasfer\n"
     ]
    },
    {
     "name": "stdout",
     "output_type": "stream",
     "text": [
      "RUN  1 , total integrated cost =  13601.719333695793\n",
      "Control only changes marginally.\n",
      "RUN  1 , total integrated cost =  13601.719333695793\n",
      "Improved over  1  iterations in  0.5165302999999994  seconds by  0.0  percent.\n",
      "Problem in initial value trasfer:  Vmean_exc -56.67586175157012 -56.67586690700022\n",
      "converged for  4\n",
      "-------  6 0.4250000000000001 0.40000000000000013\n",
      "weight =  5096.268883574054\n",
      "set cost params:  1.0 0.0 5096.268883574054\n",
      "interpolate adjoint :  True True True\n",
      "RUN  0 , total integrated cost =  9437.224945875008\n",
      "Gradient descend method:  None\n"
     ]
    },
    {
     "name": "stderr",
     "output_type": "stream",
     "text": [
      "ERROR:root:Problem in initial value trasfer\n"
     ]
    },
    {
     "name": "stdout",
     "output_type": "stream",
     "text": [
      "RUN  1 , total integrated cost =  9437.224945875008\n",
      "Control only changes marginally.\n",
      "RUN  1 , total integrated cost =  9437.224945875008\n",
      "Improved over  1  iterations in  0.4238967999999943  seconds by  0.0  percent.\n",
      "Problem in initial value trasfer:  Vmean_exc -56.646507791545446 -56.64655242825527\n",
      "converged for  6\n",
      "-------  8 0.47500000000000014 0.40000000000000013\n",
      "weight =  36931.24089295134\n",
      "set cost params:  1.0 0.0 36931.24089295134\n",
      "interpolate adjoint :  True True True\n",
      "RUN  0 , total integrated cost =  17550.672597317665\n",
      "Gradient descend method:  None\n"
     ]
    },
    {
     "name": "stderr",
     "output_type": "stream",
     "text": [
      "ERROR:root:Problem in initial value trasfer\n"
     ]
    },
    {
     "name": "stdout",
     "output_type": "stream",
     "text": [
      "RUN  1 , total integrated cost =  17550.672597317665\n",
      "Control only changes marginally.\n",
      "RUN  1 , total integrated cost =  17550.672597317665\n",
      "Improved over  1  iterations in  0.3830952999999795  seconds by  0.0  percent.\n",
      "Problem in initial value trasfer:  Vmean_exc -56.690577805899736 -56.6905806073913\n",
      "converged for  8\n",
      "-------  10 0.4250000000000001 0.42500000000000016\n",
      "weight =  3311.0503909909726\n",
      "set cost params:  1.0 0.0 3311.0503909909726\n",
      "interpolate adjoint :  True True True\n",
      "RUN  0 , total integrated cost =  9108.705488440217\n",
      "Gradient descend method:  None\n"
     ]
    },
    {
     "name": "stderr",
     "output_type": "stream",
     "text": [
      "ERROR:root:Problem in initial value trasfer\n"
     ]
    },
    {
     "name": "stdout",
     "output_type": "stream",
     "text": [
      "RUN  1 , total integrated cost =  9108.705488440217\n",
      "Control only changes marginally.\n",
      "RUN  1 , total integrated cost =  9108.705488440217\n",
      "Improved over  1  iterations in  0.3620391999999981  seconds by  0.0  percent.\n",
      "Problem in initial value trasfer:  Vmean_exc -56.64369631588489 -56.64374227324168\n",
      "converged for  10\n",
      "-------  12 0.47500000000000014 0.42500000000000016\n",
      "weight =  15340.521656486815\n",
      "set cost params:  1.0 0.0 15340.521656486815\n",
      "interpolate adjoint :  True True True\n",
      "RUN  0 , total integrated cost =  17570.054830090157\n",
      "Gradient descend method:  None\n"
     ]
    },
    {
     "name": "stderr",
     "output_type": "stream",
     "text": [
      "ERROR:root:Problem in initial value trasfer\n"
     ]
    },
    {
     "name": "stdout",
     "output_type": "stream",
     "text": [
      "RUN  1 , total integrated cost =  17570.054830090157\n",
      "Control only changes marginally.\n",
      "RUN  1 , total integrated cost =  17570.054830090157\n",
      "Improved over  1  iterations in  0.3801606000000106  seconds by  0.0  percent.\n",
      "Problem in initial value trasfer:  Vmean_exc -56.689474650316114 -56.68947729243195\n",
      "converged for  12\n",
      "-------  14 0.4250000000000001 0.4500000000000002\n",
      "weight =  2495.6520068107193\n",
      "set cost params:  1.0 0.0 2495.6520068107193\n",
      "interpolate adjoint :  True True True\n",
      "RUN  0 , total integrated cost =  8792.652372228806\n",
      "Gradient descend method:  None\n"
     ]
    },
    {
     "name": "stderr",
     "output_type": "stream",
     "text": [
      "ERROR:root:Problem in initial value trasfer\n"
     ]
    },
    {
     "name": "stdout",
     "output_type": "stream",
     "text": [
      "RUN  1 , total integrated cost =  8792.652372228806\n",
      "Control only changes marginally.\n",
      "RUN  1 , total integrated cost =  8792.652372228806\n",
      "Improved over  1  iterations in  0.4549061000000165  seconds by  0.0  percent.\n",
      "Problem in initial value trasfer:  Vmean_exc -56.641883581168734 -56.641918603800605\n",
      "converged for  14\n",
      "-------  16 0.47500000000000014 0.4500000000000002\n",
      "weight =  8973.205250018676\n",
      "set cost params:  1.0 0.0 8973.205250018676\n",
      "interpolate adjoint :  True True True\n",
      "RUN  0 , total integrated cost =  17338.965650538285\n",
      "Gradient descend method:  None\n"
     ]
    },
    {
     "name": "stderr",
     "output_type": "stream",
     "text": [
      "ERROR:root:Problem in initial value trasfer\n"
     ]
    },
    {
     "name": "stdout",
     "output_type": "stream",
     "text": [
      "RUN  1 , total integrated cost =  17338.965650538285\n",
      "Control only changes marginally.\n",
      "RUN  1 , total integrated cost =  17338.965650538285\n",
      "Improved over  1  iterations in  0.4550380999999959  seconds by  0.0  percent.\n",
      "Problem in initial value trasfer:  Vmean_exc -56.68841931779417 -56.68842230399403\n",
      "converged for  16\n",
      "-------  18 0.4000000000000001 0.4750000000000002\n",
      "weight =  735.5601320228602\n",
      "set cost params:  1.0 0.0 735.5601320228602\n",
      "interpolate adjoint :  True True True\n",
      "RUN  0 , total integrated cost =  3666.1750494144862\n",
      "Gradient descend method:  None\n"
     ]
    },
    {
     "name": "stderr",
     "output_type": "stream",
     "text": [
      "ERROR:root:Problem in initial value trasfer\n"
     ]
    },
    {
     "name": "stdout",
     "output_type": "stream",
     "text": [
      "RUN  1 , total integrated cost =  3666.1750494144862\n",
      "Control only changes marginally.\n",
      "RUN  1 , total integrated cost =  3666.1750494144862\n",
      "Improved over  1  iterations in  0.33532989999997653  seconds by  0.0  percent.\n",
      "Problem in initial value trasfer:  Vmean_exc -56.64003034328377 -56.64000781278161\n",
      "converged for  18\n",
      "-------  20 0.4500000000000001 0.4750000000000002\n",
      "weight =  3514.0456562958484\n",
      "set cost params:  1.0 0.0 3514.0456562958484\n",
      "interpolate adjoint :  True True True\n",
      "RUN  0 , total integrated cost =  12734.492566630535\n",
      "Gradient descend method:  None\n"
     ]
    },
    {
     "name": "stderr",
     "output_type": "stream",
     "text": [
      "ERROR:root:Problem in initial value trasfer\n"
     ]
    },
    {
     "name": "stdout",
     "output_type": "stream",
     "text": [
      "RUN  1 , total integrated cost =  12734.492566630535\n",
      "Control only changes marginally.\n",
      "RUN  1 , total integrated cost =  12734.492566630535\n",
      "Improved over  1  iterations in  0.32470850000001406  seconds by  0.0  percent.\n",
      "Problem in initial value trasfer:  Vmean_exc -56.668329572243344 -56.66834633913388\n",
      "converged for  20\n",
      "-------  22 0.5000000000000002 0.4750000000000002\n",
      "weight =  10924.669766539302\n",
      "set cost params:  1.0 0.0 10924.669766539302\n",
      "interpolate adjoint :  True True True\n",
      "RUN  0 , total integrated cost =  21563.203780016152\n",
      "Gradient descend method:  None\n"
     ]
    },
    {
     "name": "stderr",
     "output_type": "stream",
     "text": [
      "ERROR:root:Problem in initial value trasfer\n"
     ]
    },
    {
     "name": "stdout",
     "output_type": "stream",
     "text": [
      "RUN  1 , total integrated cost =  21563.203780016152\n",
      "Control only changes marginally.\n",
      "RUN  1 , total integrated cost =  21563.203780016152\n",
      "Improved over  1  iterations in  0.3974284999999895  seconds by  0.0  percent.\n",
      "Problem in initial value trasfer:  Vmean_exc -56.69835996911231 -56.69836095902131\n",
      "converged for  22\n",
      "-------  24 0.4000000000000001 0.5000000000000002\n",
      "weight =  513.4056616419334\n",
      "set cost params:  1.0 0.0 513.4056616419334\n",
      "interpolate adjoint :  True True True\n",
      "RUN  0 , total integrated cost =  2975.1866307933383\n",
      "Gradient descend method:  None\n"
     ]
    },
    {
     "name": "stderr",
     "output_type": "stream",
     "text": [
      "ERROR:root:Problem in initial value trasfer\n"
     ]
    },
    {
     "name": "stdout",
     "output_type": "stream",
     "text": [
      "RUN  1 , total integrated cost =  2975.1866307933383\n",
      "Control only changes marginally.\n",
      "RUN  1 , total integrated cost =  2975.1866307933383\n",
      "Improved over  1  iterations in  0.3925253999999825  seconds by  0.0  percent.\n",
      "Problem in initial value trasfer:  Vmean_exc -56.660524320190824 -56.66051384564873\n",
      "converged for  24\n",
      "-------  26 0.4500000000000001 0.5000000000000002\n",
      "weight =  2815.37928283255\n",
      "set cost params:  1.0 0.0 2815.37928283255\n",
      "interpolate adjoint :  True True True\n",
      "RUN  0 , total integrated cost =  12475.253504102446\n",
      "Gradient descend method:  None\n"
     ]
    },
    {
     "name": "stderr",
     "output_type": "stream",
     "text": [
      "ERROR:root:Problem in initial value trasfer\n"
     ]
    },
    {
     "name": "stdout",
     "output_type": "stream",
     "text": [
      "RUN  1 , total integrated cost =  12475.253504102446\n",
      "Control only changes marginally.\n",
      "RUN  1 , total integrated cost =  12475.253504102446\n",
      "Improved over  1  iterations in  0.4830434000000139  seconds by  0.0  percent.\n",
      "Problem in initial value trasfer:  Vmean_exc -56.66683199605681 -56.66684843550554\n",
      "converged for  26\n",
      "-------  28 0.5000000000000002 0.5000000000000002\n",
      "weight =  7609.262986608585\n",
      "set cost params:  1.0 0.0 7609.262986608585\n",
      "interpolate adjoint :  True True True\n",
      "RUN  0 , total integrated cost =  21310.2922095222\n",
      "Gradient descend method:  None\n"
     ]
    },
    {
     "name": "stderr",
     "output_type": "stream",
     "text": [
      "ERROR:root:Problem in initial value trasfer\n"
     ]
    },
    {
     "name": "stdout",
     "output_type": "stream",
     "text": [
      "RUN  1 , total integrated cost =  21310.2922095222\n",
      "Control only changes marginally.\n",
      "RUN  1 , total integrated cost =  21310.2922095222\n",
      "Improved over  1  iterations in  0.5535772000000065  seconds by  0.0  percent.\n",
      "Problem in initial value trasfer:  Vmean_exc -56.697827734373206 -56.69782858359614\n",
      "converged for  28\n",
      "-------  30 0.4250000000000001 0.5250000000000002\n",
      "weight =  1370.835164619997\n",
      "set cost params:  1.0 0.0 1370.835164619997\n",
      "interpolate adjoint :  True True True\n",
      "RUN  0 , total integrated cost =  7972.501383074911\n",
      "Gradient descend method:  None\n"
     ]
    },
    {
     "name": "stderr",
     "output_type": "stream",
     "text": [
      "ERROR:root:Problem in initial value trasfer\n"
     ]
    },
    {
     "name": "stdout",
     "output_type": "stream",
     "text": [
      "RUN  1 , total integrated cost =  7972.501383074911\n",
      "Control only changes marginally.\n",
      "RUN  1 , total integrated cost =  7972.501383074911\n",
      "Improved over  1  iterations in  0.3812912999999867  seconds by  0.0  percent.\n",
      "Problem in initial value trasfer:  Vmean_exc -56.636716159026804 -56.636732046377944\n",
      "converged for  30\n",
      "-------  32 0.47500000000000014 0.5250000000000002\n",
      "weight =  3711.6671072857607\n",
      "set cost params:  1.0 0.0 3711.6671072857607\n",
      "interpolate adjoint :  True True True\n",
      "RUN  0 , total integrated cost =  16563.755760748496\n",
      "Gradient descend method:  None\n"
     ]
    },
    {
     "name": "stderr",
     "output_type": "stream",
     "text": [
      "ERROR:root:Problem in initial value trasfer\n"
     ]
    },
    {
     "name": "stdout",
     "output_type": "stream",
     "text": [
      "RUN  1 , total integrated cost =  16563.755760748496\n",
      "Control only changes marginally.\n",
      "RUN  1 , total integrated cost =  16563.755760748496\n",
      "Improved over  1  iterations in  0.443613699999986  seconds by  0.0  percent.\n",
      "Problem in initial value trasfer:  Vmean_exc -56.68548287702932 -56.68548886486611\n",
      "converged for  32\n",
      "-------  34 0.5250000000000001 0.5250000000000002\n",
      "weight =  9424.884791085748\n",
      "set cost params:  1.0 0.0 9424.884791085748\n",
      "interpolate adjoint :  True True True\n",
      "RUN  0 , total integrated cost =  25756.957443464955\n",
      "Gradient descend method:  None\n"
     ]
    },
    {
     "name": "stderr",
     "output_type": "stream",
     "text": [
      "ERROR:root:Problem in initial value trasfer\n"
     ]
    },
    {
     "name": "stdout",
     "output_type": "stream",
     "text": [
      "RUN  1 , total integrated cost =  25756.957443464955\n",
      "Control only changes marginally.\n",
      "RUN  1 , total integrated cost =  25756.957443464955\n",
      "Improved over  1  iterations in  0.4693345000000022  seconds by  0.0  percent.\n",
      "Problem in initial value trasfer:  Vmean_exc -56.70306585604258 -56.703066652727415\n",
      "no convergence\n",
      "-------  36 0.4250000000000001 0.5500000000000003\n",
      "weight =  1160.3130686636462\n",
      "set cost params:  1.0 0.0 1160.3130686636462\n",
      "interpolate adjoint :  True True True\n",
      "RUN  0 , total integrated cost =  7735.00142774919\n",
      "Gradient descend method:  None\n"
     ]
    },
    {
     "name": "stderr",
     "output_type": "stream",
     "text": [
      "ERROR:root:Problem in initial value trasfer\n"
     ]
    },
    {
     "name": "stdout",
     "output_type": "stream",
     "text": [
      "RUN  1 , total integrated cost =  7735.00142774919\n",
      "Control only changes marginally.\n",
      "RUN  1 , total integrated cost =  7735.00142774919\n",
      "Improved over  1  iterations in  0.4378544000000204  seconds by  0.0  percent.\n",
      "Problem in initial value trasfer:  Vmean_exc -56.63472920481226 -56.634747039299135\n",
      "converged for  36\n",
      "-------  38 0.47500000000000014 0.5500000000000003\n",
      "weight =  3146.444995923379\n",
      "set cost params:  1.0 0.0 3146.444995923379\n",
      "interpolate adjoint :  True True True\n",
      "RUN  0 , total integrated cost =  16339.435211269765\n",
      "Gradient descend method:  None\n"
     ]
    },
    {
     "name": "stderr",
     "output_type": "stream",
     "text": [
      "ERROR:root:Problem in initial value trasfer\n"
     ]
    },
    {
     "name": "stdout",
     "output_type": "stream",
     "text": [
      "RUN  1 , total integrated cost =  16339.435211269765\n",
      "Control only changes marginally.\n",
      "RUN  1 , total integrated cost =  16339.435211269765\n",
      "Improved over  1  iterations in  0.35770579999999086  seconds by  0.0  percent.\n",
      "Problem in initial value trasfer:  Vmean_exc -56.684660363717256 -56.68466569897238\n",
      "converged for  38\n",
      "--------------- 2\n",
      "[[True, True], [True, False], [True, True], [True, True], [True, False], [True, True], [True, True], [True, True], [True, True], [True, True], [True, True], [True, True], [True, True], [True, True], [True, True], [True, True], [True, True], [False, False], [True, True], [True, True], [True, True], [True, True], [True, True], [True, True], [True, True], [True, True], [True, True], [True, True], [True, True], [True, True], [True, True], [True, True], [True, True], [True, True], [True, True], [True, True], [True, True], [True, True], [True, True], [True, True], [True, True], [True, True], [True, True], [True, True], [True, True], [True, True], [True, True], [True, True], [True, True], [True, True], [True, True], [True, True], [True, True], [True, True], [True, True], [True, True], [True, True], [True, True], [True, True], [True, True], [True, True], [True, True], [True, True], [True, True], [True, True], [True, True], [True, True], [True, True], [True, True], [True, True], [True, True], [True, True], [True, True], [True, True]]\n",
      "-------  0 0.4000000000000001 0.3500000000000001\n",
      "-------  2 0.4000000000000001 0.3750000000000001\n",
      "weight =  3360.4768393109584\n",
      "set cost params:  1.0 0.0 3360.4768393109584\n",
      "interpolate adjoint :  True True True\n",
      "RUN  0 , total integrated cost =  5537.060061461096\n",
      "Gradient descend method:  None\n"
     ]
    },
    {
     "name": "stderr",
     "output_type": "stream",
     "text": [
      "ERROR:root:Problem in initial value trasfer\n"
     ]
    },
    {
     "name": "stdout",
     "output_type": "stream",
     "text": [
      "RUN  1 , total integrated cost =  5537.060061461096\n",
      "Control only changes marginally.\n",
      "RUN  1 , total integrated cost =  5537.060061461096\n",
      "Improved over  1  iterations in  0.34209189999998557  seconds by  0.0  percent.\n",
      "Problem in initial value trasfer:  Vmean_exc -56.62520149438092 -56.625191030695746\n",
      "no convergence\n",
      "-------  4 0.4500000000000001 0.3750000000000001\n",
      "-------  6 0.4250000000000001 0.40000000000000013\n",
      "-------  8 0.47500000000000014 0.40000000000000013\n",
      "weight =  36931.2408930723\n",
      "set cost params:  1.0 0.0 36931.2408930723\n",
      "interpolate adjoint :  True True True\n",
      "RUN  0 , total integrated cost =  17550.67259737443\n",
      "Gradient descend method:  None\n"
     ]
    },
    {
     "name": "stderr",
     "output_type": "stream",
     "text": [
      "ERROR:root:Problem in initial value trasfer\n"
     ]
    },
    {
     "name": "stdout",
     "output_type": "stream",
     "text": [
      "RUN  1 , total integrated cost =  17550.67259737443\n",
      "Control only changes marginally.\n",
      "RUN  1 , total integrated cost =  17550.67259737443\n",
      "Improved over  1  iterations in  0.3410853999999972  seconds by  0.0  percent.\n",
      "Problem in initial value trasfer:  Vmean_exc -56.690577805899736 -56.6905806073913\n",
      "converged for  8\n",
      "-------  10 0.4250000000000001 0.42500000000000016\n",
      "-------  12 0.47500000000000014 0.42500000000000016\n",
      "-------  14 0.4250000000000001 0.4500000000000002\n",
      "-------  16 0.47500000000000014 0.4500000000000002\n",
      "-------  18 0.4000000000000001 0.4750000000000002\n",
      "-------  20 0.4500000000000001 0.4750000000000002\n",
      "-------  22 0.5000000000000002 0.4750000000000002\n",
      "-------  24 0.4000000000000001 0.5000000000000002\n",
      "-------  26 0.4500000000000001 0.5000000000000002\n",
      "-------  28 0.5000000000000002 0.5000000000000002\n",
      "-------  30 0.4250000000000001 0.5250000000000002\n",
      "-------  32 0.47500000000000014 0.5250000000000002\n",
      "-------  34 0.5250000000000001 0.5250000000000002\n",
      "weight =  9424.884791086353\n",
      "set cost params:  1.0 0.0 9424.884791086353\n",
      "interpolate adjoint :  True True True\n",
      "RUN  0 , total integrated cost =  25756.957443466592\n",
      "Gradient descend method:  None\n"
     ]
    },
    {
     "name": "stderr",
     "output_type": "stream",
     "text": [
      "ERROR:root:Problem in initial value trasfer\n"
     ]
    },
    {
     "name": "stdout",
     "output_type": "stream",
     "text": [
      "RUN  1 , total integrated cost =  25756.957443466592\n",
      "Control only changes marginally.\n",
      "RUN  1 , total integrated cost =  25756.957443466592\n",
      "Improved over  1  iterations in  0.45666389999999524  seconds by  0.0  percent.\n",
      "Problem in initial value trasfer:  Vmean_exc -56.70306585604258 -56.703066652727415\n",
      "converged for  34\n",
      "-------  36 0.4250000000000001 0.5500000000000003\n",
      "-------  38 0.47500000000000014 0.5500000000000003\n",
      "--------------- 3\n",
      "[[True, True], [True, False], [True, True], [True, True], [True, True], [True, True], [True, True], [True, True], [True, True], [True, True], [True, True], [True, True], [True, True], [True, True], [True, True], [True, True], [True, True], [True, False], [True, True], [True, True], [True, True], [True, True], [True, True], [True, True], [True, True], [True, True], [True, True], [True, True], [True, True], [True, True], [True, True], [True, True], [True, True], [True, True], [True, True], [True, True], [True, True], [True, True], [True, True], [True, True], [True, True], [True, True], [True, True], [True, True], [True, True], [True, True], [True, True], [True, True], [True, True], [True, True], [True, True], [True, True], [True, True], [True, True], [True, True], [True, True], [True, True], [True, True], [True, True], [True, True], [True, True], [True, True], [True, True], [True, True], [True, True], [True, True], [True, True], [True, True], [True, True], [True, True], [True, True], [True, True], [True, True], [True, True]]\n",
      "-------  0 0.4000000000000001 0.3500000000000001\n",
      "-------  2 0.4000000000000001 0.3750000000000001\n",
      "weight =  3360.4768393109584\n",
      "set cost params:  1.0 0.0 3360.4768393109584\n",
      "interpolate adjoint :  True True True\n",
      "RUN  0 , total integrated cost =  5537.060061461096\n",
      "Gradient descend method:  None\n"
     ]
    },
    {
     "name": "stderr",
     "output_type": "stream",
     "text": [
      "ERROR:root:Problem in initial value trasfer\n"
     ]
    },
    {
     "name": "stdout",
     "output_type": "stream",
     "text": [
      "RUN  1 , total integrated cost =  5537.060061461096\n",
      "Control only changes marginally.\n",
      "RUN  1 , total integrated cost =  5537.060061461096\n",
      "Improved over  1  iterations in  0.40993290000000115  seconds by  0.0  percent.\n",
      "Problem in initial value trasfer:  Vmean_exc -56.62520149438092 -56.625191030695746\n",
      "converged for  2\n",
      "-------  4 0.4500000000000001 0.3750000000000001\n",
      "-------  6 0.4250000000000001 0.40000000000000013\n",
      "-------  8 0.47500000000000014 0.40000000000000013\n",
      "-------  10 0.4250000000000001 0.42500000000000016\n",
      "-------  12 0.47500000000000014 0.42500000000000016\n",
      "-------  14 0.4250000000000001 0.4500000000000002\n",
      "-------  16 0.47500000000000014 0.4500000000000002\n",
      "-------  18 0.4000000000000001 0.4750000000000002\n",
      "-------  20 0.4500000000000001 0.4750000000000002\n",
      "-------  22 0.5000000000000002 0.4750000000000002\n",
      "-------  24 0.4000000000000001 0.5000000000000002\n",
      "-------  26 0.4500000000000001 0.5000000000000002\n",
      "-------  28 0.5000000000000002 0.5000000000000002\n",
      "-------  30 0.4250000000000001 0.5250000000000002\n",
      "-------  32 0.47500000000000014 0.5250000000000002\n",
      "-------  34 0.5250000000000001 0.5250000000000002\n",
      "weight =  9424.884791086359\n",
      "set cost params:  1.0 0.0 9424.884791086359\n",
      "interpolate adjoint :  True True True\n",
      "RUN  0 , total integrated cost =  25756.957443466606\n",
      "Gradient descend method:  None\n"
     ]
    },
    {
     "name": "stderr",
     "output_type": "stream",
     "text": [
      "ERROR:root:Problem in initial value trasfer\n"
     ]
    },
    {
     "name": "stdout",
     "output_type": "stream",
     "text": [
      "RUN  1 , total integrated cost =  25756.957443466606\n",
      "Control only changes marginally.\n",
      "RUN  1 , total integrated cost =  25756.957443466606\n",
      "Improved over  1  iterations in  0.425011000000012  seconds by  0.0  percent.\n",
      "Problem in initial value trasfer:  Vmean_exc -56.70306585604258 -56.703066652727415\n",
      "converged for  34\n",
      "-------  36 0.4250000000000001 0.5500000000000003\n",
      "-------  38 0.47500000000000014 0.5500000000000003\n",
      "--------------- 4\n",
      "[[True, True], [True, True], [True, True], [True, True], [True, True], [True, True], [True, True], [True, True], [True, True], [True, True], [True, True], [True, True], [True, True], [True, True], [True, True], [True, True], [True, True], [True, True], [True, True], [True, True], [True, True], [True, True], [True, True], [True, True], [True, True], [True, True], [True, True], [True, True], [True, True], [True, True], [True, True], [True, True], [True, True], [True, True], [True, True], [True, True], [True, True], [True, True], [True, True], [True, True], [True, True], [True, True], [True, True], [True, True], [True, True], [True, True], [True, True], [True, True], [True, True], [True, True], [True, True], [True, True], [True, True], [True, True], [True, True], [True, True], [True, True], [True, True], [True, True], [True, True], [True, True], [True, True], [True, True], [True, True], [True, True], [True, True], [True, True], [True, True], [True, True], [True, True], [True, True], [True, True], [True, True], [True, True]]\n",
      "full convergence\n"
     ]
    }
   ],
   "source": [
    "factor_iteration = 20\n",
    "conv_0 = [[False]*2] * len(exc)\n",
    "full_converge = False\n",
    "\n",
    "for i in range(len(conv_0)):\n",
    "    if i not in i_range_0:\n",
    "        conv_0[i] = [True, True]\n",
    "\n",
    "counter = 0\n",
    "\n",
    "while full_converge == False:\n",
    "    print('---------------', counter)\n",
    "    \n",
    "    if counter > 20:\n",
    "        break\n",
    "    \n",
    "    print(conv_0[::i_stepsize])\n",
    "    full_converge = True\n",
    "    \n",
    "    for conv in conv_0[::i_stepsize]:\n",
    "        if not conv[0]:\n",
    "            full_converge = False\n",
    "            break\n",
    "        if not conv[1]:\n",
    "            full_converge = False\n",
    "            break\n",
    "    \n",
    "    if full_converge:\n",
    "        print(\"full convergence\")\n",
    "        break\n",
    "        \n",
    "    counter += 1\n",
    "    \n",
    "    for i in i_range_0:\n",
    "        print(\"------- \", i, exc[i], inh[i])\n",
    "        \n",
    "        if conv_0[i] == [True, True]:\n",
    "            continue\n",
    "            \n",
    "        aln.params.ext_exc_current = exc[i] * 5.\n",
    "        aln.params.ext_inh_current = inh[i] * 5.\n",
    "\n",
    "    # exc and inh control current \n",
    "\n",
    "        setinit(initVars[i], aln)\n",
    "        aln.params.duration = dur\n",
    "\n",
    "        if not type(bestControl_0[i]) == type(None):\n",
    "            control0 = bestControl_0[i][:,:,n_pre-1:-n_post+1]\n",
    "        else:\n",
    "            control0 = bestControl_init[i][:,:,n_pre-1:-n_post+1].copy()\n",
    "            weights_0[i] = weights_init[i]\n",
    "            cost_0[i] = cost_init[i]\n",
    "\n",
    "        cgv = None\n",
    "        max_it = 500 * factor_iteration\n",
    "\n",
    "        j = 1\n",
    "        while cost_0[i][-j] == 0.:\n",
    "            j += 1\n",
    "\n",
    "        weight_ = (factor_we * weights_0[i][1] * cost_uncontrolled[i] / cost_0[i][-j]\n",
    "                           + factor_ws * weights_0[i][2] * cost_uncontrolled[i] / cost_0[i][-j]) - 1\n",
    "        print(\"weight = \", weight_)\n",
    "        cost.setParams(1.0, weight_ * factor_we, weight_ * factor_ws)\n",
    "\n",
    "        weights_0[i] = cost.getParams()\n",
    "\n",
    "        bestControl_0[i], bestState_0[i], cost_0[i], runtime_0[i], grad_0[i], phi_0[i], costnode_0[i] = aln.A1(\n",
    "            control0, target[i], c_scheme, u_mat, u_scheme, max_iteration_ = max_it, tolerance_ = tol,\n",
    "            startStep_ = start_step, max_control_ = max_cntrl, min_control_ = min_cntrl, t_sim_ = dur,\n",
    "            t_sim_pre_ = dur_pre, t_sim_post_ = dur_post, CGVar = cgv, control_variables_ = cntrl_vars_0,\n",
    "            prec_variables_ = prec_vars, transition_time_ = trans_time)\n",
    "\n",
    "        with open(final_file,'wb') as f:\n",
    "            pickle.dump([bestControl_0, bestState_0, cost_0, runtime_0, grad_0, phi_0,\n",
    "                     costnode_0, weights_0], f)\n",
    "            \n",
    "        if j == cost_0[i].shape[0]-1:\n",
    "            print(\"converged for \", i)\n",
    "            if conv_0[i][0]:\n",
    "                conv_0[i] = [True, True]\n",
    "            else:\n",
    "                conv_0[i] = [True, False]\n",
    "            continue\n",
    "    \n",
    "        print(\"no convergence\")"
   ]
  },
  {
   "cell_type": "code",
   "execution_count": 20,
   "metadata": {
    "scrolled": true
   },
   "outputs": [
    {
     "data": {
      "text/plain": [
       "'\\nfor i in i_range_0:\\n    \\n    aln.params.ext_exc_current = exc[i] * 5.\\n    aln.params.ext_inh_current = inh[i] * 5.\\n\\n    plotFunc.plot_control_current(aln, [bestControl_init[i], bestControl_0[i]],\\n        [costnode_init[i], costnode_0[i]], [weights_init[i], weights_0[i]], dur,\\n        dur_pre, dur_post, initVars[i], target[i], \\'\\', filename_ = \\'\\', transition_time_ = trans_time,\\n        labels_ = [\"init\", \"sparse control\" + str(i)], print_cost_ = False)\\n'"
      ]
     },
     "execution_count": 20,
     "metadata": {},
     "output_type": "execute_result"
    }
   ],
   "source": [
    "\"\"\"\n",
    "for i in i_range_0:\n",
    "    \n",
    "    aln.params.ext_exc_current = exc[i] * 5.\n",
    "    aln.params.ext_inh_current = inh[i] * 5.\n",
    "\n",
    "    plotFunc.plot_control_current(aln, [bestControl_init[i], bestControl_0[i]],\n",
    "        [costnode_init[i], costnode_0[i]], [weights_init[i], weights_0[i]], dur,\n",
    "        dur_pre, dur_post, initVars[i], target[i], '', filename_ = '', transition_time_ = trans_time,\n",
    "        labels_ = [\"init\", \"sparse control\" + str(i)], print_cost_ = False)\n",
    "\"\"\""
   ]
  },
  {
   "cell_type": "code",
   "execution_count": 21,
   "metadata": {},
   "outputs": [
    {
     "name": "stdout",
     "output_type": "stream",
     "text": [
      "file found\n"
     ]
    }
   ],
   "source": [
    "if os.path.isfile(final_file_1) :\n",
    "    print(\"file found\")\n",
    "    \n",
    "    with open(final_file_1,'rb') as f:\n",
    "        load_array = pickle.load(f)\n",
    "\n",
    "    bestControl_1 = load_array[0]\n",
    "    bestState_1 = load_array[1]\n",
    "    cost_1 = load_array[2]\n",
    "    runtime_1 = load_array[3]\n",
    "    grad_1 = load_array[4]\n",
    "    phi_1 = load_array[5]\n",
    "    costnode_1 = load_array[6]\n",
    "    weights_1 = load_array[7]"
   ]
  },
  {
   "cell_type": "code",
   "execution_count": 22,
   "metadata": {
    "scrolled": true
   },
   "outputs": [
    {
     "name": "stderr",
     "output_type": "stream",
     "text": [
      "ERROR:root:Problem in initial value trasfer\n"
     ]
    },
    {
     "name": "stdout",
     "output_type": "stream",
     "text": [
      "--------------- 0\n",
      "[[False, False], [False, False], [False, False], [False, False], [False, False], [False, False], [False, False], [False, False], [False, False], [False, False], [False, False], [False, False], [False, False], [False, False], [False, False], [False, False], [False, False], [False, False], [False, False], [False, False], [True, True], [True, True], [True, True], [True, True], [True, True], [True, True], [True, True], [True, True], [True, True], [True, True], [True, True], [True, True], [True, True], [True, True], [True, True], [True, True], [True, True], [True, True], [True, True], [True, True], [True, True], [True, True], [True, True], [True, True], [True, True], [True, True], [True, True], [True, True], [True, True], [True, True], [True, True], [True, True], [True, True], [True, True], [True, True], [True, True], [True, True], [True, True], [True, True], [True, True], [True, True], [True, True], [True, True], [True, True], [True, True], [True, True], [True, True], [True, True], [True, True], [True, True], [True, True], [True, True], [True, True], [True, True]]\n",
      "-------  0 0.4000000000000001 0.3500000000000001\n",
      "set cost params:  1.0 0.0 1.0\n",
      "interpolate adjoint :  True True True\n",
      "RUN  0 , total integrated cost =  1.1056489600735429\n",
      "Gradient descend method:  None\n",
      "RUN  1 , total integrated cost =  1.1056489600735429\n",
      "Control only changes marginally.\n",
      "RUN  1 , total integrated cost =  1.1056489600735429\n",
      "Improved over  1  iterations in  0.10711609999998473  seconds by  0.0  percent.\n",
      "Problem in initial value trasfer:  Vmean_exc -56.62762194651364 -56.62762189575834\n",
      "converged for  0\n",
      "-------  2 0.4000000000000001 0.3750000000000001\n",
      "set cost params:  1.0 0.0 1.0\n",
      "interpolate adjoint :  True True True\n",
      "RUN  0 , total integrated cost =  97.61717017241372\n",
      "Gradient descend method:  None\n",
      "RUN  1 , total integrated cost =  1.8590419508010945\n",
      "RUN  2 , total integrated cost =  1.854381114693459\n",
      "RUN  3 , total integrated cost =  1.8525041438234597\n",
      "RUN  4 , total integrated cost =  1.8350130105851155\n",
      "RUN  5 , total integrated cost =  1.8290265590869863\n",
      "RUN  6 , total integrated cost =  1.8258503539770756\n",
      "RUN  7 , total integrated cost =  1.823810861126116\n",
      "RUN  8 , total integrated cost =  1.8236231585697071\n",
      "RUN  9 , total integrated cost =  1.8111848268530772\n",
      "RUN  10 , total integrated cost =  1.8043584292095907\n",
      "RUN  11 , total integrated cost =  1.8043342912745906\n",
      "RUN  12 , total integrated cost =  1.8027986242884217\n",
      "RUN  13 , total integrated cost =  1.8024288184482247\n",
      "RUN  14 , total integrated cost =  1.8024085969252592\n",
      "RUN  15 , total integrated cost =  1.8024031783044883\n",
      "RUN  16 , total integrated cost =  1.802387215433994\n",
      "RUN  17 , total integrated cost =  1.8019592179923198\n",
      "RUN  18 , total integrated cost =  1.801860271607169\n",
      "RUN  19 , total integrated cost =  1.801858310624569\n",
      "RUN  20 , total integrated cost =  1.801858136561486\n",
      "RUN  30 , total integrated cost =  1.8018580956669723\n",
      "Control only changes marginally.\n",
      "RUN  37 , total integrated cost =  1.801858095666907\n",
      "Improved over  37  iterations in  1.8501183999999853  seconds by  98.15415864597958  percent.\n",
      "no convergence\n",
      "-------  4 0.4500000000000001 0.3750000000000001\n",
      "set cost params:  1.0 0.0 1.0\n",
      "interpolate adjoint :  True True True\n",
      "RUN  0 , total integrated cost =  0.5927285424041204\n",
      "Gradient descend method:  None\n",
      "RUN  1 , total integrated cost =  0.5927285424041204\n",
      "Control only changes marginally.\n",
      "RUN  1 , total integrated cost =  0.5927285424041204\n",
      "Improved over  1  iterations in  0.12576799999999366  seconds by  0.0  percent.\n",
      "converged for  4\n",
      "-------  6 0.4250000000000001 0.40000000000000013\n",
      "set cost params:  1.0 0.0 1.0\n",
      "interpolate adjoint :  True True True\n",
      "RUN  0 , total integrated cost =  283.9840284572263\n",
      "Gradient descend method:  None\n",
      "RUN  1 , total integrated cost =  2.2126426322748767\n",
      "RUN  2 , total integrated cost =  2.2076794342419293\n",
      "RUN  3 , total integrated cost =  2.1965503634268235\n",
      "RUN  4 , total integrated cost =  2.1877460745737234\n",
      "RUN  5 , total integrated cost =  2.186943764714489\n",
      "RUN  6 , total integrated cost =  2.1750915262003696\n",
      "RUN  7 , total integrated cost =  2.170131914513953\n",
      "RUN  8 , total integrated cost =  2.169628518352756\n",
      "RUN  9 , total integrated cost =  2.1667210347780848\n",
      "RUN  10 , total integrated cost =  2.1655156583792183\n",
      "RUN  11 , total integrated cost =  2.1653019942014033\n",
      "RUN  12 , total integrated cost =  2.162697201384153\n",
      "RUN  13 , total integrated cost =  2.1615432243214308\n",
      "RUN  14 , total integrated cost =  2.161423431098792\n",
      "RUN  15 , total integrated cost =  2.1455197891507094\n",
      "RUN  16 , total integrated cost =  2.140123461318026\n",
      "RUN  17 , total integrated cost =  2.1401199277643848\n",
      "RUN  18 , total integrated cost =  2.140119257211508\n",
      "RUN  19 , total integrated cost =  2.1401189775662046\n",
      "RUN  20 , total integrated cost =  2.1401188254367893\n",
      "RUN  30 , total integrated cost =  2.13786546574398\n",
      "RUN  40 , total integrated cost =  2.1378639146091736\n",
      "RUN  50 , total integrated cost =  2.137863909777399\n",
      "RUN  60 , total integrated cost =  2.1378639095258882\n",
      "RUN  70 , total integrated cost =  2.1378639095058136\n",
      "RUN  80 , total integrated cost =  2.1378639095039724\n",
      "RUN  90 , total integrated cost =  2.1378639095037935\n",
      "Control only changes marginally.\n",
      "RUN  92 , total integrated cost =  2.1378639095037917\n",
      "Improved over  92  iterations in  4.662777300000016  seconds by  99.2471886813079  percent.\n"
     ]
    },
    {
     "name": "stderr",
     "output_type": "stream",
     "text": [
      "ERROR:root:Problem in initial value trasfer\n"
     ]
    },
    {
     "name": "stdout",
     "output_type": "stream",
     "text": [
      "Problem in initial value trasfer:  Vmean_exc -56.649097156931944 -56.649097230531005\n",
      "no convergence\n",
      "-------  8 0.47500000000000014 0.40000000000000013\n",
      "set cost params:  1.0 0.0 1.0\n",
      "interpolate adjoint :  True True True\n",
      "RUN  0 , total integrated cost =  0.5340814545430526\n",
      "Gradient descend method:  None\n",
      "RUN  1 , total integrated cost =  0.5340814545430526\n",
      "Control only changes marginally.\n",
      "RUN  1 , total integrated cost =  0.5340814545430526\n",
      "Improved over  1  iterations in  0.12557780000000207  seconds by  0.0  percent.\n",
      "converged for  8\n",
      "-------  10 0.4250000000000001 0.42500000000000016\n",
      "set cost params:  1.0 0.0 1.0\n",
      "interpolate adjoint :  True True True\n",
      "RUN  0 , total integrated cost =  2.9671640477000554\n",
      "Gradient descend method:  None\n",
      "RUN  1 , total integrated cost =  2.9671640477000554\n",
      "Control only changes marginally.\n",
      "RUN  1 , total integrated cost =  2.9671640477000554\n",
      "Improved over  1  iterations in  0.11309029999998188  seconds by  0.0  percent.\n",
      "converged for  10\n",
      "-------  12 0.47500000000000014 0.42500000000000016\n",
      "set cost params:  1.0 0.0 1.0\n",
      "interpolate adjoint :  True True True\n",
      "RUN  0 , total integrated cost =  1.233081099161223\n",
      "Gradient descend method:  None\n",
      "RUN  1 , total integrated cost =  1.233081099161223\n",
      "Control only changes marginally.\n",
      "RUN  1 , total integrated cost =  1.233081099161223\n",
      "Improved over  1  iterations in  0.10331220000000485  seconds by  0.0  percent.\n",
      "converged for  12\n",
      "-------  14 0.4250000000000001 0.4500000000000002\n",
      "set cost params:  1.0 0.0 1.0\n",
      "interpolate adjoint :  True True True\n",
      "RUN  0 , total integrated cost =  157.12647936560353\n",
      "Gradient descend method:  None\n",
      "RUN  1 , total integrated cost =  3.7784310126636727\n",
      "RUN  2 , total integrated cost =  3.760572553649782\n",
      "RUN  3 , total integrated cost =  3.7567824191367207\n",
      "RUN  4 , total integrated cost =  3.7525877552647517\n",
      "RUN  5 , total integrated cost =  3.752312625855966\n",
      "RUN  6 , total integrated cost =  3.745791909985387\n",
      "RUN  7 , total integrated cost =  3.7428610480345523\n",
      "RUN  8 , total integrated cost =  3.7427972485706396\n",
      "RUN  9 , total integrated cost =  3.7377446860481376\n",
      "RUN  10 , total integrated cost =  3.7362445162872797\n",
      "RUN  11 , total integrated cost =  3.736242609214205\n",
      "RUN  12 , total integrated cost =  3.736241399830408\n",
      "RUN  13 , total integrated cost =  3.7362391684194383\n",
      "RUN  14 , total integrated cost =  3.7362152173105505\n",
      "RUN  15 , total integrated cost =  3.735893382753295\n",
      "RUN  16 , total integrated cost =  3.7358266166384455\n",
      "RUN  17 , total integrated cost =  3.7358243328725806\n",
      "RUN  18 , total integrated cost =  3.735823785901201\n",
      "RUN  19 , total integrated cost =  3.7358234733461124\n",
      "RUN  20 , total integrated cost =  3.735823128372494\n",
      "RUN  30 , total integrated cost =  3.7347181760290744\n"
     ]
    },
    {
     "name": "stderr",
     "output_type": "stream",
     "text": [
      "ERROR:root:Problem in initial value trasfer\n"
     ]
    },
    {
     "name": "stdout",
     "output_type": "stream",
     "text": [
      "Control only changes marginally.\n",
      "RUN  37 , total integrated cost =  3.7347181760057326\n",
      "Improved over  37  iterations in  1.6153731999999934  seconds by  97.62311343633192  percent.\n",
      "Problem in initial value trasfer:  Vmean_exc -56.64409622122468 -56.644096518456536\n",
      "no convergence\n",
      "-------  16 0.47500000000000014 0.4500000000000002\n",
      "set cost params:  1.0 0.0 1.0\n",
      "interpolate adjoint :  True True True\n",
      "RUN  0 , total integrated cost =  2.064842420029291\n",
      "Gradient descend method:  None\n",
      "RUN "
     ]
    },
    {
     "name": "stderr",
     "output_type": "stream",
     "text": [
      "ERROR:root:Problem in initial value trasfer\n"
     ]
    },
    {
     "name": "stdout",
     "output_type": "stream",
     "text": [
      " 1 , total integrated cost =  2.064842420029291\n",
      "Control only changes marginally.\n",
      "RUN  1 , total integrated cost =  2.064842420029291\n",
      "Improved over  1  iterations in  0.10039510000001428  seconds by  0.0  percent.\n",
      "Problem in initial value trasfer:  Vmean_exc -56.688520411464665 -56.68852038719867\n",
      "converged for  16\n",
      "-------  18 0.4000000000000001 0.4750000000000002\n",
      "set cost params:  1.0 0.0 1.0\n",
      "interpolate adjoint :  True True True\n",
      "RUN  0 , total integrated cost =  17.698924033088467\n",
      "Gradient descend method:  None\n",
      "RUN  1 , total integrated cost =  5.023491095451269\n",
      "RUN  2 , total integrated cost =  5.019293051715878\n",
      "RUN  3 , total integrated cost =  5.019293051715876\n",
      "RUN  4 , total integrated cost =  5.019293051715876\n",
      "Control only changes marginally.\n",
      "RUN  4 , total integrated cost =  5.019293051715876\n",
      "Improved over  4  iterations in  0.2963942000000088"
     ]
    },
    {
     "name": "stderr",
     "output_type": "stream",
     "text": [
      "ERROR:root:Problem in initial value trasfer\n"
     ]
    },
    {
     "name": "stdout",
     "output_type": "stream",
     "text": [
      "  seconds by  71.64068820041142  percent.\n",
      "Problem in initial value trasfer:  Vmean_exc -56.63350864178936 -56.63350913638687\n",
      "no convergence\n",
      "-------  20 0.4500000000000001 0.4750000000000002\n",
      "set cost params:  1.0 0.0 1.0\n",
      "interpolate adjoint :  True True True\n",
      "RUN  0 , total integrated cost =  3.9193369081268865\n",
      "Gradient descend method:  None\n",
      "RUN "
     ]
    },
    {
     "name": "stderr",
     "output_type": "stream",
     "text": [
      "ERROR:root:Problem in initial value trasfer\n"
     ]
    },
    {
     "name": "stdout",
     "output_type": "stream",
     "text": [
      " 1 , total integrated cost =  3.9193369081268865\n",
      "Control only changes marginally.\n",
      "RUN  1 , total integrated cost =  3.9193369081268865\n",
      "Improved over  1  iterations in  0.11532450000001404  seconds by  0.0  percent.\n",
      "Problem in initial value trasfer:  Vmean_exc -56.669061347529926 -56.66906153734876\n",
      "converged for  20\n",
      "-------  22 0.5000000000000002 0.4750000000000002\n",
      "set cost params:  1.0 0.0 1.0\n",
      "interpolate adjoint :  True True True\n",
      "RUN  0 , total integrated cost =  199.5523887408111\n",
      "Gradient descend method:  None\n",
      "RUN  1 , total integrated cost =  2.1341440777828256\n",
      "RUN  2 , total integrated cost =  2.133786046907872\n",
      "RUN  3 , total integrated cost =  2.1333046057148457\n",
      "RUN  4 , total integrated cost =  2.1309281019348205\n",
      "RUN  5 , total integrated cost =  2.1302863975884088\n",
      "RUN  6 , total integrated cost =  2.130155271890943\n",
      "RUN  7 , total integrated cost =  2.121951444152426\n",
      "RUN  8 , total integrated cost =  2.116756579670746\n",
      "RUN  9 , total integrated cost =  2.116712375397749\n",
      "RUN  10 , total integrated cost =  2.11670717589482\n",
      "RUN  11 , total integrated cost =  2.1167047463206425\n",
      "RUN  12 , total integrated cost =  2.116702230177047\n",
      "RUN  13 , total integrated cost =  2.1166946034937903\n",
      "RUN  14 , total integrated cost =  2.116573034160935\n",
      "RUN  15 , total integrated cost =  2.115631156793934\n",
      "RUN  16 , total integrated cost =  2.11550510968921\n",
      "RUN  17 , total integrated cost =  2.1154978603929457\n",
      "RUN  18 , total integrated cost =  2.1154959907646362\n",
      "RUN  19 , total integrated cost =  2.1154949976567856\n",
      "RUN  20 , total integrated cost =  2.115493967988443\n",
      "RUN  30 , total integrated cost =  2.1143394790097187\n",
      "RUN  40 , total integrated cost =  2.085181727961377\n",
      "RUN  50 , total integrated cost =  2.0808867682936176\n",
      "RUN  60 , total integrated cost =  2.067721240603441\n"
     ]
    },
    {
     "name": "stderr",
     "output_type": "stream",
     "text": [
      "ERROR:root:Problem in initial value trasfer\n"
     ]
    },
    {
     "name": "stdout",
     "output_type": "stream",
     "text": [
      "RUN  70 , total integrated cost =  2.067721240196278\n",
      "Control only changes marginally.\n",
      "RUN  70 , total integrated cost =  2.067721240196278\n",
      "Improved over  70  iterations in  3.364681300000001  seconds by  98.96382035151584  percent.\n",
      "Problem in initial value trasfer:  Vmean_exc -56.698390067015836 -56.69838994347105\n",
      "no convergence\n",
      "-------  24 0.4000000000000001 0.5000000000000002\n",
      "set cost params:  1.0 0.0 1.0\n",
      "interpolate adjoint :  True True True\n",
      "RUN  0 , total integrated cost =  5.81590726897515\n",
      "Gradient descend method:  None\n"
     ]
    },
    {
     "name": "stderr",
     "output_type": "stream",
     "text": [
      "ERROR:root:Problem in initial value trasfer\n"
     ]
    },
    {
     "name": "stdout",
     "output_type": "stream",
     "text": [
      "RUN  1 , total integrated cost =  5.81590726897515\n",
      "Control only changes marginally.\n",
      "RUN  1 , total integrated cost =  5.81590726897515\n",
      "Improved over  1  iterations in  0.12047860000001265  seconds by  0.0  percent.\n",
      "Problem in initial value trasfer:  Vmean_exc -56.65154653390053 -56.651547100924745\n",
      "converged for  24\n",
      "-------  26 0.4500000000000001 0.5000000000000002\n",
      "set cost params:  1.0 0.0 1.0\n",
      "interpolate adjoint :  True True True\n",
      "RUN  0 , total integrated cost =  178.5703112071586\n",
      "Gradient descend method:  None\n",
      "RUN  1 , total integrated cost =  4.833070294433867\n",
      "RUN  2 , total integrated cost =  4.824804074847933\n",
      "RUN  3 , total integrated cost =  4.821572650459734\n",
      "RUN  4 , total integrated cost =  4.811851803679936\n",
      "RUN  5 , total integrated cost =  4.801060939857545\n",
      "RUN  6 , total integrated cost =  4.800216922067751\n",
      "RUN  7 , total integrated cost =  4.740824961727882\n",
      "RUN  8 , total integrated cost =  4.738626217821794\n",
      "RUN  9 , total integrated cost =  4.738563591139187\n",
      "RUN  10 , total integrated cost =  4.738426275487405\n",
      "RUN  11 , total integrated cost =  4.7371157190532385\n",
      "RUN  12 , total integrated cost =  4.736751422875204\n",
      "RUN  13 , total integrated cost =  4.736720451268722\n",
      "RUN  14 , total integrated cost =  4.736633026400973\n",
      "RUN  15 , total integrated cost =  4.735344984336658\n",
      "RUN  16 , total integrated cost =  4.73495256316977\n",
      "RUN  17 , total integrated cost =  4.73493270128854\n",
      "RUN  18 , total integrated cost =  4.7349137845798355\n",
      "RUN  19 , total integrated cost =  4.734562864356336\n",
      "RUN  20 , total integrated cost =  4.733478443496034\n",
      "RUN  30 , total integrated cost =  4.730465843823473\n",
      "RUN  40 , total integrated cost =  4.730448178357089\n"
     ]
    },
    {
     "name": "stderr",
     "output_type": "stream",
     "text": [
      "ERROR:root:Problem in initial value trasfer\n"
     ]
    },
    {
     "name": "stdout",
     "output_type": "stream",
     "text": [
      "RUN  50 , total integrated cost =  4.722847907161824\n",
      "Control only changes marginally.\n",
      "RUN  50 , total integrated cost =  4.722847907161824\n",
      "Improved over  50  iterations in  2.389464199999992  seconds by  97.35518862277007  percent.\n",
      "Problem in initial value trasfer:  Vmean_exc -56.66757376509487 -56.66757394052408\n",
      "no convergence\n",
      "-------  28 0.5000000000000002 0.5000000000000002\n",
      "set cost params:  1.0 0.0 1.0\n",
      "interpolate adjoint :  True True True\n",
      "RUN  0 , total integrated cost =  2.9528701559947392\n",
      "Gradient descend method:  None\n"
     ]
    },
    {
     "name": "stderr",
     "output_type": "stream",
     "text": [
      "ERROR:root:Problem in initial value trasfer\n"
     ]
    },
    {
     "name": "stdout",
     "output_type": "stream",
     "text": [
      "RUN  1 , total integrated cost =  2.9528701559947392\n",
      "Control only changes marginally.\n",
      "RUN  1 , total integrated cost =  2.9528701559947392\n",
      "Improved over  1  iterations in  0.11479310000001419  seconds by  0.0  percent.\n",
      "Problem in initial value trasfer:  Vmean_exc -56.69785375095798 -56.69785376380701\n",
      "converged for  28\n",
      "-------  30 0.4250000000000001 0.5250000000000002\n",
      "set cost params:  1.0 0.0 1.0\n",
      "interpolate adjoint :  True True True\n",
      "RUN  0 , total integrated cost =  5.958977328222749\n",
      "Gradient descend method:  None\n",
      "RUN "
     ]
    },
    {
     "name": "stderr",
     "output_type": "stream",
     "text": [
      "ERROR:root:Problem in initial value trasfer\n"
     ]
    },
    {
     "name": "stdout",
     "output_type": "stream",
     "text": [
      " 1 , total integrated cost =  5.958977328222749\n",
      "Control only changes marginally.\n",
      "RUN  1 , total integrated cost =  5.958977328222749\n",
      "Improved over  1  iterations in  0.10852019999998674  seconds by  0.0  percent.\n",
      "Problem in initial value trasfer:  Vmean_exc -56.63791422895159 -56.63791372307347\n",
      "converged for  30\n",
      "-------  32 0.47500000000000014 0.5250000000000002\n",
      "set cost params:  1.0 0.0 1.0\n",
      "interpolate adjoint :  True True True\n",
      "RUN  0 , total integrated cost =  4.778810232181598\n",
      "Gradient descend method:  None\n"
     ]
    },
    {
     "name": "stderr",
     "output_type": "stream",
     "text": [
      "ERROR:root:Problem in initial value trasfer\n"
     ]
    },
    {
     "name": "stdout",
     "output_type": "stream",
     "text": [
      "RUN  1 , total integrated cost =  4.778810232181598\n",
      "Control only changes marginally.\n",
      "RUN  1 , total integrated cost =  4.778810232181598\n",
      "Improved over  1  iterations in  0.13665149999999926  seconds by  0.0  percent.\n",
      "Problem in initial value trasfer:  Vmean_exc -56.6856933022803 -56.68569339727631\n",
      "converged for  32\n",
      "-------  34 0.5250000000000001 0.5250000000000002\n",
      "set cost params:  1.0 0.0 1.0\n",
      "interpolate adjoint :  True True True\n",
      "RUN  0 , total integrated cost =  261.1783938704904\n",
      "Gradient descend method:  None\n",
      "RUN  1 , total integrated cost =  2.9679122061909653\n",
      "RUN  2 , total integrated cost =  2.9645462376949956\n",
      "RUN  3 , total integrated cost =  2.963072095071148\n",
      "RUN  4 , total integrated cost =  2.9590255007487283\n",
      "RUN  5 , total integrated cost =  2.957896387827529\n",
      "RUN  6 , total integrated cost =  2.9574220312730395\n",
      "RUN  7 , total integrated cost =  2.952937311065301\n",
      "RUN  8 , total integrated cost =  2.9512472045102163\n",
      "RUN  9 , total integrated cost =  2.9511297077352783\n",
      "RUN  10 , total integrated cost =  2.950729922211563\n",
      "RUN  11 , total integrated cost =  2.948299604020724\n",
      "RUN  12 , total integrated cost =  2.9478599926501197\n",
      "RUN  13 , total integrated cost =  2.9477999044610663\n",
      "RUN  14 , total integrated cost =  2.9476109233370935\n",
      "RUN  15 , total integrated cost =  2.9449948091913507\n",
      "RUN  16 , total integrated cost =  2.9441317268286933\n",
      "RUN  17 , total integrated cost =  2.9440994519250467\n",
      "RUN  18 , total integrated cost =  2.9440610687758517\n",
      "RUN  19 , total integrated cost =  2.943554834316277\n",
      "RUN  20 , total integrated cost =  2.9416394253053966\n",
      "RUN  30 , total integrated cost =  2.9363281140444233\n",
      "RUN  40 , total integrated cost =  2.9341172326450793\n",
      "RUN  50 , total integrated cost =  2.904737637362497\n",
      "RUN  60 , total integrated cost =  2.9047376284322493\n",
      "RUN  70 , total integrated cost =  2.9047376282955093\n",
      "RUN  80 , total integrated cost =  2.904737628292109\n",
      "RUN  90 , total integrated cost =  2.9047376282920103\n",
      "Control only changes marginally.\n",
      "RUN  91 , total integrated cost =  2.9047376282920103\n",
      "Improved over  91  iterations in  3.757188599999978  seconds by  98.88783387276193  percent.\n",
      "no convergence\n",
      "-------  36 0.4250000000000001 0.5500000000000003\n",
      "set cost params:  1.0 0.0 1.0\n",
      "interpolate adjoint :  True True True\n",
      "RUN "
     ]
    },
    {
     "name": "stderr",
     "output_type": "stream",
     "text": [
      "ERROR:root:Problem in initial value trasfer\n"
     ]
    },
    {
     "name": "stdout",
     "output_type": "stream",
     "text": [
      " 0 , total integrated cost =  6.824439475783803\n",
      "Gradient descend method:  None\n",
      "RUN  1 , total integrated cost =  6.824439475783803\n",
      "Control only changes marginally.\n",
      "RUN  1 , total integrated cost =  6.824439475783803\n",
      "Improved over  1  iterations in  0.12092280000001665  seconds by  0.0  percent.\n",
      "Problem in initial value trasfer:  Vmean_exc -56.6360993307499 -56.63609971726236\n",
      "converged for  36\n",
      "-------  38 0.47500000000000014 0.5500000000000003\n",
      "set cost params:  1.0 0.0 1.0\n",
      "interpolate adjoint :  True True True\n",
      "RUN  0 , total integrated cost =  180.47795850950249\n",
      "Gradient descend method:  None\n",
      "RUN  1 , total integrated cost =  5.662395379533068\n",
      "RUN  2 , total integrated cost =  5.58197465986784\n",
      "RUN  3 , total integrated cost =  5.565932358013779\n",
      "RUN  4 , total integrated cost =  5.565435608675292\n",
      "RUN  5 , total integrated cost =  5.564276322136633\n",
      "RUN  6 , total integrated cost =  5.5605495533926454\n",
      "RUN  7 , total integrated cost =  5.559965457172022\n",
      "RUN  8 , total integrated cost =  5.559679893471087\n",
      "RUN  9 , total integrated cost =  5.548564173078322\n",
      "RUN  10 , total integrated cost =  5.543016042790844\n",
      "RUN  11 , total integrated cost =  5.5429728672202225\n",
      "RUN  12 , total integrated cost =  5.542841940692408\n",
      "RUN  13 , total integrated cost =  5.538208888379604\n",
      "RUN  14 , total integrated cost =  5.536326954235717\n",
      "RUN  15 , total integrated cost =  5.5362869706007105\n",
      "RUN  16 , total integrated cost =  5.536271951499871\n",
      "RUN  17 , total integrated cost =  5.536246131344038\n",
      "RUN  18 , total integrated cost =  5.535704442880997\n",
      "RUN  19 , total integrated cost =  5.533715664886572\n",
      "RUN  20 , total integrated cost =  5.533538913963527\n",
      "RUN  30 , total integrated cost =  5.530517270683914\n",
      "RUN  40 , total integrated cost =  5.509246804361936\n"
     ]
    },
    {
     "name": "stderr",
     "output_type": "stream",
     "text": [
      "ERROR:root:Problem in initial value trasfer\n"
     ]
    },
    {
     "name": "stdout",
     "output_type": "stream",
     "text": [
      "Control only changes marginally.\n",
      "RUN  44 , total integrated cost =  5.509246804361912\n",
      "Improved over  44  iterations in  2.3913002999999833  seconds by  96.94741294180152  percent.\n",
      "Problem in initial value trasfer:  Vmean_exc -56.6848516161847 -56.68485166426342\n",
      "no convergence\n",
      "--------------- 1\n",
      "[[True, False], [False, False], [True, False], [False, False], [True, False], [True, False], [True, False], [False, False], [True, False], [False, False], [True, False], [False, False], [True, False], [False, False], [True, False], [True, False], [True, False], [False, False], [True, False], [False, False], [True, True], [True, True], [True, True], [True, True], [True, True], [True, True], [True, True], [True, True], [True, True], [True, True], [True, True], [True, True], [True, True], [True, True], [True, True], [True, True], [True, True], [True, True], [True, True], [True, True], [True, True], [True, True], [True, True], [True, True], [True, True], [True, True], [True, True], [True, True], [True, True], [True, True], [True, True], [True, True], [True, True], [True, True], [True, True], [True, True], [True, True], [True, True], [True, True], [True, True], [True, True], [True, True], [True, True], [True, True], [True, True], [True, True], [True, True], [True, True], [True, True], [True, True], [True, True], [True, True], [True, True], [True, True]]\n",
      "-------  0 0.4000000000000001 0.3500000000000001\n",
      "set cost params:  1.0 0.0 1.0\n",
      "interpolate adjoint :  True True True\n",
      "RUN  0 , total integrated cost =  1.1056489600735429\n",
      "Gradient descend method:  None\n"
     ]
    },
    {
     "name": "stderr",
     "output_type": "stream",
     "text": [
      "ERROR:root:Problem in initial value trasfer\n"
     ]
    },
    {
     "name": "stdout",
     "output_type": "stream",
     "text": [
      "RUN  1 , total integrated cost =  1.1056489600735429\n",
      "Control only changes marginally.\n",
      "RUN  1 , total integrated cost =  1.1056489600735429\n",
      "Improved over  1  iterations in  0.13852989999998044  seconds by  0.0  percent.\n",
      "Problem in initial value trasfer:  Vmean_exc -56.62762194651364 -56.62762189575834\n",
      "converged for  0\n",
      "-------  2 0.4000000000000001 0.3750000000000001\n",
      "set cost params:  1.0 0.0 1.0\n",
      "interpolate adjoint :  True True True\n",
      "RUN  0 , total integrated cost =  1.801858095666907\n",
      "Gradient descend method:  None\n",
      "RUN  1 , total integrated cost =  1.801858095666907\n",
      "Control only changes marginally.\n",
      "RUN  1 , total integrated cost =  1.801858095666907\n",
      "Improved over  1  iterations in  0.15914390000000367  seconds by  0.0  percent.\n",
      "converged for  2\n",
      "-------  4 0.4500000000000001 0.3750000000000001\n",
      "set cost params:  1.0 0.0 1.0\n",
      "interpolate adjoint :  True True True\n",
      "RUN  0 , total integrated cost =  0.5927285424041204\n",
      "Gradient descend method:  None\n",
      "RUN  1 , total integrated cost =  0.5927285424041204\n",
      "Control only changes marginally.\n",
      "RUN  1 , total integrated cost =  0.5927285424041204\n",
      "Improved over  1  iterations in  0.11762470000002168  seconds by  0.0  percent.\n",
      "converged for  4\n",
      "-------  6 0.4250000000000001 0.40000000000000013\n",
      "set cost params:  1.0 0.0 1.0\n",
      "interpolate adjoint :  True True True\n",
      "RUN  0 , total integrated cost =  2.1378639095037917\n",
      "Gradient descend method:  None\n",
      "RUN  1 , total integrated cost =  2.13786390950379\n",
      "RUN  2 , total integrated cost =  2.1378639095037864\n",
      "RUN  3 , total integrated cost =  2.1378639095037837\n",
      "RUN  4 , total integrated cost =  2.1378639095037815\n",
      "RUN  5"
     ]
    },
    {
     "name": "stderr",
     "output_type": "stream",
     "text": [
      "ERROR:root:Problem in initial value trasfer\n"
     ]
    },
    {
     "name": "stdout",
     "output_type": "stream",
     "text": [
      " , total integrated cost =  2.13786390950378\n",
      "RUN  6 , total integrated cost =  2.13786390950378\n",
      "Control only changes marginally.\n",
      "RUN  6 , total integrated cost =  2.13786390950378\n",
      "Improved over  6  iterations in  0.598436300000003  seconds by  5.400124791776761e-13  percent.\n",
      "Problem in initial value trasfer:  Vmean_exc -56.64909715690965 -56.64909723050905\n",
      "no convergence\n",
      "-------  8 0.47500000000000014 0.40000000000000013\n",
      "set cost params:  1.0 0.0 1.0\n",
      "interpolate adjoint :  True True True\n",
      "RUN  0 , total integrated cost =  0.5340814545430526\n",
      "Gradient descend method:  None\n",
      "RUN  1 , total integrated cost =  0.5340814545430526\n",
      "Control only changes marginally.\n",
      "RUN  1 , total integrated cost =  0.5340814545430526\n",
      "Improved over  1  iterations in  0.15527619999997455  seconds by  0.0  percent.\n",
      "converged for  8\n",
      "-------  10 0.4250000000000001 0.42500000000000016\n",
      "set cost params:  1.0 0.0 1.0\n",
      "interpolate adjoint :  True True True\n",
      "RUN  0 , total integrated cost =  2.9671640477000554\n",
      "Gradient descend method:  None\n",
      "RUN  1 , total integrated cost =  2.9671640477000554\n",
      "Control only changes marginally.\n",
      "RUN  1 , total integrated cost =  2.9671640477000554\n",
      "Improved over  1  iterations in  0.13730079999999134  seconds by  0.0  percent.\n",
      "converged for  10\n",
      "-------  12 0.47500000000000014 0.42500000000000016\n",
      "set cost params:  1.0 0.0 1.0\n",
      "interpolate adjoint :  True True True\n",
      "RUN  0 , total integrated cost =  1.233081099161223\n",
      "Gradient descend method:  None\n",
      "RUN  1 , total integrated cost =  1.233081099161223\n",
      "Control only changes marginally.\n",
      "RUN  1 , total integrated cost =  1.233081099161223\n",
      "Improved over  1  iterations in  0.15472679999999173  seconds by  0.0  percent.\n"
     ]
    },
    {
     "name": "stderr",
     "output_type": "stream",
     "text": [
      "ERROR:root:Problem in initial value trasfer\n"
     ]
    },
    {
     "name": "stdout",
     "output_type": "stream",
     "text": [
      "converged for  12\n",
      "-------  14 0.4250000000000001 0.4500000000000002\n",
      "set cost params:  1.0 0.0 1.0\n",
      "interpolate adjoint :  True True True\n",
      "RUN  0 , total integrated cost =  3.7347181760057326\n",
      "Gradient descend method:  None\n",
      "RUN  1 , total integrated cost =  3.7347181760057326\n",
      "Control only changes marginally.\n",
      "RUN  1 , total integrated cost =  3.7347181760057326\n",
      "Improved over  1  iterations in  0.13143239999999423  seconds by  0.0  percent.\n",
      "Problem in initial value trasfer:  Vmean_exc -56.64409622122468 -56.644096518456536\n"
     ]
    },
    {
     "name": "stderr",
     "output_type": "stream",
     "text": [
      "ERROR:root:Problem in initial value trasfer\n"
     ]
    },
    {
     "name": "stdout",
     "output_type": "stream",
     "text": [
      "converged for  14\n",
      "-------  16 0.47500000000000014 0.4500000000000002\n",
      "set cost params:  1.0 0.0 1.0\n",
      "interpolate adjoint :  True True True\n",
      "RUN  0 , total integrated cost =  2.064842420029291\n",
      "Gradient descend method:  None\n",
      "RUN  1 , total integrated cost =  2.064842420029291\n",
      "Control only changes marginally.\n",
      "RUN  1 , total integrated cost =  2.064842420029291\n",
      "Improved over  1  iterations in  0.14049330000000282  seconds by  0.0  percent.\n",
      "Problem in initial value trasfer:  Vmean_exc -56.688520411464665 -56.68852038719867\n"
     ]
    },
    {
     "name": "stderr",
     "output_type": "stream",
     "text": [
      "ERROR:root:Problem in initial value trasfer\n"
     ]
    },
    {
     "name": "stdout",
     "output_type": "stream",
     "text": [
      "converged for  16\n",
      "-------  18 0.4000000000000001 0.4750000000000002\n",
      "set cost params:  1.0 0.0 1.0\n",
      "interpolate adjoint :  True True True\n",
      "RUN  0 , total integrated cost =  5.019293051715876\n",
      "Gradient descend method:  None\n",
      "RUN  1 , total integrated cost =  5.019293051715876\n",
      "Control only changes marginally.\n",
      "RUN  1 , total integrated cost =  5.019293051715876\n",
      "Improved over  1  iterations in  0.13827839999999014  seconds by  0.0  percent.\n",
      "Problem in initial value trasfer:  Vmean_exc -56.63350864178936 -56.63350913638687\n"
     ]
    },
    {
     "name": "stderr",
     "output_type": "stream",
     "text": [
      "ERROR:root:Problem in initial value trasfer\n"
     ]
    },
    {
     "name": "stdout",
     "output_type": "stream",
     "text": [
      "converged for  18\n",
      "-------  20 0.4500000000000001 0.4750000000000002\n",
      "set cost params:  1.0 0.0 1.0\n",
      "interpolate adjoint :  True True True\n",
      "RUN  0 , total integrated cost =  3.9193369081268865\n",
      "Gradient descend method:  None\n",
      "RUN  1 , total integrated cost =  3.9193369081268865\n",
      "Control only changes marginally.\n",
      "RUN  1 , total integrated cost =  3.9193369081268865\n",
      "Improved over  1  iterations in  0.15258529999999837  seconds by  0.0  percent.\n",
      "Problem in initial value trasfer:  Vmean_exc -56.669061347529926 -56.66906153734876\n"
     ]
    },
    {
     "name": "stderr",
     "output_type": "stream",
     "text": [
      "ERROR:root:Problem in initial value trasfer\n"
     ]
    },
    {
     "name": "stdout",
     "output_type": "stream",
     "text": [
      "converged for  20\n",
      "-------  22 0.5000000000000002 0.4750000000000002\n",
      "set cost params:  1.0 0.0 1.0\n",
      "interpolate adjoint :  True True True\n",
      "RUN  0 , total integrated cost =  2.067721240196278\n",
      "Gradient descend method:  None\n",
      "RUN  1 , total integrated cost =  2.067721240196278\n",
      "Control only changes marginally.\n",
      "RUN  1 , total integrated cost =  2.067721240196278\n",
      "Improved over  1  iterations in  0.11748750000000996  seconds by  0.0  percent.\n",
      "Problem in initial value trasfer:  Vmean_exc -56.698390067015836 -56.69838994347105\n"
     ]
    },
    {
     "name": "stderr",
     "output_type": "stream",
     "text": [
      "ERROR:root:Problem in initial value trasfer\n"
     ]
    },
    {
     "name": "stdout",
     "output_type": "stream",
     "text": [
      "converged for  22\n",
      "-------  24 0.4000000000000001 0.5000000000000002\n",
      "set cost params:  1.0 0.0 1.0\n",
      "interpolate adjoint :  True True True\n",
      "RUN  0 , total integrated cost =  5.81590726897515\n",
      "Gradient descend method:  None\n",
      "RUN  1 , total integrated cost =  5.81590726897515\n",
      "Control only changes marginally.\n",
      "RUN  1 , total integrated cost =  5.81590726897515\n",
      "Improved over  1  iterations in  0.1284810999999877  seconds by  0.0  percent.\n",
      "Problem in initial value trasfer:  Vmean_exc -56.65154653390053 -56.651547100924745\n"
     ]
    },
    {
     "name": "stderr",
     "output_type": "stream",
     "text": [
      "ERROR:root:Problem in initial value trasfer\n"
     ]
    },
    {
     "name": "stdout",
     "output_type": "stream",
     "text": [
      "converged for  24\n",
      "-------  26 0.4500000000000001 0.5000000000000002\n",
      "set cost params:  1.0 0.0 1.0\n",
      "interpolate adjoint :  True True True\n",
      "RUN  0 , total integrated cost =  4.722847907161824\n",
      "Gradient descend method:  None\n",
      "RUN  1 , total integrated cost =  4.722847907161824\n",
      "Control only changes marginally.\n",
      "RUN  1 , total integrated cost =  4.722847907161824\n",
      "Improved over  1  iterations in  0.1266659000000061  seconds by  0.0  percent.\n",
      "Problem in initial value trasfer:  Vmean_exc -56.66757376509487 -56.66757394052408\n"
     ]
    },
    {
     "name": "stderr",
     "output_type": "stream",
     "text": [
      "ERROR:root:Problem in initial value trasfer\n"
     ]
    },
    {
     "name": "stdout",
     "output_type": "stream",
     "text": [
      "converged for  26\n",
      "-------  28 0.5000000000000002 0.5000000000000002\n",
      "set cost params:  1.0 0.0 1.0\n",
      "interpolate adjoint :  True True True\n",
      "RUN  0 , total integrated cost =  2.9528701559947392\n",
      "Gradient descend method:  None\n",
      "RUN  1 , total integrated cost =  2.9528701559947392\n",
      "Control only changes marginally.\n",
      "RUN  1 , total integrated cost =  2.9528701559947392\n",
      "Improved over  1  iterations in  0.12536270000001082  seconds by  0.0  percent.\n",
      "Problem in initial value trasfer:  Vmean_exc -56.69785375095798 -56.69785376380701\n"
     ]
    },
    {
     "name": "stderr",
     "output_type": "stream",
     "text": [
      "ERROR:root:Problem in initial value trasfer\n"
     ]
    },
    {
     "name": "stdout",
     "output_type": "stream",
     "text": [
      "converged for  28\n",
      "-------  30 0.4250000000000001 0.5250000000000002\n",
      "set cost params:  1.0 0.0 1.0\n",
      "interpolate adjoint :  True True True\n",
      "RUN  0 , total integrated cost =  5.958977328222749\n",
      "Gradient descend method:  None\n",
      "RUN  1 , total integrated cost =  5.958977328222749\n",
      "Control only changes marginally.\n",
      "RUN  1 , total integrated cost =  5.958977328222749\n",
      "Improved over  1  iterations in  0.12345099999998865  seconds by  0.0  percent.\n",
      "Problem in initial value trasfer:  Vmean_exc -56.63791422895159 -56.63791372307347\n"
     ]
    },
    {
     "name": "stderr",
     "output_type": "stream",
     "text": [
      "ERROR:root:Problem in initial value trasfer\n"
     ]
    },
    {
     "name": "stdout",
     "output_type": "stream",
     "text": [
      "converged for  30\n",
      "-------  32 0.47500000000000014 0.5250000000000002\n",
      "set cost params:  1.0 0.0 1.0\n",
      "interpolate adjoint :  True True True\n",
      "RUN  0 , total integrated cost =  4.778810232181598\n",
      "Gradient descend method:  None\n",
      "RUN  1 , total integrated cost =  4.778810232181598\n",
      "Control only changes marginally.\n",
      "RUN  1 , total integrated cost =  4.778810232181598\n",
      "Improved over  1  iterations in  0.1115077000000042  seconds by  0.0  percent.\n",
      "Problem in initial value trasfer:  Vmean_exc -56.6856933022803 -56.68569339727631\n",
      "converged for  32\n",
      "-------  34 0.5250000000000001 0.5250000000000002\n",
      "set cost params:  1.0 0.0 1.0\n",
      "interpolate adjoint :  True True True\n",
      "RUN  0 , total integrated cost =  2.9047376282920103\n",
      "Gradient descend method:  None\n",
      "RUN  1 , total integrated cost =  2.9047376282920103\n",
      "Control only changes marginally.\n",
      "RUN  1 , total integrated cost =  2.9047376282920103\n",
      "Improved over  1  iterations in  0.12791489999997907  seconds by  0.0  percent.\n"
     ]
    },
    {
     "name": "stderr",
     "output_type": "stream",
     "text": [
      "ERROR:root:Problem in initial value trasfer\n"
     ]
    },
    {
     "name": "stdout",
     "output_type": "stream",
     "text": [
      "converged for  34\n",
      "-------  36 0.4250000000000001 0.5500000000000003\n",
      "set cost params:  1.0 0.0 1.0\n",
      "interpolate adjoint :  True True True\n",
      "RUN  0 , total integrated cost =  6.824439475783803\n",
      "Gradient descend method:  None\n",
      "RUN  1 , total integrated cost =  6.824439475783803\n",
      "Control only changes marginally.\n",
      "RUN  1 , total integrated cost =  6.824439475783803\n",
      "Improved over  1  iterations in  0.13548410000001354  seconds by  0.0  percent.\n",
      "Problem in initial value trasfer:  Vmean_exc -56.6360993307499 -56.63609971726236\n",
      "converged for  36\n",
      "-------  38 0.47500000000000014 0.5500000000000003\n",
      "set cost params:  1.0 0.0 1.0\n",
      "interpolate adjoint :  True True True\n",
      "RUN  0 , total integrated cost =  5.509246804361912\n",
      "Gradient descend method:  None\n",
      "RUN  1 , total integrated cost =  5.509246804361912\n",
      "Control only changes marginally.\n",
      "RUN  1 , total integrated cost =  5.509246804361912\n",
      "Improved over  1  iterations in  0.16124659999999835  seconds by "
     ]
    },
    {
     "name": "stderr",
     "output_type": "stream",
     "text": [
      "ERROR:root:Problem in initial value trasfer\n"
     ]
    },
    {
     "name": "stdout",
     "output_type": "stream",
     "text": [
      " 0.0  percent.\n",
      "Problem in initial value trasfer:  Vmean_exc -56.6848516161847 -56.68485166426342\n",
      "converged for  38\n",
      "--------------- 2\n",
      "[[True, True], [True, False], [True, True], [False, False], [True, True], [True, True], [True, True], [True, False], [True, True], [True, False], [True, True], [True, False], [True, True], [True, False], [True, True], [True, True], [True, True], [True, False], [True, True], [True, False], [True, True], [True, True], [True, True], [True, True], [True, True], [True, True], [True, True], [True, True], [True, True], [True, True], [True, True], [True, True], [True, True], [True, True], [True, True], [True, True], [True, True], [True, True], [True, True], [True, True], [True, True], [True, True], [True, True], [True, True], [True, True], [True, True], [True, True], [True, True], [True, True], [True, True], [True, True], [True, True], [True, True], [True, True], [True, True], [True, True], [True, True], [True, True], [True, True], [True, True], [True, True], [True, True], [True, True], [True, True], [True, True], [True, True], [True, True], [True, True], [True, True], [True, True], [True, True], [True, True], [True, True], [True, True]]\n",
      "-------  0 0.4000000000000001 0.3500000000000001\n",
      "-------  2 0.4000000000000001 0.3750000000000001\n",
      "set cost params:  1.0 0.0 1.0\n",
      "interpolate adjoint :  True True True\n",
      "RUN  0 , total integrated cost =  1.801858095666907\n",
      "Gradient descend method:  None\n",
      "RUN  1 , total integrated cost =  1.801858095666907\n",
      "Control only changes marginally.\n",
      "RUN  1 , total integrated cost =  1.801858095666907\n",
      "Improved over  1  iterations in  0.1319165999999825  seconds by  0.0  percent.\n",
      "converged for  2\n",
      "-------  4 0.4500000000000001 0.3750000000000001\n",
      "-------  6 0.4250000000000001 0.40000000000000013\n",
      "set cost params:  1.0 0.0 1.0\n",
      "interpolate adjoint :  True True True\n",
      "RUN  0 , total integrated cost =  2.13786390950378\n",
      "Gradient descend method:  None\n"
     ]
    },
    {
     "name": "stderr",
     "output_type": "stream",
     "text": [
      "ERROR:root:Problem in initial value trasfer\n"
     ]
    },
    {
     "name": "stdout",
     "output_type": "stream",
     "text": [
      "RUN  1 , total integrated cost =  2.13786390950378\n",
      "Control only changes marginally.\n",
      "RUN  1 , total integrated cost =  2.13786390950378\n",
      "Improved over  1  iterations in  0.16917779999999993  seconds by  0.0  percent.\n",
      "Problem in initial value trasfer:  Vmean_exc -56.64909715690965 -56.64909723050905\n",
      "converged for  6\n",
      "-------  8 0.47500000000000014 0.40000000000000013\n",
      "-------  10 0.4250000000000001 0.42500000000000016\n",
      "-------  12 0.47500000000000014 0.42500000000000016\n",
      "-------  14 0.4250000000000001 0.4500000000000002\n",
      "set cost params:  1.0 0.0 1.0\n",
      "interpolate adjoint :  True True True\n",
      "RUN  0 , total integrated cost =  3.7347181760057326\n",
      "Gradient descend method:  None\n"
     ]
    },
    {
     "name": "stderr",
     "output_type": "stream",
     "text": [
      "ERROR:root:Problem in initial value trasfer\n"
     ]
    },
    {
     "name": "stdout",
     "output_type": "stream",
     "text": [
      "RUN  1 , total integrated cost =  3.7347181760057326\n",
      "Control only changes marginally.\n",
      "RUN  1 , total integrated cost =  3.7347181760057326\n",
      "Improved over  1  iterations in  0.1408550999999818  seconds by  0.0  percent.\n",
      "Problem in initial value trasfer:  Vmean_exc -56.64409622122468 -56.644096518456536\n",
      "converged for  14\n",
      "-------  16 0.47500000000000014 0.4500000000000002\n",
      "-------  18 0.4000000000000001 0.4750000000000002\n",
      "set cost params:  1.0 0.0 1.0\n",
      "interpolate adjoint :  True True True\n",
      "RUN  0 , total integrated cost =  5.019293051715876\n",
      "Gradient descend method:  None\n"
     ]
    },
    {
     "name": "stderr",
     "output_type": "stream",
     "text": [
      "ERROR:root:Problem in initial value trasfer\n"
     ]
    },
    {
     "name": "stdout",
     "output_type": "stream",
     "text": [
      "RUN  1 , total integrated cost =  5.019293051715876\n",
      "Control only changes marginally.\n",
      "RUN  1 , total integrated cost =  5.019293051715876\n",
      "Improved over  1  iterations in  0.11141460000001757  seconds by  0.0  percent.\n",
      "Problem in initial value trasfer:  Vmean_exc -56.63350864178936 -56.63350913638687\n",
      "converged for  18\n",
      "-------  20 0.4500000000000001 0.4750000000000002\n",
      "-------  22 0.5000000000000002 0.4750000000000002\n",
      "set cost params:  1.0 0.0 1.0\n",
      "interpolate adjoint :  True True True\n",
      "RUN  0 , total integrated cost =  2.067721240196278\n",
      "Gradient descend method:  None\n"
     ]
    },
    {
     "name": "stderr",
     "output_type": "stream",
     "text": [
      "ERROR:root:Problem in initial value trasfer\n"
     ]
    },
    {
     "name": "stdout",
     "output_type": "stream",
     "text": [
      "RUN  1 , total integrated cost =  2.067721240196278\n",
      "Control only changes marginally.\n",
      "RUN  1 , total integrated cost =  2.067721240196278\n",
      "Improved over  1  iterations in  0.13058840000002192  seconds by  0.0  percent.\n",
      "Problem in initial value trasfer:  Vmean_exc -56.698390067015836 -56.69838994347105\n",
      "converged for  22\n",
      "-------  24 0.4000000000000001 0.5000000000000002\n",
      "-------  26 0.4500000000000001 0.5000000000000002\n",
      "set cost params:  1.0 0.0 1.0\n",
      "interpolate adjoint :  True True True\n",
      "RUN  0 , total integrated cost =  4.722847907161824\n",
      "Gradient descend method:  None\n"
     ]
    },
    {
     "name": "stderr",
     "output_type": "stream",
     "text": [
      "ERROR:root:Problem in initial value trasfer\n"
     ]
    },
    {
     "name": "stdout",
     "output_type": "stream",
     "text": [
      "RUN  1 , total integrated cost =  4.722847907161824\n",
      "Control only changes marginally.\n",
      "RUN  1 , total integrated cost =  4.722847907161824\n",
      "Improved over  1  iterations in  0.11863119999998162  seconds by  0.0  percent.\n",
      "Problem in initial value trasfer:  Vmean_exc -56.66757376509487 -56.66757394052408\n",
      "converged for  26\n",
      "-------  28 0.5000000000000002 0.5000000000000002\n",
      "-------  30 0.4250000000000001 0.5250000000000002\n",
      "-------  32 0.47500000000000014 0.5250000000000002\n",
      "-------  34 0.5250000000000001 0.5250000000000002\n",
      "set cost params:  1.0 0.0 1.0\n",
      "interpolate adjoint :  True True True\n",
      "RUN  0 , total integrated cost =  2.9047376282920103\n",
      "Gradient descend method:  None\n",
      "RUN  1 , total integrated cost =  2.9047376282920103\n",
      "Control only changes marginally.\n",
      "RUN  1 , total integrated cost =  2.9047376282920103\n",
      "Improved over  1  iterations in  0.11950909999998771  seconds by  0.0  percent.\n",
      "converged for  34\n",
      "-------  36 0.4250000000000001 0.5500000000000003\n",
      "-------  38 0.47500000000000014 0.5500000000000003\n",
      "set cost params:  1.0 0.0 1.0\n",
      "interpolate adjoint :  True True True\n",
      "RUN  0 , total integrated cost =  5.509246804361912\n",
      "Gradient descend method:  None\n"
     ]
    },
    {
     "name": "stderr",
     "output_type": "stream",
     "text": [
      "ERROR:root:Problem in initial value trasfer\n"
     ]
    },
    {
     "name": "stdout",
     "output_type": "stream",
     "text": [
      "RUN  1 , total integrated cost =  5.509246804361912\n",
      "Control only changes marginally.\n",
      "RUN  1 , total integrated cost =  5.509246804361912\n",
      "Improved over  1  iterations in  0.12352959999998347  seconds by  0.0  percent.\n",
      "Problem in initial value trasfer:  Vmean_exc -56.6848516161847 -56.68485166426342\n",
      "converged for  38\n",
      "--------------- 3\n",
      "[[True, True], [True, True], [True, True], [True, False], [True, True], [True, True], [True, True], [True, True], [True, True], [True, True], [True, True], [True, True], [True, True], [True, True], [True, True], [True, True], [True, True], [True, True], [True, True], [True, True], [True, True], [True, True], [True, True], [True, True], [True, True], [True, True], [True, True], [True, True], [True, True], [True, True], [True, True], [True, True], [True, True], [True, True], [True, True], [True, True], [True, True], [True, True], [True, True], [True, True], [True, True], [True, True], [True, True], [True, True], [True, True], [True, True], [True, True], [True, True], [True, True], [True, True], [True, True], [True, True], [True, True], [True, True], [True, True], [True, True], [True, True], [True, True], [True, True], [True, True], [True, True], [True, True], [True, True], [True, True], [True, True], [True, True], [True, True], [True, True], [True, True], [True, True], [True, True], [True, True], [True, True], [True, True]]\n",
      "-------  0 0.4000000000000001 0.3500000000000001\n",
      "-------  2 0.4000000000000001 0.3750000000000001\n",
      "-------  4 0.4500000000000001 0.3750000000000001\n",
      "-------  6 0.4250000000000001 0.40000000000000013\n",
      "set cost params:  1.0 0.0 1.0\n",
      "interpolate adjoint :  True True True\n",
      "RUN  0 , total integrated cost =  2.13786390950378\n",
      "Gradient descend method:  None\n"
     ]
    },
    {
     "name": "stderr",
     "output_type": "stream",
     "text": [
      "ERROR:root:Problem in initial value trasfer\n"
     ]
    },
    {
     "name": "stdout",
     "output_type": "stream",
     "text": [
      "RUN  1 , total integrated cost =  2.13786390950378\n",
      "Control only changes marginally.\n",
      "RUN  1 , total integrated cost =  2.13786390950378\n",
      "Improved over  1  iterations in  0.13099159999998733  seconds by  0.0  percent.\n",
      "Problem in initial value trasfer:  Vmean_exc -56.64909715690965 -56.64909723050905\n",
      "converged for  6\n",
      "-------  8 0.47500000000000014 0.40000000000000013\n",
      "-------  10 0.4250000000000001 0.42500000000000016\n",
      "-------  12 0.47500000000000014 0.42500000000000016\n",
      "-------  14 0.4250000000000001 0.4500000000000002\n",
      "-------  16 0.47500000000000014 0.4500000000000002\n",
      "-------  18 0.4000000000000001 0.4750000000000002\n",
      "-------  20 0.4500000000000001 0.4750000000000002\n",
      "-------  22 0.5000000000000002 0.4750000000000002\n",
      "-------  24 0.4000000000000001 0.5000000000000002\n",
      "-------  26 0.4500000000000001 0.5000000000000002\n",
      "-------  28 0.5000000000000002 0.5000000000000002\n",
      "-------  30 0.4250000000000001 0.5250000000000002\n",
      "-------  32 0.47500000000000014 0.5250000000000002\n",
      "-------  34 0.5250000000000001 0.5250000000000002\n",
      "-------  36 0.4250000000000001 0.5500000000000003\n",
      "-------  38 0.47500000000000014 0.5500000000000003\n",
      "--------------- 4\n",
      "[[True, True], [True, True], [True, True], [True, True], [True, True], [True, True], [True, True], [True, True], [True, True], [True, True], [True, True], [True, True], [True, True], [True, True], [True, True], [True, True], [True, True], [True, True], [True, True], [True, True], [True, True], [True, True], [True, True], [True, True], [True, True], [True, True], [True, True], [True, True], [True, True], [True, True], [True, True], [True, True], [True, True], [True, True], [True, True], [True, True], [True, True], [True, True], [True, True], [True, True], [True, True], [True, True], [True, True], [True, True], [True, True], [True, True], [True, True], [True, True], [True, True], [True, True], [True, True], [True, True], [True, True], [True, True], [True, True], [True, True], [True, True], [True, True], [True, True], [True, True], [True, True], [True, True], [True, True], [True, True], [True, True], [True, True], [True, True], [True, True], [True, True], [True, True], [True, True], [True, True], [True, True], [True, True]]\n",
      "full convergence\n"
     ]
    }
   ],
   "source": [
    "factor_iteration = 20\n",
    "full_converge = False\n",
    "\n",
    "for i in range(len(conv_1)):\n",
    "    if i not in i_range_1:\n",
    "        conv_1[i] = [True, True]\n",
    "        \n",
    "counter = 0\n",
    "\n",
    "while full_converge == False:\n",
    "    \n",
    "    print('---------------', counter)\n",
    "    if counter > 20:\n",
    "        break\n",
    "    \n",
    "    print(conv_1[::i_stepsize])\n",
    "    full_converge = True\n",
    "    \n",
    "    for conv in conv_1[::i_stepsize]:\n",
    "        if not conv[0]:\n",
    "            full_converge = False\n",
    "            break\n",
    "        if not conv[1]:\n",
    "            full_converge = False\n",
    "            break\n",
    "    \n",
    "    if full_converge:\n",
    "        print(\"full convergence\")\n",
    "        break\n",
    "\n",
    "    for i in i_range_1:        \n",
    "\n",
    "        print(\"------- \", i, exc[i], inh[i])\n",
    "        \n",
    "        if conv_1[i] == [True, True]:\n",
    "            continue\n",
    "            \n",
    "        aln.params.ext_exc_current = exc[i] * 5.\n",
    "        aln.params.ext_inh_current = inh[i] * 5.\n",
    "        \n",
    "        if not type(bestControl_1[i]) == type(None):\n",
    "            control0 = bestControl_1[i][:,:,n_pre-1:-n_post+1].copy()\n",
    "        else:\n",
    "            control0 = bestControl_0[i][:,:,n_pre-1:-n_post+1].copy()\n",
    "            cost_1[i] = cost_0[i]\n",
    "        \n",
    "        cost.setParams(1.0, 1. * factor_we, 1. * factor_ws)\n",
    "\n",
    "        setinit(initVars[i], aln)\n",
    "\n",
    "        # \"HS\", \"FR\", \"PR\", \"HZ\"\n",
    "        cgv = None\n",
    "        max_it = int( 500 * factor_iteration )\n",
    "\n",
    "        weights_1[i] = cost.getParams()\n",
    "\n",
    "        bestControl_1[i], bestState_1[i], cost_1[i], runtime_1[i], grad_1[i], phi_1[i], costnode_1[i] = aln.A1(\n",
    "            control0, target[i], c_scheme, u_mat, u_scheme, max_iteration_ = max_it, tolerance_ = tol,\n",
    "            startStep_ = start_step, max_control_ = max_cntrl, min_control_ = min_cntrl, t_sim_ = dur,\n",
    "            t_sim_pre_ = dur_pre, t_sim_post_ = dur_post, CGVar = cgv, control_variables_ = cntrl_vars_init,\n",
    "            prec_variables_ = prec_vars, transition_time_ = trans_time)\n",
    "        \n",
    "        with open(final_file_1,'wb') as f:\n",
    "            pickle.dump([bestControl_1, bestState_1, cost_1, runtime_1, grad_1, phi_1,\n",
    "                 costnode_1, weights_1], f)\n",
    "            \n",
    "        j = 1\n",
    "        while cost_1[i][-j] == 0.:\n",
    "            j += 1\n",
    "            \n",
    "        if j == cost_1[i].shape[0]-1:\n",
    "            print(\"converged for \", i)\n",
    "            if conv_1[i][0]:\n",
    "                conv_1[i] = [True, True]\n",
    "            else:\n",
    "                conv_1[i] = [True, False]\n",
    "            continue\n",
    "    \n",
    "        print(\"no convergence\")\n",
    "        \n",
    "    counter += 1"
   ]
  },
  {
   "cell_type": "code",
   "execution_count": null,
   "metadata": {},
   "outputs": [],
   "source": []
  }
 ],
 "metadata": {
  "kernelspec": {
   "display_name": "Python 3 (ipykernel)",
   "language": "python",
   "name": "python3"
  },
  "language_info": {
   "codemirror_mode": {
    "name": "ipython",
    "version": 3
   },
   "file_extension": ".py",
   "mimetype": "text/x-python",
   "name": "python",
   "nbconvert_exporter": "python",
   "pygments_lexer": "ipython3",
   "version": "3.9.5"
  }
 },
 "nbformat": 4,
 "nbformat_minor": 4
}
