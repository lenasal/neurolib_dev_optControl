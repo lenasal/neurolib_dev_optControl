{
 "cells": [
  {
   "cell_type": "code",
   "execution_count": 1,
   "source": [
    "import matplotlib.pyplot as plt\n",
    "import numpy as np\n",
    "import os\n",
    "import sys\n",
    "import pickle\n",
    "\n",
    "path = os.getcwd().split(os.sep + 'GUI')[0]\n",
    "if path not in sys.path:\n",
    "    print(\"not here\")\n",
    "    sys.path.append(path)\n",
    "\n",
    "from neurolib.models.aln import ALNModel\n",
    "from neurolib.utils import plotFunctions as plotFunc\n",
    "from neurolib.utils import costFunctions as cost\n",
    "import neurolib.dashboard.functions as functions\n",
    "import neurolib.dashboard.data as data\n",
    "    \n",
    "# This will reload all imports as soon as the code changes\n",
    "%load_ext autoreload\n",
    "%autoreload 2 "
   ],
   "outputs": [
    {
     "output_type": "stream",
     "name": "stdout",
     "text": [
      "not here\n"
     ]
    }
   ],
   "metadata": {}
  },
  {
   "cell_type": "code",
   "execution_count": 2,
   "source": [
    "aln = ALNModel()\n",
    "N = aln.params.N\n",
    "\n",
    "data.set_parameters(aln)\n",
    "\n",
    "state_vars = aln.state_vars\n",
    "init_vars = aln.init_vars\n",
    "\n",
    "##############################################################\n",
    "def setinit(init_vars_, model):\n",
    "    state_vars = model.state_vars\n",
    "    init_vars = model.init_vars\n",
    "    for iv in range(len(init_vars)):\n",
    "        for sv in range(len(state_vars)):\n",
    "            if state_vars[sv] in init_vars[iv]:\n",
    "                #print(\"set init vars \", )\n",
    "                if model.params[init_vars[iv]].ndim == 2:\n",
    "                    model.params[init_vars[iv]][0,:] = init_vars_[sv]\n",
    "                else:\n",
    "                    model.params[init_vars[iv]][0] = init_vars_[sv]\n",
    "                    \n",
    "##############################################################               \n",
    "def setmaxmincontrol(max_c_c, min_c_c, max_c_r, min_c_r):\n",
    "    import numpy as np\n",
    "    \n",
    "    max_cntrl = np.zeros(( 6 ))\n",
    "    min_cntrl = np.zeros(( 6 ))\n",
    "    \n",
    "    max_cntrl[0] = max_c_c\n",
    "    min_cntrl[0] = min_c_c\n",
    "    max_cntrl[1] = max_c_c\n",
    "    min_cntrl[1] = min_c_c\n",
    "    max_cntrl[2] = max_c_r\n",
    "    min_cntrl[2] = min_c_r\n",
    "    max_cntrl[3] = max_c_r\n",
    "    min_cntrl[3] = min_c_r\n",
    "    max_cntrl[4] = max_c_r\n",
    "    min_cntrl[4] = min_c_r\n",
    "    max_cntrl[5] = max_c_r\n",
    "    min_cntrl[5] = min_c_r\n",
    "            \n",
    "    return max_cntrl, min_cntrl"
   ],
   "outputs": [],
   "metadata": {}
  },
  {
   "cell_type": "code",
   "execution_count": 3,
   "source": [
    "##### LOAD BOUNDARIES\n",
    "data_file = 'bi.pickle'\n",
    "with open(data_file,'rb') as f:\n",
    "    load_array= pickle.load(f)\n",
    "exc = load_array[0]\n",
    "inh = load_array[1]\n",
    "print(len(exc))"
   ],
   "outputs": [
    {
     "output_type": "stream",
     "name": "stdout",
     "text": [
      "147\n"
     ]
    }
   ],
   "metadata": {}
  },
  {
   "cell_type": "code",
   "execution_count": 18,
   "source": [
    "t0_array = np.arange(380., -1, -1.)\n",
    "t_pen = t0_array / 400.\n",
    "\n",
    "bestControl_1 = [None] * len(t_pen)\n",
    "bestState_1 = [None] * len(t_pen)\n",
    "cost_1 = [None] * len(t_pen)\n",
    "runtime_1 = [None] * len(t_pen)\n",
    "grad_1 = [None] * len(t_pen)\n",
    "phi_1 = [None] * len(t_pen)\n",
    "costnode_1 = [None] * len(t_pen)\n",
    "weights_1 = [None] * len(t_pen)"
   ],
   "outputs": [],
   "metadata": {}
  },
  {
   "cell_type": "code",
   "execution_count": 5,
   "source": [
    "initVars = [None] * len(exc)\n",
    "target = [None] * len(exc)\n",
    "cost_uncontrolled = [None] * len(exc)\n",
    "\n",
    "cgv_list = [None, \"HS\", \"FR\", \"PR\", \"CD\", \"LS\", \"DY\", \"WYL\", \"HZ\", None]"
   ],
   "outputs": [],
   "metadata": {}
  },
  {
   "cell_type": "code",
   "execution_count": 15,
   "source": [
    "dur_pre = 10\n",
    "dur_post = 10\n",
    "\n",
    "i = 50\n",
    "\n",
    "n_pre = int(np.around(dur_pre/aln.params.dt + 1.,1))\n",
    "n_post = int(np.around(dur_post/aln.params.dt + 1.,1))\n",
    "\n",
    "tol = 1e-32\n",
    "start_step = 10.\n",
    "c_scheme = np.zeros(( 1,1 ))\n",
    "c_scheme[0,0] = 1.\n",
    "u_mat = np.identity(1)\n",
    "u_scheme = np.array([[1.]])\n",
    "\n",
    "c_var = [ [0], [1], [0,1]]\n",
    "p_var = [ [0], [0], [0]]\n",
    "\n",
    "### CURRENTS\n",
    "cntrl_vars_0 = [0,1]\n",
    "prec_vars = [0]\n",
    "\n",
    "max_I = [-3., 3.]\n",
    "factor_wp = 1. / 0.05\n",
    "factor_ws = 0.\n",
    "factor_we = 1.\n",
    "dur = 400\n",
    "trans_time = 0.95\n",
    "    \n",
    "maxC = [5., -5., 0.18, 0.]\n",
    "\n",
    "n_dur = int(np.around(dur/aln.params.dt + 1.,1))\n",
    "max_cntrl, min_cntrl = setmaxmincontrol(maxC[0], maxC[1], maxC[2], maxC[3])"
   ],
   "outputs": [],
   "metadata": {}
  },
  {
   "cell_type": "code",
   "execution_count": 16,
   "source": [
    "init_file = 'control_4.pickle'\n",
    "final_file_1 = 'control_tradeoff_4b.pickle'"
   ],
   "outputs": [],
   "metadata": {}
  },
  {
   "cell_type": "code",
   "execution_count": 19,
   "source": [
    "if os.path.isfile(init_file) :\n",
    "    print(\"init file found\")\n",
    "    \n",
    "    with open(init_file,'rb') as f:\n",
    "        load_array = pickle.load(f)\n",
    "\n",
    "    print(len(load_array[0]))\n",
    "\n",
    "    bestControl_1[0] = load_array[0][i]\n",
    "    bestState_1[0] = load_array[1][i]\n",
    "    cost_1 [0]= load_array[2][i]\n",
    "    runtime_1[0] = load_array[3][i]\n",
    "    grad_1 [0]= load_array[4][i]\n",
    "    phi_1[0] = load_array[5][i]\n",
    "    costnode_1[0] = load_array[6][i]\n",
    "    weights_1[0] = load_array[7][i]"
   ],
   "outputs": [
    {
     "output_type": "stream",
     "name": "stdout",
     "text": [
      "init file found\n",
      "147\n"
     ]
    }
   ],
   "metadata": {}
  },
  {
   "cell_type": "code",
   "execution_count": 10,
   "source": [
    "if os.path.isfile(final_file_1) :\n",
    "    print(\"final file found\")\n",
    "    \n",
    "    with open(final_file_1,'rb') as f:\n",
    "        load_array = pickle.load(f)\n",
    "\n",
    "    print(len(load_array[0]))\n",
    "\n",
    "    bestControl_1 = load_array[0]\n",
    "    bestState_1 = load_array[1]\n",
    "    cost_1 = load_array[2]\n",
    "    runtime_1 = load_array[3]\n",
    "    grad_1 = load_array[4]\n",
    "    phi_1 = load_array[5]\n",
    "    costnode_1 = load_array[6]\n",
    "    weights_1 = load_array[7]"
   ],
   "outputs": [],
   "metadata": {}
  },
  {
   "cell_type": "code",
   "execution_count": 21,
   "source": [
    "# get initial parameters and target states\n",
    "\n",
    "print(\"------- \", i, exc[i], inh[i])\n",
    "aln.params.ext_exc_current = exc[i] * 5.\n",
    "aln.params.ext_inh_current = inh[i] * 5.\n",
    "\n",
    "aln.params.duration = 3000.\n",
    "\n",
    "control0 = aln.getZeroControl()\n",
    "control0 = functions.step_control(aln, maxI_ = max_I[0])\n",
    "\n",
    "aln.run(control=control0)\n",
    "\n",
    "target_rates = np.zeros((2))\n",
    "target_rates[0] = aln.rates_exc[0,-1] \n",
    "target_rates[1] = aln.rates_inh[0,-1]\n",
    "\n",
    "control0 = functions.step_control(aln, maxI_ = max_I[1])\n",
    "aln.run(control=control0)\n",
    "\n",
    "init_state_vars = np.zeros(( len(state_vars) ))\n",
    "for j in range(len(state_vars)):\n",
    "    if aln.state[state_vars[j]].size == 1:\n",
    "        init_state_vars[j] = aln.state[state_vars[j]][0]\n",
    "    else:\n",
    "        init_state_vars[j] = aln.state[state_vars[j]][0,-1]\n",
    "\n",
    "initVars[i] = init_state_vars\n",
    "\n",
    "aln.params.duration = dur\n",
    "\n",
    "target[i] = aln.getZeroTarget()\n",
    "target[i][:,0,:] = target_rates[0]\n",
    "target[i][:,1,:] = target_rates[1]"
   ],
   "outputs": [
    {
     "output_type": "stream",
     "name": "stdout",
     "text": [
      "-------  50 0.47500000000000014 0.6000000000000003\n"
     ]
    }
   ],
   "metadata": {}
  },
  {
   "cell_type": "code",
   "execution_count": 20,
   "source": [
    "# get uncontrolled cost\n",
    "\n",
    "data.set_parameters(aln)\n",
    "aln.params.ext_exc_current = exc[i] * 5.\n",
    "aln.params.ext_inh_current = inh[i] * 5.\n",
    "aln.params.duration = dur\n",
    "\n",
    "cgv = None"
   ],
   "outputs": [],
   "metadata": {
    "scrolled": true
   }
  },
  {
   "cell_type": "code",
   "execution_count": 22,
   "source": [
    "print(np.argmax(np.abs(bestControl_1[0]), axis=2))\n",
    "print(bestControl_1[0][0,0,1650:1700]/5.)\n",
    "print(bestControl_1[0][0,0,1674]/5.)\n",
    "\n",
    "max_percent = (np.argmax(np.abs(bestControl_1[0]), axis=2)[0,0] -100) / 3800\n",
    "print(max_percent)"
   ],
   "outputs": [
    {
     "output_type": "stream",
     "name": "stdout",
     "text": [
      "[[1514 1494    0    0    0    0]]\n",
      "[-0.05751683 -0.05697911 -0.05644384 -0.0559128  -0.05538419 -0.05485816\n",
      " -0.05433471 -0.05381599 -0.05330156 -0.05278987 -0.05228085 -0.05177645\n",
      " -0.05127469 -0.05078954 -0.05030694 -0.04986323 -0.04942393 -0.04898738\n",
      " -0.04855358 -0.04812249 -0.04769409 -0.04726827 -0.04684495 -0.04642402\n",
      " -0.04600545 -0.04558917 -0.04517509 -0.04476315 -0.04435334 -0.04394566\n",
      " -0.04354011 -0.04313669 -0.04273688 -0.04233917 -0.04194427 -0.04155249\n",
      " -0.04116505 -0.0407798  -0.04039676 -0.04001702 -0.0396399  -0.03926505\n",
      " -0.03889238 -0.03852188 -0.03815363 -0.03778886 -0.0374262  -0.03706575\n",
      " -0.03670746 -0.03635133]\n",
      "-0.04600545478493252\n",
      "0.3721052631578947\n"
     ]
    }
   ],
   "metadata": {}
  },
  {
   "cell_type": "code",
   "execution_count": 23,
   "source": [
    "factor_iteration = 1.\n",
    "\n",
    "##### initial guess\n",
    "weight_ = 1.\n",
    "cost.setParams(weight_ * factor_wp, weight_ * factor_we, weight_ * factor_ws)\n",
    "\n",
    "setinit(initVars[i], aln)\n",
    "\n",
    "weights_1[0] = cost.getParams()\n",
    "\n",
    "for j in range(1, 381):\n",
    "\n",
    "    dur = 400. - np.around(j/10., 1)\n",
    "    T = 4001 - j\n",
    "    aln.params.duration = dur\n",
    "\n",
    "    factor_wp = dur / 20.\n",
    "    cost.setParams(weight_ * factor_wp, weight_ * factor_we, weight_ * factor_ws)\n",
    "\n",
    "    print('-----', j)\n",
    "    setinit(initVars[i], aln)\n",
    "\n",
    "    max_it = 3.\n",
    "    if j > 170:\n",
    "        max_it = 40.\n",
    "    elif j > 140:\n",
    "        max_it = 30.\n",
    "    elif j > 100.:\n",
    "        max_it = 20.\n",
    "    \n",
    "    if type(bestControl_1[j]) == type(None):\n",
    "        total_shift = round(j * max_percent * 10)\n",
    "        prev_shift = round( (j-1) * max_percent * 10)\n",
    "        shift_ind = total_shift - prev_shift\n",
    "        #print(total_shift, prev_shift, shift_ind)\n",
    "        control0 = np.zeros(( bestControl_1[j-1][:,:,100:-101].shape ))\n",
    "        control0[:,:,:-shift_ind] = 1. * bestControl_1[j-1][:,:,100+shift_ind:-101]\n",
    "    else:\n",
    "        if bestControl_1[j].shape[2] == T+200:\n",
    "            control0 = bestControl_1[j][:,:,100:-100]\n",
    "        else:\n",
    "            control0 = bestControl_1[j][:,:,100:-(100+j)]\n",
    "\n",
    "    bestControl_1[j], bestState_1[j], cost_1[j], runtime_1[j], grad_1[j], phi_1[j], costnode_1[j] = aln.A1(\n",
    "        control0, target[i], c_scheme, u_mat, u_scheme, max_iteration_ = max_it, tolerance_ = tol,\n",
    "        startStep_ = start_step, max_control_ = max_cntrl, min_control_ = min_cntrl, t_sim_ = dur,\n",
    "        t_sim_pre_ = dur_pre, t_sim_post_ = dur_post, CGVar = cgv, control_variables_ = [0,1],\n",
    "        prec_variables_ = prec_vars, transition_time_ = t_pen[j])\n",
    "\n",
    "    print(costnode_1[j][0][0][0], costnode_1[j][2][0][1])\n",
    "\n",
    "    print(costnode_1[0][0][0][0], costnode_1[0][2][0][1])\n",
    "        \n",
    "    with open(final_file_1,'wb') as f:\n",
    "        pickle.dump([bestControl_1, bestState_1, cost_1, runtime_1, grad_1, phi_1,\n",
    "                costnode_1, weights_1], f)"
   ],
   "outputs": [
    {
     "output_type": "stream",
     "name": "stdout",
     "text": [
      "set cost params:  20.0 1.0 0.0\n",
      "set cost params:  19.994999999999997 1.0 0.0\n",
      "----- 1\n",
      "interpolate adjoint :  True True True\n",
      "RUN  0 , total integrated cost =  3.5211823133352693\n",
      "Gradient descend method:  None\n",
      "RUN  1 , total integrated cost =  3.5211822180916412\n"
     ]
    },
    {
     "output_type": "stream",
     "name": "stderr",
     "text": [
      "ERROR:root:Problem in initial value trasfer\n"
     ]
    },
    {
     "output_type": "stream",
     "name": "stdout",
     "text": [
      "RUN  2 , total integrated cost =  3.5211822180842813\n",
      "RUN  3 , total integrated cost =  3.5211822180672296\n",
      "RUN  3 , total integrated cost =  3.5211822180672296\n",
      "Improved over  3  iterations in  0.8400544570031343  seconds by  2.7055696421030007e-06  percent.\n",
      "Problem in initial value trasfer:  Vmean_exc -73.82498121728527 -73.82822914900795\n",
      "9.162601673857172e-10 0.12950548299152465\n",
      "5.551237769899523e-09 0.12950540574463307\n",
      "set cost params:  19.990000000000002 1.0 0.0\n",
      "----- 2\n",
      "interpolate adjoint :  True True True\n",
      "RUN  0 , total integrated cost =  3.5211822207469057\n",
      "Gradient descend method:  None\n",
      "RUN  1 , total integrated cost =  3.5211822205612893\n"
     ]
    },
    {
     "output_type": "stream",
     "name": "stderr",
     "text": [
      "ERROR:root:Problem in initial value trasfer\n"
     ]
    },
    {
     "output_type": "stream",
     "name": "stdout",
     "text": [
      "RUN  2 , total integrated cost =  3.5211822205510264\n",
      "RUN  3 , total integrated cost =  3.5211822205368146\n",
      "RUN  3 , total integrated cost =  3.5211822205368146\n",
      "Improved over  3  iterations in  0.6417241830058629  seconds by  5.966498406451137e-09  percent.\n",
      "Problem in initial value trasfer:  Vmean_exc -73.84879309327464 -73.85193060691489\n",
      "9.481127369081806e-10 0.12950549717957846\n",
      "5.551237769899523e-09 0.12950540574463307\n",
      "set cost params:  19.985 1.0 0.0\n",
      "----- 3\n",
      "interpolate adjoint :  True True True\n",
      "RUN  0 , total integrated cost =  3.5211822233187706\n",
      "Gradient descend method:  None\n",
      "RUN  1 , total integrated cost =  3.521182223150717\n",
      "RUN  2 , total integrated cost =  3.5211807523852987\n"
     ]
    },
    {
     "output_type": "stream",
     "name": "stderr",
     "text": [
      "ERROR:root:Problem in initial value trasfer\n"
     ]
    },
    {
     "output_type": "stream",
     "name": "stdout",
     "text": [
      "RUN  3 , total integrated cost =  3.5211792733580056\n",
      "RUN  3 , total integrated cost =  3.5211792733580056\n",
      "Improved over  3  iterations in  0.6979303959960816  seconds by  8.377756610400411e-05  percent.\n",
      "Problem in initial value trasfer:  Vmean_exc -73.73538842781524 -73.73905195162789\n",
      "2.361782853353969e-09 0.12948853255112885\n",
      "5.551237769899523e-09 0.12950540574463307\n",
      "set cost params:  19.98 1.0 0.0\n",
      "----- 4\n",
      "interpolate adjoint :  True True True\n",
      "RUN  0 , total integrated cost =  3.5211792813695713\n",
      "Gradient descend method:  None\n",
      "RUN  1 , total integrated cost =  3.5211792612097264\n"
     ]
    },
    {
     "output_type": "stream",
     "name": "stderr",
     "text": [
      "ERROR:root:Problem in initial value trasfer\n"
     ]
    },
    {
     "output_type": "stream",
     "name": "stdout",
     "text": [
      "RUN  2 , total integrated cost =  3.521179261208519\n",
      "RUN  3 , total integrated cost =  3.5211792612041615\n",
      "RUN  3 , total integrated cost =  3.5211792612041615\n",
      "Improved over  3  iterations in  0.7728248290004558  seconds by  5.726890890400682e-07  percent.\n",
      "Problem in initial value trasfer:  Vmean_exc -73.9005178695354 -73.90341558664828\n",
      "1.0095959766614808e-09 0.12948858672276964\n",
      "5.551237769899523e-09 0.12950540574463307\n",
      "set cost params:  19.975 1.0 0.0\n",
      "----- 5\n",
      "interpolate adjoint :  True True True\n",
      "RUN  0 , total integrated cost =  3.521179264193481\n",
      "Gradient descend method:  None\n",
      "RUN  1 , total integrated cost =  3.5211792640529866\n"
     ]
    },
    {
     "output_type": "stream",
     "name": "stderr",
     "text": [
      "ERROR:root:Problem in initial value trasfer\n"
     ]
    },
    {
     "output_type": "stream",
     "name": "stdout",
     "text": [
      "RUN  2 , total integrated cost =  3.5211792640527912\n",
      "RUN  3 , total integrated cost =  3.521179264051253\n",
      "RUN  3 , total integrated cost =  3.521179264051253\n",
      "Improved over  3  iterations in  0.7518583790006232  seconds by  4.039208079120726e-09  percent.\n",
      "Problem in initial value trasfer:  Vmean_exc -73.9228880485712 -73.92568208151509\n",
      "1.0550510904253258e-09 0.12948858672421446\n",
      "5.551237769899523e-09 0.12950540574463307\n",
      "set cost params:  19.97 1.0 0.0\n",
      "----- 6\n",
      "interpolate adjoint :  True True True\n",
      "RUN  0 , total integrated cost =  3.521179267721579\n",
      "Gradient descend method:  None\n",
      "RUN  1 , total integrated cost =  3.5211792674805995\n"
     ]
    },
    {
     "output_type": "stream",
     "name": "stderr",
     "text": [
      "ERROR:root:Problem in initial value trasfer\n"
     ]
    },
    {
     "output_type": "stream",
     "name": "stdout",
     "text": [
      "RUN  2 , total integrated cost =  3.5211792674802216\n",
      "RUN  3 , total integrated cost =  3.5211792674521774\n",
      "RUN  3 , total integrated cost =  3.5211792674521774\n",
      "Improved over  3  iterations in  0.7193103570025414  seconds by  7.650896804989316e-09  percent.\n",
      "Problem in initial value trasfer:  Vmean_exc -73.93838729083917 -73.94110949448073\n",
      "1.1524590437990177e-09 0.12948858672421446\n",
      "5.551237769899523e-09 0.12950540574463307\n",
      "set cost params:  19.965 1.0 0.0\n",
      "----- 7\n",
      "interpolate adjoint :  True True True\n",
      "RUN  0 , total integrated cost =  3.521179271028147\n",
      "Gradient descend method:  None\n",
      "RUN  1 , total integrated cost =  3.5211792706003657\n",
      "RUN  2 , total integrated cost =  3.521179270599482\n"
     ]
    },
    {
     "output_type": "stream",
     "name": "stderr",
     "text": [
      "ERROR:root:Problem in initial value trasfer\n"
     ]
    },
    {
     "output_type": "stream",
     "name": "stdout",
     "text": [
      "RUN  3 , total integrated cost =  3.521179270598582\n",
      "RUN  3 , total integrated cost =  3.521179270598582\n",
      "Improved over  3  iterations in  0.7669510329942568  seconds by  1.2199478760521743e-08  percent.\n",
      "Problem in initial value trasfer:  Vmean_exc -73.96600937062058 -73.9686035805326\n",
      "1.1468515152880638e-09 0.1294885867784747\n",
      "5.551237769899523e-09 0.12950540574463307\n",
      "set cost params:  19.96 1.0 0.0\n",
      "----- 8\n",
      "interpolate adjoint :  True True True\n",
      "RUN  0 , total integrated cost =  3.5211792741356693\n",
      "Gradient descend method:  None\n",
      "RUN  1 , total integrated cost =  3.5211792739276473\n",
      "RUN  2 , total integrated cost =  3.521179273915652\n",
      "RUN  3 , total integrated cost =  3.5211792738975776\n",
      "RUN  3 , total integrated cost =  3.5211792738975776\n",
      "Improved over  3  iterations in  0.7119099799965625  seconds by  6.761695203749696e-09  percent.\n"
     ]
    },
    {
     "output_type": "stream",
     "name": "stderr",
     "text": [
      "ERROR:root:Problem in initial value trasfer\n"
     ]
    },
    {
     "output_type": "stream",
     "name": "stdout",
     "text": [
      "Problem in initial value trasfer:  Vmean_exc -73.98535969371056 -73.9878642523267\n",
      "1.2061872677360153e-09 0.1294885867784747\n",
      "5.551237769899523e-09 0.12950540574463307\n",
      "set cost params:  19.955000000000002 1.0 0.0\n",
      "----- 9\n",
      "interpolate adjoint :  True True True\n",
      "RUN  0 , total integrated cost =  3.521179278260224\n",
      "Gradient descend method:  None\n",
      "RUN  1 , total integrated cost =  3.521179277903846\n"
     ]
    },
    {
     "output_type": "stream",
     "name": "stderr",
     "text": [
      "ERROR:root:Problem in initial value trasfer\n"
     ]
    },
    {
     "output_type": "stream",
     "name": "stdout",
     "text": [
      "RUN  2 , total integrated cost =  3.5211792779031312\n",
      "RUN  3 , total integrated cost =  3.52117927745964\n",
      "RUN  3 , total integrated cost =  3.52117927745964\n",
      "Improved over  3  iterations in  0.7464372210015426  seconds by  2.273623067594599e-08  percent.\n",
      "Problem in initial value trasfer:  Vmean_exc -74.02348086617087 -74.02580882855807\n",
      "1.0792567192995634e-09 0.12948858683213985\n",
      "5.551237769899523e-09 0.12950540574463307\n",
      "set cost params:  19.95 1.0 0.0\n",
      "----- 10\n",
      "interpolate adjoint :  True True True\n",
      "RUN  0 , total integrated cost =  3.5211792806840205\n",
      "Gradient descend method:  None\n",
      "RUN  1 , total integrated cost =  3.521179280619945\n"
     ]
    },
    {
     "output_type": "stream",
     "name": "stderr",
     "text": [
      "ERROR:root:Problem in initial value trasfer\n"
     ]
    },
    {
     "output_type": "stream",
     "name": "stdout",
     "text": [
      "RUN  2 , total integrated cost =  3.5211792806185507\n",
      "RUN  3 , total integrated cost =  3.521179280607778\n",
      "RUN  3 , total integrated cost =  3.521179280607778\n",
      "Improved over  3  iterations in  0.6877119400014635  seconds by  2.1652510895364685e-09  percent.\n",
      "Problem in initial value trasfer:  Vmean_exc -74.02298079497768 -74.02531107353839\n",
      "1.3256418692170564e-09 0.12948858683213985\n",
      "5.551237769899523e-09 0.12950540574463307\n",
      "set cost params:  19.945 1.0 0.0\n",
      "----- 11\n",
      "interpolate adjoint :  True True True\n",
      "RUN  0 , total integrated cost =  3.521179284837084\n",
      "Gradient descend method:  None\n",
      "RUN  1 , total integrated cost =  3.5211792844911516\n"
     ]
    },
    {
     "output_type": "stream",
     "name": "stderr",
     "text": [
      "ERROR:root:Problem in initial value trasfer\n"
     ]
    },
    {
     "output_type": "stream",
     "name": "stdout",
     "text": [
      "RUN  2 , total integrated cost =  3.521179284489164\n",
      "RUN  3 , total integrated cost =  3.521179284479728\n",
      "RUN  3 , total integrated cost =  3.521179284479728\n",
      "Improved over  3  iterations in  0.6593223809977644  seconds by  1.0148767159989802e-08  percent.\n",
      "Problem in initial value trasfer:  Vmean_exc -74.04167092247285 -74.04391463910679\n",
      "1.3793071372991198e-09 0.12948858689427326\n",
      "5.551237769899523e-09 0.12950540574463307\n",
      "set cost params:  19.94 1.0 0.0\n",
      "----- 12\n",
      "interpolate adjoint :  True True True\n",
      "RUN  0 , total integrated cost =  3.521179288909051\n",
      "Gradient descend method:  None\n",
      "RUN  1 , total integrated cost =  3.5211792885598445\n",
      "RUN  2 , total integrated cost =  3.5211792885275064\n"
     ]
    },
    {
     "output_type": "stream",
     "name": "stderr",
     "text": [
      "ERROR:root:Problem in initial value trasfer\n"
     ]
    },
    {
     "output_type": "stream",
     "name": "stdout",
     "text": [
      "RUN  3 , total integrated cost =  3.5211792884824042\n",
      "RUN  3 , total integrated cost =  3.5211792884824042\n",
      "Improved over  3  iterations in  0.6990002620004816  seconds by  1.211658684496797e-08  percent.\n",
      "Problem in initial value trasfer:  Vmean_exc -74.06077035771985 -74.0629256271702\n",
      "1.4201313529040702e-09 0.12948858689427326\n",
      "5.551237769899523e-09 0.12950540574463307\n",
      "set cost params:  19.935 1.0 0.0\n",
      "----- 13\n",
      "interpolate adjoint :  True True True\n",
      "RUN  0 , total integrated cost =  3.5211792937771973\n",
      "Gradient descend method:  None\n",
      "RUN  1 , total integrated cost =  3.521179293398728\n"
     ]
    },
    {
     "output_type": "stream",
     "name": "stderr",
     "text": [
      "ERROR:root:Problem in initial value trasfer\n"
     ]
    },
    {
     "output_type": "stream",
     "name": "stdout",
     "text": [
      "RUN  2 , total integrated cost =  3.521179293395787\n",
      "RUN  3 , total integrated cost =  3.5211792933891295\n",
      "RUN  3 , total integrated cost =  3.5211792933891295\n",
      "Improved over  3  iterations in  0.6692193760027294  seconds by  1.1020958368135325e-08  percent.\n",
      "Problem in initial value trasfer:  Vmean_exc -74.07655022910039 -74.07863243180968\n",
      "1.5008553094276782e-09 0.12948860106401655\n",
      "5.551237769899523e-09 0.12950540574463307\n",
      "set cost params:  19.93 1.0 0.0\n",
      "----- 14\n",
      "interpolate adjoint :  True True True\n",
      "RUN  0 , total integrated cost =  3.521179297515541\n",
      "Gradient descend method:  None\n",
      "RUN  1 , total integrated cost =  3.5211792972623144\n"
     ]
    },
    {
     "output_type": "stream",
     "name": "stderr",
     "text": [
      "ERROR:root:Problem in initial value trasfer\n"
     ]
    },
    {
     "output_type": "stream",
     "name": "stdout",
     "text": [
      "RUN  2 , total integrated cost =  3.521179297260682\n",
      "RUN  3 , total integrated cost =  3.5211792971318987\n",
      "RUN  3 , total integrated cost =  3.5211792971318987\n",
      "Improved over  3  iterations in  0.7443229769996833  seconds by  1.0895291779888794e-08  percent.\n",
      "Problem in initial value trasfer:  Vmean_exc -74.08633232808748 -74.08836923960507\n",
      "1.645391447859138e-09 0.12948860106401655\n",
      "5.551237769899523e-09 0.12950540574463307\n",
      "set cost params:  19.925 1.0 0.0\n",
      "----- 15\n",
      "interpolate adjoint :  True True True\n",
      "RUN  0 , total integrated cost =  3.5211793025290663\n",
      "Gradient descend method:  None\n",
      "RUN  1 , total integrated cost =  3.5211793017639126\n"
     ]
    },
    {
     "output_type": "stream",
     "name": "stderr",
     "text": [
      "ERROR:root:Problem in initial value trasfer\n"
     ]
    },
    {
     "output_type": "stream",
     "name": "stdout",
     "text": [
      "RUN  2 , total integrated cost =  3.521179301761576\n",
      "RUN  3 , total integrated cost =  3.521179301676663\n",
      "RUN  3 , total integrated cost =  3.521179301676663\n",
      "Improved over  3  iterations in  0.6988133399936487  seconds by  2.420790679025231e-08  percent.\n",
      "Problem in initial value trasfer:  Vmean_exc -74.11381905145859 -74.11572871332555\n",
      "1.5149240257227048e-09 0.1294886011589141\n",
      "5.551237769899523e-09 0.12950540574463307\n",
      "set cost params:  19.919999999999998 1.0 0.0\n",
      "----- 16\n",
      "interpolate adjoint :  True True True\n",
      "RUN  0 , total integrated cost =  3.521179306589766\n",
      "Gradient descend method:  None\n",
      "RUN  1 , total integrated cost =  3.5211793065383694\n"
     ]
    },
    {
     "output_type": "stream",
     "name": "stderr",
     "text": [
      "ERROR:root:Problem in initial value trasfer\n"
     ]
    },
    {
     "output_type": "stream",
     "name": "stdout",
     "text": [
      "RUN  2 , total integrated cost =  3.521179306530045\n",
      "RUN  3 , total integrated cost =  3.5211793065146106\n",
      "RUN  3 , total integrated cost =  3.5211793065146106\n",
      "Improved over  3  iterations in  0.6911367339998833  seconds by  2.1343851130950497e-09  percent.\n",
      "Problem in initial value trasfer:  Vmean_exc -74.12313685700866 -74.12500338661037\n",
      "1.6901615915708486e-09 0.1294886011589141\n",
      "5.551237769899523e-09 0.12950540574463307\n",
      "set cost params:  19.915 1.0 0.0\n",
      "----- 17\n",
      "interpolate adjoint :  True True True\n",
      "RUN  0 , total integrated cost =  3.5211793129249362\n",
      "Gradient descend method:  None\n",
      "RUN  1 , total integrated cost =  3.5211793124915145\n",
      "RUN  2 , total integrated cost =  3.521179312488552\n"
     ]
    },
    {
     "output_type": "stream",
     "name": "stderr",
     "text": [
      "ERROR:root:Problem in initial value trasfer\n"
     ]
    },
    {
     "output_type": "stream",
     "name": "stdout",
     "text": [
      "RUN  3 , total integrated cost =  3.52117931248044\n",
      "RUN  3 , total integrated cost =  3.52117931248044\n",
      "Improved over  3  iterations in  1.1479408459999831  seconds by  1.2623516454368655e-08  percent.\n",
      "Problem in initial value trasfer:  Vmean_exc -74.13685351611991 -74.1386565553249\n",
      "1.786799552723438e-09 0.1294886011589141\n",
      "5.551237769899523e-09 0.12950540574463307\n",
      "set cost params:  19.91 1.0 0.0\n",
      "----- 18\n",
      "interpolate adjoint :  True True True\n",
      "RUN  0 , total integrated cost =  3.521179318359706\n",
      "Gradient descend method:  None\n",
      "RUN  1 , total integrated cost =  3.5211793179896054\n",
      "RUN  2 , total integrated cost =  3.5211793179681248\n",
      "RUN  3 , total integrated cost =  3.521179317939405\n"
     ]
    },
    {
     "output_type": "stream",
     "name": "stderr",
     "text": [
      "ERROR:root:Problem in initial value trasfer\n"
     ]
    },
    {
     "output_type": "stream",
     "name": "stdout",
     "text": [
      "RUN  3 , total integrated cost =  3.521179317939405\n",
      "Improved over  3  iterations in  0.7670742609989247  seconds by  1.1936378996324493e-08  percent.\n",
      "Problem in initial value trasfer:  Vmean_exc -74.1511188617446 -74.15285587629413\n",
      "1.8655240382046084e-09 0.1294886011589141\n",
      "5.551237769899523e-09 0.12950540574463307\n",
      "set cost params:  19.905 1.0 0.0\n",
      "----- 19\n",
      "interpolate adjoint :  True True True\n",
      "RUN  0 , total integrated cost =  3.5211793240860545\n",
      "Gradient descend method:  None\n",
      "RUN  1 , total integrated cost =  3.521179323721425\n",
      "RUN  2 , total integrated cost =  3.521179321238709\n"
     ]
    },
    {
     "output_type": "stream",
     "name": "stderr",
     "text": [
      "ERROR:root:Problem in initial value trasfer\n"
     ]
    },
    {
     "output_type": "stream",
     "name": "stdout",
     "text": [
      "RUN  3 , total integrated cost =  3.521179318282418\n",
      "RUN  3 , total integrated cost =  3.521179318282418\n",
      "Improved over  3  iterations in  0.6820331169947167  seconds by  1.648208183269162e-07  percent.\n",
      "Problem in initial value trasfer:  Vmean_exc -74.16616361279756 -74.16783100153741\n",
      "1.915068162968483e-09 0.12948860092143177\n",
      "5.551237769899523e-09 0.12950540574463307\n",
      "set cost params:  19.9 1.0 0.0\n",
      "----- 20\n",
      "interpolate adjoint :  True True True\n",
      "RUN  0 , total integrated cost =  3.5211793255773958\n",
      "Gradient descend method:  None\n",
      "RUN  1 , total integrated cost =  3.5211793252314036\n",
      "RUN  2 , total integrated cost =  3.52117932521942\n"
     ]
    },
    {
     "output_type": "stream",
     "name": "stderr",
     "text": [
      "ERROR:root:Problem in initial value trasfer\n"
     ]
    },
    {
     "output_type": "stream",
     "name": "stdout",
     "text": [
      "RUN  3 , total integrated cost =  3.5211793251974868\n",
      "RUN  3 , total integrated cost =  3.5211793251974868\n",
      "Improved over  3  iterations in  0.7203245429991512  seconds by  1.0789264592858672e-08  percent.\n",
      "Problem in initial value trasfer:  Vmean_exc -74.17734112314463 -74.1789567875352\n",
      "2.0548199411736525e-09 0.12948860092143177\n",
      "5.551237769899523e-09 0.12950540574463307\n",
      "set cost params:  19.895 1.0 0.0\n",
      "----- 21\n",
      "interpolate adjoint :  True True True\n",
      "RUN  0 , total integrated cost =  3.5211793309407518\n",
      "Gradient descend method:  None\n",
      "RUN  1 , total integrated cost =  3.521179330669796\n",
      "RUN  2 , total integrated cost =  3.5211793306561407\n"
     ]
    },
    {
     "output_type": "stream",
     "name": "stderr",
     "text": [
      "ERROR:root:Problem in initial value trasfer\n"
     ]
    },
    {
     "output_type": "stream",
     "name": "stdout",
     "text": [
      "RUN  3 , total integrated cost =  3.5211793306353565\n",
      "RUN  3 , total integrated cost =  3.5211793306353565\n",
      "Improved over  3  iterations in  0.8361338959948625  seconds by  8.673097795508511e-09  percent.\n",
      "Problem in initial value trasfer:  Vmean_exc -74.18871486443742 -74.19027790013514\n",
      "2.1408672002136415e-09 0.12948860092143177\n",
      "5.551237769899523e-09 0.12950540574463307\n",
      "set cost params:  19.89 1.0 0.0\n",
      "----- 22\n",
      "interpolate adjoint :  True True True\n",
      "RUN  0 , total integrated cost =  3.5211793376931677\n",
      "Gradient descend method:  None\n",
      "RUN  1 , total integrated cost =  3.5211793373106213\n",
      "RUN  2 , total integrated cost =  3.5211793373080527\n"
     ]
    },
    {
     "output_type": "stream",
     "name": "stderr",
     "text": [
      "ERROR:root:Problem in initial value trasfer\n"
     ]
    },
    {
     "output_type": "stream",
     "name": "stdout",
     "text": [
      "RUN  3 , total integrated cost =  3.521179337229639\n",
      "RUN  3 , total integrated cost =  3.521179337229639\n",
      "Improved over  3  iterations in  0.9595504730023094  seconds by  1.3164026313461363e-08  percent.\n",
      "Problem in initial value trasfer:  Vmean_exc -74.19803632227705 -74.19955622844073\n",
      "2.33588261716511e-09 0.12948860100594214\n",
      "5.551237769899523e-09 0.12950540574463307\n",
      "set cost params:  19.884999999999998 1.0 0.0\n",
      "----- 23\n",
      "interpolate adjoint :  True True True\n",
      "RUN  0 , total integrated cost =  3.521179344915951\n",
      "Gradient descend method:  None\n",
      "RUN  1 , total integrated cost =  3.521179344175889\n",
      "RUN  2 , total integrated cost =  3.5211793441716064\n",
      "RUN  3 , total integrated cost =  3.521179344151694\n"
     ]
    },
    {
     "output_type": "stream",
     "name": "stderr",
     "text": [
      "ERROR:root:Problem in initial value trasfer\n"
     ]
    },
    {
     "output_type": "stream",
     "name": "stdout",
     "text": [
      "RUN  3 , total integrated cost =  3.521179344151694\n",
      "Improved over  3  iterations in  0.8086629859972163  seconds by  2.1704579467041185e-08  percent.\n",
      "Problem in initial value trasfer:  Vmean_exc -74.21145932057958 -74.21291712420779\n",
      "2.38851063056991e-09 0.1294886269787202\n",
      "5.551237769899523e-09 0.12950540574463307\n",
      "set cost params:  19.880000000000003 1.0 0.0\n",
      "----- 24\n",
      "interpolate adjoint :  True True True\n",
      "RUN  0 , total integrated cost =  3.5211793532312203\n",
      "Gradient descend method:  None\n",
      "RUN  1 , total integrated cost =  3.521179352561208\n"
     ]
    },
    {
     "output_type": "stream",
     "name": "stderr",
     "text": [
      "ERROR:root:Problem in initial value trasfer\n"
     ]
    },
    {
     "output_type": "stream",
     "name": "stdout",
     "text": [
      "RUN  2 , total integrated cost =  3.5211793525589323\n",
      "RUN  3 , total integrated cost =  3.5211793525486135\n",
      "RUN  3 , total integrated cost =  3.5211793525486135\n",
      "Improved over  3  iterations in  0.7076220750022912  seconds by  1.938575167059753e-08  percent.\n",
      "Problem in initial value trasfer:  Vmean_exc -74.22265102037937 -74.22405704875598\n",
      "2.507054743845289e-09 0.129488652739319\n",
      "5.551237769899523e-09 0.12950540574463307\n",
      "set cost params:  19.875 1.0 0.0\n",
      "----- 25\n",
      "interpolate adjoint :  True True True\n",
      "RUN  0 , total integrated cost =  3.5211793608142714\n",
      "Gradient descend method:  None\n",
      "RUN  1 , total integrated cost =  3.5211793602920927\n"
     ]
    },
    {
     "output_type": "stream",
     "name": "stderr",
     "text": [
      "ERROR:root:Problem in initial value trasfer\n"
     ]
    },
    {
     "output_type": "stream",
     "name": "stdout",
     "text": [
      "RUN  2 , total integrated cost =  3.521179360286431\n",
      "RUN  3 , total integrated cost =  3.521179360270921\n",
      "RUN  3 , total integrated cost =  3.521179360270921\n",
      "Improved over  3  iterations in  0.6819316399996751  seconds by  1.5430913435920957e-08  percent.\n",
      "Problem in initial value trasfer:  Vmean_exc -74.23372873446426 -74.23508351849252\n",
      "2.619268386218258e-09 0.129488652739319\n",
      "5.551237769899523e-09 0.12950540574463307\n",
      "set cost params:  19.869999999999997 1.0 0.0\n",
      "----- 26\n",
      "interpolate adjoint :  True True True\n",
      "RUN  0 , total integrated cost =  3.521179368996881\n",
      "Gradient descend method:  None\n",
      "RUN  1 , total integrated cost =  3.5211793683899533\n",
      "RUN  2 , total integrated cost =  3.5211793677725516\n"
     ]
    },
    {
     "output_type": "stream",
     "name": "stderr",
     "text": [
      "ERROR:root:Problem in initial value trasfer\n"
     ]
    },
    {
     "output_type": "stream",
     "name": "stdout",
     "text": [
      "RUN  3 , total integrated cost =  3.521179367025233\n",
      "RUN  3 , total integrated cost =  3.521179367025233\n",
      "Improved over  3  iterations in  0.9714317649995792  seconds by  5.599397923106153e-08  percent.\n",
      "Problem in initial value trasfer:  Vmean_exc -74.24407522330283 -74.24538214876353\n",
      "2.751217151504848e-09 0.129488652739319\n",
      "5.551237769899523e-09 0.12950540574463307\n",
      "set cost params:  19.865000000000002 1.0 0.0\n",
      "----- 27\n",
      "interpolate adjoint :  True True True\n",
      "RUN  0 , total integrated cost =  3.521179376368786\n",
      "Gradient descend method:  None\n",
      "RUN  1 , total integrated cost =  3.5211793755490715\n",
      "RUN  2 , total integrated cost =  3.5211793755477268\n",
      "RUN  3 , total integrated cost =  3.5211793755389116\n"
     ]
    },
    {
     "output_type": "stream",
     "name": "stderr",
     "text": [
      "ERROR:root:Problem in initial value trasfer\n"
     ]
    },
    {
     "output_type": "stream",
     "name": "stdout",
     "text": [
      "RUN  3 , total integrated cost =  3.5211793755389116\n",
      "Improved over  3  iterations in  1.002777822999633  seconds by  2.3568077267555054e-08  percent.\n",
      "Problem in initial value trasfer:  Vmean_exc -74.25450810780018 -74.25576677819508\n",
      "2.8052482634204606e-09 0.12948870253079117\n",
      "5.551237769899523e-09 0.12950540574463307\n",
      "set cost params:  19.86 1.0 0.0\n",
      "----- 28\n",
      "interpolate adjoint :  True True True\n",
      "RUN  0 , total integrated cost =  3.521179385155699\n",
      "Gradient descend method:  None\n",
      "RUN  1 , total integrated cost =  3.5211793845174246\n"
     ]
    },
    {
     "output_type": "stream",
     "name": "stderr",
     "text": [
      "ERROR:root:Problem in initial value trasfer\n"
     ]
    },
    {
     "output_type": "stream",
     "name": "stdout",
     "text": [
      "RUN  2 , total integrated cost =  3.521179384514203\n",
      "RUN  3 , total integrated cost =  3.521179384467073\n",
      "RUN  3 , total integrated cost =  3.521179384467073\n",
      "Improved over  3  iterations in  0.6798899620043812  seconds by  1.9556694041966693e-08  percent.\n",
      "Problem in initial value trasfer:  Vmean_exc -74.2627845453396 -74.26400493708512\n",
      "3.0230395789007094e-09 0.12948870264198917\n",
      "5.551237769899523e-09 0.12950540574463307\n",
      "set cost params:  19.855 1.0 0.0\n",
      "----- 29\n",
      "interpolate adjoint :  True True True\n",
      "RUN  0 , total integrated cost =  3.521179395164343\n",
      "Gradient descend method:  None\n",
      "RUN  1 , total integrated cost =  3.521179393919406\n"
     ]
    },
    {
     "output_type": "stream",
     "name": "stderr",
     "text": [
      "ERROR:root:Problem in initial value trasfer\n"
     ]
    },
    {
     "output_type": "stream",
     "name": "stdout",
     "text": [
      "RUN  2 , total integrated cost =  3.521179393918747\n",
      "RUN  3 , total integrated cost =  3.521179393906409\n",
      "RUN  3 , total integrated cost =  3.521179393906409\n",
      "Improved over  3  iterations in  0.7458418950045598  seconds by  3.5724795566238754e-08  percent.\n",
      "Problem in initial value trasfer:  Vmean_exc -74.27364345255639 -74.27481362468626\n",
      "3.088732167114533e-09 0.1294887698437571\n",
      "5.551237769899523e-09 0.12950540574463307\n",
      "set cost params:  19.85 1.0 0.0\n",
      "----- 30\n",
      "interpolate adjoint :  True True True\n",
      "RUN  0 , total integrated cost =  3.521179404917573\n",
      "Gradient descend method:  None\n",
      "RUN  1 , total integrated cost =  3.521179403900994\n"
     ]
    },
    {
     "output_type": "stream",
     "name": "stderr",
     "text": [
      "ERROR:root:Problem in initial value trasfer\n"
     ]
    },
    {
     "output_type": "stream",
     "name": "stdout",
     "text": [
      "RUN  2 , total integrated cost =  3.5211794038983903\n",
      "RUN  3 , total integrated cost =  3.5211794031832038\n",
      "RUN  3 , total integrated cost =  3.5211794031832038\n",
      "Improved over  3  iterations in  0.6097349889969337  seconds by  4.925534824451461e-08  percent.\n",
      "Problem in initial value trasfer:  Vmean_exc -74.27844303048208 -74.27959100689769\n",
      "3.54617077922038e-09 0.1294887699898207\n",
      "5.551237769899523e-09 0.12950540574463307\n",
      "set cost params:  19.845 1.0 0.0\n",
      "----- 31\n",
      "interpolate adjoint :  True True True\n",
      "RUN  0 , total integrated cost =  3.5211794184253224\n",
      "Gradient descend method:  None\n",
      "RUN  1 , total integrated cost =  3.521179414628458\n",
      "RUN  2 , total integrated cost =  3.5211794146245623\n"
     ]
    },
    {
     "output_type": "stream",
     "name": "stderr",
     "text": [
      "ERROR:root:Problem in initial value trasfer\n"
     ]
    },
    {
     "output_type": "stream",
     "name": "stdout",
     "text": [
      "RUN  3 , total integrated cost =  3.521179414609988\n",
      "RUN  3 , total integrated cost =  3.521179414609988\n",
      "Improved over  3  iterations in  0.8245180510057253  seconds by  1.0835387342922331e-07  percent.\n",
      "Problem in initial value trasfer:  Vmean_exc -74.29213565959762 -74.29322031790714\n",
      "3.362056974177096e-09 0.12948877027768904\n",
      "5.551237769899523e-09 0.12950540574463307\n",
      "set cost params:  19.84 1.0 0.0\n",
      "----- 32\n",
      "interpolate adjoint :  True True True\n",
      "RUN  0 , total integrated cost =  3.5211794249835915\n",
      "Gradient descend method:  None\n",
      "RUN  1 , total integrated cost =  3.52117942416003\n",
      "RUN  2 , total integrated cost =  3.521179424099405\n"
     ]
    },
    {
     "output_type": "stream",
     "name": "stderr",
     "text": [
      "ERROR:root:Problem in initial value trasfer\n"
     ]
    },
    {
     "output_type": "stream",
     "name": "stdout",
     "text": [
      "RUN  3 , total integrated cost =  3.52117942406016\n",
      "RUN  3 , total integrated cost =  3.52117942406016\n",
      "Improved over  3  iterations in  0.9067580459959572  seconds by  2.6225066562801658e-08  percent.\n",
      "Problem in initial value trasfer:  Vmean_exc -74.30062724419973 -74.30167263803187\n",
      "3.4467558326369786e-09 0.12948877027768904\n",
      "5.551237769899523e-09 0.12950540574463307\n",
      "set cost params:  19.835 1.0 0.0\n",
      "----- 33\n",
      "interpolate adjoint :  True True True\n",
      "RUN  0 , total integrated cost =  3.521179436736721\n",
      "Gradient descend method:  None\n",
      "RUN  1 , total integrated cost =  3.5211794357636883\n"
     ]
    },
    {
     "output_type": "stream",
     "name": "stderr",
     "text": [
      "ERROR:root:Problem in initial value trasfer\n"
     ]
    },
    {
     "output_type": "stream",
     "name": "stdout",
     "text": [
      "RUN  2 , total integrated cost =  3.5211794357609802\n",
      "RUN  3 , total integrated cost =  3.521179435733612\n",
      "RUN  3 , total integrated cost =  3.521179435733612\n",
      "Improved over  3  iterations in  0.7668571600006544  seconds by  2.8487875169957988e-08  percent.\n",
      "Problem in initial value trasfer:  Vmean_exc -74.30849034191847 -74.309499379202\n",
      "3.6482785336616047e-09 0.12948877043698917\n",
      "5.551237769899523e-09 0.12950540574463307\n",
      "set cost params:  19.830000000000002 1.0 0.0\n",
      "----- 34\n",
      "interpolate adjoint :  True True True\n",
      "RUN  0 , total integrated cost =  3.5211794493133364\n",
      "Gradient descend method:  None\n",
      "RUN  1 , total integrated cost =  3.5211794480483145\n"
     ]
    },
    {
     "output_type": "stream",
     "name": "stderr",
     "text": [
      "ERROR:root:Problem in initial value trasfer\n"
     ]
    },
    {
     "output_type": "stream",
     "name": "stdout",
     "text": [
      "RUN  2 , total integrated cost =  3.521179448043296\n",
      "RUN  3 , total integrated cost =  3.5211794480254324\n",
      "RUN  3 , total integrated cost =  3.5211794480254324\n",
      "Improved over  3  iterations in  0.7775481220014626  seconds by  3.657592628769635e-08  percent.\n",
      "Problem in initial value trasfer:  Vmean_exc -74.31692578431986 -74.31789582068679\n",
      "3.783335176432049e-09 0.1294887706270968\n",
      "5.551237769899523e-09 0.12950540574463307\n",
      "set cost params:  19.825 1.0 0.0\n",
      "----- 35\n",
      "interpolate adjoint :  True True True\n",
      "RUN  0 , total integrated cost =  3.5211794644603684\n",
      "Gradient descend method:  None\n",
      "RUN  1 , total integrated cost =  3.5211794629173037\n"
     ]
    },
    {
     "output_type": "stream",
     "name": "stderr",
     "text": [
      "ERROR:root:Problem in initial value trasfer\n"
     ]
    },
    {
     "output_type": "stream",
     "name": "stdout",
     "text": [
      "RUN  2 , total integrated cost =  3.5211794629032434\n",
      "RUN  3 , total integrated cost =  3.5211794628812503\n",
      "RUN  3 , total integrated cost =  3.5211794628812503\n",
      "Improved over  3  iterations in  0.6335681540003861  seconds by  4.4846288460576034e-08  percent.\n",
      "Problem in initial value trasfer:  Vmean_exc -74.32472680880427 -74.32566077928143\n",
      "3.956411856386783e-09 0.1294887706270968\n",
      "5.551237769899523e-09 0.12950540574463307\n",
      "set cost params:  19.82 1.0 0.0\n",
      "----- 36\n",
      "interpolate adjoint :  True True True\n",
      "RUN  0 , total integrated cost =  3.5211794777975416\n",
      "Gradient descend method:  None\n",
      "RUN  1 , total integrated cost =  3.521179476651859\n",
      "RUN  2 , total integrated cost =  3.5211794766450297\n"
     ]
    },
    {
     "output_type": "stream",
     "name": "stderr",
     "text": [
      "ERROR:root:Problem in initial value trasfer\n"
     ]
    },
    {
     "output_type": "stream",
     "name": "stdout",
     "text": [
      "RUN  3 , total integrated cost =  3.5211794766225286\n",
      "RUN  3 , total integrated cost =  3.5211794766225286\n",
      "Improved over  3  iterations in  0.8582096390018705  seconds by  3.3369872198818484e-08  percent.\n",
      "Problem in initial value trasfer:  Vmean_exc -74.33205056920964 -74.33295068188936\n",
      "4.160184850857006e-09 0.1294887706270968\n",
      "5.551237769899523e-09 0.12950540574463307\n",
      "set cost params:  19.815 1.0 0.0\n",
      "----- 37\n",
      "interpolate adjoint :  True True True\n",
      "RUN  0 , total integrated cost =  3.52117948995407\n",
      "Gradient descend method:  None\n",
      "RUN  1 , total integrated cost =  3.5211794889929715\n",
      "RUN  2 , total integrated cost =  3.521179488985247\n"
     ]
    },
    {
     "output_type": "stream",
     "name": "stderr",
     "text": [
      "ERROR:root:Problem in initial value trasfer\n"
     ]
    },
    {
     "output_type": "stream",
     "name": "stdout",
     "text": [
      "RUN  3 , total integrated cost =  3.5211794889646324\n",
      "RUN  3 , total integrated cost =  3.5211794889646324\n",
      "Improved over  3  iterations in  0.8534085509963916  seconds by  2.809960619742924e-08  percent.\n",
      "Problem in initial value trasfer:  Vmean_exc -74.33886885133927 -74.33973744443801\n",
      "4.297668548465504e-09 0.1294887706270968\n",
      "5.551237769899523e-09 0.12950540574463307\n",
      "set cost params:  19.81 1.0 0.0\n",
      "----- 38\n",
      "interpolate adjoint :  True True True\n",
      "RUN  0 , total integrated cost =  3.521179507910445\n",
      "Gradient descend method:  None\n",
      "RUN  1 , total integrated cost =  3.521179506342804\n",
      "RUN  2 , total integrated cost =  3.5211795055458404\n"
     ]
    },
    {
     "output_type": "stream",
     "name": "stderr",
     "text": [
      "ERROR:root:Problem in initial value trasfer\n"
     ]
    },
    {
     "output_type": "stream",
     "name": "stdout",
     "text": [
      "RUN  3 , total integrated cost =  3.5211795048240893\n",
      "RUN  3 , total integrated cost =  3.5211795048240893\n",
      "Improved over  3  iterations in  0.729859866994957  seconds by  8.76511876413133e-08  percent.\n",
      "Problem in initial value trasfer:  Vmean_exc -74.34574929038615 -74.34658607792004\n",
      "4.5122101104445376e-09 0.1294887706270968\n",
      "5.551237769899523e-09 0.12950540574463307\n",
      "set cost params:  19.805 1.0 0.0\n",
      "----- 39\n",
      "interpolate adjoint :  True True True\n",
      "RUN  0 , total integrated cost =  3.521179522047759\n",
      "Gradient descend method:  None\n",
      "RUN  1 , total integrated cost =  3.521179520879091\n"
     ]
    },
    {
     "output_type": "stream",
     "name": "stderr",
     "text": [
      "ERROR:root:Problem in initial value trasfer\n"
     ]
    },
    {
     "output_type": "stream",
     "name": "stdout",
     "text": [
      "RUN  2 , total integrated cost =  3.521179520875538\n",
      "RUN  3 , total integrated cost =  3.5211795208232974\n",
      "RUN  3 , total integrated cost =  3.5211795208232974\n",
      "Improved over  3  iterations in  0.6443105959988316  seconds by  3.4774188861774746e-08  percent.\n",
      "Problem in initial value trasfer:  Vmean_exc -74.35171280341812 -74.352522025077\n",
      "4.837576904280649e-09 0.12948881700912682\n",
      "5.551237769899523e-09 0.12950540574463307\n",
      "set cost params:  19.8 1.0 0.0\n",
      "----- 40\n",
      "interpolate adjoint :  True True True\n",
      "RUN  0 , total integrated cost =  3.5211795393492005\n",
      "Gradient descend method:  None\n",
      "RUN  1 , total integrated cost =  3.5211795376759296\n"
     ]
    },
    {
     "output_type": "stream",
     "name": "stderr",
     "text": [
      "ERROR:root:Problem in initial value trasfer\n"
     ]
    },
    {
     "output_type": "stream",
     "name": "stdout",
     "text": [
      "RUN  2 , total integrated cost =  3.521179537658409\n",
      "RUN  3 , total integrated cost =  3.521179537627536\n",
      "RUN  3 , total integrated cost =  3.521179537627536\n",
      "Improved over  3  iterations in  0.6895681000023615  seconds by  4.8894548854150344e-08  percent.\n",
      "Problem in initial value trasfer:  Vmean_exc -74.35870690186167 -74.35948379514768\n",
      "4.986308409280382e-09 0.12948881700912682\n",
      "5.551237769899523e-09 0.12950540574463307\n",
      "set cost params:  19.794999999999998 1.0 0.0\n",
      "----- 41\n",
      "interpolate adjoint :  True True True\n",
      "RUN  0 , total integrated cost =  3.5211795537868995\n",
      "Gradient descend method:  None\n",
      "RUN  1 , total integrated cost =  3.521179552792614\n"
     ]
    },
    {
     "output_type": "stream",
     "name": "stderr",
     "text": [
      "ERROR:root:Problem in initial value trasfer\n"
     ]
    },
    {
     "output_type": "stream",
     "name": "stdout",
     "text": [
      "RUN  2 , total integrated cost =  3.5211795526953256\n",
      "RUN  3 , total integrated cost =  3.5211795526143743\n",
      "RUN  3 , total integrated cost =  3.5211795526143743\n",
      "Improved over  3  iterations in  0.6893066499978886  seconds by  3.32992158291745e-08  percent.\n",
      "Problem in initial value trasfer:  Vmean_exc -74.36453918513288 -74.3652891213053\n",
      "5.162964761302875e-09 0.12948881700912682\n",
      "5.551237769899523e-09 0.12950540574463307\n",
      "set cost params:  19.79 1.0 0.0\n",
      "----- 42\n",
      "interpolate adjoint :  True True True\n",
      "RUN  0 , total integrated cost =  3.521179575532476\n",
      "Gradient descend method:  None\n",
      "RUN  1 , total integrated cost =  3.5211795738865357\n",
      "RUN  2 , total integrated cost =  3.5211795738788743\n"
     ]
    },
    {
     "output_type": "stream",
     "name": "stderr",
     "text": [
      "ERROR:root:Problem in initial value trasfer\n"
     ]
    },
    {
     "output_type": "stream",
     "name": "stdout",
     "text": [
      "RUN  3 , total integrated cost =  3.521179573853668\n",
      "RUN  3 , total integrated cost =  3.521179573853668\n",
      "Improved over  3  iterations in  0.5907280699975672  seconds by  4.767743178035744e-08  percent.\n",
      "Problem in initial value trasfer:  Vmean_exc -74.36997396972728 -74.37069878692571\n",
      "5.520552906722219e-09 0.12948881728609865\n",
      "5.551237769899523e-09 0.12950540574463307\n",
      "set cost params:  19.785 1.0 0.0\n",
      "----- 43\n",
      "interpolate adjoint :  True True True\n",
      "RUN  0 , total integrated cost =  3.521179595008261\n",
      "Gradient descend method:  None\n",
      "RUN  1 , total integrated cost =  3.521179593480713\n",
      "RUN  2 , total integrated cost =  3.5211795933490015\n"
     ]
    },
    {
     "output_type": "stream",
     "name": "stderr",
     "text": [
      "ERROR:root:Problem in initial value trasfer\n"
     ]
    },
    {
     "output_type": "stream",
     "name": "stdout",
     "text": [
      "RUN  3 , total integrated cost =  3.521179593169401\n",
      "RUN  3 , total integrated cost =  3.521179593169401\n",
      "Improved over  3  iterations in  0.5806328879989451  seconds by  5.222283050443366e-08  percent.\n",
      "Problem in initial value trasfer:  Vmean_exc -74.37589280186181 -74.37659026383803\n",
      "5.7629412546328214e-09 0.12948881728609865\n",
      "5.551237769899523e-09 0.12950540574463307\n",
      "set cost params:  19.78 1.0 0.0\n",
      "----- 44\n",
      "interpolate adjoint :  True True True\n",
      "RUN  0 , total integrated cost =  3.5211796152289474\n",
      "Gradient descend method:  None\n",
      "RUN  1 , total integrated cost =  3.5211796138042755\n",
      "RUN  2 , total integrated cost =  3.5211796067721006\n"
     ]
    },
    {
     "output_type": "stream",
     "name": "stderr",
     "text": [
      "ERROR:root:Problem in initial value trasfer\n"
     ]
    },
    {
     "output_type": "stream",
     "name": "stdout",
     "text": [
      "RUN  3 , total integrated cost =  3.521179601702911\n",
      "RUN  3 , total integrated cost =  3.521179601702911\n",
      "Improved over  3  iterations in  0.567333855004108  seconds by  3.841336706500442e-07  percent.\n",
      "Problem in initial value trasfer:  Vmean_exc -74.38140649134158 -74.3820784714601\n",
      "6.057222908746323e-09 0.1294888177775202\n",
      "5.551237769899523e-09 0.12950540574463307\n",
      "set cost params:  19.775 1.0 0.0\n",
      "----- 45\n",
      "interpolate adjoint :  True True True\n",
      "RUN  0 , total integrated cost =  3.521179624873838\n",
      "Gradient descend method:  None\n",
      "RUN  1 , total integrated cost =  3.5211796233864217\n",
      "RUN  2 , total integrated cost =  3.521179623377556\n",
      "RUN  3 , total integrated cost =  3.521179623341941\n"
     ]
    },
    {
     "output_type": "stream",
     "name": "stderr",
     "text": [
      "ERROR:root:Problem in initial value trasfer\n"
     ]
    },
    {
     "output_type": "stream",
     "name": "stdout",
     "text": [
      "RUN  3 , total integrated cost =  3.521179623341941\n",
      "Improved over  3  iterations in  0.7455399850005051  seconds by  4.350523852281185e-08  percent.\n",
      "Problem in initial value trasfer:  Vmean_exc -74.38579920440206 -74.38645088395039\n",
      "6.432998174869338e-09 0.12948881806091728\n",
      "5.551237769899523e-09 0.12950540574463307\n",
      "set cost params:  19.77 1.0 0.0\n",
      "----- 46\n",
      "interpolate adjoint :  True True True\n",
      "RUN  0 , total integrated cost =  3.521179648159687\n",
      "Gradient descend method:  None\n",
      "RUN  1 , total integrated cost =  3.5211796461115563\n"
     ]
    },
    {
     "output_type": "stream",
     "name": "stderr",
     "text": [
      "ERROR:root:Problem in initial value trasfer\n"
     ]
    },
    {
     "output_type": "stream",
     "name": "stdout",
     "text": [
      "RUN  2 , total integrated cost =  3.521179646058446\n",
      "RUN  3 , total integrated cost =  3.521179645977083\n",
      "RUN  3 , total integrated cost =  3.521179645977083\n",
      "Improved over  3  iterations in  0.9553829740034416  seconds by  6.198501978360582e-08  percent.\n",
      "Problem in initial value trasfer:  Vmean_exc -74.39114651302242 -74.39177348116247\n",
      "6.707861519036564e-09 0.12948881806091728\n",
      "5.551237769899523e-09 0.12950540574463307\n",
      "set cost params:  19.765 1.0 0.0\n",
      "----- 47\n",
      "interpolate adjoint :  True True True\n",
      "RUN  0 , total integrated cost =  3.521179672174269\n",
      "Gradient descend method:  None\n",
      "RUN  1 , total integrated cost =  3.521179669907341\n",
      "RUN  2 , total integrated cost =  3.521179667785559\n",
      "RUN  3 , total integrated cost =  3.521179665058596\n"
     ]
    },
    {
     "output_type": "stream",
     "name": "stderr",
     "text": [
      "ERROR:root:Problem in initial value trasfer\n"
     ]
    },
    {
     "output_type": "stream",
     "name": "stdout",
     "text": [
      "RUN  3 , total integrated cost =  3.521179665058596\n",
      "Improved over  3  iterations in  0.7180608460039366  seconds by  2.0208207729410788e-07  percent.\n",
      "Problem in initial value trasfer:  Vmean_exc -74.39621952252216 -74.39682304762663\n",
      "7.014805088766491e-09 0.1294888859986409\n",
      "5.551237769899523e-09 0.12950540574463307\n",
      "set cost params:  19.759999999999998 1.0 0.0\n",
      "----- 48\n",
      "interpolate adjoint :  True True True\n",
      "RUN  0 , total integrated cost =  3.5211796929490524\n",
      "Gradient descend method:  None\n",
      "RUN  1 , total integrated cost =  3.5211796902585224\n",
      "RUN  2 , total integrated cost =  3.5211796902585135\n"
     ]
    },
    {
     "output_type": "stream",
     "name": "stderr",
     "text": [
      "ERROR:root:Problem in initial value trasfer\n"
     ]
    },
    {
     "output_type": "stream",
     "name": "stdout",
     "text": [
      "RUN  3 , total integrated cost =  3.5211796902585135\n",
      "Control only changes marginally.\n",
      "RUN  3 , total integrated cost =  3.5211796902585135\n",
      "Improved over  3  iterations in  0.8174320129983244  seconds by  7.641015997705836e-08  percent.\n",
      "Problem in initial value trasfer:  Vmean_exc -74.40118864069473 -74.40176920357602\n",
      "7.310433299056131e-09 0.12948888600013228\n",
      "5.551237769899523e-09 0.12950540574463307\n",
      "set cost params:  19.755000000000003 1.0 0.0\n",
      "----- 49\n",
      "interpolate adjoint :  True True True\n",
      "RUN  0 , total integrated cost =  3.5211797198542145\n",
      "Gradient descend method:  None\n",
      "RUN  1 , total integrated cost =  3.5211797168976258\n",
      "RUN  2 , total integrated cost =  3.5211797150718476\n"
     ]
    },
    {
     "output_type": "stream",
     "name": "stderr",
     "text": [
      "ERROR:root:Problem in initial value trasfer\n"
     ]
    },
    {
     "output_type": "stream",
     "name": "stdout",
     "text": [
      "RUN  3 , total integrated cost =  3.521179713563589\n",
      "RUN  3 , total integrated cost =  3.521179713563589\n",
      "Improved over  3  iterations in  0.5821429950010497  seconds by  1.7865107793113566e-07  percent.\n",
      "Problem in initial value trasfer:  Vmean_exc -74.40550856694924 -74.40606916809048\n",
      "7.589935894879878e-09 0.12948888628035138\n",
      "5.551237769899523e-09 0.12950540574463307\n",
      "set cost params:  19.75 1.0 0.0\n",
      "----- 50\n",
      "interpolate adjoint :  True True True\n",
      "RUN  0 , total integrated cost =  3.5211797447293125\n",
      "Gradient descend method:  None\n",
      "RUN  1 , total integrated cost =  3.521179741689129\n",
      "RUN  2 , total integrated cost =  3.5211797416885493\n",
      "RUN  3 , total integrated cost =  3.521179741687795\n"
     ]
    },
    {
     "output_type": "stream",
     "name": "stderr",
     "text": [
      "ERROR:root:Problem in initial value trasfer\n"
     ]
    },
    {
     "output_type": "stream",
     "name": "stdout",
     "text": [
      "RUN  3 , total integrated cost =  3.521179741687795\n",
      "Improved over  3  iterations in  0.6821085990013671  seconds by  8.637780979370291e-08  percent.\n",
      "Problem in initial value trasfer:  Vmean_exc -74.4102737171725 -74.41081229988174\n",
      "7.864153168885774e-09 0.12948896754940714\n",
      "5.551237769899523e-09 0.12950540574463307\n",
      "set cost params:  19.744999999999997 1.0 0.0\n",
      "----- 51\n",
      "interpolate adjoint :  True True True\n",
      "RUN  0 , total integrated cost =  3.521179774363748\n",
      "Gradient descend method:  None\n",
      "RUN  1 , total integrated cost =  3.521179771393355\n",
      "RUN  2 , total integrated cost =  3.5211797713809374\n"
     ]
    },
    {
     "output_type": "stream",
     "name": "stderr",
     "text": [
      "ERROR:root:Problem in initial value trasfer\n"
     ]
    },
    {
     "output_type": "stream",
     "name": "stdout",
     "text": [
      "RUN  3 , total integrated cost =  3.521179771332716\n",
      "RUN  3 , total integrated cost =  3.521179771332716\n",
      "Improved over  3  iterations in  0.573929986996518  seconds by  8.608000712229114e-08  percent.\n",
      "Problem in initial value trasfer:  Vmean_exc -74.41447430369864 -74.41499347720863\n",
      "8.313445301833351e-09 0.1294890533018446\n",
      "5.551237769899523e-09 0.12950540574463307\n",
      "set cost params:  19.740000000000002 1.0 0.0\n",
      "----- 52\n",
      "interpolate adjoint :  True True True\n",
      "RUN  0 , total integrated cost =  3.5211798064262076\n",
      "Gradient descend method:  None\n",
      "RUN  1 , total integrated cost =  3.5211798026701744\n",
      "RUN  2 , total integrated cost =  3.5211798026684558\n"
     ]
    },
    {
     "output_type": "stream",
     "name": "stderr",
     "text": [
      "ERROR:root:Problem in initial value trasfer\n"
     ]
    },
    {
     "output_type": "stream",
     "name": "stdout",
     "text": [
      "RUN  3 , total integrated cost =  3.5211798026677696\n",
      "RUN  3 , total integrated cost =  3.5211798026677696\n",
      "Improved over  3  iterations in  0.6266924529991229  seconds by  1.0673802819383127e-07  percent.\n",
      "Problem in initial value trasfer:  Vmean_exc -74.41856463006154 -74.41906490432687\n",
      "8.540633613247356e-09 0.12948905378973555\n",
      "5.551237769899523e-09 0.12950540574463307\n",
      "set cost params:  19.735 1.0 0.0\n",
      "----- 53\n",
      "interpolate adjoint :  True True True\n",
      "RUN  0 , total integrated cost =  3.521179838952669\n",
      "Gradient descend method:  None\n",
      "RUN  1 , total integrated cost =  3.521179835771397\n",
      "RUN  2 , total integrated cost =  3.521179835757452\n"
     ]
    },
    {
     "output_type": "stream",
     "name": "stderr",
     "text": [
      "ERROR:root:Problem in initial value trasfer\n"
     ]
    },
    {
     "output_type": "stream",
     "name": "stdout",
     "text": [
      "RUN  3 , total integrated cost =  3.5211798356986983\n",
      "RUN  3 , total integrated cost =  3.5211798356986983\n",
      "Improved over  3  iterations in  0.5941983060038183  seconds by  9.24113834344098e-08  percent.\n",
      "Problem in initial value trasfer:  Vmean_exc -74.42242068461609 -74.42290314252372\n",
      "9.065071107394268e-09 0.12948905424611332\n",
      "5.551237769899523e-09 0.12950540574463307\n",
      "set cost params:  19.73 1.0 0.0\n",
      "----- 54\n",
      "interpolate adjoint :  True True True\n",
      "RUN  0 , total integrated cost =  3.521179874686964\n",
      "Gradient descend method:  None\n",
      "RUN  1 , total integrated cost =  3.521179870600631\n"
     ]
    },
    {
     "output_type": "stream",
     "name": "stderr",
     "text": [
      "ERROR:root:Problem in initial value trasfer\n"
     ]
    },
    {
     "output_type": "stream",
     "name": "stdout",
     "text": [
      "RUN  2 , total integrated cost =  3.5211798705988517\n",
      "RUN  3 , total integrated cost =  3.5211798691093166\n",
      "RUN  3 , total integrated cost =  3.5211798691093166\n",
      "Improved over  3  iterations in  0.5963912939987495  seconds by  1.5840278422274423e-07  percent.\n",
      "Problem in initial value trasfer:  Vmean_exc -74.42511948179066 -74.42558947053969\n",
      "1.0239890030310214e-08 0.12948916539599153\n",
      "5.551237769899523e-09 0.12950540574463307\n",
      "set cost params:  19.725 1.0 0.0\n",
      "----- 55\n",
      "interpolate adjoint :  True True True\n",
      "RUN  0 , total integrated cost =  3.5211799068887193\n",
      "Gradient descend method:  None\n",
      "RUN  1 , total integrated cost =  3.521179899333842\n",
      "RUN  2 , total integrated cost =  3.521179898588604\n"
     ]
    },
    {
     "output_type": "stream",
     "name": "stderr",
     "text": [
      "ERROR:root:Problem in initial value trasfer\n"
     ]
    },
    {
     "output_type": "stream",
     "name": "stdout",
     "text": [
      "RUN  3 , total integrated cost =  3.5211798979604025\n",
      "RUN  3 , total integrated cost =  3.5211798979604025\n",
      "Improved over  3  iterations in  0.776846276006836  seconds by  2.5356037269830267e-07  percent.\n",
      "Problem in initial value trasfer:  Vmean_exc -74.4301821287742 -74.43062872731625\n",
      "9.671861026712525e-09 0.12948916539599153\n",
      "5.551237769899523e-09 0.12950540574463307\n",
      "set cost params:  19.72 1.0 0.0\n",
      "----- 56\n",
      "interpolate adjoint :  True True True\n",
      "RUN  0 , total integrated cost =  3.521179946772218\n",
      "Gradient descend method:  None\n",
      "RUN  1 , total integrated cost =  3.5211799422194114\n",
      "RUN  2 , total integrated cost =  3.521179941501843\n"
     ]
    },
    {
     "output_type": "stream",
     "name": "stderr",
     "text": [
      "ERROR:root:Problem in initial value trasfer\n"
     ]
    },
    {
     "output_type": "stream",
     "name": "stdout",
     "text": [
      "RUN  3 , total integrated cost =  3.5211799406931634\n",
      "RUN  3 , total integrated cost =  3.5211799406931634\n",
      "Improved over  3  iterations in  0.6215729909963557  seconds by  1.7264254381643696e-07  percent.\n",
      "Problem in initial value trasfer:  Vmean_exc -74.43374277594049 -74.43417292418663\n",
      "1.0202767623027419e-08 0.1294891651286625\n",
      "5.551237769899523e-09 0.12950540574463307\n",
      "set cost params:  19.715 1.0 0.0\n",
      "----- 57\n",
      "interpolate adjoint :  True True True\n",
      "RUN  0 , total integrated cost =  3.521179985288236\n",
      "Gradient descend method:  None\n",
      "RUN  1 , total integrated cost =  3.521179981674931\n"
     ]
    },
    {
     "output_type": "stream",
     "name": "stderr",
     "text": [
      "ERROR:root:Problem in initial value trasfer\n"
     ]
    },
    {
     "output_type": "stream",
     "name": "stdout",
     "text": [
      "RUN  2 , total integrated cost =  3.5211799816718314\n",
      "RUN  3 , total integrated cost =  3.5211799816543707\n",
      "RUN  3 , total integrated cost =  3.5211799816543707\n",
      "Improved over  3  iterations in  0.6446997330058366  seconds by  1.0320022170162702e-07  percent.\n",
      "Problem in initial value trasfer:  Vmean_exc -74.43747267039761 -74.43788558681095\n",
      "1.054768121748701e-08 0.12948928825331568\n",
      "5.551237769899523e-09 0.12950540574463307\n",
      "set cost params:  19.71 1.0 0.0\n",
      "----- 58\n",
      "interpolate adjoint :  True True True\n",
      "RUN  0 , total integrated cost =  3.521180020655199\n",
      "Gradient descend method:  None\n",
      "RUN  1 , total integrated cost =  3.521180018502831\n",
      "RUN  2 , total integrated cost =  3.5211800184854134\n"
     ]
    },
    {
     "output_type": "stream",
     "name": "stderr",
     "text": [
      "ERROR:root:Problem in initial value trasfer\n"
     ]
    },
    {
     "output_type": "stream",
     "name": "stdout",
     "text": [
      "RUN  3 , total integrated cost =  3.5211800184091615\n",
      "RUN  3 , total integrated cost =  3.5211800184091615\n",
      "Improved over  3  iterations in  0.5377223629984655  seconds by  6.378650141414255e-08  percent.\n",
      "Problem in initial value trasfer:  Vmean_exc -74.44013523752247 -74.44053585331982\n",
      "1.1318263738655319e-08 0.12948928870028648\n",
      "5.551237769899523e-09 0.12950540574463307\n",
      "set cost params:  19.705000000000002 1.0 0.0\n",
      "----- 59\n",
      "interpolate adjoint :  True True True\n",
      "RUN  0 , total integrated cost =  3.5211800682497647\n",
      "Gradient descend method:  None\n",
      "RUN  1 , total integrated cost =  3.5211800635824004\n",
      "RUN  2 , total integrated cost =  3.521180061346911\n"
     ]
    },
    {
     "output_type": "stream",
     "name": "stderr",
     "text": [
      "ERROR:root:Problem in initial value trasfer\n"
     ]
    },
    {
     "output_type": "stream",
     "name": "stdout",
     "text": [
      "RUN  3 , total integrated cost =  3.5211800593281817\n",
      "RUN  3 , total integrated cost =  3.5211800593281817\n",
      "Improved over  3  iterations in  0.6224060199965606  seconds by  2.533691230155455e-07  percent.\n",
      "Problem in initial value trasfer:  Vmean_exc -74.44361889614142 -74.44400341832458\n",
      "1.1696453806845863e-08 0.12948928916441982\n",
      "5.551237769899523e-09 0.12950540574463307\n",
      "set cost params:  19.7 1.0 0.0\n",
      "----- 60\n",
      "interpolate adjoint :  True True True\n",
      "RUN  0 , total integrated cost =  3.5211801191728322\n",
      "Gradient descend method:  None\n",
      "RUN  1 , total integrated cost =  3.5211801139873016\n"
     ]
    },
    {
     "output_type": "stream",
     "name": "stderr",
     "text": [
      "ERROR:root:Problem in initial value trasfer\n"
     ]
    },
    {
     "output_type": "stream",
     "name": "stdout",
     "text": [
      "RUN  2 , total integrated cost =  3.521180113968094\n",
      "RUN  3 , total integrated cost =  3.5211801139533607\n",
      "RUN  3 , total integrated cost =  3.5211801139533607\n",
      "Improved over  3  iterations in  0.6398100079968572  seconds by  1.4823075389358564e-07  percent.\n",
      "Problem in initial value trasfer:  Vmean_exc -74.44680561632163 -74.44717541697581\n",
      "1.2237454285216231e-08 0.12948928989255812\n",
      "5.551237769899523e-09 0.12950540574463307\n",
      "set cost params:  19.695 1.0 0.0\n",
      "----- 61\n",
      "interpolate adjoint :  True True True\n",
      "RUN  0 , total integrated cost =  3.5211801595387584\n",
      "Gradient descend method:  None\n",
      "RUN  1 , total integrated cost =  3.52118015708409\n",
      "RUN  2 , total integrated cost =  3.5211801569226613\n"
     ]
    },
    {
     "output_type": "stream",
     "name": "stderr",
     "text": [
      "ERROR:root:Problem in initial value trasfer\n"
     ]
    },
    {
     "output_type": "stream",
     "name": "stdout",
     "text": [
      "RUN  3 , total integrated cost =  3.5211801566846446\n",
      "RUN  3 , total integrated cost =  3.5211801566846446\n",
      "Improved over  3  iterations in  0.5413790220045485  seconds by  8.10556031183296e-08  percent.\n",
      "Problem in initial value trasfer:  Vmean_exc -74.44934431404322 -74.44970238701353\n",
      "1.2979757034671647e-08 0.12948928989255812\n",
      "5.551237769899523e-09 0.12950540574463307\n",
      "set cost params:  19.69 1.0 0.0\n",
      "----- 62\n",
      "interpolate adjoint :  True True True\n",
      "RUN  0 , total integrated cost =  3.5211802139594175\n",
      "Gradient descend method:  None\n",
      "RUN  1 , total integrated cost =  3.521180209537538\n",
      "RUN  2 , total integrated cost =  3.521180209518085\n"
     ]
    },
    {
     "output_type": "stream",
     "name": "stderr",
     "text": [
      "ERROR:root:Problem in initial value trasfer\n"
     ]
    },
    {
     "output_type": "stream",
     "name": "stdout",
     "text": [
      "RUN  3 , total integrated cost =  3.521180209327752\n",
      "RUN  3 , total integrated cost =  3.521180209327752\n",
      "Improved over  3  iterations in  0.5462648000029731  seconds by  1.3153729128134728e-07  percent.\n",
      "Problem in initial value trasfer:  Vmean_exc -74.45201711189662 -74.45236283789868\n",
      "1.3921042159769258e-08 0.12948929062106126\n",
      "5.551237769899523e-09 0.12950540574463307\n",
      "set cost params:  19.685 1.0 0.0\n",
      "----- 63\n",
      "interpolate adjoint :  True True True\n",
      "RUN  0 , total integrated cost =  3.5211802804486636\n",
      "Gradient descend method:  None\n",
      "RUN  1 , total integrated cost =  3.521180273110026\n"
     ]
    },
    {
     "output_type": "stream",
     "name": "stderr",
     "text": [
      "ERROR:root:Problem in initial value trasfer\n"
     ]
    },
    {
     "output_type": "stream",
     "name": "stdout",
     "text": [
      "RUN  2 , total integrated cost =  3.5211802730884068\n",
      "RUN  3 , total integrated cost =  3.5211802729604655\n",
      "RUN  3 , total integrated cost =  3.5211802729604655\n",
      "Improved over  3  iterations in  0.6041405529977055  seconds by  2.1266158967137017e-07  percent.\n",
      "Problem in initial value trasfer:  Vmean_exc -74.45477570636665 -74.45510868927886\n",
      "1.4703072145397403e-08 0.12948949762245315\n",
      "5.551237769899523e-09 0.12950540574463307\n",
      "set cost params:  19.68 1.0 0.0\n",
      "----- 64\n",
      "interpolate adjoint :  True True True\n",
      "RUN  0 , total integrated cost =  3.521180327570158\n",
      "Gradient descend method:  None\n",
      "RUN  1 , total integrated cost =  3.521180323302517\n",
      "RUN  2 , total integrated cost =  3.521180323272353\n"
     ]
    },
    {
     "output_type": "stream",
     "name": "stderr",
     "text": [
      "ERROR:root:Problem in initial value trasfer\n"
     ]
    },
    {
     "output_type": "stream",
     "name": "stdout",
     "text": [
      "RUN  3 , total integrated cost =  3.5211803231883416\n",
      "RUN  3 , total integrated cost =  3.5211803231883416\n",
      "Improved over  3  iterations in  0.6082363250025082  seconds by  1.2444168362435448e-07  percent.\n",
      "Problem in initial value trasfer:  Vmean_exc -74.45737047853181 -74.4576914753167\n",
      "1.5170372288167718e-08 0.12948949762245315\n",
      "5.551237769899523e-09 0.12950540574463307\n",
      "set cost params:  19.675 1.0 0.0\n",
      "----- 65\n",
      "interpolate adjoint :  True True True\n",
      "RUN  0 , total integrated cost =  3.5211803901816987\n",
      "Gradient descend method:  None\n",
      "RUN  1 , total integrated cost =  3.521180384870801\n",
      "RUN  2 , total integrated cost =  3.5211803848471868\n"
     ]
    },
    {
     "output_type": "stream",
     "name": "stderr",
     "text": [
      "ERROR:root:Problem in initial value trasfer\n"
     ]
    },
    {
     "output_type": "stream",
     "name": "stdout",
     "text": [
      "RUN  3 , total integrated cost =  3.5211803847548855\n",
      "RUN  3 , total integrated cost =  3.5211803847548855\n",
      "Improved over  3  iterations in  0.8034129829975427  seconds by  1.5411914944252203e-07  percent.\n",
      "Problem in initial value trasfer:  Vmean_exc -74.45989337881238 -74.4602027216559\n",
      "1.6078500666542022e-08 0.1294894984708522\n",
      "5.551237769899523e-09 0.12950540574463307\n",
      "set cost params:  19.669999999999998 1.0 0.0\n",
      "----- 66\n",
      "interpolate adjoint :  True True True\n",
      "RUN  0 , total integrated cost =  3.5211804566101104\n",
      "Gradient descend method:  None\n",
      "RUN  1 , total integrated cost =  3.5211804496567005\n",
      "RUN  2 , total integrated cost =  3.5211804496259287\n"
     ]
    },
    {
     "output_type": "stream",
     "name": "stderr",
     "text": [
      "ERROR:root:Problem in initial value trasfer\n"
     ]
    },
    {
     "output_type": "stream",
     "name": "stdout",
     "text": [
      "RUN  3 , total integrated cost =  3.521180449519755\n",
      "RUN  3 , total integrated cost =  3.521180449519755\n",
      "Improved over  3  iterations in  0.6946334329986712  seconds by  2.0136302225637337e-07  percent.\n",
      "Problem in initial value trasfer:  Vmean_exc -74.46232813731145 -74.46262623306622\n",
      "1.703302566603324e-08 0.12948949937922657\n",
      "5.551237769899523e-09 0.12950540574463307\n",
      "set cost params:  19.665 1.0 0.0\n",
      "----- 67\n",
      "interpolate adjoint :  True True True\n",
      "RUN  0 , total integrated cost =  3.5211805271128376\n",
      "Gradient descend method:  None\n",
      "RUN  1 , total integrated cost =  3.5211805177949107\n",
      "RUN  2 , total integrated cost =  3.5211805177949023\n"
     ]
    },
    {
     "output_type": "stream",
     "name": "stderr",
     "text": [
      "ERROR:root:Problem in initial value trasfer\n"
     ]
    },
    {
     "output_type": "stream",
     "name": "stdout",
     "text": [
      "RUN  3 , total integrated cost =  3.5211805177948987\n",
      "RUN  3 , total integrated cost =  3.5211805177948987\n",
      "Improved over  3  iterations in  0.8653263309970498  seconds by  2.6462542734861927e-07  percent.\n",
      "Problem in initial value trasfer:  Vmean_exc -74.46461777228114 -74.46490529257129\n",
      "1.762998457939979e-08 0.129489936628949\n",
      "5.551237769899523e-09 0.12950540574463307\n",
      "set cost params:  19.66 1.0 0.0\n",
      "----- 68\n",
      "interpolate adjoint :  True True True\n",
      "RUN  0 , total integrated cost =  3.5211805992560765\n",
      "Gradient descend method:  None\n",
      "RUN  1 , total integrated cost =  3.521180590018445\n",
      "RUN  2 , total integrated cost =  3.521180589984657\n"
     ]
    },
    {
     "output_type": "stream",
     "name": "stderr",
     "text": [
      "ERROR:root:Problem in initial value trasfer\n"
     ]
    },
    {
     "output_type": "stream",
     "name": "stdout",
     "text": [
      "RUN  3 , total integrated cost =  3.52118058979789\n",
      "RUN  3 , total integrated cost =  3.52118058979789\n",
      "Improved over  3  iterations in  0.5653207020004629  seconds by  2.686083888647772e-07  percent.\n",
      "Problem in initial value trasfer:  Vmean_exc -74.4668817322057 -74.46715879572032\n",
      "1.8694591478663935e-08 0.12948993771074863\n",
      "5.551237769899523e-09 0.12950540574463307\n",
      "set cost params:  19.655 1.0 0.0\n",
      "----- 69\n",
      "interpolate adjoint :  True True True\n",
      "RUN  0 , total integrated cost =  3.5211806638954637\n",
      "Gradient descend method:  None\n",
      "RUN  1 , total integrated cost =  3.521180654876678\n",
      "RUN  2 , total integrated cost =  3.521180654748634\n"
     ]
    },
    {
     "output_type": "stream",
     "name": "stderr",
     "text": [
      "ERROR:root:Problem in initial value trasfer\n"
     ]
    },
    {
     "output_type": "stream",
     "name": "stdout",
     "text": [
      "RUN  3 , total integrated cost =  3.521180654618337\n",
      "RUN  3 , total integrated cost =  3.521180654618337\n",
      "Improved over  3  iterations in  0.5706618650001474  seconds by  2.6346636161633796e-07  percent.\n",
      "Problem in initial value trasfer:  Vmean_exc -74.46916238371416 -74.4694289134588\n",
      "1.9048702948040046e-08 0.12948993771074863\n",
      "5.551237769899523e-09 0.12950540574463307\n",
      "set cost params:  19.65 1.0 0.0\n",
      "----- 70\n",
      "interpolate adjoint :  True True True\n",
      "RUN  0 , total integrated cost =  3.521180760081938\n",
      "Gradient descend method:  None\n",
      "RUN  1 , total integrated cost =  3.5211807465508462\n"
     ]
    },
    {
     "output_type": "stream",
     "name": "stderr",
     "text": [
      "ERROR:root:Problem in initial value trasfer\n"
     ]
    },
    {
     "output_type": "stream",
     "name": "stdout",
     "text": [
      "RUN  2 , total integrated cost =  3.5211807465437484\n",
      "RUN  3 , total integrated cost =  3.521180746460434\n",
      "RUN  3 , total integrated cost =  3.521180746460434\n",
      "Improved over  3  iterations in  0.6111388569988776  seconds by  3.868447748800463e-07  percent.\n",
      "Problem in initial value trasfer:  Vmean_exc -74.47135457844853 -74.47161098307856\n",
      "2.0012854664995814e-08 0.12949022115218237\n",
      "5.551237769899523e-09 0.12950540574463307\n",
      "set cost params:  19.645 1.0 0.0\n",
      "----- 71\n",
      "interpolate adjoint :  True True True\n",
      "RUN  0 , total integrated cost =  3.5211808427743625\n",
      "Gradient descend method:  None\n",
      "RUN  1 , total integrated cost =  3.521180831831038\n",
      "RUN  2 , total integrated cost =  3.5211808317968933\n"
     ]
    },
    {
     "output_type": "stream",
     "name": "stderr",
     "text": [
      "ERROR:root:Problem in initial value trasfer\n"
     ]
    },
    {
     "output_type": "stream",
     "name": "stdout",
     "text": [
      "RUN  3 , total integrated cost =  3.5211808316251476\n",
      "RUN  3 , total integrated cost =  3.5211808316251476\n",
      "Improved over  3  iterations in  0.5439772429963341  seconds by  3.166328355064252e-07  percent.\n",
      "Problem in initial value trasfer:  Vmean_exc -74.47344458964977 -74.47369134119388\n",
      "2.1091737598650564e-08 0.12949022243299618\n",
      "5.551237769899523e-09 0.12950540574463307\n",
      "set cost params:  19.64 1.0 0.0\n",
      "----- 72\n",
      "interpolate adjoint :  True True True\n",
      "RUN  0 , total integrated cost =  3.5211809179809785\n",
      "Gradient descend method:  None\n",
      "RUN  1 , total integrated cost =  3.521180908577624\n",
      "RUN  2 , total integrated cost =  3.5211809084969845\n"
     ]
    },
    {
     "output_type": "stream",
     "name": "stderr",
     "text": [
      "ERROR:root:Problem in initial value trasfer\n"
     ]
    },
    {
     "output_type": "stream",
     "name": "stdout",
     "text": [
      "RUN  3 , total integrated cost =  3.521180908340217\n",
      "RUN  3 , total integrated cost =  3.521180908340217\n",
      "Improved over  3  iterations in  0.5668959540053038  seconds by  2.737934181595847e-07  percent.\n",
      "Problem in initial value trasfer:  Vmean_exc -74.47543174595654 -74.47566931949115\n",
      "2.163077739739371e-08 0.1294904803323589\n",
      "5.551237769899523e-09 0.12950540574463307\n",
      "set cost params:  19.634999999999998 1.0 0.0\n",
      "----- 73\n",
      "interpolate adjoint :  True True True\n",
      "RUN  0 , total integrated cost =  3.52118101418453\n",
      "Gradient descend method:  None\n",
      "RUN  1 , total integrated cost =  3.521181002945263\n"
     ]
    },
    {
     "output_type": "stream",
     "name": "stderr",
     "text": [
      "ERROR:root:Problem in initial value trasfer\n"
     ]
    },
    {
     "output_type": "stream",
     "name": "stdout",
     "text": [
      "RUN  2 , total integrated cost =  3.521181002927123\n",
      "RUN  3 , total integrated cost =  3.5211810029244237\n",
      "RUN  3 , total integrated cost =  3.5211810029244237\n",
      "Improved over  3  iterations in  0.615185290997033  seconds by  3.197820888090064e-07  percent.\n",
      "Problem in initial value trasfer:  Vmean_exc -74.47750462050706 -74.4777326201649\n",
      "2.2398256109213237e-08 0.12949078834465563\n",
      "5.551237769899523e-09 0.12950540574463307\n",
      "set cost params:  19.630000000000003 1.0 0.0\n",
      "----- 74\n",
      "interpolate adjoint :  True True True\n",
      "RUN  0 , total integrated cost =  3.5211811131571946\n",
      "Gradient descend method:  None\n",
      "RUN  1 , total integrated cost =  3.5211811028794933\n"
     ]
    },
    {
     "output_type": "stream",
     "name": "stderr",
     "text": [
      "ERROR:root:Problem in initial value trasfer\n"
     ]
    },
    {
     "output_type": "stream",
     "name": "stdout",
     "text": [
      "RUN  2 , total integrated cost =  3.521181102845777\n",
      "RUN  3 , total integrated cost =  3.521181102711256\n",
      "RUN  3 , total integrated cost =  3.521181102711256\n",
      "Improved over  3  iterations in  0.5827543749983306  seconds by  2.966600902709615e-07  percent.\n",
      "Problem in initial value trasfer:  Vmean_exc -74.4790798809819 -74.47930060510119\n",
      "2.3855789374257386e-08 0.12949078973459135\n",
      "5.551237769899523e-09 0.12950540574463307\n",
      "set cost params:  19.625 1.0 0.0\n",
      "----- 75\n",
      "interpolate adjoint :  True True True\n",
      "RUN  0 , total integrated cost =  3.521181221101761\n",
      "Gradient descend method:  None\n",
      "RUN  1 , total integrated cost =  3.521181208242731\n"
     ]
    },
    {
     "output_type": "stream",
     "name": "stderr",
     "text": [
      "ERROR:root:Problem in initial value trasfer\n"
     ]
    },
    {
     "output_type": "stream",
     "name": "stdout",
     "text": [
      "RUN  2 , total integrated cost =  3.521181208196364\n",
      "RUN  3 , total integrated cost =  3.5211812080646694\n",
      "RUN  3 , total integrated cost =  3.5211812080646694\n",
      "Improved over  3  iterations in  0.8884748880009283  seconds by  3.70247661862777e-07  percent.\n",
      "Problem in initial value trasfer:  Vmean_exc -74.48099244916696 -74.48120433990123\n",
      "2.4768478225196766e-08 0.12949078973459135\n",
      "5.551237769899523e-09 0.12950540574463307\n",
      "set cost params:  19.619999999999997 1.0 0.0\n",
      "----- 76\n",
      "interpolate adjoint :  True True True\n",
      "RUN  0 , total integrated cost =  3.5211813314316127\n",
      "Gradient descend method:  None\n",
      "RUN  1 , total integrated cost =  3.5211813195712103\n",
      "RUN  2 , total integrated cost =  3.521181319521737\n"
     ]
    },
    {
     "output_type": "stream",
     "name": "stderr",
     "text": [
      "ERROR:root:Problem in initial value trasfer\n"
     ]
    },
    {
     "output_type": "stream",
     "name": "stdout",
     "text": [
      "RUN  3 , total integrated cost =  3.5211813193776154\n",
      "RUN  3 , total integrated cost =  3.5211813193776154\n",
      "Improved over  3  iterations in  0.5684751709995908  seconds by  3.423282208814271e-07  percent.\n",
      "Problem in initial value trasfer:  Vmean_exc -74.48272029772825 -74.4829242082817\n",
      "2.61637566262917e-08 0.1294911129347888\n",
      "5.551237769899523e-09 0.12950540574463307\n",
      "set cost params:  19.615000000000002 1.0 0.0\n",
      "----- 77\n",
      "interpolate adjoint :  True True True\n",
      "RUN  0 , total integrated cost =  3.521181429545814\n",
      "Gradient descend method:  None\n",
      "RUN  1 , total integrated cost =  3.5211814198284066\n",
      "RUN  2 , total integrated cost =  3.5211814198051337\n"
     ]
    },
    {
     "output_type": "stream",
     "name": "stderr",
     "text": [
      "ERROR:root:Problem in initial value trasfer\n"
     ]
    },
    {
     "output_type": "stream",
     "name": "stdout",
     "text": [
      "RUN  3 , total integrated cost =  3.5211814196740767\n",
      "RUN  3 , total integrated cost =  3.5211814196740767\n",
      "Improved over  3  iterations in  0.5565571549959714  seconds by  2.8035299237672007e-07  percent.\n",
      "Problem in initial value trasfer:  Vmean_exc -74.4842747191796 -74.48447145058871\n",
      "2.724703673583874e-08 0.12949142173010522\n",
      "5.551237769899523e-09 0.12950540574463307\n",
      "set cost params:  19.61 1.0 0.0\n",
      "----- 78\n",
      "interpolate adjoint :  True True True\n",
      "RUN  0 , total integrated cost =  3.5211815784070892\n",
      "Gradient descend method:  None\n",
      "RUN  1 , total integrated cost =  3.5211815611369635\n",
      "RUN  2 , total integrated cost =  3.5211815610969377\n"
     ]
    },
    {
     "output_type": "stream",
     "name": "stderr",
     "text": [
      "ERROR:root:Problem in initial value trasfer\n"
     ]
    },
    {
     "output_type": "stream",
     "name": "stdout",
     "text": [
      "RUN  3 , total integrated cost =  3.521181560946316\n",
      "RUN  3 , total integrated cost =  3.521181560946316\n",
      "Improved over  3  iterations in  0.5770289880019845  seconds by  4.9587823980346e-07  percent.\n",
      "Problem in initial value trasfer:  Vmean_exc -74.4858359742184 -74.48602549497332\n",
      "2.900938896653878e-08 0.1294914237955082\n",
      "5.551237769899523e-09 0.12950540574463307\n",
      "set cost params:  19.605 1.0 0.0\n",
      "----- 79\n",
      "interpolate adjoint :  True True True\n",
      "RUN  0 , total integrated cost =  3.5211816835804686\n",
      "Gradient descend method:  None\n",
      "RUN  1 , total integrated cost =  3.52118167280849\n"
     ]
    },
    {
     "output_type": "stream",
     "name": "stderr",
     "text": [
      "ERROR:root:Problem in initial value trasfer\n"
     ]
    },
    {
     "output_type": "stream",
     "name": "stdout",
     "text": [
      "RUN  2 , total integrated cost =  3.5211816727939618\n",
      "RUN  3 , total integrated cost =  3.521181672236195\n",
      "RUN  3 , total integrated cost =  3.521181672236195\n",
      "Improved over  3  iterations in  0.5941594700052519  seconds by  3.2217234036124864e-07  percent.\n",
      "Problem in initial value trasfer:  Vmean_exc -74.48713870027514 -74.48732220443095\n",
      "3.099076591355752e-08 0.12949179091731997\n",
      "5.551237769899523e-09 0.12950540574463307\n",
      "set cost params:  19.6 1.0 0.0\n",
      "----- 80\n",
      "interpolate adjoint :  True True True\n",
      "RUN  0 , total integrated cost =  3.521181827673321\n",
      "Gradient descend method:  None\n",
      "RUN  1 , total integrated cost =  3.5211818090729565\n",
      "RUN  2 , total integrated cost =  3.5211818069676997\n"
     ]
    },
    {
     "output_type": "stream",
     "name": "stderr",
     "text": [
      "ERROR:root:Problem in initial value trasfer\n"
     ]
    },
    {
     "output_type": "stream",
     "name": "stdout",
     "text": [
      "RUN  3 , total integrated cost =  3.5211818050942876\n",
      "RUN  3 , total integrated cost =  3.5211818050942876\n",
      "Improved over  3  iterations in  0.5533347100063111  seconds by  6.412345214812376e-07  percent.\n",
      "Problem in initial value trasfer:  Vmean_exc -74.48883384934855 -74.48900952456484\n",
      "3.1584333494035696e-08 0.12949226512383252\n",
      "5.551237769899523e-09 0.12950540574463307\n",
      "set cost params:  19.595 1.0 0.0\n",
      "----- 81\n",
      "interpolate adjoint :  True True True\n",
      "RUN  0 , total integrated cost =  3.5211819634142927\n",
      "Gradient descend method:  None\n",
      "RUN  1 , total integrated cost =  3.521181949864421\n",
      "RUN  2 , total integrated cost =  3.521181949823189\n"
     ]
    },
    {
     "output_type": "stream",
     "name": "stderr",
     "text": [
      "ERROR:root:Problem in initial value trasfer\n"
     ]
    },
    {
     "output_type": "stream",
     "name": "stdout",
     "text": [
      "RUN  3 , total integrated cost =  3.5211819402262896\n",
      "RUN  3 , total integrated cost =  3.5211819402262896\n",
      "Improved over  3  iterations in  0.5598660839968943  seconds by  6.585289611393819e-07  percent.\n",
      "Problem in initial value trasfer:  Vmean_exc -74.48937492404507 -74.48954810035428\n",
      "3.828574812159661e-08 0.12949270991940157\n",
      "5.551237769899523e-09 0.12950540574463307\n",
      "set cost params:  19.59 1.0 0.0\n",
      "----- 82\n",
      "interpolate adjoint :  True True True\n",
      "RUN  0 , total integrated cost =  3.521182134442829\n",
      "Gradient descend method:  None\n",
      "RUN  1 , total integrated cost =  3.521182084355002\n"
     ]
    },
    {
     "output_type": "stream",
     "name": "stderr",
     "text": [
      "ERROR:root:Problem in initial value trasfer\n"
     ]
    },
    {
     "output_type": "stream",
     "name": "stdout",
     "text": [
      "RUN  2 , total integrated cost =  3.5211820843248374\n",
      "RUN  3 , total integrated cost =  3.521181999409734\n",
      "RUN  3 , total integrated cost =  3.521181999409734\n",
      "Improved over  3  iterations in  0.5990835480042733  seconds by  3.8348795925458035e-06  percent.\n",
      "Problem in initial value trasfer:  Vmean_exc -74.49399187685984 -74.49414373040693\n",
      "2.117706563623438e-08 0.12949350592296585\n",
      "5.551237769899523e-09 0.12950540574463307\n",
      "set cost params:  19.585 1.0 0.0\n",
      "----- 83\n",
      "interpolate adjoint :  True True True\n",
      "RUN  0 , total integrated cost =  3.5211820859446594\n",
      "Gradient descend method:  None\n",
      "RUN  1 , total integrated cost =  3.5211820282187487\n",
      "RUN  2 , total integrated cost =  3.5211820281516713\n",
      "RUN  3 , total integrated cost =  3.521182027361178\n",
      "RUN "
     ]
    },
    {
     "output_type": "stream",
     "name": "stderr",
     "text": [
      "ERROR:root:Problem in initial value trasfer\n"
     ]
    },
    {
     "output_type": "stream",
     "name": "stdout",
     "text": [
      " 3 , total integrated cost =  3.521182027361178\n",
      "Improved over  3  iterations in  0.6579778880040976  seconds by  1.6637447401990357e-06  percent.\n",
      "Problem in initial value trasfer:  Vmean_exc -74.49257710066131 -74.49273548811293\n",
      "3.793378974020376e-08 0.12949350592296585\n",
      "5.551237769899523e-09 0.12950540574463307\n",
      "set cost params:  19.580000000000002 1.0 0.0\n",
      "----- 84\n",
      "interpolate adjoint :  True True True\n",
      "RUN  0 , total integrated cost =  3.52118221927579\n",
      "Gradient descend method:  None\n",
      "RUN  1 , total integrated cost =  3.521182195332049\n",
      "RUN  2 , total integrated cost =  3.5208972798441627\n"
     ]
    },
    {
     "output_type": "stream",
     "name": "stderr",
     "text": [
      "ERROR:root:Problem in initial value trasfer\n"
     ]
    },
    {
     "output_type": "stream",
     "name": "stdout",
     "text": [
      "RUN  3 , total integrated cost =  3.52085664909595\n",
      "RUN  3 , total integrated cost =  3.52085664909595\n",
      "Improved over  3  iterations in  0.6909304180007894  seconds by  0.009246047479678055  percent.\n",
      "Problem in initial value trasfer:  Vmean_exc -74.49910194088821 -74.49923019479533\n",
      "1.2688719950777463e-08 0.12916261220806402\n",
      "5.551237769899523e-09 0.12950540574463307\n",
      "set cost params:  19.575 1.0 0.0\n",
      "----- 85\n",
      "interpolate adjoint :  True True True\n",
      "RUN  0 , total integrated cost =  3.5208567047618695\n",
      "Gradient descend method:  None\n",
      "RUN  1 , total integrated cost =  3.5208562596715134\n",
      "RUN  2 , total integrated cost =  3.52085625967036\n"
     ]
    },
    {
     "output_type": "stream",
     "name": "stderr",
     "text": [
      "ERROR:root:Problem in initial value trasfer\n"
     ]
    },
    {
     "output_type": "stream",
     "name": "stdout",
     "text": [
      "RUN  3 , total integrated cost =  3.520856259670337\n",
      "RUN  3 , total integrated cost =  3.520856259670337\n",
      "Improved over  3  iterations in  0.7591469730032259  seconds by  1.264156908575842e-05  percent.\n",
      "Problem in initial value trasfer:  Vmean_exc -74.49511753081747 -74.49526418575027\n",
      "4.0973889333974114e-08 0.12916260366443497\n",
      "5.551237769899523e-09 0.12950540574463307\n",
      "set cost params:  19.57 1.0 0.0\n",
      "----- 86\n",
      "interpolate adjoint :  True True True\n",
      "RUN  0 , total integrated cost =  3.520856471550964\n",
      "Gradient descend method:  None\n",
      "RUN  1 , total integrated cost =  3.5208564461326497\n",
      "RUN  2 , total integrated cost =  3.5208564461314142\n"
     ]
    },
    {
     "output_type": "stream",
     "name": "stderr",
     "text": [
      "ERROR:root:Problem in initial value trasfer\n"
     ]
    },
    {
     "output_type": "stream",
     "name": "stdout",
     "text": [
      "RUN  3 , total integrated cost =  3.5208564461313623\n",
      "RUN  3 , total integrated cost =  3.5208564461313623\n",
      "Improved over  3  iterations in  0.8239570500008995  seconds by  7.219720998818957e-07  percent.\n",
      "Problem in initial value trasfer:  Vmean_exc -74.49636496816389 -74.49650586207841\n",
      "4.2792318998868036e-08 0.12916377334157123\n",
      "5.551237769899523e-09 0.12950540574463307\n",
      "set cost params:  19.565 1.0 0.0\n",
      "----- 87\n",
      "interpolate adjoint :  True True True\n",
      "RUN  0 , total integrated cost =  3.520856634474875\n",
      "Gradient descend method:  None\n",
      "RUN  1 , total integrated cost =  3.520856614642683\n",
      "RUN  2 , total integrated cost =  3.5208566145969775\n"
     ]
    },
    {
     "output_type": "stream",
     "name": "stderr",
     "text": [
      "ERROR:root:Problem in initial value trasfer\n"
     ]
    },
    {
     "output_type": "stream",
     "name": "stdout",
     "text": [
      "RUN  3 , total integrated cost =  3.5208566145967772\n",
      "RUN  3 , total integrated cost =  3.5208566145967772\n",
      "Improved over  3  iterations in  0.5878900500028976  seconds by  5.645812990451304e-07  percent.\n",
      "Problem in initial value trasfer:  Vmean_exc -74.49746271757235 -74.49759854179489\n",
      "4.4343803873923686e-08 0.1291648745708816\n",
      "5.551237769899523e-09 0.12950540574463307\n",
      "set cost params:  19.56 1.0 0.0\n",
      "----- 88\n",
      "interpolate adjoint :  True True True\n",
      "RUN  0 , total integrated cost =  3.5208568903835635\n",
      "Gradient descend method:  None\n",
      "RUN  1 , total integrated cost =  3.5208568525860735\n",
      "RUN  2 , total integrated cost =  3.520856852583053\n"
     ]
    },
    {
     "output_type": "stream",
     "name": "stderr",
     "text": [
      "ERROR:root:Problem in initial value trasfer\n"
     ]
    },
    {
     "output_type": "stream",
     "name": "stdout",
     "text": [
      "RUN  3 , total integrated cost =  3.520856852583047\n",
      "RUN  3 , total integrated cost =  3.520856852583047\n",
      "Improved over  3  iterations in  0.5963187250017654  seconds by  1.0736169571146092e-06  percent.\n",
      "Problem in initial value trasfer:  Vmean_exc -74.49859161525667 -74.4987222259609\n",
      "4.6697327667150796e-08 0.12916636236761064\n",
      "5.551237769899523e-09 0.12950540574463307\n",
      "set cost params:  19.555 1.0 0.0\n",
      "----- 89\n",
      "interpolate adjoint :  True True True\n",
      "RUN  0 , total integrated cost =  3.5208571047293233\n",
      "Gradient descend method:  None\n",
      "RUN  1 , total integrated cost =  3.5208570737770395\n",
      "RUN  2 , total integrated cost =  3.5208570737770355\n"
     ]
    },
    {
     "output_type": "stream",
     "name": "stderr",
     "text": [
      "ERROR:root:Problem in initial value trasfer\n"
     ]
    },
    {
     "output_type": "stream",
     "name": "stdout",
     "text": [
      "RUN  3 , total integrated cost =  3.5208570737770346\n",
      "RUN  3 , total integrated cost =  3.5208570737770346\n",
      "Improved over  3  iterations in  0.7580850300000748  seconds by  8.791123207174678e-07  percent.\n",
      "Problem in initial value trasfer:  Vmean_exc -74.49971619458805 -74.49984161174181\n",
      "4.869642131314242e-08 0.12916777399010743\n",
      "5.551237769899523e-09 0.12950540574463307\n",
      "set cost params:  19.55 1.0 0.0\n",
      "----- 90\n",
      "interpolate adjoint :  True True True\n",
      "RUN  0 , total integrated cost =  3.5208572965220117\n",
      "Gradient descend method:  None\n",
      "RUN  1 , total integrated cost =  3.520857273659179\n",
      "RUN  2 , total integrated cost =  3.5208572735477737\n"
     ]
    },
    {
     "output_type": "stream",
     "name": "stderr",
     "text": [
      "ERROR:root:Problem in initial value trasfer\n"
     ]
    },
    {
     "output_type": "stream",
     "name": "stdout",
     "text": [
      "RUN  3 , total integrated cost =  3.520857273543522\n",
      "RUN  3 , total integrated cost =  3.520857273543522\n",
      "Improved over  3  iterations in  0.5944583269956638  seconds by  6.526390592398457e-07  percent.\n",
      "Problem in initial value trasfer:  Vmean_exc -74.50068684816593 -74.5008077826514\n",
      "5.0638155761286114e-08 0.12916910277128713\n",
      "5.551237769899523e-09 0.12950540574463307\n",
      "set cost params:  19.544999999999998 1.0 0.0\n",
      "----- 91\n",
      "interpolate adjoint :  True True True\n",
      "RUN  0 , total integrated cost =  3.5208575519025125\n",
      "Gradient descend method:  None\n",
      "RUN  1 , total integrated cost =  3.5208575193062686\n",
      "RUN  2 , total integrated cost =  3.5208575192917833\n"
     ]
    },
    {
     "output_type": "stream",
     "name": "stderr",
     "text": [
      "ERROR:root:Problem in initial value trasfer\n"
     ]
    },
    {
     "output_type": "stream",
     "name": "stdout",
     "text": [
      "RUN  3 , total integrated cost =  3.520857519291776\n",
      "RUN  3 , total integrated cost =  3.520857519291776\n",
      "Improved over  3  iterations in  0.7131828259953181  seconds by  9.262157334433141e-07  percent.\n",
      "Problem in initial value trasfer:  Vmean_exc -74.50174111394891 -74.5018571796493\n",
      "5.2654849075256e-08 0.12917070210026302\n",
      "5.551237769899523e-09 0.12950540574463307\n",
      "set cost params:  19.54 1.0 0.0\n",
      "----- 92\n",
      "interpolate adjoint :  True True True\n",
      "RUN  0 , total integrated cost =  3.520857810613759\n",
      "Gradient descend method:  None\n",
      "RUN  1 , total integrated cost =  3.520857779274486\n",
      "RUN  2 , total integrated cost =  3.5208577792323057\n"
     ]
    },
    {
     "output_type": "stream",
     "name": "stderr",
     "text": [
      "ERROR:root:Problem in initial value trasfer\n"
     ]
    },
    {
     "output_type": "stream",
     "name": "stdout",
     "text": [
      "RUN  3 , total integrated cost =  3.520857779228028\n",
      "RUN  3 , total integrated cost =  3.520857779228028\n",
      "Improved over  3  iterations in  0.61787995800114  seconds by  8.914228573075889e-07  percent.\n",
      "Problem in initial value trasfer:  Vmean_exc -74.50259763292242 -74.50270974308323\n",
      "5.5523405459755574e-08 0.12917235578861977\n",
      "5.551237769899523e-09 0.12950540574463307\n",
      "set cost params:  19.535 1.0 0.0\n",
      "----- 93\n",
      "interpolate adjoint :  True True True\n",
      "RUN  0 , total integrated cost =  3.5208580885799146\n",
      "Gradient descend method:  None\n",
      "RUN  1 , total integrated cost =  3.5208580541095964\n",
      "RUN  2 , total integrated cost =  3.520858054032301\n"
     ]
    },
    {
     "output_type": "stream",
     "name": "stderr",
     "text": [
      "ERROR:root:Problem in initial value trasfer\n"
     ]
    },
    {
     "output_type": "stream",
     "name": "stdout",
     "text": [
      "RUN  3 , total integrated cost =  3.520858054029398\n",
      "RUN  3 , total integrated cost =  3.520858054029398\n",
      "Improved over  3  iterations in  0.5910464549961034  seconds by  9.813095402932959e-07  percent.\n",
      "Problem in initial value trasfer:  Vmean_exc -74.50354844052823 -74.50365615972642\n",
      "5.827981335725935e-08 0.12917413011126044\n",
      "5.551237769899523e-09 0.12950540574463307\n",
      "set cost params:  19.53 1.0 0.0\n",
      "----- 94\n",
      "interpolate adjoint :  True True True\n",
      "RUN  0 , total integrated cost =  3.5208583281265504\n",
      "Gradient descend method:  None\n",
      "RUN  1 , total integrated cost =  3.52085830217978\n",
      "RUN  2 , total integrated cost =  3.520858302122551\n"
     ]
    },
    {
     "output_type": "stream",
     "name": "stderr",
     "text": [
      "ERROR:root:Problem in initial value trasfer\n"
     ]
    },
    {
     "output_type": "stream",
     "name": "stdout",
     "text": [
      "RUN  3 , total integrated cost =  3.5208583021220954\n",
      "RUN  3 , total integrated cost =  3.5208583021220954\n",
      "Improved over  3  iterations in  0.5634566649969202  seconds by  7.385828268979822e-07  percent.\n",
      "Problem in initial value trasfer:  Vmean_exc -74.50438769427204 -74.50449153769353\n",
      "6.057842396097059e-08 0.12917570543437856\n",
      "5.551237769899523e-09 0.12950540574463307\n",
      "set cost params:  19.525 1.0 0.0\n",
      "----- 95\n",
      "interpolate adjoint :  True True True\n",
      "RUN  0 , total integrated cost =  3.5208585878897045\n",
      "Gradient descend method:  None\n",
      "RUN  1 , total integrated cost =  3.5208585623553685\n",
      "RUN  2 , total integrated cost =  3.520858562338921\n"
     ]
    },
    {
     "output_type": "stream",
     "name": "stderr",
     "text": [
      "ERROR:root:Problem in initial value trasfer\n"
     ]
    },
    {
     "output_type": "stream",
     "name": "stdout",
     "text": [
      "RUN  3 , total integrated cost =  3.5208585623389137\n",
      "RUN  3 , total integrated cost =  3.5208585623389137\n",
      "Improved over  3  iterations in  0.5990739240005496  seconds by  7.256977312408708e-07  percent.\n",
      "Problem in initial value trasfer:  Vmean_exc -74.5051907060024 -74.50529084103005\n",
      "6.311692490068029e-08 0.1291773385117878\n",
      "5.551237769899523e-09 0.12950540574463307\n",
      "set cost params:  19.52 1.0 0.0\n",
      "----- 96\n",
      "interpolate adjoint :  True True True\n",
      "RUN  0 , total integrated cost =  3.5208589759955293\n",
      "Gradient descend method:  None\n",
      "RUN  1 , total integrated cost =  3.520858929110827\n",
      "RUN  2 , total integrated cost =  3.520858929035287\n"
     ]
    },
    {
     "output_type": "stream",
     "name": "stderr",
     "text": [
      "ERROR:root:Problem in initial value trasfer\n"
     ]
    },
    {
     "output_type": "stream",
     "name": "stdout",
     "text": [
      "RUN  3 , total integrated cost =  3.5208589290337162\n",
      "RUN  3 , total integrated cost =  3.5208589290337162\n",
      "Improved over  3  iterations in  0.6106832320001558  seconds by  1.3338169395638033e-06  percent.\n",
      "Problem in initial value trasfer:  Vmean_exc -74.50600091613099 -74.50609730953451\n",
      "6.727891853846326e-08 0.12917960437356188\n",
      "5.551237769899523e-09 0.12950540574463307\n",
      "set cost params:  19.515 1.0 0.0\n",
      "----- 97\n",
      "interpolate adjoint :  True True True\n",
      "RUN  0 , total integrated cost =  3.5208592477938887\n",
      "Gradient descend method:  None\n",
      "RUN  1 , total integrated cost =  3.520859219612023\n",
      "RUN  2 , total integrated cost =  3.520859219602108\n",
      "RUN  3 , total integrated cost =  3.5208592196020914\n"
     ]
    },
    {
     "output_type": "stream",
     "name": "stderr",
     "text": [
      "ERROR:root:Problem in initial value trasfer\n"
     ]
    },
    {
     "output_type": "stream",
     "name": "stdout",
     "text": [
      "RUN  3 , total integrated cost =  3.5208592196020914\n",
      "Improved over  3  iterations in  0.6158045729971491  seconds by  8.007078804439516e-07  percent.\n",
      "Problem in initial value trasfer:  Vmean_exc -74.50674849512902 -74.50684143615598\n",
      "7.006308970117999e-08 0.12918143569983043\n",
      "5.551237769899523e-09 0.12950540574463307\n",
      "set cost params:  19.509999999999998 1.0 0.0\n",
      "----- 98\n",
      "interpolate adjoint :  True True True\n",
      "RUN  0 , total integrated cost =  3.5208596142806887\n",
      "Gradient descend method:  None\n",
      "RUN  1 , total integrated cost =  3.520859576417777\n",
      "RUN  2 , total integrated cost =  3.520859576379774\n"
     ]
    },
    {
     "output_type": "stream",
     "name": "stderr",
     "text": [
      "ERROR:root:Problem in initial value trasfer\n"
     ]
    },
    {
     "output_type": "stream",
     "name": "stdout",
     "text": [
      "RUN  3 , total integrated cost =  3.520859576369872\n",
      "RUN  3 , total integrated cost =  3.520859576369872\n",
      "Improved over  3  iterations in  0.8707104889981565  seconds by  1.0767488873852926e-06  percent.\n",
      "Problem in initial value trasfer:  Vmean_exc -74.50752006899226 -74.50760944684397\n",
      "7.412669847255483e-08 0.1291836578658417\n",
      "5.551237769899523e-09 0.12950540574463307\n",
      "set cost params:  19.505000000000003 1.0 0.0\n",
      "----- 99\n",
      "interpolate adjoint :  True True True\n",
      "RUN  0 , total integrated cost =  3.5208599934770297\n",
      "Gradient descend method:  None\n",
      "RUN  1 , total integrated cost =  3.5208599531578275\n",
      "RUN  2 , total integrated cost =  3.5208599531174567\n"
     ]
    },
    {
     "output_type": "stream",
     "name": "stderr",
     "text": [
      "ERROR:root:Problem in initial value trasfer\n"
     ]
    },
    {
     "output_type": "stream",
     "name": "stdout",
     "text": [
      "RUN  3 , total integrated cost =  3.520859953117156\n",
      "RUN  3 , total integrated cost =  3.520859953117156\n",
      "Improved over  3  iterations in  0.679545587998291  seconds by  1.146307255339707e-06  percent.\n",
      "Problem in initial value trasfer:  Vmean_exc -74.5081883413474 -74.50827463308582\n",
      "7.801190315194257e-08 0.12918599046507195\n",
      "5.551237769899523e-09 0.12950540574463307\n",
      "set cost params:  19.5 1.0 0.0\n",
      "----- 100\n",
      "interpolate adjoint :  True True True\n",
      "RUN  0 , total integrated cost =  3.5208603912214467\n",
      "Gradient descend method:  None\n",
      "RUN  1 , total integrated cost =  3.5208603511143166\n",
      "RUN  2 , total integrated cost =  3.52086035098204\n"
     ]
    },
    {
     "output_type": "stream",
     "name": "stderr",
     "text": [
      "ERROR:root:Problem in initial value trasfer\n"
     ]
    },
    {
     "output_type": "stream",
     "name": "stdout",
     "text": [
      "RUN  3 , total integrated cost =  3.520860350975713\n",
      "RUN  3 , total integrated cost =  3.520860350975713\n",
      "Improved over  3  iterations in  0.5777917810046347  seconds by  1.1430653046318184e-06  percent.\n",
      "Problem in initial value trasfer:  Vmean_exc -74.50890092027342 -74.50898392129831\n",
      "8.26796545895579e-08 0.129188529898462\n",
      "5.551237769899523e-09 0.12950540574463307\n",
      "set cost params:  19.494999999999997 1.0 0.0\n",
      "----- 101\n",
      "interpolate adjoint :  True True True\n",
      "RUN  0 , total integrated cost =  3.5208607408000474\n",
      "Gradient descend method:  None\n",
      "RUN  1 , total integrated cost =  3.520860709584476\n",
      "RUN  2 , total integrated cost =  3.520860709426529\n",
      "RUN  3 , total integrated cost =  3.520860709421158\n",
      "RUN  4 , total integrated cost =  3.5208607094210898\n",
      "RUN  5 , total integrated cost =  3.520860709421076\n",
      "RUN  6 , total integrated cost =  3.5208607094210733\n",
      "RUN  7 , total integrated cost =  3.5208607094210715\n"
     ]
    },
    {
     "output_type": "stream",
     "name": "stderr",
     "text": [
      "ERROR:root:Problem in initial value trasfer\n"
     ]
    },
    {
     "output_type": "stream",
     "name": "stdout",
     "text": [
      "RUN  8 , total integrated cost =  3.5208607094210715\n",
      "Control only changes marginally.\n",
      "RUN  8 , total integrated cost =  3.5208607094210715\n",
      "Improved over  8  iterations in  1.5561850119993323  seconds by  8.91230243382779e-07  percent.\n",
      "Problem in initial value trasfer:  Vmean_exc -74.50952894238813 -74.50960904319386\n",
      "8.671777141213378e-08 0.1291908257730805\n",
      "5.551237769899523e-09 0.12950540574463307\n",
      "set cost params:  19.490000000000002 1.0 0.0\n",
      "----- 102\n",
      "interpolate adjoint :  True True True\n",
      "RUN  0 , total integrated cost =  3.5208611990432295\n",
      "Gradient descend method:  None\n",
      "RUN  1 , total integrated cost =  3.520861149396873\n",
      "RUN  2 , total integrated cost =  3.5208611493095137\n",
      "RUN  3 , total integrated cost =  3.520861149297116\n",
      "RUN  4 , total integrated cost =  3.5208611492968993\n",
      "RUN  5 , total integrated cost =  3.520861149296882\n",
      "RUN  6 , total integrated cost =  3.520861149296733\n",
      "RUN  7 , total integrated cost =  3.520861149295007\n",
      "RUN  8 , total integrated cost =  3.5208611492435313\n",
      "RUN  9 , total integrated cost =  3.520861149233568\n",
      "RUN  10 , total integrated cost =  3.520861149233383\n",
      "RUN  11 , total integrated cost =  3.520861149233371\n",
      "RUN  12 , total integrated cost =  3.520861149233178\n",
      "RUN  13 , total integrated cost =  3.5208611492308575\n",
      "RUN  14 , total integrated cost =  3.520861149178353\n",
      "RUN  15 , total integrated cost =  3.520861149168324\n",
      "RUN  16 , total integrated cost =  3.5208611491681423\n",
      "RUN  17 , total integrated cost =  3.520861149168113\n",
      "RUN  18 , total integrated cost =  3.5208611491679376\n",
      "RUN  19 , total integrated cost =  3.5208611491658566\n"
     ]
    },
    {
     "output_type": "stream",
     "name": "stderr",
     "text": [
      "ERROR:root:Problem in initial value trasfer\n"
     ]
    },
    {
     "output_type": "stream",
     "name": "stdout",
     "text": [
      "RUN  20 , total integrated cost =  3.520861149113769\n",
      "RUN  20 , total integrated cost =  3.520861149113769\n",
      "Improved over  20  iterations in  3.372924071001762  seconds by  1.418103636297019e-06  percent.\n",
      "Problem in initial value trasfer:  Vmean_exc -74.51018569719461 -74.5102627651012\n",
      "9.209501106044928e-08 0.1291936611762025\n",
      "5.551237769899523e-09 0.12950540574463307\n",
      "set cost params:  19.485 1.0 0.0\n",
      "----- 103\n",
      "interpolate adjoint :  True True True\n",
      "RUN  0 , total integrated cost =  3.52086167506004\n",
      "Gradient descend method:  None\n",
      "RUN  1 , total integrated cost =  3.520861613430056\n",
      "RUN  2 , total integrated cost =  3.5208616132056383\n",
      "RUN  3 , total integrated cost =  3.5208616132056316\n",
      "RUN  4 , total integrated cost =  3.5208616132056294\n",
      "RUN  5 , total integrated cost =  3.520861613205626\n",
      "RUN  6 , total integrated cost =  3.520861613205623\n"
     ]
    },
    {
     "output_type": "stream",
     "name": "stderr",
     "text": [
      "ERROR:root:Problem in initial value trasfer\n"
     ]
    },
    {
     "output_type": "stream",
     "name": "stdout",
     "text": [
      "RUN  7 , total integrated cost =  3.520861613205623\n",
      "Control only changes marginally.\n",
      "RUN  7 , total integrated cost =  3.520861613205623\n",
      "Improved over  7  iterations in  1.8554937349981628  seconds by  1.7567977010912728e-06  percent.\n",
      "Problem in initial value trasfer:  Vmean_exc -74.51076102943287 -74.51083544045729\n",
      "9.693790755573577e-08 0.12919652652014446\n",
      "5.551237769899523e-09 0.12950540574463307\n",
      "set cost params:  19.48 1.0 0.0\n",
      "----- 104\n",
      "interpolate adjoint :  True True True\n",
      "RUN  0 , total integrated cost =  3.5208621748378692\n",
      "Gradient descend method:  None\n",
      "RUN  1 , total integrated cost =  3.520862103205092\n",
      "RUN  2 , total integrated cost =  3.520862102913856\n",
      "RUN  3 , total integrated cost =  3.5208621029111726\n",
      "RUN  4 , total integrated cost =  3.5208621029111695\n"
     ]
    },
    {
     "output_type": "stream",
     "name": "stderr",
     "text": [
      "ERROR:root:Problem in initial value trasfer\n"
     ]
    },
    {
     "output_type": "stream",
     "name": "stdout",
     "text": [
      "RUN  5 , total integrated cost =  3.5208621029111695\n",
      "Control only changes marginally.\n",
      "RUN  5 , total integrated cost =  3.5208621029111695\n",
      "Improved over  5  iterations in  1.2294807020007283  seconds by  2.042871784624367e-06  percent.\n",
      "Problem in initial value trasfer:  Vmean_exc -74.5113807558322 -74.51145230496958\n",
      "1.0241449845212586e-07 0.12919966863749333\n",
      "5.551237769899523e-09 0.12950540574463307\n",
      "set cost params:  19.475 1.0 0.0\n",
      "----- 105\n",
      "interpolate adjoint :  True True True\n",
      "RUN  0 , total integrated cost =  3.520862608095173\n",
      "Gradient descend method:  None\n",
      "RUN  1 , total integrated cost =  3.520862545628945\n",
      "RUN  2 , total integrated cost =  3.520862545623121\n",
      "RUN  3 , total integrated cost =  3.5208625456231175\n",
      "RUN  4 , total integrated cost =  3.520862545623117\n"
     ]
    },
    {
     "output_type": "stream",
     "name": "stderr",
     "text": [
      "ERROR:root:Problem in initial value trasfer\n"
     ]
    },
    {
     "output_type": "stream",
     "name": "stdout",
     "text": [
      "RUN  5 , total integrated cost =  3.520862545623117\n",
      "Control only changes marginally.\n",
      "RUN  5 , total integrated cost =  3.520862545623117\n",
      "Improved over  5  iterations in  1.193519379994541  seconds by  1.7743394948865898e-06  percent.\n",
      "Problem in initial value trasfer:  Vmean_exc -74.51194399558827 -74.51201294369952\n",
      "1.0622340131602853e-07 0.12920252500335933\n",
      "5.551237769899523e-09 0.12950540574463307\n",
      "set cost params:  19.47 1.0 0.0\n",
      "----- 106\n",
      "interpolate adjoint :  True True True\n",
      "RUN  0 , total integrated cost =  3.5208631795826517\n",
      "Gradient descend method:  None\n",
      "RUN  1 , total integrated cost =  3.520863090951268\n",
      "RUN  2 , total integrated cost =  3.5208630907533096\n",
      "RUN  3 , total integrated cost =  3.5208630907502054\n",
      "RUN  4 , total integrated cost =  3.520863090750075\n",
      "RUN  5 , total integrated cost =  3.5208630907500718\n",
      "RUN  6 , total integrated cost =  3.520863090750071\n"
     ]
    },
    {
     "output_type": "stream",
     "name": "stderr",
     "text": [
      "ERROR:root:Problem in initial value trasfer\n"
     ]
    },
    {
     "output_type": "stream",
     "name": "stdout",
     "text": [
      "RUN  7 , total integrated cost =  3.520863090750071\n",
      "Control only changes marginally.\n",
      "RUN  7 , total integrated cost =  3.520863090750071\n",
      "Improved over  7  iterations in  1.3112709659981192  seconds by  2.523034154933157e-06  percent.\n",
      "Problem in initial value trasfer:  Vmean_exc -74.51248674240435 -74.51255318413114\n",
      "1.1023249995842571e-07 0.12920624123026903\n",
      "5.551237769899523e-09 0.12950540574463307\n",
      "set cost params:  19.465 1.0 0.0\n",
      "----- 107\n",
      "interpolate adjoint :  True True True\n",
      "RUN  0 , total integrated cost =  3.5208637550735085\n",
      "Gradient descend method:  None\n",
      "RUN  1 , total integrated cost =  3.520863668638342\n",
      "RUN  2 , total integrated cost =  3.5208636684349615\n",
      "RUN  3 , total integrated cost =  3.520863668434954\n",
      "RUN  4 , total integrated cost =  3.520863668434953\n"
     ]
    },
    {
     "output_type": "stream",
     "name": "stderr",
     "text": [
      "ERROR:root:Problem in initial value trasfer\n"
     ]
    },
    {
     "output_type": "stream",
     "name": "stdout",
     "text": [
      "RUN  5 , total integrated cost =  3.520863668434953\n",
      "Control only changes marginally.\n",
      "RUN  5 , total integrated cost =  3.520863668434953\n",
      "Improved over  5  iterations in  1.0161540740009514  seconds by  2.460718775409987e-06  percent.\n",
      "Problem in initial value trasfer:  Vmean_exc -74.51306433271763 -74.51312810716027\n",
      "1.1509148360663823e-07 0.12920998446213364\n",
      "5.551237769899523e-09 0.12950540574463307\n",
      "set cost params:  19.46 1.0 0.0\n",
      "----- 108\n",
      "interpolate adjoint :  True True True\n",
      "RUN  0 , total integrated cost =  3.5208642545577638\n",
      "Gradient descend method:  None\n",
      "RUN  1 , total integrated cost =  3.5208641906817304\n",
      "RUN  2 , total integrated cost =  3.5208641906174387\n",
      "RUN  3 , total integrated cost =  3.5208641906174383\n"
     ]
    },
    {
     "output_type": "stream",
     "name": "stderr",
     "text": [
      "ERROR:root:Problem in initial value trasfer\n"
     ]
    },
    {
     "output_type": "stream",
     "name": "stdout",
     "text": [
      "RUN  4 , total integrated cost =  3.5208641906174383\n",
      "Control only changes marginally.\n",
      "RUN  4 , total integrated cost =  3.5208641906174383\n",
      "Improved over  4  iterations in  0.8720301080029458  seconds by  1.8160406227707426e-06  percent.\n",
      "Problem in initial value trasfer:  Vmean_exc -74.51356529438006 -74.51362675541122\n",
      "1.1962784359855194e-07 0.12921334700972417\n",
      "5.551237769899523e-09 0.12950540574463307\n",
      "set cost params:  19.455000000000002 1.0 0.0\n",
      "----- 109\n",
      "interpolate adjoint :  True True True\n",
      "RUN  0 , total integrated cost =  3.5208649236709566\n",
      "Gradient descend method:  None\n",
      "RUN  1 , total integrated cost =  3.520864833280264\n",
      "RUN  2 , total integrated cost =  3.520864833280259\n"
     ]
    },
    {
     "output_type": "stream",
     "name": "stderr",
     "text": [
      "ERROR:root:Problem in initial value trasfer\n"
     ]
    },
    {
     "output_type": "stream",
     "name": "stdout",
     "text": [
      "RUN  3 , total integrated cost =  3.520864833280259\n",
      "Control only changes marginally.\n",
      "RUN  3 , total integrated cost =  3.520864833280259\n",
      "Improved over  3  iterations in  0.8653913879970787  seconds by  2.567286713883732e-06  percent.\n",
      "Problem in initial value trasfer:  Vmean_exc -74.51409057681882 -74.5141496121318\n",
      "1.2575846368765503e-07 0.12921740217540603\n",
      "5.551237769899523e-09 0.12950540574463307\n",
      "set cost params:  19.45 1.0 0.0\n",
      "----- 110\n",
      "interpolate adjoint :  True True True\n",
      "RUN  0 , total integrated cost =  3.5208656096340114\n",
      "Gradient descend method:  None\n",
      "RUN  1 , total integrated cost =  3.5208655137433773\n",
      "RUN  2 , total integrated cost =  3.520865513743368\n",
      "RUN  3 , total integrated cost =  3.520865513743365\n"
     ]
    },
    {
     "output_type": "stream",
     "name": "stderr",
     "text": [
      "ERROR:root:Problem in initial value trasfer\n"
     ]
    },
    {
     "output_type": "stream",
     "name": "stdout",
     "text": [
      "RUN  4 , total integrated cost =  3.520865513743365\n",
      "Control only changes marginally.\n",
      "RUN  4 , total integrated cost =  3.520865513743365\n",
      "Improved over  4  iterations in  1.148369898000965  seconds by  2.7234963511091337e-06  percent.\n",
      "Problem in initial value trasfer:  Vmean_exc -74.5145428796797 -74.51459982629349\n",
      "1.3184660583820758e-07 0.12922175660394905\n",
      "5.551237769899523e-09 0.12950540574463307\n",
      "set cost params:  19.445 1.0 0.0\n",
      "----- 111\n",
      "interpolate adjoint :  True True True\n",
      "RUN  0 , total integrated cost =  3.5208661996184984\n",
      "Gradient descend method:  None\n",
      "RUN  1 , total integrated cost =  3.5208661284924676\n",
      "RUN  2 , total integrated cost =  3.520866128492467\n"
     ]
    },
    {
     "output_type": "stream",
     "name": "stderr",
     "text": [
      "ERROR:root:Problem in initial value trasfer\n"
     ]
    },
    {
     "output_type": "stream",
     "name": "stdout",
     "text": [
      "RUN  3 , total integrated cost =  3.520866128492467\n",
      "Control only changes marginally.\n",
      "RUN  3 , total integrated cost =  3.520866128492467\n",
      "Improved over  3  iterations in  0.8761327589963912  seconds by  2.020128775370722e-06  percent.\n",
      "Problem in initial value trasfer:  Vmean_exc -74.51498351957125 -74.51503843134832\n",
      "1.3785249642160335e-07 0.12922561521381587\n",
      "5.551237769899523e-09 0.12950540574463307\n",
      "set cost params:  19.44 1.0 0.0\n",
      "----- 112\n",
      "interpolate adjoint :  True True True\n",
      "RUN  0 , total integrated cost =  3.520866987178341\n",
      "Gradient descend method:  None\n",
      "RUN  1 , total integrated cost =  3.5208668845756645\n",
      "RUN  2 , total integrated cost =  3.5208668845739886\n",
      "RUN  3 , total integrated cost =  3.5208668845739317\n",
      "RUN  4 , total integrated cost =  3.5208668845739233\n",
      "RUN  5 , total integrated cost =  3.520866884573921\n",
      "RUN  6 , total integrated cost =  3.520866884573919\n"
     ]
    },
    {
     "output_type": "stream",
     "name": "stderr",
     "text": [
      "ERROR:root:Problem in initial value trasfer\n"
     ]
    },
    {
     "output_type": "stream",
     "name": "stdout",
     "text": [
      "RUN  7 , total integrated cost =  3.520866884573919\n",
      "Control only changes marginally.\n",
      "RUN  7 , total integrated cost =  3.520866884573919\n",
      "Improved over  7  iterations in  2.0281226849983796  seconds by  2.9141805839572044e-06  percent.\n",
      "Problem in initial value trasfer:  Vmean_exc -74.51545931632486 -74.51551203091815\n",
      "1.4439014451851567e-07 0.12923048783108304\n",
      "5.551237769899523e-09 0.12950540574463307\n",
      "set cost params:  19.435 1.0 0.0\n",
      "----- 113\n",
      "interpolate adjoint :  True True True\n",
      "RUN  0 , total integrated cost =  3.520867786325772\n",
      "Gradient descend method:  None\n",
      "RUN  1 , total integrated cost =  3.5208676848062104\n",
      "RUN  2 , total integrated cost =  3.52086768480613\n",
      "RUN  3 , total integrated cost =  3.5208676685963542\n",
      "RUN  4 , total integrated cost =  3.520867655064769\n",
      "RUN  5 , total integrated cost =  3.5208676550647593\n",
      "RUN  6 , total integrated cost =  3.5208676550647584\n",
      "RUN  7 , total integrated cost =  3.5208676550647575\n",
      "RUN  8 , total integrated cost =  3.520867655064757\n"
     ]
    },
    {
     "output_type": "stream",
     "name": "stderr",
     "text": [
      "ERROR:root:Problem in initial value trasfer\n"
     ]
    },
    {
     "output_type": "stream",
     "name": "stdout",
     "text": [
      "RUN  9 , total integrated cost =  3.520867655064757\n",
      "Control only changes marginally.\n",
      "RUN  9 , total integrated cost =  3.520867655064757\n",
      "Improved over  9  iterations in  2.226157842997054  seconds by  3.7280870230915752e-06  percent.\n",
      "Problem in initial value trasfer:  Vmean_exc -74.51585690581754 -74.515907784384\n",
      "1.5226864335944767e-07 0.12923801273309812\n",
      "5.551237769899523e-09 0.12950540574463307\n",
      "set cost params:  19.43 1.0 0.0\n",
      "----- 114\n",
      "interpolate adjoint :  True True True\n",
      "RUN  0 , total integrated cost =  3.5208686074855287\n",
      "Gradient descend method:  None\n",
      "RUN  1 , total integrated cost =  3.520868501488414\n",
      "RUN  2 , total integrated cost =  3.52086850148841\n",
      "RUN  3 , total integrated cost =  3.5208685014884074\n",
      "RUN  4 , total integrated cost =  3.5208685014884065\n"
     ]
    },
    {
     "output_type": "stream",
     "name": "stderr",
     "text": [
      "ERROR:root:Problem in initial value trasfer\n"
     ]
    },
    {
     "output_type": "stream",
     "name": "stdout",
     "text": [
      "RUN  5 , total integrated cost =  3.5208685014884065\n",
      "Control only changes marginally.\n",
      "RUN  5 , total integrated cost =  3.5208685014884065\n",
      "Improved over  5  iterations in  1.4074968860004446  seconds by  3.0105389896561974e-06  percent.\n",
      "Problem in initial value trasfer:  Vmean_exc -74.51628836554329 -74.51633725167721\n",
      "1.6079214844450186e-07 0.12924328640889082\n",
      "5.551237769899523e-09 0.12950540574463307\n",
      "set cost params:  19.425 1.0 0.0\n",
      "----- 115\n",
      "interpolate adjoint :  True True True\n",
      "RUN  0 , total integrated cost =  3.520869346130616\n",
      "Gradient descend method:  None\n",
      "RUN  1 , total integrated cost =  3.5208692656522587\n",
      "RUN  2 , total integrated cost =  3.5208692654597704\n",
      "RUN  3 , total integrated cost =  3.52086926545645\n",
      "RUN  4 , total integrated cost =  3.520869265456445\n",
      "RUN  5 , total integrated cost =  3.5208692654564415\n",
      "RUN  6 , total integrated cost =  3.520869265456441\n"
     ]
    },
    {
     "output_type": "stream",
     "name": "stderr",
     "text": [
      "ERROR:root:Problem in initial value trasfer\n"
     ]
    },
    {
     "output_type": "stream",
     "name": "stdout",
     "text": [
      "RUN  7 , total integrated cost =  3.520869265456441\n",
      "Control only changes marginally.\n",
      "RUN  7 , total integrated cost =  3.520869265456441\n",
      "Improved over  7  iterations in  1.4542065339992405  seconds by  2.2913140753644257e-06  percent.\n",
      "Problem in initial value trasfer:  Vmean_exc -74.51665981489707 -74.51670698572252\n",
      "1.6922793550532314e-07 0.12924820464457035\n",
      "5.551237769899523e-09 0.12950540574463307\n",
      "set cost params:  19.419999999999998 1.0 0.0\n",
      "----- 116\n",
      "interpolate adjoint :  True True True\n",
      "RUN  0 , total integrated cost =  3.5208701539479614\n",
      "Gradient descend method:  None\n",
      "RUN  1 , total integrated cost =  3.5208700670467774\n",
      "RUN  2 , total integrated cost =  3.5208700669676083\n",
      "RUN  3 , total integrated cost =  3.520870066967607\n"
     ]
    },
    {
     "output_type": "stream",
     "name": "stderr",
     "text": [
      "ERROR:root:Problem in initial value trasfer\n"
     ]
    },
    {
     "output_type": "stream",
     "name": "stdout",
     "text": [
      "RUN  4 , total integrated cost =  3.520870066967607\n",
      "Control only changes marginally.\n",
      "RUN  4 , total integrated cost =  3.520870066967607\n",
      "Improved over  4  iterations in  1.2944913500032271  seconds by  2.4704221033289286e-06  percent.\n",
      "Problem in initial value trasfer:  Vmean_exc -74.5170308769716 -74.51707633427964\n",
      "1.761641814551533e-07 0.12925337022551975\n",
      "5.551237769899523e-09 0.12950540574463307\n",
      "set cost params:  19.415 1.0 0.0\n",
      "----- 117\n",
      "interpolate adjoint :  True True True\n",
      "RUN  0 , total integrated cost =  3.520871348721001\n",
      "Gradient descend method:  None\n",
      "RUN  1 , total integrated cost =  3.5208711973294187\n",
      "RUN  2 , total integrated cost =  3.520871197326966\n",
      "RUN  3 , total integrated cost =  3.520871197326931\n",
      "RUN  4 , total integrated cost =  3.520871197326929\n",
      "RUN  5 , total integrated cost =  3.5208711973269278\n",
      "RUN  6 , total integrated cost =  3.5208711973269273\n",
      "RUN  7 , total integrated cost =  3.520871197326927\n"
     ]
    },
    {
     "output_type": "stream",
     "name": "stderr",
     "text": [
      "ERROR:root:Problem in initial value trasfer\n"
     ]
    },
    {
     "output_type": "stream",
     "name": "stdout",
     "text": [
      "RUN  8 , total integrated cost =  3.520871197326927\n",
      "Control only changes marginally.\n",
      "RUN  8 , total integrated cost =  3.520871197326927\n",
      "Improved over  8  iterations in  2.285731839001528  seconds by  4.299903608284694e-06  percent.\n",
      "Problem in initial value trasfer:  Vmean_exc -74.51740525191285 -74.51744898040779\n",
      "1.8797565401145573e-07 0.12926034796188213\n",
      "5.551237769899523e-09 0.12950540574463307\n",
      "set cost params:  19.41 1.0 0.0\n",
      "----- 118\n",
      "interpolate adjoint :  True True True\n",
      "RUN  0 , total integrated cost =  3.5208721800444103\n",
      "Gradient descend method:  None\n",
      "RUN  1 , total integrated cost =  3.5208720930483275\n",
      "RUN  2 , total integrated cost =  3.5208720928679442\n",
      "RUN  3 , total integrated cost =  3.5208720928619432\n",
      "RUN  4 , total integrated cost =  3.520872092861895\n",
      "RUN  5 , total integrated cost =  3.520872092861891\n"
     ]
    },
    {
     "output_type": "stream",
     "name": "stderr",
     "text": [
      "ERROR:root:Problem in initial value trasfer\n"
     ]
    },
    {
     "output_type": "stream",
     "name": "stdout",
     "text": [
      "RUN  6 , total integrated cost =  3.520872092861891\n",
      "Control only changes marginally.\n",
      "RUN  6 , total integrated cost =  3.520872092861891\n",
      "Improved over  6  iterations in  1.7028392020001775  seconds by  2.4761625780911345e-06  percent.\n",
      "Problem in initial value trasfer:  Vmean_exc -74.51773700673202 -74.51777920323013\n",
      "1.9795046627301833e-07 0.12926608882997584\n",
      "5.551237769899523e-09 0.12950540574463307\n",
      "set cost params:  19.405 1.0 0.0\n",
      "----- 119\n",
      "interpolate adjoint :  True True True\n",
      "RUN  0 , total integrated cost =  3.5208731277738305\n",
      "Gradient descend method:  None\n",
      "RUN  1 , total integrated cost =  3.520873031891412\n"
     ]
    },
    {
     "output_type": "stream",
     "name": "stderr",
     "text": [
      "ERROR:root:Problem in initial value trasfer\n"
     ]
    },
    {
     "output_type": "stream",
     "name": "stdout",
     "text": [
      "RUN  2 , total integrated cost =  3.520873031891412\n",
      "Control only changes marginally.\n",
      "RUN  2 , total integrated cost =  3.520873031891412\n",
      "Improved over  2  iterations in  0.68542510199768  seconds by  2.7232568413637637e-06  percent.\n",
      "Problem in initial value trasfer:  Vmean_exc -74.51806664889597 -74.5181073231553\n",
      "2.06513943451377e-07 0.12927207514152117\n",
      "5.551237769899523e-09 0.12950540574463307\n",
      "set cost params:  19.4 1.0 0.0\n",
      "----- 120\n",
      "interpolate adjoint :  True True True\n",
      "RUN  0 , total integrated cost =  3.5208743303526977\n",
      "Gradient descend method:  None\n",
      "RUN  1 , total integrated cost =  3.5208741850588163\n",
      "RUN  2 , total integrated cost =  3.520874185058804\n",
      "RUN  3 , total integrated cost =  3.5208741850588003\n",
      "RUN  4 , total integrated cost =  3.520874185058798\n"
     ]
    },
    {
     "output_type": "stream",
     "name": "stderr",
     "text": [
      "ERROR:root:Problem in initial value trasfer\n"
     ]
    },
    {
     "output_type": "stream",
     "name": "stdout",
     "text": [
      "RUN  5 , total integrated cost =  3.520874185058798\n",
      "Control only changes marginally.\n",
      "RUN  5 , total integrated cost =  3.520874185058798\n",
      "Improved over  5  iterations in  2.054160398998647  seconds by  4.126642579649342e-06  percent.\n",
      "Problem in initial value trasfer:  Vmean_exc -74.51840484108016 -74.5184439536202\n",
      "2.1958336668718205e-07 0.12927904206584706\n",
      "5.551237769899523e-09 0.12950540574463307\n",
      "set cost params:  19.395 1.0 0.0\n",
      "----- 121\n",
      "interpolate adjoint :  True True True\n",
      "RUN  0 , total integrated cost =  3.5208755836013075\n",
      "Gradient descend method:  None\n",
      "RUN  1 , total integrated cost =  3.5208754030142253\n",
      "RUN  2 , total integrated cost =  3.5208754029684934\n",
      "RUN  3 , total integrated cost =  3.5208754029670613\n",
      "RUN  4 , total integrated cost =  3.52087540296701\n",
      "RUN  5 , total integrated cost =  3.520875402967008\n",
      "RUN  6 , total integrated cost =  3.5208754029670075\n",
      "RUN  7 , total integrated cost =  3.5208754029670075\n"
     ]
    },
    {
     "output_type": "stream",
     "name": "stderr",
     "text": [
      "ERROR:root:Problem in initial value trasfer\n"
     ]
    },
    {
     "output_type": "stream",
     "name": "stdout",
     "text": [
      "Control only changes marginally.\n",
      "RUN  7 , total integrated cost =  3.5208754029670075\n",
      "Improved over  7  iterations in  1.5362313600053312  seconds by  5.130380088758102e-06  percent.\n",
      "Problem in initial value trasfer:  Vmean_exc -74.51869460968864 -74.51873238412372\n",
      "2.3284423006342665e-07 0.1292864816630667\n",
      "5.551237769899523e-09 0.12950540574463307\n",
      "set cost params:  19.39 1.0 0.0\n",
      "----- 122\n",
      "interpolate adjoint :  True True True\n",
      "RUN  0 , total integrated cost =  3.5208769096123036\n",
      "Gradient descend method:  None\n",
      "RUN  1 , total integrated cost =  3.520876690857288\n",
      "RUN  2 , total integrated cost =  3.520876690534042\n",
      "RUN  3 , total integrated cost =  3.5208766905338025\n",
      "RUN  4 , total integrated cost =  3.5208766905337927\n"
     ]
    },
    {
     "output_type": "stream",
     "name": "stderr",
     "text": [
      "ERROR:root:Problem in initial value trasfer\n"
     ]
    },
    {
     "output_type": "stream",
     "name": "stdout",
     "text": [
      "RUN  5 , total integrated cost =  3.5208766905337927\n",
      "Control only changes marginally.\n",
      "RUN  5 , total integrated cost =  3.5208766905337927\n",
      "Improved over  5  iterations in  1.285075294006674  seconds by  6.222271224487486e-06  percent.\n",
      "Problem in initial value trasfer:  Vmean_exc -74.51902768012154 -74.5190639164928\n",
      "2.4242009012737494e-07 0.12929501324871015\n",
      "5.551237769899523e-09 0.12950540574463307\n",
      "set cost params:  19.384999999999998 1.0 0.0\n",
      "----- 123\n",
      "interpolate adjoint :  True True True\n",
      "RUN  0 , total integrated cost =  3.5208780160424293\n",
      "Gradient descend method:  None\n",
      "RUN  1 , total integrated cost =  3.520877855891979\n",
      "RUN  2 , total integrated cost =  3.5208778556792546\n",
      "RUN  3 , total integrated cost =  3.520877855679249\n",
      "RUN  4 , total integrated cost =  3.520877855679247\n"
     ]
    },
    {
     "output_type": "stream",
     "name": "stderr",
     "text": [
      "ERROR:root:Problem in initial value trasfer\n"
     ]
    },
    {
     "output_type": "stream",
     "name": "stdout",
     "text": [
      "RUN  5 , total integrated cost =  3.520877855679247\n",
      "Control only changes marginally.\n",
      "RUN  5 , total integrated cost =  3.520877855679247\n",
      "Improved over  5  iterations in  1.3436829650017899  seconds by  4.554636134912471e-06  percent.\n",
      "Problem in initial value trasfer:  Vmean_exc -74.51931366880139 -74.51934858452628\n",
      "2.521454024694307e-07 0.12930257582794547\n",
      "5.551237769899523e-09 0.12950540574463307\n",
      "set cost params:  19.380000000000003 1.0 0.0\n",
      "----- 124\n",
      "interpolate adjoint :  True True True\n",
      "RUN  0 , total integrated cost =  3.52087952607144\n",
      "Gradient descend method:  None\n",
      "RUN  1 , total integrated cost =  3.5208792918138396\n",
      "RUN  2 , total integrated cost =  3.5208792918103113\n",
      "RUN  3 , total integrated cost =  3.5208792918102763\n",
      "RUN  4 , total integrated cost =  3.5208792918102727\n"
     ]
    },
    {
     "output_type": "stream",
     "name": "stderr",
     "text": [
      "ERROR:root:Problem in initial value trasfer\n"
     ]
    },
    {
     "output_type": "stream",
     "name": "stdout",
     "text": [
      "RUN  5 , total integrated cost =  3.5208792918102727\n",
      "Control only changes marginally.\n",
      "RUN  5 , total integrated cost =  3.5208792918102727\n",
      "Improved over  5  iterations in  1.2893391580000753  seconds by  6.653484319940617e-06  percent.\n",
      "Problem in initial value trasfer:  Vmean_exc -74.5195868068129 -74.51962046123504\n",
      "2.6319263217573523e-07 0.1293120362093751\n",
      "5.551237769899523e-09 0.12950540574463307\n",
      "set cost params:  19.375 1.0 0.0\n",
      "----- 125\n",
      "interpolate adjoint :  True True True\n",
      "RUN  0 , total integrated cost =  3.520881052419724\n",
      "Gradient descend method:  None\n",
      "RUN  1 , total integrated cost =  3.5208808144275783\n",
      "RUN  2 , total integrated cost =  3.520880814103643\n",
      "RUN  3 , total integrated cost =  3.5208808137364254\n",
      "RUN  4 , total integrated cost =  3.5208808137180614\n",
      "RUN  5 , total integrated cost =  3.5208808137180427\n",
      "RUN  6 , total integrated cost =  3.520880813718036\n",
      "RUN  7 , total integrated cost =  3.520880813718035\n"
     ]
    },
    {
     "output_type": "stream",
     "name": "stderr",
     "text": [
      "ERROR:root:Problem in initial value trasfer\n"
     ]
    },
    {
     "output_type": "stream",
     "name": "stdout",
     "text": [
      "RUN  8 , total integrated cost =  3.520880813718035\n",
      "Control only changes marginally.\n",
      "RUN  8 , total integrated cost =  3.520880813718035\n",
      "Improved over  8  iterations in  1.5897912669970538  seconds by  6.779601051221107e-06  percent.\n",
      "Problem in initial value trasfer:  Vmean_exc -74.51987765071718 -74.5199099620755\n",
      "2.766145354298523e-07 0.129322125800925\n",
      "5.551237769899523e-09 0.12950540574463307\n",
      "set cost params:  19.369999999999997 1.0 0.0\n",
      "----- 126\n",
      "interpolate adjoint :  True True True\n",
      "RUN  0 , total integrated cost =  3.520882374179134\n",
      "Gradient descend method:  None\n",
      "RUN  1 , total integrated cost =  3.52088219087993\n",
      "RUN  2 , total integrated cost =  3.520882190870449\n",
      "RUN  3 , total integrated cost =  3.5208821908704055\n",
      "RUN  4 , total integrated cost =  3.5208821908703967\n"
     ]
    },
    {
     "output_type": "stream",
     "name": "stderr",
     "text": [
      "ERROR:root:Problem in initial value trasfer\n"
     ]
    },
    {
     "output_type": "stream",
     "name": "stdout",
     "text": [
      "RUN  5 , total integrated cost =  3.5208821908703967\n",
      "Control only changes marginally.\n",
      "RUN  5 , total integrated cost =  3.5208821908703967\n",
      "Improved over  5  iterations in  1.0424034300012863  seconds by  5.206329490192729e-06  percent.\n",
      "Problem in initial value trasfer:  Vmean_exc -74.52013457678731 -74.52016570170952\n",
      "2.874334534165802e-07 0.12933116469444136\n",
      "5.551237769899523e-09 0.12950540574463307\n",
      "set cost params:  19.365000000000002 1.0 0.0\n",
      "----- 127\n",
      "interpolate adjoint :  True True True\n",
      "RUN  0 , total integrated cost =  3.5208838222038668\n",
      "Gradient descend method:  None\n",
      "RUN  1 , total integrated cost =  3.520883638310407\n",
      "RUN  2 , total integrated cost =  3.5208836383104054\n",
      "RUN  3 , total integrated cost =  3.5208836383104\n"
     ]
    },
    {
     "output_type": "stream",
     "name": "stderr",
     "text": [
      "ERROR:root:Problem in initial value trasfer\n"
     ]
    },
    {
     "output_type": "stream",
     "name": "stdout",
     "text": [
      "RUN  4 , total integrated cost =  3.5208836383104\n",
      "Control only changes marginally.\n",
      "RUN  4 , total integrated cost =  3.5208836383104\n",
      "Improved over  4  iterations in  1.0504580260021612  seconds by  5.222934802873169e-06  percent.\n",
      "Problem in initial value trasfer:  Vmean_exc -74.52037988067545 -74.5204098728318\n",
      "2.99701200425057e-07 0.12934053032860518\n",
      "5.551237769899523e-09 0.12950540574463307\n",
      "set cost params:  19.36 1.0 0.0\n",
      "----- 128\n",
      "interpolate adjoint :  True True True\n",
      "RUN  0 , total integrated cost =  3.5208860321499937\n",
      "Gradient descend method:  None\n",
      "RUN  1 , total integrated cost =  3.5208856839974128\n",
      "RUN  2 , total integrated cost =  3.5208856838968208\n",
      "RUN  3 , total integrated cost =  3.520885683896814\n",
      "RUN  4 , total integrated cost =  3.520885683896811\n"
     ]
    },
    {
     "output_type": "stream",
     "name": "stderr",
     "text": [
      "ERROR:root:Problem in initial value trasfer\n"
     ]
    },
    {
     "output_type": "stream",
     "name": "stdout",
     "text": [
      "RUN  5 , total integrated cost =  3.5208856838968097\n",
      "RUN  6 , total integrated cost =  3.5208856838968097\n",
      "Control only changes marginally.\n",
      "RUN  6 , total integrated cost =  3.5208856838968097\n",
      "Improved over  6  iterations in  1.0953677260040422  seconds by  9.891066639511337e-06  percent.\n",
      "Problem in initial value trasfer:  Vmean_exc -74.52063068553977 -74.52065951952902\n",
      "3.19379095883904e-07 0.12935341134811026\n",
      "5.551237769899523e-09 0.12950540574463307\n",
      "set cost params:  19.355 1.0 0.0\n",
      "----- 129\n",
      "interpolate adjoint :  True True True\n",
      "RUN  0 , total integrated cost =  3.5208875168727163\n",
      "Gradient descend method:  None\n",
      "RUN  1 , total integrated cost =  3.520887308550841\n",
      "RUN  2 , total integrated cost =  3.520887308543584\n",
      "RUN  3 , total integrated cost =  3.5208873085434593\n",
      "RUN  4 , total integrated cost =  3.520887308543447\n",
      "RUN  5 , total integrated cost =  3.5208873085434447\n",
      "RUN  6 , total integrated cost =  3.520887308543441\n"
     ]
    },
    {
     "output_type": "stream",
     "name": "stderr",
     "text": [
      "ERROR:root:Problem in initial value trasfer\n"
     ]
    },
    {
     "output_type": "stream",
     "name": "stdout",
     "text": [
      "RUN  7 , total integrated cost =  3.520887308543441\n",
      "Control only changes marginally.\n",
      "RUN  7 , total integrated cost =  3.520887308543441\n",
      "Improved over  7  iterations in  1.6052370949983015  seconds by  5.916953440987527e-06  percent.\n",
      "Problem in initial value trasfer:  Vmean_exc -74.52085687542834 -74.5208846649186\n",
      "3.337973444958044e-07 0.12936382563839255\n",
      "5.551237769899523e-09 0.12950540574463307\n",
      "set cost params:  19.35 1.0 0.0\n",
      "----- 130\n",
      "interpolate adjoint :  True True True\n",
      "RUN  0 , total integrated cost =  3.5208892291894878\n",
      "Gradient descend method:  None\n",
      "RUN  1 , total integrated cost =  3.5208890154156163\n",
      "RUN  2 , total integrated cost =  3.520889015043308\n",
      "RUN  3 , total integrated cost =  3.5208890150367727\n",
      "RUN  4 , total integrated cost =  3.5208890150365675\n",
      "RUN  5 , total integrated cost =  3.5208890150365586\n",
      "RUN  6 , total integrated cost =  3.520889015036558\n",
      "RUN  7 , total integrated cost =  3.520889015036557\n"
     ]
    },
    {
     "output_type": "stream",
     "name": "stderr",
     "text": [
      "ERROR:root:Problem in initial value trasfer\n"
     ]
    },
    {
     "output_type": "stream",
     "name": "stdout",
     "text": [
      "RUN  8 , total integrated cost =  3.520889015036557\n",
      "Control only changes marginally.\n",
      "RUN  8 , total integrated cost =  3.520889015036557\n",
      "Improved over  8  iterations in  1.5602398170012748  seconds by  6.082353536385199e-06  percent.\n",
      "Problem in initial value trasfer:  Vmean_exc -74.52107389229735 -74.52110067964871\n",
      "3.4949176108038493e-07 0.12937524288856384\n",
      "5.551237769899523e-09 0.12950540574463307\n",
      "set cost params:  19.345 1.0 0.0\n",
      "----- 131\n",
      "interpolate adjoint :  True True True\n",
      "RUN  0 , total integrated cost =  3.5208914192785916\n",
      "Gradient descend method:  None\n",
      "RUN  1 , total integrated cost =  3.5208911150992526\n",
      "RUN  2 , total integrated cost =  3.520891114641877\n",
      "RUN  3 , total integrated cost =  3.520891114641875\n"
     ]
    },
    {
     "output_type": "stream",
     "name": "stderr",
     "text": [
      "ERROR:root:Problem in initial value trasfer\n"
     ]
    },
    {
     "output_type": "stream",
     "name": "stdout",
     "text": [
      "RUN  4 , total integrated cost =  3.520891114641875\n",
      "Control only changes marginally.\n",
      "RUN  4 , total integrated cost =  3.520891114641875\n",
      "Improved over  4  iterations in  1.0035062949973508  seconds by  8.652261044517218e-06  percent.\n",
      "Problem in initial value trasfer:  Vmean_exc -74.52127869892634 -74.521304540524\n",
      "3.686713806001235e-07 0.12938861664983262\n",
      "5.551237769899523e-09 0.12950540574463307\n",
      "set cost params:  19.34 1.0 0.0\n",
      "----- 132\n",
      "interpolate adjoint :  True True True\n",
      "RUN  0 , total integrated cost =  3.520893651139567\n",
      "Gradient descend method:  None\n",
      "RUN  1 , total integrated cost =  3.520893338110909\n",
      "RUN  2 , total integrated cost =  3.5208933381109064\n"
     ]
    },
    {
     "output_type": "stream",
     "name": "stderr",
     "text": [
      "ERROR:root:Problem in initial value trasfer\n"
     ]
    },
    {
     "output_type": "stream",
     "name": "stdout",
     "text": [
      "RUN  3 , total integrated cost =  3.5208933381109064\n",
      "Control only changes marginally.\n",
      "RUN  3 , total integrated cost =  3.5208933381109064\n",
      "Improved over  3  iterations in  0.692952099001559  seconds by  8.89060255815366e-06  percent.\n",
      "Problem in initial value trasfer:  Vmean_exc -74.52150578466767 -74.52153057763233\n",
      "3.8589021142158444e-07 0.12940324075913517\n",
      "5.551237769899523e-09 0.12950540574463307\n",
      "set cost params:  19.335 1.0 0.0\n",
      "----- 133\n",
      "interpolate adjoint :  True True True\n",
      "RUN  0 , total integrated cost =  3.520895561974869\n",
      "Gradient descend method:  None\n",
      "RUN  1 , total integrated cost =  3.52089534680488\n",
      "RUN  2 , total integrated cost =  3.5208953456163807\n",
      "RUN  3 , total integrated cost =  3.5208953451151483\n",
      "RUN  4 , total integrated cost =  3.52089534511288\n",
      "RUN  5 , total integrated cost =  3.520895345112816\n",
      "RUN  6 , total integrated cost =  3.520895345112808\n"
     ]
    },
    {
     "output_type": "stream",
     "name": "stderr",
     "text": [
      "ERROR:root:Problem in initial value trasfer\n"
     ]
    },
    {
     "output_type": "stream",
     "name": "stdout",
     "text": [
      "RUN  7 , total integrated cost =  3.5208953451128058\n",
      "RUN  8 , total integrated cost =  3.5208953451128058\n",
      "Control only changes marginally.\n",
      "RUN  8 , total integrated cost =  3.5208953451128058\n",
      "Improved over  8  iterations in  1.4624161129977438  seconds by  6.159287025297999e-06  percent.\n",
      "Problem in initial value trasfer:  Vmean_exc -74.52169760166883 -74.52172150886473\n",
      "4.0553887670988674e-07 0.12941698762297468\n",
      "5.551237769899523e-09 0.12950540574463307\n",
      "set cost params:  19.330000000000002 1.0 0.0\n",
      "----- 134\n",
      "interpolate adjoint :  True True True\n",
      "RUN  0 , total integrated cost =  3.5208976784851576\n",
      "Gradient descend method:  None\n",
      "RUN  1 , total integrated cost =  3.5208974536063984\n",
      "RUN  2 , total integrated cost =  3.5208974534504165\n",
      "RUN  3 , total integrated cost =  3.520897453450409\n"
     ]
    },
    {
     "output_type": "stream",
     "name": "stderr",
     "text": [
      "ERROR:root:Problem in initial value trasfer\n"
     ]
    },
    {
     "output_type": "stream",
     "name": "stdout",
     "text": [
      "RUN  4 , total integrated cost =  3.520897453450409\n",
      "Control only changes marginally.\n",
      "RUN  4 , total integrated cost =  3.520897453450409\n",
      "Improved over  4  iterations in  0.850605451996671  seconds by  6.391402678218583e-06  percent.\n",
      "Problem in initial value trasfer:  Vmean_exc -74.52188069737652 -74.52190375907732\n",
      "4.2770191366975e-07 0.1294299833616701\n",
      "5.551237769899523e-09 0.12950540574463307\n",
      "set cost params:  19.325 1.0 0.0\n",
      "----- 135\n",
      "interpolate adjoint :  True True True\n",
      "RUN  0 , total integrated cost =  3.5209008892260094\n",
      "Gradient descend method:  None\n",
      "RUN  1 , total integrated cost =  3.5209004291562187\n",
      "RUN  2 , total integrated cost =  3.5209004284800733\n",
      "RUN  3 , total integrated cost =  3.5209004284800653\n",
      "RUN  4 , total integrated cost =  3.520900428480061\n"
     ]
    },
    {
     "output_type": "stream",
     "name": "stderr",
     "text": [
      "ERROR:root:Problem in initial value trasfer\n"
     ]
    },
    {
     "output_type": "stream",
     "name": "stdout",
     "text": [
      "RUN  5 , total integrated cost =  3.520900428480061\n",
      "Control only changes marginally.\n",
      "RUN  5 , total integrated cost =  3.520900428480061\n",
      "Improved over  5  iterations in  1.24282282400236  seconds by  1.30860243814368e-05  percent.\n",
      "Problem in initial value trasfer:  Vmean_exc -74.52207151635774 -74.52209369689977\n",
      "4.5820109209003924e-07 0.12943972335273785\n",
      "5.551237769899523e-09 0.12950540574463307\n",
      "set cost params:  19.32 1.0 0.0\n",
      "----- 136\n",
      "interpolate adjoint :  True True True\n",
      "RUN  0 , total integrated cost =  3.520903058700681\n",
      "Gradient descend method:  None\n",
      "RUN  1 , total integrated cost =  3.5209027879789283\n",
      "RUN  2 , total integrated cost =  3.520902787814551\n",
      "RUN  3 , total integrated cost =  3.5209027878145442\n",
      "RUN  4 , total integrated cost =  3.5209027878145434\n"
     ]
    },
    {
     "output_type": "stream",
     "name": "stderr",
     "text": [
      "ERROR:root:Problem in initial value trasfer\n"
     ]
    },
    {
     "output_type": "stream",
     "name": "stdout",
     "text": [
      "RUN  5 , total integrated cost =  3.5209027878145434\n",
      "Control only changes marginally.\n",
      "RUN  5 , total integrated cost =  3.5209027878145434\n",
      "Improved over  5  iterations in  1.1670623090030858  seconds by  7.693655092566587e-06  percent.\n",
      "Problem in initial value trasfer:  Vmean_exc -74.52224560576708 -74.52226698240435\n",
      "4.790634617412817e-07 0.1294548535616516\n",
      "5.551237769899523e-09 0.12950540574463307\n",
      "set cost params:  19.315 1.0 0.0\n",
      "----- 137\n",
      "interpolate adjoint :  True True True\n",
      "RUN  0 , total integrated cost =  3.520905549779792\n",
      "Gradient descend method:  None\n",
      "RUN  1 , total integrated cost =  3.5209052634297966\n",
      "RUN  2 , total integrated cost =  3.5209052634144697\n",
      "RUN  3 , total integrated cost =  3.520905263414315\n",
      "RUN  4 , total integrated cost =  3.520905263414313\n",
      "RUN  5 , total integrated cost =  3.5209052634143085\n",
      "RUN  6 , total integrated cost =  3.5209052634143077\n",
      "RUN  7 , total integrated cost =  3.5209052634143063\n"
     ]
    },
    {
     "output_type": "stream",
     "name": "stderr",
     "text": [
      "ERROR:root:Problem in initial value trasfer\n"
     ]
    },
    {
     "output_type": "stream",
     "name": "stdout",
     "text": [
      "RUN  8 , total integrated cost =  3.5209052634143063\n",
      "Control only changes marginally.\n",
      "RUN  8 , total integrated cost =  3.5209052634143063\n",
      "Improved over  8  iterations in  1.584338068998477  seconds by  8.133290748446598e-06  percent.\n",
      "Problem in initial value trasfer:  Vmean_exc -74.52241095865806 -74.52243157173434\n",
      "5.034032063423241e-07 0.12947036284990304\n",
      "5.551237769899523e-09 0.12950540574463307\n",
      "set cost params:  19.31 1.0 0.0\n",
      "----- 138\n",
      "interpolate adjoint :  True True True\n",
      "RUN  0 , total integrated cost =  3.520908189916412\n",
      "Gradient descend method:  None\n",
      "RUN  1 , total integrated cost =  3.520907860055273\n",
      "RUN  2 , total integrated cost =  3.520907860055267\n",
      "RUN  3 , total integrated cost =  3.520907860055266\n"
     ]
    },
    {
     "output_type": "stream",
     "name": "stderr",
     "text": [
      "ERROR:root:Problem in initial value trasfer\n"
     ]
    },
    {
     "output_type": "stream",
     "name": "stdout",
     "text": [
      "RUN  4 , total integrated cost =  3.520907860055266\n",
      "Control only changes marginally.\n",
      "RUN  4 , total integrated cost =  3.520907860055266\n",
      "Improved over  4  iterations in  1.0580267710029148  seconds by  9.368638103524063e-06  percent.\n",
      "Problem in initial value trasfer:  Vmean_exc -74.52256798081409 -74.52258786879925\n",
      "5.316858204204578e-07 0.12947842515133415\n",
      "5.551237769899523e-09 0.12950540574463307\n",
      "set cost params:  19.305 1.0 0.0\n",
      "----- 139\n",
      "interpolate adjoint :  True True True\n",
      "RUN  0 , total integrated cost =  3.5209122888967275\n",
      "Gradient descend method:  None\n",
      "RUN  1 , total integrated cost =  3.5209115209721573\n",
      "RUN  2 , total integrated cost =  3.5209115209721547\n",
      "RUN  3 , total integrated cost =  3.5209115209721524\n"
     ]
    },
    {
     "output_type": "stream",
     "name": "stderr",
     "text": [
      "ERROR:root:Problem in initial value trasfer\n"
     ]
    },
    {
     "output_type": "stream",
     "name": "stdout",
     "text": [
      "RUN  4 , total integrated cost =  3.5209115209721524\n",
      "Control only changes marginally.\n",
      "RUN  4 , total integrated cost =  3.5209115209721524\n",
      "Improved over  4  iterations in  0.9756241279974347  seconds by  2.1810386400034076e-05  percent.\n",
      "Problem in initial value trasfer:  Vmean_exc -74.52273582443819 -74.52275493736178\n",
      "5.650080014808782e-07 0.129490283905079\n",
      "5.551237769899523e-09 0.12950540574463307\n",
      "set cost params:  19.3 1.0 0.0\n",
      "----- 140\n",
      "interpolate adjoint :  True True True\n",
      "RUN  0 , total integrated cost =  3.5209149080363207\n",
      "Gradient descend method:  None\n",
      "RUN  1 , total integrated cost =  3.5209144332401383\n",
      "RUN  2 , total integrated cost =  3.5209144332401325\n"
     ]
    },
    {
     "output_type": "stream",
     "name": "stderr",
     "text": [
      "ERROR:root:Problem in initial value trasfer\n"
     ]
    },
    {
     "output_type": "stream",
     "name": "stdout",
     "text": [
      "RUN  3 , total integrated cost =  3.5209144332401325\n",
      "Control only changes marginally.\n",
      "RUN  3 , total integrated cost =  3.5209144332401325\n",
      "Improved over  3  iterations in  0.9398312740013353  seconds by  1.3485023089288006e-05  percent.\n",
      "Problem in initial value trasfer:  Vmean_exc -74.52288626552041 -74.52290468374368\n",
      "5.903028382851187e-07 0.129490283905079\n",
      "5.551237769899523e-09 0.12950540574463307\n",
      "set cost params:  19.294999999999998 1.0 0.0\n",
      "----- 141\n",
      "interpolate adjoint :  True True True\n",
      "RUN  0 , total integrated cost =  3.5209180121854957\n",
      "Gradient descend method:  None\n",
      "RUN  1 , total integrated cost =  3.5209174976159363\n",
      "RUN  2 , total integrated cost =  3.5209174976159296\n",
      "RUN  3 , total integrated cost =  3.520917497615928\n"
     ]
    },
    {
     "output_type": "stream",
     "name": "stderr",
     "text": [
      "ERROR:root:Problem in initial value trasfer\n"
     ]
    },
    {
     "output_type": "stream",
     "name": "stdout",
     "text": [
      "RUN  4 , total integrated cost =  3.520917497615928\n",
      "Control only changes marginally.\n",
      "RUN  4 , total integrated cost =  3.520917497615928\n",
      "Improved over  4  iterations in  1.2609124059963506  seconds by  1.4614642154242574e-05  percent.\n",
      "Problem in initial value trasfer:  Vmean_exc -74.523035548297 -74.52305327716913\n",
      "6.105462368219391e-07 0.12950016933885966\n",
      "5.551237769899523e-09 0.12950540574463307\n",
      "set cost params:  19.29 1.0 0.0\n",
      "----- 142\n",
      "interpolate adjoint :  True True True\n",
      "RUN  0 , total integrated cost =  3.5209219700047267\n",
      "Gradient descend method:  None\n",
      "RUN  1 , total integrated cost =  3.520921273962328\n",
      "RUN  2 , total integrated cost =  3.5209212739597318\n",
      "RUN  3 , total integrated cost =  3.5209212739597096\n",
      "RUN  4 , total integrated cost =  3.5209212739597064\n"
     ]
    },
    {
     "output_type": "stream",
     "name": "stderr",
     "text": [
      "ERROR:root:Problem in initial value trasfer\n"
     ]
    },
    {
     "output_type": "stream",
     "name": "stdout",
     "text": [
      "RUN  5 , total integrated cost =  3.5209212739597064\n",
      "Control only changes marginally.\n",
      "RUN  5 , total integrated cost =  3.5209212739597064\n",
      "Improved over  5  iterations in  1.1634618629977922  seconds by  1.9768828337873856e-05  percent.\n",
      "Problem in initial value trasfer:  Vmean_exc -74.52317324894219 -74.52319034194701\n",
      "6.416643605991911e-07 0.12951280613884214\n",
      "5.551237769899523e-09 0.12950540574463307\n",
      "set cost params:  19.285 1.0 0.0\n",
      "----- 143\n",
      "interpolate adjoint :  True True True\n",
      "RUN  0 , total integrated cost =  3.520926013596636\n",
      "Gradient descend method:  None\n",
      "RUN  1 , total integrated cost =  3.5209252791059202\n",
      "RUN  2 , total integrated cost =  3.520925279105916\n"
     ]
    },
    {
     "output_type": "stream",
     "name": "stderr",
     "text": [
      "ERROR:root:Problem in initial value trasfer\n"
     ]
    },
    {
     "output_type": "stream",
     "name": "stdout",
     "text": [
      "RUN  3 , total integrated cost =  3.520925279105916\n",
      "Control only changes marginally.\n",
      "RUN  3 , total integrated cost =  3.520925279105916\n",
      "Improved over  3  iterations in  0.8399610840060632  seconds by  2.086072576901188e-05  percent.\n",
      "Problem in initial value trasfer:  Vmean_exc -74.52332376322617 -74.52334016119389\n",
      "6.72416924451625e-07 0.12951280613886115\n",
      "5.551237769899523e-09 0.12950540574463307\n",
      "set cost params:  19.28 1.0 0.0\n",
      "----- 144\n",
      "interpolate adjoint :  True True True\n",
      "RUN  0 , total integrated cost =  3.5209294495327934\n",
      "Gradient descend method:  None\n",
      "RUN  1 , total integrated cost =  3.520928904293491\n",
      "RUN  2 , total integrated cost =  3.5209289039555065\n",
      "RUN  3 , total integrated cost =  3.520928903936855\n",
      "RUN  4 , total integrated cost =  3.520928903936757\n",
      "RUN  5 , total integrated cost =  3.520928903936729\n",
      "RUN  6 , total integrated cost =  3.5209289039367184\n",
      "RUN  7 , total integrated cost =  3.5209289039367153\n",
      "RUN  8 , total integrated cost =  3.5209289039367127\n"
     ]
    },
    {
     "output_type": "stream",
     "name": "stderr",
     "text": [
      "ERROR:root:Problem in initial value trasfer\n"
     ]
    },
    {
     "output_type": "stream",
     "name": "stdout",
     "text": [
      "RUN  9 , total integrated cost =  3.5209289039367127\n",
      "Control only changes marginally.\n",
      "RUN  9 , total integrated cost =  3.5209289039367127\n",
      "Improved over  9  iterations in  1.489595057995757  seconds by  1.5495797029529967e-05  percent.\n",
      "Problem in initial value trasfer:  Vmean_exc -74.52345392169708 -74.52346971862612\n",
      "7.01778266854926e-07 0.12951280444266108\n",
      "5.551237769899523e-09 0.12950540574463307\n",
      "set cost params:  19.275 1.0 0.0\n",
      "----- 145\n",
      "interpolate adjoint :  True True True\n",
      "RUN  0 , total integrated cost =  3.5209332761582726\n",
      "Gradient descend method:  None\n",
      "RUN  1 , total integrated cost =  3.520932715662052\n",
      "RUN  2 , total integrated cost =  3.5209327149488163\n",
      "RUN  3 , total integrated cost =  3.520932714947735\n",
      "RUN  4 , total integrated cost =  3.520932714947703\n",
      "RUN  5 , total integrated cost =  3.520932714947701\n"
     ]
    },
    {
     "output_type": "stream",
     "name": "stderr",
     "text": [
      "ERROR:root:Problem in initial value trasfer\n"
     ]
    },
    {
     "output_type": "stream",
     "name": "stdout",
     "text": [
      "RUN  6 , total integrated cost =  3.5209327149477\n",
      "RUN  7 , total integrated cost =  3.5209327149477\n",
      "Control only changes marginally.\n",
      "RUN  7 , total integrated cost =  3.5209327149477\n",
      "Improved over  7  iterations in  1.1651294090042938  seconds by  1.5939256115871103e-05  percent.\n",
      "Problem in initial value trasfer:  Vmean_exc -74.52357911598077 -74.52359433479472\n",
      "7.330743266518544e-07 0.12951175420923608\n",
      "5.551237769899523e-09 0.12950540574463307\n",
      "set cost params:  19.27 1.0 0.0\n",
      "----- 146\n",
      "interpolate adjoint :  True True True\n",
      "RUN  0 , total integrated cost =  3.5209381999380405\n",
      "Gradient descend method:  None\n",
      "RUN  1 , total integrated cost =  3.5209374085838903\n",
      "RUN  2 , total integrated cost =  3.520937408518105\n"
     ]
    },
    {
     "output_type": "stream",
     "name": "stderr",
     "text": [
      "ERROR:root:Problem in initial value trasfer\n"
     ]
    },
    {
     "output_type": "stream",
     "name": "stdout",
     "text": [
      "RUN  3 , total integrated cost =  3.520937408518105\n",
      "Control only changes marginally.\n",
      "RUN  3 , total integrated cost =  3.520937408518105\n",
      "Improved over  3  iterations in  0.7445232210011454  seconds by  2.247752985340412e-05  percent.\n",
      "Problem in initial value trasfer:  Vmean_exc -74.52369668504859 -74.52371136095908\n",
      "7.733506020542834e-07 0.12951182543072534\n",
      "5.551237769899523e-09 0.12950540574463307\n",
      "set cost params:  19.265 1.0 0.0\n",
      "----- 147\n",
      "interpolate adjoint :  True True True\n",
      "RUN  0 , total integrated cost =  3.520943207327104\n",
      "Gradient descend method:  None\n",
      "RUN  1 , total integrated cost =  3.520942382538246\n",
      "RUN  2 , total integrated cost =  3.520942382441669\n",
      "RUN  3 , total integrated cost =  3.520942382441663\n",
      "RUN  4 , total integrated cost =  3.5209423824416626\n"
     ]
    },
    {
     "output_type": "stream",
     "name": "stderr",
     "text": [
      "ERROR:root:Problem in initial value trasfer\n"
     ]
    },
    {
     "output_type": "stream",
     "name": "stdout",
     "text": [
      "RUN  5 , total integrated cost =  3.5209423824416626\n",
      "Control only changes marginally.\n",
      "RUN  5 , total integrated cost =  3.5209423824416626\n",
      "Improved over  5  iterations in  1.2347683570042136  seconds by  2.3427967803968386e-05  percent.\n",
      "Problem in initial value trasfer:  Vmean_exc -74.52382520449667 -74.52383928693799\n",
      "8.134168062321702e-07 0.12951190252105338\n",
      "5.551237769899523e-09 0.12950540574463307\n",
      "set cost params:  19.259999999999998 1.0 0.0\n",
      "----- 148\n",
      "interpolate adjoint :  True True True\n",
      "RUN  0 , total integrated cost =  3.5209474870031165\n",
      "Gradient descend method:  None\n",
      "RUN  1 , total integrated cost =  3.5209468809142686\n",
      "RUN  2 , total integrated cost =  3.520946880914261\n",
      "RUN  3 , total integrated cost =  3.52094688091426\n"
     ]
    },
    {
     "output_type": "stream",
     "name": "stderr",
     "text": [
      "ERROR:root:Problem in initial value trasfer\n"
     ]
    },
    {
     "output_type": "stream",
     "name": "stdout",
     "text": [
      "RUN  4 , total integrated cost =  3.52094688091426\n",
      "Control only changes marginally.\n",
      "RUN  4 , total integrated cost =  3.52094688091426\n",
      "Improved over  4  iterations in  1.1571711279975716  seconds by  1.7213799935689167e-05  percent.\n",
      "Problem in initial value trasfer:  Vmean_exc -74.52393633891423 -74.52394990816612\n",
      "8.516695955436798e-07 0.12951190252143813\n",
      "5.551237769899523e-09 0.12950540574463307\n",
      "set cost params:  19.255000000000003 1.0 0.0\n",
      "----- 149\n",
      "interpolate adjoint :  True True True\n",
      "RUN  0 , total integrated cost =  3.520953267690549\n",
      "Gradient descend method:  None\n",
      "RUN  1 , total integrated cost =  3.5209524186440944\n",
      "RUN  2 , total integrated cost =  3.520952418600773\n",
      "RUN  3 , total integrated cost =  3.520952418600769\n",
      "RUN  4 , total integrated cost =  3.520952418600765\n",
      "RUN  5 , total integrated cost =  3.520952418600764\n",
      "RUN  6 , total integrated cost =  3.5209524186007637\n"
     ]
    },
    {
     "output_type": "stream",
     "name": "stderr",
     "text": [
      "ERROR:root:Problem in initial value trasfer\n"
     ]
    },
    {
     "output_type": "stream",
     "name": "stdout",
     "text": [
      "RUN  7 , total integrated cost =  3.5209524186007637\n",
      "Control only changes marginally.\n",
      "RUN  7 , total integrated cost =  3.5209524186007637\n",
      "Improved over  7  iterations in  1.4592888050028705  seconds by  2.4115338106867057e-05  percent.\n",
      "Problem in initial value trasfer:  Vmean_exc -74.52404223127716 -74.52405531154628\n",
      "8.956403140968105e-07 0.1295119880316515\n",
      "5.551237769899523e-09 0.12950540574463307\n",
      "set cost params:  19.25 1.0 0.0\n",
      "----- 150\n",
      "interpolate adjoint :  True True True\n",
      "RUN  0 , total integrated cost =  3.520958032455437\n",
      "Gradient descend method:  None\n",
      "RUN  1 , total integrated cost =  3.520957424670067\n",
      "RUN  2 , total integrated cost =  3.5209574246700632\n",
      "RUN  3 , total integrated cost =  3.520957424670063\n",
      "RUN  4 , total integrated cost =  3.520957424670062\n",
      "RUN  5 , total integrated cost =  3.520957424670061\n"
     ]
    },
    {
     "output_type": "stream",
     "name": "stderr",
     "text": [
      "ERROR:root:Problem in initial value trasfer\n"
     ]
    },
    {
     "output_type": "stream",
     "name": "stdout",
     "text": [
      "RUN  6 , total integrated cost =  3.520957424670061\n",
      "Control only changes marginally.\n",
      "RUN  6 , total integrated cost =  3.520957424670061\n",
      "Improved over  6  iterations in  1.6129529350000666  seconds by  1.726193184481417e-05  percent.\n",
      "Problem in initial value trasfer:  Vmean_exc -74.52414455028067 -74.52415715806808\n",
      "9.411036511688566e-07 0.12952725491945913\n",
      "5.551237769899523e-09 0.12950540574463307\n",
      "set cost params:  19.244999999999997 1.0 0.0\n",
      "----- 151\n",
      "interpolate adjoint :  True True True\n",
      "RUN  0 , total integrated cost =  3.5209633113231797\n",
      "Gradient descend method:  None\n",
      "RUN  1 , total integrated cost =  3.5209626823405555\n",
      "RUN  2 , total integrated cost =  3.520962681903524\n",
      "RUN  3 , total integrated cost =  3.5209626818934923\n",
      "RUN  4 , total integrated cost =  3.5209626818934896\n",
      "RUN  5 , total integrated cost =  3.520962681893484\n",
      "RUN  6 , total integrated cost =  3.520962681893481\n",
      "RUN  7 , total integrated cost =  3.5209626818934807\n"
     ]
    },
    {
     "output_type": "stream",
     "name": "stderr",
     "text": [
      "ERROR:root:Problem in initial value trasfer\n"
     ]
    },
    {
     "output_type": "stream",
     "name": "stdout",
     "text": [
      "RUN  8 , total integrated cost =  3.5209626818934807\n",
      "Control only changes marginally.\n",
      "RUN  8 , total integrated cost =  3.5209626818934807\n",
      "Improved over  8  iterations in  1.4282824780020746  seconds by  1.7876633279456655e-05  percent.\n",
      "Problem in initial value trasfer:  Vmean_exc -74.52424310346116 -74.52425525615658\n",
      "9.891599476499926e-07 0.12952733448423306\n",
      "5.551237769899523e-09 0.12950540574463307\n",
      "set cost params:  19.240000000000002 1.0 0.0\n",
      "----- 152\n",
      "interpolate adjoint :  True True True\n",
      "RUN  0 , total integrated cost =  3.520970076200998\n",
      "Gradient descend method:  None\n",
      "RUN  1 , total integrated cost =  3.5209691508186642\n",
      "RUN  2 , total integrated cost =  3.5209691508186562\n",
      "RUN  3 , total integrated cost =  3.5209691508186554\n",
      "RUN  4 , total integrated cost =  3.5209691508186536\n"
     ]
    },
    {
     "output_type": "stream",
     "name": "stderr",
     "text": [
      "ERROR:root:Problem in initial value trasfer\n"
     ]
    },
    {
     "output_type": "stream",
     "name": "stdout",
     "text": [
      "RUN  5 , total integrated cost =  3.5209691508186536\n",
      "Control only changes marginally.\n",
      "RUN  5 , total integrated cost =  3.5209691508186536\n",
      "Improved over  5  iterations in  1.5264437340010772  seconds by  2.6282028088076004e-05  percent.\n",
      "Problem in initial value trasfer:  Vmean_exc -74.52434795684533 -74.52435962535634\n",
      "1.0474817378230232e-06 0.12952733448429374\n",
      "5.551237769899523e-09 0.12950540574463307\n",
      "set cost params:  19.235 1.0 0.0\n",
      "----- 153\n",
      "interpolate adjoint :  True True True\n",
      "RUN  0 , total integrated cost =  3.520977016190533\n",
      "Gradient descend method:  None\n",
      "RUN  1 , total integrated cost =  3.520975998191074\n",
      "RUN  2 , total integrated cost =  3.5209759973007713\n",
      "RUN  3 , total integrated cost =  3.5209759972982653\n",
      "RUN  4 , total integrated cost =  3.5209759972981804\n",
      "RUN  5 , total integrated cost =  3.5209759972981796\n",
      "RUN  6 , total integrated cost =  3.520975997298179\n"
     ]
    },
    {
     "output_type": "stream",
     "name": "stderr",
     "text": [
      "ERROR:root:Problem in initial value trasfer\n"
     ]
    },
    {
     "output_type": "stream",
     "name": "stdout",
     "text": [
      "RUN  7 , total integrated cost =  3.520975997298179\n",
      "Control only changes marginally.\n",
      "RUN  7 , total integrated cost =  3.520975997298179\n",
      "Improved over  7  iterations in  1.3938117430006969  seconds by  2.893777349299853e-05  percent.\n",
      "Problem in initial value trasfer:  Vmean_exc -74.52443556977332 -74.5244468337118\n",
      "1.1174442968668963e-06 0.12954823825992134\n",
      "5.551237769899523e-09 0.12950540574463307\n",
      "set cost params:  19.23 1.0 0.0\n",
      "----- 154\n",
      "interpolate adjoint :  True True True\n",
      "RUN  0 , total integrated cost =  3.5209830316992785\n",
      "Gradient descend method:  None\n",
      "RUN  1 , total integrated cost =  3.5209821805682444\n",
      "RUN  2 , total integrated cost =  3.520982180568243\n"
     ]
    },
    {
     "output_type": "stream",
     "name": "stderr",
     "text": [
      "ERROR:root:Problem in initial value trasfer\n"
     ]
    },
    {
     "output_type": "stream",
     "name": "stdout",
     "text": [
      "RUN  3 , total integrated cost =  3.520982180568243\n",
      "Control only changes marginally.\n",
      "RUN  3 , total integrated cost =  3.520982180568243\n",
      "Improved over  3  iterations in  0.7275583349983208  seconds by  2.4173108130298715e-05  percent.\n",
      "Problem in initial value trasfer:  Vmean_exc -74.52452338300172 -74.52453424144294\n",
      "1.1753618137920807e-06 0.12954823825992134\n",
      "5.551237769899523e-09 0.12950540574463307\n",
      "set cost params:  19.225 1.0 0.0\n",
      "----- 155\n",
      "interpolate adjoint :  True True True\n",
      "RUN  0 , total integrated cost =  3.5209896463024117\n",
      "Gradient descend method:  None\n",
      "RUN  1 , total integrated cost =  3.520988670045156\n",
      "RUN  2 , total integrated cost =  3.5209886700451496\n",
      "RUN  3 , total integrated cost =  3.5209886700451474\n"
     ]
    },
    {
     "output_type": "stream",
     "name": "stderr",
     "text": [
      "ERROR:root:Problem in initial value trasfer\n"
     ]
    },
    {
     "output_type": "stream",
     "name": "stdout",
     "text": [
      "RUN  4 , total integrated cost =  3.5209886700451474\n",
      "Control only changes marginally.\n",
      "RUN  4 , total integrated cost =  3.5209886700451474\n",
      "Improved over  4  iterations in  0.990037253999617  seconds by  2.7726786001380788e-05  percent.\n",
      "Problem in initial value trasfer:  Vmean_exc -74.52460811837616 -74.52461858553288\n",
      "1.2356180083049172e-06 0.12954823825992134\n",
      "5.551237769899523e-09 0.12950540574463307\n",
      "set cost params:  19.22 1.0 0.0\n",
      "----- 156\n",
      "interpolate adjoint :  True True True\n",
      "RUN  0 , total integrated cost =  3.520998229200464\n",
      "Gradient descend method:  None\n",
      "RUN  1 , total integrated cost =  3.5209966515488498\n",
      "RUN  2 , total integrated cost =  3.5209966515488467\n"
     ]
    },
    {
     "output_type": "stream",
     "name": "stderr",
     "text": [
      "ERROR:root:Problem in initial value trasfer\n"
     ]
    },
    {
     "output_type": "stream",
     "name": "stdout",
     "text": [
      "RUN  3 , total integrated cost =  3.5209966515488467\n",
      "Control only changes marginally.\n",
      "RUN  3 , total integrated cost =  3.5209966515488467\n",
      "Improved over  3  iterations in  0.7426496769985533  seconds by  4.4806941517094856e-05  percent.\n",
      "Problem in initial value trasfer:  Vmean_exc -74.52468918074555 -74.52469927357886\n",
      "1.3024055755565436e-06 0.12954823825992148\n",
      "5.551237769899523e-09 0.12950540574463307\n",
      "set cost params:  19.215 1.0 0.0\n",
      "----- 157\n",
      "interpolate adjoint :  True True True\n",
      "RUN  0 , total integrated cost =  3.5210051435656604\n",
      "Gradient descend method:  None\n",
      "RUN  1 , total integrated cost =  3.5210038875278062\n",
      "RUN  2 , total integrated cost =  3.5210038863085056\n",
      "RUN  3 , total integrated cost =  3.5210038862958526\n",
      "RUN  4 , total integrated cost =  3.5210038862957127\n",
      "RUN  5 , total integrated cost =  3.5210038862957034\n",
      "RUN  6 , total integrated cost =  3.5210038862957016\n",
      "RUN  7 , total integrated cost =  3.5210038862957\n"
     ]
    },
    {
     "output_type": "stream",
     "name": "stderr",
     "text": [
      "ERROR:root:Problem in initial value trasfer\n"
     ]
    },
    {
     "output_type": "stream",
     "name": "stdout",
     "text": [
      "RUN  8 , total integrated cost =  3.5210038862956994\n",
      "RUN  9 , total integrated cost =  3.5210038862956994\n",
      "Control only changes marginally.\n",
      "RUN  9 , total integrated cost =  3.5210038862956994\n",
      "Improved over  9  iterations in  1.7655004580010427  seconds by  3.5707700206444315e-05  percent.\n",
      "Problem in initial value trasfer:  Vmean_exc -74.52476894630207 -74.52477867080042\n",
      "1.3633822740958458e-06 0.1295483497376025\n",
      "5.551237769899523e-09 0.12950540574463307\n",
      "set cost params:  19.21 1.0 0.0\n",
      "----- 158\n",
      "interpolate adjoint :  True True True\n",
      "RUN  0 , total integrated cost =  3.5210146879734614\n",
      "Gradient descend method:  None\n",
      "RUN  1 , total integrated cost =  3.521012810288547\n",
      "RUN  2 , total integrated cost =  3.521012808791292\n",
      "RUN  3 , total integrated cost =  3.5210128087758616\n",
      "RUN  4 , total integrated cost =  3.521012808775858\n",
      "RUN  5 , total integrated cost =  3.5210128087758563\n"
     ]
    },
    {
     "output_type": "stream",
     "name": "stderr",
     "text": [
      "ERROR:root:Problem in initial value trasfer\n"
     ]
    },
    {
     "output_type": "stream",
     "name": "stdout",
     "text": [
      "RUN  6 , total integrated cost =  3.5210128087758563\n",
      "Control only changes marginally.\n",
      "RUN  6 , total integrated cost =  3.5210128087758563\n",
      "Improved over  6  iterations in  1.312750445002166  seconds by  5.3370910706007635e-05  percent.\n",
      "Problem in initial value trasfer:  Vmean_exc -74.52485487185663 -74.52486419957499\n",
      "1.4303522465291928e-06 0.12954644719150307\n",
      "5.551237769899523e-09 0.12950540574463307\n",
      "set cost params:  19.205000000000002 1.0 0.0\n",
      "----- 159\n",
      "interpolate adjoint :  True True True\n",
      "RUN  0 , total integrated cost =  3.521022320846174\n",
      "Gradient descend method:  None\n",
      "RUN  1 , total integrated cost =  3.521020892864682\n",
      "RUN  2 , total integrated cost =  3.5210208914738157\n",
      "RUN  3 , total integrated cost =  3.521020891460952\n",
      "RUN  4 , total integrated cost =  3.5210208914609282\n",
      "RUN  5 , total integrated cost =  3.521020891460927\n"
     ]
    },
    {
     "output_type": "stream",
     "name": "stderr",
     "text": [
      "ERROR:root:Problem in initial value trasfer\n"
     ]
    },
    {
     "output_type": "stream",
     "name": "stdout",
     "text": [
      "RUN  6 , total integrated cost =  3.521020891460927\n",
      "Control only changes marginally.\n",
      "RUN  6 , total integrated cost =  3.521020891460927\n",
      "Improved over  6  iterations in  1.8176306240056874  seconds by  4.0595745119276216e-05  percent.\n",
      "Problem in initial value trasfer:  Vmean_exc -74.52493020717604 -74.52493918701724\n",
      "1.486261075704584e-06 0.12954426992271462\n",
      "5.551237769899523e-09 0.12950540574463307\n",
      "set cost params:  19.2 1.0 0.0\n",
      "----- 160\n",
      "interpolate adjoint :  True True True\n",
      "RUN  0 , total integrated cost =  3.521032825996997\n",
      "Gradient descend method:  None\n",
      "RUN  1 , total integrated cost =  3.5210308567568993\n",
      "RUN  2 , total integrated cost =  3.5210308546139637\n",
      "RUN  3 , total integrated cost =  3.5210308546074387\n",
      "RUN  4 , total integrated cost =  3.5210308546074254\n",
      "RUN  5 , total integrated cost =  3.521030854607425\n",
      "RUN  6 , total integrated cost =  3.5210308546074245\n"
     ]
    },
    {
     "output_type": "stream",
     "name": "stderr",
     "text": [
      "ERROR:root:Problem in initial value trasfer\n"
     ]
    },
    {
     "output_type": "stream",
     "name": "stdout",
     "text": [
      "RUN  7 , total integrated cost =  3.5210308546074245\n",
      "Control only changes marginally.\n",
      "RUN  7 , total integrated cost =  3.5210308546074245\n",
      "Improved over  7  iterations in  1.7075715760001913  seconds by  5.5988957498698255e-05  percent.\n",
      "Problem in initial value trasfer:  Vmean_exc -74.52500089073487 -74.52500954417955\n",
      "1.5609400954474833e-06 0.12954149642921198\n",
      "5.551237769899523e-09 0.12950540574463307\n",
      "set cost params:  19.195 1.0 0.0\n",
      "----- 161\n",
      "interpolate adjoint :  True True True\n",
      "RUN  0 , total integrated cost =  3.5210413539832057\n",
      "Gradient descend method:  None\n",
      "RUN  1 , total integrated cost =  3.521039876570009\n",
      "RUN  2 , total integrated cost =  3.5210398738726227\n",
      "RUN  3 , total integrated cost =  3.521039872809205\n",
      "RUN  4 , total integrated cost =  3.521039872802203\n",
      "RUN  5 , total integrated cost =  3.521039872802193\n"
     ]
    },
    {
     "output_type": "stream",
     "name": "stderr",
     "text": [
      "ERROR:root:Problem in initial value trasfer\n"
     ]
    },
    {
     "output_type": "stream",
     "name": "stdout",
     "text": [
      "RUN  6 , total integrated cost =  3.521039872802193\n",
      "Control only changes marginally.\n",
      "RUN  6 , total integrated cost =  3.521039872802193\n",
      "Improved over  6  iterations in  1.2825145790047827  seconds by  4.2066561107390044e-05  percent.\n",
      "Problem in initial value trasfer:  Vmean_exc -74.52507085240778 -74.5250791827895\n",
      "1.6222733101600783e-06 0.12954149642923052\n",
      "5.551237769899523e-09 0.12950540574463307\n",
      "set cost params:  19.19 1.0 0.0\n",
      "----- 162\n",
      "interpolate adjoint :  True True True\n",
      "RUN  0 , total integrated cost =  3.5210508203765283\n",
      "Gradient descend method:  None\n",
      "RUN  1 , total integrated cost =  3.521049361234747\n",
      "RUN  2 , total integrated cost =  3.521049349522386\n",
      "RUN  3 , total integrated cost =  3.5210493445550006\n",
      "RUN  4 , total integrated cost =  3.521049344540352\n",
      "RUN  5 , total integrated cost =  3.5210493445394295\n",
      "RUN  6 , total integrated cost =  3.5210493445393185\n",
      "RUN  7 , total integrated cost =  3.5210493445392914\n",
      "RUN  8 , total integrated cost =  3.5210493445392848\n",
      "RUN  9 , total integrated cost =  3.521049344539276\n",
      "RUN  10 , total integrated cost =  3.521049344539275\n",
      "RUN  11 , total integrated cost =  3.521049344539275\n",
      "Control only changes marginally.\n",
      "RUN  11 , total integrated cost =  3.521049344539275\n",
      "Improved over  11  iterations in  1.857300285002566  seconds by  4.1914681972343715e-05  percent.\n"
     ]
    },
    {
     "output_type": "stream",
     "name": "stderr",
     "text": [
      "ERROR:root:Problem in initial value trasfer\n"
     ]
    },
    {
     "output_type": "stream",
     "name": "stdout",
     "text": [
      "Problem in initial value trasfer:  Vmean_exc -74.52513801879559 -74.52514603902223\n",
      "1.6882217233899927e-06 0.12953099061592632\n",
      "5.551237769899523e-09 0.12950540574463307\n",
      "set cost params:  19.185 1.0 0.0\n",
      "----- 163\n",
      "interpolate adjoint :  True True True\n",
      "RUN  0 , total integrated cost =  3.521060765238143\n",
      "Gradient descend method:  None\n",
      "RUN  1 , total integrated cost =  3.521059323133309\n",
      "RUN  2 , total integrated cost =  3.5210593218479356\n",
      "RUN  3 , total integrated cost =  3.5210593218266086\n",
      "RUN  4 , total integrated cost =  3.521059321825779\n",
      "RUN  5 , total integrated cost =  3.5210593218256645\n",
      "RUN  6 , total integrated cost =  3.5210593218256436\n",
      "RUN  7 , total integrated cost =  3.5210593218256387\n",
      "RUN  8 , total integrated cost =  3.521059321825637\n",
      "RUN  9 , total integrated cost =  3.521059321825636\n"
     ]
    },
    {
     "output_type": "stream",
     "name": "stderr",
     "text": [
      "ERROR:root:Problem in initial value trasfer\n"
     ]
    },
    {
     "output_type": "stream",
     "name": "stdout",
     "text": [
      "RUN  10 , total integrated cost =  3.521059321825635\n",
      "RUN  11 , total integrated cost =  3.521059321825635\n",
      "Control only changes marginally.\n",
      "RUN  11 , total integrated cost =  3.521059321825635\n",
      "Improved over  11  iterations in  1.9463869070023065  seconds by  4.0993683541046266e-05  percent.\n",
      "Problem in initial value trasfer:  Vmean_exc -74.5252021347482 -74.52520985890591\n",
      "1.7634634259410508e-06 0.12953098459742998\n",
      "5.551237769899523e-09 0.12950540574463307\n",
      "set cost params:  19.18 1.0 0.0\n",
      "----- 164\n",
      "interpolate adjoint :  True True True\n",
      "RUN  0 , total integrated cost =  3.5210761255945364\n",
      "Gradient descend method:  None\n",
      "RUN  1 , total integrated cost =  3.521073434064634\n",
      "RUN  2 , total integrated cost =  3.521073421862769\n",
      "RUN  3 , total integrated cost =  3.521073416933874\n",
      "RUN  4 , total integrated cost =  3.5210734169078437\n",
      "RUN  5 , total integrated cost =  3.5210734169078415\n",
      "RUN  6 , total integrated cost =  3.5210734169078393\n"
     ]
    },
    {
     "output_type": "stream",
     "name": "stderr",
     "text": [
      "ERROR:root:Problem in initial value trasfer\n"
     ]
    },
    {
     "output_type": "stream",
     "name": "stdout",
     "text": [
      "RUN  7 , total integrated cost =  3.5210734169078393\n",
      "Control only changes marginally.\n",
      "RUN  7 , total integrated cost =  3.5210734169078393\n",
      "Improved over  7  iterations in  1.2624685460032197  seconds by  7.692780845047764e-05  percent.\n",
      "Problem in initial value trasfer:  Vmean_exc -74.52526721000275 -74.52527463366182\n",
      "1.8946269104189089e-06 0.12953099495507675\n",
      "5.551237769899523e-09 0.12950540574463307\n",
      "set cost params:  19.175 1.0 0.0\n",
      "----- 165\n",
      "interpolate adjoint :  True True True\n",
      "RUN  0 , total integrated cost =  3.521086264601156\n",
      "Gradient descend method:  None\n",
      "RUN  1 , total integrated cost =  3.521084633302395\n",
      "RUN  2 , total integrated cost =  3.521084633302394\n"
     ]
    },
    {
     "output_type": "stream",
     "name": "stderr",
     "text": [
      "ERROR:root:Problem in initial value trasfer\n"
     ]
    },
    {
     "output_type": "stream",
     "name": "stdout",
     "text": [
      "RUN  3 , total integrated cost =  3.521084633302394\n",
      "Control only changes marginally.\n",
      "RUN  3 , total integrated cost =  3.521084633302394\n",
      "Improved over  3  iterations in  0.7636633060028544  seconds by  4.632941767113152e-05  percent.\n",
      "Problem in initial value trasfer:  Vmean_exc -74.525326756512 -74.52533390520264\n",
      "1.9771883071632588e-06 0.1295309949550768\n",
      "5.551237769899523e-09 0.12950540574463307\n",
      "set cost params:  19.169999999999998 1.0 0.0\n",
      "----- 166\n",
      "interpolate adjoint :  True True True\n",
      "RUN  0 , total integrated cost =  3.5210980305119506\n",
      "Gradient descend method:  None\n",
      "RUN  1 , total integrated cost =  3.521096424721129\n",
      "RUN  2 , total integrated cost =  3.5210964222890633\n",
      "RUN  3 , total integrated cost =  3.5210964222890553\n",
      "RUN  4 , total integrated cost =  3.521096422289054\n",
      "RUN  5 , total integrated cost =  3.521096422289053\n"
     ]
    },
    {
     "output_type": "stream",
     "name": "stderr",
     "text": [
      "ERROR:root:Problem in initial value trasfer\n"
     ]
    },
    {
     "output_type": "stream",
     "name": "stdout",
     "text": [
      "RUN  6 , total integrated cost =  3.521096422289053\n",
      "Control only changes marginally.\n",
      "RUN  6 , total integrated cost =  3.521096422289053\n",
      "Improved over  6  iterations in  1.6127746860001935  seconds by  4.567390296017493e-05  percent.\n",
      "Problem in initial value trasfer:  Vmean_exc -74.52538306865489 -74.52538995731254\n",
      "2.079096504352108e-06 0.1295311664781339\n",
      "5.551237769899523e-09 0.12950540574463307\n",
      "set cost params:  19.165 1.0 0.0\n",
      "----- 167\n",
      "interpolate adjoint :  True True True\n",
      "RUN  0 , total integrated cost =  3.5211132444806106\n",
      "Gradient descend method:  None\n",
      "RUN  1 , total integrated cost =  3.521110940950327\n",
      "RUN  2 , total integrated cost =  3.5211109381659518\n",
      "RUN  3 , total integrated cost =  3.521110938145318\n",
      "RUN  4 , total integrated cost =  3.5211109381433356\n",
      "RUN  5 , total integrated cost =  3.521110938143161\n",
      "RUN  6 , total integrated cost =  3.5211109381431545\n",
      "RUN  7 , total integrated cost =  3.521110938143151\n"
     ]
    },
    {
     "output_type": "stream",
     "name": "stderr",
     "text": [
      "ERROR:root:Problem in initial value trasfer\n"
     ]
    },
    {
     "output_type": "stream",
     "name": "stdout",
     "text": [
      "RUN  8 , total integrated cost =  3.5211109381431496\n",
      "RUN  9 , total integrated cost =  3.5211109381431496\n",
      "Control only changes marginally.\n",
      "RUN  9 , total integrated cost =  3.5211109381431496\n",
      "Improved over  9  iterations in  1.791096175002167  seconds by  6.550023532270188e-05  percent.\n",
      "Problem in initial value trasfer:  Vmean_exc -74.52543609111598 -74.52544273493146\n",
      "2.207071795949507e-06 0.12952715324958394\n",
      "5.551237769899523e-09 0.12950540574463307\n",
      "set cost params:  19.16 1.0 0.0\n",
      "----- 168\n",
      "interpolate adjoint :  True True True\n",
      "RUN  0 , total integrated cost =  3.521125821470829\n",
      "Gradient descend method:  None\n",
      "RUN  1 , total integrated cost =  3.521124064594537\n",
      "RUN  2 , total integrated cost =  3.5211240645945305\n"
     ]
    },
    {
     "output_type": "stream",
     "name": "stderr",
     "text": [
      "ERROR:root:Problem in initial value trasfer\n"
     ]
    },
    {
     "output_type": "stream",
     "name": "stdout",
     "text": [
      "RUN  3 , total integrated cost =  3.5211240645945305\n",
      "Control only changes marginally.\n",
      "RUN  3 , total integrated cost =  3.5211240645945305\n",
      "Improved over  3  iterations in  0.7900565519958036  seconds by  4.9895300193725234e-05  percent.\n",
      "Problem in initial value trasfer:  Vmean_exc -74.5254885510194 -74.52549495259049\n",
      "2.3186439346474365e-06 0.12952715325041222\n",
      "5.551237769899523e-09 0.12950540574463307\n",
      "set cost params:  19.155 1.0 0.0\n",
      "----- 169\n",
      "interpolate adjoint :  True True True\n",
      "RUN  0 , total integrated cost =  3.521139710532154\n",
      "Gradient descend method:  None\n",
      "RUN  1 , total integrated cost =  3.52113785526163\n",
      "RUN  2 , total integrated cost =  3.5211378541424856\n",
      "RUN  3 , total integrated cost =  3.521137854128256\n",
      "RUN  4 , total integrated cost =  3.5211378541275993\n",
      "RUN  5 , total integrated cost =  3.521137854127515\n",
      "RUN  6 , total integrated cost =  3.5211378541275136\n",
      "RUN  7 , total integrated cost =  3.5211378541275113\n",
      "RUN  8 , total integrated cost =  3.52113785412751\n"
     ]
    },
    {
     "output_type": "stream",
     "name": "stderr",
     "text": [
      "ERROR:root:Problem in initial value trasfer\n"
     ]
    },
    {
     "output_type": "stream",
     "name": "stdout",
     "text": [
      "RUN  9 , total integrated cost =  3.52113785412751\n",
      "Control only changes marginally.\n",
      "RUN  9 , total integrated cost =  3.52113785412751\n",
      "Improved over  9  iterations in  3.232934166000632  seconds by  5.272169798331561e-05  percent.\n",
      "Problem in initial value trasfer:  Vmean_exc -74.5255386255273 -74.52554479586912\n",
      "2.445111312595857e-06 0.1295271532506553\n",
      "5.551237769899523e-09 0.12950540574463307\n",
      "set cost params:  19.15 1.0 0.0\n",
      "----- 170\n",
      "interpolate adjoint :  True True True\n",
      "RUN  0 , total integrated cost =  3.521154422237912\n",
      "Gradient descend method:  None\n",
      "RUN  1 , total integrated cost =  3.521152349191549\n",
      "RUN  2 , total integrated cost =  3.5211523472668405\n",
      "RUN  3 , total integrated cost =  3.521152347230912\n",
      "RUN  4 , total integrated cost =  3.521152347230895\n",
      "RUN  5 , total integrated cost =  3.5211523472308914\n"
     ]
    },
    {
     "output_type": "stream",
     "name": "stderr",
     "text": [
      "ERROR:root:Problem in initial value trasfer\n"
     ]
    },
    {
     "output_type": "stream",
     "name": "stdout",
     "text": [
      "RUN  6 , total integrated cost =  3.5211523472308914\n",
      "Control only changes marginally.\n",
      "RUN  6 , total integrated cost =  3.5211523472308914\n",
      "Improved over  6  iterations in  1.5243278109992389  seconds by  5.892973643994992e-05  percent.\n",
      "Problem in initial value trasfer:  Vmean_exc -74.52558684659934 -74.52559279427054\n",
      "2.5791502981476604e-06 0.1295271532508189\n",
      "5.551237769899523e-09 0.12950540574463307\n",
      "set cost params:  19.145 1.0 0.0\n",
      "----- 171\n",
      "interpolate adjoint :  True True True\n",
      "RUN  0 , total integrated cost =  3.5211735808158666\n",
      "Gradient descend method:  None\n",
      "RUN  1 , total integrated cost =  3.5211701833337345\n",
      "RUN  2 , total integrated cost =  3.5211701823442425\n",
      "RUN  3 , total integrated cost =  3.5211701823442376\n"
     ]
    },
    {
     "output_type": "stream",
     "name": "stderr",
     "text": [
      "ERROR:root:Problem in initial value trasfer\n"
     ]
    },
    {
     "output_type": "stream",
     "name": "stdout",
     "text": [
      "RUN  4 , total integrated cost =  3.5211701823442376\n",
      "Control only changes marginally.\n",
      "RUN  4 , total integrated cost =  3.5211701823442376\n",
      "Improved over  4  iterations in  0.9552292619991931  seconds by  9.65153109007133e-05  percent.\n",
      "Problem in initial value trasfer:  Vmean_exc -74.52563240593109 -74.52563814322285\n",
      "2.741939167040091e-06 0.12958509352340525\n",
      "5.551237769899523e-09 0.12950540574463307\n",
      "set cost params:  19.14 1.0 0.0\n",
      "----- 172\n",
      "interpolate adjoint :  True True True\n",
      "RUN  0 , total integrated cost =  3.521189121736936\n",
      "Gradient descend method:  None\n",
      "RUN  1 , total integrated cost =  3.521186299494139\n",
      "RUN  2 , total integrated cost =  3.5211862953820994\n",
      "RUN  3 , total integrated cost =  3.521186295367739\n",
      "RUN  4 , total integrated cost =  3.5211862953674014\n",
      "RUN  5 , total integrated cost =  3.5211862953673982\n"
     ]
    },
    {
     "output_type": "stream",
     "name": "stderr",
     "text": [
      "ERROR:root:Problem in initial value trasfer\n"
     ]
    },
    {
     "output_type": "stream",
     "name": "stdout",
     "text": [
      "RUN  6 , total integrated cost =  3.5211862953673982\n",
      "Control only changes marginally.\n",
      "RUN  6 , total integrated cost =  3.5211862953673982\n",
      "Improved over  6  iterations in  1.1865918089970364  seconds by  8.026747329381578e-05  percent.\n",
      "Problem in initial value trasfer:  Vmean_exc -74.52567733163248 -74.52568286147076\n",
      "2.888821539839687e-06 0.12958083674220847\n",
      "5.551237769899523e-09 0.12950540574463307\n",
      "set cost params:  19.134999999999998 1.0 0.0\n",
      "----- 173\n",
      "interpolate adjoint :  True True True\n",
      "RUN  0 , total integrated cost =  3.5212106522668236\n",
      "Gradient descend method:  None\n",
      "RUN  1 , total integrated cost =  3.5212061499985876\n",
      "RUN  2 , total integrated cost =  3.521206149662999\n",
      "RUN  3 , total integrated cost =  3.5212061496607587\n",
      "RUN  4 , total integrated cost =  3.521206149660751\n"
     ]
    },
    {
     "output_type": "stream",
     "name": "stderr",
     "text": [
      "ERROR:root:Problem in initial value trasfer\n"
     ]
    },
    {
     "output_type": "stream",
     "name": "stdout",
     "text": [
      "RUN  5 , total integrated cost =  3.521206149660751\n",
      "Control only changes marginally.\n",
      "RUN  5 , total integrated cost =  3.521206149660751\n",
      "Improved over  5  iterations in  1.0716264139991836  seconds by  0.0001278709659118249  percent.\n",
      "Problem in initial value trasfer:  Vmean_exc -74.52572691698678 -74.52573221785474\n",
      "3.0169313760991424e-06 0.1295811515281063\n",
      "5.551237769899523e-09 0.12950540574463307\n",
      "set cost params:  19.130000000000003 1.0 0.0\n",
      "----- 174\n",
      "interpolate adjoint :  True True True\n",
      "RUN  0 , total integrated cost =  3.5212318346681504\n",
      "Gradient descend method:  None\n",
      "RUN  1 , total integrated cost =  3.5212272374038305\n",
      "RUN  2 , total integrated cost =  3.5212272370754185\n",
      "RUN  3 , total integrated cost =  3.5212272370734454\n",
      "RUN  4 , total integrated cost =  3.5212272370734357\n",
      "RUN  5 , total integrated cost =  3.521227237073433\n"
     ]
    },
    {
     "output_type": "stream",
     "name": "stderr",
     "text": [
      "ERROR:root:Problem in initial value trasfer\n"
     ]
    },
    {
     "output_type": "stream",
     "name": "stdout",
     "text": [
      "RUN  6 , total integrated cost =  3.521227237073433\n",
      "Control only changes marginally.\n",
      "RUN  6 , total integrated cost =  3.521227237073433\n",
      "Improved over  6  iterations in  1.5157186610013014  seconds by  0.00013056779370401728  percent.\n",
      "Problem in initial value trasfer:  Vmean_exc -74.52576931843664 -74.52577442350741\n",
      "3.1534399110706267e-06 0.12958148716289875\n",
      "5.551237769899523e-09 0.12950540574463307\n",
      "set cost params:  19.125 1.0 0.0\n",
      "----- 175\n",
      "interpolate adjoint :  True True True\n",
      "RUN  0 , total integrated cost =  3.5212497173009543\n",
      "Gradient descend method:  None\n",
      "RUN  1 , total integrated cost =  3.5212463422168008\n",
      "RUN  2 , total integrated cost =  3.521246342213399\n",
      "RUN  3 , total integrated cost =  3.521246342213397\n"
     ]
    },
    {
     "output_type": "stream",
     "name": "stderr",
     "text": [
      "ERROR:root:Problem in initial value trasfer\n"
     ]
    },
    {
     "output_type": "stream",
     "name": "stdout",
     "text": [
      "RUN  4 , total integrated cost =  3.521246342213397\n",
      "Control only changes marginally.\n",
      "RUN  4 , total integrated cost =  3.521246342213397\n",
      "Improved over  4  iterations in  0.9718949080051971  seconds by  9.584913959770347e-05  percent.\n",
      "Problem in initial value trasfer:  Vmean_exc -74.52581025533006 -74.52581517136659\n",
      "3.294298564457023e-06 0.12958178875131937\n",
      "5.551237769899523e-09 0.12950540574463307\n",
      "set cost params:  19.119999999999997 1.0 0.0\n",
      "----- 176\n",
      "interpolate adjoint :  True True True\n",
      "RUN  0 , total integrated cost =  3.5212699897093964\n",
      "Gradient descend method:  None\n",
      "RUN  1 , total integrated cost =  3.521266463145355\n",
      "RUN  2 , total integrated cost =  3.521266458923334\n",
      "RUN  3 , total integrated cost =  3.5212664588997367\n",
      "RUN  4 , total integrated cost =  3.5212664588997153\n",
      "RUN  5 , total integrated cost =  3.521266458899708\n",
      "RUN  6 , total integrated cost =  3.521266458899707\n"
     ]
    },
    {
     "output_type": "stream",
     "name": "stderr",
     "text": [
      "ERROR:root:Problem in initial value trasfer\n"
     ]
    },
    {
     "output_type": "stream",
     "name": "stdout",
     "text": [
      "RUN  7 , total integrated cost =  3.5212664588997056\n",
      "RUN  8 , total integrated cost =  3.5212664588997056\n",
      "Control only changes marginally.\n",
      "RUN  8 , total integrated cost =  3.5212664588997056\n",
      "Improved over  8  iterations in  1.3574560779961757  seconds by  0.00010027091649078557  percent.\n",
      "Problem in initial value trasfer:  Vmean_exc -74.5258491949285 -74.5258539311537\n",
      "3.4616473122440566e-06 0.12957479807432143\n",
      "5.551237769899523e-09 0.12950540574463307\n",
      "set cost params:  19.115000000000002 1.0 0.0\n",
      "----- 177\n",
      "interpolate adjoint :  True True True\n",
      "RUN  0 , total integrated cost =  3.521291456037896\n",
      "Gradient descend method:  None\n",
      "RUN  1 , total integrated cost =  3.5212876323155493\n",
      "RUN  2 , total integrated cost =  3.5212876300557534\n",
      "RUN  3 , total integrated cost =  3.521287629856037\n",
      "RUN  4 , total integrated cost =  3.5212876298560287\n"
     ]
    },
    {
     "output_type": "stream",
     "name": "stderr",
     "text": [
      "ERROR:root:Problem in initial value trasfer\n"
     ]
    },
    {
     "output_type": "stream",
     "name": "stdout",
     "text": [
      "RUN  5 , total integrated cost =  3.5212876298560287\n",
      "Control only changes marginally.\n",
      "RUN  5 , total integrated cost =  3.5212876298560287\n",
      "Improved over  5  iterations in  1.0545198680047179  seconds by  0.00010865848268792888  percent.\n",
      "Problem in initial value trasfer:  Vmean_exc -74.52588779267853 -74.525892350671\n",
      "3.594150138410085e-06 0.1295747980744543\n",
      "5.551237769899523e-09 0.12950540574463307\n",
      "set cost params:  19.11 1.0 0.0\n",
      "----- 178\n",
      "interpolate adjoint :  True True True\n",
      "RUN  0 , total integrated cost =  3.521318919634365\n",
      "Gradient descend method:  None\n",
      "RUN  1 , total integrated cost =  3.521313752336033\n",
      "RUN  2 , total integrated cost =  3.5213137483407912\n",
      "RUN  3 , total integrated cost =  3.5213137482908277\n",
      "RUN  4 , total integrated cost =  3.5213137482899888\n",
      "RUN  5 , total integrated cost =  3.521313748289959\n",
      "RUN  6 , total integrated cost =  3.5213137482899524\n"
     ]
    },
    {
     "output_type": "stream",
     "name": "stderr",
     "text": [
      "ERROR:root:Problem in initial value trasfer\n"
     ]
    },
    {
     "output_type": "stream",
     "name": "stdout",
     "text": [
      "RUN  7 , total integrated cost =  3.5213137482899524\n",
      "Control only changes marginally.\n",
      "RUN  7 , total integrated cost =  3.5213137482899524\n",
      "Improved over  7  iterations in  1.734656635002466  seconds by  0.00014685816680071184  percent.\n",
      "Problem in initial value trasfer:  Vmean_exc -74.52592386337365 -74.5259282548026\n",
      "3.7811150826001702e-06 0.1295683836270541\n",
      "5.551237769899523e-09 0.12950540574463307\n",
      "set cost params:  19.105 1.0 0.0\n",
      "----- 179\n",
      "interpolate adjoint :  True True True\n",
      "RUN  0 , total integrated cost =  3.5213412274333002\n",
      "Gradient descend method:  None\n",
      "RUN  1 , total integrated cost =  3.521337397533975\n",
      "RUN  2 , total integrated cost =  3.521337397471928\n",
      "RUN  3 , total integrated cost =  3.521337397471837\n",
      "RUN  4 , total integrated cost =  3.5213373974718305\n",
      "RUN  5 , total integrated cost =  3.52133739747183\n",
      "RUN  6 , total integrated cost =  3.521337397471829\n"
     ]
    },
    {
     "output_type": "stream",
     "name": "stderr",
     "text": [
      "ERROR:root:Problem in initial value trasfer\n"
     ]
    },
    {
     "output_type": "stream",
     "name": "stdout",
     "text": [
      "RUN  7 , total integrated cost =  3.521337397471829\n",
      "Control only changes marginally.\n",
      "RUN  7 , total integrated cost =  3.521337397471829\n",
      "Improved over  7  iterations in  1.4232784280029591  seconds by  0.0001087642811086198  percent.\n",
      "Problem in initial value trasfer:  Vmean_exc -74.52595920998468 -74.5259634381937\n",
      "3.9493324113993425e-06 0.1295683836271346\n",
      "5.551237769899523e-09 0.12950540574463307\n",
      "set cost params:  19.1 1.0 0.0\n",
      "----- 180\n",
      "interpolate adjoint :  True True True\n",
      "RUN  0 , total integrated cost =  3.5213661426821554\n",
      "Gradient descend method:  None\n",
      "RUN  1 , total integrated cost =  3.5213622768786137\n",
      "RUN  2 , total integrated cost =  3.5213622768786093\n"
     ]
    },
    {
     "output_type": "stream",
     "name": "stderr",
     "text": [
      "ERROR:root:Problem in initial value trasfer\n"
     ]
    },
    {
     "output_type": "stream",
     "name": "stdout",
     "text": [
      "RUN  3 , total integrated cost =  3.5213622768786093\n",
      "Control only changes marginally.\n",
      "RUN  3 , total integrated cost =  3.5213622768786093\n",
      "Improved over  3  iterations in  0.694430145995284  seconds by  0.00010978135728123561  percent.\n",
      "Problem in initial value trasfer:  Vmean_exc -74.52599302646497 -74.5259970985198\n",
      "4.137748814612977e-06 0.1295683836271346\n",
      "5.551237769899523e-09 0.12950540574463307\n",
      "set cost params:  19.095 1.0 0.0\n",
      "----- 181\n",
      "interpolate adjoint :  True True True\n",
      "RUN  0 , total integrated cost =  3.5213924092151077\n",
      "Gradient descend method:  None\n",
      "RUN  1 , total integrated cost =  3.521388454353029\n",
      "RUN  2 , total integrated cost =  3.5213884449160013\n",
      "RUN  3 , total integrated cost =  3.521388444869298\n",
      "RUN  4 , total integrated cost =  3.5213884448681445\n",
      "RUN  5 , total integrated cost =  3.521388444868113\n",
      "RUN  6 , total integrated cost =  3.5213884448681103\n",
      "RUN  7 , total integrated cost =  3.5213884448681076\n"
     ]
    },
    {
     "output_type": "stream",
     "name": "stderr",
     "text": [
      "ERROR:root:Problem in initial value trasfer\n"
     ]
    },
    {
     "output_type": "stream",
     "name": "stdout",
     "text": [
      "RUN  8 , total integrated cost =  3.5213884448681076\n",
      "Control only changes marginally.\n",
      "RUN  8 , total integrated cost =  3.5213884448681076\n",
      "Improved over  8  iterations in  1.405924872997275  seconds by  0.0001125789613638517  percent.\n",
      "Problem in initial value trasfer:  Vmean_exc -74.52602539790286 -74.52602932047625\n",
      "4.347489443074855e-06 0.12955888964609563\n",
      "5.551237769899523e-09 0.12950540574463307\n",
      "set cost params:  19.09 1.0 0.0\n",
      "----- 182\n",
      "interpolate adjoint :  True True True\n",
      "RUN  0 , total integrated cost =  3.521426387080752\n",
      "Gradient descend method:  None\n",
      "RUN  1 , total integrated cost =  3.521420706772433\n",
      "RUN  2 , total integrated cost =  3.5214207067421768\n",
      "RUN  3 , total integrated cost =  3.521420706741089\n",
      "RUN  4 , total integrated cost =  3.521420706741039\n",
      "RUN  5 , total integrated cost =  3.5214207067410364\n"
     ]
    },
    {
     "output_type": "stream",
     "name": "stderr",
     "text": [
      "ERROR:root:Problem in initial value trasfer\n"
     ]
    },
    {
     "output_type": "stream",
     "name": "stdout",
     "text": [
      "RUN  6 , total integrated cost =  3.5214207067410364\n",
      "Control only changes marginally.\n",
      "RUN  6 , total integrated cost =  3.5214207067410364\n",
      "Improved over  6  iterations in  1.1404038319960819  seconds by  0.00016130792160140572  percent.\n",
      "Problem in initial value trasfer:  Vmean_exc -74.52605601470033 -74.52605979589474\n",
      "4.605455111146179e-06 0.12955938976511677\n",
      "5.551237769899523e-09 0.12950540574463307\n",
      "set cost params:  19.085 1.0 0.0\n",
      "----- 183\n",
      "interpolate adjoint :  True True True\n",
      "RUN  0 , total integrated cost =  3.5214541656917953\n",
      "Gradient descend method:  None\n",
      "RUN  1 , total integrated cost =  3.5214499059997535\n",
      "RUN  2 , total integrated cost =  3.5214499059997464\n",
      "RUN  3 , total integrated cost =  3.5214499059997455\n"
     ]
    },
    {
     "output_type": "stream",
     "name": "stderr",
     "text": [
      "ERROR:root:Problem in initial value trasfer\n"
     ]
    },
    {
     "output_type": "stream",
     "name": "stdout",
     "text": [
      "RUN  4 , total integrated cost =  3.5214499059997455\n",
      "Control only changes marginally.\n",
      "RUN  4 , total integrated cost =  3.5214499059997455\n",
      "Improved over  4  iterations in  0.9772155819955515  seconds by  0.00012096400661221196  percent.\n",
      "Problem in initial value trasfer:  Vmean_exc -74.52608618391744 -74.52608982579964\n",
      "4.831997592435228e-06 0.1295593897660278\n",
      "5.551237769899523e-09 0.12950540574463307\n",
      "set cost params:  19.080000000000002 1.0 0.0\n",
      "----- 184\n",
      "interpolate adjoint :  True True True\n",
      "RUN  0 , total integrated cost =  3.5214849222568425\n",
      "Gradient descend method:  None\n",
      "RUN  1 , total integrated cost =  3.521480615709651\n",
      "RUN  2 , total integrated cost =  3.521480611865067\n",
      "RUN  3 , total integrated cost =  3.5214806118526685\n",
      "RUN  4 , total integrated cost =  3.5214806118523403\n",
      "RUN  5 , total integrated cost =  3.521480611852333\n",
      "RUN  6 , total integrated cost =  3.5214806118523314\n"
     ]
    },
    {
     "output_type": "stream",
     "name": "stderr",
     "text": [
      "ERROR:root:Problem in initial value trasfer\n"
     ]
    },
    {
     "output_type": "stream",
     "name": "stdout",
     "text": [
      "RUN  7 , total integrated cost =  3.5214806118523314\n",
      "Control only changes marginally.\n",
      "RUN  7 , total integrated cost =  3.5214806118523314\n",
      "Improved over  7  iterations in  1.2852459130008356  seconds by  0.0001224030375226448  percent.\n",
      "Problem in initial value trasfer:  Vmean_exc -74.52611503844652 -74.52611854708738\n",
      "5.085559411079697e-06 0.12955984833753592\n",
      "5.551237769899523e-09 0.12950540574463307\n",
      "set cost params:  19.075 1.0 0.0\n",
      "----- 185\n",
      "interpolate adjoint :  True True True\n",
      "RUN  0 , total integrated cost =  3.5215250219043392\n",
      "Gradient descend method:  None\n",
      "RUN  1 , total integrated cost =  3.521518434092192\n",
      "RUN  2 , total integrated cost =  3.5215184287518158\n",
      "RUN  3 , total integrated cost =  3.521518428691769\n",
      "RUN  4 , total integrated cost =  3.521518428691759\n",
      "RUN  5 , total integrated cost =  3.5215184286917562\n",
      "RUN  6 , total integrated cost =  3.521518428691755\n"
     ]
    },
    {
     "output_type": "stream",
     "name": "stderr",
     "text": [
      "ERROR:root:Problem in initial value trasfer\n"
     ]
    },
    {
     "output_type": "stream",
     "name": "stdout",
     "text": [
      "RUN  7 , total integrated cost =  3.521518428691755\n",
      "Control only changes marginally.\n",
      "RUN  7 , total integrated cost =  3.521518428691755\n",
      "Improved over  7  iterations in  1.427506808002363  seconds by  0.00018722606097298922  percent.\n",
      "Problem in initial value trasfer:  Vmean_exc -74.52614220375455 -74.52614558695436\n",
      "5.406531535356397e-06 0.12955162918121282\n",
      "5.551237769899523e-09 0.12950540574463307\n",
      "set cost params:  19.07 1.0 0.0\n",
      "----- 186\n",
      "interpolate adjoint :  True True True\n",
      "RUN  0 , total integrated cost =  3.521557755346669\n",
      "Gradient descend method:  None\n",
      "RUN  1 , total integrated cost =  3.5215526284850887\n",
      "RUN  2 , total integrated cost =  3.5215526284850878\n"
     ]
    },
    {
     "output_type": "stream",
     "name": "stderr",
     "text": [
      "ERROR:root:Problem in initial value trasfer\n"
     ]
    },
    {
     "output_type": "stream",
     "name": "stdout",
     "text": [
      "RUN  3 , total integrated cost =  3.5215526284850878\n",
      "Control only changes marginally.\n",
      "RUN  3 , total integrated cost =  3.5215526284850878\n",
      "Improved over  3  iterations in  0.9874159889950533  seconds by  0.0001455850489264776  percent.\n",
      "Problem in initial value trasfer:  Vmean_exc -74.5261691538216 -74.52617241257431\n",
      "5.675887241806521e-06 0.12955162918121282\n",
      "5.551237769899523e-09 0.12950540574463307\n",
      "set cost params:  19.065 1.0 0.0\n",
      "----- 187\n",
      "interpolate adjoint :  True True True\n",
      "RUN  0 , total integrated cost =  3.5215941511387796\n",
      "Gradient descend method:  None\n",
      "RUN  1 , total integrated cost =  3.521588562684165\n",
      "RUN  2 , total integrated cost =  3.521588561118679\n",
      "RUN  3 , total integrated cost =  3.5215885611084614\n",
      "RUN  4 , total integrated cost =  3.521588561108458\n",
      "RUN  5 , total integrated cost =  3.5215885611084574\n"
     ]
    },
    {
     "output_type": "stream",
     "name": "stderr",
     "text": [
      "ERROR:root:Problem in initial value trasfer\n"
     ]
    },
    {
     "output_type": "stream",
     "name": "stdout",
     "text": [
      "RUN  6 , total integrated cost =  3.5215885611084574\n",
      "Control only changes marginally.\n",
      "RUN  6 , total integrated cost =  3.5215885611084574\n",
      "Improved over  6  iterations in  1.3252548499949626  seconds by  0.00015873579073399924  percent.\n",
      "Problem in initial value trasfer:  Vmean_exc -74.52619473894397 -74.52619787955248\n",
      "5.9960449608261285e-06 0.1295521768564119\n",
      "5.551237769899523e-09 0.12950540574463307\n",
      "set cost params:  19.06 1.0 0.0\n",
      "----- 188\n",
      "interpolate adjoint :  True True True\n",
      "RUN  0 , total integrated cost =  3.521632808524583\n",
      "Gradient descend method:  None\n",
      "RUN  1 , total integrated cost =  3.521626330519018\n",
      "RUN  2 , total integrated cost =  3.521626330114282\n",
      "RUN  3 , total integrated cost =  3.5216263301100397\n",
      "RUN  4 , total integrated cost =  3.5216263301098536\n",
      "RUN  5 , total integrated cost =  3.5216263301098385\n",
      "RUN  6 , total integrated cost =  3.5216263301098376\n",
      "RUN  7 , total integrated cost =  3.521626330109833\n",
      "RUN  8 , total integrated cost =  3.5216263301098296\n"
     ]
    },
    {
     "output_type": "stream",
     "name": "stderr",
     "text": [
      "ERROR:root:Problem in initial value trasfer\n"
     ]
    },
    {
     "output_type": "stream",
     "name": "stdout",
     "text": [
      "RUN  9 , total integrated cost =  3.5216263301098296\n",
      "Control only changes marginally.\n",
      "RUN  9 , total integrated cost =  3.5216263301098296\n",
      "Improved over  9  iterations in  1.5078544689968112  seconds by  0.00018396054063885003  percent.\n",
      "Problem in initial value trasfer:  Vmean_exc -74.52621943614291 -74.52622246270738\n",
      "6.328614702056567e-06 0.12955274611605344\n",
      "5.551237769899523e-09 0.12950540574463307\n",
      "set cost params:  19.055 1.0 0.0\n",
      "----- 189\n",
      "interpolate adjoint :  True True True\n",
      "RUN  0 , total integrated cost =  3.5216833604245554\n",
      "Gradient descend method:  None\n",
      "RUN  1 , total integrated cost =  3.521672830097839\n",
      "RUN  2 , total integrated cost =  3.521672821052325\n",
      "RUN  3 , total integrated cost =  3.52167282096752\n",
      "RUN  4 , total integrated cost =  3.5216728209675137\n",
      "RUN  5 , total integrated cost =  3.5216728209675114\n"
     ]
    },
    {
     "output_type": "stream",
     "name": "stderr",
     "text": [
      "ERROR:root:Problem in initial value trasfer\n"
     ]
    },
    {
     "output_type": "stream",
     "name": "stdout",
     "text": [
      "RUN  6 , total integrated cost =  3.5216728209675114\n",
      "Control only changes marginally.\n",
      "RUN  6 , total integrated cost =  3.5216728209675114\n",
      "Improved over  6  iterations in  1.0173325290015782  seconds by  0.00029927327261702885  percent.\n",
      "Problem in initial value trasfer:  Vmean_exc -74.52624301267618 -74.52624593037152\n",
      "6.705406460283203e-06 0.12955346874398288\n",
      "5.551237769899523e-09 0.12950540574463307\n",
      "set cost params:  19.05 1.0 0.0\n",
      "----- 190\n",
      "interpolate adjoint :  True True True\n",
      "RUN  0 , total integrated cost =  3.521723523789834\n",
      "Gradient descend method:  None\n",
      "RUN  1 , total integrated cost =  3.521714982383361\n",
      "RUN  2 , total integrated cost =  3.52171498238336\n",
      "RUN  3 , total integrated cost =  3.5217149823833584\n"
     ]
    },
    {
     "output_type": "stream",
     "name": "stderr",
     "text": [
      "ERROR:root:Problem in initial value trasfer\n"
     ]
    },
    {
     "output_type": "stream",
     "name": "stdout",
     "text": [
      "RUN  4 , total integrated cost =  3.5217149823833584\n",
      "Control only changes marginally.\n",
      "RUN  4 , total integrated cost =  3.5217149823833584\n",
      "Improved over  4  iterations in  0.9829932540014852  seconds by  0.0002425348389181181  percent.\n",
      "Problem in initial value trasfer:  Vmean_exc -74.52626682425871 -74.52626963199954\n",
      "6.965163712823648e-06 0.12955346874398288\n",
      "5.551237769899523e-09 0.12950540574463307\n",
      "set cost params:  19.044999999999998 1.0 0.0\n",
      "----- 191\n",
      "interpolate adjoint :  True True True\n",
      "RUN  0 , total integrated cost =  3.52176802601242\n",
      "Gradient descend method:  None\n",
      "RUN  1 , total integrated cost =  3.5217593792757116\n",
      "RUN  2 , total integrated cost =  3.5217593786385604\n",
      "RUN  3 , total integrated cost =  3.5217593786316934\n",
      "RUN  4 , total integrated cost =  3.5217593786310784\n",
      "RUN  5 , total integrated cost =  3.5217593786310246\n",
      "RUN  6 , total integrated cost =  3.5217593786310144\n",
      "RUN  7 , total integrated cost =  3.521759378631012\n",
      "RUN  8 , total integrated cost =  3.5217593786310117\n",
      "RUN  9 , total integrated cost =  3.5217593786310113\n"
     ]
    },
    {
     "output_type": "stream",
     "name": "stderr",
     "text": [
      "ERROR:root:Problem in initial value trasfer\n"
     ]
    },
    {
     "output_type": "stream",
     "name": "stdout",
     "text": [
      "RUN  10 , total integrated cost =  3.5217593786310113\n",
      "Control only changes marginally.\n",
      "RUN  10 , total integrated cost =  3.5217593786310113\n",
      "Improved over  10  iterations in  1.692102018998412  seconds by  0.00024554091424988655  percent.\n",
      "Problem in initial value trasfer:  Vmean_exc -74.52628963018947 -74.52629233261959\n",
      "7.253612381050546e-06 0.12955417261554505\n",
      "5.551237769899523e-09 0.12950540574463307\n",
      "set cost params:  19.04 1.0 0.0\n",
      "----- 192\n",
      "interpolate adjoint :  True True True\n",
      "RUN  0 , total integrated cost =  3.5218263831449317\n",
      "Gradient descend method:  None\n",
      "RUN  1 , total integrated cost =  3.5218141760838884\n",
      "RUN  2 , total integrated cost =  3.5218141760163024\n",
      "RUN  3 , total integrated cost =  3.521814176016298\n",
      "RUN  4 , total integrated cost =  3.5218141760162958\n",
      "RUN  5 , total integrated cost =  3.5218141760162918\n",
      "RUN  6 , total integrated cost =  3.52181417601629\n"
     ]
    },
    {
     "output_type": "stream",
     "name": "stderr",
     "text": [
      "ERROR:root:Problem in initial value trasfer\n"
     ]
    },
    {
     "output_type": "stream",
     "name": "stdout",
     "text": [
      "RUN  7 , total integrated cost =  3.52181417601629\n",
      "Control only changes marginally.\n",
      "RUN  7 , total integrated cost =  3.52181417601629\n",
      "Improved over  7  iterations in  2.0204535590019077  seconds by  0.00034661358380105867  percent.\n",
      "Problem in initial value trasfer:  Vmean_exc -74.52631130681658 -74.52631390915079\n",
      "7.600682657673573e-06 0.12955417261774052\n",
      "5.551237769899523e-09 0.12950540574463307\n",
      "set cost params:  19.035 1.0 0.0\n",
      "----- 193\n",
      "interpolate adjoint :  True True True\n",
      "RUN  0 , total integrated cost =  3.5218727587102023\n",
      "Gradient descend method:  None\n",
      "RUN  1 , total integrated cost =  3.521863818725611\n",
      "RUN  2 , total integrated cost =  3.521863815174872\n",
      "RUN  3 , total integrated cost =  3.521863815171345\n",
      "RUN  4 , total integrated cost =  3.521863815171197\n",
      "RUN  5 , total integrated cost =  3.5218638151711934\n",
      "RUN  6 , total integrated cost =  3.521863815171187\n",
      "RUN  7 , total integrated cost =  3.5218638151711867\n"
     ]
    },
    {
     "output_type": "stream",
     "name": "stderr",
     "text": [
      "ERROR:root:Problem in initial value trasfer\n"
     ]
    },
    {
     "output_type": "stream",
     "name": "stdout",
     "text": [
      "RUN  8 , total integrated cost =  3.5218638151711867\n",
      "Control only changes marginally.\n",
      "RUN  8 , total integrated cost =  3.5218638151711867\n",
      "Improved over  8  iterations in  1.7248501510039205  seconds by  0.000253942706862631  percent.\n",
      "Problem in initial value trasfer:  Vmean_exc -74.52633245341093 -74.52633495809674\n",
      "7.918954203076348e-06 0.12955497237348637\n",
      "5.551237769899523e-09 0.12950540574463307\n",
      "set cost params:  19.03 1.0 0.0\n",
      "----- 194\n",
      "interpolate adjoint :  True True True\n",
      "RUN  0 , total integrated cost =  3.521925083567621\n",
      "Gradient descend method:  None\n",
      "RUN  1 , total integrated cost =  3.521916076126414\n",
      "RUN  2 , total integrated cost =  3.5219160761264083\n",
      "RUN  3 , total integrated cost =  3.521916076126406\n"
     ]
    },
    {
     "output_type": "stream",
     "name": "stderr",
     "text": [
      "ERROR:root:Problem in initial value trasfer\n"
     ]
    },
    {
     "output_type": "stream",
     "name": "stdout",
     "text": [
      "RUN  4 , total integrated cost =  3.521916076126406\n",
      "Control only changes marginally.\n",
      "RUN  4 , total integrated cost =  3.521916076126406\n",
      "Improved over  4  iterations in  1.004736064998724  seconds by  0.0002557533451437166  percent.\n",
      "Problem in initial value trasfer:  Vmean_exc -74.52635245720973 -74.52635486952421\n",
      "8.321505474827722e-06 0.12955579242201265\n",
      "5.551237769899523e-09 0.12950540574463307\n",
      "set cost params:  19.025 1.0 0.0\n",
      "----- 195\n",
      "interpolate adjoint :  True True True\n",
      "RUN  0 , total integrated cost =  3.521980655854594\n",
      "Gradient descend method:  None\n",
      "RUN  1 , total integrated cost =  3.521971113855992\n",
      "RUN  2 , total integrated cost =  3.521971113190849\n",
      "RUN  3 , total integrated cost =  3.5219711131908427\n",
      "RUN  4 , total integrated cost =  3.5219711131908373\n",
      "RUN  5 , total integrated cost =  3.5219711131908356\n"
     ]
    },
    {
     "output_type": "stream",
     "name": "stderr",
     "text": [
      "ERROR:root:Problem in initial value trasfer\n"
     ]
    },
    {
     "output_type": "stream",
     "name": "stdout",
     "text": [
      "RUN  6 , total integrated cost =  3.5219711131908356\n",
      "Control only changes marginally.\n",
      "RUN  6 , total integrated cost =  3.5219711131908356\n",
      "Improved over  6  iterations in  1.3788524500050698  seconds by  0.00027094594464927013  percent.\n",
      "Problem in initial value trasfer:  Vmean_exc -74.5263716819266 -74.52637400546736\n",
      "8.756257940179485e-06 0.12955664746733284\n",
      "5.551237769899523e-09 0.12950540574463307\n",
      "set cost params:  19.02 1.0 0.0\n",
      "----- 196\n",
      "interpolate adjoint :  True True True\n",
      "RUN  0 , total integrated cost =  3.5220529551267385\n",
      "Gradient descend method:  None\n",
      "RUN  1 , total integrated cost =  3.5220389987923757\n",
      "RUN  2 , total integrated cost =  3.5220389712809834\n",
      "RUN  3 , total integrated cost =  3.522038971279956\n",
      "RUN  4 , total integrated cost =  3.5220389712799536\n",
      "RUN  5 , total integrated cost =  3.52203897127995\n",
      "RUN  6 , total integrated cost =  3.5220389712799474\n"
     ]
    },
    {
     "output_type": "stream",
     "name": "stderr",
     "text": [
      "ERROR:root:Problem in initial value trasfer\n"
     ]
    },
    {
     "output_type": "stream",
     "name": "stdout",
     "text": [
      "RUN  7 , total integrated cost =  3.5220389712799474\n",
      "Control only changes marginally.\n",
      "RUN  7 , total integrated cost =  3.5220389712799474\n",
      "Improved over  7  iterations in  1.3548867680001422  seconds by  0.00039703681260050416  percent.\n",
      "Problem in initial value trasfer:  Vmean_exc -74.5263901017016 -74.52639234018558\n",
      "9.238992294798254e-06 0.12953779752207073\n",
      "5.551237769899523e-09 0.12950540574463307\n",
      "set cost params:  19.015 1.0 0.0\n",
      "----- 197\n",
      "interpolate adjoint :  True True True\n",
      "RUN  0 , total integrated cost =  3.5221108205724714\n",
      "Gradient descend method:  None\n",
      "RUN  1 , total integrated cost =  3.5221004439058015\n",
      "RUN  2 , total integrated cost =  3.5221004269648972\n",
      "RUN  3 , total integrated cost =  3.5221004269603204\n",
      "RUN  4 , total integrated cost =  3.5221004269602787\n",
      "RUN  5 , total integrated cost =  3.5221004269602694\n",
      "RUN  6 , total integrated cost =  3.522100426960267\n",
      "RUN  7 , total integrated cost =  3.522100426960265\n"
     ]
    },
    {
     "output_type": "stream",
     "name": "stderr",
     "text": [
      "ERROR:root:Problem in initial value trasfer\n"
     ]
    },
    {
     "output_type": "stream",
     "name": "stdout",
     "text": [
      "RUN  8 , total integrated cost =  3.522100426960264\n",
      "RUN  9 , total integrated cost =  3.522100426960264\n",
      "Control only changes marginally.\n",
      "RUN  9 , total integrated cost =  3.522100426960264\n",
      "Improved over  9  iterations in  1.4189186090006842  seconds by  0.00029509611528055757  percent.\n",
      "Problem in initial value trasfer:  Vmean_exc -74.52640792217234 -74.52641007836698\n",
      "9.731086094647364e-06 0.12953884832680743\n",
      "5.551237769899523e-09 0.12950540574463307\n",
      "set cost params:  19.009999999999998 1.0 0.0\n",
      "----- 198\n",
      "interpolate adjoint :  True True True\n",
      "RUN  0 , total integrated cost =  3.5221760363012846\n",
      "Gradient descend method:  None\n",
      "RUN  1 , total integrated cost =  3.5221651017423232\n",
      "RUN  2 , total integrated cost =  3.522165097800373\n",
      "RUN  3 , total integrated cost =  3.5221650977628904\n",
      "RUN  4 , total integrated cost =  3.522165097761863\n",
      "RUN  5 , total integrated cost =  3.522165097761859\n",
      "RUN  6 , total integrated cost =  3.5221650977618575\n",
      "RUN  7 , total integrated cost =  3.522165097761856\n"
     ]
    },
    {
     "output_type": "stream",
     "name": "stderr",
     "text": [
      "ERROR:root:Problem in initial value trasfer\n"
     ]
    },
    {
     "output_type": "stream",
     "name": "stdout",
     "text": [
      "RUN  8 , total integrated cost =  3.522165097761856\n",
      "Control only changes marginally.\n",
      "RUN  8 , total integrated cost =  3.522165097761856\n",
      "Improved over  8  iterations in  1.3512003389987512  seconds by  0.00031056197407508535  percent.\n",
      "Problem in initial value trasfer:  Vmean_exc -74.52642547374973 -74.52642754889668\n",
      "1.0142520270198092e-05 0.12954620603843886\n",
      "5.551237769899523e-09 0.12950540574463307\n",
      "set cost params:  19.005000000000003 1.0 0.0\n",
      "----- 199\n",
      "interpolate adjoint :  True True True\n",
      "RUN  0 , total integrated cost =  3.5222596104113584\n",
      "Gradient descend method:  None\n",
      "RUN  1 , total integrated cost =  3.522244788978965\n",
      "RUN  2 , total integrated cost =  3.522244788323019\n",
      "RUN  3 , total integrated cost =  3.5222447882359016\n",
      "RUN  4 , total integrated cost =  3.5222447882341985\n",
      "RUN  5 , total integrated cost =  3.5222447882341936\n",
      "RUN  6 , total integrated cost =  3.52224478823419\n",
      "RUN  7 , total integrated cost =  3.522244788234187\n"
     ]
    },
    {
     "output_type": "stream",
     "name": "stderr",
     "text": [
      "ERROR:root:Problem in initial value trasfer\n"
     ]
    },
    {
     "output_type": "stream",
     "name": "stdout",
     "text": [
      "RUN  8 , total integrated cost =  3.5222447882341865\n",
      "RUN  9 , total integrated cost =  3.5222447882341865\n",
      "Control only changes marginally.\n",
      "RUN  9 , total integrated cost =  3.5222447882341865\n",
      "Improved over  9  iterations in  1.5735062899984769  seconds by  0.00042081444333064155  percent.\n",
      "Problem in initial value trasfer:  Vmean_exc -74.52644181778093 -74.52644381745625\n",
      "1.073861652089769e-05 0.12955298544349136\n",
      "5.551237769899523e-09 0.12950540574463307\n",
      "set cost params:  19.0 1.0 0.0\n",
      "----- 200\n",
      "interpolate adjoint :  True True True\n",
      "RUN  0 , total integrated cost =  3.52232790470333\n",
      "Gradient descend method:  None\n",
      "RUN  1 , total integrated cost =  3.5223169367169156\n",
      "RUN  2 , total integrated cost =  3.5223169367169125\n",
      "RUN  3 , total integrated cost =  3.522316936716911\n",
      "RUN  4 , total integrated cost =  3.52231693671691\n"
     ]
    },
    {
     "output_type": "stream",
     "name": "stderr",
     "text": [
      "ERROR:root:Problem in initial value trasfer\n"
     ]
    },
    {
     "output_type": "stream",
     "name": "stdout",
     "text": [
      "RUN  5 , total integrated cost =  3.52231693671691\n",
      "Control only changes marginally.\n",
      "RUN  5 , total integrated cost =  3.52231693671691\n",
      "Improved over  5  iterations in  1.4734806530032074  seconds by  0.00031138459327451073  percent.\n",
      "Problem in initial value trasfer:  Vmean_exc -74.52645776602026 -74.52645969205162\n",
      "1.1302868674770234e-05 0.12955298544350402\n",
      "5.551237769899523e-09 0.12950540574463307\n",
      "set cost params:  18.994999999999997 1.0 0.0\n",
      "----- 201\n",
      "interpolate adjoint :  True True True\n",
      "RUN  0 , total integrated cost =  3.522404467615136\n",
      "Gradient descend method:  None\n",
      "RUN  1 , total integrated cost =  3.522392797825795\n",
      "RUN  2 , total integrated cost =  3.522392797825787\n",
      "RUN  3 , total integrated cost =  3.5223927978257854\n"
     ]
    },
    {
     "output_type": "stream",
     "name": "stderr",
     "text": [
      "ERROR:root:Problem in initial value trasfer\n"
     ]
    },
    {
     "output_type": "stream",
     "name": "stdout",
     "text": [
      "RUN  4 , total integrated cost =  3.5223927978257854\n",
      "Control only changes marginally.\n",
      "RUN  4 , total integrated cost =  3.5223927978257854\n",
      "Improved over  4  iterations in  0.9341653040028177  seconds by  0.0003313017984680755  percent.\n",
      "Problem in initial value trasfer:  Vmean_exc -74.52647318695313 -74.52647504177547\n",
      "1.1874195535864932e-05 0.129552985443504\n",
      "5.551237769899523e-09 0.12950540574463307\n",
      "set cost params:  18.990000000000002 1.0 0.0\n",
      "----- 202\n",
      "interpolate adjoint :  True True True\n",
      "RUN  0 , total integrated cost =  3.5224850284487434\n",
      "Gradient descend method:  None\n",
      "RUN  1 , total integrated cost =  3.5224725628579128\n",
      "RUN  2 , total integrated cost =  3.5224725579245053\n",
      "RUN  3 , total integrated cost =  3.522472557909736\n",
      "RUN  4 , total integrated cost =  3.522472557909228\n",
      "RUN  5 , total integrated cost =  3.5224725579092038\n",
      "RUN  6 , total integrated cost =  3.5224725579091953\n",
      "RUN  7 , total integrated cost =  3.522472557909195\n"
     ]
    },
    {
     "output_type": "stream",
     "name": "stderr",
     "text": [
      "ERROR:root:Problem in initial value trasfer\n"
     ]
    },
    {
     "output_type": "stream",
     "name": "stdout",
     "text": [
      "RUN  8 , total integrated cost =  3.522472557909195\n",
      "Control only changes marginally.\n",
      "RUN  8 , total integrated cost =  3.522472557909195\n",
      "Improved over  8  iterations in  1.5099561550014187  seconds by  0.00035402675804618866  percent.\n",
      "Problem in initial value trasfer:  Vmean_exc -74.52648787772986 -74.5264896647148\n",
      "1.2537600249162663e-05 0.1295599382856369\n",
      "5.551237769899523e-09 0.12950540574463307\n",
      "set cost params:  18.985 1.0 0.0\n",
      "----- 203\n",
      "interpolate adjoint :  True True True\n",
      "RUN  0 , total integrated cost =  3.522591078146429\n",
      "Gradient descend method:  None\n",
      "RUN  1 , total integrated cost =  3.5225708299308143\n",
      "RUN  2 , total integrated cost =  3.5225708297007707\n",
      "RUN  3 , total integrated cost =  3.5225708295153484\n",
      "RUN  4 , total integrated cost =  3.522570829397415\n",
      "RUN  5 , total integrated cost =  3.5225707970238265\n",
      "RUN  6 , total integrated cost =  3.5225707860073094\n",
      "RUN  7 , total integrated cost =  3.5225707859534676\n",
      "RUN  8 , total integrated cost =  3.5225707859499686\n",
      "RUN  9 , total integrated cost =  3.522570785949252\n",
      "RUN  10 , total integrated cost =  3.5225707859490742\n",
      "RUN  11 , total integrated cost =  3.5225707859490494\n",
      "RUN  12 , total integrated cost =  3.522570785949034\n",
      "RUN  13 , total integrated cost =  3.522570785949028\n",
      "RUN  14 , total integrated cost =  3.522570785949024\n"
     ]
    },
    {
     "output_type": "stream",
     "name": "stderr",
     "text": [
      "ERROR:root:Problem in initial value trasfer\n"
     ]
    },
    {
     "output_type": "stream",
     "name": "stdout",
     "text": [
      "RUN  15 , total integrated cost =  3.522570785949024\n",
      "Control only changes marginally.\n",
      "RUN  15 , total integrated cost =  3.522570785949024\n",
      "Improved over  15  iterations in  2.263845584995579  seconds by  0.0005760588429097879  percent.\n",
      "Problem in initial value trasfer:  Vmean_exc -74.526501805259 -74.52650352793101\n",
      "1.3334390971625417e-05 0.12957641495990885\n",
      "5.551237769899523e-09 0.12950540574463307\n",
      "set cost params:  18.98 1.0 0.0\n",
      "----- 204\n",
      "interpolate adjoint :  True True True\n",
      "RUN  0 , total integrated cost =  3.522675873673154\n",
      "Gradient descend method:  None\n",
      "RUN  1 , total integrated cost =  3.5226597040466925\n",
      "RUN  2 , total integrated cost =  3.5226597000804953\n",
      "RUN  3 , total integrated cost =  3.5226597000429725\n",
      "RUN  4 , total integrated cost =  3.5226597000413875\n",
      "RUN  5 , total integrated cost =  3.5226597000413054\n"
     ]
    },
    {
     "output_type": "stream",
     "name": "stderr",
     "text": [
      "ERROR:root:Problem in initial value trasfer\n"
     ]
    },
    {
     "output_type": "stream",
     "name": "stdout",
     "text": [
      "RUN  6 , total integrated cost =  3.5226597000413054\n",
      "Control only changes marginally.\n",
      "RUN  6 , total integrated cost =  3.5226597000413054\n",
      "Improved over  6  iterations in  1.1871380000011413  seconds by  0.00045912915147994227  percent.\n",
      "Problem in initial value trasfer:  Vmean_exc -74.52651540999926 -74.52651706984886\n",
      "1.4093626894954332e-05 0.12957775552315604\n",
      "5.551237769899523e-09 0.12950540574463307\n",
      "set cost params:  18.975 1.0 0.0\n",
      "----- 205\n",
      "interpolate adjoint :  True True True\n",
      "RUN  0 , total integrated cost =  3.5227719071280186\n",
      "Gradient descend method:  None\n",
      "RUN  1 , total integrated cost =  3.522753205665553\n",
      "RUN  2 , total integrated cost =  3.5227531656105313\n",
      "RUN  3 , total integrated cost =  3.5227531655175586\n",
      "RUN  4 , total integrated cost =  3.522753165515345\n",
      "RUN  5 , total integrated cost =  3.5227531655152706\n",
      "RUN  6 , total integrated cost =  3.5227531655152564\n",
      "RUN  7 , total integrated cost =  3.522753165515252\n",
      "RUN  8 , total integrated cost =  3.5227531655152515\n"
     ]
    },
    {
     "output_type": "stream",
     "name": "stderr",
     "text": [
      "ERROR:root:Problem in initial value trasfer\n"
     ]
    },
    {
     "output_type": "stream",
     "name": "stdout",
     "text": [
      "RUN  9 , total integrated cost =  3.5227531655152515\n",
      "Control only changes marginally.\n",
      "RUN  9 , total integrated cost =  3.5227531655152515\n",
      "Improved over  9  iterations in  1.6016991260039504  seconds by  0.0005320132345048023  percent.\n",
      "Problem in initial value trasfer:  Vmean_exc -74.52652854369167 -74.52653014289403\n",
      "1.4879435846631512e-05 0.12954677559752023\n",
      "5.551237769899523e-09 0.12950540574463307\n",
      "set cost params:  18.97 1.0 0.0\n",
      "----- 206\n",
      "interpolate adjoint :  True True True\n",
      "RUN  0 , total integrated cost =  3.5228730166222926\n",
      "Gradient descend method:  None\n",
      "RUN  1 , total integrated cost =  3.5228516788267727\n",
      "RUN  2 , total integrated cost =  3.522851668416989\n",
      "RUN  3 , total integrated cost =  3.5228516683823643\n",
      "RUN  4 , total integrated cost =  3.5228516683823594\n",
      "RUN  5 , total integrated cost =  3.5228516683823576\n"
     ]
    },
    {
     "output_type": "stream",
     "name": "stderr",
     "text": [
      "ERROR:root:Problem in initial value trasfer\n"
     ]
    },
    {
     "output_type": "stream",
     "name": "stdout",
     "text": [
      "RUN  6 , total integrated cost =  3.5228516683823563\n",
      "RUN  7 , total integrated cost =  3.5228516683823563\n",
      "Control only changes marginally.\n",
      "RUN  7 , total integrated cost =  3.5228516683823563\n",
      "Improved over  7  iterations in  1.332354670004861  seconds by  0.0006059894817553868  percent.\n",
      "Problem in initial value trasfer:  Vmean_exc -74.52654163533435 -74.52654317408363\n",
      "1.5468740449538463e-05 0.129548324835983\n",
      "5.551237769899523e-09 0.12950540574463307\n",
      "set cost params:  18.965 1.0 0.0\n",
      "----- 207\n",
      "interpolate adjoint :  True True True\n",
      "RUN  0 , total integrated cost =  3.523003188975972\n",
      "Gradient descend method:  None\n",
      "RUN  1 , total integrated cost =  3.522973371011834\n",
      "RUN  2 , total integrated cost =  3.5229733606471036\n",
      "RUN  3 , total integrated cost =  3.5229733606380407\n",
      "RUN  4 , total integrated cost =  3.5229733606375713\n",
      "RUN  5 , total integrated cost =  3.522973360637544\n",
      "RUN  6 , total integrated cost =  3.5229733606375344\n",
      "RUN  7 , total integrated cost =  3.5229733606375264\n"
     ]
    },
    {
     "output_type": "stream",
     "name": "stderr",
     "text": [
      "ERROR:root:Problem in initial value trasfer\n"
     ]
    },
    {
     "output_type": "stream",
     "name": "stdout",
     "text": [
      "RUN  8 , total integrated cost =  3.5229733606375233\n",
      "RUN  9 , total integrated cost =  3.5229733606375233\n",
      "Control only changes marginally.\n",
      "RUN  9 , total integrated cost =  3.5229733606375233\n",
      "Improved over  9  iterations in  1.5008989819980343  seconds by  0.0008466736147738629  percent.\n",
      "Problem in initial value trasfer:  Vmean_exc -74.52655400965247 -74.52655549126105\n",
      "1.6227820381438488e-05 0.1295502494820515\n",
      "5.551237769899523e-09 0.12950540574463307\n",
      "set cost params:  18.96 1.0 0.0\n",
      "----- 208\n",
      "interpolate adjoint :  True True True\n",
      "RUN  0 , total integrated cost =  3.5231058248863443\n",
      "Gradient descend method:  None\n",
      "RUN  1 , total integrated cost =  3.523083664754452\n",
      "RUN  2 , total integrated cost =  3.523083663884532\n",
      "RUN  3 , total integrated cost =  3.523083663872796\n",
      "RUN  4 , total integrated cost =  3.523083663872631\n",
      "RUN  5 , total integrated cost =  3.5230836638726215\n",
      "RUN  6 , total integrated cost =  3.5230836638726197\n",
      "RUN  7 , total integrated cost =  3.5230836638726157\n"
     ]
    },
    {
     "output_type": "stream",
     "name": "stderr",
     "text": [
      "ERROR:root:Problem in initial value trasfer\n"
     ]
    },
    {
     "output_type": "stream",
     "name": "stdout",
     "text": [
      "RUN  8 , total integrated cost =  3.5230836638726113\n",
      "RUN  9 , total integrated cost =  3.5230836638726113\n",
      "Control only changes marginally.\n",
      "RUN  9 , total integrated cost =  3.5230836638726113\n",
      "Improved over  9  iterations in  1.5545508889990742  seconds by  0.0006290192470714828  percent.\n",
      "Problem in initial value trasfer:  Vmean_exc -74.52656624702968 -74.52656767212991\n",
      "1.6805655386451417e-05 0.12955207639934752\n",
      "5.551237769899523e-09 0.12950540574463307\n",
      "set cost params:  18.955000000000002 1.0 0.0\n",
      "----- 209\n",
      "interpolate adjoint :  True True True\n",
      "RUN  0 , total integrated cost =  3.5231946076005136\n",
      "Gradient descend method:  None\n",
      "RUN  1 , total integrated cost =  3.5231800851181476\n",
      "RUN  2 , total integrated cost =  3.5231800560104545\n",
      "RUN  3 , total integrated cost =  3.52318005583832\n",
      "RUN  4 , total integrated cost =  3.5231800558296396\n",
      "RUN  5 , total integrated cost =  3.5231800558293913\n",
      "RUN  6 , total integrated cost =  3.5231800558293833\n",
      "RUN  7 , total integrated cost =  3.5231800558293815\n"
     ]
    },
    {
     "output_type": "stream",
     "name": "stderr",
     "text": [
      "ERROR:root:Problem in initial value trasfer\n"
     ]
    },
    {
     "output_type": "stream",
     "name": "stdout",
     "text": [
      "RUN  8 , total integrated cost =  3.5231800558293815\n",
      "Control only changes marginally.\n",
      "RUN  8 , total integrated cost =  3.5231800558293815\n",
      "Improved over  8  iterations in  1.6618556199973682  seconds by  0.0004130277419420736  percent.\n",
      "Problem in initial value trasfer:  Vmean_exc -74.52657638559536 -74.5265777638789\n",
      "1.760248744708015e-05 0.12954232307987396\n",
      "5.551237769899523e-09 0.12950540574463307\n",
      "set cost params:  18.95 1.0 0.0\n",
      "----- 210\n",
      "interpolate adjoint :  True True True\n",
      "RUN  0 , total integrated cost =  3.5233546038830683\n",
      "Gradient descend method:  None\n",
      "RUN  1 , total integrated cost =  3.5233222375795012\n",
      "RUN  2 , total integrated cost =  3.523322223369572\n",
      "RUN  3 , total integrated cost =  3.523322223369563\n",
      "RUN  4 , total integrated cost =  3.5233222233695627\n",
      "RUN  5 , total integrated cost =  3.523322223369562\n",
      "RUN  6 , total integrated cost =  3.52332222336956\n",
      "RUN  7 , total integrated cost =  3.523322223369559\n",
      "RUN  8 , total integrated cost =  3.5233222233695582\n"
     ]
    },
    {
     "output_type": "stream",
     "name": "stderr",
     "text": [
      "ERROR:root:Problem in initial value trasfer\n"
     ]
    },
    {
     "output_type": "stream",
     "name": "stdout",
     "text": [
      "RUN  9 , total integrated cost =  3.5233222233695582\n",
      "Control only changes marginally.\n",
      "RUN  9 , total integrated cost =  3.5233222233695582\n",
      "Improved over  9  iterations in  2.143946459997096  seconds by  0.0009190251095958502  percent.\n",
      "Problem in initial value trasfer:  Vmean_exc -74.52658726878917 -74.52658859681755\n",
      "1.865602781077629e-05 0.12955202877936792\n",
      "5.551237769899523e-09 0.12950540574463307\n",
      "set cost params:  18.945 1.0 0.0\n",
      "----- 211\n",
      "interpolate adjoint :  True True True\n",
      "RUN  0 , total integrated cost =  3.5234760992280827\n",
      "Gradient descend method:  None\n",
      "RUN  1 , total integrated cost =  3.5234510467930344\n",
      "RUN  2 , total integrated cost =  3.52345104636111\n",
      "RUN  3 , total integrated cost =  3.5234510463588355\n",
      "RUN  4 , total integrated cost =  3.5234510463587565\n",
      "RUN  5 , total integrated cost =  3.5234510463587507\n",
      "RUN  6 , total integrated cost =  3.5234510463587436\n",
      "RUN  7 , total integrated cost =  3.523451046358743\n"
     ]
    },
    {
     "output_type": "stream",
     "name": "stderr",
     "text": [
      "ERROR:root:Problem in initial value trasfer\n"
     ]
    },
    {
     "output_type": "stream",
     "name": "stdout",
     "text": [
      "RUN  8 , total integrated cost =  3.523451046358743\n",
      "Control only changes marginally.\n",
      "RUN  8 , total integrated cost =  3.523451046358743\n",
      "Improved over  8  iterations in  1.9577011889996356  seconds by  0.0007110270833123877  percent.\n",
      "Problem in initial value trasfer:  Vmean_exc -74.52659808333948 -74.52659936142972\n",
      "1.9480085227472608e-05 0.12955698724598014\n",
      "5.551237769899523e-09 0.12950540574463307\n",
      "set cost params:  18.94 1.0 0.0\n",
      "----- 212\n",
      "interpolate adjoint :  True True True\n",
      "RUN  0 , total integrated cost =  3.5236118491973043\n",
      "Gradient descend method:  None\n",
      "RUN  1 , total integrated cost =  3.523586620128801\n",
      "RUN  2 , total integrated cost =  3.5235866199330026\n",
      "RUN  3 , total integrated cost =  3.523586619932969\n",
      "RUN  4 , total integrated cost =  3.5235866199329564\n",
      "RUN  5 , total integrated cost =  3.5235866199329484\n",
      "RUN  6 , total integrated cost =  3.523586619932944\n"
     ]
    },
    {
     "output_type": "stream",
     "name": "stderr",
     "text": [
      "ERROR:root:Problem in initial value trasfer\n"
     ]
    },
    {
     "output_type": "stream",
     "name": "stdout",
     "text": [
      "RUN  7 , total integrated cost =  3.523586619932944\n",
      "Control only changes marginally.\n",
      "RUN  7 , total integrated cost =  3.523586619932944\n",
      "Improved over  7  iterations in  1.6160874770066584  seconds by  0.0007160057758852645  percent.\n",
      "Problem in initial value trasfer:  Vmean_exc -74.52660860897996 -74.52660983846613\n",
      "2.022542049954617e-05 0.12955818547003012\n",
      "5.551237769899523e-09 0.12950540574463307\n",
      "set cost params:  18.935 1.0 0.0\n",
      "----- 213\n",
      "interpolate adjoint :  True True True\n",
      "RUN  0 , total integrated cost =  3.5237535832395417\n",
      "Gradient descend method:  None\n",
      "RUN  1 , total integrated cost =  3.523729357913354\n",
      "RUN  2 , total integrated cost =  3.5237293043200695\n",
      "RUN  3 , total integrated cost =  3.52372930432006\n",
      "RUN  4 , total integrated cost =  3.523729304320057\n"
     ]
    },
    {
     "output_type": "stream",
     "name": "stderr",
     "text": [
      "ERROR:root:Problem in initial value trasfer\n"
     ]
    },
    {
     "output_type": "stream",
     "name": "stdout",
     "text": [
      "RUN  5 , total integrated cost =  3.523729304320057\n",
      "Control only changes marginally.\n",
      "RUN  5 , total integrated cost =  3.523729304320057\n",
      "Improved over  5  iterations in  1.2393003210017923  seconds by  0.0006890073017586928  percent.\n",
      "Problem in initial value trasfer:  Vmean_exc -74.52661842907347 -74.52661961321354\n",
      "2.1329829450796064e-05 0.12959383187281803\n",
      "5.551237769899523e-09 0.12950540574463307\n",
      "set cost params:  18.93 1.0 0.0\n",
      "----- 214\n",
      "interpolate adjoint :  True True True\n",
      "RUN  0 , total integrated cost =  3.523940888370328\n",
      "Gradient descend method:  None\n",
      "RUN  1 , total integrated cost =  3.5239053509161433\n",
      "RUN  2 , total integrated cost =  3.523905350916142\n"
     ]
    },
    {
     "output_type": "stream",
     "name": "stderr",
     "text": [
      "ERROR:root:Problem in initial value trasfer\n"
     ]
    },
    {
     "output_type": "stream",
     "name": "stdout",
     "text": [
      "RUN  3 , total integrated cost =  3.523905350916142\n",
      "Control only changes marginally.\n",
      "RUN  3 , total integrated cost =  3.523905350916142\n",
      "Improved over  3  iterations in  0.8262491349960328  seconds by  0.00100845772706748  percent.\n",
      "Problem in initial value trasfer:  Vmean_exc -74.52662780716005 -74.52662894799512\n",
      "2.2595497842711903e-05 0.12959383187283147\n",
      "5.551237769899523e-09 0.12950540574463307\n",
      "set cost params:  18.925 1.0 0.0\n",
      "----- 215\n",
      "interpolate adjoint :  True True True\n",
      "RUN  0 , total integrated cost =  3.524091263426088\n",
      "Gradient descend method:  None\n",
      "RUN  1 , total integrated cost =  3.524064800988467\n",
      "RUN  2 , total integrated cost =  3.5240648009649718\n",
      "RUN  3 , total integrated cost =  3.524064800944997\n",
      "RUN  4 , total integrated cost =  3.524064800900045\n",
      "RUN  5 , total integrated cost =  3.524064800831887\n",
      "RUN  6 , total integrated cost =  3.5240648008282527\n",
      "RUN  7 , total integrated cost =  3.5240648008282487\n",
      "RUN  8 , total integrated cost =  3.5240648008282474\n"
     ]
    },
    {
     "output_type": "stream",
     "name": "stderr",
     "text": [
      "ERROR:root:Problem in initial value trasfer\n"
     ]
    },
    {
     "output_type": "stream",
     "name": "stdout",
     "text": [
      "RUN  9 , total integrated cost =  3.524064800828246\n",
      "RUN  10 , total integrated cost =  3.524064800828246\n",
      "Control only changes marginally.\n",
      "RUN  10 , total integrated cost =  3.524064800828246\n",
      "Improved over  10  iterations in  1.8965440110041527  seconds by  0.0007509055771777184  percent.\n",
      "Problem in initial value trasfer:  Vmean_exc -74.52663691982453 -74.52663801858017\n",
      "2.3835843997100786e-05 0.12959983118073135\n",
      "5.551237769899523e-09 0.12950540574463307\n",
      "set cost params:  18.919999999999998 1.0 0.0\n",
      "----- 216\n",
      "interpolate adjoint :  True True True\n",
      "RUN  0 , total integrated cost =  3.524260734202969\n",
      "Gradient descend method:  None\n",
      "RUN  1 , total integrated cost =  3.524232584429703\n",
      "RUN  2 , total integrated cost =  3.5242325844296976\n"
     ]
    },
    {
     "output_type": "stream",
     "name": "stderr",
     "text": [
      "ERROR:root:Problem in initial value trasfer\n"
     ]
    },
    {
     "output_type": "stream",
     "name": "stdout",
     "text": [
      "RUN  3 , total integrated cost =  3.5242325844296976\n",
      "Control only changes marginally.\n",
      "RUN  3 , total integrated cost =  3.5242325844296976\n",
      "Improved over  3  iterations in  0.7731179570037057  seconds by  0.0007987426412086052  percent.\n",
      "Problem in initial value trasfer:  Vmean_exc -74.52664566941168 -74.52664672776453\n",
      "2.5183225751182744e-05 0.12959983118073085\n",
      "5.551237769899523e-09 0.12950540574463307\n",
      "set cost params:  18.915 1.0 0.0\n",
      "----- 217\n",
      "interpolate adjoint :  True True True\n",
      "RUN  0 , total integrated cost =  3.52448346684551\n",
      "Gradient descend method:  None\n",
      "RUN  1 , total integrated cost =  3.5244394102487546\n",
      "RUN  2 , total integrated cost =  3.5244393776772167\n",
      "RUN  3 , total integrated cost =  3.524439377677209\n",
      "RUN  4 , total integrated cost =  3.5244393776772083\n",
      "RUN  5 , total integrated cost =  3.524439377677208\n"
     ]
    },
    {
     "output_type": "stream",
     "name": "stderr",
     "text": [
      "ERROR:root:Problem in initial value trasfer\n"
     ]
    },
    {
     "output_type": "stream",
     "name": "stdout",
     "text": [
      "RUN  6 , total integrated cost =  3.524439377677208\n",
      "Control only changes marginally.\n",
      "RUN  6 , total integrated cost =  3.524439377677208\n",
      "Improved over  6  iterations in  1.745552278996911  seconds by  0.001250939853079558  percent.\n",
      "Problem in initial value trasfer:  Vmean_exc -74.52665396448576 -74.5266549845346\n",
      "2.6814971967659313e-05 0.12961959491025868\n",
      "5.551237769899523e-09 0.12950540574463307\n",
      "set cost params:  18.91 1.0 0.0\n",
      "----- 218\n",
      "interpolate adjoint :  True True True\n",
      "RUN  0 , total integrated cost =  3.5246174507723533\n",
      "Gradient descend method:  None\n",
      "RUN  1 , total integrated cost =  3.524594695112345\n",
      "RUN  2 , total integrated cost =  3.524594645481791\n",
      "RUN  3 , total integrated cost =  3.5245945981062317\n",
      "RUN  4 , total integrated cost =  3.5245945976976034\n",
      "RUN  5 , total integrated cost =  3.5245945976754585\n",
      "RUN  6 , total integrated cost =  3.5245945976719826\n",
      "RUN  7 , total integrated cost =  3.5245945976711854\n",
      "RUN  8 , total integrated cost =  3.524594597670977\n",
      "RUN  9 , total integrated cost =  3.5245945976709327\n",
      "RUN  10 , total integrated cost =  3.5245945976709105\n",
      "RUN  11 , total integrated cost =  3.5245945976709074\n",
      "RUN  12 , total integrated cost =  3.524594597670906\n"
     ]
    },
    {
     "output_type": "stream",
     "name": "stderr",
     "text": [
      "ERROR:root:Problem in initial value trasfer\n"
     ]
    },
    {
     "output_type": "stream",
     "name": "stdout",
     "text": [
      "RUN  13 , total integrated cost =  3.524594597670906\n",
      "Control only changes marginally.\n",
      "RUN  13 , total integrated cost =  3.524594597670906\n",
      "Improved over  13  iterations in  2.9131472270019003  seconds by  0.0006483853004226603  percent.\n",
      "Problem in initial value trasfer:  Vmean_exc -74.52666133906229 -74.52666232505766\n",
      "2.7910126302374665e-05 0.12959865529257644\n",
      "5.551237769899523e-09 0.12950540574463307\n",
      "set cost params:  18.905 1.0 0.0\n",
      "----- 219\n",
      "interpolate adjoint :  True True True\n",
      "RUN  0 , total integrated cost =  3.5248263195461904\n",
      "Gradient descend method:  None\n",
      "RUN  1 , total integrated cost =  3.5247897558676824\n",
      "RUN  2 , total integrated cost =  3.524789748626964\n",
      "RUN  3 , total integrated cost =  3.5247897476028975\n",
      "RUN  4 , total integrated cost =  3.52478692345908\n",
      "RUN  5 , total integrated cost =  3.5247846188110303\n",
      "RUN  6 , total integrated cost =  3.524784618246893\n",
      "RUN  7 , total integrated cost =  3.5247846180400084\n",
      "RUN  8 , total integrated cost =  3.5247846174059125\n",
      "RUN  9 , total integrated cost =  3.5247845726191236\n",
      "RUN  10 , total integrated cost =  3.5247845472369197\n",
      "RUN  11 , total integrated cost =  3.5247845469756105\n",
      "RUN  12 , total integrated cost =  3.5247845467263215\n",
      "RUN  13 , total integrated cost =  3.5247845428304028\n",
      "RUN  14 , total integrated cost =  3.5247845287823765\n",
      "RUN  15 , total integrated cost =  3.524784526776038\n",
      "RUN  16 , total integrated cost =  3.524784526539021\n",
      "RUN  17 , total integrated cost =  3.5247845262652033\n",
      "RUN  18 , total integrated cost =  3.524784519761001\n",
      "RUN  19 , total integrated cost =  3.5247845032942853\n",
      "RUN  20 , total integrated cost =  3.524784502285958\n",
      "RUN  30 , total integrated cost =  3.5247843790639672\n"
     ]
    },
    {
     "output_type": "stream",
     "name": "stderr",
     "text": [
      "ERROR:root:Problem in initial value trasfer\n"
     ]
    },
    {
     "output_type": "stream",
     "name": "stdout",
     "text": [
      "RUN  40 , total integrated cost =  3.5247800220054266\n",
      "RUN  40 , total integrated cost =  3.5247800220054266\n",
      "Improved over  40  iterations in  8.479300107006566  seconds by  0.0013134701277977001  percent.\n",
      "Problem in initial value trasfer:  Vmean_exc -74.5266692935678 -74.52667024283181\n",
      "2.923359671377941e-05 0.12956725966631624\n",
      "5.551237769899523e-09 0.12950540574463307\n",
      "set cost params:  18.9 1.0 0.0\n",
      "----- 220\n",
      "interpolate adjoint :  True True True\n",
      "RUN  0 , total integrated cost =  3.5250244057870375\n",
      "Gradient descend method:  None\n",
      "RUN  1 , total integrated cost =  3.5249849339239567\n",
      "RUN  2 , total integrated cost =  3.524984933923953\n",
      "RUN  3 , total integrated cost =  3.5249849339239523\n",
      "RUN  4 , total integrated cost =  3.5249849339239514\n"
     ]
    },
    {
     "output_type": "stream",
     "name": "stderr",
     "text": [
      "ERROR:root:Problem in initial value trasfer\n"
     ]
    },
    {
     "output_type": "stream",
     "name": "stdout",
     "text": [
      "RUN  5 , total integrated cost =  3.5249849339239514\n",
      "Control only changes marginally.\n",
      "RUN  5 , total integrated cost =  3.5249849339239514\n",
      "Improved over  5  iterations in  1.3624953350008582  seconds by  0.0011197614127524957  percent.\n",
      "Problem in initial value trasfer:  Vmean_exc -74.52667692270526 -74.52667783674032\n",
      "3.073520315920849e-05 0.1295672596663205\n",
      "5.551237769899523e-09 0.12950540574463307\n",
      "set cost params:  18.895 1.0 0.0\n",
      "----- 221\n",
      "interpolate adjoint :  True True True\n",
      "RUN  0 , total integrated cost =  3.5252989067147187\n",
      "Gradient descend method:  None\n",
      "RUN  1 , total integrated cost =  3.52523752900214\n",
      "RUN  2 , total integrated cost =  3.5252374992515794\n",
      "RUN  3 , total integrated cost =  3.5252374987804282\n",
      "RUN  4 , total integrated cost =  3.5252374987794153\n",
      "RUN  5 , total integrated cost =  3.5252374987794037\n",
      "RUN  6 , total integrated cost =  3.5252374987794\n",
      "RUN  7 , total integrated cost =  3.5252374987793975\n",
      "RUN  8 , total integrated cost =  3.5252374987793953\n",
      "RUN  9 , total integrated cost =  3.525237498779393\n",
      "RUN  10 , total integrated cost =  3.5252374987793926\n"
     ]
    },
    {
     "output_type": "stream",
     "name": "stderr",
     "text": [
      "ERROR:root:Problem in initial value trasfer\n"
     ]
    },
    {
     "output_type": "stream",
     "name": "stdout",
     "text": [
      "RUN  11 , total integrated cost =  3.5252374987793926\n",
      "Control only changes marginally.\n",
      "RUN  11 , total integrated cost =  3.5252374987793926\n",
      "Improved over  11  iterations in  2.6573779239988653  seconds by  0.0017419213788940624  percent.\n",
      "Problem in initial value trasfer:  Vmean_exc -74.52668395613867 -74.52668483769558\n",
      "3.3003704873108783e-05 0.1295756118889911\n",
      "5.551237769899523e-09 0.12950540574463307\n",
      "set cost params:  18.89 1.0 0.0\n",
      "----- 222\n",
      "interpolate adjoint :  True True True\n",
      "RUN  0 , total integrated cost =  3.5255194907988745\n",
      "Gradient descend method:  None\n",
      "RUN  1 , total integrated cost =  3.525466586728222\n",
      "RUN  2 , total integrated cost =  3.5254665819544186\n",
      "RUN  3 , total integrated cost =  3.5254665685553848\n",
      "RUN  4 , total integrated cost =  3.5254665669888268\n",
      "RUN  5 , total integrated cost =  3.5254665661651203\n",
      "RUN  6 , total integrated cost =  3.5254665622798766\n",
      "RUN  7 , total integrated cost =  3.525466544111616\n",
      "RUN  8 , total integrated cost =  3.525466542881865\n",
      "RUN  9 , total integrated cost =  3.5254665419799625\n",
      "RUN  10 , total integrated cost =  3.525466539632473\n",
      "RUN  11 , total integrated cost =  3.5254665267666017\n",
      "RUN  12 , total integrated cost =  3.5254665251199855\n",
      "RUN  13 , total integrated cost =  3.5254665242964176\n",
      "RUN  14 , total integrated cost =  3.525466520337126\n",
      "RUN  15 , total integrated cost =  3.5254665022852114\n",
      "RUN  16 , total integrated cost =  3.525466501059378\n",
      "RUN  17 , total integrated cost =  3.5254665001685623\n",
      "RUN  18 , total integrated cost =  3.525466497871495\n",
      "RUN  19 , total integrated cost =  3.525466485017616\n",
      "RUN  20 , total integrated cost =  3.5254664833475418\n",
      "RUN  30 , total integrated cost =  3.525466439500946\n"
     ]
    },
    {
     "output_type": "stream",
     "name": "stderr",
     "text": [
      "ERROR:root:Problem in initial value trasfer\n"
     ]
    },
    {
     "output_type": "stream",
     "name": "stdout",
     "text": [
      "RUN  40 , total integrated cost =  3.525466391938997\n",
      "RUN  40 , total integrated cost =  3.525466391938997\n",
      "Improved over  40  iterations in  5.5176818250038195  seconds by  0.0015061286717070743  percent.\n",
      "Problem in initial value trasfer:  Vmean_exc -74.52669125948914 -74.52669210732151\n",
      "3.418452047816086e-05 0.12958686089927335\n",
      "5.551237769899523e-09 0.12950540574463307\n",
      "set cost params:  18.884999999999998 1.0 0.0\n",
      "----- 223\n",
      "interpolate adjoint :  True True True\n",
      "RUN  0 , total integrated cost =  3.5257600215753087\n",
      "Gradient descend method:  None\n",
      "RUN  1 , total integrated cost =  3.5257078471331535\n",
      "RUN  2 , total integrated cost =  3.5257077617068435\n",
      "RUN  3 , total integrated cost =  3.5257077613756276\n",
      "RUN  4 , total integrated cost =  3.5257077613469874\n",
      "RUN  5 , total integrated cost =  3.52570776134691\n",
      "RUN  6 , total integrated cost =  3.5257077613469083\n",
      "RUN  7 , total integrated cost =  3.525707761346907\n"
     ]
    },
    {
     "output_type": "stream",
     "name": "stderr",
     "text": [
      "ERROR:root:Problem in initial value trasfer\n"
     ]
    },
    {
     "output_type": "stream",
     "name": "stdout",
     "text": [
      "RUN  8 , total integrated cost =  3.525707761346907\n",
      "Control only changes marginally.\n",
      "RUN  8 , total integrated cost =  3.525707761346907\n",
      "Improved over  8  iterations in  1.6217614820052404  seconds by  0.0014822400867302576  percent.\n",
      "Problem in initial value trasfer:  Vmean_exc -74.52669825364855 -74.52669906918412\n",
      "3.549711390841243e-05 0.12959527433102974\n",
      "5.551237769899523e-09 0.12950540574463307\n",
      "set cost params:  18.880000000000003 1.0 0.0\n",
      "----- 224\n",
      "interpolate adjoint :  True True True\n",
      "RUN  0 , total integrated cost =  3.5259540525100217\n",
      "Gradient descend method:  None\n",
      "RUN  1 , total integrated cost =  3.525918734709399\n",
      "RUN  2 , total integrated cost =  3.525918732753114\n",
      "RUN  3 , total integrated cost =  3.5259187276083512\n",
      "RUN  4 , total integrated cost =  3.5259187126551788\n",
      "RUN  5 , total integrated cost =  3.5259187099096025\n",
      "RUN  6 , total integrated cost =  3.5259187087543324\n",
      "RUN  7 , total integrated cost =  3.525918542698864\n",
      "RUN  8 , total integrated cost =  3.5259185048729815\n",
      "RUN  9 , total integrated cost =  3.525918502776986\n",
      "RUN  10 , total integrated cost =  3.5259184570016004\n",
      "RUN  11 , total integrated cost =  3.525918430397239\n",
      "RUN  12 , total integrated cost =  3.5259184283654026\n",
      "RUN  13 , total integrated cost =  3.5259184251424425\n",
      "RUN  14 , total integrated cost =  3.5259184112921673\n",
      "RUN  15 , total integrated cost =  3.525918409469821\n",
      "RUN  16 , total integrated cost =  3.5259184084666364\n",
      "RUN  17 , total integrated cost =  3.525918203426607\n",
      "RUN  18 , total integrated cost =  3.5259179789545003\n",
      "RUN  19 , total integrated cost =  3.52591797790398\n",
      "RUN  20 , total integrated cost =  3.5259179712783495\n",
      "RUN  30 , total integrated cost =  3.5259178260104087\n"
     ]
    },
    {
     "output_type": "stream",
     "name": "stderr",
     "text": [
      "ERROR:root:Problem in initial value trasfer\n"
     ]
    },
    {
     "output_type": "stream",
     "name": "stdout",
     "text": [
      "RUN  40 , total integrated cost =  3.525917715140636\n",
      "RUN  40 , total integrated cost =  3.525917715140636\n",
      "Improved over  40  iterations in  6.579766570001084  seconds by  0.0010305684318296926  percent.\n",
      "Problem in initial value trasfer:  Vmean_exc -74.52670415334468 -74.52670494163732\n",
      "3.696739444446724e-05 0.1295916250111765\n",
      "5.551237769899523e-09 0.12950540574463307\n",
      "set cost params:  18.875 1.0 0.0\n",
      "----- 225\n",
      "interpolate adjoint :  True True True\n",
      "RUN  0 , total integrated cost =  3.5263046580758686\n",
      "Gradient descend method:  None\n",
      "RUN  1 , total integrated cost =  3.526229050169662\n",
      "RUN  2 , total integrated cost =  3.526228833311546\n",
      "RUN  3 , total integrated cost =  3.5262288316122765\n",
      "RUN  4 , total integrated cost =  3.5262288315880745\n",
      "RUN  5 , total integrated cost =  3.5262288315880657\n"
     ]
    },
    {
     "output_type": "stream",
     "name": "stderr",
     "text": [
      "ERROR:root:Problem in initial value trasfer\n"
     ]
    },
    {
     "output_type": "stream",
     "name": "stdout",
     "text": [
      "RUN  6 , total integrated cost =  3.5262288315880657\n",
      "Control only changes marginally.\n",
      "RUN  6 , total integrated cost =  3.5262288315880657\n",
      "Improved over  6  iterations in  1.2181747839931631  seconds by  0.0021503101732633922  percent.\n",
      "Problem in initial value trasfer:  Vmean_exc -74.52671044903784 -74.52671120825896\n",
      "3.9074274965406434e-05 0.1295966143181551\n",
      "5.551237769899523e-09 0.12950540574463307\n",
      "set cost params:  18.869999999999997 1.0 0.0\n",
      "----- 226\n",
      "interpolate adjoint :  True True True\n",
      "RUN  0 , total integrated cost =  3.5265686177992093\n",
      "Gradient descend method:  None\n",
      "RUN  1 , total integrated cost =  3.526511063170327\n",
      "RUN  2 , total integrated cost =  3.526511010935122\n",
      "RUN  3 , total integrated cost =  3.526511010865784\n",
      "RUN  4 , total integrated cost =  3.5265110108657822\n",
      "RUN  5 , total integrated cost =  3.5265110108657787\n"
     ]
    },
    {
     "output_type": "stream",
     "name": "stderr",
     "text": [
      "ERROR:root:Problem in initial value trasfer\n"
     ]
    },
    {
     "output_type": "stream",
     "name": "stdout",
     "text": [
      "RUN  6 , total integrated cost =  3.5265110108657787\n",
      "Control only changes marginally.\n",
      "RUN  6 , total integrated cost =  3.5265110108657787\n",
      "Improved over  6  iterations in  1.2136192319958354  seconds by  0.0016335123366104654  percent.\n",
      "Problem in initial value trasfer:  Vmean_exc -74.52671665231385 -74.52671738289024\n",
      "4.0828285877558885e-05 0.12960119304971462\n",
      "5.551237769899523e-09 0.12950540574463307\n",
      "set cost params:  18.865000000000002 1.0 0.0\n",
      "----- 227\n",
      "interpolate adjoint :  True True True\n",
      "RUN  0 , total integrated cost =  3.5268665842765525\n",
      "Gradient descend method:  None\n",
      "RUN  1 , total integrated cost =  3.526808055032353\n",
      "RUN  2 , total integrated cost =  3.5268080349629067\n",
      "RUN  3 , total integrated cost =  3.5268080344646813\n",
      "RUN  4 , total integrated cost =  3.526808034376086\n",
      "RUN  5 , total integrated cost =  3.5268080338203003\n",
      "RUN  6 , total integrated cost =  3.5268079987692693\n",
      "RUN  7 , total integrated cost =  3.526807916654633\n",
      "RUN  8 , total integrated cost =  3.5268078796008804\n",
      "RUN  9 , total integrated cost =  3.5268078792726443\n",
      "RUN  10 , total integrated cost =  3.5268078792655277\n",
      "RUN  11 , total integrated cost =  3.5268078792648\n",
      "RUN  12 , total integrated cost =  3.5268078792647892\n",
      "RUN  13 , total integrated cost =  3.526807879264789\n"
     ]
    },
    {
     "output_type": "stream",
     "name": "stderr",
     "text": [
      "ERROR:root:Problem in initial value trasfer\n"
     ]
    },
    {
     "output_type": "stream",
     "name": "stdout",
     "text": [
      "RUN  14 , total integrated cost =  3.526807879264789\n",
      "Control only changes marginally.\n",
      "RUN  14 , total integrated cost =  3.526807879264789\n",
      "Improved over  14  iterations in  2.5267889669994474  seconds by  0.0016645090014293373  percent.\n",
      "Problem in initial value trasfer:  Vmean_exc -74.52672266949986 -74.52672337229079\n",
      "4.247441318404008e-05 0.12962264658345898\n",
      "5.551237769899523e-09 0.12950540574463307\n",
      "set cost params:  18.86 1.0 0.0\n",
      "----- 228\n",
      "interpolate adjoint :  True True True\n",
      "RUN  0 , total integrated cost =  3.527254160843948\n",
      "Gradient descend method:  None\n",
      "RUN  1 , total integrated cost =  3.527174431172921\n",
      "RUN  2 , total integrated cost =  3.5271742894354046\n",
      "RUN  3 , total integrated cost =  3.5271742893829052\n",
      "RUN  4 , total integrated cost =  3.527174289382423\n",
      "RUN  5 , total integrated cost =  3.5271742893824145\n",
      "RUN  6 , total integrated cost =  3.5271742893824136\n",
      "RUN  7 , total integrated cost =  3.5271742893824127\n"
     ]
    },
    {
     "output_type": "stream",
     "name": "stderr",
     "text": [
      "ERROR:root:Problem in initial value trasfer\n"
     ]
    },
    {
     "output_type": "stream",
     "name": "stdout",
     "text": [
      "RUN  8 , total integrated cost =  3.5271742893824127\n",
      "Control only changes marginally.\n",
      "RUN  8 , total integrated cost =  3.5271742893824127\n",
      "Improved over  8  iterations in  1.498998446004407  seconds by  0.0022644090245051984  percent.\n",
      "Problem in initial value trasfer:  Vmean_exc -74.52672823455329 -74.52672891164657\n",
      "4.514034179532446e-05 0.12962249906477444\n",
      "5.551237769899523e-09 0.12950540574463307\n",
      "set cost params:  18.855 1.0 0.0\n",
      "----- 229\n",
      "interpolate adjoint :  True True True\n",
      "RUN  0 , total integrated cost =  3.5275674340670777\n",
      "Gradient descend method:  None\n",
      "RUN  1 , total integrated cost =  3.5275064237881\n",
      "RUN  2 , total integrated cost =  3.5275063536786195\n",
      "RUN  3 , total integrated cost =  3.5275063518634493\n",
      "RUN  4 , total integrated cost =  3.5275063506233164\n",
      "RUN  5 , total integrated cost =  3.527506330979584\n",
      "RUN  6 , total integrated cost =  3.5275062974258775\n",
      "RUN  7 , total integrated cost =  3.527506294874618\n",
      "RUN  8 , total integrated cost =  3.527506293919916\n",
      "RUN  9 , total integrated cost =  3.527506289444811\n",
      "RUN  10 , total integrated cost =  3.52750625904497\n",
      "RUN  11 , total integrated cost =  3.5275062566536324\n",
      "RUN  12 , total integrated cost =  3.5275062556820567\n",
      "RUN  13 , total integrated cost =  3.52750624708509\n",
      "RUN  14 , total integrated cost =  3.5275062153873846\n",
      "RUN  15 , total integrated cost =  3.527506213067972\n",
      "RUN  16 , total integrated cost =  3.5275062120427343\n",
      "RUN  17 , total integrated cost =  3.5275061963757968\n",
      "RUN  18 , total integrated cost =  3.5275061628122746\n",
      "RUN  19 , total integrated cost =  3.5275061599942776\n",
      "RUN  20 , total integrated cost =  3.5275061590372205\n",
      "RUN  30 , total integrated cost =  3.5275060461579297\n"
     ]
    },
    {
     "output_type": "stream",
     "name": "stderr",
     "text": [
      "ERROR:root:Problem in initial value trasfer\n"
     ]
    },
    {
     "output_type": "stream",
     "name": "stdout",
     "text": [
      "RUN  40 , total integrated cost =  3.527505963502475\n",
      "RUN  40 , total integrated cost =  3.527505963502475\n",
      "Improved over  40  iterations in  5.705124717998842  seconds by  0.0017425765985166208  percent.\n",
      "Problem in initial value trasfer:  Vmean_exc -74.52673370428978 -74.52673435612559\n",
      "4.747771253120129e-05 0.1296219874469743\n",
      "5.551237769899523e-09 0.12950540574463307\n",
      "set cost params:  18.85 1.0 0.0\n",
      "----- 230\n",
      "interpolate adjoint :  True True True\n",
      "RUN  0 , total integrated cost =  3.5278391641224536\n",
      "Gradient descend method:  None\n",
      "RUN  1 , total integrated cost =  3.527796024821958\n",
      "RUN  2 , total integrated cost =  3.5277948727409325\n",
      "RUN  3 , total integrated cost =  3.5277937605627763\n",
      "RUN  4 , total integrated cost =  3.527793755906074\n",
      "RUN  5 , total integrated cost =  3.527793755900078\n",
      "RUN  6 , total integrated cost =  3.527793755899878\n",
      "RUN  7 , total integrated cost =  3.5277937558998693\n",
      "RUN  8 , total integrated cost =  3.5277937558998675\n",
      "RUN  9 , total integrated cost =  3.5277937558998644\n",
      "RUN  10 , total integrated cost =  3.5277937558998627\n"
     ]
    },
    {
     "output_type": "stream",
     "name": "stderr",
     "text": [
      "ERROR:root:Problem in initial value trasfer\n"
     ]
    },
    {
     "output_type": "stream",
     "name": "stdout",
     "text": [
      "RUN  11 , total integrated cost =  3.5277937558998613\n",
      "RUN  12 , total integrated cost =  3.5277937558998613\n",
      "Control only changes marginally.\n",
      "RUN  12 , total integrated cost =  3.5277937558998613\n",
      "Improved over  12  iterations in  2.0345239470043452  seconds by  0.0012871398178901927  percent.\n",
      "Problem in initial value trasfer:  Vmean_exc -74.52673838461197 -74.52673901483557\n",
      "4.966612082992409e-05 0.129617972987804\n",
      "5.551237769899523e-09 0.12950540574463307\n",
      "set cost params:  18.845 1.0 0.0\n",
      "----- 231\n",
      "interpolate adjoint :  True True True\n",
      "RUN  0 , total integrated cost =  3.528224555680154\n",
      "Gradient descend method:  None\n",
      "RUN  1 , total integrated cost =  3.5281588201769933\n",
      "RUN  2 , total integrated cost =  3.5281588201769924\n"
     ]
    },
    {
     "output_type": "stream",
     "name": "stderr",
     "text": [
      "ERROR:root:Problem in initial value trasfer\n"
     ]
    },
    {
     "output_type": "stream",
     "name": "stdout",
     "text": [
      "RUN  3 , total integrated cost =  3.5281588201769924\n",
      "Control only changes marginally.\n",
      "RUN  3 , total integrated cost =  3.5281588201769924\n",
      "Improved over  3  iterations in  0.8972904200054472  seconds by  0.0018631326358189426  percent.\n",
      "Problem in initial value trasfer:  Vmean_exc -74.52674354393552 -74.52674415033498\n",
      "5.187977716829091e-05 0.12961797298781105\n",
      "5.551237769899523e-09 0.12950540574463307\n",
      "set cost params:  18.84 1.0 0.0\n",
      "----- 232\n",
      "interpolate adjoint :  True True True\n",
      "RUN  0 , total integrated cost =  3.52870334349011\n",
      "Gradient descend method:  None\n",
      "RUN  1 , total integrated cost =  3.5286089467879425\n",
      "RUN  2 , total integrated cost =  3.5286088591868783\n",
      "RUN  3 , total integrated cost =  3.5286088591829463\n",
      "RUN  4 , total integrated cost =  3.5286088591826736\n",
      "RUN  5 , total integrated cost =  3.5286088591826457\n",
      "RUN  6 , total integrated cost =  3.5286088591826417\n",
      "RUN  7 , total integrated cost =  3.528608859182641\n"
     ]
    },
    {
     "output_type": "stream",
     "name": "stderr",
     "text": [
      "ERROR:root:Problem in initial value trasfer\n"
     ]
    },
    {
     "output_type": "stream",
     "name": "stdout",
     "text": [
      "RUN  8 , total integrated cost =  3.528608859182641\n",
      "Control only changes marginally.\n",
      "RUN  8 , total integrated cost =  3.528608859182641\n",
      "Improved over  8  iterations in  2.114410873000452  seconds by  0.002677592822948327  percent.\n",
      "Problem in initial value trasfer:  Vmean_exc -74.52674832454572 -74.52674890886985\n",
      "5.529235160571845e-05 0.12967382344995362\n",
      "5.551237769899523e-09 0.12950540574463307\n",
      "set cost params:  18.835 1.0 0.0\n",
      "----- 233\n",
      "interpolate adjoint :  True True True\n",
      "RUN  0 , total integrated cost =  3.5290893297216144\n",
      "Gradient descend method:  None\n",
      "RUN  1 , total integrated cost =  3.5290166276516395\n",
      "RUN  2 , total integrated cost =  3.52901655954869\n",
      "RUN  3 , total integrated cost =  3.529016558828097\n",
      "RUN  4 , total integrated cost =  3.5290165588256404\n",
      "RUN  5 , total integrated cost =  3.529016558825592\n",
      "RUN  6 , total integrated cost =  3.52901655882558\n",
      "RUN  7 , total integrated cost =  3.529016558825575\n",
      "RUN  8 , total integrated cost =  3.529016558825573\n"
     ]
    },
    {
     "output_type": "stream",
     "name": "stderr",
     "text": [
      "ERROR:root:Problem in initial value trasfer\n"
     ]
    },
    {
     "output_type": "stream",
     "name": "stdout",
     "text": [
      "RUN  9 , total integrated cost =  3.5290165588255715\n",
      "RUN  10 , total integrated cost =  3.5290165588255715\n",
      "Control only changes marginally.\n",
      "RUN  10 , total integrated cost =  3.5290165588255715\n",
      "Improved over  10  iterations in  2.2129438960037078  seconds by  0.002062030434586859  percent.\n",
      "Problem in initial value trasfer:  Vmean_exc -74.52675304450597 -74.52675360703482\n",
      "5.816973440691223e-05 0.12968523056138645\n",
      "5.551237769899523e-09 0.12950540574463307\n",
      "set cost params:  18.830000000000002 1.0 0.0\n",
      "----- 234\n",
      "interpolate adjoint :  True True True\n",
      "RUN  0 , total integrated cost =  3.5295237244075106\n",
      "Gradient descend method:  None\n",
      "RUN  1 , total integrated cost =  3.5294455567661687\n",
      "RUN  2 , total integrated cost =  3.529445506994171\n",
      "RUN  3 , total integrated cost =  3.5294455069941666\n",
      "RUN  4 , total integrated cost =  3.529445506994163\n",
      "RUN  5 , total integrated cost =  3.5294455069941626\n"
     ]
    },
    {
     "output_type": "stream",
     "name": "stderr",
     "text": [
      "ERROR:root:Problem in initial value trasfer\n"
     ]
    },
    {
     "output_type": "stream",
     "name": "stdout",
     "text": [
      "RUN  6 , total integrated cost =  3.5294455069941626\n",
      "Control only changes marginally.\n",
      "RUN  6 , total integrated cost =  3.5294455069941626\n",
      "Improved over  6  iterations in  1.3211686320064473  seconds by  0.002216089746255534  percent.\n",
      "Problem in initial value trasfer:  Vmean_exc -74.52675748382599 -74.52675802585551\n",
      "6.194389965562318e-05 0.1297271019269422\n",
      "5.551237769899523e-09 0.12950540574463307\n",
      "set cost params:  18.825 1.0 0.0\n",
      "----- 235\n",
      "interpolate adjoint :  True True True\n",
      "RUN  0 , total integrated cost =  3.529988872293446\n",
      "Gradient descend method:  None\n",
      "RUN  1 , total integrated cost =  3.5298966324125094\n",
      "RUN  2 , total integrated cost =  3.529896566323295\n",
      "RUN  3 , total integrated cost =  3.5298965381868137\n",
      "RUN  4 , total integrated cost =  3.529896467598103\n",
      "RUN  5 , total integrated cost =  3.5298964344743107\n",
      "RUN  6 , total integrated cost =  3.529896428547226\n",
      "RUN  7 , total integrated cost =  3.529896358066711\n",
      "RUN  8 , total integrated cost =  3.5298963568091195\n",
      "RUN  9 , total integrated cost =  3.52989632892388\n",
      "RUN  10 , total integrated cost =  3.52989632744774\n",
      "RUN  11 , total integrated cost =  3.5298963263494807\n",
      "RUN  12 , total integrated cost =  3.529896322749495\n",
      "RUN  13 , total integrated cost =  3.529896229831967\n",
      "RUN  14 , total integrated cost =  3.5298961706124965\n",
      "RUN  15 , total integrated cost =  3.529896168759116\n",
      "RUN  16 , total integrated cost =  3.5298961678721152\n",
      "RUN  17 , total integrated cost =  3.529896163774306\n",
      "RUN  18 , total integrated cost =  3.5298960622347137\n",
      "RUN  19 , total integrated cost =  3.5298959978661553\n",
      "RUN  20 , total integrated cost =  3.5298959962739653\n",
      "RUN  30 , total integrated cost =  3.5298956104761694\n"
     ]
    },
    {
     "output_type": "stream",
     "name": "stderr",
     "text": [
      "ERROR:root:Problem in initial value trasfer\n"
     ]
    },
    {
     "output_type": "stream",
     "name": "stdout",
     "text": [
      "RUN  40 , total integrated cost =  3.5298951863767183\n",
      "RUN  40 , total integrated cost =  3.5298951863767183\n",
      "Improved over  40  iterations in  4.979802463996748  seconds by  0.0026540003415505  percent.\n",
      "Problem in initial value trasfer:  Vmean_exc -74.52676135653167 -74.52676188067825\n",
      "6.497029880325083e-05 0.12970776116396435\n",
      "5.551237769899523e-09 0.12950540574463307\n",
      "set cost params:  18.82 1.0 0.0\n",
      "----- 236\n",
      "interpolate adjoint :  True True True\n",
      "RUN  0 , total integrated cost =  3.5304683913270383\n",
      "Gradient descend method:  None\n",
      "RUN  1 , total integrated cost =  3.5303693439595407\n",
      "RUN  2 , total integrated cost =  3.530369286951182\n",
      "RUN  3 , total integrated cost =  3.5303692864118803\n",
      "RUN  4 , total integrated cost =  3.530369286411876\n",
      "RUN  5 , total integrated cost =  3.530369286411872\n"
     ]
    },
    {
     "output_type": "stream",
     "name": "stderr",
     "text": [
      "ERROR:root:Problem in initial value trasfer\n"
     ]
    },
    {
     "output_type": "stream",
     "name": "stdout",
     "text": [
      "RUN  6 , total integrated cost =  3.530369286411872\n",
      "Control only changes marginally.\n",
      "RUN  6 , total integrated cost =  3.530369286411872\n",
      "Improved over  6  iterations in  1.1876686090035946  seconds by  0.0028071322040403857  percent.\n",
      "Problem in initial value trasfer:  Vmean_exc -74.5267655149849 -74.52676601992908\n",
      "6.897055657744974e-05 0.1297077611639662\n",
      "5.551237769899523e-09 0.12950540574463307\n",
      "set cost params:  18.815 1.0 0.0\n",
      "----- 237\n",
      "interpolate adjoint :  True True True\n",
      "RUN  0 , total integrated cost =  3.530983226955076\n",
      "Gradient descend method:  None\n",
      "RUN  1 , total integrated cost =  3.530867870668634\n",
      "RUN  2 , total integrated cost =  3.5308678706686303\n"
     ]
    },
    {
     "output_type": "stream",
     "name": "stderr",
     "text": [
      "ERROR:root:Problem in initial value trasfer\n"
     ]
    },
    {
     "output_type": "stream",
     "name": "stdout",
     "text": [
      "RUN  3 , total integrated cost =  3.5308678706686303\n",
      "Control only changes marginally.\n",
      "RUN  3 , total integrated cost =  3.5308678706686303\n",
      "Improved over  3  iterations in  0.7215685010014568  seconds by  0.0032669735037416103  percent.\n",
      "Problem in initial value trasfer:  Vmean_exc -74.52676958485993 -74.52677007101074\n",
      "7.260789790852179e-05 0.12970776116393096\n",
      "5.551237769899523e-09 0.12950540574463307\n",
      "set cost params:  18.81 1.0 0.0\n",
      "----- 238\n",
      "interpolate adjoint :  True True True\n",
      "RUN  0 , total integrated cost =  3.5315197721260296\n",
      "Gradient descend method:  None\n",
      "RUN  1 , total integrated cost =  3.5313934177379758\n",
      "RUN  2 , total integrated cost =  3.531393243369129\n",
      "RUN  3 , total integrated cost =  3.5313932350603943\n",
      "RUN  4 , total integrated cost =  3.5313932346688572\n",
      "RUN  5 , total integrated cost =  3.5313932346518753\n",
      "RUN  6 , total integrated cost =  3.5313932346518246\n",
      "RUN  7 , total integrated cost =  3.5313932346518206\n",
      "RUN  8 , total integrated cost =  3.5313932346518175\n"
     ]
    },
    {
     "output_type": "stream",
     "name": "stderr",
     "text": [
      "ERROR:root:Problem in initial value trasfer\n"
     ]
    },
    {
     "output_type": "stream",
     "name": "stdout",
     "text": [
      "RUN  9 , total integrated cost =  3.5313932346518175\n",
      "Control only changes marginally.\n",
      "RUN  9 , total integrated cost =  3.5313932346518175\n",
      "Improved over  9  iterations in  1.4448963390022982  seconds by  0.0035830883692256066  percent.\n",
      "Problem in initial value trasfer:  Vmean_exc -74.52677366538444 -74.52677413269268\n",
      "7.484061484471742e-05 0.12961900221599296\n",
      "5.551237769899523e-09 0.12950540574463307\n",
      "set cost params:  18.805 1.0 0.0\n",
      "----- 239\n",
      "interpolate adjoint :  True True True\n",
      "RUN  0 , total integrated cost =  3.5320677370243176\n",
      "Gradient descend method:  None\n",
      "RUN  1 , total integrated cost =  3.5319469559668164\n",
      "RUN  2 , total integrated cost =  3.5319466839005966\n",
      "RUN  3 , total integrated cost =  3.5319466739345238\n",
      "RUN  4 , total integrated cost =  3.5319466100302424\n",
      "RUN  5 , total integrated cost =  3.531946532301317\n",
      "RUN  6 , total integrated cost =  3.5319465283980787\n",
      "RUN  7 , total integrated cost =  3.5319465279423308\n",
      "RUN  8 , total integrated cost =  3.5319465275624844\n",
      "RUN  9 , total integrated cost =  3.5319465273346045\n",
      "RUN  10 , total integrated cost =  3.531946527146406\n",
      "RUN  11 , total integrated cost =  3.531946520247384\n",
      "RUN  12 , total integrated cost =  3.5319460977348127\n",
      "RUN  13 , total integrated cost =  3.531945814402926\n",
      "RUN  14 , total integrated cost =  3.5319458138381257\n",
      "RUN  15 , total integrated cost =  3.5319458134632713\n",
      "RUN  16 , total integrated cost =  3.531945812963415\n",
      "RUN  17 , total integrated cost =  3.5319458129041497\n",
      "RUN  18 , total integrated cost =  3.531945812399164\n",
      "RUN  19 , total integrated cost =  3.5319458096390197\n",
      "RUN  20 , total integrated cost =  3.5319457330760433\n",
      "RUN  30 , total integrated cost =  3.5319456413067623\n"
     ]
    },
    {
     "output_type": "stream",
     "name": "stderr",
     "text": [
      "ERROR:root:Problem in initial value trasfer\n"
     ]
    },
    {
     "output_type": "stream",
     "name": "stdout",
     "text": [
      "RUN  40 , total integrated cost =  3.5319455124601418\n",
      "RUN  40 , total integrated cost =  3.5319455124601418\n",
      "Improved over  40  iterations in  5.848074984001869  seconds by  0.003460425260101374  percent.\n",
      "Problem in initial value trasfer:  Vmean_exc -74.52677706677902 -74.52677751838073\n",
      "7.786081340433112e-05 0.12970349942307696\n",
      "5.551237769899523e-09 0.12950540574463307\n",
      "set cost params:  18.8 1.0 0.0\n",
      "----- 240\n",
      "interpolate adjoint :  True True True\n",
      "RUN  0 , total integrated cost =  3.5326502138634406\n",
      "Gradient descend method:  None\n",
      "RUN  1 , total integrated cost =  3.532528704341606\n",
      "RUN  2 , total integrated cost =  3.532528591575334\n",
      "RUN  3 , total integrated cost =  3.5325285906773805\n",
      "RUN  4 , total integrated cost =  3.5325285906516757\n",
      "RUN  5 , total integrated cost =  3.5325285906515105\n",
      "RUN  6 , total integrated cost =  3.5325285906514985\n",
      "RUN  7 , total integrated cost =  3.532528590651496\n"
     ]
    },
    {
     "output_type": "stream",
     "name": "stderr",
     "text": [
      "ERROR:root:Problem in initial value trasfer\n"
     ]
    },
    {
     "output_type": "stream",
     "name": "stdout",
     "text": [
      "RUN  8 , total integrated cost =  3.532528590651496\n",
      "Control only changes marginally.\n",
      "RUN  8 , total integrated cost =  3.532528590651496\n",
      "Improved over  8  iterations in  1.270548777996737  seconds by  0.0034428319981287814  percent.\n",
      "Problem in initial value trasfer:  Vmean_exc -74.52678067330962 -74.52678110825752\n",
      "8.250622497355889e-05 0.12970982951249727\n",
      "5.551237769899523e-09 0.12950540574463307\n",
      "set cost params:  18.794999999999998 1.0 0.0\n",
      "----- 241\n",
      "interpolate adjoint :  True True True\n",
      "RUN  0 , total integrated cost =  3.5332785437452903\n",
      "Gradient descend method:  None\n",
      "RUN  1 , total integrated cost =  3.533142989358401\n",
      "RUN  2 , total integrated cost =  3.533142731007365\n",
      "RUN  3 , total integrated cost =  3.5331427263118194\n",
      "RUN  4 , total integrated cost =  3.533142726091688\n",
      "RUN  5 , total integrated cost =  3.5331427252713\n",
      "RUN  6 , total integrated cost =  3.5331427161048037\n",
      "RUN  7 , total integrated cost =  3.533142579993603\n",
      "RUN  8 , total integrated cost =  3.5331425144796627\n",
      "RUN  9 , total integrated cost =  3.533142514387159\n",
      "RUN  10 , total integrated cost =  3.5331425143723334\n",
      "RUN  11 , total integrated cost =  3.533142514371699\n",
      "RUN  12 , total integrated cost =  3.533142514371697\n",
      "RUN  13 , total integrated cost =  3.5331425143716957\n",
      "RUN  14 , total integrated cost =  3.5331425143716926\n",
      "RUN  15 , total integrated cost =  3.533142514371692\n"
     ]
    },
    {
     "output_type": "stream",
     "name": "stderr",
     "text": [
      "ERROR:root:Problem in initial value trasfer\n"
     ]
    },
    {
     "output_type": "stream",
     "name": "stdout",
     "text": [
      "RUN  16 , total integrated cost =  3.533142514371692\n",
      "Control only changes marginally.\n",
      "RUN  16 , total integrated cost =  3.533142514371692\n",
      "Improved over  16  iterations in  2.3453897850049543  seconds by  0.003849947631181294  percent.\n",
      "Problem in initial value trasfer:  Vmean_exc -74.52678428230367 -74.52678470058638\n",
      "8.566342629981119e-05 0.12978571875298964\n",
      "5.551237769899523e-09 0.12950540574463307\n",
      "set cost params:  18.79 1.0 0.0\n",
      "----- 242\n",
      "interpolate adjoint :  True True True\n",
      "RUN  0 , total integrated cost =  3.5340847962987314\n",
      "Gradient descend method:  None\n",
      "RUN  1 , total integrated cost =  3.533900555787332\n",
      "RUN  2 , total integrated cost =  3.5339004321078584\n",
      "RUN  3 , total integrated cost =  3.533900432107854\n",
      "RUN  4 , total integrated cost =  3.5339004321078504\n",
      "RUN  5 , total integrated cost =  3.533900432107849\n"
     ]
    },
    {
     "output_type": "stream",
     "name": "stderr",
     "text": [
      "ERROR:root:Problem in initial value trasfer\n"
     ]
    },
    {
     "output_type": "stream",
     "name": "stdout",
     "text": [
      "RUN  6 , total integrated cost =  3.533900432107849\n",
      "Control only changes marginally.\n",
      "RUN  6 , total integrated cost =  3.533900432107849\n",
      "Improved over  6  iterations in  1.093579291999049  seconds by  0.005216744971008325  percent.\n",
      "Problem in initial value trasfer:  Vmean_exc -74.52678762512554 -74.52678802797217\n",
      "9.08443790987253e-05 0.1297976264470269\n",
      "5.551237769899523e-09 0.12950540574463307\n",
      "set cost params:  18.785 1.0 0.0\n",
      "----- 243\n",
      "interpolate adjoint :  True True True\n",
      "RUN  0 , total integrated cost =  3.5345668845969076\n",
      "Gradient descend method:  None\n",
      "RUN  1 , total integrated cost =  3.534470474698926\n",
      "RUN  2 , total integrated cost =  3.534470241753929\n",
      "RUN  3 , total integrated cost =  3.534470241753924\n",
      "RUN  4 , total integrated cost =  3.534470241753922\n"
     ]
    },
    {
     "output_type": "stream",
     "name": "stderr",
     "text": [
      "ERROR:root:Problem in initial value trasfer\n"
     ]
    },
    {
     "output_type": "stream",
     "name": "stdout",
     "text": [
      "RUN  5 , total integrated cost =  3.534470241753922\n",
      "Control only changes marginally.\n",
      "RUN  5 , total integrated cost =  3.534470241753922\n",
      "Improved over  5  iterations in  1.1617672130014398  seconds by  0.0027342202352116374  percent.\n",
      "Problem in initial value trasfer:  Vmean_exc -74.52679058914761 -74.52679097830735\n",
      "9.4170934995492e-05 0.12988388905295706\n",
      "5.551237769899523e-09 0.12950540574463307\n",
      "set cost params:  18.78 1.0 0.0\n",
      "----- 244\n",
      "interpolate adjoint :  True True True\n",
      "RUN  0 , total integrated cost =  3.5353282703744484\n",
      "Gradient descend method:  None\n",
      "RUN  1 , total integrated cost =  3.53518754392258\n",
      "RUN  2 , total integrated cost =  3.5351873404893626\n",
      "RUN  3 , total integrated cost =  3.5351873013103936\n",
      "RUN  4 , total integrated cost =  3.535187249532643\n",
      "RUN  5 , total integrated cost =  3.535187135353292\n",
      "RUN  6 , total integrated cost =  3.535187121531784\n",
      "RUN  7 , total integrated cost =  3.535184209961059\n",
      "RUN  8 , total integrated cost =  3.535181779439075\n",
      "RUN  9 , total integrated cost =  3.535181772753286\n",
      "RUN  10 , total integrated cost =  3.5351813996053782\n",
      "RUN  11 , total integrated cost =  3.5351810010271576\n",
      "RUN  12 , total integrated cost =  3.53518099483044\n",
      "RUN  13 , total integrated cost =  3.5351807231742707\n",
      "RUN  14 , total integrated cost =  3.535180371292073\n",
      "RUN  15 , total integrated cost =  3.5351803650668607\n",
      "RUN  16 , total integrated cost =  3.5351793005135685\n",
      "RUN  17 , total integrated cost =  3.535178308450246\n",
      "RUN  18 , total integrated cost =  3.5351782991318927\n",
      "RUN  19 , total integrated cost =  3.5351782860839154\n",
      "RUN  20 , total integrated cost =  3.535178186593716\n",
      "RUN  30 , total integrated cost =  3.5351751748491416\n"
     ]
    },
    {
     "output_type": "stream",
     "name": "stderr",
     "text": [
      "ERROR:root:Problem in initial value trasfer\n"
     ]
    },
    {
     "output_type": "stream",
     "name": "stdout",
     "text": [
      "RUN  40 , total integrated cost =  3.5351712483225857\n",
      "RUN  40 , total integrated cost =  3.5351712483225857\n",
      "Improved over  40  iterations in  5.7680748970014974  seconds by  0.004441512636276457  percent.\n",
      "Problem in initial value trasfer:  Vmean_exc -74.5267937166789 -74.52679409139668\n",
      "9.913479656602487e-05 0.12975134062406565\n",
      "5.551237769899523e-09 0.12950540574463307\n",
      "set cost params:  18.775 1.0 0.0\n",
      "----- 245\n",
      "interpolate adjoint :  True True True\n",
      "RUN  0 , total integrated cost =  3.5360737794559207\n",
      "Gradient descend method:  None\n",
      "RUN  1 , total integrated cost =  3.535925201623907\n",
      "RUN  2 , total integrated cost =  3.5359251883346854\n",
      "RUN  3 , total integrated cost =  3.535925188334679\n",
      "RUN  4 , total integrated cost =  3.5359251883346747\n"
     ]
    },
    {
     "output_type": "stream",
     "name": "stderr",
     "text": [
      "ERROR:root:Problem in initial value trasfer\n"
     ]
    },
    {
     "output_type": "stream",
     "name": "stdout",
     "text": [
      "RUN  5 , total integrated cost =  3.5359251883346747\n",
      "Control only changes marginally.\n",
      "RUN  5 , total integrated cost =  3.5359251883346747\n",
      "Improved over  5  iterations in  0.972516147994611  seconds by  0.004202149912970299  percent.\n",
      "Problem in initial value trasfer:  Vmean_exc -74.52679678950216 -74.52679715003063\n",
      "0.00010371182050905792 0.12976355869834075\n",
      "5.551237769899523e-09 0.12950540574463307\n",
      "set cost params:  18.77 1.0 0.0\n",
      "----- 246\n",
      "interpolate adjoint :  True True True\n",
      "RUN  0 , total integrated cost =  3.5370636645848164\n",
      "Gradient descend method:  None\n",
      "RUN  1 , total integrated cost =  3.536855601651465\n",
      "RUN  2 , total integrated cost =  3.5368554858523638\n",
      "RUN  3 , total integrated cost =  3.536855457814184\n",
      "RUN  4 , total integrated cost =  3.536855446961401\n",
      "RUN  5 , total integrated cost =  3.5368552675707856\n",
      "RUN  6 , total integrated cost =  3.53685522705531\n",
      "RUN  7 , total integrated cost =  3.536855217469671\n",
      "RUN  8 , total integrated cost =  3.5368532767898624\n",
      "RUN  9 , total integrated cost =  3.5368514933552504\n",
      "RUN  10 , total integrated cost =  3.536851477043139\n",
      "RUN  11 , total integrated cost =  3.5368513104897694\n",
      "RUN  12 , total integrated cost =  3.5368512632181486\n",
      "RUN  13 , total integrated cost =  3.53685122154782\n",
      "RUN  14 , total integrated cost =  3.5368510977125527\n",
      "RUN  15 , total integrated cost =  3.5368510831672304\n",
      "RUN  16 , total integrated cost =  3.536850975668639\n",
      "RUN  17 , total integrated cost =  3.5368507898555506\n",
      "RUN  18 , total integrated cost =  3.536850776050321\n",
      "RUN  19 , total integrated cost =  3.53685065662521\n",
      "RUN  20 , total integrated cost =  3.5368504821062277\n",
      "RUN  30 , total integrated cost =  3.5368491065060863\n"
     ]
    },
    {
     "output_type": "stream",
     "name": "stderr",
     "text": [
      "ERROR:root:Problem in initial value trasfer\n"
     ]
    },
    {
     "output_type": "stream",
     "name": "stdout",
     "text": [
      "RUN  40 , total integrated cost =  3.536846330257956\n",
      "RUN  40 , total integrated cost =  3.536846330257956\n",
      "Improved over  40  iterations in  5.355571081003291  seconds by  0.00614448445010396  percent.\n",
      "Problem in initial value trasfer:  Vmean_exc -74.52679978028063 -74.52680012699864\n",
      "0.00010757293035536808 0.12976134249765955\n",
      "5.551237769899523e-09 0.12950540574463307\n",
      "set cost params:  18.765 1.0 0.0\n",
      "----- 247\n",
      "interpolate adjoint :  True True True\n",
      "RUN  0 , total integrated cost =  3.5376335603658022\n",
      "Gradient descend method:  None\n",
      "RUN  1 , total integrated cost =  3.5375442273000846\n",
      "RUN  2 , total integrated cost =  3.5375438274317976\n",
      "RUN  3 , total integrated cost =  3.53754381793044\n",
      "RUN  4 , total integrated cost =  3.5375438176748166\n",
      "RUN  5 , total integrated cost =  3.537543817660489\n",
      "RUN  6 , total integrated cost =  3.537543817659788\n"
     ]
    },
    {
     "output_type": "stream",
     "name": "stderr",
     "text": [
      "ERROR:root:Problem in initial value trasfer\n"
     ]
    },
    {
     "output_type": "stream",
     "name": "stdout",
     "text": [
      "RUN  7 , total integrated cost =  3.5375438176597878\n",
      "RUN  8 , total integrated cost =  3.5375438176597878\n",
      "Control only changes marginally.\n",
      "RUN  8 , total integrated cost =  3.5375438176597878\n",
      "Improved over  8  iterations in  1.185637742994004  seconds by  0.002536800504714165  percent.\n",
      "Problem in initial value trasfer:  Vmean_exc -74.52680218767128 -74.52680252327272\n",
      "0.00011478431830441232 0.12976138003756357\n",
      "5.551237769899523e-09 0.12950540574463307\n",
      "set cost params:  18.759999999999998 1.0 0.0\n",
      "----- 248\n",
      "interpolate adjoint :  True True True\n",
      "RUN  0 , total integrated cost =  3.538585410981237\n",
      "Gradient descend method:  None\n",
      "RUN  1 , total integrated cost =  3.538422458122876\n",
      "RUN  2 , total integrated cost =  3.538422300601443\n",
      "RUN  3 , total integrated cost =  3.5384222759841366\n",
      "RUN  4 , total integrated cost =  3.5384222150025684\n",
      "RUN  5 , total integrated cost =  3.538422063587638\n",
      "RUN  6 , total integrated cost =  3.538422021386235\n",
      "RUN  7 , total integrated cost =  3.538422003206536\n",
      "RUN  8 , total integrated cost =  3.5384216742584975\n",
      "RUN  9 , total integrated cost =  3.538421629781362\n",
      "RUN  10 , total integrated cost =  3.538421618666\n",
      "RUN  11 , total integrated cost =  3.5384202068331256\n",
      "RUN  12 , total integrated cost =  3.5384190797266393\n",
      "RUN  13 , total integrated cost =  3.538419037465943\n",
      "RUN  14 , total integrated cost =  3.538418864711195\n",
      "RUN  15 , total integrated cost =  3.538418825063893\n",
      "RUN  16 , total integrated cost =  3.538418791544242\n",
      "RUN  17 , total integrated cost =  3.538418608549088\n",
      "RUN  18 , total integrated cost =  3.5384185781139927\n",
      "RUN  19 , total integrated cost =  3.5384185665380667\n",
      "RUN  20 , total integrated cost =  3.538416799502086\n",
      "RUN  30 , total integrated cost =  3.538414386723013\n"
     ]
    },
    {
     "output_type": "stream",
     "name": "stderr",
     "text": [
      "ERROR:root:Problem in initial value trasfer\n"
     ]
    },
    {
     "output_type": "stream",
     "name": "stdout",
     "text": [
      "RUN  40 , total integrated cost =  3.5384136227791205\n",
      "RUN  40 , total integrated cost =  3.5384136227791205\n",
      "Improved over  40  iterations in  5.286137385999609  seconds by  0.004854714021689688  percent.\n",
      "Problem in initial value trasfer:  Vmean_exc -74.52680487336947 -74.52680519656924\n",
      "0.00012155938115897299 0.12980875735403113\n",
      "5.551237769899523e-09 0.12950540574463307\n",
      "set cost params:  18.755000000000003 1.0 0.0\n",
      "----- 249\n",
      "interpolate adjoint :  True True True\n",
      "RUN  0 , total integrated cost =  3.5395190144938495\n",
      "Gradient descend method:  None\n",
      "RUN  1 , total integrated cost =  3.539337895359859\n",
      "RUN  2 , total integrated cost =  3.5393377149652525\n",
      "RUN  3 , total integrated cost =  3.539337658795091\n",
      "RUN  4 , total integrated cost =  3.5393374579072296\n",
      "RUN  5 , total integrated cost =  3.5393373529196492\n",
      "RUN  6 , total integrated cost =  3.5393371236568467\n",
      "RUN  7 , total integrated cost =  3.539336868366718\n",
      "RUN  8 , total integrated cost =  3.539336826764006\n",
      "RUN  9 , total integrated cost =  3.5393365924219853\n",
      "RUN  10 , total integrated cost =  3.53933646652807\n",
      "RUN  11 , total integrated cost =  3.5393363220488907\n",
      "RUN  12 , total integrated cost =  3.539336168468077\n",
      "RUN  13 , total integrated cost =  3.539336103806722\n",
      "RUN  14 , total integrated cost =  3.539334463672076\n",
      "RUN  15 , total integrated cost =  3.5393327150435243\n",
      "RUN  16 , total integrated cost =  3.539332673784587\n",
      "RUN  17 , total integrated cost =  3.5393324797115726\n",
      "RUN  18 , total integrated cost =  3.539332395173613\n",
      "RUN  19 , total integrated cost =  3.539332164859932\n",
      "RUN  20 , total integrated cost =  3.5393318667397904\n",
      "RUN  30 , total integrated cost =  3.5393302196920224\n"
     ]
    },
    {
     "output_type": "stream",
     "name": "stderr",
     "text": [
      "ERROR:root:Problem in initial value trasfer\n"
     ]
    },
    {
     "output_type": "stream",
     "name": "stdout",
     "text": [
      "RUN  40 , total integrated cost =  3.539328570435337\n",
      "RUN  40 , total integrated cost =  3.539328570435337\n",
      "Improved over  40  iterations in  5.363098479996552  seconds by  0.005380506722318046  percent.\n",
      "Problem in initial value trasfer:  Vmean_exc -74.52680750453108 -74.526807815581\n",
      "0.00012748088729555725 0.12987153966268652\n",
      "5.551237769899523e-09 0.12950540574463307\n",
      "set cost params:  18.75 1.0 0.0\n",
      "----- 250\n",
      "interpolate adjoint :  True True True\n",
      "RUN  0 , total integrated cost =  3.540491799347974\n",
      "Gradient descend method:  None\n",
      "RUN  1 , total integrated cost =  3.5402998638997643\n",
      "RUN  2 , total integrated cost =  3.5402998374451826\n",
      "RUN  3 , total integrated cost =  3.540299669007716\n",
      "RUN  4 , total integrated cost =  3.5402996430299187\n",
      "RUN  5 , total integrated cost =  3.540299638519456\n",
      "RUN  6 , total integrated cost =  3.540299605454415\n",
      "RUN  7 , total integrated cost =  3.5402994292021175\n",
      "RUN  8 , total integrated cost =  3.5402994048705145\n",
      "RUN  9 , total integrated cost =  3.540299400334739\n",
      "RUN  10 , total integrated cost =  3.540299363212159\n",
      "RUN  11 , total integrated cost =  3.5402991818129204\n",
      "RUN  12 , total integrated cost =  3.54029916151548\n",
      "RUN  13 , total integrated cost =  3.5402991565316198\n",
      "RUN  14 , total integrated cost =  3.5402986742904665\n",
      "RUN  15 , total integrated cost =  3.540297978452211\n",
      "RUN  16 , total integrated cost =  3.5402979626303006\n",
      "RUN  17 , total integrated cost =  3.5402979567485136\n",
      "RUN  18 , total integrated cost =  3.5402013285332368\n",
      "RUN  19 , total integrated cost =  3.540181875816697\n",
      "RUN  20 , total integrated cost =  3.540181837102724\n",
      "RUN  30 , total integrated cost =  3.540175927063103\n"
     ]
    },
    {
     "output_type": "stream",
     "name": "stderr",
     "text": [
      "ERROR:root:Problem in initial value trasfer\n"
     ]
    },
    {
     "output_type": "stream",
     "name": "stdout",
     "text": [
      "RUN  40 , total integrated cost =  3.5401741181195368\n",
      "RUN  40 , total integrated cost =  3.5401741181195368\n",
      "Improved over  40  iterations in  5.4160145679998095  seconds by  0.008972799442602764  percent.\n",
      "Problem in initial value trasfer:  Vmean_exc -74.5268096705465 -74.52680997159445\n",
      "0.00013129951720771628 0.12988915149824937\n",
      "5.551237769899523e-09 0.12950540574463307\n",
      "set cost params:  18.744999999999997 1.0 0.0\n",
      "----- 251\n",
      "interpolate adjoint :  True True True\n",
      "RUN  0 , total integrated cost =  3.5413796804183333\n",
      "Gradient descend method:  None\n",
      "RUN  1 , total integrated cost =  3.5411850791796438\n",
      "RUN  2 , total integrated cost =  3.5411848186710966\n",
      "RUN  3 , total integrated cost =  3.541184814811553\n",
      "RUN  4 , total integrated cost =  3.541184814811551\n"
     ]
    },
    {
     "output_type": "stream",
     "name": "stderr",
     "text": [
      "ERROR:root:Problem in initial value trasfer\n"
     ]
    },
    {
     "output_type": "stream",
     "name": "stdout",
     "text": [
      "RUN  5 , total integrated cost =  3.541184814811551\n",
      "Control only changes marginally.\n",
      "RUN  5 , total integrated cost =  3.541184814811551\n",
      "Improved over  5  iterations in  0.966509785001108  seconds by  0.005502533598971127  percent.\n",
      "Problem in initial value trasfer:  Vmean_exc -74.52681205218552 -74.52681234223583\n",
      "0.00014022186421284983 0.12988915149776317\n",
      "5.551237769899523e-09 0.12950540574463307\n",
      "set cost params:  18.740000000000002 1.0 0.0\n",
      "----- 252\n",
      "interpolate adjoint :  True True True\n",
      "RUN  0 , total integrated cost =  3.542484257226333\n",
      "Gradient descend method:  None\n",
      "RUN  1 , total integrated cost =  3.5422509733693226\n",
      "RUN  2 , total integrated cost =  3.542250387889707\n",
      "RUN  3 , total integrated cost =  3.542250355241815\n",
      "RUN  4 , total integrated cost =  3.5422498177784862\n",
      "RUN  5 , total integrated cost =  3.5422497285324996\n",
      "RUN  6 , total integrated cost =  3.542249712545353\n",
      "RUN  7 , total integrated cost =  3.542248537364505\n",
      "RUN  8 , total integrated cost =  3.5422470872949208\n",
      "RUN  9 , total integrated cost =  3.542247071226415\n",
      "RUN  10 , total integrated cost =  3.5422468966554432\n",
      "RUN  11 , total integrated cost =  3.5422465157334218\n",
      "RUN  12 , total integrated cost =  3.542246500936539\n",
      "RUN  13 , total integrated cost =  3.5422464746953537\n",
      "RUN  14 , total integrated cost =  3.5422462860880204\n",
      "RUN  15 , total integrated cost =  3.5422462387899936\n",
      "RUN  16 , total integrated cost =  3.5422462257890883\n",
      "RUN  17 , total integrated cost =  3.5422460843632635\n",
      "RUN  18 , total integrated cost =  3.542245747829605\n",
      "RUN  19 , total integrated cost =  3.542245735714793\n",
      "RUN  20 , total integrated cost =  3.542245721910383\n",
      "RUN  30 , total integrated cost =  3.5422441091403267\n"
     ]
    },
    {
     "output_type": "stream",
     "name": "stderr",
     "text": [
      "ERROR:root:Problem in initial value trasfer\n"
     ]
    },
    {
     "output_type": "stream",
     "name": "stdout",
     "text": [
      "RUN  40 , total integrated cost =  3.5422421012325023\n",
      "RUN  40 , total integrated cost =  3.5422421012325023\n",
      "Improved over  40  iterations in  5.15695177300222  seconds by  0.006835767677344506  percent.\n",
      "Problem in initial value trasfer:  Vmean_exc -74.5268143728366 -74.52681465217088\n",
      "0.0001489968074638352 0.12990120743951358\n",
      "5.551237769899523e-09 0.12950540574463307\n",
      "set cost params:  18.735 1.0 0.0\n",
      "----- 253\n",
      "interpolate adjoint :  True True True\n",
      "RUN  0 , total integrated cost =  3.543932410254959\n",
      "Gradient descend method:  None\n",
      "RUN  1 , total integrated cost =  3.5435573757213086\n",
      "RUN  2 , total integrated cost =  3.543556296669934\n",
      "RUN  3 , total integrated cost =  3.543556296669928\n",
      "RUN  4 , total integrated cost =  3.543556296669925\n",
      "RUN  5 , total integrated cost =  3.5435562966699212\n",
      "RUN  6 , total integrated cost =  3.5435562966699203\n"
     ]
    },
    {
     "output_type": "stream",
     "name": "stderr",
     "text": [
      "ERROR:root:Problem in initial value trasfer\n"
     ]
    },
    {
     "output_type": "stream",
     "name": "stdout",
     "text": [
      "RUN  7 , total integrated cost =  3.5435562966699203\n",
      "Control only changes marginally.\n",
      "RUN  7 , total integrated cost =  3.5435562966699203\n",
      "Improved over  7  iterations in  1.467642497002089  seconds by  0.010612888212833127  percent.\n",
      "Problem in initial value trasfer:  Vmean_exc -74.52681662944856 -74.52681689836253\n",
      "0.00015755996557028197 0.12990000352341696\n",
      "5.551237769899523e-09 0.12950540574463307\n",
      "set cost params:  18.73 1.0 0.0\n",
      "----- 254\n",
      "interpolate adjoint :  True True True\n",
      "RUN  0 , total integrated cost =  3.5447470792243343\n",
      "Gradient descend method:  None\n",
      "RUN  1 , total integrated cost =  3.5445469782112093\n",
      "RUN  2 , total integrated cost =  3.544546755927653\n",
      "RUN  3 , total integrated cost =  3.5445466911470476\n",
      "RUN  4 , total integrated cost =  3.544544140924291\n",
      "RUN  5 , total integrated cost =  3.544542675124999\n",
      "RUN  6 , total integrated cost =  3.5445426106142746\n",
      "RUN  7 , total integrated cost =  3.5445423472293855\n",
      "RUN  8 , total integrated cost =  3.544542223745461\n",
      "RUN  9 , total integrated cost =  3.544539984170331\n",
      "RUN  10 , total integrated cost =  3.5445386758501782\n",
      "RUN  11 , total integrated cost =  3.5445386199575384\n",
      "RUN  12 , total integrated cost =  3.544538050959685\n",
      "RUN  13 , total integrated cost =  3.5445376766465477\n",
      "RUN  14 , total integrated cost =  3.5445360555864625\n",
      "RUN  15 , total integrated cost =  3.5445350153656623\n",
      "RUN  16 , total integrated cost =  3.5445349572490774\n",
      "RUN  17 , total integrated cost =  3.544534524279406\n",
      "RUN  18 , total integrated cost =  3.544534343292211\n",
      "RUN  19 , total integrated cost =  3.5445277586088526\n",
      "RUN  20 , total integrated cost =  3.5445191731854266\n",
      "RUN  30 , total integrated cost =  3.544501245922525\n"
     ]
    },
    {
     "output_type": "stream",
     "name": "stderr",
     "text": [
      "ERROR:root:Problem in initial value trasfer\n"
     ]
    },
    {
     "output_type": "stream",
     "name": "stdout",
     "text": [
      "RUN  40 , total integrated cost =  3.5444994452378142\n",
      "RUN  40 , total integrated cost =  3.5444994452378142\n",
      "Improved over  40  iterations in  5.339308490998519  seconds by  0.0069859423249596375  percent.\n",
      "Problem in initial value trasfer:  Vmean_exc -74.52681866315422 -74.5268189226772\n",
      "0.0001615591439543958 0.1299735387702522\n",
      "5.551237769899523e-09 0.12950540574463307\n",
      "set cost params:  18.725 1.0 0.0\n",
      "----- 255\n",
      "interpolate adjoint :  True True True\n",
      "RUN  0 , total integrated cost =  3.5460236739761313\n",
      "Gradient descend method:  None\n",
      "RUN  1 , total integrated cost =  3.5457422330288875\n",
      "RUN  2 , total integrated cost =  3.5457420770712007\n",
      "RUN  3 , total integrated cost =  3.545742077002871\n",
      "RUN  4 , total integrated cost =  3.5457420770003236\n",
      "RUN  5 , total integrated cost =  3.5457420770002184\n",
      "RUN  6 , total integrated cost =  3.545742077000212\n",
      "RUN  7 , total integrated cost =  3.5457420770002104\n",
      "RUN  8 , total integrated cost =  3.5457420770002073\n",
      "RUN  9 , total integrated cost =  3.545742077000207\n"
     ]
    },
    {
     "output_type": "stream",
     "name": "stderr",
     "text": [
      "ERROR:root:Problem in initial value trasfer\n"
     ]
    },
    {
     "output_type": "stream",
     "name": "stdout",
     "text": [
      "RUN  10 , total integrated cost =  3.545742077000207\n",
      "Control only changes marginally.\n",
      "RUN  10 , total integrated cost =  3.545742077000207\n",
      "Improved over  10  iterations in  1.5949929019989213  seconds by  0.007941204058809603  percent.\n",
      "Problem in initial value trasfer:  Vmean_exc -74.5268208077038 -74.52682105732391\n",
      "0.00016871045391390524 0.12999335121226957\n",
      "5.551237769899523e-09 0.12950540574463307\n",
      "set cost params:  18.72 1.0 0.0\n",
      "----- 256\n",
      "interpolate adjoint :  True True True\n",
      "RUN  0 , total integrated cost =  3.547341247294139\n",
      "Gradient descend method:  None\n",
      "RUN  1 , total integrated cost =  3.5470532016440286\n",
      "RUN  2 , total integrated cost =  3.5470528585422807\n",
      "RUN  3 , total integrated cost =  3.5470527916334733\n",
      "RUN  4 , total integrated cost =  3.547052702235474\n",
      "RUN  5 , total integrated cost =  3.547052447318269\n",
      "RUN  6 , total integrated cost =  3.547052387732667\n",
      "RUN  7 , total integrated cost =  3.5470523289912435\n",
      "RUN  8 , total integrated cost =  3.5470518823527093\n",
      "RUN  9 , total integrated cost =  3.5470517331037854\n",
      "RUN  10 , total integrated cost =  3.54705168507057\n",
      "RUN  11 , total integrated cost =  3.5470511834200993\n",
      "RUN  12 , total integrated cost =  3.5470510452916066\n",
      "RUN  13 , total integrated cost =  3.547050998350225\n",
      "RUN  14 , total integrated cost =  3.54705051655841\n",
      "RUN  15 , total integrated cost =  3.5470503584575543\n",
      "RUN  16 , total integrated cost =  3.5470503106319717\n",
      "RUN  17 , total integrated cost =  3.5470498196633993\n",
      "RUN  18 , total integrated cost =  3.547049671593055\n",
      "RUN  19 , total integrated cost =  3.54704961976923\n",
      "RUN  20 , total integrated cost =  3.54704906876493\n",
      "RUN  30 , total integrated cost =  3.5470467328876625\n"
     ]
    },
    {
     "output_type": "stream",
     "name": "stderr",
     "text": [
      "ERROR:root:Problem in initial value trasfer\n"
     ]
    },
    {
     "output_type": "stream",
     "name": "stdout",
     "text": [
      "RUN  40 , total integrated cost =  3.547044480288339\n",
      "RUN  40 , total integrated cost =  3.547044480288339\n",
      "Improved over  40  iterations in  5.204753192003409  seconds by  0.008365899560018875  percent.\n",
      "Problem in initial value trasfer:  Vmean_exc -74.52682285361506 -74.52682309378781\n",
      "0.00017705638329913717 0.13007060066414122\n",
      "5.551237769899523e-09 0.12950540574463307\n",
      "set cost params:  18.715 1.0 0.0\n",
      "----- 257\n",
      "interpolate adjoint :  True True True\n",
      "RUN  0 , total integrated cost =  3.5487270767238397\n",
      "Gradient descend method:  None\n",
      "RUN  1 , total integrated cost =  3.5484248805720187\n",
      "RUN  2 , total integrated cost =  3.5484245821702265\n",
      "RUN  3 , total integrated cost =  3.5484244938191063\n",
      "RUN  4 , total integrated cost =  3.5484241508564356\n",
      "RUN  5 , total integrated cost =  3.548423743239993\n",
      "RUN  6 , total integrated cost =  3.548423693084767\n",
      "RUN  7 , total integrated cost =  3.548414673788568\n",
      "RUN  8 , total integrated cost =  3.5484032051367755\n",
      "RUN  9 , total integrated cost =  3.548403162370521\n",
      "RUN  10 , total integrated cost =  3.5484028462427557\n",
      "RUN  11 , total integrated cost =  3.548402699887991\n",
      "RUN  12 , total integrated cost =  3.548402631973065\n",
      "RUN  13 , total integrated cost =  3.548402386890628\n",
      "RUN  14 , total integrated cost =  3.5484023081676646\n",
      "RUN  15 , total integrated cost =  3.5484021082346437\n",
      "RUN  16 , total integrated cost =  3.5484017538224775\n",
      "RUN  17 , total integrated cost =  3.5484016992775174\n",
      "RUN  18 , total integrated cost =  3.5484013678630144\n",
      "RUN  19 , total integrated cost =  3.5484009797930343\n",
      "RUN  20 , total integrated cost =  3.5484009340302145\n",
      "RUN  30 , total integrated cost =  3.548398537140528\n"
     ]
    },
    {
     "output_type": "stream",
     "name": "stderr",
     "text": [
      "ERROR:root:Problem in initial value trasfer\n"
     ]
    },
    {
     "output_type": "stream",
     "name": "stdout",
     "text": [
      "RUN  40 , total integrated cost =  3.5483963717542326\n",
      "RUN  40 , total integrated cost =  3.5483963717542326\n",
      "Improved over  40  iterations in  4.742761300003622  seconds by  0.009318974450749806  percent.\n",
      "Problem in initial value trasfer:  Vmean_exc -74.52682459209052 -74.52682482423556\n",
      "0.00018539759959364734 0.13007113330807538\n",
      "5.551237769899523e-09 0.12950540574463307\n",
      "set cost params:  18.71 1.0 0.0\n",
      "----- 258\n",
      "interpolate adjoint :  True True True\n",
      "RUN  0 , total integrated cost =  3.550159600832896\n",
      "Gradient descend method:  None\n",
      "RUN  1 , total integrated cost =  3.5498471696155103\n",
      "RUN  2 , total integrated cost =  3.549846729206463\n",
      "RUN  3 , total integrated cost =  3.5498466679224965\n",
      "RUN  4 , total integrated cost =  3.5498442281079456\n",
      "RUN  5 , total integrated cost =  3.549840563226846\n",
      "RUN  6 , total integrated cost =  3.5498405101577135\n",
      "RUN  7 , total integrated cost =  3.5498405100924515\n",
      "RUN  8 , total integrated cost =  3.549840510092445\n",
      "RUN  9 , total integrated cost =  3.5498405100924404\n"
     ]
    },
    {
     "output_type": "stream",
     "name": "stderr",
     "text": [
      "ERROR:root:Problem in initial value trasfer\n"
     ]
    },
    {
     "output_type": "stream",
     "name": "stdout",
     "text": [
      "RUN  10 , total integrated cost =  3.54984051009244\n",
      "RUN  11 , total integrated cost =  3.54984051009244\n",
      "Control only changes marginally.\n",
      "RUN  11 , total integrated cost =  3.54984051009244\n",
      "Improved over  11  iterations in  1.6599919959990075  seconds by  0.008988067476778383  percent.\n",
      "Problem in initial value trasfer:  Vmean_exc -74.5268265173793 -74.52682674063396\n",
      "0.0001931733895460429 0.12992240713051553\n",
      "5.551237769899523e-09 0.12950540574463307\n",
      "set cost params:  18.705000000000002 1.0 0.0\n",
      "----- 259\n",
      "interpolate adjoint :  True True True\n",
      "RUN  0 , total integrated cost =  3.55167869624583\n",
      "Gradient descend method:  None\n",
      "RUN  1 , total integrated cost =  3.5513677811535067\n",
      "RUN  2 , total integrated cost =  3.551366731263654\n",
      "RUN  3 , total integrated cost =  3.551365424656372\n",
      "RUN  4 , total integrated cost =  3.5513653856114415\n",
      "RUN  5 , total integrated cost =  3.5512798052409287\n",
      "RUN  6 , total integrated cost =  3.55122815816566\n",
      "RUN  7 , total integrated cost =  3.551221072476254\n",
      "RUN  8 , total integrated cost =  3.551216299696211\n",
      "RUN  9 , total integrated cost =  3.5512162344448974\n",
      "RUN  10 , total integrated cost =  3.5512103769874037\n",
      "RUN  11 , total integrated cost =  3.551206447529299\n",
      "RUN  12 , total integrated cost =  3.5512063581871702\n",
      "RUN  13 , total integrated cost =  3.55120585024438\n",
      "RUN  14 , total integrated cost =  3.5512056161356487\n",
      "RUN  15 , total integrated cost =  3.5512055297439815\n",
      "RUN  16 , total integrated cost =  3.5512050963574873\n",
      "RUN  17 , total integrated cost =  3.551204915048425\n",
      "RUN  18 , total integrated cost =  3.5512048541519956\n",
      "RUN  19 , total integrated cost =  3.5512043632651444\n",
      "RUN  20 , total integrated cost =  3.5512041363618043\n",
      "RUN  30 , total integrated cost =  3.551201995796946\n"
     ]
    },
    {
     "output_type": "stream",
     "name": "stderr",
     "text": [
      "ERROR:root:Problem in initial value trasfer\n"
     ]
    },
    {
     "output_type": "stream",
     "name": "stdout",
     "text": [
      "RUN  40 , total integrated cost =  3.5511991078181926\n",
      "RUN  40 , total integrated cost =  3.5511991078181926\n",
      "Improved over  40  iterations in  4.979204993003805  seconds by  0.013503147909872837  percent.\n",
      "Problem in initial value trasfer:  Vmean_exc -74.52682826623793 -74.52682848141693\n",
      "0.00020535898062294197 0.13015830552011218\n",
      "5.551237769899523e-09 0.12950540574463307\n",
      "set cost params:  18.7 1.0 0.0\n",
      "----- 260\n",
      "interpolate adjoint :  True True True\n",
      "RUN  0 , total integrated cost =  3.553147900059278\n",
      "Gradient descend method:  None\n",
      "RUN  1 , total integrated cost =  3.5527950074815524\n",
      "RUN  2 , total integrated cost =  3.552794866831059\n",
      "RUN  3 , total integrated cost =  3.5527943875303953\n",
      "RUN  4 , total integrated cost =  3.5527939804866415\n",
      "RUN  5 , total integrated cost =  3.552793892434043\n",
      "RUN  6 , total integrated cost =  3.5527745770959633\n",
      "RUN  7 , total integrated cost =  3.5527532975876337\n",
      "RUN  8 , total integrated cost =  3.5527532088817693\n",
      "RUN  9 , total integrated cost =  3.552752774595701\n",
      "RUN  10 , total integrated cost =  3.552752532767946\n",
      "RUN  11 , total integrated cost =  3.5527522699400182\n",
      "RUN  12 , total integrated cost =  3.552751950989164\n",
      "RUN  13 , total integrated cost =  3.5527518432315692\n",
      "RUN  14 , total integrated cost =  3.552747731616994\n",
      "RUN  15 , total integrated cost =  3.552744315770858\n",
      "RUN  16 , total integrated cost =  3.5527441785166785\n",
      "RUN  17 , total integrated cost =  3.552743861158196\n",
      "RUN  18 , total integrated cost =  3.552743742135246\n",
      "RUN  19 , total integrated cost =  3.5527402847515415\n",
      "RUN  20 , total integrated cost =  3.5527374883120366\n",
      "RUN  30 , total integrated cost =  3.5527276020298584\n"
     ]
    },
    {
     "output_type": "stream",
     "name": "stderr",
     "text": [
      "ERROR:root:Problem in initial value trasfer\n"
     ]
    },
    {
     "output_type": "stream",
     "name": "stdout",
     "text": [
      "RUN  40 , total integrated cost =  3.5526874395717325\n",
      "RUN  40 , total integrated cost =  3.5526874395717325\n",
      "Improved over  40  iterations in  5.181733649005764  seconds by  0.012959226592784034  percent.\n",
      "Problem in initial value trasfer:  Vmean_exc -74.52682991484271 -74.526830122409\n",
      "0.00020848743534932542 0.13013347676151638\n",
      "5.551237769899523e-09 0.12950540574463307\n",
      "set cost params:  18.695 1.0 0.0\n",
      "----- 261\n",
      "interpolate adjoint :  True True True\n",
      "RUN  0 , total integrated cost =  3.5546659579293407\n",
      "Gradient descend method:  None\n",
      "RUN  1 , total integrated cost =  3.5543593599633656\n",
      "RUN  2 , total integrated cost =  3.5543590040120727\n",
      "RUN  3 , total integrated cost =  3.5543589201131547\n",
      "RUN  4 , total integrated cost =  3.554358920113154\n",
      "RUN  5 , total integrated cost =  3.5543589201131534\n"
     ]
    },
    {
     "output_type": "stream",
     "name": "stderr",
     "text": [
      "ERROR:root:Problem in initial value trasfer\n"
     ]
    },
    {
     "output_type": "stream",
     "name": "stdout",
     "text": [
      "RUN  6 , total integrated cost =  3.5543589201131534\n",
      "Control only changes marginally.\n",
      "RUN  6 , total integrated cost =  3.5543589201131534\n",
      "Improved over  6  iterations in  1.2210516999984975  seconds by  0.008637599701941667  percent.\n",
      "Problem in initial value trasfer:  Vmean_exc -74.52683158009657 -74.52683177997324\n",
      "0.00022180251908999476 0.13013347675767528\n",
      "5.551237769899523e-09 0.12950540574463307\n",
      "set cost params:  18.69 1.0 0.0\n",
      "----- 262\n",
      "interpolate adjoint :  True True True\n",
      "RUN  0 , total integrated cost =  3.556052107558678\n",
      "Gradient descend method:  None\n",
      "RUN  1 , total integrated cost =  3.555821429174657\n",
      "RUN  2 , total integrated cost =  3.5558205855098373\n",
      "RUN  3 , total integrated cost =  3.555820096728031\n",
      "RUN  4 , total integrated cost =  3.555819813444517\n",
      "RUN  5 , total integrated cost =  3.5558192440945473\n",
      "RUN  6 , total integrated cost =  3.555819064768102\n",
      "RUN  7 , total integrated cost =  3.5558186685555233\n",
      "RUN  8 , total integrated cost =  3.5558184240096686\n",
      "RUN  9 , total integrated cost =  3.555816973544785\n",
      "RUN  10 , total integrated cost =  3.555815121753436\n",
      "RUN  11 , total integrated cost =  3.5558149324752804\n",
      "RUN  12 , total integrated cost =  3.5558145304179156\n",
      "RUN  13 , total integrated cost =  3.5558143401416973\n",
      "RUN  14 , total integrated cost =  3.5558137651845394\n",
      "RUN  15 , total integrated cost =  3.555813355777279\n",
      "RUN  16 , total integrated cost =  3.5558130681341806\n",
      "RUN  17 , total integrated cost =  3.555812434530132\n",
      "RUN  18 , total integrated cost =  3.555812260170731\n",
      "RUN  19 , total integrated cost =  3.5558118257534876\n",
      "RUN  20 , total integrated cost =  3.555811575037595\n",
      "RUN  30 , total integrated cost =  3.5557486685490707\n"
     ]
    },
    {
     "output_type": "stream",
     "name": "stderr",
     "text": [
      "ERROR:root:Problem in initial value trasfer\n"
     ]
    },
    {
     "output_type": "stream",
     "name": "stdout",
     "text": [
      "RUN  40 , total integrated cost =  3.555697292210083\n",
      "RUN  40 , total integrated cost =  3.555697292210083\n",
      "Improved over  40  iterations in  4.759937868999259  seconds by  0.009977788228724194  percent.\n",
      "Problem in initial value trasfer:  Vmean_exc -74.52683298937798 -74.52683318274704\n",
      "0.00023482178041853442 0.13010012019050696\n",
      "5.551237769899523e-09 0.12950540574463307\n",
      "set cost params:  18.685 1.0 0.0\n",
      "----- 263\n",
      "interpolate adjoint :  True True True\n",
      "RUN  0 , total integrated cost =  3.5579173080107607\n",
      "Gradient descend method:  None\n",
      "RUN  1 , total integrated cost =  3.5575291898592565\n",
      "RUN  2 , total integrated cost =  3.5575075584123246\n",
      "RUN  3 , total integrated cost =  3.557484603092091\n",
      "RUN  4 , total integrated cost =  3.557484338932266\n",
      "RUN  5 , total integrated cost =  3.5574837492723925\n",
      "RUN  6 , total integrated cost =  3.557483560873691\n",
      "RUN  7 , total integrated cost =  3.5574774716951216\n",
      "RUN  8 , total integrated cost =  3.557473096541083\n",
      "RUN  9 , total integrated cost =  3.5574718494168\n",
      "RUN  10 , total integrated cost =  3.557470773680412\n",
      "RUN  11 , total integrated cost =  3.5574706512642393\n",
      "RUN  12 , total integrated cost =  3.557469223244474\n",
      "RUN  13 , total integrated cost =  3.557468255700252\n",
      "RUN  14 , total integrated cost =  3.557467978666799\n",
      "RUN  15 , total integrated cost =  3.5574673724492145\n",
      "RUN  16 , total integrated cost =  3.5574671541783047\n",
      "RUN  17 , total integrated cost =  3.5574600783767156\n",
      "RUN  18 , total integrated cost =  3.5574553158822235\n",
      "RUN  19 , total integrated cost =  3.5574551970209454\n",
      "RUN  20 , total integrated cost =  3.557454484426387\n",
      "RUN  30 , total integrated cost =  3.557442340300771\n"
     ]
    },
    {
     "output_type": "stream",
     "name": "stderr",
     "text": [
      "ERROR:root:Problem in initial value trasfer\n"
     ]
    },
    {
     "output_type": "stream",
     "name": "stdout",
     "text": [
      "RUN  40 , total integrated cost =  3.555512040176945\n",
      "RUN  40 , total integrated cost =  3.555512040176945\n",
      "Improved over  40  iterations in  5.445251420002023  seconds by  0.06760325284682267  percent.\n",
      "Problem in initial value trasfer:  Vmean_exc -74.52683468060165 -74.52683486616118\n",
      "0.000225480587789049 0.12883113429026183\n",
      "5.551237769899523e-09 0.12950540574463307\n",
      "set cost params:  18.68 1.0 0.0\n",
      "----- 264\n",
      "interpolate adjoint :  True True True\n",
      "RUN  0 , total integrated cost =  3.558065979869161\n",
      "Gradient descend method:  None\n",
      "RUN  1 , total integrated cost =  3.5575744716695428\n",
      "RUN  2 , total integrated cost =  3.5575730013812805\n",
      "RUN  3 , total integrated cost =  3.5575728161624327\n",
      "RUN  4 , total integrated cost =  3.5575705824432533\n",
      "RUN  5 , total integrated cost =  3.5575696245762343\n",
      "RUN  6 , total integrated cost =  3.5575695447315394\n",
      "RUN  7 , total integrated cost =  3.5575684270206365\n",
      "RUN  8 , total integrated cost =  3.557568182097251\n",
      "RUN  9 , total integrated cost =  3.5575679792629615\n",
      "RUN  10 , total integrated cost =  3.5575667344628266\n",
      "RUN  11 , total integrated cost =  3.5575666101073966\n",
      "RUN  12 , total integrated cost =  3.5575664506293676\n",
      "RUN  13 , total integrated cost =  3.5575652656809726\n",
      "RUN  14 , total integrated cost =  3.557565161728919\n",
      "RUN  15 , total integrated cost =  3.5575649754855267\n",
      "RUN  16 , total integrated cost =  3.5575637721822844\n",
      "RUN  17 , total integrated cost =  3.5575636600564327\n",
      "RUN  18 , total integrated cost =  3.557563489901818\n",
      "RUN  19 , total integrated cost =  3.557562282468628\n",
      "RUN  20 , total integrated cost =  3.557562162442843\n",
      "RUN  30 , total integrated cost =  3.5575576395205686\n"
     ]
    },
    {
     "output_type": "stream",
     "name": "stderr",
     "text": [
      "ERROR:root:Problem in initial value trasfer\n"
     ]
    },
    {
     "output_type": "stream",
     "name": "stdout",
     "text": [
      "RUN  40 , total integrated cost =  3.5575522144033043\n",
      "RUN  40 , total integrated cost =  3.5575522144033043\n",
      "Improved over  40  iterations in  5.668483209999977  seconds by  0.014439458648695336  percent.\n",
      "Problem in initial value trasfer:  Vmean_exc -74.52683615442206 -74.52683633317595\n",
      "0.00024045360579675291 0.12963342385115634\n",
      "5.551237769899523e-09 0.12950540574463307\n",
      "set cost params:  18.675 1.0 0.0\n",
      "----- 265\n",
      "interpolate adjoint :  True True True\n",
      "RUN  0 , total integrated cost =  3.559374854439231\n",
      "Gradient descend method:  None\n",
      "RUN  1 , total integrated cost =  3.5591131759442423\n",
      "RUN  2 , total integrated cost =  3.559109881679581\n",
      "RUN  3 , total integrated cost =  3.559106566631636\n",
      "RUN  4 , total integrated cost =  3.5591045966233783\n",
      "RUN  5 , total integrated cost =  3.5591025691127247\n",
      "RUN  6 , total integrated cost =  3.559101432769733\n",
      "RUN  7 , total integrated cost =  3.5590994466596753\n",
      "RUN  8 , total integrated cost =  3.5590980918619506\n",
      "RUN  9 , total integrated cost =  3.559093476422873\n",
      "RUN  10 , total integrated cost =  3.559091345148551\n",
      "RUN  11 , total integrated cost =  3.559082065220379\n",
      "RUN  12 , total integrated cost =  3.559076994448655\n",
      "RUN  13 , total integrated cost =  3.559071606798258\n",
      "RUN  14 , total integrated cost =  3.5590672692311225\n",
      "RUN  15 , total integrated cost =  3.5590656900003736\n",
      "RUN  16 , total integrated cost =  3.5590636562099847\n",
      "RUN  17 , total integrated cost =  3.5590624665546944\n",
      "RUN  18 , total integrated cost =  3.559060938521651\n",
      "RUN  19 , total integrated cost =  3.5590598249734082\n",
      "RUN  20 , total integrated cost =  3.559057109282938\n",
      "RUN  30 , total integrated cost =  3.5590266204485532\n"
     ]
    },
    {
     "output_type": "stream",
     "name": "stderr",
     "text": [
      "ERROR:root:Problem in initial value trasfer\n"
     ]
    },
    {
     "output_type": "stream",
     "name": "stdout",
     "text": [
      "RUN  40 , total integrated cost =  3.55890702904045\n",
      "RUN  40 , total integrated cost =  3.55890702904045\n",
      "Improved over  40  iterations in  5.060470482996607  seconds by  0.013143470915906619  percent.\n",
      "Problem in initial value trasfer:  Vmean_exc -74.52683748212101 -74.52683765474404\n",
      "0.0002513395867369297 0.1298667647474266\n",
      "5.551237769899523e-09 0.12950540574463307\n",
      "set cost params:  18.669999999999998 1.0 0.0\n",
      "----- 266\n",
      "interpolate adjoint :  True True True\n",
      "RUN  0 , total integrated cost =  3.561288566411088\n",
      "Gradient descend method:  None\n",
      "RUN  1 , total integrated cost =  3.560877079727261\n",
      "RUN  2 , total integrated cost =  3.5608761039236003\n",
      "RUN  3 , total integrated cost =  3.560875374024826\n",
      "RUN  4 , total integrated cost =  3.560849120545237\n",
      "RUN  5 , total integrated cost =  3.5608308033232796\n",
      "RUN  6 , total integrated cost =  3.560829312793487\n",
      "RUN  7 , total integrated cost =  3.560827300790417\n",
      "RUN  8 , total integrated cost =  3.560826576396738\n",
      "RUN  9 , total integrated cost =  3.560825572488787\n",
      "RUN  10 , total integrated cost =  3.560824864587474\n",
      "RUN  11 , total integrated cost =  3.5607847791661134\n",
      "RUN  12 , total integrated cost =  3.560752215249843\n",
      "RUN  13 , total integrated cost =  3.560736292794411\n",
      "RUN  14 , total integrated cost =  3.5607150454222483\n",
      "RUN  15 , total integrated cost =  3.5607141979907255\n",
      "RUN  16 , total integrated cost =  3.5607131837415733\n",
      "RUN  17 , total integrated cost =  3.5607125912382465\n",
      "RUN  18 , total integrated cost =  3.5607106283545655\n",
      "RUN  19 , total integrated cost =  3.560709408669994\n",
      "RUN  20 , total integrated cost =  3.560639924020182\n",
      "RUN  30 , total integrated cost =  3.5605349646021867\n"
     ]
    },
    {
     "output_type": "stream",
     "name": "stderr",
     "text": [
      "ERROR:root:Problem in initial value trasfer\n"
     ]
    },
    {
     "output_type": "stream",
     "name": "stdout",
     "text": [
      "RUN  40 , total integrated cost =  3.5602342496407435\n",
      "RUN  40 , total integrated cost =  3.5602342496407435\n",
      "Improved over  40  iterations in  4.928912306997518  seconds by  0.029604923911207948  percent.\n",
      "Problem in initial value trasfer:  Vmean_exc -74.52683902681063 -74.52683919230078\n",
      "0.0002569505807545302 0.13057590888786247\n",
      "5.551237769899523e-09 0.12950540574463307\n",
      "set cost params:  18.665 1.0 0.0\n",
      "----- 267\n",
      "interpolate adjoint :  True True True\n",
      "RUN  0 , total integrated cost =  3.562661520103507\n",
      "Gradient descend method:  None\n",
      "RUN  1 , total integrated cost =  3.562292821179884\n",
      "RUN  2 , total integrated cost =  3.5622927887771385\n",
      "RUN  3 , total integrated cost =  3.562287935660172\n",
      "RUN  4 , total integrated cost =  3.562280527828709\n",
      "RUN  5 , total integrated cost =  3.5622804765888305\n",
      "RUN  6 , total integrated cost =  3.5622800825588037\n",
      "RUN  7 , total integrated cost =  3.562279326805758\n",
      "RUN  8 , total integrated cost =  3.562279287543254\n",
      "RUN  9 , total integrated cost =  3.5622762851804723\n",
      "RUN  10 , total integrated cost =  3.5622708913435885\n",
      "RUN  11 , total integrated cost =  3.5622708366146902\n",
      "RUN  12 , total integrated cost =  3.5622686410809306\n",
      "RUN  13 , total integrated cost =  3.562266991447396\n",
      "RUN  14 , total integrated cost =  3.562266899240703\n",
      "RUN  15 , total integrated cost =  3.5622660584505166\n",
      "RUN  16 , total integrated cost =  3.5622656973622715\n",
      "RUN  17 , total integrated cost =  3.5622655601324387\n",
      "RUN  18 , total integrated cost =  3.562264713218477\n",
      "RUN  19 , total integrated cost =  3.562264354427469\n",
      "RUN  20 , total integrated cost =  3.562264214429404\n",
      "RUN  30 , total integrated cost =  3.562259295268164\n"
     ]
    },
    {
     "output_type": "stream",
     "name": "stderr",
     "text": [
      "ERROR:root:Problem in initial value trasfer\n"
     ]
    },
    {
     "output_type": "stream",
     "name": "stdout",
     "text": [
      "RUN  40 , total integrated cost =  3.5622547550000165\n",
      "RUN  40 , total integrated cost =  3.5622547550000165\n",
      "Improved over  40  iterations in  5.6095720029989025  seconds by  0.011417450161772535  percent.\n",
      "Problem in initial value trasfer:  Vmean_exc -74.5268403418502 -74.52684050126793\n",
      "0.00027459878965222764 0.1302850604645816\n",
      "5.551237769899523e-09 0.12950540574463307\n",
      "set cost params:  18.66 1.0 0.0\n",
      "----- 268\n",
      "interpolate adjoint :  True True True\n",
      "RUN  0 , total integrated cost =  3.5648620677240976\n",
      "Gradient descend method:  None\n",
      "RUN  1 , total integrated cost =  3.5644223498750174\n",
      "RUN  2 , total integrated cost =  3.564422349848985\n",
      "RUN  3 , total integrated cost =  3.5644223496955236\n",
      "RUN  4 , total integrated cost =  3.564422349237981\n",
      "RUN  5 , total integrated cost =  3.564422343545034\n",
      "RUN  6 , total integrated cost =  3.5644212904217403\n",
      "RUN  7 , total integrated cost =  3.5644195591664922\n",
      "RUN  8 , total integrated cost =  3.5644195591664856\n",
      "RUN  9 , total integrated cost =  3.5644195591664816\n",
      "RUN  10 , total integrated cost =  3.56441955916648\n"
     ]
    },
    {
     "output_type": "stream",
     "name": "stderr",
     "text": [
      "ERROR:root:Problem in initial value trasfer\n"
     ]
    },
    {
     "output_type": "stream",
     "name": "stdout",
     "text": [
      "RUN  11 , total integrated cost =  3.56441955916648\n",
      "Control only changes marginally.\n",
      "RUN  11 , total integrated cost =  3.56441955916648\n",
      "Improved over  11  iterations in  2.282624602994474  seconds by  0.012413062531209107  percent.\n",
      "Problem in initial value trasfer:  Vmean_exc -74.52684147159566 -74.52684162579656\n",
      "0.00029179870978165415 0.13028291792338476\n",
      "5.551237769899523e-09 0.12950540574463307\n",
      "set cost params:  18.655 1.0 0.0\n",
      "----- 269\n",
      "interpolate adjoint :  True True True\n",
      "RUN  0 , total integrated cost =  3.567207103880565\n",
      "Gradient descend method:  None\n",
      "RUN  1 , total integrated cost =  3.5667027526601647\n",
      "RUN  2 , total integrated cost =  3.566702347270772\n",
      "RUN  3 , total integrated cost =  3.566700649140461\n",
      "RUN  4 , total integrated cost =  3.5666999739469523\n",
      "RUN  5 , total integrated cost =  3.5666991498642613\n",
      "RUN  6 , total integrated cost =  3.5666976803215737\n",
      "RUN  7 , total integrated cost =  3.5666973101597446\n",
      "RUN  8 , total integrated cost =  3.566696132269482\n",
      "RUN  9 , total integrated cost =  3.566695472772323\n",
      "RUN  10 , total integrated cost =  3.5666946654020575\n",
      "RUN  11 , total integrated cost =  3.5666931774199586\n",
      "RUN  12 , total integrated cost =  3.566692804689735\n",
      "RUN  13 , total integrated cost =  3.5666913686684927\n",
      "RUN  14 , total integrated cost =  3.5666907553388896\n",
      "RUN  15 , total integrated cost =  3.5666900582927443\n",
      "RUN  16 , total integrated cost =  3.5666887911997054\n",
      "RUN  17 , total integrated cost =  3.5666883990114577\n",
      "RUN  18 , total integrated cost =  3.566687100669032\n",
      "RUN  19 , total integrated cost =  3.566686505784155\n",
      "RUN  20 , total integrated cost =  3.5666847918160327\n",
      "RUN  30 , total integrated cost =  3.5666678908590215\n"
     ]
    },
    {
     "output_type": "stream",
     "name": "stderr",
     "text": [
      "ERROR:root:Problem in initial value trasfer\n"
     ]
    },
    {
     "output_type": "stream",
     "name": "stdout",
     "text": [
      "RUN  40 , total integrated cost =  3.566653439720103\n",
      "RUN  40 , total integrated cost =  3.566653439720103\n",
      "Improved over  40  iterations in  5.564657351998903  seconds by  0.01552094241624502  percent.\n",
      "Problem in initial value trasfer:  Vmean_exc -74.5268427259161 -74.52684287432498\n",
      "0.00030793259046515883 0.13031734486115398\n",
      "5.551237769899523e-09 0.12950540574463307\n",
      "set cost params:  18.65 1.0 0.0\n",
      "----- 270\n",
      "interpolate adjoint :  True True True\n",
      "RUN  0 , total integrated cost =  3.569019228055331\n",
      "Gradient descend method:  None\n",
      "RUN  1 , total integrated cost =  3.5686438019933795\n",
      "RUN  2 , total integrated cost =  3.568638773621102\n",
      "RUN  3 , total integrated cost =  3.568635410306689\n",
      "RUN  4 , total integrated cost =  3.568626315234459\n",
      "RUN  5 , total integrated cost =  3.568620544109563\n",
      "RUN  6 , total integrated cost =  3.568608255267342\n",
      "RUN  7 , total integrated cost =  3.5685994804768826\n",
      "RUN  8 , total integrated cost =  3.5684444717552197\n",
      "RUN  9 , total integrated cost =  3.5682978059379007\n",
      "RUN  10 , total integrated cost =  3.5668950675958415\n",
      "RUN  11 , total integrated cost =  3.5667336057576335\n",
      "RUN  12 , total integrated cost =  3.5667238656744824\n",
      "RUN  13 , total integrated cost =  3.5667226725783183\n",
      "RUN  14 , total integrated cost =  3.5667024272670367\n",
      "RUN  15 , total integrated cost =  3.566679533833645\n",
      "RUN  16 , total integrated cost =  3.566679028494439\n",
      "RUN  17 , total integrated cost =  3.5666780087506673\n",
      "RUN  18 , total integrated cost =  3.566677613714307\n",
      "RUN  19 , total integrated cost =  3.5666744000526154\n",
      "RUN  20 , total integrated cost =  3.5666728713784916\n",
      "RUN  30 , total integrated cost =  3.5666612229954042\n"
     ]
    },
    {
     "output_type": "stream",
     "name": "stderr",
     "text": [
      "ERROR:root:Problem in initial value trasfer\n"
     ]
    },
    {
     "output_type": "stream",
     "name": "stdout",
     "text": [
      "RUN  40 , total integrated cost =  3.566649373970636\n",
      "RUN  40 , total integrated cost =  3.566649373970636\n",
      "Improved over  40  iterations in  6.017955750998226  seconds by  0.06640070936200004  percent.\n",
      "Problem in initial value trasfer:  Vmean_exc -74.5268438805551 -74.52684402363222\n",
      "0.00030474893104439786 0.13017575045103066\n",
      "5.551237769899523e-09 0.12950540574463307\n",
      "set cost params:  18.645 1.0 0.0\n",
      "----- 271\n",
      "interpolate adjoint :  True True True\n",
      "RUN  0 , total integrated cost =  3.57018846306251\n",
      "Gradient descend method:  None\n",
      "RUN  1 , total integrated cost =  3.5694465606939776\n",
      "RUN  2 , total integrated cost =  3.569446111771932\n",
      "RUN  3 , total integrated cost =  3.5694432797675857\n",
      "RUN  4 , total integrated cost =  3.569441412571926\n",
      "RUN  5 , total integrated cost =  3.5694397469607715\n",
      "RUN  6 , total integrated cost =  3.569437137530441\n",
      "RUN  7 , total integrated cost =  3.569436663176102\n",
      "RUN  8 , total integrated cost =  3.569435598644893\n",
      "RUN  9 , total integrated cost =  3.569434979364648\n",
      "RUN  10 , total integrated cost =  3.569395657954166\n",
      "RUN  11 , total integrated cost =  3.569363847057379\n",
      "RUN  12 , total integrated cost =  3.5693634253358097\n",
      "RUN  13 , total integrated cost =  3.5693625541018705\n",
      "RUN  14 , total integrated cost =  3.569362082201953\n",
      "RUN  15 , total integrated cost =  3.569328904357897\n",
      "RUN  16 , total integrated cost =  3.569298542703664\n",
      "RUN  17 , total integrated cost =  3.5692981820035743\n",
      "RUN  18 , total integrated cost =  3.569297314932601\n",
      "RUN  19 , total integrated cost =  3.569296799167795\n",
      "RUN  20 , total integrated cost =  3.5692844959982613\n",
      "RUN  30 , total integrated cost =  3.5692452224340885\n"
     ]
    },
    {
     "output_type": "stream",
     "name": "stderr",
     "text": [
      "ERROR:root:Problem in initial value trasfer\n"
     ]
    },
    {
     "output_type": "stream",
     "name": "stdout",
     "text": [
      "RUN  40 , total integrated cost =  3.569222438023061\n",
      "RUN  40 , total integrated cost =  3.569222438023061\n",
      "Improved over  40  iterations in  5.581403534000856  seconds by  0.027058096496688222  percent.\n",
      "Problem in initial value trasfer:  Vmean_exc -74.52684502526942 -74.52684516306061\n",
      "0.0003246225430927504 0.13035431594794303\n",
      "5.551237769899523e-09 0.12950540574463307\n",
      "set cost params:  18.64 1.0 0.0\n",
      "----- 272\n",
      "interpolate adjoint :  True True True\n",
      "RUN  0 , total integrated cost =  3.572352505877242\n",
      "Gradient descend method:  None\n",
      "RUN  1 , total integrated cost =  3.5717464063301954\n",
      "RUN  2 , total integrated cost =  3.571745496738186\n",
      "RUN  3 , total integrated cost =  3.5717454765023455\n",
      "RUN  4 , total integrated cost =  3.5717454270394966\n",
      "RUN  5 , total integrated cost =  3.571580924686314\n",
      "RUN  6 , total integrated cost =  3.5714445803246275\n",
      "RUN  7 , total integrated cost =  3.571444331062153\n",
      "RUN  8 , total integrated cost =  3.571436941106677\n",
      "RUN  9 , total integrated cost =  3.571424871469159\n",
      "RUN  10 , total integrated cost =  3.5714242260233497\n",
      "RUN  11 , total integrated cost =  3.5714233471028423\n",
      "RUN  12 , total integrated cost =  3.571423092173631\n",
      "RUN  13 , total integrated cost =  3.5714210341762347\n",
      "RUN  14 , total integrated cost =  3.5714180947472816\n",
      "RUN  15 , total integrated cost =  3.5714175346766837\n",
      "RUN  16 , total integrated cost =  3.571416701507948\n",
      "RUN  17 , total integrated cost =  3.5714164371070356\n",
      "RUN  18 , total integrated cost =  3.571414478931891\n",
      "RUN  19 , total integrated cost =  3.5714114099088743\n",
      "RUN  20 , total integrated cost =  3.5714108159320945\n",
      "RUN  30 , total integrated cost =  3.5713922962781552\n"
     ]
    },
    {
     "output_type": "stream",
     "name": "stderr",
     "text": [
      "ERROR:root:Problem in initial value trasfer\n"
     ]
    },
    {
     "output_type": "stream",
     "name": "stdout",
     "text": [
      "RUN  40 , total integrated cost =  3.571375592224594\n",
      "RUN  40 , total integrated cost =  3.571375592224594\n",
      "Improved over  40  iterations in  6.50638110699947  seconds by  0.0273465076875965  percent.\n",
      "Problem in initial value trasfer:  Vmean_exc -74.52684618070239 -74.52684631315816\n",
      "0.00033513386864763146 0.13054472620805643\n",
      "5.551237769899523e-09 0.12950540574463307\n",
      "set cost params:  18.634999999999998 1.0 0.0\n",
      "----- 273\n",
      "interpolate adjoint :  True True True\n",
      "RUN  0 , total integrated cost =  3.57397230673431\n",
      "Gradient descend method:  None\n",
      "RUN  1 , total integrated cost =  3.573562763383072\n",
      "RUN  2 , total integrated cost =  3.573561320022888\n",
      "RUN  3 , total integrated cost =  3.573560856258186\n",
      "RUN  4 , total integrated cost =  3.5734794555036413\n",
      "RUN  5 , total integrated cost =  3.5733791658556227\n",
      "RUN  6 , total integrated cost =  3.573378705568256\n",
      "RUN  7 , total integrated cost =  3.573377502505876\n",
      "RUN  8 , total integrated cost =  3.573376951706037\n",
      "RUN  9 , total integrated cost =  3.573371626462889\n",
      "RUN  10 , total integrated cost =  3.5733682824923947\n",
      "RUN  11 , total integrated cost =  3.5733629875632427\n",
      "RUN  12 , total integrated cost =  3.5733573409547654\n",
      "RUN  13 , total integrated cost =  3.57335683534189\n",
      "RUN  14 , total integrated cost =  3.573355661218425\n",
      "RUN  15 , total integrated cost =  3.573355209382091\n",
      "RUN  16 , total integrated cost =  3.573353427300236\n",
      "RUN  17 , total integrated cost =  3.5733522986883446\n",
      "RUN  18 , total integrated cost =  3.57330877052068\n",
      "RUN  19 , total integrated cost =  3.5732553490919043\n",
      "RUN  20 , total integrated cost =  3.57325199948201\n",
      "RUN  30 , total integrated cost =  3.5732320422606407\n"
     ]
    },
    {
     "output_type": "stream",
     "name": "stderr",
     "text": [
      "ERROR:root:Problem in initial value trasfer\n"
     ]
    },
    {
     "output_type": "stream",
     "name": "stdout",
     "text": [
      "RUN  40 , total integrated cost =  3.5731567581530874\n",
      "RUN  40 , total integrated cost =  3.5731567581530874\n",
      "Improved over  40  iterations in  5.402128065994475  seconds by  0.022819107458829535  percent.\n",
      "Problem in initial value trasfer:  Vmean_exc -74.5268471689595 -74.52684729685181\n",
      "0.0003450714897208093 0.13051890266786145\n",
      "5.551237769899523e-09 0.12950540574463307\n",
      "set cost params:  18.630000000000003 1.0 0.0\n",
      "----- 274\n",
      "interpolate adjoint :  True True True\n",
      "RUN  0 , total integrated cost =  3.5765063249137374\n",
      "Gradient descend method:  None\n",
      "RUN  1 , total integrated cost =  3.575888430725261\n",
      "RUN  2 , total integrated cost =  3.5758873675003975\n",
      "RUN  3 , total integrated cost =  3.5758873497259773\n",
      "RUN  4 , total integrated cost =  3.57588733189716\n",
      "RUN  5 , total integrated cost =  3.5758871295789865\n",
      "RUN  6 , total integrated cost =  3.575885969424666\n",
      "RUN  7 , total integrated cost =  3.575885955346144\n",
      "RUN  8 , total integrated cost =  3.5758859284977036\n",
      "RUN  9 , total integrated cost =  3.5758654598249384\n",
      "RUN  10 , total integrated cost =  3.5758472194097357\n",
      "RUN  11 , total integrated cost =  3.5758471730965886\n",
      "RUN  12 , total integrated cost =  3.575833745668533\n",
      "RUN  13 , total integrated cost =  3.575816859594161\n",
      "RUN  14 , total integrated cost =  3.5758167310937092\n",
      "RUN  15 , total integrated cost =  3.5758150503605504\n",
      "RUN  16 , total integrated cost =  3.575814846744157\n",
      "RUN  17 , total integrated cost =  3.5758087301638213\n",
      "RUN  18 , total integrated cost =  3.5757994178883834\n",
      "RUN  19 , total integrated cost =  3.5757993140177797\n",
      "RUN  20 , total integrated cost =  3.5728510751561173\n",
      "RUN  30 , total integrated cost =  3.5727670519303727\n"
     ]
    },
    {
     "output_type": "stream",
     "name": "stderr",
     "text": [
      "ERROR:root:Problem in initial value trasfer\n"
     ]
    },
    {
     "output_type": "stream",
     "name": "stdout",
     "text": [
      "RUN  40 , total integrated cost =  3.5726776169293646\n",
      "RUN  40 , total integrated cost =  3.5726776169293646\n",
      "Improved over  40  iterations in  6.110720014003164  seconds by  0.10705162067525009  percent.\n",
      "Problem in initial value trasfer:  Vmean_exc -74.52684824538905 -74.52684836831075\n",
      "0.00034165914181811033 0.13002283422331168\n",
      "5.551237769899523e-09 0.12950540574463307\n",
      "set cost params:  18.625 1.0 0.0\n",
      "----- 275\n",
      "interpolate adjoint :  True True True\n",
      "RUN  0 , total integrated cost =  3.5759288804127505\n",
      "Gradient descend method:  None\n",
      "RUN  1 , total integrated cost =  3.5753153417765065\n",
      "RUN  2 , total integrated cost =  3.575313327358366\n",
      "RUN  3 , total integrated cost =  3.5753126622978724\n",
      "RUN  4 , total integrated cost =  3.5752943238442807\n",
      "RUN  5 , total integrated cost =  3.5752770966942884\n",
      "RUN  6 , total integrated cost =  3.5751709008744776\n",
      "RUN  7 , total integrated cost =  3.5750587507977367\n",
      "RUN  8 , total integrated cost =  3.575058510299526\n",
      "RUN  9 , total integrated cost =  3.5750564508861045\n",
      "RUN  10 , total integrated cost =  3.5750524364522924\n",
      "RUN  11 , total integrated cost =  3.5750522282528148\n",
      "RUN  12 , total integrated cost =  3.5750491921908516\n",
      "RUN  13 , total integrated cost =  3.5750440850333796\n",
      "RUN  14 , total integrated cost =  3.575043836978114\n",
      "RUN  15 , total integrated cost =  3.5750418958978694\n",
      "RUN  16 , total integrated cost =  3.5750382991636336\n",
      "RUN  17 , total integrated cost =  3.5750381094534918\n",
      "RUN  18 , total integrated cost =  3.5750365522888994\n",
      "RUN  19 , total integrated cost =  3.57503310326563\n",
      "RUN  20 , total integrated cost =  3.5750329175836373\n",
      "RUN  30 , total integrated cost =  3.5750148272983022\n"
     ]
    },
    {
     "output_type": "stream",
     "name": "stderr",
     "text": [
      "ERROR:root:Problem in initial value trasfer\n"
     ]
    },
    {
     "output_type": "stream",
     "name": "stdout",
     "text": [
      "RUN  40 , total integrated cost =  3.575002131385331\n",
      "RUN  40 , total integrated cost =  3.575002131385331\n",
      "Improved over  40  iterations in  6.614488279999932  seconds by  0.025916315967450032  percent.\n",
      "Problem in initial value trasfer:  Vmean_exc -74.52684914601456 -74.52684926477747\n",
      "0.000360536385078308 0.13021460296376824\n",
      "5.551237769899523e-09 0.12950540574463307\n",
      "set cost params:  18.619999999999997 1.0 0.0\n",
      "----- 276\n",
      "interpolate adjoint :  True True True\n",
      "RUN  0 , total integrated cost =  3.5785022724071935\n",
      "Gradient descend method:  None\n",
      "RUN  1 , total integrated cost =  3.5778089067603545\n",
      "RUN  2 , total integrated cost =  3.577807126228987\n",
      "RUN  3 , total integrated cost =  3.57780502199137\n",
      "RUN  4 , total integrated cost =  3.5778012225731484\n",
      "RUN  5 , total integrated cost =  3.57780062720741\n",
      "RUN  6 , total integrated cost =  3.577799034156456\n",
      "RUN  7 , total integrated cost =  3.5777977794349676\n",
      "RUN  8 , total integrated cost =  3.5776614449262234\n",
      "RUN  9 , total integrated cost =  3.577562850143636\n",
      "RUN  10 , total integrated cost =  3.5775599551137747\n",
      "RUN  11 , total integrated cost =  3.5775567256662106\n",
      "RUN  12 , total integrated cost =  3.5775519729319067\n",
      "RUN  13 , total integrated cost =  3.5775468708618328\n",
      "RUN  14 , total integrated cost =  3.5775433174534674\n",
      "RUN  15 , total integrated cost =  3.577538664607781\n",
      "RUN  16 , total integrated cost =  3.5775382298395835\n",
      "RUN  17 , total integrated cost =  3.5775365962153236\n",
      "RUN  18 , total integrated cost =  3.5775354002974704\n",
      "RUN  19 , total integrated cost =  3.577533284428927\n",
      "RUN  20 , total integrated cost =  3.5775311830068905\n",
      "RUN  30 , total integrated cost =  3.5774277806653805\n"
     ]
    },
    {
     "output_type": "stream",
     "name": "stderr",
     "text": [
      "ERROR:root:Problem in initial value trasfer\n"
     ]
    },
    {
     "output_type": "stream",
     "name": "stdout",
     "text": [
      "RUN  40 , total integrated cost =  3.5739270099056775\n",
      "RUN  40 , total integrated cost =  3.5739270099056775\n",
      "Improved over  40  iterations in  6.639635271996667  seconds by  0.12785411753947074  percent.\n",
      "Problem in initial value trasfer:  Vmean_exc -74.52685033744696 -74.52685045070821\n",
      "0.00036044525260877356 0.12891066851335437\n",
      "5.551237769899523e-09 0.12950540574463307\n",
      "set cost params:  18.615000000000002 1.0 0.0\n",
      "----- 277\n",
      "interpolate adjoint :  True True True\n",
      "RUN  0 , total integrated cost =  3.57738677268626\n",
      "Gradient descend method:  None\n",
      "RUN  1 , total integrated cost =  3.576650898039113\n",
      "RUN  2 , total integrated cost =  3.5766461380507533\n",
      "RUN  3 , total integrated cost =  3.5766396370475446\n",
      "RUN  4 , total integrated cost =  3.5766393133766057\n",
      "RUN  5 , total integrated cost =  3.5766366589300795\n",
      "RUN  6 , total integrated cost =  3.5766362879438316\n",
      "RUN  7 , total integrated cost =  3.57663305761045\n",
      "RUN  8 , total integrated cost =  3.5766283750780827\n",
      "RUN  9 , total integrated cost =  3.5766266926087953\n",
      "RUN  10 , total integrated cost =  3.576621964102981\n",
      "RUN  11 , total integrated cost =  3.5766215035235374\n",
      "RUN  12 , total integrated cost =  3.5766168558717797\n",
      "RUN  13 , total integrated cost =  3.5766106342957005\n",
      "RUN  14 , total integrated cost =  3.5766102771227204\n",
      "RUN  15 , total integrated cost =  3.576607595838419\n",
      "RUN  16 , total integrated cost =  3.5766072718566715\n",
      "RUN  17 , total integrated cost =  3.5766043851095994\n",
      "RUN  18 , total integrated cost =  3.5766004109891196\n",
      "RUN  19 , total integrated cost =  3.576599535250714\n",
      "RUN  20 , total integrated cost =  3.576596011358016\n",
      "RUN  30 , total integrated cost =  3.5765668380270004\n"
     ]
    },
    {
     "output_type": "stream",
     "name": "stderr",
     "text": [
      "ERROR:root:Problem in initial value trasfer\n"
     ]
    },
    {
     "output_type": "stream",
     "name": "stdout",
     "text": [
      "RUN  40 , total integrated cost =  3.5765339532517704\n",
      "RUN  40 , total integrated cost =  3.5765339532517704\n",
      "Improved over  40  iterations in  6.3227877329991315  seconds by  0.023839173359746724  percent.\n",
      "Problem in initial value trasfer:  Vmean_exc -74.52685130764385 -74.52685141642506\n",
      "0.00036702009112320557 0.1302475484967565\n",
      "5.551237769899523e-09 0.12950540574463307\n",
      "set cost params:  18.61 1.0 0.0\n",
      "----- 278\n",
      "interpolate adjoint :  True True True\n",
      "RUN  0 , total integrated cost =  3.58007603940441\n",
      "Gradient descend method:  None\n",
      "RUN  1 , total integrated cost =  3.5794129869546465\n",
      "RUN  2 , total integrated cost =  3.579409207376883\n",
      "RUN  3 , total integrated cost =  3.5794063276490173\n",
      "RUN  4 , total integrated cost =  3.579392130637189\n",
      "RUN  5 , total integrated cost =  3.5793775164566757\n",
      "RUN  6 , total integrated cost =  3.5793209985015237\n",
      "RUN  7 , total integrated cost =  3.579260455714764\n",
      "RUN  8 , total integrated cost =  3.5792564861012766\n",
      "RUN  9 , total integrated cost =  3.5792495529590265\n",
      "RUN  10 , total integrated cost =  3.5792481987369777\n",
      "RUN  11 , total integrated cost =  3.579244950508682\n",
      "RUN  12 , total integrated cost =  3.5792432757146098\n",
      "RUN  13 , total integrated cost =  3.5792395627925573\n",
      "RUN  14 , total integrated cost =  3.5792366641380062\n",
      "RUN  15 , total integrated cost =  3.5792291828875267\n",
      "RUN  16 , total integrated cost =  3.579225417397216\n",
      "RUN  17 , total integrated cost =  3.5792194268668136\n",
      "RUN  18 , total integrated cost =  3.579211736983493\n",
      "RUN  19 , total integrated cost =  3.579210170060141\n",
      "RUN  20 , total integrated cost =  3.5792070658944777\n",
      "RUN  30 , total integrated cost =  3.579175075110793\n"
     ]
    },
    {
     "output_type": "stream",
     "name": "stderr",
     "text": [
      "ERROR:root:Problem in initial value trasfer\n"
     ]
    },
    {
     "output_type": "stream",
     "name": "stdout",
     "text": [
      "RUN  40 , total integrated cost =  3.578711948778628\n",
      "RUN  40 , total integrated cost =  3.578711948778628\n",
      "Improved over  40  iterations in  8.717397414999141  seconds by  0.03810228081103162  percent.\n",
      "Problem in initial value trasfer:  Vmean_exc -74.52685212087293 -74.52685222589889\n",
      "0.0003673341070149452 0.13031218947561582\n",
      "5.551237769899523e-09 0.12950540574463307\n",
      "set cost params:  18.605 1.0 0.0\n",
      "----- 279\n",
      "interpolate adjoint :  True True True\n",
      "RUN  0 , total integrated cost =  3.582278511750679\n",
      "Gradient descend method:  None\n",
      "RUN  1 , total integrated cost =  3.581723462323711\n",
      "RUN  2 , total integrated cost =  3.5817217276057387\n",
      "RUN  3 , total integrated cost =  3.581720389704018\n",
      "RUN  4 , total integrated cost =  3.5817104054940474\n",
      "RUN  5 , total integrated cost =  3.581702754495706\n",
      "RUN  6 , total integrated cost =  3.5807143163652357\n",
      "RUN  7 , total integrated cost =  3.580667055168832\n",
      "RUN  8 , total integrated cost =  3.5806024253904885\n",
      "RUN  9 , total integrated cost =  3.5805389165807493\n",
      "RUN  10 , total integrated cost =  3.5805371405779587\n",
      "RUN  11 , total integrated cost =  3.5805333505780674\n",
      "RUN  12 , total integrated cost =  3.580531576556145\n",
      "RUN  13 , total integrated cost =  3.5804341850007058\n",
      "RUN  14 , total integrated cost =  3.580342321036718\n",
      "RUN  15 , total integrated cost =  3.580341740811055\n",
      "RUN  16 , total integrated cost =  3.580338934669861\n",
      "RUN  17 , total integrated cost =  3.58033740787581\n",
      "RUN  18 , total integrated cost =  3.5803355296032398\n",
      "RUN  19 , total integrated cost =  3.580332316349412\n",
      "RUN  20 , total integrated cost =  3.580331844451654\n",
      "RUN  30 , total integrated cost =  3.5803097809466475\n"
     ]
    },
    {
     "output_type": "stream",
     "name": "stderr",
     "text": [
      "ERROR:root:Problem in initial value trasfer\n"
     ]
    },
    {
     "output_type": "stream",
     "name": "stdout",
     "text": [
      "RUN  40 , total integrated cost =  3.5802604457889404\n",
      "RUN  40 , total integrated cost =  3.5802604457889404\n",
      "Improved over  40  iterations in  8.137892375001684  seconds by  0.056334703042168144  percent.\n",
      "Problem in initial value trasfer:  Vmean_exc -74.52685288414582 -74.52685298564725\n",
      "0.00038673516954584506 0.13077107612502262\n",
      "5.551237769899523e-09 0.12950540574463307\n",
      "set cost params:  18.6 1.0 0.0\n",
      "----- 280\n",
      "interpolate adjoint :  True True True\n",
      "RUN  0 , total integrated cost =  3.583290985030745\n",
      "Gradient descend method:  None\n",
      "RUN  1 , total integrated cost =  3.5828210959883475\n",
      "RUN  2 , total integrated cost =  3.5828159025055992\n",
      "RUN  3 , total integrated cost =  3.5828130161814937\n",
      "RUN  4 , total integrated cost =  3.582810830107511\n",
      "RUN  5 , total integrated cost =  3.582808025925747\n",
      "RUN  6 , total integrated cost =  3.582806455638974\n",
      "RUN  7 , total integrated cost =  3.5828025319747354\n",
      "RUN  8 , total integrated cost =  3.5828001111946794\n",
      "RUN  9 , total integrated cost =  3.5827895563219543\n",
      "RUN  10 , total integrated cost =  3.5827836220462923\n",
      "RUN  11 , total integrated cost =  3.582763809517372\n",
      "RUN  12 , total integrated cost =  3.5827542479281522\n",
      "RUN  13 , total integrated cost =  3.5826230834690316\n",
      "RUN  14 , total integrated cost =  3.5825003752810587\n",
      "RUN  15 , total integrated cost =  3.5824992779128144\n",
      "RUN  16 , total integrated cost =  3.582494834818718\n",
      "RUN  17 , total integrated cost =  3.5824911314277665\n",
      "RUN  18 , total integrated cost =  3.582474191531621\n",
      "RUN  19 , total integrated cost =  3.5824480347277854\n",
      "RUN  20 , total integrated cost =  3.5824469237424075\n",
      "RUN  30 , total integrated cost =  3.5824097233406884\n"
     ]
    },
    {
     "output_type": "stream",
     "name": "stderr",
     "text": [
      "ERROR:root:Problem in initial value trasfer\n"
     ]
    },
    {
     "output_type": "stream",
     "name": "stdout",
     "text": [
      "RUN  40 , total integrated cost =  3.582373266042221\n",
      "RUN  40 , total integrated cost =  3.582373266042221\n",
      "Improved over  40  iterations in  6.497686681999767  seconds by  0.025611065145341172  percent.\n",
      "Problem in initial value trasfer:  Vmean_exc -74.52685364736823 -74.52685374534532\n",
      "0.0004039405217658669 0.13082269891713463\n",
      "5.551237769899523e-09 0.12950540574463307\n",
      "set cost params:  18.595 1.0 0.0\n",
      "----- 281\n",
      "interpolate adjoint :  True True True\n",
      "RUN  0 , total integrated cost =  3.586324641151625\n",
      "Gradient descend method:  None\n",
      "RUN  1 , total integrated cost =  3.5855852529514056\n",
      "RUN  2 , total integrated cost =  3.585583750207374\n",
      "RUN  3 , total integrated cost =  3.585583731307081\n",
      "RUN  4 , total integrated cost =  3.5855836860619177\n",
      "RUN  5 , total integrated cost =  3.5855798082607127\n",
      "RUN  6 , total integrated cost =  3.585572400626681\n",
      "RUN  7 , total integrated cost =  3.5855723381846603\n",
      "RUN  8 , total integrated cost =  3.5855723284467893\n",
      "RUN  9 , total integrated cost =  3.5855722751345094\n",
      "RUN  10 , total integrated cost =  3.585433781399919\n",
      "RUN  11 , total integrated cost =  3.585307631922096\n",
      "RUN  12 , total integrated cost =  3.585307196231333\n",
      "RUN  13 , total integrated cost =  3.5853054711998973\n",
      "RUN  14 , total integrated cost =  3.5853053600630798\n",
      "RUN  15 , total integrated cost =  3.58528840686884\n",
      "RUN  16 , total integrated cost =  3.585269626345544\n",
      "RUN  17 , total integrated cost =  3.585269192975851\n",
      "RUN  18 , total integrated cost =  3.5852676596081414\n",
      "RUN  19 , total integrated cost =  3.585267513625796\n",
      "RUN  20 , total integrated cost =  3.585246920689129\n",
      "RUN  30 , total integrated cost =  3.5850505337459264\n"
     ]
    },
    {
     "output_type": "stream",
     "name": "stderr",
     "text": [
      "ERROR:root:Problem in initial value trasfer\n"
     ]
    },
    {
     "output_type": "stream",
     "name": "stdout",
     "text": [
      "RUN  40 , total integrated cost =  3.584212684040517\n",
      "RUN  40 , total integrated cost =  3.584212684040517\n",
      "Improved over  40  iterations in  7.99265220399684  seconds by  0.05888917826551676  percent.\n",
      "Problem in initial value trasfer:  Vmean_exc -74.5268544898074 -74.5268545838944\n",
      "0.0004148678858863034 0.13123507941072868\n",
      "5.551237769899523e-09 0.12950540574463307\n",
      "set cost params:  18.59 1.0 0.0\n",
      "----- 282\n",
      "interpolate adjoint :  True True True\n",
      "RUN  0 , total integrated cost =  3.588262415950478\n",
      "Gradient descend method:  None\n",
      "RUN  1 , total integrated cost =  3.587520186319625\n",
      "RUN  2 , total integrated cost =  3.587514115221237\n",
      "RUN  3 , total integrated cost =  3.5875108457660083\n",
      "RUN  4 , total integrated cost =  3.587509447430257\n",
      "RUN  5 , total integrated cost =  3.5875070458248697\n",
      "RUN  6 , total integrated cost =  3.5875056350744114\n",
      "RUN  7 , total integrated cost =  3.587502148310971\n",
      "RUN  8 , total integrated cost =  3.587499526120145\n",
      "RUN  9 , total integrated cost =  3.5828638344152566\n",
      "RUN  10 , total integrated cost =  3.5828218275968404\n",
      "RUN  11 , total integrated cost =  3.582797565708057\n",
      "RUN  12 , total integrated cost =  3.58278725726671\n",
      "RUN  13 , total integrated cost =  3.5827787569429925\n",
      "RUN  14 , total integrated cost =  3.5827692299359946\n",
      "RUN  15 , total integrated cost =  3.582762827182064\n",
      "RUN  16 , total integrated cost =  3.5827538936455148\n",
      "RUN  17 , total integrated cost =  3.5827491650449366\n",
      "RUN  18 , total integrated cost =  3.582742743403641\n",
      "RUN  19 , total integrated cost =  3.5827396835304346\n",
      "RUN  20 , total integrated cost =  3.5827229446969664\n",
      "RUN  30 , total integrated cost =  3.5813677562007293\n"
     ]
    },
    {
     "output_type": "stream",
     "name": "stderr",
     "text": [
      "ERROR:root:Problem in initial value trasfer\n"
     ]
    },
    {
     "output_type": "stream",
     "name": "stdout",
     "text": [
      "Control only changes marginally.\n",
      "RUN  34 , total integrated cost =  3.58136775620072\n",
      "Improved over  34  iterations in  7.611803006999253  seconds by  0.19214480298626313  percent.\n",
      "Problem in initial value trasfer:  Vmean_exc -74.52685529966168 -74.52685539000903\n",
      "0.0003934513415854883 0.12998704268908376\n",
      "5.551237769899523e-09 0.12950540574463307\n",
      "set cost params:  18.585 1.0 0.0\n",
      "----- 283\n",
      "interpolate adjoint :  True True True\n",
      "RUN  0 , total integrated cost =  3.5852067255847255\n",
      "Gradient descend method:  None\n",
      "RUN  1 , total integrated cost =  3.584522707985432\n",
      "RUN  2 , total integrated cost =  3.5845155466322662\n",
      "RUN  3 , total integrated cost =  3.584512232826646\n",
      "RUN  4 , total integrated cost =  3.5845083267353486\n",
      "RUN  5 , total integrated cost =  3.5845004754128347\n",
      "RUN  6 , total integrated cost =  3.584499984121492\n",
      "RUN  7 , total integrated cost =  3.5844958534202\n",
      "RUN  8 , total integrated cost =  3.584494173162569\n",
      "RUN  9 , total integrated cost =  3.584491052840423\n",
      "RUN  10 , total integrated cost =  3.5844846532248997\n",
      "RUN  11 , total integrated cost =  3.5844842165383777\n",
      "RUN  12 , total integrated cost =  3.58448126850765\n",
      "RUN  13 , total integrated cost =  3.584479944207745\n",
      "RUN  14 , total integrated cost =  3.58447226393801\n",
      "RUN  15 , total integrated cost =  3.5844625423207384\n",
      "RUN  16 , total integrated cost =  3.584462061629651\n",
      "RUN  17 , total integrated cost =  3.58445461202742\n",
      "RUN  18 , total integrated cost =  3.58444833183246\n",
      "RUN  19 , total integrated cost =  3.58444763292817\n",
      "RUN  20 , total integrated cost =  3.5844460418412787\n",
      "RUN  30 , total integrated cost =  3.584228001309673\n"
     ]
    },
    {
     "output_type": "stream",
     "name": "stderr",
     "text": [
      "ERROR:root:Problem in initial value trasfer\n"
     ]
    },
    {
     "output_type": "stream",
     "name": "stdout",
     "text": [
      "RUN  40 , total integrated cost =  3.5841893417744366\n",
      "RUN  40 , total integrated cost =  3.5841893417744366\n",
      "Improved over  40  iterations in  11.876423526002327  seconds by  0.028377270494019058  percent.\n",
      "Problem in initial value trasfer:  Vmean_exc -74.52685609478118 -74.52685618145692\n",
      "0.0003959847998621677 0.13063736674763685\n",
      "5.551237769899523e-09 0.12950540574463307\n",
      "set cost params:  18.580000000000002 1.0 0.0\n",
      "----- 284\n",
      "interpolate adjoint :  True True True\n",
      "RUN  0 , total integrated cost =  3.5872981082847537\n",
      "Gradient descend method:  None\n",
      "RUN  1 , total integrated cost =  3.586927386559665\n",
      "RUN  2 , total integrated cost =  3.586925873172002\n",
      "RUN  3 , total integrated cost =  3.586923927164905\n",
      "RUN  4 , total integrated cost =  3.5869221415954162\n",
      "RUN  5 , total integrated cost =  3.586889707641641\n",
      "RUN  6 , total integrated cost =  3.5868738704642005\n",
      "RUN  7 , total integrated cost =  3.586871913362215\n",
      "RUN  8 , total integrated cost =  3.586870200383872\n",
      "RUN  9 , total integrated cost =  3.5868688566210527\n",
      "RUN  10 , total integrated cost =  3.5868666756375616\n",
      "RUN  11 , total integrated cost =  3.5868647678746073\n",
      "RUN  12 , total integrated cost =  3.5846311602627\n",
      "RUN  13 , total integrated cost =  3.5844244550676843\n",
      "RUN  14 , total integrated cost =  3.584414926409687\n",
      "RUN  15 , total integrated cost =  3.584412439490648\n",
      "RUN  16 , total integrated cost =  3.584411769956178\n",
      "RUN  17 , total integrated cost =  3.584408866453376\n",
      "RUN  18 , total integrated cost =  3.5844062104194774\n",
      "RUN  19 , total integrated cost =  3.584404033266306\n",
      "RUN  20 , total integrated cost =  3.58439968221124\n",
      "RUN  30 , total integrated cost =  3.584377196459407\n"
     ]
    },
    {
     "output_type": "stream",
     "name": "stderr",
     "text": [
      "ERROR:root:Problem in initial value trasfer\n"
     ]
    },
    {
     "output_type": "stream",
     "name": "stdout",
     "text": [
      "RUN  40 , total integrated cost =  3.58433628551686\n",
      "RUN  40 , total integrated cost =  3.58433628551686\n",
      "Improved over  40  iterations in  10.432137642994348  seconds by  0.08256416607957817  percent.\n",
      "Problem in initial value trasfer:  Vmean_exc -74.5268566908793 -74.52685677480245\n",
      "0.00041116691512839887 0.13094431552106808\n",
      "5.551237769899523e-09 0.12950540574463307\n",
      "set cost params:  18.575 1.0 0.0\n",
      "----- 285\n",
      "interpolate adjoint :  True True True\n",
      "RUN  0 , total integrated cost =  3.5891352411746063\n",
      "Gradient descend method:  None\n",
      "RUN  1 , total integrated cost =  3.5881658523491953\n",
      "RUN  2 , total integrated cost =  3.5881642997325103\n",
      "RUN  3 , total integrated cost =  3.58815220145388\n",
      "RUN  4 , total integrated cost =  3.588142694398185\n",
      "RUN  5 , total integrated cost =  3.588124888025805\n",
      "RUN  6 , total integrated cost =  3.5881099777202943\n",
      "RUN  7 , total integrated cost =  3.5881075296152716\n",
      "RUN  8 , total integrated cost =  3.588103907135791\n",
      "RUN  9 , total integrated cost =  3.588102715684743\n",
      "RUN  10 , total integrated cost =  3.5880988163958185\n",
      "RUN  11 , total integrated cost =  3.588097068245173\n",
      "RUN  12 , total integrated cost =  3.587968869707028\n",
      "RUN  13 , total integrated cost =  3.5878617501059926\n",
      "RUN  14 , total integrated cost =  3.587820515653216\n",
      "RUN  15 , total integrated cost =  3.5877820006982333\n",
      "RUN  16 , total integrated cost =  3.5877743893596694\n",
      "RUN  17 , total integrated cost =  3.5877673181207292\n",
      "RUN  18 , total integrated cost =  3.587763732986956\n",
      "RUN  19 , total integrated cost =  3.5877610199606575\n",
      "RUN  20 , total integrated cost =  3.58775916373426\n",
      "RUN  30 , total integrated cost =  3.5849096969157457\n"
     ]
    },
    {
     "output_type": "stream",
     "name": "stderr",
     "text": [
      "ERROR:root:Problem in initial value trasfer\n"
     ]
    },
    {
     "output_type": "stream",
     "name": "stdout",
     "text": [
      "RUN  40 , total integrated cost =  3.5840661237791247\n",
      "RUN  40 , total integrated cost =  3.5840661237791247\n",
      "Improved over  40  iterations in  7.129879420004727  seconds by  0.14123506234395222  percent.\n",
      "Problem in initial value trasfer:  Vmean_exc -74.52685765669884 -74.52685773616214\n",
      "0.00036428533344122537 0.1301841261659982\n",
      "5.551237769899523e-09 0.12950540574463307\n",
      "set cost params:  18.57 1.0 0.0\n",
      "----- 286\n",
      "interpolate adjoint :  True True True\n",
      "RUN  0 , total integrated cost =  3.5869103257293395\n",
      "Gradient descend method:  None\n",
      "RUN  1 , total integrated cost =  3.58672876171861\n",
      "RUN  2 , total integrated cost =  3.5867180572144406\n",
      "RUN  3 , total integrated cost =  3.58670565090917\n",
      "RUN  4 , total integrated cost =  3.586703562875444\n",
      "RUN  5 , total integrated cost =  3.586699769016887\n",
      "RUN  6 , total integrated cost =  3.5866973327258522\n",
      "RUN  7 , total integrated cost =  3.586691125759936\n",
      "RUN  8 , total integrated cost =  3.5866878153039576\n",
      "RUN  9 , total integrated cost =  3.585757703846854\n",
      "RUN  10 , total integrated cost =  3.5855889592732573\n",
      "RUN  11 , total integrated cost =  3.585587977870026\n",
      "RUN  12 , total integrated cost =  3.5855712954066137\n",
      "RUN  13 , total integrated cost =  3.585555757172307\n",
      "RUN  14 , total integrated cost =  3.5854818155254207\n",
      "RUN  15 , total integrated cost =  3.58540999606375\n",
      "RUN  16 , total integrated cost =  3.585406052448443\n",
      "RUN  17 , total integrated cost =  3.585401176150253\n",
      "RUN  18 , total integrated cost =  3.5854005011456804\n",
      "RUN  19 , total integrated cost =  3.585394105102964\n",
      "RUN  20 , total integrated cost =  3.5853881293876833\n",
      "RUN  30 , total integrated cost =  3.5851007947865887\n"
     ]
    },
    {
     "output_type": "stream",
     "name": "stderr",
     "text": [
      "ERROR:root:Problem in initial value trasfer\n"
     ]
    },
    {
     "output_type": "stream",
     "name": "stdout",
     "text": [
      "RUN  40 , total integrated cost =  3.5849282539325062\n",
      "RUN  40 , total integrated cost =  3.5849282539325062\n",
      "Improved over  40  iterations in  6.475984044998768  seconds by  0.05525847085208113  percent.\n",
      "Problem in initial value trasfer:  Vmean_exc -74.52685808348558 -74.52685816097811\n",
      "0.000413540147227604 0.13090458505529046\n",
      "5.551237769899523e-09 0.12950540574463307\n",
      "set cost params:  18.565 1.0 0.0\n",
      "----- 287\n",
      "interpolate adjoint :  True True True\n",
      "RUN  0 , total integrated cost =  3.588962844206808\n",
      "Gradient descend method:  None\n",
      "RUN  1 , total integrated cost =  3.5882680331745176\n",
      "RUN  2 , total integrated cost =  3.5882575590000645\n",
      "RUN  3 , total integrated cost =  3.5882508343466695\n",
      "RUN  4 , total integrated cost =  3.5882482422546538\n",
      "RUN  5 , total integrated cost =  3.588245229404029\n",
      "RUN  6 , total integrated cost =  3.5882441741881896\n",
      "RUN  7 , total integrated cost =  3.5882407725151135\n",
      "RUN  8 , total integrated cost =  3.5882394942592994\n",
      "RUN  9 , total integrated cost =  3.588230127234096\n",
      "RUN  10 , total integrated cost =  3.5882251753481955\n",
      "RUN  11 , total integrated cost =  3.5881620602531066\n",
      "RUN  12 , total integrated cost =  3.5881046315774863\n",
      "RUN  13 , total integrated cost =  3.5881016932367182\n",
      "RUN  14 , total integrated cost =  3.5880979871736316\n",
      "RUN  15 , total integrated cost =  3.588096460451924\n",
      "RUN  16 , total integrated cost =  3.5880938464577103\n",
      "RUN  17 , total integrated cost =  3.58809281349031\n",
      "RUN  18 , total integrated cost =  3.5880872220933866\n",
      "RUN  19 , total integrated cost =  3.588083903782686\n",
      "RUN  20 , total integrated cost =  3.588072497832268\n",
      "RUN  30 , total integrated cost =  3.587991659142111\n"
     ]
    },
    {
     "output_type": "stream",
     "name": "stderr",
     "text": [
      "ERROR:root:Problem in initial value trasfer\n"
     ]
    },
    {
     "output_type": "stream",
     "name": "stdout",
     "text": [
      "RUN  40 , total integrated cost =  3.5846937351027557\n",
      "RUN  40 , total integrated cost =  3.5846937351027557\n",
      "Improved over  40  iterations in  6.343634340002609  seconds by  0.11895105325326938  percent.\n",
      "Problem in initial value trasfer:  Vmean_exc -74.52685882370434 -74.5268588977788\n",
      "0.0003983740048842568 0.13109634828191272\n",
      "5.551237769899523e-09 0.12950540574463307\n",
      "set cost params:  18.56 1.0 0.0\n",
      "----- 288\n",
      "interpolate adjoint :  True True True\n",
      "RUN  0 , total integrated cost =  3.5885303523379166\n",
      "Gradient descend method:  None\n",
      "RUN  1 , total integrated cost =  3.5879739650807356\n",
      "RUN  2 , total integrated cost =  3.58744511081112\n",
      "RUN  3 , total integrated cost =  3.587197567793132\n",
      "RUN  4 , total integrated cost =  3.587196361485042\n",
      "RUN  5 , total integrated cost =  3.587193889779829\n",
      "RUN  6 , total integrated cost =  3.5871923970920023\n",
      "RUN  7 , total integrated cost =  3.5871856555575863\n",
      "RUN  8 , total integrated cost =  3.5871812264116607\n",
      "RUN  9 , total integrated cost =  3.587163097370973\n",
      "RUN  10 , total integrated cost =  3.5871388986015553\n",
      "RUN  11 , total integrated cost =  3.5871358749247624\n",
      "RUN  12 , total integrated cost =  3.587133210686329\n",
      "RUN  13 , total integrated cost =  3.587132198063648\n",
      "RUN  14 , total integrated cost =  3.5871293367724415\n",
      "RUN  15 , total integrated cost =  3.587127601239367\n",
      "RUN  16 , total integrated cost =  3.5871165010371064\n",
      "RUN  17 , total integrated cost =  3.5871088949574066\n",
      "RUN  18 , total integrated cost =  3.5870511697843606\n",
      "RUN  19 , total integrated cost =  3.5869999563529187\n",
      "RUN  20 , total integrated cost =  3.586997866639665\n",
      "RUN  30 , total integrated cost =  3.5858299351946727\n"
     ]
    },
    {
     "output_type": "stream",
     "name": "stderr",
     "text": [
      "ERROR:root:Problem in initial value trasfer\n"
     ]
    },
    {
     "output_type": "stream",
     "name": "stdout",
     "text": [
      "Control only changes marginally.\n",
      "RUN  36 , total integrated cost =  3.5858299239402545\n",
      "Improved over  36  iterations in  6.903288015004364  seconds by  0.07525165269683498  percent.\n",
      "Problem in initial value trasfer:  Vmean_exc -74.5268594122625 -74.52685948361918\n",
      "0.0004225298708503831 0.13088776885806452\n",
      "5.551237769899523e-09 0.12950540574463307\n",
      "set cost params:  18.555 1.0 0.0\n",
      "----- 289\n",
      "interpolate adjoint :  True True True\n",
      "RUN  0 , total integrated cost =  3.589949122117584\n",
      "Gradient descend method:  None\n",
      "RUN  1 , total integrated cost =  3.589222897666321\n",
      "RUN  2 , total integrated cost =  3.589197905177437\n",
      "RUN  3 , total integrated cost =  3.5891738911819533\n",
      "RUN  4 , total integrated cost =  3.5891732393568225\n",
      "RUN  5 , total integrated cost =  3.589170946799784\n",
      "RUN  6 , total integrated cost =  3.5891695151557257\n",
      "RUN  7 , total integrated cost =  3.589161183028506\n",
      "RUN  8 , total integrated cost =  3.589149116931332\n",
      "RUN  9 , total integrated cost =  3.589146849639066\n",
      "RUN  10 , total integrated cost =  3.5891423262135174\n",
      "RUN  11 , total integrated cost =  3.5891417115488395\n",
      "RUN  12 , total integrated cost =  3.5891371588043577\n",
      "RUN  13 , total integrated cost =  3.589135292076458\n",
      "RUN  14 , total integrated cost =  3.5891232258485197\n",
      "RUN  15 , total integrated cost =  3.5891107321970868\n",
      "RUN  16 , total integrated cost =  3.5891084845900445\n",
      "RUN  17 , total integrated cost =  3.5891038295789133\n",
      "RUN  18 , total integrated cost =  3.5891032006625356\n",
      "RUN  19 , total integrated cost =  3.5891013904009808\n",
      "RUN  20 , total integrated cost =  3.5891000561958153\n",
      "RUN  30 , total integrated cost =  3.5872888675634123\n"
     ]
    },
    {
     "output_type": "stream",
     "name": "stderr",
     "text": [
      "ERROR:root:Problem in initial value trasfer\n"
     ]
    },
    {
     "output_type": "stream",
     "name": "stdout",
     "text": [
      "RUN  40 , total integrated cost =  3.5872466512028356\n",
      "RUN  40 , total integrated cost =  3.5872466512028356\n",
      "Improved over  40  iterations in  6.675214357994264  seconds by  0.07527880821760391  percent.\n",
      "Problem in initial value trasfer:  Vmean_exc -74.52685995791825 -74.52686002675526\n",
      "0.0004247303504604209 0.1309450991971912\n",
      "5.551237769899523e-09 0.12950540574463307\n",
      "set cost params:  18.55 1.0 0.0\n",
      "----- 290\n",
      "interpolate adjoint :  True True True\n",
      "RUN  0 , total integrated cost =  3.591372226144156\n",
      "Gradient descend method:  None\n",
      "RUN  1 , total integrated cost =  3.59069203610558\n",
      "RUN  2 , total integrated cost =  3.590689962185726\n",
      "RUN  3 , total integrated cost =  3.590689683531219\n",
      "RUN  4 , total integrated cost =  3.590687306278751\n",
      "RUN  5 , total integrated cost =  3.5906851516429126\n",
      "RUN  6 , total integrated cost =  3.590662518763981\n",
      "RUN  7 , total integrated cost =  3.590637246359543\n",
      "RUN  8 , total integrated cost =  3.5906353705850793\n",
      "RUN  9 , total integrated cost =  3.5906328755967607\n",
      "RUN  10 , total integrated cost =  3.5906325609501226\n",
      "RUN  11 , total integrated cost =  3.5906297255537556\n",
      "RUN  12 , total integrated cost =  3.590627051813779\n",
      "RUN  13 , total integrated cost =  3.590605119741135\n",
      "RUN  14 , total integrated cost =  3.590584766427428\n",
      "RUN  15 , total integrated cost =  3.5905768399439677\n",
      "RUN  16 , total integrated cost =  3.5905655178107803\n",
      "RUN  17 , total integrated cost =  3.585475726642683\n",
      "RUN  18 , total integrated cost =  3.5851546075979117\n",
      "RUN  19 , total integrated cost =  3.5850848455619273\n",
      "RUN  20 , total integrated cost =  3.5850762458837706\n",
      "RUN  30 , total integrated cost =  3.584704812873586\n"
     ]
    },
    {
     "output_type": "stream",
     "name": "stderr",
     "text": [
      "ERROR:root:Problem in initial value trasfer\n"
     ]
    },
    {
     "output_type": "stream",
     "name": "stdout",
     "text": [
      "RUN  40 , total integrated cost =  3.5845599770767906\n",
      "RUN  40 , total integrated cost =  3.5845599770767906\n",
      "Improved over  40  iterations in  6.477305350003007  seconds by  0.18968373753558865  percent.\n",
      "Problem in initial value trasfer:  Vmean_exc -74.52686065496205 -74.52686072058034\n",
      "0.0004084692153498983 0.13155095085879032\n",
      "5.551237769899523e-09 0.12950540574463307\n",
      "set cost params:  18.544999999999998 1.0 0.0\n",
      "----- 291\n",
      "interpolate adjoint :  True True True\n",
      "RUN  0 , total integrated cost =  3.5876838597750647\n",
      "Gradient descend method:  None\n",
      "RUN  1 , total integrated cost =  3.5872022439999705\n",
      "RUN  2 , total integrated cost =  3.5871408349715903\n",
      "RUN  3 , total integrated cost =  3.587089900968178\n",
      "RUN  4 , total integrated cost =  3.587057819987322\n",
      "RUN  5 , total integrated cost =  3.587028178117676\n",
      "RUN  6 , total integrated cost =  3.5870223597444695\n",
      "RUN  7 , total integrated cost =  3.5870123143786645\n",
      "RUN  8 , total integrated cost =  3.5870089223759845\n",
      "RUN  9 , total integrated cost =  3.5870034507651836\n",
      "RUN  10 , total integrated cost =  3.587000391778522\n",
      "RUN  11 , total integrated cost =  3.5869959611986837\n",
      "RUN  12 , total integrated cost =  3.58699254639187\n",
      "RUN  13 , total integrated cost =  3.5869587946855828\n",
      "RUN  14 , total integrated cost =  3.586926394471372\n",
      "RUN  15 , total integrated cost =  3.586923155446465\n",
      "RUN  16 , total integrated cost =  3.5869163761669247\n",
      "RUN  17 , total integrated cost =  3.586913692424959\n",
      "RUN  18 , total integrated cost =  3.586909464671811\n",
      "RUN  19 , total integrated cost =  3.586906588725841\n",
      "RUN  20 , total integrated cost =  3.586893063089372\n",
      "RUN  30 , total integrated cost =  3.585213804266326\n"
     ]
    },
    {
     "output_type": "stream",
     "name": "stderr",
     "text": [
      "ERROR:root:Problem in initial value trasfer\n"
     ]
    },
    {
     "output_type": "stream",
     "name": "stdout",
     "text": [
      "RUN  40 , total integrated cost =  3.5820850481666695\n",
      "RUN  40 , total integrated cost =  3.5820850481666695\n",
      "Improved over  40  iterations in  4.586893747000431  seconds by  0.15605643716740758  percent.\n",
      "Problem in initial value trasfer:  Vmean_exc -74.52686117838977 -74.52686124159104\n",
      "0.0004051673500008489 0.12981183092427165\n",
      "5.551237769899523e-09 0.12950540574463307\n",
      "set cost params:  18.54 1.0 0.0\n",
      "----- 292\n",
      "interpolate adjoint :  True True True\n",
      "RUN  0 , total integrated cost =  3.586026743067941\n",
      "Gradient descend method:  None\n",
      "RUN  1 , total integrated cost =  3.5852602877913853\n",
      "RUN  2 , total integrated cost =  3.5852256404360108\n",
      "RUN  3 , total integrated cost =  3.5851907055958536\n",
      "RUN  4 , total integrated cost =  3.585189174289462\n",
      "RUN  5 , total integrated cost =  3.585179429990186\n",
      "RUN  6 , total integrated cost =  3.5851702160594336\n",
      "RUN  7 , total integrated cost =  3.5851262371618713\n",
      "RUN  8 , total integrated cost =  3.585092102621905\n",
      "RUN  9 , total integrated cost =  3.5846115796815314\n",
      "RUN  10 , total integrated cost =  3.584311448691911\n",
      "RUN  11 , total integrated cost =  3.58430983301566\n",
      "RUN  12 , total integrated cost =  3.584306541338803\n",
      "RUN  13 , total integrated cost =  3.584305057963505\n",
      "RUN  14 , total integrated cost =  3.58430186258461\n",
      "RUN  15 , total integrated cost =  3.5842969479183857\n",
      "RUN  16 , total integrated cost =  3.58429541712575\n",
      "RUN  17 , total integrated cost =  3.5842928608211593\n",
      "RUN  18 , total integrated cost =  3.5842914071006287\n",
      "RUN  19 , total integrated cost =  3.584287651068831\n",
      "RUN  20 , total integrated cost =  3.58428598513489\n",
      "RUN  30 , total integrated cost =  3.584205370248713\n"
     ]
    },
    {
     "output_type": "stream",
     "name": "stderr",
     "text": [
      "ERROR:root:Problem in initial value trasfer\n"
     ]
    },
    {
     "output_type": "stream",
     "name": "stdout",
     "text": [
      "RUN  40 , total integrated cost =  3.5840700252750213\n",
      "RUN  40 , total integrated cost =  3.5840700252750213\n",
      "Improved over  40  iterations in  4.657866333000129  seconds by  0.054565064153578646  percent.\n",
      "Problem in initial value trasfer:  Vmean_exc -74.52686169472135 -74.52686175553835\n",
      "0.00041243063595816783 0.13072486920925624\n",
      "5.551237769899523e-09 0.12950540574463307\n",
      "set cost params:  18.535 1.0 0.0\n",
      "----- 293\n",
      "interpolate adjoint :  True True True\n",
      "RUN  0 , total integrated cost =  3.5881115888750985\n",
      "Gradient descend method:  None\n",
      "RUN  1 , total integrated cost =  3.587387214292022\n",
      "RUN  2 , total integrated cost =  3.587383474121786\n",
      "RUN  3 , total integrated cost =  3.5873800557803874\n",
      "RUN  4 , total integrated cost =  3.587378383828323\n",
      "RUN  5 , total integrated cost =  3.5873760356270443\n",
      "RUN  6 , total integrated cost =  3.58737412326868\n",
      "RUN  7 , total integrated cost =  3.5873698075178817\n",
      "RUN  8 , total integrated cost =  3.58736717369615\n",
      "RUN  9 , total integrated cost =  3.5873241657875865\n",
      "RUN  10 , total integrated cost =  3.587281129854988\n",
      "RUN  11 , total integrated cost =  3.587231163628908\n",
      "RUN  12 , total integrated cost =  3.587183267110663\n",
      "RUN  13 , total integrated cost =  3.587179163690303\n",
      "RUN  14 , total integrated cost =  3.5871761189440234\n",
      "RUN  15 , total integrated cost =  3.5871744657481996\n",
      "RUN  16 , total integrated cost =  3.58717202827597\n",
      "RUN  17 , total integrated cost =  3.587170276180208\n",
      "RUN  18 , total integrated cost =  3.587163905219888\n",
      "RUN  19 , total integrated cost =  3.5871604342800483\n",
      "RUN  20 , total integrated cost =  3.587107928622806\n",
      "RUN  30 , total integrated cost =  3.5868012243635237\n"
     ]
    },
    {
     "output_type": "stream",
     "name": "stderr",
     "text": [
      "ERROR:root:Problem in initial value trasfer\n"
     ]
    },
    {
     "output_type": "stream",
     "name": "stdout",
     "text": [
      "RUN  40 , total integrated cost =  3.581968017509128\n",
      "RUN  40 , total integrated cost =  3.581968017509128\n",
      "Improved over  40  iterations in  5.428644272004021  seconds by  0.17122018682525209  percent.\n",
      "Problem in initial value trasfer:  Vmean_exc -74.52686216568218 -74.52686222432445\n",
      "0.00039600206094808307 0.130595297341745\n",
      "5.551237769899523e-09 0.12950540574463307\n",
      "set cost params:  18.53 1.0 0.0\n",
      "----- 294\n",
      "interpolate adjoint :  True True True\n",
      "RUN  0 , total integrated cost =  3.585125257094215\n",
      "Gradient descend method:  None\n",
      "RUN  1 , total integrated cost =  3.584596295394161\n",
      "RUN  2 , total integrated cost =  3.584551757629081\n",
      "RUN  3 , total integrated cost =  3.5844984828510156\n",
      "RUN  4 , total integrated cost =  3.584497355383404\n",
      "RUN  5 , total integrated cost =  3.5844943818817945\n",
      "RUN  6 , total integrated cost =  3.584493578997882\n",
      "RUN  7 , total integrated cost =  3.584489469166224\n",
      "RUN  8 , total integrated cost =  3.584486441000983\n",
      "RUN  9 , total integrated cost =  3.584415009629449\n",
      "RUN  10 , total integrated cost =  3.5843604045026445\n",
      "RUN  11 , total integrated cost =  3.584287959687592\n",
      "RUN  12 , total integrated cost =  3.584223989805186\n",
      "RUN  13 , total integrated cost =  3.584219189049576\n",
      "RUN  14 , total integrated cost =  3.584212530491376\n",
      "RUN  15 , total integrated cost =  3.584211961031747\n",
      "RUN  16 , total integrated cost =  3.584208579252828\n",
      "RUN  17 , total integrated cost =  3.584206983210169\n",
      "RUN  18 , total integrated cost =  3.584188593760709\n",
      "RUN  19 , total integrated cost =  3.5841663185310026\n",
      "RUN  20 , total integrated cost =  3.5841637391502927\n",
      "RUN  30 , total integrated cost =  3.58404458684504\n"
     ]
    },
    {
     "output_type": "stream",
     "name": "stderr",
     "text": [
      "ERROR:root:Problem in initial value trasfer\n"
     ]
    },
    {
     "output_type": "stream",
     "name": "stdout",
     "text": [
      "RUN  40 , total integrated cost =  3.581467736799718\n",
      "RUN  40 , total integrated cost =  3.581467736799718\n",
      "Improved over  40  iterations in  5.152000324000255  seconds by  0.10201931682189525  percent.\n",
      "Problem in initial value trasfer:  Vmean_exc -74.5268626992446 -74.52686275542305\n",
      "0.00039157503149639476 0.13051699303413772\n",
      "5.551237769899523e-09 0.12950540574463307\n",
      "set cost params:  18.525 1.0 0.0\n",
      "----- 295\n",
      "interpolate adjoint :  True True True\n",
      "RUN  0 , total integrated cost =  3.5854049892789726\n",
      "Gradient descend method:  None\n",
      "RUN  1 , total integrated cost =  3.5846796018622653\n",
      "RUN  2 , total integrated cost =  3.5846573042447303\n",
      "RUN  3 , total integrated cost =  3.5846322986415324\n",
      "RUN  4 , total integrated cost =  3.58462526205328\n",
      "RUN  5 , total integrated cost =  3.584615470197049\n",
      "RUN  6 , total integrated cost =  3.5846127260924767\n",
      "RUN  7 , total integrated cost =  3.58460938090503\n",
      "RUN  8 , total integrated cost =  3.5846075365111436\n",
      "RUN  9 , total integrated cost =  3.5845981216168936\n",
      "RUN  10 , total integrated cost =  3.5845912321657853\n",
      "RUN  11 , total integrated cost =  3.58454663649345\n",
      "RUN  12 , total integrated cost =  3.5845093737647975\n",
      "RUN  13 , total integrated cost =  3.5844719872892385\n",
      "RUN  14 , total integrated cost =  3.5844375295880586\n",
      "RUN  15 , total integrated cost =  3.5844342918676566\n",
      "RUN  16 , total integrated cost =  3.5844294409180586\n",
      "RUN  17 , total integrated cost =  3.584427575237722\n",
      "RUN  18 , total integrated cost =  3.584421751572364\n",
      "RUN  19 , total integrated cost =  3.584419229953154\n",
      "RUN  20 , total integrated cost =  3.5843847127080743\n",
      "RUN  30 , total integrated cost =  3.583954495457791\n"
     ]
    },
    {
     "output_type": "stream",
     "name": "stderr",
     "text": [
      "ERROR:root:Problem in initial value trasfer\n"
     ]
    },
    {
     "output_type": "stream",
     "name": "stdout",
     "text": [
      "RUN  40 , total integrated cost =  3.583316412824293\n",
      "RUN  40 , total integrated cost =  3.583316412824293\n",
      "Improved over  40  iterations in  4.803997639995941  seconds by  0.0582521768370583  percent.\n",
      "Problem in initial value trasfer:  Vmean_exc -74.52686313551534 -74.52686318967923\n",
      "0.0004072598231026891 0.13074434209710425\n",
      "5.551237769899523e-09 0.12950540574463307\n",
      "set cost params:  18.52 1.0 0.0\n",
      "----- 296\n",
      "interpolate adjoint :  True True True\n",
      "RUN  0 , total integrated cost =  3.587446911842683\n",
      "Gradient descend method:  None\n",
      "RUN  1 , total integrated cost =  3.586654876238999\n",
      "RUN  2 , total integrated cost =  3.586650826529475\n",
      "RUN  3 , total integrated cost =  3.58664631196991\n",
      "RUN  4 , total integrated cost =  3.5866452875057453\n",
      "RUN  5 , total integrated cost =  3.5866429475785173\n",
      "RUN  6 , total integrated cost =  3.5866424294534824\n",
      "RUN  7 , total integrated cost =  3.586534515294131\n",
      "RUN  8 , total integrated cost =  3.586450060490588\n",
      "RUN  9 , total integrated cost =  3.586449844061537\n",
      "RUN  10 , total integrated cost =  3.586449844061533\n"
     ]
    },
    {
     "output_type": "stream",
     "name": "stderr",
     "text": [
      "ERROR:root:Problem in initial value trasfer\n"
     ]
    },
    {
     "output_type": "stream",
     "name": "stdout",
     "text": [
      "RUN  11 , total integrated cost =  3.586449844061533\n",
      "Control only changes marginally.\n",
      "RUN  11 , total integrated cost =  3.586449844061533\n",
      "Improved over  11  iterations in  1.8045306829953915  seconds by  0.027793241423552217  percent.\n",
      "Problem in initial value trasfer:  Vmean_exc -74.52686353904946 -74.52686359134997\n",
      "0.00042129621224603627 0.13080534557599194\n",
      "5.551237769899523e-09 0.12950540574463307\n",
      "set cost params:  18.515 1.0 0.0\n",
      "----- 297\n",
      "interpolate adjoint :  True True True\n",
      "RUN  0 , total integrated cost =  3.590816002508633\n",
      "Gradient descend method:  None\n",
      "RUN  1 , total integrated cost =  3.5899936310308176\n",
      "RUN  2 , total integrated cost =  3.5899933239920707\n",
      "RUN  3 , total integrated cost =  3.58998736737857\n",
      "RUN  4 , total integrated cost =  3.5899815297853066\n",
      "RUN  5 , total integrated cost =  3.589975450809275\n",
      "RUN  6 , total integrated cost =  3.589965339767244\n",
      "RUN  7 , total integrated cost =  3.589964897386455\n",
      "RUN  8 , total integrated cost =  3.589961979589376\n",
      "RUN  9 , total integrated cost =  3.589961308927364\n",
      "RUN  10 , total integrated cost =  3.5899499536464607\n",
      "RUN  11 , total integrated cost =  3.5899339503361634\n",
      "RUN  12 , total integrated cost =  3.589933586330465\n",
      "RUN  13 , total integrated cost =  3.589930990812816\n",
      "RUN  14 , total integrated cost =  3.589930564378315\n",
      "RUN  15 , total integrated cost =  3.589698721671011\n",
      "RUN  16 , total integrated cost =  3.5895117663145086\n",
      "RUN  17 , total integrated cost =  3.589511112863583\n",
      "RUN  18 , total integrated cost =  3.5895096417353343\n",
      "RUN  19 , total integrated cost =  3.589509055334555\n",
      "RUN  20 , total integrated cost =  3.5895050729391453\n",
      "RUN  30 , total integrated cost =  3.5894576773627094\n"
     ]
    },
    {
     "output_type": "stream",
     "name": "stderr",
     "text": [
      "ERROR:root:Problem in initial value trasfer\n"
     ]
    },
    {
     "output_type": "stream",
     "name": "stdout",
     "text": [
      "RUN  40 , total integrated cost =  3.589430115333369\n",
      "RUN  40 , total integrated cost =  3.589430115333369\n",
      "Improved over  40  iterations in  4.927397159997781  seconds by  0.038595326920003004  percent.\n",
      "Problem in initial value trasfer:  Vmean_exc -74.52686396632257 -74.52686401665005\n",
      "0.00044105651378290945 0.1311225755131545\n",
      "5.551237769899523e-09 0.12950540574463307\n",
      "set cost params:  18.509999999999998 1.0 0.0\n",
      "----- 298\n",
      "interpolate adjoint :  True True True\n",
      "RUN  0 , total integrated cost =  3.593197086423403\n",
      "Gradient descend method:  None\n",
      "RUN  1 , total integrated cost =  3.592564613618294\n",
      "RUN  2 , total integrated cost =  3.592562535365475\n",
      "RUN  3 , total integrated cost =  3.5925591568751276\n",
      "RUN  4 , total integrated cost =  3.5925564929540106\n",
      "RUN  5 , total integrated cost =  3.5925401629199354\n",
      "RUN  6 , total integrated cost =  3.592528971951696\n",
      "RUN  7 , total integrated cost =  3.592506789041243\n",
      "RUN  8 , total integrated cost =  3.592474151161737\n",
      "RUN  9 , total integrated cost =  3.5924700124395286\n",
      "RUN  10 , total integrated cost =  3.5924640757329733\n",
      "RUN  11 , total integrated cost =  3.592462397341245\n",
      "RUN  12 , total integrated cost =  3.5924597302950003\n",
      "RUN  13 , total integrated cost =  3.592457569012684\n",
      "RUN  14 , total integrated cost =  3.5924458341272083\n",
      "RUN  15 , total integrated cost =  3.5924385442364177\n",
      "RUN  16 , total integrated cost =  3.5902073770048113\n",
      "RUN  17 , total integrated cost =  3.590127140330996\n",
      "RUN  18 , total integrated cost =  3.5900034312320734\n",
      "RUN  19 , total integrated cost =  3.589870592485626\n",
      "RUN  20 , total integrated cost =  3.589843665503059\n",
      "RUN  30 , total integrated cost =  3.589727562686565\n"
     ]
    },
    {
     "output_type": "stream",
     "name": "stderr",
     "text": [
      "ERROR:root:Problem in initial value trasfer\n"
     ]
    },
    {
     "output_type": "stream",
     "name": "stdout",
     "text": [
      "RUN  40 , total integrated cost =  3.589579971783059\n",
      "RUN  40 , total integrated cost =  3.589579971783059\n",
      "Improved over  40  iterations in  5.301923880004324  seconds by  0.10066563434583031  percent.\n",
      "Problem in initial value trasfer:  Vmean_exc -74.52686432873178 -74.52686437738578\n",
      "0.0004386817525829403 0.13163421139776285\n",
      "5.551237769899523e-09 0.12950540574463307\n",
      "set cost params:  18.505000000000003 1.0 0.0\n",
      "----- 299\n",
      "interpolate adjoint :  True True True\n",
      "RUN  0 , total integrated cost =  3.5934234875596522\n",
      "Gradient descend method:  None\n",
      "RUN  1 , total integrated cost =  3.5922898608420857\n",
      "RUN  2 , total integrated cost =  3.5922772393022866\n",
      "RUN  3 , total integrated cost =  3.592267814994847\n",
      "RUN  4 , total integrated cost =  3.592130179488394\n",
      "RUN  5 , total integrated cost =  3.5920187390943923\n",
      "RUN  6 , total integrated cost =  3.5920119396733967\n",
      "RUN  7 , total integrated cost =  3.592008858835038\n",
      "RUN  8 , total integrated cost =  3.5918195549579854\n",
      "RUN  9 , total integrated cost =  3.5916744335813635\n",
      "RUN  10 , total integrated cost =  3.5914451603511655\n",
      "RUN  11 , total integrated cost =  3.5912486886549835\n",
      "RUN  12 , total integrated cost =  3.591248124977523\n",
      "RUN  13 , total integrated cost =  3.591246350518965\n",
      "RUN  14 , total integrated cost =  3.591245154769657\n",
      "RUN  15 , total integrated cost =  3.5912316435506075\n",
      "RUN  16 , total integrated cost =  3.591218218105469\n",
      "RUN  17 , total integrated cost =  3.591217668243385\n",
      "RUN  18 , total integrated cost =  3.5912153760804926\n",
      "RUN  19 , total integrated cost =  3.5912137256211856\n",
      "RUN  20 , total integrated cost =  3.5912128194160156\n",
      "RUN  30 , total integrated cost =  3.5911928248644767\n"
     ]
    },
    {
     "output_type": "stream",
     "name": "stderr",
     "text": [
      "ERROR:root:Problem in initial value trasfer\n"
     ]
    },
    {
     "output_type": "stream",
     "name": "stdout",
     "text": [
      "RUN  40 , total integrated cost =  3.5911724058185124\n",
      "RUN  40 , total integrated cost =  3.5911724058185124\n",
      "Improved over  40  iterations in  4.989047534996644  seconds by  0.06264448787996457  percent.\n",
      "Problem in initial value trasfer:  Vmean_exc -74.52686478749423 -74.52686483402982\n",
      "0.00043929077295454244 0.13092914198108285\n",
      "5.551237769899523e-09 0.12950540574463307\n",
      "set cost params:  18.5 1.0 0.0\n",
      "----- 300\n",
      "interpolate adjoint :  True True True\n",
      "RUN  0 , total integrated cost =  3.596076173400371\n",
      "Gradient descend method:  None\n",
      "RUN  1 , total integrated cost =  3.5951083372628103\n",
      "RUN  2 , total integrated cost =  3.595104818638896\n",
      "RUN  3 , total integrated cost =  3.5951006539823718\n",
      "RUN  4 , total integrated cost =  3.5950996313974213\n",
      "RUN  5 , total integrated cost =  3.5950962858378714\n",
      "RUN  6 , total integrated cost =  3.59509507960344\n",
      "RUN  7 , total integrated cost =  3.5950821322110866\n",
      "RUN  8 , total integrated cost =  3.5950757708990837\n",
      "RUN  9 , total integrated cost =  3.5945495696807503\n",
      "RUN  10 , total integrated cost =  3.594331300560844\n",
      "RUN  11 , total integrated cost =  3.5943299255244696\n",
      "RUN  12 , total integrated cost =  3.5943272550115886\n",
      "RUN  13 , total integrated cost =  3.5943252949929883\n",
      "RUN  14 , total integrated cost =  3.5920805451128377\n",
      "RUN  15 , total integrated cost =  3.591969783534263\n",
      "RUN  16 , total integrated cost =  3.5919556390361658\n",
      "RUN  17 , total integrated cost =  3.5919526189543602\n",
      "RUN  18 , total integrated cost =  3.591951639676254\n",
      "RUN  19 , total integrated cost =  3.591806274553573\n",
      "RUN  20 , total integrated cost =  3.59168558162842\n",
      "RUN  30 , total integrated cost =  3.5916490558959846\n"
     ]
    },
    {
     "output_type": "stream",
     "name": "stderr",
     "text": [
      "ERROR:root:Problem in initial value trasfer\n"
     ]
    },
    {
     "output_type": "stream",
     "name": "stdout",
     "text": [
      "RUN  40 , total integrated cost =  3.591611898639015\n",
      "RUN  40 , total integrated cost =  3.591611898639015\n",
      "Improved over  40  iterations in  5.334206974999688  seconds by  0.12414294208720378  percent.\n",
      "Problem in initial value trasfer:  Vmean_exc -74.52686514840784 -74.52686519327686\n",
      "0.0004460307093073847 0.13143975706083913\n",
      "5.551237769899523e-09 0.12950540574463307\n",
      "set cost params:  18.494999999999997 1.0 0.0\n",
      "----- 301\n",
      "interpolate adjoint :  True True True\n",
      "RUN  0 , total integrated cost =  3.5974290305144185\n",
      "Gradient descend method:  None\n",
      "RUN  1 , total integrated cost =  3.5958110169492445\n",
      "RUN  2 , total integrated cost =  3.5955349343214404\n",
      "RUN  3 , total integrated cost =  3.595380186159438\n",
      "RUN  4 , total integrated cost =  3.595368892273207\n",
      "RUN  5 , total integrated cost =  3.595362353673811\n",
      "RUN  6 , total integrated cost =  3.5953604464505373\n",
      "RUN  7 , total integrated cost =  3.595358826348435\n",
      "RUN  8 , total integrated cost =  3.5953578280704637\n",
      "RUN  9 , total integrated cost =  3.5953549937669522\n",
      "RUN  10 , total integrated cost =  3.5953526953227324\n",
      "RUN  11 , total integrated cost =  3.5953474105749583\n",
      "RUN  12 , total integrated cost =  3.5953433688547074\n",
      "RUN  13 , total integrated cost =  3.594430173228674\n",
      "RUN  14 , total integrated cost =  3.5943044712837686\n",
      "RUN  15 , total integrated cost =  3.5943003244271527\n",
      "RUN  16 , total integrated cost =  3.594298080926789\n",
      "RUN  17 , total integrated cost =  3.5942971674589725\n",
      "RUN  18 , total integrated cost =  3.594292268869458\n",
      "RUN  19 , total integrated cost =  3.5942902116194335\n",
      "RUN  20 , total integrated cost =  3.594075406879009\n",
      "RUN  30 , total integrated cost =  3.5939124900652137\n"
     ]
    },
    {
     "output_type": "stream",
     "name": "stderr",
     "text": [
      "ERROR:root:Problem in initial value trasfer\n"
     ]
    },
    {
     "output_type": "stream",
     "name": "stdout",
     "text": [
      "RUN  40 , total integrated cost =  3.593877304767127\n",
      "RUN  40 , total integrated cost =  3.593877304767127\n",
      "Improved over  40  iterations in  4.7987281149980845  seconds by  0.0987295570576805  percent.\n",
      "Problem in initial value trasfer:  Vmean_exc -74.52686553214059 -74.52686557523764\n",
      "0.0004541645316282061 0.13083927313453853\n",
      "5.551237769899523e-09 0.12950540574463307\n",
      "set cost params:  18.490000000000002 1.0 0.0\n",
      "----- 302\n",
      "interpolate adjoint :  True True True\n",
      "RUN  0 , total integrated cost =  3.5997555795128466\n",
      "Gradient descend method:  None\n",
      "RUN  1 , total integrated cost =  3.598040068892936\n",
      "RUN  2 , total integrated cost =  3.597909702867382\n",
      "RUN  3 , total integrated cost =  3.59781605659638\n",
      "RUN  4 , total integrated cost =  3.597757189538862\n",
      "RUN  5 , total integrated cost =  3.597706280976439\n",
      "RUN  6 , total integrated cost =  3.5972615536844823\n",
      "RUN  7 , total integrated cost =  3.59725251582191\n",
      "RUN  8 , total integrated cost =  3.597251424676197\n",
      "RUN  9 , total integrated cost =  3.597250205014726\n",
      "RUN  10 , total integrated cost =  3.5972493969219426\n",
      "RUN  11 , total integrated cost =  3.5972102075718664\n",
      "RUN  12 , total integrated cost =  3.5971700597978207\n",
      "RUN  13 , total integrated cost =  3.5971698562809657\n",
      "RUN  14 , total integrated cost =  3.597168427531905\n",
      "RUN  15 , total integrated cost =  3.5971681713466217\n",
      "RUN  16 , total integrated cost =  3.5971675084439774\n",
      "RUN  17 , total integrated cost =  3.597164651617489\n",
      "RUN  18 , total integrated cost =  3.5971643622704983\n",
      "RUN  19 , total integrated cost =  3.5971639242102356\n",
      "RUN  20 , total integrated cost =  3.597161603975032\n"
     ]
    },
    {
     "output_type": "stream",
     "name": "stderr",
     "text": [
      "ERROR:root:Problem in initial value trasfer\n"
     ]
    },
    {
     "output_type": "stream",
     "name": "stdout",
     "text": [
      "Control only changes marginally.\n",
      "RUN  26 , total integrated cost =  3.596826356982756\n",
      "Improved over  26  iterations in  3.5990056230002665  seconds by  0.0813728172757493  percent.\n",
      "Problem in initial value trasfer:  Vmean_exc -74.52686587568493 -74.52686591719561\n",
      "0.00045220442808731 0.13070144081081495\n",
      "5.551237769899523e-09 0.12950540574463307\n",
      "set cost params:  18.485 1.0 0.0\n",
      "----- 303\n",
      "interpolate adjoint :  True True True\n",
      "RUN  0 , total integrated cost =  3.605012495989205\n",
      "Gradient descend method:  None\n",
      "RUN  1 , total integrated cost =  3.602388625691566\n",
      "RUN  2 , total integrated cost =  3.6023847715878365\n",
      "RUN  3 , total integrated cost =  3.602247487703756\n",
      "RUN  4 , total integrated cost =  3.60214964570717\n",
      "RUN  5 , total integrated cost =  3.6021487774421552\n",
      "RUN  6 , total integrated cost =  3.6021470014715473\n",
      "RUN  7 , total integrated cost =  3.602146649779745\n",
      "RUN  8 , total integrated cost =  3.6021293076906047\n",
      "RUN  9 , total integrated cost =  3.602108858084562\n",
      "RUN  10 , total integrated cost =  3.6021085685186196\n",
      "RUN  11 , total integrated cost =  3.6019638893980566\n",
      "RUN  12 , total integrated cost =  3.601880987164636\n",
      "RUN  13 , total integrated cost =  3.6018778477337388\n",
      "RUN  14 , total integrated cost =  3.6018769973341387\n",
      "RUN  15 , total integrated cost =  3.6018768794199576\n",
      "RUN  16 , total integrated cost =  3.6018759285916055\n",
      "RUN  17 , total integrated cost =  3.6018753552652294\n",
      "RUN  18 , total integrated cost =  3.601875218435303\n",
      "RUN  19 , total integrated cost =  3.601874450197679\n",
      "RUN  20 , total integrated cost =  3.6018740751169798\n",
      "RUN  30 , total integrated cost =  3.6018698363414963\n"
     ]
    },
    {
     "output_type": "stream",
     "name": "stderr",
     "text": [
      "ERROR:root:Problem in initial value trasfer\n"
     ]
    },
    {
     "output_type": "stream",
     "name": "stdout",
     "text": [
      "RUN  40 , total integrated cost =  3.6018638352399814\n",
      "RUN  40 , total integrated cost =  3.6018638352399814\n",
      "Improved over  40  iterations in  4.954955387001974  seconds by  0.08734118821298864  percent.\n",
      "Problem in initial value trasfer:  Vmean_exc -74.52686620834469 -74.52686624831924\n",
      "0.00048058185522451057 0.13074285489247858\n",
      "5.551237769899523e-09 0.12950540574463307\n",
      "set cost params:  18.48 1.0 0.0\n",
      "----- 304\n",
      "interpolate adjoint :  True True True\n",
      "RUN  0 , total integrated cost =  3.6098703170883413\n",
      "Gradient descend method:  None\n",
      "RUN  1 , total integrated cost =  3.607034200967823\n",
      "RUN  2 , total integrated cost =  3.607028913237988\n",
      "RUN  3 , total integrated cost =  3.6070270275880376\n",
      "RUN  4 , total integrated cost =  3.6070235741208427\n",
      "RUN  5 , total integrated cost =  3.6070216819501404\n",
      "RUN  6 , total integrated cost =  3.6070182000341138\n",
      "RUN  7 , total integrated cost =  3.6070162872871685\n",
      "RUN  8 , total integrated cost =  3.607011823819316\n",
      "RUN  9 , total integrated cost =  3.6070089852604266\n",
      "RUN  10 , total integrated cost =  3.6070008593539202\n",
      "RUN  11 , total integrated cost =  3.6069953292164447\n",
      "RUN  12 , total integrated cost =  3.6069734719053987\n",
      "RUN  13 , total integrated cost =  3.606952450139302\n",
      "RUN  14 , total integrated cost =  3.6069509343626307\n",
      "RUN  15 , total integrated cost =  3.6069478226012985\n",
      "RUN  16 , total integrated cost =  3.606946314366196\n",
      "RUN  17 , total integrated cost =  3.6069431137903436\n",
      "RUN  18 , total integrated cost =  3.6069410306187857\n",
      "RUN  19 , total integrated cost =  3.606934258604951\n",
      "RUN  20 , total integrated cost =  3.606928875274134\n",
      "RUN  30 , total integrated cost =  3.606822390741334\n"
     ]
    },
    {
     "output_type": "stream",
     "name": "stderr",
     "text": [
      "ERROR:root:Problem in initial value trasfer\n"
     ]
    },
    {
     "output_type": "stream",
     "name": "stdout",
     "text": [
      "RUN  40 , total integrated cost =  3.6066560163613954\n",
      "RUN  40 , total integrated cost =  3.6066560163613954\n",
      "Improved over  40  iterations in  5.003085063006438  seconds by  0.08904199997795104  percent.\n",
      "Problem in initial value trasfer:  Vmean_exc -74.52686650271704 -74.52686654133227\n",
      "0.0005001780986222554 0.13043802065076257\n",
      "5.551237769899523e-09 0.12950540574463307\n",
      "set cost params:  18.475 1.0 0.0\n",
      "----- 305\n",
      "interpolate adjoint :  True True True\n",
      "RUN  0 , total integrated cost =  3.617486535925324\n",
      "Gradient descend method:  None\n",
      "RUN  1 , total integrated cost =  3.6129845680306247\n",
      "RUN  2 , total integrated cost =  3.612977846449352\n",
      "RUN  3 , total integrated cost =  3.612355009949436\n",
      "RUN  4 , total integrated cost =  3.6123526051372536\n"
     ]
    },
    {
     "output_type": "stream",
     "name": "stderr",
     "text": [
      "ERROR:root:Problem in initial value trasfer\n"
     ]
    },
    {
     "output_type": "stream",
     "name": "stdout",
     "text": [
      "RUN  5 , total integrated cost =  3.6123526051372536\n",
      "Control only changes marginally.\n",
      "RUN  5 , total integrated cost =  3.6123526051372536\n",
      "Improved over  5  iterations in  0.8126050819992088  seconds by  0.14191983127193453  percent.\n",
      "Problem in initial value trasfer:  Vmean_exc -74.52686681892136 -74.52686685607648\n",
      "0.0005221092625738202 0.13086862642068653\n",
      "5.551237769899523e-09 0.12950540574463307\n",
      "set cost params:  18.47 1.0 0.0\n",
      "----- 306\n",
      "interpolate adjoint :  True True True\n",
      "RUN  0 , total integrated cost =  3.623461594949271\n",
      "Gradient descend method:  None\n",
      "RUN  1 , total integrated cost =  3.6187843957701933\n",
      "RUN  2 , total integrated cost =  3.618776829720406\n",
      "RUN  3 , total integrated cost =  3.618774021905426\n",
      "RUN  4 , total integrated cost =  3.6187694984943115\n",
      "RUN  5 , total integrated cost =  3.6187666566543686\n",
      "RUN  6 , total integrated cost =  3.618472423642786\n",
      "RUN  7 , total integrated cost =  3.6182958335948134\n",
      "RUN  8 , total integrated cost =  3.6182951915071087\n",
      "RUN  9 , total integrated cost =  3.61819813749965\n",
      "RUN  10 , total integrated cost =  3.6181407007668076\n",
      "RUN  11 , total integrated cost =  3.6181406438074446\n",
      "RUN  12 , total integrated cost =  3.6181406424690756\n",
      "RUN  13 , total integrated cost =  3.6181406204310194\n",
      "RUN  14 , total integrated cost =  3.6181248931018835\n",
      "RUN  15 , total integrated cost =  3.6181162469629355\n",
      "RUN  16 , total integrated cost =  3.618116166287626\n"
     ]
    },
    {
     "output_type": "stream",
     "name": "stderr",
     "text": [
      "ERROR:root:Problem in initial value trasfer\n"
     ]
    },
    {
     "output_type": "stream",
     "name": "stdout",
     "text": [
      "RUN  17 , total integrated cost =  3.618116166287626\n",
      "Control only changes marginally.\n",
      "RUN  17 , total integrated cost =  3.618116166287626\n",
      "Improved over  17  iterations in  2.387220045995491  seconds by  0.14752270781885102  percent.\n",
      "Problem in initial value trasfer:  Vmean_exc -74.52686708802449 -74.52686712393697\n",
      "0.0005474801046670432 0.1307260516515179\n",
      "5.551237769899523e-09 0.12950540574463307\n",
      "set cost params:  18.465 1.0 0.0\n",
      "----- 307\n",
      "interpolate adjoint :  True True True\n",
      "RUN  0 , total integrated cost =  3.630089326512209\n",
      "Gradient descend method:  None\n",
      "RUN  1 , total integrated cost =  3.625246853639913\n",
      "RUN  2 , total integrated cost =  3.625240765922415\n",
      "RUN  3 , total integrated cost =  3.6252302464362693\n",
      "RUN  4 , total integrated cost =  3.6252232611107913\n",
      "RUN  5 , total integrated cost =  3.6251781264854324\n",
      "RUN  6 , total integrated cost =  3.6251366122550124\n",
      "RUN  7 , total integrated cost =  3.6251165775588605\n",
      "RUN  8 , total integrated cost =  3.6251030819545056\n",
      "RUN  9 , total integrated cost =  3.6250984545290375\n",
      "RUN  10 , total integrated cost =  3.625092152111589\n",
      "RUN  11 , total integrated cost =  3.6250886069187436\n",
      "RUN  12 , total integrated cost =  3.6250836226071232\n",
      "RUN  13 , total integrated cost =  3.625080300691761\n",
      "RUN  14 , total integrated cost =  3.6250748297560036\n",
      "RUN  15 , total integrated cost =  3.625071223752735\n",
      "RUN  16 , total integrated cost =  3.6250560619572845\n",
      "RUN  17 , total integrated cost =  3.625046578601567\n",
      "RUN  18 , total integrated cost =  3.6248707187318194\n",
      "RUN  19 , total integrated cost =  3.624769481569778\n",
      "RUN  20 , total integrated cost =  3.624767931530879\n",
      "RUN  30 , total integrated cost =  3.624471512337889\n"
     ]
    },
    {
     "output_type": "stream",
     "name": "stderr",
     "text": [
      "ERROR:root:Problem in initial value trasfer\n"
     ]
    },
    {
     "output_type": "stream",
     "name": "stdout",
     "text": [
      "Control only changes marginally.\n",
      "RUN  37 , total integrated cost =  3.6244715122859215\n",
      "Improved over  37  iterations in  5.279077571998641  seconds by  0.15475691425162097  percent.\n",
      "Problem in initial value trasfer:  Vmean_exc -74.52686734602989 -74.526867380751\n",
      "0.0005749785237703775 0.13102412668387323\n",
      "5.551237769899523e-09 0.12950540574463307\n",
      "set cost params:  18.46 1.0 0.0\n",
      "----- 308\n",
      "interpolate adjoint :  True True True\n",
      "RUN  0 , total integrated cost =  3.641837078797403\n",
      "Gradient descend method:  None\n",
      "RUN  1 , total integrated cost =  3.633131440752042\n",
      "RUN  2 , total integrated cost =  3.63312214627829\n",
      "RUN  3 , total integrated cost =  3.6330850543266813\n",
      "RUN  4 , total integrated cost =  3.633056342413889\n",
      "RUN  5 , total integrated cost =  3.6329629587147125\n",
      "RUN  6 , total integrated cost =  3.6328903108292163\n",
      "RUN  7 , total integrated cost =  3.632805199744825\n",
      "RUN  8 , total integrated cost =  3.6327197397981354\n",
      "RUN  9 , total integrated cost =  3.632717487307325\n",
      "RUN  10 , total integrated cost =  3.6327106229403245\n",
      "RUN  11 , total integrated cost =  3.6327041913250837\n",
      "RUN  12 , total integrated cost =  3.632660398073464\n",
      "RUN  13 , total integrated cost =  3.6326272257763375\n",
      "RUN  14 , total integrated cost =  3.632624458764417\n",
      "RUN  15 , total integrated cost =  3.6326202338053917\n",
      "RUN  16 , total integrated cost =  3.6326184342326306\n",
      "RUN  17 , total integrated cost =  3.6326113880616315\n",
      "RUN  18 , total integrated cost =  3.6326044447684627\n",
      "RUN  19 , total integrated cost =  3.632524344569931\n",
      "RUN  20 , total integrated cost =  3.6324657552982353\n"
     ]
    },
    {
     "output_type": "stream",
     "name": "stderr",
     "text": [
      "ERROR:root:Problem in initial value trasfer\n"
     ]
    },
    {
     "output_type": "stream",
     "name": "stdout",
     "text": [
      "RUN  30 , total integrated cost =  3.6321949872631114\n",
      "Control only changes marginally.\n",
      "RUN  30 , total integrated cost =  3.6321949872631114\n",
      "Improved over  30  iterations in  4.034499773995776  seconds by  0.2647590028238085  percent.\n",
      "Problem in initial value trasfer:  Vmean_exc -74.52686762938075 -74.52686766279342\n",
      "0.0006041655383209748 0.13087193897667232\n",
      "5.551237769899523e-09 0.12950540574463307\n",
      "set cost params:  18.455000000000002 1.0 0.0\n",
      "----- 309\n",
      "interpolate adjoint :  True True True\n",
      "RUN  0 , total integrated cost =  3.650506975089447\n",
      "Gradient descend method:  None\n",
      "RUN  1 , total integrated cost =  3.6410123263202547\n",
      "RUN  2 , total integrated cost =  3.6409999335757868\n",
      "RUN  3 , total integrated cost =  3.6408036631026346\n",
      "RUN  4 , total integrated cost =  3.64067627219804\n",
      "RUN  5 , total integrated cost =  3.6406527721884063\n",
      "RUN  6 , total integrated cost =  3.6406294273619055\n",
      "RUN  7 , total integrated cost =  3.6406272759895915\n",
      "RUN  8 , total integrated cost =  3.640620703846533\n",
      "RUN  9 , total integrated cost =  3.6406174734008263\n",
      "RUN  10 , total integrated cost =  3.6405907938784776\n",
      "RUN  11 , total integrated cost =  3.640563414831815\n",
      "RUN  12 , total integrated cost =  3.64049183077478\n",
      "RUN  13 , total integrated cost =  3.640411120829605\n",
      "RUN  14 , total integrated cost =  3.6404096470364267\n",
      "RUN  15 , total integrated cost =  3.6404049237305083\n",
      "RUN  16 , total integrated cost =  3.6404030014373863\n",
      "RUN  17 , total integrated cost =  3.6403652197654313\n",
      "RUN  18 , total integrated cost =  3.6403277113702783\n",
      "RUN  19 , total integrated cost =  3.6403232838898734\n",
      "RUN  20 , total integrated cost =  3.6403168994320794\n",
      "RUN  30 , total integrated cost =  3.63982940756325\n"
     ]
    },
    {
     "output_type": "stream",
     "name": "stderr",
     "text": [
      "ERROR:root:Problem in initial value trasfer\n"
     ]
    },
    {
     "output_type": "stream",
     "name": "stdout",
     "text": [
      "RUN  40 , total integrated cost =  3.639824219624077\n",
      "RUN  40 , total integrated cost =  3.639824219624077\n",
      "Improved over  40  iterations in  6.099355628997728  seconds by  0.2926375853619163  percent.\n",
      "Problem in initial value trasfer:  Vmean_exc -74.5268678675831 -74.52686789989585\n",
      "0.0006378603843501992 0.13080254932794808\n",
      "5.551237769899523e-09 0.12950540574463307\n",
      "set cost params:  18.45 1.0 0.0\n",
      "----- 310\n",
      "interpolate adjoint :  True True True\n",
      "RUN  0 , total integrated cost =  3.664735056561675\n",
      "Gradient descend method:  None\n",
      "RUN  1 , total integrated cost =  3.6504829176530644\n",
      "RUN  2 , total integrated cost =  3.650464922024471\n",
      "RUN  3 , total integrated cost =  3.6504538700547493\n",
      "RUN  4 , total integrated cost =  3.6504370588107524\n",
      "RUN  5 , total integrated cost =  3.6504285270476364\n",
      "RUN  6 , total integrated cost =  3.650414433608752\n",
      "RUN  7 , total integrated cost =  3.650406952993411\n",
      "RUN  8 , total integrated cost =  3.6503947964843277\n",
      "RUN  9 , total integrated cost =  3.650389205758442\n",
      "RUN  10 , total integrated cost =  3.650376405856151\n",
      "RUN  11 , total integrated cost =  3.650369293474748\n",
      "RUN  12 , total integrated cost =  3.650345805210379\n",
      "RUN  13 , total integrated cost =  3.650321045850864\n",
      "RUN  14 , total integrated cost =  3.6497937589639875\n",
      "RUN  15 , total integrated cost =  3.649472380860178\n",
      "RUN  16 , total integrated cost =  3.6494701431373344\n",
      "RUN  17 , total integrated cost =  3.649129963711027\n",
      "RUN  18 , total integrated cost =  3.649028133178073\n",
      "RUN  19 , total integrated cost =  3.6488167204100725\n",
      "RUN  20 , total integrated cost =  3.648815986191932\n",
      "RUN  30 , total integrated cost =  3.6487460292865017\n"
     ]
    },
    {
     "output_type": "stream",
     "name": "stderr",
     "text": [
      "ERROR:root:Problem in initial value trasfer\n"
     ]
    },
    {
     "output_type": "stream",
     "name": "stdout",
     "text": [
      "RUN  40 , total integrated cost =  3.648619260957526\n",
      "RUN  40 , total integrated cost =  3.648619260957526\n",
      "Improved over  40  iterations in  6.0782171320024645  seconds by  0.4397533615777718  percent.\n",
      "Problem in initial value trasfer:  Vmean_exc -74.52686811775796 -74.52686814891545\n",
      "0.0006912858425006628 0.13102275361723997\n",
      "5.551237769899523e-09 0.12950540574463307\n",
      "set cost params:  18.445 1.0 0.0\n",
      "----- 311\n",
      "interpolate adjoint :  True True True\n",
      "RUN  0 , total integrated cost =  3.668115803504217\n",
      "Gradient descend method:  None\n",
      "RUN  1 , total integrated cost =  3.658683185805014\n",
      "RUN  2 , total integrated cost =  3.658675721656906\n",
      "RUN  3 , total integrated cost =  3.65815409052959\n",
      "RUN  4 , total integrated cost =  3.657851576143762\n",
      "RUN  5 , total integrated cost =  3.6578462844832536\n",
      "RUN  6 , total integrated cost =  3.6578431550703514\n",
      "RUN  7 , total integrated cost =  3.6578425893449853\n",
      "RUN  8 , total integrated cost =  3.6578283215150917\n",
      "RUN  9 , total integrated cost =  3.6578084840663356\n",
      "RUN  10 , total integrated cost =  3.657808221343933\n",
      "RUN  11 , total integrated cost =  3.657784586969402\n",
      "RUN  12 , total integrated cost =  3.6577564234106306\n",
      "RUN  13 , total integrated cost =  3.6577561987117284\n",
      "RUN  14 , total integrated cost =  3.6576475796357317\n",
      "RUN  15 , total integrated cost =  3.657546881453922\n",
      "RUN  16 , total integrated cost =  3.6575265538113446\n",
      "RUN  17 , total integrated cost =  3.657502612298922\n",
      "RUN  18 , total integrated cost =  3.657502604052439\n",
      "RUN  19 , total integrated cost =  3.6575024932903495\n",
      "RUN  20 , total integrated cost =  3.6575007504157493\n",
      "RUN  30 , total integrated cost =  3.657498711334668\n"
     ]
    },
    {
     "output_type": "stream",
     "name": "stderr",
     "text": [
      "ERROR:root:Problem in initial value trasfer\n"
     ]
    },
    {
     "output_type": "stream",
     "name": "stdout",
     "text": [
      "RUN  40 , total integrated cost =  3.6574967567661916\n",
      "RUN  40 , total integrated cost =  3.6574967567661916\n",
      "Improved over  40  iterations in  6.418550618000154  seconds by  0.2894959512423583  percent.\n",
      "Problem in initial value trasfer:  Vmean_exc -74.52686834001327 -74.52686837014446\n",
      "0.000731331595372792 0.1309366083566466\n",
      "5.551237769899523e-09 0.12950540574463307\n",
      "set cost params:  18.44 1.0 0.0\n",
      "----- 312\n",
      "interpolate adjoint :  True True True\n",
      "RUN  0 , total integrated cost =  3.685018307914299\n",
      "Gradient descend method:  None\n",
      "RUN  1 , total integrated cost =  3.6687384275919843\n",
      "RUN  2 , total integrated cost =  3.6686398282975383\n",
      "RUN  3 , total integrated cost =  3.668538511223531\n",
      "RUN  4 , total integrated cost =  3.6685056146411363\n",
      "RUN  5 , total integrated cost =  3.6684735685730394\n",
      "RUN  6 , total integrated cost =  3.6684519417804227\n",
      "RUN  7 , total integrated cost =  3.6684375468558503\n",
      "RUN  8 , total integrated cost =  3.668426190755262\n",
      "RUN  9 , total integrated cost =  3.6684147520830486\n",
      "RUN  10 , total integrated cost =  3.668403174499817\n",
      "RUN  11 , total integrated cost =  3.668376508912518\n",
      "RUN  12 , total integrated cost =  3.6683640969568954\n",
      "RUN  13 , total integrated cost =  3.66825193752226\n",
      "RUN  14 , total integrated cost =  3.6681493640933445\n",
      "RUN  15 , total integrated cost =  3.6677557401216956\n",
      "RUN  16 , total integrated cost =  3.6674535046071988\n",
      "RUN  17 , total integrated cost =  3.667447755600081\n",
      "RUN  18 , total integrated cost =  3.6674407979175827\n",
      "RUN  19 , total integrated cost =  3.6674353670609907\n",
      "RUN  20 , total integrated cost =  3.6674236995344414\n",
      "RUN  30 , total integrated cost =  3.6670828684336385\n"
     ]
    },
    {
     "output_type": "stream",
     "name": "stderr",
     "text": [
      "ERROR:root:Problem in initial value trasfer\n"
     ]
    },
    {
     "output_type": "stream",
     "name": "stdout",
     "text": [
      "RUN  40 , total integrated cost =  3.6670189038134304\n",
      "RUN  40 , total integrated cost =  3.6670189038134304\n",
      "Improved over  40  iterations in  5.184084380998684  seconds by  0.4884481594626351  percent.\n",
      "Problem in initial value trasfer:  Vmean_exc -74.52686855879016 -74.52686858791111\n",
      "0.0007643418173828209 0.13128534515927093\n",
      "5.551237769899523e-09 0.12950540574463307\n",
      "set cost params:  18.435 1.0 0.0\n",
      "----- 313\n",
      "interpolate adjoint :  True True True\n",
      "RUN  0 , total integrated cost =  3.7034814563336482\n",
      "Gradient descend method:  None\n",
      "RUN  1 , total integrated cost =  3.680582081983644\n",
      "RUN  2 , total integrated cost =  3.6805643488826574\n",
      "RUN  3 , total integrated cost =  3.6805557744975643\n",
      "RUN  4 , total integrated cost =  3.6805343587071357\n",
      "RUN  5 , total integrated cost =  3.6805144238587926\n",
      "RUN  6 , total integrated cost =  3.6804828616879965\n",
      "RUN  7 , total integrated cost =  3.680450324279218\n",
      "RUN  8 , total integrated cost =  3.680237402248572\n",
      "RUN  9 , total integrated cost =  3.6800875343159247\n",
      "RUN  10 , total integrated cost =  3.6796688516451397\n",
      "RUN  11 , total integrated cost =  3.6792589467860046\n",
      "RUN  12 , total integrated cost =  3.6792521383969756\n",
      "RUN  13 , total integrated cost =  3.6792451849190084\n",
      "RUN  14 , total integrated cost =  3.6792412214590215\n",
      "RUN  15 , total integrated cost =  3.679213667234012\n",
      "RUN  16 , total integrated cost =  3.6791883948884796\n",
      "RUN  17 , total integrated cost =  3.6790675620543456\n",
      "RUN  18 , total integrated cost =  3.678980018277929\n",
      "RUN  19 , total integrated cost =  3.678964662797819\n",
      "RUN  20 , total integrated cost =  3.678939682296268\n",
      "RUN  30 , total integrated cost =  3.677960704274289\n"
     ]
    },
    {
     "output_type": "stream",
     "name": "stderr",
     "text": [
      "ERROR:root:Problem in initial value trasfer\n"
     ]
    },
    {
     "output_type": "stream",
     "name": "stdout",
     "text": [
      "RUN  40 , total integrated cost =  3.6779308799901798\n",
      "RUN  40 , total integrated cost =  3.6779308799901798\n",
      "Improved over  40  iterations in  5.413136725001095  seconds by  0.68990696037568  percent.\n",
      "Problem in initial value trasfer:  Vmean_exc -74.5268687956412 -74.52686882366848\n",
      "0.0007993510152145403 0.13098090572470827\n",
      "5.551237769899523e-09 0.12950540574463307\n",
      "set cost params:  18.43 1.0 0.0\n",
      "----- 314\n",
      "interpolate adjoint :  True True True\n",
      "RUN  0 , total integrated cost =  3.7046008543446245\n",
      "Gradient descend method:  None\n",
      "RUN  1 , total integrated cost =  3.6908385049696246\n",
      "RUN  2 , total integrated cost =  3.6907927372021097\n",
      "RUN  3 , total integrated cost =  3.6907607332067283\n",
      "RUN  4 , total integrated cost =  3.6907261475436384\n",
      "RUN  5 , total integrated cost =  3.690717417296859\n",
      "RUN  6 , total integrated cost =  3.690697926145626\n",
      "RUN  7 , total integrated cost =  3.6906896698849345\n",
      "RUN  8 , total integrated cost =  3.6906753250475637\n",
      "RUN  9 , total integrated cost =  3.690666417336057\n",
      "RUN  10 , total integrated cost =  3.68850842047031\n",
      "RUN  11 , total integrated cost =  3.688495669000375\n",
      "RUN  12 , total integrated cost =  3.6884953069242985\n",
      "RUN  13 , total integrated cost =  3.6884949120258894\n",
      "RUN  14 , total integrated cost =  3.6884947718843835\n",
      "RUN  15 , total integrated cost =  3.6884947718843804\n",
      "RUN  16 , total integrated cost =  3.688494771884377\n",
      "RUN  17 , total integrated cost =  3.688494771884376\n",
      "RUN  18 , total integrated cost =  3.6884947718843755\n"
     ]
    },
    {
     "output_type": "stream",
     "name": "stderr",
     "text": [
      "ERROR:root:Problem in initial value trasfer\n"
     ]
    },
    {
     "output_type": "stream",
     "name": "stdout",
     "text": [
      "RUN  19 , total integrated cost =  3.6884947718843755\n",
      "Control only changes marginally.\n",
      "RUN  19 , total integrated cost =  3.6884947718843755\n",
      "Improved over  19  iterations in  3.0715810370020336  seconds by  0.43475891448225923  percent.\n",
      "Problem in initial value trasfer:  Vmean_exc -74.52686899452162 -74.52686902163049\n",
      "0.0008479109105565221 0.13240866017981284\n",
      "5.551237769899523e-09 0.12950540574463307\n",
      "set cost params:  18.425 1.0 0.0\n",
      "----- 315\n",
      "interpolate adjoint :  True True True\n",
      "RUN  0 , total integrated cost =  3.7308115590066713\n",
      "Gradient descend method:  None\n",
      "RUN  1 , total integrated cost =  3.704318559394814\n",
      "RUN  2 , total integrated cost =  3.7042909836480438\n",
      "RUN  3 , total integrated cost =  3.704261402599966\n",
      "RUN  4 , total integrated cost =  3.704250592213272\n",
      "RUN  5 , total integrated cost =  3.704223875988281\n",
      "RUN  6 , total integrated cost =  3.704212469102444\n",
      "RUN  7 , total integrated cost =  3.7041865294978993\n",
      "RUN  8 , total integrated cost =  3.704173908954746\n",
      "RUN  9 , total integrated cost =  3.704149023217902\n",
      "RUN  10 , total integrated cost =  3.7041351025833786\n",
      "RUN  11 , total integrated cost =  3.7041093827241505\n",
      "RUN  12 , total integrated cost =  3.704091926646007\n",
      "RUN  13 , total integrated cost =  3.7040578878917385\n",
      "RUN  14 , total integrated cost =  3.704027609666178\n",
      "RUN  15 , total integrated cost =  3.703988018494154\n",
      "RUN  16 , total integrated cost =  3.7039470267367447\n",
      "RUN  17 , total integrated cost =  3.703899399673618\n",
      "RUN  18 , total integrated cost =  3.7038520678510056\n",
      "RUN  19 , total integrated cost =  3.7038036895588924\n",
      "RUN  20 , total integrated cost =  3.7037523768849336\n",
      "RUN  30 , total integrated cost =  3.7032515714750964\n"
     ]
    },
    {
     "output_type": "stream",
     "name": "stderr",
     "text": [
      "ERROR:root:Problem in initial value trasfer\n"
     ]
    },
    {
     "output_type": "stream",
     "name": "stdout",
     "text": [
      "RUN  40 , total integrated cost =  3.7009943471690914\n",
      "RUN  40 , total integrated cost =  3.7009943471690914\n",
      "Improved over  40  iterations in  4.373871272000542  seconds by  0.7992151671557224  percent.\n",
      "Problem in initial value trasfer:  Vmean_exc -74.52686920928133 -74.52686923539854\n",
      "0.0009094923599144819 0.13199028954563058\n",
      "5.551237769899523e-09 0.12950540574463307\n",
      "set cost params:  18.419999999999998 1.0 0.0\n",
      "----- 316\n",
      "interpolate adjoint :  True True True\n",
      "RUN  0 , total integrated cost =  3.742892227556645\n",
      "Gradient descend method:  None\n",
      "RUN  1 , total integrated cost =  3.71682844375419\n",
      "RUN  2 , total integrated cost =  3.7167749197147595\n",
      "RUN  3 , total integrated cost =  3.7167432660776547\n",
      "RUN  4 , total integrated cost =  3.7167105389071287\n",
      "RUN  5 , total integrated cost =  3.7166793942738043\n",
      "RUN  6 , total integrated cost =  3.7166559217988264\n",
      "RUN  7 , total integrated cost =  3.7166271202085586\n",
      "RUN  8 , total integrated cost =  3.716608304036331\n",
      "RUN  9 , total integrated cost =  3.716551050058568\n",
      "RUN  10 , total integrated cost =  3.7165147415211948\n",
      "RUN  11 , total integrated cost =  3.7164521052362236\n",
      "RUN  12 , total integrated cost =  3.7164038921954847\n",
      "RUN  13 , total integrated cost =  3.7163178512893786\n",
      "RUN  14 , total integrated cost =  3.716240296901645\n",
      "RUN  15 , total integrated cost =  3.7160435634502536\n",
      "RUN  16 , total integrated cost =  3.7158796923812063\n",
      "RUN  17 , total integrated cost =  3.7157871880189366\n",
      "RUN  18 , total integrated cost =  3.715698154254151\n",
      "RUN  19 , total integrated cost =  3.7154424671555204\n",
      "RUN  20 , total integrated cost =  3.7152407444045106\n",
      "RUN  30 , total integrated cost =  3.712893216512119\n"
     ]
    },
    {
     "output_type": "stream",
     "name": "stderr",
     "text": [
      "ERROR:root:Problem in initial value trasfer\n"
     ]
    },
    {
     "output_type": "stream",
     "name": "stdout",
     "text": [
      "RUN  40 , total integrated cost =  3.712806648024526\n",
      "RUN  40 , total integrated cost =  3.712806648024526\n",
      "Improved over  40  iterations in  5.2019534279970685  seconds by  0.803805658913106  percent.\n",
      "Problem in initial value trasfer:  Vmean_exc -74.52686939947772 -74.52686942471662\n",
      "0.000947774140230295 0.13101100658015627\n",
      "5.551237769899523e-09 0.12950540574463307\n",
      "set cost params:  18.415 1.0 0.0\n",
      "----- 317\n",
      "interpolate adjoint :  True True True\n",
      "RUN  0 , total integrated cost =  3.754119252232272\n",
      "Gradient descend method:  None\n",
      "RUN  1 , total integrated cost =  3.7293285770558007\n",
      "RUN  2 , total integrated cost =  3.7292881062958374\n",
      "RUN  3 , total integrated cost =  3.7292587109028124\n",
      "RUN  4 , total integrated cost =  3.7292250103951403\n",
      "RUN  5 , total integrated cost =  3.7291944292259904\n",
      "RUN  6 , total integrated cost =  3.729156379185004\n",
      "RUN  7 , total integrated cost =  3.729125415681107\n",
      "RUN  8 , total integrated cost =  3.7290592609059634\n",
      "RUN  9 , total integrated cost =  3.729006381748823\n",
      "RUN  10 , total integrated cost =  3.726208849038563\n",
      "RUN  11 , total integrated cost =  3.725936116865049\n",
      "RUN  12 , total integrated cost =  3.7259171280279277\n",
      "RUN  13 , total integrated cost =  3.7259020827818454\n",
      "RUN  14 , total integrated cost =  3.7257554015166203\n",
      "RUN  15 , total integrated cost =  3.7256223247230857\n",
      "RUN  16 , total integrated cost =  3.725618903344142\n",
      "RUN  17 , total integrated cost =  3.7256142271939194\n",
      "RUN  18 , total integrated cost =  3.7256111246873664\n",
      "RUN  19 , total integrated cost =  3.7256066712523435\n",
      "RUN  20 , total integrated cost =  3.725603248825487\n",
      "RUN  30 , total integrated cost =  3.7254685066801247\n"
     ]
    },
    {
     "output_type": "stream",
     "name": "stderr",
     "text": [
      "ERROR:root:Problem in initial value trasfer\n"
     ]
    },
    {
     "output_type": "stream",
     "name": "stdout",
     "text": [
      "RUN  40 , total integrated cost =  3.725114009863869\n",
      "RUN  40 , total integrated cost =  3.725114009863869\n",
      "Improved over  40  iterations in  4.822921967999719  seconds by  0.7726244271850504  percent.\n",
      "Problem in initial value trasfer:  Vmean_exc -74.52686958480808 -74.52686960919121\n",
      "0.0009896450107097395 0.13217273483767547\n",
      "5.551237769899523e-09 0.12950540574463307\n",
      "set cost params:  18.41 1.0 0.0\n",
      "----- 318\n",
      "interpolate adjoint :  True True True\n",
      "RUN  0 , total integrated cost =  3.7621859560616886\n",
      "Gradient descend method:  None\n",
      "RUN  1 , total integrated cost =  3.7433185281287082\n",
      "RUN  2 , total integrated cost =  3.7415192277290203\n",
      "RUN  3 , total integrated cost =  3.740814420269627\n",
      "RUN  4 , total integrated cost =  3.740799500821442\n",
      "RUN  5 , total integrated cost =  3.7407863106779122\n",
      "RUN  6 , total integrated cost =  3.7407762969670397\n",
      "RUN  7 , total integrated cost =  3.7407657141599366\n",
      "RUN  8 , total integrated cost =  3.7407572937242923\n",
      "RUN  9 , total integrated cost =  3.7407464492018354\n",
      "RUN  10 , total integrated cost =  3.7407384406279816\n",
      "RUN  11 , total integrated cost =  3.7407214592665046\n",
      "RUN  12 , total integrated cost =  3.7407097323343557\n",
      "RUN  13 , total integrated cost =  3.7406538173003123\n",
      "RUN  14 , total integrated cost =  3.740618351738965\n",
      "RUN  15 , total integrated cost =  3.740576612508283\n",
      "RUN  16 , total integrated cost =  3.740555344644666\n",
      "RUN  17 , total integrated cost =  3.740170192382452\n",
      "RUN  18 , total integrated cost =  3.73989656262669\n",
      "RUN  19 , total integrated cost =  3.7398900059099613\n",
      "RUN  20 , total integrated cost =  3.739885396465222\n",
      "RUN  30 , total integrated cost =  3.739486130098962\n"
     ]
    },
    {
     "output_type": "stream",
     "name": "stderr",
     "text": [
      "ERROR:root:Problem in initial value trasfer\n"
     ]
    },
    {
     "output_type": "stream",
     "name": "stdout",
     "text": [
      "RUN  40 , total integrated cost =  3.73938339621196\n",
      "RUN  40 , total integrated cost =  3.73938339621196\n",
      "Improved over  40  iterations in  4.979593300995475  seconds by  0.6060986914532691  percent.\n",
      "Problem in initial value trasfer:  Vmean_exc -74.52686975950915 -74.52686978308557\n",
      "0.0011204787931260367 0.13219424978581873\n",
      "5.551237769899523e-09 0.12950540574463307\n",
      "set cost params:  18.405 1.0 0.0\n",
      "----- 319\n",
      "interpolate adjoint :  True True True\n",
      "RUN  0 , total integrated cost =  3.7837723750658645\n",
      "Gradient descend method:  None\n",
      "RUN  1 , total integrated cost =  3.757784184531772\n",
      "RUN  2 , total integrated cost =  3.757741899985902\n",
      "RUN  3 , total integrated cost =  3.7551655413989025\n",
      "RUN  4 , total integrated cost =  3.7545701912125446\n",
      "RUN  5 , total integrated cost =  3.7545546663681173\n",
      "RUN  6 , total integrated cost =  3.7545443970634036\n",
      "RUN  7 , total integrated cost =  3.754524741610328\n",
      "RUN  8 , total integrated cost =  3.754511128902599\n",
      "RUN  9 , total integrated cost =  3.7544869434089305\n",
      "RUN  10 , total integrated cost =  3.7544707271330617\n",
      "RUN  11 , total integrated cost =  3.753215306556848\n",
      "RUN  12 , total integrated cost =  3.7531556151985197\n",
      "RUN  13 , total integrated cost =  3.752852061298361\n",
      "RUN  14 , total integrated cost =  3.7527159054010415\n",
      "RUN  15 , total integrated cost =  3.7527157658997097\n",
      "RUN  16 , total integrated cost =  3.752712851822321\n",
      "RUN  17 , total integrated cost =  3.7527089826934104\n",
      "RUN  18 , total integrated cost =  3.752708829719126\n",
      "RUN  19 , total integrated cost =  3.752708463009475\n",
      "RUN  20 , total integrated cost =  3.7527063676422547\n",
      "RUN  30 , total integrated cost =  3.7526982815189633\n"
     ]
    },
    {
     "output_type": "stream",
     "name": "stderr",
     "text": [
      "ERROR:root:Problem in initial value trasfer\n"
     ]
    },
    {
     "output_type": "stream",
     "name": "stdout",
     "text": [
      "RUN  40 , total integrated cost =  3.7526135289351106\n",
      "RUN  40 , total integrated cost =  3.7526135289351106\n",
      "Improved over  40  iterations in  5.330897002997517  seconds by  0.8234862735423292  percent.\n",
      "Problem in initial value trasfer:  Vmean_exc -74.52686991920422 -74.52686994204322\n",
      "0.001216185659735808 0.13277803421272552\n",
      "5.551237769899523e-09 0.12950540574463307\n",
      "set cost params:  18.4 1.0 0.0\n",
      "----- 320\n",
      "interpolate adjoint :  True True True\n",
      "RUN  0 , total integrated cost =  3.7914066836665814\n",
      "Gradient descend method:  None\n",
      "RUN  1 , total integrated cost =  3.7708976976477886\n",
      "RUN  2 , total integrated cost =  3.77086305419111\n",
      "RUN  3 , total integrated cost =  3.770799400393099\n",
      "RUN  4 , total integrated cost =  3.7707533245602796\n",
      "RUN  5 , total integrated cost =  3.7706400551245265\n",
      "RUN  6 , total integrated cost =  3.770527041468691\n",
      "RUN  7 , total integrated cost =  3.7703360486722186\n",
      "RUN  8 , total integrated cost =  3.770169796104252\n",
      "RUN  9 , total integrated cost =  3.7691103278302553\n",
      "RUN  10 , total integrated cost =  3.7686901700257254\n",
      "RUN  11 , total integrated cost =  3.768278684591051\n",
      "RUN  12 , total integrated cost =  3.7681758488657615\n",
      "RUN  13 , total integrated cost =  3.7681753787876935\n",
      "RUN  14 , total integrated cost =  3.768173830110959\n",
      "RUN  15 , total integrated cost =  3.768173451865667\n",
      "RUN  16 , total integrated cost =  3.7681481456507515\n",
      "RUN  17 , total integrated cost =  3.768128741750125\n",
      "RUN  18 , total integrated cost =  3.76812831631062\n",
      "RUN  19 , total integrated cost =  3.7681267562660232\n",
      "RUN  20 , total integrated cost =  3.7681259828368425\n",
      "RUN  30 , total integrated cost =  3.76802655803569\n"
     ]
    },
    {
     "output_type": "stream",
     "name": "stderr",
     "text": [
      "ERROR:root:Problem in initial value trasfer\n"
     ]
    },
    {
     "output_type": "stream",
     "name": "stdout",
     "text": [
      "RUN  40 , total integrated cost =  3.7679165449439935\n",
      "RUN  40 , total integrated cost =  3.7679165449439935\n",
      "Improved over  40  iterations in  4.993032307000249  seconds by  0.619562623650566  percent.\n",
      "Problem in initial value trasfer:  Vmean_exc -74.52687007549792 -74.52687009761522\n",
      "0.0013131651179908665 0.13307676684711614\n",
      "5.551237769899523e-09 0.12950540574463307\n",
      "set cost params:  18.395 1.0 0.0\n",
      "----- 321\n",
      "interpolate adjoint :  True True True\n",
      "RUN  0 , total integrated cost =  3.809151459301601\n",
      "Gradient descend method:  None\n",
      "RUN  1 , total integrated cost =  3.7888680274604383\n",
      "RUN  2 , total integrated cost =  3.7888357725370874\n",
      "RUN  3 , total integrated cost =  3.788788803946631\n",
      "RUN  4 , total integrated cost =  3.78876082632265\n",
      "RUN  5 , total integrated cost =  3.7887134215114524\n",
      "RUN  6 , total integrated cost =  3.7886812170900193\n",
      "RUN  7 , total integrated cost =  3.7886116781947696\n",
      "RUN  8 , total integrated cost =  3.788553015082453\n",
      "RUN  9 , total integrated cost =  3.7884142054296537\n",
      "RUN  10 , total integrated cost =  3.7882968089021256\n",
      "RUN  11 , total integrated cost =  3.7878602229659215\n",
      "RUN  12 , total integrated cost =  3.787540517836175\n",
      "RUN  13 , total integrated cost =  3.7867498768710504\n",
      "RUN  14 , total integrated cost =  3.7864333902353944\n",
      "RUN  15 , total integrated cost =  3.7861021007286175\n",
      "RUN  16 , total integrated cost =  3.7860392352946475\n",
      "RUN  17 , total integrated cost =  3.786038872677943\n",
      "RUN  18 , total integrated cost =  3.786035311623581\n",
      "RUN  19 , total integrated cost =  3.78603329174787\n",
      "RUN  20 , total integrated cost =  3.786032870520528\n",
      "RUN  30 , total integrated cost =  3.7856701314472674\n"
     ]
    },
    {
     "output_type": "stream",
     "name": "stderr",
     "text": [
      "ERROR:root:Problem in initial value trasfer\n"
     ]
    },
    {
     "output_type": "stream",
     "name": "stdout",
     "text": [
      "Control only changes marginally.\n",
      "RUN  38 , total integrated cost =  3.7856638265056124\n",
      "Improved over  38  iterations in  4.988755433994811  seconds by  0.6166106296097666  percent.\n",
      "Problem in initial value trasfer:  Vmean_exc -74.52687025043458 -74.52687027174409\n",
      "0.0014094614333738991 0.1337480259931385\n",
      "5.551237769899523e-09 0.12950540574463307\n",
      "set cost params:  18.39 1.0 0.0\n",
      "----- 322\n",
      "interpolate adjoint :  True True True\n",
      "RUN  0 , total integrated cost =  3.828600629091705\n",
      "Gradient descend method:  None\n",
      "RUN  1 , total integrated cost =  3.806140392613782\n",
      "RUN  2 , total integrated cost =  3.806052220367097\n",
      "RUN  3 , total integrated cost =  3.8060178983349346\n",
      "RUN  4 , total integrated cost =  3.8058286118840323\n",
      "RUN  5 , total integrated cost =  3.8056568250503044\n",
      "RUN  6 , total integrated cost =  3.8033679765345076\n",
      "RUN  7 , total integrated cost =  3.8033616016587763\n",
      "RUN  8 , total integrated cost =  3.8033608991900847\n",
      "RUN  9 , total integrated cost =  3.803359246745376\n",
      "RUN  10 , total integrated cost =  3.8033583477214212\n",
      "RUN  11 , total integrated cost =  3.803336671999287\n",
      "RUN  12 , total integrated cost =  3.8033147191123198\n",
      "RUN  13 , total integrated cost =  3.80331356087698\n",
      "RUN  14 , total integrated cost =  3.8033111418228898\n",
      "RUN  15 , total integrated cost =  3.803310490167841\n",
      "RUN  16 , total integrated cost =  3.8033076711414524\n",
      "RUN  17 , total integrated cost =  3.803305631435915\n",
      "RUN  18 , total integrated cost =  3.803304146139208\n",
      "RUN  19 , total integrated cost =  3.8033006735148693\n",
      "RUN  20 , total integrated cost =  3.803300161770869\n",
      "RUN  30 , total integrated cost =  3.80328106453524\n"
     ]
    },
    {
     "output_type": "stream",
     "name": "stderr",
     "text": [
      "ERROR:root:Problem in initial value trasfer\n"
     ]
    },
    {
     "output_type": "stream",
     "name": "stdout",
     "text": [
      "RUN  40 , total integrated cost =  3.803161619591226\n",
      "RUN  40 , total integrated cost =  3.803161619591226\n",
      "Improved over  40  iterations in  4.786100296994846  seconds by  0.664446672948344  percent.\n",
      "Problem in initial value trasfer:  Vmean_exc -74.52687041445516 -74.52687043500727\n",
      "0.001430457626387311 0.13335547378953072\n",
      "5.551237769899523e-09 0.12950540574463307\n",
      "set cost params:  18.384999999999998 1.0 0.0\n",
      "----- 323\n",
      "interpolate adjoint :  True True True\n",
      "RUN  0 , total integrated cost =  3.848876019858195\n",
      "Gradient descend method:  None\n",
      "RUN  1 , total integrated cost =  3.8253485019856295\n",
      "RUN  2 , total integrated cost =  3.825139787337143\n",
      "RUN  3 , total integrated cost =  3.824865157345839\n",
      "RUN  4 , total integrated cost =  3.824740443057842\n",
      "RUN  5 , total integrated cost =  3.824567526001902\n",
      "RUN  6 , total integrated cost =  3.824462072985351\n",
      "RUN  7 , total integrated cost =  3.824304019635294\n",
      "RUN  8 , total integrated cost =  3.8242592288439146\n",
      "RUN  9 , total integrated cost =  3.8241629967499997\n",
      "RUN  10 , total integrated cost =  3.8241425044992488\n",
      "RUN  11 , total integrated cost =  3.8241049646656795\n",
      "RUN  12 , total integrated cost =  3.8240878066736284\n",
      "RUN  13 , total integrated cost =  3.824065514501453\n",
      "RUN  14 , total integrated cost =  3.824047706099759\n",
      "RUN  15 , total integrated cost =  3.8240285488683803\n",
      "RUN  16 , total integrated cost =  3.8240085838913442\n",
      "RUN  17 , total integrated cost =  3.8239932113572577\n",
      "RUN  18 , total integrated cost =  3.82397149582661\n",
      "RUN  19 , total integrated cost =  3.8239067854706783\n",
      "RUN  20 , total integrated cost =  3.8238480417902254\n",
      "RUN  30 , total integrated cost =  3.822683678236416\n"
     ]
    },
    {
     "output_type": "stream",
     "name": "stderr",
     "text": [
      "ERROR:root:Problem in initial value trasfer\n"
     ]
    },
    {
     "output_type": "stream",
     "name": "stdout",
     "text": [
      "Control only changes marginally.\n",
      "RUN  35 , total integrated cost =  3.8222401401972452\n",
      "Improved over  35  iterations in  4.495686245994875  seconds by  0.692043067210335  percent.\n",
      "Problem in initial value trasfer:  Vmean_exc -74.52687055460652 -74.52687057451143\n",
      "0.00154810045081028 0.13396833772501127\n",
      "5.551237769899523e-09 0.12950540574463307\n",
      "set cost params:  18.380000000000003 1.0 0.0\n",
      "----- 324\n",
      "interpolate adjoint :  True True True\n",
      "RUN  0 , total integrated cost =  3.8849017859554595\n",
      "Gradient descend method:  None\n",
      "RUN  1 , total integrated cost =  3.8487889514327476\n",
      "RUN  2 , total integrated cost =  3.848746333531106\n",
      "RUN  3 , total integrated cost =  3.848675519297572\n",
      "RUN  4 , total integrated cost =  3.848642443966415\n",
      "RUN  5 , total integrated cost =  3.848582986273175\n",
      "RUN  6 , total integrated cost =  3.848552559963095\n",
      "RUN  7 , total integrated cost =  3.8485001791662152\n",
      "RUN  8 , total integrated cost =  3.8484702332478236\n",
      "RUN  9 , total integrated cost =  3.848425016812951\n",
      "RUN  10 , total integrated cost =  3.8483852019209563\n",
      "RUN  11 , total integrated cost =  3.8483431666624517\n",
      "RUN  12 , total integrated cost =  3.8482980673265064\n",
      "RUN  13 , total integrated cost =  3.8482268090298084\n",
      "RUN  14 , total integrated cost =  3.84814377398766\n",
      "RUN  15 , total integrated cost =  3.8477644720489446\n",
      "RUN  16 , total integrated cost =  3.8474107547506393\n",
      "RUN  17 , total integrated cost =  3.8472706550904494\n",
      "RUN  18 , total integrated cost =  3.8471398050149963\n",
      "RUN  19 , total integrated cost =  3.8470127127545837\n",
      "RUN  20 , total integrated cost =  3.8468770760026088\n",
      "RUN  30 , total integrated cost =  3.8460486428927503\n"
     ]
    },
    {
     "output_type": "stream",
     "name": "stderr",
     "text": [
      "ERROR:root:Problem in initial value trasfer\n"
     ]
    },
    {
     "output_type": "stream",
     "name": "stdout",
     "text": [
      "RUN  40 , total integrated cost =  3.8454987686050623\n",
      "RUN  40 , total integrated cost =  3.8454987686050623\n",
      "Improved over  40  iterations in  4.349876205997134  seconds by  1.0142603216597479  percent.\n",
      "Problem in initial value trasfer:  Vmean_exc -74.52687071618215 -74.52687073534096\n",
      "0.0016473402500911778 0.13426216599895965\n",
      "5.551237769899523e-09 0.12950540574463307\n",
      "set cost params:  18.375 1.0 0.0\n",
      "----- 325\n",
      "interpolate adjoint :  True True True\n",
      "RUN  0 , total integrated cost =  3.8977058894017427\n",
      "Gradient descend method:  None\n",
      "RUN  1 , total integrated cost =  3.8709203101529974\n",
      "RUN  2 , total integrated cost =  3.870796372102267\n",
      "RUN  3 , total integrated cost =  3.870727129166821\n",
      "RUN  4 , total integrated cost =  3.870580990145241\n",
      "RUN  5 , total integrated cost =  3.870465330292313\n",
      "RUN  6 , total integrated cost =  3.8703028049815824\n",
      "RUN  7 , total integrated cost =  3.870129414812876\n",
      "RUN  8 , total integrated cost =  3.8699868949200544\n",
      "RUN  9 , total integrated cost =  3.86984538749574\n",
      "RUN  10 , total integrated cost =  3.869655661729934\n",
      "RUN  11 , total integrated cost =  3.8694787324889024\n",
      "RUN  12 , total integrated cost =  3.869289391852181\n",
      "RUN  13 , total integrated cost =  3.869123071752486\n",
      "RUN  14 , total integrated cost =  3.868763153300193\n",
      "RUN  15 , total integrated cost =  3.8684421710150114\n",
      "RUN  16 , total integrated cost =  3.8665315065903894\n",
      "RUN  17 , total integrated cost =  3.8659820036456365\n",
      "RUN  18 , total integrated cost =  3.8659684546020516\n",
      "RUN  19 , total integrated cost =  3.8659580696256852\n",
      "RUN  20 , total integrated cost =  3.865788943400005\n",
      "RUN  30 , total integrated cost =  3.8656204657189246\n"
     ]
    },
    {
     "output_type": "stream",
     "name": "stderr",
     "text": [
      "ERROR:root:Problem in initial value trasfer\n"
     ]
    },
    {
     "output_type": "stream",
     "name": "stdout",
     "text": [
      "RUN  40 , total integrated cost =  3.865516328239425\n",
      "RUN  40 , total integrated cost =  3.865516328239425\n",
      "Improved over  40  iterations in  4.6241813030064804  seconds by  0.8258591611502624  percent.\n",
      "Problem in initial value trasfer:  Vmean_exc -74.52687085035826 -74.5268708688975\n",
      "0.00174005126460692 0.13405793786838016\n",
      "5.551237769899523e-09 0.12950540574463307\n",
      "set cost params:  18.369999999999997 1.0 0.0\n",
      "----- 326\n",
      "interpolate adjoint :  True True True\n",
      "RUN  0 , total integrated cost =  3.9302752684026805\n",
      "Gradient descend method:  None\n",
      "RUN  1 , total integrated cost =  3.893751325671426\n",
      "RUN  2 , total integrated cost =  3.8936800564516276\n",
      "RUN  3 , total integrated cost =  3.893598251975845\n",
      "RUN  4 , total integrated cost =  3.893533280774949\n",
      "RUN  5 , total integrated cost =  3.8934552742542174\n",
      "RUN  6 , total integrated cost =  3.893379019019582\n",
      "RUN  7 , total integrated cost =  3.893309339577829\n",
      "RUN  8 , total integrated cost =  3.8932093693587104\n",
      "RUN  9 , total integrated cost =  3.893136762958375\n",
      "RUN  10 , total integrated cost =  3.892995673196477\n",
      "RUN  11 , total integrated cost =  3.892907700216416\n",
      "RUN  12 , total integrated cost =  3.892765032508537\n",
      "RUN  13 , total integrated cost =  3.89267405054361\n",
      "RUN  14 , total integrated cost =  3.8925312648549992\n",
      "RUN  15 , total integrated cost =  3.8924616316902\n",
      "RUN  16 , total integrated cost =  3.892331773036107\n",
      "RUN  17 , total integrated cost =  3.89226186021166\n",
      "RUN  18 , total integrated cost =  3.891986702160836\n",
      "RUN  19 , total integrated cost =  3.891745438507133\n",
      "RUN  20 , total integrated cost =  3.889439970003997\n",
      "RUN  30 , total integrated cost =  3.8885893510886222\n"
     ]
    },
    {
     "output_type": "stream",
     "name": "stderr",
     "text": [
      "ERROR:root:Problem in initial value trasfer\n"
     ]
    },
    {
     "output_type": "stream",
     "name": "stdout",
     "text": [
      "RUN  40 , total integrated cost =  3.8869649702243976\n",
      "RUN  40 , total integrated cost =  3.8869649702243976\n",
      "Improved over  40  iterations in  4.685144086994114  seconds by  1.1019660258016728  percent.\n",
      "Problem in initial value trasfer:  Vmean_exc -74.52687097662604 -74.52687099458221\n",
      "0.001879209524547206 0.13576580231453653\n",
      "5.551237769899523e-09 0.12950540574463307\n",
      "set cost params:  18.365000000000002 1.0 0.0\n",
      "----- 327\n",
      "interpolate adjoint :  True True True\n",
      "RUN  0 , total integrated cost =  3.9535000780786786\n",
      "Gradient descend method:  None\n",
      "RUN  1 , total integrated cost =  3.9181197055476757\n",
      "RUN  2 , total integrated cost =  3.9178396423778645\n",
      "RUN  3 , total integrated cost =  3.917617909075\n",
      "RUN  4 , total integrated cost =  3.917444178313025\n",
      "RUN  5 , total integrated cost =  3.9172991128338004\n",
      "RUN  6 , total integrated cost =  3.9171519433647357\n",
      "RUN  7 , total integrated cost =  3.917055918142568\n",
      "RUN  8 , total integrated cost =  3.9168732229525984\n",
      "RUN  9 , total integrated cost =  3.9167229439236944\n",
      "RUN  10 , total integrated cost =  3.9164112928760755\n",
      "RUN  11 , total integrated cost =  3.916167630719277\n",
      "RUN  12 , total integrated cost =  3.915839518111705\n",
      "RUN  13 , total integrated cost =  3.9155499945896692\n",
      "RUN  14 , total integrated cost =  3.9155070864493355\n",
      "RUN  15 , total integrated cost =  3.91546607867819\n",
      "RUN  16 , total integrated cost =  3.9154366990821057\n",
      "RUN  17 , total integrated cost =  3.91539563062185\n",
      "RUN  18 , total integrated cost =  3.915371707310567\n",
      "RUN  19 , total integrated cost =  3.915335266072024\n",
      "RUN  20 , total integrated cost =  3.9153132566335973\n",
      "RUN  30 , total integrated cost =  3.914691158784863\n"
     ]
    },
    {
     "output_type": "stream",
     "name": "stderr",
     "text": [
      "ERROR:root:Problem in initial value trasfer\n"
     ]
    },
    {
     "output_type": "stream",
     "name": "stdout",
     "text": [
      "RUN  40 , total integrated cost =  3.9138981393984595\n",
      "RUN  40 , total integrated cost =  3.9138981393984595\n",
      "Improved over  40  iterations in  4.348158601002069  seconds by  1.0016931300900467  percent.\n",
      "Problem in initial value trasfer:  Vmean_exc -74.52687113786604 -74.52687115507766\n",
      "0.0018706379659908375 0.13491716872013776\n",
      "5.551237769899523e-09 0.12950540574463307\n",
      "set cost params:  18.36 1.0 0.0\n",
      "----- 328\n",
      "interpolate adjoint :  True True True\n",
      "RUN  0 , total integrated cost =  3.975565000384678\n",
      "Gradient descend method:  None\n",
      "RUN  1 , total integrated cost =  3.94499413050709\n",
      "RUN  2 , total integrated cost =  3.9435883100664904\n",
      "RUN  3 , total integrated cost =  3.942525933743339\n",
      "RUN  4 , total integrated cost =  3.9424797661410054\n",
      "RUN  5 , total integrated cost =  3.9424362415594807\n",
      "RUN  6 , total integrated cost =  3.9423987741608886\n",
      "RUN  7 , total integrated cost =  3.942359521612975\n",
      "RUN  8 , total integrated cost =  3.9423240119025604\n",
      "RUN  9 , total integrated cost =  3.942291825446002\n",
      "RUN  10 , total integrated cost =  3.9422544643797863\n",
      "RUN  11 , total integrated cost =  3.942209070052005\n",
      "RUN  12 , total integrated cost =  3.942162894988516\n",
      "RUN  13 , total integrated cost =  3.9418830848609216\n",
      "RUN  14 , total integrated cost =  3.941672864618831\n",
      "RUN  15 , total integrated cost =  3.941589642118151\n",
      "RUN  16 , total integrated cost =  3.9414540633582793\n",
      "RUN  17 , total integrated cost =  3.9414311332954424\n",
      "RUN  18 , total integrated cost =  3.941399845531974\n",
      "RUN  19 , total integrated cost =  3.9413808563356723\n",
      "RUN  20 , total integrated cost =  3.9413613640087153\n",
      "RUN  30 , total integrated cost =  3.939836332606671\n"
     ]
    },
    {
     "output_type": "stream",
     "name": "stderr",
     "text": [
      "ERROR:root:Problem in initial value trasfer\n"
     ]
    },
    {
     "output_type": "stream",
     "name": "stdout",
     "text": [
      "RUN  40 , total integrated cost =  3.939472806604764\n",
      "RUN  40 , total integrated cost =  3.939472806604764\n",
      "Improved over  40  iterations in  4.398701090998657  seconds by  0.9078506772351034  percent.\n",
      "Problem in initial value trasfer:  Vmean_exc -74.5268712425014 -74.52687125922984\n",
      "0.00213423953302988 0.1361362884603956\n",
      "5.551237769899523e-09 0.12950540574463307\n",
      "set cost params:  18.355 1.0 0.0\n",
      "----- 329\n",
      "interpolate adjoint :  True True True\n",
      "RUN  0 , total integrated cost =  3.9995083224448447\n",
      "Gradient descend method:  None\n",
      "RUN  1 , total integrated cost =  3.971820734132871\n",
      "RUN  2 , total integrated cost =  3.971717916662333\n",
      "RUN  3 , total integrated cost =  3.971588698376108\n",
      "RUN  4 , total integrated cost =  3.9715062452319363\n",
      "RUN  5 , total integrated cost =  3.971376947968866\n",
      "RUN  6 , total integrated cost =  3.971301726434811\n",
      "RUN  7 , total integrated cost =  3.971191081603927\n",
      "RUN  8 , total integrated cost =  3.971124050929713\n",
      "RUN  9 , total integrated cost =  3.971021202746734\n",
      "RUN  10 , total integrated cost =  3.970959934875866\n",
      "RUN  11 , total integrated cost =  3.9708742644914654\n",
      "RUN  12 , total integrated cost =  3.9708163686389826\n",
      "RUN  13 , total integrated cost =  3.970746594516199\n",
      "RUN  14 , total integrated cost =  3.9706881036505948\n",
      "RUN  15 , total integrated cost =  3.9706312865924196\n",
      "RUN  16 , total integrated cost =  3.970572728461964\n",
      "RUN  17 , total integrated cost =  3.970518225664623\n",
      "RUN  18 , total integrated cost =  3.9704537386563055\n",
      "RUN  19 , total integrated cost =  3.9703825928903167\n",
      "RUN  20 , total integrated cost =  3.970295340415987\n",
      "RUN  30 , total integrated cost =  3.9669056275251084\n"
     ]
    },
    {
     "output_type": "stream",
     "name": "stderr",
     "text": [
      "ERROR:root:Problem in initial value trasfer\n"
     ]
    },
    {
     "output_type": "stream",
     "name": "stdout",
     "text": [
      "RUN  40 , total integrated cost =  3.9668818353054323\n",
      "RUN  40 , total integrated cost =  3.9668818353054323\n",
      "Improved over  40  iterations in  5.876227435001056  seconds by  0.8157624515072541  percent.\n",
      "Problem in initial value trasfer:  Vmean_exc -74.52687136209293 -74.52687137826915\n",
      "0.0022551161949622024 0.13639581077838042\n",
      "5.551237769899523e-09 0.12950540574463307\n",
      "set cost params:  18.35 1.0 0.0\n",
      "----- 330\n",
      "interpolate adjoint :  True True True\n",
      "RUN  0 , total integrated cost =  4.053816996519697\n",
      "Gradient descend method:  None\n",
      "RUN  1 , total integrated cost =  4.005794420551978\n",
      "RUN  2 , total integrated cost =  3.9999913688720383\n",
      "RUN  3 , total integrated cost =  3.999887743239109\n",
      "RUN  4 , total integrated cost =  3.9998518947884922\n",
      "RUN  5 , total integrated cost =  3.9998115878711826\n",
      "RUN  6 , total integrated cost =  3.999806901652585\n",
      "RUN  7 , total integrated cost =  3.9997943683212642\n",
      "RUN  8 , total integrated cost =  3.99979148040186\n",
      "RUN  9 , total integrated cost =  3.9997424376993274\n",
      "RUN  10 , total integrated cost =  3.999693077900304\n",
      "RUN  11 , total integrated cost =  3.9996628605637627\n",
      "RUN  12 , total integrated cost =  3.9996311524266512\n",
      "RUN  13 , total integrated cost =  3.999515148713648\n",
      "RUN  14 , total integrated cost =  3.999392236927235\n",
      "RUN  15 , total integrated cost =  3.9993917426574446\n",
      "RUN  16 , total integrated cost =  3.999388264509006\n",
      "RUN  17 , total integrated cost =  3.999378384362086\n",
      "RUN  18 , total integrated cost =  3.9993777862309052\n",
      "RUN  19 , total integrated cost =  3.9993731156175607\n",
      "RUN  20 , total integrated cost =  3.999361390627349\n",
      "RUN  30 , total integrated cost =  3.998441424417855\n"
     ]
    },
    {
     "output_type": "stream",
     "name": "stderr",
     "text": [
      "ERROR:root:Problem in initial value trasfer\n"
     ]
    },
    {
     "output_type": "stream",
     "name": "stdout",
     "text": [
      "RUN  40 , total integrated cost =  3.9984087125773877\n",
      "RUN  40 , total integrated cost =  3.9984087125773877\n",
      "Improved over  40  iterations in  5.1664502390049165  seconds by  1.3668175941311347  percent.\n",
      "Problem in initial value trasfer:  Vmean_exc -74.52687148645133 -74.52687150205327\n",
      "0.0024642862364731874 0.13747204609237998\n",
      "5.551237769899523e-09 0.12950540574463307\n",
      "set cost params:  18.345 1.0 0.0\n",
      "----- 331\n",
      "interpolate adjoint :  True True True\n",
      "RUN  0 , total integrated cost =  4.070936120711936\n",
      "Gradient descend method:  None\n",
      "RUN  1 , total integrated cost =  4.034837539042777\n",
      "RUN  2 , total integrated cost =  4.034736143540042\n",
      "RUN  3 , total integrated cost =  4.03462576693002\n",
      "RUN  4 , total integrated cost =  4.034527324273622\n",
      "RUN  5 , total integrated cost =  4.034428068303736\n",
      "RUN  6 , total integrated cost =  4.034326810111897\n",
      "RUN  7 , total integrated cost =  4.03423367391149\n",
      "RUN  8 , total integrated cost =  4.034134424613231\n",
      "RUN  9 , total integrated cost =  4.034045921572822\n",
      "RUN  10 , total integrated cost =  4.03395034004395\n",
      "RUN  11 , total integrated cost =  4.0338596901691925\n",
      "RUN  12 , total integrated cost =  4.033745777292612\n",
      "RUN  13 , total integrated cost =  4.033597884312282\n",
      "RUN  14 , total integrated cost =  4.033463357424062\n",
      "RUN  15 , total integrated cost =  4.0332291442157\n",
      "RUN  16 , total integrated cost =  4.033050082139199\n",
      "RUN  17 , total integrated cost =  4.032818747510096\n",
      "RUN  18 , total integrated cost =  4.032638831237451\n",
      "RUN  19 , total integrated cost =  4.029822951094905\n",
      "RUN  20 , total integrated cost =  4.029822770568058\n"
     ]
    },
    {
     "output_type": "stream",
     "name": "stderr",
     "text": [
      "ERROR:root:Problem in initial value trasfer\n"
     ]
    },
    {
     "output_type": "stream",
     "name": "stdout",
     "text": [
      "Control only changes marginally.\n",
      "RUN  28 , total integrated cost =  4.029799826300052\n",
      "Improved over  28  iterations in  3.9556013039982645  seconds by  1.0104873471876061  percent.\n",
      "Problem in initial value trasfer:  Vmean_exc -74.52687159703711 -74.52687161212842\n",
      "0.00261614815451067 0.13765727878501782\n",
      "5.551237769899523e-09 0.12950540574463307\n",
      "set cost params:  18.34 1.0 0.0\n",
      "----- 332\n",
      "interpolate adjoint :  True True True\n",
      "RUN  0 , total integrated cost =  4.100349222776475\n",
      "Gradient descend method:  None\n",
      "RUN  1 , total integrated cost =  4.06867141588388\n",
      "RUN  2 , total integrated cost =  4.0685558607701635\n",
      "RUN  3 , total integrated cost =  4.068420117209346\n",
      "RUN  4 , total integrated cost =  4.06830784736263\n",
      "RUN  5 , total integrated cost =  4.0681798371607645\n",
      "RUN  6 , total integrated cost =  4.068071507608081\n",
      "RUN  7 , total integrated cost =  4.067949545542438\n",
      "RUN  8 , total integrated cost =  4.0678370464713804\n",
      "RUN  9 , total integrated cost =  4.067708216811293\n",
      "RUN  10 , total integrated cost =  4.067570889564259\n",
      "RUN  11 , total integrated cost =  4.06734357014834\n",
      "RUN  12 , total integrated cost =  4.067128412106092\n",
      "RUN  13 , total integrated cost =  4.06660711513807\n",
      "RUN  14 , total integrated cost =  4.066089181207375\n",
      "RUN  15 , total integrated cost =  4.0654420901684905\n",
      "RUN  16 , total integrated cost =  4.064896191968825\n",
      "RUN  17 , total integrated cost =  4.06482156201014\n",
      "RUN  18 , total integrated cost =  4.0647147746039884\n",
      "RUN  19 , total integrated cost =  4.064674929445811\n",
      "RUN  20 , total integrated cost =  4.064632379490845\n",
      "RUN  30 , total integrated cost =  4.06414268541983\n"
     ]
    },
    {
     "output_type": "stream",
     "name": "stderr",
     "text": [
      "ERROR:root:Problem in initial value trasfer\n"
     ]
    },
    {
     "output_type": "stream",
     "name": "stdout",
     "text": [
      "RUN  40 , total integrated cost =  4.063077586705222\n",
      "RUN  40 , total integrated cost =  4.063077586705222\n",
      "Improved over  40  iterations in  5.001329534999968  seconds by  0.9089868702943136  percent.\n",
      "Problem in initial value trasfer:  Vmean_exc -74.52687170740522 -74.5268717219869\n",
      "0.0027449565968234754 0.13844856734490835\n",
      "5.551237769899523e-09 0.12950540574463307\n",
      "set cost params:  18.335 1.0 0.0\n",
      "----- 333\n",
      "interpolate adjoint :  True True True\n",
      "RUN  0 , total integrated cost =  4.163261262521814\n",
      "Gradient descend method:  None\n",
      "RUN  1 , total integrated cost =  4.109611750639073\n",
      "RUN  2 , total integrated cost =  4.109349937582553\n",
      "RUN  3 , total integrated cost =  4.109136926914483\n",
      "RUN  4 , total integrated cost =  4.109013636316665\n",
      "RUN  5 , total integrated cost =  4.108819477538813\n",
      "RUN  6 , total integrated cost =  4.1087041640243145\n",
      "RUN  7 , total integrated cost =  4.108519220400223\n",
      "RUN  8 , total integrated cost =  4.108409854082575\n",
      "RUN  9 , total integrated cost =  4.108236975025654\n",
      "RUN  10 , total integrated cost =  4.108126282950128\n",
      "RUN  11 , total integrated cost =  4.107963832675825\n",
      "RUN  12 , total integrated cost =  4.107859894042046\n",
      "RUN  13 , total integrated cost =  4.107706399147167\n",
      "RUN  14 , total integrated cost =  4.107599626070557\n",
      "RUN  15 , total integrated cost =  4.107449255103507\n",
      "RUN  16 , total integrated cost =  4.107325025590948\n",
      "RUN  17 , total integrated cost =  4.10714746379178\n",
      "RUN  18 , total integrated cost =  4.107003431680997\n",
      "RUN  19 , total integrated cost =  4.1068260757958015\n",
      "RUN  20 , total integrated cost =  4.106681635134339\n",
      "RUN  30 , total integrated cost =  4.103868639912654\n"
     ]
    },
    {
     "output_type": "stream",
     "name": "stderr",
     "text": [
      "ERROR:root:Problem in initial value trasfer\n"
     ]
    },
    {
     "output_type": "stream",
     "name": "stdout",
     "text": [
      "RUN  40 , total integrated cost =  4.103037746000689\n",
      "RUN  40 , total integrated cost =  4.103037746000689\n",
      "Improved over  40  iterations in  4.5608740280003985  seconds by  1.4465466547407146  percent.\n",
      "Problem in initial value trasfer:  Vmean_exc -74.52687182715083 -74.52687184117954\n",
      "0.002895959978137575 0.1393733063819662\n",
      "5.551237769899523e-09 0.12950540574463307\n",
      "set cost params:  18.330000000000002 1.0 0.0\n",
      "----- 334\n",
      "interpolate adjoint :  True True True\n",
      "RUN  0 , total integrated cost =  4.202095667464312\n",
      "Gradient descend method:  None\n",
      "RUN  1 , total integrated cost =  4.149310211136938\n",
      "RUN  2 , total integrated cost =  4.1490786541130165\n",
      "RUN  3 , total integrated cost =  4.1488324604712\n",
      "RUN  4 , total integrated cost =  4.148667973040732\n",
      "RUN  5 , total integrated cost =  4.148494593582798\n",
      "RUN  6 , total integrated cost =  4.148337981090632\n",
      "RUN  7 , total integrated cost =  4.14816999060897\n",
      "RUN  8 , total integrated cost =  4.148020889932638\n",
      "RUN  9 , total integrated cost =  4.147859580154195\n",
      "RUN  10 , total integrated cost =  4.147728370002013\n",
      "RUN  11 , total integrated cost =  4.1475655491102295\n",
      "RUN  12 , total integrated cost =  4.147432389924703\n",
      "RUN  13 , total integrated cost =  4.147262148964621\n",
      "RUN  14 , total integrated cost =  4.147137485866433\n",
      "RUN  15 , total integrated cost =  4.146944348096869\n",
      "RUN  16 , total integrated cost =  4.14678804804172\n",
      "RUN  17 , total integrated cost =  4.146586652648754\n",
      "RUN  18 , total integrated cost =  4.146405638532112\n",
      "RUN  19 , total integrated cost =  4.146176089271293\n",
      "RUN  20 , total integrated cost =  4.145944039446009\n",
      "RUN  30 , total integrated cost =  4.14376586195485\n"
     ]
    },
    {
     "output_type": "stream",
     "name": "stderr",
     "text": [
      "ERROR:root:Problem in initial value trasfer\n"
     ]
    },
    {
     "output_type": "stream",
     "name": "stdout",
     "text": [
      "RUN  40 , total integrated cost =  4.140807240272367\n",
      "RUN  40 , total integrated cost =  4.140807240272367\n",
      "Improved over  40  iterations in  4.976515228998323  seconds by  1.4585205107652541  percent.\n",
      "Problem in initial value trasfer:  Vmean_exc -74.52687190014443 -74.52687191383609\n",
      "0.0034678739568210705 0.13940169498509974\n",
      "5.551237769899523e-09 0.12950540574463307\n",
      "set cost params:  18.325 1.0 0.0\n",
      "----- 335\n",
      "interpolate adjoint :  True True True\n",
      "RUN  0 , total integrated cost =  4.259499442042981\n",
      "Gradient descend method:  None\n",
      "RUN  1 , total integrated cost =  4.189693502651436\n",
      "RUN  2 , total integrated cost =  4.189534079058761\n",
      "RUN  3 , total integrated cost =  4.189310126938779\n",
      "RUN  4 , total integrated cost =  4.18912274709814\n",
      "RUN  5 , total integrated cost =  4.188845258983752\n",
      "RUN  6 , total integrated cost =  4.18859382547283\n",
      "RUN  7 , total integrated cost =  4.188206565830873\n",
      "RUN  8 , total integrated cost =  4.187810579995392\n",
      "RUN  9 , total integrated cost =  4.186062335818527\n",
      "RUN  10 , total integrated cost =  4.184923692380909\n",
      "RUN  11 , total integrated cost =  4.18463480420687\n",
      "RUN  12 , total integrated cost =  4.1844044404462535\n",
      "RUN  13 , total integrated cost =  4.184080958018297\n",
      "RUN  14 , total integrated cost =  4.183837514967923\n",
      "RUN  15 , total integrated cost =  4.182837493061291\n",
      "RUN  16 , total integrated cost =  4.182257198975326\n",
      "RUN  17 , total integrated cost =  4.181548428246629\n",
      "RUN  18 , total integrated cost =  4.18118867914769\n",
      "RUN  19 , total integrated cost =  4.1811688203011235\n",
      "RUN  20 , total integrated cost =  4.181151509348507\n",
      "RUN  30 , total integrated cost =  4.180398184705053\n"
     ]
    },
    {
     "output_type": "stream",
     "name": "stderr",
     "text": [
      "ERROR:root:Problem in initial value trasfer\n"
     ]
    },
    {
     "output_type": "stream",
     "name": "stdout",
     "text": [
      "RUN  40 , total integrated cost =  4.18028116634379\n",
      "RUN  40 , total integrated cost =  4.18028116634379\n",
      "Improved over  40  iterations in  5.173022339004092  seconds by  1.8598024668644086  percent.\n",
      "Problem in initial value trasfer:  Vmean_exc -74.52687201358866 -74.52687202675646\n",
      "0.003394254508429933 0.1404927689581799\n",
      "5.551237769899523e-09 0.12950540574463307\n",
      "set cost params:  18.32 1.0 0.0\n",
      "----- 336\n",
      "interpolate adjoint :  True True True\n",
      "RUN  0 , total integrated cost =  4.27141822592606\n",
      "Gradient descend method:  None\n",
      "RUN  1 , total integrated cost =  4.2306759373848415\n",
      "RUN  2 , total integrated cost =  4.230480007590531\n",
      "RUN  3 , total integrated cost =  4.230185430370529\n",
      "RUN  4 , total integrated cost =  4.229913730102112\n",
      "RUN  5 , total integrated cost =  4.229550264883803\n",
      "RUN  6 , total integrated cost =  4.2292644482056865\n",
      "RUN  7 , total integrated cost =  4.228904959134982\n",
      "RUN  8 , total integrated cost =  4.228599376198175\n",
      "RUN  9 , total integrated cost =  4.228260969236742\n",
      "RUN  10 , total integrated cost =  4.228010993389882\n",
      "RUN  11 , total integrated cost =  4.227722493694329\n",
      "RUN  12 , total integrated cost =  4.227489475143951\n",
      "RUN  13 , total integrated cost =  4.227230448436636\n",
      "RUN  14 , total integrated cost =  4.227027284143607\n",
      "RUN  15 , total integrated cost =  4.2245125977527715\n",
      "RUN  16 , total integrated cost =  4.223868346915266\n",
      "RUN  17 , total integrated cost =  4.223761113800494\n",
      "RUN  18 , total integrated cost =  4.223705336310958\n",
      "RUN  19 , total integrated cost =  4.223683504786701\n",
      "RUN  20 , total integrated cost =  4.223651619748123\n",
      "RUN  30 , total integrated cost =  4.223243621104661\n"
     ]
    },
    {
     "output_type": "stream",
     "name": "stderr",
     "text": [
      "ERROR:root:Problem in initial value trasfer\n"
     ]
    },
    {
     "output_type": "stream",
     "name": "stdout",
     "text": [
      "RUN  40 , total integrated cost =  4.223201351566104\n",
      "RUN  40 , total integrated cost =  4.223201351566104\n",
      "Improved over  40  iterations in  4.737685950000014  seconds by  1.1288258795941886  percent.\n",
      "Problem in initial value trasfer:  Vmean_exc -74.52687210830523 -74.52687212103567\n",
      "0.003578520563348627 0.14130203713408715\n",
      "5.551237769899523e-09 0.12950540574463307\n",
      "set cost params:  18.315 1.0 0.0\n",
      "----- 337\n",
      "interpolate adjoint :  True True True\n",
      "RUN  0 , total integrated cost =  4.348650584234715\n",
      "Gradient descend method:  None\n",
      "RUN  1 , total integrated cost =  4.2830698180642175\n",
      "RUN  2 , total integrated cost =  4.282823863893105\n",
      "RUN  3 , total integrated cost =  4.2825816073235625\n",
      "RUN  4 , total integrated cost =  4.282367005236023\n",
      "RUN  5 , total integrated cost =  4.282147979460128\n",
      "RUN  6 , total integrated cost =  4.281945800613362\n",
      "RUN  7 , total integrated cost =  4.281665125237924\n",
      "RUN  8 , total integrated cost =  4.281489578228191\n",
      "RUN  9 , total integrated cost =  4.2812162262091915\n",
      "RUN  10 , total integrated cost =  4.281032318712664\n",
      "RUN  11 , total integrated cost =  4.280784225196115\n",
      "RUN  12 , total integrated cost =  4.280604761613976\n",
      "RUN  13 , total integrated cost =  4.280343757891384\n",
      "RUN  14 , total integrated cost =  4.280131617448108\n",
      "RUN  15 , total integrated cost =  4.279861690763861\n",
      "RUN  16 , total integrated cost =  4.279627766958101\n",
      "RUN  17 , total integrated cost =  4.279014369028452\n",
      "RUN  18 , total integrated cost =  4.278494218765061\n",
      "RUN  19 , total integrated cost =  4.277915221405901\n",
      "RUN  20 , total integrated cost =  4.277441658648378\n",
      "RUN  30 , total integrated cost =  4.274541447212242\n"
     ]
    },
    {
     "output_type": "stream",
     "name": "stderr",
     "text": [
      "ERROR:root:Problem in initial value trasfer\n"
     ]
    },
    {
     "output_type": "stream",
     "name": "stdout",
     "text": [
      "RUN  40 , total integrated cost =  4.274519155069805\n",
      "RUN  40 , total integrated cost =  4.274519155069805\n",
      "Improved over  40  iterations in  4.691692667001917  seconds by  1.7046996011512334  percent.\n",
      "Problem in initial value trasfer:  Vmean_exc -74.52687221053966 -74.52687222279802\n",
      "0.0037972867587893547 0.1418907776626029\n",
      "5.551237769899523e-09 0.12950540574463307\n",
      "set cost params:  18.31 1.0 0.0\n",
      "----- 338\n",
      "interpolate adjoint :  True True True\n",
      "RUN  0 , total integrated cost =  4.394003811583661\n",
      "Gradient descend method:  None\n",
      "RUN  1 , total integrated cost =  4.333412399699866\n",
      "RUN  2 , total integrated cost =  4.329482290424461\n",
      "RUN  3 , total integrated cost =  4.3271349138774085\n",
      "RUN  4 , total integrated cost =  4.327061056202773\n",
      "RUN  5 , total integrated cost =  4.326979168532761\n",
      "RUN  6 , total integrated cost =  4.325261829157225\n",
      "RUN  7 , total integrated cost =  4.324639404158763\n",
      "RUN  8 , total integrated cost =  4.324631433969215\n",
      "RUN  9 , total integrated cost =  4.324377702317966\n",
      "RUN  10 , total integrated cost =  4.324186035753685\n",
      "RUN  11 , total integrated cost =  4.3241846960513035\n",
      "RUN  12 , total integrated cost =  4.324184696051293\n",
      "RUN  13 , total integrated cost =  4.32418469605129\n",
      "RUN  14 , total integrated cost =  4.324184696051288\n",
      "RUN  15 , total integrated cost =  4.324184696051287\n"
     ]
    },
    {
     "output_type": "stream",
     "name": "stderr",
     "text": [
      "ERROR:root:Problem in initial value trasfer\n"
     ]
    },
    {
     "output_type": "stream",
     "name": "stdout",
     "text": [
      "RUN  16 , total integrated cost =  4.324184696051287\n",
      "Control only changes marginally.\n",
      "RUN  16 , total integrated cost =  4.324184696051287\n",
      "Improved over  16  iterations in  2.786091262001719  seconds by  1.5889634721825843  percent.\n",
      "Problem in initial value trasfer:  Vmean_exc -74.52687229654556 -74.52687230840675\n",
      "0.004072280156257071 0.14305715147078749\n",
      "5.551237769899523e-09 0.12950540574463307\n",
      "set cost params:  18.305 1.0 0.0\n",
      "----- 339\n",
      "interpolate adjoint :  True True True\n",
      "RUN  0 , total integrated cost =  4.437840028714517\n",
      "Gradient descend method:  None\n",
      "RUN  1 , total integrated cost =  4.38658828290155\n",
      "RUN  2 , total integrated cost =  4.386227105236793\n",
      "RUN  3 , total integrated cost =  4.385868077273732\n",
      "RUN  4 , total integrated cost =  4.3855974239489255\n",
      "RUN  5 , total integrated cost =  4.385325514730876\n",
      "RUN  6 , total integrated cost =  4.385072001987877\n",
      "RUN  7 , total integrated cost =  4.384812406266712\n",
      "RUN  8 , total integrated cost =  4.384576588980558\n",
      "RUN  9 , total integrated cost =  4.384333191820354\n",
      "RUN  10 , total integrated cost =  4.384088657327256\n",
      "RUN  11 , total integrated cost =  4.383861934710824\n",
      "RUN  12 , total integrated cost =  4.3836519527405615\n",
      "RUN  13 , total integrated cost =  4.383436759575551\n",
      "RUN  14 , total integrated cost =  4.383219796075916\n",
      "RUN  15 , total integrated cost =  4.383011891131349\n",
      "RUN  16 , total integrated cost =  4.3828172745966425\n",
      "RUN  17 , total integrated cost =  4.382619090958886\n",
      "RUN  18 , total integrated cost =  4.382442293893808\n",
      "RUN  19 , total integrated cost =  4.382253068355146\n",
      "RUN  20 , total integrated cost =  4.38209217287653\n",
      "RUN  30 , total integrated cost =  4.380258293966214\n"
     ]
    },
    {
     "output_type": "stream",
     "name": "stderr",
     "text": [
      "ERROR:root:Problem in initial value trasfer\n"
     ]
    },
    {
     "output_type": "stream",
     "name": "stdout",
     "text": [
      "RUN  40 , total integrated cost =  4.378191360179672\n",
      "RUN  40 , total integrated cost =  4.378191360179672\n",
      "Improved over  40  iterations in  4.45383504700294  seconds by  1.3440923545890797  percent.\n",
      "Problem in initial value trasfer:  Vmean_exc -74.52687238360065 -74.52687239505984\n",
      "0.0043208192285254035 0.147354347566662\n",
      "5.551237769899523e-09 0.12950540574463307\n",
      "set cost params:  18.3 1.0 0.0\n",
      "----- 340\n",
      "interpolate adjoint :  True True True\n",
      "RUN  0 , total integrated cost =  4.525773265153416\n",
      "Gradient descend method:  None\n",
      "RUN  1 , total integrated cost =  4.446432563076913\n",
      "RUN  2 , total integrated cost =  4.445836565330825\n",
      "RUN  3 , total integrated cost =  4.445219774001085\n",
      "RUN  4 , total integrated cost =  4.444606256728868\n",
      "RUN  5 , total integrated cost =  4.443985915271514\n",
      "RUN  6 , total integrated cost =  4.44321403851251\n",
      "RUN  7 , total integrated cost =  4.4425653412248725\n",
      "RUN  8 , total integrated cost =  4.442004604276058\n",
      "RUN  9 , total integrated cost =  4.441438009065278\n",
      "RUN  10 , total integrated cost =  4.440950510970782\n",
      "RUN  11 , total integrated cost =  4.4404990119508785\n",
      "RUN  12 , total integrated cost =  4.4399200210283984\n",
      "RUN  13 , total integrated cost =  4.4393658987822215\n",
      "RUN  14 , total integrated cost =  4.43868293241775\n",
      "RUN  15 , total integrated cost =  4.438123200883272\n",
      "RUN  16 , total integrated cost =  4.4340404268865266\n",
      "RUN  17 , total integrated cost =  4.433586560381569\n",
      "RUN  18 , total integrated cost =  4.432687134010202\n",
      "RUN  19 , total integrated cost =  4.432499481645147\n",
      "RUN  20 , total integrated cost =  4.432498381397596\n",
      "RUN  30 , total integrated cost =  4.432459263692575\n"
     ]
    },
    {
     "output_type": "stream",
     "name": "stderr",
     "text": [
      "ERROR:root:Problem in initial value trasfer\n"
     ]
    },
    {
     "output_type": "stream",
     "name": "stdout",
     "text": [
      "Control only changes marginally.\n",
      "RUN  33 , total integrated cost =  4.432459263692573\n",
      "Improved over  33  iterations in  4.409605039996677  seconds by  2.0618355360247875  percent.\n",
      "Problem in initial value trasfer:  Vmean_exc -74.52687245992226 -74.52687247102904\n",
      "0.0046652714638294466 0.1452136997238996\n",
      "5.551237769899523e-09 0.12950540574463307\n",
      "set cost params:  18.294999999999998 1.0 0.0\n",
      "----- 341\n",
      "interpolate adjoint :  True True True\n",
      "RUN  0 , total integrated cost =  4.591753940734552\n",
      "Gradient descend method:  None\n",
      "RUN  1 , total integrated cost =  4.5103860825276625\n",
      "RUN  2 , total integrated cost =  4.509920362085408\n",
      "RUN  3 , total integrated cost =  4.509518638902992\n",
      "RUN  4 , total integrated cost =  4.509114109962932\n",
      "RUN  5 , total integrated cost =  4.508738599539083\n",
      "RUN  6 , total integrated cost =  4.508364162379408\n",
      "RUN  7 , total integrated cost =  4.5080071589971125\n",
      "RUN  8 , total integrated cost =  4.507641039920412\n",
      "RUN  9 , total integrated cost =  4.5073016561871615\n",
      "RUN  10 , total integrated cost =  4.506922171272458\n",
      "RUN  11 , total integrated cost =  4.506608968178441\n",
      "RUN  12 , total integrated cost =  4.506270040762305\n",
      "RUN  13 , total integrated cost =  4.505981017704444\n",
      "RUN  14 , total integrated cost =  4.505676257218657\n",
      "RUN  15 , total integrated cost =  4.505409321526719\n",
      "RUN  16 , total integrated cost =  4.505103439872026\n",
      "RUN  17 , total integrated cost =  4.504824801753451\n",
      "RUN  18 , total integrated cost =  4.50418505506184\n",
      "RUN  19 , total integrated cost =  4.50372702238578\n",
      "RUN  20 , total integrated cost =  4.502952594795836\n",
      "RUN  30 , total integrated cost =  4.499918479777881\n"
     ]
    },
    {
     "output_type": "stream",
     "name": "stderr",
     "text": [
      "ERROR:root:Problem in initial value trasfer\n"
     ]
    },
    {
     "output_type": "stream",
     "name": "stdout",
     "text": [
      "RUN  40 , total integrated cost =  4.499635502467152\n",
      "RUN  40 , total integrated cost =  4.499635502467152\n",
      "Improved over  40  iterations in  5.222680784005206  seconds by  2.0061710504606083  percent.\n",
      "Problem in initial value trasfer:  Vmean_exc -74.52687254873602 -74.52687255943269\n",
      "0.004981749200846262 0.14583028567664189\n",
      "5.551237769899523e-09 0.12950540574463307\n",
      "set cost params:  18.29 1.0 0.0\n",
      "----- 342\n",
      "interpolate adjoint :  True True True\n",
      "RUN  0 , total integrated cost =  4.655861649383522\n",
      "Gradient descend method:  None\n",
      "RUN  1 , total integrated cost =  4.576864274604354\n",
      "RUN  2 , total integrated cost =  4.57636746639396\n",
      "RUN  3 , total integrated cost =  4.575850447691166\n",
      "RUN  4 , total integrated cost =  4.575472768235357\n",
      "RUN  5 , total integrated cost =  4.5749188405190395\n",
      "RUN  6 , total integrated cost =  4.574465412253066\n",
      "RUN  7 , total integrated cost =  4.573922058876082\n",
      "RUN  8 , total integrated cost =  4.57345857829421\n",
      "RUN  9 , total integrated cost =  4.572834163206675\n",
      "RUN  10 , total integrated cost =  4.572271174571783\n",
      "RUN  11 , total integrated cost =  4.571519784675263\n",
      "RUN  12 , total integrated cost =  4.570861744592571\n",
      "RUN  13 , total integrated cost =  4.570238373153769\n",
      "RUN  14 , total integrated cost =  4.569708572098773\n",
      "RUN  15 , total integrated cost =  4.568809339300055\n",
      "RUN  16 , total integrated cost =  4.568044147102912\n",
      "RUN  17 , total integrated cost =  4.566461475802845\n",
      "RUN  18 , total integrated cost =  4.565589985545068\n",
      "RUN  19 , total integrated cost =  4.565517562253334\n",
      "RUN  20 , total integrated cost =  4.565454773082634\n",
      "RUN  30 , total integrated cost =  4.564947614364862\n"
     ]
    },
    {
     "output_type": "stream",
     "name": "stderr",
     "text": [
      "ERROR:root:Problem in initial value trasfer\n"
     ]
    },
    {
     "output_type": "stream",
     "name": "stdout",
     "text": [
      "RUN  40 , total integrated cost =  4.564174277706577\n",
      "RUN  40 , total integrated cost =  4.564174277706577\n",
      "Improved over  40  iterations in  5.019464297001832  seconds by  1.969289007741125  percent.\n",
      "Problem in initial value trasfer:  Vmean_exc -74.52687262237563 -74.52687263273225\n",
      "0.005353093793254117 0.14698996829848143\n",
      "5.551237769899523e-09 0.12950540574463307\n",
      "set cost params:  18.285 1.0 0.0\n",
      "----- 343\n",
      "interpolate adjoint :  True True True\n",
      "RUN  0 , total integrated cost =  4.706216938371231\n",
      "Gradient descend method:  None\n",
      "RUN  1 , total integrated cost =  4.6447863849688416\n",
      "RUN  2 , total integrated cost =  4.635477111151822\n",
      "RUN  3 , total integrated cost =  4.634010948915311\n",
      "RUN  4 , total integrated cost =  4.633955004283326\n",
      "RUN  5 , total integrated cost =  4.633915230211893\n",
      "RUN  6 , total integrated cost =  4.6338835402416665\n",
      "RUN  7 , total integrated cost =  4.633855204553718\n",
      "RUN  8 , total integrated cost =  4.633831946830458\n",
      "RUN  9 , total integrated cost =  4.633797126129897\n",
      "RUN  10 , total integrated cost =  4.633776941377261\n",
      "RUN  11 , total integrated cost =  4.633706636843166\n",
      "RUN  12 , total integrated cost =  4.633646738580853\n",
      "RUN  13 , total integrated cost =  4.633555804683463\n",
      "RUN  14 , total integrated cost =  4.633492868293728\n",
      "RUN  15 , total integrated cost =  4.633396586537754\n",
      "RUN  16 , total integrated cost =  4.633333894962514\n",
      "RUN  17 , total integrated cost =  4.633320974072066\n",
      "RUN  18 , total integrated cost =  4.6333073345545195\n",
      "RUN  19 , total integrated cost =  4.6333055426053855\n",
      "RUN  20 , total integrated cost =  4.633300003876418\n",
      "RUN  30 , total integrated cost =  4.63318536401865\n"
     ]
    },
    {
     "output_type": "stream",
     "name": "stderr",
     "text": [
      "ERROR:root:Problem in initial value trasfer\n"
     ]
    },
    {
     "output_type": "stream",
     "name": "stdout",
     "text": [
      "Control only changes marginally.\n",
      "RUN  31 , total integrated cost =  4.63318536401865\n",
      "Improved over  31  iterations in  4.20904578200134  seconds by  1.5518106221821597  percent.\n",
      "Problem in initial value trasfer:  Vmean_exc -74.52687269486631 -74.5268727048882\n",
      "0.005738362458457602 0.14826879852638358\n",
      "5.551237769899523e-09 0.12950540574463307\n",
      "set cost params:  18.28 1.0 0.0\n",
      "----- 344\n",
      "interpolate adjoint :  True True True\n",
      "RUN  0 , total integrated cost =  4.80741480245045\n",
      "Gradient descend method:  None\n",
      "RUN  1 , total integrated cost =  4.720506865255844\n",
      "RUN  2 , total integrated cost =  4.7198327082437554\n",
      "RUN  3 , total integrated cost =  4.719291524966182\n",
      "RUN  4 , total integrated cost =  4.718369270897073\n",
      "RUN  5 , total integrated cost =  4.717522480361373\n",
      "RUN  6 , total integrated cost =  4.715165609889135\n",
      "RUN  7 , total integrated cost =  4.7136596376200055\n",
      "RUN  8 , total integrated cost =  4.711962828723694\n",
      "RUN  9 , total integrated cost =  4.710752256744907\n",
      "RUN  10 , total integrated cost =  4.710106818928573\n",
      "RUN  11 , total integrated cost =  4.709713866625858\n",
      "RUN  12 , total integrated cost =  4.708206480622279\n",
      "RUN  13 , total integrated cost =  4.707714632049465\n",
      "RUN  14 , total integrated cost =  4.707646477982826\n",
      "RUN  15 , total integrated cost =  4.707603878123254\n",
      "RUN  16 , total integrated cost =  4.707552785036479\n",
      "RUN  17 , total integrated cost =  4.707520223897445\n",
      "RUN  18 , total integrated cost =  4.707182578603636\n",
      "RUN  19 , total integrated cost =  4.707168139307537\n",
      "RUN  20 , total integrated cost =  4.707166798279896\n",
      "RUN  30 , total integrated cost =  4.707080982536462\n",
      "RUN  40 , total integrated cost =  4.707078084977776\n",
      "RUN  40 , total integrated cost =  4.707078084977776\n",
      "Improved over  40  iterations in  5.184496424000827  seconds by  2.0871241945157237  percent.\n",
      "0.006174852015505499 0.1495609952070544\n",
      "5.551237769899523e-09 0.12950540574463307\n",
      "set cost params:  18.275 1.0 0.0\n",
      "----- 345\n",
      "interpolate adjoint :  True True True\n",
      "RUN  0 , total integrated cost =  4.919597042507462\n",
      "Gradient descend method:  None\n",
      "RUN  1 , total integrated cost =  4.809803156208923\n",
      "RUN  2 , total integrated cost =  4.79658775705491\n",
      "RUN  3 , total integrated cost =  4.795843372927279\n",
      "RUN  4 , total integrated cost =  4.795837796666515\n",
      "RUN  5 , total integrated cost =  4.795837690216787\n",
      "RUN  6 , total integrated cost =  4.7958376891445536\n",
      "RUN  7 , total integrated cost =  4.79583768914428\n",
      "RUN  8 , total integrated cost =  4.795837689144257\n",
      "RUN  9 , total integrated cost =  4.795837689144256\n",
      "RUN  10 , total integrated cost =  4.795837689144256\n",
      "Control only changes marginally.\n",
      "RUN  10 , total integrated cost =  4.795837689144256\n",
      "Improved over  10  iterations in  1.4741608260010253  seconds by  2.5156400472207707  percent.\n",
      "0.0065472027582964476 0.15057482961070023\n",
      "5.551237769899523e-09 0.12950540574463307\n",
      "set cost params:  18.27 1.0 0.0\n",
      "----- 346\n",
      "interpolate adjoint :  True True True\n",
      "RUN  0 , total integrated cost =  4.979161440981912\n",
      "Gradient descend method:  None\n",
      "RUN  1 , total integrated cost =  4.897355624939039\n",
      "RUN  2 , total integrated cost =  4.896642436821728\n",
      "RUN  3 , total integrated cost =  4.895989013404688\n",
      "RUN  4 , total integrated cost =  4.895259086338342\n",
      "RUN  5 , total integrated cost =  4.894686409284833\n",
      "RUN  6 , total integrated cost =  4.893779808774434\n",
      "RUN  7 , total integrated cost =  4.893065450075062\n",
      "RUN  8 , total integrated cost =  4.8919765025694595\n",
      "RUN  9 , total integrated cost =  4.891097042566131\n",
      "RUN  10 , total integrated cost =  4.888400000808446\n",
      "RUN  11 , total integrated cost =  4.88646413309529\n",
      "RUN  12 , total integrated cost =  4.883615994515441\n",
      "RUN  13 , total integrated cost =  4.882208876581121\n",
      "RUN  14 , total integrated cost =  4.8818455649241566\n",
      "RUN  15 , total integrated cost =  4.881559524010131\n",
      "RUN  16 , total integrated cost =  4.881549479844819\n",
      "RUN  17 , total integrated cost =  4.881549437218913\n",
      "RUN  18 , total integrated cost =  4.8815494372006745\n",
      "RUN  19 , total integrated cost =  4.881549437200653\n",
      "RUN  20 , total integrated cost =  4.8815494372006505\n",
      "Control only changes marginally.\n",
      "RUN  25 , total integrated cost =  4.881549437200646\n",
      "Improved over  25  iterations in  3.8670433000006597  seconds by  1.960410501612813  percent.\n",
      "0.007065811668110676 0.1509423862216976\n",
      "5.551237769899523e-09 0.12950540574463307\n",
      "set cost params:  18.265 1.0 0.0\n",
      "----- 347\n",
      "interpolate adjoint :  True True True\n",
      "RUN  0 , total integrated cost =  5.11524039896585\n",
      "Gradient descend method:  None\n",
      "RUN  1 , total integrated cost =  4.9928608168689035\n",
      "RUN  2 , total integrated cost =  4.991808882962827\n",
      "RUN  3 , total integrated cost =  4.990952088255857\n",
      "RUN  4 , total integrated cost =  4.990010702245811\n",
      "RUN  5 , total integrated cost =  4.989258908611607\n",
      "RUN  6 , total integrated cost =  4.98839675866486\n",
      "RUN  7 , total integrated cost =  4.987746510127961\n",
      "RUN  8 , total integrated cost =  4.987076613630851\n",
      "RUN  9 , total integrated cost =  4.986479426475224\n",
      "RUN  10 , total integrated cost =  4.985873022567114\n",
      "RUN  11 , total integrated cost =  4.985303718611013\n",
      "RUN  12 , total integrated cost =  4.984697914811039\n",
      "RUN  13 , total integrated cost =  4.9841590078376825\n",
      "RUN  14 , total integrated cost =  4.98353650318667\n",
      "RUN  15 , total integrated cost =  4.9830627367021405\n",
      "RUN  16 , total integrated cost =  4.982512216034833\n",
      "RUN  17 , total integrated cost =  4.982088952749831\n",
      "RUN  18 , total integrated cost =  4.981607332534691\n",
      "RUN  19 , total integrated cost =  4.98123715080217\n",
      "RUN  20 , total integrated cost =  4.980730279117834\n",
      "RUN  30 , total integrated cost =  4.975806654161328\n",
      "RUN  40 , total integrated cost =  4.9728830642566955\n",
      "RUN  40 , total integrated cost =  4.9728830642566955\n",
      "Improved over  40  iterations in  4.494930064996879  seconds by  2.7830038005239146  percent.\n",
      "0.007505683541811601 0.15257524831772323\n",
      "5.551237769899523e-09 0.12950540574463307\n",
      "set cost params:  18.259999999999998 1.0 0.0\n",
      "----- 348\n",
      "interpolate adjoint :  True True True\n",
      "RUN  0 , total integrated cost =  5.210461898002594\n",
      "Gradient descend method:  None\n",
      "RUN  1 , total integrated cost =  5.090446984702292\n",
      "RUN  2 , total integrated cost =  5.0779234842807055\n",
      "RUN  3 , total integrated cost =  5.074092391002527\n",
      "RUN  4 , total integrated cost =  5.073593513198033\n",
      "RUN  5 , total integrated cost =  5.073132656791026\n",
      "RUN  6 , total integrated cost =  5.0729539305132825\n",
      "RUN  7 , total integrated cost =  5.072832641634158\n",
      "RUN  8 , total integrated cost =  5.072727527362241\n",
      "RUN  9 , total integrated cost =  5.072639674562402\n",
      "RUN  10 , total integrated cost =  5.07257710162317\n",
      "RUN  11 , total integrated cost =  5.072508769076329\n",
      "RUN  12 , total integrated cost =  5.072454722816028\n",
      "RUN  13 , total integrated cost =  5.072390285955698\n",
      "RUN  14 , total integrated cost =  5.072340491586347\n",
      "RUN  15 , total integrated cost =  5.072283032678635\n",
      "RUN  16 , total integrated cost =  5.072240660798543\n",
      "RUN  17 , total integrated cost =  5.072181171685855\n",
      "RUN  18 , total integrated cost =  5.072127529448919\n",
      "RUN  19 , total integrated cost =  5.0720394200446695\n",
      "RUN  20 , total integrated cost =  5.071982543044525\n",
      "RUN  30 , total integrated cost =  5.071400697334166\n",
      "RUN  40 , total integrated cost =  5.071252989210692\n",
      "RUN  40 , total integrated cost =  5.071252989210692\n",
      "Improved over  40  iterations in  4.888760592999461  seconds by  2.6717191588190445  percent.\n",
      "0.008014077199587712 0.15466833624175289\n",
      "5.551237769899523e-09 0.12950540574463307\n",
      "set cost params:  18.255000000000003 1.0 0.0\n",
      "----- 349\n",
      "interpolate adjoint :  True True True\n",
      "RUN  0 , total integrated cost =  5.317672272798414\n",
      "Gradient descend method:  None\n",
      "RUN  1 , total integrated cost =  5.1965532533196335\n",
      "RUN  2 , total integrated cost =  5.191726666109371\n",
      "RUN  3 , total integrated cost =  5.188146992936753\n",
      "RUN  4 , total integrated cost =  5.186997586285698\n",
      "RUN  5 , total integrated cost =  5.185904488876275\n",
      "RUN  6 , total integrated cost =  5.179995636269064\n",
      "RUN  7 , total integrated cost =  5.178236268603392\n",
      "RUN  8 , total integrated cost =  5.177696445755106\n",
      "RUN  9 , total integrated cost =  5.177472529466893\n",
      "RUN  10 , total integrated cost =  5.17743756446595\n",
      "RUN  11 , total integrated cost =  5.177422444148485\n",
      "RUN  12 , total integrated cost =  5.177410562461981\n",
      "RUN  13 , total integrated cost =  5.177397130114788\n",
      "RUN  14 , total integrated cost =  5.17738757099031\n",
      "RUN  15 , total integrated cost =  5.177373690379681\n",
      "RUN  16 , total integrated cost =  5.1773621745988345\n",
      "RUN  17 , total integrated cost =  5.177346342451334\n",
      "RUN  18 , total integrated cost =  5.177335405307913\n",
      "RUN  19 , total integrated cost =  5.177315778996669\n",
      "RUN  20 , total integrated cost =  5.177301763924314\n",
      "RUN  30 , total integrated cost =  5.177163847210362\n",
      "RUN  40 , total integrated cost =  5.177155233267435\n",
      "RUN  40 , total integrated cost =  5.177155233267435\n",
      "Improved over  40  iterations in  4.858157838003535  seconds by  2.642453921987041  percent.\n",
      "0.008560135428124498 0.15607482057424493\n",
      "5.551237769899523e-09 0.12950540574463307\n",
      "set cost params:  18.25 1.0 0.0\n",
      "----- 350\n",
      "interpolate adjoint :  True True True\n",
      "RUN  0 , total integrated cost =  5.442673381042608\n",
      "Gradient descend method:  None\n",
      "RUN  1 , total integrated cost =  5.32524401513262\n",
      "RUN  2 , total integrated cost =  5.323922956525205\n",
      "RUN  3 , total integrated cost =  5.322481801090916\n",
      "RUN  4 , total integrated cost =  5.321367548733158\n",
      "RUN  5 , total integrated cost =  5.320091520169008\n",
      "RUN  6 , total integrated cost =  5.319096181791599\n",
      "RUN  7 , total integrated cost =  5.318007592034325\n",
      "RUN  8 , total integrated cost =  5.3171099605854195\n",
      "RUN  9 , total integrated cost =  5.316106855273735\n",
      "RUN  10 , total integrated cost =  5.315293380384621\n",
      "RUN  11 , total integrated cost =  5.314388789041982\n",
      "RUN  12 , total integrated cost =  5.313650099925065\n",
      "RUN  13 , total integrated cost =  5.312826649548831\n",
      "RUN  14 , total integrated cost =  5.312199161740862\n",
      "RUN  15 , total integrated cost =  5.3115408509805055\n",
      "RUN  16 , total integrated cost =  5.311022667617943\n",
      "RUN  17 , total integrated cost =  5.310477111158605\n",
      "RUN  18 , total integrated cost =  5.310001057594809\n",
      "RUN  19 , total integrated cost =  5.309348794561824\n",
      "RUN  20 , total integrated cost =  5.308871041245062\n",
      "RUN  30 , total integrated cost =  5.3044097148259235\n",
      "RUN  40 , total integrated cost =  5.304329754615514\n",
      "RUN  40 , total integrated cost =  5.304329754615514\n",
      "Improved over  40  iterations in  4.822325576998992  seconds by  2.541832234669073  percent.\n",
      "0.009195818534356578 0.15748379055314815\n",
      "5.551237769899523e-09 0.12950540574463307\n",
      "set cost params:  18.244999999999997 1.0 0.0\n",
      "----- 351\n",
      "interpolate adjoint :  True True True\n",
      "RUN  0 , total integrated cost =  5.588086614466173\n",
      "Gradient descend method:  None\n",
      "RUN  1 , total integrated cost =  5.45106194623422\n",
      "RUN  2 , total integrated cost =  5.447152228045578\n",
      "RUN  3 , total integrated cost =  5.444656445500724\n",
      "RUN  4 , total integrated cost =  5.439140019652344\n",
      "RUN  5 , total integrated cost =  5.435546179481401\n",
      "RUN  6 , total integrated cost =  5.434502917011742\n",
      "RUN  7 , total integrated cost =  5.433780796813302\n",
      "RUN  8 , total integrated cost =  5.432519099373898\n",
      "RUN  9 , total integrated cost =  5.431663141557067\n",
      "RUN  10 , total integrated cost =  5.430161400278949\n",
      "RUN  11 , total integrated cost =  5.429253834225778\n",
      "RUN  12 , total integrated cost =  5.4285775565687855\n",
      "RUN  13 , total integrated cost =  5.428343736156008\n",
      "RUN  14 , total integrated cost =  5.428339046101676\n",
      "RUN  15 , total integrated cost =  5.428339046101662\n",
      "RUN  16 , total integrated cost =  5.428339046101658\n",
      "RUN  17 , total integrated cost =  5.428339046101656\n",
      "RUN  18 , total integrated cost =  5.428339046101656\n",
      "Control only changes marginally.\n",
      "RUN  18 , total integrated cost =  5.428339046101656\n",
      "Improved over  18  iterations in  2.8239163309990545  seconds by  2.858716755588034  percent.\n",
      "0.00997065141394763 0.15856735063472824\n",
      "5.551237769899523e-09 0.12950540574463307\n",
      "set cost params:  18.240000000000002 1.0 0.0\n",
      "----- 352\n",
      "interpolate adjoint :  True True True\n",
      "RUN  0 , total integrated cost =  5.7515270056575964\n",
      "Gradient descend method:  None\n",
      "RUN  1 , total integrated cost =  5.588704938049061\n",
      "RUN  2 , total integrated cost =  5.562506430108765\n",
      "RUN  3 , total integrated cost =  5.562429096084304\n",
      "RUN  4 , total integrated cost =  5.562403183041926\n",
      "RUN  5 , total integrated cost =  5.5623159670023075\n",
      "RUN  6 , total integrated cost =  5.562269340147196\n",
      "RUN  7 , total integrated cost =  5.561596031279391\n",
      "RUN  8 , total integrated cost =  5.561546306143408\n",
      "RUN  9 , total integrated cost =  5.561546220292554\n",
      "RUN  10 , total integrated cost =  5.56154622029255\n",
      "RUN  11 , total integrated cost =  5.561546220292546\n",
      "RUN  12 , total integrated cost =  5.561546220292545\n",
      "RUN  13 , total integrated cost =  5.561546220292545\n",
      "Control only changes marginally.\n",
      "RUN  13 , total integrated cost =  5.561546220292545\n",
      "Improved over  13  iterations in  2.106597392994445  seconds by  3.303136457121269  percent.\n",
      "0.010776240283682605 0.1600250295879079\n",
      "5.551237769899523e-09 0.12950540574463307\n",
      "set cost params:  18.235 1.0 0.0\n",
      "----- 353\n",
      "interpolate adjoint :  True True True\n",
      "RUN  0 , total integrated cost =  5.900096647308014\n",
      "Gradient descend method:  None\n",
      "RUN  1 , total integrated cost =  5.733320606032756\n",
      "RUN  2 , total integrated cost =  5.730950690401696\n",
      "RUN  3 , total integrated cost =  5.728946834250066\n",
      "RUN  4 , total integrated cost =  5.726997622145973\n",
      "RUN  5 , total integrated cost =  5.7253556185007595\n",
      "RUN  6 , total integrated cost =  5.723733175883296\n",
      "RUN  7 , total integrated cost =  5.722345910519103\n",
      "RUN  8 , total integrated cost =  5.720999549265856\n",
      "RUN  9 , total integrated cost =  5.719788908008328\n",
      "RUN  10 , total integrated cost =  5.718637338354535\n",
      "RUN  11 , total integrated cost =  5.717538747872298\n",
      "RUN  12 , total integrated cost =  5.716540642993165\n",
      "RUN  13 , total integrated cost =  5.715561598904183\n",
      "RUN  14 , total integrated cost =  5.714530088024425\n",
      "RUN  15 , total integrated cost =  5.713558207276461\n",
      "RUN  16 , total integrated cost =  5.7127169122341295\n",
      "RUN  17 , total integrated cost =  5.7119509784300995\n",
      "RUN  18 , total integrated cost =  5.71098429628502\n",
      "RUN  19 , total integrated cost =  5.710243747768952\n",
      "RUN  20 , total integrated cost =  5.708747822292949\n",
      "RUN  30 , total integrated cost =  5.705478938844808\n",
      "Control only changes marginally.\n",
      "RUN  33 , total integrated cost =  5.705478938844806\n",
      "Improved over  33  iterations in  4.64060078500188  seconds by  3.2985511949538164  percent.\n",
      "0.011776580215205197 0.1615728703481433\n",
      "5.551237769899523e-09 0.12950540574463307\n",
      "set cost params:  18.23 1.0 0.0\n",
      "----- 354\n",
      "interpolate adjoint :  True True True\n",
      "RUN  0 , total integrated cost =  6.032126899411284\n",
      "Gradient descend method:  None\n",
      "RUN  1 , total integrated cost =  5.889127954179717\n",
      "RUN  2 , total integrated cost =  5.872898903515301\n",
      "RUN  3 , total integrated cost =  5.866318725149874\n",
      "RUN  4 , total integrated cost =  5.864986986757962\n",
      "RUN  5 , total integrated cost =  5.864006519725116\n",
      "RUN  6 , total integrated cost =  5.861290972592359\n",
      "RUN  7 , total integrated cost =  5.861273531445412\n",
      "RUN  8 , total integrated cost =  5.861272535573593\n",
      "RUN  9 , total integrated cost =  5.8612700089200835\n",
      "RUN  10 , total integrated cost =  5.861258047769195\n",
      "RUN  11 , total integrated cost =  5.861257583733755\n",
      "RUN  12 , total integrated cost =  5.861257415121977\n",
      "RUN  13 , total integrated cost =  5.861142235781726\n",
      "RUN  14 , total integrated cost =  5.861131499848688\n",
      "RUN  15 , total integrated cost =  5.8611311663195\n",
      "RUN  16 , total integrated cost =  5.8611311663194945\n",
      "RUN  17 , total integrated cost =  5.861131166319493\n",
      "RUN  18 , total integrated cost =  5.861131166319493\n",
      "Control only changes marginally.\n",
      "RUN  18 , total integrated cost =  5.861131166319493\n",
      "Improved over  18  iterations in  2.61927519699384  seconds by  2.834750262108713  percent.\n",
      "0.012660176968418252 0.16319373666025233\n",
      "5.551237769899523e-09 0.12950540574463307\n",
      "set cost params:  18.225 1.0 0.0\n",
      "----- 355\n",
      "interpolate adjoint :  True True True\n",
      "RUN  0 , total integrated cost =  6.323365753842508\n",
      "Gradient descend method:  None\n",
      "RUN  1 , total integrated cost =  6.084170319548255\n",
      "RUN  2 , total integrated cost =  6.077527434669948\n",
      "RUN  3 , total integrated cost =  6.072309930917463\n",
      "RUN  4 , total integrated cost =  6.0683967867744\n",
      "RUN  5 , total integrated cost =  6.065713819953763\n",
      "RUN  6 , total integrated cost =  6.0630656043520155\n",
      "RUN  7 , total integrated cost =  6.061433952090804\n",
      "RUN  8 , total integrated cost =  6.058856138305027\n",
      "RUN  9 , total integrated cost =  6.0572157486401315\n",
      "RUN  10 , total integrated cost =  6.0499812931598855\n",
      "RUN  11 , total integrated cost =  6.049909684477031\n",
      "RUN  12 , total integrated cost =  6.049766171232115\n",
      "RUN  13 , total integrated cost =  6.049713856688605\n",
      "RUN  14 , total integrated cost =  6.049690501677251\n",
      "RUN  15 , total integrated cost =  6.049653722408008\n",
      "RUN  16 , total integrated cost =  6.049644474563906\n",
      "RUN  17 , total integrated cost =  6.049623316675351\n",
      "RUN  18 , total integrated cost =  6.049612854536412\n",
      "RUN  19 , total integrated cost =  6.049587476445449\n",
      "RUN  20 , total integrated cost =  6.049567650847757\n",
      "RUN  30 , total integrated cost =  6.049445948784835\n",
      "RUN  40 , total integrated cost =  6.049375134528675\n",
      "RUN  40 , total integrated cost =  6.049375134528675\n",
      "Improved over  40  iterations in  5.261575322998397  seconds by  4.332987051197193  percent.\n",
      "0.013759711544505443 0.1646784196420448\n",
      "5.551237769899523e-09 0.12950540574463307\n",
      "set cost params:  18.22 1.0 0.0\n",
      "----- 356\n",
      "interpolate adjoint :  True True True\n",
      "RUN  0 , total integrated cost =  6.491177828159726\n",
      "Gradient descend method:  None\n",
      "RUN  1 , total integrated cost =  6.269972587348477\n",
      "RUN  2 , total integrated cost =  6.2410312274689055\n",
      "RUN  3 , total integrated cost =  6.2363360148263505\n",
      "RUN  4 , total integrated cost =  6.236147213761617\n",
      "RUN  5 , total integrated cost =  6.235956747004892\n",
      "RUN  6 , total integrated cost =  6.235857297217703\n",
      "RUN  7 , total integrated cost =  6.235745086719452\n",
      "RUN  8 , total integrated cost =  6.235654659248246\n",
      "RUN  9 , total integrated cost =  6.235553291147953\n",
      "RUN  10 , total integrated cost =  6.235471356951236\n",
      "RUN  11 , total integrated cost =  6.235379265478288\n",
      "RUN  12 , total integrated cost =  6.235305557850988\n",
      "RUN  13 , total integrated cost =  6.235209441330989\n",
      "RUN  14 , total integrated cost =  6.235135442015421\n",
      "RUN  15 , total integrated cost =  6.235035260072991\n",
      "RUN  16 , total integrated cost =  6.2349465973807225\n",
      "RUN  17 , total integrated cost =  6.234853203534962\n",
      "RUN  18 , total integrated cost =  6.234768423856056\n",
      "RUN  19 , total integrated cost =  6.234622321538303\n",
      "RUN  20 , total integrated cost =  6.234539070246093\n",
      "RUN  30 , total integrated cost =  6.234361657574733\n",
      "RUN  40 , total integrated cost =  6.23434599731937\n",
      "RUN  40 , total integrated cost =  6.23434599731937\n",
      "Improved over  40  iterations in  4.768054564003251  seconds by  3.956629099362843  percent.\n",
      "0.014580430999875715 0.16598222439466442\n",
      "5.551237769899523e-09 0.12950540574463307\n",
      "set cost params:  18.215 1.0 0.0\n",
      "----- 357\n",
      "interpolate adjoint :  True True True\n",
      "RUN  0 , total integrated cost =  6.646707307039784\n",
      "Gradient descend method:  None\n",
      "RUN  1 , total integrated cost =  6.472869582529155\n",
      "RUN  2 , total integrated cost =  6.467645331159022\n",
      "RUN  3 , total integrated cost =  6.4632611557151005\n",
      "RUN  4 , total integrated cost =  6.460050158418142\n",
      "RUN  5 , total integrated cost =  6.4569331801589716\n",
      "RUN  6 , total integrated cost =  6.4545252988916095\n",
      "RUN  7 , total integrated cost =  6.452175591668513\n",
      "RUN  8 , total integrated cost =  6.450642083230058\n",
      "RUN  9 , total integrated cost =  6.449031697832731\n",
      "RUN  10 , total integrated cost =  6.44764391998293\n",
      "RUN  11 , total integrated cost =  6.446166588089121\n",
      "RUN  12 , total integrated cost =  6.44528886408795\n",
      "RUN  13 , total integrated cost =  6.4443326473934\n",
      "RUN  14 , total integrated cost =  6.443679973077904\n",
      "RUN  15 , total integrated cost =  6.442881855173456\n",
      "RUN  16 , total integrated cost =  6.442368050774066\n",
      "RUN  17 , total integrated cost =  6.441635889878639\n",
      "RUN  18 , total integrated cost =  6.441193998975136\n",
      "RUN  19 , total integrated cost =  6.440526145101215\n",
      "RUN  20 , total integrated cost =  6.440190880474711\n",
      "RUN  30 , total integrated cost =  6.435463358982815\n",
      "RUN  40 , total integrated cost =  6.435320506816217\n",
      "RUN  40 , total integrated cost =  6.435320506816217\n",
      "Improved over  40  iterations in  5.017452697000408  seconds by  3.1803235866829596  percent.\n",
      "0.01579093305767447 0.1674692274271204\n",
      "5.551237769899523e-09 0.12950540574463307\n",
      "set cost params:  18.21 1.0 0.0\n",
      "----- 358\n",
      "interpolate adjoint :  True True True\n",
      "RUN  0 , total integrated cost =  6.956187816390587\n",
      "Gradient descend method:  None\n",
      "RUN  1 , total integrated cost =  6.698264885367557\n",
      "RUN  2 , total integrated cost =  6.674429852046552\n",
      "RUN  3 , total integrated cost =  6.662741633062119\n",
      "RUN  4 , total integrated cost =  6.660283813328905\n",
      "RUN  5 , total integrated cost =  6.658403621271044\n",
      "RUN  6 , total integrated cost =  6.656968454778945\n",
      "RUN  7 , total integrated cost =  6.65600397104556\n",
      "RUN  8 , total integrated cost =  6.6556106276240925\n",
      "RUN  9 , total integrated cost =  6.655331608961416\n",
      "RUN  10 , total integrated cost =  6.655181471920675\n",
      "RUN  11 , total integrated cost =  6.655053312324387\n",
      "RUN  12 , total integrated cost =  6.654973211840201\n",
      "RUN  13 , total integrated cost =  6.654901616864519\n",
      "RUN  14 , total integrated cost =  6.654836601077399\n",
      "RUN  15 , total integrated cost =  6.654772347864445\n",
      "RUN  16 , total integrated cost =  6.65471473850481\n",
      "RUN  17 , total integrated cost =  6.654649678164919\n",
      "RUN  18 , total integrated cost =  6.654595221972599\n",
      "RUN  19 , total integrated cost =  6.654536477672009\n",
      "RUN  20 , total integrated cost =  6.6544864940442015\n",
      "RUN  30 , total integrated cost =  6.654136967862464\n",
      "RUN  40 , total integrated cost =  6.654118486952435\n",
      "RUN  40 , total integrated cost =  6.654118486952435\n",
      "Improved over  40  iterations in  4.953611928001919  seconds by  4.342455054568788  percent.\n",
      "0.017084486770894358 0.16878437204792968\n",
      "5.551237769899523e-09 0.12950540574463307\n",
      "set cost params:  18.205000000000002 1.0 0.0\n",
      "----- 359\n",
      "interpolate adjoint :  True True True\n",
      "RUN  0 , total integrated cost =  7.2180893754688435\n",
      "Gradient descend method:  None\n",
      "RUN  1 , total integrated cost =  6.9413068591779785\n",
      "RUN  2 , total integrated cost =  6.9347380669471494\n",
      "RUN  3 , total integrated cost =  6.92866888336227\n",
      "RUN  4 , total integrated cost =  6.924744222163613\n",
      "RUN  5 , total integrated cost =  6.9213868430404935\n",
      "RUN  6 , total integrated cost =  6.9184166511236\n",
      "RUN  7 , total integrated cost =  6.91555387742112\n",
      "RUN  8 , total integrated cost =  6.9133884249625455\n",
      "RUN  9 , total integrated cost =  6.911194783600309\n",
      "RUN  10 , total integrated cost =  6.909643187004373\n",
      "RUN  11 , total integrated cost =  6.907891389120117\n",
      "RUN  12 , total integrated cost =  6.906565463710132\n",
      "RUN  13 , total integrated cost =  6.9050849912164205\n",
      "RUN  14 , total integrated cost =  6.903988887488741\n",
      "RUN  15 , total integrated cost =  6.902645714377932\n",
      "RUN  16 , total integrated cost =  6.901629993610451\n",
      "RUN  17 , total integrated cost =  6.8995305014453185\n",
      "RUN  18 , total integrated cost =  6.898278404952892\n",
      "RUN  19 , total integrated cost =  6.897116174688418\n",
      "RUN  20 , total integrated cost =  6.896370306969897\n",
      "RUN  30 , total integrated cost =  6.893281786044721\n",
      "Control only changes marginally.\n",
      "RUN  37 , total integrated cost =  6.89328060825339\n",
      "Improved over  37  iterations in  5.035767494999163  seconds by  4.499927201224992  percent.\n",
      "0.01858935393065066 0.169774492787192\n",
      "5.551237769899523e-09 0.12950540574463307\n",
      "set cost params:  18.2 1.0 0.0\n",
      "----- 360\n",
      "interpolate adjoint :  True True True\n",
      "RUN  0 , total integrated cost =  7.514685808626646\n",
      "Gradient descend method:  None\n",
      "RUN  1 , total integrated cost =  7.2085132716387\n",
      "RUN  2 , total integrated cost =  7.198310927987483\n",
      "RUN  3 , total integrated cost =  7.191238537332893\n",
      "RUN  4 , total integrated cost =  7.184538397051248\n",
      "RUN  5 , total integrated cost =  7.1795523615495345\n",
      "RUN  6 , total integrated cost =  7.1734937349378\n",
      "RUN  7 , total integrated cost =  7.169391785685453\n",
      "RUN  8 , total integrated cost =  7.165395420380335\n",
      "RUN  9 , total integrated cost =  7.1627959784011015\n",
      "RUN  10 , total integrated cost =  7.160318504468691\n",
      "RUN  11 , total integrated cost =  7.158855815691736\n",
      "RUN  12 , total integrated cost =  7.157317864928322\n",
      "RUN  13 , total integrated cost =  7.156462587837548\n",
      "RUN  14 , total integrated cost =  7.155993625281477\n",
      "RUN  15 , total integrated cost =  7.155748391639888\n",
      "RUN  16 , total integrated cost =  7.155439587581108\n",
      "RUN  17 , total integrated cost =  7.155286073041766\n",
      "RUN  18 , total integrated cost =  7.155012483219059\n",
      "RUN  19 , total integrated cost =  7.154990007658817\n",
      "RUN  20 , total integrated cost =  7.154972105363522\n",
      "RUN  30 , total integrated cost =  7.154855906759188\n",
      "RUN  40 , total integrated cost =  7.1548512788224965\n",
      "RUN  40 , total integrated cost =  7.1548512788224965\n",
      "Improved over  40  iterations in  4.863410780999402  seconds by  4.788417492998434  percent.\n",
      "0.020436606233999573 0.17100324101886707\n",
      "5.551237769899523e-09 0.12950540574463307\n",
      "set cost params:  18.195 1.0 0.0\n",
      "----- 361\n",
      "interpolate adjoint :  True True True\n",
      "RUN  0 , total integrated cost =  7.849549836309787\n",
      "Gradient descend method:  None\n",
      "RUN  1 , total integrated cost =  7.538116696863858\n",
      "RUN  2 , total integrated cost =  7.504096560810829\n",
      "RUN  3 , total integrated cost =  7.490195697780164\n",
      "RUN  4 , total integrated cost =  7.478935340445038\n",
      "RUN  5 , total integrated cost =  7.476660448916059\n",
      "RUN  6 , total integrated cost =  7.47542119030061\n",
      "RUN  7 , total integrated cost =  7.475336078267503\n",
      "RUN  8 , total integrated cost =  7.47525948925069\n",
      "RUN  9 , total integrated cost =  7.475255229532373\n",
      "RUN  10 , total integrated cost =  7.475253040438149\n",
      "RUN  11 , total integrated cost =  7.475247078740756\n",
      "RUN  12 , total integrated cost =  7.475246746396421\n",
      "RUN  13 , total integrated cost =  7.475246740166524\n",
      "RUN  14 , total integrated cost =  7.47524674016652\n",
      "RUN  15 , total integrated cost =  7.47524674016652\n",
      "Control only changes marginally.\n",
      "RUN  15 , total integrated cost =  7.47524674016652\n",
      "Improved over  15  iterations in  2.1723536030040123  seconds by  4.768465758531107  percent.\n",
      "0.02280806325923146 0.1721195170281447\n",
      "5.551237769899523e-09 0.12950540574463307\n",
      "set cost params:  18.19 1.0 0.0\n",
      "----- 362\n",
      "interpolate adjoint :  True True True\n",
      "RUN  0 , total integrated cost =  8.25642827463343\n",
      "Gradient descend method:  None\n",
      "RUN  1 , total integrated cost =  7.8622496961267485\n",
      "RUN  2 , total integrated cost =  7.819288684582414\n",
      "RUN  3 , total integrated cost =  7.803753076880154\n",
      "RUN  4 , total integrated cost =  7.797365014089035\n",
      "RUN  5 , total integrated cost =  7.796027493901905\n",
      "RUN  6 , total integrated cost =  7.794944929439693\n",
      "RUN  7 , total integrated cost =  7.794916464639711\n",
      "RUN  8 , total integrated cost =  7.794700062746482\n",
      "RUN  9 , total integrated cost =  7.794674911815212\n",
      "RUN  10 , total integrated cost =  7.794674626370848\n",
      "RUN  11 , total integrated cost =  7.794674619230234\n",
      "RUN  12 , total integrated cost =  7.794674618972773\n",
      "RUN  13 , total integrated cost =  7.7946746189624365\n",
      "RUN  14 , total integrated cost =  7.794674618962044\n",
      "RUN  15 , total integrated cost =  7.794674618961998\n",
      "RUN  16 , total integrated cost =  7.794674618961988\n",
      "RUN  17 , total integrated cost =  7.794674618961986\n",
      "RUN  18 , total integrated cost =  7.794674618961986\n",
      "Control only changes marginally.\n",
      "RUN  18 , total integrated cost =  7.794674618961986\n",
      "Improved over  18  iterations in  2.6017138969982625  seconds by  5.592656295339111  percent.\n",
      "0.024778749528990358 0.17315015920243385\n",
      "5.551237769899523e-09 0.12950540574463307\n",
      "set cost params:  18.185 1.0 0.0\n",
      "----- 363\n",
      "interpolate adjoint :  True True True\n",
      "RUN  0 , total integrated cost =  8.645176703862665\n",
      "Gradient descend method:  None\n",
      "RUN  1 , total integrated cost =  8.222108309034654\n",
      "RUN  2 , total integrated cost =  8.204206483681633\n",
      "RUN  3 , total integrated cost =  8.188545998767488\n",
      "RUN  4 , total integrated cost =  8.176750394619138\n",
      "RUN  5 , total integrated cost =  8.169063670488118\n",
      "RUN  6 , total integrated cost =  8.1647002480824\n",
      "RUN  7 , total integrated cost =  8.160904737068055\n",
      "RUN  8 , total integrated cost =  8.159548678933163\n",
      "RUN  9 , total integrated cost =  8.15788382695701\n",
      "RUN  10 , total integrated cost =  8.157022511892633\n",
      "RUN  11 , total integrated cost =  8.155939901023398\n",
      "RUN  12 , total integrated cost =  8.155213563800062\n",
      "RUN  13 , total integrated cost =  8.154433159828423\n",
      "RUN  14 , total integrated cost =  8.153829423546664\n",
      "RUN  15 , total integrated cost =  8.152895056076195\n",
      "RUN  16 , total integrated cost =  8.152296813806357\n",
      "RUN  17 , total integrated cost =  8.151265847594564\n",
      "RUN  18 , total integrated cost =  8.150595035249696\n",
      "RUN  19 , total integrated cost =  8.150070593277013\n",
      "RUN  20 , total integrated cost =  8.149609219508498\n",
      "RUN  30 , total integrated cost =  8.148181512204435\n",
      "Control only changes marginally.\n",
      "RUN  39 , total integrated cost =  8.148175690085283\n",
      "Improved over  39  iterations in  5.5291699369990965  seconds by  5.748882073807948  percent.\n",
      "0.026918248989688885 0.17383087174336168\n",
      "5.551237769899523e-09 0.12950540574463307\n",
      "set cost params:  18.18 1.0 0.0\n",
      "----- 364\n",
      "interpolate adjoint :  True True True\n",
      "RUN  0 , total integrated cost =  8.989536264153877\n",
      "Gradient descend method:  None\n",
      "RUN  1 , total integrated cost =  8.626360379306671\n",
      "RUN  2 , total integrated cost =  8.601911062410311\n",
      "RUN  3 , total integrated cost =  8.586773230013115\n",
      "RUN  4 , total integrated cost =  8.57799887142419\n",
      "RUN  5 , total integrated cost =  8.570616876953235\n",
      "RUN  6 , total integrated cost =  8.563862639373106\n",
      "RUN  7 , total integrated cost =  8.559348980321046\n",
      "RUN  8 , total integrated cost =  8.555813326756128\n",
      "RUN  9 , total integrated cost =  8.552758510877913\n",
      "RUN  10 , total integrated cost =  8.550503722972614\n",
      "RUN  11 , total integrated cost =  8.54874126090394\n",
      "RUN  12 , total integrated cost =  8.546948906249074\n",
      "RUN  13 , total integrated cost =  8.545560710122523\n",
      "RUN  14 , total integrated cost =  8.540075405959241\n",
      "RUN  15 , total integrated cost =  8.539849906182459\n",
      "RUN  16 , total integrated cost =  8.539764598325345\n",
      "RUN  17 , total integrated cost =  8.53974500410207\n",
      "RUN  18 , total integrated cost =  8.539742218181146\n",
      "RUN  19 , total integrated cost =  8.53973351203372\n",
      "RUN  20 , total integrated cost =  8.539732555667475\n",
      "Control only changes marginally.\n",
      "RUN  25 , total integrated cost =  8.53973254488199\n",
      "Improved over  25  iterations in  3.5869803149980726  seconds by  5.003636517553161  percent.\n",
      "0.029614749784269298 0.17425352556258464\n",
      "5.551237769899523e-09 0.12950540574463307\n",
      "set cost params:  18.175 1.0 0.0\n",
      "----- 365\n",
      "interpolate adjoint :  True True True\n",
      "RUN  0 , total integrated cost =  9.614654636839202\n",
      "Gradient descend method:  None\n",
      "RUN  1 , total integrated cost =  9.072363588455865\n",
      "RUN  2 , total integrated cost =  9.037058937695422\n",
      "RUN  3 , total integrated cost =  9.012327738436653\n",
      "RUN  4 , total integrated cost =  9.001214801759538\n",
      "RUN  5 , total integrated cost =  8.992770842644358\n",
      "RUN  6 , total integrated cost =  8.989813049286369\n",
      "RUN  7 , total integrated cost =  8.986564458592028\n",
      "RUN  8 , total integrated cost =  8.98438781121966\n",
      "RUN  9 , total integrated cost =  8.982473531098357\n",
      "RUN  10 , total integrated cost =  8.981144201363605\n",
      "RUN  11 , total integrated cost =  8.980154466636135\n",
      "RUN  12 , total integrated cost =  8.97929047613425\n",
      "RUN  13 , total integrated cost =  8.978496286778288\n",
      "RUN  14 , total integrated cost =  8.977919018830068\n",
      "RUN  15 , total integrated cost =  8.977278614842199\n",
      "RUN  16 , total integrated cost =  8.97685481012593\n",
      "RUN  17 , total integrated cost =  8.97642578138902\n",
      "RUN  18 , total integrated cost =  8.976235202419575\n",
      "RUN  19 , total integrated cost =  8.975963564147158\n",
      "RUN  20 , total integrated cost =  8.975854768456523\n",
      "RUN  30 , total integrated cost =  8.97484030408361\n",
      "RUN  40 , total integrated cost =  8.974710540686946\n",
      "RUN  40 , total integrated cost =  8.974710540686946\n",
      "Improved over  40  iterations in  5.233278797997627  seconds by  6.65592390287496  percent.\n",
      "0.032833481516397735 0.17488187417609027\n",
      "5.551237769899523e-09 0.12950540574463307\n",
      "set cost params:  18.169999999999998 1.0 0.0\n",
      "----- 366\n",
      "interpolate adjoint :  True True True\n",
      "RUN  0 , total integrated cost =  10.167197842885551\n",
      "Gradient descend method:  None\n",
      "RUN  1 , total integrated cost =  9.566628161747069\n",
      "RUN  2 , total integrated cost =  9.462250591286633\n",
      "RUN  3 , total integrated cost =  9.461468258692156\n",
      "RUN  4 , total integrated cost =  9.458779212301614\n",
      "RUN  5 , total integrated cost =  9.458475439951041\n",
      "RUN  6 , total integrated cost =  9.458037903308547\n",
      "RUN  7 , total integrated cost =  9.458012097086494\n",
      "RUN  8 , total integrated cost =  9.458002978169988\n",
      "RUN  9 , total integrated cost =  9.457981629124223\n",
      "RUN  10 , total integrated cost =  9.45797263893503\n",
      "RUN  11 , total integrated cost =  9.45797019961465\n",
      "RUN  12 , total integrated cost =  9.457967031058766\n",
      "RUN  13 , total integrated cost =  9.457965353138551\n",
      "RUN  14 , total integrated cost =  9.45796523573859\n",
      "RUN  15 , total integrated cost =  9.457965231945312\n",
      "RUN  16 , total integrated cost =  9.457965231859427\n",
      "RUN  17 , total integrated cost =  9.457965231859413\n",
      "RUN  18 , total integrated cost =  9.45796523185941\n",
      "RUN  19 , total integrated cost =  9.457965231859408\n",
      "RUN  20 , total integrated cost =  9.457965231859408\n",
      "Control only changes marginally.\n",
      "RUN  20 , total integrated cost =  9.457965231859408\n",
      "Improved over  20  iterations in  2.7917867289943388  seconds by  6.975694011132333  percent.\n",
      "0.0368282319658804 0.17503521377206038\n",
      "5.551237769899523e-09 0.12950540574463307\n",
      "set cost params:  18.165 1.0 0.0\n",
      "----- 367\n",
      "interpolate adjoint :  True True True\n",
      "RUN  0 , total integrated cost =  10.806716389124965\n",
      "Gradient descend method:  None\n",
      "RUN  1 , total integrated cost =  10.121346000814402\n",
      "RUN  2 , total integrated cost =  10.088022734168243\n",
      "RUN  3 , total integrated cost =  10.06119596531566\n",
      "RUN  4 , total integrated cost =  10.042566655529614\n",
      "RUN  5 , total integrated cost =  10.027673569867993\n",
      "RUN  6 , total integrated cost =  10.022023656115392\n",
      "RUN  7 , total integrated cost =  10.01672654368713\n",
      "RUN  8 , total integrated cost =  10.011946128664976\n",
      "RUN  9 , total integrated cost =  10.008507023831326\n",
      "RUN  10 , total integrated cost =  10.00566315250394\n",
      "RUN  11 , total integrated cost =  10.003489028381958\n",
      "RUN  12 , total integrated cost =  10.002096879499295\n",
      "RUN  13 , total integrated cost =  10.000760632134615\n",
      "RUN  14 , total integrated cost =  9.999805034498976\n",
      "RUN  15 , total integrated cost =  9.998896451069218\n",
      "RUN  16 , total integrated cost =  9.998345599780171\n",
      "RUN  17 , total integrated cost =  9.997780667347048\n",
      "RUN  18 , total integrated cost =  9.997395651214521\n",
      "RUN  19 , total integrated cost =  9.997022759647495\n",
      "RUN  20 , total integrated cost =  9.996725232027972\n",
      "RUN  30 , total integrated cost =  9.995258999216764\n",
      "Control only changes marginally.\n",
      "RUN  39 , total integrated cost =  9.99522379231472\n",
      "Improved over  39  iterations in  5.198405639006523  seconds by  7.509150491141497  percent.\n",
      "0.040257934552969665 0.17517545560226871\n",
      "5.551237769899523e-09 0.12950540574463307\n",
      "set cost params:  18.16 1.0 0.0\n",
      "----- 368\n",
      "interpolate adjoint :  True True True\n",
      "RUN  0 , total integrated cost =  11.583232704733176\n",
      "Gradient descend method:  None\n",
      "RUN  1 , total integrated cost =  10.847769515615163\n",
      "RUN  2 , total integrated cost =  10.760737659876183\n",
      "RUN  3 , total integrated cost =  10.721754547734195\n",
      "RUN  4 , total integrated cost =  10.706151999712665\n",
      "RUN  5 , total integrated cost =  10.696520272623273\n",
      "RUN  6 , total integrated cost =  10.689672672657418\n",
      "RUN  7 , total integrated cost =  10.68429131843923\n",
      "RUN  8 , total integrated cost =  10.680440610092916\n",
      "RUN  9 , total integrated cost =  10.677819434401066\n",
      "RUN  10 , total integrated cost =  10.675213841331239\n",
      "RUN  11 , total integrated cost =  10.67416152334845\n",
      "RUN  12 , total integrated cost =  10.67303123836526\n",
      "RUN  13 , total integrated cost =  10.672675521121768\n",
      "RUN  14 , total integrated cost =  10.672309953196214\n",
      "RUN  15 , total integrated cost =  10.672259987830525\n",
      "RUN  16 , total integrated cost =  10.672200577597796\n",
      "RUN  17 , total integrated cost =  10.672153269400091\n",
      "RUN  18 , total integrated cost =  10.672034806993354\n",
      "RUN  19 , total integrated cost =  10.672033463836215\n",
      "RUN  20 , total integrated cost =  10.672033463673143\n",
      "Control only changes marginally.\n",
      "RUN  25 , total integrated cost =  10.672033463673124\n",
      "Improved over  25  iterations in  3.499675772996852  seconds by  7.866536607588955  percent.\n",
      "0.04584263162603555 0.1719910615167504\n",
      "5.551237769899523e-09 0.12950540574463307\n",
      "set cost params:  18.155 1.0 0.0\n",
      "----- 369\n",
      "interpolate adjoint :  True True True\n",
      "RUN  0 , total integrated cost =  12.433634583492443\n",
      "Gradient descend method:  None\n",
      "RUN  1 , total integrated cost =  11.538747938191461\n",
      "RUN  2 , total integrated cost =  11.381789664784154\n",
      "RUN  3 , total integrated cost =  11.380267608537489\n",
      "RUN  4 , total integrated cost =  11.378640131523929\n",
      "RUN  5 , total integrated cost =  11.37748050414388\n",
      "RUN  6 , total integrated cost =  11.37445037161946\n",
      "RUN  7 , total integrated cost =  11.373474880105602\n",
      "RUN  8 , total integrated cost =  11.372821054037457\n",
      "RUN  9 , total integrated cost =  11.372451401291219\n",
      "RUN  10 , total integrated cost =  11.372420399628059\n",
      "RUN  11 , total integrated cost =  11.372315976698507\n",
      "RUN  12 , total integrated cost =  11.372315976698506\n",
      "RUN  13 , total integrated cost =  11.372315976698506\n",
      "Control only changes marginally.\n",
      "RUN  13 , total integrated cost =  11.372315976698506\n",
      "Improved over  13  iterations in  1.9000764779993915  seconds by  8.53586776792524  percent.\n",
      "0.05166612357209125 0.1692324912231184\n",
      "5.551237769899523e-09 0.12950540574463307\n",
      "set cost params:  18.15 1.0 0.0\n",
      "----- 370\n",
      "interpolate adjoint :  True True True\n",
      "RUN  0 , total integrated cost =  13.521319731091332\n",
      "Gradient descend method:  None\n",
      "RUN  1 , total integrated cost =  12.40022701676627\n",
      "RUN  2 , total integrated cost =  12.24815553122788\n",
      "RUN  3 , total integrated cost =  12.206731421956771\n",
      "RUN  4 , total integrated cost =  12.194495367853712\n",
      "RUN  5 , total integrated cost =  12.19045793268885\n",
      "RUN  6 , total integrated cost =  12.19001919625896\n",
      "RUN  7 , total integrated cost =  12.189611412680271\n",
      "RUN  8 , total integrated cost =  12.189489374221843\n",
      "RUN  9 , total integrated cost =  12.189148917734434\n",
      "RUN  10 , total integrated cost =  12.189049167886488\n",
      "RUN  11 , total integrated cost =  12.188460284325863\n",
      "RUN  12 , total integrated cost =  12.188382312710617\n",
      "RUN  13 , total integrated cost =  12.188161487538261\n",
      "RUN  14 , total integrated cost =  12.188156982846591\n",
      "RUN  15 , total integrated cost =  12.188150472468786\n",
      "RUN  16 , total integrated cost =  12.188149775877797\n",
      "RUN  17 , total integrated cost =  12.188149763693943\n",
      "RUN  18 , total integrated cost =  12.188149763540393\n",
      "RUN  19 , total integrated cost =  12.1881497635365\n",
      "RUN  20 , total integrated cost =  12.188149763536448\n",
      "Control only changes marginally.\n",
      "RUN  23 , total integrated cost =  12.188149763536432\n",
      "Improved over  23  iterations in  3.3205576809996273  seconds by  9.859762168698438  percent.\n",
      "0.05933051241952675 0.16581539894479552\n",
      "5.551237769899523e-09 0.12950540574463307\n",
      "set cost params:  18.145 1.0 0.0\n",
      "----- 371\n",
      "interpolate adjoint :  True True True\n",
      "RUN  0 , total integrated cost =  14.892513148803477\n",
      "Gradient descend method:  None\n",
      "RUN  1 , total integrated cost =  13.426334574095728\n",
      "RUN  2 , total integrated cost =  13.25764522531483\n",
      "RUN  3 , total integrated cost =  13.201602421430703\n",
      "RUN  4 , total integrated cost =  13.184436483814718\n",
      "RUN  5 , total integrated cost =  13.174462149624645\n",
      "RUN  6 , total integrated cost =  13.1675580144432\n",
      "RUN  7 , total integrated cost =  13.16349019470376\n",
      "RUN  8 , total integrated cost =  13.157859553841812\n",
      "RUN  9 , total integrated cost =  13.157421752778381\n",
      "RUN  10 , total integrated cost =  13.157420688887697\n",
      "RUN  11 , total integrated cost =  13.157420685750651\n",
      "RUN  12 , total integrated cost =  13.157420685721712\n",
      "RUN  13 , total integrated cost =  13.157420685721675\n",
      "RUN  14 , total integrated cost =  13.157420685721666\n",
      "RUN  15 , total integrated cost =  13.157420685721664\n",
      "RUN  16 , total integrated cost =  13.157420685721657\n",
      "RUN  17 , total integrated cost =  13.157420685721656\n",
      "RUN  18 , total integrated cost =  13.157420685721656\n",
      "Control only changes marginally.\n",
      "RUN  18 , total integrated cost =  13.157420685721656\n",
      "Improved over  18  iterations in  3.3496939379983814  seconds by  11.650770059727805  percent.\n",
      "0.06644749847332258 0.16471586728631216\n",
      "5.551237769899523e-09 0.12950540574463307\n",
      "set cost params:  18.14 1.0 0.0\n",
      "----- 372\n",
      "interpolate adjoint :  True True True\n",
      "RUN  0 , total integrated cost =  16.095224566347916\n",
      "Gradient descend method:  None\n",
      "RUN  1 , total integrated cost =  14.661593930989568\n",
      "RUN  2 , total integrated cost =  14.40483921020014\n",
      "RUN  3 , total integrated cost =  14.352487217462542\n",
      "RUN  4 , total integrated cost =  14.334093739926118\n",
      "RUN  5 , total integrated cost =  14.321816532970725\n",
      "RUN  6 , total integrated cost =  14.314181869105376\n",
      "RUN  7 , total integrated cost =  14.309961435608836\n",
      "RUN  8 , total integrated cost =  14.305972027448663\n",
      "RUN  9 , total integrated cost =  14.303494360433627\n",
      "RUN  10 , total integrated cost =  14.302446975246838\n",
      "RUN  11 , total integrated cost =  14.301813163135446\n",
      "RUN  12 , total integrated cost =  14.301002256486145\n",
      "RUN  13 , total integrated cost =  14.300456033675085\n",
      "RUN  14 , total integrated cost =  14.300400759906832\n",
      "RUN  15 , total integrated cost =  14.30030367492926\n",
      "RUN  16 , total integrated cost =  14.300298269880349\n",
      "RUN  17 , total integrated cost =  14.300298222243699\n",
      "RUN  18 , total integrated cost =  14.300298216304487\n",
      "RUN  19 , total integrated cost =  14.300298195433118\n",
      "RUN  20 , total integrated cost =  14.300298194636389\n",
      "Control only changes marginally.\n",
      "RUN  21 , total integrated cost =  14.300298194636389\n",
      "Improved over  21  iterations in  2.8704928280058084  seconds by  11.151918783813557  percent.\n",
      "0.0766692201428385 0.16508742803445714\n",
      "5.551237769899523e-09 0.12950540574463307\n",
      "set cost params:  18.134999999999998 1.0 0.0\n",
      "----- 373\n",
      "interpolate adjoint :  True True True\n",
      "RUN  0 , total integrated cost =  18.21326387064901\n",
      "Gradient descend method:  None\n",
      "RUN  1 , total integrated cost =  16.003138215346237\n",
      "RUN  2 , total integrated cost =  15.767085341446458\n",
      "RUN  3 , total integrated cost =  15.678612680479613\n",
      "RUN  4 , total integrated cost =  15.657684253758726\n",
      "RUN  5 , total integrated cost =  15.642236821078624\n",
      "RUN  6 , total integrated cost =  15.635333048992704\n",
      "RUN  7 , total integrated cost =  15.628111339495852\n",
      "RUN  8 , total integrated cost =  15.624347889174368\n",
      "RUN  9 , total integrated cost =  15.62026174297683\n",
      "RUN  10 , total integrated cost =  15.618434270662355\n",
      "RUN  11 , total integrated cost =  15.615633852972202\n",
      "RUN  12 , total integrated cost =  15.614662551407681\n",
      "RUN  13 , total integrated cost =  15.612825089306824\n",
      "RUN  14 , total integrated cost =  15.612047083592405\n",
      "RUN  15 , total integrated cost =  15.610722161376527\n",
      "RUN  16 , total integrated cost =  15.610087203695036\n",
      "RUN  17 , total integrated cost =  15.608820572750634\n",
      "RUN  18 , total integrated cost =  15.607878712765734\n",
      "RUN  19 , total integrated cost =  15.606931567365603\n",
      "RUN  20 , total integrated cost =  15.606526276806042\n",
      "RUN  30 , total integrated cost =  15.605739282911728\n",
      "Control only changes marginally.\n",
      "RUN  33 , total integrated cost =  15.605739282911705\n",
      "Improved over  33  iterations in  4.196183731997735  seconds by  14.316624446095986  percent.\n",
      "0.08798458588978068 0.16981410832011676\n",
      "5.551237769899523e-09 0.12950540574463307\n",
      "set cost params:  18.130000000000003 1.0 0.0\n",
      "----- 374\n",
      "interpolate adjoint :  True True True\n",
      "RUN  0 , total integrated cost =  19.74698575420776\n",
      "Gradient descend method:  None\n",
      "RUN  1 , total integrated cost =  17.450340409775734\n",
      "RUN  2 , total integrated cost =  17.104128475270297\n",
      "RUN  3 , total integrated cost =  17.07656463358906\n",
      "RUN  4 , total integrated cost =  17.059033337570916\n",
      "RUN  5 , total integrated cost =  17.048778396855592\n",
      "RUN  6 , total integrated cost =  17.04422341296492\n",
      "RUN  7 , total integrated cost =  17.040476027306955\n",
      "RUN  8 , total integrated cost =  17.038844909703748\n",
      "RUN  9 , total integrated cost =  17.03742615759031\n",
      "RUN  10 , total integrated cost =  17.036209032868133\n",
      "RUN  11 , total integrated cost =  17.035341172765435\n",
      "RUN  12 , total integrated cost =  17.03421895910456\n",
      "RUN  13 , total integrated cost =  17.03345509564442\n",
      "RUN  14 , total integrated cost =  17.032509243840607\n",
      "RUN  15 , total integrated cost =  17.031668328408085\n",
      "RUN  16 , total integrated cost =  17.03094632699051\n",
      "RUN  17 , total integrated cost =  17.03027666866065\n",
      "RUN  18 , total integrated cost =  17.029805376986054\n",
      "RUN  19 , total integrated cost =  17.02975175770561\n",
      "RUN  20 , total integrated cost =  17.029630922820843\n",
      "RUN  30 , total integrated cost =  17.029353540186662\n",
      "Control only changes marginally.\n",
      "RUN  34 , total integrated cost =  17.02935353980675\n",
      "Improved over  34  iterations in  4.502178492999519  seconds by  13.76226350809985  percent.\n",
      "0.09849813055653157 0.17266059067564324\n",
      "5.551237769899523e-09 0.12950540574463307\n",
      "set cost params:  18.125 1.0 0.0\n",
      "----- 375\n",
      "interpolate adjoint :  True True True\n",
      "RUN  0 , total integrated cost =  20.908008161432594\n",
      "Gradient descend method:  None\n",
      "RUN  1 , total integrated cost =  19.059735316634555\n",
      "RUN  2 , total integrated cost =  18.615542138746264\n",
      "RUN  3 , total integrated cost =  18.590472453500606\n",
      "RUN  4 , total integrated cost =  18.57564759464166\n",
      "RUN  5 , total integrated cost =  18.564984384216768\n",
      "RUN  6 , total integrated cost =  18.55753053836252\n",
      "RUN  7 , total integrated cost =  18.55184528580938\n",
      "RUN  8 , total integrated cost =  18.547979834084895\n",
      "RUN  9 , total integrated cost =  18.544267667673633\n",
      "RUN  10 , total integrated cost =  18.542212774678518\n",
      "RUN  11 , total integrated cost =  18.538957033220665\n",
      "RUN  12 , total integrated cost =  18.537739196365425\n",
      "RUN  13 , total integrated cost =  18.536151899556717\n",
      "RUN  14 , total integrated cost =  18.53559713316416\n",
      "RUN  15 , total integrated cost =  18.53487719580442\n",
      "RUN  16 , total integrated cost =  18.534663792343046\n",
      "RUN  17 , total integrated cost =  18.534607284883254\n",
      "RUN  18 , total integrated cost =  18.53460674580971\n",
      "RUN  19 , total integrated cost =  18.534606745471716\n",
      "RUN  20 , total integrated cost =  18.53460674547166\n",
      "Control only changes marginally.\n",
      "RUN  23 , total integrated cost =  18.53460674547165\n",
      "Improved over  23  iterations in  3.0996204640032374  seconds by  11.35163807874811  percent.\n",
      "0.11250214472185126 0.17168067792957933\n",
      "5.551237769899523e-09 0.12950540574463307\n",
      "set cost params:  18.119999999999997 1.0 0.0\n",
      "----- 376\n",
      "interpolate adjoint :  True True True\n",
      "RUN  0 , total integrated cost =  23.009517056803237\n",
      "Gradient descend method:  None\n",
      "RUN  1 , total integrated cost =  20.697545963048118\n",
      "RUN  2 , total integrated cost =  20.29586143251108\n",
      "RUN  3 , total integrated cost =  20.264898928145932\n",
      "RUN  4 , total integrated cost =  20.24603994018422\n",
      "RUN  5 , total integrated cost =  20.23309582462929\n",
      "RUN  6 , total integrated cost =  20.223500719883756\n",
      "RUN  7 , total integrated cost =  20.216024711521264\n",
      "RUN  8 , total integrated cost =  20.211236823786226\n",
      "RUN  9 , total integrated cost =  20.206919004384236\n",
      "RUN  10 , total integrated cost =  20.203930367969257\n",
      "RUN  11 , total integrated cost =  20.201629872289566\n",
      "RUN  12 , total integrated cost =  20.19968158607812\n",
      "RUN  13 , total integrated cost =  20.198038424077005\n",
      "RUN  14 , total integrated cost =  20.196781123126833\n",
      "RUN  15 , total integrated cost =  20.19559662725975\n",
      "RUN  16 , total integrated cost =  20.194886869649526\n",
      "RUN  17 , total integrated cost =  20.194043107716773\n",
      "RUN  18 , total integrated cost =  20.193674424516693\n",
      "RUN  19 , total integrated cost =  20.193289915651786\n",
      "RUN  20 , total integrated cost =  20.193187386967942\n",
      "Control only changes marginally.\n",
      "RUN  25 , total integrated cost =  20.193039604111068\n",
      "Improved over  25  iterations in  3.2652269800018985  seconds by  12.240489210352294  percent.\n",
      "0.12621823750419647 0.16163228435412916\n",
      "5.551237769899523e-09 0.12950540574463307\n",
      "set cost params:  18.115000000000002 1.0 0.0\n",
      "----- 377\n",
      "interpolate adjoint :  True True True\n",
      "RUN  0 , total integrated cost =  26.84935042615472\n",
      "Gradient descend method:  None\n",
      "RUN  1 , total integrated cost =  23.133376837234188\n",
      "RUN  2 , total integrated cost =  22.531824474101107\n",
      "RUN  3 , total integrated cost =  22.47492855463636\n",
      "RUN  4 , total integrated cost =  22.44611573919349\n",
      "RUN  5 , total integrated cost =  22.420271840662103\n",
      "RUN  6 , total integrated cost =  22.405649093857892\n",
      "RUN  7 , total integrated cost =  22.393429729840555\n",
      "RUN  8 , total integrated cost =  22.383824001662585\n",
      "RUN  9 , total integrated cost =  22.376957885400316\n",
      "RUN  10 , total integrated cost =  22.371781628554963\n",
      "RUN  11 , total integrated cost =  22.3673438013187\n",
      "RUN  12 , total integrated cost =  22.36450684807032\n",
      "RUN  13 , total integrated cost =  22.361152113164124\n",
      "RUN  14 , total integrated cost =  22.359200761378197\n",
      "RUN  15 , total integrated cost =  22.357171571963782\n",
      "RUN  16 , total integrated cost =  22.35635490875339\n",
      "RUN  17 , total integrated cost =  22.35527561101234\n",
      "RUN  18 , total integrated cost =  22.35478606805705\n",
      "RUN  19 , total integrated cost =  22.3540660822391\n",
      "RUN  20 , total integrated cost =  22.353691628277776\n",
      "RUN  30 , total integrated cost =  22.352948185966724\n",
      "Control only changes marginally.\n",
      "RUN  33 , total integrated cost =  22.352948185966707\n",
      "Improved over  33  iterations in  4.391712329001166  seconds by  16.746782208212906  percent.\n",
      "0.14643396408818118 0.13573606053380188\n",
      "5.551237769899523e-09 0.12950540574463307\n",
      "set cost params:  18.11 1.0 0.0\n",
      "----- 378\n",
      "interpolate adjoint :  True True True\n",
      "RUN  0 , total integrated cost =  36.37665378702325\n",
      "Gradient descend method:  None\n",
      "RUN  1 , total integrated cost =  27.15071108610755\n",
      "RUN  2 , total integrated cost =  26.020562445980126\n",
      "RUN  3 , total integrated cost =  25.89616643674863\n",
      "RUN  4 , total integrated cost =  25.82622445890781\n",
      "RUN  5 , total integrated cost =  25.78585964882671\n",
      "RUN  6 , total integrated cost =  25.75687334154297\n",
      "RUN  7 , total integrated cost =  25.74290493678738\n",
      "RUN  8 , total integrated cost =  25.730411430791943\n",
      "RUN  9 , total integrated cost =  25.723509496583674\n",
      "RUN  10 , total integrated cost =  25.717444220587254\n",
      "RUN  11 , total integrated cost =  25.714143010728048\n",
      "RUN  12 , total integrated cost =  25.71029352455193\n",
      "RUN  13 , total integrated cost =  25.708910310153765\n",
      "RUN  14 , total integrated cost =  25.70657794899268\n",
      "RUN  15 , total integrated cost =  25.705942602968072\n",
      "RUN  16 , total integrated cost =  25.704399507632527\n",
      "RUN  17 , total integrated cost =  25.703934106413225\n",
      "RUN  18 , total integrated cost =  25.702902527523342\n",
      "RUN  19 , total integrated cost =  25.70254404694397\n",
      "RUN  20 , total integrated cost =  25.701674513635123\n",
      "RUN  30 , total integrated cost =  25.69660886509743\n",
      "Control only changes marginally.\n",
      "RUN  32 , total integrated cost =  25.696608865097428\n",
      "Improved over  32  iterations in  4.391741864994401  seconds by  29.35961340604601  percent.\n",
      "0.17770810966525505 0.10638565299915917\n",
      "5.551237769899523e-09 0.12950540574463307\n",
      "set cost params:  18.105 1.0 0.0\n",
      "----- 379\n",
      "interpolate adjoint :  True True True\n",
      "RUN  0 , total integrated cost =  77.21598050711681\n",
      "Gradient descend method:  None\n",
      "RUN  1 , total integrated cost =  43.20876730350391\n",
      "RUN  2 , total integrated cost =  42.67715396420762\n",
      "RUN  3 , total integrated cost =  42.40242263223409\n",
      "RUN  4 , total integrated cost =  42.23636007746369\n",
      "RUN  5 , total integrated cost =  42.1576872794263\n",
      "RUN  6 , total integrated cost =  42.11124147318537\n",
      "RUN  7 , total integrated cost =  42.08605279336038\n",
      "RUN  8 , total integrated cost =  42.071309513631086\n",
      "RUN  9 , total integrated cost =  42.06323329682597\n",
      "RUN  10 , total integrated cost =  42.058230189155076\n",
      "RUN  11 , total integrated cost =  42.05575110096859\n",
      "RUN  12 , total integrated cost =  42.05433829806643\n",
      "RUN  13 , total integrated cost =  42.05346545435335\n",
      "RUN  14 , total integrated cost =  42.053077426789685\n",
      "RUN  15 , total integrated cost =  42.05286829046884\n",
      "RUN  16 , total integrated cost =  42.05277006960904\n",
      "RUN  17 , total integrated cost =  42.0527247077263\n",
      "RUN  18 , total integrated cost =  42.05270254218112\n",
      "RUN  19 , total integrated cost =  42.052693394443054\n",
      "RUN  20 , total integrated cost =  42.052688047421896\n",
      "Control only changes marginally.\n",
      "RUN  26 , total integrated cost =  42.05268487487196\n",
      "Improved over  26  iterations in  3.2091947049993905  seconds by  45.538883792330964  percent.\n",
      "0.9695589212011316 0.09856005288200738\n",
      "5.551237769899523e-09 0.12950540574463307\n",
      "set cost params:  18.1 1.0 0.0\n",
      "----- 380\n",
      "interpolate adjoint :  True True True\n",
      "RUN  0 , total integrated cost =  4291.811370198704\n",
      "Gradient descend method:  None\n",
      "RUN  1 , total integrated cost =  4280.502275991565\n",
      "RUN  2 , total integrated cost =  4279.042686621582\n",
      "RUN  3 , total integrated cost =  4278.871777480845\n",
      "RUN  4 , total integrated cost =  4278.731242417237\n",
      "RUN  5 , total integrated cost =  4278.658988732375\n",
      "RUN  6 , total integrated cost =  4278.614971977627\n",
      "RUN  7 , total integrated cost =  4278.591048477628\n",
      "RUN  8 , total integrated cost =  4278.57704288966\n",
      "RUN  9 , total integrated cost =  4278.570006046489\n",
      "RUN  10 , total integrated cost =  4278.566086939783\n",
      "RUN  11 , total integrated cost =  4278.5639439167835\n",
      "RUN  12 , total integrated cost =  4278.562468689973\n",
      "RUN  13 , total integrated cost =  4278.56200014073\n",
      "RUN  14 , total integrated cost =  4278.5616825916295\n",
      "RUN  15 , total integrated cost =  4278.561606998041\n",
      "RUN  16 , total integrated cost =  4278.561594150778\n",
      "RUN  17 , total integrated cost =  4278.561591653021\n",
      "RUN  18 , total integrated cost =  4278.56159057315\n",
      "RUN  19 , total integrated cost =  4278.561590572967\n",
      "RUN  20 , total integrated cost =  4278.561590572967\n",
      "Control only changes marginally.\n",
      "RUN  20 , total integrated cost =  4278.561590572967\n",
      "Improved over  20  iterations in  2.5986833899951307  seconds by  0.30872231985171084  percent.\n",
      "235.0311491454291 0.0985125388637642\n",
      "5.551237769899523e-09 0.12950540574463307\n"
     ]
    }
   ],
   "metadata": {
    "scrolled": true
   }
  },
  {
   "cell_type": "code",
   "execution_count": null,
   "source": [],
   "outputs": [],
   "metadata": {}
  }
 ],
 "metadata": {
  "kernelspec": {
   "name": "python3",
   "display_name": "Python 3.9.5 64-bit"
  },
  "language_info": {
   "codemirror_mode": {
    "name": "ipython",
    "version": 3
   },
   "file_extension": ".py",
   "mimetype": "text/x-python",
   "name": "python",
   "nbconvert_exporter": "python",
   "pygments_lexer": "ipython3",
   "version": "3.9.5"
  },
  "interpreter": {
   "hash": "916dbcbb3f70747c44a77c7bcd40155683ae19c65e1c03b4aa3499c5328201f1"
  }
 },
 "nbformat": 4,
 "nbformat_minor": 4
}