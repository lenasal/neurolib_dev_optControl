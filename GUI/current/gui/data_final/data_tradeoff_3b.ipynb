{
 "cells": [
  {
   "cell_type": "code",
   "execution_count": 1,
   "source": [
    "import matplotlib.pyplot as plt\n",
    "import numpy as np\n",
    "import os\n",
    "import sys\n",
    "import pickle\n",
    "\n",
    "path = os.getcwd().split(os.sep + 'GUI')[0]\n",
    "if path not in sys.path:\n",
    "    print(\"not here\")\n",
    "    sys.path.append(path)\n",
    "\n",
    "from neurolib.models.aln import ALNModel\n",
    "from neurolib.utils import plotFunctions as plotFunc\n",
    "from neurolib.utils import costFunctions as cost\n",
    "import neurolib.dashboard.functions as functions\n",
    "import neurolib.dashboard.data as data\n",
    "    \n",
    "# This will reload all imports as soon as the code changes\n",
    "%load_ext autoreload\n",
    "%autoreload 2 \n",
    "\n",
    "#path = os.path.join(os.getcwd(), \"plots\")"
   ],
   "outputs": [
    {
     "output_type": "stream",
     "name": "stdout",
     "text": [
      "not here\n"
     ]
    }
   ],
   "metadata": {}
  },
  {
   "cell_type": "code",
   "execution_count": 2,
   "source": [
    "aln = ALNModel()\n",
    "N = aln.params.N\n",
    "\n",
    "data.set_parameters(aln)\n",
    "\n",
    "state_vars = aln.state_vars\n",
    "init_vars = aln.init_vars\n",
    "\n",
    "##############################################################\n",
    "def setinit(init_vars_, model):\n",
    "    state_vars = model.state_vars\n",
    "    init_vars = model.init_vars\n",
    "    for iv in range(len(init_vars)):\n",
    "        for sv in range(len(state_vars)):\n",
    "            if state_vars[sv] in init_vars[iv]:\n",
    "                #print(\"set init vars \", )\n",
    "                if model.params[init_vars[iv]].ndim == 2:\n",
    "                    model.params[init_vars[iv]][0,:] = init_vars_[sv]\n",
    "                else:\n",
    "                    model.params[init_vars[iv]][0] = init_vars_[sv]\n",
    "                    \n",
    "##############################################################               \n",
    "def setmaxmincontrol(max_c_c, min_c_c, max_c_r, min_c_r):\n",
    "    import numpy as np\n",
    "    \n",
    "    max_cntrl = np.zeros(( 6 ))\n",
    "    min_cntrl = np.zeros(( 6 ))\n",
    "    \n",
    "    max_cntrl[0] = max_c_c\n",
    "    min_cntrl[0] = min_c_c\n",
    "    max_cntrl[1] = max_c_c\n",
    "    min_cntrl[1] = min_c_c\n",
    "    max_cntrl[2] = max_c_r\n",
    "    min_cntrl[2] = min_c_r\n",
    "    max_cntrl[3] = max_c_r\n",
    "    min_cntrl[3] = min_c_r\n",
    "    max_cntrl[4] = max_c_r\n",
    "    min_cntrl[4] = min_c_r\n",
    "    max_cntrl[5] = max_c_r\n",
    "    min_cntrl[5] = min_c_r\n",
    "            \n",
    "    return max_cntrl, min_cntrl"
   ],
   "outputs": [],
   "metadata": {}
  },
  {
   "cell_type": "code",
   "execution_count": 3,
   "source": [
    "##### LOAD BOUNDARIES\n",
    "data_file = 'bi.pickle'\n",
    "with open(data_file,'rb') as f:\n",
    "    load_array= pickle.load(f)\n",
    "exc = load_array[0]\n",
    "inh = load_array[1]\n",
    "print(len(exc))"
   ],
   "outputs": [
    {
     "output_type": "stream",
     "name": "stdout",
     "text": [
      "147\n"
     ]
    }
   ],
   "metadata": {}
  },
  {
   "cell_type": "code",
   "execution_count": 4,
   "source": [
    "t0_array = np.arange(380., -1, -1.)\n",
    "t_pen = t0_array / 400.\n",
    "\n",
    "bestControl_1 = [None] * len(t_pen)\n",
    "bestState_1 = [None] * len(t_pen)\n",
    "cost_1 = [None] * len(t_pen)\n",
    "runtime_1 = [None] * len(t_pen)\n",
    "grad_1 = [None] * len(t_pen)\n",
    "phi_1 = [None] * len(t_pen)\n",
    "costnode_1 = [None] * len(t_pen)\n",
    "weights_1 = [None] * len(t_pen)"
   ],
   "outputs": [],
   "metadata": {}
  },
  {
   "cell_type": "code",
   "execution_count": 5,
   "source": [
    "initVars = [None] * len(exc)\n",
    "target = [None] * len(exc)\n",
    "cost_uncontrolled = [None] * len(exc)\n",
    "\n",
    "cgv_list = [None, \"HS\", \"FR\", \"PR\", \"CD\", \"LS\", \"DY\", \"WYL\", \"HZ\", None]"
   ],
   "outputs": [],
   "metadata": {}
  },
  {
   "cell_type": "code",
   "execution_count": 12,
   "source": [
    "dur_pre = 10\n",
    "dur_post = 10\n",
    "\n",
    "i = 50\n",
    "\n",
    "n_pre = int(np.around(dur_pre/aln.params.dt + 1.,1))\n",
    "n_post = int(np.around(dur_post/aln.params.dt + 1.,1))\n",
    "\n",
    "tol = 1e-32\n",
    "start_step = 10.\n",
    "c_scheme = np.zeros(( 1,1 ))\n",
    "c_scheme[0,0] = 1.\n",
    "u_mat = np.identity(1)\n",
    "u_scheme = np.array([[1.]])\n",
    "\n",
    "c_var = [ [0], [1], [0,1]]\n",
    "p_var = [ [0], [0], [0]]\n",
    "\n",
    "### CURRENTS\n",
    "cntrl_vars_0 = [0,1]\n",
    "prec_vars = [0]\n",
    "\n",
    "max_I = [-3., 3.]\n",
    "factor_wp = 1. / 0.05\n",
    "factor_ws = 1.\n",
    "factor_we = 0.\n",
    "dur = 400\n",
    "trans_time = 0.95\n",
    "    \n",
    "maxC = [5., -5., 0.18, 0.]\n",
    "\n",
    "n_dur = int(np.around(dur/aln.params.dt + 1.,1))\n",
    "max_cntrl, min_cntrl = setmaxmincontrol(maxC[0], maxC[1], maxC[2], maxC[3])"
   ],
   "outputs": [],
   "metadata": {}
  },
  {
   "cell_type": "code",
   "execution_count": 7,
   "source": [
    "init_file = 'control_3.pickle'\n",
    "final_file_1 = 'control_tradeoff_3b.pickle'"
   ],
   "outputs": [],
   "metadata": {}
  },
  {
   "cell_type": "code",
   "execution_count": 8,
   "source": [
    "if os.path.isfile(init_file) :\n",
    "    print(\"init file found\")\n",
    "    \n",
    "    with open(init_file,'rb') as f:\n",
    "        load_array = pickle.load(f)\n",
    "\n",
    "    print(len(load_array[0]))\n",
    "\n",
    "    bestControl_1[0] = load_array[0][i]\n",
    "    bestState_1[0] = load_array[1][i]\n",
    "    cost_1 [0]= load_array[2][i]\n",
    "    runtime_1[0] = load_array[3][i]\n",
    "    grad_1 [0]= load_array[4][i]\n",
    "    phi_1[0] = load_array[5][i]\n",
    "    costnode_1[0] = load_array[6][i]\n",
    "    weights_1[0] = load_array[7][i]"
   ],
   "outputs": [
    {
     "output_type": "stream",
     "name": "stdout",
     "text": [
      "init file found\n",
      "147\n"
     ]
    }
   ],
   "metadata": {}
  },
  {
   "cell_type": "code",
   "execution_count": 9,
   "source": [
    "if os.path.isfile(final_file_1) :\n",
    "    print(\"final file found\")\n",
    "    \n",
    "    with open(final_file_1,'rb') as f:\n",
    "        load_array = pickle.load(f)\n",
    "\n",
    "    print(len(load_array[0]))\n",
    "\n",
    "    bestControl_1 = load_array[0]\n",
    "    bestState_1 = load_array[1]\n",
    "    cost_1 = load_array[2]\n",
    "    runtime_1 = load_array[3]\n",
    "    grad_1 = load_array[4]\n",
    "    phi_1 = load_array[5]\n",
    "    costnode_1 = load_array[6]\n",
    "    weights_1 = load_array[7]"
   ],
   "outputs": [],
   "metadata": {}
  },
  {
   "cell_type": "code",
   "execution_count": 13,
   "source": [
    "# get initial parameters and target states\n",
    "\n",
    "print(\"------- \", i, exc[i], inh[i])\n",
    "aln.params.ext_exc_current = exc[i] * 5.\n",
    "aln.params.ext_inh_current = inh[i] * 5.\n",
    "\n",
    "aln.params.duration = 3000.\n",
    "\n",
    "control0 = aln.getZeroControl()\n",
    "control0 = functions.step_control(aln, maxI_ = max_I[0])\n",
    "\n",
    "aln.run(control=control0)\n",
    "\n",
    "target_rates = np.zeros((2))\n",
    "target_rates[0] = aln.rates_exc[0,-1] \n",
    "target_rates[1] = aln.rates_inh[0,-1]\n",
    "\n",
    "control0 = functions.step_control(aln, maxI_ = max_I[1])\n",
    "aln.run(control=control0)\n",
    "\n",
    "init_state_vars = np.zeros(( len(state_vars) ))\n",
    "for j in range(len(state_vars)):\n",
    "    if aln.state[state_vars[j]].size == 1:\n",
    "        init_state_vars[j] = aln.state[state_vars[j]][0]\n",
    "    else:\n",
    "        init_state_vars[j] = aln.state[state_vars[j]][0,-1]\n",
    "\n",
    "initVars[i] = init_state_vars\n",
    "\n",
    "aln.params.duration = dur\n",
    "\n",
    "target[i] = aln.getZeroTarget()\n",
    "target[i][:,0,:] = target_rates[0]\n",
    "target[i][:,1,:] = target_rates[1]"
   ],
   "outputs": [
    {
     "output_type": "stream",
     "name": "stdout",
     "text": [
      "-------  50 0.47500000000000014 0.6000000000000003\n"
     ]
    }
   ],
   "metadata": {}
  },
  {
   "cell_type": "code",
   "execution_count": 14,
   "source": [
    "# get uncontrolled cost\n",
    "\n",
    "data.set_parameters(aln)\n",
    "aln.params.ext_exc_current = exc[i] * 5.\n",
    "aln.params.ext_inh_current = inh[i] * 5.\n",
    "aln.params.duration = dur\n",
    "\n",
    "cgv = None"
   ],
   "outputs": [],
   "metadata": {
    "scrolled": true
   }
  },
  {
   "cell_type": "code",
   "execution_count": 15,
   "source": [
    "print(np.argmax(np.abs(bestControl_1[0]), axis=2))\n",
    "print(bestControl_1[0][0,0,1000:2000:40]/5.)\n",
    "\n",
    "max_percent = (np.argmax(np.abs(bestControl_1[0]), axis=2)[0,0] -100) / 3800\n",
    "print(max_percent)"
   ],
   "outputs": [
    {
     "output_type": "stream",
     "name": "stdout",
     "text": [
      "[[1676    0    0    0    0    0]]\n",
      "[-5.90756480e-09 -1.76076093e-08 -5.24797877e-08 -1.68625302e-07\n",
      " -5.02591144e-07 -1.49797529e-06 -4.46468526e-06 -1.33068242e-05\n",
      " -3.96582966e-05 -1.18169061e-04 -3.51945277e-04 -1.04683941e-03\n",
      " -3.09946162e-03 -9.05776962e-03 -2.53447596e-02 -6.33558584e-02\n",
      " -1.20731676e-01 -1.44228521e-01 -1.21816229e-01 -8.99879622e-02\n",
      " -6.34150416e-02 -4.37259310e-02 -2.97162061e-02 -2.00279271e-02\n",
      " -1.31164755e-02]\n",
      "0.4147368421052632\n"
     ]
    }
   ],
   "metadata": {}
  },
  {
   "cell_type": "code",
   "execution_count": 16,
   "source": [
    "factor_iteration = 1.\n",
    "\n",
    "##### initial guess\n",
    "weight_ = 1.\n",
    "cost.setParams(weight_ * factor_wp, weight_ * factor_we, weight_ * factor_ws)\n",
    "\n",
    "setinit(initVars[i], aln)\n",
    "\n",
    "weights_1[0] = cost.getParams()\n",
    "\n",
    "for j in range(1, 381):\n",
    "\n",
    "    dur = 400. - np.around(j/10., 1)\n",
    "    T = 4001 - j\n",
    "    aln.params.duration = dur\n",
    "\n",
    "    factor_wp = dur / 20.\n",
    "    cost.setParams(weight_ * factor_wp, weight_ * factor_we, weight_ * factor_ws)\n",
    "\n",
    "    print('-----', j)\n",
    "    setinit(initVars[i], aln)\n",
    "\n",
    "    max_it = 3.\n",
    "    if j > 170:\n",
    "        max_it = 40.\n",
    "    elif j > 140:\n",
    "        max_it = 30.\n",
    "    elif j > 100.:\n",
    "        max_it = 20.\n",
    "    \n",
    "    if type(bestControl_1[j]) == type(None):\n",
    "        total_shift = round(j * max_percent * 10)\n",
    "        prev_shift = round( (j-1) * max_percent * 10)\n",
    "        shift_ind = total_shift - prev_shift\n",
    "        #print(total_shift, prev_shift, shift_ind)\n",
    "        control0 = np.zeros(( bestControl_1[j-1][:,:,100:-101].shape ))\n",
    "        control0[:,:,:-shift_ind] = 1. * bestControl_1[j-1][:,:,100+shift_ind:-101]\n",
    "    else:\n",
    "        if bestControl_1[j].shape[2] == T+200:\n",
    "            control0 = bestControl_1[j][:,:,100:-100]\n",
    "        else:\n",
    "            control0 = bestControl_1[j][:,:,100:-(100+j)]\n",
    "\n",
    "    bestControl_1[j], bestState_1[j], cost_1[j], runtime_1[j], grad_1[j], phi_1[j], costnode_1[j] = aln.A1(\n",
    "        control0, target[i], c_scheme, u_mat, u_scheme, max_iteration_ = max_it, tolerance_ = tol,\n",
    "        startStep_ = start_step, max_control_ = max_cntrl, min_control_ = min_cntrl, t_sim_ = dur,\n",
    "        t_sim_pre_ = dur_pre, t_sim_post_ = dur_post, CGVar = cgv, control_variables_ = [0,1],\n",
    "        prec_variables_ = prec_vars, transition_time_ = t_pen[j])\n",
    "\n",
    "    print(costnode_1[j][0][0][0], costnode_1[j][2][0][1])\n",
    "\n",
    "    print(costnode_1[0][0][0][0], costnode_1[0][2][0][1])\n",
    "        \n",
    "    with open(final_file_1,'wb') as f:\n",
    "        pickle.dump([bestControl_1, bestState_1, cost_1, runtime_1, grad_1, phi_1,\n",
    "                costnode_1, weights_1], f)"
   ],
   "outputs": [
    {
     "output_type": "stream",
     "name": "stdout",
     "text": [
      "set cost params:  20.0 0.0 1.0\n",
      "set cost params:  19.994999999999997 0.0 1.0\n",
      "----- 1\n",
      "interpolate adjoint :  True True True\n",
      "RUN  0 , total integrated cost =  2.6571110999246943\n",
      "Gradient descend method:  None\n",
      "RUN  1 , total integrated cost =  2.657110955019301\n",
      "RUN  2 , total integrated cost =  2.6571109549882124\n",
      "RUN  3 , total integrated cost =  2.657110954985942\n",
      "RUN  3 , total integrated cost =  2.657110954985942\n",
      "Improved over  3  iterations in  32.93494094400012  seconds by  5.454749413047466e-06  percent.\n"
     ]
    },
    {
     "output_type": "stream",
     "name": "stderr",
     "text": [
      "ERROR:root:Problem in initial value trasfer\n"
     ]
    },
    {
     "output_type": "stream",
     "name": "stdout",
     "text": [
      "Problem in initial value trasfer:  Vmean_exc -73.76947335960494 -73.77297874864682\n",
      "1.2622804743135636e-09 0.0\n",
      "8.241242234202802e-09 0.0\n",
      "set cost params:  19.990000000000002 0.0 1.0\n",
      "----- 2\n",
      "interpolate adjoint :  True True True\n",
      "RUN  0 , total integrated cost =  2.657110958499663\n",
      "Gradient descend method:  None\n",
      "RUN  1 , total integrated cost =  2.6571109583318155\n",
      "RUN  2 , total integrated cost =  2.657110958330638\n"
     ]
    },
    {
     "output_type": "stream",
     "name": "stderr",
     "text": [
      "ERROR:root:Problem in initial value trasfer\n"
     ]
    },
    {
     "output_type": "stream",
     "name": "stdout",
     "text": [
      "RUN  3 , total integrated cost =  2.6571109582887247\n",
      "RUN  3 , total integrated cost =  2.6571109582887247\n",
      "Improved over  3  iterations in  2.9411497250002867  seconds by  7.938638191262726e-09  percent.\n",
      "Problem in initial value trasfer:  Vmean_exc -73.7881054060075 -73.7915243661571\n",
      "1.3678521275063602e-09 0.0\n",
      "8.241242234202802e-09 0.0\n",
      "set cost params:  19.985 0.0 1.0\n",
      "----- 3\n",
      "interpolate adjoint :  True True True\n",
      "RUN  0 , total integrated cost =  2.657110962829275\n",
      "Gradient descend method:  None\n",
      "RUN  1 , total integrated cost =  2.657110962331617\n",
      "RUN  2 , total integrated cost =  2.6571109623253752\n"
     ]
    },
    {
     "output_type": "stream",
     "name": "stderr",
     "text": [
      "ERROR:root:Problem in initial value trasfer\n"
     ]
    },
    {
     "output_type": "stream",
     "name": "stdout",
     "text": [
      "RUN  3 , total integrated cost =  2.6571109623143827\n",
      "RUN  3 , total integrated cost =  2.6571109623143827\n",
      "Improved over  3  iterations in  2.691940209999302  seconds by  1.9377893067940022e-08  percent.\n",
      "Problem in initial value trasfer:  Vmean_exc -73.82046838655131 -73.8237372465475\n",
      "1.3835316351328634e-09 0.0\n",
      "8.241242234202802e-09 0.0\n",
      "set cost params:  19.98 0.0 1.0\n",
      "----- 4\n",
      "interpolate adjoint :  True True True\n",
      "RUN  0 , total integrated cost =  2.657110966199035\n",
      "Gradient descend method:  None\n",
      "RUN  1 , total integrated cost =  2.657110965970693\n",
      "RUN  2 , total integrated cost =  2.657110965963372\n"
     ]
    },
    {
     "output_type": "stream",
     "name": "stderr",
     "text": [
      "ERROR:root:Problem in initial value trasfer\n"
     ]
    },
    {
     "output_type": "stream",
     "name": "stdout",
     "text": [
      "RUN  3 , total integrated cost =  2.657110965953554\n",
      "RUN  3 , total integrated cost =  2.657110965953554\n",
      "Improved over  3  iterations in  2.7554588519997196  seconds by  9.238647180609405e-09  percent.\n",
      "Problem in initial value trasfer:  Vmean_exc -73.8472442651467 -73.85038896036555\n",
      "1.4384758161894252e-09 0.0\n",
      "8.241242234202802e-09 0.0\n",
      "set cost params:  19.975 0.0 1.0\n",
      "----- 5\n",
      "interpolate adjoint :  True True True\n",
      "RUN  0 , total integrated cost =  2.6571109707143337\n",
      "Gradient descend method:  None\n",
      "RUN  1 , total integrated cost =  2.657110970391912\n",
      "RUN  2 , total integrated cost =  2.6571109703603386\n"
     ]
    },
    {
     "output_type": "stream",
     "name": "stderr",
     "text": [
      "ERROR:root:Problem in initial value trasfer\n"
     ]
    },
    {
     "output_type": "stream",
     "name": "stdout",
     "text": [
      "RUN  3 , total integrated cost =  2.657110970338894\n",
      "RUN  3 , total integrated cost =  2.657110970338894\n",
      "Improved over  3  iterations in  2.6928246910028975  seconds by  1.4129625469649909e-08  percent.\n",
      "Problem in initial value trasfer:  Vmean_exc -73.87329511081244 -73.87631902316906\n",
      "1.4920479346016727e-09 0.0\n",
      "8.241242234202802e-09 0.0\n",
      "set cost params:  19.97 0.0 1.0\n",
      "----- 6\n",
      "interpolate adjoint :  True True True\n",
      "RUN  0 , total integrated cost =  2.6571109752810176\n",
      "Gradient descend method:  None\n",
      "RUN  1 , total integrated cost =  2.6571109749907955\n",
      "RUN  2 , total integrated cost =  2.657110974987469\n"
     ]
    },
    {
     "output_type": "stream",
     "name": "stderr",
     "text": [
      "ERROR:root:Problem in initial value trasfer\n"
     ]
    },
    {
     "output_type": "stream",
     "name": "stdout",
     "text": [
      "RUN  3 , total integrated cost =  2.65711097497756\n",
      "RUN  3 , total integrated cost =  2.65711097497756\n",
      "Improved over  3  iterations in  2.775369517999934  seconds by  1.142058181358152e-08  percent.\n",
      "Problem in initial value trasfer:  Vmean_exc -73.89557035878188 -73.8984910092237\n",
      "1.5790908767076108e-09 0.0\n",
      "8.241242234202802e-09 0.0\n",
      "set cost params:  19.965 0.0 1.0\n",
      "----- 7\n",
      "interpolate adjoint :  True True True\n",
      "RUN  0 , total integrated cost =  2.6571109802242394\n",
      "Gradient descend method:  None\n",
      "RUN  1 , total integrated cost =  2.657110979852443\n",
      "RUN  2 , total integrated cost =  2.657110979692175\n"
     ]
    },
    {
     "output_type": "stream",
     "name": "stderr",
     "text": [
      "ERROR:root:Problem in initial value trasfer\n"
     ]
    },
    {
     "output_type": "stream",
     "name": "stdout",
     "text": [
      "RUN  3 , total integrated cost =  2.6571109795407546\n",
      "RUN  3 , total integrated cost =  2.6571109795407546\n",
      "Improved over  3  iterations in  2.78832346100171  seconds by  2.572285495716642e-08  percent.\n",
      "Problem in initial value trasfer:  Vmean_exc -73.920294930088 -73.92310098119886\n",
      "1.630542319883678e-09 0.0\n",
      "8.241242234202802e-09 0.0\n",
      "set cost params:  19.96 0.0 1.0\n",
      "----- 8\n",
      "interpolate adjoint :  True True True\n",
      "RUN  0 , total integrated cost =  2.657110984958175\n",
      "Gradient descend method:  None\n",
      "RUN  1 , total integrated cost =  2.657110984654065\n",
      "RUN  2 , total integrated cost =  2.6571109846502137\n"
     ]
    },
    {
     "output_type": "stream",
     "name": "stderr",
     "text": [
      "ERROR:root:Problem in initial value trasfer\n"
     ]
    },
    {
     "output_type": "stream",
     "name": "stdout",
     "text": [
      "RUN  3 , total integrated cost =  2.6571109846306364\n",
      "RUN  3 , total integrated cost =  2.6571109846306364\n",
      "Improved over  3  iterations in  2.8001205809996463  seconds by  1.2326864862188813e-08  percent.\n",
      "Problem in initial value trasfer:  Vmean_exc -73.93974603414708 -73.94246194119525\n",
      "1.7422466535067934e-09 0.0\n",
      "8.241242234202802e-09 0.0\n",
      "set cost params:  19.955000000000002 0.0 1.0\n",
      "----- 9\n",
      "interpolate adjoint :  True True True\n",
      "RUN  0 , total integrated cost =  2.6571109904334596\n",
      "Gradient descend method:  None\n",
      "RUN  1 , total integrated cost =  2.6571109899829253\n",
      "RUN  2 , total integrated cost =  2.657110989955353\n"
     ]
    },
    {
     "output_type": "stream",
     "name": "stderr",
     "text": [
      "ERROR:root:Problem in initial value trasfer\n"
     ]
    },
    {
     "output_type": "stream",
     "name": "stdout",
     "text": [
      "RUN  3 , total integrated cost =  2.6571109899176695\n",
      "RUN  3 , total integrated cost =  2.6571109899176695\n",
      "Improved over  3  iterations in  2.8812237680031103  seconds by  1.9411686480452772e-08  percent.\n",
      "Problem in initial value trasfer:  Vmean_exc -73.96289969861479 -73.9655083168509\n",
      "1.7959656087426348e-09 0.0\n",
      "8.241242234202802e-09 0.0\n",
      "set cost params:  19.95 0.0 1.0\n",
      "----- 10\n",
      "interpolate adjoint :  True True True\n",
      "RUN  0 , total integrated cost =  2.6571109958959056\n",
      "Gradient descend method:  None\n",
      "RUN  1 , total integrated cost =  2.6571109955384093\n",
      "RUN  2 , total integrated cost =  2.6571109955008\n"
     ]
    },
    {
     "output_type": "stream",
     "name": "stderr",
     "text": [
      "ERROR:root:Problem in initial value trasfer\n"
     ]
    },
    {
     "output_type": "stream",
     "name": "stdout",
     "text": [
      "RUN  3 , total integrated cost =  2.657110995457398\n",
      "RUN  3 , total integrated cost =  2.657110995457398\n",
      "Improved over  3  iterations in  2.565250236999418  seconds by  1.6503165056747093e-08  percent.\n",
      "Problem in initial value trasfer:  Vmean_exc -73.98340416233378 -73.98591778055903\n",
      "1.8790639964315957e-09 0.0\n",
      "8.241242234202802e-09 0.0\n",
      "set cost params:  19.945 0.0 1.0\n",
      "----- 11\n",
      "interpolate adjoint :  True True True\n",
      "RUN  0 , total integrated cost =  2.657111000762069\n",
      "Gradient descend method:  None\n",
      "RUN  1 , total integrated cost =  2.6571110004956977\n",
      "RUN  2 , total integrated cost =  2.657111000084052\n"
     ]
    },
    {
     "output_type": "stream",
     "name": "stderr",
     "text": [
      "ERROR:root:Problem in initial value trasfer\n"
     ]
    },
    {
     "output_type": "stream",
     "name": "stdout",
     "text": [
      "RUN  3 , total integrated cost =  2.6571109995649023\n",
      "RUN  3 , total integrated cost =  2.6571109995649023\n",
      "Improved over  3  iterations in  2.5453050430005533  seconds by  4.505520223574422e-08  percent.\n",
      "Problem in initial value trasfer:  Vmean_exc -74.00411859472503 -74.00653624239067\n",
      "1.948882004345591e-09 0.0\n",
      "8.241242234202802e-09 0.0\n",
      "set cost params:  19.94 0.0 1.0\n",
      "----- 12\n",
      "interpolate adjoint :  True True True\n",
      "RUN  0 , total integrated cost =  2.6571110060482437\n",
      "Gradient descend method:  None\n",
      "RUN  1 , total integrated cost =  2.657111005703054\n",
      "RUN  2 , total integrated cost =  2.6571110056959473\n"
     ]
    },
    {
     "output_type": "stream",
     "name": "stderr",
     "text": [
      "ERROR:root:Problem in initial value trasfer\n"
     ]
    },
    {
     "output_type": "stream",
     "name": "stdout",
     "text": [
      "RUN  3 , total integrated cost =  2.6571110056828458\n",
      "RUN  3 , total integrated cost =  2.6571110056828458\n",
      "Improved over  3  iterations in  2.625808484001027  seconds by  1.3751701999353827e-08  percent.\n",
      "Problem in initial value trasfer:  Vmean_exc -74.02216209002574 -74.02449616058763\n",
      "2.0571146849857694e-09 0.0\n",
      "8.241242234202802e-09 0.0\n",
      "set cost params:  19.935 0.0 1.0\n",
      "----- 13\n",
      "interpolate adjoint :  True True True\n",
      "RUN  0 , total integrated cost =  2.657111012521895\n",
      "Gradient descend method:  None\n",
      "RUN  1 , total integrated cost =  2.657111012118687\n",
      "RUN  2 , total integrated cost =  2.657111012106534\n"
     ]
    },
    {
     "output_type": "stream",
     "name": "stderr",
     "text": [
      "ERROR:root:Problem in initial value trasfer\n"
     ]
    },
    {
     "output_type": "stream",
     "name": "stdout",
     "text": [
      "RUN  3 , total integrated cost =  2.6571110120845645\n",
      "RUN  3 , total integrated cost =  2.6571110120845645\n",
      "Improved over  3  iterations in  2.8385569070014753  seconds by  1.6458884033454524e-08  percent.\n",
      "Problem in initial value trasfer:  Vmean_exc -74.04021256333465 -74.04246303388668\n",
      "2.157950521805904e-09 0.0\n",
      "8.241242234202802e-09 0.0\n",
      "set cost params:  19.93 0.0 1.0\n",
      "----- 14\n",
      "interpolate adjoint :  True True True\n",
      "RUN  0 , total integrated cost =  2.6571110181580724\n",
      "Gradient descend method:  None\n",
      "RUN  1 , total integrated cost =  2.6571110178482766\n",
      "RUN  2 , total integrated cost =  2.657111017794467\n"
     ]
    },
    {
     "output_type": "stream",
     "name": "stderr",
     "text": [
      "ERROR:root:Problem in initial value trasfer\n"
     ]
    },
    {
     "output_type": "stream",
     "name": "stdout",
     "text": [
      "RUN  3 , total integrated cost =  2.6571110177202657\n",
      "RUN  3 , total integrated cost =  2.6571110177202657\n",
      "Improved over  3  iterations in  2.6978104830013763  seconds by  1.6476803921250394e-08  percent.\n",
      "Problem in initial value trasfer:  Vmean_exc -74.05634234980532 -74.05851812388913\n",
      "2.2428771835777512e-09 0.0\n",
      "8.241242234202802e-09 0.0\n",
      "set cost params:  19.925 0.0 1.0\n",
      "----- 15\n",
      "interpolate adjoint :  True True True\n",
      "RUN  0 , total integrated cost =  2.6571110251554972\n",
      "Gradient descend method:  None\n",
      "RUN  1 , total integrated cost =  2.6571110247482337\n",
      "RUN  2 , total integrated cost =  2.6571110243788088\n"
     ]
    },
    {
     "output_type": "stream",
     "name": "stderr",
     "text": [
      "ERROR:root:Problem in initial value trasfer\n"
     ]
    },
    {
     "output_type": "stream",
     "name": "stdout",
     "text": [
      "RUN  3 , total integrated cost =  2.6571110240649185\n",
      "RUN  3 , total integrated cost =  2.6571110240649185\n",
      "Improved over  3  iterations in  2.7096610579974367  seconds by  4.104377637759171e-08  percent.\n",
      "Problem in initial value trasfer:  Vmean_exc -74.07385843719786 -74.07595310340808\n",
      "2.3355388262972235e-09 0.0\n",
      "8.241242234202802e-09 0.0\n",
      "set cost params:  19.919999999999998 0.0 1.0\n",
      "----- 16\n",
      "interpolate adjoint :  True True True\n",
      "RUN  0 , total integrated cost =  2.6571110317919673\n",
      "Gradient descend method:  None\n",
      "RUN  1 , total integrated cost =  2.657111031430943\n",
      "RUN  2 , total integrated cost =  2.6571110314231796\n"
     ]
    },
    {
     "output_type": "stream",
     "name": "stderr",
     "text": [
      "ERROR:root:Problem in initial value trasfer\n"
     ]
    },
    {
     "output_type": "stream",
     "name": "stdout",
     "text": [
      "RUN  3 , total integrated cost =  2.657111031407692\n",
      "RUN  3 , total integrated cost =  2.657111031407692\n",
      "Improved over  3  iterations in  2.8477427260004333  seconds by  1.446214525913092e-08  percent.\n",
      "Problem in initial value trasfer:  Vmean_exc -74.08876098795682 -74.09078665518871\n",
      "2.483902388545285e-09 0.0\n",
      "8.241242234202802e-09 0.0\n",
      "set cost params:  19.915 0.0 1.0\n",
      "----- 17\n",
      "interpolate adjoint :  True True True\n",
      "RUN  0 , total integrated cost =  2.6571110383667125\n",
      "Gradient descend method:  None\n",
      "RUN  1 , total integrated cost =  2.657111038004066\n",
      "RUN  2 , total integrated cost =  2.6571110328171454\n"
     ]
    },
    {
     "output_type": "stream",
     "name": "stderr",
     "text": [
      "ERROR:root:Problem in initial value trasfer\n"
     ]
    },
    {
     "output_type": "stream",
     "name": "stdout",
     "text": [
      "RUN  3 , total integrated cost =  2.6571110261376254\n",
      "RUN  3 , total integrated cost =  2.6571110261376254\n",
      "Improved over  3  iterations in  2.623834573998465  seconds by  4.6023997413158213e-07  percent.\n",
      "Problem in initial value trasfer:  Vmean_exc -74.10550991446168 -74.10745804137333\n",
      "2.573207418047404e-09 0.0\n",
      "8.241242234202802e-09 0.0\n",
      "set cost params:  19.91 0.0 1.0\n",
      "----- 18\n",
      "interpolate adjoint :  True True True\n",
      "RUN  0 , total integrated cost =  2.65711103471629\n",
      "Gradient descend method:  None\n",
      "RUN  1 , total integrated cost =  2.6571110341754003\n",
      "RUN  2 , total integrated cost =  2.657111034170768\n"
     ]
    },
    {
     "output_type": "stream",
     "name": "stderr",
     "text": [
      "ERROR:root:Problem in initial value trasfer\n"
     ]
    },
    {
     "output_type": "stream",
     "name": "stdout",
     "text": [
      "RUN  3 , total integrated cost =  2.6571110341538664\n",
      "RUN  3 , total integrated cost =  2.6571110341538664\n",
      "Improved over  3  iterations in  2.8825023019999207  seconds by  2.116672703778022e-08  percent.\n",
      "Problem in initial value trasfer:  Vmean_exc -74.1196601161349 -74.12154273935471\n",
      "2.7266509971956007e-09 0.0\n",
      "8.241242234202802e-09 0.0\n",
      "set cost params:  19.905 0.0 1.0\n",
      "----- 19\n",
      "interpolate adjoint :  True True True\n",
      "RUN  0 , total integrated cost =  2.6571110434311724\n",
      "Gradient descend method:  None\n",
      "RUN  1 , total integrated cost =  2.657111042579705\n",
      "RUN  2 , total integrated cost =  2.6571110425730136\n"
     ]
    },
    {
     "output_type": "stream",
     "name": "stderr",
     "text": [
      "ERROR:root:Problem in initial value trasfer\n"
     ]
    },
    {
     "output_type": "stream",
     "name": "stdout",
     "text": [
      "RUN  3 , total integrated cost =  2.6571110425589666\n",
      "RUN  3 , total integrated cost =  2.6571110425589666\n",
      "Improved over  3  iterations in  2.7547039489982126  seconds by  3.2825340667841374e-08  percent.\n",
      "Problem in initial value trasfer:  Vmean_exc -74.13488937584522 -74.13670150616777\n",
      "2.835874604687372e-09 0.0\n",
      "8.241242234202802e-09 0.0\n",
      "set cost params:  19.9 0.0 1.0\n",
      "----- 20\n",
      "interpolate adjoint :  True True True\n",
      "RUN  0 , total integrated cost =  2.6571110523842214\n",
      "Gradient descend method:  None\n",
      "RUN  1 , total integrated cost =  2.657111051439628\n",
      "RUN  2 , total integrated cost =  2.657111051437546\n"
     ]
    },
    {
     "output_type": "stream",
     "name": "stderr",
     "text": [
      "ERROR:root:Problem in initial value trasfer\n"
     ]
    },
    {
     "output_type": "stream",
     "name": "stdout",
     "text": [
      "RUN  3 , total integrated cost =  2.6571110514208782\n",
      "RUN  3 , total integrated cost =  2.6571110514208782\n",
      "Improved over  3  iterations in  2.700664734999009  seconds by  3.6255286772757245e-08  percent.\n",
      "Problem in initial value trasfer:  Vmean_exc -74.14953493978523 -74.15127928496148\n",
      "2.952049611508895e-09 0.0\n",
      "8.241242234202802e-09 0.0\n",
      "set cost params:  19.895 0.0 1.0\n",
      "----- 21\n",
      "interpolate adjoint :  True True True\n",
      "RUN  0 , total integrated cost =  2.65711106018945\n",
      "Gradient descend method:  None\n",
      "RUN  1 , total integrated cost =  2.657111059411394\n",
      "RUN  2 , total integrated cost =  2.6571110594005773\n"
     ]
    },
    {
     "output_type": "stream",
     "name": "stderr",
     "text": [
      "ERROR:root:Problem in initial value trasfer\n"
     ]
    },
    {
     "output_type": "stream",
     "name": "stdout",
     "text": [
      "RUN  3 , total integrated cost =  2.6571110593823177\n",
      "RUN  3 , total integrated cost =  2.6571110593823177\n",
      "Improved over  3  iterations in  2.7745267639984377  seconds by  3.037629880964232e-08  percent.\n",
      "Problem in initial value trasfer:  Vmean_exc -74.16325594819712 -74.1649367928547\n",
      "3.020971990930395e-09 0.0\n",
      "8.241242234202802e-09 0.0\n",
      "set cost params:  19.89 0.0 1.0\n",
      "----- 22\n",
      "interpolate adjoint :  True True True\n",
      "RUN  0 , total integrated cost =  2.65711107011373\n",
      "Gradient descend method:  None\n",
      "RUN  1 , total integrated cost =  2.657111069184059\n",
      "RUN  2 , total integrated cost =  2.657111069176828\n"
     ]
    },
    {
     "output_type": "stream",
     "name": "stderr",
     "text": [
      "ERROR:root:Problem in initial value trasfer\n"
     ]
    },
    {
     "output_type": "stream",
     "name": "stdout",
     "text": [
      "RUN  3 , total integrated cost =  2.657111069157094\n",
      "RUN  3 , total integrated cost =  2.657111069157094\n",
      "Improved over  3  iterations in  2.743303907001973  seconds by  3.600287357130583e-08  percent.\n",
      "Problem in initial value trasfer:  Vmean_exc -74.17701110753707 -74.17862829903548\n",
      "3.1403465920431284e-09 0.0\n",
      "8.241242234202802e-09 0.0\n",
      "set cost params:  19.884999999999998 0.0 1.0\n",
      "----- 23\n",
      "interpolate adjoint :  True True True\n",
      "RUN  0 , total integrated cost =  2.6571110804594054\n",
      "Gradient descend method:  None\n",
      "RUN  1 , total integrated cost =  2.657111079491738\n",
      "RUN  2 , total integrated cost =  2.657111079486981\n"
     ]
    },
    {
     "output_type": "stream",
     "name": "stderr",
     "text": [
      "ERROR:root:Problem in initial value trasfer\n"
     ]
    },
    {
     "output_type": "stream",
     "name": "stdout",
     "text": [
      "RUN  3 , total integrated cost =  2.6571110787596433\n",
      "RUN  3 , total integrated cost =  2.6571110787596433\n",
      "Improved over  3  iterations in  2.4587713069995516  seconds by  6.397030460902897e-08  percent.\n",
      "Problem in initial value trasfer:  Vmean_exc -74.19873265992018 -74.200249344295\n",
      "2.879308692805058e-09 0.0\n",
      "8.241242234202802e-09 0.0\n",
      "set cost params:  19.880000000000003 0.0 1.0\n",
      "----- 24\n",
      "interpolate adjoint :  True True True\n",
      "RUN  0 , total integrated cost =  2.6571110872031536\n",
      "Gradient descend method:  None\n",
      "RUN  1 , total integrated cost =  2.6571110871750387\n",
      "RUN  2 , total integrated cost =  2.657111087171922\n"
     ]
    },
    {
     "output_type": "stream",
     "name": "stderr",
     "text": [
      "ERROR:root:Problem in initial value trasfer\n"
     ]
    },
    {
     "output_type": "stream",
     "name": "stdout",
     "text": [
      "RUN  3 , total integrated cost =  2.657111087058767\n",
      "RUN  3 , total integrated cost =  2.657111087058767\n",
      "Improved over  3  iterations in  2.822217811997689  seconds by  5.4339750477083726e-09  percent.\n",
      "Problem in initial value trasfer:  Vmean_exc -74.20107607711341 -74.20258191915718\n",
      "3.503054410588469e-09 0.0\n",
      "8.241242234202802e-09 0.0\n",
      "set cost params:  19.875 0.0 1.0\n",
      "----- 25\n",
      "interpolate adjoint :  True True True\n",
      "RUN  0 , total integrated cost =  2.6571111000376844\n",
      "Gradient descend method:  None\n",
      "RUN  1 , total integrated cost =  2.657111098359738\n",
      "RUN  2 , total integrated cost =  2.6571110983551773\n"
     ]
    },
    {
     "output_type": "stream",
     "name": "stderr",
     "text": [
      "ERROR:root:Problem in initial value trasfer\n"
     ]
    },
    {
     "output_type": "stream",
     "name": "stdout",
     "text": [
      "RUN  3 , total integrated cost =  2.6571110982190693\n",
      "RUN  3 , total integrated cost =  2.6571110982190693\n",
      "Improved over  3  iterations in  2.6929646889984724  seconds by  6.844331323918595e-08  percent.\n",
      "Problem in initial value trasfer:  Vmean_exc -74.21870210706321 -74.22012640356108\n",
      "3.340450200357192e-09 0.0\n",
      "8.241242234202802e-09 0.0\n",
      "set cost params:  19.869999999999997 0.0 1.0\n",
      "----- 26\n",
      "interpolate adjoint :  True True True\n",
      "RUN  0 , total integrated cost =  2.6571111104443834\n",
      "Gradient descend method:  None\n",
      "RUN  1 , total integrated cost =  2.6571111100749447\n",
      "RUN  2 , total integrated cost =  2.6571111099445632\n"
     ]
    },
    {
     "output_type": "stream",
     "name": "stderr",
     "text": [
      "ERROR:root:Problem in initial value trasfer\n"
     ]
    },
    {
     "output_type": "stream",
     "name": "stdout",
     "text": [
      "RUN  3 , total integrated cost =  2.657111109789895\n",
      "RUN  3 , total integrated cost =  2.657111109789895\n",
      "Improved over  3  iterations in  2.806139856002119  seconds by  2.4631589212731342e-08  percent.\n",
      "Problem in initial value trasfer:  Vmean_exc -74.22734819914272 -74.22873249842654\n",
      "3.6641971384871684e-09 0.0\n",
      "8.241242234202802e-09 0.0\n",
      "set cost params:  19.865000000000002 0.0 1.0\n",
      "----- 27\n",
      "interpolate adjoint :  True True True\n",
      "RUN  0 , total integrated cost =  2.6571111213496703\n",
      "Gradient descend method:  None\n",
      "RUN  1 , total integrated cost =  2.657111120576711\n",
      "RUN  2 , total integrated cost =  2.657111120573443\n"
     ]
    },
    {
     "output_type": "stream",
     "name": "stderr",
     "text": [
      "ERROR:root:Problem in initial value trasfer\n"
     ]
    },
    {
     "output_type": "stream",
     "name": "stdout",
     "text": [
      "RUN  3 , total integrated cost =  2.6571111205465914\n",
      "RUN  3 , total integrated cost =  2.6571111205465914\n",
      "Improved over  3  iterations in  2.808373700998345  seconds by  3.022375949512934e-08  percent.\n",
      "Problem in initial value trasfer:  Vmean_exc -74.23690811075845 -74.2382481879806\n",
      "3.847412197116626e-09 0.0\n",
      "8.241242234202802e-09 0.0\n",
      "set cost params:  19.86 0.0 1.0\n",
      "----- 28\n",
      "interpolate adjoint :  True True True\n",
      "RUN  0 , total integrated cost =  2.6571111350363474\n",
      "Gradient descend method:  None\n",
      "RUN  1 , total integrated cost =  2.657111133745886\n",
      "RUN  2 , total integrated cost =  2.6571111336690563\n"
     ]
    },
    {
     "output_type": "stream",
     "name": "stderr",
     "text": [
      "ERROR:root:Problem in initial value trasfer\n"
     ]
    },
    {
     "output_type": "stream",
     "name": "stdout",
     "text": [
      "RUN  3 , total integrated cost =  2.6571111336150053\n",
      "RUN  3 , total integrated cost =  2.6571111336150053\n",
      "Improved over  3  iterations in  2.6803065089989104  seconds by  5.3492016149903066e-08  percent.\n",
      "Problem in initial value trasfer:  Vmean_exc -74.24848159610052 -74.24976814044713\n",
      "3.963608845985603e-09 0.0\n",
      "8.241242234202802e-09 0.0\n",
      "set cost params:  19.855 0.0 1.0\n",
      "----- 29\n",
      "interpolate adjoint :  True True True\n",
      "RUN  0 , total integrated cost =  2.6571111486011803\n",
      "Gradient descend method:  None\n",
      "RUN  1 , total integrated cost =  2.657111147522785\n",
      "RUN  2 , total integrated cost =  2.65711114751536\n"
     ]
    },
    {
     "output_type": "stream",
     "name": "stderr",
     "text": [
      "ERROR:root:Problem in initial value trasfer\n"
     ]
    },
    {
     "output_type": "stream",
     "name": "stdout",
     "text": [
      "RUN  3 , total integrated cost =  2.6571111474381786\n",
      "RUN  3 , total integrated cost =  2.6571111474381786\n",
      "Improved over  3  iterations in  2.7966610599978594  seconds by  4.376940410111274e-08  percent.\n",
      "Problem in initial value trasfer:  Vmean_exc -74.25745370235438 -74.25869874910329\n",
      "4.262056925510536e-09 0.0\n",
      "8.241242234202802e-09 0.0\n",
      "set cost params:  19.85 0.0 1.0\n",
      "----- 30\n",
      "interpolate adjoint :  True True True\n",
      "RUN  0 , total integrated cost =  2.657111163681798\n",
      "Gradient descend method:  None\n",
      "RUN  1 , total integrated cost =  2.6571111620274603\n",
      "RUN  2 , total integrated cost =  2.6571111620172694\n"
     ]
    },
    {
     "output_type": "stream",
     "name": "stderr",
     "text": [
      "ERROR:root:Problem in initial value trasfer\n"
     ]
    },
    {
     "output_type": "stream",
     "name": "stdout",
     "text": [
      "RUN  3 , total integrated cost =  2.657111161986147\n",
      "RUN  3 , total integrated cost =  2.657111161986147\n",
      "Improved over  3  iterations in  2.697033641001326  seconds by  6.381557682288985e-08  percent.\n",
      "Problem in initial value trasfer:  Vmean_exc -74.26823779295485 -74.26943296442671\n",
      "4.389815330800824e-09 0.0\n",
      "8.241242234202802e-09 0.0\n",
      "set cost params:  19.845 0.0 1.0\n",
      "----- 31\n",
      "interpolate adjoint :  True True True\n",
      "RUN  0 , total integrated cost =  2.6571111761593222\n",
      "Gradient descend method:  None\n",
      "RUN  1 , total integrated cost =  2.6571111751290877\n",
      "RUN  2 , total integrated cost =  2.657111175122823\n"
     ]
    },
    {
     "output_type": "stream",
     "name": "stderr",
     "text": [
      "ERROR:root:Problem in initial value trasfer\n"
     ]
    },
    {
     "output_type": "stream",
     "name": "stdout",
     "text": [
      "RUN  3 , total integrated cost =  2.6571111750978123\n",
      "RUN  3 , total integrated cost =  2.6571111750978123\n",
      "Improved over  3  iterations in  2.7398288769982173  seconds by  3.9949782149051316e-08  percent.\n",
      "Problem in initial value trasfer:  Vmean_exc -74.27828341413472 -74.27943212868766\n",
      "4.552128023425582e-09 0.0\n",
      "8.241242234202802e-09 0.0\n",
      "set cost params:  19.84 0.0 1.0\n",
      "----- 32\n",
      "interpolate adjoint :  True True True\n",
      "RUN  0 , total integrated cost =  2.657111189829108\n",
      "Gradient descend method:  None\n",
      "RUN  1 , total integrated cost =  2.6571111888304006\n",
      "RUN  2 , total integrated cost =  2.6571111888031935\n"
     ]
    },
    {
     "output_type": "stream",
     "name": "stderr",
     "text": [
      "ERROR:root:Problem in initial value trasfer\n"
     ]
    },
    {
     "output_type": "stream",
     "name": "stdout",
     "text": [
      "RUN  3 , total integrated cost =  2.6571111887611476\n",
      "RUN  3 , total integrated cost =  2.6571111887611476\n",
      "Improved over  3  iterations in  2.2682484350007144  seconds by  4.01925319692964e-08  percent.\n",
      "Problem in initial value trasfer:  Vmean_exc -74.28691167791527 -74.28802049257217\n",
      "4.7121228299439495e-09 0.0\n",
      "8.241242234202802e-09 0.0\n",
      "set cost params:  19.835 0.0 1.0\n",
      "----- 33\n",
      "interpolate adjoint :  True True True\n",
      "RUN  0 , total integrated cost =  2.657111206827168\n",
      "Gradient descend method:  None\n",
      "RUN  1 , total integrated cost =  2.6571112055643438\n",
      "RUN  2 , total integrated cost =  2.6571112055219506\n"
     ]
    },
    {
     "output_type": "stream",
     "name": "stderr",
     "text": [
      "ERROR:root:Problem in initial value trasfer\n"
     ]
    },
    {
     "output_type": "stream",
     "name": "stdout",
     "text": [
      "RUN  3 , total integrated cost =  2.657111205460298\n",
      "RUN  3 , total integrated cost =  2.657111205460298\n",
      "Improved over  3  iterations in  2.8083942550001666  seconds by  5.144194403783331e-08  percent.\n",
      "Problem in initial value trasfer:  Vmean_exc -74.29579116600075 -74.29685892125676\n",
      "4.938348923855381e-09 0.0\n",
      "8.241242234202802e-09 0.0\n",
      "set cost params:  19.830000000000002 0.0 1.0\n",
      "----- 34\n",
      "interpolate adjoint :  True True True\n",
      "RUN  0 , total integrated cost =  2.6571112244200727\n",
      "Gradient descend method:  None\n",
      "RUN  1 , total integrated cost =  2.6571112231356526\n",
      "RUN  2 , total integrated cost =  2.6571112231235614\n"
     ]
    },
    {
     "output_type": "stream",
     "name": "stderr",
     "text": [
      "ERROR:root:Problem in initial value trasfer\n"
     ]
    },
    {
     "output_type": "stream",
     "name": "stdout",
     "text": [
      "RUN  3 , total integrated cost =  2.657111223054305\n",
      "RUN  3 , total integrated cost =  2.657111223054305\n",
      "Improved over  3  iterations in  2.75202604900187  seconds by  5.1400490974629065e-08  percent.\n",
      "Problem in initial value trasfer:  Vmean_exc -74.30338873170084 -74.30442135706028\n",
      "5.298261808888035e-09 0.0\n",
      "8.241242234202802e-09 0.0\n",
      "set cost params:  19.825 0.0 1.0\n",
      "----- 35\n",
      "interpolate adjoint :  True True True\n",
      "RUN  0 , total integrated cost =  2.657111243409685\n",
      "Gradient descend method:  None\n",
      "RUN  1 , total integrated cost =  2.657111241594977\n",
      "RUN  2 , total integrated cost =  2.657111241191654\n"
     ]
    },
    {
     "output_type": "stream",
     "name": "stderr",
     "text": [
      "ERROR:root:Problem in initial value trasfer\n"
     ]
    },
    {
     "output_type": "stream",
     "name": "stdout",
     "text": [
      "RUN  3 , total integrated cost =  2.6571112407192454\n",
      "RUN  3 , total integrated cost =  2.6571112407192454\n",
      "Improved over  3  iterations in  2.6599337959996774  seconds by  1.0125430094376497e-07  percent.\n",
      "Problem in initial value trasfer:  Vmean_exc -74.3123797411115 -74.31337079566548\n",
      "5.452799279757542e-09 0.0\n",
      "8.241242234202802e-09 0.0\n",
      "set cost params:  19.82 0.0 1.0\n",
      "----- 36\n",
      "interpolate adjoint :  True True True\n",
      "RUN  0 , total integrated cost =  2.657111261659684\n",
      "Gradient descend method:  None\n",
      "RUN  1 , total integrated cost =  2.6571112602569276\n",
      "RUN  2 , total integrated cost =  2.6571112601044224\n"
     ]
    },
    {
     "output_type": "stream",
     "name": "stderr",
     "text": [
      "ERROR:root:Problem in initial value trasfer\n"
     ]
    },
    {
     "output_type": "stream",
     "name": "stdout",
     "text": [
      "RUN  3 , total integrated cost =  2.6571112599966726\n",
      "RUN  3 , total integrated cost =  2.6571112599966726\n",
      "Improved over  3  iterations in  2.7610914260003483  seconds by  6.25872047521625e-08  percent.\n",
      "Problem in initial value trasfer:  Vmean_exc -74.32044644479801 -74.32140020414337\n",
      "5.696225501433695e-09 0.0\n",
      "8.241242234202802e-09 0.0\n",
      "set cost params:  19.815 0.0 1.0\n",
      "----- 37\n",
      "interpolate adjoint :  True True True\n",
      "RUN  0 , total integrated cost =  2.657111278489395\n",
      "Gradient descend method:  None\n",
      "RUN  1 , total integrated cost =  2.657111277527151\n",
      "RUN  2 , total integrated cost =  2.657111277518094\n"
     ]
    },
    {
     "output_type": "stream",
     "name": "stderr",
     "text": [
      "ERROR:root:Problem in initial value trasfer\n"
     ]
    },
    {
     "output_type": "stream",
     "name": "stdout",
     "text": [
      "RUN  3 , total integrated cost =  2.6571112774801477\n",
      "RUN  3 , total integrated cost =  2.6571112774801477\n",
      "Improved over  3  iterations in  2.698178104998078  seconds by  3.798288616962964e-08  percent.\n",
      "Problem in initial value trasfer:  Vmean_exc -74.32679983063622 -74.32772421736186\n",
      "6.030562717551991e-09 0.0\n",
      "8.241242234202802e-09 0.0\n",
      "set cost params:  19.81 0.0 1.0\n",
      "----- 38\n",
      "interpolate adjoint :  True True True\n",
      "RUN  0 , total integrated cost =  2.657111297023544\n",
      "Gradient descend method:  None\n",
      "RUN  1 , total integrated cost =  2.657111295762618\n",
      "RUN  2 , total integrated cost =  2.657111293517059\n"
     ]
    },
    {
     "output_type": "stream",
     "name": "stderr",
     "text": [
      "ERROR:root:Problem in initial value trasfer\n"
     ]
    },
    {
     "output_type": "stream",
     "name": "stdout",
     "text": [
      "RUN  3 , total integrated cost =  2.6571112917994726\n",
      "RUN  3 , total integrated cost =  2.6571112917994726\n",
      "Improved over  3  iterations in  2.49416217900216  seconds by  1.9660717498481972e-07  percent.\n",
      "Problem in initial value trasfer:  Vmean_exc -74.33490853865032 -74.33579543933507\n",
      "6.195808867063714e-09 0.0\n",
      "8.241242234202802e-09 0.0\n",
      "set cost params:  19.805 0.0 1.0\n",
      "----- 39\n",
      "interpolate adjoint :  True True True\n",
      "RUN  0 , total integrated cost =  2.657111315590104\n",
      "Gradient descend method:  None\n",
      "RUN  1 , total integrated cost =  2.657111314152459\n",
      "RUN  2 , total integrated cost =  2.65711131414005\n"
     ]
    },
    {
     "output_type": "stream",
     "name": "stderr",
     "text": [
      "ERROR:root:Problem in initial value trasfer\n"
     ]
    },
    {
     "output_type": "stream",
     "name": "stdout",
     "text": [
      "RUN  3 , total integrated cost =  2.657111313884492\n",
      "RUN  3 , total integrated cost =  2.657111313884492\n",
      "Improved over  3  iterations in  2.505285728002491  seconds by  6.419045917027688e-08  percent.\n",
      "Problem in initial value trasfer:  Vmean_exc -74.34020464244186 -74.34106706059694\n",
      "6.84825341198598e-09 0.0\n",
      "8.241242234202802e-09 0.0\n",
      "set cost params:  19.8 0.0 1.0\n",
      "----- 40\n",
      "interpolate adjoint :  True True True\n",
      "RUN  0 , total integrated cost =  2.6571113408935654\n",
      "Gradient descend method:  None\n",
      "RUN  1 , total integrated cost =  2.6571113371859774\n",
      "RUN  2 , total integrated cost =  2.6571113371718877\n"
     ]
    },
    {
     "output_type": "stream",
     "name": "stderr",
     "text": [
      "ERROR:root:Problem in initial value trasfer\n"
     ]
    },
    {
     "output_type": "stream",
     "name": "stdout",
     "text": [
      "RUN  3 , total integrated cost =  2.657111337121797\n",
      "RUN  3 , total integrated cost =  2.657111337121797\n",
      "Improved over  3  iterations in  2.5304495470008987  seconds by  1.4194995401339838e-07  percent.\n",
      "Problem in initial value trasfer:  Vmean_exc -74.34796660213487 -74.3487931401983\n",
      "6.993055005103356e-09 0.0\n",
      "8.241242234202802e-09 0.0\n",
      "set cost params:  19.794999999999998 0.0 1.0\n",
      "----- 41\n",
      "interpolate adjoint :  True True True\n",
      "RUN  0 , total integrated cost =  2.657111360509537\n",
      "Gradient descend method:  None\n",
      "RUN  1 , total integrated cost =  2.6571113581767323\n",
      "RUN  2 , total integrated cost =  2.657111358066315\n"
     ]
    },
    {
     "output_type": "stream",
     "name": "stderr",
     "text": [
      "ERROR:root:Problem in initial value trasfer\n"
     ]
    },
    {
     "output_type": "stream",
     "name": "stdout",
     "text": [
      "RUN  3 , total integrated cost =  2.657111357991428\n",
      "RUN  3 , total integrated cost =  2.657111357991428\n",
      "Improved over  3  iterations in  2.696604947999731  seconds by  9.476866580371279e-08  percent.\n",
      "Problem in initial value trasfer:  Vmean_exc -74.35459824734157 -74.35539413162752\n",
      "7.143489003526956e-09 0.0\n",
      "8.241242234202802e-09 0.0\n",
      "set cost params:  19.79 0.0 1.0\n",
      "----- 42\n",
      "interpolate adjoint :  True True True\n",
      "RUN  0 , total integrated cost =  2.657111386682049\n",
      "Gradient descend method:  None\n",
      "RUN  1 , total integrated cost =  2.6571113838612668\n",
      "RUN  2 , total integrated cost =  2.6571113838223654\n"
     ]
    },
    {
     "output_type": "stream",
     "name": "stderr",
     "text": [
      "ERROR:root:Problem in initial value trasfer\n"
     ]
    },
    {
     "output_type": "stream",
     "name": "stdout",
     "text": [
      "RUN  3 , total integrated cost =  2.6571113837728144\n",
      "RUN  3 , total integrated cost =  2.6571113837728144\n",
      "Improved over  3  iterations in  2.4741542319970904  seconds by  1.0948862438908691e-07  percent.\n",
      "Problem in initial value trasfer:  Vmean_exc -74.36100507679521 -74.36177134768158\n",
      "7.484771920544062e-09 0.0\n",
      "8.241242234202802e-09 0.0\n",
      "set cost params:  19.785 0.0 1.0\n",
      "----- 43\n",
      "interpolate adjoint :  True True True\n",
      "RUN  0 , total integrated cost =  2.6571114144084342\n",
      "Gradient descend method:  None\n",
      "RUN  1 , total integrated cost =  2.65711141109246\n",
      "RUN  2 , total integrated cost =  2.657111400402159\n"
     ]
    },
    {
     "output_type": "stream",
     "name": "stderr",
     "text": [
      "ERROR:root:Problem in initial value trasfer\n"
     ]
    },
    {
     "output_type": "stream",
     "name": "stdout",
     "text": [
      "RUN  3 , total integrated cost =  2.6571113913193773\n",
      "RUN  3 , total integrated cost =  2.6571113913193773\n",
      "Improved over  3  iterations in  2.5975423919990135  seconds by  8.689532933203736e-07  percent.\n",
      "Problem in initial value trasfer:  Vmean_exc -74.36756877700824 -74.36830471063696\n",
      "7.73995944392061e-09 0.0\n",
      "8.241242234202802e-09 0.0\n",
      "set cost params:  19.78 0.0 1.0\n",
      "----- 44\n",
      "interpolate adjoint :  True True True\n",
      "RUN  0 , total integrated cost =  2.657111423372824\n",
      "Gradient descend method:  None\n",
      "RUN  1 , total integrated cost =  2.6571114201819053\n",
      "RUN  2 , total integrated cost =  2.657111420168392\n"
     ]
    },
    {
     "output_type": "stream",
     "name": "stderr",
     "text": [
      "ERROR:root:Problem in initial value trasfer\n"
     ]
    },
    {
     "output_type": "stream",
     "name": "stdout",
     "text": [
      "RUN  3 , total integrated cost =  2.6571114189479164\n",
      "RUN  3 , total integrated cost =  2.6571114189479164\n",
      "Improved over  3  iterations in  2.716947026001435  seconds by  1.6653073942052288e-07  percent.\n",
      "Problem in initial value trasfer:  Vmean_exc -74.37153282224538 -74.37225043475642\n",
      "8.750754159103062e-09 0.0\n",
      "8.241242234202802e-09 0.0\n",
      "set cost params:  19.775 0.0 1.0\n",
      "----- 45\n",
      "interpolate adjoint :  True True True\n",
      "RUN  0 , total integrated cost =  2.6571114447918402\n",
      "Gradient descend method:  None\n",
      "RUN  1 , total integrated cost =  2.657111439523758\n",
      "RUN  2 , total integrated cost =  2.657111428886877\n"
     ]
    },
    {
     "output_type": "stream",
     "name": "stderr",
     "text": [
      "ERROR:root:Problem in initial value trasfer\n"
     ]
    },
    {
     "output_type": "stream",
     "name": "stdout",
     "text": [
      "RUN  3 , total integrated cost =  2.6571114138213776\n",
      "RUN  3 , total integrated cost =  2.6571114138213776\n",
      "Improved over  3  iterations in  2.449294213001849  seconds by  1.1655688183509483e-06  percent.\n",
      "Problem in initial value trasfer:  Vmean_exc -74.37946932713028 -74.38015025987372\n",
      "8.214629697059359e-09 0.0\n",
      "8.241242234202802e-09 0.0\n",
      "set cost params:  19.77 0.0 1.0\n",
      "----- 46\n",
      "interpolate adjoint :  True True True\n",
      "RUN  0 , total integrated cost =  2.657111448442106\n",
      "Gradient descend method:  None\n",
      "RUN  1 , total integrated cost =  2.657111445483455\n",
      "RUN  2 , total integrated cost =  2.657111445470357\n"
     ]
    },
    {
     "output_type": "stream",
     "name": "stderr",
     "text": [
      "ERROR:root:Problem in initial value trasfer\n"
     ]
    },
    {
     "output_type": "stream",
     "name": "stdout",
     "text": [
      "RUN  3 , total integrated cost =  2.6571114451133213\n",
      "RUN  3 , total integrated cost =  2.6571114451133213\n",
      "Improved over  3  iterations in  2.8017240989975107  seconds by  1.2527833348485728e-07  percent.\n",
      "Problem in initial value trasfer:  Vmean_exc -74.38393862538265 -74.3845989033796\n",
      "9.00134475533496e-09 0.0\n",
      "8.241242234202802e-09 0.0\n",
      "set cost params:  19.765 0.0 1.0\n",
      "----- 47\n",
      "interpolate adjoint :  True True True\n",
      "RUN  0 , total integrated cost =  2.65711148384629\n",
      "Gradient descend method:  None\n",
      "RUN  1 , total integrated cost =  2.6571114782776952\n",
      "RUN  2 , total integrated cost =  2.657111478267353\n"
     ]
    },
    {
     "output_type": "stream",
     "name": "stderr",
     "text": [
      "ERROR:root:Problem in initial value trasfer\n"
     ]
    },
    {
     "output_type": "stream",
     "name": "stdout",
     "text": [
      "RUN  3 , total integrated cost =  2.657111477404629\n",
      "RUN  3 , total integrated cost =  2.657111477404629\n",
      "Improved over  3  iterations in  2.9849122269988584  seconds by  2.424309570869809e-07  percent.\n",
      "Problem in initial value trasfer:  Vmean_exc -74.3887694304485 -74.38940738365031\n",
      "9.670826329395453e-09 0.0\n",
      "8.241242234202802e-09 0.0\n",
      "set cost params:  19.759999999999998 0.0 1.0\n",
      "----- 48\n",
      "interpolate adjoint :  True True True\n",
      "RUN  0 , total integrated cost =  2.657111519499108\n",
      "Gradient descend method:  None\n",
      "RUN  1 , total integrated cost =  2.6571115119312174\n",
      "RUN  2 , total integrated cost =  2.657111511910664\n"
     ]
    },
    {
     "output_type": "stream",
     "name": "stderr",
     "text": [
      "ERROR:root:Problem in initial value trasfer\n"
     ]
    },
    {
     "output_type": "stream",
     "name": "stdout",
     "text": [
      "RUN  3 , total integrated cost =  2.657111511617052\n",
      "RUN  3 , total integrated cost =  2.657111511617052\n",
      "Improved over  3  iterations in  2.7028013180024573  seconds by  2.9664002454410365e-07  percent.\n",
      "Problem in initial value trasfer:  Vmean_exc -74.39482166177086 -74.39543164649753\n",
      "9.758578150328723e-09 0.0\n",
      "8.241242234202802e-09 0.0\n",
      "set cost params:  19.755000000000003 0.0 1.0\n",
      "----- 49\n",
      "interpolate adjoint :  True True True\n",
      "RUN  0 , total integrated cost =  2.6571115474627374\n",
      "Gradient descend method:  None\n",
      "RUN  1 , total integrated cost =  2.6571115431771952\n",
      "RUN  2 , total integrated cost =  2.6571115431651173\n"
     ]
    },
    {
     "output_type": "stream",
     "name": "stderr",
     "text": [
      "ERROR:root:Problem in initial value trasfer\n"
     ]
    },
    {
     "output_type": "stream",
     "name": "stdout",
     "text": [
      "RUN  3 , total integrated cost =  2.657111541764798\n",
      "RUN  3 , total integrated cost =  2.657111541764798\n",
      "Improved over  3  iterations in  2.6915465150013915  seconds by  2.144411155313719e-07  percent.\n",
      "Problem in initial value trasfer:  Vmean_exc -74.39821525597598 -74.39880955873976\n",
      "1.0737841617966063e-08 0.0\n",
      "8.241242234202802e-09 0.0\n",
      "set cost params:  19.75 0.0 1.0\n",
      "----- 50\n",
      "interpolate adjoint :  True True True\n",
      "RUN  0 , total integrated cost =  2.657111589003468\n",
      "Gradient descend method:  None\n",
      "RUN  1 , total integrated cost =  2.6571115793966364\n",
      "RUN  2 , total integrated cost =  2.657111578762255\n"
     ]
    },
    {
     "output_type": "stream",
     "name": "stderr",
     "text": [
      "ERROR:root:Problem in initial value trasfer\n"
     ]
    },
    {
     "output_type": "stream",
     "name": "stdout",
     "text": [
      "RUN  3 , total integrated cost =  2.6571115782655537\n",
      "RUN  3 , total integrated cost =  2.6571115782655537\n",
      "Improved over  3  iterations in  2.617191080000339  seconds by  4.041198167215043e-07  percent.\n",
      "Problem in initial value trasfer:  Vmean_exc -74.40501189134444 -74.40557478752291\n",
      "1.0225180600997666e-08 0.0\n",
      "8.241242234202802e-09 0.0\n",
      "set cost params:  19.744999999999997 0.0 1.0\n",
      "----- 51\n",
      "interpolate adjoint :  True True True\n",
      "RUN  0 , total integrated cost =  2.6571116160243835\n",
      "Gradient descend method:  None\n",
      "RUN  1 , total integrated cost =  2.6571116133253554\n",
      "RUN  2 , total integrated cost =  2.6571116133132584\n"
     ]
    },
    {
     "output_type": "stream",
     "name": "stderr",
     "text": [
      "ERROR:root:Problem in initial value trasfer\n"
     ]
    },
    {
     "output_type": "stream",
     "name": "stdout",
     "text": [
      "RUN  3 , total integrated cost =  2.657111612993001\n",
      "RUN  3 , total integrated cost =  2.657111612993001\n",
      "Improved over  3  iterations in  2.818101423999906  seconds by  1.1408563693748874e-07  percent.\n",
      "Problem in initial value trasfer:  Vmean_exc -74.40900312108221 -74.40954757479831\n",
      "1.1076110550741148e-08 0.0\n",
      "8.241242234202802e-09 0.0\n",
      "set cost params:  19.740000000000002 0.0 1.0\n",
      "----- 52\n",
      "interpolate adjoint :  True True True\n",
      "RUN  0 , total integrated cost =  2.657111654171431\n",
      "Gradient descend method:  None\n",
      "RUN  1 , total integrated cost =  2.65711164943884\n",
      "RUN  2 , total integrated cost =  2.6571116461931137\n"
     ]
    },
    {
     "output_type": "stream",
     "name": "stderr",
     "text": [
      "ERROR:root:Problem in initial value trasfer\n"
     ]
    },
    {
     "output_type": "stream",
     "name": "stdout",
     "text": [
      "RUN  3 , total integrated cost =  2.6571116434889825\n",
      "RUN  3 , total integrated cost =  2.6571116434889825\n",
      "Improved over  3  iterations in  2.559395188000053  seconds by  4.0203234163982415e-07  percent.\n",
      "Problem in initial value trasfer:  Vmean_exc -74.4137874354423 -74.41430978265605\n",
      "1.1092086052936785e-08 0.0\n",
      "8.241242234202802e-09 0.0\n",
      "set cost params:  19.735 0.0 1.0\n",
      "----- 53\n",
      "interpolate adjoint :  True True True\n",
      "RUN  0 , total integrated cost =  2.657111692354862\n",
      "Gradient descend method:  None\n",
      "RUN  1 , total integrated cost =  2.6571116884465074\n",
      "RUN  2 , total integrated cost =  2.657111688430032\n"
     ]
    },
    {
     "output_type": "stream",
     "name": "stderr",
     "text": [
      "ERROR:root:Problem in initial value trasfer\n"
     ]
    },
    {
     "output_type": "stream",
     "name": "stdout",
     "text": [
      "RUN  3 , total integrated cost =  2.657111687486296\n",
      "RUN  3 , total integrated cost =  2.657111687486296\n",
      "Improved over  3  iterations in  2.5900455249975494  seconds by  1.8322775474644004e-07  percent.\n",
      "Problem in initial value trasfer:  Vmean_exc -74.41683801048201 -74.41734626248876\n",
      "1.2477635804703401e-08 0.0\n",
      "8.241242234202802e-09 0.0\n",
      "set cost params:  19.73 0.0 1.0\n",
      "----- 54\n",
      "interpolate adjoint :  True True True\n",
      "RUN  0 , total integrated cost =  2.6571117426567312\n",
      "Gradient descend method:  None\n",
      "RUN  1 , total integrated cost =  2.6571117340814503\n",
      "RUN  2 , total integrated cost =  2.6571117339611408\n"
     ]
    },
    {
     "output_type": "stream",
     "name": "stderr",
     "text": [
      "ERROR:root:Problem in initial value trasfer\n"
     ]
    },
    {
     "output_type": "stream",
     "name": "stdout",
     "text": [
      "RUN  3 , total integrated cost =  2.6571117338982218\n",
      "RUN  3 , total integrated cost =  2.6571117338982218\n",
      "Improved over  3  iterations in  2.5587086680025095  seconds by  3.296251804840722e-07  percent.\n",
      "Problem in initial value trasfer:  Vmean_exc -74.42222252793468 -74.42270590138696\n",
      "1.2180111093744514e-08 0.0\n",
      "8.241242234202802e-09 0.0\n",
      "set cost params:  19.725 0.0 1.0\n",
      "----- 55\n",
      "interpolate adjoint :  True True True\n",
      "RUN  0 , total integrated cost =  2.6571117793353025\n",
      "Gradient descend method:  None\n",
      "RUN  1 , total integrated cost =  2.657111776498814\n",
      "RUN  2 , total integrated cost =  2.657111776456316\n"
     ]
    },
    {
     "output_type": "stream",
     "name": "stderr",
     "text": [
      "ERROR:root:Problem in initial value trasfer\n"
     ]
    },
    {
     "output_type": "stream",
     "name": "stdout",
     "text": [
      "RUN  3 , total integrated cost =  2.6571117763493297\n",
      "RUN  3 , total integrated cost =  2.6571117763493297\n",
      "Improved over  3  iterations in  2.8179465609973704  seconds by  1.1237662533858384e-07  percent.\n",
      "Problem in initial value trasfer:  Vmean_exc -74.42570054678767 -74.42616785088974\n",
      "1.2792097575186712e-08 0.0\n",
      "8.241242234202802e-09 0.0\n",
      "set cost params:  19.72 0.0 1.0\n",
      "----- 56\n",
      "interpolate adjoint :  True True True\n",
      "RUN  0 , total integrated cost =  2.6571118328869128\n",
      "Gradient descend method:  None\n",
      "RUN  1 , total integrated cost =  2.657111828532902\n",
      "RUN  2 , total integrated cost =  2.65711182851701\n"
     ]
    },
    {
     "output_type": "stream",
     "name": "stderr",
     "text": [
      "ERROR:root:Problem in initial value trasfer\n"
     ]
    },
    {
     "output_type": "stream",
     "name": "stdout",
     "text": [
      "RUN  3 , total integrated cost =  2.657111828363625\n",
      "RUN  3 , total integrated cost =  2.657111828363625\n",
      "Improved over  3  iterations in  2.776174883998465  seconds by  1.7023324971887632e-07  percent.\n",
      "Problem in initial value trasfer:  Vmean_exc -74.42914888738748 -74.42960025960369\n",
      "1.3755042352729153e-08 0.0\n",
      "8.241242234202802e-09 0.0\n",
      "set cost params:  19.715 0.0 1.0\n",
      "----- 57\n",
      "interpolate adjoint :  True True True\n",
      "RUN  0 , total integrated cost =  2.657111889080145\n",
      "Gradient descend method:  None\n",
      "RUN  1 , total integrated cost =  2.657111883216686\n",
      "RUN  2 , total integrated cost =  2.65711188314728\n"
     ]
    },
    {
     "output_type": "stream",
     "name": "stderr",
     "text": [
      "ERROR:root:Problem in initial value trasfer\n"
     ]
    },
    {
     "output_type": "stream",
     "name": "stdout",
     "text": [
      "RUN  3 , total integrated cost =  2.657111883040787\n",
      "RUN  3 , total integrated cost =  2.657111883040787\n",
      "Improved over  3  iterations in  2.6789334829991276  seconds by  2.2729031456947268e-07  percent.\n",
      "Problem in initial value trasfer:  Vmean_exc -74.43302828793813 -74.43346173711089\n",
      "1.4261596918221247e-08 0.0\n",
      "8.241242234202802e-09 0.0\n",
      "set cost params:  19.71 0.0 1.0\n",
      "----- 58\n",
      "interpolate adjoint :  True True True\n",
      "RUN  0 , total integrated cost =  2.6571119266604137\n",
      "Gradient descend method:  None\n",
      "RUN  1 , total integrated cost =  2.657111924025069\n",
      "RUN  2 , total integrated cost =  2.657111923904569\n"
     ]
    },
    {
     "output_type": "stream",
     "name": "stderr",
     "text": [
      "ERROR:root:Problem in initial value trasfer\n"
     ]
    },
    {
     "output_type": "stream",
     "name": "stdout",
     "text": [
      "RUN  3 , total integrated cost =  2.657111923733637\n",
      "RUN  3 , total integrated cost =  2.657111923733637\n",
      "Improved over  3  iterations in  2.7542229979990225  seconds by  1.1014878964488162e-07  percent.\n",
      "Problem in initial value trasfer:  Vmean_exc -74.43639302387186 -74.43681092813011\n",
      "1.4728145715906862e-08 0.0\n",
      "8.241242234202802e-09 0.0\n",
      "set cost params:  19.705000000000002 0.0 1.0\n",
      "----- 59\n",
      "interpolate adjoint :  True True True\n",
      "RUN  0 , total integrated cost =  2.657111988678416\n",
      "Gradient descend method:  None\n",
      "RUN  1 , total integrated cost =  2.657111983757806\n",
      "RUN  2 , total integrated cost =  2.6571119837047013\n"
     ]
    },
    {
     "output_type": "stream",
     "name": "stderr",
     "text": [
      "ERROR:root:Problem in initial value trasfer\n"
     ]
    },
    {
     "output_type": "stream",
     "name": "stdout",
     "text": [
      "RUN  3 , total integrated cost =  2.6571119836005015\n",
      "RUN  3 , total integrated cost =  2.6571119836005015\n",
      "Improved over  3  iterations in  2.738139998000406  seconds by  1.9110653681764234e-07  percent.\n",
      "Problem in initial value trasfer:  Vmean_exc -74.43970307186338 -74.44010568418011\n",
      "1.5582142274054257e-08 0.0\n",
      "8.241242234202802e-09 0.0\n",
      "set cost params:  19.7 0.0 1.0\n",
      "----- 60\n",
      "interpolate adjoint :  True True True\n",
      "RUN  0 , total integrated cost =  2.6571120528224537\n",
      "Gradient descend method:  None\n",
      "RUN  1 , total integrated cost =  2.657112046771651\n",
      "RUN  2 , total integrated cost =  2.6571120467233422\n"
     ]
    },
    {
     "output_type": "stream",
     "name": "stderr",
     "text": [
      "ERROR:root:Problem in initial value trasfer\n"
     ]
    },
    {
     "output_type": "stream",
     "name": "stdout",
     "text": [
      "RUN  3 , total integrated cost =  2.6571120466131983\n",
      "RUN  3 , total integrated cost =  2.6571120466131983\n",
      "Improved over  3  iterations in  2.7399969979996968  seconds by  2.336843607508854e-07  percent.\n",
      "Problem in initial value trasfer:  Vmean_exc -74.44286598318548 -74.44325398360492\n",
      "1.651574934310712e-08 0.0\n",
      "8.241242234202802e-09 0.0\n",
      "set cost params:  19.695 0.0 1.0\n",
      "----- 61\n",
      "interpolate adjoint :  True True True\n",
      "RUN  0 , total integrated cost =  2.657112109129548\n",
      "Gradient descend method:  None\n",
      "RUN  1 , total integrated cost =  2.657112103339356\n",
      "RUN  2 , total integrated cost =  2.6571121032641978\n"
     ]
    },
    {
     "output_type": "stream",
     "name": "stderr",
     "text": [
      "ERROR:root:Problem in initial value trasfer\n"
     ]
    },
    {
     "output_type": "stream",
     "name": "stdout",
     "text": [
      "RUN  3 , total integrated cost =  2.6571121031210407\n",
      "RUN  3 , total integrated cost =  2.6571121031210407\n",
      "Improved over  3  iterations in  2.71583531899887  seconds by  2.2612923089582182e-07  percent.\n",
      "Problem in initial value trasfer:  Vmean_exc -74.445792232285 -74.44616671438615\n",
      "1.7166439570313723e-08 0.0\n",
      "8.241242234202802e-09 0.0\n",
      "set cost params:  19.69 0.0 1.0\n",
      "----- 62\n",
      "interpolate adjoint :  True True True\n",
      "RUN  0 , total integrated cost =  2.6571121816577867\n",
      "Gradient descend method:  None\n",
      "RUN  1 , total integrated cost =  2.657112172640078\n",
      "RUN  2 , total integrated cost =  2.6571121725053595\n"
     ]
    },
    {
     "output_type": "stream",
     "name": "stderr",
     "text": [
      "ERROR:root:Problem in initial value trasfer\n"
     ]
    },
    {
     "output_type": "stream",
     "name": "stdout",
     "text": [
      "RUN  3 , total integrated cost =  2.6571121723320834\n",
      "RUN  3 , total integrated cost =  2.6571121723320834\n",
      "Improved over  3  iterations in  2.616626642000483  seconds by  3.509713906169054e-07  percent.\n",
      "Problem in initial value trasfer:  Vmean_exc -74.44894986019492 -74.44930975535901\n",
      "1.788500189550703e-08 0.0\n",
      "8.241242234202802e-09 0.0\n",
      "set cost params:  19.685 0.0 1.0\n",
      "----- 63\n",
      "interpolate adjoint :  True True True\n",
      "RUN  0 , total integrated cost =  2.657112255545291\n",
      "Gradient descend method:  None\n",
      "RUN  1 , total integrated cost =  2.6571122458479626\n",
      "RUN  2 , total integrated cost =  2.6571122456661365\n"
     ]
    },
    {
     "output_type": "stream",
     "name": "stderr",
     "text": [
      "ERROR:root:Problem in initial value trasfer\n"
     ]
    },
    {
     "output_type": "stream",
     "name": "stdout",
     "text": [
      "RUN  3 , total integrated cost =  2.6571122454618976\n",
      "RUN  3 , total integrated cost =  2.6571122454618976\n",
      "Improved over  3  iterations in  3.0840208509980584  seconds by  3.7948690589928447e-07  percent.\n",
      "Problem in initial value trasfer:  Vmean_exc -74.45198806471171 -74.45233392489591\n",
      "1.8641326502588458e-08 0.0\n",
      "8.241242234202802e-09 0.0\n",
      "set cost params:  19.68 0.0 1.0\n",
      "----- 64\n",
      "interpolate adjoint :  True True True\n",
      "RUN  0 , total integrated cost =  2.6571123193690553\n",
      "Gradient descend method:  None\n",
      "RUN  1 , total integrated cost =  2.657112311829055\n",
      "RUN  2 , total integrated cost =  2.657112310489322\n"
     ]
    },
    {
     "output_type": "stream",
     "name": "stderr",
     "text": [
      "ERROR:root:Problem in initial value trasfer\n"
     ]
    },
    {
     "output_type": "stream",
     "name": "stdout",
     "text": [
      "RUN  3 , total integrated cost =  2.6571123090770707\n",
      "RUN  3 , total integrated cost =  2.6571123090770707\n",
      "Improved over  3  iterations in  2.668862070000614  seconds by  3.873372094176375e-07  percent.\n",
      "Problem in initial value trasfer:  Vmean_exc -74.45473035184379 -74.45506354426554\n",
      "1.917258434372409e-08 0.0\n",
      "8.241242234202802e-09 0.0\n",
      "set cost params:  19.675 0.0 1.0\n",
      "----- 65\n",
      "interpolate adjoint :  True True True\n",
      "RUN  0 , total integrated cost =  2.657112385774653\n",
      "Gradient descend method:  None\n",
      "RUN  1 , total integrated cost =  2.657112378694651\n",
      "RUN  2 , total integrated cost =  2.657112378646867\n"
     ]
    },
    {
     "output_type": "stream",
     "name": "stderr",
     "text": [
      "ERROR:root:Problem in initial value trasfer\n"
     ]
    },
    {
     "output_type": "stream",
     "name": "stdout",
     "text": [
      "RUN  3 , total integrated cost =  2.657112378499717\n",
      "RUN  3 , total integrated cost =  2.657112378499717\n",
      "Improved over  3  iterations in  2.5807464200006507  seconds by  2.7379104494684725e-07  percent.\n",
      "Problem in initial value trasfer:  Vmean_exc -74.457614439127 -74.45793430898561\n",
      "1.9872289956470676e-08 0.0\n",
      "8.241242234202802e-09 0.0\n",
      "set cost params:  19.669999999999998 0.0 1.0\n",
      "----- 66\n",
      "interpolate adjoint :  True True True\n",
      "RUN  0 , total integrated cost =  2.6571124740889394\n",
      "Gradient descend method:  None\n",
      "RUN  1 , total integrated cost =  2.6571124640745705\n",
      "RUN  2 , total integrated cost =  2.657112464024834\n"
     ]
    },
    {
     "output_type": "stream",
     "name": "stderr",
     "text": [
      "ERROR:root:Problem in initial value trasfer\n"
     ]
    },
    {
     "output_type": "stream",
     "name": "stdout",
     "text": [
      "RUN  3 , total integrated cost =  2.6571124638239647\n",
      "RUN  3 , total integrated cost =  2.6571124638239647\n",
      "Improved over  3  iterations in  2.8042940179984726  seconds by  3.8632066434729495e-07  percent.\n",
      "Problem in initial value trasfer:  Vmean_exc -74.46014523972633 -74.46045341916795\n",
      "2.110317710777575e-08 0.0\n",
      "8.241242234202802e-09 0.0\n",
      "set cost params:  19.665 0.0 1.0\n",
      "----- 67\n",
      "interpolate adjoint :  True True True\n",
      "RUN  0 , total integrated cost =  2.6571125503474105\n",
      "Gradient descend method:  None\n",
      "RUN  1 , total integrated cost =  2.6571125409491647\n",
      "RUN  2 , total integrated cost =  2.6571125407876606\n"
     ]
    },
    {
     "output_type": "stream",
     "name": "stderr",
     "text": [
      "ERROR:root:Problem in initial value trasfer\n"
     ]
    },
    {
     "output_type": "stream",
     "name": "stdout",
     "text": [
      "RUN  3 , total integrated cost =  2.657112540736621\n",
      "RUN  3 , total integrated cost =  2.657112540736621\n",
      "Improved over  3  iterations in  2.5611181419990316  seconds by  3.6170050066175463e-07  percent.\n",
      "Problem in initial value trasfer:  Vmean_exc -74.4626757254114 -74.46297221570472\n",
      "2.153309536557203e-08 0.0\n",
      "8.241242234202802e-09 0.0\n",
      "set cost params:  19.66 0.0 1.0\n",
      "----- 68\n",
      "interpolate adjoint :  True True True\n",
      "RUN  0 , total integrated cost =  2.6571126461452854\n",
      "Gradient descend method:  None\n",
      "RUN  1 , total integrated cost =  2.6571126355604178\n",
      "RUN  2 , total integrated cost =  2.6571126354907504\n"
     ]
    },
    {
     "output_type": "stream",
     "name": "stderr",
     "text": [
      "ERROR:root:Problem in initial value trasfer\n"
     ]
    },
    {
     "output_type": "stream",
     "name": "stdout",
     "text": [
      "RUN  3 , total integrated cost =  2.6571126354566195\n",
      "RUN  3 , total integrated cost =  2.6571126354566195\n",
      "Improved over  3  iterations in  2.517894595999678  seconds by  4.022661954650175e-07  percent.\n",
      "Problem in initial value trasfer:  Vmean_exc -74.46529201414386 -74.46557642023608\n",
      "2.2224510787811654e-08 0.0\n",
      "8.241242234202802e-09 0.0\n",
      "set cost params:  19.655 0.0 1.0\n",
      "----- 69\n",
      "interpolate adjoint :  True True True\n",
      "RUN  0 , total integrated cost =  2.6571127274457043\n",
      "Gradient descend method:  None\n",
      "RUN  1 , total integrated cost =  2.6571127208797867\n",
      "RUN  2 , total integrated cost =  2.6571127208067185\n"
     ]
    },
    {
     "output_type": "stream",
     "name": "stderr",
     "text": [
      "ERROR:root:Problem in initial value trasfer\n"
     ]
    },
    {
     "output_type": "stream",
     "name": "stdout",
     "text": [
      "RUN  3 , total integrated cost =  2.6571127205842138\n",
      "RUN  3 , total integrated cost =  2.6571127205842138\n",
      "Improved over  3  iterations in  2.735218440000608  seconds by  2.5823106852840283e-07  percent.\n",
      "Problem in initial value trasfer:  Vmean_exc -74.46719806050788 -74.46747366297362\n",
      "2.3828918059135987e-08 0.0\n",
      "8.241242234202802e-09 0.0\n",
      "set cost params:  19.65 0.0 1.0\n",
      "----- 70\n",
      "interpolate adjoint :  True True True\n",
      "RUN  0 , total integrated cost =  2.657112838976648\n",
      "Gradient descend method:  None\n",
      "RUN  1 , total integrated cost =  2.6571128254837015\n",
      "RUN  2 , total integrated cost =  2.6571128254384466\n"
     ]
    },
    {
     "output_type": "stream",
     "name": "stderr",
     "text": [
      "ERROR:root:Problem in initial value trasfer\n"
     ]
    },
    {
     "output_type": "stream",
     "name": "stdout",
     "text": [
      "RUN  3 , total integrated cost =  2.6571128248554157\n",
      "RUN  3 , total integrated cost =  2.6571128248554157\n",
      "Improved over  3  iterations in  2.6570720430026995  seconds by  5.314502260489462e-07  percent.\n",
      "Problem in initial value trasfer:  Vmean_exc -74.4699942319018 -74.47025691956883\n",
      "2.3553525100830254e-08 0.0\n",
      "8.241242234202802e-09 0.0\n",
      "set cost params:  19.645 0.0 1.0\n",
      "----- 71\n",
      "interpolate adjoint :  True True True\n",
      "RUN  0 , total integrated cost =  2.657112941682894\n",
      "Gradient descend method:  None\n",
      "RUN  1 , total integrated cost =  2.6571129350518286\n",
      "RUN  2 , total integrated cost =  2.6571129341515607\n"
     ]
    },
    {
     "output_type": "stream",
     "name": "stderr",
     "text": [
      "ERROR:root:Problem in initial value trasfer\n"
     ]
    },
    {
     "output_type": "stream",
     "name": "stdout",
     "text": [
      "RUN  3 , total integrated cost =  2.6571129330237957\n",
      "RUN  3 , total integrated cost =  2.6571129330237957\n",
      "Improved over  3  iterations in  2.6828263839997817  seconds by  3.2588370402208966e-07  percent.\n",
      "Problem in initial value trasfer:  Vmean_exc -74.4718530462399 -74.4721071486041\n",
      "2.577585632358909e-08 0.0\n",
      "8.241242234202802e-09 0.0\n",
      "set cost params:  19.64 0.0 1.0\n",
      "----- 72\n",
      "interpolate adjoint :  True True True\n",
      "RUN  0 , total integrated cost =  2.6571130218732235\n",
      "Gradient descend method:  None\n",
      "RUN  1 , total integrated cost =  2.6571130159168352\n",
      "RUN  2 , total integrated cost =  2.6571130157849883\n"
     ]
    },
    {
     "output_type": "stream",
     "name": "stderr",
     "text": [
      "ERROR:root:Problem in initial value trasfer\n"
     ]
    },
    {
     "output_type": "stream",
     "name": "stdout",
     "text": [
      "RUN  3 , total integrated cost =  2.6571130156068543\n",
      "RUN  3 , total integrated cost =  2.6571130156068543\n",
      "Improved over  3  iterations in  2.7231216430009226  seconds by  2.358337525265597e-07  percent.\n",
      "Problem in initial value trasfer:  Vmean_exc -74.47374829953762 -74.47399364834597\n",
      "2.698897816788767e-08 0.0\n",
      "8.241242234202802e-09 0.0\n",
      "set cost params:  19.634999999999998 0.0 1.0\n",
      "----- 73\n",
      "interpolate adjoint :  True True True\n",
      "RUN  0 , total integrated cost =  2.657113150927139\n",
      "Gradient descend method:  None\n",
      "RUN  1 , total integrated cost =  2.657113137220391\n",
      "RUN  2 , total integrated cost =  2.6571131369609966\n"
     ]
    },
    {
     "output_type": "stream",
     "name": "stderr",
     "text": [
      "ERROR:root:Problem in initial value trasfer\n"
     ]
    },
    {
     "output_type": "stream",
     "name": "stdout",
     "text": [
      "RUN  3 , total integrated cost =  2.657113136743223\n",
      "RUN  3 , total integrated cost =  2.657113136743223\n",
      "Improved over  3  iterations in  2.622082040998066  seconds by  5.338092705642339e-07  percent.\n",
      "Problem in initial value trasfer:  Vmean_exc -74.47585807463291 -74.47609367910206\n",
      "2.809880981995952e-08 0.0\n",
      "8.241242234202802e-09 0.0\n",
      "set cost params:  19.630000000000003 0.0 1.0\n",
      "----- 74\n",
      "interpolate adjoint :  True True True\n",
      "RUN  0 , total integrated cost =  2.6571132555800423\n",
      "Gradient descend method:  None\n",
      "RUN  1 , total integrated cost =  2.6571132463417975\n",
      "RUN  2 , total integrated cost =  2.657113245374095\n"
     ]
    },
    {
     "output_type": "stream",
     "name": "stderr",
     "text": [
      "ERROR:root:Problem in initial value trasfer\n"
     ]
    },
    {
     "output_type": "stream",
     "name": "stdout",
     "text": [
      "RUN  3 , total integrated cost =  2.6571132446713\n",
      "RUN  3 , total integrated cost =  2.6571132446713\n",
      "Improved over  3  iterations in  2.7322441839969542  seconds by  4.105486368644051e-07  percent.\n",
      "Problem in initial value trasfer:  Vmean_exc -74.47766560667611 -74.47789286279757\n",
      "2.922211544477808e-08 0.0\n",
      "8.241242234202802e-09 0.0\n",
      "set cost params:  19.625 0.0 1.0\n",
      "----- 75\n",
      "interpolate adjoint :  True True True\n",
      "RUN  0 , total integrated cost =  2.6571133914345704\n",
      "Gradient descend method:  None\n",
      "RUN  1 , total integrated cost =  2.657113379061236\n",
      "RUN  2 , total integrated cost =  2.6571133790100148\n"
     ]
    },
    {
     "output_type": "stream",
     "name": "stderr",
     "text": [
      "ERROR:root:Problem in initial value trasfer\n"
     ]
    },
    {
     "output_type": "stream",
     "name": "stdout",
     "text": [
      "RUN  3 , total integrated cost =  2.657113378827968\n",
      "RUN  3 , total integrated cost =  2.657113378827968\n",
      "Improved over  3  iterations in  2.6297449609992327  seconds by  4.7444729034396005e-07  percent.\n",
      "Problem in initial value trasfer:  Vmean_exc -74.47947020939534 -74.47968913073932\n",
      "3.1114601157739074e-08 0.0\n",
      "8.241242234202802e-09 0.0\n",
      "set cost params:  19.619999999999997 0.0 1.0\n",
      "----- 76\n",
      "interpolate adjoint :  True True True\n",
      "RUN  0 , total integrated cost =  2.6571135350347754\n",
      "Gradient descend method:  None\n",
      "RUN  1 , total integrated cost =  2.6571135206006624\n",
      "RUN  2 , total integrated cost =  2.657113520128336\n"
     ]
    },
    {
     "output_type": "stream",
     "name": "stderr",
     "text": [
      "ERROR:root:Problem in initial value trasfer\n"
     ]
    },
    {
     "output_type": "stream",
     "name": "stdout",
     "text": [
      "RUN  3 , total integrated cost =  2.6571135195348656\n",
      "RUN  3 , total integrated cost =  2.6571135195348656\n",
      "Improved over  3  iterations in  2.4532283400003507  seconds by  5.833363729834673e-07  percent.\n",
      "Problem in initial value trasfer:  Vmean_exc -74.48130461876845 -74.48151506772281\n",
      "3.2646421635057346e-08 0.0\n",
      "8.241242234202802e-09 0.0\n",
      "set cost params:  19.615000000000002 0.0 1.0\n",
      "----- 77\n",
      "interpolate adjoint :  True True True\n",
      "RUN  0 , total integrated cost =  2.6571136575469083\n",
      "Gradient descend method:  None\n",
      "RUN  1 , total integrated cost =  2.6571136471932517\n",
      "RUN  2 , total integrated cost =  2.65711364687169\n"
     ]
    },
    {
     "output_type": "stream",
     "name": "stderr",
     "text": [
      "ERROR:root:Problem in initial value trasfer\n"
     ]
    },
    {
     "output_type": "stream",
     "name": "stdout",
     "text": [
      "RUN  3 , total integrated cost =  2.6571136466071614\n",
      "RUN  3 , total integrated cost =  2.6571136466071614\n",
      "Improved over  3  iterations in  2.507377257999906  seconds by  4.117154333016515e-07  percent.\n",
      "Problem in initial value trasfer:  Vmean_exc -74.48290910622033 -74.48311214475315\n",
      "3.401104788630085e-08 0.0\n",
      "8.241242234202802e-09 0.0\n",
      "set cost params:  19.61 0.0 1.0\n",
      "----- 78\n",
      "interpolate adjoint :  True True True\n",
      "RUN  0 , total integrated cost =  2.657113816818302\n",
      "Gradient descend method:  None\n",
      "RUN  1 , total integrated cost =  2.65711380312891\n",
      "RUN  2 , total integrated cost =  2.657113802810486\n"
     ]
    },
    {
     "output_type": "stream",
     "name": "stderr",
     "text": [
      "ERROR:root:Problem in initial value trasfer\n"
     ]
    },
    {
     "output_type": "stream",
     "name": "stdout",
     "text": [
      "RUN  3 , total integrated cost =  2.6571138026886096\n",
      "RUN  3 , total integrated cost =  2.6571138026886096\n",
      "Improved over  3  iterations in  2.6202442620015063  seconds by  5.31768435507729e-07  percent.\n",
      "Problem in initial value trasfer:  Vmean_exc -74.48458457700733 -74.4847798773344\n",
      "3.5839928908308143e-08 0.0\n",
      "8.241242234202802e-09 0.0\n",
      "set cost params:  19.605 0.0 1.0\n",
      "----- 79\n",
      "interpolate adjoint :  True True True\n",
      "RUN  0 , total integrated cost =  2.657113926413758\n",
      "Gradient descend method:  None\n",
      "RUN  1 , total integrated cost =  2.6571139195387117\n",
      "RUN  2 , total integrated cost =  2.657113900619876\n"
     ]
    },
    {
     "output_type": "stream",
     "name": "stderr",
     "text": [
      "ERROR:root:Problem in initial value trasfer\n"
     ]
    },
    {
     "output_type": "stream",
     "name": "stdout",
     "text": [
      "RUN  3 , total integrated cost =  2.6571138878986647\n",
      "RUN  3 , total integrated cost =  2.6571138878986647\n",
      "Improved over  3  iterations in  2.4592087950004498  seconds by  1.449508545192657e-06  percent.\n",
      "Problem in initial value trasfer:  Vmean_exc -74.48611042659859 -74.4862986798009\n",
      "3.7100134139868914e-08 0.0\n",
      "8.241242234202802e-09 0.0\n",
      "set cost params:  19.6 0.0 1.0\n",
      "----- 80\n",
      "interpolate adjoint :  True True True\n",
      "RUN  0 , total integrated cost =  2.657114074956894\n",
      "Gradient descend method:  None\n",
      "RUN  1 , total integrated cost =  2.6571140591346034\n",
      "RUN  2 , total integrated cost =  2.657114058970867\n"
     ]
    },
    {
     "output_type": "stream",
     "name": "stderr",
     "text": [
      "ERROR:root:Problem in initial value trasfer\n"
     ]
    },
    {
     "output_type": "stream",
     "name": "stdout",
     "text": [
      "RUN  3 , total integrated cost =  2.6571140586973967\n",
      "RUN  3 , total integrated cost =  2.6571140586973967\n",
      "Improved over  3  iterations in  2.5400763420002477  seconds by  6.119231841239525e-07  percent.\n",
      "Problem in initial value trasfer:  Vmean_exc -74.48753609398315 -74.48771776279574\n",
      "3.999100397850007e-08 0.0\n",
      "8.241242234202802e-09 0.0\n",
      "set cost params:  19.595 0.0 1.0\n",
      "----- 81\n",
      "interpolate adjoint :  True True True\n",
      "RUN  0 , total integrated cost =  2.6571142305991984\n",
      "Gradient descend method:  None\n",
      "RUN  1 , total integrated cost =  2.6571142127029064\n",
      "RUN  2 , total integrated cost =  2.6571142126443608\n"
     ]
    },
    {
     "output_type": "stream",
     "name": "stderr",
     "text": [
      "ERROR:root:Problem in initial value trasfer\n"
     ]
    },
    {
     "output_type": "stream",
     "name": "stdout",
     "text": [
      "RUN  3 , total integrated cost =  2.657114212214026\n",
      "RUN  3 , total integrated cost =  2.657114212214026\n",
      "Improved over  3  iterations in  2.546335221002664  seconds by  6.9192255125472e-07  percent.\n",
      "Problem in initial value trasfer:  Vmean_exc -74.48883475358542 -74.48901042462556\n",
      "4.232080801132081e-08 0.0\n",
      "8.241242234202802e-09 0.0\n",
      "set cost params:  19.59 0.0 1.0\n",
      "----- 82\n",
      "interpolate adjoint :  True True True\n",
      "RUN  0 , total integrated cost =  2.657114433972378\n",
      "Gradient descend method:  None\n",
      "RUN  1 , total integrated cost =  2.6571144009765457\n",
      "RUN  2 , total integrated cost =  2.657114400855415\n"
     ]
    },
    {
     "output_type": "stream",
     "name": "stderr",
     "text": [
      "ERROR:root:Problem in initial value trasfer\n"
     ]
    },
    {
     "output_type": "stream",
     "name": "stdout",
     "text": [
      "RUN  3 , total integrated cost =  2.6571144004944784\n",
      "RUN  3 , total integrated cost =  2.6571144004944784\n",
      "Improved over  3  iterations in  2.5481858420025674  seconds by  1.2599344216823738e-06  percent.\n",
      "Problem in initial value trasfer:  Vmean_exc -74.49035787511743 -74.49052651176657\n",
      "4.397301223640091e-08 0.0\n",
      "8.241242234202802e-09 0.0\n",
      "set cost params:  19.585 0.0 1.0\n",
      "----- 83\n",
      "interpolate adjoint :  True True True\n",
      "RUN  0 , total integrated cost =  2.657114596153579\n",
      "Gradient descend method:  None\n",
      "RUN  1 , total integrated cost =  2.65711457111306\n",
      "RUN  2 , total integrated cost =  2.6571145709331585\n"
     ]
    },
    {
     "output_type": "stream",
     "name": "stderr",
     "text": [
      "ERROR:root:Problem in initial value trasfer\n"
     ]
    },
    {
     "output_type": "stream",
     "name": "stdout",
     "text": [
      "RUN  3 , total integrated cost =  2.6571145706258625\n",
      "RUN  3 , total integrated cost =  2.6571145706258625\n",
      "Improved over  3  iterations in  2.4579112389983493  seconds by  9.607307305259383e-07  percent.\n",
      "Problem in initial value trasfer:  Vmean_exc -74.49168973136564 -74.49185221700237\n",
      "4.54176712882515e-08 0.0\n",
      "8.241242234202802e-09 0.0\n",
      "set cost params:  19.580000000000002 0.0 1.0\n",
      "----- 84\n",
      "interpolate adjoint :  True True True\n",
      "RUN  0 , total integrated cost =  2.6571148142744154\n",
      "Gradient descend method:  None\n",
      "RUN  1 , total integrated cost =  2.657114780648901\n",
      "RUN  2 , total integrated cost =  2.6571147717392725\n"
     ]
    },
    {
     "output_type": "stream",
     "name": "stderr",
     "text": [
      "ERROR:root:Problem in initial value trasfer\n"
     ]
    },
    {
     "output_type": "stream",
     "name": "stdout",
     "text": [
      "RUN  3 , total integrated cost =  2.6571147628001697\n",
      "RUN  3 , total integrated cost =  2.6571147628001697\n",
      "Improved over  3  iterations in  2.352373391000583  seconds by  1.937223231607277e-06  percent.\n",
      "Problem in initial value trasfer:  Vmean_exc -74.49312749916912 -74.49328334469367\n",
      "4.694950586852266e-08 0.0\n",
      "8.241242234202802e-09 0.0\n",
      "set cost params:  19.575 0.0 1.0\n",
      "----- 85\n",
      "interpolate adjoint :  True True True\n",
      "RUN  0 , total integrated cost =  2.6571149364152276\n",
      "Gradient descend method:  None\n",
      "RUN  1 , total integrated cost =  2.657114920297885\n",
      "RUN  2 , total integrated cost =  2.6571149025339156\n"
     ]
    },
    {
     "output_type": "stream",
     "name": "stderr",
     "text": [
      "ERROR:root:Problem in initial value trasfer\n"
     ]
    },
    {
     "output_type": "stream",
     "name": "stdout",
     "text": [
      "RUN  3 , total integrated cost =  2.6571148846953405\n",
      "RUN  3 , total integrated cost =  2.6571148846953405\n",
      "Improved over  3  iterations in  2.33812825899804  seconds by  1.946467818925157e-06  percent.\n",
      "Problem in initial value trasfer:  Vmean_exc -74.49435520088646 -74.49450537648934\n",
      "4.8563853237184723e-08 0.0\n",
      "8.241242234202802e-09 0.0\n",
      "set cost params:  19.57 0.0 1.0\n",
      "----- 86\n",
      "interpolate adjoint :  True True True\n",
      "RUN  0 , total integrated cost =  2.6571151496670753\n",
      "Gradient descend method:  None\n",
      "RUN  1 , total integrated cost =  2.6571151162165174\n",
      "RUN  2 , total integrated cost =  2.657115116190354\n"
     ]
    },
    {
     "output_type": "stream",
     "name": "stderr",
     "text": [
      "ERROR:root:Problem in initial value trasfer\n"
     ]
    },
    {
     "output_type": "stream",
     "name": "stdout",
     "text": [
      "RUN  3 , total integrated cost =  2.6571151158752677\n",
      "RUN  3 , total integrated cost =  2.6571151158752677\n",
      "Improved over  3  iterations in  2.568912463997549  seconds by  1.2717479478396854e-06  percent.\n",
      "Problem in initial value trasfer:  Vmean_exc -74.49562878316827 -74.49577307698951\n",
      "5.090596536385468e-08 0.0\n",
      "8.241242234202802e-09 0.0\n",
      "set cost params:  19.565 0.0 1.0\n",
      "----- 87\n",
      "interpolate adjoint :  True True True\n",
      "RUN  0 , total integrated cost =  2.657115351127037\n",
      "Gradient descend method:  None\n",
      "RUN  1 , total integrated cost =  2.6571153249899955\n",
      "RUN  2 , total integrated cost =  2.6571153247354613\n"
     ]
    },
    {
     "output_type": "stream",
     "name": "stderr",
     "text": [
      "ERROR:root:Problem in initial value trasfer\n"
     ]
    },
    {
     "output_type": "stream",
     "name": "stdout",
     "text": [
      "RUN  3 , total integrated cost =  2.6571153246626427\n",
      "RUN  3 , total integrated cost =  2.6571153246626427\n",
      "Improved over  3  iterations in  2.526174908998655  seconds by  9.959821340999042e-07  percent.\n",
      "Problem in initial value trasfer:  Vmean_exc -74.4967856977474 -74.49692464862058\n",
      "5.2429282610280154e-08 0.0\n",
      "8.241242234202802e-09 0.0\n",
      "set cost params:  19.56 0.0 1.0\n",
      "----- 88\n",
      "interpolate adjoint :  True True True\n",
      "RUN  0 , total integrated cost =  2.6571156148414588\n",
      "Gradient descend method:  None\n",
      "RUN  1 , total integrated cost =  2.6571155818720715\n",
      "RUN  2 , total integrated cost =  2.657115581710168\n"
     ]
    },
    {
     "output_type": "stream",
     "name": "stderr",
     "text": [
      "ERROR:root:Problem in initial value trasfer\n"
     ]
    },
    {
     "output_type": "stream",
     "name": "stdout",
     "text": [
      "RUN  3 , total integrated cost =  2.6571155726523537\n",
      "RUN  3 , total integrated cost =  2.6571155726523537\n",
      "Improved over  3  iterations in  2.4565329819997714  seconds by  1.5877782999496048e-06  percent.\n",
      "Problem in initial value trasfer:  Vmean_exc -74.4976216871727 -74.49775677723426\n",
      "6.020936992578058e-08 0.0\n",
      "8.241242234202802e-09 0.0\n",
      "set cost params:  19.555 0.0 1.0\n",
      "----- 89\n",
      "interpolate adjoint :  True True True\n",
      "RUN  0 , total integrated cost =  2.657115911018764\n",
      "Gradient descend method:  None\n",
      "RUN  1 , total integrated cost =  2.657115837947646\n",
      "RUN  2 , total integrated cost =  2.6571158374961166\n"
     ]
    },
    {
     "output_type": "stream",
     "name": "stderr",
     "text": [
      "ERROR:root:Problem in initial value trasfer\n"
     ]
    },
    {
     "output_type": "stream",
     "name": "stdout",
     "text": [
      "RUN  3 , total integrated cost =  2.6571158373828294\n",
      "RUN  3 , total integrated cost =  2.6571158373828294\n",
      "Improved over  3  iterations in  2.5664411149991793  seconds by  2.7712729604445485e-06  percent.\n",
      "Problem in initial value trasfer:  Vmean_exc -74.4991119369962 -74.49924014473909\n",
      "5.749386236198508e-08 0.0\n",
      "8.241242234202802e-09 0.0\n",
      "set cost params:  19.55 0.0 1.0\n",
      "----- 90\n",
      "interpolate adjoint :  True True True\n",
      "RUN  0 , total integrated cost =  2.6571161076701184\n",
      "Gradient descend method:  None\n",
      "RUN  1 , total integrated cost =  2.6571160827507962\n",
      "RUN  2 , total integrated cost =  2.657116082710578\n"
     ]
    },
    {
     "output_type": "stream",
     "name": "stderr",
     "text": [
      "ERROR:root:Problem in initial value trasfer\n"
     ]
    },
    {
     "output_type": "stream",
     "name": "stdout",
     "text": [
      "RUN  3 , total integrated cost =  2.6571160818898627\n",
      "RUN  3 , total integrated cost =  2.6571160818898627\n",
      "Improved over  3  iterations in  2.5933028460021887  seconds by  9.702344527795503e-07  percent.\n",
      "Problem in initial value trasfer:  Vmean_exc -74.49999537114469 -74.50011949900457\n",
      "6.177812801432559e-08 0.0\n",
      "8.241242234202802e-09 0.0\n",
      "set cost params:  19.544999999999998 0.0 1.0\n",
      "----- 91\n",
      "interpolate adjoint :  True True True\n",
      "RUN  0 , total integrated cost =  2.657116429433688\n",
      "Gradient descend method:  None\n",
      "RUN  1 , total integrated cost =  2.65711638272798\n",
      "RUN  2 , total integrated cost =  2.6571163825735744\n"
     ]
    },
    {
     "output_type": "stream",
     "name": "stderr",
     "text": [
      "ERROR:root:Problem in initial value trasfer\n"
     ]
    },
    {
     "output_type": "stream",
     "name": "stdout",
     "text": [
      "RUN  3 , total integrated cost =  2.657116382195111\n",
      "RUN  3 , total integrated cost =  2.657116382195111\n",
      "Improved over  3  iterations in  2.649556352000218  seconds by  1.7778135941171058e-06  percent.\n",
      "Problem in initial value trasfer:  Vmean_exc -74.50113400004297 -74.50125286949968\n",
      "6.323305402410009e-08 0.0\n",
      "8.241242234202802e-09 0.0\n",
      "set cost params:  19.54 0.0 1.0\n",
      "----- 92\n",
      "interpolate adjoint :  True True True\n",
      "RUN  0 , total integrated cost =  2.6571166267709883\n",
      "Gradient descend method:  None\n",
      "RUN  1 , total integrated cost =  2.657116607890976\n",
      "RUN  2 , total integrated cost =  2.65711660776237\n"
     ]
    },
    {
     "output_type": "stream",
     "name": "stderr",
     "text": [
      "ERROR:root:Problem in initial value trasfer\n"
     ]
    },
    {
     "output_type": "stream",
     "name": "stdout",
     "text": [
      "RUN  3 , total integrated cost =  2.657116606695041\n",
      "RUN  3 , total integrated cost =  2.657116606695041\n",
      "Improved over  3  iterations in  2.7992639430012787  seconds by  7.555538559245178e-07  percent.\n",
      "Problem in initial value trasfer:  Vmean_exc -74.50198846524385 -74.50210338863555\n",
      "6.724179230027821e-08 0.0\n",
      "8.241242234202802e-09 0.0\n",
      "set cost params:  19.535 0.0 1.0\n",
      "----- 93\n",
      "interpolate adjoint :  True True True\n",
      "RUN  0 , total integrated cost =  2.657116985890791\n",
      "Gradient descend method:  None\n",
      "RUN  1 , total integrated cost =  2.6571169376317942\n",
      "RUN  2 , total integrated cost =  2.657116937449815\n"
     ]
    },
    {
     "output_type": "stream",
     "name": "stderr",
     "text": [
      "ERROR:root:Problem in initial value trasfer\n"
     ]
    },
    {
     "output_type": "stream",
     "name": "stdout",
     "text": [
      "RUN  3 , total integrated cost =  2.6571169369116894\n",
      "RUN  3 , total integrated cost =  2.6571169369116894\n",
      "Improved over  3  iterations in  2.7883123149986204  seconds by  1.8433174773235805e-06  percent.\n",
      "Problem in initial value trasfer:  Vmean_exc -74.50300380940718 -74.50311404378597\n",
      "6.971969539901704e-08 0.0\n",
      "8.241242234202802e-09 0.0\n",
      "set cost params:  19.53 0.0 1.0\n",
      "----- 94\n",
      "interpolate adjoint :  True True True\n",
      "RUN  0 , total integrated cost =  2.6571172676404977\n",
      "Gradient descend method:  None\n",
      "RUN  1 , total integrated cost =  2.65711723580773\n",
      "RUN  2 , total integrated cost =  2.657117234919915\n"
     ]
    },
    {
     "output_type": "stream",
     "name": "stderr",
     "text": [
      "ERROR:root:Problem in initial value trasfer\n"
     ]
    },
    {
     "output_type": "stream",
     "name": "stdout",
     "text": [
      "RUN  3 , total integrated cost =  2.6571172341406233\n",
      "RUN  3 , total integrated cost =  2.6571172341406233\n",
      "Improved over  3  iterations in  2.3429520659992704  seconds by  1.2607601007630365e-06  percent.\n",
      "Problem in initial value trasfer:  Vmean_exc -74.50387646521136 -74.5039826695497\n",
      "7.217196951045702e-08 0.0\n",
      "8.241242234202802e-09 0.0\n",
      "set cost params:  19.525 0.0 1.0\n",
      "----- 95\n",
      "interpolate adjoint :  True True True\n",
      "RUN  0 , total integrated cost =  2.6571175763918724\n",
      "Gradient descend method:  None\n",
      "RUN  1 , total integrated cost =  2.657117547511874\n",
      "RUN  2 , total integrated cost =  2.657117547286335\n"
     ]
    },
    {
     "output_type": "stream",
     "name": "stderr",
     "text": [
      "ERROR:root:Problem in initial value trasfer\n"
     ]
    },
    {
     "output_type": "stream",
     "name": "stdout",
     "text": [
      "RUN  3 , total integrated cost =  2.6571172441827158\n",
      "RUN  3 , total integrated cost =  2.6571172441827158\n",
      "Improved over  3  iterations in  2.506777753998904  seconds by  1.250261409779796e-05  percent.\n",
      "Problem in initial value trasfer:  Vmean_exc -74.50665228995275 -74.50674567526194\n",
      "3.7769483112005884e-08 0.0\n",
      "8.241242234202802e-09 0.0\n",
      "set cost params:  19.52 0.0 1.0\n",
      "----- 96\n",
      "interpolate adjoint :  True True True\n",
      "RUN  0 , total integrated cost =  2.6571174344843866\n",
      "Gradient descend method:  None\n",
      "RUN  1 , total integrated cost =  2.6571171799450264\n",
      "RUN  2 , total integrated cost =  2.657117179298471\n"
     ]
    },
    {
     "output_type": "stream",
     "name": "stderr",
     "text": [
      "ERROR:root:Problem in initial value trasfer\n"
     ]
    },
    {
     "output_type": "stream",
     "name": "stdout",
     "text": [
      "RUN  3 , total integrated cost =  2.657117179136365\n",
      "RUN  3 , total integrated cost =  2.657117179136365\n",
      "Improved over  3  iterations in  2.566320410998742  seconds by  9.609963740331295e-06  percent.\n",
      "Problem in initial value trasfer:  Vmean_exc -74.50555393049427 -74.50565238811657\n",
      "7.942388331471166e-08 0.0\n",
      "8.241242234202802e-09 0.0\n",
      "set cost params:  19.515 0.0 1.0\n",
      "----- 97\n",
      "interpolate adjoint :  True True True\n",
      "RUN  0 , total integrated cost =  2.6571175546299046\n",
      "Gradient descend method:  None\n",
      "RUN  1 , total integrated cost =  2.657117525602543\n",
      "RUN  2 , total integrated cost =  2.657117521301182\n"
     ]
    },
    {
     "output_type": "stream",
     "name": "stderr",
     "text": [
      "ERROR:root:Problem in initial value trasfer\n"
     ]
    },
    {
     "output_type": "stream",
     "name": "stdout",
     "text": [
      "RUN  3 , total integrated cost =  2.657117517576503\n",
      "RUN  3 , total integrated cost =  2.657117517576503\n",
      "Improved over  3  iterations in  2.2807077360012045  seconds by  1.394496138118484e-06  percent.\n",
      "Problem in initial value trasfer:  Vmean_exc -74.50628760542708 -74.50638267487636\n",
      "8.366459135539406e-08 0.0\n",
      "8.241242234202802e-09 0.0\n",
      "set cost params:  19.509999999999998 0.0 1.0\n",
      "----- 98\n",
      "interpolate adjoint :  True True True\n",
      "RUN  0 , total integrated cost =  2.6571179884156377\n",
      "Gradient descend method:  None\n",
      "RUN  1 , total integrated cost =  2.6571179429020275\n",
      "RUN  2 , total integrated cost =  2.6571179416964137\n"
     ]
    },
    {
     "output_type": "stream",
     "name": "stderr",
     "text": [
      "ERROR:root:Problem in initial value trasfer\n"
     ]
    },
    {
     "output_type": "stream",
     "name": "stdout",
     "text": [
      "RUN  3 , total integrated cost =  2.6571179410943153\n",
      "RUN  3 , total integrated cost =  2.6571179410943153\n",
      "Improved over  3  iterations in  2.3967879350020667  seconds by  1.7809266523727274e-06  percent.\n",
      "Problem in initial value trasfer:  Vmean_exc -74.50708606890579 -74.507177450995\n",
      "8.819581750879975e-08 0.0\n",
      "8.241242234202802e-09 0.0\n",
      "set cost params:  19.505000000000003 0.0 1.0\n",
      "----- 99\n",
      "interpolate adjoint :  True True True\n",
      "RUN  0 , total integrated cost =  2.657118281496077\n",
      "Gradient descend method:  None\n",
      "RUN  1 , total integrated cost =  2.6571182589773152\n",
      "RUN  2 , total integrated cost =  2.657118258742365\n"
     ]
    },
    {
     "output_type": "stream",
     "name": "stderr",
     "text": [
      "ERROR:root:Problem in initial value trasfer\n"
     ]
    },
    {
     "output_type": "stream",
     "name": "stdout",
     "text": [
      "RUN  3 , total integrated cost =  2.6571182579795978\n",
      "RUN  3 , total integrated cost =  2.6571182579795978\n",
      "Improved over  3  iterations in  2.2275401549995877  seconds by  8.850369823676374e-07  percent.\n",
      "Problem in initial value trasfer:  Vmean_exc -74.50775474152728 -74.50784303564915\n",
      "9.335719754605533e-08 0.0\n",
      "8.241242234202802e-09 0.0\n",
      "set cost params:  19.5 0.0 1.0\n",
      "----- 100\n",
      "interpolate adjoint :  True True True\n",
      "RUN  0 , total integrated cost =  2.6571187935495337\n",
      "Gradient descend method:  None\n",
      "RUN  1 , total integrated cost =  2.6571187240652856\n",
      "RUN  2 , total integrated cost =  2.6571187238445155\n"
     ]
    },
    {
     "output_type": "stream",
     "name": "stderr",
     "text": [
      "ERROR:root:Problem in initial value trasfer\n"
     ]
    },
    {
     "output_type": "stream",
     "name": "stdout",
     "text": [
      "RUN  3 , total integrated cost =  2.657118722695586\n",
      "RUN  3 , total integrated cost =  2.657118722695586\n",
      "Improved over  3  iterations in  2.2102369439999165  seconds by  2.6665705661343964e-06  percent.\n",
      "Problem in initial value trasfer:  Vmean_exc -74.5084560315869 -74.50854108712161\n",
      "1.0007155862484326e-07 0.0\n",
      "8.241242234202802e-09 0.0\n",
      "set cost params:  19.494999999999997 0.0 1.0\n",
      "----- 101\n",
      "interpolate adjoint :  True True True\n",
      "RUN  0 , total integrated cost =  2.6571192126456755\n",
      "Gradient descend method:  None\n",
      "RUN  1 , total integrated cost =  2.6571191418783493\n",
      "RUN  2 , total integrated cost =  2.6571191418431503\n",
      "RUN  3 , total integrated cost =  2.657119141219918\n",
      "RUN  4 , total integrated cost =  2.657119140711876\n",
      "RUN  5 , total integrated cost =  2.657119140654785\n",
      "RUN  6 , total integrated cost =  2.657119140102401\n",
      "RUN  7 , total integrated cost =  2.6571191400549106\n",
      "RUN  8 , total integrated cost =  2.6571191398492697\n",
      "RUN  9 , total integrated cost =  2.657119139216536\n",
      "RUN  10 , total integrated cost =  2.657119139171041\n",
      "RUN  11 , total integrated cost =  2.6571191389577233\n",
      "RUN  12 , total integrated cost =  2.6571191382877473\n",
      "RUN  13 , total integrated cost =  2.6571191382616193\n",
      "RUN  14 , total integrated cost =  2.6571191371833494\n",
      "RUN  15 , total integrated cost =  2.657119135307886\n",
      "RUN  16 , total integrated cost =  2.657119135281452\n",
      "RUN  17 , total integrated cost =  2.65711913414472\n",
      "RUN  18 , total integrated cost =  2.6571191323270917\n",
      "RUN  19 , total integrated cost =  2.6571191323008674\n"
     ]
    },
    {
     "output_type": "stream",
     "name": "stderr",
     "text": [
      "ERROR:root:Problem in initial value trasfer\n"
     ]
    },
    {
     "output_type": "stream",
     "name": "stdout",
     "text": [
      "RUN  20 , total integrated cost =  2.6571191312028137\n",
      "RUN  20 , total integrated cost =  2.6571191312028137\n",
      "Improved over  20  iterations in  13.10877678199904  seconds by  3.0650812163912633e-06  percent.\n",
      "Problem in initial value trasfer:  Vmean_exc -74.50923835235497 -74.50931979511054\n",
      "9.872628007435567e-08 0.0\n",
      "8.241242234202802e-09 0.0\n",
      "set cost params:  19.490000000000002 0.0 1.0\n",
      "----- 102\n",
      "interpolate adjoint :  True True True\n",
      "RUN  0 , total integrated cost =  2.6571197067248185\n",
      "Gradient descend method:  None\n",
      "RUN  1 , total integrated cost =  2.6571196465227427\n",
      "RUN  2 , total integrated cost =  2.6571196446975294\n",
      "RUN  3 , total integrated cost =  2.657119642348253\n",
      "RUN  4 , total integrated cost =  2.6571196423125207\n",
      "RUN  5 , total integrated cost =  2.657119642310831\n",
      "RUN  6 , total integrated cost =  2.6571196422919545\n",
      "RUN  7 , total integrated cost =  2.6571196378642856\n",
      "RUN  8 , total integrated cost =  2.6571196342531467\n",
      "RUN  9 , total integrated cost =  2.6571196342448977\n",
      "RUN  10 , total integrated cost =  2.6571191590218324\n",
      "RUN  11 , total integrated cost =  2.657118761555527\n",
      "RUN  12 , total integrated cost =  2.657118760183204\n",
      "RUN  13 , total integrated cost =  2.6571187601817963\n",
      "RUN  14 , total integrated cost =  2.65711876016241\n",
      "RUN  15 , total integrated cost =  2.6571187588199456\n",
      "RUN  16 , total integrated cost =  2.6571187577261544\n",
      "RUN  17 , total integrated cost =  2.6571187577161233\n",
      "RUN  18 , total integrated cost =  2.6571181627920217\n",
      "RUN  19 , total integrated cost =  2.6571176374224943\n"
     ]
    },
    {
     "output_type": "stream",
     "name": "stderr",
     "text": [
      "ERROR:root:Problem in initial value trasfer\n"
     ]
    },
    {
     "output_type": "stream",
     "name": "stdout",
     "text": [
      "RUN  20 , total integrated cost =  2.6571176371844625\n",
      "RUN  20 , total integrated cost =  2.6571176371844625\n",
      "Improved over  20  iterations in  14.811595031998877  seconds by  7.788660596474983e-05  percent.\n",
      "Problem in initial value trasfer:  Vmean_exc -74.5098786684329 -74.50995715419984\n",
      "1.0618452983410854e-07 0.0\n",
      "8.241242234202802e-09 0.0\n",
      "set cost params:  19.485 0.0 1.0\n",
      "----- 103\n",
      "interpolate adjoint :  True True True\n",
      "RUN  0 , total integrated cost =  2.6571181674398514\n",
      "Gradient descend method:  None\n",
      "RUN  1 , total integrated cost =  2.6571181049271457\n",
      "RUN  2 , total integrated cost =  2.6571181046092813\n",
      "RUN  3 , total integrated cost =  2.6571181046048435\n",
      "RUN  4 , total integrated cost =  2.657118104526632\n",
      "RUN  5 , total integrated cost =  2.6571181040055776\n",
      "RUN  6 , total integrated cost =  2.657118103975273\n",
      "RUN  7 , total integrated cost =  2.657118103941293\n",
      "RUN  8 , total integrated cost =  2.6571181033854665\n",
      "RUN  9 , total integrated cost =  2.65711810295333\n",
      "RUN  10 , total integrated cost =  2.6571181029471633\n",
      "RUN  11 , total integrated cost =  2.657118102290755\n",
      "RUN  12 , total integrated cost =  2.657118101074454\n",
      "RUN  13 , total integrated cost =  2.657118101048022\n",
      "RUN  14 , total integrated cost =  2.657118101010055\n",
      "RUN  15 , total integrated cost =  2.6571181005258087\n",
      "RUN  16 , total integrated cost =  2.6571181002740896\n",
      "RUN  17 , total integrated cost =  2.657118100268151\n",
      "RUN  18 , total integrated cost =  2.6571180999022435\n",
      "RUN  19 , total integrated cost =  2.657118098999287\n"
     ]
    },
    {
     "output_type": "stream",
     "name": "stderr",
     "text": [
      "ERROR:root:Problem in initial value trasfer\n"
     ]
    },
    {
     "output_type": "stream",
     "name": "stdout",
     "text": [
      "RUN  20 , total integrated cost =  2.6571180989916097\n",
      "RUN  20 , total integrated cost =  2.6571180989916097\n",
      "Improved over  20  iterations in  15.858492352999747  seconds by  2.576033026002733e-06  percent.\n",
      "Problem in initial value trasfer:  Vmean_exc -74.51049968376527 -74.51057530168224\n",
      "1.1002010924966683e-07 0.0\n",
      "8.241242234202802e-09 0.0\n",
      "set cost params:  19.48 0.0 1.0\n",
      "----- 104\n",
      "interpolate adjoint :  True True True\n",
      "RUN  0 , total integrated cost =  2.6571187622083032\n",
      "Gradient descend method:  None\n",
      "RUN  1 , total integrated cost =  2.657118674691071\n",
      "RUN  2 , total integrated cost =  2.6571186744585646\n",
      "RUN  3 , total integrated cost =  2.657118672859948\n",
      "RUN  4 , total integrated cost =  2.6571186696064966\n",
      "RUN  5 , total integrated cost =  2.6571186694505196\n",
      "RUN  6 , total integrated cost =  2.657118668860532\n",
      "RUN  7 , total integrated cost =  2.657118668473599\n",
      "RUN  8 , total integrated cost =  2.6571186677103493\n",
      "RUN  9 , total integrated cost =  2.657118666085381\n",
      "RUN  10 , total integrated cost =  2.6571186659313186\n",
      "RUN  11 , total integrated cost =  2.65711866101668\n",
      "RUN  12 , total integrated cost =  2.6571186569768157\n",
      "RUN  13 , total integrated cost =  2.6571186568233345\n",
      "RUN  14 , total integrated cost =  2.657118655369985\n",
      "RUN  15 , total integrated cost =  2.657118654098797\n",
      "RUN  16 , total integrated cost =  2.657118652367363\n",
      "RUN  17 , total integrated cost =  2.6571186490335235\n",
      "RUN  18 , total integrated cost =  2.657118648875776\n",
      "RUN  19 , total integrated cost =  2.6571186483167017\n"
     ]
    },
    {
     "output_type": "stream",
     "name": "stderr",
     "text": [
      "ERROR:root:Problem in initial value trasfer\n"
     ]
    },
    {
     "output_type": "stream",
     "name": "stdout",
     "text": [
      "RUN  20 , total integrated cost =  2.6571186479393214\n",
      "RUN  20 , total integrated cost =  2.6571186479393214\n",
      "Improved over  20  iterations in  16.480696889000683  seconds by  4.300484548025452e-06  percent.\n",
      "Problem in initial value trasfer:  Vmean_exc -74.51116347994204 -74.5112360324553\n",
      "1.1447817300680688e-07 0.0\n",
      "8.241242234202802e-09 0.0\n",
      "set cost params:  19.475 0.0 1.0\n",
      "----- 105\n",
      "interpolate adjoint :  True True True\n",
      "RUN  0 , total integrated cost =  2.657119230715397\n",
      "Gradient descend method:  None\n",
      "RUN  1 , total integrated cost =  2.657119168314225\n",
      "RUN  2 , total integrated cost =  2.657119168098442\n",
      "RUN  3 , total integrated cost =  2.657119158164971\n",
      "RUN  4 , total integrated cost =  2.6571191465427177\n",
      "RUN  5 , total integrated cost =  2.657119145555442\n",
      "RUN  6 , total integrated cost =  2.657119143648671\n",
      "RUN  7 , total integrated cost =  2.6571191434287984\n",
      "RUN  8 , total integrated cost =  2.657119133810455\n",
      "RUN  9 , total integrated cost =  2.6571191218756813\n",
      "RUN  10 , total integrated cost =  2.657119120535196\n",
      "RUN  11 , total integrated cost =  2.6571191180186773\n",
      "RUN  12 , total integrated cost =  2.657119117791058\n",
      "RUN  13 , total integrated cost =  2.657119109082313\n",
      "RUN  14 , total integrated cost =  2.657119098177568\n",
      "RUN  15 , total integrated cost =  2.657119097677553\n",
      "RUN  16 , total integrated cost =  2.6571190965003115\n",
      "RUN  17 , total integrated cost =  2.657119096276647\n",
      "RUN  18 , total integrated cost =  2.657119087345939\n",
      "RUN  19 , total integrated cost =  2.6571190747251743\n"
     ]
    },
    {
     "output_type": "stream",
     "name": "stderr",
     "text": [
      "ERROR:root:Problem in initial value trasfer\n"
     ]
    },
    {
     "output_type": "stream",
     "name": "stdout",
     "text": [
      "RUN  20 , total integrated cost =  2.6571190743051396\n",
      "RUN  20 , total integrated cost =  2.6571190743051396\n",
      "Improved over  20  iterations in  15.70974667200062  seconds by  5.88645985999392e-06  percent.\n",
      "Problem in initial value trasfer:  Vmean_exc -74.51176073359176 -74.51183052800131\n",
      "1.1723465508911834e-07 0.0\n",
      "8.241242234202802e-09 0.0\n",
      "set cost params:  19.47 0.0 1.0\n",
      "----- 106\n",
      "interpolate adjoint :  True True True\n",
      "RUN  0 , total integrated cost =  2.6571195622809447\n",
      "Gradient descend method:  None\n",
      "RUN  1 , total integrated cost =  2.6571195269517767\n",
      "RUN  2 , total integrated cost =  2.6571195268423913\n",
      "RUN  3 , total integrated cost =  2.657119526545416\n",
      "RUN  4 , total integrated cost =  2.6571195255890103\n",
      "RUN  5 , total integrated cost =  2.6571195255059847\n",
      "RUN  6 , total integrated cost =  2.657119523459127\n",
      "RUN  7 , total integrated cost =  2.65711952037365\n",
      "RUN  8 , total integrated cost =  2.6571195202569053\n",
      "RUN  9 , total integrated cost =  2.6571195196379334\n",
      "RUN  10 , total integrated cost =  2.6571195194691506\n",
      "RUN  11 , total integrated cost =  2.657119519405847\n",
      "RUN  12 , total integrated cost =  2.65711951888337\n",
      "RUN  13 , total integrated cost =  2.6571195186435017\n",
      "RUN  14 , total integrated cost =  2.6571195186018746\n",
      "RUN  15 , total integrated cost =  2.657119517791617\n",
      "RUN  16 , total integrated cost =  2.6571195171738413\n",
      "RUN  17 , total integrated cost =  2.6571195171327626\n",
      "RUN  18 , total integrated cost =  2.65711951632595\n",
      "RUN  19 , total integrated cost =  2.65711951570358\n"
     ]
    },
    {
     "output_type": "stream",
     "name": "stderr",
     "text": [
      "ERROR:root:Problem in initial value trasfer\n"
     ]
    },
    {
     "output_type": "stream",
     "name": "stdout",
     "text": [
      "RUN  20 , total integrated cost =  2.657119515664224\n",
      "RUN  20 , total integrated cost =  2.657119515664224\n",
      "Improved over  20  iterations in  15.976069044001633  seconds by  1.7544081032383474e-06  percent.\n",
      "Problem in initial value trasfer:  Vmean_exc -74.5122949635954 -74.51236229094889\n",
      "1.2285188768661984e-07 0.0\n",
      "8.241242234202802e-09 0.0\n",
      "set cost params:  19.465 0.0 1.0\n",
      "----- 107\n",
      "interpolate adjoint :  True True True\n",
      "RUN  0 , total integrated cost =  2.657120272124239\n",
      "Gradient descend method:  None\n",
      "RUN  1 , total integrated cost =  2.6571201827501105\n",
      "RUN  2 , total integrated cost =  2.6571201768102144\n",
      "RUN  3 , total integrated cost =  2.657120171831151\n",
      "RUN  4 , total integrated cost =  2.6571201711890224\n",
      "RUN  5 , total integrated cost =  2.6571201701061407\n",
      "RUN  6 , total integrated cost =  2.6571201698261926\n",
      "RUN  7 , total integrated cost =  2.6571201683465864\n",
      "RUN  8 , total integrated cost =  2.6571201673234395\n",
      "RUN  9 , total integrated cost =  2.6571201649140757\n",
      "RUN  10 , total integrated cost =  2.6571201612321538\n",
      "RUN  11 , total integrated cost =  2.657120160925402\n",
      "RUN  12 , total integrated cost =  2.657120159536627\n",
      "RUN  13 , total integrated cost =  2.6571201586451663\n",
      "RUN  14 , total integrated cost =  2.6571018671289117\n",
      "RUN  15 , total integrated cost =  2.6570267649090784\n",
      "RUN  16 , total integrated cost =  2.657025851245168\n",
      "RUN  17 , total integrated cost =  2.6570258504589805\n",
      "RUN  18 , total integrated cost =  2.6570258501740875\n",
      "RUN  19 , total integrated cost =  2.6570258495351804\n"
     ]
    },
    {
     "output_type": "stream",
     "name": "stderr",
     "text": [
      "ERROR:root:Problem in initial value trasfer\n"
     ]
    },
    {
     "output_type": "stream",
     "name": "stdout",
     "text": [
      "RUN  20 , total integrated cost =  2.6570258493022387\n",
      "RUN  20 , total integrated cost =  2.6570258493022387\n",
      "Improved over  20  iterations in  16.58159541999703  seconds by  0.003553577269002517  percent.\n",
      "Problem in initial value trasfer:  Vmean_exc -74.512870375096 -74.51293504522484\n",
      "1.2918488557112664e-07 0.0\n",
      "8.241242234202802e-09 0.0\n",
      "set cost params:  19.46 0.0 1.0\n",
      "----- 108\n",
      "interpolate adjoint :  True True True\n",
      "RUN  0 , total integrated cost =  2.6570265202520624\n",
      "Gradient descend method:  None\n",
      "RUN  1 , total integrated cost =  2.657026453934823\n",
      "RUN  2 , total integrated cost =  2.657026448298174\n",
      "RUN  3 , total integrated cost =  2.657026443548859\n",
      "RUN  4 , total integrated cost =  2.6570264431826383\n",
      "RUN  5 , total integrated cost =  2.657026442484543\n",
      "RUN  6 , total integrated cost =  2.657026442317034\n",
      "RUN  7 , total integrated cost =  2.6570264382188573\n",
      "RUN  8 , total integrated cost =  2.6570264353142408\n",
      "RUN  9 , total integrated cost =  2.6570264350603514\n",
      "RUN  10 , total integrated cost =  2.657026434373484\n",
      "RUN  11 , total integrated cost =  2.6570264342124807\n",
      "RUN  12 , total integrated cost =  2.6570264299565505\n",
      "RUN  13 , total integrated cost =  2.657026426530542\n",
      "RUN  14 , total integrated cost =  2.6570264263251246\n",
      "RUN  15 , total integrated cost =  2.6570264256539486\n",
      "RUN  16 , total integrated cost =  2.6570264254739673\n",
      "RUN  17 , total integrated cost =  2.6570260014531\n",
      "RUN  18 , total integrated cost =  2.6570256459465242\n",
      "RUN  19 , total integrated cost =  2.6570255858731193\n"
     ]
    },
    {
     "output_type": "stream",
     "name": "stderr",
     "text": [
      "ERROR:root:Problem in initial value trasfer\n"
     ]
    },
    {
     "output_type": "stream",
     "name": "stdout",
     "text": [
      "RUN  20 , total integrated cost =  2.657025537813977\n",
      "RUN  20 , total integrated cost =  2.657025537813977\n",
      "Improved over  20  iterations in  16.61135395600286  seconds by  3.697509521316533e-05  percent.\n",
      "Problem in initial value trasfer:  Vmean_exc -74.51336689493081 -74.51342927215838\n",
      "1.3538124579418664e-07 0.0\n",
      "8.241242234202802e-09 0.0\n",
      "set cost params:  19.455000000000002 0.0 1.0\n",
      "----- 109\n",
      "interpolate adjoint :  True True True\n",
      "RUN  0 , total integrated cost =  2.6570263805565757\n",
      "Gradient descend method:  None\n",
      "RUN  1 , total integrated cost =  2.657026281619442\n",
      "RUN  2 , total integrated cost =  2.6570262814114427\n",
      "RUN  3 , total integrated cost =  2.6570262792931962\n",
      "RUN  4 , total integrated cost =  2.6570262778299067\n",
      "RUN  5 , total integrated cost =  2.657026276306782\n",
      "RUN  6 , total integrated cost =  2.6570262745470092\n",
      "RUN  7 , total integrated cost =  2.657026274239058\n",
      "RUN  8 , total integrated cost =  2.6570262734759167\n",
      "RUN  9 , total integrated cost =  2.6570262731864984\n",
      "RUN  10 , total integrated cost =  2.6570262710767842\n",
      "RUN  11 , total integrated cost =  2.6570262689145157\n",
      "RUN  12 , total integrated cost =  2.6570262686445143\n",
      "RUN  13 , total integrated cost =  2.6570262677517418\n",
      "RUN  14 , total integrated cost =  2.657026267466013\n",
      "RUN  15 , total integrated cost =  2.6570262654373726\n",
      "RUN  16 , total integrated cost =  2.65702626319985\n",
      "RUN  17 , total integrated cost =  2.6570262629643766\n",
      "RUN  18 , total integrated cost =  2.6570262619296074\n",
      "RUN  19 , total integrated cost =  2.657026261555017\n"
     ]
    },
    {
     "output_type": "stream",
     "name": "stderr",
     "text": [
      "ERROR:root:Problem in initial value trasfer\n"
     ]
    },
    {
     "output_type": "stream",
     "name": "stdout",
     "text": [
      "RUN  20 , total integrated cost =  2.6570262598516616\n",
      "RUN  20 , total integrated cost =  2.6570262598516616\n",
      "Improved over  20  iterations in  17.150715448002302  seconds by  4.542857183764681e-06  percent.\n",
      "Problem in initial value trasfer:  Vmean_exc -74.51394047458938 -74.51400020306357\n",
      "1.3873987110296873e-07 0.0\n",
      "8.241242234202802e-09 0.0\n",
      "set cost params:  19.45 0.0 1.0\n",
      "----- 110\n",
      "interpolate adjoint :  True True True\n",
      "RUN  0 , total integrated cost =  2.6570269853277084\n",
      "Gradient descend method:  None\n",
      "RUN  1 , total integrated cost =  2.657026930238209\n",
      "RUN  2 , total integrated cost =  2.6570269249530587\n",
      "RUN  3 , total integrated cost =  2.6570269206085935\n",
      "RUN  4 , total integrated cost =  2.656850974433728\n",
      "RUN  5 , total integrated cost =  2.656850458077382\n",
      "RUN  6 , total integrated cost =  2.6568504575698544\n",
      "RUN  7 , total integrated cost =  2.6568504575650356\n",
      "RUN  8 , total integrated cost =  2.6568504575648726\n",
      "RUN  9 , total integrated cost =  2.6568504575648717\n",
      "RUN  10 , total integrated cost =  2.6568504575648713\n"
     ]
    },
    {
     "output_type": "stream",
     "name": "stderr",
     "text": [
      "ERROR:root:Problem in initial value trasfer\n"
     ]
    },
    {
     "output_type": "stream",
     "name": "stdout",
     "text": [
      "RUN  11 , total integrated cost =  2.6568504575648713\n",
      "Control only changes marginally.\n",
      "RUN  11 , total integrated cost =  2.6568504575648713\n",
      "Improved over  11  iterations in  10.295695712000452  seconds by  0.0066438076772357135  percent.\n",
      "Problem in initial value trasfer:  Vmean_exc -74.5143521294876 -74.51440995697037\n",
      "1.502160136580093e-07 0.0\n",
      "8.241242234202802e-09 0.0\n",
      "set cost params:  19.445 0.0 1.0\n",
      "----- 111\n",
      "interpolate adjoint :  True True True\n",
      "RUN  0 , total integrated cost =  2.656851246462576\n",
      "Gradient descend method:  None\n",
      "RUN  1 , total integrated cost =  2.656851169179092\n",
      "RUN  2 , total integrated cost =  2.656851169001953\n",
      "RUN  3 , total integrated cost =  2.656851169001722\n",
      "RUN  4 , total integrated cost =  2.6568511690016705\n",
      "RUN  5 , total integrated cost =  2.656851169001636\n",
      "RUN  6 , total integrated cost =  2.6568511690016026\n",
      "RUN  7 , total integrated cost =  2.6568511690015995\n"
     ]
    },
    {
     "output_type": "stream",
     "name": "stderr",
     "text": [
      "ERROR:root:Problem in initial value trasfer\n"
     ]
    },
    {
     "output_type": "stream",
     "name": "stdout",
     "text": [
      "RUN  8 , total integrated cost =  2.6568511690015995\n",
      "Control only changes marginally.\n",
      "RUN  8 , total integrated cost =  2.6568511690015995\n",
      "Improved over  8  iterations in  7.996377187999315  seconds by  2.915518010127016e-06  percent.\n",
      "Problem in initial value trasfer:  Vmean_exc -74.51480684272097 -74.51486257037593\n",
      "1.5635884316269493e-07 0.0\n",
      "8.241242234202802e-09 0.0\n",
      "set cost params:  19.44 0.0 1.0\n",
      "----- 112\n",
      "interpolate adjoint :  True True True\n",
      "RUN  0 , total integrated cost =  2.6568519908280464\n",
      "Gradient descend method:  None\n",
      "RUN  1 , total integrated cost =  2.656851915485879\n",
      "RUN  2 , total integrated cost =  2.6568519154858783\n"
     ]
    },
    {
     "output_type": "stream",
     "name": "stderr",
     "text": [
      "ERROR:root:Problem in initial value trasfer\n"
     ]
    },
    {
     "output_type": "stream",
     "name": "stdout",
     "text": [
      "RUN  3 , total integrated cost =  2.6568519154858783\n",
      "Control only changes marginally.\n",
      "RUN  3 , total integrated cost =  2.6568519154858783\n",
      "Improved over  3  iterations in  3.4810539969985257  seconds by  2.835768356135304e-06  percent.\n",
      "Problem in initial value trasfer:  Vmean_exc -74.51528685496486 -74.51534036596763\n",
      "1.6422088830421206e-07 0.0\n",
      "8.241242234202802e-09 0.0\n",
      "set cost params:  19.435 0.0 1.0\n",
      "----- 113\n",
      "interpolate adjoint :  True True True\n",
      "RUN  0 , total integrated cost =  2.656852778662222\n",
      "Gradient descend method:  None\n",
      "RUN  1 , total integrated cost =  2.6568526986967416\n",
      "RUN  2 , total integrated cost =  2.65685269849314\n",
      "RUN  3 , total integrated cost =  2.6568526984916407\n",
      "RUN  4 , total integrated cost =  2.6568526984916145\n",
      "RUN  5 , total integrated cost =  2.6568526984916137\n",
      "RUN  6 , total integrated cost =  2.656852698491613\n"
     ]
    },
    {
     "output_type": "stream",
     "name": "stderr",
     "text": [
      "ERROR:root:Problem in initial value trasfer\n"
     ]
    },
    {
     "output_type": "stream",
     "name": "stdout",
     "text": [
      "RUN  7 , total integrated cost =  2.656852698491613\n",
      "Control only changes marginally.\n",
      "RUN  7 , total integrated cost =  2.656852698491613\n",
      "Improved over  7  iterations in  6.713614119002159  seconds by  3.017502876900835e-06  percent.\n",
      "Problem in initial value trasfer:  Vmean_exc -74.51569694387337 -74.51574856112703\n",
      "1.7238795357104434e-07 0.0\n",
      "8.241242234202802e-09 0.0\n",
      "set cost params:  19.43 0.0 1.0\n",
      "----- 114\n",
      "interpolate adjoint :  True True True\n",
      "RUN  0 , total integrated cost =  2.656853776068522\n",
      "Gradient descend method:  None\n",
      "RUN  1 , total integrated cost =  2.6568536606895563\n",
      "RUN  2 , total integrated cost =  2.656853660681391\n",
      "RUN  3 , total integrated cost =  2.6568536606813864\n"
     ]
    },
    {
     "output_type": "stream",
     "name": "stderr",
     "text": [
      "ERROR:root:Problem in initial value trasfer\n"
     ]
    },
    {
     "output_type": "stream",
     "name": "stdout",
     "text": [
      "RUN  4 , total integrated cost =  2.6568536606813864\n",
      "Control only changes marginally.\n",
      "RUN  4 , total integrated cost =  2.6568536606813864\n",
      "Improved over  4  iterations in  3.951883388999704  seconds by  4.342999091022648e-06  percent.\n",
      "Problem in initial value trasfer:  Vmean_exc -74.51613271084422 -74.51618231577363\n",
      "1.823716934588475e-07 0.0\n",
      "8.241242234202802e-09 0.0\n",
      "set cost params:  19.425 0.0 1.0\n",
      "----- 115\n",
      "interpolate adjoint :  True True True\n",
      "RUN  0 , total integrated cost =  2.6568546163247575\n",
      "Gradient descend method:  None\n",
      "RUN  1 , total integrated cost =  2.656854528824043\n",
      "RUN  2 , total integrated cost =  2.6568545288052485\n",
      "RUN  3 , total integrated cost =  2.6568545288050616\n",
      "RUN  4 , total integrated cost =  2.6568545288050545\n",
      "RUN  5 , total integrated cost =  2.656854528805054\n"
     ]
    },
    {
     "output_type": "stream",
     "name": "stderr",
     "text": [
      "ERROR:root:Problem in initial value trasfer\n"
     ]
    },
    {
     "output_type": "stream",
     "name": "stdout",
     "text": [
      "RUN  6 , total integrated cost =  2.656854528805054\n",
      "Control only changes marginally.\n",
      "RUN  6 , total integrated cost =  2.656854528805054\n",
      "Improved over  6  iterations in  5.763276880999911  seconds by  3.294109617968388e-06  percent.\n",
      "Problem in initial value trasfer:  Vmean_exc -74.51651679495028 -74.51656462622434\n",
      "1.908219987475151e-07 0.0\n",
      "8.241242234202802e-09 0.0\n",
      "set cost params:  19.419999999999998 0.0 1.0\n",
      "----- 116\n",
      "interpolate adjoint :  True True True\n",
      "RUN  0 , total integrated cost =  2.65685552627266\n",
      "Gradient descend method:  None\n",
      "RUN  1 , total integrated cost =  2.656855439272612\n",
      "RUN  2 , total integrated cost =  2.656855439092218\n",
      "RUN  3 , total integrated cost =  2.6568554390636243\n",
      "RUN  4 , total integrated cost =  2.656855439063167\n",
      "RUN  5 , total integrated cost =  2.6568554390630945\n",
      "RUN  6 , total integrated cost =  2.656855439063075\n",
      "RUN  7 , total integrated cost =  2.6568554390630683\n",
      "RUN  8 , total integrated cost =  2.656855439063064\n"
     ]
    },
    {
     "output_type": "stream",
     "name": "stderr",
     "text": [
      "ERROR:root:Problem in initial value trasfer\n"
     ]
    },
    {
     "output_type": "stream",
     "name": "stdout",
     "text": [
      "RUN  9 , total integrated cost =  2.656855439063064\n",
      "Control only changes marginally.\n",
      "RUN  9 , total integrated cost =  2.656855439063064\n",
      "Improved over  9  iterations in  8.835668595998868  seconds by  3.2824365092665175e-06  percent.\n",
      "Problem in initial value trasfer:  Vmean_exc -74.51688483470677 -74.51693096641908\n",
      "2.0006469090359159e-07 0.0\n",
      "8.241242234202802e-09 0.0\n",
      "set cost params:  19.415 0.0 1.0\n",
      "----- 117\n",
      "interpolate adjoint :  True True True\n",
      "RUN  0 , total integrated cost =  2.6568566924254493\n",
      "Gradient descend method:  None\n",
      "RUN  1 , total integrated cost =  2.656856556997331\n",
      "RUN  2 , total integrated cost =  2.6568565569973295\n"
     ]
    },
    {
     "output_type": "stream",
     "name": "stderr",
     "text": [
      "ERROR:root:Problem in initial value trasfer\n"
     ]
    },
    {
     "output_type": "stream",
     "name": "stdout",
     "text": [
      "RUN  3 , total integrated cost =  2.6568565569973295\n",
      "Control only changes marginally.\n",
      "RUN  3 , total integrated cost =  2.6568565569973295\n",
      "Improved over  3  iterations in  3.2585758739987796  seconds by  5.0973061576087275e-06  percent.\n",
      "Problem in initial value trasfer:  Vmean_exc -74.51727383939925 -74.51731817473919\n",
      "2.1171428598162618e-07 0.0\n",
      "8.241242234202802e-09 0.0\n",
      "set cost params:  19.41 0.0 1.0\n",
      "----- 118\n",
      "interpolate adjoint :  True True True\n",
      "RUN  0 , total integrated cost =  2.6568576736831164\n",
      "Gradient descend method:  None\n",
      "RUN  1 , total integrated cost =  2.6568575650585977\n",
      "RUN  2 , total integrated cost =  2.6568575649472743\n",
      "RUN  3 , total integrated cost =  2.656857564945394\n",
      "RUN  4 , total integrated cost =  2.6568575649453914\n",
      "RUN  5 , total integrated cost =  2.656857564945391\n"
     ]
    },
    {
     "output_type": "stream",
     "name": "stderr",
     "text": [
      "ERROR:root:Problem in initial value trasfer\n"
     ]
    },
    {
     "output_type": "stream",
     "name": "stdout",
     "text": [
      "RUN  6 , total integrated cost =  2.656857564945391\n",
      "Control only changes marginally.\n",
      "RUN  6 , total integrated cost =  2.656857564945391\n",
      "Improved over  6  iterations in  5.553843449000851  seconds by  4.0927192515027855e-06  percent.\n",
      "Problem in initial value trasfer:  Vmean_exc -74.51760587415377 -74.51764867620334\n",
      "2.237925554178349e-07 0.0\n",
      "8.241242234202802e-09 0.0\n",
      "set cost params:  19.405 0.0 1.0\n",
      "----- 119\n",
      "interpolate adjoint :  True True True\n",
      "RUN  0 , total integrated cost =  2.6568585329048897\n",
      "Gradient descend method:  None\n",
      "RUN  1 , total integrated cost =  2.6568584417316012\n",
      "RUN  2 , total integrated cost =  2.656858441731597\n",
      "RUN  3 , total integrated cost =  2.6568584417315955\n",
      "RUN  4 , total integrated cost =  2.656858441731595\n"
     ]
    },
    {
     "output_type": "stream",
     "name": "stderr",
     "text": [
      "ERROR:root:Problem in initial value trasfer\n"
     ]
    },
    {
     "output_type": "stream",
     "name": "stdout",
     "text": [
      "RUN  5 , total integrated cost =  2.656858441731595\n",
      "Control only changes marginally.\n",
      "RUN  5 , total integrated cost =  2.656858441731595\n",
      "Improved over  5  iterations in  5.077885146998597  seconds by  3.431620214655595e-06  percent.\n",
      "Problem in initial value trasfer:  Vmean_exc -74.51794647850073 -74.51798770768893\n",
      "2.3203125927682356e-07 0.0\n",
      "8.241242234202802e-09 0.0\n",
      "set cost params:  19.4 0.0 1.0\n",
      "----- 120\n",
      "interpolate adjoint :  True True True\n",
      "RUN  0 , total integrated cost =  2.6568599425027095\n",
      "Gradient descend method:  None\n",
      "RUN  1 , total integrated cost =  2.6568597295807694\n",
      "RUN  2 , total integrated cost =  2.6568597294358107\n",
      "RUN  3 , total integrated cost =  2.6568597294347285\n",
      "RUN  4 , total integrated cost =  2.6568597294347223\n",
      "RUN  5 , total integrated cost =  2.656859729434721\n",
      "RUN  6 , total integrated cost =  2.6568597294347205\n"
     ]
    },
    {
     "output_type": "stream",
     "name": "stderr",
     "text": [
      "ERROR:root:Problem in initial value trasfer\n"
     ]
    },
    {
     "output_type": "stream",
     "name": "stdout",
     "text": [
      "RUN  7 , total integrated cost =  2.6568597294347205\n",
      "Control only changes marginally.\n",
      "RUN  7 , total integrated cost =  2.6568597294347205\n",
      "Improved over  7  iterations in  6.423057697997137  seconds by  8.019541624548765e-06  percent.\n",
      "Problem in initial value trasfer:  Vmean_exc -74.51830686605041 -74.51834643102379\n",
      "2.4233503587387577e-07 0.0\n",
      "8.241242234202802e-09 0.0\n",
      "set cost params:  19.395 0.0 1.0\n",
      "----- 121\n",
      "interpolate adjoint :  True True True\n",
      "RUN  0 , total integrated cost =  2.656861055165745\n",
      "Gradient descend method:  None\n",
      "RUN  1 , total integrated cost =  2.6568608947437706\n",
      "RUN  2 , total integrated cost =  2.6568608947336183\n",
      "RUN  3 , total integrated cost =  2.6568608947336174\n",
      "RUN  4 , total integrated cost =  2.656860894733617\n"
     ]
    },
    {
     "output_type": "stream",
     "name": "stderr",
     "text": [
      "ERROR:root:Problem in initial value trasfer\n"
     ]
    },
    {
     "output_type": "stream",
     "name": "stdout",
     "text": [
      "RUN  5 , total integrated cost =  2.656860894733617\n",
      "Control only changes marginally.\n",
      "RUN  5 , total integrated cost =  2.656860894733617\n",
      "Improved over  5  iterations in  5.212419602001319  seconds by  6.038408656650063e-06  percent.\n",
      "Problem in initial value trasfer:  Vmean_exc -74.5186187584805 -74.51865688318414\n",
      "2.5216064712964715e-07 0.0\n",
      "8.241242234202802e-09 0.0\n",
      "set cost params:  19.39 0.0 1.0\n",
      "----- 122\n",
      "interpolate adjoint :  True True True\n",
      "RUN  0 , total integrated cost =  2.6568625662864\n",
      "Gradient descend method:  None\n",
      "RUN  1 , total integrated cost =  2.65686233120669\n",
      "RUN  2 , total integrated cost =  2.656862330929486\n",
      "RUN  3 , total integrated cost =  2.656862330924947\n",
      "RUN  4 , total integrated cost =  2.6568623309246497\n",
      "RUN  5 , total integrated cost =  2.656862330924459\n",
      "RUN  6 , total integrated cost =  2.6568623309244543\n",
      "RUN  7 , total integrated cost =  2.6568623309244526\n"
     ]
    },
    {
     "output_type": "stream",
     "name": "stderr",
     "text": [
      "ERROR:root:Problem in initial value trasfer\n"
     ]
    },
    {
     "output_type": "stream",
     "name": "stdout",
     "text": [
      "RUN  8 , total integrated cost =  2.6568623309244526\n",
      "Control only changes marginally.\n",
      "RUN  8 , total integrated cost =  2.6568623309244526\n",
      "Improved over  8  iterations in  7.671840207000059  seconds by  8.858642146947204e-06  percent.\n",
      "Problem in initial value trasfer:  Vmean_exc -74.51895522850732 -74.51899179944792\n",
      "2.627754467496041e-07 0.0\n",
      "8.241242234202802e-09 0.0\n",
      "set cost params:  19.384999999999998 0.0 1.0\n",
      "----- 123\n",
      "interpolate adjoint :  True True True\n",
      "RUN  0 , total integrated cost =  2.6568637993945936\n",
      "Gradient descend method:  None\n",
      "RUN  1 , total integrated cost =  2.6568636301054203\n",
      "RUN  2 , total integrated cost =  2.656863630105419\n"
     ]
    },
    {
     "output_type": "stream",
     "name": "stderr",
     "text": [
      "ERROR:root:Problem in initial value trasfer\n"
     ]
    },
    {
     "output_type": "stream",
     "name": "stdout",
     "text": [
      "RUN  3 , total integrated cost =  2.656863630105419\n",
      "Control only changes marginally.\n",
      "RUN  3 , total integrated cost =  2.656863630105419\n",
      "Improved over  3  iterations in  3.1712825340000563  seconds by  6.371767142354656e-06  percent.\n",
      "Problem in initial value trasfer:  Vmean_exc -74.51924453703064 -74.51927977199398\n",
      "2.734010852925749e-07 0.0\n",
      "8.241242234202802e-09 0.0\n",
      "set cost params:  19.380000000000003 0.0 1.0\n",
      "----- 124\n",
      "interpolate adjoint :  True True True\n",
      "RUN  0 , total integrated cost =  2.6568651701930905\n",
      "Gradient descend method:  None\n",
      "RUN  1 , total integrated cost =  2.65686499595036\n",
      "RUN  2 , total integrated cost =  2.6568649956193138\n",
      "RUN  3 , total integrated cost =  2.656864995618475\n",
      "RUN  4 , total integrated cost =  2.656864995618466\n",
      "RUN  5 , total integrated cost =  2.656864995618465\n"
     ]
    },
    {
     "output_type": "stream",
     "name": "stderr",
     "text": [
      "ERROR:root:Problem in initial value trasfer\n"
     ]
    },
    {
     "output_type": "stream",
     "name": "stdout",
     "text": [
      "RUN  6 , total integrated cost =  2.656864995618465\n",
      "Control only changes marginally.\n",
      "RUN  6 , total integrated cost =  2.656864995618465\n",
      "Improved over  6  iterations in  5.63534181200157  seconds by  6.570699468966268e-06  percent.\n",
      "Problem in initial value trasfer:  Vmean_exc -74.51952093566831 -74.51955489427155\n",
      "2.854006865796346e-07 0.0\n",
      "8.241242234202802e-09 0.0\n",
      "set cost params:  19.375 0.0 1.0\n",
      "----- 125\n",
      "interpolate adjoint :  True True True\n",
      "RUN  0 , total integrated cost =  2.6568669324209013\n",
      "Gradient descend method:  None\n",
      "RUN  1 , total integrated cost =  2.656866677827818\n",
      "RUN  2 , total integrated cost =  2.6568666776500875\n",
      "RUN  3 , total integrated cost =  2.656866677649831\n",
      "RUN  4 , total integrated cost =  2.6568666776498264\n",
      "RUN  5 , total integrated cost =  2.6568666776498255\n"
     ]
    },
    {
     "output_type": "stream",
     "name": "stderr",
     "text": [
      "ERROR:root:Problem in initial value trasfer\n"
     ]
    },
    {
     "output_type": "stream",
     "name": "stdout",
     "text": [
      "RUN  6 , total integrated cost =  2.6568666776498255\n",
      "Control only changes marginally.\n",
      "RUN  6 , total integrated cost =  2.6568666776498255\n",
      "Improved over  6  iterations in  5.690470698002173  seconds by  9.58915452997644e-06  percent.\n",
      "Problem in initial value trasfer:  Vmean_exc -74.51981634812729 -74.51984894256961\n",
      "2.9950335426493125e-07 0.0\n",
      "8.241242234202802e-09 0.0\n",
      "set cost params:  19.369999999999997 0.0 1.0\n",
      "----- 126\n",
      "interpolate adjoint :  True True True\n",
      "RUN  0 , total integrated cost =  2.656868067778379\n",
      "Gradient descend method:  None\n",
      "RUN  1 , total integrated cost =  2.6568679390600014\n",
      "RUN  2 , total integrated cost =  2.6568679390492247\n",
      "RUN  3 , total integrated cost =  2.656867939049223\n"
     ]
    },
    {
     "output_type": "stream",
     "name": "stderr",
     "text": [
      "ERROR:root:Problem in initial value trasfer\n"
     ]
    },
    {
     "output_type": "stream",
     "name": "stdout",
     "text": [
      "RUN  4 , total integrated cost =  2.656867939049223\n",
      "Control only changes marginally.\n",
      "RUN  4 , total integrated cost =  2.656867939049223\n",
      "Improved over  4  iterations in  3.9078275070023665  seconds by  4.845146733600814e-06  percent.\n",
      "Problem in initial value trasfer:  Vmean_exc -74.52007745905749 -74.52010884773848\n",
      "3.10595764385942e-07 0.0\n",
      "8.241242234202802e-09 0.0\n",
      "set cost params:  19.365000000000002 0.0 1.0\n",
      "----- 127\n",
      "interpolate adjoint :  True True True\n",
      "RUN  0 , total integrated cost =  2.6568697186078736\n",
      "Gradient descend method:  None\n",
      "RUN  1 , total integrated cost =  2.656869524148581\n",
      "RUN  2 , total integrated cost =  2.6568695237459026\n",
      "RUN  3 , total integrated cost =  2.6568695237456432\n",
      "RUN  4 , total integrated cost =  2.6568695237456414\n"
     ]
    },
    {
     "output_type": "stream",
     "name": "stderr",
     "text": [
      "ERROR:root:Problem in initial value trasfer\n"
     ]
    },
    {
     "output_type": "stream",
     "name": "stdout",
     "text": [
      "RUN  5 , total integrated cost =  2.6568695237456414\n",
      "Control only changes marginally.\n",
      "RUN  5 , total integrated cost =  2.6568695237456414\n",
      "Improved over  5  iterations in  4.37288703500235  seconds by  7.334278791404358e-06  percent.\n",
      "Problem in initial value trasfer:  Vmean_exc -74.5203245367414 -74.52035478446523\n",
      "3.2418516911085283e-07 0.0\n",
      "8.241242234202802e-09 0.0\n",
      "set cost params:  19.36 0.0 1.0\n",
      "----- 128\n",
      "interpolate adjoint :  True True True\n",
      "RUN  0 , total integrated cost =  2.656871749641934\n",
      "Gradient descend method:  None\n",
      "RUN  1 , total integrated cost =  2.656871475473308\n",
      "RUN  2 , total integrated cost =  2.656871475473306\n",
      "RUN  3 , total integrated cost =  2.656871475473305\n",
      "RUN  4 , total integrated cost =  2.6568714754733045\n",
      "RUN  5 , total integrated cost =  2.656871475473304\n",
      "RUN  6 , total integrated cost =  2.6568714754733036\n"
     ]
    },
    {
     "output_type": "stream",
     "name": "stderr",
     "text": [
      "ERROR:root:Problem in initial value trasfer\n"
     ]
    },
    {
     "output_type": "stream",
     "name": "stdout",
     "text": [
      "RUN  7 , total integrated cost =  2.6568714754733036\n",
      "Control only changes marginally.\n",
      "RUN  7 , total integrated cost =  2.6568714754733036\n",
      "Improved over  7  iterations in  6.138181053000153  seconds by  1.0319227129684805e-05  percent.\n",
      "Problem in initial value trasfer:  Vmean_exc -74.52058702538251 -74.52061606098563\n",
      "3.408635317642729e-07 0.0\n",
      "8.241242234202802e-09 0.0\n",
      "set cost params:  19.355 0.0 1.0\n",
      "----- 129\n",
      "interpolate adjoint :  True True True\n",
      "RUN  0 , total integrated cost =  2.6568734393622444\n",
      "Gradient descend method:  None\n",
      "RUN  1 , total integrated cost =  2.6568732391351833\n",
      "RUN  2 , total integrated cost =  2.656873238742591\n",
      "RUN  3 , total integrated cost =  2.6568732387334695\n",
      "RUN  4 , total integrated cost =  2.6568732387334086\n",
      "RUN  5 , total integrated cost =  2.656873238733406\n",
      "RUN  6 , total integrated cost =  2.656873238733405\n",
      "RUN  7 , total integrated cost =  2.6568732387334046\n"
     ]
    },
    {
     "output_type": "stream",
     "name": "stderr",
     "text": [
      "ERROR:root:Problem in initial value trasfer\n"
     ]
    },
    {
     "output_type": "stream",
     "name": "stdout",
     "text": [
      "RUN  8 , total integrated cost =  2.6568732387334046\n",
      "Control only changes marginally.\n",
      "RUN  8 , total integrated cost =  2.6568732387334046\n",
      "Improved over  8  iterations in  6.764954788999603  seconds by  7.551313387921255e-06  percent.\n",
      "Problem in initial value trasfer:  Vmean_exc -74.52080956178064 -74.52083756975563\n",
      "3.592730805808351e-07 0.0\n",
      "8.241242234202802e-09 0.0\n",
      "set cost params:  19.35 0.0 1.0\n",
      "----- 130\n",
      "interpolate adjoint :  True True True\n",
      "RUN  0 , total integrated cost =  2.6568753110400265\n",
      "Gradient descend method:  None\n",
      "RUN  1 , total integrated cost =  2.6568750906592733\n",
      "RUN  2 , total integrated cost =  2.6568750904802623\n",
      "RUN  3 , total integrated cost =  2.6568750904801988\n",
      "RUN  4 , total integrated cost =  2.656875090480187\n",
      "RUN  5 , total integrated cost =  2.6568750904801846\n"
     ]
    },
    {
     "output_type": "stream",
     "name": "stderr",
     "text": [
      "ERROR:root:Problem in initial value trasfer\n"
     ]
    },
    {
     "output_type": "stream",
     "name": "stdout",
     "text": [
      "RUN  6 , total integrated cost =  2.6568750904801846\n",
      "Control only changes marginally.\n",
      "RUN  6 , total integrated cost =  2.6568750904801846\n",
      "Improved over  6  iterations in  5.231842660999973  seconds by  8.301475091343491e-06  percent.\n",
      "Problem in initial value trasfer:  Vmean_exc -74.52102843588908 -74.52105543314863\n",
      "3.7618806918550945e-07 0.0\n",
      "8.241242234202802e-09 0.0\n",
      "set cost params:  19.345 0.0 1.0\n",
      "----- 131\n",
      "interpolate adjoint :  True True True\n",
      "RUN  0 , total integrated cost =  2.6568772601804773\n",
      "Gradient descend method:  None\n",
      "RUN  1 , total integrated cost =  2.6568770346293076\n",
      "RUN  2 , total integrated cost =  2.6568770346241184\n",
      "RUN  3 , total integrated cost =  2.65687703462403\n",
      "RUN  4 , total integrated cost =  2.656877034624029\n",
      "RUN  5 , total integrated cost =  2.656877034624028\n"
     ]
    },
    {
     "output_type": "stream",
     "name": "stderr",
     "text": [
      "ERROR:root:Problem in initial value trasfer\n"
     ]
    },
    {
     "output_type": "stream",
     "name": "stdout",
     "text": [
      "RUN  6 , total integrated cost =  2.656877034624028\n",
      "Control only changes marginally.\n",
      "RUN  6 , total integrated cost =  2.656877034624028\n",
      "Improved over  6  iterations in  5.562929554998846  seconds by  8.489532163480362e-06  percent.\n",
      "Problem in initial value trasfer:  Vmean_exc -74.52123900284711 -74.52126502775278\n",
      "3.942074166443403e-07 0.0\n",
      "8.241242234202802e-09 0.0\n",
      "set cost params:  19.34 0.0 1.0\n",
      "----- 132\n",
      "interpolate adjoint :  True True True\n",
      "RUN  0 , total integrated cost =  2.656879743163515\n",
      "Gradient descend method:  None\n",
      "RUN  1 , total integrated cost =  2.656879425737281\n",
      "RUN  2 , total integrated cost =  2.6568794253043215\n",
      "RUN  3 , total integrated cost =  2.6568794252991066\n",
      "RUN  4 , total integrated cost =  2.656879425299075\n",
      "RUN  5 , total integrated cost =  2.656879425299074\n"
     ]
    },
    {
     "output_type": "stream",
     "name": "stderr",
     "text": [
      "ERROR:root:Problem in initial value trasfer\n"
     ]
    },
    {
     "output_type": "stream",
     "name": "stdout",
     "text": [
      "RUN  6 , total integrated cost =  2.656879425299074\n",
      "Control only changes marginally.\n",
      "RUN  6 , total integrated cost =  2.656879425299074\n",
      "Improved over  6  iterations in  5.475599069999589  seconds by  1.1963824931626732e-05  percent.\n",
      "Problem in initial value trasfer:  Vmean_exc -74.5214588323786 -74.52148384215872\n",
      "4.190569849074253e-07 0.0\n",
      "8.241242234202802e-09 0.0\n",
      "set cost params:  19.335 0.0 1.0\n",
      "----- 133\n",
      "interpolate adjoint :  True True True\n",
      "RUN  0 , total integrated cost =  2.656881389773323\n",
      "Gradient descend method:  None\n",
      "RUN  1 , total integrated cost =  2.6568812172295817\n",
      "RUN  2 , total integrated cost =  2.6568812171225518\n",
      "RUN  3 , total integrated cost =  2.6568812171218976\n",
      "RUN  4 , total integrated cost =  2.656881217121769\n",
      "RUN  5 , total integrated cost =  2.6568812171217027\n",
      "RUN  6 , total integrated cost =  2.656881217121653\n",
      "RUN  7 , total integrated cost =  2.656881217121604\n",
      "RUN  8 , total integrated cost =  2.6568812171215352\n",
      "RUN  9 , total integrated cost =  2.6568812171215295\n",
      "RUN  10 , total integrated cost =  2.6568812171215277\n",
      "RUN  11 , total integrated cost =  2.6568812171215272\n"
     ]
    },
    {
     "output_type": "stream",
     "name": "stderr",
     "text": [
      "ERROR:root:Problem in initial value trasfer\n"
     ]
    },
    {
     "output_type": "stream",
     "name": "stdout",
     "text": [
      "RUN  12 , total integrated cost =  2.6568812171215272\n",
      "Control only changes marginally.\n",
      "RUN  12 , total integrated cost =  2.6568812171215272\n",
      "Improved over  12  iterations in  9.831570583002758  seconds by  6.498287675071879e-06  percent.\n",
      "Problem in initial value trasfer:  Vmean_exc -74.52165904764914 -74.52168313287895\n",
      "4.3511152600350694e-07 0.0\n",
      "8.241242234202802e-09 0.0\n",
      "set cost params:  19.330000000000002 0.0 1.0\n",
      "----- 134\n",
      "interpolate adjoint :  True True True\n",
      "RUN  0 , total integrated cost =  2.6568837123341664\n",
      "Gradient descend method:  None\n",
      "RUN  1 , total integrated cost =  2.6568834650326276\n",
      "RUN  2 , total integrated cost =  2.6568834644397983\n",
      "RUN  3 , total integrated cost =  2.6568834644397965\n",
      "RUN  4 , total integrated cost =  2.656883464439796\n"
     ]
    },
    {
     "output_type": "stream",
     "name": "stderr",
     "text": [
      "ERROR:root:Problem in initial value trasfer\n"
     ]
    },
    {
     "output_type": "stream",
     "name": "stdout",
     "text": [
      "RUN  5 , total integrated cost =  2.656883464439796\n",
      "Control only changes marginally.\n",
      "RUN  5 , total integrated cost =  2.656883464439796\n",
      "Improved over  5  iterations in  4.777981499999441  seconds by  9.330267985774299e-06  percent.\n",
      "Problem in initial value trasfer:  Vmean_exc -74.52184420511621 -74.52186743533005\n",
      "4.5825809492934565e-07 0.0\n",
      "8.241242234202802e-09 0.0\n",
      "set cost params:  19.325 0.0 1.0\n",
      "----- 135\n",
      "interpolate adjoint :  True True True\n",
      "RUN  0 , total integrated cost =  2.6568866187201126\n",
      "Gradient descend method:  None\n",
      "RUN  1 , total integrated cost =  2.656886227686883\n",
      "RUN  2 , total integrated cost =  2.656886227411531\n",
      "RUN  3 , total integrated cost =  2.6568862274106437\n",
      "RUN  4 , total integrated cost =  2.6568862274106393\n"
     ]
    },
    {
     "output_type": "stream",
     "name": "stderr",
     "text": [
      "ERROR:root:Problem in initial value trasfer\n"
     ]
    },
    {
     "output_type": "stream",
     "name": "stdout",
     "text": [
      "RUN  5 , total integrated cost =  2.6568862274106393\n",
      "Control only changes marginally.\n",
      "RUN  5 , total integrated cost =  2.6568862274106393\n",
      "Improved over  5  iterations in  4.146010878997913  seconds by  1.4728120902418596e-05  percent.\n",
      "Problem in initial value trasfer:  Vmean_exc -74.52204568407723 -74.52206798390685\n",
      "4.821776855316128e-07 0.0\n",
      "8.241242234202802e-09 0.0\n",
      "set cost params:  19.32 0.0 1.0\n",
      "----- 136\n",
      "interpolate adjoint :  True True True\n",
      "RUN  0 , total integrated cost =  2.656889011032904\n",
      "Gradient descend method:  None\n",
      "RUN  1 , total integrated cost =  2.6568887211351053\n",
      "RUN  2 , total integrated cost =  2.6568887211351035\n",
      "RUN  3 , total integrated cost =  2.6568887211351027\n"
     ]
    },
    {
     "output_type": "stream",
     "name": "stderr",
     "text": [
      "ERROR:root:Problem in initial value trasfer\n"
     ]
    },
    {
     "output_type": "stream",
     "name": "stdout",
     "text": [
      "RUN  4 , total integrated cost =  2.6568887211351027\n",
      "Control only changes marginally.\n",
      "RUN  4 , total integrated cost =  2.6568887211351027\n",
      "Improved over  4  iterations in  3.910234015998867  seconds by  1.0911174683769786e-05  percent.\n",
      "Problem in initial value trasfer:  Vmean_exc -74.52221765432762 -74.52223916003814\n",
      "5.072076946324334e-07 0.0\n",
      "8.241242234202802e-09 0.0\n",
      "set cost params:  19.315 0.0 1.0\n",
      "----- 137\n",
      "interpolate adjoint :  True True True\n",
      "RUN  0 , total integrated cost =  2.656891675453092\n",
      "Gradient descend method:  None\n",
      "RUN  1 , total integrated cost =  2.656891336359171\n",
      "RUN  2 , total integrated cost =  2.6568913353891306\n",
      "RUN  3 , total integrated cost =  2.6568913349256693\n",
      "RUN  4 , total integrated cost =  2.6568913349256684\n",
      "RUN  5 , total integrated cost =  2.656891334925667\n",
      "RUN  6 , total integrated cost =  2.6568913349256658\n"
     ]
    },
    {
     "output_type": "stream",
     "name": "stderr",
     "text": [
      "ERROR:root:Problem in initial value trasfer\n"
     ]
    },
    {
     "output_type": "stream",
     "name": "stdout",
     "text": [
      "RUN  7 , total integrated cost =  2.6568913349256658\n",
      "Control only changes marginally.\n",
      "RUN  7 , total integrated cost =  2.6568913349256658\n",
      "Improved over  7  iterations in  5.985900144001789  seconds by  1.2816759877409822e-05  percent.\n",
      "Problem in initial value trasfer:  Vmean_exc -74.52238073806765 -74.52240149069551\n",
      "5.365141334914953e-07 0.0\n",
      "8.241242234202802e-09 0.0\n",
      "set cost params:  19.31 0.0 1.0\n",
      "----- 138\n",
      "interpolate adjoint :  True True True\n",
      "RUN  0 , total integrated cost =  2.656894502634862\n",
      "Gradient descend method:  None\n",
      "RUN  1 , total integrated cost =  2.6568940785005473\n",
      "RUN  2 , total integrated cost =  2.6568940785005464\n"
     ]
    },
    {
     "output_type": "stream",
     "name": "stderr",
     "text": [
      "ERROR:root:Problem in initial value trasfer\n"
     ]
    },
    {
     "output_type": "stream",
     "name": "stdout",
     "text": [
      "RUN  3 , total integrated cost =  2.6568940785005464\n",
      "Control only changes marginally.\n",
      "RUN  3 , total integrated cost =  2.6568940785005464\n",
      "Improved over  3  iterations in  2.9380236729994067  seconds by  1.5963536199592454e-05  percent.\n",
      "Problem in initial value trasfer:  Vmean_exc -74.52254234531448 -74.52256235167827\n",
      "5.622522122646572e-07 0.0\n",
      "8.241242234202802e-09 0.0\n",
      "set cost params:  19.305 0.0 1.0\n",
      "----- 139\n",
      "interpolate adjoint :  True True True\n",
      "RUN  0 , total integrated cost =  2.6568981217688177\n",
      "Gradient descend method:  None\n",
      "RUN  1 , total integrated cost =  2.6568974618108454\n",
      "RUN  2 , total integrated cost =  2.656897460593241\n",
      "RUN  3 , total integrated cost =  2.6568974605932407\n"
     ]
    },
    {
     "output_type": "stream",
     "name": "stderr",
     "text": [
      "ERROR:root:Problem in initial value trasfer\n"
     ]
    },
    {
     "output_type": "stream",
     "name": "stdout",
     "text": [
      "RUN  4 , total integrated cost =  2.6568974605932407\n",
      "Control only changes marginally.\n",
      "RUN  4 , total integrated cost =  2.6568974605932407\n",
      "Improved over  4  iterations in  3.54675384499933  seconds by  2.4885243860239825e-05  percent.\n",
      "Problem in initial value trasfer:  Vmean_exc -74.52271702832593 -74.52273622804543\n",
      "5.901546835834326e-07 0.0\n",
      "8.241242234202802e-09 0.0\n",
      "set cost params:  19.3 0.0 1.0\n",
      "----- 140\n",
      "interpolate adjoint :  True True True\n",
      "RUN  0 , total integrated cost =  2.656900359150846\n",
      "Gradient descend method:  None\n",
      "RUN  1 , total integrated cost =  2.656900002566216\n",
      "RUN  2 , total integrated cost =  2.6569000022669838\n",
      "RUN  3 , total integrated cost =  2.656900002265698\n",
      "RUN  4 , total integrated cost =  2.656900002265685\n",
      "RUN  5 , total integrated cost =  2.656900002265683\n"
     ]
    },
    {
     "output_type": "stream",
     "name": "stderr",
     "text": [
      "ERROR:root:Problem in initial value trasfer\n"
     ]
    },
    {
     "output_type": "stream",
     "name": "stdout",
     "text": [
      "RUN  6 , total integrated cost =  2.656900002265683\n",
      "Control only changes marginally.\n",
      "RUN  6 , total integrated cost =  2.656900002265683\n",
      "Improved over  6  iterations in  5.338123010002164  seconds by  1.3432387930834011e-05  percent.\n",
      "Problem in initial value trasfer:  Vmean_exc -74.52287583971354 -74.52289430608063\n",
      "6.05747058961313e-07 0.0\n",
      "8.241242234202802e-09 0.0\n",
      "set cost params:  19.294999999999998 0.0 1.0\n",
      "----- 141\n",
      "interpolate adjoint :  True True True\n",
      "RUN  0 , total integrated cost =  2.6569036961772774\n",
      "Gradient descend method:  None\n",
      "RUN  1 , total integrated cost =  2.6569031966009624\n",
      "RUN  2 , total integrated cost =  2.6569031965998318\n",
      "RUN  3 , total integrated cost =  2.656903196599831\n",
      "RUN  4 , total integrated cost =  2.65690319659983\n"
     ]
    },
    {
     "output_type": "stream",
     "name": "stderr",
     "text": [
      "ERROR:root:Problem in initial value trasfer\n"
     ]
    },
    {
     "output_type": "stream",
     "name": "stdout",
     "text": [
      "RUN  5 , total integrated cost =  2.65690319659983\n",
      "Control only changes marginally.\n",
      "RUN  5 , total integrated cost =  2.65690319659983\n",
      "Improved over  5  iterations in  4.804953740000201  seconds by  1.880299419099174e-05  percent.\n",
      "Problem in initial value trasfer:  Vmean_exc -74.52302536682866 -74.52304314271629\n",
      "6.268554975898161e-07 0.0\n",
      "8.241242234202802e-09 0.0\n",
      "set cost params:  19.29 0.0 1.0\n",
      "----- 142\n",
      "interpolate adjoint :  True True True\n",
      "RUN  0 , total integrated cost =  2.6569070445039604\n",
      "Gradient descend method:  None\n",
      "RUN  1 , total integrated cost =  2.6569065559463607\n",
      "RUN  2 , total integrated cost =  2.656906555946358\n",
      "RUN  3 , total integrated cost =  2.6569065559463576\n"
     ]
    },
    {
     "output_type": "stream",
     "name": "stderr",
     "text": [
      "ERROR:root:Problem in initial value trasfer\n"
     ]
    },
    {
     "output_type": "stream",
     "name": "stdout",
     "text": [
      "RUN  4 , total integrated cost =  2.6569065559463576\n",
      "Control only changes marginally.\n",
      "RUN  4 , total integrated cost =  2.6569065559463576\n",
      "Improved over  4  iterations in  3.7147057699985453  seconds by  1.8388208346209467e-05  percent.\n",
      "Problem in initial value trasfer:  Vmean_exc -74.52316806864481 -74.52318518557094\n",
      "6.510048095519988e-07 0.0\n",
      "8.241242234202802e-09 0.0\n",
      "set cost params:  19.285 0.0 1.0\n",
      "----- 143\n",
      "interpolate adjoint :  True True True\n",
      "RUN  0 , total integrated cost =  2.6569113750619393\n",
      "Gradient descend method:  None\n",
      "RUN  1 , total integrated cost =  2.6569106965752276\n",
      "RUN  2 , total integrated cost =  2.656910696107307\n",
      "RUN  3 , total integrated cost =  2.65691069610528\n",
      "RUN  4 , total integrated cost =  2.656910696105277\n",
      "RUN  5 , total integrated cost =  2.6569106961052755\n"
     ]
    },
    {
     "output_type": "stream",
     "name": "stderr",
     "text": [
      "ERROR:root:Problem in initial value trasfer\n"
     ]
    },
    {
     "output_type": "stream",
     "name": "stdout",
     "text": [
      "RUN  6 , total integrated cost =  2.6569106961052755\n",
      "Control only changes marginally.\n",
      "RUN  6 , total integrated cost =  2.6569106961052755\n",
      "Improved over  6  iterations in  5.6589804610011925  seconds by  2.555435872864109e-05  percent.\n",
      "Problem in initial value trasfer:  Vmean_exc -74.52331694794988 -74.52333337738884\n",
      "6.858827112966123e-07 0.0\n",
      "8.241242234202802e-09 0.0\n",
      "set cost params:  19.28 0.0 1.0\n",
      "----- 144\n",
      "interpolate adjoint :  True True True\n",
      "RUN  0 , total integrated cost =  2.6569149602348108\n",
      "Gradient descend method:  None\n",
      "RUN  1 , total integrated cost =  2.656914441819177\n",
      "RUN  2 , total integrated cost =  2.6569144416800783\n",
      "RUN  3 , total integrated cost =  2.656914441677755\n",
      "RUN  4 , total integrated cost =  2.6569144416777513\n",
      "RUN  5 , total integrated cost =  2.656914441677751\n"
     ]
    },
    {
     "output_type": "stream",
     "name": "stderr",
     "text": [
      "ERROR:root:Problem in initial value trasfer\n"
     ]
    },
    {
     "output_type": "stream",
     "name": "stdout",
     "text": [
      "RUN  6 , total integrated cost =  2.656914441677751\n",
      "Control only changes marginally.\n",
      "RUN  6 , total integrated cost =  2.656914441677751\n",
      "Improved over  6  iterations in  5.1585651699970185  seconds by  1.9517262231261157e-05  percent.\n",
      "Problem in initial value trasfer:  Vmean_exc -74.52344789235838 -74.52346371712935\n",
      "7.148088883929977e-07 0.0\n",
      "8.241242234202802e-09 0.0\n",
      "set cost params:  19.275 0.0 1.0\n",
      "----- 145\n",
      "interpolate adjoint :  True True True\n",
      "RUN  0 , total integrated cost =  2.6569189028782523\n",
      "Gradient descend method:  None\n",
      "RUN  1 , total integrated cost =  2.6569183796102505\n",
      "RUN  2 , total integrated cost =  2.6569183789722133\n",
      "RUN  3 , total integrated cost =  2.656918378929571\n",
      "RUN  4 , total integrated cost =  2.656918378929283\n",
      "RUN  5 , total integrated cost =  2.6569183789292805\n"
     ]
    },
    {
     "output_type": "stream",
     "name": "stderr",
     "text": [
      "ERROR:root:Problem in initial value trasfer\n"
     ]
    },
    {
     "output_type": "stream",
     "name": "stdout",
     "text": [
      "RUN  6 , total integrated cost =  2.6569183789292805\n",
      "Control only changes marginally.\n",
      "RUN  6 , total integrated cost =  2.6569183789292805\n",
      "Improved over  6  iterations in  5.185267221000686  seconds by  1.972017177820362e-05  percent.\n",
      "Problem in initial value trasfer:  Vmean_exc -74.52357312451664 -74.52358837099767\n",
      "7.471919851029036e-07 0.0\n",
      "8.241242234202802e-09 0.0\n",
      "set cost params:  19.27 0.0 1.0\n",
      "----- 146\n",
      "interpolate adjoint :  True True True\n",
      "RUN  0 , total integrated cost =  2.6569221780935375\n",
      "Gradient descend method:  None\n",
      "RUN  1 , total integrated cost =  2.656921812925868\n",
      "RUN  2 , total integrated cost =  2.6569218122595557\n",
      "RUN  3 , total integrated cost =  2.656921812257239\n",
      "RUN  4 , total integrated cost =  2.65692181225721\n",
      "RUN  5 , total integrated cost =  2.6569218122572096\n",
      "RUN  6 , total integrated cost =  2.656921812257208\n"
     ]
    },
    {
     "output_type": "stream",
     "name": "stderr",
     "text": [
      "ERROR:root:Problem in initial value trasfer\n"
     ]
    },
    {
     "output_type": "stream",
     "name": "stdout",
     "text": [
      "RUN  7 , total integrated cost =  2.656921812257208\n",
      "Control only changes marginally.\n",
      "RUN  7 , total integrated cost =  2.656921812257208\n",
      "Improved over  7  iterations in  5.731581879997975  seconds by  1.3769177471090188e-05  percent.\n",
      "Problem in initial value trasfer:  Vmean_exc -74.52369522851308 -74.52370991114948\n",
      "7.776521412106952e-07 0.0\n",
      "8.241242234202802e-09 0.0\n",
      "set cost params:  19.265 0.0 1.0\n",
      "----- 147\n",
      "interpolate adjoint :  True True True\n",
      "RUN  0 , total integrated cost =  2.656927644588866\n",
      "Gradient descend method:  None\n",
      "RUN  1 , total integrated cost =  2.6569268668166623\n",
      "RUN  2 , total integrated cost =  2.656926866816662\n"
     ]
    },
    {
     "output_type": "stream",
     "name": "stderr",
     "text": [
      "ERROR:root:Problem in initial value trasfer\n"
     ]
    },
    {
     "output_type": "stream",
     "name": "stdout",
     "text": [
      "RUN  3 , total integrated cost =  2.656926866816662\n",
      "Control only changes marginally.\n",
      "RUN  3 , total integrated cost =  2.656926866816662\n",
      "Improved over  3  iterations in  2.8564762650021294  seconds by  2.9273367886162305e-05  percent.\n",
      "Problem in initial value trasfer:  Vmean_exc -74.52382343875028 -74.52383752934534\n",
      "8.190276517883787e-07 0.0\n",
      "8.241242234202802e-09 0.0\n",
      "set cost params:  19.259999999999998 0.0 1.0\n",
      "----- 148\n",
      "interpolate adjoint :  True True True\n",
      "RUN  0 , total integrated cost =  2.6569320071104543\n",
      "Gradient descend method:  None\n",
      "RUN  1 , total integrated cost =  2.6569314366653374\n",
      "RUN  2 , total integrated cost =  2.6569314366653365\n"
     ]
    },
    {
     "output_type": "stream",
     "name": "stderr",
     "text": [
      "ERROR:root:Problem in initial value trasfer\n"
     ]
    },
    {
     "output_type": "stream",
     "name": "stdout",
     "text": [
      "RUN  3 , total integrated cost =  2.6569314366653365\n",
      "Control only changes marginally.\n",
      "RUN  3 , total integrated cost =  2.6569314366653365\n",
      "Improved over  3  iterations in  2.936874410999735  seconds by  2.147006834718468e-05  percent.\n",
      "Problem in initial value trasfer:  Vmean_exc -74.52393432731103 -74.52394790585197\n",
      "8.584996071650227e-07 0.0\n",
      "8.241242234202802e-09 0.0\n",
      "set cost params:  19.255000000000003 0.0 1.0\n",
      "----- 149\n",
      "interpolate adjoint :  True True True\n",
      "RUN  0 , total integrated cost =  2.656936823442758\n",
      "Gradient descend method:  None\n",
      "RUN  1 , total integrated cost =  2.656936237828068\n",
      "RUN  2 , total integrated cost =  2.6569362375300916\n",
      "RUN  3 , total integrated cost =  2.6569362363164934\n",
      "RUN  4 , total integrated cost =  2.6569362363074687\n",
      "RUN  5 , total integrated cost =  2.656936236307354\n",
      "RUN  6 , total integrated cost =  2.6569362363073505\n"
     ]
    },
    {
     "output_type": "stream",
     "name": "stderr",
     "text": [
      "ERROR:root:Problem in initial value trasfer\n"
     ]
    },
    {
     "output_type": "stream",
     "name": "stdout",
     "text": [
      "RUN  7 , total integrated cost =  2.6569362363073505\n",
      "Control only changes marginally.\n",
      "RUN  7 , total integrated cost =  2.6569362363073505\n",
      "Improved over  7  iterations in  5.993034184000862  seconds by  2.2098207310250473e-05  percent.\n",
      "Problem in initial value trasfer:  Vmean_exc -74.52404084302142 -74.52405392970115\n",
      "9.01085418988173e-07 0.0\n",
      "8.241242234202802e-09 0.0\n",
      "set cost params:  19.25 0.0 1.0\n",
      "----- 150\n",
      "interpolate adjoint :  True True True\n",
      "RUN  0 , total integrated cost =  2.6569418834080123\n",
      "Gradient descend method:  None\n",
      "RUN  1 , total integrated cost =  2.6569412799073278\n",
      "RUN  2 , total integrated cost =  2.656941279056082\n",
      "RUN  3 , total integrated cost =  2.656941278985772\n",
      "RUN  4 , total integrated cost =  2.656941278983391\n",
      "RUN  5 , total integrated cost =  2.656941278983389\n"
     ]
    },
    {
     "output_type": "stream",
     "name": "stderr",
     "text": [
      "ERROR:root:Problem in initial value trasfer\n"
     ]
    },
    {
     "output_type": "stream",
     "name": "stdout",
     "text": [
      "RUN  6 , total integrated cost =  2.656941278983389\n",
      "Control only changes marginally.\n",
      "RUN  6 , total integrated cost =  2.656941278983389\n",
      "Improved over  6  iterations in  5.328055215999484  seconds by  2.274888385045415e-05  percent.\n",
      "Problem in initial value trasfer:  Vmean_exc -74.524143346696 -74.52415596004123\n",
      "9.46391027520816e-07 0.0\n",
      "8.241242234202802e-09 0.0\n",
      "set cost params:  19.244999999999997 0.0 1.0\n",
      "----- 151\n",
      "interpolate adjoint :  True True True\n",
      "RUN  0 , total integrated cost =  2.6569471972212253\n",
      "Gradient descend method:  None\n",
      "RUN  1 , total integrated cost =  2.6569465784723705\n",
      "RUN  2 , total integrated cost =  2.656946577917664\n",
      "RUN  3 , total integrated cost =  2.6569465779171098\n",
      "RUN  4 , total integrated cost =  2.6569465779171075\n",
      "RUN  5 , total integrated cost =  2.656946577917107\n"
     ]
    },
    {
     "output_type": "stream",
     "name": "stderr",
     "text": [
      "ERROR:root:Problem in initial value trasfer\n"
     ]
    },
    {
     "output_type": "stream",
     "name": "stdout",
     "text": [
      "RUN  6 , total integrated cost =  2.656946577917107\n",
      "Control only changes marginally.\n",
      "RUN  6 , total integrated cost =  2.656946577917107\n",
      "Improved over  6  iterations in  5.445601250001346  seconds by  2.3308860590987024e-05  percent.\n",
      "Problem in initial value trasfer:  Vmean_exc -74.52424176227231 -74.52425392116096\n",
      "9.95456924501175e-07 0.0\n",
      "8.241242234202802e-09 0.0\n",
      "set cost params:  19.240000000000002 0.0 1.0\n",
      "----- 152\n",
      "interpolate adjoint :  True True True\n",
      "RUN  0 , total integrated cost =  2.656954022863616\n",
      "Gradient descend method:  None\n",
      "RUN  1 , total integrated cost =  2.6569530967124644\n",
      "RUN  2 , total integrated cost =  2.6569530967123702\n",
      "RUN  3 , total integrated cost =  2.6569530967123556\n",
      "RUN  4 , total integrated cost =  2.6569530967123547\n"
     ]
    },
    {
     "output_type": "stream",
     "name": "stderr",
     "text": [
      "ERROR:root:Problem in initial value trasfer\n"
     ]
    },
    {
     "output_type": "stream",
     "name": "stdout",
     "text": [
      "RUN  5 , total integrated cost =  2.6569530967123547\n",
      "Control only changes marginally.\n",
      "RUN  5 , total integrated cost =  2.6569530967123547\n",
      "Improved over  5  iterations in  4.95949636700243  seconds by  3.485763221533489e-05  percent.\n",
      "Problem in initial value trasfer:  Vmean_exc -74.52434493249062 -74.52435661496726\n",
      "1.0615347592462127e-06 0.0\n",
      "8.241242234202802e-09 0.0\n",
      "set cost params:  19.235 0.0 1.0\n",
      "----- 153\n",
      "interpolate adjoint :  True True True\n",
      "RUN  0 , total integrated cost =  2.6569584779148867\n",
      "Gradient descend method:  None\n",
      "RUN  1 , total integrated cost =  2.656957983577204\n",
      "RUN  2 , total integrated cost =  2.6569579825537795\n",
      "RUN  3 , total integrated cost =  2.6569579824076412\n",
      "RUN  4 , total integrated cost =  2.656957982407641\n",
      "RUN  5 , total integrated cost =  2.6569579824076386\n",
      "RUN  6 , total integrated cost =  2.656957982407638\n"
     ]
    },
    {
     "output_type": "stream",
     "name": "stderr",
     "text": [
      "ERROR:root:Problem in initial value trasfer\n"
     ]
    },
    {
     "output_type": "stream",
     "name": "stdout",
     "text": [
      "RUN  7 , total integrated cost =  2.656957982407638\n",
      "Control only changes marginally.\n",
      "RUN  7 , total integrated cost =  2.656957982407638\n",
      "Improved over  7  iterations in  6.257126934000553  seconds by  1.8649416347216174e-05  percent.\n",
      "Problem in initial value trasfer:  Vmean_exc -74.52443865896541 -74.52444990863886\n",
      "1.1045012599967096e-06 0.0\n",
      "8.241242234202802e-09 0.0\n",
      "set cost params:  19.23 0.0 1.0\n",
      "----- 154\n",
      "interpolate adjoint :  True True True\n",
      "RUN  0 , total integrated cost =  2.6569649238926076\n",
      "Gradient descend method:  None\n",
      "RUN  1 , total integrated cost =  2.6569641136105484\n",
      "RUN  2 , total integrated cost =  2.6569641080521564\n",
      "RUN  3 , total integrated cost =  2.6569641029201096\n",
      "RUN  4 , total integrated cost =  2.656964102920108\n",
      "RUN  5 , total integrated cost =  2.656964102920107\n"
     ]
    },
    {
     "output_type": "stream",
     "name": "stderr",
     "text": [
      "ERROR:root:Problem in initial value trasfer\n"
     ]
    },
    {
     "output_type": "stream",
     "name": "stdout",
     "text": [
      "RUN  6 , total integrated cost =  2.656964102920107\n",
      "Control only changes marginally.\n",
      "RUN  6 , total integrated cost =  2.656964102920107\n",
      "Improved over  6  iterations in  5.965370654001163  seconds by  3.089888366503146e-05  percent.\n",
      "Problem in initial value trasfer:  Vmean_exc -74.52452560225456 -74.52453645044785\n",
      "1.1656357492237737e-06 0.0\n",
      "8.241242234202802e-09 0.0\n",
      "set cost params:  19.225 0.0 1.0\n",
      "----- 155\n",
      "interpolate adjoint :  True True True\n",
      "RUN  0 , total integrated cost =  2.6569714949964838\n",
      "Gradient descend method:  None\n",
      "RUN  1 , total integrated cost =  2.656970537368765\n",
      "RUN  2 , total integrated cost =  2.65697053637958\n",
      "RUN  3 , total integrated cost =  2.656970536220082\n",
      "RUN  4 , total integrated cost =  2.656970536218446\n",
      "RUN  5 , total integrated cost =  2.6569705362184455\n"
     ]
    },
    {
     "output_type": "stream",
     "name": "stderr",
     "text": [
      "ERROR:root:Problem in initial value trasfer\n"
     ]
    },
    {
     "output_type": "stream",
     "name": "stdout",
     "text": [
      "RUN  6 , total integrated cost =  2.6569705362184455\n",
      "Control only changes marginally.\n",
      "RUN  6 , total integrated cost =  2.6569705362184455\n",
      "Improved over  6  iterations in  5.7157149199993  seconds by  3.608537163302117e-05  percent.\n",
      "Problem in initial value trasfer:  Vmean_exc -74.52460968279604 -74.52462014272871\n",
      "1.228610690022202e-06 0.0\n",
      "8.241242234202802e-09 0.0\n",
      "set cost params:  19.22 0.0 1.0\n",
      "----- 156\n",
      "interpolate adjoint :  True True True\n",
      "RUN  0 , total integrated cost =  2.6569784201243927\n",
      "Gradient descend method:  None\n",
      "RUN  1 , total integrated cost =  2.6569772879556277\n",
      "RUN  2 , total integrated cost =  2.6569772869326735\n",
      "RUN  3 , total integrated cost =  2.6569772868859687\n",
      "RUN  4 , total integrated cost =  2.656977286885847\n",
      "RUN  5 , total integrated cost =  2.6569772868858412\n",
      "RUN  6 , total integrated cost =  2.6569772868858403\n"
     ]
    },
    {
     "output_type": "stream",
     "name": "stderr",
     "text": [
      "ERROR:root:Problem in initial value trasfer\n"
     ]
    },
    {
     "output_type": "stream",
     "name": "stdout",
     "text": [
      "RUN  7 , total integrated cost =  2.6569772868858403\n",
      "Control only changes marginally.\n",
      "RUN  7 , total integrated cost =  2.6569772868858403\n",
      "Improved over  7  iterations in  6.75863254000069  seconds by  4.265140219672503e-05  percent.\n",
      "Problem in initial value trasfer:  Vmean_exc -74.52469049654796 -74.52470058330526\n",
      "1.2962303272421646e-06 0.0\n",
      "8.241242234202802e-09 0.0\n",
      "set cost params:  19.215 0.0 1.0\n",
      "----- 157\n",
      "interpolate adjoint :  True True True\n",
      "RUN  0 , total integrated cost =  2.6569857276092064\n",
      "Gradient descend method:  None\n",
      "RUN  1 , total integrated cost =  2.656984390774672\n",
      "RUN  2 , total integrated cost =  2.656984389374079\n",
      "RUN  3 , total integrated cost =  2.6569843890964244\n",
      "RUN  4 , total integrated cost =  2.6569843890929494\n",
      "RUN  5 , total integrated cost =  2.6569843890920857\n",
      "RUN  6 , total integrated cost =  2.6569843890917917\n",
      "RUN  7 , total integrated cost =  2.6569843890916576\n",
      "RUN  8 , total integrated cost =  2.656984389091582\n",
      "RUN  9 , total integrated cost =  2.656984389091535\n",
      "RUN  10 , total integrated cost =  2.6569843890915004\n",
      "RUN  11 , total integrated cost =  2.656984389091472\n",
      "RUN  12 , total integrated cost =  2.6569843890914453\n",
      "RUN  13 , total integrated cost =  2.65698438909142\n",
      "RUN  14 , total integrated cost =  2.6569843890913973\n",
      "RUN  15 , total integrated cost =  2.656984389091367\n",
      "RUN  16 , total integrated cost =  2.656984389091329\n",
      "RUN  17 , total integrated cost =  2.6569843890912868\n",
      "RUN  18 , total integrated cost =  2.656984389091226\n",
      "RUN  19 , total integrated cost =  2.656984389091143\n",
      "RUN  20 , total integrated cost =  2.6569843890910176\n"
     ]
    },
    {
     "output_type": "stream",
     "name": "stderr",
     "text": [
      "ERROR:root:Problem in initial value trasfer\n"
     ]
    },
    {
     "output_type": "stream",
     "name": "stdout",
     "text": [
      "Control only changes marginally.\n",
      "RUN  25 , total integrated cost =  2.656984389090813\n",
      "Improved over  25  iterations in  22.10043776100065  seconds by  5.037732718449206e-05  percent.\n",
      "Problem in initial value trasfer:  Vmean_exc -74.52477340348744 -74.52478310740375\n",
      "1.3360682965542083e-06 0.0\n",
      "8.241242234202802e-09 0.0\n",
      "set cost params:  19.21 0.0 1.0\n",
      "----- 158\n",
      "interpolate adjoint :  True True True\n",
      "RUN  0 , total integrated cost =  2.6569949276685327\n",
      "Gradient descend method:  None\n",
      "RUN  1 , total integrated cost =  2.6569931497384167\n",
      "RUN  2 , total integrated cost =  2.656993141960789\n",
      "RUN  3 , total integrated cost =  2.6569931380302507\n",
      "RUN  4 , total integrated cost =  2.6569931380201735\n",
      "RUN  5 , total integrated cost =  2.656993138019468\n",
      "RUN  6 , total integrated cost =  2.656993138019371\n",
      "RUN  7 , total integrated cost =  2.6569931380193563\n"
     ]
    },
    {
     "output_type": "stream",
     "name": "stderr",
     "text": [
      "ERROR:root:Problem in initial value trasfer\n"
     ]
    },
    {
     "output_type": "stream",
     "name": "stdout",
     "text": [
      "RUN  8 , total integrated cost =  2.6569931380193563\n",
      "Control only changes marginally.\n",
      "RUN  8 , total integrated cost =  2.6569931380193563\n",
      "Improved over  8  iterations in  7.4937170119992516  seconds by  6.73561382313892e-05  percent.\n",
      "Problem in initial value trasfer:  Vmean_exc -74.52485947168839 -74.52486877816602\n",
      "1.3990035632705967e-06 0.0\n",
      "8.241242234202802e-09 0.0\n",
      "set cost params:  19.205000000000002 0.0 1.0\n",
      "----- 159\n",
      "interpolate adjoint :  True True True\n",
      "RUN  0 , total integrated cost =  2.657002402883497\n",
      "Gradient descend method:  None\n",
      "RUN  1 , total integrated cost =  2.6570010752782953\n",
      "RUN  2 , total integrated cost =  2.6570010728512123\n",
      "RUN  3 , total integrated cost =  2.6570010717117527\n",
      "RUN  4 , total integrated cost =  2.6570010717099906\n",
      "RUN  5 , total integrated cost =  2.6570010717098342\n",
      "RUN  6 , total integrated cost =  2.6570010717098174\n",
      "RUN  7 , total integrated cost =  2.6570010717098165\n",
      "RUN  8 , total integrated cost =  2.6570010717098156\n",
      "RUN  9 , total integrated cost =  2.657001071709814\n"
     ]
    },
    {
     "output_type": "stream",
     "name": "stderr",
     "text": [
      "ERROR:root:Problem in initial value trasfer\n"
     ]
    },
    {
     "output_type": "stream",
     "name": "stdout",
     "text": [
      "RUN  10 , total integrated cost =  2.657001071709814\n",
      "Control only changes marginally.\n",
      "RUN  10 , total integrated cost =  2.657001071709814\n",
      "Improved over  10  iterations in  9.724712395000097  seconds by  5.010058259813377e-05  percent.\n",
      "Problem in initial value trasfer:  Vmean_exc -74.5249352218509 -74.52494417853576\n",
      "1.4485975664714779e-06 0.0\n",
      "8.241242234202802e-09 0.0\n",
      "set cost params:  19.2 0.0 1.0\n",
      "----- 160\n",
      "interpolate adjoint :  True True True\n",
      "RUN  0 , total integrated cost =  2.6570088813659813\n",
      "Gradient descend method:  None\n",
      "RUN  1 , total integrated cost =  2.6570079982272388\n",
      "RUN  2 , total integrated cost =  2.65700799725282\n",
      "RUN  3 , total integrated cost =  2.657007997247335\n",
      "RUN  4 , total integrated cost =  2.65700799724725\n",
      "RUN  5 , total integrated cost =  2.6570079972472462\n"
     ]
    },
    {
     "output_type": "stream",
     "name": "stderr",
     "text": [
      "ERROR:root:Problem in initial value trasfer\n"
     ]
    },
    {
     "output_type": "stream",
     "name": "stdout",
     "text": [
      "RUN  6 , total integrated cost =  2.6570079972472462\n",
      "Control only changes marginally.\n",
      "RUN  6 , total integrated cost =  2.6570079972472462\n",
      "Improved over  6  iterations in  5.417605818001903  seconds by  3.327496348504155e-05  percent.\n",
      "Problem in initial value trasfer:  Vmean_exc -74.52500745419931 -74.52501607733579\n",
      "1.506056033258247e-06 0.0\n",
      "8.241242234202802e-09 0.0\n",
      "set cost params:  19.195 0.0 1.0\n",
      "----- 161\n",
      "interpolate adjoint :  True True True\n",
      "RUN  0 , total integrated cost =  2.657018086446999\n",
      "Gradient descend method:  None\n",
      "RUN  1 , total integrated cost =  2.6570167144540675\n",
      "RUN  2 , total integrated cost =  2.6570167095390484\n",
      "RUN  3 , total integrated cost =  2.657016709539047\n"
     ]
    },
    {
     "output_type": "stream",
     "name": "stderr",
     "text": [
      "ERROR:root:Problem in initial value trasfer\n"
     ]
    },
    {
     "output_type": "stream",
     "name": "stdout",
     "text": [
      "RUN  4 , total integrated cost =  2.657016709539047\n",
      "Control only changes marginally.\n",
      "RUN  4 , total integrated cost =  2.657016709539047\n",
      "Improved over  4  iterations in  3.899933939002949  seconds by  5.1821549845953996e-05  percent.\n",
      "Problem in initial value trasfer:  Vmean_exc -74.52507549869792 -74.52508380762437\n",
      "1.580441964966627e-06 0.0\n",
      "8.241242234202802e-09 0.0\n",
      "set cost params:  19.19 0.0 1.0\n",
      "----- 162\n",
      "interpolate adjoint :  True True True\n",
      "RUN  0 , total integrated cost =  2.6570273522308208\n",
      "Gradient descend method:  None\n",
      "RUN  1 , total integrated cost =  2.657025874570004\n",
      "RUN  2 , total integrated cost =  2.6570258745700026\n",
      "RUN  3 , total integrated cost =  2.657025874570002\n"
     ]
    },
    {
     "output_type": "stream",
     "name": "stderr",
     "text": [
      "ERROR:root:Problem in initial value trasfer\n"
     ]
    },
    {
     "output_type": "stream",
     "name": "stdout",
     "text": [
      "RUN  4 , total integrated cost =  2.657025874570002\n",
      "Control only changes marginally.\n",
      "RUN  4 , total integrated cost =  2.657025874570002\n",
      "Improved over  4  iterations in  4.143560723001428  seconds by  5.5613308518331905e-05  percent.\n",
      "Problem in initial value trasfer:  Vmean_exc -74.52514168677851 -74.52514969006748\n",
      "1.6528535563038303e-06 0.0\n",
      "8.241242234202802e-09 0.0\n",
      "set cost params:  19.185 0.0 1.0\n",
      "----- 163\n",
      "interpolate adjoint :  True True True\n",
      "RUN  0 , total integrated cost =  2.6570370424925422\n",
      "Gradient descend method:  None\n",
      "RUN  1 , total integrated cost =  2.657035512872152\n",
      "RUN  2 , total integrated cost =  2.6570355128687098\n",
      "RUN  3 , total integrated cost =  2.65703551286774\n",
      "RUN  4 , total integrated cost =  2.657035512867486\n",
      "RUN  5 , total integrated cost =  2.6570355128674734\n",
      "RUN  6 , total integrated cost =  2.6570355128674703\n",
      "RUN  7 , total integrated cost =  2.65703551286747\n"
     ]
    },
    {
     "output_type": "stream",
     "name": "stderr",
     "text": [
      "ERROR:root:Problem in initial value trasfer\n"
     ]
    },
    {
     "output_type": "stream",
     "name": "stdout",
     "text": [
      "RUN  8 , total integrated cost =  2.65703551286747\n",
      "Control only changes marginally.\n",
      "RUN  8 , total integrated cost =  2.65703551286747\n",
      "Improved over  8  iterations in  7.41133704800086  seconds by  5.7568827529053124e-05  percent.\n",
      "Problem in initial value trasfer:  Vmean_exc -74.52520567645567 -74.52521338425878\n",
      "1.7264582860169258e-06 0.0\n",
      "8.241242234202802e-09 0.0\n",
      "set cost params:  19.18 0.0 1.0\n",
      "----- 164\n",
      "interpolate adjoint :  True True True\n",
      "RUN  0 , total integrated cost =  2.6570495232446936\n",
      "Gradient descend method:  None\n",
      "RUN  1 , total integrated cost =  2.6570473900305296\n",
      "RUN  2 , total integrated cost =  2.6570473756575437\n",
      "RUN  3 , total integrated cost =  2.6570473666580847\n",
      "RUN  4 , total integrated cost =  2.6570473666577104\n",
      "RUN  5 , total integrated cost =  2.6570473666576726\n",
      "RUN  6 , total integrated cost =  2.6570473666576695\n"
     ]
    },
    {
     "output_type": "stream",
     "name": "stderr",
     "text": [
      "ERROR:root:Problem in initial value trasfer\n"
     ]
    },
    {
     "output_type": "stream",
     "name": "stdout",
     "text": [
      "RUN  7 , total integrated cost =  2.6570473666576695\n",
      "Control only changes marginally.\n",
      "RUN  7 , total integrated cost =  2.6570473666576695\n",
      "Improved over  7  iterations in  6.722597934000078  seconds by  8.116472821484422e-05  percent.\n",
      "Problem in initial value trasfer:  Vmean_exc -74.52527302332861 -74.52528042014343\n",
      "1.8245265693081923e-06 0.0\n",
      "8.241242234202802e-09 0.0\n",
      "set cost params:  19.175 0.0 1.0\n",
      "----- 165\n",
      "interpolate adjoint :  True True True\n",
      "RUN  0 , total integrated cost =  2.6570597373711564\n",
      "Gradient descend method:  None\n",
      "RUN  1 , total integrated cost =  2.657058116863994\n"
     ]
    },
    {
     "output_type": "stream",
     "name": "stderr",
     "text": [
      "ERROR:root:Problem in initial value trasfer\n"
     ]
    },
    {
     "output_type": "stream",
     "name": "stdout",
     "text": [
      "RUN  2 , total integrated cost =  2.657058116863994\n",
      "Control only changes marginally.\n",
      "RUN  2 , total integrated cost =  2.657058116863994\n",
      "Improved over  2  iterations in  2.0914232909999555  seconds by  6.09887365214945e-05  percent.\n",
      "Problem in initial value trasfer:  Vmean_exc -74.52533225070249 -74.52533937402254\n",
      "1.9054171547960009e-06 0.0\n",
      "8.241242234202802e-09 0.0\n",
      "set cost params:  19.169999999999998 0.0 1.0\n",
      "----- 166\n",
      "interpolate adjoint :  True True True\n",
      "RUN  0 , total integrated cost =  2.6570710346846123\n",
      "Gradient descend method:  None\n",
      "RUN  1 , total integrated cost =  2.6570694161569004\n",
      "RUN  2 , total integrated cost =  2.6570694161569\n"
     ]
    },
    {
     "output_type": "stream",
     "name": "stderr",
     "text": [
      "ERROR:root:Problem in initial value trasfer\n"
     ]
    },
    {
     "output_type": "stream",
     "name": "stdout",
     "text": [
      "RUN  3 , total integrated cost =  2.6570694161569\n",
      "Control only changes marginally.\n",
      "RUN  3 , total integrated cost =  2.6570694161569\n",
      "Improved over  3  iterations in  3.2383815650027827  seconds by  6.091397976604185e-05  percent.\n",
      "Problem in initial value trasfer:  Vmean_exc -74.52538864882766 -74.52539551171769\n",
      "1.9994067549519244e-06 0.0\n",
      "8.241242234202802e-09 0.0\n",
      "set cost params:  19.165 0.0 1.0\n",
      "----- 167\n",
      "interpolate adjoint :  True True True\n",
      "RUN  0 , total integrated cost =  2.657080415416838\n",
      "Gradient descend method:  None\n",
      "RUN  1 , total integrated cost =  2.6570792706433815\n",
      "RUN  2 , total integrated cost =  2.6570792691708975\n",
      "RUN  3 , total integrated cost =  2.6570792690569394\n",
      "RUN  4 , total integrated cost =  2.6570792690487735\n",
      "RUN  5 , total integrated cost =  2.6570792690361547\n",
      "RUN  6 , total integrated cost =  2.6570792688750853\n",
      "RUN  7 , total integrated cost =  2.65707926751093\n",
      "RUN  8 , total integrated cost =  2.65707926723378\n",
      "RUN  9 , total integrated cost =  2.657079267220801\n",
      "RUN  10 , total integrated cost =  2.657079267208572\n",
      "RUN  11 , total integrated cost =  2.657079267085495\n",
      "RUN  12 , total integrated cost =  2.6570792656535356\n",
      "RUN  13 , total integrated cost =  2.6570792652935884\n",
      "RUN  14 , total integrated cost =  2.6570792652856254\n",
      "RUN  15 , total integrated cost =  2.6570792652688078\n",
      "RUN  16 , total integrated cost =  2.6570792648121264\n",
      "RUN  17 , total integrated cost =  2.657079263435974\n",
      "RUN  18 , total integrated cost =  2.6570792632181575\n",
      "RUN  19 , total integrated cost =  2.657079263210331\n",
      "RUN  20 , total integrated cost =  2.657079263191146\n"
     ]
    },
    {
     "output_type": "stream",
     "name": "stderr",
     "text": [
      "ERROR:root:Problem in initial value trasfer\n"
     ]
    },
    {
     "output_type": "stream",
     "name": "stdout",
     "text": [
      "RUN  30 , total integrated cost =  2.6570792591831074\n",
      "RUN  30 , total integrated cost =  2.6570792591831074\n",
      "Improved over  30  iterations in  28.69134212100107  seconds by  4.351519524448122e-05  percent.\n",
      "Problem in initial value trasfer:  Vmean_exc -74.52544484696857 -74.52545145035211\n",
      "2.0685635025539523e-06 0.0\n",
      "8.241242234202802e-09 0.0\n",
      "set cost params:  19.16 0.0 1.0\n",
      "----- 168\n",
      "interpolate adjoint :  True True True\n",
      "RUN  0 , total integrated cost =  2.6570932499507336\n",
      "Gradient descend method:  None\n",
      "RUN  1 , total integrated cost =  2.657091634055839\n",
      "RUN  2 , total integrated cost =  2.6570916339823563\n",
      "RUN  3 , total integrated cost =  2.657091618827553\n",
      "RUN  4 , total integrated cost =  2.6570916102133078\n",
      "RUN  5 , total integrated cost =  2.6570916101719666\n",
      "RUN  6 , total integrated cost =  2.657091610083469\n",
      "RUN  7 , total integrated cost =  2.6570916058669813\n",
      "RUN  8 , total integrated cost =  2.657091603802518\n",
      "RUN  9 , total integrated cost =  2.6570916037600556\n",
      "RUN  10 , total integrated cost =  2.6570916036755947\n",
      "RUN  11 , total integrated cost =  2.657091599610207\n",
      "RUN  12 , total integrated cost =  2.6570915973982214\n",
      "RUN  13 , total integrated cost =  2.6570915973549285\n",
      "RUN  14 , total integrated cost =  2.6570915972728235\n",
      "RUN  15 , total integrated cost =  2.657091590500439\n",
      "RUN  16 , total integrated cost =  2.6570915870065184\n",
      "RUN  17 , total integrated cost =  2.657091586962495\n",
      "RUN  18 , total integrated cost =  2.6570915868817453\n",
      "RUN  19 , total integrated cost =  2.657091580242971\n",
      "RUN  20 , total integrated cost =  2.6570915766311245\n"
     ]
    },
    {
     "output_type": "stream",
     "name": "stderr",
     "text": [
      "ERROR:root:Problem in initial value trasfer\n"
     ]
    },
    {
     "output_type": "stream",
     "name": "stdout",
     "text": [
      "RUN  30 , total integrated cost =  2.657091555862669\n",
      "RUN  30 , total integrated cost =  2.657091555862669\n",
      "Improved over  30  iterations in  26.670276640998054  seconds by  6.37571927342151e-05  percent.\n",
      "Problem in initial value trasfer:  Vmean_exc -74.52549708951406 -74.5255034516569\n",
      "2.1714534072984215e-06 0.0\n",
      "8.241242234202802e-09 0.0\n",
      "set cost params:  19.155 0.0 1.0\n",
      "----- 169\n",
      "interpolate adjoint :  True True True\n",
      "RUN  0 , total integrated cost =  2.6571062052888643\n",
      "Gradient descend method:  None\n",
      "RUN  1 , total integrated cost =  2.6571045670331643\n",
      "RUN  2 , total integrated cost =  2.6571045645346905\n",
      "RUN  3 , total integrated cost =  2.657104564507636\n",
      "RUN  4 , total integrated cost =  2.657104564503286\n",
      "RUN  5 , total integrated cost =  2.657104564499729\n",
      "RUN  6 , total integrated cost =  2.657104564492927\n",
      "RUN  7 , total integrated cost =  2.6571045644519167\n",
      "RUN  8 , total integrated cost =  2.6571045366687986\n",
      "RUN  9 , total integrated cost =  2.6571045072627286\n",
      "RUN  10 , total integrated cost =  2.6571045071598154\n",
      "RUN  11 , total integrated cost =  2.657104507153485\n",
      "RUN  12 , total integrated cost =  2.6571045071497057\n",
      "RUN  13 , total integrated cost =  2.6571045071441963\n",
      "RUN  14 , total integrated cost =  2.657104507119308\n",
      "RUN  15 , total integrated cost =  2.657104506196048\n",
      "RUN  16 , total integrated cost =  2.657104503621667\n",
      "RUN  17 , total integrated cost =  2.6571045035664835\n",
      "RUN  18 , total integrated cost =  2.657104503561514\n",
      "RUN  19 , total integrated cost =  2.6571045035576883\n",
      "RUN  20 , total integrated cost =  2.657104503550966\n"
     ]
    },
    {
     "output_type": "stream",
     "name": "stderr",
     "text": [
      "ERROR:root:Problem in initial value trasfer\n"
     ]
    },
    {
     "output_type": "stream",
     "name": "stdout",
     "text": [
      "RUN  30 , total integrated cost =  2.657104407822263\n",
      "RUN  30 , total integrated cost =  2.657104407822263\n",
      "Improved over  30  iterations in  24.901169894001214  seconds by  6.764752563981347e-05  percent.\n",
      "Problem in initial value trasfer:  Vmean_exc -74.52554682775309 -74.52555296021946\n",
      "2.290660074401723e-06 0.0\n",
      "8.241242234202802e-09 0.0\n",
      "set cost params:  19.15 0.0 1.0\n",
      "----- 170\n",
      "interpolate adjoint :  True True True\n",
      "RUN  0 , total integrated cost =  2.657119857260071\n",
      "Gradient descend method:  None\n",
      "RUN  1 , total integrated cost =  2.6571180732472577\n",
      "RUN  2 , total integrated cost =  2.6571180721620165\n",
      "RUN  3 , total integrated cost =  2.657118072150955\n",
      "RUN  4 , total integrated cost =  2.6571180721508014\n",
      "RUN  5 , total integrated cost =  2.65711807215067\n",
      "RUN  6 , total integrated cost =  2.6571180721505465\n",
      "RUN  7 , total integrated cost =  2.657118072150402\n",
      "RUN  8 , total integrated cost =  2.6571180721502197\n",
      "RUN  9 , total integrated cost =  2.657118072149952\n",
      "RUN  10 , total integrated cost =  2.6571180721494922\n",
      "RUN  11 , total integrated cost =  2.657118072148484\n",
      "RUN  12 , total integrated cost =  2.6571180721451193\n",
      "RUN  13 , total integrated cost =  2.6571180721198173\n",
      "RUN  14 , total integrated cost =  2.657118038424196\n",
      "RUN  15 , total integrated cost =  2.6571180018563587\n",
      "RUN  16 , total integrated cost =  2.657118001707786\n",
      "RUN  17 , total integrated cost =  2.6571180017050087\n",
      "RUN  18 , total integrated cost =  2.6571180017047866\n",
      "RUN  19 , total integrated cost =  2.6571180017045757\n",
      "RUN  20 , total integrated cost =  2.6571180017043323\n"
     ]
    },
    {
     "output_type": "stream",
     "name": "stderr",
     "text": [
      "ERROR:root:Problem in initial value trasfer\n"
     ]
    },
    {
     "output_type": "stream",
     "name": "stdout",
     "text": [
      "RUN  30 , total integrated cost =  2.657117987205516\n",
      "RUN  30 , total integrated cost =  2.657117987205516\n",
      "Improved over  30  iterations in  23.81164519199956  seconds by  7.037900643069861e-05  percent.\n",
      "Problem in initial value trasfer:  Vmean_exc -74.52559507818663 -74.5256009878468\n",
      "2.4099801056290646e-06 0.0\n",
      "8.241242234202802e-09 0.0\n",
      "set cost params:  19.145 0.0 1.0\n",
      "----- 171\n",
      "interpolate adjoint :  True True True\n",
      "RUN  0 , total integrated cost =  2.657134291567342\n",
      "Gradient descend method:  None\n",
      "RUN  1 , total integrated cost =  2.6571323385053063\n",
      "RUN  2 , total integrated cost =  2.6571323380477474\n",
      "RUN  3 , total integrated cost =  2.6571323380223135\n",
      "RUN  4 , total integrated cost =  2.6571323379896215\n",
      "RUN  5 , total integrated cost =  2.657132337885845\n",
      "RUN  6 , total integrated cost =  2.657132336238868\n",
      "RUN  7 , total integrated cost =  2.6571323358537877\n",
      "RUN  8 , total integrated cost =  2.657132335829889\n",
      "RUN  9 , total integrated cost =  2.6571323357972574\n",
      "RUN  10 , total integrated cost =  2.657132335691635\n",
      "RUN  11 , total integrated cost =  2.6571323340436703\n",
      "RUN  12 , total integrated cost =  2.657132333662172\n",
      "RUN  13 , total integrated cost =  2.6571323336382444\n",
      "RUN  14 , total integrated cost =  2.6571323336055217\n",
      "RUN  15 , total integrated cost =  2.657132333498466\n",
      "RUN  16 , total integrated cost =  2.657132331849866\n",
      "RUN  17 , total integrated cost =  2.6571323314711894\n",
      "RUN  18 , total integrated cost =  2.657132331447245\n",
      "RUN  19 , total integrated cost =  2.6571323314144344\n",
      "RUN  20 , total integrated cost =  2.657132331306261\n",
      "RUN  30 , total integrated cost =  2.6571323268927056\n"
     ]
    },
    {
     "output_type": "stream",
     "name": "stderr",
     "text": [
      "ERROR:root:Problem in initial value trasfer\n"
     ]
    },
    {
     "output_type": "stream",
     "name": "stdout",
     "text": [
      "RUN  40 , total integrated cost =  2.6571323226807437\n",
      "RUN  40 , total integrated cost =  2.6571323226807437\n",
      "Improved over  40  iterations in  31.0269030030031  seconds by  7.409812158698514e-05  percent.\n",
      "Problem in initial value trasfer:  Vmean_exc -74.52564194656692 -74.52564763980288\n",
      "2.5270230833547807e-06 0.0\n",
      "8.241242234202802e-09 0.0\n",
      "set cost params:  19.14 0.0 1.0\n",
      "----- 172\n",
      "interpolate adjoint :  True True True\n",
      "RUN  0 , total integrated cost =  2.657149514249572\n",
      "Gradient descend method:  None\n",
      "RUN  1 , total integrated cost =  2.6571473955127836\n",
      "RUN  2 , total integrated cost =  2.6571473955115485\n",
      "RUN  3 , total integrated cost =  2.6571473955115357\n",
      "RUN  4 , total integrated cost =  2.6571473955115197\n",
      "RUN  5 , total integrated cost =  2.657147395511504\n",
      "RUN  6 , total integrated cost =  2.6571473955114895\n",
      "RUN  7 , total integrated cost =  2.657147395511464\n",
      "RUN  8 , total integrated cost =  2.6571473955114313\n",
      "RUN  9 , total integrated cost =  2.6571473955113745\n",
      "RUN  10 , total integrated cost =  2.6571473955112817\n",
      "RUN  11 , total integrated cost =  2.6571473955111187\n",
      "RUN  12 , total integrated cost =  2.6571473955107487\n",
      "RUN  13 , total integrated cost =  2.6571473955097575\n",
      "RUN  14 , total integrated cost =  2.6571473955069056\n",
      "RUN  15 , total integrated cost =  2.657147395491327\n",
      "RUN  16 , total integrated cost =  2.657147395050706\n",
      "RUN  17 , total integrated cost =  2.6571473930636587\n",
      "RUN  18 , total integrated cost =  2.6571473929799123\n",
      "RUN  19 , total integrated cost =  2.6571473929693794\n",
      "RUN  20 , total integrated cost =  2.657147392967612\n",
      "RUN  30 , total integrated cost =  2.6571473929668783\n"
     ]
    },
    {
     "output_type": "stream",
     "name": "stderr",
     "text": [
      "ERROR:root:Problem in initial value trasfer\n"
     ]
    },
    {
     "output_type": "stream",
     "name": "stdout",
     "text": [
      "RUN  40 , total integrated cost =  2.657147390593284\n",
      "RUN  40 , total integrated cost =  2.657147390593284\n",
      "Improved over  40  iterations in  33.95050934499886  seconds by  7.992234823461786e-05  percent.\n",
      "Problem in initial value trasfer:  Vmean_exc -74.52568580381907 -74.52569129453533\n",
      "2.6810163687499565e-06 0.0\n",
      "8.241242234202802e-09 0.0\n",
      "set cost params:  19.134999999999998 0.0 1.0\n",
      "----- 173\n",
      "interpolate adjoint :  True True True\n",
      "RUN  0 , total integrated cost =  2.6571696128356765\n",
      "Gradient descend method:  None\n",
      "RUN  1 , total integrated cost =  2.6571659463537665\n",
      "RUN  2 , total integrated cost =  2.6571659372861562\n",
      "RUN  3 , total integrated cost =  2.6571659372349856\n",
      "RUN  4 , total integrated cost =  2.6571659372256815\n",
      "RUN  5 , total integrated cost =  2.6571659372194887\n",
      "RUN  6 , total integrated cost =  2.657165937219306\n",
      "RUN  7 , total integrated cost =  2.6571659372193013\n",
      "RUN  8 , total integrated cost =  2.657165937219301\n"
     ]
    },
    {
     "output_type": "stream",
     "name": "stderr",
     "text": [
      "ERROR:root:Problem in initial value trasfer\n"
     ]
    },
    {
     "output_type": "stream",
     "name": "stdout",
     "text": [
      "RUN  9 , total integrated cost =  2.657165937219301\n",
      "Control only changes marginally.\n",
      "RUN  9 , total integrated cost =  2.657165937219301\n",
      "Improved over  9  iterations in  7.939427732002514  seconds by  0.00013832825567305918  percent.\n",
      "Problem in initial value trasfer:  Vmean_exc -74.52573294186219 -74.52573821490907\n",
      "2.8559361001723934e-06 0.0\n",
      "8.241242234202802e-09 0.0\n",
      "set cost params:  19.130000000000003 0.0 1.0\n",
      "----- 174\n",
      "interpolate adjoint :  True True True\n",
      "RUN  0 , total integrated cost =  2.6571819820093245\n",
      "Gradient descend method:  None\n",
      "RUN  1 , total integrated cost =  2.6571798425929343\n",
      "RUN  2 , total integrated cost =  2.6571798425929325\n"
     ]
    },
    {
     "output_type": "stream",
     "name": "stderr",
     "text": [
      "ERROR:root:Problem in initial value trasfer\n"
     ]
    },
    {
     "output_type": "stream",
     "name": "stdout",
     "text": [
      "RUN  3 , total integrated cost =  2.6571798425929325\n",
      "Control only changes marginally.\n",
      "RUN  3 , total integrated cost =  2.6571798425929325\n",
      "Improved over  3  iterations in  3.164219457001309  seconds by  8.051448513413106e-05  percent.\n",
      "Problem in initial value trasfer:  Vmean_exc -74.52577550135295 -74.52578057787288\n",
      "2.971537637339945e-06 0.0\n",
      "8.241242234202802e-09 0.0\n",
      "set cost params:  19.125 0.0 1.0\n",
      "----- 175\n",
      "interpolate adjoint :  True True True\n",
      "RUN  0 , total integrated cost =  2.657200766503641\n",
      "Gradient descend method:  None\n",
      "RUN  1 , total integrated cost =  2.6571973527779154\n",
      "RUN  2 , total integrated cost =  2.65719734755571\n",
      "RUN  3 , total integrated cost =  2.6571973475332658\n",
      "RUN  4 , total integrated cost =  2.6571973475324357\n",
      "RUN  5 , total integrated cost =  2.657197347532432\n",
      "RUN  6 , total integrated cost =  2.6571973475324313\n"
     ]
    },
    {
     "output_type": "stream",
     "name": "stderr",
     "text": [
      "ERROR:root:Problem in initial value trasfer\n"
     ]
    },
    {
     "output_type": "stream",
     "name": "stdout",
     "text": [
      "RUN  7 , total integrated cost =  2.6571973475324313\n",
      "Control only changes marginally.\n",
      "RUN  7 , total integrated cost =  2.6571973475324313\n",
      "Improved over  7  iterations in  6.8642638430028455  seconds by  0.0001286681553267499  percent.\n",
      "Problem in initial value trasfer:  Vmean_exc -74.52581708651644 -74.52582197100863\n",
      "3.07442801656239e-06 0.0\n",
      "8.241242234202802e-09 0.0\n",
      "set cost params:  19.119999999999997 0.0 1.0\n",
      "----- 176\n",
      "interpolate adjoint :  True True True\n",
      "RUN  0 , total integrated cost =  2.657219152117432\n",
      "Gradient descend method:  None\n",
      "RUN  1 , total integrated cost =  2.657215783793043\n",
      "RUN  2 , total integrated cost =  2.6572157791036566\n",
      "RUN  3 , total integrated cost =  2.6572157789861315\n",
      "RUN  4 , total integrated cost =  2.657215778986002\n",
      "RUN  5 , total integrated cost =  2.6572157789860014\n",
      "RUN  6 , total integrated cost =  2.657215778986001\n"
     ]
    },
    {
     "output_type": "stream",
     "name": "stderr",
     "text": [
      "ERROR:root:Problem in initial value trasfer\n"
     ]
    },
    {
     "output_type": "stream",
     "name": "stdout",
     "text": [
      "RUN  7 , total integrated cost =  2.657215778986001\n",
      "Control only changes marginally.\n",
      "RUN  7 , total integrated cost =  2.657215778986001\n",
      "Improved over  7  iterations in  6.402184929000214  seconds by  0.0001269421616427735  percent.\n",
      "Problem in initial value trasfer:  Vmean_exc -74.52585656868087 -74.52586127085632\n",
      "3.200077390969166e-06 0.0\n",
      "8.241242234202802e-09 0.0\n",
      "set cost params:  19.115000000000002 0.0 1.0\n",
      "----- 177\n",
      "interpolate adjoint :  True True True\n",
      "RUN  0 , total integrated cost =  2.6572386401978143\n",
      "Gradient descend method:  None\n",
      "RUN  1 , total integrated cost =  2.657235181358657\n",
      "RUN  2 , total integrated cost =  2.6572351813586566\n"
     ]
    },
    {
     "output_type": "stream",
     "name": "stderr",
     "text": [
      "ERROR:root:Problem in initial value trasfer\n"
     ]
    },
    {
     "output_type": "stream",
     "name": "stdout",
     "text": [
      "RUN  3 , total integrated cost =  2.6572351813586566\n",
      "Control only changes marginally.\n",
      "RUN  3 , total integrated cost =  2.6572351813586566\n",
      "Improved over  3  iterations in  3.3047269000016968  seconds by  0.00013016667398346726  percent.\n",
      "Problem in initial value trasfer:  Vmean_exc -74.52589475194895 -74.52589927780564\n",
      "3.325775548489713e-06 0.0\n",
      "8.241242234202802e-09 0.0\n",
      "set cost params:  19.11 0.0 1.0\n",
      "----- 178\n",
      "interpolate adjoint :  True True True\n",
      "RUN  0 , total integrated cost =  2.657259074699813\n",
      "Gradient descend method:  None\n",
      "RUN  1 , total integrated cost =  2.657255605475266\n",
      "RUN  2 , total integrated cost =  2.657255599101579\n",
      "RUN  3 , total integrated cost =  2.6572555990592055\n",
      "RUN  4 , total integrated cost =  2.6572555990588658\n",
      "RUN  5 , total integrated cost =  2.6572555990588462\n",
      "RUN  6 , total integrated cost =  2.657255599058846\n",
      "RUN  7 , total integrated cost =  2.6572555990588453\n"
     ]
    },
    {
     "output_type": "stream",
     "name": "stderr",
     "text": [
      "ERROR:root:Problem in initial value trasfer\n"
     ]
    },
    {
     "output_type": "stream",
     "name": "stdout",
     "text": [
      "RUN  8 , total integrated cost =  2.6572555990588453\n",
      "Control only changes marginally.\n",
      "RUN  8 , total integrated cost =  2.6572555990588453\n",
      "Improved over  8  iterations in  7.425490843001171  seconds by  0.00013079797150794548  percent.\n",
      "Problem in initial value trasfer:  Vmean_exc -74.52593118794337 -74.52593554554969\n",
      "3.4705230398400825e-06 0.0\n",
      "8.241242234202802e-09 0.0\n",
      "set cost params:  19.105 0.0 1.0\n",
      "----- 179\n",
      "interpolate adjoint :  True True True\n",
      "RUN  0 , total integrated cost =  2.657280656735292\n",
      "Gradient descend method:  None\n",
      "RUN  1 , total integrated cost =  2.6572771000327666\n",
      "RUN  2 , total integrated cost =  2.6572770972706015\n",
      "RUN  3 , total integrated cost =  2.6572770972503075\n",
      "RUN  4 , total integrated cost =  2.657277097250307\n"
     ]
    },
    {
     "output_type": "stream",
     "name": "stderr",
     "text": [
      "ERROR:root:Problem in initial value trasfer\n"
     ]
    },
    {
     "output_type": "stream",
     "name": "stdout",
     "text": [
      "RUN  5 , total integrated cost =  2.657277097250307\n",
      "Control only changes marginally.\n",
      "RUN  5 , total integrated cost =  2.657277097250307\n",
      "Improved over  5  iterations in  4.847121812003024  seconds by  0.00013395216556943979  percent.\n",
      "Problem in initial value trasfer:  Vmean_exc -74.52596549951487 -74.52596969868078\n",
      "3.6582892165832716e-06 0.0\n",
      "8.241242234202802e-09 0.0\n",
      "set cost params:  19.1 0.0 1.0\n",
      "----- 180\n",
      "interpolate adjoint :  True True True\n",
      "RUN  0 , total integrated cost =  2.657298560888814\n",
      "Gradient descend method:  None\n",
      "RUN  1 , total integrated cost =  2.6572958676267064\n",
      "RUN  2 , total integrated cost =  2.657295866506421\n",
      "RUN  3 , total integrated cost =  2.6572958664905793\n",
      "RUN  4 , total integrated cost =  2.657295866488296\n",
      "RUN  5 , total integrated cost =  2.6572958664812476\n",
      "RUN  6 , total integrated cost =  2.6572958664738713\n",
      "RUN  7 , total integrated cost =  2.6572958664690085\n",
      "RUN  8 , total integrated cost =  2.6572958663137047\n",
      "RUN  9 , total integrated cost =  2.6572958639823754\n",
      "RUN  10 , total integrated cost =  2.657295863435202\n",
      "RUN  11 , total integrated cost =  2.657295863420556\n",
      "RUN  12 , total integrated cost =  2.6572958634178505\n",
      "RUN  13 , total integrated cost =  2.657295863411291\n",
      "RUN  14 , total integrated cost =  2.6572958634015618\n",
      "RUN  15 , total integrated cost =  2.6572958633960733\n",
      "RUN  16 , total integrated cost =  2.657295863161307\n",
      "RUN  17 , total integrated cost =  2.657295860897997\n",
      "RUN  18 , total integrated cost =  2.6572958606172206\n",
      "RUN  19 , total integrated cost =  2.6572958606003874\n",
      "RUN  20 , total integrated cost =  2.657295860598199\n"
     ]
    },
    {
     "output_type": "stream",
     "name": "stderr",
     "text": [
      "ERROR:root:Problem in initial value trasfer\n"
     ]
    },
    {
     "output_type": "stream",
     "name": "stdout",
     "text": [
      "RUN  30 , total integrated cost =  2.657294275124401\n",
      "Control only changes marginally.\n",
      "RUN  30 , total integrated cost =  2.657294275124401\n",
      "Improved over  30  iterations in  30.096270807996916  seconds by  0.00016128275821358784  percent.\n",
      "Problem in initial value trasfer:  Vmean_exc -74.5260002961571 -74.52600433464272\n",
      "3.76942632962798e-06 0.0\n",
      "8.241242234202802e-09 0.0\n",
      "set cost params:  19.095 0.0 1.0\n",
      "----- 181\n",
      "interpolate adjoint :  True True True\n",
      "RUN  0 , total integrated cost =  2.657321655907917\n",
      "Gradient descend method:  None\n",
      "RUN  1 , total integrated cost =  2.6573178825172\n",
      "RUN  2 , total integrated cost =  2.6573178821022503\n",
      "RUN  3 , total integrated cost =  2.657317882102249\n"
     ]
    },
    {
     "output_type": "stream",
     "name": "stderr",
     "text": [
      "ERROR:root:Problem in initial value trasfer\n"
     ]
    },
    {
     "output_type": "stream",
     "name": "stdout",
     "text": [
      "RUN  4 , total integrated cost =  2.657317882102249\n",
      "Control only changes marginally.\n",
      "RUN  4 , total integrated cost =  2.657317882102249\n",
      "Improved over  4  iterations in  4.11425465499633  seconds by  0.00014201538829183846  percent.\n",
      "Problem in initial value trasfer:  Vmean_exc -74.52603258082219 -74.52603647022708\n",
      "3.949467878809317e-06 0.0\n",
      "8.241242234202802e-09 0.0\n",
      "set cost params:  19.09 0.0 1.0\n",
      "----- 182\n",
      "interpolate adjoint :  True True True\n",
      "RUN  0 , total integrated cost =  2.657346619350509\n",
      "Gradient descend method:  None\n",
      "RUN  1 , total integrated cost =  2.6573427127379854\n",
      "RUN  2 , total integrated cost =  2.6573427127379836\n"
     ]
    },
    {
     "output_type": "stream",
     "name": "stderr",
     "text": [
      "ERROR:root:Problem in initial value trasfer\n"
     ]
    },
    {
     "output_type": "stream",
     "name": "stdout",
     "text": [
      "RUN  3 , total integrated cost =  2.6573427127379836\n",
      "Control only changes marginally.\n",
      "RUN  3 , total integrated cost =  2.6573427127379836\n",
      "Improved over  3  iterations in  3.4794702119979775  seconds by  0.00014701177848053248  percent.\n",
      "Problem in initial value trasfer:  Vmean_exc -74.5260637385162 -74.52606748404439\n",
      "4.135377965432708e-06 0.0\n",
      "8.241242234202802e-09 0.0\n",
      "set cost params:  19.085 0.0 1.0\n",
      "----- 183\n",
      "interpolate adjoint :  True True True\n",
      "RUN  0 , total integrated cost =  2.657372818659856\n",
      "Gradient descend method:  None\n",
      "RUN  1 , total integrated cost =  2.6573688518984766\n",
      "RUN  2 , total integrated cost =  2.657368835624679\n",
      "RUN  3 , total integrated cost =  2.657368835563437\n",
      "RUN  4 , total integrated cost =  2.657368835563061\n",
      "RUN  5 , total integrated cost =  2.657368835563054\n",
      "RUN  6 , total integrated cost =  2.657368835563053\n"
     ]
    },
    {
     "output_type": "stream",
     "name": "stderr",
     "text": [
      "ERROR:root:Problem in initial value trasfer\n"
     ]
    },
    {
     "output_type": "stream",
     "name": "stdout",
     "text": [
      "RUN  7 , total integrated cost =  2.657368835563053\n",
      "Control only changes marginally.\n",
      "RUN  7 , total integrated cost =  2.657368835563053\n",
      "Improved over  7  iterations in  6.804346111006453  seconds by  0.00014988852053932078  percent.\n",
      "Problem in initial value trasfer:  Vmean_exc -74.526093696923 -74.52609730411245\n",
      "4.333713610820656e-06 0.0\n",
      "8.241242234202802e-09 0.0\n",
      "set cost params:  19.080000000000002 0.0 1.0\n",
      "----- 184\n",
      "interpolate adjoint :  True True True\n",
      "RUN  0 , total integrated cost =  2.6574003710554597\n",
      "Gradient descend method:  None\n",
      "RUN  1 , total integrated cost =  2.65739630255767\n",
      "RUN  2 , total integrated cost =  2.6573963015909445\n",
      "RUN  3 , total integrated cost =  2.657396301582356\n"
     ]
    },
    {
     "output_type": "stream",
     "name": "stderr",
     "text": [
      "ERROR:root:Problem in initial value trasfer\n"
     ]
    },
    {
     "output_type": "stream",
     "name": "stdout",
     "text": [
      "RUN  4 , total integrated cost =  2.657396301582356\n",
      "Control only changes marginally.\n",
      "RUN  4 , total integrated cost =  2.657396301582356\n",
      "Improved over  4  iterations in  4.2575075830027345  seconds by  0.00015313737245037373  percent.\n",
      "Problem in initial value trasfer:  Vmean_exc -74.52612255551752 -74.52612602944684\n",
      "4.541557511263013e-06 0.0\n",
      "8.241242234202802e-09 0.0\n",
      "set cost params:  19.075 0.0 1.0\n",
      "----- 185\n",
      "interpolate adjoint :  True True True\n",
      "RUN  0 , total integrated cost =  2.6574293045293698\n",
      "Gradient descend method:  None\n",
      "RUN  1 , total integrated cost =  2.6574252037301833\n",
      "RUN  2 , total integrated cost =  2.657425185952509\n",
      "RUN  3 , total integrated cost =  2.657425185926128\n",
      "RUN  4 , total integrated cost =  2.6574251859249753\n"
     ]
    },
    {
     "output_type": "stream",
     "name": "stderr",
     "text": [
      "ERROR:root:Problem in initial value trasfer\n"
     ]
    },
    {
     "output_type": "stream",
     "name": "stdout",
     "text": [
      "RUN  5 , total integrated cost =  2.6574251859249753\n",
      "Control only changes marginally.\n",
      "RUN  5 , total integrated cost =  2.6574251859249753\n",
      "Improved over  5  iterations in  4.945839437001268  seconds by  0.00015498453288387282  percent.\n",
      "Problem in initial value trasfer:  Vmean_exc -74.52615005003275 -74.52615339700088\n",
      "4.782662798319692e-06 0.0\n",
      "8.241242234202802e-09 0.0\n",
      "set cost params:  19.07 0.0 1.0\n",
      "----- 186\n",
      "interpolate adjoint :  True True True\n",
      "RUN  0 , total integrated cost =  2.6574598551770316\n",
      "Gradient descend method:  None\n",
      "RUN  1 , total integrated cost =  2.657455553688717\n",
      "RUN  2 , total integrated cost =  2.657455552320988\n"
     ]
    },
    {
     "output_type": "stream",
     "name": "stderr",
     "text": [
      "ERROR:root:Problem in initial value trasfer\n"
     ]
    },
    {
     "output_type": "stream",
     "name": "stdout",
     "text": [
      "RUN  3 , total integrated cost =  2.657455552320988\n",
      "Control only changes marginally.\n",
      "RUN  3 , total integrated cost =  2.657455552320988\n",
      "Improved over  3  iterations in  3.1948050139981206  seconds by  0.00016191612584748327  percent.\n",
      "Problem in initial value trasfer:  Vmean_exc -74.52617641272842 -74.52617963796172\n",
      "5.047462310798023e-06 0.0\n",
      "8.241242234202802e-09 0.0\n",
      "set cost params:  19.065 0.0 1.0\n",
      "----- 187\n",
      "interpolate adjoint :  True True True\n",
      "RUN  0 , total integrated cost =  2.657485151390576\n",
      "Gradient descend method:  None\n",
      "RUN  1 , total integrated cost =  2.6574820437359397\n",
      "RUN  2 , total integrated cost =  2.6574820384990416\n",
      "RUN  3 , total integrated cost =  2.6574820382799955\n",
      "RUN  4 , total integrated cost =  2.657482038267734\n",
      "RUN  5 , total integrated cost =  2.6574820382634803\n",
      "RUN  6 , total integrated cost =  2.6574820382628714\n",
      "RUN  7 , total integrated cost =  2.657482038262763\n",
      "RUN  8 , total integrated cost =  2.657482038262737\n",
      "RUN  9 , total integrated cost =  2.6574820382627364\n"
     ]
    },
    {
     "output_type": "stream",
     "name": "stderr",
     "text": [
      "ERROR:root:Problem in initial value trasfer\n"
     ]
    },
    {
     "output_type": "stream",
     "name": "stdout",
     "text": [
      "RUN  10 , total integrated cost =  2.6574820382627364\n",
      "Control only changes marginally.\n",
      "RUN  10 , total integrated cost =  2.6574820382627364\n",
      "Improved over  10  iterations in  9.765535234000708  seconds by  0.0001171456343911359  percent.\n",
      "Problem in initial value trasfer:  Vmean_exc -74.52620235635895 -74.5262054617926\n",
      "5.2772776023769865e-06 0.0\n",
      "8.241242234202802e-09 0.0\n",
      "set cost params:  19.06 0.0 1.0\n",
      "----- 188\n",
      "interpolate adjoint :  True True True\n",
      "RUN  0 , total integrated cost =  2.6575203535940677\n",
      "Gradient descend method:  None\n",
      "RUN  1 , total integrated cost =  2.6575153128027886\n",
      "RUN  2 , total integrated cost =  2.65751531274697\n",
      "RUN  3 , total integrated cost =  2.6575153123005473\n",
      "RUN  4 , total integrated cost =  2.6575153082760052\n",
      "RUN  5 , total integrated cost =  2.6575153071699886\n",
      "RUN  6 , total integrated cost =  2.6575153071359594\n",
      "RUN  7 , total integrated cost =  2.6575153071085005\n",
      "RUN  8 , total integrated cost =  2.6575153070159456\n",
      "RUN  9 , total integrated cost =  2.657515305077705\n",
      "RUN  10 , total integrated cost =  2.657515298984562\n",
      "RUN  11 , total integrated cost =  2.657515298827577\n",
      "RUN  12 , total integrated cost =  2.65751529880146\n",
      "RUN  13 , total integrated cost =  2.6575152987563886\n",
      "RUN  14 , total integrated cost =  2.657515298472695\n",
      "RUN  15 , total integrated cost =  2.6575152787223333\n",
      "RUN  16 , total integrated cost =  2.657515272236075\n",
      "RUN  17 , total integrated cost =  2.6575152721955115\n",
      "RUN  18 , total integrated cost =  2.6575152721672346\n",
      "RUN  19 , total integrated cost =  2.6575152720730904\n",
      "RUN  20 , total integrated cost =  2.657515270089346\n",
      "RUN  30 , total integrated cost =  2.6575152372772046\n"
     ]
    },
    {
     "output_type": "stream",
     "name": "stderr",
     "text": [
      "ERROR:root:Problem in initial value trasfer\n"
     ]
    },
    {
     "output_type": "stream",
     "name": "stdout",
     "text": [
      "RUN  40 , total integrated cost =  2.657515211308498\n",
      "RUN  40 , total integrated cost =  2.657515211308498\n",
      "Improved over  40  iterations in  39.16009897099866  seconds by  0.00019349938609991568  percent.\n",
      "Problem in initial value trasfer:  Vmean_exc -74.52622718550043 -74.52623017628078\n",
      "5.532029277002988e-06 0.0\n",
      "8.241242234202802e-09 0.0\n",
      "set cost params:  19.055 0.0 1.0\n",
      "----- 189\n",
      "interpolate adjoint :  True True True\n",
      "RUN  0 , total integrated cost =  2.657555547497515\n",
      "Gradient descend method:  None\n",
      "RUN  1 , total integrated cost =  2.6575501738916585\n",
      "RUN  2 , total integrated cost =  2.6575501677437594\n",
      "RUN  3 , total integrated cost =  2.657550165812143\n",
      "RUN  4 , total integrated cost =  2.6575501657699543\n",
      "RUN  5 , total integrated cost =  2.6575501657692078\n",
      "RUN  6 , total integrated cost =  2.657550165769187\n"
     ]
    },
    {
     "output_type": "stream",
     "name": "stderr",
     "text": [
      "ERROR:root:Problem in initial value trasfer\n"
     ]
    },
    {
     "output_type": "stream",
     "name": "stdout",
     "text": [
      "RUN  7 , total integrated cost =  2.657550165769187\n",
      "Control only changes marginally.\n",
      "RUN  7 , total integrated cost =  2.657550165769187\n",
      "Improved over  7  iterations in  7.076414549999754  seconds by  0.000202506710849093  percent.\n",
      "Problem in initial value trasfer:  Vmean_exc -74.52625081284144 -74.52625369451802\n",
      "5.829525199155382e-06 0.0\n",
      "8.241242234202802e-09 0.0\n",
      "set cost params:  19.05 0.0 1.0\n",
      "----- 190\n",
      "interpolate adjoint :  True True True\n",
      "RUN  0 , total integrated cost =  2.6575929751369656\n",
      "Gradient descend method:  None\n",
      "RUN  1 , total integrated cost =  2.6575869015854865\n",
      "RUN  2 , total integrated cost =  2.657586898103222\n",
      "RUN  3 , total integrated cost =  2.6575868968491556\n",
      "RUN  4 , total integrated cost =  2.657586896779213\n",
      "RUN  5 , total integrated cost =  2.657586896732905\n",
      "RUN  6 , total integrated cost =  2.6575868967206673\n",
      "RUN  7 , total integrated cost =  2.6575868966900913\n",
      "RUN  8 , total integrated cost =  2.6575868764641415\n",
      "RUN  9 , total integrated cost =  2.6575868640196822\n",
      "RUN  10 , total integrated cost =  2.6575868638724476\n",
      "RUN  11 , total integrated cost =  2.6575868638376616\n",
      "RUN  12 , total integrated cost =  2.657586863820815\n",
      "RUN  13 , total integrated cost =  2.657586863799459\n",
      "RUN  14 , total integrated cost =  2.6575867668170803\n",
      "RUN  15 , total integrated cost =  2.6575866821093537\n",
      "RUN  16 , total integrated cost =  2.657586681791904\n",
      "RUN  17 , total integrated cost =  2.6575866817567366\n",
      "RUN  18 , total integrated cost =  2.6575866817370963\n",
      "RUN  19 , total integrated cost =  2.6575866817313165\n",
      "RUN  20 , total integrated cost =  2.657586679972039\n",
      "RUN  30 , total integrated cost =  2.657586668016807\n"
     ]
    },
    {
     "output_type": "stream",
     "name": "stderr",
     "text": [
      "ERROR:root:Problem in initial value trasfer\n"
     ]
    },
    {
     "output_type": "stream",
     "name": "stdout",
     "text": [
      "RUN  40 , total integrated cost =  2.657586656852111\n",
      "RUN  40 , total integrated cost =  2.657586656852111\n",
      "Improved over  40  iterations in  38.92298562299402  seconds by  0.00023774464010273277  percent.\n",
      "Problem in initial value trasfer:  Vmean_exc -74.5262735801637 -74.52627635670787\n",
      "6.141275992375824e-06 0.0\n",
      "8.241242234202802e-09 0.0\n",
      "set cost params:  19.044999999999998 0.0 1.0\n",
      "----- 191\n",
      "interpolate adjoint :  True True True\n",
      "RUN  0 , total integrated cost =  2.657632177301253\n",
      "Gradient descend method:  None\n",
      "RUN  1 , total integrated cost =  2.6576252460069063\n",
      "RUN  2 , total integrated cost =  2.657625241225998\n",
      "RUN  3 , total integrated cost =  2.6576252399356446\n",
      "RUN  4 , total integrated cost =  2.6576252398290094\n",
      "RUN  5 , total integrated cost =  2.6576252397868285\n",
      "RUN  6 , total integrated cost =  2.6576252397740068\n",
      "RUN  7 , total integrated cost =  2.6576252394037123\n",
      "RUN  8 , total integrated cost =  2.657625235281426\n",
      "RUN  9 , total integrated cost =  2.657625234542902\n",
      "RUN  10 , total integrated cost =  2.6576252344700393\n",
      "RUN  11 , total integrated cost =  2.6576252344584925\n",
      "RUN  12 , total integrated cost =  2.657625234339277\n",
      "RUN  13 , total integrated cost =  2.6576251893388316\n",
      "RUN  14 , total integrated cost =  2.6576251770987467\n",
      "RUN  15 , total integrated cost =  2.657625176931462\n",
      "RUN  16 , total integrated cost =  2.6576251768649817\n",
      "RUN  17 , total integrated cost =  2.6576251768534513\n",
      "RUN  18 , total integrated cost =  2.6576251766381938\n",
      "RUN  19 , total integrated cost =  2.6576251703222655\n",
      "RUN  20 , total integrated cost =  2.657625167828489\n",
      "RUN  30 , total integrated cost =  2.657625067849599\n"
     ]
    },
    {
     "output_type": "stream",
     "name": "stderr",
     "text": [
      "ERROR:root:Problem in initial value trasfer\n"
     ]
    },
    {
     "output_type": "stream",
     "name": "stdout",
     "text": [
      "RUN  40 , total integrated cost =  2.657624997193759\n",
      "RUN  40 , total integrated cost =  2.657624997193759\n",
      "Improved over  40  iterations in  38.29156825999962  seconds by  0.00027016934680546  percent.\n",
      "Problem in initial value trasfer:  Vmean_exc -74.52629547247251 -74.5262981479248\n",
      "6.4741993136833186e-06 0.0\n",
      "8.241242234202802e-09 0.0\n",
      "set cost params:  19.04 0.0 1.0\n",
      "----- 192\n",
      "interpolate adjoint :  True True True\n",
      "RUN  0 , total integrated cost =  2.657673536526655\n",
      "Gradient descend method:  None\n",
      "RUN  1 , total integrated cost =  2.657665576813839\n",
      "RUN  2 , total integrated cost =  2.6576655579073476\n",
      "RUN  3 , total integrated cost =  2.657665557884973\n",
      "RUN  4 , total integrated cost =  2.6576655578849713\n",
      "RUN  5 , total integrated cost =  2.6576655578849704\n"
     ]
    },
    {
     "output_type": "stream",
     "name": "stderr",
     "text": [
      "ERROR:root:Problem in initial value trasfer\n"
     ]
    },
    {
     "output_type": "stream",
     "name": "stdout",
     "text": [
      "RUN  6 , total integrated cost =  2.6576655578849704\n",
      "Control only changes marginally.\n",
      "RUN  6 , total integrated cost =  2.6576655578849704\n",
      "Improved over  6  iterations in  5.981191507002222  seconds by  0.00030021150359971216  percent.\n",
      "Problem in initial value trasfer:  Vmean_exc -74.52631720163035 -74.52631977674415\n",
      "6.736724209201985e-06 0.0\n",
      "8.241242234202802e-09 0.0\n",
      "set cost params:  19.035 0.0 1.0\n",
      "----- 193\n",
      "interpolate adjoint :  True True True\n",
      "RUN  0 , total integrated cost =  2.65771652520483\n",
      "Gradient descend method:  None\n",
      "RUN  1 , total integrated cost =  2.6577083384507083\n",
      "RUN  2 , total integrated cost =  2.6577083308605407\n",
      "RUN  3 , total integrated cost =  2.657708330860539\n",
      "RUN  4 , total integrated cost =  2.6577083308605385\n"
     ]
    },
    {
     "output_type": "stream",
     "name": "stderr",
     "text": [
      "ERROR:root:Problem in initial value trasfer\n"
     ]
    },
    {
     "output_type": "stream",
     "name": "stdout",
     "text": [
      "RUN  5 , total integrated cost =  2.6577083308605385\n",
      "Control only changes marginally.\n",
      "RUN  5 , total integrated cost =  2.6577083308605385\n",
      "Improved over  5  iterations in  4.753170671996486  seconds by  0.00030832273546366196  percent.\n",
      "Problem in initial value trasfer:  Vmean_exc -74.52633771728742 -74.52634019766627\n",
      "7.07560662857642e-06 0.0\n",
      "8.241242234202802e-09 0.0\n",
      "set cost params:  19.03 0.0 1.0\n",
      "----- 194\n",
      "interpolate adjoint :  True True True\n",
      "RUN  0 , total integrated cost =  2.6577518682478622\n",
      "Gradient descend method:  None\n",
      "RUN  1 , total integrated cost =  2.6577457204543813\n",
      "RUN  2 , total integrated cost =  2.6577457128272495\n",
      "RUN  3 , total integrated cost =  2.657745712618013\n",
      "RUN  4 , total integrated cost =  2.657745712615606\n",
      "RUN  5 , total integrated cost =  2.6577457126155517\n",
      "RUN  6 , total integrated cost =  2.65774571261555\n",
      "RUN  7 , total integrated cost =  2.6577457126155477\n"
     ]
    },
    {
     "output_type": "stream",
     "name": "stderr",
     "text": [
      "ERROR:root:Problem in initial value trasfer\n"
     ]
    },
    {
     "output_type": "stream",
     "name": "stdout",
     "text": [
      "RUN  8 , total integrated cost =  2.6577457126155477\n",
      "Control only changes marginally.\n",
      "RUN  8 , total integrated cost =  2.6577457126155477\n",
      "Improved over  8  iterations in  7.719796626995958  seconds by  0.0002316104971242794  percent.\n",
      "Problem in initial value trasfer:  Vmean_exc -74.52635807933281 -74.5263604656861\n",
      "7.334942112701561e-06 0.0\n",
      "8.241242234202802e-09 0.0\n",
      "set cost params:  19.025 0.0 1.0\n",
      "----- 195\n",
      "interpolate adjoint :  True True True\n",
      "RUN  0 , total integrated cost =  2.6578019916291544\n",
      "Gradient descend method:  None\n",
      "RUN  1 , total integrated cost =  2.657792737838373\n",
      "RUN  2 , total integrated cost =  2.657792723100226\n",
      "RUN  3 , total integrated cost =  2.6577927176381175\n",
      "RUN  4 , total integrated cost =  2.657792717596827\n",
      "RUN  5 , total integrated cost =  2.657792717596825\n",
      "RUN  6 , total integrated cost =  2.6577927175968243\n"
     ]
    },
    {
     "output_type": "stream",
     "name": "stderr",
     "text": [
      "ERROR:root:Problem in initial value trasfer\n"
     ]
    },
    {
     "output_type": "stream",
     "name": "stdout",
     "text": [
      "RUN  7 , total integrated cost =  2.6577927175968243\n",
      "Control only changes marginally.\n",
      "RUN  7 , total integrated cost =  2.6577927175968243\n",
      "Improved over  7  iterations in  6.811235494002176  seconds by  0.00034893616451370235  percent.\n",
      "Problem in initial value trasfer:  Vmean_exc -74.5263777971788 -74.52638009248125\n",
      "7.582191761097786e-06 0.0\n",
      "8.241242234202802e-09 0.0\n",
      "set cost params:  19.02 0.0 1.0\n",
      "----- 196\n",
      "interpolate adjoint :  True True True\n",
      "RUN  0 , total integrated cost =  2.6578511190276815\n",
      "Gradient descend method:  None\n",
      "RUN  1 , total integrated cost =  2.6578422227648373\n",
      "RUN  2 , total integrated cost =  2.657842210676289\n",
      "RUN  3 , total integrated cost =  2.657842210618618\n",
      "RUN  4 , total integrated cost =  2.657842210617524\n",
      "RUN  5 , total integrated cost =  2.6578422106175026\n",
      "RUN  6 , total integrated cost =  2.657842210617502\n"
     ]
    },
    {
     "output_type": "stream",
     "name": "stderr",
     "text": [
      "ERROR:root:Problem in initial value trasfer\n"
     ]
    },
    {
     "output_type": "stream",
     "name": "stdout",
     "text": [
      "RUN  7 , total integrated cost =  2.657842210617502\n",
      "Control only changes marginally.\n",
      "RUN  7 , total integrated cost =  2.657842210617502\n",
      "Improved over  7  iterations in  7.453478463001375  seconds by  0.00033517340814626095  percent.\n",
      "Problem in initial value trasfer:  Vmean_exc -74.52639643094456 -74.52639864020209\n",
      "7.904800540757781e-06 0.0\n",
      "8.241242234202802e-09 0.0\n",
      "set cost params:  19.015 0.0 1.0\n",
      "----- 197\n",
      "interpolate adjoint :  True True True\n",
      "RUN  0 , total integrated cost =  2.6579033359929514\n",
      "Gradient descend method:  None\n",
      "RUN  1 , total integrated cost =  2.657894343273494\n"
     ]
    },
    {
     "output_type": "stream",
     "name": "stderr",
     "text": [
      "ERROR:root:Problem in initial value trasfer\n"
     ]
    },
    {
     "output_type": "stream",
     "name": "stdout",
     "text": [
      "RUN  2 , total integrated cost =  2.657894343273494\n",
      "Control only changes marginally.\n",
      "RUN  2 , total integrated cost =  2.657894343273494\n",
      "Improved over  2  iterations in  2.032914996998443  seconds by  0.00033833884535283687  percent.\n",
      "Problem in initial value trasfer:  Vmean_exc -74.52641395264665 -74.52641608099445\n",
      "8.335286515765983e-06 0.0\n",
      "8.241242234202802e-09 0.0\n",
      "set cost params:  19.009999999999998 0.0 1.0\n",
      "----- 198\n",
      "interpolate adjoint :  True True True\n",
      "RUN  0 , total integrated cost =  2.65795900908913\n",
      "Gradient descend method:  None\n",
      "RUN  1 , total integrated cost =  2.6579492207573603\n",
      "RUN  2 , total integrated cost =  2.6579492196256216\n",
      "RUN  3 , total integrated cost =  2.65794921957869\n",
      "RUN  4 , total integrated cost =  2.6579492195607273\n",
      "RUN  5 , total integrated cost =  2.6579492195603738\n",
      "RUN  6 , total integrated cost =  2.6579492195603707\n",
      "RUN  7 , total integrated cost =  2.657949219560369\n"
     ]
    },
    {
     "output_type": "stream",
     "name": "stderr",
     "text": [
      "ERROR:root:Problem in initial value trasfer\n"
     ]
    },
    {
     "output_type": "stream",
     "name": "stdout",
     "text": [
      "RUN  8 , total integrated cost =  2.657949219560369\n",
      "Control only changes marginally.\n",
      "RUN  8 , total integrated cost =  2.657949219560369\n",
      "Improved over  8  iterations in  7.832554988999618  seconds by  0.00036830999754045024  percent.\n",
      "Problem in initial value trasfer:  Vmean_exc -74.5264311902593 -74.52643323900922\n",
      "8.706483613424161e-06 0.0\n",
      "8.241242234202802e-09 0.0\n",
      "set cost params:  19.005000000000003 0.0 1.0\n",
      "----- 199\n",
      "interpolate adjoint :  True True True\n",
      "RUN  0 , total integrated cost =  2.658016861164499\n",
      "Gradient descend method:  None\n",
      "RUN  1 , total integrated cost =  2.658006984488785\n",
      "RUN  2 , total integrated cost =  2.65800696985176\n",
      "RUN  3 , total integrated cost =  2.6580069696046187\n",
      "RUN  4 , total integrated cost =  2.6580069695891857\n",
      "RUN  5 , total integrated cost =  2.658006969583289\n",
      "RUN  6 , total integrated cost =  2.6580069695789055\n",
      "RUN  7 , total integrated cost =  2.6580069695732536\n",
      "RUN  8 , total integrated cost =  2.6580069695594504\n",
      "RUN  9 , total integrated cost =  2.6580069695243287\n",
      "RUN  10 , total integrated cost =  2.658006968129002\n",
      "RUN  11 , total integrated cost =  2.6580069613391686\n",
      "RUN  12 , total integrated cost =  2.65800696062196\n",
      "RUN  13 , total integrated cost =  2.6580069606021506\n",
      "RUN  14 , total integrated cost =  2.658006960595471\n",
      "RUN  15 , total integrated cost =  2.6580069605909666\n",
      "RUN  16 , total integrated cost =  2.6580069605856442\n",
      "RUN  17 , total integrated cost =  2.6580069605740206\n",
      "RUN  18 , total integrated cost =  2.6580069605435934\n",
      "RUN  19 , total integrated cost =  2.6580069595637403\n",
      "RUN  20 , total integrated cost =  2.658006952641063\n",
      "RUN  30 , total integrated cost =  2.6580069427635467\n"
     ]
    },
    {
     "output_type": "stream",
     "name": "stderr",
     "text": [
      "ERROR:root:Problem in initial value trasfer\n"
     ]
    },
    {
     "output_type": "stream",
     "name": "stdout",
     "text": [
      "RUN  40 , total integrated cost =  2.658006934035285\n",
      "RUN  40 , total integrated cost =  2.658006934035285\n",
      "Improved over  40  iterations in  36.248693120003736  seconds by  0.00037347879012372687  percent.\n",
      "Problem in initial value trasfer:  Vmean_exc -74.5264475623426 -74.52644953549134\n",
      "9.153795252046773e-06 0.0\n",
      "8.241242234202802e-09 0.0\n",
      "set cost params:  19.0 0.0 1.0\n",
      "----- 200\n",
      "interpolate adjoint :  True True True\n",
      "RUN  0 , total integrated cost =  2.6580780862343594\n",
      "Gradient descend method:  None\n",
      "RUN  1 , total integrated cost =  2.6580677184451065\n",
      "RUN  2 , total integrated cost =  2.6580677059088287\n",
      "RUN  3 , total integrated cost =  2.6580677057672686\n",
      "RUN  4 , total integrated cost =  2.658067705765626\n",
      "RUN  5 , total integrated cost =  2.6580677057656246\n"
     ]
    },
    {
     "output_type": "stream",
     "name": "stderr",
     "text": [
      "ERROR:root:Problem in initial value trasfer\n"
     ]
    },
    {
     "output_type": "stream",
     "name": "stdout",
     "text": [
      "RUN  6 , total integrated cost =  2.6580677057656246\n",
      "Control only changes marginally.\n",
      "RUN  6 , total integrated cost =  2.6580677057656246\n",
      "Improved over  6  iterations in  5.257576052004879  seconds by  0.0003905253494451699  percent.\n",
      "Problem in initial value trasfer:  Vmean_exc -74.52646362788624 -74.52646552684935\n",
      "9.540448764269166e-06 0.0\n",
      "8.241242234202802e-09 0.0\n",
      "set cost params:  18.994999999999997 0.0 1.0\n",
      "----- 201\n",
      "interpolate adjoint :  True True True\n",
      "RUN  0 , total integrated cost =  2.6581276868244865\n",
      "Gradient descend method:  None\n",
      "RUN  1 , total integrated cost =  2.6581207289503066\n",
      "RUN  2 , total integrated cost =  2.658120728950302\n"
     ]
    },
    {
     "output_type": "stream",
     "name": "stderr",
     "text": [
      "ERROR:root:Problem in initial value trasfer\n"
     ]
    },
    {
     "output_type": "stream",
     "name": "stdout",
     "text": [
      "RUN  3 , total integrated cost =  2.658120728950302\n",
      "Control only changes marginally.\n",
      "RUN  3 , total integrated cost =  2.658120728950302\n",
      "Improved over  3  iterations in  2.745740197999112  seconds by  0.0002617584632531589  percent.\n",
      "Problem in initial value trasfer:  Vmean_exc -74.52647915691715 -74.52648098417207\n",
      "9.92203056252302e-06 0.0\n",
      "8.241242234202802e-09 0.0\n",
      "set cost params:  18.990000000000002 0.0 1.0\n",
      "----- 202\n",
      "interpolate adjoint :  True True True\n",
      "RUN  0 , total integrated cost =  2.6581977341348098\n",
      "Gradient descend method:  None\n",
      "RUN  1 , total integrated cost =  2.658187451096925\n",
      "RUN  2 , total integrated cost =  2.6581874448619325\n"
     ]
    },
    {
     "output_type": "stream",
     "name": "stderr",
     "text": [
      "ERROR:root:Problem in initial value trasfer\n"
     ]
    },
    {
     "output_type": "stream",
     "name": "stdout",
     "text": [
      "RUN  3 , total integrated cost =  2.6581874448619325\n",
      "Control only changes marginally.\n",
      "RUN  3 , total integrated cost =  2.6581874448619325\n",
      "Improved over  3  iterations in  2.580509298000834  seconds by  0.000387077031376748  percent.\n",
      "Problem in initial value trasfer:  Vmean_exc -74.52649356631237 -74.52649532702925\n",
      "1.0501291880408977e-05 0.0\n",
      "8.241242234202802e-09 0.0\n",
      "set cost params:  18.985 0.0 1.0\n",
      "----- 203\n",
      "interpolate adjoint :  True True True\n",
      "RUN  0 , total integrated cost =  2.6582687342789844\n",
      "Gradient descend method:  None\n",
      "RUN  1 , total integrated cost =  2.658257624141596\n",
      "RUN  2 , total integrated cost =  2.658257612438524\n",
      "RUN  3 , total integrated cost =  2.658257612073556\n",
      "RUN  4 , total integrated cost =  2.658257612070654\n",
      "RUN  5 , total integrated cost =  2.658257612070567\n",
      "RUN  6 , total integrated cost =  2.658257612070565\n",
      "RUN  7 , total integrated cost =  2.658257612070564\n",
      "RUN  8 , total integrated cost =  2.6582576120705634\n"
     ]
    },
    {
     "output_type": "stream",
     "name": "stderr",
     "text": [
      "ERROR:root:Problem in initial value trasfer\n"
     ]
    },
    {
     "output_type": "stream",
     "name": "stdout",
     "text": [
      "RUN  9 , total integrated cost =  2.6582576120705634\n",
      "Control only changes marginally.\n",
      "RUN  9 , total integrated cost =  2.6582576120705634\n",
      "Improved over  9  iterations in  7.65913657299825  seconds by  0.00041840045280139293  percent.\n",
      "Problem in initial value trasfer:  Vmean_exc -74.52650754325066 -74.52650923942646\n",
      "1.1080739768629039e-05 0.0\n",
      "8.241242234202802e-09 0.0\n",
      "set cost params:  18.98 0.0 1.0\n",
      "----- 204\n",
      "interpolate adjoint :  True True True\n",
      "RUN  0 , total integrated cost =  2.65834336169146\n",
      "Gradient descend method:  None\n",
      "RUN  1 , total integrated cost =  2.658331397284595\n",
      "RUN  2 , total integrated cost =  2.6583313856353965\n",
      "RUN  3 , total integrated cost =  2.658331385091279\n",
      "RUN  4 , total integrated cost =  2.658331384934949\n",
      "RUN  5 , total integrated cost =  2.658331384905525\n",
      "RUN  6 , total integrated cost =  2.658331384612612\n",
      "RUN  7 , total integrated cost =  2.6583310023664795\n",
      "RUN  8 , total integrated cost =  2.65833064617137\n",
      "RUN  9 , total integrated cost =  2.658330645817585\n",
      "RUN  10 , total integrated cost =  2.6583306458175846\n",
      "RUN  11 , total integrated cost =  2.6583306458175824\n"
     ]
    },
    {
     "output_type": "stream",
     "name": "stderr",
     "text": [
      "ERROR:root:Problem in initial value trasfer\n"
     ]
    },
    {
     "output_type": "stream",
     "name": "stdout",
     "text": [
      "RUN  12 , total integrated cost =  2.6583306458175824\n",
      "Control only changes marginally.\n",
      "RUN  12 , total integrated cost =  2.6583306458175824\n",
      "Improved over  12  iterations in  9.876612082000065  seconds by  0.00047833827866838874  percent.\n",
      "Problem in initial value trasfer:  Vmean_exc -74.52652118452352 -74.52652281770817\n",
      "1.1615392003739671e-05 0.0\n",
      "8.241242234202802e-09 0.0\n",
      "set cost params:  18.975 0.0 1.0\n",
      "----- 205\n",
      "interpolate adjoint :  True True True\n",
      "RUN  0 , total integrated cost =  2.6584207199836434\n",
      "Gradient descend method:  None\n",
      "RUN  1 , total integrated cost =  2.6584082167799106\n",
      "RUN  2 , total integrated cost =  2.6584082039932526\n",
      "RUN  3 , total integrated cost =  2.6584082038636505\n",
      "RUN  4 , total integrated cost =  2.6584082038636487\n"
     ]
    },
    {
     "output_type": "stream",
     "name": "stderr",
     "text": [
      "ERROR:root:Problem in initial value trasfer\n"
     ]
    },
    {
     "output_type": "stream",
     "name": "stdout",
     "text": [
      "RUN  5 , total integrated cost =  2.6584082038636487\n",
      "Control only changes marginally.\n",
      "RUN  5 , total integrated cost =  2.6584082038636487\n",
      "Improved over  5  iterations in  4.1219291140005225  seconds by  0.00047081035370410973  percent.\n",
      "Problem in initial value trasfer:  Vmean_exc -74.52653411865958 -74.52653569211847\n",
      "1.2269009873623194e-05 0.0\n",
      "8.241242234202802e-09 0.0\n",
      "set cost params:  18.97 0.0 1.0\n",
      "----- 206\n",
      "interpolate adjoint :  True True True\n",
      "RUN  0 , total integrated cost =  2.6585037929751225\n",
      "Gradient descend method:  None\n",
      "RUN  1 , total integrated cost =  2.658489744448907\n",
      "RUN  2 , total integrated cost =  2.658489732607499\n",
      "RUN  3 , total integrated cost =  2.6584897317928955\n",
      "RUN  4 , total integrated cost =  2.658489731772401\n",
      "RUN  5 , total integrated cost =  2.6584897317723994\n",
      "RUN  6 , total integrated cost =  2.658489731772399\n"
     ]
    },
    {
     "output_type": "stream",
     "name": "stderr",
     "text": [
      "ERROR:root:Problem in initial value trasfer\n"
     ]
    },
    {
     "output_type": "stream",
     "name": "stdout",
     "text": [
      "RUN  7 , total integrated cost =  2.658489731772399\n",
      "Control only changes marginally.\n",
      "RUN  7 , total integrated cost =  2.658489731772399\n",
      "Improved over  7  iterations in  6.038709549000487  seconds by  0.0005289141493989291  percent.\n",
      "Problem in initial value trasfer:  Vmean_exc -74.52654663623066 -74.52654815188738\n",
      "1.2930869550732119e-05 0.0\n",
      "8.241242234202802e-09 0.0\n",
      "set cost params:  18.965 0.0 1.0\n",
      "----- 207\n",
      "interpolate adjoint :  True True True\n",
      "RUN  0 , total integrated cost =  2.6585712015542367\n",
      "Gradient descend method:  None\n",
      "RUN  1 , total integrated cost =  2.6585608368321685\n",
      "RUN  2 , total integrated cost =  2.6585608252536046\n",
      "RUN  3 , total integrated cost =  2.658560825113903\n",
      "RUN  4 , total integrated cost =  2.6585608250974118\n",
      "RUN  5 , total integrated cost =  2.6585608250966444\n",
      "RUN  6 , total integrated cost =  2.658560825096623\n",
      "RUN  7 , total integrated cost =  2.6585608250966217\n",
      "RUN  8 , total integrated cost =  2.658560825096621\n"
     ]
    },
    {
     "output_type": "stream",
     "name": "stderr",
     "text": [
      "ERROR:root:Problem in initial value trasfer\n"
     ]
    },
    {
     "output_type": "stream",
     "name": "stdout",
     "text": [
      "RUN  9 , total integrated cost =  2.658560825096621\n",
      "Control only changes marginally.\n",
      "RUN  9 , total integrated cost =  2.658560825096621\n",
      "Improved over  9  iterations in  7.52695044799475  seconds by  0.00039030203929257823  percent.\n",
      "Problem in initial value trasfer:  Vmean_exc -74.52655910781908 -74.52656056588592\n",
      "1.3408054978853963e-05 0.0\n",
      "8.241242234202802e-09 0.0\n",
      "set cost params:  18.96 0.0 1.0\n",
      "----- 208\n",
      "interpolate adjoint :  True True True\n",
      "RUN  0 , total integrated cost =  2.6586665408099392\n",
      "Gradient descend method:  None\n",
      "RUN  1 , total integrated cost =  2.658650170789091\n",
      "RUN  2 , total integrated cost =  2.658650159023061\n",
      "RUN  3 , total integrated cost =  2.658650156757017\n",
      "RUN  4 , total integrated cost =  2.6586501567507645\n",
      "RUN  5 , total integrated cost =  2.6586501567506726\n",
      "RUN  6 , total integrated cost =  2.658650156750655\n",
      "RUN  7 , total integrated cost =  2.6586501567506478\n",
      "RUN  8 , total integrated cost =  2.6586501567506455\n",
      "RUN  9 , total integrated cost =  2.6586501567506446\n",
      "RUN  10 , total integrated cost =  2.6586501567506424\n"
     ]
    },
    {
     "output_type": "stream",
     "name": "stderr",
     "text": [
      "ERROR:root:Problem in initial value trasfer\n"
     ]
    },
    {
     "output_type": "stream",
     "name": "stdout",
     "text": [
      "RUN  11 , total integrated cost =  2.6586501567506424\n",
      "Control only changes marginally.\n",
      "RUN  11 , total integrated cost =  2.6586501567506424\n",
      "Improved over  11  iterations in  9.41626334299508  seconds by  0.0006162510057379222  percent.\n",
      "Problem in initial value trasfer:  Vmean_exc -74.52657060816284 -74.52657201312476\n",
      "1.4183837788068398e-05 0.0\n",
      "8.241242234202802e-09 0.0\n",
      "set cost params:  18.955000000000002 0.0 1.0\n",
      "----- 209\n",
      "interpolate adjoint :  True True True\n",
      "RUN  0 , total integrated cost =  2.6587409405782254\n",
      "Gradient descend method:  None\n",
      "RUN  1 , total integrated cost =  2.6587280388231647\n",
      "RUN  2 , total integrated cost =  2.6587280370169983\n",
      "RUN  3 , total integrated cost =  2.65872803685789\n",
      "RUN  4 , total integrated cost =  2.658728036850135\n",
      "RUN  5 , total integrated cost =  2.658728036850129\n",
      "RUN  6 , total integrated cost =  2.6587280368501287\n"
     ]
    },
    {
     "output_type": "stream",
     "name": "stderr",
     "text": [
      "ERROR:root:Problem in initial value trasfer\n"
     ]
    },
    {
     "output_type": "stream",
     "name": "stdout",
     "text": [
      "RUN  7 , total integrated cost =  2.6587280368501287\n",
      "Control only changes marginally.\n",
      "RUN  7 , total integrated cost =  2.6587280368501287\n",
      "Improved over  7  iterations in  5.8169437930046115  seconds by  0.0004853322826505746  percent.\n",
      "Problem in initial value trasfer:  Vmean_exc -74.52658067465613 -74.52658203313413\n",
      "1.4786463758802713e-05 0.0\n",
      "8.241242234202802e-09 0.0\n",
      "set cost params:  18.95 0.0 1.0\n",
      "----- 210\n",
      "interpolate adjoint :  True True True\n",
      "RUN  0 , total integrated cost =  2.6588469268750337\n",
      "Gradient descend method:  None\n",
      "RUN  1 , total integrated cost =  2.6588261116713547\n",
      "RUN  2 , total integrated cost =  2.658826111671354\n",
      "RUN  3 , total integrated cost =  2.658826111671353\n",
      "RUN  4 , total integrated cost =  2.6588261116713525\n"
     ]
    },
    {
     "output_type": "stream",
     "name": "stderr",
     "text": [
      "ERROR:root:Problem in initial value trasfer\n"
     ]
    },
    {
     "output_type": "stream",
     "name": "stdout",
     "text": [
      "RUN  5 , total integrated cost =  2.6588261116713525\n",
      "Control only changes marginally.\n",
      "RUN  5 , total integrated cost =  2.6588261116713525\n",
      "Improved over  5  iterations in  4.445522797002923  seconds by  0.0007828658156512347  percent.\n",
      "Problem in initial value trasfer:  Vmean_exc -74.52659175239675 -74.52659305972126\n",
      "1.5405123067034186e-05 0.0\n",
      "8.241242234202802e-09 0.0\n",
      "set cost params:  18.945 0.0 1.0\n",
      "----- 211\n",
      "interpolate adjoint :  True True True\n",
      "RUN  0 , total integrated cost =  2.6589508766210996\n",
      "Gradient descend method:  None\n",
      "RUN  1 , total integrated cost =  2.658929357879248\n",
      "RUN  2 , total integrated cost =  2.6589293516570467\n",
      "RUN  3 , total integrated cost =  2.6589293514739643\n",
      "RUN  4 , total integrated cost =  2.658929351354074\n",
      "RUN  5 , total integrated cost =  2.6589293504721625\n",
      "RUN  6 , total integrated cost =  2.658929269486453\n",
      "RUN  7 , total integrated cost =  2.6589290215440853\n",
      "RUN  8 , total integrated cost =  2.65892902123951\n",
      "RUN  9 , total integrated cost =  2.658929021139707\n",
      "RUN  10 , total integrated cost =  2.658929020529692\n",
      "RUN  11 , total integrated cost =  2.658929020529691\n",
      "RUN  12 , total integrated cost =  2.6589290205296905\n"
     ]
    },
    {
     "output_type": "stream",
     "name": "stderr",
     "text": [
      "ERROR:root:Problem in initial value trasfer\n"
     ]
    },
    {
     "output_type": "stream",
     "name": "stdout",
     "text": [
      "RUN  13 , total integrated cost =  2.6589290205296905\n",
      "Control only changes marginally.\n",
      "RUN  13 , total integrated cost =  2.6589290205296905\n",
      "Improved over  13  iterations in  10.682018198996957  seconds by  0.0008219817673733587  percent.\n",
      "Problem in initial value trasfer:  Vmean_exc -74.5266026889891 -74.5266039458119\n",
      "1.5848011398257858e-05 0.0\n",
      "8.241242234202802e-09 0.0\n",
      "set cost params:  18.94 0.0 1.0\n",
      "----- 212\n",
      "interpolate adjoint :  True True True\n",
      "RUN  0 , total integrated cost =  2.659057937440613\n",
      "Gradient descend method:  None\n",
      "RUN  1 , total integrated cost =  2.6590377654253157\n",
      "RUN  2 , total integrated cost =  2.6590377220605124\n",
      "RUN  3 , total integrated cost =  2.659037722060512\n"
     ]
    },
    {
     "output_type": "stream",
     "name": "stderr",
     "text": [
      "ERROR:root:Problem in initial value trasfer\n"
     ]
    },
    {
     "output_type": "stream",
     "name": "stdout",
     "text": [
      "RUN  4 , total integrated cost =  2.659037722060512\n",
      "Control only changes marginally.\n",
      "RUN  4 , total integrated cost =  2.659037722060512\n",
      "Improved over  4  iterations in  3.4505464019966894  seconds by  0.0007602459433684317  percent.\n",
      "Problem in initial value trasfer:  Vmean_exc -74.52661259369825 -74.52661380478423\n",
      "1.679925418731622e-05 0.0\n",
      "8.241242234202802e-09 0.0\n",
      "set cost params:  18.935 0.0 1.0\n",
      "----- 213\n",
      "interpolate adjoint :  True True True\n",
      "RUN  0 , total integrated cost =  2.659175317528249\n",
      "Gradient descend method:  None\n",
      "RUN  1 , total integrated cost =  2.659152319404968\n",
      "RUN  2 , total integrated cost =  2.659152319404965\n",
      "RUN  3 , total integrated cost =  2.659152319404964\n"
     ]
    },
    {
     "output_type": "stream",
     "name": "stderr",
     "text": [
      "ERROR:root:Problem in initial value trasfer\n"
     ]
    },
    {
     "output_type": "stream",
     "name": "stdout",
     "text": [
      "RUN  4 , total integrated cost =  2.659152319404964\n",
      "Control only changes marginally.\n",
      "RUN  4 , total integrated cost =  2.659152319404964\n",
      "Improved over  4  iterations in  3.6030549550050637  seconds by  0.0008648592341131689  percent.\n",
      "Problem in initial value trasfer:  Vmean_exc -74.52662238251789 -74.52662354840221\n",
      "1.7601831497531808e-05 0.0\n",
      "8.241242234202802e-09 0.0\n",
      "set cost params:  18.93 0.0 1.0\n",
      "----- 214\n",
      "interpolate adjoint :  True True True\n",
      "RUN  0 , total integrated cost =  2.6592689683337243\n",
      "Gradient descend method:  None\n",
      "RUN  1 , total integrated cost =  2.659252404244445\n",
      "RUN  2 , total integrated cost =  2.659252401425164\n",
      "RUN  3 , total integrated cost =  2.659251853405116\n",
      "RUN  4 , total integrated cost =  2.6592515662950102\n",
      "RUN  5 , total integrated cost =  2.65925156163198\n",
      "RUN  6 , total integrated cost =  2.6592515476657925\n",
      "RUN  7 , total integrated cost =  2.6592515436115596\n",
      "RUN  8 , total integrated cost =  2.6592515355277735\n",
      "RUN  9 , total integrated cost =  2.6592515197742057\n",
      "RUN  10 , total integrated cost =  2.659251516376532\n",
      "RUN  11 , total integrated cost =  2.6592515101388194\n",
      "RUN  12 , total integrated cost =  2.659251495319651\n",
      "RUN  13 , total integrated cost =  2.6592514920568076\n",
      "RUN  14 , total integrated cost =  2.6592514815157022\n",
      "RUN  15 , total integrated cost =  2.659251465387049\n",
      "RUN  16 , total integrated cost =  2.659251462363449\n",
      "RUN  17 , total integrated cost =  2.659251450525569\n",
      "RUN  18 , total integrated cost =  2.6592514330683357\n",
      "RUN  19 , total integrated cost =  2.6592514300478602\n",
      "RUN  20 , total integrated cost =  2.6592514182237017\n",
      "RUN  30 , total integrated cost =  2.6592513045694868\n"
     ]
    },
    {
     "output_type": "stream",
     "name": "stderr",
     "text": [
      "ERROR:root:Problem in initial value trasfer\n"
     ]
    },
    {
     "output_type": "stream",
     "name": "stdout",
     "text": [
      "RUN  40 , total integrated cost =  2.6592512058266444\n",
      "RUN  40 , total integrated cost =  2.6592512058266444\n",
      "Improved over  40  iterations in  34.59759575300268  seconds by  0.000667946991868007  percent.\n",
      "Problem in initial value trasfer:  Vmean_exc -74.52663218542027 -74.52663330603788\n",
      "1.8068755976805e-05 0.0\n",
      "8.241242234202802e-09 0.0\n",
      "set cost params:  18.925 0.0 1.0\n",
      "----- 215\n",
      "interpolate adjoint :  True True True\n",
      "RUN  0 , total integrated cost =  2.6593999677329347\n",
      "Gradient descend method:  None\n",
      "RUN  1 , total integrated cost =  2.6593770180264102\n",
      "RUN  2 , total integrated cost =  2.6593769898722632\n",
      "RUN  3 , total integrated cost =  2.6593769898722623\n"
     ]
    },
    {
     "output_type": "stream",
     "name": "stderr",
     "text": [
      "ERROR:root:Problem in initial value trasfer\n"
     ]
    },
    {
     "output_type": "stream",
     "name": "stdout",
     "text": [
      "RUN  4 , total integrated cost =  2.6593769898722623\n",
      "Control only changes marginally.\n",
      "RUN  4 , total integrated cost =  2.6593769898722623\n",
      "Improved over  4  iterations in  3.473210657000891  seconds by  0.0008640242517543584  percent.\n",
      "Problem in initial value trasfer:  Vmean_exc -74.52664127085642 -74.52664234952039\n",
      "1.891076434966824e-05 0.0\n",
      "8.241242234202802e-09 0.0\n",
      "set cost params:  18.919999999999998 0.0 1.0\n",
      "----- 216\n",
      "interpolate adjoint :  True True True\n",
      "RUN  0 , total integrated cost =  2.6595329719819354\n",
      "Gradient descend method:  None\n",
      "RUN  1 , total integrated cost =  2.6595094114500535\n",
      "RUN  2 , total integrated cost =  2.659509410010801\n",
      "RUN  3 , total integrated cost =  2.6595094099926992\n",
      "RUN  4 , total integrated cost =  2.6595094099922956\n",
      "RUN  5 , total integrated cost =  2.6595094099922947\n",
      "RUN  6 , total integrated cost =  2.659509409992294\n"
     ]
    },
    {
     "output_type": "stream",
     "name": "stderr",
     "text": [
      "ERROR:root:Problem in initial value trasfer\n"
     ]
    },
    {
     "output_type": "stream",
     "name": "stdout",
     "text": [
      "RUN  7 , total integrated cost =  2.659509409992294\n",
      "Control only changes marginally.\n",
      "RUN  7 , total integrated cost =  2.659509409992294\n",
      "Improved over  7  iterations in  5.608551830002398  seconds by  0.000885944633509439  percent.\n",
      "Problem in initial value trasfer:  Vmean_exc -74.52664985030489 -74.52665088935169\n",
      "1.9990220613151723e-05 0.0\n",
      "8.241242234202802e-09 0.0\n",
      "set cost params:  18.915 0.0 1.0\n",
      "----- 217\n",
      "interpolate adjoint :  True True True\n",
      "RUN  0 , total integrated cost =  2.6596744022173153\n",
      "Gradient descend method:  None\n",
      "RUN  1 , total integrated cost =  2.6596488500279847\n",
      "RUN  2 , total integrated cost =  2.6596488230466107\n",
      "RUN  3 , total integrated cost =  2.6596488219994354\n",
      "RUN  4 , total integrated cost =  2.6596488219715257\n",
      "RUN  5 , total integrated cost =  2.6596488219715244\n"
     ]
    },
    {
     "output_type": "stream",
     "name": "stderr",
     "text": [
      "ERROR:root:Problem in initial value trasfer\n"
     ]
    },
    {
     "output_type": "stream",
     "name": "stdout",
     "text": [
      "RUN  6 , total integrated cost =  2.6596488219715244\n",
      "Control only changes marginally.\n",
      "RUN  6 , total integrated cost =  2.6596488219715244\n",
      "Improved over  6  iterations in  5.258421650003584  seconds by  0.0009617811025890433  percent.\n",
      "Problem in initial value trasfer:  Vmean_exc -74.5266582181992 -74.52665921860573\n",
      "2.100661253849529e-05 0.0\n",
      "8.241242234202802e-09 0.0\n",
      "set cost params:  18.91 0.0 1.0\n",
      "----- 218\n",
      "interpolate adjoint :  True True True\n",
      "RUN  0 , total integrated cost =  2.65978881321766\n",
      "Gradient descend method:  None\n",
      "RUN  1 , total integrated cost =  2.659770531551929\n",
      "RUN  2 , total integrated cost =  2.659770508203915\n",
      "RUN  3 , total integrated cost =  2.6597704975456673\n",
      "RUN  4 , total integrated cost =  2.659770460498904\n",
      "RUN  5 , total integrated cost =  2.6597704057158214\n",
      "RUN  6 , total integrated cost =  2.6597704022605346\n",
      "RUN  7 , total integrated cost =  2.659768929753748\n",
      "RUN  8 , total integrated cost =  2.6597677931247947\n",
      "RUN  9 , total integrated cost =  2.659767755315682\n",
      "RUN  10 , total integrated cost =  2.6597676970003987\n",
      "RUN  11 , total integrated cost =  2.659767696017918\n",
      "RUN  12 , total integrated cost =  2.6597676873220606\n",
      "RUN  13 , total integrated cost =  2.659767665607888\n",
      "RUN  14 , total integrated cost =  2.659767663996444\n",
      "RUN  15 , total integrated cost =  2.6597676623138433\n",
      "RUN  16 , total integrated cost =  2.6597676334531886\n",
      "RUN  17 , total integrated cost =  2.659767623980914\n",
      "RUN  18 , total integrated cost =  2.6597676228643863\n",
      "RUN  19 , total integrated cost =  2.6597675871727966\n",
      "RUN  20 , total integrated cost =  2.659767566529015\n",
      "RUN  30 , total integrated cost =  2.6597669179523726\n"
     ]
    },
    {
     "output_type": "stream",
     "name": "stderr",
     "text": [
      "ERROR:root:Problem in initial value trasfer\n"
     ]
    },
    {
     "output_type": "stream",
     "name": "stdout",
     "text": [
      "RUN  40 , total integrated cost =  2.6597665893913467\n",
      "RUN  40 , total integrated cost =  2.6597665893913467\n",
      "Improved over  40  iterations in  34.035304069999256  seconds by  0.0008355485293805032  percent.\n",
      "Problem in initial value trasfer:  Vmean_exc -74.52666557955675 -74.52666654597087\n",
      "2.1648306153799717e-05 0.0\n",
      "8.241242234202802e-09 0.0\n",
      "set cost params:  18.905 0.0 1.0\n",
      "----- 219\n",
      "interpolate adjoint :  True True True\n",
      "RUN  0 , total integrated cost =  2.659945052342626\n",
      "Gradient descend method:  None\n",
      "RUN  1 , total integrated cost =  2.659919517582836\n",
      "RUN  2 , total integrated cost =  2.6599194900376992\n",
      "RUN  3 , total integrated cost =  2.6599194896050733\n",
      "RUN  4 , total integrated cost =  2.659919489579915\n",
      "RUN  5 , total integrated cost =  2.6599194895788107\n",
      "RUN  6 , total integrated cost =  2.6599194895788023\n",
      "RUN  7 , total integrated cost =  2.659919489578802\n"
     ]
    },
    {
     "output_type": "stream",
     "name": "stderr",
     "text": [
      "ERROR:root:Problem in initial value trasfer\n"
     ]
    },
    {
     "output_type": "stream",
     "name": "stdout",
     "text": [
      "RUN  8 , total integrated cost =  2.659919489578802\n",
      "Control only changes marginally.\n",
      "RUN  8 , total integrated cost =  2.659919489578802\n",
      "Improved over  8  iterations in  6.814457412001502  seconds by  0.0009610260107280055  percent.\n",
      "Problem in initial value trasfer:  Vmean_exc -74.52667343140686 -74.52667436156364\n",
      "2.2652474450359933e-05 0.0\n",
      "8.241242234202802e-09 0.0\n",
      "set cost params:  18.9 0.0 1.0\n",
      "----- 220\n",
      "interpolate adjoint :  True True True\n",
      "RUN  0 , total integrated cost =  2.660105891190178\n",
      "Gradient descend method:  None\n",
      "RUN  1 , total integrated cost =  2.660080504164359\n",
      "RUN  2 , total integrated cost =  2.6600804619264964\n",
      "RUN  3 , total integrated cost =  2.660080461926495\n"
     ]
    },
    {
     "output_type": "stream",
     "name": "stderr",
     "text": [
      "ERROR:root:Problem in initial value trasfer\n"
     ]
    },
    {
     "output_type": "stream",
     "name": "stdout",
     "text": [
      "RUN  4 , total integrated cost =  2.660080461926495\n",
      "Control only changes marginally.\n",
      "RUN  4 , total integrated cost =  2.660080461926495\n",
      "Improved over  4  iterations in  3.534179646994744  seconds by  0.0009559493013711062  percent.\n",
      "Problem in initial value trasfer:  Vmean_exc -74.52668076856403 -74.52668166484014\n",
      "2.4062106420992977e-05 0.0\n",
      "8.241242234202802e-09 0.0\n",
      "set cost params:  18.895 0.0 1.0\n",
      "----- 221\n",
      "interpolate adjoint :  True True True\n",
      "RUN  0 , total integrated cost =  2.660240085126525\n",
      "Gradient descend method:  None\n",
      "RUN  1 , total integrated cost =  2.660221057596259\n",
      "RUN  2 , total integrated cost =  2.660221042113709\n",
      "RUN  3 , total integrated cost =  2.6602210420687595\n",
      "RUN  4 , total integrated cost =  2.6602210420668255\n",
      "RUN  5 , total integrated cost =  2.66022104206667\n",
      "RUN  6 , total integrated cost =  2.660221042066657\n",
      "RUN  7 , total integrated cost =  2.6602210420666568\n",
      "RUN  8 , total integrated cost =  2.660221042066654\n"
     ]
    },
    {
     "output_type": "stream",
     "name": "stderr",
     "text": [
      "ERROR:root:Problem in initial value trasfer\n"
     ]
    },
    {
     "output_type": "stream",
     "name": "stdout",
     "text": [
      "RUN  9 , total integrated cost =  2.660221042066654\n",
      "Control only changes marginally.\n",
      "RUN  9 , total integrated cost =  2.660221042066654\n",
      "Improved over  9  iterations in  7.196557454000867  seconds by  0.0007158398964435264  percent.\n",
      "Problem in initial value trasfer:  Vmean_exc -74.52668801126259 -74.52668887409423\n",
      "2.525103042488113e-05 0.0\n",
      "8.241242234202802e-09 0.0\n",
      "set cost params:  18.89 0.0 1.0\n",
      "----- 222\n",
      "interpolate adjoint :  True True True\n",
      "RUN  0 , total integrated cost =  2.660429068905368\n",
      "Gradient descend method:  None\n",
      "RUN  1 , total integrated cost =  2.6603977429064116\n",
      "RUN  2 , total integrated cost =  2.6603977078602803\n",
      "RUN  3 , total integrated cost =  2.660397705992048\n",
      "RUN  4 , total integrated cost =  2.6603977059213766\n",
      "RUN  5 , total integrated cost =  2.660397705921376\n"
     ]
    },
    {
     "output_type": "stream",
     "name": "stderr",
     "text": [
      "ERROR:root:Problem in initial value trasfer\n"
     ]
    },
    {
     "output_type": "stream",
     "name": "stdout",
     "text": [
      "RUN  6 , total integrated cost =  2.660397705921376\n",
      "Control only changes marginally.\n",
      "RUN  6 , total integrated cost =  2.660397705921376\n",
      "Improved over  6  iterations in  4.99516238799697  seconds by  0.0011788693920919968  percent.\n",
      "Problem in initial value trasfer:  Vmean_exc -74.52669502750432 -74.52669585793718\n",
      "2.6419516936242038e-05 0.0\n",
      "8.241242234202802e-09 0.0\n",
      "set cost params:  18.884999999999998 0.0 1.0\n",
      "----- 223\n",
      "interpolate adjoint :  True True True\n",
      "RUN  0 , total integrated cost =  2.6606159977379757\n",
      "Gradient descend method:  None\n",
      "RUN  1 , total integrated cost =  2.6605835296643106\n",
      "RUN  2 , total integrated cost =  2.6605834879749963\n",
      "RUN  3 , total integrated cost =  2.6605834870162175\n",
      "RUN  4 , total integrated cost =  2.660583487010657\n",
      "RUN  5 , total integrated cost =  2.660583487010655\n"
     ]
    },
    {
     "output_type": "stream",
     "name": "stderr",
     "text": [
      "ERROR:root:Problem in initial value trasfer\n"
     ]
    },
    {
     "output_type": "stream",
     "name": "stdout",
     "text": [
      "RUN  6 , total integrated cost =  2.660583487010655\n",
      "Control only changes marginally.\n",
      "RUN  6 , total integrated cost =  2.660583487010655\n",
      "Improved over  6  iterations in  4.837344483996276  seconds by  0.001221924822985443  percent.\n",
      "Problem in initial value trasfer:  Vmean_exc -74.52670162207494 -74.52670242205616\n",
      "2.796997411638551e-05 0.0\n",
      "8.241242234202802e-09 0.0\n",
      "set cost params:  18.880000000000003 0.0 1.0\n",
      "----- 224\n",
      "interpolate adjoint :  True True True\n",
      "RUN  0 , total integrated cost =  2.6607699752619296\n",
      "Gradient descend method:  None\n",
      "RUN  1 , total integrated cost =  2.6607455938677367\n",
      "RUN  2 , total integrated cost =  2.660745575250343\n",
      "RUN  3 , total integrated cost =  2.6607455690431494\n",
      "RUN  4 , total integrated cost =  2.6607455178839166\n",
      "RUN  5 , total integrated cost =  2.6607454899587717\n",
      "RUN  6 , total integrated cost =  2.660745484319296\n",
      "RUN  7 , total integrated cost =  2.6607454259347505\n",
      "RUN  8 , total integrated cost =  2.660745392363401\n",
      "RUN  9 , total integrated cost =  2.6607453862622186\n",
      "RUN  10 , total integrated cost =  2.6607453338326392\n",
      "RUN  11 , total integrated cost =  2.660745301501305\n",
      "RUN  12 , total integrated cost =  2.6607452955054596\n",
      "RUN  13 , total integrated cost =  2.6607452452220697\n",
      "RUN  14 , total integrated cost =  2.6607452179227504\n",
      "RUN  15 , total integrated cost =  2.660745212136039\n",
      "RUN  16 , total integrated cost =  2.6607451527931443\n",
      "RUN  17 , total integrated cost =  2.6607451219696157\n",
      "RUN  18 , total integrated cost =  2.6607451159496613\n",
      "RUN  19 , total integrated cost =  2.660745051776042\n",
      "RUN  20 , total integrated cost =  2.6607450198646436\n",
      "RUN  30 , total integrated cost =  2.6607447162654805\n"
     ]
    },
    {
     "output_type": "stream",
     "name": "stderr",
     "text": [
      "ERROR:root:Problem in initial value trasfer\n"
     ]
    },
    {
     "output_type": "stream",
     "name": "stdout",
     "text": [
      "RUN  40 , total integrated cost =  2.6607443405152846\n",
      "RUN  40 , total integrated cost =  2.6607443405152846\n",
      "Improved over  40  iterations in  33.82392302300286  seconds by  0.0009634334002299738  percent.\n",
      "Problem in initial value trasfer:  Vmean_exc -74.5267072691685 -74.52670804307327\n",
      "2.941733454160144e-05 0.0\n",
      "8.241242234202802e-09 0.0\n",
      "set cost params:  18.875 0.0 1.0\n",
      "----- 225\n",
      "interpolate adjoint :  True True True\n",
      "RUN  0 , total integrated cost =  2.660990515150277\n",
      "Gradient descend method:  None\n",
      "RUN  1 , total integrated cost =  2.660947818842651\n",
      "RUN  2 , total integrated cost =  2.6609477357023166\n",
      "RUN  3 , total integrated cost =  2.6609476545985187\n"
     ]
    },
    {
     "output_type": "stream",
     "name": "stderr",
     "text": [
      "ERROR:root:Problem in initial value trasfer\n"
     ]
    },
    {
     "output_type": "stream",
     "name": "stdout",
     "text": [
      "RUN  4 , total integrated cost =  2.6609476545985187\n",
      "Control only changes marginally.\n",
      "RUN  4 , total integrated cost =  2.6609476545985187\n",
      "Improved over  4  iterations in  3.3725055219983915  seconds by  0.0016106991556057437  percent.\n",
      "Problem in initial value trasfer:  Vmean_exc -74.52671361845994 -74.5267143630457\n",
      "3.062690359601603e-05 0.0\n",
      "8.241242234202802e-09 0.0\n",
      "set cost params:  18.869999999999997 0.0 1.0\n",
      "----- 226\n",
      "interpolate adjoint :  True True True\n",
      "RUN  0 , total integrated cost =  2.6612057347493647\n",
      "Gradient descend method:  None\n",
      "RUN  1 , total integrated cost =  2.661161576157207\n",
      "RUN  2 , total integrated cost =  2.6611615502924892\n",
      "RUN  3 , total integrated cost =  2.661161549995208\n",
      "RUN  4 , total integrated cost =  2.6611615499952075\n"
     ]
    },
    {
     "output_type": "stream",
     "name": "stderr",
     "text": [
      "ERROR:root:Problem in initial value trasfer\n"
     ]
    },
    {
     "output_type": "stream",
     "name": "stdout",
     "text": [
      "RUN  5 , total integrated cost =  2.6611615499952075\n",
      "Control only changes marginally.\n",
      "RUN  5 , total integrated cost =  2.6611615499952075\n",
      "Improved over  5  iterations in  3.566815532001783  seconds by  0.0016603283834939475  percent.\n",
      "Problem in initial value trasfer:  Vmean_exc -74.52671949332237 -74.52672021077991\n",
      "3.251364436918607e-05 0.0\n",
      "8.241242234202802e-09 0.0\n",
      "set cost params:  18.865000000000002 0.0 1.0\n",
      "----- 227\n",
      "interpolate adjoint :  True True True\n",
      "RUN  0 , total integrated cost =  2.6614386020005854\n",
      "Gradient descend method:  None\n",
      "RUN  1 , total integrated cost =  2.6613868290138822\n",
      "RUN  2 , total integrated cost =  2.661386817758898\n",
      "RUN  3 , total integrated cost =  2.661386817543787\n",
      "RUN  4 , total integrated cost =  2.661386816675623\n",
      "RUN  5 , total integrated cost =  2.6613867309620547\n",
      "RUN  6 , total integrated cost =  2.6613866394188763\n",
      "RUN  7 , total integrated cost =  2.661386638302081\n",
      "RUN  8 , total integrated cost =  2.661386638071172\n",
      "RUN  9 , total integrated cost =  2.6613866369011845\n",
      "RUN  10 , total integrated cost =  2.661386394259562\n",
      "RUN  11 , total integrated cost =  2.661386264994264\n",
      "RUN  12 , total integrated cost =  2.661386263069748\n",
      "RUN  13 , total integrated cost =  2.661386262756176\n",
      "RUN  14 , total integrated cost =  2.6613862609271677\n",
      "RUN  15 , total integrated cost =  2.661386181083965\n",
      "RUN  16 , total integrated cost =  2.6613861389227176\n",
      "RUN  17 , total integrated cost =  2.6613861377685706\n",
      "RUN  18 , total integrated cost =  2.6613861374237704\n",
      "RUN  19 , total integrated cost =  2.6613861334521793\n",
      "RUN  20 , total integrated cost =  2.661386092436963\n",
      "RUN  30 , total integrated cost =  2.661385970892445\n"
     ]
    },
    {
     "output_type": "stream",
     "name": "stderr",
     "text": [
      "ERROR:root:Problem in initial value trasfer\n"
     ]
    },
    {
     "output_type": "stream",
     "name": "stdout",
     "text": [
      "RUN  40 , total integrated cost =  2.6613851345400286\n",
      "RUN  40 , total integrated cost =  2.6613851345400286\n",
      "Improved over  40  iterations in  31.057788010999502  seconds by  0.0020089684021513676  percent.\n",
      "Problem in initial value trasfer:  Vmean_exc -74.52672548314686 -74.52672617294529\n",
      "3.3526611417570765e-05 0.0\n",
      "8.241242234202802e-09 0.0\n",
      "set cost params:  18.86 0.0 1.0\n",
      "----- 228\n",
      "interpolate adjoint :  True True True\n",
      "RUN  0 , total integrated cost =  2.6616157933993514\n",
      "Gradient descend method:  None\n",
      "RUN  1 , total integrated cost =  2.6615817670765574\n",
      "RUN  2 , total integrated cost =  2.661581760544955\n",
      "RUN  3 , total integrated cost =  2.661581693178075\n",
      "RUN  4 , total integrated cost =  2.661581692881724\n",
      "RUN  5 , total integrated cost =  2.661581692881723\n",
      "RUN  6 , total integrated cost =  2.661581692881722\n",
      "RUN  7 , total integrated cost =  2.6615816928817218\n"
     ]
    },
    {
     "output_type": "stream",
     "name": "stderr",
     "text": [
      "ERROR:root:Problem in initial value trasfer\n"
     ]
    },
    {
     "output_type": "stream",
     "name": "stdout",
     "text": [
      "RUN  8 , total integrated cost =  2.6615816928817218\n",
      "Control only changes marginally.\n",
      "RUN  8 , total integrated cost =  2.6615816928817218\n",
      "Improved over  8  iterations in  6.356965485996625  seconds by  0.001281196095774817  percent.\n",
      "Problem in initial value trasfer:  Vmean_exc -74.52673107282038 -74.52673173680749\n",
      "3.514531351989451e-05 0.0\n",
      "8.241242234202802e-09 0.0\n",
      "set cost params:  18.855 0.0 1.0\n",
      "----- 229\n",
      "interpolate adjoint :  True True True\n",
      "RUN  0 , total integrated cost =  2.6618847305239504\n",
      "Gradient descend method:  None\n",
      "RUN  1 , total integrated cost =  2.661829369703701\n",
      "RUN  2 , total integrated cost =  2.661829330307289\n",
      "RUN  3 , total integrated cost =  2.6618293085369737\n",
      "RUN  4 , total integrated cost =  2.6618292720288887\n",
      "RUN  5 , total integrated cost =  2.6618292650642976\n",
      "RUN  6 , total integrated cost =  2.661829099430142\n",
      "RUN  7 , total integrated cost =  2.6618289353036855\n",
      "RUN  8 , total integrated cost =  2.6618289096462755\n",
      "RUN  9 , total integrated cost =  2.6618288709205795\n",
      "RUN  10 , total integrated cost =  2.6618288644828545\n",
      "RUN  11 , total integrated cost =  2.6618287780174668\n",
      "RUN  12 , total integrated cost =  2.661828740514855\n",
      "RUN  13 , total integrated cost =  2.661828701486641\n",
      "RUN  14 , total integrated cost =  2.6618286535321705\n",
      "RUN  15 , total integrated cost =  2.6618286477174027\n",
      "RUN  16 , total integrated cost =  2.66182857280187\n",
      "RUN  17 , total integrated cost =  2.6618285568353377\n",
      "RUN  18 , total integrated cost =  2.6618276283006677\n",
      "RUN  19 , total integrated cost =  2.6618268613389877\n",
      "RUN  20 , total integrated cost =  2.661826857211156\n",
      "RUN  30 , total integrated cost =  2.6618265827513863\n"
     ]
    },
    {
     "output_type": "stream",
     "name": "stderr",
     "text": [
      "ERROR:root:Problem in initial value trasfer\n"
     ]
    },
    {
     "output_type": "stream",
     "name": "stdout",
     "text": [
      "RUN  40 , total integrated cost =  2.6618220816935447\n",
      "RUN  40 , total integrated cost =  2.6618220816935447\n",
      "Improved over  40  iterations in  30.8757150839956  seconds by  0.0023535515902324278  percent.\n",
      "Problem in initial value trasfer:  Vmean_exc -74.52673656506184 -74.5267372036875\n",
      "3.633179516754815e-05 0.0\n",
      "8.241242234202802e-09 0.0\n",
      "set cost params:  18.85 0.0 1.0\n",
      "----- 230\n",
      "interpolate adjoint :  True True True\n",
      "RUN  0 , total integrated cost =  2.662075049402696\n",
      "Gradient descend method:  None\n",
      "RUN  1 , total integrated cost =  2.662038055639395\n",
      "RUN  2 , total integrated cost =  2.662037957867236\n",
      "RUN  3 , total integrated cost =  2.6620379560633953\n",
      "RUN  4 , total integrated cost =  2.6620379557562153\n",
      "RUN  5 , total integrated cost =  2.6620379557472527\n",
      "RUN  6 , total integrated cost =  2.6620379557468015\n",
      "RUN  7 , total integrated cost =  2.6620379557468\n"
     ]
    },
    {
     "output_type": "stream",
     "name": "stderr",
     "text": [
      "ERROR:root:Problem in initial value trasfer\n"
     ]
    },
    {
     "output_type": "stream",
     "name": "stdout",
     "text": [
      "RUN  8 , total integrated cost =  2.6620379557468\n",
      "Control only changes marginally.\n",
      "RUN  8 , total integrated cost =  2.6620379557468\n",
      "Improved over  8  iterations in  6.603442959996755  seconds by  0.0013934113504490142  percent.\n",
      "Problem in initial value trasfer:  Vmean_exc -74.52674132545397 -74.52674194209767\n",
      "3.7360068952518894e-05 0.0\n",
      "8.241242234202802e-09 0.0\n",
      "set cost params:  18.845 0.0 1.0\n",
      "----- 231\n",
      "interpolate adjoint :  True True True\n",
      "RUN  0 , total integrated cost =  2.6623622612311926\n",
      "Gradient descend method:  None\n",
      "RUN  1 , total integrated cost =  2.662309911336158\n",
      "RUN  2 , total integrated cost =  2.662309781631436\n",
      "RUN  3 , total integrated cost =  2.662309781304511\n",
      "RUN  4 , total integrated cost =  2.6623097813025773\n",
      "RUN  5 , total integrated cost =  2.6623097813021035\n",
      "RUN  6 , total integrated cost =  2.662309781301835\n",
      "RUN  7 , total integrated cost =  2.6623097813018304\n",
      "RUN  8 , total integrated cost =  2.662309781301828\n",
      "RUN  9 , total integrated cost =  2.662309781301827\n"
     ]
    },
    {
     "output_type": "stream",
     "name": "stderr",
     "text": [
      "ERROR:root:Problem in initial value trasfer\n"
     ]
    },
    {
     "output_type": "stream",
     "name": "stdout",
     "text": [
      "RUN  10 , total integrated cost =  2.662309781301827\n",
      "Control only changes marginally.\n",
      "RUN  10 , total integrated cost =  2.662309781301827\n",
      "Improved over  10  iterations in  7.53836696199869  seconds by  0.001971179134031331  percent.\n",
      "Problem in initial value trasfer:  Vmean_exc -74.52674624266007 -74.52674683659768\n",
      "3.9564575470182916e-05 0.0\n",
      "8.241242234202802e-09 0.0\n",
      "set cost params:  18.84 0.0 1.0\n",
      "----- 232\n",
      "interpolate adjoint :  True True True\n",
      "RUN  0 , total integrated cost =  2.662654412774799\n",
      "Gradient descend method:  None\n",
      "RUN  1 , total integrated cost =  2.6625962035551325\n",
      "RUN  2 , total integrated cost =  2.6625961312842508\n",
      "RUN  3 , total integrated cost =  2.662596131041317\n",
      "RUN  4 , total integrated cost =  2.6625961309350874\n",
      "RUN  5 , total integrated cost =  2.6625961308225605\n",
      "RUN  6 , total integrated cost =  2.6625961306799737\n",
      "RUN  7 , total integrated cost =  2.66259613055333\n",
      "RUN  8 , total integrated cost =  2.6625961275616294\n",
      "RUN  9 , total integrated cost =  2.66259608233575\n",
      "RUN  10 , total integrated cost =  2.6625960810690876\n",
      "RUN  11 , total integrated cost =  2.6625960809043288\n",
      "RUN  12 , total integrated cost =  2.662596080802864\n",
      "RUN  13 , total integrated cost =  2.662596080657665\n",
      "RUN  14 , total integrated cost =  2.662596080534899\n",
      "RUN  15 , total integrated cost =  2.662596078447097\n",
      "RUN  16 , total integrated cost =  2.662596033961561\n",
      "RUN  17 , total integrated cost =  2.6625960317596333\n",
      "RUN  18 , total integrated cost =  2.662596031574494\n",
      "RUN  19 , total integrated cost =  2.662596031468669\n",
      "RUN  20 , total integrated cost =  2.662596031330695\n",
      "RUN  30 , total integrated cost =  2.6625958839771773\n"
     ]
    },
    {
     "output_type": "stream",
     "name": "stderr",
     "text": [
      "ERROR:root:Problem in initial value trasfer\n"
     ]
    },
    {
     "output_type": "stream",
     "name": "stdout",
     "text": [
      "RUN  40 , total integrated cost =  2.662595830411367\n",
      "RUN  40 , total integrated cost =  2.662595830411367\n",
      "Improved over  40  iterations in  30.789000149998174  seconds by  0.00220014896228804  percent.\n",
      "Problem in initial value trasfer:  Vmean_exc -74.5267510783534 -74.52675164996131\n",
      "4.146309499124182e-05 0.0\n",
      "8.241242234202802e-09 0.0\n",
      "set cost params:  18.835 0.0 1.0\n",
      "----- 233\n",
      "interpolate adjoint :  True True True\n",
      "RUN  0 , total integrated cost =  2.662957485878906\n",
      "Gradient descend method:  None\n",
      "RUN  1 , total integrated cost =  2.6628973169252763\n",
      "RUN  2 , total integrated cost =  2.662897291572438\n",
      "RUN  3 , total integrated cost =  2.6628972298936815\n",
      "RUN  4 , total integrated cost =  2.662897124553517\n",
      "RUN  5 , total integrated cost =  2.6628971159283803\n",
      "RUN  6 , total integrated cost =  2.662896718668289\n",
      "RUN  7 , total integrated cost =  2.662896463949033\n",
      "RUN  8 , total integrated cost =  2.662896449617215\n",
      "RUN  9 , total integrated cost =  2.662896408754157\n",
      "RUN  10 , total integrated cost =  2.6628963927895386\n",
      "RUN  11 , total integrated cost =  2.662894729300267\n",
      "RUN  12 , total integrated cost =  2.662893979884451\n",
      "RUN  13 , total integrated cost =  2.6628939724287775\n",
      "RUN  14 , total integrated cost =  2.6628939208528326\n",
      "RUN  15 , total integrated cost =  2.6628938987013173\n",
      "RUN  16 , total integrated cost =  2.6628938956380726\n",
      "RUN  17 , total integrated cost =  2.662893527902964\n",
      "RUN  18 , total integrated cost =  2.662893311643945\n",
      "RUN  19 , total integrated cost =  2.6628933051514365\n",
      "RUN  20 , total integrated cost =  2.6628932549785786\n",
      "RUN  30 , total integrated cost =  2.6628929338150336\n"
     ]
    },
    {
     "output_type": "stream",
     "name": "stderr",
     "text": [
      "ERROR:root:Problem in initial value trasfer\n"
     ]
    },
    {
     "output_type": "stream",
     "name": "stdout",
     "text": [
      "RUN  40 , total integrated cost =  2.662892587937335\n",
      "RUN  40 , total integrated cost =  2.662892587937335\n",
      "Improved over  40  iterations in  29.53471402899595  seconds by  0.0024370626235992177  percent.\n",
      "Problem in initial value trasfer:  Vmean_exc -74.52675580651244 -74.52675635628725\n",
      "4.2983322056175224e-05 0.0\n",
      "8.241242234202802e-09 0.0\n",
      "set cost params:  18.830000000000002 0.0 1.0\n",
      "----- 234\n",
      "interpolate adjoint :  True True True\n",
      "RUN  0 , total integrated cost =  2.663267707658168\n",
      "Gradient descend method:  None\n",
      "RUN  1 , total integrated cost =  2.663209524608357\n",
      "RUN  2 , total integrated cost =  2.663209456826811\n",
      "RUN  3 , total integrated cost =  2.663209455902158\n",
      "RUN  4 , total integrated cost =  2.6632094558844113\n",
      "RUN  5 , total integrated cost =  2.663209455883566\n"
     ]
    },
    {
     "output_type": "stream",
     "name": "stderr",
     "text": [
      "ERROR:root:Problem in initial value trasfer\n"
     ]
    },
    {
     "output_type": "stream",
     "name": "stdout",
     "text": [
      "RUN  6 , total integrated cost =  2.663209455883566\n",
      "Control only changes marginally.\n",
      "RUN  6 , total integrated cost =  2.663209455883566\n",
      "Improved over  6  iterations in  4.200815175994649  seconds by  0.0021872294112341706  percent.\n",
      "Problem in initial value trasfer:  Vmean_exc -74.52676028106718 -74.52676081017991\n",
      "4.508142800087924e-05 0.0\n",
      "8.241242234202802e-09 0.0\n",
      "set cost params:  18.825 0.0 1.0\n",
      "----- 235\n",
      "interpolate adjoint :  True True True\n",
      "RUN  0 , total integrated cost =  2.6634550619424378\n",
      "Gradient descend method:  None\n",
      "RUN  1 , total integrated cost =  2.663429944021794\n",
      "RUN  2 , total integrated cost =  2.663429941005433\n",
      "RUN  3 , total integrated cost =  2.6634299400539194\n",
      "RUN  4 , total integrated cost =  2.663429939458643\n",
      "RUN  5 , total integrated cost =  2.663429819846925\n",
      "RUN  6 , total integrated cost =  2.663429594469641\n",
      "RUN  7 , total integrated cost =  2.6634295927124962\n",
      "RUN  8 , total integrated cost =  2.663429591936673\n",
      "RUN  9 , total integrated cost =  2.6634295810109805\n",
      "RUN  10 , total integrated cost =  2.663429527703898\n",
      "RUN  11 , total integrated cost =  2.6634295221877395\n",
      "RUN  12 , total integrated cost =  2.6634295209310133\n",
      "RUN  13 , total integrated cost =  2.6634295197185174\n",
      "RUN  14 , total integrated cost =  2.6634293646512135\n",
      "RUN  15 , total integrated cost =  2.663429257819768\n",
      "RUN  16 , total integrated cost =  2.6634292564453546\n",
      "RUN  17 , total integrated cost =  2.663429254607075\n",
      "RUN  18 , total integrated cost =  2.663429150341736\n",
      "RUN  19 , total integrated cost =  2.6634291047625855\n",
      "RUN  20 , total integrated cost =  2.663429103320028\n",
      "RUN  30 , total integrated cost =  2.663428860641385\n"
     ]
    },
    {
     "output_type": "stream",
     "name": "stderr",
     "text": [
      "ERROR:root:Problem in initial value trasfer\n"
     ]
    },
    {
     "output_type": "stream",
     "name": "stdout",
     "text": [
      "RUN  40 , total integrated cost =  2.663428721430554\n",
      "RUN  40 , total integrated cost =  2.663428721430554\n",
      "Improved over  40  iterations in  31.326496020003106  seconds by  0.0009889602516750529  percent.\n",
      "Problem in initial value trasfer:  Vmean_exc -74.52676412269896 -74.52676463407228\n",
      "4.695964410856146e-05 0.0\n",
      "8.241242234202802e-09 0.0\n",
      "set cost params:  18.82 0.0 1.0\n",
      "----- 236\n",
      "interpolate adjoint :  True True True\n",
      "RUN  0 , total integrated cost =  2.6638378734291255\n",
      "Gradient descend method:  None\n",
      "RUN  1 , total integrated cost =  2.6637738167471094\n",
      "RUN  2 , total integrated cost =  2.663773814224588\n",
      "RUN  3 , total integrated cost =  2.663773789267651\n",
      "RUN  4 , total integrated cost =  2.6637736908437963\n",
      "RUN  5 , total integrated cost =  2.663773680080544\n",
      "RUN  6 , total integrated cost =  2.663773677687652\n",
      "RUN  7 , total integrated cost =  2.663773655229396\n",
      "RUN  8 , total integrated cost =  2.663773566164424\n",
      "RUN  9 , total integrated cost =  2.6637735541588925\n",
      "RUN  10 , total integrated cost =  2.6637735517708694\n",
      "RUN  11 , total integrated cost =  2.6637735320215565\n",
      "RUN  12 , total integrated cost =  2.6637734460986806\n",
      "RUN  13 , total integrated cost =  2.66377343613058\n",
      "RUN  14 , total integrated cost =  2.663773433761776\n",
      "RUN  15 , total integrated cost =  2.663773408567229\n",
      "RUN  16 , total integrated cost =  2.6637733113041104\n",
      "RUN  17 , total integrated cost =  2.6637733002651616\n",
      "RUN  18 , total integrated cost =  2.663773297944554\n",
      "RUN  19 , total integrated cost =  2.6637732758410553\n",
      "RUN  20 , total integrated cost =  2.6637731873020267\n",
      "RUN  30 , total integrated cost =  2.663772946159032\n"
     ]
    },
    {
     "output_type": "stream",
     "name": "stderr",
     "text": [
      "ERROR:root:Problem in initial value trasfer\n"
     ]
    },
    {
     "output_type": "stream",
     "name": "stdout",
     "text": [
      "RUN  40 , total integrated cost =  2.6637726260834316\n",
      "RUN  40 , total integrated cost =  2.6637726260834316\n",
      "Improved over  40  iterations in  30.777050439006416  seconds by  0.002449373752995143  percent.\n",
      "Problem in initial value trasfer:  Vmean_exc -74.52676823675797 -74.52676872913386\n",
      "4.955020868078101e-05 0.0\n",
      "8.241242234202802e-09 0.0\n",
      "set cost params:  18.815 0.0 1.0\n",
      "----- 237\n",
      "interpolate adjoint :  True True True\n",
      "RUN  0 , total integrated cost =  2.6642032510279585\n",
      "Gradient descend method:  None\n",
      "RUN  1 , total integrated cost =  2.664135658972426\n",
      "RUN  2 , total integrated cost =  2.6641356196249983\n",
      "RUN  3 , total integrated cost =  2.6641352159051346\n",
      "RUN  4 , total integrated cost =  2.6641346057438433\n",
      "RUN  5 , total integrated cost =  2.6641345821564673\n",
      "RUN  6 , total integrated cost =  2.66413445100661\n",
      "RUN  7 , total integrated cost =  2.6641343875892067\n",
      "RUN  8 , total integrated cost =  2.6641342083253274\n",
      "RUN  9 , total integrated cost =  2.664133820599236\n",
      "RUN  10 , total integrated cost =  2.6641337997882593\n",
      "RUN  11 , total integrated cost =  2.66413364829721\n",
      "RUN  12 , total integrated cost =  2.6641335466611786\n",
      "RUN  13 , total integrated cost =  2.6641335128177883\n",
      "RUN  14 , total integrated cost =  2.6641333720700593\n",
      "RUN  15 , total integrated cost =  2.6641332907423627\n",
      "RUN  16 , total integrated cost =  2.6641332562759485\n",
      "RUN  17 , total integrated cost =  2.664133154186184\n",
      "RUN  18 , total integrated cost =  2.664133092494401\n",
      "RUN  19 , total integrated cost =  2.6641329651547054\n",
      "RUN  20 , total integrated cost =  2.6641327191143036\n",
      "RUN  30 , total integrated cost =  2.664131687453021\n"
     ]
    },
    {
     "output_type": "stream",
     "name": "stderr",
     "text": [
      "ERROR:root:Problem in initial value trasfer\n"
     ]
    },
    {
     "output_type": "stream",
     "name": "stdout",
     "text": [
      "RUN  40 , total integrated cost =  2.6641297553890713\n",
      "RUN  40 , total integrated cost =  2.6641297553890713\n",
      "Improved over  40  iterations in  30.91105656099535  seconds by  0.002758634832346729  percent.\n",
      "Problem in initial value trasfer:  Vmean_exc -74.52677211528473 -74.52677258975085\n",
      "5.2730592340246715e-05 0.0\n",
      "8.241242234202802e-09 0.0\n",
      "set cost params:  18.81 0.0 1.0\n",
      "----- 238\n",
      "interpolate adjoint :  True True True\n",
      "RUN  0 , total integrated cost =  2.6645881951708366\n",
      "Gradient descend method:  None\n",
      "RUN  1 , total integrated cost =  2.664510922265273\n",
      "RUN  2 , total integrated cost =  2.6645108875739494\n",
      "RUN  3 , total integrated cost =  2.664510887573949\n"
     ]
    },
    {
     "output_type": "stream",
     "name": "stderr",
     "text": [
      "ERROR:root:Problem in initial value trasfer\n"
     ]
    },
    {
     "output_type": "stream",
     "name": "stdout",
     "text": [
      "RUN  4 , total integrated cost =  2.664510887573949\n",
      "Control only changes marginally.\n",
      "RUN  4 , total integrated cost =  2.664510887573949\n",
      "Improved over  4  iterations in  2.977963188997819  seconds by  0.0029012962313572643  percent.\n",
      "Problem in initial value trasfer:  Vmean_exc -74.526776082703 -74.52677653884884\n",
      "5.454090916733799e-05 0.0\n",
      "8.241242234202802e-09 0.0\n",
      "set cost params:  18.805 0.0 1.0\n",
      "----- 239\n",
      "interpolate adjoint :  True True True\n",
      "RUN  0 , total integrated cost =  2.664892548496626\n",
      "Gradient descend method:  None\n",
      "RUN  1 , total integrated cost =  2.6648439020970907\n",
      "RUN  2 , total integrated cost =  2.6648438971607313\n",
      "RUN  3 , total integrated cost =  2.664842409905584\n",
      "RUN  4 , total integrated cost =  2.664840846873839\n",
      "RUN  5 , total integrated cost =  2.6648408436846025\n",
      "RUN  6 , total integrated cost =  2.6648408415652134\n",
      "RUN  7 , total integrated cost =  2.664840222722345\n",
      "RUN  8 , total integrated cost =  2.664839306345523\n",
      "RUN  9 , total integrated cost =  2.6648393050183223\n",
      "RUN  10 , total integrated cost =  2.664839288114961\n",
      "RUN  11 , total integrated cost =  2.6648392114376325\n",
      "RUN  12 , total integrated cost =  2.6648392075291203\n",
      "RUN  13 , total integrated cost =  2.664839206325948\n",
      "RUN  14 , total integrated cost =  2.6648391933162903\n",
      "RUN  15 , total integrated cost =  2.6648391172759274\n",
      "RUN  16 , total integrated cost =  2.6648391136056273\n",
      "RUN  17 , total integrated cost =  2.6648391123500095\n",
      "RUN  18 , total integrated cost =  2.6648390990014788\n",
      "RUN  19 , total integrated cost =  2.6648390231861065\n",
      "RUN  20 , total integrated cost =  2.664839010957684\n",
      "RUN  30 , total integrated cost =  2.6648388234559572\n"
     ]
    },
    {
     "output_type": "stream",
     "name": "stderr",
     "text": [
      "ERROR:root:Problem in initial value trasfer\n"
     ]
    },
    {
     "output_type": "stream",
     "name": "stdout",
     "text": [
      "RUN  40 , total integrated cost =  2.6648385430999806\n",
      "RUN  40 , total integrated cost =  2.6648385430999806\n",
      "Improved over  40  iterations in  29.958729288999166  seconds by  0.0020265506268088984  percent.\n",
      "Problem in initial value trasfer:  Vmean_exc -74.52677935422996 -74.52677979526894\n",
      "5.707492217633947e-05 0.0\n",
      "8.241242234202802e-09 0.0\n",
      "set cost params:  18.8 0.0 1.0\n",
      "----- 240\n",
      "interpolate adjoint :  True True True\n",
      "RUN  0 , total integrated cost =  2.665336994273534\n",
      "Gradient descend method:  None\n",
      "RUN  1 , total integrated cost =  2.665256730832384\n",
      "RUN  2 , total integrated cost =  2.665256608435848\n",
      "RUN  3 , total integrated cost =  2.665256585691896\n",
      "RUN  4 , total integrated cost =  2.665251388171661\n",
      "RUN  5 , total integrated cost =  2.665246775996551\n",
      "RUN  6 , total integrated cost =  2.665246765043632\n",
      "RUN  7 , total integrated cost =  2.665245903180031\n",
      "RUN  8 , total integrated cost =  2.665245152951192\n",
      "RUN  9 , total integrated cost =  2.6652451397640444\n",
      "RUN  10 , total integrated cost =  2.665244694963129\n",
      "RUN  11 , total integrated cost =  2.665244336133058\n",
      "RUN  12 , total integrated cost =  2.665244323849626\n",
      "RUN  13 , total integrated cost =  2.6652441450141575\n",
      "RUN  14 , total integrated cost =  2.6652440486449565\n",
      "RUN  15 , total integrated cost =  2.6652440398613284\n",
      "RUN  16 , total integrated cost =  2.665243586696045\n",
      "RUN  17 , total integrated cost =  2.6652433554144173\n",
      "RUN  18 , total integrated cost =  2.6652433465270033\n",
      "RUN  19 , total integrated cost =  2.6652392833222858\n",
      "RUN  20 , total integrated cost =  2.6652353512802622\n",
      "RUN  30 , total integrated cost =  2.6651760368806006\n"
     ]
    },
    {
     "output_type": "stream",
     "name": "stderr",
     "text": [
      "ERROR:root:Problem in initial value trasfer\n"
     ]
    },
    {
     "output_type": "stream",
     "name": "stdout",
     "text": [
      "Control only changes marginally.\n",
      "RUN  32 , total integrated cost =  2.6651760368805997\n",
      "Improved over  32  iterations in  26.177089184995566  seconds by  0.006038913401212653  percent.\n",
      "Problem in initial value trasfer:  Vmean_exc -74.5267828315879 -74.52678325656954\n",
      "5.829689520936318e-05 0.0\n",
      "8.241242234202802e-09 0.0\n",
      "set cost params:  18.794999999999998 0.0 1.0\n",
      "----- 241\n",
      "interpolate adjoint :  True True True\n",
      "RUN  0 , total integrated cost =  2.665586629087783\n",
      "Gradient descend method:  None\n",
      "RUN  1 , total integrated cost =  2.665535026815897\n",
      "RUN  2 , total integrated cost =  2.6655349762199254\n",
      "RUN  3 , total integrated cost =  2.6655349509991826\n",
      "RUN  4 , total integrated cost =  2.6655348563764947\n",
      "RUN  5 , total integrated cost =  2.6655348345813157\n",
      "RUN  6 , total integrated cost =  2.665534788634605\n",
      "RUN  7 , total integrated cost =  2.6655346410217646\n",
      "RUN  8 , total integrated cost =  2.6655346236110784\n",
      "RUN  9 , total integrated cost =  2.6655345681953317\n",
      "RUN  10 , total integrated cost =  2.665534416966096\n",
      "RUN  11 , total integrated cost =  2.6655343998417385\n",
      "RUN  12 , total integrated cost =  2.6655343413419286\n",
      "RUN  13 , total integrated cost =  2.6655341937929338\n",
      "RUN  14 , total integrated cost =  2.6655341769311054\n",
      "RUN  15 , total integrated cost =  2.665534115992132\n",
      "RUN  16 , total integrated cost =  2.6655339575881625\n",
      "RUN  17 , total integrated cost =  2.6655339413326704\n",
      "RUN  18 , total integrated cost =  2.665533867399715\n",
      "RUN  19 , total integrated cost =  2.6655336815898036\n",
      "RUN  20 , total integrated cost =  2.665533667150382\n",
      "RUN  30 , total integrated cost =  2.6655323866747342\n"
     ]
    },
    {
     "output_type": "stream",
     "name": "stderr",
     "text": [
      "ERROR:root:Problem in initial value trasfer\n"
     ]
    },
    {
     "output_type": "stream",
     "name": "stdout",
     "text": [
      "RUN  40 , total integrated cost =  2.665530934008503\n",
      "RUN  40 , total integrated cost =  2.665530934008503\n",
      "Improved over  40  iterations in  31.572764017000736  seconds by  0.0020894117141949664  percent.\n",
      "Problem in initial value trasfer:  Vmean_exc -74.52678628211484 -74.52678669116305\n",
      "6.139108314867101e-05 0.0\n",
      "8.241242234202802e-09 0.0\n",
      "set cost params:  18.79 0.0 1.0\n",
      "----- 242\n",
      "interpolate adjoint :  True True True\n",
      "RUN  0 , total integrated cost =  2.6660745455096944\n",
      "Gradient descend method:  None\n",
      "RUN  1 , total integrated cost =  2.6659831558054186\n",
      "RUN  2 , total integrated cost =  2.6659772919311444\n",
      "RUN  3 , total integrated cost =  2.665972118111618\n",
      "RUN  4 , total integrated cost =  2.6659721144023503\n",
      "RUN  5 , total integrated cost =  2.6659718968833483\n",
      "RUN  6 , total integrated cost =  2.665971500487434\n",
      "RUN  7 , total integrated cost =  2.6659714967631105\n",
      "RUN  8 , total integrated cost =  2.665971489807781\n",
      "RUN  9 , total integrated cost =  2.665971331981033\n",
      "RUN  10 , total integrated cost =  2.665971248947558\n",
      "RUN  11 , total integrated cost =  2.665971245821319\n",
      "RUN  12 , total integrated cost =  2.6659712267914646\n",
      "RUN  13 , total integrated cost =  2.665971156158797\n",
      "RUN  14 , total integrated cost =  2.665971142046634\n",
      "RUN  15 , total integrated cost =  2.665971138850564\n",
      "RUN  16 , total integrated cost =  2.6659711188909463\n",
      "RUN  17 , total integrated cost =  2.665971048630736\n",
      "RUN  18 , total integrated cost =  2.6659710379627617\n",
      "RUN  19 , total integrated cost =  2.6659710346874252\n",
      "RUN  20 , total integrated cost =  2.6659710187794725\n",
      "RUN  30 , total integrated cost =  2.66597072787578\n"
     ]
    },
    {
     "output_type": "stream",
     "name": "stderr",
     "text": [
      "ERROR:root:Problem in initial value trasfer\n"
     ]
    },
    {
     "output_type": "stream",
     "name": "stdout",
     "text": [
      "RUN  40 , total integrated cost =  2.6659705167354097\n",
      "RUN  40 , total integrated cost =  2.6659705167354097\n",
      "Improved over  40  iterations in  31.598421616996347  seconds by  0.0039019454448379065  percent.\n",
      "Problem in initial value trasfer:  Vmean_exc -74.52678964126976 -74.52679003480647\n",
      "6.451790444806177e-05 0.0\n",
      "8.241242234202802e-09 0.0\n",
      "set cost params:  18.785 0.0 1.0\n",
      "----- 243\n",
      "interpolate adjoint :  True True True\n",
      "RUN  0 , total integrated cost =  2.6664306037548253\n",
      "Gradient descend method:  None\n",
      "RUN  1 , total integrated cost =  2.666364973972931\n",
      "RUN  2 , total integrated cost =  2.666364908171142\n",
      "RUN  3 , total integrated cost =  2.666364893615066\n",
      "RUN  4 , total integrated cost =  2.666364803094809\n",
      "RUN  5 , total integrated cost =  2.6663647722631145\n",
      "RUN  6 , total integrated cost =  2.666364758380371\n",
      "RUN  7 , total integrated cost =  2.6663646680984363\n",
      "RUN  8 , total integrated cost =  2.666364636286589\n",
      "RUN  9 , total integrated cost =  2.6663646226208133\n",
      "RUN  10 , total integrated cost =  2.6663645298857936\n",
      "RUN  11 , total integrated cost =  2.6663644970721823\n",
      "RUN  12 , total integrated cost =  2.6663644835577016\n",
      "RUN  13 , total integrated cost =  2.666364390991638\n",
      "RUN  14 , total integrated cost =  2.6663643574737392\n",
      "RUN  15 , total integrated cost =  2.6663643438320483\n",
      "RUN  16 , total integrated cost =  2.6663642513262977\n",
      "RUN  17 , total integrated cost =  2.66636421758011\n",
      "RUN  18 , total integrated cost =  2.6663641878713027\n",
      "RUN  19 , total integrated cost =  2.6663640962454753\n",
      "RUN  20 , total integrated cost =  2.66636407029131\n",
      "RUN  30 , total integrated cost =  2.666360718211829\n"
     ]
    },
    {
     "output_type": "stream",
     "name": "stderr",
     "text": [
      "ERROR:root:Problem in initial value trasfer\n"
     ]
    },
    {
     "output_type": "stream",
     "name": "stdout",
     "text": [
      "RUN  40 , total integrated cost =  2.666352963069088\n",
      "RUN  40 , total integrated cost =  2.666352963069088\n",
      "Improved over  40  iterations in  31.701507295998454  seconds by  0.0029117834766907436  percent.\n",
      "Problem in initial value trasfer:  Vmean_exc -74.52679250254926 -74.52679288287352\n",
      "6.741113320486058e-05 0.0\n",
      "8.241242234202802e-09 0.0\n",
      "set cost params:  18.78 0.0 1.0\n",
      "----- 244\n",
      "interpolate adjoint :  True True True\n",
      "RUN  0 , total integrated cost =  2.6669570666014097\n",
      "Gradient descend method:  None\n",
      "RUN  1 , total integrated cost =  2.6668478355468133\n",
      "RUN  2 , total integrated cost =  2.666847744688897\n",
      "RUN  3 , total integrated cost =  2.6668476962571965\n",
      "RUN  4 , total integrated cost =  2.666847440216665\n",
      "RUN  5 , total integrated cost =  2.666847344872811\n",
      "RUN  6 , total integrated cost =  2.6668422440934076\n",
      "RUN  7 , total integrated cost =  2.6668363940169093\n",
      "RUN  8 , total integrated cost =  2.6668363486155204\n",
      "RUN  9 , total integrated cost =  2.6668354979282665\n",
      "RUN  10 , total integrated cost =  2.6668351617743107\n",
      "RUN  11 , total integrated cost =  2.666835034694801\n",
      "RUN  12 , total integrated cost =  2.6668349299478242\n",
      "RUN  13 , total integrated cost =  2.666834883788441\n",
      "RUN  14 , total integrated cost =  2.666833908240589\n",
      "RUN  15 , total integrated cost =  2.6668333715700006\n",
      "RUN  16 , total integrated cost =  2.6668332604004052\n",
      "RUN  17 , total integrated cost =  2.6668331548482853\n",
      "RUN  18 , total integrated cost =  2.666833107143539\n",
      "RUN  19 , total integrated cost =  2.666832166413895\n",
      "RUN  20 , total integrated cost =  2.6668317100201953\n",
      "RUN  30 , total integrated cost =  2.6668295692357087\n"
     ]
    },
    {
     "output_type": "stream",
     "name": "stderr",
     "text": [
      "ERROR:root:Problem in initial value trasfer\n"
     ]
    },
    {
     "output_type": "stream",
     "name": "stdout",
     "text": [
      "RUN  40 , total integrated cost =  2.666814260356481\n",
      "RUN  40 , total integrated cost =  2.666814260356481\n",
      "Improved over  40  iterations in  32.08034501200018  seconds by  0.005354651063456117  percent.\n",
      "Problem in initial value trasfer:  Vmean_exc -74.52679563584351 -74.52679600169921\n",
      "7.03443956714648e-05 0.0\n",
      "8.241242234202802e-09 0.0\n",
      "set cost params:  18.775 0.0 1.0\n",
      "----- 245\n",
      "interpolate adjoint :  True True True\n",
      "RUN  0 , total integrated cost =  2.6674486358155627\n",
      "Gradient descend method:  None\n",
      "RUN  1 , total integrated cost =  2.6673335884035616\n",
      "RUN  2 , total integrated cost =  2.6673334652877476\n",
      "RUN  3 , total integrated cost =  2.667333459118364\n",
      "RUN  4 , total integrated cost =  2.667333178018737\n",
      "RUN  5 , total integrated cost =  2.6673327811826533\n",
      "RUN  6 , total integrated cost =  2.6673327755336267\n",
      "RUN  7 , total integrated cost =  2.667332769197308\n",
      "RUN  8 , total integrated cost =  2.667332322348989\n",
      "RUN  9 , total integrated cost =  2.6673321324666013\n",
      "RUN  10 , total integrated cost =  2.667332129986042\n",
      "RUN  11 , total integrated cost =  2.6673321288517733\n",
      "RUN  12 , total integrated cost =  2.667332118042484\n",
      "RUN  13 , total integrated cost =  2.667331997785177\n",
      "RUN  14 , total integrated cost =  2.6673319740516477\n",
      "RUN  15 , total integrated cost =  2.667331972683547\n",
      "RUN  16 , total integrated cost =  2.6673319705397214\n",
      "RUN  17 , total integrated cost =  2.6673317918684125\n",
      "RUN  18 , total integrated cost =  2.6673314306836753\n",
      "RUN  19 , total integrated cost =  2.6673314292725654\n",
      "RUN  20 , total integrated cost =  2.6673314286564804\n",
      "RUN  30 , total integrated cost =  2.6673270050435494\n"
     ]
    },
    {
     "output_type": "stream",
     "name": "stderr",
     "text": [
      "ERROR:root:Problem in initial value trasfer\n"
     ]
    },
    {
     "output_type": "stream",
     "name": "stdout",
     "text": [
      "RUN  40 , total integrated cost =  2.667323167788242\n",
      "RUN  40 , total integrated cost =  2.667323167788242\n",
      "Improved over  40  iterations in  30.161337117002404  seconds by  0.004703671727199321  percent.\n",
      "Problem in initial value trasfer:  Vmean_exc -74.52679864064277 -74.52679899262328\n",
      "7.350200524222266e-05 0.0\n",
      "8.241242234202802e-09 0.0\n",
      "set cost params:  18.77 0.0 1.0\n",
      "----- 246\n",
      "interpolate adjoint :  True True True\n",
      "RUN  0 , total integrated cost =  2.6679907747415386\n",
      "Gradient descend method:  None\n",
      "RUN  1 , total integrated cost =  2.6678702178581295\n",
      "RUN  2 , total integrated cost =  2.6678699938475394\n",
      "RUN  3 , total integrated cost =  2.6678699922253153\n",
      "RUN  4 , total integrated cost =  2.667869992225314\n"
     ]
    },
    {
     "output_type": "stream",
     "name": "stderr",
     "text": [
      "ERROR:root:Problem in initial value trasfer\n"
     ]
    },
    {
     "output_type": "stream",
     "name": "stdout",
     "text": [
      "RUN  5 , total integrated cost =  2.667869992225314\n",
      "Control only changes marginally.\n",
      "RUN  5 , total integrated cost =  2.667869992225314\n",
      "Improved over  5  iterations in  4.1080051899989485  seconds by  0.004527096471548475  percent.\n",
      "Problem in initial value trasfer:  Vmean_exc -74.52680152990214 -74.52680186854096\n",
      "7.695869946444962e-05 0.0\n",
      "8.241242234202802e-09 0.0\n",
      "set cost params:  18.765 0.0 1.0\n",
      "----- 247\n",
      "interpolate adjoint :  True True True\n",
      "RUN  0 , total integrated cost =  2.668434711004695\n",
      "Gradient descend method:  None\n",
      "RUN  1 , total integrated cost =  2.6683486937462035\n",
      "RUN  2 , total integrated cost =  2.668348567106632\n",
      "RUN  3 , total integrated cost =  2.6683485632169806\n",
      "RUN  4 , total integrated cost =  2.668348563187703\n",
      "RUN  5 , total integrated cost =  2.6683485631875037\n"
     ]
    },
    {
     "output_type": "stream",
     "name": "stderr",
     "text": [
      "ERROR:root:Problem in initial value trasfer\n"
     ]
    },
    {
     "output_type": "stream",
     "name": "stdout",
     "text": [
      "RUN  6 , total integrated cost =  2.6683485631875037\n",
      "Control only changes marginally.\n",
      "RUN  6 , total integrated cost =  2.6683485631875037\n",
      "Improved over  6  iterations in  4.2514998219994595  seconds by  0.0032284026600422067  percent.\n",
      "Problem in initial value trasfer:  Vmean_exc -74.52680402334597 -74.52680435047088\n",
      "7.994911931198591e-05 0.0\n",
      "8.241242234202802e-09 0.0\n",
      "set cost params:  18.759999999999998 0.0 1.0\n",
      "----- 248\n",
      "interpolate adjoint :  True True True\n",
      "RUN  0 , total integrated cost =  2.668937631028053\n",
      "Gradient descend method:  None\n",
      "RUN  1 , total integrated cost =  2.66884829550448\n",
      "RUN  2 , total integrated cost =  2.6688480307983116\n",
      "RUN  3 , total integrated cost =  2.6688480135769783\n",
      "RUN  4 , total integrated cost =  2.6688470336618018\n",
      "RUN  5 , total integrated cost =  2.6688462382936335\n",
      "RUN  6 , total integrated cost =  2.668846221122062\n",
      "RUN  7 , total integrated cost =  2.668845831354336\n",
      "RUN  8 , total integrated cost =  2.6688448183056446\n",
      "RUN  9 , total integrated cost =  2.6688448041759893\n",
      "RUN  10 , total integrated cost =  2.6688447584370256\n",
      "RUN  11 , total integrated cost =  2.6688445840244133\n",
      "RUN  12 , total integrated cost =  2.6688445136481973\n",
      "RUN  13 , total integrated cost =  2.668844504226338\n",
      "RUN  14 , total integrated cost =  2.668844386584289\n",
      "RUN  15 , total integrated cost =  2.668844210610839\n",
      "RUN  16 , total integrated cost =  2.668844196765883\n",
      "RUN  17 , total integrated cost =  2.6688441504065517\n",
      "RUN  18 , total integrated cost =  2.668843976960725\n",
      "RUN  19 , total integrated cost =  2.6688439079502664\n",
      "RUN  20 , total integrated cost =  2.668843898494325\n",
      "RUN  30 , total integrated cost =  2.668842770118401\n"
     ]
    },
    {
     "output_type": "stream",
     "name": "stderr",
     "text": [
      "ERROR:root:Problem in initial value trasfer\n"
     ]
    },
    {
     "output_type": "stream",
     "name": "stdout",
     "text": [
      "RUN  40 , total integrated cost =  2.6688385163232695\n",
      "RUN  40 , total integrated cost =  2.6688385163232695\n",
      "Improved over  40  iterations in  31.468518726003822  seconds by  0.0037136388513232532  percent.\n",
      "Problem in initial value trasfer:  Vmean_exc -74.52680676616612 -74.52680708062556\n",
      "8.25824958338646e-05 0.0\n",
      "8.241242234202802e-09 0.0\n",
      "set cost params:  18.755000000000003 0.0 1.0\n",
      "----- 249\n",
      "interpolate adjoint :  True True True\n",
      "RUN  0 , total integrated cost =  2.669597226636845\n",
      "Gradient descend method:  None\n",
      "RUN  1 , total integrated cost =  2.6694665077665403\n",
      "RUN  2 , total integrated cost =  2.6694661972547236\n",
      "RUN  3 , total integrated cost =  2.669466189766835\n",
      "RUN  4 , total integrated cost =  2.66946618856684\n",
      "RUN  5 , total integrated cost =  2.669466185504816\n",
      "RUN  6 , total integrated cost =  2.669355997179917\n",
      "RUN  7 , total integrated cost =  2.6693344162678776\n",
      "RUN  8 , total integrated cost =  2.6693341314121364\n",
      "RUN  9 , total integrated cost =  2.6693336611949405\n",
      "RUN  10 , total integrated cost =  2.6693334595941267\n",
      "RUN  11 , total integrated cost =  2.669332306365154\n",
      "RUN  12 , total integrated cost =  2.6693313484773213\n",
      "RUN  13 , total integrated cost =  2.669328284788395\n",
      "RUN  14 , total integrated cost =  2.669324723563092\n",
      "RUN  15 , total integrated cost =  2.669324414486509\n",
      "RUN  16 , total integrated cost =  2.6693239952585444\n",
      "RUN  17 , total integrated cost =  2.669323841241702\n",
      "RUN  18 , total integrated cost =  2.6693225123988555\n",
      "RUN  19 , total integrated cost =  2.6693211838369\n",
      "RUN  20 , total integrated cost =  2.66931522314435\n",
      "RUN  30 , total integrated cost =  2.669296486328052\n"
     ]
    },
    {
     "output_type": "stream",
     "name": "stderr",
     "text": [
      "ERROR:root:Problem in initial value trasfer\n"
     ]
    },
    {
     "output_type": "stream",
     "name": "stdout",
     "text": [
      "RUN  40 , total integrated cost =  2.6692868098220788\n",
      "RUN  40 , total integrated cost =  2.6692868098220788\n",
      "Improved over  40  iterations in  30.685044509002182  seconds by  0.011627852009610251  percent.\n",
      "Problem in initial value trasfer:  Vmean_exc -74.52680920584274 -74.52680950903655\n",
      "8.431430485185931e-05 0.0\n",
      "8.241242234202802e-09 0.0\n",
      "set cost params:  18.75 0.0 1.0\n",
      "----- 250\n",
      "interpolate adjoint :  True True True\n",
      "RUN  0 , total integrated cost =  2.6699051184271667\n",
      "Gradient descend method:  None\n",
      "RUN  1 , total integrated cost =  2.6698166423373086\n",
      "RUN  2 , total integrated cost =  2.6698166189116668\n",
      "RUN  3 , total integrated cost =  2.669816618911666\n",
      "RUN  4 , total integrated cost =  2.669816618911665\n"
     ]
    },
    {
     "output_type": "stream",
     "name": "stderr",
     "text": [
      "ERROR:root:Problem in initial value trasfer\n"
     ]
    },
    {
     "output_type": "stream",
     "name": "stdout",
     "text": [
      "RUN  5 , total integrated cost =  2.669816618911665\n",
      "Control only changes marginally.\n",
      "RUN  5 , total integrated cost =  2.669816618911665\n",
      "Improved over  5  iterations in  4.064367610000772  seconds by  0.0033147063875418326  percent.\n",
      "Problem in initial value trasfer:  Vmean_exc -74.52681138918904 -74.52681168230083\n",
      "8.833518237618364e-05 0.0\n",
      "8.241242234202802e-09 0.0\n",
      "set cost params:  18.744999999999997 0.0 1.0\n",
      "----- 251\n",
      "interpolate adjoint :  True True True\n",
      "RUN  0 , total integrated cost =  2.6706292248253622\n",
      "Gradient descend method:  None\n",
      "RUN  1 , total integrated cost =  2.6704872464082516\n",
      "RUN  2 , total integrated cost =  2.6704870213358514\n",
      "RUN  3 , total integrated cost =  2.6704865723825275\n",
      "RUN  4 , total integrated cost =  2.6704858014648916\n",
      "RUN  5 , total integrated cost =  2.670485712117371\n",
      "RUN  6 , total integrated cost =  2.670485380550953\n",
      "RUN  7 , total integrated cost =  2.670485173096574\n",
      "RUN  8 , total integrated cost =  2.670484436972025\n",
      "RUN  9 , total integrated cost =  2.6704832629625614\n",
      "RUN  10 , total integrated cost =  2.670483171861165\n",
      "RUN  11 , total integrated cost =  2.670433103864713\n",
      "RUN  12 , total integrated cost =  2.670401620078972\n",
      "RUN  13 , total integrated cost =  2.6704015298784776\n",
      "RUN  14 , total integrated cost =  2.6704011218485952\n",
      "RUN  15 , total integrated cost =  2.6704008945695312\n",
      "RUN  16 , total integrated cost =  2.670392997312206\n",
      "RUN  17 , total integrated cost =  2.6703839158974163\n",
      "RUN  18 , total integrated cost =  2.6703710283623088\n",
      "RUN  19 , total integrated cost =  2.670360791336611\n",
      "RUN  20 , total integrated cost =  2.6703598329234426\n",
      "RUN  30 , total integrated cost =  2.6703563000623243\n"
     ]
    },
    {
     "output_type": "stream",
     "name": "stderr",
     "text": [
      "ERROR:root:Problem in initial value trasfer\n"
     ]
    },
    {
     "output_type": "stream",
     "name": "stdout",
     "text": [
      "RUN  40 , total integrated cost =  2.6703521574481286\n",
      "RUN  40 , total integrated cost =  2.6703521574481286\n",
      "Improved over  40  iterations in  32.25819919299829  seconds by  0.010374610397363426  percent.\n",
      "Problem in initial value trasfer:  Vmean_exc -74.52681398037464 -74.52681426152118\n",
      "9.139543415384059e-05 0.0\n",
      "8.241242234202802e-09 0.0\n",
      "set cost params:  18.740000000000002 0.0 1.0\n",
      "----- 252\n",
      "interpolate adjoint :  True True True\n",
      "RUN  0 , total integrated cost =  2.671192847001115\n",
      "Gradient descend method:  None\n",
      "RUN  1 , total integrated cost =  2.671056100829811\n",
      "RUN  2 , total integrated cost =  2.671056023532701\n",
      "RUN  3 , total integrated cost =  2.671055953943945\n",
      "RUN  4 , total integrated cost =  2.6710557548661713\n",
      "RUN  5 , total integrated cost =  2.6710557241080664\n",
      "RUN  6 , total integrated cost =  2.6710412466723032\n",
      "RUN  7 , total integrated cost =  2.6710269055966815\n",
      "RUN  8 , total integrated cost =  2.671026874171791\n",
      "RUN  9 , total integrated cost =  2.6710265498923356\n",
      "RUN  10 , total integrated cost =  2.6710260277687614\n",
      "RUN  11 , total integrated cost =  2.6710259986320617\n",
      "RUN  12 , total integrated cost =  2.6710253866839615\n",
      "RUN  13 , total integrated cost =  2.6710246833209097\n",
      "RUN  14 , total integrated cost =  2.6710246548439835\n",
      "RUN  15 , total integrated cost =  2.671024052506214\n",
      "RUN  16 , total integrated cost =  2.6710234248095404\n",
      "RUN  17 , total integrated cost =  2.6710233976302336\n",
      "RUN  18 , total integrated cost =  2.671022670311619\n",
      "RUN  19 , total integrated cost =  2.671022011471015\n",
      "RUN  20 , total integrated cost =  2.671021983148963\n",
      "RUN  30 , total integrated cost =  2.6710157683761455\n"
     ]
    },
    {
     "output_type": "stream",
     "name": "stderr",
     "text": [
      "ERROR:root:Problem in initial value trasfer\n"
     ]
    },
    {
     "output_type": "stream",
     "name": "stdout",
     "text": [
      "RUN  40 , total integrated cost =  2.6710124153784256\n",
      "RUN  40 , total integrated cost =  2.6710124153784256\n",
      "Improved over  40  iterations in  31.356035497003177  seconds by  0.006754720943931147  percent.\n",
      "Problem in initial value trasfer:  Vmean_exc -74.52681625616893 -74.52681652680658\n",
      "9.658281178769593e-05 0.0\n",
      "8.241242234202802e-09 0.0\n",
      "set cost params:  18.735 0.0 1.0\n",
      "----- 253\n",
      "interpolate adjoint :  True True True\n",
      "RUN  0 , total integrated cost =  2.6719009759013765\n",
      "Gradient descend method:  None\n",
      "RUN  1 , total integrated cost =  2.6717512638650533\n",
      "RUN  2 , total integrated cost =  2.671751185292144\n",
      "RUN  3 , total integrated cost =  2.671748219656278\n",
      "RUN  4 , total integrated cost =  2.671745787351351\n",
      "RUN  5 , total integrated cost =  2.6717457164843146\n",
      "RUN  6 , total integrated cost =  2.671423076231367\n",
      "RUN  7 , total integrated cost =  2.671381620217514\n",
      "RUN  8 , total integrated cost =  2.6713812142145823\n",
      "RUN  9 , total integrated cost =  2.6713807774134097\n",
      "RUN  10 , total integrated cost =  2.6713805490928353\n",
      "RUN  11 , total integrated cost =  2.671379976644539\n",
      "RUN  12 , total integrated cost =  2.671379629864158\n",
      "RUN  13 , total integrated cost =  2.6713778652848865\n",
      "RUN  14 , total integrated cost =  2.6713765654949144\n",
      "RUN  15 , total integrated cost =  2.6713756463159446\n",
      "RUN  16 , total integrated cost =  2.6713748593025497\n",
      "RUN  17 , total integrated cost =  2.6713745436444882\n",
      "RUN  18 , total integrated cost =  2.6713741945413583\n",
      "RUN  19 , total integrated cost =  2.6713739680124178\n",
      "RUN  20 , total integrated cost =  2.6713734147455823\n",
      "RUN  30 , total integrated cost =  2.6713272378113055\n"
     ]
    },
    {
     "output_type": "stream",
     "name": "stderr",
     "text": [
      "ERROR:root:Problem in initial value trasfer\n"
     ]
    },
    {
     "output_type": "stream",
     "name": "stdout",
     "text": [
      "RUN  40 , total integrated cost =  2.671320546405353\n",
      "RUN  40 , total integrated cost =  2.671320546405353\n",
      "Improved over  40  iterations in  32.224332412995864  seconds by  0.021723465849163404  percent.\n",
      "Problem in initial value trasfer:  Vmean_exc -74.52681853572801 -74.5268187958394\n",
      "9.799783224351764e-05 0.0\n",
      "8.241242234202802e-09 0.0\n",
      "set cost params:  18.73 0.0 1.0\n",
      "----- 254\n",
      "interpolate adjoint :  True True True\n",
      "RUN  0 , total integrated cost =  2.6720400966162265\n",
      "Gradient descend method:  None\n",
      "RUN  1 , total integrated cost =  2.671939348002214\n",
      "RUN  2 , total integrated cost =  2.6719390455618424\n",
      "RUN  3 , total integrated cost =  2.671939030790797\n",
      "RUN  4 , total integrated cost =  2.6719390302607366\n",
      "RUN  5 , total integrated cost =  2.671939030260415\n",
      "RUN  6 , total integrated cost =  2.671939030260414\n"
     ]
    },
    {
     "output_type": "stream",
     "name": "stderr",
     "text": [
      "ERROR:root:Problem in initial value trasfer\n"
     ]
    },
    {
     "output_type": "stream",
     "name": "stdout",
     "text": [
      "RUN  7 , total integrated cost =  2.671939030260414\n",
      "Control only changes marginally.\n",
      "RUN  7 , total integrated cost =  2.671939030260414\n",
      "Improved over  7  iterations in  5.5504643989988836  seconds by  0.003782366736956533  percent.\n",
      "Problem in initial value trasfer:  Vmean_exc -74.52682047248521 -74.52682072365327\n",
      "0.00010106578700028263 0.0\n",
      "8.241242234202802e-09 0.0\n",
      "set cost params:  18.725 0.0 1.0\n",
      "----- 255\n",
      "interpolate adjoint :  True True True\n",
      "RUN  0 , total integrated cost =  2.672684860579505\n",
      "Gradient descend method:  None\n",
      "RUN  1 , total integrated cost =  2.672587509590507\n",
      "RUN  2 , total integrated cost =  2.6725870802122023\n",
      "RUN  3 , total integrated cost =  2.67258693069173\n",
      "RUN  4 , total integrated cost =  2.672586132273657\n",
      "RUN  5 , total integrated cost =  2.6725849464347613\n",
      "RUN  6 , total integrated cost =  2.672584856220002\n",
      "RUN  7 , total integrated cost =  2.672584593059025\n",
      "RUN  8 , total integrated cost =  2.6725845001284436\n",
      "RUN  9 , total integrated cost =  2.672582950088749\n",
      "RUN  10 , total integrated cost =  2.672581002971455\n",
      "RUN  11 , total integrated cost =  2.6725807548408285\n",
      "RUN  12 , total integrated cost =  2.672580352088898\n",
      "RUN  13 , total integrated cost =  2.672580270442444\n",
      "RUN  14 , total integrated cost =  2.6725797511404212\n",
      "RUN  15 , total integrated cost =  2.6725796069854186\n",
      "RUN  16 , total integrated cost =  2.6725786465347707\n",
      "RUN  17 , total integrated cost =  2.67257724865933\n",
      "RUN  18 , total integrated cost =  2.6725771292218594\n",
      "RUN  19 , total integrated cost =  2.6725768618831824\n",
      "RUN  20 , total integrated cost =  2.6725767884444\n",
      "RUN  30 , total integrated cost =  2.67252615760806\n"
     ]
    },
    {
     "output_type": "stream",
     "name": "stderr",
     "text": [
      "ERROR:root:Problem in initial value trasfer\n"
     ]
    },
    {
     "output_type": "stream",
     "name": "stdout",
     "text": [
      "RUN  40 , total integrated cost =  2.6725175135474606\n",
      "RUN  40 , total integrated cost =  2.6725175135474606\n",
      "Improved over  40  iterations in  31.768786867993185  seconds by  0.006261382870548005  percent.\n",
      "Problem in initial value trasfer:  Vmean_exc -74.52682229216498 -74.52682253493035\n",
      "0.0001137008098006606 0.0\n",
      "8.241242234202802e-09 0.0\n",
      "set cost params:  18.72 0.0 1.0\n",
      "----- 256\n",
      "interpolate adjoint :  True True True\n",
      "RUN  0 , total integrated cost =  2.6735593179564257\n",
      "Gradient descend method:  None\n",
      "RUN  1 , total integrated cost =  2.6733263111116505\n",
      "RUN  2 , total integrated cost =  2.6733258969559084\n",
      "RUN  3 , total integrated cost =  2.6733255840726255\n",
      "RUN  4 , total integrated cost =  2.6733240282637882\n",
      "RUN  5 , total integrated cost =  2.6733225953199997\n",
      "RUN  6 , total integrated cost =  2.6733225433492818\n",
      "RUN  7 , total integrated cost =  2.673322019780229\n",
      "RUN  8 , total integrated cost =  2.6733215594313244\n",
      "RUN  9 , total integrated cost =  2.6733211822014695\n",
      "RUN  10 , total integrated cost =  2.673320553295355\n",
      "RUN  11 , total integrated cost =  2.6733205074491524\n",
      "RUN  12 , total integrated cost =  2.6733199047940017\n",
      "RUN  13 , total integrated cost =  2.673319360289393\n",
      "RUN  14 , total integrated cost =  2.673319277279776\n",
      "RUN  15 , total integrated cost =  2.673318969771709\n",
      "RUN  16 , total integrated cost =  2.673318911032709\n",
      "RUN  17 , total integrated cost =  2.673042116178239\n",
      "RUN  18 , total integrated cost =  2.6729684245366907\n",
      "RUN  19 , total integrated cost =  2.6729681669740732\n",
      "RUN  20 , total integrated cost =  2.6729680559730236\n",
      "RUN  30 , total integrated cost =  2.672951708299904\n"
     ]
    },
    {
     "output_type": "stream",
     "name": "stderr",
     "text": [
      "ERROR:root:Problem in initial value trasfer\n"
     ]
    },
    {
     "output_type": "stream",
     "name": "stdout",
     "text": [
      "RUN  40 , total integrated cost =  2.672943449193558\n",
      "RUN  40 , total integrated cost =  2.672943449193558\n",
      "Improved over  40  iterations in  31.936062007000146  seconds by  0.023035537634470415  percent.\n",
      "Problem in initial value trasfer:  Vmean_exc -74.52682461957902 -74.52682485159711\n",
      "0.00010803240703597488 0.0\n",
      "8.241242234202802e-09 0.0\n",
      "set cost params:  18.715 0.0 1.0\n",
      "----- 257\n",
      "interpolate adjoint :  True True True\n",
      "RUN  0 , total integrated cost =  2.6737351191537124\n",
      "Gradient descend method:  None\n",
      "RUN  1 , total integrated cost =  2.673632767631789\n",
      "RUN  2 , total integrated cost =  2.6736105335360714\n",
      "RUN  3 , total integrated cost =  2.67359108618989\n",
      "RUN  4 , total integrated cost =  2.6735904009821874\n",
      "RUN  5 , total integrated cost =  2.673590113133869\n",
      "RUN  6 , total integrated cost =  2.6735891626228643\n",
      "RUN  7 , total integrated cost =  2.6735881915102904\n",
      "RUN  8 , total integrated cost =  2.6735880647090813\n",
      "RUN  9 , total integrated cost =  2.673587737734401\n",
      "RUN  10 , total integrated cost =  2.6735875841328345\n",
      "RUN  11 , total integrated cost =  2.673586571085093\n",
      "RUN  12 , total integrated cost =  2.6735862630750256\n",
      "RUN  13 , total integrated cost =  2.6735854237943695\n",
      "RUN  14 , total integrated cost =  2.673584532467666\n",
      "RUN  15 , total integrated cost =  2.673584421657487\n",
      "RUN  16 , total integrated cost =  2.6735840831678175\n",
      "RUN  17 , total integrated cost =  2.673583932853471\n",
      "RUN  18 , total integrated cost =  2.6735334363900294\n",
      "RUN  19 , total integrated cost =  2.673491704464942\n",
      "RUN  20 , total integrated cost =  2.6734912675784925\n",
      "RUN  30 , total integrated cost =  2.6734584537771098\n"
     ]
    },
    {
     "output_type": "stream",
     "name": "stderr",
     "text": [
      "ERROR:root:Problem in initial value trasfer\n"
     ]
    },
    {
     "output_type": "stream",
     "name": "stdout",
     "text": [
      "RUN  40 , total integrated cost =  2.673422527834714\n",
      "RUN  40 , total integrated cost =  2.673422527834714\n",
      "Improved over  40  iterations in  31.202268414999708  seconds by  0.011691184992827175  percent.\n",
      "Problem in initial value trasfer:  Vmean_exc -74.52682633449106 -74.52682655859026\n",
      "0.00011206709518166344 0.0\n",
      "8.241242234202802e-09 0.0\n",
      "set cost params:  18.71 0.0 1.0\n",
      "----- 258\n",
      "interpolate adjoint :  True True True\n",
      "RUN  0 , total integrated cost =  2.6744487820191765\n",
      "Gradient descend method:  None\n",
      "RUN  1 , total integrated cost =  2.6742843743431473\n",
      "RUN  2 , total integrated cost =  2.6742840870082234\n",
      "RUN  3 , total integrated cost =  2.6742839194793064\n",
      "RUN  4 , total integrated cost =  2.674281445719235\n",
      "RUN  5 , total integrated cost =  2.6742783612999173\n",
      "RUN  6 , total integrated cost =  2.674278236826166\n",
      "RUN  7 , total integrated cost =  2.6742778798784292\n",
      "RUN  8 , total integrated cost =  2.6742776350176722\n",
      "RUN  9 , total integrated cost =  2.6742762854233564\n",
      "RUN  10 , total integrated cost =  2.6742751994657814\n",
      "RUN  11 , total integrated cost =  2.6742750104053132\n",
      "RUN  12 , total integrated cost =  2.6742746007651954\n",
      "RUN  13 , total integrated cost =  2.674274491474172\n",
      "RUN  14 , total integrated cost =  2.6742739940907545\n",
      "RUN  15 , total integrated cost =  2.674273745507511\n",
      "RUN  16 , total integrated cost =  2.674272559584469\n",
      "RUN  17 , total integrated cost =  2.6742713895746353\n",
      "RUN  18 , total integrated cost =  2.674271289304075\n",
      "RUN  19 , total integrated cost =  2.674271037706868\n",
      "RUN  20 , total integrated cost =  2.674270883808411\n",
      "RUN  30 , total integrated cost =  2.674267349232464\n"
     ]
    },
    {
     "output_type": "stream",
     "name": "stderr",
     "text": [
      "ERROR:root:Problem in initial value trasfer\n"
     ]
    },
    {
     "output_type": "stream",
     "name": "stdout",
     "text": [
      "RUN  40 , total integrated cost =  2.6742574089483355\n",
      "RUN  40 , total integrated cost =  2.6742574089483355\n",
      "Improved over  40  iterations in  30.435466577000625  seconds by  0.007155607993979629  percent.\n",
      "Problem in initial value trasfer:  Vmean_exc -74.52682818037887 -74.52682839595437\n",
      "0.00011730609812025703 0.0\n",
      "8.241242234202802e-09 0.0\n",
      "set cost params:  18.705000000000002 0.0 1.0\n",
      "----- 259\n",
      "interpolate adjoint :  True True True\n",
      "RUN  0 , total integrated cost =  2.675335828625428\n",
      "Gradient descend method:  None\n",
      "RUN  1 , total integrated cost =  2.675163861779418\n",
      "RUN  2 , total integrated cost =  2.675162415413447\n",
      "RUN  3 , total integrated cost =  2.6751613132505465\n",
      "RUN  4 , total integrated cost =  2.675161039158688\n",
      "RUN  5 , total integrated cost =  2.6751606627554754\n",
      "RUN  6 , total integrated cost =  2.6751604581315584\n",
      "RUN  7 , total integrated cost =  2.6751443788927256\n",
      "RUN  8 , total integrated cost =  2.6751288627671004\n",
      "RUN  9 , total integrated cost =  2.6751286838438624\n",
      "RUN  10 , total integrated cost =  2.6750911292672486\n",
      "RUN  11 , total integrated cost =  2.675051404458093\n",
      "RUN  12 , total integrated cost =  2.6750511464667386\n",
      "RUN  13 , total integrated cost =  2.6750511146390914\n",
      "RUN  14 , total integrated cost =  2.675051114560491\n",
      "RUN  15 , total integrated cost =  2.675051113881544\n",
      "RUN  16 , total integrated cost =  2.675051086771657\n",
      "RUN  17 , total integrated cost =  2.6750508089341998\n",
      "RUN  18 , total integrated cost =  2.675050787635481\n",
      "RUN  19 , total integrated cost =  2.675050787634747\n",
      "RUN  20 , total integrated cost =  2.675050787602031\n",
      "RUN  30 , total integrated cost =  2.675044360692667\n"
     ]
    },
    {
     "output_type": "stream",
     "name": "stderr",
     "text": [
      "ERROR:root:Problem in initial value trasfer\n"
     ]
    },
    {
     "output_type": "stream",
     "name": "stdout",
     "text": [
      "Control only changes marginally.\n",
      "RUN  36 , total integrated cost =  2.6750433356152192\n",
      "Improved over  36  iterations in  28.049149111000588  seconds by  0.010932945579355646  percent.\n",
      "Problem in initial value trasfer:  Vmean_exc -74.52682994026445 -74.52683014771334\n",
      "0.00012273168512038005 0.0\n",
      "8.241242234202802e-09 0.0\n",
      "set cost params:  18.7 0.0 1.0\n",
      "----- 260\n",
      "interpolate adjoint :  True True True\n",
      "RUN  0 , total integrated cost =  2.6759483933236985\n",
      "Gradient descend method:  None\n",
      "RUN  1 , total integrated cost =  2.675827514784973\n",
      "RUN  2 , total integrated cost =  2.6758273983242873\n",
      "RUN  3 , total integrated cost =  2.675823725382149\n",
      "RUN  4 , total integrated cost =  2.675821020981654\n",
      "RUN  5 , total integrated cost =  2.6758209316329893\n",
      "RUN  6 , total integrated cost =  2.6758177214977534\n",
      "RUN  7 , total integrated cost =  2.6758152293382684\n",
      "RUN  8 , total integrated cost =  2.6758151491945523\n",
      "RUN  9 , total integrated cost =  2.6758037469613822\n",
      "RUN  10 , total integrated cost =  2.6757928106331144\n",
      "RUN  11 , total integrated cost =  2.6757927356262448\n",
      "RUN  12 , total integrated cost =  2.6751530505626184\n",
      "RUN  13 , total integrated cost =  2.6751105541766984\n",
      "RUN  14 , total integrated cost =  2.675110469613474\n",
      "RUN  15 , total integrated cost =  2.675109543619859\n",
      "RUN  16 , total integrated cost =  2.6751088015841895\n",
      "RUN  17 , total integrated cost =  2.675103968578128\n",
      "RUN  18 , total integrated cost =  2.675100115860219\n",
      "RUN  19 , total integrated cost =  2.6751000384923183\n",
      "RUN  20 , total integrated cost =  2.675099093379372\n",
      "RUN  30 , total integrated cost =  2.6750798658319015\n"
     ]
    },
    {
     "output_type": "stream",
     "name": "stderr",
     "text": [
      "ERROR:root:Problem in initial value trasfer\n"
     ]
    },
    {
     "output_type": "stream",
     "name": "stdout",
     "text": [
      "RUN  40 , total integrated cost =  2.675074771977952\n",
      "RUN  40 , total integrated cost =  2.675074771977952\n",
      "Improved over  40  iterations in  31.294201979995705  seconds by  0.03264716718476279  percent.\n",
      "Problem in initial value trasfer:  Vmean_exc -74.52683147190312 -74.5268316722794\n",
      "0.0001234868537018409 0.0\n",
      "8.241242234202802e-09 0.0\n",
      "set cost params:  18.695 0.0 1.0\n",
      "----- 261\n",
      "interpolate adjoint :  True True True\n",
      "RUN  0 , total integrated cost =  2.676199904161211\n",
      "Gradient descend method:  None\n",
      "RUN  1 , total integrated cost =  2.6760082221642985\n",
      "RUN  2 , total integrated cost =  2.6760078896738224\n",
      "RUN  3 , total integrated cost =  2.676007227979337\n",
      "RUN  4 , total integrated cost =  2.676006769372381\n",
      "RUN  5 , total integrated cost =  2.676005888370851\n",
      "RUN  6 , total integrated cost =  2.6760053099320777\n",
      "RUN  7 , total integrated cost =  2.6760017134533594\n",
      "RUN  8 , total integrated cost =  2.6759991155789042\n",
      "RUN  9 , total integrated cost =  2.6759566218853625\n",
      "RUN  10 , total integrated cost =  2.6759182360980454\n",
      "RUN  11 , total integrated cost =  2.6759179301561145\n",
      "RUN  12 , total integrated cost =  2.6759174638564143\n",
      "RUN  13 , total integrated cost =  2.6759170935475627\n",
      "RUN  14 , total integrated cost =  2.6759165433029986\n",
      "RUN  15 , total integrated cost =  2.67591607976393\n",
      "RUN  16 , total integrated cost =  2.6759151565341392\n",
      "RUN  17 , total integrated cost =  2.6759145387641787\n",
      "RUN  18 , total integrated cost =  2.6758806312934853\n",
      "RUN  19 , total integrated cost =  2.6758468136914737\n",
      "RUN  20 , total integrated cost =  2.6758466256237634\n",
      "RUN  30 , total integrated cost =  2.675838313978258\n"
     ]
    },
    {
     "output_type": "stream",
     "name": "stderr",
     "text": [
      "ERROR:root:Problem in initial value trasfer\n"
     ]
    },
    {
     "output_type": "stream",
     "name": "stdout",
     "text": [
      "RUN  40 , total integrated cost =  2.675825286469711\n",
      "RUN  40 , total integrated cost =  2.675825286469711\n",
      "Improved over  40  iterations in  30.25088690899429  seconds by  0.013998120652985335  percent.\n",
      "Problem in initial value trasfer:  Vmean_exc -74.52683321615096 -74.52683340847284\n",
      "0.0001272151403109627 0.0\n",
      "8.241242234202802e-09 0.0\n",
      "set cost params:  18.69 0.0 1.0\n",
      "----- 262\n",
      "interpolate adjoint :  True True True\n",
      "RUN  0 , total integrated cost =  2.6765471622756025\n",
      "Gradient descend method:  None\n",
      "RUN  1 , total integrated cost =  2.6764743685819243\n",
      "RUN  2 , total integrated cost =  2.6764740637662614\n",
      "RUN  3 , total integrated cost =  2.6764735799451436\n",
      "RUN  4 , total integrated cost =  2.676473363958103\n",
      "RUN  5 , total integrated cost =  2.676465272969539\n",
      "RUN  6 , total integrated cost =  2.6764592104204232\n",
      "RUN  7 , total integrated cost =  2.6764588150814856\n",
      "RUN  8 , total integrated cost =  2.676458193198408\n",
      "RUN  9 , total integrated cost =  2.676457979973109\n",
      "RUN  10 , total integrated cost =  2.6764574696369325\n",
      "RUN  11 , total integrated cost =  2.6764572114794962\n",
      "RUN  12 , total integrated cost =  2.6764533726729236\n",
      "RUN  13 , total integrated cost =  2.6764484472284686\n",
      "RUN  14 , total integrated cost =  2.676448253748477\n",
      "RUN  15 , total integrated cost =  2.6764477371641675\n",
      "RUN  16 , total integrated cost =  2.6764474424927345\n",
      "RUN  17 , total integrated cost =  2.6764440040216213\n",
      "RUN  18 , total integrated cost =  2.6764393229641437\n",
      "RUN  19 , total integrated cost =  2.676439144850501\n",
      "RUN  20 , total integrated cost =  2.676438653536747\n",
      "RUN  30 , total integrated cost =  2.6764223922590507\n"
     ]
    },
    {
     "output_type": "stream",
     "name": "stderr",
     "text": [
      "ERROR:root:Problem in initial value trasfer\n"
     ]
    },
    {
     "output_type": "stream",
     "name": "stdout",
     "text": [
      "RUN  40 , total integrated cost =  2.676406183029457\n",
      "RUN  40 , total integrated cost =  2.676406183029457\n",
      "Improved over  40  iterations in  28.568662052995933  seconds by  0.0052672057542082484  percent.\n",
      "Problem in initial value trasfer:  Vmean_exc -74.52683457269175 -74.52683475874957\n",
      "0.0001350649004602005 0.0\n",
      "8.241242234202802e-09 0.0\n",
      "set cost params:  18.685 0.0 1.0\n",
      "----- 263\n",
      "interpolate adjoint :  True True True\n",
      "RUN  0 , total integrated cost =  2.677660800931495\n",
      "Gradient descend method:  None\n",
      "RUN  1 , total integrated cost =  2.6774195445621083\n",
      "RUN  2 , total integrated cost =  2.677419360666282\n",
      "RUN  3 , total integrated cost =  2.67741875192036\n",
      "RUN  4 , total integrated cost =  2.6774187384164256\n",
      "RUN  5 , total integrated cost =  2.677417832361467\n",
      "RUN  6 , total integrated cost =  2.6774165172462214\n",
      "RUN  7 , total integrated cost =  2.6774164953891515\n",
      "RUN  8 , total integrated cost =  2.6774158518585356\n",
      "RUN  9 , total integrated cost =  2.677415381806782\n",
      "RUN  10 , total integrated cost =  2.677415367534487\n",
      "RUN  11 , total integrated cost =  2.6773914434456865\n",
      "RUN  12 , total integrated cost =  2.677370265627972\n",
      "RUN  13 , total integrated cost =  2.6773701906664265\n",
      "RUN  14 , total integrated cost =  2.6773687625527116\n",
      "RUN  15 , total integrated cost =  2.6773672825819363\n",
      "RUN  16 , total integrated cost =  2.67736599887109\n",
      "RUN  17 , total integrated cost =  2.6773646380770124\n",
      "RUN  18 , total integrated cost =  2.6773645828144716\n",
      "RUN  19 , total integrated cost =  2.677364041857186\n",
      "RUN  20 , total integrated cost =  2.6773635796941564\n",
      "RUN  30 , total integrated cost =  2.6773555275910126\n"
     ]
    },
    {
     "output_type": "stream",
     "name": "stderr",
     "text": [
      "ERROR:root:Problem in initial value trasfer\n"
     ]
    },
    {
     "output_type": "stream",
     "name": "stdout",
     "text": [
      "RUN  40 , total integrated cost =  2.6771788226792226\n",
      "RUN  40 , total integrated cost =  2.6771788226792226\n",
      "Improved over  40  iterations in  30.976567475001502  seconds by  0.017999974160460397  percent.\n",
      "Problem in initial value trasfer:  Vmean_exc -74.52683628733448 -74.52683646547463\n",
      "0.00013179480799436027 0.0\n",
      "8.241242234202802e-09 0.0\n",
      "set cost params:  18.68 0.0 1.0\n",
      "----- 264\n",
      "interpolate adjoint :  True True True\n",
      "RUN  0 , total integrated cost =  2.6783993490097746\n",
      "Gradient descend method:  None\n",
      "RUN  1 , total integrated cost =  2.6782286041340884\n",
      "RUN  2 , total integrated cost =  2.678228067108991\n",
      "RUN  3 , total integrated cost =  2.6782277658169473\n",
      "RUN  4 , total integrated cost =  2.6782268193203445\n",
      "RUN  5 , total integrated cost =  2.6782259115228007\n",
      "RUN  6 , total integrated cost =  2.678222450139516\n",
      "RUN  7 , total integrated cost =  2.678218824469446\n",
      "RUN  8 , total integrated cost =  2.678218616322759\n",
      "RUN  9 , total integrated cost =  2.6782180709836085\n",
      "RUN  10 , total integrated cost =  2.678217786650569\n",
      "RUN  11 , total integrated cost =  2.6782168467980596\n",
      "RUN  12 , total integrated cost =  2.6782159543947732\n",
      "RUN  13 , total integrated cost =  2.678213510411613\n",
      "RUN  14 , total integrated cost =  2.6782113806728343\n",
      "RUN  15 , total integrated cost =  2.6782111520131915\n",
      "RUN  16 , total integrated cost =  2.6782106377923354\n",
      "RUN  17 , total integrated cost =  2.678210398952822\n",
      "RUN  18 , total integrated cost =  2.678209736627735\n",
      "RUN  19 , total integrated cost =  2.6782092074960313\n",
      "RUN  20 , total integrated cost =  2.678207619564249\n",
      "RUN  30 , total integrated cost =  2.6781997562154105\n"
     ]
    },
    {
     "output_type": "stream",
     "name": "stderr",
     "text": [
      "ERROR:root:Problem in initial value trasfer\n"
     ]
    },
    {
     "output_type": "stream",
     "name": "stdout",
     "text": [
      "RUN  40 , total integrated cost =  2.678184409035853\n",
      "RUN  40 , total integrated cost =  2.678184409035853\n",
      "Improved over  40  iterations in  30.576118087003124  seconds by  0.008024941239654027  percent.\n",
      "Problem in initial value trasfer:  Vmean_exc -74.52683775608193 -74.5268379274399\n",
      "0.00013795011256771174 0.0\n",
      "8.241242234202802e-09 0.0\n",
      "set cost params:  18.675 0.0 1.0\n",
      "----- 265\n",
      "interpolate adjoint :  True True True\n",
      "RUN  0 , total integrated cost =  2.679213520770016\n",
      "Gradient descend method:  None\n",
      "RUN  1 , total integrated cost =  2.6790976990706907\n",
      "RUN  2 , total integrated cost =  2.679097306372938\n",
      "RUN  3 , total integrated cost =  2.679096714675819\n",
      "RUN  4 , total integrated cost =  2.6790964831668718\n",
      "RUN  5 , total integrated cost =  2.6790950807560208\n",
      "RUN  6 , total integrated cost =  2.679093786308043\n",
      "RUN  7 , total integrated cost =  2.679092151560083\n",
      "RUN  8 , total integrated cost =  2.6790897851785367\n",
      "RUN  9 , total integrated cost =  2.679089464954233\n",
      "RUN  10 , total integrated cost =  2.6790888568203615\n",
      "RUN  11 , total integrated cost =  2.6790885897852874\n",
      "RUN  12 , total integrated cost =  2.67908580204605\n",
      "RUN  13 , total integrated cost =  2.6790842118773472\n",
      "RUN  14 , total integrated cost =  2.6790814412368373\n",
      "RUN  15 , total integrated cost =  2.679077525655687\n",
      "RUN  16 , total integrated cost =  2.6790772142281223\n",
      "RUN  17 , total integrated cost =  2.6790766152371774\n",
      "RUN  18 , total integrated cost =  2.679076386623432\n",
      "RUN  19 , total integrated cost =  2.679075447273092\n",
      "RUN  20 , total integrated cost =  2.6790748290689703\n",
      "RUN  30 , total integrated cost =  2.679040097006518\n"
     ]
    },
    {
     "output_type": "stream",
     "name": "stderr",
     "text": [
      "ERROR:root:Problem in initial value trasfer\n"
     ]
    },
    {
     "output_type": "stream",
     "name": "stdout",
     "text": [
      "RUN  40 , total integrated cost =  2.6778769807593537\n",
      "RUN  40 , total integrated cost =  2.6778769807593537\n",
      "Improved over  40  iterations in  31.09338036999543  seconds by  0.049885535449163854  percent.\n",
      "Problem in initial value trasfer:  Vmean_exc -74.52683892475966 -74.52683909072104\n",
      "0.00014059926179608783 0.0\n",
      "8.241242234202802e-09 0.0\n",
      "set cost params:  18.669999999999998 0.0 1.0\n",
      "----- 266\n",
      "interpolate adjoint :  True True True\n",
      "RUN  0 , total integrated cost =  2.679163186826893\n",
      "Gradient descend method:  None\n",
      "RUN  1 , total integrated cost =  2.6789331537475944\n",
      "RUN  2 , total integrated cost =  2.6789322614482187\n",
      "RUN  3 , total integrated cost =  2.678931141476403\n",
      "RUN  4 , total integrated cost =  2.678930084813084\n",
      "RUN  5 , total integrated cost =  2.678928457426235\n",
      "RUN  6 , total integrated cost =  2.6789272988879906\n",
      "RUN  7 , total integrated cost =  2.678916577009667\n",
      "RUN  8 , total integrated cost =  2.6789093713414203\n",
      "RUN  9 , total integrated cost =  2.6788971237538397\n",
      "RUN  10 , total integrated cost =  2.678884563997397\n",
      "RUN  11 , total integrated cost =  2.678883283725256\n",
      "RUN  12 , total integrated cost =  2.6788817795209416\n",
      "RUN  13 , total integrated cost =  2.678881224038527\n",
      "RUN  14 , total integrated cost =  2.6788803365483154\n",
      "RUN  15 , total integrated cost =  2.678879502651462\n",
      "RUN  16 , total integrated cost =  2.6788771653648764\n",
      "RUN  17 , total integrated cost =  2.6788754238560437\n",
      "RUN  18 , total integrated cost =  2.6788679438235805\n",
      "RUN  19 , total integrated cost =  2.6788613815625775\n",
      "RUN  20 , total integrated cost =  2.6788602368044248\n",
      "RUN  30 , total integrated cost =  2.678830113218173\n"
     ]
    },
    {
     "output_type": "stream",
     "name": "stderr",
     "text": [
      "ERROR:root:Problem in initial value trasfer\n"
     ]
    },
    {
     "output_type": "stream",
     "name": "stdout",
     "text": [
      "RUN  40 , total integrated cost =  2.6788104726052757\n",
      "RUN  40 , total integrated cost =  2.6788104726052757\n",
      "Improved over  40  iterations in  31.84022174400161  seconds by  0.013165089134986374  percent.\n",
      "Problem in initial value trasfer:  Vmean_exc -74.52684030863985 -74.5268404682109\n",
      "0.00014771191119575033 0.0\n",
      "8.241242234202802e-09 0.0\n",
      "set cost params:  18.665 0.0 1.0\n",
      "----- 267\n",
      "interpolate adjoint :  True True True\n",
      "RUN  0 , total integrated cost =  2.680193029734797\n",
      "Gradient descend method:  None\n",
      "RUN  1 , total integrated cost =  2.6799327814702782\n",
      "RUN  2 , total integrated cost =  2.679928432090094\n",
      "RUN  3 , total integrated cost =  2.6799235398266847\n",
      "RUN  4 , total integrated cost =  2.6799181816426776\n",
      "RUN  5 , total integrated cost =  2.6799119435168257\n",
      "RUN  6 , total integrated cost =  2.679910187736755\n",
      "RUN  7 , total integrated cost =  2.6799080056419537\n",
      "RUN  8 , total integrated cost =  2.679907892307604\n",
      "RUN  9 , total integrated cost =  2.6798847704786732\n",
      "RUN  10 , total integrated cost =  2.6798655643006035\n",
      "RUN  11 , total integrated cost =  2.679865460360108\n",
      "RUN  12 , total integrated cost =  2.679758119528631\n",
      "RUN  13 , total integrated cost =  2.6796683404554065\n",
      "RUN  14 , total integrated cost =  2.679668084107267\n",
      "RUN  15 , total integrated cost =  2.6796675579668072\n",
      "RUN  16 , total integrated cost =  2.6796672477520542\n",
      "RUN  17 , total integrated cost =  2.679666311991529\n",
      "RUN  18 , total integrated cost =  2.6796650615960917\n",
      "RUN  19 , total integrated cost =  2.6796647325086154\n",
      "RUN  20 , total integrated cost =  2.679664063707034\n",
      "RUN  30 , total integrated cost =  2.6796589479734587\n"
     ]
    },
    {
     "output_type": "stream",
     "name": "stderr",
     "text": [
      "ERROR:root:Problem in initial value trasfer\n"
     ]
    },
    {
     "output_type": "stream",
     "name": "stdout",
     "text": [
      "RUN  40 , total integrated cost =  2.6796516276186755\n",
      "RUN  40 , total integrated cost =  2.6796516276186755\n",
      "Improved over  40  iterations in  30.5268910770028  seconds by  0.020200116563060533  percent.\n",
      "Problem in initial value trasfer:  Vmean_exc -74.52684174934326 -74.52684190226162\n",
      "0.00015044046257010584 0.0\n",
      "8.241242234202802e-09 0.0\n",
      "set cost params:  18.66 0.0 1.0\n",
      "----- 268\n",
      "interpolate adjoint :  True True True\n",
      "RUN  0 , total integrated cost =  2.6807855702248125\n",
      "Gradient descend method:  None\n",
      "RUN  1 , total integrated cost =  2.6806266388129516\n",
      "RUN  2 , total integrated cost =  2.6806259807900594\n",
      "RUN  3 , total integrated cost =  2.6806259122541847\n",
      "RUN  4 , total integrated cost =  2.6806250049359566\n",
      "RUN  5 , total integrated cost =  2.6806242938355873\n",
      "RUN  6 , total integrated cost =  2.6806234974558865\n",
      "RUN  7 , total integrated cost =  2.680622668053866\n",
      "RUN  8 , total integrated cost =  2.6806225923374063\n",
      "RUN  9 , total integrated cost =  2.6806217123985463\n",
      "RUN  10 , total integrated cost =  2.680621101724003\n",
      "RUN  11 , total integrated cost =  2.680617253359705\n",
      "RUN  12 , total integrated cost =  2.6806114569977315\n",
      "RUN  13 , total integrated cost =  2.680611303974346\n",
      "RUN  14 , total integrated cost =  2.6806106094631086\n",
      "RUN  15 , total integrated cost =  2.680610395510925\n",
      "RUN  16 , total integrated cost =  2.680608913349738\n",
      "RUN  17 , total integrated cost =  2.6806071672428056\n",
      "RUN  18 , total integrated cost =  2.6806068394972393\n",
      "RUN  19 , total integrated cost =  2.6806061022366996\n",
      "RUN  20 , total integrated cost =  2.68060600583303\n",
      "RUN  30 , total integrated cost =  2.6805570765209192\n"
     ]
    },
    {
     "output_type": "stream",
     "name": "stderr",
     "text": [
      "ERROR:root:Problem in initial value trasfer\n"
     ]
    },
    {
     "output_type": "stream",
     "name": "stdout",
     "text": [
      "RUN  40 , total integrated cost =  2.6794622741005103\n",
      "RUN  40 , total integrated cost =  2.6794622741005103\n",
      "Improved over  40  iterations in  30.096595706003427  seconds by  0.04936225183394072  percent.\n",
      "Problem in initial value trasfer:  Vmean_exc -74.5268428218875 -74.52684296985319\n",
      "0.00015704097808330174 0.0\n",
      "8.241242234202802e-09 0.0\n",
      "set cost params:  18.655 0.0 1.0\n",
      "----- 269\n",
      "interpolate adjoint :  True True True\n",
      "RUN  0 , total integrated cost =  2.680637863230352\n",
      "Gradient descend method:  None\n",
      "RUN  1 , total integrated cost =  2.68041758191693\n",
      "RUN  2 , total integrated cost =  2.680416409920369\n",
      "RUN  3 , total integrated cost =  2.680416335862429\n",
      "RUN  4 , total integrated cost =  2.680416335862428\n"
     ]
    },
    {
     "output_type": "stream",
     "name": "stderr",
     "text": [
      "ERROR:root:Problem in initial value trasfer\n"
     ]
    },
    {
     "output_type": "stream",
     "name": "stdout",
     "text": [
      "RUN  5 , total integrated cost =  2.680416335862428\n",
      "Control only changes marginally.\n",
      "RUN  5 , total integrated cost =  2.680416335862428\n",
      "Improved over  5  iterations in  4.100665994999872  seconds by  0.00826397966554282  percent.\n",
      "Problem in initial value trasfer:  Vmean_exc -74.52684411917011 -74.52684426114538\n",
      "0.000158175024516247 0.0\n",
      "8.241242234202802e-09 0.0\n",
      "set cost params:  18.65 0.0 1.0\n",
      "----- 270\n",
      "interpolate adjoint :  True True True\n",
      "RUN  0 , total integrated cost =  2.6816131839588873\n",
      "Gradient descend method:  None\n",
      "RUN  1 , total integrated cost =  2.6814212366345775\n",
      "RUN  2 , total integrated cost =  2.681420054134039\n",
      "RUN  3 , total integrated cost =  2.681419226938852\n",
      "RUN  4 , total integrated cost =  2.6814176388462063\n",
      "RUN  5 , total integrated cost =  2.68141595933612\n",
      "RUN  6 , total integrated cost =  2.6814156099587447\n",
      "RUN  7 , total integrated cost =  2.6814146736097655\n",
      "RUN  8 , total integrated cost =  2.6814141953341517\n",
      "RUN  9 , total integrated cost =  2.6814131985203513\n",
      "RUN  10 , total integrated cost =  2.6814125914923537\n",
      "RUN  11 , total integrated cost =  2.6814113571670717\n",
      "RUN  12 , total integrated cost =  2.681410477021058\n",
      "RUN  13 , total integrated cost =  2.6814084249751935\n",
      "RUN  14 , total integrated cost =  2.6814062014801494\n",
      "RUN  15 , total integrated cost =  2.6814058191480328\n",
      "RUN  16 , total integrated cost =  2.6814048348152193\n",
      "RUN  17 , total integrated cost =  2.681404436036709\n",
      "RUN  18 , total integrated cost =  2.6814034593023597\n",
      "RUN  19 , total integrated cost =  2.6814029616696686\n",
      "RUN  20 , total integrated cost =  2.6814019039956283\n",
      "RUN  30 , total integrated cost =  2.681383939910749\n"
     ]
    },
    {
     "output_type": "stream",
     "name": "stderr",
     "text": [
      "ERROR:root:Problem in initial value trasfer\n"
     ]
    },
    {
     "output_type": "stream",
     "name": "stdout",
     "text": [
      "RUN  40 , total integrated cost =  2.680711123957944\n",
      "RUN  40 , total integrated cost =  2.680711123957944\n",
      "Improved over  40  iterations in  30.213693286998023  seconds by  0.033638706967110465  percent.\n",
      "Problem in initial value trasfer:  Vmean_exc -74.5268457695642 -74.52684590391848\n",
      "0.00012686518745122524 0.0\n",
      "8.241242234202802e-09 0.0\n",
      "set cost params:  18.645 0.0 1.0\n",
      "----- 271\n",
      "interpolate adjoint :  True True True\n",
      "RUN  0 , total integrated cost =  2.6818775329687794\n",
      "Gradient descend method:  None\n",
      "RUN  1 , total integrated cost =  2.6818424363626048\n",
      "RUN  2 , total integrated cost =  2.6818393548881176\n",
      "RUN  3 , total integrated cost =  2.681835401382629\n",
      "RUN  4 , total integrated cost =  2.681831542191047\n",
      "RUN  5 , total integrated cost =  2.6818265807193993\n",
      "RUN  6 , total integrated cost =  2.6818109653509223\n",
      "RUN  7 , total integrated cost =  2.681796099472617\n",
      "RUN  8 , total integrated cost =  2.6817868702465777\n",
      "RUN  9 , total integrated cost =  2.6817762419204536\n",
      "RUN  10 , total integrated cost =  2.681773728526824\n",
      "RUN  11 , total integrated cost =  2.6817701272860055\n",
      "RUN  12 , total integrated cost =  2.681769949779974\n",
      "RUN  13 , total integrated cost =  2.6817683912550385\n",
      "RUN  14 , total integrated cost =  2.681767328027282\n",
      "RUN  15 , total integrated cost =  2.6817643565992477\n",
      "RUN  16 , total integrated cost =  2.681760767926444\n",
      "RUN  17 , total integrated cost =  2.6817593863878697\n",
      "RUN  18 , total integrated cost =  2.681757174134508\n",
      "RUN  19 , total integrated cost =  2.681757021736807\n",
      "RUN  20 , total integrated cost =  2.681754751360502\n",
      "RUN  30 , total integrated cost =  2.6813161886838257\n"
     ]
    },
    {
     "output_type": "stream",
     "name": "stderr",
     "text": [
      "ERROR:root:Problem in initial value trasfer\n"
     ]
    },
    {
     "output_type": "stream",
     "name": "stdout",
     "text": [
      "RUN  40 , total integrated cost =  2.680828729957247\n",
      "RUN  40 , total integrated cost =  2.680828729957247\n",
      "Improved over  40  iterations in  31.81334875200264  seconds by  0.03910704342906968  percent.\n",
      "Problem in initial value trasfer:  Vmean_exc -74.52684638147991 -74.52684651300854\n",
      "0.000170435948025002 0.0\n",
      "8.241242234202802e-09 0.0\n",
      "set cost params:  18.64 0.0 1.0\n",
      "----- 272\n",
      "interpolate adjoint :  True True True\n",
      "RUN  0 , total integrated cost =  2.682451885437502\n",
      "Gradient descend method:  None\n",
      "RUN  1 , total integrated cost =  2.6820589718376517\n",
      "RUN  2 , total integrated cost =  2.6820578614430053\n",
      "RUN  3 , total integrated cost =  2.6820577433295694\n",
      "RUN  4 , total integrated cost =  2.6820570458550717\n",
      "RUN  5 , total integrated cost =  2.682055075303871\n",
      "RUN  6 , total integrated cost =  2.682055031253132\n",
      "RUN  7 , total integrated cost =  2.6820059117790884\n",
      "RUN  8 , total integrated cost =  2.681948463718582\n",
      "RUN  9 , total integrated cost =  2.6819471456444854\n",
      "RUN  10 , total integrated cost =  2.6819446526664557\n",
      "RUN  11 , total integrated cost =  2.6819446456556766\n",
      "RUN  12 , total integrated cost =  2.6819437307284355\n",
      "RUN  13 , total integrated cost =  2.681941549253494\n",
      "RUN  14 , total integrated cost =  2.6819415491534015\n",
      "RUN  15 , total integrated cost =  2.6819415466852043\n",
      "RUN  16 , total integrated cost =  2.6819414338994134\n",
      "RUN  17 , total integrated cost =  2.6819406958038448\n",
      "RUN  18 , total integrated cost =  2.681940659532394\n"
     ]
    },
    {
     "output_type": "stream",
     "name": "stderr",
     "text": [
      "ERROR:root:Problem in initial value trasfer\n"
     ]
    },
    {
     "output_type": "stream",
     "name": "stdout",
     "text": [
      "RUN  19 , total integrated cost =  2.681940659532394\n",
      "Control only changes marginally.\n",
      "RUN  19 , total integrated cost =  2.681940659532394\n",
      "Improved over  19  iterations in  15.034092661000614  seconds by  0.019058157496999684  percent.\n",
      "Problem in initial value trasfer:  Vmean_exc -74.52684756756805 -74.52684769361973\n",
      "0.00016801568210043414 0.0\n",
      "8.241242234202802e-09 0.0\n",
      "set cost params:  18.634999999999998 0.0 1.0\n",
      "----- 273\n",
      "interpolate adjoint :  True True True\n",
      "RUN  0 , total integrated cost =  2.6832259128992524\n",
      "Gradient descend method:  None\n",
      "RUN  1 , total integrated cost =  2.6830181137262574\n",
      "RUN  2 , total integrated cost =  2.683016873010311\n",
      "RUN  3 , total integrated cost =  2.6830159533017706\n",
      "RUN  4 , total integrated cost =  2.683013747247035\n",
      "RUN  5 , total integrated cost =  2.683011898514673\n",
      "RUN  6 , total integrated cost =  2.6830050962545524\n",
      "RUN  7 , total integrated cost =  2.6829970821379616\n",
      "RUN  8 , total integrated cost =  2.6829963983561695\n",
      "RUN  9 , total integrated cost =  2.682995372316202\n",
      "RUN  10 , total integrated cost =  2.682994534843401\n",
      "RUN  11 , total integrated cost =  2.682993225485958\n",
      "RUN  12 , total integrated cost =  2.682992094471935\n",
      "RUN  13 , total integrated cost =  2.68255829135676\n",
      "RUN  14 , total integrated cost =  2.682513538261544\n",
      "RUN  15 , total integrated cost =  2.682513365847934\n",
      "RUN  16 , total integrated cost =  2.6825125182016474\n",
      "RUN  17 , total integrated cost =  2.682510329253917\n",
      "RUN  18 , total integrated cost =  2.682510271818097\n",
      "RUN  19 , total integrated cost =  2.682509690207192\n",
      "RUN  20 , total integrated cost =  2.6825094615345138\n",
      "RUN  30 , total integrated cost =  2.682495003875698\n"
     ]
    },
    {
     "output_type": "stream",
     "name": "stderr",
     "text": [
      "ERROR:root:Problem in initial value trasfer\n"
     ]
    },
    {
     "output_type": "stream",
     "name": "stdout",
     "text": [
      "RUN  40 , total integrated cost =  2.6821623975936695\n",
      "RUN  40 , total integrated cost =  2.6821623975936695\n",
      "Improved over  40  iterations in  31.791276941999968  seconds by  0.039635697481529064  percent.\n",
      "Problem in initial value trasfer:  Vmean_exc -74.52684852299035 -74.52684864463019\n",
      "0.00016721283090516504 0.0\n",
      "8.241242234202802e-09 0.0\n",
      "set cost params:  18.630000000000003 0.0 1.0\n",
      "----- 274\n",
      "interpolate adjoint :  True True True\n",
      "RUN  0 , total integrated cost =  2.6837561866531554\n",
      "Gradient descend method:  None\n",
      "RUN  1 , total integrated cost =  2.6834704748503073\n",
      "RUN  2 , total integrated cost =  2.6834693816922623\n",
      "RUN  3 , total integrated cost =  2.6834689853044673\n",
      "RUN  4 , total integrated cost =  2.683462500387633\n",
      "RUN  5 , total integrated cost =  2.683455493092077\n",
      "RUN  6 , total integrated cost =  2.6834144186046855\n",
      "RUN  7 , total integrated cost =  2.6833797203997176\n",
      "RUN  8 , total integrated cost =  2.6833713260148424\n",
      "RUN  9 , total integrated cost =  2.6833655668418595\n",
      "RUN  10 , total integrated cost =  2.6833642982314787\n",
      "RUN  11 , total integrated cost =  2.6833628838949446\n",
      "RUN  12 , total integrated cost =  2.6833623153998287\n",
      "RUN  13 , total integrated cost =  2.6833613071503786\n",
      "RUN  14 , total integrated cost =  2.6833608212972577\n",
      "RUN  15 , total integrated cost =  2.683358804101985\n",
      "RUN  16 , total integrated cost =  2.6833578986171682\n",
      "RUN  17 , total integrated cost =  2.6833393899460574\n",
      "RUN  18 , total integrated cost =  2.683320412118056\n",
      "RUN  19 , total integrated cost =  2.683317645578527\n",
      "RUN  20 , total integrated cost =  2.6833150427751193\n",
      "RUN  30 , total integrated cost =  2.683297224924685\n"
     ]
    },
    {
     "output_type": "stream",
     "name": "stderr",
     "text": [
      "ERROR:root:Problem in initial value trasfer\n"
     ]
    },
    {
     "output_type": "stream",
     "name": "stdout",
     "text": [
      "RUN  40 , total integrated cost =  2.6832829123762356\n",
      "RUN  40 , total integrated cost =  2.6832829123762356\n",
      "Improved over  40  iterations in  27.621305030996155  seconds by  0.017634771715620445  percent.\n",
      "Problem in initial value trasfer:  Vmean_exc -74.52684950312504 -74.52684962023892\n",
      "0.00017709069658234698 0.0\n",
      "8.241242234202802e-09 0.0\n",
      "set cost params:  18.625 0.0 1.0\n",
      "----- 275\n",
      "interpolate adjoint :  True True True\n",
      "RUN  0 , total integrated cost =  2.6843319369937935\n",
      "Gradient descend method:  None\n",
      "RUN  1 , total integrated cost =  2.684185778526369\n",
      "RUN  2 , total integrated cost =  2.684183403913899\n",
      "RUN  3 , total integrated cost =  2.684181479191513\n",
      "RUN  4 , total integrated cost =  2.6841814270057474\n"
     ]
    },
    {
     "output_type": "stream",
     "name": "stderr",
     "text": [
      "ERROR:root:Problem in initial value trasfer\n"
     ]
    },
    {
     "output_type": "stream",
     "name": "stdout",
     "text": [
      "RUN  5 , total integrated cost =  2.6841814270057474\n",
      "Control only changes marginally.\n",
      "RUN  5 , total integrated cost =  2.6841814270057474\n",
      "Improved over  5  iterations in  2.9867737570020836  seconds by  0.005606981237008313  percent.\n",
      "Problem in initial value trasfer:  Vmean_exc -74.52685041242344 -74.52685052533849\n",
      "0.00017949363610901537 0.0\n",
      "8.241242234202802e-09 0.0\n",
      "set cost params:  18.619999999999997 0.0 1.0\n",
      "----- 276\n",
      "interpolate adjoint :  True True True\n",
      "RUN  0 , total integrated cost =  2.6859072661295125\n",
      "Gradient descend method:  None\n",
      "RUN  1 , total integrated cost =  2.68560061901166\n",
      "RUN  2 , total integrated cost =  2.6856000257846206\n",
      "RUN  3 , total integrated cost =  2.6847769170521856\n",
      "RUN  4 , total integrated cost =  2.68466506360266\n",
      "RUN  5 , total integrated cost =  2.684664412883042\n",
      "RUN  6 , total integrated cost =  2.684662841154226\n",
      "RUN  7 , total integrated cost =  2.6846625762498344\n",
      "RUN  8 , total integrated cost =  2.6846489458035796\n",
      "RUN  9 , total integrated cost =  2.6846360426633087\n",
      "RUN  10 , total integrated cost =  2.684635855561466\n",
      "RUN  11 , total integrated cost =  2.684634455648297\n",
      "RUN  12 , total integrated cost =  2.6846340161316746\n",
      "RUN  13 , total integrated cost =  2.6841188154307782\n",
      "RUN  14 , total integrated cost =  2.683769559117674\n",
      "RUN  15 , total integrated cost =  2.683669889080837\n",
      "RUN  16 , total integrated cost =  2.683638975857369\n",
      "RUN  17 , total integrated cost =  2.6836118229109784\n",
      "RUN  18 , total integrated cost =  2.683611563956885\n",
      "RUN  19 , total integrated cost =  2.683610714216509\n",
      "RUN  20 , total integrated cost =  2.6836102423486072\n",
      "RUN  30 , total integrated cost =  2.683601035432606\n"
     ]
    },
    {
     "output_type": "stream",
     "name": "stderr",
     "text": [
      "ERROR:root:Problem in initial value trasfer\n"
     ]
    },
    {
     "output_type": "stream",
     "name": "stdout",
     "text": [
      "RUN  40 , total integrated cost =  2.683590749919103\n",
      "RUN  40 , total integrated cost =  2.683590749919103\n",
      "Improved over  40  iterations in  25.465288703002443  seconds by  0.08624706592151199  percent.\n",
      "Problem in initial value trasfer:  Vmean_exc -74.52685141208195 -74.5268515203809\n",
      "0.00017655823751698744 0.0\n",
      "8.241242234202802e-09 0.0\n",
      "set cost params:  18.615000000000002 0.0 1.0\n",
      "----- 277\n",
      "interpolate adjoint :  True True True\n",
      "RUN  0 , total integrated cost =  2.685276498679258\n",
      "Gradient descend method:  None\n",
      "RUN  1 , total integrated cost =  2.684969379751516\n",
      "RUN  2 , total integrated cost =  2.684968337519099\n",
      "RUN  3 , total integrated cost =  2.6849678149137035\n",
      "RUN  4 , total integrated cost =  2.6849670220655164\n",
      "RUN  5 , total integrated cost =  2.68496632989609\n",
      "RUN  6 , total integrated cost =  2.6849541092338014\n",
      "RUN  7 , total integrated cost =  2.6849451951537233\n",
      "RUN  8 , total integrated cost =  2.684944718415451\n",
      "RUN  9 , total integrated cost =  2.684943777856023\n",
      "RUN  10 , total integrated cost =  2.684943299023719\n",
      "RUN  11 , total integrated cost =  2.684942577227145\n",
      "RUN  12 , total integrated cost =  2.684941994929084\n",
      "RUN  13 , total integrated cost =  2.684941209426889\n",
      "RUN  14 , total integrated cost =  2.6849403805354464\n",
      "RUN  15 , total integrated cost =  2.684928478098823\n",
      "RUN  16 , total integrated cost =  2.684911939962033\n",
      "RUN  17 , total integrated cost =  2.6849115529987593\n",
      "RUN  18 , total integrated cost =  2.684910727788646\n",
      "RUN  19 , total integrated cost =  2.6849101444401264\n",
      "RUN  20 , total integrated cost =  2.6849092372804324\n",
      "RUN  30 , total integrated cost =  2.6837238153133014\n"
     ]
    },
    {
     "output_type": "stream",
     "name": "stderr",
     "text": [
      "ERROR:root:Problem in initial value trasfer\n"
     ]
    },
    {
     "output_type": "stream",
     "name": "stdout",
     "text": [
      "RUN  40 , total integrated cost =  2.6836953305346607\n",
      "RUN  40 , total integrated cost =  2.6836953305346607\n",
      "Improved over  40  iterations in  26.879964383995684  seconds by  0.05888288023132304  percent.\n",
      "Problem in initial value trasfer:  Vmean_exc -74.52685235713103 -74.52685246106604\n",
      "0.00017807779906924053 0.0\n",
      "8.241242234202802e-09 0.0\n",
      "set cost params:  18.61 0.0 1.0\n",
      "----- 278\n",
      "interpolate adjoint :  True True True\n",
      "RUN  0 , total integrated cost =  2.68504994576876\n",
      "Gradient descend method:  None\n",
      "RUN  1 , total integrated cost =  2.684834849532193\n",
      "RUN  2 , total integrated cost =  2.684809286986138\n",
      "RUN  3 , total integrated cost =  2.6847858341420516\n",
      "RUN  4 , total integrated cost =  2.684785588839658\n",
      "RUN  5 , total integrated cost =  2.6847846632265666\n",
      "RUN  6 , total integrated cost =  2.684784113516989\n",
      "RUN  7 , total integrated cost =  2.6847809021813007\n",
      "RUN  8 , total integrated cost =  2.68477792457417\n",
      "RUN  9 , total integrated cost =  2.6847773633809027\n",
      "RUN  10 , total integrated cost =  2.6847764667802267\n",
      "RUN  11 , total integrated cost =  2.684775992326183\n",
      "RUN  12 , total integrated cost =  2.684774154251062\n",
      "RUN  13 , total integrated cost =  2.6847723737882667\n",
      "RUN  14 , total integrated cost =  2.68477194146379\n",
      "RUN  15 , total integrated cost =  2.6847710508205394\n",
      "RUN  16 , total integrated cost =  2.68477053983499\n",
      "RUN  17 , total integrated cost =  2.6847576749936257\n",
      "RUN  18 , total integrated cost =  2.68474792123982\n",
      "RUN  19 , total integrated cost =  2.684747578298102\n",
      "RUN  20 , total integrated cost =  2.6847466571664613\n",
      "RUN  30 , total integrated cost =  2.6847335902566636\n"
     ]
    },
    {
     "output_type": "stream",
     "name": "stderr",
     "text": [
      "ERROR:root:Problem in initial value trasfer\n"
     ]
    },
    {
     "output_type": "stream",
     "name": "stdout",
     "text": [
      "RUN  40 , total integrated cost =  2.6847243421236695\n",
      "RUN  40 , total integrated cost =  2.6847243421236695\n",
      "Improved over  40  iterations in  26.35756143299659  seconds by  0.01212653960510579  percent.\n",
      "Problem in initial value trasfer:  Vmean_exc -74.52685315292997 -74.52685325319024\n",
      "0.00018163837978013182 0.0\n",
      "8.241242234202802e-09 0.0\n",
      "set cost params:  18.605 0.0 1.0\n",
      "----- 279\n",
      "interpolate adjoint :  True True True\n",
      "RUN  0 , total integrated cost =  2.6864614860818206\n",
      "Gradient descend method:  None\n",
      "RUN  1 , total integrated cost =  2.6861619665938705\n",
      "RUN  2 , total integrated cost =  2.686161286642563\n",
      "RUN  3 , total integrated cost =  2.686161074814249\n",
      "RUN  4 , total integrated cost =  2.68615763727993\n",
      "RUN  5 , total integrated cost =  2.6861537116959955\n",
      "RUN  6 , total integrated cost =  2.686153535136569\n",
      "RUN  7 , total integrated cost =  2.686152798773099\n",
      "RUN  8 , total integrated cost =  2.686152673350198\n",
      "RUN  9 , total integrated cost =  2.686151066326418\n",
      "RUN  10 , total integrated cost =  2.6861488414004717\n",
      "RUN  11 , total integrated cost =  2.6861486890985913\n",
      "RUN  12 , total integrated cost =  2.686147931554346\n",
      "RUN  13 , total integrated cost =  2.6861478300394244\n",
      "RUN  14 , total integrated cost =  2.686146841456445\n",
      "RUN  15 , total integrated cost =  2.6861457555647745\n",
      "RUN  16 , total integrated cost =  2.6861451963485004\n",
      "RUN  17 , total integrated cost =  2.686144076458631\n",
      "RUN  18 , total integrated cost =  2.6861440049044556\n",
      "RUN  19 , total integrated cost =  2.6861431410741545\n",
      "RUN  20 , total integrated cost =  2.6861422664764127\n",
      "RUN  30 , total integrated cost =  2.6860995331381687\n"
     ]
    },
    {
     "output_type": "stream",
     "name": "stderr",
     "text": [
      "ERROR:root:Problem in initial value trasfer\n"
     ]
    },
    {
     "output_type": "stream",
     "name": "stdout",
     "text": [
      "RUN  40 , total integrated cost =  2.6860799167160194\n",
      "RUN  40 , total integrated cost =  2.6860799167160194\n",
      "Improved over  40  iterations in  24.446531636000145  seconds by  0.014203418428962777  percent.\n",
      "Problem in initial value trasfer:  Vmean_exc -74.52685399658583 -74.52685409295037\n",
      "0.00018843015157897307 0.0\n",
      "8.241242234202802e-09 0.0\n",
      "set cost params:  18.6 0.0 1.0\n",
      "----- 280\n",
      "interpolate adjoint :  True True True\n",
      "RUN  0 , total integrated cost =  2.687534900970054\n",
      "Gradient descend method:  None\n",
      "RUN  1 , total integrated cost =  2.6873341790343077\n",
      "RUN  2 , total integrated cost =  2.6873267488905173\n",
      "RUN  3 , total integrated cost =  2.687318878342476\n",
      "RUN  4 , total integrated cost =  2.687317951910954\n",
      "RUN  5 , total integrated cost =  2.687316513833442\n",
      "RUN  6 , total integrated cost =  2.6873159305644716\n",
      "RUN  7 , total integrated cost =  2.687312244589308\n",
      "RUN  8 , total integrated cost =  2.6873100494008053\n",
      "RUN  9 , total integrated cost =  2.6856093146277282\n",
      "RUN  10 , total integrated cost =  2.6856011015355854\n",
      "RUN  11 , total integrated cost =  2.6856000953686263\n",
      "RUN  12 , total integrated cost =  2.685597218730274\n",
      "RUN  13 , total integrated cost =  2.6855963908507645\n",
      "RUN  14 , total integrated cost =  2.6855938656943805\n",
      "RUN  15 , total integrated cost =  2.685591938561028\n",
      "RUN  16 , total integrated cost =  2.685588142836001\n",
      "RUN  17 , total integrated cost =  2.6855843528809933\n",
      "RUN  18 , total integrated cost =  2.6855698472091927\n",
      "RUN  19 , total integrated cost =  2.685554928062682\n",
      "RUN  20 , total integrated cost =  2.685554025816057\n",
      "RUN  30 , total integrated cost =  2.685519011840184\n"
     ]
    },
    {
     "output_type": "stream",
     "name": "stderr",
     "text": [
      "ERROR:root:Problem in initial value trasfer\n"
     ]
    },
    {
     "output_type": "stream",
     "name": "stdout",
     "text": [
      "RUN  40 , total integrated cost =  2.6854651288192453\n",
      "RUN  40 , total integrated cost =  2.6854651288192453\n",
      "Improved over  40  iterations in  26.335811415003263  seconds by  0.07701377757220484  percent.\n",
      "Problem in initial value trasfer:  Vmean_exc -74.52685478863378 -74.52685488134087\n",
      "0.00017180112571531385 0.0\n",
      "8.241242234202802e-09 0.0\n",
      "set cost params:  18.595 0.0 1.0\n",
      "----- 281\n",
      "interpolate adjoint :  True True True\n",
      "RUN  0 , total integrated cost =  2.6870673885302727\n",
      "Gradient descend method:  None\n",
      "RUN  1 , total integrated cost =  2.6868744952010064\n",
      "RUN  2 , total integrated cost =  2.6868737018295357\n",
      "RUN  3 , total integrated cost =  2.686871373834813\n",
      "RUN  4 , total integrated cost =  2.6868705936790582\n",
      "RUN  5 , total integrated cost =  2.6868676783801844\n",
      "RUN  6 , total integrated cost =  2.6868662667967294\n",
      "RUN  7 , total integrated cost =  2.686857746346001\n",
      "RUN  8 , total integrated cost =  2.686846863311198\n",
      "RUN  9 , total integrated cost =  2.6868382774190067\n",
      "RUN  10 , total integrated cost =  2.686827996751202\n",
      "RUN  11 , total integrated cost =  2.686819586046609\n",
      "RUN  12 , total integrated cost =  2.686808793564832\n",
      "RUN  13 , total integrated cost =  2.686798534588686\n",
      "RUN  14 , total integrated cost =  2.686785030657847\n",
      "RUN  15 , total integrated cost =  2.6867327285636238\n",
      "RUN  16 , total integrated cost =  2.6866781914916436\n",
      "RUN  17 , total integrated cost =  2.68667332112912\n",
      "RUN  18 , total integrated cost =  2.686668153845185\n",
      "RUN  19 , total integrated cost =  2.6866673825011342\n",
      "RUN  20 , total integrated cost =  2.686665416082713\n",
      "RUN  30 , total integrated cost =  2.6865830346268402\n"
     ]
    },
    {
     "output_type": "stream",
     "name": "stderr",
     "text": [
      "ERROR:root:Problem in initial value trasfer\n"
     ]
    },
    {
     "output_type": "stream",
     "name": "stdout",
     "text": [
      "RUN  40 , total integrated cost =  2.6865515121407273\n",
      "RUN  40 , total integrated cost =  2.6865515121407273\n",
      "Improved over  40  iterations in  26.982821778998186  seconds by  0.019198490955147918  percent.\n",
      "Problem in initial value trasfer:  Vmean_exc -74.52685539465132 -74.52685548456003\n",
      "0.00020765448218083542 0.0\n",
      "8.241242234202802e-09 0.0\n",
      "set cost params:  18.59 0.0 1.0\n",
      "----- 282\n",
      "interpolate adjoint :  True True True\n",
      "RUN  0 , total integrated cost =  2.6877821772647286\n",
      "Gradient descend method:  None\n",
      "RUN  1 , total integrated cost =  2.687540866831152\n",
      "RUN  2 , total integrated cost =  2.6875353537811235\n",
      "RUN  3 , total integrated cost =  2.687528582221525\n",
      "RUN  4 , total integrated cost =  2.6875273132294972\n",
      "RUN  5 , total integrated cost =  2.687525310202492\n",
      "RUN  6 , total integrated cost =  2.687524822250621\n",
      "RUN  7 , total integrated cost =  2.687523477502176\n",
      "RUN  8 , total integrated cost =  2.6875228208513615\n",
      "RUN  9 , total integrated cost =  2.687521599239694\n",
      "RUN  10 , total integrated cost =  2.687520568474448\n",
      "RUN  11 , total integrated cost =  2.6875185923875913\n",
      "RUN  12 , total integrated cost =  2.6875164081982588\n",
      "RUN  13 , total integrated cost =  2.6875153689088154\n",
      "RUN  14 , total integrated cost =  2.6875133613764115\n",
      "RUN  15 , total integrated cost =  2.6875128751943445\n",
      "RUN  16 , total integrated cost =  2.6875116000439174\n",
      "RUN  17 , total integrated cost =  2.687511016101783\n",
      "RUN  18 , total integrated cost =  2.6875098135694224\n",
      "RUN  19 , total integrated cost =  2.6875087130076296\n",
      "RUN  20 , total integrated cost =  2.6875068600481544\n",
      "RUN  30 , total integrated cost =  2.6874932927888944\n"
     ]
    },
    {
     "output_type": "stream",
     "name": "stderr",
     "text": [
      "ERROR:root:Problem in initial value trasfer\n"
     ]
    },
    {
     "output_type": "stream",
     "name": "stdout",
     "text": [
      "RUN  40 , total integrated cost =  2.6874748254961776\n",
      "RUN  40 , total integrated cost =  2.6874748254961776\n",
      "Improved over  40  iterations in  24.987020426997333  seconds by  0.011435144229722027  percent.\n",
      "Problem in initial value trasfer:  Vmean_exc -74.5268562055855 -74.52685629174958\n",
      "0.00019342044617771248 0.0\n",
      "8.241242234202802e-09 0.0\n",
      "set cost params:  18.585 0.0 1.0\n",
      "----- 283\n",
      "interpolate adjoint :  True True True\n",
      "RUN  0 , total integrated cost =  2.6893362792520983\n",
      "Gradient descend method:  None\n",
      "RUN  1 , total integrated cost =  2.6890485242335447\n",
      "RUN  2 , total integrated cost =  2.6890475512127083\n",
      "RUN  3 , total integrated cost =  2.6890258276588277\n",
      "RUN  4 , total integrated cost =  2.6890069919097845\n",
      "RUN  5 , total integrated cost =  2.6890062287451006\n",
      "RUN  6 , total integrated cost =  2.6890044569935574\n",
      "RUN  7 , total integrated cost =  2.6890037789295267\n",
      "RUN  8 , total integrated cost =  2.6881234368131834\n",
      "RUN  9 , total integrated cost =  2.688086519735997\n",
      "RUN  10 , total integrated cost =  2.6880546831193004\n",
      "RUN  11 , total integrated cost =  2.688017394125694\n",
      "RUN  12 , total integrated cost =  2.687982539688398\n",
      "RUN  13 , total integrated cost =  2.6874200898910887\n",
      "RUN  14 , total integrated cost =  2.6869302948067624\n",
      "RUN  15 , total integrated cost =  2.686902141017102\n",
      "RUN  16 , total integrated cost =  2.6868740167494645\n",
      "RUN  17 , total integrated cost =  2.686861345227318\n",
      "RUN  18 , total integrated cost =  2.6868536619897343\n",
      "RUN  19 , total integrated cost =  2.6868491255955167\n",
      "RUN  20 , total integrated cost =  2.68684305071221\n",
      "RUN  30 , total integrated cost =  2.6867306401923035\n"
     ]
    },
    {
     "output_type": "stream",
     "name": "stderr",
     "text": [
      "ERROR:root:Problem in initial value trasfer\n"
     ]
    },
    {
     "output_type": "stream",
     "name": "stdout",
     "text": [
      "RUN  40 , total integrated cost =  2.6864328673648723\n",
      "RUN  40 , total integrated cost =  2.6864328673648723\n",
      "Improved over  40  iterations in  27.69120243600628  seconds by  0.10796016510190043  percent.\n",
      "Problem in initial value trasfer:  Vmean_exc -74.526857110302 -74.52685719228838\n",
      "0.00018413918631398252 0.0\n",
      "8.241242234202802e-09 0.0\n",
      "set cost params:  18.580000000000002 0.0 1.0\n",
      "----- 284\n",
      "interpolate adjoint :  True True True\n",
      "RUN  0 , total integrated cost =  2.687810749364654\n",
      "Gradient descend method:  None\n",
      "RUN  1 , total integrated cost =  2.687657715554109\n",
      "RUN  2 , total integrated cost =  2.687646417210593\n",
      "RUN  3 , total integrated cost =  2.6876302640601515\n",
      "RUN  4 , total integrated cost =  2.687597062073842\n",
      "RUN  5 , total integrated cost =  2.6875579779650867\n",
      "RUN  6 , total integrated cost =  2.687354076623026\n",
      "RUN  7 , total integrated cost =  2.6871861798384\n",
      "RUN  8 , total integrated cost =  2.687180104033715\n",
      "RUN  9 , total integrated cost =  2.6871754174320364\n",
      "RUN  10 , total integrated cost =  2.6871658796946964\n",
      "RUN  11 , total integrated cost =  2.6871593705100976\n",
      "RUN  12 , total integrated cost =  2.6866966112311417\n",
      "RUN  13 , total integrated cost =  2.6865884771336668\n",
      "RUN  14 , total integrated cost =  2.6865848117447566\n",
      "RUN  15 , total integrated cost =  2.686578230401255\n",
      "RUN  16 , total integrated cost =  2.6865773313278516\n",
      "RUN  17 , total integrated cost =  2.6865745713311586\n",
      "RUN  18 , total integrated cost =  2.6865741620921635\n",
      "RUN  19 , total integrated cost =  2.6865729169062598\n",
      "RUN  20 , total integrated cost =  2.686572478241068\n",
      "RUN  30 , total integrated cost =  2.686463631680864\n"
     ]
    },
    {
     "output_type": "stream",
     "name": "stderr",
     "text": [
      "ERROR:root:Problem in initial value trasfer\n"
     ]
    },
    {
     "output_type": "stream",
     "name": "stdout",
     "text": [
      "RUN  40 , total integrated cost =  2.6856845038905988\n",
      "RUN  40 , total integrated cost =  2.6856845038905988\n",
      "Improved over  40  iterations in  26.300833708002756  seconds by  0.07910696370858261  percent.\n",
      "Problem in initial value trasfer:  Vmean_exc -74.52685769483975 -74.52685777412694\n",
      "0.00018798192647665016 0.0\n",
      "8.241242234202802e-09 0.0\n",
      "set cost params:  18.575 0.0 1.0\n",
      "----- 285\n",
      "interpolate adjoint :  True True True\n",
      "RUN  0 , total integrated cost =  2.687474024997159\n",
      "Gradient descend method:  None\n",
      "RUN  1 , total integrated cost =  2.687168634632434\n",
      "RUN  2 , total integrated cost =  2.6871674914210666\n",
      "RUN  3 , total integrated cost =  2.687166524443772\n",
      "RUN  4 , total integrated cost =  2.687088227378095\n",
      "RUN  5 , total integrated cost =  2.6870114911270533\n",
      "RUN  6 , total integrated cost =  2.687010814630325\n",
      "RUN  7 , total integrated cost =  2.6870095992435377\n",
      "RUN  8 , total integrated cost =  2.6870086748351056\n",
      "RUN  9 , total integrated cost =  2.68700685074872\n",
      "RUN  10 , total integrated cost =  2.6870053055124408\n",
      "RUN  11 , total integrated cost =  2.686982921983482\n",
      "RUN  12 , total integrated cost =  2.686960528248863\n",
      "RUN  13 , total integrated cost =  2.6869599802093895\n",
      "RUN  14 , total integrated cost =  2.6869588198731855\n",
      "RUN  15 , total integrated cost =  2.686958212782613\n",
      "RUN  16 , total integrated cost =  2.6869569823033665\n",
      "RUN  17 , total integrated cost =  2.68695591640471\n",
      "RUN  18 , total integrated cost =  2.686951567570132\n",
      "RUN  19 , total integrated cost =  2.686947975229519\n",
      "RUN  20 , total integrated cost =  2.6869472412993733\n",
      "RUN  30 , total integrated cost =  2.686922037868648\n"
     ]
    },
    {
     "output_type": "stream",
     "name": "stderr",
     "text": [
      "ERROR:root:Problem in initial value trasfer\n"
     ]
    },
    {
     "output_type": "stream",
     "name": "stdout",
     "text": [
      "RUN  40 , total integrated cost =  2.6868711559748193\n",
      "RUN  40 , total integrated cost =  2.6868711559748193\n",
      "Improved over  40  iterations in  25.987399457997526  seconds by  0.02243255252821541  percent.\n",
      "Problem in initial value trasfer:  Vmean_exc -74.52685834732301 -74.52685842359725\n",
      "0.0001951347217555067 0.0\n",
      "8.241242234202802e-09 0.0\n",
      "set cost params:  18.57 0.0 1.0\n",
      "----- 286\n",
      "interpolate adjoint :  True True True\n",
      "RUN  0 , total integrated cost =  2.688373141910263\n",
      "Gradient descend method:  None\n",
      "RUN  1 , total integrated cost =  2.6881570007623576\n",
      "RUN  2 , total integrated cost =  2.688156217333337\n",
      "RUN  3 , total integrated cost =  2.688154801415907\n",
      "RUN  4 , total integrated cost =  2.6881544663231587\n",
      "RUN  5 , total integrated cost =  2.6881525457503987\n",
      "RUN  6 , total integrated cost =  2.688150894215225\n",
      "RUN  7 , total integrated cost =  2.6881472348317175\n",
      "RUN  8 , total integrated cost =  2.68814371317362\n",
      "RUN  9 , total integrated cost =  2.688110032777284\n",
      "RUN  10 , total integrated cost =  2.6880770408390053\n",
      "RUN  11 , total integrated cost =  2.688072728924995\n",
      "RUN  12 , total integrated cost =  2.6880673177264085\n",
      "RUN  13 , total integrated cost =  2.688064818618445\n",
      "RUN  14 , total integrated cost =  2.6880617161728493\n",
      "RUN  15 , total integrated cost =  2.688060500866715\n",
      "RUN  16 , total integrated cost =  2.688058826891765\n",
      "RUN  17 , total integrated cost =  2.6880582160310826\n",
      "RUN  18 , total integrated cost =  2.68805674125726\n",
      "RUN  19 , total integrated cost =  2.6880561902464897\n",
      "RUN  20 , total integrated cost =  2.6880435099744835\n",
      "RUN  30 , total integrated cost =  2.687878021385367\n"
     ]
    },
    {
     "output_type": "stream",
     "name": "stderr",
     "text": [
      "ERROR:root:Problem in initial value trasfer\n"
     ]
    },
    {
     "output_type": "stream",
     "name": "stdout",
     "text": [
      "RUN  40 , total integrated cost =  2.6855444166401496\n",
      "RUN  40 , total integrated cost =  2.6855444166401496\n",
      "Improved over  40  iterations in  27.99099817199749  seconds by  0.10522070861426869  percent.\n",
      "Problem in initial value trasfer:  Vmean_exc -74.5268589696966 -74.52685904309692\n",
      "0.00018807452959492793 0.0\n",
      "8.241242234202802e-09 0.0\n",
      "set cost params:  18.565 0.0 1.0\n",
      "----- 287\n",
      "interpolate adjoint :  True True True\n",
      "RUN  0 , total integrated cost =  2.687340893654245\n",
      "Gradient descend method:  None\n",
      "RUN  1 , total integrated cost =  2.687015733688251\n",
      "RUN  2 , total integrated cost =  2.687015138811144\n",
      "RUN  3 , total integrated cost =  2.6870134987571017\n",
      "RUN  4 , total integrated cost =  2.6870124992017033\n",
      "RUN  5 , total integrated cost =  2.6870104485827033\n",
      "RUN  6 , total integrated cost =  2.687008857784943\n",
      "RUN  7 , total integrated cost =  2.687006112070932\n",
      "RUN  8 , total integrated cost =  2.687003754523741\n",
      "RUN  9 , total integrated cost =  2.6870003884491185\n",
      "RUN  10 , total integrated cost =  2.6869972334929457\n",
      "RUN  11 , total integrated cost =  2.686992286425088\n",
      "RUN  12 , total integrated cost =  2.686987330501433\n",
      "RUN  13 , total integrated cost =  2.6869803365286513\n",
      "RUN  14 , total integrated cost =  2.6869747045737387\n",
      "RUN  15 , total integrated cost =  2.686972754847955\n",
      "RUN  16 , total integrated cost =  2.686971000720846\n",
      "RUN  17 , total integrated cost =  2.6869703787729975\n",
      "RUN  18 , total integrated cost =  2.6869688892511263\n",
      "RUN  19 , total integrated cost =  2.686968163119141\n",
      "RUN  20 , total integrated cost =  2.686965174467937\n",
      "RUN  30 , total integrated cost =  2.6852171980734716\n"
     ]
    },
    {
     "output_type": "stream",
     "name": "stderr",
     "text": [
      "ERROR:root:Problem in initial value trasfer\n"
     ]
    },
    {
     "output_type": "stream",
     "name": "stdout",
     "text": [
      "RUN  40 , total integrated cost =  2.6850544135004566\n",
      "RUN  40 , total integrated cost =  2.6850544135004566\n",
      "Improved over  40  iterations in  26.099707116998616  seconds by  0.08508336844008113  percent.\n",
      "Problem in initial value trasfer:  Vmean_exc -74.52685965081037 -74.5268597210655\n",
      "0.00018384419113410766 0.0\n",
      "8.241242234202802e-09 0.0\n",
      "set cost params:  18.56 0.0 1.0\n",
      "----- 288\n",
      "interpolate adjoint :  True True True\n",
      "RUN  0 , total integrated cost =  2.6867904361759574\n",
      "Gradient descend method:  None\n",
      "RUN  1 , total integrated cost =  2.6864971783646308\n",
      "RUN  2 , total integrated cost =  2.686496659460551\n",
      "RUN  3 , total integrated cost =  2.6864950293266787\n",
      "RUN  4 , total integrated cost =  2.686494607712007\n",
      "RUN  5 , total integrated cost =  2.686492850916886\n",
      "RUN  6 , total integrated cost =  2.68648978239712\n",
      "RUN  7 , total integrated cost =  2.68648887661719\n",
      "RUN  8 , total integrated cost =  2.686486560648206\n",
      "RUN  9 , total integrated cost =  2.686486255766041\n",
      "RUN  10 , total integrated cost =  2.6857916566326154\n",
      "RUN  11 , total integrated cost =  2.685789464053527\n",
      "RUN  12 , total integrated cost =  2.685786448041527\n",
      "RUN  13 , total integrated cost =  2.6857845350804315\n",
      "RUN  14 , total integrated cost =  2.685691901243459\n",
      "RUN  15 , total integrated cost =  2.6856251586785964\n",
      "RUN  16 , total integrated cost =  2.6856234249824533\n",
      "RUN  17 , total integrated cost =  2.685620341504463\n",
      "RUN  18 , total integrated cost =  2.6856189605197107\n",
      "RUN  19 , total integrated cost =  2.6856169569703514\n",
      "RUN  20 , total integrated cost =  2.685615728393009\n",
      "RUN  30 , total integrated cost =  2.6853313320802323\n"
     ]
    },
    {
     "output_type": "stream",
     "name": "stderr",
     "text": [
      "ERROR:root:Problem in initial value trasfer\n"
     ]
    },
    {
     "output_type": "stream",
     "name": "stdout",
     "text": [
      "RUN  40 , total integrated cost =  2.685276337141774\n",
      "RUN  40 , total integrated cost =  2.685276337141774\n",
      "Improved over  40  iterations in  25.689714052001364  seconds by  0.056353447362212705  percent.\n",
      "Problem in initial value trasfer:  Vmean_exc -74.52686026802176 -74.52686033542682\n",
      "0.00018388907728742913 0.0\n",
      "8.241242234202802e-09 0.0\n",
      "set cost params:  18.555 0.0 1.0\n",
      "----- 289\n",
      "interpolate adjoint :  True True True\n",
      "RUN  0 , total integrated cost =  2.6863673680195923\n",
      "Gradient descend method:  None\n",
      "RUN  1 , total integrated cost =  2.6862433594152355\n",
      "RUN  2 , total integrated cost =  2.6862427811558858\n",
      "RUN  3 , total integrated cost =  2.6862425852329515\n",
      "RUN  4 , total integrated cost =  2.6862414426672414\n",
      "RUN  5 , total integrated cost =  2.6862413742415963\n",
      "RUN  6 , total integrated cost =  2.686241221401254\n",
      "RUN  7 , total integrated cost =  2.6862402172567035\n",
      "RUN  8 , total integrated cost =  2.686240107291308\n",
      "RUN  9 , total integrated cost =  2.6862399673116295\n",
      "RUN  10 , total integrated cost =  2.6862389728159113\n",
      "RUN  11 , total integrated cost =  2.6862389323178464\n",
      "RUN  12 , total integrated cost =  2.6862387108195684\n",
      "RUN  13 , total integrated cost =  2.6862374854334514\n",
      "RUN  14 , total integrated cost =  2.68623745619588\n",
      "RUN  15 , total integrated cost =  2.6862372837535893\n",
      "RUN  16 , total integrated cost =  2.6862361821005494\n",
      "RUN  17 , total integrated cost =  2.686236116441816\n",
      "RUN  18 , total integrated cost =  2.6862359250758785\n",
      "RUN  19 , total integrated cost =  2.6862347734452006\n",
      "RUN  20 , total integrated cost =  2.6862347282815593\n",
      "RUN  30 , total integrated cost =  2.68623055838619\n"
     ]
    },
    {
     "output_type": "stream",
     "name": "stderr",
     "text": [
      "ERROR:root:Problem in initial value trasfer\n"
     ]
    },
    {
     "output_type": "stream",
     "name": "stdout",
     "text": [
      "RUN  40 , total integrated cost =  2.6862249135308627\n",
      "RUN  40 , total integrated cost =  2.6862249135308627\n",
      "Improved over  40  iterations in  27.126063142997737  seconds by  0.0053028670026833424  percent.\n",
      "Problem in initial value trasfer:  Vmean_exc -74.52686076117166 -74.5268608262995\n",
      "0.00019237282250812363 0.0\n",
      "8.241242234202802e-09 0.0\n",
      "set cost params:  18.55 0.0 1.0\n",
      "----- 290\n",
      "interpolate adjoint :  True True True\n",
      "RUN  0 , total integrated cost =  2.6880754002949807\n",
      "Gradient descend method:  None\n",
      "RUN  1 , total integrated cost =  2.687743190609885\n",
      "RUN  2 , total integrated cost =  2.6877423816773742\n",
      "RUN  3 , total integrated cost =  2.6877391606739525\n",
      "RUN  4 , total integrated cost =  2.687737362283774\n",
      "RUN  5 , total integrated cost =  2.687697734823697\n",
      "RUN  6 , total integrated cost =  2.6876568814481656\n",
      "RUN  7 , total integrated cost =  2.6876500167240196\n",
      "RUN  8 , total integrated cost =  2.6876439595771466\n",
      "RUN  9 , total integrated cost =  2.687638043751787\n",
      "RUN  10 , total integrated cost =  2.6876330406290023\n",
      "RUN  11 , total integrated cost =  2.6876320194031886\n",
      "RUN  12 , total integrated cost =  2.6876304870902024\n",
      "RUN  13 , total integrated cost =  2.687629735167232\n",
      "RUN  14 , total integrated cost =  2.6876280826720436\n",
      "RUN  15 , total integrated cost =  2.6876269666907864\n",
      "RUN  16 , total integrated cost =  2.687616448963203\n",
      "RUN  17 , total integrated cost =  2.6876059300732695\n",
      "RUN  18 , total integrated cost =  2.687587332037352\n",
      "RUN  19 , total integrated cost =  2.6875685351832757\n",
      "RUN  20 , total integrated cost =  2.6875647334557025\n",
      "RUN  30 , total integrated cost =  2.6875029044147176\n"
     ]
    },
    {
     "output_type": "stream",
     "name": "stderr",
     "text": [
      "ERROR:root:Problem in initial value trasfer\n"
     ]
    },
    {
     "output_type": "stream",
     "name": "stdout",
     "text": [
      "RUN  40 , total integrated cost =  2.6873088446320095\n",
      "RUN  40 , total integrated cost =  2.6873088446320095\n",
      "Improved over  40  iterations in  27.006142671001726  seconds by  0.028516895876023796  percent.\n",
      "Problem in initial value trasfer:  Vmean_exc -74.5268613359203 -74.52686139839416\n",
      "0.00019268642148734743 0.0\n",
      "8.241242234202802e-09 0.0\n",
      "set cost params:  18.544999999999998 0.0 1.0\n",
      "----- 291\n",
      "interpolate adjoint :  True True True\n",
      "RUN  0 , total integrated cost =  2.6887951660119938\n",
      "Gradient descend method:  None\n",
      "RUN  1 , total integrated cost =  2.688613081739417\n",
      "RUN  2 , total integrated cost =  2.6886122811809128\n",
      "RUN  3 , total integrated cost =  2.6886121101595526\n",
      "RUN  4 , total integrated cost =  2.6886111171156086\n",
      "RUN  5 , total integrated cost =  2.688610888710619\n",
      "RUN  6 , total integrated cost =  2.6886017182817934\n",
      "RUN  7 , total integrated cost =  2.6885919482899876\n",
      "RUN  8 , total integrated cost =  2.6885908731046495\n",
      "RUN  9 , total integrated cost =  2.6885880774735895\n",
      "RUN  10 , total integrated cost =  2.688587901984827\n",
      "RUN  11 , total integrated cost =  2.688500249329981\n",
      "RUN  12 , total integrated cost =  2.688406376027655\n",
      "RUN  13 , total integrated cost =  2.6884028313094483\n",
      "RUN  14 , total integrated cost =  2.68839898762508\n",
      "RUN  15 , total integrated cost =  2.6883988792937634\n",
      "RUN  16 , total integrated cost =  2.6883979791663064\n",
      "RUN  17 , total integrated cost =  2.688397256173939\n",
      "RUN  18 , total integrated cost =  2.688392676004656\n",
      "RUN  19 , total integrated cost =  2.688387628146758\n",
      "RUN  20 , total integrated cost =  2.688387533119631\n",
      "RUN  30 , total integrated cost =  2.688369307949568\n"
     ]
    },
    {
     "output_type": "stream",
     "name": "stderr",
     "text": [
      "ERROR:root:Problem in initial value trasfer\n"
     ]
    },
    {
     "output_type": "stream",
     "name": "stdout",
     "text": [
      "RUN  40 , total integrated cost =  2.688360877047996\n",
      "RUN  40 , total integrated cost =  2.688360877047996\n",
      "Improved over  40  iterations in  26.76925515900075  seconds by  0.016151805443854528  percent.\n",
      "Problem in initial value trasfer:  Vmean_exc -74.52686177544776 -74.52686183589202\n",
      "0.00020474187182895878 0.0\n",
      "8.241242234202802e-09 0.0\n",
      "set cost params:  18.54 0.0 1.0\n",
      "----- 292\n",
      "interpolate adjoint :  True True True\n",
      "RUN  0 , total integrated cost =  2.6903257956398043\n",
      "Gradient descend method:  None\n",
      "RUN  1 , total integrated cost =  2.689990804055093\n",
      "RUN  2 , total integrated cost =  2.6880501882688908\n",
      "RUN  3 , total integrated cost =  2.6879768441862004\n",
      "RUN  4 , total integrated cost =  2.6872313886319548\n",
      "RUN  5 , total integrated cost =  2.6872211454090476\n",
      "RUN  6 , total integrated cost =  2.6872193191554756\n",
      "RUN  7 , total integrated cost =  2.6872170336586363\n",
      "RUN  8 , total integrated cost =  2.6872156702571934\n",
      "RUN  9 , total integrated cost =  2.6872139563683692\n",
      "RUN  10 , total integrated cost =  2.6872128138734768\n",
      "RUN  11 , total integrated cost =  2.6872114575696364\n",
      "RUN  12 , total integrated cost =  2.687210101304759\n",
      "RUN  13 , total integrated cost =  2.687197820298152\n",
      "RUN  14 , total integrated cost =  2.687187540630377\n",
      "RUN  15 , total integrated cost =  2.687174846216859\n",
      "RUN  16 , total integrated cost =  2.687160623439568\n",
      "RUN  17 , total integrated cost =  2.6871589609153115\n",
      "RUN  18 , total integrated cost =  2.687156686470835\n",
      "RUN  19 , total integrated cost =  2.6871554979097123\n",
      "RUN  20 , total integrated cost =  2.687153908736948\n",
      "RUN  30 , total integrated cost =  2.6871357170873713\n"
     ]
    },
    {
     "output_type": "stream",
     "name": "stderr",
     "text": [
      "ERROR:root:Problem in initial value trasfer\n"
     ]
    },
    {
     "output_type": "stream",
     "name": "stdout",
     "text": [
      "RUN  40 , total integrated cost =  2.687042793153211\n",
      "RUN  40 , total integrated cost =  2.687042793153211\n",
      "Improved over  40  iterations in  25.56597951299773  seconds by  0.12202992261806855  percent.\n",
      "Problem in initial value trasfer:  Vmean_exc -74.52686235390343 -74.52686241167655\n",
      "0.00019761532006674784 0.0\n",
      "8.241242234202802e-09 0.0\n",
      "set cost params:  18.535 0.0 1.0\n",
      "----- 293\n",
      "interpolate adjoint :  True True True\n",
      "RUN  0 , total integrated cost =  2.6885797933036657\n",
      "Gradient descend method:  None\n",
      "RUN  1 , total integrated cost =  2.6883484250951906\n",
      "RUN  2 , total integrated cost =  2.688347690151443\n",
      "RUN  3 , total integrated cost =  2.6883474697880203\n",
      "RUN  4 , total integrated cost =  2.6883463211176357\n",
      "RUN  5 , total integrated cost =  2.6883460600350726\n",
      "RUN  6 , total integrated cost =  2.6883440189133845\n",
      "RUN  7 , total integrated cost =  2.688338757918418\n",
      "RUN  8 , total integrated cost =  2.688338555576918\n",
      "RUN  9 , total integrated cost =  2.6883373946298623\n",
      "RUN  10 , total integrated cost =  2.6883370801321758\n",
      "RUN  11 , total integrated cost =  2.6883369565219737\n",
      "RUN  12 , total integrated cost =  2.68833597395773\n",
      "RUN  13 , total integrated cost =  2.6883357086314277\n",
      "RUN  14 , total integrated cost =  2.688335314700632\n",
      "RUN  15 , total integrated cost =  2.6883337709516684\n",
      "RUN  16 , total integrated cost =  2.6883336207032955\n",
      "RUN  17 , total integrated cost =  2.6875825356756833\n",
      "RUN  18 , total integrated cost =  2.6874500116152524\n",
      "RUN  19 , total integrated cost =  2.6874497364900543\n",
      "RUN  20 , total integrated cost =  2.687448722649924\n",
      "RUN  30 , total integrated cost =  2.687433799840327\n"
     ]
    },
    {
     "output_type": "stream",
     "name": "stderr",
     "text": [
      "ERROR:root:Problem in initial value trasfer\n"
     ]
    },
    {
     "output_type": "stream",
     "name": "stdout",
     "text": [
      "RUN  40 , total integrated cost =  2.68741930187277\n",
      "RUN  40 , total integrated cost =  2.68741930187277\n",
      "Improved over  40  iterations in  26.624377059000835  seconds by  0.04316373401994156  percent.\n",
      "Problem in initial value trasfer:  Vmean_exc -74.52686270410635 -74.52686276026236\n",
      "0.00020707147655848828 0.0\n",
      "8.241242234202802e-09 0.0\n",
      "set cost params:  18.53 0.0 1.0\n",
      "----- 294\n",
      "interpolate adjoint :  True True True\n",
      "RUN  0 , total integrated cost =  2.6889942434264755\n",
      "Gradient descend method:  None\n",
      "RUN  1 , total integrated cost =  2.688694331237382\n",
      "RUN  2 , total integrated cost =  2.6886818689840672\n",
      "RUN  3 , total integrated cost =  2.6886725540726886\n",
      "RUN  4 , total integrated cost =  2.6886647302884867\n",
      "RUN  5 , total integrated cost =  2.6886576239000672\n",
      "RUN  6 , total integrated cost =  2.6886475943395363\n",
      "RUN  7 , total integrated cost =  2.6886400592122985\n",
      "RUN  8 , total integrated cost =  2.6886363860745774\n",
      "RUN  9 , total integrated cost =  2.6886331352252557\n",
      "RUN  10 , total integrated cost =  2.6886305850862255\n",
      "RUN  11 , total integrated cost =  2.6886279712145655\n",
      "RUN  12 , total integrated cost =  2.688626924399217\n",
      "RUN  13 , total integrated cost =  2.688624985696238\n",
      "RUN  14 , total integrated cost =  2.6886242388790818\n",
      "RUN  15 , total integrated cost =  2.6886219533058227\n",
      "RUN  16 , total integrated cost =  2.6886210694631223\n",
      "RUN  17 , total integrated cost =  2.6886180264744484\n",
      "RUN  18 , total integrated cost =  2.6886158404056495\n",
      "RUN  19 , total integrated cost =  2.688599091397669\n",
      "RUN  20 , total integrated cost =  2.6885813274668546\n",
      "RUN  30 , total integrated cost =  2.6862011544042743\n"
     ]
    },
    {
     "output_type": "stream",
     "name": "stderr",
     "text": [
      "ERROR:root:Problem in initial value trasfer\n"
     ]
    },
    {
     "output_type": "stream",
     "name": "stdout",
     "text": [
      "RUN  40 , total integrated cost =  2.6859102601364775\n",
      "RUN  40 , total integrated cost =  2.6859102601364775\n",
      "Improved over  40  iterations in  25.96278705399891  seconds by  0.11468909974564667  percent.\n",
      "Problem in initial value trasfer:  Vmean_exc -74.52686346700025 -74.52686351963345\n",
      "0.0001419951794932461 0.0\n",
      "8.241242234202802e-09 0.0\n",
      "set cost params:  18.525 0.0 1.0\n",
      "----- 295\n",
      "interpolate adjoint :  True True True\n",
      "RUN  0 , total integrated cost =  2.6872496820579865\n",
      "Gradient descend method:  None\n",
      "RUN  1 , total integrated cost =  2.6872332516890394\n",
      "RUN  2 , total integrated cost =  2.6872211298348354\n",
      "RUN  3 , total integrated cost =  2.687209779502625\n",
      "RUN  4 , total integrated cost =  2.68719445914397\n",
      "RUN  5 , total integrated cost =  2.687180583134586\n",
      "RUN  6 , total integrated cost =  2.687177940252856\n",
      "RUN  7 , total integrated cost =  2.687175379825267\n",
      "RUN  8 , total integrated cost =  2.687174808937308\n",
      "RUN  9 , total integrated cost =  2.687173512893111\n",
      "RUN  10 , total integrated cost =  2.687172904256276\n",
      "RUN  11 , total integrated cost =  2.687170768778694\n",
      "RUN  12 , total integrated cost =  2.6871686087101536\n",
      "RUN  13 , total integrated cost =  2.6871644367009235\n",
      "RUN  14 , total integrated cost =  2.687160042826521\n",
      "RUN  15 , total integrated cost =  2.6871491939758196\n",
      "RUN  16 , total integrated cost =  2.687140590388588\n",
      "RUN  17 , total integrated cost =  2.6871218706383244\n",
      "RUN  18 , total integrated cost =  2.6871075330217855\n",
      "RUN  19 , total integrated cost =  2.687104827828246\n",
      "RUN  20 , total integrated cost =  2.6871020199733087\n",
      "RUN  30 , total integrated cost =  2.6868644893494054\n"
     ]
    },
    {
     "output_type": "stream",
     "name": "stderr",
     "text": [
      "ERROR:root:Problem in initial value trasfer\n"
     ]
    },
    {
     "output_type": "stream",
     "name": "stdout",
     "text": [
      "RUN  40 , total integrated cost =  2.686768965611473\n",
      "RUN  40 , total integrated cost =  2.686768965611473\n",
      "Improved over  40  iterations in  28.0380348319959  seconds by  0.017888789780997172  percent.\n",
      "Problem in initial value trasfer:  Vmean_exc -74.52686370261289 -74.52686375415813\n",
      "0.00019702982200214117 0.0\n",
      "8.241242234202802e-09 0.0\n",
      "set cost params:  18.52 0.0 1.0\n",
      "----- 296\n",
      "interpolate adjoint :  True True True\n",
      "RUN  0 , total integrated cost =  2.6879758773699964\n",
      "Gradient descend method:  None\n",
      "RUN  1 , total integrated cost =  2.6878115971414376\n",
      "RUN  2 , total integrated cost =  2.6878098301096025\n",
      "RUN  3 , total integrated cost =  2.687807995084111\n",
      "RUN  4 , total integrated cost =  2.687807162481665\n",
      "RUN  5 , total integrated cost =  2.6878059196873125\n",
      "RUN  6 , total integrated cost =  2.687805184573573\n",
      "RUN  7 , total integrated cost =  2.687802691365331\n",
      "RUN  8 , total integrated cost =  2.6878015118578262\n",
      "RUN  9 , total integrated cost =  2.6877488512957854\n",
      "RUN  10 , total integrated cost =  2.687697303675899\n",
      "RUN  11 , total integrated cost =  2.6863141963105126\n",
      "RUN  12 , total integrated cost =  2.686203850815057\n",
      "RUN  13 , total integrated cost =  2.6861942794753846\n",
      "RUN  14 , total integrated cost =  2.6861885252041318\n",
      "RUN  15 , total integrated cost =  2.6861871564757935\n",
      "RUN  16 , total integrated cost =  2.6861853312176565\n",
      "RUN  17 , total integrated cost =  2.686184971650192\n",
      "RUN  18 , total integrated cost =  2.686182429656682\n",
      "RUN  19 , total integrated cost =  2.6861816224275885\n",
      "RUN  20 , total integrated cost =  2.686177904346255\n",
      "RUN  30 , total integrated cost =  2.685582446125963\n"
     ]
    },
    {
     "output_type": "stream",
     "name": "stderr",
     "text": [
      "ERROR:root:Problem in initial value trasfer\n"
     ]
    },
    {
     "output_type": "stream",
     "name": "stdout",
     "text": [
      "RUN  40 , total integrated cost =  2.6841653207229976\n",
      "RUN  40 , total integrated cost =  2.6841653207229976\n",
      "Improved over  40  iterations in  27.01083021699742  seconds by  0.14176305223122654  percent.\n",
      "Problem in initial value trasfer:  Vmean_exc -74.52686419339176 -74.52686424267073\n",
      "0.0001746446374948892 0.0\n",
      "8.241242234202802e-09 0.0\n",
      "set cost params:  18.515 0.0 1.0\n",
      "----- 297\n",
      "interpolate adjoint :  True True True\n",
      "RUN  0 , total integrated cost =  2.6854986962931395\n",
      "Gradient descend method:  None\n",
      "RUN  1 , total integrated cost =  2.685150969101291\n",
      "RUN  2 , total integrated cost =  2.6851482926752754\n",
      "RUN  3 , total integrated cost =  2.685146972279928\n",
      "RUN  4 , total integrated cost =  2.6851405713732936\n",
      "RUN  5 , total integrated cost =  2.6851334375218388\n",
      "RUN  6 , total integrated cost =  2.684497073426252\n",
      "RUN  7 , total integrated cost =  2.6844808677034178\n",
      "RUN  8 , total integrated cost =  2.6844807695242077\n",
      "RUN  9 , total integrated cost =  2.6844786265242737\n",
      "RUN  10 , total integrated cost =  2.684472515207157\n",
      "RUN  11 , total integrated cost =  2.6844724270673144\n",
      "RUN  12 , total integrated cost =  2.6844715545695332\n",
      "RUN  13 , total integrated cost =  2.684468233575325\n",
      "RUN  14 , total integrated cost =  2.6844681261885457\n",
      "RUN  15 , total integrated cost =  2.6844679502030737\n",
      "RUN  16 , total integrated cost =  2.6844665991534336\n",
      "RUN  17 , total integrated cost =  2.6844665126260714\n",
      "RUN  18 , total integrated cost =  2.6844664649643906\n",
      "RUN  19 , total integrated cost =  2.684465875874042\n",
      "RUN  20 , total integrated cost =  2.684465706257175\n",
      "RUN  30 , total integrated cost =  2.684463027638405\n"
     ]
    },
    {
     "output_type": "stream",
     "name": "stderr",
     "text": [
      "ERROR:root:Problem in initial value trasfer\n"
     ]
    },
    {
     "output_type": "stream",
     "name": "stdout",
     "text": [
      "RUN  40 , total integrated cost =  2.6844600298842516\n",
      "RUN  40 , total integrated cost =  2.6844600298842516\n",
      "Improved over  40  iterations in  24.220969923997473  seconds by  0.03867685396092213  percent.\n",
      "Problem in initial value trasfer:  Vmean_exc -74.52686461809785 -74.52686466541566\n",
      "0.00017943697823018478 0.0\n",
      "8.241242234202802e-09 0.0\n",
      "set cost params:  18.509999999999998 0.0 1.0\n",
      "----- 298\n",
      "interpolate adjoint :  True True True\n",
      "RUN  0 , total integrated cost =  2.6860039094358243\n",
      "Gradient descend method:  None\n",
      "RUN  1 , total integrated cost =  2.685730176686458\n",
      "RUN  2 , total integrated cost =  2.685728725418801\n",
      "RUN  3 , total integrated cost =  2.685728123650256\n",
      "RUN  4 , total integrated cost =  2.6857234148479994\n",
      "RUN  5 , total integrated cost =  2.685719489210601\n",
      "RUN  6 , total integrated cost =  2.6856540927313284\n",
      "RUN  7 , total integrated cost =  2.6855953456675596\n",
      "RUN  8 , total integrated cost =  2.685593303193024\n",
      "RUN  9 , total integrated cost =  2.685591328822591\n",
      "RUN  10 , total integrated cost =  2.6855907141628257\n",
      "RUN  11 , total integrated cost =  2.685589597337232\n",
      "RUN  12 , total integrated cost =  2.6855890276393266\n",
      "RUN  13 , total integrated cost =  2.6855877424119083\n",
      "RUN  14 , total integrated cost =  2.685586963185247\n",
      "RUN  15 , total integrated cost =  2.685584326018377\n",
      "RUN  16 , total integrated cost =  2.6855831471736673\n",
      "RUN  17 , total integrated cost =  2.685569690591799\n",
      "RUN  18 , total integrated cost =  2.6855541944181223\n",
      "RUN  19 , total integrated cost =  2.6855519535629244\n",
      "RUN  20 , total integrated cost =  2.6855497829103574\n",
      "RUN  30 , total integrated cost =  2.685460360049019\n"
     ]
    },
    {
     "output_type": "stream",
     "name": "stderr",
     "text": [
      "ERROR:root:Problem in initial value trasfer\n"
     ]
    },
    {
     "output_type": "stream",
     "name": "stdout",
     "text": [
      "RUN  40 , total integrated cost =  2.6853876743128855\n",
      "RUN  40 , total integrated cost =  2.6853876743128855\n",
      "Improved over  40  iterations in  28.421840670001984  seconds by  0.022942450708058004  percent.\n",
      "Problem in initial value trasfer:  Vmean_exc -74.52686497037284 -74.52686501606394\n",
      "0.0001847019887025323 0.0\n",
      "8.241242234202802e-09 0.0\n",
      "set cost params:  18.505000000000003 0.0 1.0\n",
      "----- 299\n",
      "interpolate adjoint :  True True True\n",
      "RUN  0 , total integrated cost =  2.687391417239716\n",
      "Gradient descend method:  None\n",
      "RUN  1 , total integrated cost =  2.6869695866856897\n",
      "RUN  2 , total integrated cost =  2.6869622146730427\n",
      "RUN  3 , total integrated cost =  2.6869562280726114\n",
      "RUN  4 , total integrated cost =  2.686323158840204\n",
      "RUN  5 , total integrated cost =  2.686321112113644\n",
      "RUN  6 , total integrated cost =  2.6863192790703745\n",
      "RUN  7 , total integrated cost =  2.686316983765951\n",
      "RUN  8 , total integrated cost =  2.686315020033701\n",
      "RUN  9 , total integrated cost =  2.686312428987512\n",
      "RUN  10 , total integrated cost =  2.6863099065481904\n",
      "RUN  11 , total integrated cost =  2.6863058767701333\n",
      "RUN  12 , total integrated cost =  2.6863021620460397\n",
      "RUN  13 , total integrated cost =  2.686244150025881\n",
      "RUN  14 , total integrated cost =  2.686204089184407\n",
      "RUN  15 , total integrated cost =  2.686202775865263\n",
      "RUN  16 , total integrated cost =  2.6862009105789797\n",
      "RUN  17 , total integrated cost =  2.686199773342091\n",
      "RUN  18 , total integrated cost =  2.6861976366000313\n",
      "RUN  19 , total integrated cost =  2.686195653708921\n",
      "RUN  20 , total integrated cost =  2.686191837859452\n",
      "RUN  30 , total integrated cost =  2.6861699287398055\n"
     ]
    },
    {
     "output_type": "stream",
     "name": "stderr",
     "text": [
      "ERROR:root:Problem in initial value trasfer\n"
     ]
    },
    {
     "output_type": "stream",
     "name": "stdout",
     "text": [
      "RUN  40 , total integrated cost =  2.686151870014945\n",
      "RUN  40 , total integrated cost =  2.686151870014945\n",
      "Improved over  40  iterations in  27.521282387999236  seconds by  0.046124550998385416  percent.\n",
      "Problem in initial value trasfer:  Vmean_exc -74.52686536074674 -74.52686540463525\n",
      "0.0001838988854906676 0.0\n",
      "8.241242234202802e-09 0.0\n",
      "set cost params:  18.5 0.0 1.0\n",
      "----- 300\n",
      "interpolate adjoint :  True True True\n",
      "RUN  0 , total integrated cost =  2.6877706215313255\n",
      "Gradient descend method:  None\n",
      "RUN  1 , total integrated cost =  2.687444759639142\n",
      "RUN  2 , total integrated cost =  2.6874438918217747\n",
      "RUN  3 , total integrated cost =  2.687441332475912\n",
      "RUN  4 , total integrated cost =  2.687440968181024\n",
      "RUN  5 , total integrated cost =  2.6874399234203437\n",
      "RUN  6 , total integrated cost =  2.6874393650054396\n",
      "RUN  7 , total integrated cost =  2.687438503243677\n",
      "RUN  8 , total integrated cost =  2.6874359816978326\n",
      "RUN  9 , total integrated cost =  2.68743561267425\n",
      "RUN  10 , total integrated cost =  2.687434789291126\n",
      "RUN  11 , total integrated cost =  2.6874342602713077\n",
      "RUN  12 , total integrated cost =  2.6874334031739866\n",
      "RUN  13 , total integrated cost =  2.687430912125071\n",
      "RUN  14 , total integrated cost =  2.687430539262852\n",
      "RUN  15 , total integrated cost =  2.6874295276015063\n",
      "RUN  16 , total integrated cost =  2.6874291448011682\n",
      "RUN  17 , total integrated cost =  2.687426001119696\n",
      "RUN  18 , total integrated cost =  2.6874204040606506\n",
      "RUN  19 , total integrated cost =  2.6874199853831406\n",
      "RUN  20 , total integrated cost =  2.6874184950369338\n",
      "RUN  30 , total integrated cost =  2.6874090182455483\n"
     ]
    },
    {
     "output_type": "stream",
     "name": "stderr",
     "text": [
      "ERROR:root:Problem in initial value trasfer\n"
     ]
    },
    {
     "output_type": "stream",
     "name": "stdout",
     "text": [
      "RUN  40 , total integrated cost =  2.6874013385259574\n",
      "RUN  40 , total integrated cost =  2.6874013385259574\n",
      "Improved over  40  iterations in  21.432070566996117  seconds by  0.013739379484604797  percent.\n",
      "Problem in initial value trasfer:  Vmean_exc -74.52686567592458 -74.52686571835768\n",
      "0.00019432621160676066 0.0\n",
      "8.241242234202802e-09 0.0\n",
      "set cost params:  18.494999999999997 0.0 1.0\n",
      "----- 301\n",
      "interpolate adjoint :  True True True\n",
      "RUN  0 , total integrated cost =  2.689692318580638\n",
      "Gradient descend method:  None\n",
      "RUN  1 , total integrated cost =  2.689143257400251\n",
      "RUN  2 , total integrated cost =  2.6891429993810383\n",
      "RUN  3 , total integrated cost =  2.689088368800742\n",
      "RUN  4 , total integrated cost =  2.6890389208321674\n",
      "RUN  5 , total integrated cost =  2.6890361399708502\n",
      "RUN  6 , total integrated cost =  2.6890337192682403\n",
      "RUN  7 , total integrated cost =  2.6890325398083994\n",
      "RUN  8 , total integrated cost =  2.6890312104061014\n",
      "RUN  9 , total integrated cost =  2.6890308342949423\n",
      "RUN  10 , total integrated cost =  2.6890271059662942\n",
      "RUN  11 , total integrated cost =  2.689023614282271\n",
      "RUN  12 , total integrated cost =  2.6890214200089892\n",
      "RUN  13 , total integrated cost =  2.6890194013121738\n",
      "RUN  14 , total integrated cost =  2.6890178642479396\n",
      "RUN  15 , total integrated cost =  2.689016286588193\n",
      "RUN  16 , total integrated cost =  2.689015244909518\n",
      "RUN  17 , total integrated cost =  2.6890139730920573\n",
      "RUN  18 , total integrated cost =  2.6890135518638774\n",
      "RUN  19 , total integrated cost =  2.689012239127799\n",
      "RUN  20 , total integrated cost =  2.6890117816934844\n",
      "RUN  30 , total integrated cost =  2.6886667628172654\n"
     ]
    },
    {
     "output_type": "stream",
     "name": "stderr",
     "text": [
      "ERROR:root:Problem in initial value trasfer\n"
     ]
    },
    {
     "output_type": "stream",
     "name": "stdout",
     "text": [
      "RUN  40 , total integrated cost =  2.688647488050635\n",
      "RUN  40 , total integrated cost =  2.688647488050635\n",
      "Improved over  40  iterations in  21.357303388002038  seconds by  0.03884572680618703  percent.\n",
      "Problem in initial value trasfer:  Vmean_exc -74.52686604164168 -74.52686608238602\n",
      "0.00020075467664870396 0.0\n",
      "8.241242234202802e-09 0.0\n",
      "set cost params:  18.490000000000002 0.0 1.0\n",
      "----- 302\n",
      "interpolate adjoint :  True True True\n",
      "RUN  0 , total integrated cost =  2.690542222671745\n",
      "Gradient descend method:  None\n",
      "RUN  1 , total integrated cost =  2.690100619505996\n",
      "RUN  2 , total integrated cost =  2.690099811861087\n",
      "RUN  3 , total integrated cost =  2.6900989729925433\n",
      "RUN  4 , total integrated cost =  2.690089853495705\n",
      "RUN  5 , total integrated cost =  2.6900780530321127\n",
      "RUN  6 , total integrated cost =  2.690077639871308\n",
      "RUN  7 , total integrated cost =  2.6900773939262455\n",
      "RUN  8 , total integrated cost =  2.690076231476133\n",
      "RUN  9 , total integrated cost =  2.6900760322386947\n",
      "RUN  10 , total integrated cost =  2.6900753517690292\n",
      "RUN  11 , total integrated cost =  2.6900748039985634\n",
      "RUN  12 , total integrated cost =  2.6900744952157223\n",
      "RUN  13 , total integrated cost =  2.690073276263488\n",
      "RUN  14 , total integrated cost =  2.6900731001716385\n",
      "RUN  15 , total integrated cost =  2.6900724304405492\n",
      "RUN  16 , total integrated cost =  2.690071856585348\n",
      "RUN  17 , total integrated cost =  2.6900716402160656\n",
      "RUN  18 , total integrated cost =  2.6900706455693726\n",
      "RUN  19 , total integrated cost =  2.6900704440019836\n",
      "RUN  20 , total integrated cost =  2.6900682646670027\n",
      "RUN  30 , total integrated cost =  2.6897263812363748\n"
     ]
    },
    {
     "output_type": "stream",
     "name": "stderr",
     "text": [
      "ERROR:root:Problem in initial value trasfer\n"
     ]
    },
    {
     "output_type": "stream",
     "name": "stdout",
     "text": [
      "RUN  40 , total integrated cost =  2.689675489169278\n",
      "RUN  40 , total integrated cost =  2.689675489169278\n",
      "Improved over  40  iterations in  20.48745621899434  seconds by  0.032214082914720166  percent.\n",
      "Problem in initial value trasfer:  Vmean_exc -74.5268663624376 -74.5268664017006\n",
      "0.00019970747821760037 0.0\n",
      "8.241242234202802e-09 0.0\n",
      "set cost params:  18.485 0.0 1.0\n",
      "----- 303\n",
      "interpolate adjoint :  True True True\n",
      "RUN  0 , total integrated cost =  2.6924301656922642\n",
      "Gradient descend method:  None\n",
      "RUN  1 , total integrated cost =  2.6916695323592776\n",
      "RUN  2 , total integrated cost =  2.6916683028302035\n",
      "RUN  3 , total integrated cost =  2.691667530500648\n",
      "RUN  4 , total integrated cost =  2.6916653509112196\n",
      "RUN  5 , total integrated cost =  2.6916635174464068\n",
      "RUN  6 , total integrated cost =  2.6915675725967807\n",
      "RUN  7 , total integrated cost =  2.691505319334452\n",
      "RUN  8 , total integrated cost =  2.691504934646539\n",
      "RUN  9 , total integrated cost =  2.691461279519388\n",
      "RUN  10 , total integrated cost =  2.6914237780458343\n",
      "RUN  11 , total integrated cost =  2.6914096362075046\n",
      "RUN  12 , total integrated cost =  2.691392936838971\n",
      "RUN  13 , total integrated cost =  2.691383406069184\n",
      "RUN  14 , total integrated cost =  2.6913758967239607\n",
      "RUN  15 , total integrated cost =  2.691375794915345\n",
      "RUN  16 , total integrated cost =  2.691375344535937\n",
      "RUN  17 , total integrated cost =  2.6913750678047905\n",
      "RUN  18 , total integrated cost =  2.6913749595777348\n",
      "RUN  19 , total integrated cost =  2.6913745144102745\n",
      "RUN  20 , total integrated cost =  2.6913743492973152\n",
      "RUN  30 , total integrated cost =  2.6913643618741645\n"
     ]
    },
    {
     "output_type": "stream",
     "name": "stderr",
     "text": [
      "ERROR:root:Problem in initial value trasfer\n"
     ]
    },
    {
     "output_type": "stream",
     "name": "stdout",
     "text": [
      "RUN  40 , total integrated cost =  2.6913607507478337\n",
      "RUN  40 , total integrated cost =  2.6913607507478337\n",
      "Improved over  40  iterations in  21.212269836003543  seconds by  0.039719319671021935  percent.\n",
      "Problem in initial value trasfer:  Vmean_exc -74.52686667832586 -74.52686671613019\n",
      "0.00021257276826512126 0.0\n",
      "8.241242234202802e-09 0.0\n",
      "set cost params:  18.48 0.0 1.0\n",
      "----- 304\n",
      "interpolate adjoint :  True True True\n",
      "RUN  0 , total integrated cost =  2.6941808813093204\n",
      "Gradient descend method:  None\n",
      "RUN  1 , total integrated cost =  2.693347780643819\n",
      "RUN  2 , total integrated cost =  2.6933472728799357\n",
      "RUN  3 , total integrated cost =  2.6933334676838756\n",
      "RUN  4 , total integrated cost =  2.6933193180999733\n",
      "RUN  5 , total integrated cost =  2.6933191488951747\n",
      "RUN  6 , total integrated cost =  2.6933182125806088\n",
      "RUN  7 , total integrated cost =  2.693318007222246\n",
      "RUN  8 , total integrated cost =  2.693312585096897\n",
      "RUN  9 , total integrated cost =  2.6933070514919\n",
      "RUN  10 , total integrated cost =  2.693306826958151\n",
      "RUN  11 , total integrated cost =  2.693305882192131\n",
      "RUN  12 , total integrated cost =  2.693305751030396\n",
      "RUN  13 , total integrated cost =  2.6932916304060703\n",
      "RUN  14 , total integrated cost =  2.6932767672731384\n",
      "RUN  15 , total integrated cost =  2.693276577098633\n",
      "RUN  16 , total integrated cost =  2.6932757048295644\n",
      "RUN  17 , total integrated cost =  2.6932754752924994\n",
      "RUN  18 , total integrated cost =  2.693271930576749\n",
      "RUN  19 , total integrated cost =  2.693268609854719\n",
      "RUN  20 , total integrated cost =  2.693268199765712\n",
      "RUN  30 , total integrated cost =  2.693240251271796\n"
     ]
    },
    {
     "output_type": "stream",
     "name": "stderr",
     "text": [
      "ERROR:root:Problem in initial value trasfer\n"
     ]
    },
    {
     "output_type": "stream",
     "name": "stdout",
     "text": [
      "RUN  40 , total integrated cost =  2.693196681454388\n",
      "RUN  40 , total integrated cost =  2.693196681454388\n",
      "Improved over  40  iterations in  21.89425138099614  seconds by  0.03653057824588757  percent.\n",
      "Problem in initial value trasfer:  Vmean_exc -74.52686696015961 -74.5268669966625\n",
      "0.000220083765957665 0.0\n",
      "8.241242234202802e-09 0.0\n",
      "set cost params:  18.475 0.0 1.0\n",
      "----- 305\n",
      "interpolate adjoint :  True True True\n",
      "RUN  0 , total integrated cost =  2.69696140030147\n",
      "Gradient descend method:  None\n",
      "RUN  1 , total integrated cost =  2.6956424353620547\n",
      "RUN  2 , total integrated cost =  2.695640643730826\n",
      "RUN  3 , total integrated cost =  2.6956175670931395\n",
      "RUN  4 , total integrated cost =  2.695598514134997\n",
      "RUN  5 , total integrated cost =  2.6955486792990753\n",
      "RUN  6 , total integrated cost =  2.6955073845721267\n",
      "RUN  7 , total integrated cost =  2.695504973340626\n",
      "RUN  8 , total integrated cost =  2.6955016816107884\n",
      "RUN  9 , total integrated cost =  2.6955007862767935\n",
      "RUN  10 , total integrated cost =  2.6954996393591752\n",
      "RUN  11 , total integrated cost =  2.695498740768152\n",
      "RUN  12 , total integrated cost =  2.6954973140667304\n",
      "RUN  13 , total integrated cost =  2.6954960556274297\n",
      "RUN  14 , total integrated cost =  2.695494230951767\n",
      "RUN  15 , total integrated cost =  2.695492613391042\n",
      "RUN  16 , total integrated cost =  2.695480063161302\n",
      "RUN  17 , total integrated cost =  2.6954651899085365\n",
      "RUN  18 , total integrated cost =  2.6953519981063097\n",
      "RUN  19 , total integrated cost =  2.695315808362942\n",
      "RUN  20 , total integrated cost =  2.695315622493301\n",
      "RUN  30 , total integrated cost =  2.6950273851690016\n"
     ]
    },
    {
     "output_type": "stream",
     "name": "stderr",
     "text": [
      "ERROR:root:Problem in initial value trasfer\n"
     ]
    },
    {
     "output_type": "stream",
     "name": "stdout",
     "text": [
      "Control only changes marginally.\n",
      "RUN  34 , total integrated cost =  2.6949388172803714\n",
      "Improved over  34  iterations in  18.518738396000117  seconds by  0.07499488205031923  percent.\n",
      "Problem in initial value trasfer:  Vmean_exc -74.52686727282287 -74.52686730788201\n",
      "0.00022239628739898957 0.0\n",
      "8.241242234202802e-09 0.0\n",
      "set cost params:  18.47 0.0 1.0\n",
      "----- 306\n",
      "interpolate adjoint :  True True True\n",
      "RUN  0 , total integrated cost =  2.6991667604122176\n",
      "Gradient descend method:  None\n",
      "RUN  1 , total integrated cost =  2.697481458729658\n",
      "RUN  2 , total integrated cost =  2.6974755284882628\n",
      "RUN  3 , total integrated cost =  2.697472102234601\n",
      "RUN  4 , total integrated cost =  2.697462326682552\n",
      "RUN  5 , total integrated cost =  2.6974563722786074\n",
      "RUN  6 , total integrated cost =  2.6974021688969354\n",
      "RUN  7 , total integrated cost =  2.697362972275158\n",
      "RUN  8 , total integrated cost =  2.6973529441480197\n",
      "RUN  9 , total integrated cost =  2.6973441734973216\n",
      "RUN  10 , total integrated cost =  2.697342394835323\n",
      "RUN  11 , total integrated cost =  2.6973410978403023\n",
      "RUN  12 , total integrated cost =  2.6973400696868834\n",
      "RUN  13 , total integrated cost =  2.697338843171624\n",
      "RUN  14 , total integrated cost =  2.697337965181816\n",
      "RUN  15 , total integrated cost =  2.697336264686677\n",
      "RUN  16 , total integrated cost =  2.6973352167197797\n",
      "RUN  17 , total integrated cost =  2.697332564433122\n",
      "RUN  18 , total integrated cost =  2.697330675697322\n",
      "RUN  19 , total integrated cost =  2.697307198738361\n",
      "RUN  20 , total integrated cost =  2.6972853653868754\n",
      "RUN  30 , total integrated cost =  2.6972301358021613\n"
     ]
    },
    {
     "output_type": "stream",
     "name": "stderr",
     "text": [
      "ERROR:root:Problem in initial value trasfer\n"
     ]
    },
    {
     "output_type": "stream",
     "name": "stdout",
     "text": [
      "RUN  40 , total integrated cost =  2.697161108648546\n",
      "RUN  40 , total integrated cost =  2.697161108648546\n",
      "Improved over  40  iterations in  22.625877963997482  seconds by  0.07430633012704391  percent.\n",
      "Problem in initial value trasfer:  Vmean_exc -74.52686754306532 -74.52686757687657\n",
      "0.0002257957777571005 0.0\n",
      "8.241242234202802e-09 0.0\n",
      "set cost params:  18.465 0.0 1.0\n",
      "----- 307\n",
      "interpolate adjoint :  True True True\n",
      "RUN  0 , total integrated cost =  2.702375271347015\n",
      "Gradient descend method:  None\n",
      "RUN  1 , total integrated cost =  2.700054709778079\n",
      "RUN  2 , total integrated cost =  2.7000518673869696\n",
      "RUN  3 , total integrated cost =  2.700051133403435\n",
      "RUN  4 , total integrated cost =  2.700049286554012\n",
      "RUN  5 , total integrated cost =  2.700048327787045\n",
      "RUN  6 , total integrated cost =  2.7000468733479948\n",
      "RUN  7 , total integrated cost =  2.70004551738923\n",
      "RUN  8 , total integrated cost =  2.7000444827722254\n",
      "RUN  9 , total integrated cost =  2.7000413534033276\n",
      "RUN  10 , total integrated cost =  2.700040680900786\n",
      "RUN  11 , total integrated cost =  2.700038784854965\n",
      "RUN  12 , total integrated cost =  2.700037992277218\n",
      "RUN  13 , total integrated cost =  2.700036614778259\n",
      "RUN  14 , total integrated cost =  2.700035341973062\n",
      "RUN  15 , total integrated cost =  2.7000344950307564\n",
      "RUN  16 , total integrated cost =  2.7000317733683676\n",
      "RUN  17 , total integrated cost =  2.700031139027198\n",
      "RUN  18 , total integrated cost =  2.7000296294729416\n",
      "RUN  19 , total integrated cost =  2.700028676410289\n",
      "RUN  20 , total integrated cost =  2.700023580025076\n",
      "RUN  30 , total integrated cost =  2.6999970908435067\n"
     ]
    },
    {
     "output_type": "stream",
     "name": "stderr",
     "text": [
      "ERROR:root:Problem in initial value trasfer\n"
     ]
    },
    {
     "output_type": "stream",
     "name": "stdout",
     "text": [
      "RUN  40 , total integrated cost =  2.6999409936331253\n",
      "RUN  40 , total integrated cost =  2.6999409936331253\n",
      "Improved over  40  iterations in  21.007723319002253  seconds by  0.09007918847171936  percent.\n",
      "Problem in initial value trasfer:  Vmean_exc -74.52686778695801 -74.52686781964303\n",
      "0.0002383440460246866 0.0\n",
      "8.241242234202802e-09 0.0\n",
      "set cost params:  18.46 0.0 1.0\n",
      "----- 308\n",
      "interpolate adjoint :  True True True\n",
      "RUN  0 , total integrated cost =  2.707141686779148\n",
      "Gradient descend method:  None\n",
      "RUN  1 , total integrated cost =  2.7033332302769524\n",
      "RUN  2 , total integrated cost =  2.703330907855041\n",
      "RUN  3 , total integrated cost =  2.7033234563684347\n",
      "RUN  4 , total integrated cost =  2.703316699764676\n",
      "RUN  5 , total integrated cost =  2.7033037388393057\n",
      "RUN  6 , total integrated cost =  2.7032906266248764\n",
      "RUN  7 , total integrated cost =  2.702965943256483\n",
      "RUN  8 , total integrated cost =  2.7029265599798236\n",
      "RUN  9 , total integrated cost =  2.702926329640303\n",
      "RUN  10 , total integrated cost =  2.7029258509234526\n",
      "RUN  11 , total integrated cost =  2.702925838719389\n",
      "RUN  12 , total integrated cost =  2.7029258274253034\n",
      "RUN  13 , total integrated cost =  2.7029251625693806\n",
      "RUN  14 , total integrated cost =  2.702924683642035\n",
      "RUN  15 , total integrated cost =  2.7029246758047987\n",
      "RUN  16 , total integrated cost =  2.702924668758541\n",
      "RUN  17 , total integrated cost =  2.702916059253375\n",
      "RUN  18 , total integrated cost =  2.7029126216441983\n",
      "RUN  19 , total integrated cost =  2.702912602652424\n",
      "RUN  20 , total integrated cost =  2.702912602652423\n"
     ]
    },
    {
     "output_type": "stream",
     "name": "stderr",
     "text": [
      "ERROR:root:Problem in initial value trasfer\n"
     ]
    },
    {
     "output_type": "stream",
     "name": "stdout",
     "text": [
      "Control only changes marginally.\n",
      "RUN  21 , total integrated cost =  2.702912602652423\n",
      "Improved over  21  iterations in  11.267134804998932  seconds by  0.15621953396005495  percent.\n",
      "Problem in initial value trasfer:  Vmean_exc -74.52686804924971 -74.52686808072357\n",
      "0.00025152223601665057 0.0\n",
      "8.241242234202802e-09 0.0\n",
      "set cost params:  18.455000000000002 0.0 1.0\n",
      "----- 309\n",
      "interpolate adjoint :  True True True\n",
      "RUN  0 , total integrated cost =  2.7123049316551895\n",
      "Gradient descend method:  None\n",
      "RUN  1 , total integrated cost =  2.7066525501458605\n",
      "RUN  2 , total integrated cost =  2.706647280969445\n",
      "RUN  3 , total integrated cost =  2.706644136907823\n",
      "RUN  4 , total integrated cost =  2.7066406499480826\n",
      "RUN  5 , total integrated cost =  2.7066376660760705\n",
      "RUN  6 , total integrated cost =  2.7066321884378826\n",
      "RUN  7 , total integrated cost =  2.706627287115006\n",
      "RUN  8 , total integrated cost =  2.70661701309604\n",
      "RUN  9 , total integrated cost =  2.7066087787278943\n",
      "RUN  10 , total integrated cost =  2.706575150893842\n",
      "RUN  11 , total integrated cost =  2.706544142874221\n",
      "RUN  12 , total integrated cost =  2.7062346424511476\n",
      "RUN  13 , total integrated cost =  2.706153384632786\n",
      "RUN  14 , total integrated cost =  2.7061530073952897\n",
      "RUN  15 , total integrated cost =  2.7061527585448286\n",
      "RUN  16 , total integrated cost =  2.7061522239547857\n",
      "RUN  17 , total integrated cost =  2.706152140701519\n",
      "RUN  18 , total integrated cost =  2.706151557029697\n",
      "RUN  19 , total integrated cost =  2.7061511218612524\n",
      "RUN  20 , total integrated cost =  2.7061509534643213\n",
      "RUN  30 , total integrated cost =  2.7061471041706735\n"
     ]
    },
    {
     "output_type": "stream",
     "name": "stderr",
     "text": [
      "ERROR:root:Problem in initial value trasfer\n"
     ]
    },
    {
     "output_type": "stream",
     "name": "stdout",
     "text": [
      "RUN  40 , total integrated cost =  2.706141236447068\n",
      "RUN  40 , total integrated cost =  2.706141236447068\n",
      "Improved over  40  iterations in  20.6408864240002  seconds by  0.22724934560953614  percent.\n",
      "Problem in initial value trasfer:  Vmean_exc -74.52686828577217 -74.52686831615382\n",
      "0.0002583753358040994 0.0\n",
      "8.241242234202802e-09 0.0\n",
      "set cost params:  18.45 0.0 1.0\n",
      "----- 310\n",
      "interpolate adjoint :  True True True\n",
      "RUN  0 , total integrated cost =  2.7170086964382203\n",
      "Gradient descend method:  None\n",
      "RUN  1 , total integrated cost =  2.710593255899945\n",
      "RUN  2 , total integrated cost =  2.710580589924344\n",
      "RUN  3 , total integrated cost =  2.7105107511564777\n",
      "RUN  4 , total integrated cost =  2.710456058880862\n",
      "RUN  5 , total integrated cost =  2.710406017082359\n",
      "RUN  6 , total integrated cost =  2.710354609429062\n",
      "RUN  7 , total integrated cost =  2.710351205324945\n",
      "RUN  8 , total integrated cost =  2.710346371116701\n",
      "RUN  9 , total integrated cost =  2.7103439827120375\n",
      "RUN  10 , total integrated cost =  2.710341025419902\n",
      "RUN  11 , total integrated cost =  2.7103389219359473\n",
      "RUN  12 , total integrated cost =  2.7103361942763193\n",
      "RUN  13 , total integrated cost =  2.7103336766064148\n",
      "RUN  14 , total integrated cost =  2.710277442389482\n",
      "RUN  15 , total integrated cost =  2.710230359301854\n",
      "RUN  16 , total integrated cost =  2.710228226963593\n",
      "RUN  17 , total integrated cost =  2.7102248759406073\n",
      "RUN  18 , total integrated cost =  2.7102233029553173\n",
      "RUN  19 , total integrated cost =  2.71022154276069\n",
      "RUN  20 , total integrated cost =  2.710220029964845\n",
      "RUN  30 , total integrated cost =  2.709949226490081\n"
     ]
    },
    {
     "output_type": "stream",
     "name": "stderr",
     "text": [
      "ERROR:root:Problem in initial value trasfer\n"
     ]
    },
    {
     "output_type": "stream",
     "name": "stdout",
     "text": [
      "RUN  40 , total integrated cost =  2.7097868539003778\n",
      "RUN  40 , total integrated cost =  2.7097868539003778\n",
      "Improved over  40  iterations in  21.70220448300097  seconds by  0.26580123012891477  percent.\n",
      "Problem in initial value trasfer:  Vmean_exc -74.5268685053352 -74.52686853470298\n",
      "0.0002891648914786968 0.0\n",
      "8.241242234202802e-09 0.0\n",
      "set cost params:  18.445 0.0 1.0\n",
      "----- 311\n",
      "interpolate adjoint :  True True True\n",
      "RUN  0 , total integrated cost =  2.7210815173063714\n",
      "Gradient descend method:  None\n",
      "RUN  1 , total integrated cost =  2.7142074900648434\n",
      "RUN  2 , total integrated cost =  2.714199079979879\n",
      "RUN  3 , total integrated cost =  2.7141958300143205\n",
      "RUN  4 , total integrated cost =  2.7141898576596817\n",
      "RUN  5 , total integrated cost =  2.7141861417797375\n",
      "RUN  6 , total integrated cost =  2.714180638098418\n",
      "RUN  7 , total integrated cost =  2.7141766842567745\n",
      "RUN  8 , total integrated cost =  2.714171368996308\n",
      "RUN  9 , total integrated cost =  2.7141670882799067\n",
      "RUN  10 , total integrated cost =  2.714161042501897\n",
      "RUN  11 , total integrated cost =  2.714155094768111\n",
      "RUN  12 , total integrated cost =  2.7141378093989394\n",
      "RUN  13 , total integrated cost =  2.714120174581474\n",
      "RUN  14 , total integrated cost =  2.714108580275204\n",
      "RUN  15 , total integrated cost =  2.71409474394698\n",
      "RUN  16 , total integrated cost =  2.714092392480719\n",
      "RUN  17 , total integrated cost =  2.714086978871646\n",
      "RUN  18 , total integrated cost =  2.7140845452934217\n",
      "RUN  19 , total integrated cost =  2.714079533059915\n",
      "RUN  20 , total integrated cost =  2.7140767684615152\n",
      "RUN  30 , total integrated cost =  2.713945622529034\n"
     ]
    },
    {
     "output_type": "stream",
     "name": "stderr",
     "text": [
      "ERROR:root:Problem in initial value trasfer\n"
     ]
    },
    {
     "output_type": "stream",
     "name": "stdout",
     "text": [
      "RUN  40 , total integrated cost =  2.7138555116294296\n",
      "RUN  40 , total integrated cost =  2.7138555116294296\n",
      "Improved over  40  iterations in  21.262095983998734  seconds by  0.2655563837754755  percent.\n",
      "Problem in initial value trasfer:  Vmean_exc -74.52686874206461 -74.52686877033925\n",
      "0.0002878524286412422 0.0\n",
      "8.241242234202802e-09 0.0\n",
      "set cost params:  18.44 0.0 1.0\n",
      "----- 312\n",
      "interpolate adjoint :  True True True\n",
      "RUN  0 , total integrated cost =  2.727061431784447\n",
      "Gradient descend method:  None\n",
      "RUN  1 , total integrated cost =  2.7185440611881577\n",
      "RUN  2 , total integrated cost =  2.7185296169181448\n",
      "RUN  3 , total integrated cost =  2.7185195362715717\n",
      "RUN  4 , total integrated cost =  2.718508724670235\n",
      "RUN  5 , total integrated cost =  2.718501303971515\n",
      "RUN  6 , total integrated cost =  2.718491227305694\n",
      "RUN  7 , total integrated cost =  2.71848617868008\n",
      "RUN  8 , total integrated cost =  2.7184763417813222\n",
      "RUN  9 , total integrated cost =  2.7184708861879634\n",
      "RUN  10 , total integrated cost =  2.718457753752987\n",
      "RUN  11 , total integrated cost =  2.7184477197540633\n",
      "RUN  12 , total integrated cost =  2.7184339219420717\n",
      "RUN  13 , total integrated cost =  2.7184230342838456\n",
      "RUN  14 , total integrated cost =  2.7184073473482675\n",
      "RUN  15 , total integrated cost =  2.7183946184469723\n",
      "RUN  16 , total integrated cost =  2.7183766425335953\n",
      "RUN  17 , total integrated cost =  2.718360557963836\n",
      "RUN  18 , total integrated cost =  2.718338449541613\n",
      "RUN  19 , total integrated cost =  2.718318004171505\n",
      "RUN  20 , total integrated cost =  2.717792099282944\n",
      "RUN  30 , total integrated cost =  2.717572334395306\n"
     ]
    },
    {
     "output_type": "stream",
     "name": "stderr",
     "text": [
      "ERROR:root:Problem in initial value trasfer\n"
     ]
    },
    {
     "output_type": "stream",
     "name": "stdout",
     "text": [
      "RUN  40 , total integrated cost =  2.7174770311058807\n",
      "RUN  40 , total integrated cost =  2.7174770311058807\n",
      "Improved over  40  iterations in  19.940856944005645  seconds by  0.35145525388089993  percent.\n",
      "Problem in initial value trasfer:  Vmean_exc -74.52686892916768 -74.52686895657835\n",
      "0.000313287576853901 0.0\n",
      "8.241242234202802e-09 0.0\n",
      "set cost params:  18.435 0.0 1.0\n",
      "----- 313\n",
      "interpolate adjoint :  True True True\n",
      "RUN  0 , total integrated cost =  2.735102952320183\n",
      "Gradient descend method:  None\n",
      "RUN  1 , total integrated cost =  2.723277410690936\n",
      "RUN  2 , total integrated cost =  2.7232544518324904\n",
      "RUN  3 , total integrated cost =  2.7232386494478455\n",
      "RUN  4 , total integrated cost =  2.7232232474903504\n",
      "RUN  5 , total integrated cost =  2.7232109886779408\n",
      "RUN  6 , total integrated cost =  2.7232002935750073\n",
      "RUN  7 , total integrated cost =  2.723190566715561\n",
      "RUN  8 , total integrated cost =  2.7231800119688905\n",
      "RUN  9 , total integrated cost =  2.7231748239510236\n",
      "RUN  10 , total integrated cost =  2.723150216100268\n",
      "RUN  11 , total integrated cost =  2.7231345249160146\n",
      "RUN  12 , total integrated cost =  2.723090965731129\n",
      "RUN  13 , total integrated cost =  2.7230505148380875\n",
      "RUN  14 , total integrated cost =  2.7229435847059666\n",
      "RUN  15 , total integrated cost =  2.722849629508191\n",
      "RUN  16 , total integrated cost =  2.722834774750043\n",
      "RUN  17 , total integrated cost =  2.7228202115686644\n",
      "RUN  18 , total integrated cost =  2.722808945464267\n",
      "RUN  19 , total integrated cost =  2.7228004020013277\n",
      "RUN  20 , total integrated cost =  2.722791668838482\n",
      "RUN  30 , total integrated cost =  2.722667785987127\n"
     ]
    },
    {
     "output_type": "stream",
     "name": "stderr",
     "text": [
      "ERROR:root:Problem in initial value trasfer\n"
     ]
    },
    {
     "output_type": "stream",
     "name": "stdout",
     "text": [
      "RUN  40 , total integrated cost =  2.722170267159364\n",
      "RUN  40 , total integrated cost =  2.722170267159364\n",
      "Improved over  40  iterations in  21.89398944000277  seconds by  0.472840890681951  percent.\n",
      "Problem in initial value trasfer:  Vmean_exc -74.52686915334974 -74.52686917972521\n",
      "0.000329429355748064 0.0\n",
      "8.241242234202802e-09 0.0\n",
      "set cost params:  18.43 0.0 1.0\n",
      "----- 314\n",
      "interpolate adjoint :  True True True\n",
      "RUN  0 , total integrated cost =  2.7403274290364323\n",
      "Gradient descend method:  None\n",
      "RUN  1 , total integrated cost =  2.727997907811842\n",
      "RUN  2 , total integrated cost =  2.7279213576155255\n",
      "RUN  3 , total integrated cost =  2.727819582278598\n",
      "RUN  4 , total integrated cost =  2.7277669544433834\n",
      "RUN  5 , total integrated cost =  2.7276855670130478\n",
      "RUN  6 , total integrated cost =  2.72767816773571\n",
      "RUN  7 , total integrated cost =  2.7276657552253223\n",
      "RUN  8 , total integrated cost =  2.7276598482461503\n",
      "RUN  9 , total integrated cost =  2.727653224440053\n",
      "RUN  10 , total integrated cost =  2.727648009730025\n",
      "RUN  11 , total integrated cost =  2.727623657728609\n",
      "RUN  12 , total integrated cost =  2.7276078325881437\n",
      "RUN  13 , total integrated cost =  2.7275614221584243\n",
      "RUN  14 , total integrated cost =  2.7274954569409413\n",
      "RUN  15 , total integrated cost =  2.727478387084241\n",
      "RUN  16 , total integrated cost =  2.7274492111287065\n",
      "RUN  17 , total integrated cost =  2.7274439868211204\n",
      "RUN  18 , total integrated cost =  2.727435590406031\n",
      "RUN  19 , total integrated cost =  2.7274310876445864\n",
      "RUN  20 , total integrated cost =  2.7274271409604918\n",
      "RUN  30 , total integrated cost =  2.7269092475141123\n"
     ]
    },
    {
     "output_type": "stream",
     "name": "stderr",
     "text": [
      "ERROR:root:Problem in initial value trasfer\n"
     ]
    },
    {
     "output_type": "stream",
     "name": "stdout",
     "text": [
      "RUN  40 , total integrated cost =  2.7263813567371744\n",
      "RUN  40 , total integrated cost =  2.7263813567371744\n",
      "Improved over  40  iterations in  22.361839386998327  seconds by  0.5089199250967482  percent.\n",
      "Problem in initial value trasfer:  Vmean_exc -74.52686934455977 -74.52686937005231\n",
      "0.0003432869171355579 0.0\n",
      "8.241242234202802e-09 0.0\n",
      "set cost params:  18.425 0.0 1.0\n",
      "----- 315\n",
      "interpolate adjoint :  True True True\n",
      "RUN  0 , total integrated cost =  2.747234551597194\n",
      "Gradient descend method:  None\n",
      "RUN  1 , total integrated cost =  2.7331168647160555\n",
      "RUN  2 , total integrated cost =  2.7331048702442042\n",
      "RUN  3 , total integrated cost =  2.7330576402643367\n",
      "RUN  4 , total integrated cost =  2.7329995934710194\n",
      "RUN  5 , total integrated cost =  2.732993385774865\n",
      "RUN  6 , total integrated cost =  2.7329787043654545\n",
      "RUN  7 , total integrated cost =  2.732975066828678\n",
      "RUN  8 , total integrated cost =  2.732964923096708\n",
      "RUN  9 , total integrated cost =  2.73296027786373\n",
      "RUN  10 , total integrated cost =  2.7329526312181605\n",
      "RUN  11 , total integrated cost =  2.732946119595174\n",
      "RUN  12 , total integrated cost =  2.7329390622579472\n",
      "RUN  13 , total integrated cost =  2.7329302612314077\n",
      "RUN  14 , total integrated cost =  2.7329018748412603\n",
      "RUN  15 , total integrated cost =  2.7328747354321887\n",
      "RUN  16 , total integrated cost =  2.7328716859495206\n",
      "RUN  17 , total integrated cost =  2.7328622491578263\n",
      "RUN  18 , total integrated cost =  2.7328580706041095\n",
      "RUN  19 , total integrated cost =  2.732851484254416\n",
      "RUN  20 , total integrated cost =  2.7328453307427703\n",
      "RUN  30 , total integrated cost =  2.7322287283140483\n"
     ]
    },
    {
     "output_type": "stream",
     "name": "stderr",
     "text": [
      "ERROR:root:Problem in initial value trasfer\n"
     ]
    },
    {
     "output_type": "stream",
     "name": "stdout",
     "text": [
      "RUN  40 , total integrated cost =  2.7321615556620475\n",
      "RUN  40 , total integrated cost =  2.7321615556620475\n",
      "Improved over  40  iterations in  22.139316438006063  seconds by  0.548660685938998  percent.\n",
      "Problem in initial value trasfer:  Vmean_exc -74.52686955536102 -74.52686957988013\n",
      "0.00036080867173592215 0.0\n",
      "8.241242234202802e-09 0.0\n",
      "set cost params:  18.419999999999998 0.0 1.0\n",
      "----- 316\n",
      "interpolate adjoint :  True True True\n",
      "RUN  0 , total integrated cost =  2.765767244015052\n",
      "Gradient descend method:  None\n",
      "RUN  1 , total integrated cost =  2.739330191690626\n",
      "RUN  2 , total integrated cost =  2.7393061991174803\n",
      "RUN  3 , total integrated cost =  2.739293117836038\n",
      "RUN  4 , total integrated cost =  2.739266251793682\n",
      "RUN  5 , total integrated cost =  2.739250191926709\n",
      "RUN  6 , total integrated cost =  2.7392197412110275\n",
      "RUN  7 , total integrated cost =  2.7391943663115765\n",
      "RUN  8 , total integrated cost =  2.7391628220811715\n",
      "RUN  9 , total integrated cost =  2.739135845199626\n",
      "RUN  10 , total integrated cost =  2.739047795812703\n",
      "RUN  11 , total integrated cost =  2.738987164104475\n",
      "RUN  12 , total integrated cost =  2.73843518255561\n",
      "RUN  13 , total integrated cost =  2.737947689243108\n",
      "RUN  14 , total integrated cost =  2.737924323225711\n",
      "RUN  15 , total integrated cost =  2.7379056733087186\n",
      "RUN  16 , total integrated cost =  2.7378896347769466\n",
      "RUN  17 , total integrated cost =  2.7378786364439693\n",
      "RUN  18 , total integrated cost =  2.7378713427844454\n",
      "RUN  19 , total integrated cost =  2.7378606497575873\n",
      "RUN  20 , total integrated cost =  2.737855445919539\n",
      "RUN  30 , total integrated cost =  2.736388107427587\n"
     ]
    },
    {
     "output_type": "stream",
     "name": "stderr",
     "text": [
      "ERROR:root:Problem in initial value trasfer\n"
     ]
    },
    {
     "output_type": "stream",
     "name": "stdout",
     "text": [
      "RUN  40 , total integrated cost =  2.7357659905603535\n",
      "RUN  40 , total integrated cost =  2.7357659905603535\n",
      "Improved over  40  iterations in  21.892723048003973  seconds by  1.0847352943245454  percent.\n",
      "Problem in initial value trasfer:  Vmean_exc -74.52686972012447 -74.52686974388276\n",
      "0.0003888233332314476 0.0\n",
      "8.241242234202802e-09 0.0\n",
      "set cost params:  18.415 0.0 1.0\n",
      "----- 317\n",
      "interpolate adjoint :  True True True\n",
      "RUN  0 , total integrated cost =  2.7541115348785676\n",
      "Gradient descend method:  None\n",
      "RUN  1 , total integrated cost =  2.742586238933304\n",
      "RUN  2 , total integrated cost =  2.7411968424009734\n",
      "RUN  3 , total integrated cost =  2.741097318104847\n",
      "RUN  4 , total integrated cost =  2.7408621127373425\n",
      "RUN  5 , total integrated cost =  2.7406957592554932\n",
      "RUN  6 , total integrated cost =  2.740695407801021\n",
      "RUN  7 , total integrated cost =  2.7406617025257862\n",
      "RUN  8 , total integrated cost =  2.7406297130692994\n",
      "RUN  9 , total integrated cost =  2.740629485094191\n",
      "RUN  10 , total integrated cost =  2.740628279755849\n",
      "RUN  11 , total integrated cost =  2.7406277966074537\n",
      "RUN  12 , total integrated cost =  2.7406272927864554\n",
      "RUN  13 , total integrated cost =  2.7406258457628905\n",
      "RUN  14 , total integrated cost =  2.740625582081001\n",
      "RUN  15 , total integrated cost =  2.740624985451451\n",
      "RUN  16 , total integrated cost =  2.740623406477389\n",
      "RUN  17 , total integrated cost =  2.7406231371586\n",
      "RUN  18 , total integrated cost =  2.740622608891124\n",
      "RUN  19 , total integrated cost =  2.740621101944074\n",
      "RUN  20 , total integrated cost =  2.7406208417588696\n",
      "RUN  30 , total integrated cost =  2.740614525879963\n"
     ]
    },
    {
     "output_type": "stream",
     "name": "stderr",
     "text": [
      "ERROR:root:Problem in initial value trasfer\n"
     ]
    },
    {
     "output_type": "stream",
     "name": "stdout",
     "text": [
      "RUN  40 , total integrated cost =  2.7406072199036196\n",
      "RUN  40 , total integrated cost =  2.7406072199036196\n",
      "Improved over  40  iterations in  21.981492323000566  seconds by  0.4903329006079531  percent.\n",
      "Problem in initial value trasfer:  Vmean_exc -74.52686988293827 -74.52686990594475\n",
      "0.0004197240778373673 0.0\n",
      "8.241242234202802e-09 0.0\n",
      "set cost params:  18.41 0.0 1.0\n",
      "----- 318\n",
      "interpolate adjoint :  True True True\n",
      "RUN  0 , total integrated cost =  2.7612989967690544\n",
      "Gradient descend method:  None\n",
      "RUN  1 , total integrated cost =  2.7482999254928546\n",
      "RUN  2 , total integrated cost =  2.7482804033599946\n",
      "RUN  3 , total integrated cost =  2.748243415535648\n",
      "RUN  4 , total integrated cost =  2.748210852583121\n",
      "RUN  5 , total integrated cost =  2.748173787974051\n",
      "RUN  6 , total integrated cost =  2.7481384602946957\n",
      "RUN  7 , total integrated cost =  2.748101564890139\n",
      "RUN  8 , total integrated cost =  2.748069983387628\n",
      "RUN  9 , total integrated cost =  2.7480374141549637\n",
      "RUN  10 , total integrated cost =  2.7480106590581346\n",
      "RUN  11 , total integrated cost =  2.7479411440526453\n",
      "RUN  12 , total integrated cost =  2.7478832760509175\n",
      "RUN  13 , total integrated cost =  2.7477088566876247\n",
      "RUN  14 , total integrated cost =  2.7475754768117344\n",
      "RUN  15 , total integrated cost =  2.7474307517350867\n",
      "RUN  16 , total integrated cost =  2.7473160174409545\n",
      "RUN  17 , total integrated cost =  2.747285247475049\n",
      "RUN  18 , total integrated cost =  2.7472576324876194\n",
      "RUN  19 , total integrated cost =  2.7466311748490666\n",
      "RUN  20 , total integrated cost =  2.746618833101119\n",
      "RUN  30 , total integrated cost =  2.7463757131639888\n"
     ]
    },
    {
     "output_type": "stream",
     "name": "stderr",
     "text": [
      "ERROR:root:Problem in initial value trasfer\n"
     ]
    },
    {
     "output_type": "stream",
     "name": "stdout",
     "text": [
      "RUN  40 , total integrated cost =  2.7463365242864413\n",
      "RUN  40 , total integrated cost =  2.7463365242864413\n",
      "Improved over  40  iterations in  22.481554373996914  seconds by  0.5418635395920717  percent.\n",
      "Problem in initial value trasfer:  Vmean_exc -74.5268700634106 -74.52687008558371\n",
      "0.0004520253542144447 0.0\n",
      "8.241242234202802e-09 0.0\n",
      "set cost params:  18.405 0.0 1.0\n",
      "----- 319\n",
      "interpolate adjoint :  True True True\n",
      "RUN  0 , total integrated cost =  2.7645665037367007\n",
      "Gradient descend method:  None\n",
      "RUN  1 , total integrated cost =  2.7537220307178214\n",
      "RUN  2 , total integrated cost =  2.753690389258213\n",
      "RUN  3 , total integrated cost =  2.7536702546560616\n",
      "RUN  4 , total integrated cost =  2.7535648174005334\n",
      "RUN  5 , total integrated cost =  2.7534861190425626\n",
      "RUN  6 , total integrated cost =  2.753383162531088\n",
      "RUN  7 , total integrated cost =  2.7533065452986354\n",
      "RUN  8 , total integrated cost =  2.7532481505596653\n",
      "RUN  9 , total integrated cost =  2.7531984368655587\n",
      "RUN  10 , total integrated cost =  2.7531114780112342\n",
      "RUN  11 , total integrated cost =  2.75304600811686\n",
      "RUN  12 , total integrated cost =  2.752665465626514\n",
      "RUN  13 , total integrated cost =  2.752473603754544\n",
      "RUN  14 , total integrated cost =  2.7524374364364395\n",
      "RUN  15 , total integrated cost =  2.7524056711597655\n",
      "RUN  16 , total integrated cost =  2.752230635204126\n",
      "RUN  17 , total integrated cost =  2.752122393072604\n",
      "RUN  18 , total integrated cost =  2.7521204372254733\n",
      "RUN  19 , total integrated cost =  2.7521182081234046\n",
      "RUN  20 , total integrated cost =  2.752117050657693\n"
     ]
    },
    {
     "output_type": "stream",
     "name": "stderr",
     "text": [
      "ERROR:root:Problem in initial value trasfer\n"
     ]
    },
    {
     "output_type": "stream",
     "name": "stdout",
     "text": [
      "Control only changes marginally.\n",
      "RUN  27 , total integrated cost =  2.7515870787188037\n",
      "Improved over  27  iterations in  17.61349889700068  seconds by  0.4694922332435567  percent.\n",
      "Problem in initial value trasfer:  Vmean_exc -74.52687021803776 -74.52687023949686\n",
      "0.0004861331950137532 0.0\n",
      "8.241242234202802e-09 0.0\n",
      "set cost params:  18.4 0.0 1.0\n",
      "----- 320\n",
      "interpolate adjoint :  True True True\n",
      "RUN  0 , total integrated cost =  2.7661150560810865\n",
      "Gradient descend method:  None\n",
      "RUN  1 , total integrated cost =  2.758725806932507\n",
      "RUN  2 , total integrated cost =  2.7585456112265074\n",
      "RUN  3 , total integrated cost =  2.7583879951937442\n",
      "RUN  4 , total integrated cost =  2.758364913267797\n",
      "RUN  5 , total integrated cost =  2.7583422650484244\n",
      "RUN  6 , total integrated cost =  2.758321456196995\n",
      "RUN  7 , total integrated cost =  2.758300029455119\n",
      "RUN  8 , total integrated cost =  2.757909433319346\n",
      "RUN  9 , total integrated cost =  2.757804708386407\n",
      "RUN  10 , total integrated cost =  2.7578041586191433\n",
      "RUN  11 , total integrated cost =  2.7578030923232966\n",
      "RUN  12 , total integrated cost =  2.757802847043092\n",
      "RUN  13 , total integrated cost =  2.757801669637359\n",
      "RUN  14 , total integrated cost =  2.7577997174966087\n",
      "RUN  15 , total integrated cost =  2.757799577223476\n",
      "RUN  16 , total integrated cost =  2.757795751733744\n",
      "RUN  17 , total integrated cost =  2.757794464685639\n",
      "RUN  18 , total integrated cost =  2.757794312846067\n",
      "RUN  19 , total integrated cost =  2.757793098660965\n",
      "RUN  20 , total integrated cost =  2.7577927159011386\n",
      "RUN  30 , total integrated cost =  2.7577666167069816\n"
     ]
    },
    {
     "output_type": "stream",
     "name": "stderr",
     "text": [
      "ERROR:root:Problem in initial value trasfer\n"
     ]
    },
    {
     "output_type": "stream",
     "name": "stdout",
     "text": [
      "RUN  40 , total integrated cost =  2.7577310641418773\n",
      "Control only changes marginally.\n",
      "RUN  40 , total integrated cost =  2.7577310641418773\n",
      "Improved over  40  iterations in  23.611882950994186  seconds by  0.3030962837492126  percent.\n",
      "Problem in initial value trasfer:  Vmean_exc -74.52687036792477 -74.52687038869172\n",
      "0.0005175605682527281 0.0\n",
      "8.241242234202802e-09 0.0\n",
      "set cost params:  18.395 0.0 1.0\n",
      "----- 321\n",
      "interpolate adjoint :  True True True\n",
      "RUN  0 , total integrated cost =  2.7767504934721026\n",
      "Gradient descend method:  None\n",
      "RUN  1 , total integrated cost =  2.766262595377429\n",
      "RUN  2 , total integrated cost =  2.766240433892492\n",
      "RUN  3 , total integrated cost =  2.766208024166694\n",
      "RUN  4 , total integrated cost =  2.766184656324028\n",
      "RUN  5 , total integrated cost =  2.7661196480666663\n",
      "RUN  6 , total integrated cost =  2.76606304048758\n",
      "RUN  7 , total integrated cost =  2.765828361733867\n",
      "RUN  8 , total integrated cost =  2.7656654733385433\n",
      "RUN  9 , total integrated cost =  2.765140459164875\n",
      "RUN  10 , total integrated cost =  2.7650977712344535\n",
      "RUN  11 , total integrated cost =  2.765097431375677\n",
      "RUN  12 , total integrated cost =  2.7650961394134224\n",
      "RUN  13 , total integrated cost =  2.765095234085973\n",
      "RUN  14 , total integrated cost =  2.7650712078679933\n",
      "RUN  15 , total integrated cost =  2.76505530486478\n",
      "RUN  16 , total integrated cost =  2.7650551026466403\n",
      "RUN  17 , total integrated cost =  2.765051127283932\n",
      "RUN  18 , total integrated cost =  2.7650489454002862\n",
      "RUN  19 , total integrated cost =  2.76504652846757\n",
      "RUN  20 , total integrated cost =  2.76504341233902\n",
      "RUN  30 , total integrated cost =  2.764976244729528\n"
     ]
    },
    {
     "output_type": "stream",
     "name": "stderr",
     "text": [
      "ERROR:root:Problem in initial value trasfer\n"
     ]
    },
    {
     "output_type": "stream",
     "name": "stdout",
     "text": [
      "RUN  40 , total integrated cost =  2.7649684474601006\n",
      "RUN  40 , total integrated cost =  2.7649684474601006\n",
      "Improved over  40  iterations in  22.120562531999894  seconds by  0.4243105759664303  percent.\n",
      "Problem in initial value trasfer:  Vmean_exc -74.52687052871485 -74.52687054873931\n",
      "0.0005618401449518115 0.0\n",
      "8.241242234202802e-09 0.0\n",
      "set cost params:  18.39 0.0 1.0\n",
      "----- 322\n",
      "interpolate adjoint :  True True True\n",
      "RUN  0 , total integrated cost =  2.7835896822945263\n",
      "Gradient descend method:  None\n",
      "RUN  1 , total integrated cost =  2.7733226122723975\n",
      "RUN  2 , total integrated cost =  2.773302952959731\n",
      "RUN  3 , total integrated cost =  2.7732856542041064\n",
      "RUN  4 , total integrated cost =  2.7732643899879204\n",
      "RUN  5 , total integrated cost =  2.773229011938909\n",
      "RUN  6 , total integrated cost =  2.773205443629469\n",
      "RUN  7 , total integrated cost =  2.7731663467732415\n",
      "RUN  8 , total integrated cost =  2.773138194425709\n",
      "RUN  9 , total integrated cost =  2.773003869391939\n",
      "RUN  10 , total integrated cost =  2.772899924433277\n",
      "RUN  11 , total integrated cost =  2.7725585806916184\n",
      "RUN  12 , total integrated cost =  2.7723755027863537\n",
      "RUN  13 , total integrated cost =  2.7723621118939126\n",
      "RUN  14 , total integrated cost =  2.772345371254852\n",
      "RUN  15 , total integrated cost =  2.7723378422637257\n",
      "RUN  16 , total integrated cost =  2.772332869253688\n",
      "RUN  17 , total integrated cost =  2.7723278602005936\n",
      "RUN  18 , total integrated cost =  2.7723228585621946\n",
      "RUN  19 , total integrated cost =  2.7723183392281334\n",
      "RUN  20 , total integrated cost =  2.772312967406193\n",
      "RUN  30 , total integrated cost =  2.7720428087219244\n"
     ]
    },
    {
     "output_type": "stream",
     "name": "stderr",
     "text": [
      "ERROR:root:Problem in initial value trasfer\n"
     ]
    },
    {
     "output_type": "stream",
     "name": "stdout",
     "text": [
      "RUN  40 , total integrated cost =  2.7719520203111307\n",
      "RUN  40 , total integrated cost =  2.7719520203111307\n",
      "Improved over  40  iterations in  24.59506401800172  seconds by  0.4180810863547464  percent.\n",
      "Problem in initial value trasfer:  Vmean_exc -74.52687067749315 -74.52687069683063\n",
      "0.0005819808957753562 0.0\n",
      "8.241242234202802e-09 0.0\n",
      "set cost params:  18.384999999999998 0.0 1.0\n",
      "----- 323\n",
      "interpolate adjoint :  True True True\n",
      "RUN  0 , total integrated cost =  2.79673130957841\n",
      "Gradient descend method:  None\n",
      "RUN  1 , total integrated cost =  2.7812462988007844\n",
      "RUN  2 , total integrated cost =  2.7812123695062487\n",
      "RUN  3 , total integrated cost =  2.7811731752466637\n",
      "RUN  4 , total integrated cost =  2.7811312844010803\n",
      "RUN  5 , total integrated cost =  2.780350131024265\n",
      "RUN  6 , total integrated cost =  2.7799831224605676\n",
      "RUN  7 , total integrated cost =  2.779980735274445\n",
      "RUN  8 , total integrated cost =  2.7799744436662883\n",
      "RUN  9 , total integrated cost =  2.779972201807343\n",
      "RUN  10 , total integrated cost =  2.77995551900895\n",
      "RUN  11 , total integrated cost =  2.779938458835471\n",
      "RUN  12 , total integrated cost =  2.779856043324412\n",
      "RUN  13 , total integrated cost =  2.779785308242702\n",
      "RUN  14 , total integrated cost =  2.7795523510178506\n",
      "RUN  15 , total integrated cost =  2.779490050577899\n",
      "RUN  16 , total integrated cost =  2.779488734598864\n",
      "RUN  17 , total integrated cost =  2.779486456547752\n",
      "RUN  18 , total integrated cost =  2.779485606061638\n",
      "RUN  19 , total integrated cost =  2.7794812906099837\n",
      "RUN  20 , total integrated cost =  2.7794777573332774\n",
      "RUN  30 , total integrated cost =  2.7793554536693206\n"
     ]
    },
    {
     "output_type": "stream",
     "name": "stderr",
     "text": [
      "ERROR:root:Problem in initial value trasfer\n"
     ]
    },
    {
     "output_type": "stream",
     "name": "stdout",
     "text": [
      "RUN  40 , total integrated cost =  2.7792913487999873\n",
      "RUN  40 , total integrated cost =  2.7792913487999873\n",
      "Improved over  40  iterations in  23.791485396999633  seconds by  0.6235837071188399  percent.\n",
      "Problem in initial value trasfer:  Vmean_exc -74.52687081865335 -74.52687083733899\n",
      "0.0006084431682765873 0.0\n",
      "8.241242234202802e-09 0.0\n",
      "set cost params:  18.380000000000003 0.0 1.0\n",
      "----- 324\n",
      "interpolate adjoint :  True True True\n",
      "RUN  0 , total integrated cost =  2.802745776869078\n",
      "Gradient descend method:  None\n",
      "RUN  1 , total integrated cost =  2.789668716064933\n",
      "RUN  2 , total integrated cost =  2.7896474441533554\n",
      "RUN  3 , total integrated cost =  2.789627770080708\n",
      "RUN  4 , total integrated cost =  2.7896074779712126\n",
      "RUN  5 , total integrated cost =  2.789588344545284\n",
      "RUN  6 , total integrated cost =  2.789568625242564\n",
      "RUN  7 , total integrated cost =  2.789549948786011\n",
      "RUN  8 , total integrated cost =  2.7895317531082635\n",
      "RUN  9 , total integrated cost =  2.789510454374001\n",
      "RUN  10 , total integrated cost =  2.7894902398118626\n",
      "RUN  11 , total integrated cost =  2.789461573135509\n",
      "RUN  12 , total integrated cost =  2.7894298275277567\n",
      "RUN  13 , total integrated cost =  2.789394116999597\n",
      "RUN  14 , total integrated cost =  2.789161575973338\n",
      "RUN  15 , total integrated cost =  2.789013977832568\n",
      "RUN  16 , total integrated cost =  2.788905067514266\n",
      "RUN  17 , total integrated cost =  2.788843876304549\n",
      "RUN  18 , total integrated cost =  2.788832122920716\n",
      "RUN  19 , total integrated cost =  2.7888101589955143\n",
      "RUN  20 , total integrated cost =  2.7888015021361627\n",
      "RUN  30 , total integrated cost =  2.78870837732198\n"
     ]
    },
    {
     "output_type": "stream",
     "name": "stderr",
     "text": [
      "ERROR:root:Problem in initial value trasfer\n"
     ]
    },
    {
     "output_type": "stream",
     "name": "stdout",
     "text": [
      "RUN  40 , total integrated cost =  2.788496741923394\n",
      "RUN  40 , total integrated cost =  2.788496741923394\n",
      "Improved over  40  iterations in  23.304802701997687  seconds by  0.5083955549333297  percent.\n",
      "Problem in initial value trasfer:  Vmean_exc -74.5268709586185 -74.52687097665782\n",
      "0.0006789791632981614 0.0\n",
      "8.241242234202802e-09 0.0\n",
      "set cost params:  18.375 0.0 1.0\n",
      "----- 325\n",
      "interpolate adjoint :  True True True\n",
      "RUN  0 , total integrated cost =  2.8150368687642353\n",
      "Gradient descend method:  None\n",
      "RUN  1 , total integrated cost =  2.798778391837859\n",
      "RUN  2 , total integrated cost =  2.798730902844781\n",
      "RUN  3 , total integrated cost =  2.798695193778991\n",
      "RUN  4 , total integrated cost =  2.798639095714568\n",
      "RUN  5 , total integrated cost =  2.7985886175739036\n",
      "RUN  6 , total integrated cost =  2.798528078791635\n",
      "RUN  7 , total integrated cost =  2.7984709159364254\n",
      "RUN  8 , total integrated cost =  2.7984108252250195\n",
      "RUN  9 , total integrated cost =  2.798352692222521\n",
      "RUN  10 , total integrated cost =  2.798298402864574\n",
      "RUN  11 , total integrated cost =  2.798243112772041\n",
      "RUN  12 , total integrated cost =  2.7981981353163823\n",
      "RUN  13 , total integrated cost =  2.7981551909835525\n",
      "RUN  14 , total integrated cost =  2.7980897274833647\n",
      "RUN  15 , total integrated cost =  2.7980263793492313\n",
      "RUN  16 , total integrated cost =  2.7979185555008628\n",
      "RUN  17 , total integrated cost =  2.7978288646007075\n",
      "RUN  18 , total integrated cost =  2.7976076201659743\n",
      "RUN  19 , total integrated cost =  2.7974061319527403\n",
      "RUN  20 , total integrated cost =  2.79720650808377\n",
      "RUN  30 , total integrated cost =  2.7965498380271563\n"
     ]
    },
    {
     "output_type": "stream",
     "name": "stderr",
     "text": [
      "ERROR:root:Problem in initial value trasfer\n"
     ]
    },
    {
     "output_type": "stream",
     "name": "stdout",
     "text": [
      "RUN  40 , total integrated cost =  2.7965052521176617\n",
      "RUN  40 , total integrated cost =  2.7965052521176617\n",
      "Improved over  40  iterations in  26.68759466100164  seconds by  0.6583081327353568  percent.\n",
      "Problem in initial value trasfer:  Vmean_exc -74.5268710892448 -74.52687110668097\n",
      "0.0007028146028118454 0.0\n",
      "8.241242234202802e-09 0.0\n",
      "set cost params:  18.369999999999997 0.0 1.0\n",
      "----- 326\n",
      "interpolate adjoint :  True True True\n",
      "RUN  0 , total integrated cost =  2.822395112391944\n",
      "Gradient descend method:  None\n",
      "RUN  1 , total integrated cost =  2.8074473252444605\n",
      "RUN  2 , total integrated cost =  2.807327393824996\n",
      "RUN  3 , total integrated cost =  2.8071773476308732\n",
      "RUN  4 , total integrated cost =  2.8070546539109733\n",
      "RUN  5 , total integrated cost =  2.806919758928933\n",
      "RUN  6 , total integrated cost =  2.806838889353439\n",
      "RUN  7 , total integrated cost =  2.806739828744767\n",
      "RUN  8 , total integrated cost =  2.8066331442450023\n",
      "RUN  9 , total integrated cost =  2.8065094545219362\n",
      "RUN  10 , total integrated cost =  2.806471786539762\n",
      "RUN  11 , total integrated cost =  2.806427960694136\n",
      "RUN  12 , total integrated cost =  2.8063934954649117\n",
      "RUN  13 , total integrated cost =  2.806352809061483\n",
      "RUN  14 , total integrated cost =  2.806327494793227\n",
      "RUN  15 , total integrated cost =  2.806303288837692\n",
      "RUN  16 , total integrated cost =  2.806284486100148\n",
      "RUN  17 , total integrated cost =  2.8062701121713562\n",
      "RUN  18 , total integrated cost =  2.8062580058573614\n",
      "RUN  19 , total integrated cost =  2.806246255310176\n",
      "RUN  20 , total integrated cost =  2.8062327186515246\n",
      "RUN  30 , total integrated cost =  2.805575589464487\n"
     ]
    },
    {
     "output_type": "stream",
     "name": "stderr",
     "text": [
      "ERROR:root:Problem in initial value trasfer\n"
     ]
    },
    {
     "output_type": "stream",
     "name": "stdout",
     "text": [
      "RUN  40 , total integrated cost =  2.805472705652928\n",
      "RUN  40 , total integrated cost =  2.805472705652928\n",
      "Improved over  40  iterations in  26.655438866000623  seconds by  0.5995761069992227  percent.\n",
      "Problem in initial value trasfer:  Vmean_exc -74.52687122226345 -74.52687123908535\n",
      "0.0007211740627969414 0.0\n",
      "8.241242234202802e-09 0.0\n",
      "set cost params:  18.365000000000002 0.0 1.0\n",
      "----- 327\n",
      "interpolate adjoint :  True True True\n",
      "RUN  0 , total integrated cost =  2.8366161793257314\n",
      "Gradient descend method:  None\n",
      "RUN  1 , total integrated cost =  2.8183014246164877\n",
      "RUN  2 , total integrated cost =  2.8182701877512937\n",
      "RUN  3 , total integrated cost =  2.8182403429071265\n",
      "RUN  4 , total integrated cost =  2.8181956105536017\n",
      "RUN  5 , total integrated cost =  2.818160247360591\n",
      "RUN  6 , total integrated cost =  2.818111156588121\n",
      "RUN  7 , total integrated cost =  2.8179522047911045\n",
      "RUN  8 , total integrated cost =  2.817756881373474\n",
      "RUN  9 , total integrated cost =  2.8177257981077757\n",
      "RUN  10 , total integrated cost =  2.8176735013459684\n",
      "RUN  11 , total integrated cost =  2.8176564342627937\n",
      "RUN  12 , total integrated cost =  2.817628163448702\n",
      "RUN  13 , total integrated cost =  2.8176127300479035\n",
      "RUN  14 , total integrated cost =  2.8175957708181847\n",
      "RUN  15 , total integrated cost =  2.8175790674763914\n",
      "RUN  16 , total integrated cost =  2.8175588656631962\n",
      "RUN  17 , total integrated cost =  2.8175312047877155\n",
      "RUN  18 , total integrated cost =  2.8175080937947103\n",
      "RUN  19 , total integrated cost =  2.8174780457189983\n",
      "RUN  20 , total integrated cost =  2.817455001272473\n",
      "RUN  30 , total integrated cost =  2.8161390418859162\n"
     ]
    },
    {
     "output_type": "stream",
     "name": "stderr",
     "text": [
      "ERROR:root:Problem in initial value trasfer\n"
     ]
    },
    {
     "output_type": "stream",
     "name": "stdout",
     "text": [
      "RUN  40 , total integrated cost =  2.8160686344666646\n",
      "RUN  40 , total integrated cost =  2.8160686344666646\n",
      "Improved over  40  iterations in  26.609052407999116  seconds by  0.7243681753218709  percent.\n",
      "Problem in initial value trasfer:  Vmean_exc -74.52687135996776 -74.52687137615379\n",
      "0.0007599446535919632 0.0\n",
      "8.241242234202802e-09 0.0\n",
      "set cost params:  18.36 0.0 1.0\n",
      "----- 328\n",
      "interpolate adjoint :  True True True\n",
      "RUN  0 , total integrated cost =  2.8461254374965588\n",
      "Gradient descend method:  None\n",
      "RUN  1 , total integrated cost =  2.8287618906063123\n",
      "RUN  2 , total integrated cost =  2.828706233159953\n",
      "RUN  3 , total integrated cost =  2.8286825766638852\n",
      "RUN  4 , total integrated cost =  2.828630630689421\n",
      "RUN  5 , total integrated cost =  2.828606478395201\n",
      "RUN  6 , total integrated cost =  2.828554207914591\n",
      "RUN  7 , total integrated cost =  2.8285268710471416\n",
      "RUN  8 , total integrated cost =  2.828475587199878\n",
      "RUN  9 , total integrated cost =  2.82844634660638\n",
      "RUN  10 , total integrated cost =  2.8283971576825606\n",
      "RUN  11 , total integrated cost =  2.828368755758383\n",
      "RUN  12 , total integrated cost =  2.8283194892643477\n",
      "RUN  13 , total integrated cost =  2.828284834135068\n",
      "RUN  14 , total integrated cost =  2.828230008152357\n",
      "RUN  15 , total integrated cost =  2.8281814526005804\n",
      "RUN  16 , total integrated cost =  2.8281123785726074\n",
      "RUN  17 , total integrated cost =  2.82803957391512\n",
      "RUN  18 , total integrated cost =  2.8279674569610442\n",
      "RUN  19 , total integrated cost =  2.8278932011954105\n",
      "RUN  20 , total integrated cost =  2.827818279268691\n",
      "RUN  30 , total integrated cost =  2.8272762700633858\n"
     ]
    },
    {
     "output_type": "stream",
     "name": "stderr",
     "text": [
      "ERROR:root:Problem in initial value trasfer\n"
     ]
    },
    {
     "output_type": "stream",
     "name": "stdout",
     "text": [
      "RUN  40 , total integrated cost =  2.8267907747909886\n",
      "RUN  40 , total integrated cost =  2.8267907747909886\n",
      "Improved over  40  iterations in  30.836928566001006  seconds by  0.6793327676582237  percent.\n",
      "Problem in initial value trasfer:  Vmean_exc -74.52687147369781 -74.52687148935865\n",
      "0.0008173903276110605 0.0\n",
      "8.241242234202802e-09 0.0\n",
      "set cost params:  18.355 0.0 1.0\n",
      "----- 329\n",
      "interpolate adjoint :  True True True\n",
      "RUN  0 , total integrated cost =  2.862436706752005\n",
      "Gradient descend method:  None\n",
      "RUN  1 , total integrated cost =  2.840353606920058\n",
      "RUN  2 , total integrated cost =  2.8403106652125425\n",
      "RUN  3 , total integrated cost =  2.8402591412865754\n",
      "RUN  4 , total integrated cost =  2.840192361504147\n",
      "RUN  5 , total integrated cost =  2.840148877532153\n",
      "RUN  6 , total integrated cost =  2.840024345571972\n",
      "RUN  7 , total integrated cost =  2.8399298691780563\n",
      "RUN  8 , total integrated cost =  2.8397202346608132\n",
      "RUN  9 , total integrated cost =  2.8395616889066724\n",
      "RUN  10 , total integrated cost =  2.839398564452108\n",
      "RUN  11 , total integrated cost =  2.8392614984126556\n",
      "RUN  12 , total integrated cost =  2.839004447991089\n",
      "RUN  13 , total integrated cost =  2.838810884299942\n",
      "RUN  14 , total integrated cost =  2.8370996182424024\n",
      "RUN  15 , total integrated cost =  2.8370841429393163\n",
      "RUN  16 , total integrated cost =  2.837078453188801\n",
      "RUN  17 , total integrated cost =  2.8370681288985553\n",
      "RUN  18 , total integrated cost =  2.837061258321352\n",
      "RUN  19 , total integrated cost =  2.837041544975831\n",
      "RUN  20 , total integrated cost =  2.8370272758739135\n",
      "RUN  30 , total integrated cost =  2.8362710519179597\n"
     ]
    },
    {
     "output_type": "stream",
     "name": "stderr",
     "text": [
      "ERROR:root:Problem in initial value trasfer\n"
     ]
    },
    {
     "output_type": "stream",
     "name": "stdout",
     "text": [
      "RUN  40 , total integrated cost =  2.836239681479424\n",
      "RUN  40 , total integrated cost =  2.836239681479424\n",
      "Improved over  40  iterations in  32.43388169199898  seconds by  0.9152001583401557  percent.\n",
      "Problem in initial value trasfer:  Vmean_exc -74.52687158163158 -74.52687159679405\n",
      "0.0008763051851918795 0.0\n",
      "8.241242234202802e-09 0.0\n",
      "set cost params:  18.35 0.0 1.0\n",
      "----- 330\n",
      "interpolate adjoint :  True True True\n",
      "RUN  0 , total integrated cost =  2.8760784544816573\n",
      "Gradient descend method:  None\n",
      "RUN  1 , total integrated cost =  2.8514345776731824\n",
      "RUN  2 , total integrated cost =  2.8513901354646016\n",
      "RUN  3 , total integrated cost =  2.8513442967848417\n",
      "RUN  4 , total integrated cost =  2.8512169809055763\n",
      "RUN  5 , total integrated cost =  2.8511237053175997\n",
      "RUN  6 , total integrated cost =  2.8509701742352807\n",
      "RUN  7 , total integrated cost =  2.850850200658224\n",
      "RUN  8 , total integrated cost =  2.850495386481037\n",
      "RUN  9 , total integrated cost =  2.8502658317525715\n",
      "RUN  10 , total integrated cost =  2.849988104853023\n",
      "RUN  11 , total integrated cost =  2.8498076676652806\n",
      "RUN  12 , total integrated cost =  2.8496985849983485\n",
      "RUN  13 , total integrated cost =  2.8496174896036743\n",
      "RUN  14 , total integrated cost =  2.8492405987679206\n",
      "RUN  15 , total integrated cost =  2.84911159870558\n",
      "RUN  16 , total integrated cost =  2.8488210489523347\n",
      "RUN  17 , total integrated cost =  2.848816213890137\n",
      "RUN  18 , total integrated cost =  2.84881550555862\n",
      "RUN  19 , total integrated cost =  2.8488134050705662\n",
      "RUN  20 , total integrated cost =  2.8488122148511317\n",
      "RUN  30 , total integrated cost =  2.848732700207356\n"
     ]
    },
    {
     "output_type": "stream",
     "name": "stderr",
     "text": [
      "ERROR:root:Problem in initial value trasfer\n"
     ]
    },
    {
     "output_type": "stream",
     "name": "stdout",
     "text": [
      "Control only changes marginally.\n",
      "RUN  34 , total integrated cost =  2.848732694411436\n",
      "Improved over  34  iterations in  26.91103567900427  seconds by  0.9508002129639266  percent.\n",
      "Problem in initial value trasfer:  Vmean_exc -74.52687170182772 -74.52687171643514\n",
      "0.0009367479556245346 0.0\n",
      "8.241242234202802e-09 0.0\n",
      "set cost params:  18.345 0.0 1.0\n",
      "----- 331\n",
      "interpolate adjoint :  True True True\n",
      "RUN  0 , total integrated cost =  2.87841031191763\n",
      "Gradient descend method:  None\n",
      "RUN  1 , total integrated cost =  2.8629873399001617\n",
      "RUN  2 , total integrated cost =  2.8629540342756554\n",
      "RUN  3 , total integrated cost =  2.862909779367081\n",
      "RUN  4 , total integrated cost =  2.8628797605302054\n",
      "RUN  5 , total integrated cost =  2.8628365846648456\n",
      "RUN  6 , total integrated cost =  2.8628012033788166\n",
      "RUN  7 , total integrated cost =  2.86274774353408\n",
      "RUN  8 , total integrated cost =  2.8626841098100355\n",
      "RUN  9 , total integrated cost =  2.8626230820914134\n",
      "RUN  10 , total integrated cost =  2.8625197781891876\n",
      "RUN  11 , total integrated cost =  2.8624524451958173\n",
      "RUN  12 , total integrated cost =  2.8618204574854844\n",
      "RUN  13 , total integrated cost =  2.8613940317670896\n",
      "RUN  14 , total integrated cost =  2.8613778202778457\n",
      "RUN  15 , total integrated cost =  2.86135021993384\n",
      "RUN  16 , total integrated cost =  2.8613430882123834\n",
      "RUN  17 , total integrated cost =  2.861332233171234\n",
      "RUN  18 , total integrated cost =  2.8613275622032823\n",
      "RUN  19 , total integrated cost =  2.861318500695353\n",
      "RUN  20 , total integrated cost =  2.8613136967897397\n",
      "RUN  30 , total integrated cost =  2.8612141981588675\n"
     ]
    },
    {
     "output_type": "stream",
     "name": "stderr",
     "text": [
      "ERROR:root:Problem in initial value trasfer\n"
     ]
    },
    {
     "output_type": "stream",
     "name": "stdout",
     "text": [
      "RUN  40 , total integrated cost =  2.861155629247709\n",
      "RUN  40 , total integrated cost =  2.861155629247709\n",
      "Improved over  40  iterations in  28.797570431001077  seconds by  0.5994518084680465  percent.\n",
      "Problem in initial value trasfer:  Vmean_exc -74.52687181388721 -74.52687182797717\n",
      "0.000962802053685224 0.0\n",
      "8.241242234202802e-09 0.0\n",
      "set cost params:  18.34 0.0 1.0\n",
      "----- 332\n",
      "interpolate adjoint :  True True True\n",
      "RUN  0 , total integrated cost =  2.8950374193449124\n",
      "Gradient descend method:  None\n",
      "RUN  1 , total integrated cost =  2.8766610833540116\n",
      "RUN  2 , total integrated cost =  2.8762418700578167\n",
      "RUN  3 , total integrated cost =  2.8758511085213816\n",
      "RUN  4 , total integrated cost =  2.875441071049773\n",
      "RUN  5 , total integrated cost =  2.875111660663185\n",
      "RUN  6 , total integrated cost =  2.8739520078043834\n",
      "RUN  7 , total integrated cost =  2.8739474337538895\n",
      "RUN  8 , total integrated cost =  2.873816898410837\n",
      "RUN  9 , total integrated cost =  2.873749463690809\n",
      "RUN  10 , total integrated cost =  2.8737368465166777\n",
      "RUN  11 , total integrated cost =  2.8737288935014367\n",
      "RUN  12 , total integrated cost =  2.87372824805762\n",
      "RUN  13 , total integrated cost =  2.8737269122613793\n",
      "RUN  14 , total integrated cost =  2.873726274975739\n",
      "RUN  15 , total integrated cost =  2.873722918013737\n",
      "RUN  16 , total integrated cost =  2.8737210025707705\n",
      "RUN  17 , total integrated cost =  2.8737198749467634\n",
      "RUN  18 , total integrated cost =  2.8737181906881775\n",
      "RUN  19 , total integrated cost =  2.8737177801420817\n",
      "RUN  20 , total integrated cost =  2.8737162642671823\n",
      "RUN  30 , total integrated cost =  2.873668885806654\n"
     ]
    },
    {
     "output_type": "stream",
     "name": "stderr",
     "text": [
      "ERROR:root:Problem in initial value trasfer\n"
     ]
    },
    {
     "output_type": "stream",
     "name": "stdout",
     "text": [
      "RUN  40 , total integrated cost =  2.873625030599459\n",
      "RUN  40 , total integrated cost =  2.873625030599459\n",
      "Improved over  40  iterations in  29.425930147001054  seconds by  0.7396239026954845  percent.\n",
      "Problem in initial value trasfer:  Vmean_exc -74.52687190655372 -74.52687192021578\n",
      "0.0010549530937578426 0.0\n",
      "8.241242234202802e-09 0.0\n",
      "set cost params:  18.335 0.0 1.0\n",
      "----- 333\n",
      "interpolate adjoint :  True True True\n",
      "RUN  0 , total integrated cost =  2.911445742039099\n",
      "Gradient descend method:  None\n",
      "RUN  1 , total integrated cost =  2.8912071008313194\n",
      "RUN  2 , total integrated cost =  2.891155593265705\n",
      "RUN  3 , total integrated cost =  2.8910850011774842\n",
      "RUN  4 , total integrated cost =  2.891036079431147\n",
      "RUN  5 , total integrated cost =  2.8909636005885493\n",
      "RUN  6 , total integrated cost =  2.8909086009018288\n",
      "RUN  7 , total integrated cost =  2.8908330698505256\n",
      "RUN  8 , total integrated cost =  2.890780967007019\n",
      "RUN  9 , total integrated cost =  2.8907053705297665\n",
      "RUN  10 , total integrated cost =  2.8906448901661883\n",
      "RUN  11 , total integrated cost =  2.8905690404101194\n",
      "RUN  12 , total integrated cost =  2.890493401482413\n",
      "RUN  13 , total integrated cost =  2.8904192044682513\n",
      "RUN  14 , total integrated cost =  2.8903480121389107\n",
      "RUN  15 , total integrated cost =  2.890283619659504\n",
      "RUN  16 , total integrated cost =  2.890223723864708\n",
      "RUN  17 , total integrated cost =  2.8901433740176694\n",
      "RUN  18 , total integrated cost =  2.8900602809244984\n",
      "RUN  19 , total integrated cost =  2.8899290873825367\n",
      "RUN  20 , total integrated cost =  2.88982009818045\n",
      "RUN  30 , total integrated cost =  2.888889394466869\n"
     ]
    },
    {
     "output_type": "stream",
     "name": "stderr",
     "text": [
      "ERROR:root:Problem in initial value trasfer\n"
     ]
    },
    {
     "output_type": "stream",
     "name": "stdout",
     "text": [
      "RUN  40 , total integrated cost =  2.8888787931007633\n",
      "RUN  40 , total integrated cost =  2.8888787931007633\n",
      "Improved over  40  iterations in  30.83441146399855  seconds by  0.7751114373345871  percent.\n",
      "Problem in initial value trasfer:  Vmean_exc -74.52687201909802 -74.52687203224039\n",
      "0.001106250733253683 0.0\n",
      "8.241242234202802e-09 0.0\n",
      "set cost params:  18.330000000000002 0.0 1.0\n",
      "----- 334\n",
      "interpolate adjoint :  True True True\n",
      "RUN  0 , total integrated cost =  2.92597042041969\n",
      "Gradient descend method:  None\n",
      "RUN  1 , total integrated cost =  2.9062783039582323\n",
      "RUN  2 , total integrated cost =  2.905990274628595\n",
      "RUN  3 , total integrated cost =  2.9057276740212954\n",
      "RUN  4 , total integrated cost =  2.905512152694068\n",
      "RUN  5 , total integrated cost =  2.9053330902676393\n",
      "RUN  6 , total integrated cost =  2.905109656336455\n",
      "RUN  7 , total integrated cost =  2.904918184043434\n",
      "RUN  8 , total integrated cost =  2.9047203384295734\n",
      "RUN  9 , total integrated cost =  2.904554887727205\n",
      "RUN  10 , total integrated cost =  2.9043451719853834\n",
      "RUN  11 , total integrated cost =  2.9041922516505214\n",
      "RUN  12 , total integrated cost =  2.90416617971046\n",
      "RUN  13 , total integrated cost =  2.9041445325049766\n",
      "RUN  14 , total integrated cost =  2.9041223357527057\n",
      "RUN  15 , total integrated cost =  2.9041041635698552\n",
      "RUN  16 , total integrated cost =  2.9040872325148133\n",
      "RUN  17 , total integrated cost =  2.9040616047348515\n",
      "RUN  18 , total integrated cost =  2.9040445275701776\n",
      "RUN  19 , total integrated cost =  2.9040191862116282\n",
      "RUN  20 , total integrated cost =  2.904003396271966\n",
      "RUN  30 , total integrated cost =  2.9035105146535676\n"
     ]
    },
    {
     "output_type": "stream",
     "name": "stderr",
     "text": [
      "ERROR:root:Problem in initial value trasfer\n"
     ]
    },
    {
     "output_type": "stream",
     "name": "stdout",
     "text": [
      "RUN  40 , total integrated cost =  2.903392411583079\n",
      "RUN  40 , total integrated cost =  2.903392411583079\n",
      "Improved over  40  iterations in  27.252713018002396  seconds by  0.7716417322282041  percent.\n",
      "Problem in initial value trasfer:  Vmean_exc -74.52687211299184 -74.52687212570063\n",
      "0.0011740826167341222 0.0\n",
      "8.241242234202802e-09 0.0\n",
      "set cost params:  18.325 0.0 1.0\n",
      "----- 335\n",
      "interpolate adjoint :  True True True\n",
      "RUN  0 , total integrated cost =  2.9425726056589667\n",
      "Gradient descend method:  None\n",
      "RUN  1 , total integrated cost =  2.921808400196657\n",
      "RUN  2 , total integrated cost =  2.9216855955023666\n",
      "RUN  3 , total integrated cost =  2.921583204835574\n",
      "RUN  4 , total integrated cost =  2.921369027180457\n",
      "RUN  5 , total integrated cost =  2.921168021129532\n",
      "RUN  6 , total integrated cost =  2.91952860592944\n",
      "RUN  7 , total integrated cost =  2.9191480136634085\n",
      "RUN  8 , total integrated cost =  2.91913991051107\n",
      "RUN  9 , total integrated cost =  2.919131410334381\n",
      "RUN  10 , total integrated cost =  2.9190552236012985\n",
      "RUN  11 , total integrated cost =  2.918988776901226\n",
      "RUN  12 , total integrated cost =  2.918987640342339\n",
      "RUN  13 , total integrated cost =  2.918986672131052\n",
      "RUN  14 , total integrated cost =  2.9189810200580677\n",
      "RUN  15 , total integrated cost =  2.918980601745283\n",
      "RUN  16 , total integrated cost =  2.91898016650537\n",
      "RUN  17 , total integrated cost =  2.918977017615804\n",
      "RUN  18 , total integrated cost =  2.918976349926265\n",
      "RUN  19 , total integrated cost =  2.9189755497164933\n",
      "RUN  20 , total integrated cost =  2.918970662482506\n",
      "RUN  30 , total integrated cost =  2.918949028582762\n"
     ]
    },
    {
     "output_type": "stream",
     "name": "stderr",
     "text": [
      "ERROR:root:Problem in initial value trasfer\n"
     ]
    },
    {
     "output_type": "stream",
     "name": "stdout",
     "text": [
      "RUN  40 , total integrated cost =  2.9187325854504356\n",
      "RUN  40 , total integrated cost =  2.9187325854504356\n",
      "Improved over  40  iterations in  26.06028637199779  seconds by  0.8101761078956429  percent.\n",
      "Problem in initial value trasfer:  Vmean_exc -74.52687220185078 -74.52687221414925\n",
      "0.0012569104325445616 0.0\n",
      "8.241242234202802e-09 0.0\n",
      "set cost params:  18.32 0.0 1.0\n",
      "----- 336\n",
      "interpolate adjoint :  True True True\n",
      "RUN  0 , total integrated cost =  2.965420274940742\n",
      "Gradient descend method:  None\n",
      "RUN  1 , total integrated cost =  2.938256130481204\n",
      "RUN  2 , total integrated cost =  2.938144995235953\n",
      "RUN  3 , total integrated cost =  2.938055286813698\n",
      "RUN  4 , total integrated cost =  2.937953955860629\n",
      "RUN  5 , total integrated cost =  2.937874351290154\n",
      "RUN  6 , total integrated cost =  2.9377849257669806\n",
      "RUN  7 , total integrated cost =  2.9377060359666984\n",
      "RUN  8 , total integrated cost =  2.9376254187386692\n",
      "RUN  9 , total integrated cost =  2.9375479468829124\n",
      "RUN  10 , total integrated cost =  2.937475461873343\n",
      "RUN  11 , total integrated cost =  2.9374049528004\n",
      "RUN  12 , total integrated cost =  2.937339181297031\n",
      "RUN  13 , total integrated cost =  2.9372763002516282\n",
      "RUN  14 , total integrated cost =  2.9372155525849326\n",
      "RUN  15 , total integrated cost =  2.9371555845611255\n",
      "RUN  16 , total integrated cost =  2.937084616819223\n",
      "RUN  17 , total integrated cost =  2.9370115868749345\n",
      "RUN  18 , total integrated cost =  2.936785635353734\n",
      "RUN  19 , total integrated cost =  2.9366045688157443\n",
      "RUN  20 , total integrated cost =  2.9363366215010376\n",
      "RUN  30 , total integrated cost =  2.9352793529110723\n"
     ]
    },
    {
     "output_type": "stream",
     "name": "stderr",
     "text": [
      "ERROR:root:Problem in initial value trasfer\n"
     ]
    },
    {
     "output_type": "stream",
     "name": "stdout",
     "text": [
      "Control only changes marginally.\n",
      "RUN  34 , total integrated cost =  2.9350920780028997\n",
      "Improved over  34  iterations in  25.913484664000862  seconds by  1.022728454180026  percent.\n",
      "Problem in initial value trasfer:  Vmean_exc -74.52687228889154 -74.52687230078809\n",
      "0.0013409896804882845 0.0\n",
      "8.241242234202802e-09 0.0\n",
      "set cost params:  18.315 0.0 1.0\n",
      "----- 337\n",
      "interpolate adjoint :  True True True\n",
      "RUN  0 , total integrated cost =  2.9845996564094492\n",
      "Gradient descend method:  None\n",
      "RUN  1 , total integrated cost =  2.9575871224989534\n",
      "RUN  2 , total integrated cost =  2.9574684727523985\n",
      "RUN  3 , total integrated cost =  2.9574223730008593\n",
      "RUN  4 , total integrated cost =  2.9573134279657602\n",
      "RUN  5 , total integrated cost =  2.9572689724539867\n",
      "RUN  6 , total integrated cost =  2.9571644646941717\n",
      "RUN  7 , total integrated cost =  2.9571122791822364\n",
      "RUN  8 , total integrated cost =  2.957003704903387\n",
      "RUN  9 , total integrated cost =  2.9569293710955304\n",
      "RUN  10 , total integrated cost =  2.956812896233788\n",
      "RUN  11 , total integrated cost =  2.956716869382436\n",
      "RUN  12 , total integrated cost =  2.956615376399699\n",
      "RUN  13 , total integrated cost =  2.956534556014078\n",
      "RUN  14 , total integrated cost =  2.956435164802786\n",
      "RUN  15 , total integrated cost =  2.9563504112544208\n",
      "RUN  16 , total integrated cost =  2.956215006708339\n",
      "RUN  17 , total integrated cost =  2.956100629762115\n",
      "RUN  18 , total integrated cost =  2.955997302170111\n",
      "RUN  19 , total integrated cost =  2.9558996859345448\n",
      "RUN  20 , total integrated cost =  2.955800772862986\n",
      "RUN  30 , total integrated cost =  2.9545321312976722\n"
     ]
    },
    {
     "output_type": "stream",
     "name": "stderr",
     "text": [
      "ERROR:root:Problem in initial value trasfer\n"
     ]
    },
    {
     "output_type": "stream",
     "name": "stdout",
     "text": [
      "RUN  40 , total integrated cost =  2.954507898835035\n",
      "RUN  40 , total integrated cost =  2.954507898835035\n",
      "Improved over  40  iterations in  29.107312336993346  seconds by  1.0082343040478463  percent.\n",
      "Problem in initial value trasfer:  Vmean_exc -74.52687238609354 -74.52687239754125\n",
      "0.0014171698177425944 0.0\n",
      "8.241242234202802e-09 0.0\n",
      "set cost params:  18.31 0.0 1.0\n",
      "----- 338\n",
      "interpolate adjoint :  True True True\n",
      "RUN  0 , total integrated cost =  3.003250299741743\n",
      "Gradient descend method:  None\n",
      "RUN  1 , total integrated cost =  2.976727572687349\n",
      "RUN  2 , total integrated cost =  2.9766436987096996\n",
      "RUN  3 , total integrated cost =  2.976536999617676\n",
      "RUN  4 , total integrated cost =  2.9764502580088776\n",
      "RUN  5 , total integrated cost =  2.9763418954433982\n",
      "RUN  6 , total integrated cost =  2.976162791424523\n",
      "RUN  7 , total integrated cost =  2.976021731933676\n",
      "RUN  8 , total integrated cost =  2.9758181675031854\n",
      "RUN  9 , total integrated cost =  2.9756806682433448\n",
      "RUN  10 , total integrated cost =  2.9746345570471635\n",
      "RUN  11 , total integrated cost =  2.9739700612236697\n",
      "RUN  12 , total integrated cost =  2.973954198475699\n",
      "RUN  13 , total integrated cost =  2.973934055525013\n",
      "RUN  14 , total integrated cost =  2.973918025380855\n",
      "RUN  15 , total integrated cost =  2.973899947336262\n",
      "RUN  16 , total integrated cost =  2.9738825967123086\n",
      "RUN  17 , total integrated cost =  2.9738427088344563\n",
      "RUN  18 , total integrated cost =  2.9737943407694836\n",
      "RUN  19 , total integrated cost =  2.97378020563735\n",
      "RUN  20 , total integrated cost =  2.97375602046365\n",
      "RUN  30 , total integrated cost =  2.973624805644142\n"
     ]
    },
    {
     "output_type": "stream",
     "name": "stderr",
     "text": [
      "ERROR:root:Problem in initial value trasfer\n"
     ]
    },
    {
     "output_type": "stream",
     "name": "stdout",
     "text": [
      "RUN  40 , total integrated cost =  2.973530012668548\n",
      "RUN  40 , total integrated cost =  2.973530012668548\n",
      "Improved over  40  iterations in  27.43985478799732  seconds by  0.9896040658266259  percent.\n",
      "Problem in initial value trasfer:  Vmean_exc -74.526872469918 -74.52687248097862\n",
      "0.0014996407912763062 0.0\n",
      "8.241242234202802e-09 0.0\n",
      "set cost params:  18.305 0.0 1.0\n",
      "----- 339\n",
      "interpolate adjoint :  True True True\n",
      "RUN  0 , total integrated cost =  3.0301490100794815\n",
      "Gradient descend method:  None\n",
      "RUN  1 , total integrated cost =  2.9975468341443987\n",
      "RUN  2 , total integrated cost =  2.9973282375195365\n",
      "RUN  3 , total integrated cost =  2.997133893880013\n",
      "RUN  4 , total integrated cost =  2.9969684242203516\n",
      "RUN  5 , total integrated cost =  2.996807991404341\n",
      "RUN  6 , total integrated cost =  2.9966515659713835\n",
      "RUN  7 , total integrated cost =  2.996493901928215\n",
      "RUN  8 , total integrated cost =  2.9962758940876686\n",
      "RUN  9 , total integrated cost =  2.996058097347625\n",
      "RUN  10 , total integrated cost =  2.995838650467179\n",
      "RUN  11 , total integrated cost =  2.9956276173252303\n",
      "RUN  12 , total integrated cost =  2.995373910937775\n",
      "RUN  13 , total integrated cost =  2.9951312749083185\n",
      "RUN  14 , total integrated cost =  2.9938124851776875\n",
      "RUN  15 , total integrated cost =  2.993351976924216\n",
      "RUN  16 , total integrated cost =  2.9933053772290923\n",
      "RUN  17 , total integrated cost =  2.993268515045955\n",
      "RUN  18 , total integrated cost =  2.9932598947252265\n",
      "RUN  19 , total integrated cost =  2.9932415621258164\n",
      "RUN  20 , total integrated cost =  2.993233963170079\n",
      "RUN  30 , total integrated cost =  2.993037141417226\n"
     ]
    },
    {
     "output_type": "stream",
     "name": "stderr",
     "text": [
      "ERROR:root:Problem in initial value trasfer\n"
     ]
    },
    {
     "output_type": "stream",
     "name": "stdout",
     "text": [
      "RUN  40 , total integrated cost =  2.992688179104033\n",
      "RUN  40 , total integrated cost =  2.992688179104033\n",
      "Improved over  40  iterations in  27.35944120800559  seconds by  1.2362702576948692  percent.\n",
      "Problem in initial value trasfer:  Vmean_exc -74.52687254767736 -74.52687255837893\n",
      "0.001578850505840111 0.0\n",
      "8.241242234202802e-09 0.0\n",
      "set cost params:  18.3 0.0 1.0\n",
      "----- 340\n",
      "interpolate adjoint :  True True True\n",
      "RUN  0 , total integrated cost =  3.0455159528155664\n",
      "Gradient descend method:  None\n",
      "RUN  1 , total integrated cost =  3.017461464578755\n",
      "RUN  2 , total integrated cost =  3.0173533523484846\n",
      "RUN  3 , total integrated cost =  3.017090359245609\n",
      "RUN  4 , total integrated cost =  3.016894500896113\n",
      "RUN  5 , total integrated cost =  3.0166345287084937\n",
      "RUN  6 , total integrated cost =  3.016440890674012\n",
      "RUN  7 , total integrated cost =  3.0162241776418215\n",
      "RUN  8 , total integrated cost =  3.0160522235811653\n",
      "RUN  9 , total integrated cost =  3.015798161025297\n",
      "RUN  10 , total integrated cost =  3.0156154475049384\n",
      "RUN  11 , total integrated cost =  3.0152573217269505\n",
      "RUN  12 , total integrated cost =  3.0149779320217465\n",
      "RUN  13 , total integrated cost =  3.0147162308518842\n",
      "RUN  14 , total integrated cost =  3.014557759404986\n",
      "RUN  15 , total integrated cost =  3.0136805136962086\n",
      "RUN  16 , total integrated cost =  3.013675641369835\n",
      "RUN  17 , total integrated cost =  3.013675323715213\n",
      "RUN  18 , total integrated cost =  3.013675306906208\n",
      "RUN  19 , total integrated cost =  3.013675306906205\n",
      "RUN  20 , total integrated cost =  3.0136753069062046\n"
     ]
    },
    {
     "output_type": "stream",
     "name": "stderr",
     "text": [
      "ERROR:root:Problem in initial value trasfer\n"
     ]
    },
    {
     "output_type": "stream",
     "name": "stdout",
     "text": [
      "Control only changes marginally.\n",
      "RUN  21 , total integrated cost =  3.0136753069062046\n",
      "Improved over  21  iterations in  15.189136886001506  seconds by  1.0454926653700625  percent.\n",
      "Problem in initial value trasfer:  Vmean_exc -74.52687262708427 -74.52687263741916\n",
      "0.0016425935950423096 0.0\n",
      "8.241242234202802e-09 0.0\n",
      "set cost params:  18.294999999999998 0.0 1.0\n",
      "----- 341\n",
      "interpolate adjoint :  True True True\n",
      "RUN  0 , total integrated cost =  3.0794633521972212\n",
      "Gradient descend method:  None\n",
      "RUN  1 , total integrated cost =  3.04308554704879\n",
      "RUN  2 , total integrated cost =  3.0428750955245407\n",
      "RUN  3 , total integrated cost =  3.042700574093139\n",
      "RUN  4 , total integrated cost =  3.0425123045989997\n",
      "RUN  5 , total integrated cost =  3.042360575259303\n",
      "RUN  6 , total integrated cost =  3.04221225348678\n",
      "RUN  7 , total integrated cost =  3.042073687509343\n",
      "RUN  8 , total integrated cost =  3.041949566558328\n",
      "RUN  9 , total integrated cost =  3.041819938877471\n",
      "RUN  10 , total integrated cost =  3.041704670024803\n",
      "RUN  11 , total integrated cost =  3.041584871576202\n",
      "RUN  12 , total integrated cost =  3.041490062683804\n",
      "RUN  13 , total integrated cost =  3.0413777447929857\n",
      "RUN  14 , total integrated cost =  3.041293179117789\n",
      "RUN  15 , total integrated cost =  3.0411887366242136\n",
      "RUN  16 , total integrated cost =  3.041104796174835\n",
      "RUN  17 , total integrated cost =  3.0410035383081677\n",
      "RUN  18 , total integrated cost =  3.0409221053213535\n",
      "RUN  19 , total integrated cost =  3.0408266527196726\n",
      "RUN  20 , total integrated cost =  3.0407283184722305\n",
      "RUN  30 , total integrated cost =  3.039131875087747\n",
      "RUN  40 , total integrated cost =  3.0389271649631593\n",
      "RUN  40 , total integrated cost =  3.0389271649631593\n",
      "Improved over  40  iterations in  23.776400559996546  seconds by  1.3163393292256274  percent.\n",
      "0.0017745738803197895 0.0\n",
      "8.241242234202802e-09 0.0\n",
      "set cost params:  18.29 0.0 1.0\n",
      "----- 342\n",
      "interpolate adjoint :  True True True\n",
      "RUN  0 , total integrated cost =  3.1067969994199967\n",
      "Gradient descend method:  None\n",
      "RUN  1 , total integrated cost =  3.0679511841530713\n",
      "RUN  2 , total integrated cost =  3.065081136160882\n",
      "RUN  3 , total integrated cost =  3.06370225712336\n",
      "RUN  4 , total integrated cost =  3.0624635544901717\n",
      "RUN  5 , total integrated cost =  3.0623986693512015\n",
      "RUN  6 , total integrated cost =  3.062395367046251\n",
      "RUN  7 , total integrated cost =  3.0623877101071337\n",
      "RUN  8 , total integrated cost =  3.0623862748970785\n",
      "RUN  9 , total integrated cost =  3.0623813613847606\n",
      "RUN  10 , total integrated cost =  3.0623790968252487\n",
      "RUN  11 , total integrated cost =  3.0623553706084308\n",
      "RUN  12 , total integrated cost =  3.0623335969527306\n",
      "RUN  13 , total integrated cost =  3.0623309500674374\n",
      "RUN  14 , total integrated cost =  3.062323773674566\n",
      "RUN  15 , total integrated cost =  3.062322684845899\n",
      "RUN  16 , total integrated cost =  3.0623189065331697\n",
      "RUN  17 , total integrated cost =  3.062316902863739\n",
      "RUN  18 , total integrated cost =  3.0623004531669067\n",
      "RUN  19 , total integrated cost =  3.0622840490976766\n",
      "RUN  20 , total integrated cost =  3.062279369953475\n",
      "RUN  30 , total integrated cost =  3.0622272596197564\n",
      "RUN  40 , total integrated cost =  3.062172431126815\n",
      "RUN  40 , total integrated cost =  3.062172431126815\n",
      "Improved over  40  iterations in  21.41587471099774  seconds by  1.4363528837420887  percent.\n",
      "0.0018544502189051875 0.0\n",
      "8.241242234202802e-09 0.0\n",
      "set cost params:  18.285 0.0 1.0\n",
      "----- 343\n",
      "interpolate adjoint :  True True True\n",
      "RUN  0 , total integrated cost =  3.1408729379164715\n",
      "Gradient descend method:  None\n",
      "RUN  1 , total integrated cost =  3.093154981809635\n",
      "RUN  2 , total integrated cost =  3.0878982168363875\n",
      "RUN  3 , total integrated cost =  3.0878253565486498\n",
      "RUN  4 , total integrated cost =  3.087824289844279\n",
      "RUN  5 , total integrated cost =  3.0878164965144386\n",
      "RUN  6 , total integrated cost =  3.087815420623157\n",
      "RUN  7 , total integrated cost =  3.0877955616168324\n",
      "RUN  8 , total integrated cost =  3.087776080677231\n",
      "RUN  9 , total integrated cost =  3.0877682023235185\n",
      "RUN  10 , total integrated cost =  3.0877504690617372\n",
      "RUN  11 , total integrated cost =  3.0877502237974626\n",
      "RUN  12 , total integrated cost =  3.0876976418173983\n",
      "RUN  13 , total integrated cost =  3.087645353545077\n",
      "RUN  14 , total integrated cost =  3.08764399034366\n",
      "RUN  15 , total integrated cost =  3.0876358647579734\n",
      "RUN  16 , total integrated cost =  3.087626274271096\n",
      "RUN  17 , total integrated cost =  3.0876244723994963\n",
      "RUN  18 , total integrated cost =  3.0876163778389096\n",
      "RUN  19 , total integrated cost =  3.0876154857853337\n",
      "RUN  20 , total integrated cost =  3.0876109323970944\n",
      "RUN  30 , total integrated cost =  3.0875726239580654\n",
      "RUN  40 , total integrated cost =  3.087518428736017\n",
      "RUN  40 , total integrated cost =  3.087518428736017\n",
      "Improved over  40  iterations in  21.993825300996832  seconds by  1.6987159377369636  percent.\n",
      "0.001943540570731742 0.0\n",
      "8.241242234202802e-09 0.0\n",
      "set cost params:  18.28 0.0 1.0\n",
      "----- 344\n",
      "interpolate adjoint :  True True True\n",
      "RUN  0 , total integrated cost =  3.1583861849987276\n",
      "Gradient descend method:  None\n",
      "RUN  1 , total integrated cost =  3.1200375769118964\n",
      "RUN  2 , total integrated cost =  3.1197911748689533\n",
      "RUN  3 , total integrated cost =  3.1195092459108076\n",
      "RUN  4 , total integrated cost =  3.1192953367960117\n",
      "RUN  5 , total integrated cost =  3.119045071294851\n",
      "RUN  6 , total integrated cost =  3.1188545668716063\n",
      "RUN  7 , total integrated cost =  3.118633550318969\n",
      "RUN  8 , total integrated cost =  3.1184647664641294\n",
      "RUN  9 , total integrated cost =  3.1182782787218115\n",
      "RUN  10 , total integrated cost =  3.1181262358035524\n",
      "RUN  11 , total integrated cost =  3.1179563293377472\n",
      "RUN  12 , total integrated cost =  3.1178173703355707\n",
      "RUN  13 , total integrated cost =  3.1176727083507125\n",
      "RUN  14 , total integrated cost =  3.1175449444186074\n",
      "RUN  15 , total integrated cost =  3.1174093141762667\n",
      "RUN  16 , total integrated cost =  3.1172636180252016\n",
      "RUN  17 , total integrated cost =  3.1171153168356884\n",
      "RUN  18 , total integrated cost =  3.116960121189598\n",
      "RUN  19 , total integrated cost =  3.1168261412715355\n",
      "RUN  20 , total integrated cost =  3.116676345413923\n",
      "RUN  30 , total integrated cost =  3.114366985093704\n",
      "RUN  40 , total integrated cost =  3.114299665109349\n",
      "RUN  40 , total integrated cost =  3.114299665109349\n",
      "Improved over  40  iterations in  22.416846496998915  seconds by  1.3958558994075787  percent.\n",
      "0.0020381642377143997 0.0\n",
      "8.241242234202802e-09 0.0\n",
      "set cost params:  18.275 0.0 1.0\n",
      "----- 345\n",
      "interpolate adjoint :  True True True\n",
      "RUN  0 , total integrated cost =  3.1974601044056428\n",
      "Gradient descend method:  None\n",
      "RUN  1 , total integrated cost =  3.152024820649204\n",
      "RUN  2 , total integrated cost =  3.151588586117468\n",
      "RUN  3 , total integrated cost =  3.1512301382781267\n",
      "RUN  4 , total integrated cost =  3.15068507480802\n",
      "RUN  5 , total integrated cost =  3.150297900712984\n",
      "RUN  6 , total integrated cost =  3.1499077183673574\n",
      "RUN  7 , total integrated cost =  3.149600340401574\n",
      "RUN  8 , total integrated cost =  3.1492958393933366\n",
      "RUN  9 , total integrated cost =  3.1490239895731875\n",
      "RUN  10 , total integrated cost =  3.148800169034691\n",
      "RUN  11 , total integrated cost =  3.1485930719530173\n",
      "RUN  12 , total integrated cost =  3.148383388729045\n",
      "RUN  13 , total integrated cost =  3.148190090007829\n",
      "RUN  14 , total integrated cost =  3.148015667318122\n",
      "RUN  15 , total integrated cost =  3.14786178638163\n",
      "RUN  16 , total integrated cost =  3.147658620302594\n",
      "RUN  17 , total integrated cost =  3.147487942000908\n",
      "RUN  18 , total integrated cost =  3.14723799027513\n",
      "RUN  19 , total integrated cost =  3.1470024092403865\n",
      "RUN  20 , total integrated cost =  3.1461476641611528\n",
      "RUN  30 , total integrated cost =  3.145998795621758\n",
      "RUN  40 , total integrated cost =  3.145963530075231\n",
      "RUN  40 , total integrated cost =  3.145963530075231\n",
      "Improved over  40  iterations in  21.81559789700259  seconds by  1.6105462663773977  percent.\n",
      "0.0022360577090656535 0.0\n",
      "8.241242234202802e-09 0.0\n",
      "set cost params:  18.27 0.0 1.0\n",
      "----- 346\n",
      "interpolate adjoint :  True True True\n",
      "RUN  0 , total integrated cost =  3.221632958403163\n",
      "Gradient descend method:  None\n",
      "RUN  1 , total integrated cost =  3.181987111903834\n",
      "RUN  2 , total integrated cost =  3.179097565857461\n",
      "RUN  3 , total integrated cost =  3.177926497169229\n",
      "RUN  4 , total integrated cost =  3.1777174389585734\n",
      "RUN  5 , total integrated cost =  3.1774920996170346\n",
      "RUN  6 , total integrated cost =  3.1773710211762114\n",
      "RUN  7 , total integrated cost =  3.1772365652716954\n",
      "RUN  8 , total integrated cost =  3.177185369840293\n",
      "RUN  9 , total integrated cost =  3.1771353426916717\n",
      "RUN  10 , total integrated cost =  3.177094961936143\n",
      "RUN  11 , total integrated cost =  3.177064661024254\n",
      "RUN  12 , total integrated cost =  3.1770348941644655\n",
      "RUN  13 , total integrated cost =  3.177013439617878\n",
      "RUN  14 , total integrated cost =  3.1769899914162085\n",
      "RUN  15 , total integrated cost =  3.176958781800724\n",
      "RUN  16 , total integrated cost =  3.1769383999168954\n",
      "RUN  17 , total integrated cost =  3.1768995120528687\n",
      "RUN  18 , total integrated cost =  3.1768757559357006\n",
      "RUN  19 , total integrated cost =  3.17683368370366\n",
      "RUN  20 , total integrated cost =  3.176809866161407\n",
      "RUN  30 , total integrated cost =  3.176594957014531\n",
      "RUN  40 , total integrated cost =  3.1765417375004215\n",
      "RUN  40 , total integrated cost =  3.1765417375004215\n",
      "Improved over  40  iterations in  23.725615276001918  seconds by  1.3996386765639386  percent.\n",
      "0.0023521804680565576 0.0\n",
      "8.241242234202802e-09 0.0\n",
      "set cost params:  18.265 0.0 1.0\n",
      "----- 347\n",
      "interpolate adjoint :  True True True\n",
      "RUN  0 , total integrated cost =  3.2582495065831143\n",
      "Gradient descend method:  None\n",
      "RUN  1 , total integrated cost =  3.215107202743687\n",
      "RUN  2 , total integrated cost =  3.214647393902223\n",
      "RUN  3 , total integrated cost =  3.214246308487642\n",
      "RUN  4 , total integrated cost =  3.2138869693609364\n",
      "RUN  5 , total integrated cost =  3.21353935697057\n",
      "RUN  6 , total integrated cost =  3.2132391784624126\n",
      "RUN  7 , total integrated cost =  3.2129251282122855\n",
      "RUN  8 , total integrated cost =  3.2127122874095693\n",
      "RUN  9 , total integrated cost =  3.2124951135914546\n",
      "RUN  10 , total integrated cost =  3.2123085149906676\n",
      "RUN  11 , total integrated cost =  3.2121361679569733\n",
      "RUN  12 , total integrated cost =  3.211970585651281\n",
      "RUN  13 , total integrated cost =  3.21181529828688\n",
      "RUN  14 , total integrated cost =  3.211666726496694\n",
      "RUN  15 , total integrated cost =  3.2115222211764225\n",
      "RUN  16 , total integrated cost =  3.2113903380122677\n",
      "RUN  17 , total integrated cost =  3.211265815681566\n",
      "RUN  18 , total integrated cost =  3.2111475288980564\n",
      "RUN  19 , total integrated cost =  3.2110435291476707\n",
      "RUN  20 , total integrated cost =  3.210935553150836\n",
      "RUN  30 , total integrated cost =  3.2096394703111204\n",
      "RUN  40 , total integrated cost =  3.2094497019279244\n",
      "RUN  40 , total integrated cost =  3.2094497019279244\n",
      "Improved over  40  iterations in  20.645758678001584  seconds by  1.4977307464205154  percent.\n",
      "0.0025362330937927307 0.0\n",
      "8.241242234202802e-09 0.0\n",
      "set cost params:  18.259999999999998 0.0 1.0\n",
      "----- 348\n",
      "interpolate adjoint :  True True True\n",
      "RUN  0 , total integrated cost =  3.3054914490883793\n",
      "Gradient descend method:  None\n",
      "RUN  1 , total integrated cost =  3.251352749411131\n",
      "RUN  2 , total integrated cost =  3.250686140260508\n",
      "RUN  3 , total integrated cost =  3.250268580959461\n",
      "RUN  4 , total integrated cost =  3.249665254462306\n",
      "RUN  5 , total integrated cost =  3.249212242421066\n",
      "RUN  6 , total integrated cost =  3.248652604692848\n",
      "RUN  7 , total integrated cost =  3.248252885502019\n",
      "RUN  8 , total integrated cost =  3.247488454950447\n",
      "RUN  9 , total integrated cost =  3.2470148404038897\n",
      "RUN  10 , total integrated cost =  3.246411556381975\n",
      "RUN  11 , total integrated cost =  3.2460318939978157\n",
      "RUN  12 , total integrated cost =  3.245732719516103\n",
      "RUN  13 , total integrated cost =  3.2454744774811024\n",
      "RUN  14 , total integrated cost =  3.2452490308549597\n",
      "RUN  15 , total integrated cost =  3.245057653444472\n",
      "RUN  16 , total integrated cost =  3.244889569221551\n",
      "RUN  17 , total integrated cost =  3.24474309898449\n",
      "RUN  18 , total integrated cost =  3.2438201558911177\n",
      "RUN  19 , total integrated cost =  3.2437552697276075\n",
      "RUN  20 , total integrated cost =  3.2437169457386643\n",
      "RUN  30 , total integrated cost =  3.24366809431035\n",
      "Control only changes marginally.\n",
      "RUN  35 , total integrated cost =  3.243667626236934\n",
      "Improved over  35  iterations in  14.519271983997896  seconds by  1.8703367957129444  percent.\n",
      "0.002666043057271125 0.0\n",
      "8.241242234202802e-09 0.0\n",
      "set cost params:  18.255000000000003 0.0 1.0\n",
      "----- 349\n",
      "interpolate adjoint :  True True True\n",
      "RUN  0 , total integrated cost =  3.3363918195094575\n",
      "Gradient descend method:  None\n",
      "RUN  1 , total integrated cost =  3.2871630122832896\n",
      "RUN  2 , total integrated cost =  3.283225087371018\n",
      "RUN  3 , total integrated cost =  3.281660316213651\n",
      "RUN  4 , total integrated cost =  3.2814616581260756\n",
      "RUN  5 , total integrated cost =  3.281348365875098\n",
      "RUN  6 , total integrated cost =  3.2812308935898806\n",
      "RUN  7 , total integrated cost =  3.281146363725072\n",
      "RUN  8 , total integrated cost =  3.281055366466873\n",
      "RUN  9 , total integrated cost =  3.280990085951521\n",
      "RUN  10 , total integrated cost =  3.2808901199686793\n",
      "RUN  11 , total integrated cost =  3.2808125439566704\n",
      "RUN  12 , total integrated cost =  3.2807531850949827\n",
      "RUN  13 , total integrated cost =  3.2807018197763744\n",
      "RUN  14 , total integrated cost =  3.280634982521288\n",
      "RUN  15 , total integrated cost =  3.2805994934809637\n",
      "RUN  16 , total integrated cost =  3.280599209315453\n",
      "RUN  17 , total integrated cost =  3.2805930652054442\n",
      "RUN  18 , total integrated cost =  3.280583716572363\n",
      "RUN  19 , total integrated cost =  3.2805834853278237\n",
      "RUN  20 , total integrated cost =  3.280583310054749\n",
      "Control only changes marginally.\n",
      "RUN  27 , total integrated cost =  3.280561545671222\n",
      "Improved over  27  iterations in  10.70166726000025  seconds by  1.673372818856862  percent.\n",
      "0.0028290535928534853 0.0\n",
      "8.241242234202802e-09 0.0\n",
      "set cost params:  18.25 0.0 1.0\n",
      "----- 350\n",
      "interpolate adjoint :  True True True\n",
      "RUN  0 , total integrated cost =  3.4182795380351205\n",
      "Gradient descend method:  None\n",
      "RUN  1 , total integrated cost =  3.3328128595055437\n",
      "RUN  2 , total integrated cost =  3.330992210830381\n",
      "RUN  3 , total integrated cost =  3.3292110592700013\n",
      "RUN  4 , total integrated cost =  3.3282503644434973\n",
      "RUN  5 , total integrated cost =  3.327310173008484\n",
      "RUN  6 , total integrated cost =  3.3272044662079927\n",
      "RUN  7 , total integrated cost =  3.3270307390041665\n",
      "RUN  8 , total integrated cost =  3.3269435923126234\n",
      "RUN  9 , total integrated cost =  3.326802138399827\n",
      "RUN  10 , total integrated cost =  3.326733842502723\n",
      "RUN  11 , total integrated cost =  3.326636691106221\n",
      "RUN  12 , total integrated cost =  3.3265722519690173\n",
      "RUN  13 , total integrated cost =  3.326480359239492\n",
      "RUN  14 , total integrated cost =  3.326405506575836\n",
      "RUN  15 , total integrated cost =  3.3263254822346036\n",
      "RUN  16 , total integrated cost =  3.32624396799249\n",
      "RUN  17 , total integrated cost =  3.326170009909083\n",
      "RUN  18 , total integrated cost =  3.3260790205122173\n",
      "RUN  19 , total integrated cost =  3.3260164756271893\n",
      "RUN  20 , total integrated cost =  3.325933847819831\n",
      "RUN  30 , total integrated cost =  3.325339429954412\n",
      "RUN  40 , total integrated cost =  3.324500349409214\n",
      "RUN  40 , total integrated cost =  3.324500349409214\n",
      "Improved over  40  iterations in  19.370904985997186  seconds by  2.7434616619977277  percent.\n",
      "0.0029865984484078027 0.0\n",
      "8.241242234202802e-09 0.0\n",
      "set cost params:  18.244999999999997 0.0 1.0\n",
      "----- 351\n",
      "interpolate adjoint :  True True True\n",
      "RUN  0 , total integrated cost =  3.439178032572349\n",
      "Gradient descend method:  None\n",
      "RUN  1 , total integrated cost =  3.375615490567109\n",
      "RUN  2 , total integrated cost =  3.3749143035458027\n",
      "RUN  3 , total integrated cost =  3.3742432382196186\n",
      "RUN  4 , total integrated cost =  3.373718553631407\n",
      "RUN  5 , total integrated cost =  3.3732100338117927\n",
      "RUN  6 , total integrated cost =  3.372859007971231\n",
      "RUN  7 , total integrated cost =  3.3724512873436354\n",
      "RUN  8 , total integrated cost =  3.3721573746912368\n",
      "RUN  9 , total integrated cost =  3.3717896652488784\n",
      "RUN  10 , total integrated cost =  3.371544572152446\n",
      "RUN  11 , total integrated cost =  3.3712168377419336\n",
      "RUN  12 , total integrated cost =  3.3710100058623835\n",
      "RUN  13 , total integrated cost =  3.3707339355179964\n",
      "RUN  14 , total integrated cost =  3.370552488023073\n",
      "RUN  15 , total integrated cost =  3.3703094362696233\n",
      "RUN  16 , total integrated cost =  3.370146331071739\n",
      "RUN  17 , total integrated cost =  3.3698999654213524\n",
      "RUN  18 , total integrated cost =  3.3697509412201225\n",
      "RUN  19 , total integrated cost =  3.3695009811723424\n",
      "RUN  20 , total integrated cost =  3.3693786801432943\n",
      "RUN  30 , total integrated cost =  3.367605356504379\n",
      "RUN  40 , total integrated cost =  3.366702303968883\n",
      "RUN  40 , total integrated cost =  3.366702303968883\n",
      "Improved over  40  iterations in  16.252253694998217  seconds by  2.107356115823336  percent.\n",
      "0.0031753204787223974 0.0\n",
      "8.241242234202802e-09 0.0\n",
      "set cost params:  18.240000000000002 0.0 1.0\n",
      "----- 352\n",
      "interpolate adjoint :  True True True\n",
      "RUN  0 , total integrated cost =  3.4888284578999964\n",
      "Gradient descend method:  None\n",
      "RUN  1 , total integrated cost =  3.4211510270702363\n",
      "RUN  2 , total integrated cost =  3.420042844553049\n",
      "RUN  3 , total integrated cost =  3.419128235706842\n",
      "RUN  4 , total integrated cost =  3.418353334008424\n",
      "RUN  5 , total integrated cost =  3.41778063348529\n",
      "RUN  6 , total integrated cost =  3.4170592343923287\n",
      "RUN  7 , total integrated cost =  3.4165055328095146\n",
      "RUN  8 , total integrated cost =  3.415936133753737\n",
      "RUN  9 , total integrated cost =  3.4155155850240084\n",
      "RUN  10 , total integrated cost =  3.4147004623335238\n",
      "RUN  11 , total integrated cost =  3.414160235981818\n",
      "RUN  12 , total integrated cost =  3.4128010172535963\n",
      "RUN  13 , total integrated cost =  3.412277394169563\n",
      "RUN  14 , total integrated cost =  3.412201335125669\n",
      "RUN  15 , total integrated cost =  3.4121170213758356\n",
      "RUN  16 , total integrated cost =  3.4121050867793388\n",
      "RUN  17 , total integrated cost =  3.4120794427638703\n",
      "RUN  18 , total integrated cost =  3.412077522603365\n",
      "RUN  19 , total integrated cost =  3.412061591148164\n",
      "RUN  20 , total integrated cost =  3.4120577954778906\n",
      "RUN  30 , total integrated cost =  3.411930714736329\n",
      "RUN  40 , total integrated cost =  3.411879565729529\n",
      "RUN  40 , total integrated cost =  3.411879565729529\n",
      "Improved over  40  iterations in  16.39055105499574  seconds by  2.2055796981426994  percent.\n",
      "0.0033654105755754208 0.0\n",
      "8.241242234202802e-09 0.0\n",
      "set cost params:  18.235 0.0 1.0\n",
      "----- 353\n",
      "interpolate adjoint :  True True True\n",
      "RUN  0 , total integrated cost =  3.5445014581108496\n",
      "Gradient descend method:  None\n",
      "RUN  1 , total integrated cost =  3.470346533066559\n",
      "RUN  2 , total integrated cost =  3.4692848234275613\n",
      "RUN  3 , total integrated cost =  3.468389887800552\n",
      "RUN  4 , total integrated cost =  3.4675592117835805\n",
      "RUN  5 , total integrated cost =  3.466817752220783\n",
      "RUN  6 , total integrated cost =  3.4662469938848033\n",
      "RUN  7 , total integrated cost =  3.4656543501742236\n",
      "RUN  8 , total integrated cost =  3.46501165996983\n",
      "RUN  9 , total integrated cost =  3.4643668666202814\n",
      "RUN  10 , total integrated cost =  3.4638348423647436\n",
      "RUN  11 , total integrated cost =  3.4633313568215107\n",
      "RUN  12 , total integrated cost =  3.4626514310340903\n",
      "RUN  13 , total integrated cost =  3.4620927458236315\n",
      "RUN  14 , total integrated cost =  3.4614024872590567\n",
      "RUN  15 , total integrated cost =  3.460960511968393\n",
      "RUN  16 , total integrated cost =  3.4608532858646535\n",
      "RUN  17 , total integrated cost =  3.460747610210939\n",
      "RUN  18 , total integrated cost =  3.4606636215612108\n",
      "RUN  19 , total integrated cost =  3.460578272489957\n",
      "RUN  20 , total integrated cost =  3.460505408456314\n",
      "RUN  30 , total integrated cost =  3.460153166001243\n",
      "RUN  40 , total integrated cost =  3.459955487022331\n",
      "RUN  40 , total integrated cost =  3.459955487022331\n",
      "Improved over  40  iterations in  17.886534151002706  seconds by  2.385271161196826  percent.\n",
      "0.0035956928834198097 0.0\n",
      "8.241242234202802e-09 0.0\n",
      "set cost params:  18.23 0.0 1.0\n",
      "----- 354\n",
      "interpolate adjoint :  True True True\n",
      "RUN  0 , total integrated cost =  3.597815479122885\n",
      "Gradient descend method:  None\n",
      "RUN  1 , total integrated cost =  3.5218115416846363\n",
      "RUN  2 , total integrated cost =  3.520036043818268\n",
      "RUN  3 , total integrated cost =  3.5188504988355875\n",
      "RUN  4 , total integrated cost =  3.517699851523429\n",
      "RUN  5 , total integrated cost =  3.5167316427861888\n",
      "RUN  6 , total integrated cost =  3.5159331945713177\n",
      "RUN  7 , total integrated cost =  3.5153083205978706\n",
      "RUN  8 , total integrated cost =  3.514503057951725\n",
      "RUN  9 , total integrated cost =  3.5139425836090523\n",
      "RUN  10 , total integrated cost =  3.5134415931493543\n",
      "RUN  11 , total integrated cost =  3.5131554282312\n",
      "RUN  12 , total integrated cost =  3.5119159334370003\n",
      "RUN  13 , total integrated cost =  3.511725546977456\n",
      "RUN  14 , total integrated cost =  3.511725546977454\n",
      "RUN  15 , total integrated cost =  3.5117255469774538\n",
      "RUN  16 , total integrated cost =  3.5117255469774538\n",
      "Control only changes marginally.\n",
      "RUN  16 , total integrated cost =  3.5117255469774538\n",
      "Improved over  16  iterations in  6.991846454002371  seconds by  2.3928390059186455  percent.\n",
      "0.0037259748097670177 0.0\n",
      "8.241242234202802e-09 0.0\n",
      "set cost params:  18.225 0.0 1.0\n",
      "----- 355\n",
      "interpolate adjoint :  True True True\n",
      "RUN  0 , total integrated cost =  3.686293489179223\n",
      "Gradient descend method:  None\n",
      "RUN  1 , total integrated cost =  3.585851554362474\n",
      "RUN  2 , total integrated cost =  3.5824602365071954\n",
      "RUN  3 , total integrated cost =  3.580199969891499\n",
      "RUN  4 , total integrated cost =  3.575673234798949\n",
      "RUN  5 , total integrated cost =  3.574236039118628\n",
      "RUN  6 , total integrated cost =  3.5740786250257046\n",
      "RUN  7 , total integrated cost =  3.573916945525984\n",
      "RUN  8 , total integrated cost =  3.5738546602573065\n",
      "RUN  9 , total integrated cost =  3.5737771277698123\n",
      "RUN  10 , total integrated cost =  3.573740478586835\n",
      "RUN  11 , total integrated cost =  3.5736882518990845\n",
      "RUN  12 , total integrated cost =  3.5736592513844774\n",
      "RUN  13 , total integrated cost =  3.5736186076400376\n",
      "RUN  14 , total integrated cost =  3.573598002638431\n",
      "RUN  15 , total integrated cost =  3.573567477825639\n",
      "RUN  16 , total integrated cost =  3.5735504171853316\n",
      "RUN  17 , total integrated cost =  3.573517511971921\n",
      "RUN  18 , total integrated cost =  3.573495961710325\n",
      "RUN  19 , total integrated cost =  3.573432641129964\n",
      "RUN  20 , total integrated cost =  3.5733699336628506\n",
      "RUN  30 , total integrated cost =  3.5732096895134724\n",
      "Control only changes marginally.\n",
      "RUN  38 , total integrated cost =  3.573106312566223\n",
      "Improved over  38  iterations in  18.351537352005835  seconds by  3.0704873864560938  percent.\n",
      "0.004023305638084436 0.0\n",
      "8.241242234202802e-09 0.0\n",
      "set cost params:  18.22 0.0 1.0\n",
      "----- 356\n",
      "interpolate adjoint :  True True True\n",
      "RUN  0 , total integrated cost =  3.7287102296887156\n",
      "Gradient descend method:  None\n",
      "RUN  1 , total integrated cost =  3.6444011924874737\n",
      "RUN  2 , total integrated cost =  3.642661083768052\n",
      "RUN  3 , total integrated cost =  3.6409437421608937\n",
      "RUN  4 , total integrated cost =  3.6398436394515143\n",
      "RUN  5 , total integrated cost =  3.6387791569858923\n",
      "RUN  6 , total integrated cost =  3.6382541829456136\n",
      "RUN  7 , total integrated cost =  3.637702311854685\n",
      "RUN  8 , total integrated cost =  3.6373211774845924\n",
      "RUN  9 , total integrated cost =  3.636876586315459\n",
      "RUN  10 , total integrated cost =  3.636586063695082\n",
      "RUN  11 , total integrated cost =  3.6362193827148794\n",
      "RUN  12 , total integrated cost =  3.635989855324068\n",
      "RUN  13 , total integrated cost =  3.635689013197838\n",
      "RUN  14 , total integrated cost =  3.63548468322608\n",
      "RUN  15 , total integrated cost =  3.635234477649121\n",
      "RUN  16 , total integrated cost =  3.635041876099815\n",
      "RUN  17 , total integrated cost =  3.634776356260544\n",
      "RUN  18 , total integrated cost =  3.634630290423752\n",
      "RUN  19 , total integrated cost =  3.634387032948089\n",
      "RUN  20 , total integrated cost =  3.6342477531623434\n",
      "RUN  30 , total integrated cost =  3.632919383011825\n",
      "RUN  40 , total integrated cost =  3.632818038192754\n",
      "RUN  40 , total integrated cost =  3.632818038192754\n",
      "Improved over  40  iterations in  18.046612503996585  seconds by  2.5717254918992865  percent.\n",
      "0.0042301852053668884 0.0\n",
      "8.241242234202802e-09 0.0\n",
      "set cost params:  18.215 0.0 1.0\n",
      "----- 357\n",
      "interpolate adjoint :  True True True\n",
      "RUN  0 , total integrated cost =  3.8362411421858194\n",
      "Gradient descend method:  None\n",
      "RUN  1 , total integrated cost =  3.710812776770912\n",
      "RUN  2 , total integrated cost =  3.7055783460588\n",
      "RUN  3 , total integrated cost =  3.7024094020466154\n",
      "RUN  4 , total integrated cost =  3.7005547512767616\n",
      "RUN  5 , total integrated cost =  3.6992297203960427\n",
      "RUN  6 , total integrated cost =  3.698967988484834\n",
      "RUN  7 , total integrated cost =  3.698622878578921\n",
      "RUN  8 , total integrated cost =  3.698504172812979\n",
      "RUN  9 , total integrated cost =  3.698282127228311\n",
      "RUN  10 , total integrated cost =  3.6982191275282577\n",
      "RUN  11 , total integrated cost =  3.6980893564706347\n",
      "RUN  12 , total integrated cost =  3.6980484308499224\n",
      "RUN  13 , total integrated cost =  3.6979547422941526\n",
      "RUN  14 , total integrated cost =  3.6979255882841993\n",
      "RUN  15 , total integrated cost =  3.697860661486814\n",
      "RUN  16 , total integrated cost =  3.6978344965060574\n",
      "RUN  17 , total integrated cost =  3.6977808155340584\n",
      "RUN  18 , total integrated cost =  3.697744738398488\n",
      "RUN  19 , total integrated cost =  3.697686171830376\n",
      "RUN  20 , total integrated cost =  3.697623801306122\n",
      "RUN  30 , total integrated cost =  3.696885681256293\n",
      "RUN  40 , total integrated cost =  3.6968355326669604\n",
      "RUN  40 , total integrated cost =  3.6968355326669604\n",
      "Improved over  40  iterations in  17.82976967900322  seconds by  3.6339115387159495  percent.\n",
      "0.004545649361360961 0.0\n",
      "8.241242234202802e-09 0.0\n",
      "set cost params:  18.21 0.0 1.0\n",
      "----- 358\n",
      "interpolate adjoint :  True True True\n",
      "RUN  0 , total integrated cost =  3.8792126461076584\n",
      "Gradient descend method:  None\n",
      "RUN  1 , total integrated cost =  3.779379821754785\n",
      "RUN  2 , total integrated cost =  3.7759031354321664\n",
      "RUN  3 , total integrated cost =  3.7732461882916315\n",
      "RUN  4 , total integrated cost =  3.7703113007848628\n",
      "RUN  5 , total integrated cost =  3.7685923837158306\n",
      "RUN  6 , total integrated cost =  3.7671253612022837\n",
      "RUN  7 , total integrated cost =  3.766436404059372\n",
      "RUN  8 , total integrated cost =  3.766396647781908\n",
      "RUN  9 , total integrated cost =  3.7663281528480366\n",
      "RUN  10 , total integrated cost =  3.7663031254838\n",
      "RUN  11 , total integrated cost =  3.7662457479282687\n",
      "RUN  12 , total integrated cost =  3.7662214495117547\n",
      "RUN  13 , total integrated cost =  3.7661718482929003\n",
      "RUN  14 , total integrated cost =  3.766145779202106\n",
      "RUN  15 , total integrated cost =  3.7661061006396563\n",
      "RUN  16 , total integrated cost =  3.7660847798539905\n",
      "RUN  17 , total integrated cost =  3.766053789117571\n",
      "RUN  18 , total integrated cost =  3.766034236366223\n",
      "RUN  19 , total integrated cost =  3.766009790127705\n",
      "RUN  20 , total integrated cost =  3.7659951717891724\n",
      "RUN  30 , total integrated cost =  3.7657400378355277\n",
      "RUN  40 , total integrated cost =  3.7657247786279164\n",
      "RUN  40 , total integrated cost =  3.7657247786279164\n",
      "Improved over  40  iterations in  20.689284366999345  seconds by  2.9255387067685916  percent.\n",
      "0.004866180144555093 0.0\n",
      "8.241242234202802e-09 0.0\n",
      "set cost params:  18.205000000000002 0.0 1.0\n",
      "----- 359\n",
      "interpolate adjoint :  True True True\n",
      "RUN  0 , total integrated cost =  3.9648148268121535\n",
      "Gradient descend method:  None\n",
      "RUN  1 , total integrated cost =  3.854706674395044\n",
      "RUN  2 , total integrated cost =  3.840141297478027\n",
      "RUN  3 , total integrated cost =  3.840084163252527\n",
      "RUN  4 , total integrated cost =  3.8400717745477975\n",
      "RUN  5 , total integrated cost =  3.8400465297390602\n",
      "RUN  6 , total integrated cost =  3.8400454235603565\n",
      "RUN  7 , total integrated cost =  3.840045423560354\n",
      "RUN  8 , total integrated cost =  3.840045423560354\n",
      "Control only changes marginally.\n",
      "RUN  8 , total integrated cost =  3.840045423560354\n",
      "Improved over  8  iterations in  5.491807102000166  seconds by  3.14691627987375  percent.\n",
      "0.005160708756019334 0.0\n",
      "8.241242234202802e-09 0.0\n",
      "set cost params:  18.2 0.0 1.0\n",
      "----- 360\n",
      "interpolate adjoint :  True True True\n",
      "RUN  0 , total integrated cost =  4.067271233373976\n",
      "Gradient descend method:  None\n",
      "RUN  1 , total integrated cost =  3.9371634419713235\n",
      "RUN  2 , total integrated cost =  3.9322159405514676\n",
      "RUN  3 , total integrated cost =  3.9288806896383726\n",
      "RUN  4 , total integrated cost =  3.9202931968450407\n",
      "RUN  5 , total integrated cost =  3.920031779842425\n",
      "RUN  6 , total integrated cost =  3.919763860091432\n",
      "RUN  7 , total integrated cost =  3.9197483157775213\n",
      "RUN  8 , total integrated cost =  3.9197479389965695\n",
      "RUN  9 , total integrated cost =  3.919744213836252\n",
      "RUN  10 , total integrated cost =  3.91974324640152\n",
      "RUN  11 , total integrated cost =  3.919743205148884\n",
      "RUN  12 , total integrated cost =  3.919743200203769\n",
      "RUN  13 , total integrated cost =  3.919743199663773\n",
      "RUN  14 , total integrated cost =  3.919743199651142\n",
      "RUN  15 , total integrated cost =  3.9197431996511414\n",
      "RUN  16 , total integrated cost =  3.919743199651141\n",
      "RUN  17 , total integrated cost =  3.919743199651141\n",
      "Control only changes marginally.\n",
      "RUN  17 , total integrated cost =  3.919743199651141\n",
      "Improved over  17  iterations in  10.552721482003108  seconds by  3.627199300412869  percent.\n",
      "0.00557269321139522 0.0\n",
      "8.241242234202802e-09 0.0\n",
      "set cost params:  18.195 0.0 1.0\n",
      "----- 361\n",
      "interpolate adjoint :  True True True\n",
      "RUN  0 , total integrated cost =  4.200572150058581\n",
      "Gradient descend method:  None\n",
      "RUN  1 , total integrated cost =  4.036262360013205\n",
      "RUN  2 , total integrated cost =  4.028023872540609\n",
      "RUN  3 , total integrated cost =  4.023079707276251\n",
      "RUN  4 , total integrated cost =  4.019216948719742\n",
      "RUN  5 , total integrated cost =  4.017465054488574\n",
      "RUN  6 , total integrated cost =  4.016370199262364\n",
      "RUN  7 , total integrated cost =  4.016257643556433\n",
      "RUN  8 , total integrated cost =  4.016257643556432\n",
      "RUN  9 , total integrated cost =  4.016257643556431\n",
      "RUN  10 , total integrated cost =  4.016257643556431\n",
      "Control only changes marginally.\n",
      "RUN  10 , total integrated cost =  4.016257643556431\n",
      "Improved over  10  iterations in  5.428003606000857  seconds by  4.38784289182081  percent.\n",
      "0.005954215305994122 0.0\n",
      "8.241242234202802e-09 0.0\n",
      "set cost params:  18.19 0.0 1.0\n",
      "----- 362\n",
      "interpolate adjoint :  True True True\n",
      "RUN  0 , total integrated cost =  4.291398450823434\n",
      "Gradient descend method:  None\n",
      "RUN  1 , total integrated cost =  4.132266212601178\n",
      "RUN  2 , total integrated cost =  4.1270077706250206\n",
      "RUN  3 , total integrated cost =  4.1236353816511615\n",
      "RUN  4 , total integrated cost =  4.120625711474212\n",
      "RUN  5 , total integrated cost =  4.1184375407520175\n",
      "RUN  6 , total integrated cost =  4.117105295608753\n",
      "RUN  7 , total integrated cost =  4.116036736470769\n",
      "RUN  8 , total integrated cost =  4.115525384493421\n",
      "RUN  9 , total integrated cost =  4.114931456849381\n",
      "RUN  10 , total integrated cost =  4.114533521841118\n",
      "RUN  11 , total integrated cost =  4.114013506492447\n",
      "RUN  12 , total integrated cost =  4.113679366534034\n",
      "RUN  13 , total integrated cost =  4.11331571164028\n",
      "RUN  14 , total integrated cost =  4.113041521868559\n",
      "RUN  15 , total integrated cost =  4.1127643120286566\n",
      "RUN  16 , total integrated cost =  4.112462310620097\n",
      "RUN  17 , total integrated cost =  4.112183756092002\n",
      "RUN  18 , total integrated cost =  4.110978498953667\n",
      "RUN  19 , total integrated cost =  4.1107591909344325\n",
      "RUN  20 , total integrated cost =  4.110758972148491\n",
      "Control only changes marginally.\n",
      "RUN  25 , total integrated cost =  4.110727403941441\n",
      "Improved over  25  iterations in  12.257420538000588  seconds by  4.2100739176835305  percent.\n",
      "0.006344172419907467 0.0\n",
      "8.241242234202802e-09 0.0\n",
      "set cost params:  18.185 0.0 1.0\n",
      "----- 363\n",
      "interpolate adjoint :  True True True\n",
      "RUN  0 , total integrated cost =  4.41129783882593\n",
      "Gradient descend method:  None\n",
      "RUN  1 , total integrated cost =  4.237159793706402\n",
      "RUN  2 , total integrated cost =  4.223414900417751\n",
      "RUN  3 , total integrated cost =  4.217992561985329\n",
      "RUN  4 , total integrated cost =  4.216957543895033\n",
      "RUN  5 , total integrated cost =  4.21632344406122\n",
      "RUN  6 , total integrated cost =  4.215753651272774\n",
      "RUN  7 , total integrated cost =  4.215338817468474\n",
      "RUN  8 , total integrated cost =  4.214949907304407\n",
      "RUN  9 , total integrated cost =  4.2146989727982\n",
      "RUN  10 , total integrated cost =  4.2144650782374935\n",
      "RUN  11 , total integrated cost =  4.214300574306171\n",
      "RUN  12 , total integrated cost =  4.214079706664234\n",
      "RUN  13 , total integrated cost =  4.213950839475584\n",
      "RUN  14 , total integrated cost =  4.213800548450073\n",
      "RUN  15 , total integrated cost =  4.213694699778789\n",
      "RUN  16 , total integrated cost =  4.213540248323731\n",
      "RUN  17 , total integrated cost =  4.213458609623276\n",
      "RUN  18 , total integrated cost =  4.213335397510411\n",
      "RUN  19 , total integrated cost =  4.21330130235551\n",
      "RUN  20 , total integrated cost =  4.213281479859108\n",
      "RUN  30 , total integrated cost =  4.2132572606752525\n",
      "Control only changes marginally.\n",
      "RUN  38 , total integrated cost =  4.213254602697352\n",
      "Improved over  38  iterations in  17.553750641003717  seconds by  4.489455107417712  percent.\n",
      "0.006742834246466951 0.0\n",
      "8.241242234202802e-09 0.0\n",
      "set cost params:  18.18 0.0 1.0\n",
      "----- 364\n",
      "interpolate adjoint :  True True True\n",
      "RUN  0 , total integrated cost =  4.580475500515091\n",
      "Gradient descend method:  None\n",
      "RUN  1 , total integrated cost =  4.349270225942909\n",
      "RUN  2 , total integrated cost =  4.340105810646508\n",
      "RUN  3 , total integrated cost =  4.334514932706538\n",
      "RUN  4 , total integrated cost =  4.325516515183261\n",
      "RUN  5 , total integrated cost =  4.325470228152191\n",
      "RUN  6 , total integrated cost =  4.325437285534962\n",
      "RUN  7 , total integrated cost =  4.325411094422539\n",
      "RUN  8 , total integrated cost =  4.325385084662521\n",
      "RUN  9 , total integrated cost =  4.325350726860335\n",
      "RUN  10 , total integrated cost =  4.325323163914667\n",
      "RUN  11 , total integrated cost =  4.325293559731095\n",
      "RUN  12 , total integrated cost =  4.325271973153948\n",
      "RUN  13 , total integrated cost =  4.325241021089872\n",
      "RUN  14 , total integrated cost =  4.325227387312527\n",
      "RUN  15 , total integrated cost =  4.325212644225661\n",
      "RUN  16 , total integrated cost =  4.325193651390676\n",
      "RUN  17 , total integrated cost =  4.32519250608586\n",
      "RUN  18 , total integrated cost =  4.3251896334568185\n",
      "RUN  19 , total integrated cost =  4.325178852712144\n",
      "RUN  20 , total integrated cost =  4.325178660726688\n",
      "Control only changes marginally.\n",
      "RUN  23 , total integrated cost =  4.325178659523626\n",
      "Improved over  23  iterations in  10.523978220000572  seconds by  5.573588177968759  percent.\n",
      "0.007247740664887937 0.0\n",
      "8.241242234202802e-09 0.0\n",
      "set cost params:  18.175 0.0 1.0\n",
      "----- 365\n",
      "interpolate adjoint :  True True True\n",
      "RUN  0 , total integrated cost =  4.681117650266778\n",
      "Gradient descend method:  None\n",
      "RUN  1 , total integrated cost =  4.474950885628432\n",
      "RUN  2 , total integrated cost =  4.454970130910512\n",
      "RUN  3 , total integrated cost =  4.449071401414999\n",
      "RUN  4 , total integrated cost =  4.4482733262842\n",
      "RUN  5 , total integrated cost =  4.447946957849893\n",
      "RUN  6 , total integrated cost =  4.447531067266206\n",
      "RUN  7 , total integrated cost =  4.447329555246427\n",
      "RUN  8 , total integrated cost =  4.447289065382037\n",
      "RUN  9 , total integrated cost =  4.447218040026326\n",
      "RUN  10 , total integrated cost =  4.447198075981514\n",
      "RUN  11 , total integrated cost =  4.447137519111359\n",
      "RUN  12 , total integrated cost =  4.447122158493869\n",
      "RUN  13 , total integrated cost =  4.447063943438706\n",
      "RUN  14 , total integrated cost =  4.447044046501089\n",
      "RUN  15 , total integrated cost =  4.446994073567748\n",
      "RUN  16 , total integrated cost =  4.446984282528676\n",
      "RUN  17 , total integrated cost =  4.4469390830966695\n",
      "RUN  18 , total integrated cost =  4.44693857107199\n",
      "RUN  19 , total integrated cost =  4.446938039589462\n",
      "RUN  20 , total integrated cost =  4.446937453009121\n",
      "RUN  30 , total integrated cost =  4.446935563796652\n",
      "Control only changes marginally.\n",
      "RUN  31 , total integrated cost =  4.446935563796652\n",
      "Improved over  31  iterations in  14.532169060999877  seconds by  5.002696021895105  percent.\n",
      "0.007821347349599042 0.0\n",
      "8.241242234202802e-09 0.0\n",
      "set cost params:  18.169999999999998 0.0 1.0\n",
      "----- 366\n",
      "interpolate adjoint :  True True True\n",
      "RUN  0 , total integrated cost =  4.846584359614875\n",
      "Gradient descend method:  None\n",
      "RUN  1 , total integrated cost =  4.610930466663022\n",
      "RUN  2 , total integrated cost =  4.585664426738998\n",
      "RUN  3 , total integrated cost =  4.581607936160994\n",
      "RUN  4 , total integrated cost =  4.581290332253759\n",
      "RUN  5 , total integrated cost =  4.580990586587565\n",
      "RUN  6 , total integrated cost =  4.580687545768509\n",
      "RUN  7 , total integrated cost =  4.580450411380884\n",
      "RUN  8 , total integrated cost =  4.579846825857583\n",
      "RUN  9 , total integrated cost =  4.579783166347484\n",
      "RUN  10 , total integrated cost =  4.579783166347482\n",
      "RUN  11 , total integrated cost =  4.579783166347482\n",
      "Control only changes marginally.\n",
      "RUN  11 , total integrated cost =  4.579783166347482\n",
      "Improved over  11  iterations in  4.735342578002019  seconds by  5.504932411587973  percent.\n",
      "0.008498578567618023 0.0\n",
      "8.241242234202802e-09 0.0\n",
      "set cost params:  18.165 0.0 1.0\n",
      "----- 367\n",
      "interpolate adjoint :  True True True\n",
      "RUN  0 , total integrated cost =  5.021786259422164\n",
      "Gradient descend method:  None\n",
      "RUN  1 , total integrated cost =  4.759914118176993\n",
      "RUN  2 , total integrated cost =  4.746465372023424\n",
      "RUN  3 , total integrated cost =  4.739338642810951\n",
      "RUN  4 , total integrated cost =  4.7349590048053765\n",
      "RUN  5 , total integrated cost =  4.732075001487214\n",
      "RUN  6 , total integrated cost =  4.727976078367139\n",
      "RUN  7 , total integrated cost =  4.7261415663504485\n",
      "RUN  8 , total integrated cost =  4.725019081599372\n",
      "RUN  9 , total integrated cost =  4.7249789110739115\n",
      "RUN  10 , total integrated cost =  4.724946630318677\n",
      "RUN  11 , total integrated cost =  4.724946143199864\n",
      "RUN  12 , total integrated cost =  4.72494614319986\n",
      "RUN  13 , total integrated cost =  4.72494614319986\n",
      "Control only changes marginally.\n",
      "RUN  13 , total integrated cost =  4.72494614319986\n",
      "Improved over  13  iterations in  6.126378437998937  seconds by  5.911046406353037  percent.\n",
      "0.009143599553387761 0.0\n",
      "8.241242234202802e-09 0.0\n",
      "set cost params:  18.16 0.0 1.0\n",
      "----- 368\n",
      "interpolate adjoint :  True True True\n",
      "RUN  0 , total integrated cost =  5.3113050561736355\n",
      "Gradient descend method:  None\n",
      "RUN  1 , total integrated cost =  4.949894983991322\n",
      "RUN  2 , total integrated cost =  4.9072056827457935\n",
      "RUN  3 , total integrated cost =  4.905804617752077\n",
      "RUN  4 , total integrated cost =  4.905095436468804\n",
      "RUN  5 , total integrated cost =  4.904518723698858\n",
      "RUN  6 , total integrated cost =  4.904442216181297\n",
      "RUN  7 , total integrated cost =  4.904326724400629\n",
      "RUN  8 , total integrated cost =  4.904239876264645\n",
      "RUN  9 , total integrated cost =  4.90409710265878\n",
      "RUN  10 , total integrated cost =  4.903970778416269\n",
      "RUN  11 , total integrated cost =  4.903895426790804\n",
      "RUN  12 , total integrated cost =  4.903812204989033\n",
      "RUN  13 , total integrated cost =  4.903737782054951\n",
      "RUN  14 , total integrated cost =  4.903696049718484\n",
      "RUN  15 , total integrated cost =  4.903689512713517\n",
      "RUN  16 , total integrated cost =  4.903676904232946\n",
      "RUN  17 , total integrated cost =  4.90367084345889\n",
      "RUN  18 , total integrated cost =  4.903660629676001\n",
      "RUN  19 , total integrated cost =  4.9036560211796205\n",
      "RUN  20 , total integrated cost =  4.903655416567684\n",
      "Control only changes marginally.\n",
      "RUN  22 , total integrated cost =  4.903655402058421\n",
      "Improved over  22  iterations in  10.466685455998231  seconds by  7.675131625915171  percent.\n",
      "0.010120552860278681 0.0\n",
      "8.241242234202802e-09 0.0\n",
      "set cost params:  18.155 0.0 1.0\n",
      "----- 369\n",
      "interpolate adjoint :  True True True\n",
      "RUN  0 , total integrated cost =  5.4757078230418035\n",
      "Gradient descend method:  None\n",
      "RUN  1 , total integrated cost =  5.1326932254754185\n",
      "RUN  2 , total integrated cost =  5.101935003718462\n",
      "RUN  3 , total integrated cost =  5.093033916429861\n",
      "RUN  4 , total integrated cost =  5.089721885899933\n",
      "RUN  5 , total integrated cost =  5.087996752831198\n",
      "RUN  6 , total integrated cost =  5.085655659111786\n",
      "RUN  7 , total integrated cost =  5.085114373974511\n",
      "RUN  8 , total integrated cost =  5.0848162537858475\n",
      "RUN  9 , total integrated cost =  5.084761403420428\n",
      "RUN  10 , total integrated cost =  5.084737392475772\n",
      "RUN  11 , total integrated cost =  5.084729987777097\n",
      "RUN  12 , total integrated cost =  5.084724528199843\n",
      "RUN  13 , total integrated cost =  5.084722267810144\n",
      "RUN  14 , total integrated cost =  5.084721428441857\n",
      "RUN  15 , total integrated cost =  5.084718084492962\n",
      "RUN  16 , total integrated cost =  5.084717889115849\n",
      "RUN  17 , total integrated cost =  5.084717654768618\n",
      "RUN  18 , total integrated cost =  5.084716615776325\n",
      "RUN  19 , total integrated cost =  5.084716615776323\n",
      "RUN  20 , total integrated cost =  5.084716615776323\n",
      "Control only changes marginally.\n",
      "RUN  20 , total integrated cost =  5.084716615776323\n",
      "Improved over  20  iterations in  8.43324631100404  seconds by  7.140468774104207  percent.\n",
      "0.010986640457275121 0.0\n",
      "8.241242234202802e-09 0.0\n",
      "set cost params:  18.15 0.0 1.0\n",
      "----- 370\n",
      "interpolate adjoint :  True True True\n",
      "RUN  0 , total integrated cost =  5.840991279505696\n",
      "Gradient descend method:  None\n",
      "RUN  1 , total integrated cost =  5.339636202243205\n",
      "RUN  2 , total integrated cost =  5.293521517150663\n",
      "RUN  3 , total integrated cost =  5.292636535215537\n",
      "RUN  4 , total integrated cost =  5.292100227769146\n",
      "RUN  5 , total integrated cost =  5.2916113934969085\n",
      "RUN  6 , total integrated cost =  5.291434240336531\n",
      "RUN  7 , total integrated cost =  5.291234202784926\n",
      "RUN  8 , total integrated cost =  5.2911548932985735\n",
      "RUN  9 , total integrated cost =  5.291055364671188\n",
      "RUN  10 , total integrated cost =  5.29100923625775\n",
      "RUN  11 , total integrated cost =  5.290996146178049\n",
      "RUN  12 , total integrated cost =  5.290967415570081\n",
      "RUN  13 , total integrated cost =  5.290966757267877\n",
      "RUN  14 , total integrated cost =  5.29096644994468\n",
      "RUN  15 , total integrated cost =  5.290965317945685\n",
      "RUN  16 , total integrated cost =  5.290950420741897\n",
      "RUN  17 , total integrated cost =  5.290950420741894\n",
      "RUN  18 , total integrated cost =  5.290950420741893\n",
      "RUN  19 , total integrated cost =  5.290950420741893\n",
      "Control only changes marginally.\n",
      "RUN  19 , total integrated cost =  5.290950420741893\n",
      "Improved over  19  iterations in  7.724812946005841  seconds by  9.416909432714476  percent.\n",
      "0.01203909311640005 0.0\n",
      "8.241242234202802e-09 0.0\n",
      "set cost params:  18.145 0.0 1.0\n",
      "----- 371\n",
      "interpolate adjoint :  True True True\n",
      "RUN  0 , total integrated cost =  6.121791987726253\n",
      "Gradient descend method:  None\n",
      "RUN  1 , total integrated cost =  5.593516820980005\n",
      "RUN  2 , total integrated cost =  5.533717948150742\n",
      "RUN  3 , total integrated cost =  5.531823599670831\n",
      "RUN  4 , total integrated cost =  5.530887408439911\n",
      "RUN  5 , total integrated cost =  5.5300344622615745\n",
      "RUN  6 , total integrated cost =  5.52943770615333\n",
      "RUN  7 , total integrated cost =  5.528910544812089\n",
      "RUN  8 , total integrated cost =  5.528556889688709\n",
      "RUN  9 , total integrated cost =  5.528142466658589\n",
      "RUN  10 , total integrated cost =  5.527854623704797\n",
      "RUN  11 , total integrated cost =  5.527637297641655\n",
      "RUN  12 , total integrated cost =  5.5274644503507195\n",
      "RUN  13 , total integrated cost =  5.527239877860345\n",
      "RUN  14 , total integrated cost =  5.527121854839748\n",
      "RUN  15 , total integrated cost =  5.52705020547207\n",
      "RUN  16 , total integrated cost =  5.527029413700308\n",
      "RUN  17 , total integrated cost =  5.527005666213799\n",
      "RUN  18 , total integrated cost =  5.5269992535779515\n",
      "RUN  19 , total integrated cost =  5.526998416141275\n",
      "RUN  20 , total integrated cost =  5.526998416141272\n",
      "Control only changes marginally.\n",
      "RUN  21 , total integrated cost =  5.526998416141272\n",
      "Improved over  21  iterations in  7.948760933999438  seconds by  9.71600428073181  percent.\n",
      "0.013221031820117081 0.0\n",
      "8.241242234202802e-09 0.0\n",
      "set cost params:  18.14 0.0 1.0\n",
      "----- 372\n",
      "interpolate adjoint :  True True True\n",
      "RUN  0 , total integrated cost =  6.518301178613868\n",
      "Gradient descend method:  None\n",
      "RUN  1 , total integrated cost =  5.87647675980556\n",
      "RUN  2 , total integrated cost =  5.846871123565782\n",
      "RUN  3 , total integrated cost =  5.831150195131942\n",
      "RUN  4 , total integrated cost =  5.815454423787841\n",
      "RUN  5 , total integrated cost =  5.808176695550214\n",
      "RUN  6 , total integrated cost =  5.802323938524379\n",
      "RUN  7 , total integrated cost =  5.799504668283311\n",
      "RUN  8 , total integrated cost =  5.7978289935544165\n",
      "RUN  9 , total integrated cost =  5.797197795187971\n",
      "RUN  10 , total integrated cost =  5.796807185482671\n",
      "RUN  11 , total integrated cost =  5.796518784060198\n",
      "RUN  12 , total integrated cost =  5.796374628527284\n",
      "RUN  13 , total integrated cost =  5.796268871403915\n",
      "RUN  14 , total integrated cost =  5.796105835908619\n",
      "RUN  15 , total integrated cost =  5.7960927217623635\n",
      "RUN  16 , total integrated cost =  5.796092721762363\n",
      "RUN  17 , total integrated cost =  5.796092721762363\n",
      "Control only changes marginally.\n",
      "RUN  17 , total integrated cost =  5.796092721762363\n",
      "Improved over  17  iterations in  6.250614960998064  seconds by  11.079703699807936  percent.\n",
      "0.014428291240867357 0.0\n",
      "8.241242234202802e-09 0.0\n",
      "set cost params:  18.134999999999998 0.0 1.0\n",
      "----- 373\n",
      "interpolate adjoint :  True True True\n",
      "RUN  0 , total integrated cost =  6.927980459122201\n",
      "Gradient descend method:  None\n",
      "RUN  1 , total integrated cost =  6.181694233315845\n",
      "RUN  2 , total integrated cost =  6.130224928498039\n",
      "RUN  3 , total integrated cost =  6.110009579360986\n",
      "RUN  4 , total integrated cost =  6.095076604484261\n",
      "RUN  5 , total integrated cost =  6.092273133930324\n",
      "RUN  6 , total integrated cost =  6.091151551592872\n",
      "RUN  7 , total integrated cost =  6.090959168846836\n",
      "RUN  8 , total integrated cost =  6.0907993812494325\n",
      "RUN  9 , total integrated cost =  6.090798909207528\n",
      "RUN  10 , total integrated cost =  6.090798909207528\n",
      "Control only changes marginally.\n",
      "RUN  10 , total integrated cost =  6.090798909207528\n",
      "Improved over  10  iterations in  3.564095638997969  seconds by  12.08406338404636  percent.\n",
      "0.015996345321503357 0.0\n",
      "8.241242234202802e-09 0.0\n",
      "set cost params:  18.130000000000003 0.0 1.0\n",
      "----- 374\n",
      "interpolate adjoint :  True True True\n",
      "RUN  0 , total integrated cost =  7.267767616970766\n",
      "Gradient descend method:  None\n",
      "RUN  1 , total integrated cost =  6.493382940847132\n",
      "RUN  2 , total integrated cost =  6.413549126637034\n",
      "RUN  3 , total integrated cost =  6.4090399649455385\n",
      "RUN  4 , total integrated cost =  6.404153877987715\n",
      "RUN  5 , total integrated cost =  6.401563534909598\n",
      "RUN  6 , total integrated cost =  6.399212346494467\n",
      "RUN  7 , total integrated cost =  6.398100990791375\n",
      "RUN  8 , total integrated cost =  6.397104092966561\n",
      "RUN  9 , total integrated cost =  6.396773233586427\n",
      "RUN  10 , total integrated cost =  6.396439480443569\n",
      "RUN  11 , total integrated cost =  6.396301469546076\n",
      "RUN  12 , total integrated cost =  6.396301265950652\n",
      "RUN  13 , total integrated cost =  6.396301265950651\n",
      "RUN  14 , total integrated cost =  6.396301265950651\n",
      "Control only changes marginally.\n",
      "RUN  14 , total integrated cost =  6.396301265950651\n",
      "Improved over  14  iterations in  5.063592201004212  seconds by  11.990839511505257  percent.\n",
      "0.017479681883620014 0.0\n",
      "8.241242234202802e-09 0.0\n",
      "set cost params:  18.125 0.0 1.0\n",
      "----- 375\n",
      "interpolate adjoint :  True True True\n",
      "RUN  0 , total integrated cost =  7.5115039332379085\n",
      "Gradient descend method:  None\n",
      "RUN  1 , total integrated cost =  6.803373746208339\n",
      "RUN  2 , total integrated cost =  6.736617884724432\n",
      "RUN  3 , total integrated cost =  6.721656658091435\n",
      "RUN  4 , total integrated cost =  6.714392126035729\n",
      "RUN  5 , total integrated cost =  6.709818817241984\n",
      "RUN  6 , total integrated cost =  6.707655437027846\n",
      "RUN  7 , total integrated cost =  6.706509470695032\n",
      "RUN  8 , total integrated cost =  6.70569726020855\n",
      "RUN  9 , total integrated cost =  6.705214385455414\n",
      "RUN  10 , total integrated cost =  6.705154097336361\n",
      "RUN  11 , total integrated cost =  6.705062298197996\n",
      "RUN  12 , total integrated cost =  6.7050093485272075\n",
      "RUN  13 , total integrated cost =  6.704664988308059\n",
      "RUN  14 , total integrated cost =  6.70463801265163\n",
      "RUN  15 , total integrated cost =  6.704637391616236\n",
      "RUN  16 , total integrated cost =  6.704637384672003\n",
      "RUN  17 , total integrated cost =  6.7046373846548\n",
      "RUN  18 , total integrated cost =  6.7046373846547995\n",
      "RUN  19 , total integrated cost =  6.7046373846547995\n",
      "Control only changes marginally.\n",
      "RUN  19 , total integrated cost =  6.7046373846547995\n",
      "Improved over  19  iterations in  6.663551015000849  seconds by  10.741744339808946  percent.\n",
      "0.018527113249666285 0.0\n",
      "8.241242234202802e-09 0.0\n",
      "set cost params:  18.119999999999997 0.0 1.0\n",
      "----- 376\n",
      "interpolate adjoint :  True True True\n",
      "RUN  0 , total integrated cost =  7.872567568188522\n",
      "Gradient descend method:  None\n",
      "RUN  1 , total integrated cost =  7.144775618671169\n",
      "RUN  2 , total integrated cost =  7.061920493636584\n",
      "RUN  3 , total integrated cost =  7.05200242987949\n",
      "RUN  4 , total integrated cost =  7.045783759128048\n",
      "RUN  5 , total integrated cost =  7.041880864546425\n",
      "RUN  6 , total integrated cost =  7.04022944007597\n",
      "RUN  7 , total integrated cost =  7.038417723259249\n",
      "RUN  8 , total integrated cost =  7.037825526117609\n",
      "RUN  9 , total integrated cost =  7.036811418278185\n",
      "RUN  10 , total integrated cost =  7.036398155300688\n",
      "RUN  11 , total integrated cost =  7.035641034695062\n",
      "RUN  12 , total integrated cost =  7.035370658240925\n",
      "RUN  13 , total integrated cost =  7.034807629398152\n",
      "RUN  14 , total integrated cost =  7.034577505480914\n",
      "RUN  15 , total integrated cost =  7.03409569208049\n",
      "RUN  16 , total integrated cost =  7.033945776672965\n",
      "RUN  17 , total integrated cost =  7.033659479241174\n",
      "RUN  18 , total integrated cost =  7.033540465287884\n",
      "RUN  19 , total integrated cost =  7.033314521557312\n",
      "RUN  20 , total integrated cost =  7.033310431054707\n",
      "RUN  30 , total integrated cost =  7.033267830029365\n",
      "Control only changes marginally.\n",
      "RUN  33 , total integrated cost =  7.033267830029202\n",
      "Improved over  33  iterations in  11.785073207000096  seconds by  10.661067445781768  percent.\n",
      "0.020266946832601475 0.0\n",
      "8.241242234202802e-09 0.0\n",
      "set cost params:  18.115000000000002 0.0 1.0\n",
      "----- 377\n",
      "interpolate adjoint :  True True True\n",
      "RUN  0 , total integrated cost =  9.058455181023328\n",
      "Gradient descend method:  None\n",
      "RUN  1 , total integrated cost =  7.593523579868308\n",
      "RUN  2 , total integrated cost =  7.496725993547878\n",
      "RUN  3 , total integrated cost =  7.48473037242544\n",
      "RUN  4 , total integrated cost =  7.474819992539879\n",
      "RUN  5 , total integrated cost =  7.468089692725032\n",
      "RUN  6 , total integrated cost =  7.46365679577505\n",
      "RUN  7 , total integrated cost =  7.460743142971451\n",
      "RUN  8 , total integrated cost =  7.458122920882577\n",
      "RUN  9 , total integrated cost =  7.456453099519109\n",
      "RUN  10 , total integrated cost =  7.454615058216569\n",
      "RUN  11 , total integrated cost =  7.4535663929441665\n",
      "RUN  12 , total integrated cost =  7.452673274555014\n",
      "RUN  13 , total integrated cost =  7.452039348658923\n",
      "RUN  14 , total integrated cost =  7.451642641603703\n",
      "RUN  15 , total integrated cost =  7.45139002961884\n",
      "RUN  16 , total integrated cost =  7.450999888020299\n",
      "RUN  17 , total integrated cost =  7.450999713355447\n",
      "RUN  18 , total integrated cost =  7.450999306494267\n",
      "RUN  19 , total integrated cost =  7.4509992942475725\n",
      "RUN  20 , total integrated cost =  7.45099929424757\n",
      "Control only changes marginally.\n",
      "RUN  21 , total integrated cost =  7.45099929424757\n",
      "Improved over  21  iterations in  7.500627869005257  seconds by  17.745364465049605  percent.\n",
      "0.021954926471878623 0.0\n",
      "8.241242234202802e-09 0.0\n",
      "set cost params:  18.11 0.0 1.0\n",
      "----- 378\n",
      "interpolate adjoint :  True True True\n",
      "RUN  0 , total integrated cost =  11.625953421630495\n",
      "Gradient descend method:  None\n",
      "RUN  1 , total integrated cost =  8.36621894858162\n",
      "RUN  2 , total integrated cost =  8.184849165888288\n",
      "RUN  3 , total integrated cost =  8.147002369860475\n",
      "RUN  4 , total integrated cost =  8.11437552920688\n",
      "RUN  5 , total integrated cost =  8.098431335568264\n",
      "RUN  6 , total integrated cost =  8.08933596980871\n",
      "RUN  7 , total integrated cost =  8.083275592368695\n",
      "RUN  8 , total integrated cost =  8.079872875413978\n",
      "RUN  9 , total integrated cost =  8.077949254722444\n",
      "RUN  10 , total integrated cost =  8.076567062329417\n",
      "RUN  11 , total integrated cost =  8.075490746095394\n",
      "RUN  12 , total integrated cost =  8.074751130770306\n",
      "RUN  13 , total integrated cost =  8.074234743565018\n",
      "RUN  14 , total integrated cost =  8.073848673477247\n",
      "RUN  15 , total integrated cost =  8.073623227514073\n",
      "RUN  16 , total integrated cost =  8.073446684420446\n",
      "RUN  17 , total integrated cost =  8.073414680821296\n",
      "RUN  18 , total integrated cost =  8.073413333613821\n",
      "RUN  19 , total integrated cost =  8.073382653448855\n",
      "RUN  20 , total integrated cost =  8.073374546023171\n",
      "Control only changes marginally.\n",
      "RUN  24 , total integrated cost =  8.073374388906638\n",
      "Improved over  24  iterations in  8.885351921999245  seconds by  30.557313485482908  percent.\n",
      "0.02505609704688316 0.0\n",
      "8.241242234202802e-09 0.0\n",
      "set cost params:  18.105 0.0 1.0\n",
      "----- 379\n",
      "interpolate adjoint :  True True True\n",
      "RUN  0 , total integrated cost =  27.61960985019264\n",
      "Gradient descend method:  None\n",
      "RUN  1 , total integrated cost =  23.37663809567678\n",
      "RUN  2 , total integrated cost =  23.220770035150984\n",
      "RUN  3 , total integrated cost =  23.190305342156254\n",
      "RUN  4 , total integrated cost =  23.171083481285855\n",
      "RUN  5 , total integrated cost =  23.16027507557562\n",
      "RUN  6 , total integrated cost =  23.153695754409654\n",
      "RUN  7 , total integrated cost =  23.150053326631813\n",
      "RUN  8 , total integrated cost =  23.147734915008122\n",
      "RUN  9 , total integrated cost =  23.146562739252985\n",
      "RUN  10 , total integrated cost =  23.14576804248415\n",
      "RUN  11 , total integrated cost =  23.1453831029089\n",
      "RUN  12 , total integrated cost =  23.14513922533856\n",
      "RUN  13 , total integrated cost =  23.145003202875653\n",
      "RUN  14 , total integrated cost =  23.144883128149367\n",
      "RUN  15 , total integrated cost =  23.144840556903226\n",
      "RUN  16 , total integrated cost =  23.1448270364582\n",
      "RUN  17 , total integrated cost =  23.144824013715176\n",
      "RUN  18 , total integrated cost =  23.144820406207153\n",
      "RUN  19 , total integrated cost =  23.144819655540175\n",
      "RUN  20 , total integrated cost =  23.144819623994053\n",
      "Control only changes marginally.\n",
      "RUN  26 , total integrated cost =  23.144819304827436\n",
      "Improved over  26  iterations in  10.519218272995204  seconds by  16.201498028524796  percent.\n",
      "0.8557739812745975 0.0\n",
      "8.241242234202802e-09 0.0\n",
      "set cost params:  18.1 0.0 1.0\n",
      "----- 380\n",
      "interpolate adjoint :  True True True\n",
      "RUN  0 , total integrated cost =  4261.486076335981\n",
      "Gradient descend method:  None\n",
      "RUN  1 , total integrated cost =  4259.903375094939\n",
      "RUN  2 , total integrated cost =  4259.736749394105\n",
      "RUN  3 , total integrated cost =  4259.7030608988925\n",
      "RUN  4 , total integrated cost =  4259.682203777425\n",
      "RUN  5 , total integrated cost =  4259.6706669726755\n",
      "RUN  6 , total integrated cost =  4259.663574262736\n",
      "RUN  7 , total integrated cost =  4259.659502020011\n",
      "RUN  8 , total integrated cost =  4259.657125406712\n",
      "RUN  9 , total integrated cost =  4259.655846552827\n",
      "RUN  10 , total integrated cost =  4259.655085997444\n",
      "RUN  11 , total integrated cost =  4259.654730128866\n",
      "RUN  12 , total integrated cost =  4259.654526319536\n",
      "RUN  13 , total integrated cost =  4259.654426180929\n",
      "RUN  14 , total integrated cost =  4259.654347015311\n",
      "RUN  15 , total integrated cost =  4259.654316389556\n",
      "RUN  16 , total integrated cost =  4259.654302846751\n",
      "RUN  17 , total integrated cost =  4259.65430018234\n",
      "RUN  18 , total integrated cost =  4259.65429619125\n",
      "RUN  19 , total integrated cost =  4259.654295298145\n",
      "RUN  20 , total integrated cost =  4259.654294274123\n",
      "Control only changes marginally.\n",
      "RUN  25 , total integrated cost =  4259.65429404877\n",
      "Improved over  25  iterations in  8.541483228997095  seconds by  0.04298458928172977  percent.\n",
      "234.9173143852135 0.0\n",
      "8.241242234202802e-09 0.0\n"
     ]
    }
   ],
   "metadata": {
    "scrolled": true
   }
  },
  {
   "cell_type": "code",
   "execution_count": null,
   "source": [],
   "outputs": [],
   "metadata": {}
  }
 ],
 "metadata": {
  "kernelspec": {
   "name": "python3",
   "display_name": "Python 3.9.5 64-bit"
  },
  "language_info": {
   "codemirror_mode": {
    "name": "ipython",
    "version": 3
   },
   "file_extension": ".py",
   "mimetype": "text/x-python",
   "name": "python",
   "nbconvert_exporter": "python",
   "pygments_lexer": "ipython3",
   "version": "3.9.5"
  },
  "interpreter": {
   "hash": "916dbcbb3f70747c44a77c7bcd40155683ae19c65e1c03b4aa3499c5328201f1"
  }
 },
 "nbformat": 4,
 "nbformat_minor": 4
}