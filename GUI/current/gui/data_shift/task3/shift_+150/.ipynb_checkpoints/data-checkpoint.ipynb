{
 "cells": [
  {
   "cell_type": "code",
   "execution_count": 1,
   "metadata": {},
   "outputs": [
    {
     "name": "stdout",
     "output_type": "stream",
     "text": [
      "The autoreload extension is already loaded. To reload it, use:\n",
      "  %reload_ext autoreload\n"
     ]
    }
   ],
   "source": [
    "import matplotlib.pyplot as plt\n",
    "import numpy as np\n",
    "import os\n",
    "import sys\n",
    "import pickle\n",
    "\n",
    "path = os.getcwd().split(os.sep + 'GUI')[0]\n",
    "if path not in sys.path:\n",
    "    print(\"not here\")\n",
    "    sys.path.append(path)\n",
    "\n",
    "from neurolib.models.aln import ALNModel\n",
    "from neurolib.utils import plotFunctions as plotFunc\n",
    "from neurolib.utils import costFunctions as cost\n",
    "import neurolib.dashboard.functions as functions\n",
    "import neurolib.dashboard.data as data\n",
    "    \n",
    "# This will reload all imports as soon as the code changes\n",
    "%load_ext autoreload\n",
    "%autoreload 2 \n",
    "\n",
    "#path = os.path.join(os.getcwd(), \"plots\")"
   ]
  },
  {
   "cell_type": "markdown",
   "metadata": {},
   "source": [
    "### Bistability"
   ]
  },
  {
   "cell_type": "code",
   "execution_count": 2,
   "metadata": {},
   "outputs": [],
   "source": [
    "aln = ALNModel()\n",
    "N = aln.params.N\n",
    "\n",
    "data.set_parameters(aln)\n",
    "\n",
    "state_vars = aln.state_vars\n",
    "init_vars = aln.init_vars\n",
    "\n",
    "##############################################################\n",
    "def setinit(init_vars_, model):\n",
    "    state_vars = model.state_vars\n",
    "    init_vars = model.init_vars\n",
    "    for iv in range(len(init_vars)):\n",
    "        for sv in range(len(state_vars)):\n",
    "            if state_vars[sv] in init_vars[iv]:\n",
    "                #print(\"set init vars \", )\n",
    "                if model.params[init_vars[iv]].ndim == 2:\n",
    "                    model.params[init_vars[iv]][0,:] = init_vars_[sv]\n",
    "                else:\n",
    "                    model.params[init_vars[iv]][0] = init_vars_[sv]\n",
    "                    \n",
    "##############################################################               \n",
    "def setmaxmincontrol(max_c_c, min_c_c, max_c_r, min_c_r):\n",
    "    import numpy as np\n",
    "    \n",
    "    max_cntrl = np.zeros(( 6 ))\n",
    "    min_cntrl = np.zeros(( 6 ))\n",
    "    \n",
    "    max_cntrl[0] = max_c_c\n",
    "    min_cntrl[0] = min_c_c\n",
    "    max_cntrl[1] = max_c_c\n",
    "    min_cntrl[1] = min_c_c\n",
    "    max_cntrl[2] = max_c_r\n",
    "    min_cntrl[2] = min_c_r\n",
    "    max_cntrl[3] = max_c_r\n",
    "    min_cntrl[3] = min_c_r\n",
    "    max_cntrl[4] = max_c_r\n",
    "    min_cntrl[4] = min_c_r\n",
    "    max_cntrl[5] = max_c_r\n",
    "    min_cntrl[5] = min_c_r\n",
    "            \n",
    "    return max_cntrl, min_cntrl"
   ]
  },
  {
   "cell_type": "code",
   "execution_count": 3,
   "metadata": {},
   "outputs": [
    {
     "name": "stdout",
     "output_type": "stream",
     "text": [
      "147\n"
     ]
    }
   ],
   "source": [
    "##### LOAD BOUNDARIES\n",
    "data_file = 'bi.pickle'\n",
    "with open(data_file,'rb') as f:\n",
    "    load_array= pickle.load(f)\n",
    "exc = load_array[0]\n",
    "inh = load_array[1]\n",
    "print(len(exc))\n",
    "#plt.scatter(exc, inh)"
   ]
  },
  {
   "cell_type": "code",
   "execution_count": 4,
   "metadata": {},
   "outputs": [],
   "source": [
    "bestControl_init = [None] * len(exc)\n",
    "bestState_init = [None] * len(exc)\n",
    "cost_init = [None] * len(exc)\n",
    "runtime_init = [None] * len(exc)\n",
    "grad_init = [None] * len(exc)\n",
    "phi_init = [None] * len(exc)\n",
    "costnode_init = [None] * len(exc)\n",
    "weights_init = [None] * len(exc)\n",
    "\n",
    "conv_init = [[False]*2] * len(exc)"
   ]
  },
  {
   "cell_type": "code",
   "execution_count": 5,
   "metadata": {},
   "outputs": [],
   "source": [
    "initVars = [None] * len(exc)\n",
    "target = [None] * len(exc)\n",
    "cost_uncontrolled = [None] * len(exc)\n",
    "\n",
    "cgv_list = [None, \"HS\", \"FR\", \"PR\", \"CD\", \"LS\", \"DY\", \"WYL\", \"HZ\", None]"
   ]
  },
  {
   "cell_type": "code",
   "execution_count": 6,
   "metadata": {},
   "outputs": [],
   "source": [
    "case = '10161'\n",
    "\n",
    "dur_pre = 10\n",
    "dur_post = 10\n",
    "\n",
    "n_pre = int(np.around(dur_pre/aln.params.dt + 1.,1))\n",
    "n_post = int(np.around(dur_post/aln.params.dt + 1.,1))\n",
    "\n",
    "tol = 1e-32\n",
    "start_step = 10.\n",
    "c_scheme = np.zeros(( 1,1 ))\n",
    "c_scheme[0,0] = 1.\n",
    "u_mat = np.identity(1)\n",
    "u_scheme = np.array([[1.]])\n",
    "\n",
    "c_var = [ [0], [1], [0,1]]\n",
    "p_var = [ [0], [0], [0]]\n",
    "\n",
    "### CURRENTS\n",
    "cntrl_vars_0 = [0,1]\n",
    "prec_vars = [0]\n",
    "\n",
    "if case[0] == '0':    # low to high\n",
    "    max_I = [3., -3.]\n",
    "elif case[0] == '1':\n",
    "    max_I = [-3., 3.]\n",
    "    \n",
    "if case[1] == '0':    # sparsity\n",
    "    factor_ws = 1.\n",
    "    factor_we = 0.\n",
    "elif case[1] == '1':  # energy\n",
    "    factor_ws = 0.\n",
    "    factor_we = 1.\n",
    "    \n",
    "if case[3] == '0':\n",
    "    cntrl_vars_init = [0]\n",
    "elif case[3] == '1':\n",
    "    cntrl_vars_init = [1]\n",
    "elif case[3] == '2':\n",
    "    cntrl_vars_init = [0,1]\n",
    "elif case[3] == '3':\n",
    "    cntrl_vars_init = [0]\n",
    "    conv_init = [[True]*2] * len(exc)\n",
    "    case_read = case[0] + case[1] + case[2] + str(int(case[3])-3) + '0'\n",
    "    read_file = os.path.join( os.getcwd()[:-10], case_read, 'control_init_' + case_read + '.pickle')\n",
    "    print(read_file)\n",
    "elif case[3] == '4':\n",
    "    cntrl_vars_init = [1]\n",
    "    conv_init = [[True]*2] * len(exc)\n",
    "    case_read = case[0] + case[1] + case[2] + str(int(case[3])-3) + '0'\n",
    "    read_file = os.path.join( os.getcwd()[:-10], case_read, 'control_init_' + case_read + '.pickle')\n",
    "    print(read_file)\n",
    "elif case[3] == '5':\n",
    "    cntrl_vars_init = [0,1]\n",
    "    conv_init = [[True]*2] * len(exc)\n",
    "    case_read = case[0] + case[1] + case[2] + str(int(case[3])-3) + '0'\n",
    "    read_file = os.path.join( os.getcwd()[:-10], case_read, 'control_init_' + case_read + '.pickle')\n",
    "    print(read_file)\n",
    "elif case[3] == '5':\n",
    "    cntrl_vars_init = [0,1]\n",
    "    conv_init = [[True]*2] * len(exc)\n",
    "    case_read = case[0] + case[1] + case[2] + str(int(case[3])-3) + '0'\n",
    "    read_file = os.path.join( os.getcwd()[:-10], case_read, 'control_init_' + case_read + '.pickle')\n",
    "    print(read_file)\n",
    "\n",
    "if case[4] == '0':\n",
    "    dur = 100\n",
    "    trans_time = 0.8\n",
    "elif case[4] == '1':\n",
    "    dur = 400\n",
    "    trans_time = 0.95\n",
    "    \n",
    "maxC = [5., -5., 0.18, 0.]\n",
    "\n",
    "n_dur = int(np.around(dur/aln.params.dt + 1.,1))\n",
    "max_cntrl, min_cntrl = setmaxmincontrol(maxC[0], maxC[1], maxC[2], maxC[3])"
   ]
  },
  {
   "cell_type": "code",
   "execution_count": 7,
   "metadata": {},
   "outputs": [
    {
     "name": "stdout",
     "output_type": "stream",
     "text": [
      "-------  20 0.4500000000000001 0.4750000000000002\n",
      "-------  50 0.47500000000000014 0.6000000000000003\n"
     ]
    }
   ],
   "source": [
    "# get initial parameters and target states\n",
    "\n",
    "i_range = [20, 50]\n",
    "i_range_0 = i_range\n",
    "i_range_1 = i_range\n",
    "data.set_parameters(aln)\n",
    "\n",
    "for i in i_range:\n",
    "    print(\"------- \", i, exc[i], inh[i])\n",
    "    aln.params.ext_exc_current = exc[i] * 5.\n",
    "    aln.params.ext_inh_current = inh[i] * 5.\n",
    "    \n",
    "    aln.params.duration = 3000.\n",
    "    \n",
    "    control0 = aln.getZeroControl()\n",
    "    control0 = functions.step_control(aln, maxI_ = max_I[0])\n",
    "\n",
    "    aln.run(control=control0)\n",
    "    \n",
    "    target_rates = np.zeros((2))\n",
    "    target_rates[0] = aln.rates_exc[0,-1] \n",
    "    target_rates[1] = aln.rates_inh[0,-1]\n",
    "\n",
    "    control0 = functions.step_control(aln, maxI_ = max_I[1])\n",
    "    aln.run(control=control0)\n",
    "\n",
    "    init_state_vars = np.zeros(( len(state_vars) ))\n",
    "    for j in range(len(state_vars)):\n",
    "        if aln.state[state_vars[j]].size == 1:\n",
    "            init_state_vars[j] = aln.state[state_vars[j]][0]\n",
    "        else:\n",
    "            init_state_vars[j] = aln.state[state_vars[j]][0,-1]\n",
    "\n",
    "    initVars[i] = init_state_vars\n",
    "    \n",
    "    aln.params.duration = dur\n",
    "\n",
    "    target[i] = aln.getZeroTarget()\n",
    "    target[i][:,0,:] = target_rates[0]\n",
    "    target[i][:,1,:] = target_rates[1]"
   ]
  },
  {
   "cell_type": "code",
   "execution_count": 8,
   "metadata": {},
   "outputs": [
    {
     "name": "stdout",
     "output_type": "stream",
     "text": [
      "D:\\Promotion\\neurolib\\GUI\\current\\gui\\\\data_final\\control_3.pickle\n"
     ]
    }
   ],
   "source": [
    "aln.params.duration = dur\n",
    "case = os.getcwd().split('task')[1][0]\n",
    "read_file = os.getcwd().split('data_shift')[0] + os.sep + 'data_final' + os.sep + 'control_' + case + '.pickle'\n",
    "print(read_file)\n",
    "\n",
    "init_file = 'control_init.pickle'\n",
    "final_file = 'control.pickle'\n",
    "cntrl_vars_init = [0,1]"
   ]
  },
  {
   "cell_type": "code",
   "execution_count": 9,
   "metadata": {
    "scrolled": true
   },
   "outputs": [
    {
     "name": "stdout",
     "output_type": "stream",
     "text": [
      "-------  20 0.4500000000000001 0.4750000000000002\n",
      "set cost params:  1.0 0.0 0.0\n",
      "interpolate adjoint :  True True True\n",
      "RUN  0 , total integrated cost =  12738.116450271265\n",
      "Gradient descend method:  None\n",
      "RUN  0 , total integrated cost =  12738.116450271265\n",
      "Improved over  0  iterations in  0.0  seconds by  0.0  percent.\n",
      "-------  50 0.47500000000000014 0.6000000000000003\n",
      "set cost params:  1.0 0.0 0.0\n",
      "interpolate adjoint :  True True True\n",
      "RUN  0 , total integrated cost =  15942.955436075114\n",
      "Gradient descend method:  None\n",
      "RUN  0 , total integrated cost =  15942.955436075114\n",
      "Improved over  0  iterations in  0.0  seconds by  0.0  percent.\n"
     ]
    }
   ],
   "source": [
    "# get uncontrolled cost\n",
    "\n",
    "data.set_parameters(aln)\n",
    "\n",
    "for i in i_range:\n",
    "    print(\"------- \", i, exc[i], inh[i])\n",
    "    aln.params.ext_exc_current = exc[i] * 5.\n",
    "    aln.params.ext_inh_current = inh[i] * 5.\n",
    "    \n",
    "    aln.params.duration = dur\n",
    "        \n",
    "    cost.setParams(1.0, 0.0, 0.0)\n",
    "\n",
    "##### zero control as input for uncontrolled cost\n",
    "    setinit(initVars[i], aln)\n",
    "    control0 = aln.getZeroControl()\n",
    "\n",
    "    # \"HS\", \"FR\", \"PR\", \"HZ\"\n",
    "    cgv = None\n",
    "    max_it = 0\n",
    "\n",
    "    bestControl_init_, bestState_init_, cost_init_, runtime_init_, grad_init_, phi_init_, costnode_init_ = aln.A1(\n",
    "        control0, target[i], c_scheme, u_mat, u_scheme, max_iteration_ = max_it, tolerance_ = tol,\n",
    "        startStep_ = start_step, max_control_ = max_cntrl, min_control_ = min_cntrl, t_sim_ = dur,\n",
    "        t_sim_pre_ = dur_pre, t_sim_post_ = dur_post, CGVar = cgv, control_variables_ = cntrl_vars_init,\n",
    "        prec_variables_ = prec_vars, transition_time_ = trans_time)\n",
    "    \n",
    "    cost_uncontrolled[i] = cost_init_[0]"
   ]
  },
  {
   "cell_type": "code",
   "execution_count": 10,
   "metadata": {
    "scrolled": true
   },
   "outputs": [
    {
     "name": "stdout",
     "output_type": "stream",
     "text": [
      "-------  20 0.4500000000000001 0.4750000000000002\n",
      "set cost params:  1.0 0.0 1.0\n",
      "interpolate adjoint :  True True True\n"
     ]
    },
    {
     "name": "stderr",
     "output_type": "stream",
     "text": [
      "ERROR:root:Problem in initial value trasfer\n",
      "ERROR:root:Problem in initial value trasfer\n"
     ]
    },
    {
     "name": "stdout",
     "output_type": "stream",
     "text": [
      "RUN  0 , total integrated cost =  2.167860260185903\n",
      "Gradient descend method:  None\n",
      "RUN  0 , total integrated cost =  2.167860260185903\n",
      "Improved over  0  iterations in  0.0  seconds by  0.0  percent.\n",
      "Problem in initial value trasfer:  Vmean_exc -70.87305795532376 -70.87346093206854\n",
      "-------  50 0.47500000000000014 0.6000000000000003\n",
      "set cost params:  1.0 0.0 1.0\n",
      "interpolate adjoint :  True True True\n",
      "RUN  0 , total integrated cost =  2.68368200788312\n",
      "Gradient descend method:  None\n",
      "RUN  0 , total integrated cost =  2.68368200788312\n",
      "Improved over  0  iterations in  0.0  seconds by  0.0  percent.\n",
      "Problem in initial value trasfer:  Vmean_exc -74.36059081395452 -74.36135899959436\n"
     ]
    }
   ],
   "source": [
    "for i in i_range:\n",
    "    print(\"------- \", i, exc[i], inh[i])\n",
    "    \n",
    "    aln.params.ext_exc_current = exc[i] * 5.\n",
    "    aln.params.ext_inh_current = inh[i] * 5.\n",
    "    \n",
    "    with open(read_file,'rb') as f:\n",
    "        load_array = pickle.load(f)\n",
    "\n",
    "    bestControl_read = load_array[0]\n",
    "\n",
    "    bestControl_init[i] = np.zeros(( 1, 6, n_dur + n_pre + n_post -2 ))\n",
    "    bestControl_init[i][:,:,n_pre-1+1000:n_pre-1+4000] = 1.01 * bestControl_read[i][:,:,n_pre-1:n_pre-1+3000].copy()\n",
    "\n",
    "    weight_ = 1.\n",
    "    cost.setParams(1.0, weight_ * factor_we, weight_ * factor_ws)\n",
    "\n",
    "    setinit(initVars[i], aln)\n",
    "\n",
    "    # \"HS\", \"FR\", \"PR\", \"HZ\"\n",
    "    cgv = None\n",
    "    max_it = 0\n",
    "    weights_init[i] = cost.getParams()\n",
    "    \n",
    "    control0 = bestControl_init[i][:,:,n_pre-1:-n_post+1].copy()\n",
    "\n",
    "\n",
    "    bestControl_init[i], bestState_init[i], cost_init[i], runtime_init[i], grad_init[i], phi_init[i], costnode_init[i] = aln.A1(\n",
    "        control0, target[i], c_scheme, u_mat, u_scheme, max_iteration_ = max_it, tolerance_ = tol,\n",
    "        startStep_ = start_step, max_control_ = max_cntrl, min_control_ = min_cntrl, t_sim_ = dur,\n",
    "        t_sim_pre_ = dur_pre, t_sim_post_ = dur_post, CGVar = cgv, control_variables_ = cntrl_vars_init,\n",
    "        prec_variables_ = prec_vars, transition_time_ = trans_time)\n",
    "\n",
    "    with open(init_file,'wb') as f:\n",
    "            pickle.dump([bestControl_init, bestState_init, cost_init, runtime_init, grad_init, phi_init,\n",
    "                     costnode_init, weights_init], f)"
   ]
  },
  {
   "cell_type": "code",
   "execution_count": 11,
   "metadata": {
    "scrolled": true
   },
   "outputs": [
    {
     "name": "stdout",
     "output_type": "stream",
     "text": [
      "--------- 20\n"
     ]
    },
    {
     "data": {
      "image/png": "[encoded data removed]",
      "text/plain": [
       "<Figure size 576x432 with 4 Axes>"
      ]
     },
     "metadata": {},
     "output_type": "display_data"
    },
    {
     "name": "stdout",
     "output_type": "stream",
     "text": [
      "--------- 50\n"
     ]
    },
    {
     "data": {
      "image/png": "[encoded data removed]",
      "text/plain": [
       "<Figure size 576x432 with 4 Axes>"
      ]
     },
     "metadata": {},
     "output_type": "display_data"
    }
   ],
   "source": [
    "#plot initial guesses\n",
    "for i in i_range:\n",
    "    print(\"---------\", i)\n",
    "        \n",
    "    aln.params.ext_exc_current = exc[i] * 5.\n",
    "    aln.params.ext_inh_current = inh[i] * 5.\n",
    "\n",
    "    plotFunc.plot_control_current(aln, [bestControl_init[i]],\n",
    "        [costnode_init[i]], [weights_init[i]], dur,\n",
    "        dur_pre, dur_post, initVars[i], target[i], '', filename_ = '', transition_time_ = trans_time,\n",
    "        labels_ = [\"init\", \"sparse control\" + str(i)], print_cost_ = False)\n",
    "    plt.show()\n"
   ]
  },
  {
   "cell_type": "code",
   "execution_count": 12,
   "metadata": {},
   "outputs": [],
   "source": [
    "bestControl_1 = [None] * len(exc)\n",
    "bestState_1 = [None] * len(exc)\n",
    "cost_1 = [None] * len(exc)\n",
    "runtime_1 = [None] * len(exc)\n",
    "grad_1 = [None] * len(exc)\n",
    "phi_1 = [None] * len(exc)\n",
    "costnode_1 = [None] * len(exc)\n",
    "weights_1 = [None] * len(exc)\n",
    "\n",
    "conv_1 = [[False]*2] * len(exc)"
   ]
  },
  {
   "cell_type": "code",
   "execution_count": 13,
   "metadata": {},
   "outputs": [],
   "source": [
    "if os.path.isfile(final_file) :\n",
    "    print(\"file found\")\n",
    "    \n",
    "    with open(final_file,'rb') as f:\n",
    "        load_array = pickle.load(f)\n",
    "\n",
    "    bestControl_1 = load_array[0]\n",
    "    bestState_1 = load_array[1]\n",
    "    cost_1 = load_array[2]\n",
    "    runtime_1 = load_array[3]\n",
    "    grad_1 = load_array[4]\n",
    "    phi_1 = load_array[5]\n",
    "    costnode_1 = load_array[6]\n",
    "    weights_1 = load_array[7]"
   ]
  },
  {
   "cell_type": "code",
   "execution_count": 14,
   "metadata": {
    "scrolled": true
   },
   "outputs": [
    {
     "name": "stdout",
     "output_type": "stream",
     "text": [
      "--------------- 0\n",
      "[[True, True], [True, True], [True, True], [True, True], [False, False], [True, True], [True, True], [True, True], [True, True], [True, True], [False, False], [True, True], [True, True], [True, True], [True, True], [True, True], [True, True], [True, True], [True, True], [True, True], [True, True], [True, True], [True, True], [True, True], [True, True], [True, True], [True, True], [True, True], [True, True], [True, True]]\n",
      "-------  20 0.4500000000000001 0.4750000000000002\n",
      "set cost params:  1.0 0.0 1.0\n",
      "interpolate adjoint :  True True True\n",
      "RUN  0 , total integrated cost =  2.167860260185903\n",
      "Gradient descend method:  None\n",
      "RUN  1 , total integrated cost =  2.147109288342407\n",
      "RUN  2 , total integrated cost =  2.1465659605604044\n",
      "RUN  3 , total integrated cost =  2.146561694754596\n",
      "RUN  4 , total integrated cost =  2.1465616833203147\n",
      "RUN  5 , total integrated cost =  2.146561683290599\n",
      "RUN  6 , total integrated cost =  2.1465616832902454\n",
      "RUN  7 , total integrated cost =  2.14656168329024\n",
      "RUN  8 , total integrated cost =  2.1465616832902397\n"
     ]
    },
    {
     "name": "stderr",
     "output_type": "stream",
     "text": [
      "ERROR:root:Problem in initial value trasfer\n"
     ]
    },
    {
     "name": "stdout",
     "output_type": "stream",
     "text": [
      "RUN  9 , total integrated cost =  2.1465616832902397\n",
      "Control only changes marginally.\n",
      "RUN  9 , total integrated cost =  2.1465616832902397\n",
      "Improved over  9  iterations in  21.2900356  seconds by  0.98247000910645  percent.\n",
      "Problem in initial value trasfer:  Vmean_exc -69.69387463913806 -69.69989590345433\n",
      "no convergence\n",
      "-------  50 0.47500000000000014 0.6000000000000003\n",
      "set cost params:  1.0 0.0 1.0\n",
      "interpolate adjoint :  True True True\n",
      "RUN  0 , total integrated cost =  2.68368200788312\n",
      "Gradient descend method:  None\n",
      "RUN  1 , total integrated cost =  2.6582913837701754\n",
      "RUN  2 , total integrated cost =  2.6572003246649842\n",
      "RUN  3 , total integrated cost =  2.6571984079491267\n",
      "RUN  4 , total integrated cost =  2.657198407949125\n"
     ]
    },
    {
     "name": "stderr",
     "output_type": "stream",
     "text": [
      "ERROR:root:Problem in initial value trasfer\n"
     ]
    },
    {
     "name": "stdout",
     "output_type": "stream",
     "text": [
      "RUN  5 , total integrated cost =  2.657198407949125\n",
      "Control only changes marginally.\n",
      "RUN  5 , total integrated cost =  2.657198407949125\n",
      "Improved over  5  iterations in  1.8137574  seconds by  0.9868382265932212  percent.\n",
      "Problem in initial value trasfer:  Vmean_exc -71.84364337165292 -71.8561512691366\n",
      "no convergence\n",
      "--------------- 1\n",
      "[[True, True], [True, True], [True, True], [True, True], [False, False], [True, True], [True, True], [True, True], [True, True], [True, True], [False, False], [True, True], [True, True], [True, True], [True, True], [True, True], [True, True], [True, True], [True, True], [True, True], [True, True], [True, True], [True, True], [True, True], [True, True], [True, True], [True, True], [True, True], [True, True], [True, True]]\n",
      "-------  20 0.4500000000000001 0.4750000000000002\n",
      "set cost params:  1.0 0.0 1.0\n",
      "interpolate adjoint :  True True True\n",
      "RUN  0 , total integrated cost =  2.1465616832902397\n",
      "Gradient descend method:  None\n"
     ]
    },
    {
     "name": "stderr",
     "output_type": "stream",
     "text": [
      "ERROR:root:Problem in initial value trasfer\n"
     ]
    },
    {
     "name": "stdout",
     "output_type": "stream",
     "text": [
      "RUN  1 , total integrated cost =  2.1465616832902397\n",
      "Control only changes marginally.\n",
      "RUN  1 , total integrated cost =  2.1465616832902397\n",
      "Improved over  1  iterations in  0.5434091999999993  seconds by  0.0  percent.\n",
      "Problem in initial value trasfer:  Vmean_exc -69.69387463913806 -69.69989590345433\n",
      "converged for  20\n",
      "-------  50 0.47500000000000014 0.6000000000000003\n",
      "set cost params:  1.0 0.0 1.0\n",
      "interpolate adjoint :  True True True\n",
      "RUN  0 , total integrated cost =  2.657198407949125\n",
      "Gradient descend method:  None\n"
     ]
    },
    {
     "name": "stderr",
     "output_type": "stream",
     "text": [
      "ERROR:root:Problem in initial value trasfer\n"
     ]
    },
    {
     "name": "stdout",
     "output_type": "stream",
     "text": [
      "RUN  1 , total integrated cost =  2.657198407949125\n",
      "Control only changes marginally.\n",
      "RUN  1 , total integrated cost =  2.657198407949125\n",
      "Improved over  1  iterations in  0.5513227  seconds by  0.0  percent.\n",
      "Problem in initial value trasfer:  Vmean_exc -71.84364337165292 -71.8561512691366\n",
      "converged for  50\n",
      "--------------- 2\n",
      "[[True, True], [True, True], [True, True], [True, True], [True, False], [True, True], [True, True], [True, True], [True, True], [True, True], [True, False], [True, True], [True, True], [True, True], [True, True], [True, True], [True, True], [True, True], [True, True], [True, True], [True, True], [True, True], [True, True], [True, True], [True, True], [True, True], [True, True], [True, True], [True, True], [True, True]]\n",
      "-------  20 0.4500000000000001 0.4750000000000002\n",
      "set cost params:  1.0 0.0 1.0\n",
      "interpolate adjoint :  True True True\n",
      "RUN  0 , total integrated cost =  2.1465616832902397\n",
      "Gradient descend method:  None\n"
     ]
    },
    {
     "name": "stderr",
     "output_type": "stream",
     "text": [
      "ERROR:root:Problem in initial value trasfer\n"
     ]
    },
    {
     "name": "stdout",
     "output_type": "stream",
     "text": [
      "RUN  1 , total integrated cost =  2.1465616832902397\n",
      "Control only changes marginally.\n",
      "RUN  1 , total integrated cost =  2.1465616832902397\n",
      "Improved over  1  iterations in  0.5170144000000008  seconds by  0.0  percent.\n",
      "Problem in initial value trasfer:  Vmean_exc -69.69387463913806 -69.69989590345433\n",
      "converged for  20\n",
      "-------  50 0.47500000000000014 0.6000000000000003\n",
      "set cost params:  1.0 0.0 1.0\n",
      "interpolate adjoint :  True True True\n",
      "RUN  0 , total integrated cost =  2.657198407949125\n",
      "Gradient descend method:  None\n"
     ]
    },
    {
     "name": "stderr",
     "output_type": "stream",
     "text": [
      "ERROR:root:Problem in initial value trasfer\n"
     ]
    },
    {
     "name": "stdout",
     "output_type": "stream",
     "text": [
      "RUN  1 , total integrated cost =  2.657198407949125\n",
      "Control only changes marginally.\n",
      "RUN  1 , total integrated cost =  2.657198407949125\n",
      "Improved over  1  iterations in  0.6173618999999988  seconds by  0.0  percent.\n",
      "Problem in initial value trasfer:  Vmean_exc -71.84364337165292 -71.8561512691366\n",
      "converged for  50\n",
      "--------------- 3\n",
      "[[True, True], [True, True], [True, True], [True, True], [True, True], [True, True], [True, True], [True, True], [True, True], [True, True], [True, True], [True, True], [True, True], [True, True], [True, True], [True, True], [True, True], [True, True], [True, True], [True, True], [True, True], [True, True], [True, True], [True, True], [True, True], [True, True], [True, True], [True, True], [True, True], [True, True]]\n",
      "full convergence\n"
     ]
    }
   ],
   "source": [
    "factor_iteration = 5\n",
    "full_converge = False\n",
    "i_stepsize = 5\n",
    "\n",
    "for i in range(len(conv_1)):\n",
    "    if i not in i_range_1:\n",
    "        conv_1[i] = [True, True]\n",
    "        \n",
    "counter = 0\n",
    "\n",
    "while full_converge == False:\n",
    "    \n",
    "    print('---------------', counter)\n",
    "    if counter > 5:\n",
    "        break\n",
    "    \n",
    "    print(conv_1[::i_stepsize])\n",
    "    full_converge = True\n",
    "    \n",
    "    for conv in conv_1[::i_stepsize]:\n",
    "        if not conv[0]:\n",
    "            full_converge = False\n",
    "            break\n",
    "        if not conv[1]:\n",
    "            full_converge = False\n",
    "            break\n",
    "    \n",
    "    if full_converge:\n",
    "        print(\"full convergence\")\n",
    "        break\n",
    "\n",
    "    for i in i_range_1:        \n",
    "\n",
    "        print(\"------- \", i, exc[i], inh[i])\n",
    "        \n",
    "        if conv_1[i] == [True, True]:\n",
    "            continue\n",
    "            \n",
    "        aln.params.ext_exc_current = exc[i] * 5.\n",
    "        aln.params.ext_inh_current = inh[i] * 5.\n",
    "        \n",
    "        if not type(bestControl_1[i]) == type(None):\n",
    "            control0 = bestControl_1[i][:,:,n_pre-1:-n_post+1].copy()\n",
    "        else:\n",
    "            control0 = bestControl_init[i][:,:,n_pre-1:-n_post+1].copy()\n",
    "            cost_1[i] = cost_init[i]\n",
    "        \n",
    "        cost.setParams(1.0, 1. * factor_we, 1. * factor_ws)\n",
    "\n",
    "        setinit(initVars[i], aln)\n",
    "\n",
    "        # \"HS\", \"FR\", \"PR\", \"HZ\"\n",
    "        cgv = None\n",
    "        max_it = int( 500 * factor_iteration )\n",
    "\n",
    "        weights_1[i] = cost.getParams()\n",
    "\n",
    "        bestControl_1[i], bestState_1[i], cost_1[i], runtime_1[i], grad_1[i], phi_1[i], costnode_1[i] = aln.A1(\n",
    "            control0, target[i], c_scheme, u_mat, u_scheme, max_iteration_ = max_it, tolerance_ = tol,\n",
    "            startStep_ = start_step, max_control_ = max_cntrl, min_control_ = min_cntrl, t_sim_ = dur,\n",
    "            t_sim_pre_ = dur_pre, t_sim_post_ = dur_post, CGVar = cgv, control_variables_ = cntrl_vars_init,\n",
    "            prec_variables_ = prec_vars, transition_time_ = trans_time)\n",
    "        \n",
    "        with open(final_file,'wb') as f:\n",
    "            pickle.dump([bestControl_1, bestState_1, cost_1, runtime_1, grad_1, phi_1,\n",
    "                 costnode_1, weights_1], f)\n",
    "            \n",
    "        j = 1\n",
    "        while cost_1[i][-j] == 0.:\n",
    "            j += 1\n",
    "            \n",
    "        if j == cost_1[i].shape[0]-1:\n",
    "            print(\"converged for \", i)\n",
    "            if conv_1[i][0]:\n",
    "                conv_1[i] = [True, True]\n",
    "            else:\n",
    "                conv_1[i] = [True, False]\n",
    "            continue\n",
    "    \n",
    "        print(\"no convergence\")\n",
    "        \n",
    "    counter += 1"
   ]
  },
  {
   "cell_type": "code",
   "execution_count": null,
   "metadata": {},
   "outputs": [],
   "source": []
  },
  {
   "cell_type": "code",
   "execution_count": null,
   "metadata": {},
   "outputs": [],
   "source": []
  }
 ],
 "metadata": {
  "kernelspec": {
   "display_name": "Python 3 (Spyder)",
   "language": "python3",
   "name": "python3"
  },
  "language_info": {
   "codemirror_mode": {
    "name": "ipython",
    "version": 3
   },
   "file_extension": ".py",
   "mimetype": "text/x-python",
   "name": "python",
   "nbconvert_exporter": "python",
   "pygments_lexer": "ipython3",
   "version": "3.7.6"
  }
 },
 "nbformat": 4,
 "nbformat_minor": 4
}
