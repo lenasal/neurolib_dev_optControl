{
 "cells": [
  {
   "cell_type": "code",
   "execution_count": 1,
   "metadata": {},
   "outputs": [
    {
     "data": {
      "application/javascript": [
       "\n",
       "console.log('Starting front end url_querystring_target comm target');\n",
       "const comm = Jupyter.notebook.kernel.comm_manager.new_comm('url_querystring_target', {'init': 1});\n",
       "comm.send({'ipyparams_browser_url': window.location.href});\n",
       "console.log('Sent window.location.href on url_querystring_target comm target');\n",
       "\n",
       "comm.on_msg(function(msg) {\n",
       "    console.log(msg.content.data);\n",
       "});\n"
      ],
      "text/plain": [
       "<IPython.core.display.Javascript object>"
      ]
     },
     "metadata": {},
     "output_type": "display_data"
    },
    {
     "name": "stdout",
     "output_type": "stream",
     "text": [
      "not here\n"
     ]
    }
   ],
   "source": [
    "import matplotlib.pyplot as plt\n",
    "import numpy as np\n",
    "import os\n",
    "import sys\n",
    "import pickle\n",
    "import matplotlib\n",
    "import ipyparams\n",
    "\n",
    "path = os.getcwd().split(os.sep + 'GUI')[0]\n",
    "if path not in sys.path:\n",
    "    print(\"not here\")\n",
    "    sys.path.append(path)\n",
    "\n",
    "from neurolib.models.aln import ALNModel\n",
    "from neurolib.utils import plotFunctions as plotFunc\n",
    "from neurolib.utils import func_optimize as fo\n",
    "from neurolib.utils import costFunctions as cost\n",
    "import neurolib.dashboard.functions as functions\n",
    "import neurolib.dashboard.data as data\n",
    "import neurolib.dashboard.layout as layout\n",
    "\n",
    "    \n",
    "# This will reload all imports as soon as the code changes\n",
    "%load_ext autoreload\n",
    "%autoreload 2 \n",
    "\n",
    "#path = os.path.join(os.getcwd(), \"plots\")\n",
    "\n",
    "cmap_ = layout.getcolormap()\n",
    "darkgrey, midgrey, lightgrey, color_bi_updown, color_LC, color_bi_uposc = layout.getcolors()\n",
    "exc_red = cmap_(3)\n",
    "inh_blue=cmap_(0)\n",
    "green = cmap_(2)"
   ]
  },
  {
   "cell_type": "code",
   "execution_count": 2,
   "metadata": {},
   "outputs": [],
   "source": [
    "aln = ALNModel()\n",
    "N = aln.params.N\n",
    "\n",
    "data.set_parameters(aln)\n",
    "\n",
    "state_vars = aln.state_vars\n",
    "init_vars = aln.init_vars\n",
    "\n",
    "##############################################################\n",
    "def setinit(init_vars_, model):\n",
    "    state_vars = model.state_vars\n",
    "    init_vars = model.init_vars\n",
    "    for iv in range(len(init_vars)):\n",
    "        for sv in range(len(state_vars)):\n",
    "            if state_vars[sv] in init_vars[iv]:\n",
    "                #print(\"set init vars \", )\n",
    "                if model.params[init_vars[iv]].ndim == 2:\n",
    "                    model.params[init_vars[iv]][0,:] = init_vars_[sv]\n",
    "                else:\n",
    "                    model.params[init_vars[iv]][0] = init_vars_[sv]\n",
    "                    \n",
    "##############################################################               \n",
    "def setmaxmincontrol(max_c_c, min_c_c, max_c_r, min_c_r):\n",
    "    import numpy as np\n",
    "    \n",
    "    max_cntrl = np.zeros(( 6 ))\n",
    "    min_cntrl = np.zeros(( 6 ))\n",
    "    \n",
    "    max_cntrl[0] = max_c_c\n",
    "    min_cntrl[0] = min_c_c\n",
    "    max_cntrl[1] = max_c_c\n",
    "    min_cntrl[1] = min_c_c\n",
    "    max_cntrl[2] = max_c_r\n",
    "    min_cntrl[2] = min_c_r\n",
    "    max_cntrl[3] = max_c_r\n",
    "    min_cntrl[3] = min_c_r\n",
    "    max_cntrl[4] = max_c_r\n",
    "    min_cntrl[4] = min_c_r\n",
    "    max_cntrl[5] = max_c_r\n",
    "    min_cntrl[5] = min_c_r\n",
    "            \n",
    "    return max_cntrl, min_cntrl"
   ]
  },
  {
   "cell_type": "code",
   "execution_count": 3,
   "metadata": {},
   "outputs": [],
   "source": [
    "##### LOAD BOUNDARIES\n",
    "data_file = '..' + os.sep + '..' + os.sep + 'bi.pickle'\n",
    "with open(data_file,'rb') as f:\n",
    "    load_array= pickle.load(f)\n",
    "exc = load_array[0]\n",
    "inh = load_array[1]"
   ]
  },
  {
   "cell_type": "code",
   "execution_count": 4,
   "metadata": {},
   "outputs": [],
   "source": [
    "bestControl = [None] * len(exc)\n",
    "bestState = [None] * len(exc)\n",
    "cost_ = [None] * len(exc)\n",
    "costnode = [None] * len(exc)\n",
    "weights = [None] * len(exc)"
   ]
  },
  {
   "cell_type": "code",
   "execution_count": 5,
   "metadata": {},
   "outputs": [],
   "source": [
    "initVars = [None] * len(exc)\n",
    "target = [None] * len(exc)\n",
    "cost_uncontrolled = [None] * len(exc)"
   ]
  },
  {
   "cell_type": "code",
   "execution_count": 6,
   "metadata": {},
   "outputs": [
    {
     "name": "stdout",
     "output_type": "stream",
     "text": [
      "nb =  task1_test.ipynb\n"
     ]
    }
   ],
   "source": [
    "dur_pre = 10\n",
    "dur_post = 10\n",
    "dur = 200.\n",
    "\n",
    "max_it = 70\n",
    "init_it = 10\n",
    "noise_realizations = 40\n",
    "noise_realizations_final = 100000\n",
    "prec_vars = [0,1]\n",
    "trans_time = 0.9\n",
    "repeat = 20\n",
    "\n",
    "n_pre = int(np.around(dur_pre/aln.params.dt + 1.,1))\n",
    "n_post = int(np.around(dur_post/aln.params.dt + 1.,1))\n",
    "\n",
    "tol = 1e-32\n",
    "start_step = 10.\n",
    "c_scheme = np.zeros(( 1,1 ))\n",
    "c_scheme[0,0] = 1.\n",
    "u_mat = np.identity(1)\n",
    "u_scheme = np.array([[1.]])\n",
    "\n",
    "maxC = [5., -5., 0.18, 0.]\n",
    "n_dur = int(np.around(dur/aln.params.dt + 1.,1))\n",
    "max_cntrl, min_cntrl = setmaxmincontrol(maxC[0], maxC[1], maxC[2], maxC[3])\n",
    "\n",
    "nb = ipyparams.notebook_name\n",
    "print('nb = ', nb)\n",
    "\n",
    "case = str(nb[4])\n",
    "\n",
    "if case in ['1', '2']:\n",
    "    max_I = [3., -3.]\n",
    "elif case in ['3', '4']:\n",
    "    max_I = [3., -3.]\n",
    "\n",
    "read_file = '..' + os.sep + '..' + os.sep + 'data_final_2' + os.sep + 'control_' + case + '.pickle'\n",
    "    \n",
    "#i_range = np.arange(0,61,10)\n",
    "i_range = [20,50]\n",
    "\n",
    "stable_state = np.zeros(( len(exc), 2,2,2, 2))\n",
    "final_folder = '.' + os.sep + nb[:5] + '_data' + os.sep\n",
    "final_folder_plots = '.' + os.sep + nb[:5] + '_plots' + os.sep\n",
    "\n",
    "file_nf_1 = os.path.join(final_folder_plots, 'nf_1.pickle')\n",
    "file_E = os.path.join(final_folder_plots, 'E.pickle')\n",
    "file_I = os.path.join(final_folder_plots, 'I.pickle')"
   ]
  },
  {
   "cell_type": "code",
   "execution_count": 7,
   "metadata": {},
   "outputs": [
    {
     "name": "stdout",
     "output_type": "stream",
     "text": [
      "file found\n"
     ]
    }
   ],
   "source": [
    "if os.path.isfile(read_file) :\n",
    "    print(\"file found\")\n",
    "    \n",
    "    with open(read_file,'rb') as f:\n",
    "        load_array = pickle.load(f)\n",
    "\n",
    "    bestControl = load_array[0]\n",
    "    bestState = load_array[1]\n",
    "    cost_ = load_array[2]\n",
    "    costnode = load_array[3]\n",
    "    weights = load_array[4]\n",
    "    \n",
    "init_control_noisefree = [None] * len(exc)\n",
    "for i in i_range:\n",
    "    init_control_noisefree[i] = bestControl[i].copy()"
   ]
  },
  {
   "cell_type": "code",
   "execution_count": 8,
   "metadata": {
    "scrolled": true
   },
   "outputs": [
    {
     "name": "stdout",
     "output_type": "stream",
     "text": [
      "-------  20 0.4500000000000001 0.4750000000000002\n",
      "-------  50 0.47500000000000014 0.6000000000000003\n",
      "-------  20 0.4500000000000001 0.4750000000000002\n",
      "exc low, high  0.00020800079839487667 35.69070596632364\n",
      "inh low, high  22.354548572416867 90.39821580372033\n",
      "-------  50 0.47500000000000014 0.6000000000000003\n",
      "exc low, high  2.339651407613867e-06 39.92863296490006\n",
      "inh low, high  41.918142394968584 107.75907077321249\n"
     ]
    }
   ],
   "source": [
    "# get init vars without noise\n",
    "aln = ALNModel()\n",
    "data.set_parameters(aln)\n",
    "aln.params.duration = 3000.\n",
    "aln.params.dt = 0.1\n",
    "\n",
    "control0 = functions.step_control(aln, maxI_ = max_I[1])\n",
    "\n",
    "# initial without noise\n",
    "for i in i_range:\n",
    "    print(\"------- \", i, exc[i], inh[i])\n",
    "    aln.params.ext_exc_current = exc[i] * 5.\n",
    "    aln.params.ext_inh_current = inh[i] * 5.\n",
    "\n",
    "    aln.run(control=control0)\n",
    "\n",
    "    init_state_vars = np.zeros(( len(state_vars) ))\n",
    "    for j in range(len(state_vars)):\n",
    "        if aln.state[state_vars[j]].size == 1:\n",
    "            init_state_vars[j] = aln.state[state_vars[j]][0]\n",
    "        else:\n",
    "            init_state_vars[j] = aln.state[state_vars[j]][0,-1]\n",
    "\n",
    "    initVars[i] = init_state_vars\n",
    "    \n",
    "    stable_state[i,0,0,0,0] = aln.rates_exc[0,-1]\n",
    "    stable_state[i,0,0,1,0] = aln.rates_inh[0,-1]\n",
    "\n",
    "# final state without noise\n",
    "control0 = aln.getZeroControl()\n",
    "control0[0,0,:500] = 5.\n",
    "if case in ['3', '4']:\n",
    "    control0[0,0,:500] = - 5.\n",
    "\n",
    "for i in i_range:\n",
    "    print(\"------- \", i, exc[i], inh[i])\n",
    "    aln.params.ext_exc_current = exc[i] * 5.\n",
    "    aln.params.ext_inh_current = inh[i] * 5.\n",
    "\n",
    "    aln.params.duration = 3000.\n",
    "    aln.run(control=control0)\n",
    "    stable_state[i,0,1,0,0] = aln.rates_exc[0,-1]\n",
    "    stable_state[i,0,1,1,0] = aln.rates_inh[0,-1]\n",
    "    \n",
    "    aln.params.duration = dur\n",
    "    target_det = aln.getZeroTarget()\n",
    "    target_det[:,0,:] = aln.rates_exc[0,-1]\n",
    "    target_det[:,1,:] = aln.rates_inh[0,-1]\n",
    "    \n",
    "    print('exc low, high ', stable_state[i,0,0,0,0], stable_state[i,0,1,0,0])\n",
    "    print('inh low, high ', stable_state[i,0,0,1,0], stable_state[i,0,1,1,0])"
   ]
  },
  {
   "cell_type": "code",
   "execution_count": null,
   "metadata": {
    "scrolled": true
   },
   "outputs": [
    {
     "name": "stdout",
     "output_type": "stream",
     "text": [
      "-------  20 0.4500000000000001 0.4750000000000002\n",
      "fell in down state, repeat\n",
      "fell in down state, repeat\n",
      "fell in down state, repeat\n",
      "fell in down state, repeat\n",
      "fell in down state, repeat\n",
      "fell in down state, repeat\n",
      "fell in down state, repeat\n",
      "fell in down state, repeat\n",
      "fell in down state, repeat\n",
      "fell in down state, repeat\n",
      "fell in down state, repeat\n",
      "fell in down state, repeat\n",
      "fell in down state, repeat\n"
     ]
    }
   ],
   "source": [
    "# get target states with noise\n",
    "\n",
    "sigma_ou = 0.1\n",
    "\n",
    "stateswitch_i = []\n",
    "\n",
    "# set target with noise\n",
    "aln.params.sigma_ou = sigma_ou\n",
    "aln.params.duration = 300.\n",
    "control0 = aln.getZeroControl()\n",
    "control0[0,0,:500] = 5.\n",
    "if case in ['3', '4']:\n",
    "    control0[0,0,:500] = - 5.\n",
    "\n",
    "for i in i_range:\n",
    "    print(\"------- \", i, exc[i], inh[i])\n",
    "    aln.params.ext_exc_current = exc[i] * 5.\n",
    "    aln.params.ext_inh_current = inh[i] * 5.\n",
    "\n",
    "    target_rates_e = []\n",
    "    target_rates_i = []\n",
    "    \n",
    "    stateswitchcount = 0\n",
    "\n",
    "    for j in range(noise_realizations_final):\n",
    "        aln.params.duration = 300.\n",
    "        aln.run(control=control0)\n",
    "        if np.amin(aln.rates_exc[0,1000:]) < 1.:\n",
    "            print(\"fell in down state, repeat\")\n",
    "            j -= 1\n",
    "            stateswitchcount += 1\n",
    "            if stateswitchcount > 0.25 * noise_realizations_final:\n",
    "                stateswitch_i.append(i)\n",
    "                break\n",
    "            continue\n",
    "        target_rates_e.append(aln.rates_exc[0,1000:])\n",
    "        target_rates_i.append(aln.rates_inh[0,1000:])\n",
    "\n",
    "    if case in ['1', '2']:\n",
    "        aln.params.duration = dur\n",
    "        target[i] = aln.getZeroTarget()\n",
    "        target[i][:,0,:] = np.mean(target_rates_e)\n",
    "        target[i][:,1,:] = np.mean(target_rates_i)\n",
    "    \n",
    "    stable_state[i,1,1,0,0] = target[i][0,0,-1]\n",
    "    stable_state[i,1,1,1,0] = target[i][0,1,-1]\n",
    "    stable_state[i,1,1,0,1] = np.std(target_rates_e)\n",
    "    stable_state[i,1,1,1,1] = np.std(target_rates_i)\n",
    "    \n",
    "    \n",
    "aln.params.duration = 300.\n",
    "control0 = aln.getZeroControl()\n",
    "control0[0,0,:500] = -5.\n",
    "\n",
    "for i in i_range:\n",
    "    if i in stateswitch_i:\n",
    "        continue\n",
    "    print(\"------- \", i, exc[i], inh[i])\n",
    "    aln.params.ext_exc_current = exc[i] * 5.\n",
    "    aln.params.ext_inh_current = inh[i] * 5.\n",
    "\n",
    "    target_rates_e = []\n",
    "    target_rates_i = []\n",
    "\n",
    "    for j in range(noise_realizations_final):\n",
    "        aln.params.duration = 300.\n",
    "        aln.run(control=control0)\n",
    "        if np.amin(aln.rates_exc[0,1000:]) > 3.:\n",
    "            print(\"fell in up state, repeat\")\n",
    "            j -= 1\n",
    "            stateswitchcount += 1\n",
    "            if stateswitchcount > 0.1 * noise_realizations_final:\n",
    "                stateswitch_i.append(i)\n",
    "                break\n",
    "            continue\n",
    "        target_rates_e.append(aln.rates_exc[0,1000:])\n",
    "        target_rates_i.append(aln.rates_inh[0,1000:])\n",
    "        \n",
    "    if case in ['3', '4']:\n",
    "        aln.params.duration = dur\n",
    "        target[i] = aln.getZeroTarget()\n",
    "        target[i][:,0,:] = np.mean(target_rates_e)\n",
    "        target[i][:,1,:] = np.mean(target_rates_i)\n",
    "\n",
    "    stable_state[i,1,0,0,0] = np.mean(target_rates_e)\n",
    "    stable_state[i,1,0,1,0] = np.mean(target_rates_i)\n",
    "    stable_state[i,1,0,0,1] = np.std(target_rates_e)\n",
    "    stable_state[i,1,0,1,1] = np.std(target_rates_i)\n",
    "    \n",
    "print(stateswitch_i)"
   ]
  },
  {
   "cell_type": "code",
   "execution_count": null,
   "metadata": {},
   "outputs": [],
   "source": [
    "print(stateswitch_i)"
   ]
  },
  {
   "cell_type": "code",
   "execution_count": null,
   "metadata": {
    "scrolled": true
   },
   "outputs": [],
   "source": [
    "for i in i_range:\n",
    "    if i in stateswitch_i:\n",
    "        continue\n",
    "        \n",
    "    print(i)\n",
    "    print('exc low with noise ', stable_state[i,1,0,0,0], ' +- ', stable_state[i,1,0,0,1])\n",
    "    print('exc high with noise ', stable_state[i,1,1,0,0], ' +- ', stable_state[i,1,1,0,1])\n",
    "    print('inh low with noise ', stable_state[i,1,0,1,0], ' +- ', stable_state[i,1,0,1,1])\n",
    "    print('inh high with noise ', stable_state[i,1,1,1,0], ' +- ', stable_state[i,1,1,1,1])"
   ]
  },
  {
   "cell_type": "code",
   "execution_count": null,
   "metadata": {},
   "outputs": [],
   "source": [
    "diff_low = np.zeros(( 83,2 ))\n",
    "diff_high = np.zeros(( 83,2 ))\n",
    "\n",
    "for i in i_range:\n",
    "    if i in stateswitch_i:\n",
    "        continue\n",
    "        \n",
    "    print('------  ', i)\n",
    "    diff_low[i,:] = [stable_state[i,0,0,0,0] - stable_state[i,1,0,0,0],\n",
    "                stable_state[i,0,0,1,0] - stable_state[i,1,0,1,0]]\n",
    "    print(\"difference in low rate exc/ inh: \", diff_low[i,:])\n",
    "    print(\"std dev low rate exc/ inh: \", stable_state[i,1,0,0,1], stable_state[i,1,0,1,1])\n",
    "    diff_high[i,:] =  [stable_state[i,0,1,0,0] - stable_state[i,1,1,0,0],\n",
    "                 stable_state[i,0,1,1,0] - stable_state[i,1,1,1,0]]\n",
    "    print(\"difference in high rate exc/ inh: \", diff_high[i,:])\n",
    "    print(\"std dev high rate exc/ inh: \", stable_state[i,1,1,0,1], stable_state[i,1,1,1,1])"
   ]
  },
  {
   "cell_type": "code",
   "execution_count": null,
   "metadata": {},
   "outputs": [],
   "source": [
    "aln.params.sigma_ou = sigma_ou\n",
    "\n",
    "\n",
    "w_p_0 = np.zeros(( len(exc) ))\n",
    "w_p_1 = np.zeros(( len(exc) ))\n",
    "w_p = np.zeros(( len(exc) ))\n",
    "\n",
    "for i in i_range:\n",
    "    if i in stateswitch_i:\n",
    "        continue\n",
    "        \n",
    "    w_p_0[i] = 1. / ( (stable_state[i,1,1,0,1]) * (1. - trans_time) * dur / aln.params.dt )\n",
    "    w_p_1[i] = 1. / ( (stable_state[i,1,1,1,1]) * (1. - trans_time) * dur / aln.params.dt )\n",
    "    w_p[i] = 1. / ( ( stable_state[i,1,1,0,1] + stable_state[i,1,1,1,1] ) * (1. - trans_time) * dur / aln.params.dt )\n",
    "\n",
    "if case in ['1', '3']:\n",
    "    w_e = 0.\n",
    "    w_s = 1.\n",
    "elif case in ['2', '4']:\n",
    "    w_e = 1.\n",
    "    w_s = 0.\n",
    "\n",
    "aln.params.duration = dur\n",
    "zero_init = aln.getZeroControl()"
   ]
  },
  {
   "cell_type": "code",
   "execution_count": null,
   "metadata": {},
   "outputs": [],
   "source": [
    "cost_E_final = [None] * len(exc)\n",
    "cost_I_final = [None] * len(exc)\n",
    "cost_nf_final = [None] * len(exc)\n",
    "cost_nf_1_final = [None] * len(exc)\n",
    "cost_rect_E_final = [None] * len(exc)\n",
    "cost_rect_I_final = [None] * len(exc)"
   ]
  },
  {
   "cell_type": "code",
   "execution_count": null,
   "metadata": {},
   "outputs": [],
   "source": [
    "control_E = [None] * len(exc)\n",
    "cost_E = [None] * len(exc)\n",
    "cost_E_final = [None] * len(exc)\n",
    "file_E = os.path.join(final_folder, 'E.pickle')"
   ]
  },
  {
   "cell_type": "code",
   "execution_count": null,
   "metadata": {},
   "outputs": [],
   "source": [
    "control_I = [None] * len(exc)\n",
    "cost_I = [None] * len(exc)\n",
    "cost_I_final = [None] * len(exc)\n",
    "file_I = os.path.join(final_folder, 'I.pickle')"
   ]
  },
  {
   "cell_type": "code",
   "execution_count": null,
   "metadata": {},
   "outputs": [],
   "source": [
    "control_nf = [None] * len(exc)\n",
    "cost_nf = [None] * len(exc)\n",
    "cost_nf_final = [None] * len(exc)"
   ]
  },
  {
   "cell_type": "code",
   "execution_count": null,
   "metadata": {},
   "outputs": [],
   "source": [
    "control_nf_1 = [None] * len(exc)\n",
    "cost_nf_1 = [None] * len(exc)\n",
    "cost_nf_1_final = [None] * len(exc)\n",
    "file_nf_1 = os.path.join(final_folder, 'nf_1.pickle')"
   ]
  },
  {
   "cell_type": "code",
   "execution_count": null,
   "metadata": {},
   "outputs": [],
   "source": [
    "rect_E = [None] * len(exc)\n",
    "cost_rect_E = [None] * len(exc)\n",
    "cost_rect_E_final = [None] * len(exc)"
   ]
  },
  {
   "cell_type": "code",
   "execution_count": null,
   "metadata": {},
   "outputs": [],
   "source": [
    "rect_I = [None] * len(exc)\n",
    "cost_rect_I = [None] * len(exc)\n",
    "cost_rect_I_final = [None] * len(exc)"
   ]
  },
  {
   "cell_type": "code",
   "execution_count": null,
   "metadata": {
    "scrolled": true
   },
   "outputs": [],
   "source": [
    "# E init\n",
    "\n",
    "min_it = 10\n",
    "max_it = 10\n",
    "\n",
    "for i in i_range:\n",
    "    \n",
    "    if i == 20:\n",
    "        continue\n",
    "    \n",
    "    cost.setParams(w_p[i], w_e, w_s)\n",
    "    \n",
    "    aln.params.ext_exc_current = exc[i] * 5.\n",
    "    aln.params.ext_inh_current = inh[i] * 5.\n",
    "\n",
    "    print(\"------- \", i, exc[i], inh[i], noise_realizations)\n",
    "    if i in stateswitch_i:\n",
    "        continue\n",
    "    \n",
    "    control_list = []\n",
    "    cost_list = []\n",
    "    \n",
    "    setinit(initVars[i], aln)\n",
    "    aln.params.duration = dur\n",
    "\n",
    "    bestControl[i], bestState[i], cost_[i], runtime, grad, phi, costnode[i], total_cost_mean_std = aln.A1(\n",
    "        zero_init, target[i], c_scheme, u_mat, u_scheme, max_iteration_ = init_it,\n",
    "        tolerance_ = tol, startStep_ = start_step, max_control_ = max_cntrl, min_control_ = min_cntrl,\n",
    "        t_sim_ = dur, t_sim_pre_ = dur_pre, t_sim_post_ = dur_post, CGVar = None,\n",
    "        control_variables_ = [0], prec_variables_ = prec_vars, transition_time_ = trans_time,\n",
    "        noise_real=noise_realizations, init_params = initVars[i], method='M2')\n",
    "\n",
    "    control_init = bestControl[i][:,:,100:-100]\n",
    "    setinit(initVars[i], aln)\n",
    "    \n",
    "    plt.plot(np.arange(0,dur+aln.params.dt,aln.params.dt), control_init[0,0,:]/5., color=exc_red)\n",
    "    plt.plot(np.arange(0,dur+aln.params.dt,aln.params.dt), control_init[0,1,:]/5., color=inh_blue)\n",
    "    plt.show()"
   ]
  },
  {
   "cell_type": "code",
   "execution_count": null,
   "metadata": {},
   "outputs": [],
   "source": [
    "mean_ = [None] * len(exc)\n",
    "dt = aln.params.dt"
   ]
  },
  {
   "cell_type": "code",
   "execution_count": 176,
   "metadata": {
    "scrolled": true
   },
   "outputs": [
    {
     "name": "stdout",
     "output_type": "stream",
     "text": [
      "-------  20 0.4500000000000001 0.4750000000000002\n",
      "repeat  0\n",
      "set cost params:  0.0004852946241771807 0.0 1.0\n",
      "interpolate adjoint :  True True True\n"
     ]
    },
    {
     "data": {
      "image/png": "[encoded data removed]",
      "text/plain": [
       "<Figure size 432x288 with 1 Axes>"
      ]
     },
     "metadata": {
      "needs_background": "light"
     },
     "output_type": "display_data"
    },
    {
     "name": "stdout",
     "output_type": "stream",
     "text": [
      "RUN  0 , total integrated cost =  36.072873439166244\n",
      "Gradient descend method:  None\n",
      "RUN  1 , total integrated cost =  6.670066965262535\n",
      "RUN  2 , total integrated cost =  6.591981848749585\n",
      "RUN  3 , total integrated cost =  6.3522938127580835\n",
      "RUN  4 , total integrated cost =  6.407831137222582\n",
      "RUN  5 , total integrated cost =  6.466452739478143\n",
      "RUN  6 , total integrated cost =  6.322016403091948\n",
      "RUN  7 , total integrated cost =  6.623082051928736\n",
      "RUN  8 , total integrated cost =  6.737293633281186\n",
      "no cost improvement\n",
      "RUN  9 , total integrated cost =  6.749055736056837\n",
      "RUN  10 , total integrated cost =  6.35127668068524\n",
      "RUN  10 , total integrated cost mean =  6.35127668068524\n",
      "Improved over  10  iterations in  18.88799490602105  seconds by  82.39320554433759  percent.\n"
     ]
    },
    {
     "data": {
      "image/png": "[encoded data removed]",
      "text/plain": [
       "<Figure size 432x288 with 1 Axes>"
      ]
     },
     "metadata": {
      "needs_background": "light"
     },
     "output_type": "display_data"
    },
    {
     "name": "stdout",
     "output_type": "stream",
     "text": [
      "-------  50 0.47500000000000014 0.6000000000000003\n",
      "repeat  0\n",
      "set cost params:  0.000516623046832989 0.0 1.0\n",
      "interpolate adjoint :  True True True\n"
     ]
    },
    {
     "data": {
      "image/png": "[encoded data removed]",
      "text/plain": [
       "<Figure size 432x288 with 1 Axes>"
      ]
     },
     "metadata": {
      "needs_background": "light"
     },
     "output_type": "display_data"
    },
    {
     "name": "stdout",
     "output_type": "stream",
     "text": [
      "RUN  0 , total integrated cost =  16.133941056159294\n",
      "Gradient descend method:  None\n",
      "RUN  1 , total integrated cost =  7.751620010712839\n",
      "RUN  2 , total integrated cost =  7.480142557791636\n",
      "RUN  3 , total integrated cost =  7.569145230024796\n",
      "RUN  4 , total integrated cost =  7.684906773067917\n",
      "RUN  5 , total integrated cost =  7.58774965244682\n",
      "RUN  6 , total integrated cost =  7.665940702768276\n",
      "no cost improvement\n",
      "RUN  7 , total integrated cost =  7.694423812028188\n",
      "RUN  8 , total integrated cost =  7.704104365517713\n",
      "RUN  9 , total integrated cost =  7.756146332080691\n",
      "RUN  10 , total integrated cost =  7.498819011023085\n",
      "RUN  10 , total integrated cost mean =  7.498819011023085\n",
      "Improved over  10  iterations in  24.448836447991198  seconds by  53.521467662977884  percent.\n"
     ]
    },
    {
     "data": {
      "image/png": "[encoded data removed]",
      "text/plain": [
       "<Figure size 432x288 with 1 Axes>"
      ]
     },
     "metadata": {
      "needs_background": "light"
     },
     "output_type": "display_data"
    }
   ],
   "source": [
    "for i in i_range:\n",
    "    \n",
    "    aln.params.ext_exc_current = exc[i] * 5.\n",
    "    aln.params.ext_inh_current = inh[i] * 5.\n",
    "\n",
    "    print(\"------- \", i, exc[i], inh[i])\n",
    "    if i in stateswitch_i:\n",
    "        continue\n",
    "        \n",
    "    mean_[i] = []\n",
    "    \n",
    "    for k in range(10):\n",
    "        print(\"repeat \", k)\n",
    "    \n",
    "        control_list = []\n",
    "        cost_list = []\n",
    "        aln.params.duration = dur\n",
    "\n",
    "        cost.setParams(w_p[i], w_e, w_s)\n",
    "        control_init = control_E[i][:,:,100:-100]\n",
    "        setinit(initVars[i], aln)\n",
    "\n",
    "        bestControl[i], bestState[i], cost_[i], runtime, grad, phi, costnode[i], total_cost_mean_std = aln.A1(\n",
    "            control_init, target[i], c_scheme, u_mat, u_scheme, max_iteration_ = max_it,\n",
    "            tolerance_ = tol, startStep_ = start_step, max_control_ = max_cntrl, min_control_ = min_cntrl,\n",
    "            t_sim_ = dur, t_sim_pre_ = dur_pre, t_sim_post_ = dur_post, CGVar = None,\n",
    "            control_variables_ = [0,1], prec_variables_ = prec_vars, transition_time_ = trans_time,\n",
    "            noise_real= noise_realizations, init_params = initVars[i], method='M2')\n",
    "\n",
    "        control_init = bestControl[i][:,:,100:-100]\n",
    "        setinit(initVars[i], aln)\n",
    "\n",
    "        plt.plot(np.arange(0,dur+aln.params.dt,aln.params.dt), control_init[0,0,:]/5., color=exc_red)\n",
    "        plt.plot(np.arange(0,dur+aln.params.dt,aln.params.dt), control_init[0,1,:]/5., color=inh_blue)\n",
    "        plt.show()\n",
    "\n",
    "        control_E[i] = bestControl[i].copy()\n",
    "        \n",
    "        aln.params.duration = dur\n",
    "        init_control = aln.getZeroControl()           \n",
    "        init_control[:,:,:] = control_E[i][:,:,100:-100]\n",
    "\n",
    "        target_ = target[i].copy()\n",
    "        target_[0,0,:int(trans_time * dur / aln.params.dt)] = -1000\n",
    "        target_[0,1,:int(trans_time * dur / aln.params.dt)] = -1000\n",
    "\n",
    "        cost_E_final[i] = np.zeros(( noise_realizations_final ))\n",
    "\n",
    "        T = init_control.shape[2]\n",
    "        \n",
    "        for n_ in range(noise_realizations_final):\n",
    "\n",
    "            setinit(initVars[i], aln)\n",
    "            aln.run(control=init_control)\n",
    "            state_ = fo.updateState(aln, init_control)\n",
    "            cost_E_final[i][n_] += cost.numba_cost_precision_int(1,T,dt,w_p[i],state_, target_, list(prec_vars) )\n",
    "            cost_E_final[i][n_] += cost.numba_cost_sparsity_int(1, 6, T, w_s, dt, init_control)\n",
    "\n",
    "        \n",
    "        mean_[i].append(np.mean(cost_E_final[i]))\n",
    "        print('mean = ', mean_[i][-1])"
   ]
  },
  {
   "cell_type": "code",
   "execution_count": null,
   "metadata": {},
   "outputs": [],
   "source": []
  }
 ],
 "metadata": {
  "interpreter": {
   "hash": "916dbcbb3f70747c44a77c7bcd40155683ae19c65e1c03b4aa3499c5328201f1"
  },
  "kernelspec": {
   "display_name": "Python 3 (ipykernel)",
   "language": "python",
   "name": "python3"
  },
  "language_info": {
   "codemirror_mode": {
    "name": "ipython",
    "version": 3
   },
   "file_extension": ".py",
   "mimetype": "text/x-python",
   "name": "python",
   "nbconvert_exporter": "python",
   "pygments_lexer": "ipython3",
   "version": "3.9.7"
  }
 },
 "nbformat": 4,
 "nbformat_minor": 4
}
