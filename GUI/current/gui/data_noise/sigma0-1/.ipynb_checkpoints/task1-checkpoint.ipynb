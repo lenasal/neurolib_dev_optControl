{
 "cells": [
  {
   "cell_type": "code",
   "execution_count": 187,
   "metadata": {},
   "outputs": [
    {
     "name": "stdout",
     "output_type": "stream",
     "text": [
      "The autoreload extension is already loaded. To reload it, use:\n",
      "  %reload_ext autoreload\n"
     ]
    }
   ],
   "source": [
    "import matplotlib.pyplot as plt\n",
    "import numpy as np\n",
    "import os\n",
    "import sys\n",
    "import pickle\n",
    "import matplotlib\n",
    "import ipyparams\n",
    "\n",
    "path = os.getcwd().split(os.sep + 'GUI')[0]\n",
    "if path not in sys.path:\n",
    "    print(\"not here\")\n",
    "    sys.path.append(path)\n",
    "\n",
    "from neurolib.models.aln import ALNModel\n",
    "from neurolib.utils import plotFunctions as plotFunc\n",
    "from neurolib.utils import func_optimize as fo\n",
    "from neurolib.utils import costFunctions as cost\n",
    "import neurolib.dashboard.functions as functions\n",
    "import neurolib.dashboard.data as data\n",
    "import neurolib.dashboard.layout as layout\n",
    "\n",
    "    \n",
    "# This will reload all imports as soon as the code changes\n",
    "%load_ext autoreload\n",
    "%autoreload 2 \n",
    "\n",
    "#path = os.path.join(os.getcwd(), \"plots\")\n",
    "\n",
    "cmap_ = layout.getcolormap()\n",
    "darkgrey, midgrey, lightgrey, color_bi_updown, color_LC, color_bi_uposc = layout.getcolors()\n",
    "exc_red = cmap_(3)\n",
    "inh_blue=cmap_(0)\n",
    "green = cmap_(2)"
   ]
  },
  {
   "cell_type": "code",
   "execution_count": 188,
   "metadata": {},
   "outputs": [],
   "source": [
    "aln = ALNModel()\n",
    "N = aln.params.N\n",
    "\n",
    "data.set_parameters(aln)\n",
    "\n",
    "state_vars = aln.state_vars\n",
    "init_vars = aln.init_vars\n",
    "\n",
    "##############################################################\n",
    "def setinit(init_vars_, model):\n",
    "    state_vars = model.state_vars\n",
    "    init_vars = model.init_vars\n",
    "    for iv in range(len(init_vars)):\n",
    "        for sv in range(len(state_vars)):\n",
    "            if state_vars[sv] in init_vars[iv]:\n",
    "                #print(\"set init vars \", )\n",
    "                if model.params[init_vars[iv]].ndim == 2:\n",
    "                    model.params[init_vars[iv]][0,:] = init_vars_[sv]\n",
    "                else:\n",
    "                    model.params[init_vars[iv]][0] = init_vars_[sv]\n",
    "                    \n",
    "##############################################################               \n",
    "def setmaxmincontrol(max_c_c, min_c_c, max_c_r, min_c_r):\n",
    "    import numpy as np\n",
    "    \n",
    "    max_cntrl = np.zeros(( 6 ))\n",
    "    min_cntrl = np.zeros(( 6 ))\n",
    "    \n",
    "    max_cntrl[0] = max_c_c\n",
    "    min_cntrl[0] = min_c_c\n",
    "    max_cntrl[1] = max_c_c\n",
    "    min_cntrl[1] = min_c_c\n",
    "    max_cntrl[2] = max_c_r\n",
    "    min_cntrl[2] = min_c_r\n",
    "    max_cntrl[3] = max_c_r\n",
    "    min_cntrl[3] = min_c_r\n",
    "    max_cntrl[4] = max_c_r\n",
    "    min_cntrl[4] = min_c_r\n",
    "    max_cntrl[5] = max_c_r\n",
    "    min_cntrl[5] = min_c_r\n",
    "            \n",
    "    return max_cntrl, min_cntrl"
   ]
  },
  {
   "cell_type": "code",
   "execution_count": 189,
   "metadata": {},
   "outputs": [],
   "source": [
    "##### LOAD BOUNDARIES\n",
    "data_file = '..' + os.sep + '..' + os.sep + 'bi.pickle'\n",
    "with open(data_file,'rb') as f:\n",
    "    load_array= pickle.load(f)\n",
    "exc = load_array[0]\n",
    "inh = load_array[1]"
   ]
  },
  {
   "cell_type": "code",
   "execution_count": 190,
   "metadata": {},
   "outputs": [],
   "source": [
    "bestControl = [None] * len(exc)\n",
    "bestState = [None] * len(exc)\n",
    "cost_ = [None] * len(exc)\n",
    "costnode = [None] * len(exc)\n",
    "weights = [None] * len(exc)"
   ]
  },
  {
   "cell_type": "code",
   "execution_count": 191,
   "metadata": {},
   "outputs": [],
   "source": [
    "initVars = [None] * len(exc)\n",
    "target = [None] * len(exc)\n",
    "cost_uncontrolled = [None] * len(exc)"
   ]
  },
  {
   "cell_type": "code",
   "execution_count": 192,
   "metadata": {},
   "outputs": [
    {
     "name": "stdout",
     "output_type": "stream",
     "text": [
      "nb =  task1.ipynb\n"
     ]
    }
   ],
   "source": [
    "dur_pre = 10\n",
    "dur_post = 10\n",
    "dur = 200.\n",
    "\n",
    "max_it = 70\n",
    "init_it = 10\n",
    "noise_realizations = 40\n",
    "noise_realizations_final = 100000\n",
    "prec_vars = [0,1]\n",
    "trans_time = 0.9\n",
    "repeat = 20\n",
    "\n",
    "n_pre = int(np.around(dur_pre/aln.params.dt + 1.,1))\n",
    "n_post = int(np.around(dur_post/aln.params.dt + 1.,1))\n",
    "\n",
    "tol = 1e-32\n",
    "start_step = 10.\n",
    "c_scheme = np.zeros(( 1,1 ))\n",
    "c_scheme[0,0] = 1.\n",
    "u_mat = np.identity(1)\n",
    "u_scheme = np.array([[1.]])\n",
    "\n",
    "maxC = [5., -5., 0.18, 0.]\n",
    "n_dur = int(np.around(dur/aln.params.dt + 1.,1))\n",
    "max_cntrl, min_cntrl = setmaxmincontrol(maxC[0], maxC[1], maxC[2], maxC[3])\n",
    "\n",
    "nb = ipyparams.notebook_name\n",
    "print('nb = ', nb)\n",
    "\n",
    "case = str(nb[4])\n",
    "\n",
    "if case in ['1', '2']:\n",
    "    max_I = [3., -3.]\n",
    "elif case in ['3', '4']:\n",
    "    max_I = [3., -3.]\n",
    "\n",
    "read_file = '..' + os.sep + '..' + os.sep + 'data_final_2' + os.sep + 'control_' + case + '.pickle'\n",
    "    \n",
    "#i_range = np.arange(0,61,10)\n",
    "i_range = [20,50]\n",
    "\n",
    "stable_state = np.zeros(( len(exc), 2,2,2, 2))\n",
    "final_folder = '.' + os.sep + nb[:5] + '_data' + os.sep\n",
    "final_folder_plots = '.' + os.sep + nb[:5] + '_plots' + os.sep\n",
    "\n",
    "file_nf_1 = os.path.join(final_folder_plots, 'nf_1.pickle')\n",
    "file_E = os.path.join(final_folder_plots, 'E.pickle')\n",
    "file_I = os.path.join(final_folder_plots, 'I.pickle')"
   ]
  },
  {
   "cell_type": "code",
   "execution_count": 193,
   "metadata": {},
   "outputs": [
    {
     "name": "stdout",
     "output_type": "stream",
     "text": [
      "file found\n"
     ]
    }
   ],
   "source": [
    "if os.path.isfile(read_file) :\n",
    "    print(\"file found\")\n",
    "    \n",
    "    with open(read_file,'rb') as f:\n",
    "        load_array = pickle.load(f)\n",
    "\n",
    "    bestControl = load_array[0]\n",
    "    bestState = load_array[1]\n",
    "    cost_ = load_array[2]\n",
    "    costnode = load_array[3]\n",
    "    weights = load_array[4]\n",
    "    \n",
    "init_control_noisefree = [None] * len(exc)\n",
    "for i in i_range:\n",
    "    init_control_noisefree[i] = bestControl[i].copy()"
   ]
  },
  {
   "cell_type": "code",
   "execution_count": 194,
   "metadata": {
    "scrolled": true
   },
   "outputs": [
    {
     "name": "stdout",
     "output_type": "stream",
     "text": [
      "-------  20 0.4500000000000001 0.4750000000000002\n",
      "-------  50 0.47500000000000014 0.6000000000000003\n",
      "-------  20 0.4500000000000001 0.4750000000000002\n",
      "exc low, high  0.00020800079839487667 35.69070596632364\n",
      "inh low, high  22.354548572416867 90.39821580372033\n",
      "-------  50 0.47500000000000014 0.6000000000000003\n",
      "exc low, high  2.339651407613867e-06 39.92863296490006\n",
      "inh low, high  41.918142394968584 107.75907077321249\n"
     ]
    }
   ],
   "source": [
    "# get init vars without noise\n",
    "aln = ALNModel()\n",
    "data.set_parameters(aln)\n",
    "aln.params.duration = 3000.\n",
    "aln.params.dt = 0.1\n",
    "\n",
    "control0 = functions.step_control(aln, maxI_ = max_I[1])\n",
    "\n",
    "# initial without noise\n",
    "for i in i_range:\n",
    "    print(\"------- \", i, exc[i], inh[i])\n",
    "    aln.params.ext_exc_current = exc[i] * 5.\n",
    "    aln.params.ext_inh_current = inh[i] * 5.\n",
    "\n",
    "    aln.run(control=control0)\n",
    "\n",
    "    init_state_vars = np.zeros(( len(state_vars) ))\n",
    "    for j in range(len(state_vars)):\n",
    "        if aln.state[state_vars[j]].size == 1:\n",
    "            init_state_vars[j] = aln.state[state_vars[j]][0]\n",
    "        else:\n",
    "            init_state_vars[j] = aln.state[state_vars[j]][0,-1]\n",
    "\n",
    "    initVars[i] = init_state_vars\n",
    "    \n",
    "    stable_state[i,0,0,0,0] = aln.rates_exc[0,-1]\n",
    "    stable_state[i,0,0,1,0] = aln.rates_inh[0,-1]\n",
    "\n",
    "# final state without noise\n",
    "control0 = aln.getZeroControl()\n",
    "control0[0,0,:500] = 5.\n",
    "if case in ['3', '4']:\n",
    "    control0[0,0,:500] = - 5.\n",
    "\n",
    "for i in i_range:\n",
    "    print(\"------- \", i, exc[i], inh[i])\n",
    "    aln.params.ext_exc_current = exc[i] * 5.\n",
    "    aln.params.ext_inh_current = inh[i] * 5.\n",
    "\n",
    "    aln.params.duration = 3000.\n",
    "    aln.run(control=control0)\n",
    "    stable_state[i,0,1,0,0] = aln.rates_exc[0,-1]\n",
    "    stable_state[i,0,1,1,0] = aln.rates_inh[0,-1]\n",
    "    \n",
    "    aln.params.duration = dur\n",
    "    target_det = aln.getZeroTarget()\n",
    "    target_det[:,0,:] = aln.rates_exc[0,-1]\n",
    "    target_det[:,1,:] = aln.rates_inh[0,-1]\n",
    "    \n",
    "    print('exc low, high ', stable_state[i,0,0,0,0], stable_state[i,0,1,0,0])\n",
    "    print('inh low, high ', stable_state[i,0,0,1,0], stable_state[i,0,1,1,0])"
   ]
  },
  {
   "cell_type": "code",
   "execution_count": 195,
   "metadata": {
    "scrolled": true
   },
   "outputs": [
    {
     "name": "stdout",
     "output_type": "stream",
     "text": [
      "-------  20 0.4500000000000001 0.4750000000000002\n",
      "fell in down state, repeat\n",
      "fell in down state, repeat\n",
      "fell in down state, repeat\n",
      "fell in down state, repeat\n",
      "fell in down state, repeat\n",
      "fell in down state, repeat\n",
      "fell in down state, repeat\n",
      "fell in down state, repeat\n",
      "fell in down state, repeat\n",
      "fell in down state, repeat\n",
      "fell in down state, repeat\n",
      "fell in down state, repeat\n",
      "-------  50 0.47500000000000014 0.6000000000000003\n",
      "-------  20 0.4500000000000001 0.4750000000000002\n",
      "-------  50 0.47500000000000014 0.6000000000000003\n",
      "[]\n"
     ]
    }
   ],
   "source": [
    "# get target states with noise\n",
    "\n",
    "sigma_ou = 0.1\n",
    "\n",
    "stateswitch_i = []\n",
    "\n",
    "# set target with noise\n",
    "aln.params.sigma_ou = sigma_ou\n",
    "aln.params.duration = 300.\n",
    "control0 = aln.getZeroControl()\n",
    "control0[0,0,:500] = 5.\n",
    "if case in ['3', '4']:\n",
    "    control0[0,0,:500] = - 5.\n",
    "\n",
    "for i in i_range:\n",
    "    print(\"------- \", i, exc[i], inh[i])\n",
    "    aln.params.ext_exc_current = exc[i] * 5.\n",
    "    aln.params.ext_inh_current = inh[i] * 5.\n",
    "\n",
    "    target_rates_e = []\n",
    "    target_rates_i = []\n",
    "    \n",
    "    stateswitchcount = 0\n",
    "\n",
    "    for j in range(noise_realizations_final):\n",
    "        aln.params.duration = 300.\n",
    "        aln.run(control=control0)\n",
    "        if np.amin(aln.rates_exc[0,1000:]) < 1.:\n",
    "            print(\"fell in down state, repeat\")\n",
    "            j -= 1\n",
    "            stateswitchcount += 1\n",
    "            if stateswitchcount > 0.1 * noise_realizations_final:\n",
    "                stateswitch_i.append(i)\n",
    "                break\n",
    "            continue\n",
    "        target_rates_e.append(aln.rates_exc[0,1000:])\n",
    "        target_rates_i.append(aln.rates_inh[0,1000:])\n",
    "\n",
    "    if case in ['1', '2']:\n",
    "        aln.params.duration = dur\n",
    "        target[i] = aln.getZeroTarget()\n",
    "        target[i][:,0,:] = np.mean(target_rates_e)\n",
    "        target[i][:,1,:] = np.mean(target_rates_i)\n",
    "    \n",
    "    stable_state[i,1,1,0,0] = target[i][0,0,-1]\n",
    "    stable_state[i,1,1,1,0] = target[i][0,1,-1]\n",
    "    stable_state[i,1,1,0,1] = np.std(target_rates_e)\n",
    "    stable_state[i,1,1,1,1] = np.std(target_rates_i)\n",
    "    \n",
    "    \n",
    "aln.params.duration = 300.\n",
    "control0 = aln.getZeroControl()\n",
    "control0[0,0,:500] = -5.\n",
    "\n",
    "for i in i_range:\n",
    "    if i in stateswitch_i:\n",
    "        continue\n",
    "    print(\"------- \", i, exc[i], inh[i])\n",
    "    aln.params.ext_exc_current = exc[i] * 5.\n",
    "    aln.params.ext_inh_current = inh[i] * 5.\n",
    "\n",
    "    target_rates_e = []\n",
    "    target_rates_i = []\n",
    "\n",
    "    for j in range(noise_realizations_final):\n",
    "        aln.params.duration = 300.\n",
    "        aln.run(control=control0)\n",
    "        if np.amin(aln.rates_exc[0,1000:]) > 3.:\n",
    "            print(\"fell in up state, repeat\")\n",
    "            j -= 1\n",
    "            stateswitchcount += 1\n",
    "            if stateswitchcount > 0.1 * noise_realizations_final:\n",
    "                stateswitch_i.append(i)\n",
    "                break\n",
    "            continue\n",
    "        target_rates_e.append(aln.rates_exc[0,1000:])\n",
    "        target_rates_i.append(aln.rates_inh[0,1000:])\n",
    "        \n",
    "    if case in ['3', '4']:\n",
    "        aln.params.duration = dur\n",
    "        target[i] = aln.getZeroTarget()\n",
    "        target[i][:,0,:] = np.mean(target_rates_e)\n",
    "        target[i][:,1,:] = np.mean(target_rates_i)\n",
    "\n",
    "    stable_state[i,1,0,0,0] = np.mean(target_rates_e)\n",
    "    stable_state[i,1,0,1,0] = np.mean(target_rates_i)\n",
    "    stable_state[i,1,0,0,1] = np.std(target_rates_e)\n",
    "    stable_state[i,1,0,1,1] = np.std(target_rates_i)\n",
    "    \n",
    "print(stateswitch_i)"
   ]
  },
  {
   "cell_type": "code",
   "execution_count": 196,
   "metadata": {},
   "outputs": [
    {
     "name": "stdout",
     "output_type": "stream",
     "text": [
      "[]\n"
     ]
    }
   ],
   "source": [
    "print(stateswitch_i)"
   ]
  },
  {
   "cell_type": "code",
   "execution_count": 197,
   "metadata": {
    "scrolled": true
   },
   "outputs": [
    {
     "name": "stdout",
     "output_type": "stream",
     "text": [
      "20\n",
      "exc low with noise  0.0008426244141125628  +-  0.003843802576397822\n",
      "exc high with noise  35.26535477506842  +-  5.8488680054112985\n",
      "inh low with noise  22.485203457151886  +-  4.1424118173229445\n",
      "inh high with noise  90.0491937328697  +-  4.453825468364548\n",
      "50\n",
      "exc low with noise  7.32850420394846e-06  +-  2.8093527676293824e-05\n",
      "exc high with noise  39.6433385351118  +-  5.574816193634907\n",
      "inh low with noise  41.905133241278776  +-  4.658774262543218\n",
      "inh high with noise  107.54567933334165  +-  4.093296186331846\n"
     ]
    }
   ],
   "source": [
    "for i in i_range:\n",
    "    if i in stateswitch_i:\n",
    "        continue\n",
    "        \n",
    "    print(i)\n",
    "    print('exc low with noise ', stable_state[i,1,0,0,0], ' +- ', stable_state[i,1,0,0,1])\n",
    "    print('exc high with noise ', stable_state[i,1,1,0,0], ' +- ', stable_state[i,1,1,0,1])\n",
    "    print('inh low with noise ', stable_state[i,1,0,1,0], ' +- ', stable_state[i,1,0,1,1])\n",
    "    print('inh high with noise ', stable_state[i,1,1,1,0], ' +- ', stable_state[i,1,1,1,1])"
   ]
  },
  {
   "cell_type": "code",
   "execution_count": 198,
   "metadata": {},
   "outputs": [
    {
     "name": "stdout",
     "output_type": "stream",
     "text": [
      "------   20\n",
      "difference in low rate exc/ inh:  [-0.00063462 -0.13065488]\n",
      "std dev low rate exc/ inh:  0.003843802576397822 4.1424118173229445\n",
      "difference in high rate exc/ inh:  [0.42535119 0.34902207]\n",
      "std dev high rate exc/ inh:  5.8488680054112985 4.453825468364548\n",
      "------   50\n",
      "difference in low rate exc/ inh:  [-4.98885280e-06  1.30091537e-02]\n",
      "std dev low rate exc/ inh:  2.8093527676293824e-05 4.658774262543218\n",
      "difference in high rate exc/ inh:  [0.28529443 0.21339144]\n",
      "std dev high rate exc/ inh:  5.574816193634907 4.093296186331846\n"
     ]
    }
   ],
   "source": [
    "diff_low = np.zeros(( 83,2 ))\n",
    "diff_high = np.zeros(( 83,2 ))\n",
    "\n",
    "for i in i_range:\n",
    "    if i in stateswitch_i:\n",
    "        continue\n",
    "        \n",
    "    print('------  ', i)\n",
    "    diff_low[i,:] = [stable_state[i,0,0,0,0] - stable_state[i,1,0,0,0],\n",
    "                stable_state[i,0,0,1,0] - stable_state[i,1,0,1,0]]\n",
    "    print(\"difference in low rate exc/ inh: \", diff_low[i,:])\n",
    "    print(\"std dev low rate exc/ inh: \", stable_state[i,1,0,0,1], stable_state[i,1,0,1,1])\n",
    "    diff_high[i,:] =  [stable_state[i,0,1,0,0] - stable_state[i,1,1,0,0],\n",
    "                 stable_state[i,0,1,1,0] - stable_state[i,1,1,1,0]]\n",
    "    print(\"difference in high rate exc/ inh: \", diff_high[i,:])\n",
    "    print(\"std dev high rate exc/ inh: \", stable_state[i,1,1,0,1], stable_state[i,1,1,1,1])"
   ]
  },
  {
   "cell_type": "code",
   "execution_count": 199,
   "metadata": {},
   "outputs": [],
   "source": [
    "aln.params.sigma_ou = sigma_ou\n",
    "\n",
    "\n",
    "w_p_0 = np.zeros(( len(exc) ))\n",
    "w_p_1 = np.zeros(( len(exc) ))\n",
    "w_p = np.zeros(( len(exc) ))\n",
    "\n",
    "for i in i_range:\n",
    "    if i in stateswitch_i:\n",
    "        continue\n",
    "        \n",
    "    w_p_0[i] = 1. / ( (stable_state[i,1,1,0,1]) * (1. - trans_time) * dur / aln.params.dt )\n",
    "    w_p_1[i] = 1. / ( (stable_state[i,1,1,1,1]) * (1. - trans_time) * dur / aln.params.dt )\n",
    "    w_p[i] = 1. / ( ( stable_state[i,1,1,0,1] + stable_state[i,1,1,1,1] ) * (1. - trans_time) * dur / aln.params.dt )\n",
    "\n",
    "if case in ['1', '3']:\n",
    "    w_e = 0.\n",
    "    w_s = 1.\n",
    "elif case in ['2', '4']:\n",
    "    w_e = 1.\n",
    "    w_s = 0.\n",
    "\n",
    "aln.params.duration = dur\n",
    "zero_init = aln.getZeroControl()"
   ]
  },
  {
   "cell_type": "code",
   "execution_count": 200,
   "metadata": {},
   "outputs": [],
   "source": [
    "cost_E_final = [None] * len(exc)\n",
    "cost_I_final = [None] * len(exc)\n",
    "cost_nf_final = [None] * len(exc)\n",
    "cost_nf_1_final = [None] * len(exc)\n",
    "cost_rect_E_final = [None] * len(exc)\n",
    "cost_rect_I_final = [None] * len(exc)"
   ]
  },
  {
   "cell_type": "code",
   "execution_count": 201,
   "metadata": {},
   "outputs": [],
   "source": [
    "control_E = [None] * len(exc)\n",
    "cost_E = [None] * len(exc)\n",
    "cost_E_final = [None] * len(exc)\n",
    "file_E = os.path.join(final_folder, 'E.pickle')"
   ]
  },
  {
   "cell_type": "code",
   "execution_count": 202,
   "metadata": {},
   "outputs": [],
   "source": [
    "control_I = [None] * len(exc)\n",
    "cost_I = [None] * len(exc)\n",
    "cost_I_final = [None] * len(exc)\n",
    "file_I = os.path.join(final_folder, 'I.pickle')"
   ]
  },
  {
   "cell_type": "code",
   "execution_count": 203,
   "metadata": {},
   "outputs": [],
   "source": [
    "control_nf = [None] * len(exc)\n",
    "cost_nf = [None] * len(exc)\n",
    "cost_nf_final = [None] * len(exc)"
   ]
  },
  {
   "cell_type": "code",
   "execution_count": 204,
   "metadata": {},
   "outputs": [],
   "source": [
    "control_nf_1 = [None] * len(exc)\n",
    "cost_nf_1 = [None] * len(exc)\n",
    "cost_nf_1_final = [None] * len(exc)\n",
    "file_nf_1 = os.path.join(final_folder, 'nf_1.pickle')"
   ]
  },
  {
   "cell_type": "code",
   "execution_count": 205,
   "metadata": {},
   "outputs": [],
   "source": [
    "rect_E = [None] * len(exc)\n",
    "cost_rect_E = [None] * len(exc)\n",
    "cost_rect_E_final = [None] * len(exc)"
   ]
  },
  {
   "cell_type": "code",
   "execution_count": 206,
   "metadata": {},
   "outputs": [],
   "source": [
    "rect_I = [None] * len(exc)\n",
    "cost_rect_I = [None] * len(exc)\n",
    "cost_rect_I_final = [None] * len(exc)"
   ]
  },
  {
   "cell_type": "code",
   "execution_count": 154,
   "metadata": {
    "scrolled": true
   },
   "outputs": [
    {
     "name": "stdout",
     "output_type": "stream",
     "text": [
      "set cost params:  0.000516623046832989 0.0 1.0\n",
      "-------  50 0.47500000000000014 0.6000000000000003 40\n",
      "interpolate adjoint :  True True True\n"
     ]
    },
    {
     "data": {
      "image/png": "[encoded data removed]",
      "text/plain": [
       "<Figure size 432x288 with 1 Axes>"
      ]
     },
     "metadata": {
      "needs_background": "light"
     },
     "output_type": "display_data"
    },
    {
     "name": "stdout",
     "output_type": "stream",
     "text": [
      "RUN  0 , total integrated cost =  302.28938783117394\n",
      "Gradient descend method:  None\n",
      "RUN  1 , total integrated cost =  277.49791339279454\n",
      "RUN  2 , total integrated cost =  307.906360576978\n",
      "RUN  3 , total integrated cost =  47.73030337658102\n",
      "RUN  4 , total integrated cost =  35.25288279506276\n",
      "RUN  5 , total integrated cost =  15.872787587624526\n",
      "RUN  6 , total integrated cost =  12.288369835164032\n",
      "RUN  7 , total integrated cost =  12.671955894400275\n",
      "RUN  8 , total integrated cost =  13.302847208689764\n",
      "RUN  9 , total integrated cost =  9.358440715586724\n",
      "RUN  10 , total integrated cost =  11.048896100174876\n",
      "RUN  10 , total integrated cost mean =  11.048896100174876\n",
      "Improved over  10  iterations in  11.984050530008972  seconds by  96.34492756115355  percent.\n"
     ]
    },
    {
     "data": {
      "image/png": "[encoded data removed]",
      "text/plain": [
       "<Figure size 432x288 with 1 Axes>"
      ]
     },
     "metadata": {
      "needs_background": "light"
     },
     "output_type": "display_data"
    }
   ],
   "source": [
    "# E init\n",
    "\n",
    "min_it = 10\n",
    "\n",
    "for i in i_range:\n",
    "    \n",
    "    if i == 20:\n",
    "        continue\n",
    "    \n",
    "    cost.setParams(w_p[i], w_e, w_s)\n",
    "    \n",
    "    aln.params.ext_exc_current = exc[i] * 5.\n",
    "    aln.params.ext_inh_current = inh[i] * 5.\n",
    "\n",
    "    print(\"------- \", i, exc[i], inh[i], noise_realizations)\n",
    "    if i in stateswitch_i:\n",
    "        continue\n",
    "    \n",
    "    control_list = []\n",
    "    cost_list = []\n",
    "    \n",
    "    setinit(initVars[i], aln)\n",
    "    aln.params.duration = dur\n",
    "\n",
    "    bestControl[i], bestState[i], cost_[i], runtime, grad, phi, costnode[i], total_cost_mean_std = aln.A1(\n",
    "        zero_init, target[i], c_scheme, u_mat, u_scheme, max_iteration_ = init_it,\n",
    "        tolerance_ = tol, startStep_ = start_step, max_control_ = max_cntrl, min_control_ = min_cntrl,\n",
    "        t_sim_ = dur, t_sim_pre_ = dur_pre, t_sim_post_ = dur_post, CGVar = None,\n",
    "        control_variables_ = [0], prec_variables_ = prec_vars, transition_time_ = trans_time,\n",
    "        noise_real=noise_realizations, init_params = initVars[i], method='M2')\n",
    "\n",
    "    control_init = bestControl[i][:,:,100:-100]\n",
    "    setinit(initVars[i], aln)\n",
    "    \n",
    "    plt.plot(np.arange(0,dur+aln.params.dt,aln.params.dt), control_init[0,0,:]/5., color=exc_red)\n",
    "    plt.plot(np.arange(0,dur+aln.params.dt,aln.params.dt), control_init[0,1,:]/5., color=inh_blue)\n",
    "    plt.show()\n",
    "    \n",
    "    continue\n",
    "\n",
    "    bestControl[i], bestState[i], cost_[i], runtime, grad, phi, costnode[i], total_cost_mean_std = aln.A1(\n",
    "        control_init, target[i], c_scheme, u_mat, u_scheme, max_iteration_ = max_it,\n",
    "        tolerance_ = tol, startStep_ = start_step, max_control_ = max_cntrl, min_control_ = min_cntrl,\n",
    "        t_sim_ = dur, t_sim_pre_ = dur_pre, t_sim_post_ = dur_post, CGVar = None,\n",
    "        control_variables_ = [0,1], prec_variables_ = prec_vars, transition_time_ = trans_time,\n",
    "        noise_real=noise_realizations, init_params = initVars[i], method='M2')\n",
    "\n",
    "    control_E[i] = bestControl[i]\n",
    "    cost_minind = 0\n",
    "    cost_E[i] = np.zeros(( max_it ))\n",
    "    for k in range(len(cost_E[i])):\n",
    "        cost_E[i][k] = np.mean(cost_[i][:,k])\n",
    "        if cost_E[i][k] > 0.:\n",
    "            cost_minind = k\n",
    "\n",
    "    print(cost_E[i])\n",
    "    \n",
    "    with open(file_E,'wb') as f:\n",
    "        pickle.dump([control_E, cost_E], f)"
   ]
  },
  {
   "cell_type": "code",
   "execution_count": 207,
   "metadata": {},
   "outputs": [
    {
     "name": "stdout",
     "output_type": "stream",
     "text": [
      "file found\n"
     ]
    }
   ],
   "source": [
    "if os.path.isfile(file_E) :\n",
    "    print(\"file found\")\n",
    "    \n",
    "    with open(file_E,'rb') as f:\n",
    "        load_array = pickle.load(f)\n",
    "\n",
    "    control_ = load_array[0]\n",
    "    cost_ = load_array[1]\n",
    "    \n",
    "for i in i_range:\n",
    "    if i in stateswitch_i:\n",
    "        continue\n",
    "    control_E[i] = control_[i].copy()"
   ]
  },
  {
   "cell_type": "code",
   "execution_count": 176,
   "metadata": {
    "scrolled": true
   },
   "outputs": [
    {
     "name": "stdout",
     "output_type": "stream",
     "text": [
      "-------  20 0.4500000000000001 0.4750000000000002\n",
      "repeat  0\n",
      "set cost params:  0.0004852946241771807 0.0 1.0\n",
      "interpolate adjoint :  True True True\n"
     ]
    },
    {
     "data": {
      "image/png": "[encoded data removed]",
      "text/plain": [
       "<Figure size 432x288 with 1 Axes>"
      ]
     },
     "metadata": {
      "needs_background": "light"
     },
     "output_type": "display_data"
    },
    {
     "name": "stdout",
     "output_type": "stream",
     "text": [
      "RUN  0 , total integrated cost =  36.072873439166244\n",
      "Gradient descend method:  None\n",
      "RUN  1 , total integrated cost =  6.670066965262535\n",
      "RUN  2 , total integrated cost =  6.591981848749585\n",
      "RUN  3 , total integrated cost =  6.3522938127580835\n",
      "RUN  4 , total integrated cost =  6.407831137222582\n",
      "RUN  5 , total integrated cost =  6.466452739478143\n",
      "RUN  6 , total integrated cost =  6.322016403091948\n",
      "RUN  7 , total integrated cost =  6.623082051928736\n",
      "RUN  8 , total integrated cost =  6.737293633281186\n",
      "no cost improvement\n",
      "RUN  9 , total integrated cost =  6.749055736056837\n",
      "RUN  10 , total integrated cost =  6.35127668068524\n",
      "RUN  10 , total integrated cost mean =  6.35127668068524\n",
      "Improved over  10  iterations in  18.88799490602105  seconds by  82.39320554433759  percent.\n"
     ]
    },
    {
     "data": {
      "image/png": "[encoded data removed]",
      "text/plain": [
       "<Figure size 432x288 with 1 Axes>"
      ]
     },
     "metadata": {
      "needs_background": "light"
     },
     "output_type": "display_data"
    },
    {
     "name": "stdout",
     "output_type": "stream",
     "text": [
      "-------  50 0.47500000000000014 0.6000000000000003\n",
      "repeat  0\n",
      "set cost params:  0.000516623046832989 0.0 1.0\n",
      "interpolate adjoint :  True True True\n"
     ]
    },
    {
     "data": {
      "image/png": "[encoded data removed]",
      "text/plain": [
       "<Figure size 432x288 with 1 Axes>"
      ]
     },
     "metadata": {
      "needs_background": "light"
     },
     "output_type": "display_data"
    },
    {
     "name": "stdout",
     "output_type": "stream",
     "text": [
      "RUN  0 , total integrated cost =  16.133941056159294\n",
      "Gradient descend method:  None\n",
      "RUN  1 , total integrated cost =  7.751620010712839\n",
      "RUN  2 , total integrated cost =  7.480142557791636\n",
      "RUN  3 , total integrated cost =  7.569145230024796\n",
      "RUN  4 , total integrated cost =  7.684906773067917\n",
      "RUN  5 , total integrated cost =  7.58774965244682\n",
      "RUN  6 , total integrated cost =  7.665940702768276\n",
      "no cost improvement\n",
      "RUN  7 , total integrated cost =  7.694423812028188\n",
      "RUN  8 , total integrated cost =  7.704104365517713\n",
      "RUN  9 , total integrated cost =  7.756146332080691\n",
      "RUN  10 , total integrated cost =  7.498819011023085\n",
      "RUN  10 , total integrated cost mean =  7.498819011023085\n",
      "Improved over  10  iterations in  24.448836447991198  seconds by  53.521467662977884  percent.\n"
     ]
    },
    {
     "data": {
      "image/png": "[encoded data removed]",
      "text/plain": [
       "<Figure size 432x288 with 1 Axes>"
      ]
     },
     "metadata": {
      "needs_background": "light"
     },
     "output_type": "display_data"
    }
   ],
   "source": [
    "for i in i_range:\n",
    "    \n",
    "    aln.params.ext_exc_current = exc[i] * 5.\n",
    "    aln.params.ext_inh_current = inh[i] * 5.\n",
    "\n",
    "    print(\"------- \", i, exc[i], inh[i])\n",
    "    if i in stateswitch_i:\n",
    "        continue\n",
    "    \n",
    "    for k in range(1):\n",
    "        print(\"repeat \", k)\n",
    "    \n",
    "        control_list = []\n",
    "        cost_list = []\n",
    "        aln.params.duration = dur\n",
    "\n",
    "        cost.setParams(w_p[i], w_e, w_s)\n",
    "        control_init = control_E[i][:,:,100:-100]\n",
    "        setinit(initVars[i], aln)\n",
    "\n",
    "        bestControl[i], bestState[i], cost_[i], runtime, grad, phi, costnode[i], total_cost_mean_std = aln.A1(\n",
    "            control_init, target[i], c_scheme, u_mat, u_scheme, max_iteration_ = 10,\n",
    "            tolerance_ = tol, startStep_ = start_step, max_control_ = max_cntrl, min_control_ = min_cntrl,\n",
    "            t_sim_ = dur, t_sim_pre_ = dur_pre, t_sim_post_ = dur_post, CGVar = None,\n",
    "            control_variables_ = [0,1], prec_variables_ = prec_vars, transition_time_ = trans_time,\n",
    "            noise_real= noise_realizations, init_params = initVars[i], method='M2')\n",
    "\n",
    "        control_init = bestControl[i][:,:,100:-100]\n",
    "        setinit(initVars[i], aln)\n",
    "\n",
    "        plt.plot(np.arange(0,dur+aln.params.dt,aln.params.dt), control_init[0,0,:]/5., color=exc_red)\n",
    "        plt.plot(np.arange(0,dur+aln.params.dt,aln.params.dt), control_init[0,1,:]/5., color=inh_blue)\n",
    "        plt.show()\n",
    "\n",
    "        control_E[i] = bestControl[i].copy()\n",
    "        \n",
    "        #cost_minind = 0\n",
    "        #cost_E[i] = np.zeros(( max_it ))\n",
    "        #for k in range(len(cost_E[i])):\n",
    "        #    cost_E[i][k] = np.mean(cost_[i][:,k])\n",
    "        #    if cost_E[i][k] > 0.:\n",
    "        #        cost_minind = k\n",
    "\n",
    "        #with open(file_E,'wb') as f:\n",
    "        #    pickle.dump([control_E, cost_E], f)"
   ]
  },
  {
   "cell_type": "code",
   "execution_count": null,
   "metadata": {
    "scrolled": true
   },
   "outputs": [],
   "source": [
    "for i in i_range:\n",
    "    \n",
    "    aln.params.ext_exc_current = exc[i] * 5.\n",
    "    aln.params.ext_inh_current = inh[i] * 5.\n",
    "\n",
    "    print(\"------- \", i, exc[i], inh[i])\n",
    "    if i in stateswitch_i:\n",
    "        continue\n",
    "    \n",
    "    aln.params.duration = dur\n",
    "    init_control = aln.getZeroControl()           \n",
    "    init_control[:,:,:] = control_E[i][:,:,100:-100]\n",
    "        \n",
    "    target_ = target[i].copy()\n",
    "    target_[0,0,:int(trans_time * dur / aln.params.dt)] = -1000\n",
    "    target_[0,1,:int(trans_time * dur / aln.params.dt)] = -1000\n",
    "    \n",
    "    cost_E_final[i] = np.zeros(( noise_realizations_final ))\n",
    "    \n",
    "    for n_ in range(noise_realizations_final):\n",
    "    \n",
    "        setinit(initVars[i], aln)\n",
    "        state_ = fo.updateState(aln, init_control)\n",
    "        cost_E_final[i][n_] = cost.f_int(init_control.shape[0], init_control.shape[1],\n",
    "                        init_control.shape[2], aln.params.dt, state_, target_, init_control, w_p[i], w_e, w_s)\n",
    "        \n",
    "    print(np.mean(cost_E_final[i]))"
   ]
  },
  {
   "cell_type": "code",
   "execution_count": 177,
   "metadata": {},
   "outputs": [
    {
     "name": "stdout",
     "output_type": "stream",
     "text": [
      "-------  20 0.4500000000000001 0.4750000000000002\n",
      "mean =  12.109944549009162\n",
      "-------  50 0.47500000000000014 0.6000000000000003\n",
      "mean =  12.999517151973187\n"
     ]
    }
   ],
   "source": [
    "dt = aln.params.dt\n",
    "\n",
    "for i in i_range:\n",
    "    \n",
    "    aln.params.ext_exc_current = exc[i] * 5.\n",
    "    aln.params.ext_inh_current = inh[i] * 5.\n",
    "\n",
    "    print(\"------- \", i, exc[i], inh[i])\n",
    "    if i in stateswitch_i:\n",
    "        continue\n",
    "    \n",
    "    aln.params.duration = dur\n",
    "    init_control = aln.getZeroControl()           \n",
    "    init_control[:,:,:] = control_E[i][:,:,100:-100]\n",
    "        \n",
    "    target_ = target[i].copy()\n",
    "    target_[0,0,:int(trans_time * dur / aln.params.dt)] = -1000\n",
    "    target_[0,1,:int(trans_time * dur / aln.params.dt)] = -1000\n",
    "    \n",
    "    cost_E_final[i] = np.zeros(( noise_realizations_final ))\n",
    "    \n",
    "    T = init_control.shape[2]\n",
    "        \n",
    "    for n_ in range(noise_realizations_final):\n",
    "    \n",
    "        setinit(initVars[i], aln)\n",
    "        state_ = fo.updateState(aln, init_control)\n",
    "        cost_E_final[i][n_] += cost.numba_cost_precision_int(1,T,dt,w_p[i],state_, target_, list(prec_vars) )\n",
    "        cost_E_final[i][n_] += cost.numba_cost_sparsity_int(1, 6, T, w_s, dt, init_control)\n",
    "        \n",
    "    print('mean = ', np.mean(cost_E_final[i]))"
   ]
  },
  {
   "cell_type": "code",
   "execution_count": null,
   "metadata": {},
   "outputs": [],
   "source": [
    "10 it : 11.25 13.11\n",
    "+10 : 10.94  12.70\n",
    "+10 : 14.13  12.23\n",
    "+10 : 12.89  13.06\n",
    "+10 : 16.42  12.17\n",
    "+10 : 13.68  13.46\n",
    "+10 : 12.11  13.00"
   ]
  },
  {
   "cell_type": "code",
   "execution_count": 56,
   "metadata": {
    "scrolled": true
   },
   "outputs": [
    {
     "name": "stdout",
     "output_type": "stream",
     "text": [
      "-------  30 0.4250000000000001 0.5250000000000002 40\n",
      "set cost params:  0.0007480421659508388 0.0 1.0\n",
      "interpolate adjoint :  True True True\n",
      "RUN  0 , total integrated cost =  16.64750028620248\n",
      "Gradient descend method:  None\n",
      "RUN  1 , total integrated cost =  11.19945643743411\n",
      "RUN  2 , total integrated cost =  11.902489170326177\n",
      "RUN  3 , total integrated cost =  13.005885465873154\n",
      "RUN  4 , total integrated cost =  12.014012227149841\n",
      "RUN  5 , total integrated cost =  12.29235784897859\n",
      "no cost improvement\n",
      "RUN  6 , total integrated cost =  10.919623791183614\n",
      "RUN  6 , total integrated cost mean =  10.919623791183614\n",
      "Improved over  6  iterations in  7.4224008139863145  seconds by  34.4068262294379  percent.\n"
     ]
    },
    {
     "data": {
      "image/png": "[encoded data removed]",
      "text/plain": [
       "<Figure size 432x288 with 1 Axes>"
      ]
     },
     "metadata": {
      "needs_background": "light"
     },
     "output_type": "display_data"
    },
    {
     "name": "stdout",
     "output_type": "stream",
     "text": [
      "set cost params:  0.00042319840727018064 0.0 1.0\n",
      "interpolate adjoint :  True True True\n",
      "RUN  0 , total integrated cost =  15.523631799116524\n",
      "Gradient descend method:  None\n",
      "RUN  1 , total integrated cost =  8.315092658147467\n",
      "RUN  2 , total integrated cost =  8.264472909258407\n",
      "RUN  3 , total integrated cost =  8.497134513231359\n",
      "RUN  4 , total integrated cost =  8.51713701715382\n",
      "RUN  5 , total integrated cost =  8.710350082872377\n",
      "no cost improvement\n",
      "RUN  6 , total integrated cost =  8.57024342528423\n",
      "RUN  7 , total integrated cost =  8.321576977464339\n",
      "RUN  7 , total integrated cost mean =  8.321576977464339\n",
      "Improved over  7  iterations in  22.11389090400189  seconds by  46.39413582369344  percent.\n"
     ]
    },
    {
     "data": {
      "image/png": "[encoded data removed]",
      "text/plain": [
       "<Figure size 432x288 with 1 Axes>"
      ]
     },
     "metadata": {
      "needs_background": "light"
     },
     "output_type": "display_data"
    },
    {
     "name": "stdout",
     "output_type": "stream",
     "text": [
      "-------  60 0.5500000000000003 0.6250000000000003 40\n",
      "set cost params:  0.0009925856963694138 0.0 1.0\n",
      "interpolate adjoint :  True True True\n",
      "RUN  0 , total integrated cost =  13.484614187010646\n",
      "Gradient descend method:  None\n",
      "RUN  1 , total integrated cost =  10.147888802280884\n",
      "RUN  2 , total integrated cost =  9.955826247283408\n",
      "RUN  3 , total integrated cost =  10.32407492053577\n",
      "RUN  4 , total integrated cost =  9.658388219421322\n",
      "RUN  5 , total integrated cost =  9.719427788795429\n",
      "RUN  6 , total integrated cost =  10.15533702807086\n",
      "RUN  7 , total integrated cost =  9.574578685653723\n",
      "RUN  8 , total integrated cost =  9.70584852568182\n",
      "RUN  9 , total integrated cost =  9.840626428500665\n",
      "RUN  10 , total integrated cost =  8.923520850838454\n",
      "RUN  10 , total integrated cost mean =  8.923520850838454\n",
      "Improved over  10  iterations in  13.364772562985308  seconds by  33.824425919176576  percent.\n"
     ]
    },
    {
     "data": {
      "image/png": "[encoded data removed]",
      "text/plain": [
       "<Figure size 432x288 with 1 Axes>"
      ]
     },
     "metadata": {
      "needs_background": "light"
     },
     "output_type": "display_data"
    },
    {
     "name": "stdout",
     "output_type": "stream",
     "text": [
      "set cost params:  0.0005583387055123369 0.0 1.0\n",
      "interpolate adjoint :  True True True\n",
      "RUN  0 , total integrated cost =  8.909187640911762\n",
      "Gradient descend method:  None\n",
      "RUN  1 , total integrated cost =  8.363491042518977\n",
      "RUN  2 , total integrated cost =  8.100816824280468\n",
      "RUN  3 , total integrated cost =  7.896142054184381\n",
      "RUN  4 , total integrated cost =  7.852988274102321\n",
      "RUN  5 , total integrated cost =  7.807258857175205\n",
      "RUN  6 , total integrated cost =  7.7042367842282236\n",
      "RUN  7 , total integrated cost =  7.962666837458988\n",
      "RUN  8 , total integrated cost =  8.123876198135527\n",
      "RUN  9 , total integrated cost =  7.963693809755459\n",
      "RUN  10 , total integrated cost =  7.9652827919907905\n",
      "RUN  11 , total integrated cost =  7.746850382521951\n",
      "RUN  12 , total integrated cost =  7.973275960218418\n",
      "RUN  13 , total integrated cost =  7.9021478627753226\n",
      "RUN  14 , total integrated cost =  8.025905284164867\n",
      "no cost improvement\n",
      "RUN  15 , total integrated cost =  7.810782001897806\n",
      "RUN  15 , total integrated cost mean =  7.810782001897806\n",
      "Improved over  15  iterations in  44.8062263810134  seconds by  12.328909023870835  percent.\n"
     ]
    },
    {
     "data": {
      "image/png": "[encoded data removed]",
      "text/plain": [
       "<Figure size 432x288 with 1 Axes>"
      ]
     },
     "metadata": {
      "needs_background": "light"
     },
     "output_type": "display_data"
    }
   ],
   "source": [
    "# I init\n",
    "\n",
    "for i in i_range:\n",
    "    \n",
    "    if i not in [30,60]:\n",
    "        continue\n",
    "    \n",
    "    aln.params.ext_exc_current = exc[i] * 5.\n",
    "    aln.params.ext_inh_current = inh[i] * 5.\n",
    "\n",
    "    print(\"------- \", i, exc[i], inh[i], noise_realizations)\n",
    "    if i in stateswitch_i:\n",
    "        continue\n",
    "    \n",
    "    control_list = []\n",
    "    cost_list = []\n",
    "    \n",
    "    setinit(initVars[i], aln)\n",
    "    aln.params.duration = dur\n",
    "    \n",
    "    pulse_init = aln.getZeroControl()\n",
    "    pulse_init[0,1,1600:1730] = -2.4\n",
    "        \n",
    "    cost.setParams(w_p_0[i], w_e, w_s)\n",
    "    \n",
    "    it_init = 10\n",
    "    c_init = zero_init.copy()\n",
    "    if i in [30, 60]:\n",
    "        c_init[:,1,:] = 1.5 * control_I[i-10][:,1,100:-100]\n",
    "\n",
    "    bestControl[i], bestState[i], cost_[i], runtime, grad, phi, costnode[i], total_cost_mean_std = aln.A1(\n",
    "        c_init, target[i], c_scheme, u_mat, u_scheme, max_iteration_ = it_init,\n",
    "        tolerance_ = tol, startStep_ = start_step, max_control_ = max_cntrl, min_control_ = min_cntrl,\n",
    "        t_sim_ = dur, t_sim_pre_ = dur_pre, t_sim_post_ = dur_post, CGVar = None,\n",
    "        control_variables_ = [1], prec_variables_ = [0], transition_time_ = trans_time,\n",
    "        noise_real=noise_realizations, init_params = initVars[i], method='M2')\n",
    "\n",
    "    control_init = bestControl[i][:,:,100:-100]\n",
    "    setinit(initVars[i], aln)\n",
    "    \n",
    "    plt.plot(np.arange(0,dur+aln.params.dt,aln.params.dt), control_init[0,0,:]/5., color=exc_red)\n",
    "    plt.plot(np.arange(0,dur+aln.params.dt,aln.params.dt), control_init[0,1,:]/5., color=inh_blue)\n",
    "    plt.show()\n",
    "    \n",
    "    cost.setParams(w_p[i], w_e, w_s)\n",
    "        \n",
    "    bestControl[i], bestState[i], cost_[i], runtime, grad, phi, costnode[i], total_cost_mean_std = aln.A1(\n",
    "        control_init, target[i], c_scheme, u_mat, u_scheme, max_iteration_ = max_it,\n",
    "        tolerance_ = tol, startStep_ = start_step, max_control_ = max_cntrl, min_control_ = min_cntrl,\n",
    "        t_sim_ = dur, t_sim_pre_ = dur_pre, t_sim_post_ = dur_post, CGVar = None,\n",
    "        control_variables_ = [0,1], prec_variables_ = prec_vars, transition_time_ = trans_time,\n",
    "        noise_real=noise_realizations, init_params = initVars[i], method='M2')\n",
    "    \n",
    "    control_init = bestControl[i][:,:,100:-100]\n",
    "    setinit(initVars[i], aln)\n",
    "    \n",
    "    plt.plot(np.arange(0,dur+aln.params.dt,aln.params.dt), control_init[0,0,:]/5., color=exc_red)\n",
    "    plt.plot(np.arange(0,dur+aln.params.dt,aln.params.dt), control_init[0,1,:]/5., color=inh_blue)\n",
    "    plt.show()\n",
    "\n",
    "    control_I[i] = bestControl[i]\n",
    "    cost_minind = 0\n",
    "    cost_I[i] = np.zeros(( max_it ))\n",
    "    for k in range(len(cost_I[i])):\n",
    "        cost_I[i][k] = np.mean(cost_[i][:,k])\n",
    "        if cost_I[i][k] > 0.:\n",
    "            cost_minind = k\n",
    "\n",
    "    #print(cost_I[i])\n",
    "    \n",
    "    with open(file_I,'wb') as f:\n",
    "        pickle.dump([control_I, cost_I], f)"
   ]
  },
  {
   "cell_type": "code",
   "execution_count": 208,
   "metadata": {},
   "outputs": [
    {
     "name": "stdout",
     "output_type": "stream",
     "text": [
      "file found\n"
     ]
    }
   ],
   "source": [
    "if os.path.isfile(file_I) :\n",
    "    print(\"file found\")\n",
    "    \n",
    "    with open(file_I,'rb') as f:\n",
    "        load_array = pickle.load(f)\n",
    "\n",
    "    control_ = load_array[0]\n",
    "    cost_ = load_array[1]\n",
    "\n",
    "for i in i_range:\n",
    "    if i in stateswitch_i:\n",
    "        continue\n",
    "    control_I[i] = control_[i].copy()"
   ]
  },
  {
   "cell_type": "code",
   "execution_count": 105,
   "metadata": {
    "scrolled": true
   },
   "outputs": [
    {
     "name": "stdout",
     "output_type": "stream",
     "text": [
      "-------  20 0.4500000000000001 0.4750000000000002\n",
      "repeat  0\n",
      "set cost params:  0.0004852946241771807 0.0 1.0\n",
      "interpolate adjoint :  True True True\n",
      "RUN  0 , total integrated cost =  8.191360198763181\n",
      "Gradient descend method:  None\n",
      "RUN  1 , total integrated cost =  6.701849104088555\n",
      "RUN  2 , total integrated cost =  6.803068520319099\n",
      "RUN  3 , total integrated cost =  6.973108721816575\n"
     ]
    },
    {
     "ename": "KeyboardInterrupt",
     "evalue": "",
     "output_type": "error",
     "traceback": [
      "\u001b[0;31m---------------------------------------------------------------------------\u001b[0m",
      "\u001b[0;31mKeyboardInterrupt\u001b[0m                         Traceback (most recent call last)",
      "\u001b[0;32m/tmp/ipykernel_153025/3476629490.py\u001b[0m in \u001b[0;36m<module>\u001b[0;34m\u001b[0m\n\u001b[1;32m     19\u001b[0m         \u001b[0msetinit\u001b[0m\u001b[0;34m(\u001b[0m\u001b[0minitVars\u001b[0m\u001b[0;34m[\u001b[0m\u001b[0mi\u001b[0m\u001b[0;34m]\u001b[0m\u001b[0;34m,\u001b[0m \u001b[0maln\u001b[0m\u001b[0;34m)\u001b[0m\u001b[0;34m\u001b[0m\u001b[0;34m\u001b[0m\u001b[0m\n\u001b[1;32m     20\u001b[0m \u001b[0;34m\u001b[0m\u001b[0m\n\u001b[0;32m---> 21\u001b[0;31m         bestControl[i], bestState[i], cost_[i], runtime, grad, phi, costnode[i], total_cost_mean_std = aln.A1(\n\u001b[0m\u001b[1;32m     22\u001b[0m             \u001b[0mcontrol_init\u001b[0m\u001b[0;34m,\u001b[0m \u001b[0mtarget\u001b[0m\u001b[0;34m[\u001b[0m\u001b[0mi\u001b[0m\u001b[0;34m]\u001b[0m\u001b[0;34m,\u001b[0m \u001b[0mc_scheme\u001b[0m\u001b[0;34m,\u001b[0m \u001b[0mu_mat\u001b[0m\u001b[0;34m,\u001b[0m \u001b[0mu_scheme\u001b[0m\u001b[0;34m,\u001b[0m \u001b[0mmax_iteration_\u001b[0m \u001b[0;34m=\u001b[0m \u001b[0mmax_it\u001b[0m\u001b[0;34m,\u001b[0m\u001b[0;34m\u001b[0m\u001b[0;34m\u001b[0m\u001b[0m\n\u001b[1;32m     23\u001b[0m             \u001b[0mtolerance_\u001b[0m \u001b[0;34m=\u001b[0m \u001b[0mtol\u001b[0m\u001b[0;34m,\u001b[0m \u001b[0mstartStep_\u001b[0m \u001b[0;34m=\u001b[0m \u001b[0mstart_step\u001b[0m\u001b[0;34m,\u001b[0m \u001b[0mmax_control_\u001b[0m \u001b[0;34m=\u001b[0m \u001b[0mmax_cntrl\u001b[0m\u001b[0;34m,\u001b[0m \u001b[0mmin_control_\u001b[0m \u001b[0;34m=\u001b[0m \u001b[0mmin_cntrl\u001b[0m\u001b[0;34m,\u001b[0m\u001b[0;34m\u001b[0m\u001b[0;34m\u001b[0m\u001b[0m\n",
      "\u001b[0;32m~/Promotion/neurolib/neurolib/models/model.py\u001b[0m in \u001b[0;36mA1\u001b[0;34m(self, control_, target_state_, c_scheme_, u_mat_, u_scheme_, max_iteration_, tolerance_, startStep_, max_control_, min_control_, t_sim_, t_sim_pre_, t_sim_post_, CGVar, line_search_, control_variables_, prec_variables_, separate_comp, transition_time_, noise_real, init_params, method)\u001b[0m\n\u001b[1;32m    673\u001b[0m                                                 line_search_, control_variables_, prec_variables_, separate_comp, transition_time_)\n\u001b[1;32m    674\u001b[0m                     \u001b[0;32melif\u001b[0m \u001b[0mmethod\u001b[0m \u001b[0;34m==\u001b[0m \u001b[0;34m'M2'\u001b[0m\u001b[0;34m:\u001b[0m\u001b[0;34m\u001b[0m\u001b[0;34m\u001b[0m\u001b[0m\n\u001b[0;32m--> 675\u001b[0;31m                         return M2_noise.M2(self, noise_real, init_params, control_, target_state_, c_scheme_, u_mat_, u_scheme_, max_iteration_,\n\u001b[0m\u001b[1;32m    676\u001b[0m                                                 \u001b[0mtolerance_\u001b[0m\u001b[0;34m,\u001b[0m \u001b[0mstartStep_\u001b[0m\u001b[0;34m,\u001b[0m \u001b[0mmax_control_\u001b[0m\u001b[0;34m,\u001b[0m \u001b[0mmin_control_\u001b[0m\u001b[0;34m,\u001b[0m \u001b[0mt_sim_\u001b[0m\u001b[0;34m,\u001b[0m \u001b[0mt_sim_pre_\u001b[0m\u001b[0;34m,\u001b[0m \u001b[0mt_sim_post_\u001b[0m\u001b[0;34m,\u001b[0m \u001b[0mCGVar\u001b[0m\u001b[0;34m,\u001b[0m\u001b[0;34m\u001b[0m\u001b[0;34m\u001b[0m\u001b[0m\n\u001b[1;32m    677\u001b[0m                                                 line_search_, control_variables_, prec_variables_, separate_comp, transition_time_)\n",
      "\u001b[0;32m~/Promotion/neurolib/neurolib/utils/M2_noise.py\u001b[0m in \u001b[0;36mM2\u001b[0;34m(model, noise_real, init_params, control_, target_state, c_scheme_, u_mat_, u_scheme_, max_iteration_, tolerance_, startStep_, cntrl_max_, cntrl_min_, t_sim_, t_sim_pre_, t_sim_post_, CGVar, line_search_, control_variables_, prec_variables_, separate_comp, transition_time_)\u001b[0m\n\u001b[1;32m    398\u001b[0m             \u001b[0mstate_noise\u001b[0m\u001b[0;34m[\u001b[0m\u001b[0;36m0\u001b[0m\u001b[0;34m]\u001b[0m \u001b[0;34m=\u001b[0m \u001b[0mstate0_\u001b[0m\u001b[0;34m[\u001b[0m\u001b[0mnoise_\u001b[0m\u001b[0;34m]\u001b[0m\u001b[0;34m\u001b[0m\u001b[0;34m\u001b[0m\u001b[0m\n\u001b[1;32m    399\u001b[0m \u001b[0;34m\u001b[0m\u001b[0m\n\u001b[0;32m--> 400\u001b[0;31m             step_, dir0_, cost_ = fo.get_step_noise(line_search_func, model, N, n_control_vars, T, dt, 1, state_noise, target_state_,\n\u001b[0m\u001b[1;32m    401\u001b[0m                         \u001b[0mbest_control_mean_\u001b[0m\u001b[0;34m,\u001b[0m \u001b[0mdir0_\u001b[0m\u001b[0;34m,\u001b[0m \u001b[0mip_\u001b[0m\u001b[0;34m,\u001b[0m \u001b[0mie_\u001b[0m\u001b[0;34m,\u001b[0m \u001b[0mis_\u001b[0m\u001b[0;34m,\u001b[0m \u001b[0mstartstep_exc_\u001b[0m\u001b[0;34m,\u001b[0m \u001b[0mstartstep_inh_\u001b[0m\u001b[0;34m,\u001b[0m \u001b[0mstart_step_noise_\u001b[0m\u001b[0;34m,\u001b[0m \u001b[0mcntrl_max_\u001b[0m\u001b[0;34m,\u001b[0m\u001b[0;34m\u001b[0m\u001b[0;34m\u001b[0m\u001b[0m\n\u001b[1;32m    402\u001b[0m                         cntrl_min_, grad1_, total_cost_[noise_,i-1], init_vars_sim, startind_, prec_vars=prec_variables, control_vars=control_variables, separate_comp=True, noise_in_step_comp = False)\n",
      "\u001b[0;32m~/Promotion/neurolib/neurolib/utils/func_optimize.py\u001b[0m in \u001b[0;36mget_step_noise\u001b[0;34m(line_search_func, model, N, n_control_vars, T, dt, noise_real, state0_, target_state_, best_control_, dir0_, ip_, ie_, is_, startstep_exc_, startstep_inh_, start_step_noise_, cntrl_max_, cntrl_min_, grad1_, cost_init, init_vars, startind, prec_vars, control_vars, separate_comp, noise_in_step_comp)\u001b[0m\n\u001b[1;32m    502\u001b[0m \u001b[0;34m\u001b[0m\u001b[0m\n\u001b[1;32m    503\u001b[0m     \u001b[0;32mif\u001b[0m \u001b[0mnoise_in_step_comp\u001b[0m \u001b[0;34m==\u001b[0m \u001b[0;32mFalse\u001b[0m\u001b[0;34m:\u001b[0m\u001b[0;34m\u001b[0m\u001b[0;34m\u001b[0m\u001b[0m\n\u001b[0;32m--> 504\u001b[0;31m         s_noise, tc_noise, start_step_noise_ = step_noise_1(line_search_func, model, noise_real, N, n_control_vars, T, dt, state0_, target_state_,\n\u001b[0m\u001b[1;32m    505\u001b[0m                     \u001b[0mbest_control_\u001b[0m\u001b[0;34m,\u001b[0m \u001b[0mdir0_\u001b[0m\u001b[0;34m,\u001b[0m \u001b[0mip_\u001b[0m\u001b[0;34m,\u001b[0m \u001b[0mie_\u001b[0m\u001b[0;34m,\u001b[0m \u001b[0mis_\u001b[0m\u001b[0;34m,\u001b[0m \u001b[0mcost_init\u001b[0m\u001b[0;34m,\u001b[0m \u001b[0mstart_step_noise_\u001b[0m\u001b[0;34m,\u001b[0m\u001b[0;34m\u001b[0m\u001b[0;34m\u001b[0m\u001b[0m\n\u001b[1;32m    506\u001b[0m                     cntrl_max_, cntrl_min_, prec_vars, grad1_, init_vars, startind)\n",
      "\u001b[0;32m~/Promotion/neurolib/neurolib/utils/func_optimize.py\u001b[0m in \u001b[0;36mstep_noise_1\u001b[0;34m(line_search_func, model, noise_real, N, n_control_vars, T, dt, state0_, target_state_, best_control_, d_, ip_, ie_, is_, cost_init, startstep_, cntrl_max_, cntrl_min_, prec_vars, grad1_, init_vars_, startind_)\u001b[0m\n\u001b[1;32m    387\u001b[0m         \u001b[0;32mwhile\u001b[0m \u001b[0mn_\u001b[0m \u001b[0;34m<\u001b[0m \u001b[0mnoise_real\u001b[0m\u001b[0;34m:\u001b[0m\u001b[0;34m\u001b[0m\u001b[0;34m\u001b[0m\u001b[0m\n\u001b[1;32m    388\u001b[0m \u001b[0;34m\u001b[0m\u001b[0m\n\u001b[0;32m--> 389\u001b[0;31m             s_[n_], tc_[n_], ss_[n_] = line_search_func(model, N, n_control_vars, T, dt, state0_[n_][:,:2,:], target_state_,\n\u001b[0m\u001b[1;32m    390\u001b[0m                                 \u001b[0mbest_control_\u001b[0m\u001b[0;34m,\u001b[0m \u001b[0md_\u001b[0m\u001b[0;34m,\u001b[0m \u001b[0mip_\u001b[0m\u001b[0;34m,\u001b[0m \u001b[0mie_\u001b[0m\u001b[0;34m,\u001b[0m \u001b[0mis_\u001b[0m\u001b[0;34m,\u001b[0m \u001b[0mstart_step_\u001b[0m \u001b[0;34m=\u001b[0m \u001b[0mss_\u001b[0m\u001b[0;34m[\u001b[0m\u001b[0mn_\u001b[0m\u001b[0;34m]\u001b[0m\u001b[0;34m,\u001b[0m \u001b[0mmax_it_\u001b[0m \u001b[0;34m=\u001b[0m \u001b[0;36m500\u001b[0m\u001b[0;34m,\u001b[0m\u001b[0;34m\u001b[0m\u001b[0;34m\u001b[0m\u001b[0m\n\u001b[1;32m    391\u001b[0m                                 max_control_ = cntrl_max_, min_control_ = cntrl_min_, variables_ = prec_vars, grad_ = grad1_, noise_real=0, init_vars=init_vars_[n_], startind_=startind_)\n",
      "\u001b[0;32m~/Promotion/neurolib/neurolib/utils/func_optimize.py\u001b[0m in \u001b[0;36mstep_size\u001b[0;34m(model, N, V, T, dt, state_, target_, control_, dir_, ip_, ie_, is_, start_step_, max_it_, bisec_factor_, max_control_, min_control_, tolerance_, substep_, variables_, alg, control_parameter, grad_, noise_real, init_vars, startind_)\u001b[0m\n\u001b[1;32m    235\u001b[0m                 \u001b[0mset_init\u001b[0m\u001b[0;34m(\u001b[0m\u001b[0mmodel\u001b[0m\u001b[0;34m,\u001b[0m \u001b[0minit_vars\u001b[0m\u001b[0;34m,\u001b[0m \u001b[0mmodel\u001b[0m\u001b[0;34m.\u001b[0m\u001b[0minit_vars\u001b[0m\u001b[0;34m,\u001b[0m \u001b[0mmodel\u001b[0m\u001b[0;34m.\u001b[0m\u001b[0mstate_vars\u001b[0m\u001b[0;34m,\u001b[0m \u001b[0mstartind_\u001b[0m\u001b[0;34m)\u001b[0m\u001b[0;34m\u001b[0m\u001b[0;34m\u001b[0m\u001b[0m\n\u001b[1;32m    236\u001b[0m             \u001b[0mstate1_\u001b[0m \u001b[0;34m=\u001b[0m \u001b[0mupdateState\u001b[0m\u001b[0;34m(\u001b[0m\u001b[0mmodel\u001b[0m\u001b[0;34m,\u001b[0m \u001b[0mtest_control_\u001b[0m\u001b[0;34m)\u001b[0m\u001b[0;34m\u001b[0m\u001b[0;34m\u001b[0m\u001b[0m\n\u001b[0;32m--> 237\u001b[0;31m             \u001b[0mcost1_int_\u001b[0m \u001b[0;34m=\u001b[0m \u001b[0mcost\u001b[0m\u001b[0;34m.\u001b[0m\u001b[0mf_int\u001b[0m\u001b[0;34m(\u001b[0m\u001b[0mN\u001b[0m\u001b[0;34m,\u001b[0m \u001b[0mV\u001b[0m\u001b[0;34m,\u001b[0m \u001b[0mT\u001b[0m\u001b[0;34m,\u001b[0m \u001b[0mdt\u001b[0m\u001b[0;34m,\u001b[0m \u001b[0mstate1_\u001b[0m\u001b[0;34m,\u001b[0m \u001b[0mtarget_\u001b[0m\u001b[0;34m,\u001b[0m \u001b[0mtest_control_\u001b[0m\u001b[0;34m,\u001b[0m \u001b[0mip_\u001b[0m\u001b[0;34m,\u001b[0m \u001b[0mie_\u001b[0m\u001b[0;34m,\u001b[0m \u001b[0mis_\u001b[0m\u001b[0;34m,\u001b[0m \u001b[0mv_\u001b[0m \u001b[0;34m=\u001b[0m \u001b[0mvariables_\u001b[0m\u001b[0;34m)\u001b[0m\u001b[0;34m\u001b[0m\u001b[0;34m\u001b[0m\u001b[0m\n\u001b[0m\u001b[1;32m    238\u001b[0m         \u001b[0;32melse\u001b[0m\u001b[0;34m:\u001b[0m\u001b[0;34m\u001b[0m\u001b[0;34m\u001b[0m\u001b[0m\n\u001b[1;32m    239\u001b[0m             \u001b[0mcost1_int_\u001b[0m \u001b[0;34m=\u001b[0m \u001b[0;36m0.\u001b[0m\u001b[0;34m\u001b[0m\u001b[0;34m\u001b[0m\u001b[0m\n",
      "\u001b[0;32m~/Promotion/neurolib/neurolib/utils/costFunctions.py\u001b[0m in \u001b[0;36mf_int\u001b[0;34m(N, V, T, dt, state_, target_, control_, i_p, i_e, i_s, v_)\u001b[0m\n\u001b[1;32m    294\u001b[0m \u001b[0;34m\u001b[0m\u001b[0m\n\u001b[1;32m    295\u001b[0m     \u001b[0;32mif\u001b[0m \u001b[0mN\u001b[0m \u001b[0;34m<\u001b[0m \u001b[0;36m2\u001b[0m\u001b[0;34m:\u001b[0m\u001b[0;34m\u001b[0m\u001b[0;34m\u001b[0m\u001b[0m\n\u001b[0;32m--> 296\u001b[0;31m         \u001b[0mvar\u001b[0m \u001b[0;34m=\u001b[0m \u001b[0mmakeList\u001b[0m\u001b[0;34m(\u001b[0m\u001b[0mv_\u001b[0m\u001b[0;34m)\u001b[0m\u001b[0;34m\u001b[0m\u001b[0;34m\u001b[0m\u001b[0m\n\u001b[0m\u001b[1;32m    297\u001b[0m     \u001b[0;32melse\u001b[0m\u001b[0;34m:\u001b[0m\u001b[0;34m\u001b[0m\u001b[0;34m\u001b[0m\u001b[0m\n\u001b[1;32m    298\u001b[0m         \u001b[0mvar\u001b[0m \u001b[0;34m=\u001b[0m \u001b[0mv_\u001b[0m\u001b[0;34m\u001b[0m\u001b[0;34m\u001b[0m\u001b[0m\n",
      "\u001b[0;32m~/Promotion/neurolib/neurolib/utils/costFunctions.py\u001b[0m in \u001b[0;36mmakeList\u001b[0;34m(list_)\u001b[0m\n\u001b[1;32m     14\u001b[0m     \u001b[0ml\u001b[0m \u001b[0;34m=\u001b[0m \u001b[0mList\u001b[0m\u001b[0;34m(\u001b[0m\u001b[0;34m)\u001b[0m\u001b[0;34m\u001b[0m\u001b[0;34m\u001b[0m\u001b[0m\n\u001b[1;32m     15\u001b[0m     \u001b[0;32mfor\u001b[0m \u001b[0ml0\u001b[0m \u001b[0;32min\u001b[0m \u001b[0mlist_\u001b[0m\u001b[0;34m:\u001b[0m\u001b[0;34m\u001b[0m\u001b[0;34m\u001b[0m\u001b[0m\n\u001b[0;32m---> 16\u001b[0;31m         \u001b[0ml\u001b[0m\u001b[0;34m.\u001b[0m\u001b[0mappend\u001b[0m\u001b[0;34m(\u001b[0m\u001b[0ml0\u001b[0m\u001b[0;34m)\u001b[0m\u001b[0;34m\u001b[0m\u001b[0;34m\u001b[0m\u001b[0m\n\u001b[0m\u001b[1;32m     17\u001b[0m     \u001b[0;32mreturn\u001b[0m \u001b[0ml\u001b[0m\u001b[0;34m\u001b[0m\u001b[0;34m\u001b[0m\u001b[0m\n\u001b[1;32m     18\u001b[0m \u001b[0;34m\u001b[0m\u001b[0m\n",
      "\u001b[0;32m~/.local/lib/python3.9/site-packages/numba/typed/typedlist.py\u001b[0m in \u001b[0;36mappend\u001b[0;34m(self, item)\u001b[0m\n\u001b[1;32m    341\u001b[0m     \u001b[0;32mdef\u001b[0m \u001b[0mappend\u001b[0m\u001b[0;34m(\u001b[0m\u001b[0mself\u001b[0m\u001b[0;34m,\u001b[0m \u001b[0mitem\u001b[0m\u001b[0;34m:\u001b[0m \u001b[0mT\u001b[0m\u001b[0;34m)\u001b[0m \u001b[0;34m->\u001b[0m \u001b[0;32mNone\u001b[0m\u001b[0;34m:\u001b[0m\u001b[0;34m\u001b[0m\u001b[0;34m\u001b[0m\u001b[0m\n\u001b[1;32m    342\u001b[0m         \u001b[0;32mif\u001b[0m \u001b[0;32mnot\u001b[0m \u001b[0mself\u001b[0m\u001b[0;34m.\u001b[0m\u001b[0m_typed\u001b[0m\u001b[0;34m:\u001b[0m\u001b[0;34m\u001b[0m\u001b[0;34m\u001b[0m\u001b[0m\n\u001b[0;32m--> 343\u001b[0;31m             \u001b[0mself\u001b[0m\u001b[0;34m.\u001b[0m\u001b[0m_initialise_list\u001b[0m\u001b[0;34m(\u001b[0m\u001b[0mitem\u001b[0m\u001b[0;34m)\u001b[0m\u001b[0;34m\u001b[0m\u001b[0;34m\u001b[0m\u001b[0m\n\u001b[0m\u001b[1;32m    344\u001b[0m         \u001b[0m_append\u001b[0m\u001b[0;34m(\u001b[0m\u001b[0mself\u001b[0m\u001b[0;34m,\u001b[0m \u001b[0mitem\u001b[0m\u001b[0;34m)\u001b[0m\u001b[0;34m\u001b[0m\u001b[0;34m\u001b[0m\u001b[0m\n\u001b[1;32m    345\u001b[0m \u001b[0;34m\u001b[0m\u001b[0m\n",
      "\u001b[0;32m~/.local/lib/python3.9/site-packages/numba/typed/typedlist.py\u001b[0m in \u001b[0;36m_initialise_list\u001b[0;34m(self, item)\u001b[0m\n\u001b[1;32m    298\u001b[0m     \u001b[0;32mdef\u001b[0m \u001b[0m_initialise_list\u001b[0m\u001b[0;34m(\u001b[0m\u001b[0mself\u001b[0m\u001b[0;34m,\u001b[0m \u001b[0mitem\u001b[0m\u001b[0;34m)\u001b[0m\u001b[0;34m:\u001b[0m\u001b[0;34m\u001b[0m\u001b[0;34m\u001b[0m\u001b[0m\n\u001b[1;32m    299\u001b[0m         \u001b[0mlsttype\u001b[0m \u001b[0;34m=\u001b[0m \u001b[0mtypes\u001b[0m\u001b[0;34m.\u001b[0m\u001b[0mListType\u001b[0m\u001b[0;34m(\u001b[0m\u001b[0mtypeof\u001b[0m\u001b[0;34m(\u001b[0m\u001b[0mitem\u001b[0m\u001b[0;34m)\u001b[0m\u001b[0;34m)\u001b[0m\u001b[0;34m\u001b[0m\u001b[0;34m\u001b[0m\u001b[0m\n\u001b[0;32m--> 300\u001b[0;31m         \u001b[0mself\u001b[0m\u001b[0;34m.\u001b[0m\u001b[0m_list_type\u001b[0m\u001b[0;34m,\u001b[0m \u001b[0mself\u001b[0m\u001b[0;34m.\u001b[0m\u001b[0m_opaque\u001b[0m \u001b[0;34m=\u001b[0m \u001b[0mself\u001b[0m\u001b[0;34m.\u001b[0m\u001b[0m_parse_arg\u001b[0m\u001b[0;34m(\u001b[0m\u001b[0mlsttype\u001b[0m\u001b[0;34m)\u001b[0m\u001b[0;34m\u001b[0m\u001b[0;34m\u001b[0m\u001b[0m\n\u001b[0m\u001b[1;32m    301\u001b[0m \u001b[0;34m\u001b[0m\u001b[0m\n\u001b[1;32m    302\u001b[0m     \u001b[0;32mdef\u001b[0m \u001b[0m__len__\u001b[0m\u001b[0;34m(\u001b[0m\u001b[0mself\u001b[0m\u001b[0;34m)\u001b[0m \u001b[0;34m->\u001b[0m \u001b[0mint\u001b[0m\u001b[0;34m:\u001b[0m\u001b[0;34m\u001b[0m\u001b[0;34m\u001b[0m\u001b[0m\n",
      "\u001b[0;32m~/.local/lib/python3.9/site-packages/numba/typed/typedlist.py\u001b[0m in \u001b[0;36m_parse_arg\u001b[0;34m(self, lsttype, meminfo, allocated)\u001b[0m\n\u001b[1;32m    275\u001b[0m             \u001b[0mopaque\u001b[0m \u001b[0;34m=\u001b[0m \u001b[0mmeminfo\u001b[0m\u001b[0;34m\u001b[0m\u001b[0;34m\u001b[0m\u001b[0m\n\u001b[1;32m    276\u001b[0m         \u001b[0;32melse\u001b[0m\u001b[0;34m:\u001b[0m\u001b[0;34m\u001b[0m\u001b[0;34m\u001b[0m\u001b[0m\n\u001b[0;32m--> 277\u001b[0;31m             \u001b[0mopaque\u001b[0m \u001b[0;34m=\u001b[0m \u001b[0m_make_list\u001b[0m\u001b[0;34m(\u001b[0m\u001b[0mlsttype\u001b[0m\u001b[0;34m.\u001b[0m\u001b[0mitem_type\u001b[0m\u001b[0;34m,\u001b[0m \u001b[0mallocated\u001b[0m\u001b[0;34m=\u001b[0m\u001b[0mallocated\u001b[0m\u001b[0;34m)\u001b[0m\u001b[0;34m\u001b[0m\u001b[0;34m\u001b[0m\u001b[0m\n\u001b[0m\u001b[1;32m    278\u001b[0m         \u001b[0;32mreturn\u001b[0m \u001b[0mlsttype\u001b[0m\u001b[0;34m,\u001b[0m \u001b[0mopaque\u001b[0m\u001b[0;34m\u001b[0m\u001b[0;34m\u001b[0m\u001b[0m\n\u001b[1;32m    279\u001b[0m \u001b[0;34m\u001b[0m\u001b[0m\n",
      "\u001b[0;32m~/.local/lib/python3.9/site-packages/numba/core/dispatcher.py\u001b[0m in \u001b[0;36mtypeof_pyval\u001b[0;34m(self, val)\u001b[0m\n\u001b[1;32m    684\u001b[0m         \u001b[0;31m# can save a couple µs.\u001b[0m\u001b[0;34m\u001b[0m\u001b[0;34m\u001b[0m\u001b[0m\n\u001b[1;32m    685\u001b[0m         \u001b[0;32mtry\u001b[0m\u001b[0;34m:\u001b[0m\u001b[0;34m\u001b[0m\u001b[0;34m\u001b[0m\u001b[0m\n\u001b[0;32m--> 686\u001b[0;31m             \u001b[0mtp\u001b[0m \u001b[0;34m=\u001b[0m \u001b[0mtypeof\u001b[0m\u001b[0;34m(\u001b[0m\u001b[0mval\u001b[0m\u001b[0;34m,\u001b[0m \u001b[0mPurpose\u001b[0m\u001b[0;34m.\u001b[0m\u001b[0margument\u001b[0m\u001b[0;34m)\u001b[0m\u001b[0;34m\u001b[0m\u001b[0;34m\u001b[0m\u001b[0m\n\u001b[0m\u001b[1;32m    687\u001b[0m         \u001b[0;32mexcept\u001b[0m \u001b[0mValueError\u001b[0m\u001b[0;34m:\u001b[0m\u001b[0;34m\u001b[0m\u001b[0;34m\u001b[0m\u001b[0m\n\u001b[1;32m    688\u001b[0m             \u001b[0mtp\u001b[0m \u001b[0;34m=\u001b[0m \u001b[0mtypes\u001b[0m\u001b[0;34m.\u001b[0m\u001b[0mpyobject\u001b[0m\u001b[0;34m\u001b[0m\u001b[0;34m\u001b[0m\u001b[0m\n",
      "\u001b[0;31mKeyboardInterrupt\u001b[0m: "
     ]
    }
   ],
   "source": [
    "for i in i_range:\n",
    "    \n",
    "    aln.params.ext_exc_current = exc[i] * 5.\n",
    "    aln.params.ext_inh_current = inh[i] * 5.\n",
    "\n",
    "    print(\"------- \", i, exc[i], inh[i])\n",
    "    if i in stateswitch_i:\n",
    "        continue\n",
    "    \n",
    "    for k in range(repeat):\n",
    "        print(\"repeat \", k)\n",
    "    \n",
    "        control_list = []\n",
    "        cost_list = []\n",
    "        aln.params.duration = dur\n",
    "\n",
    "        cost.setParams(w_p[i], w_e, w_s)\n",
    "        control_init = control_I[i][:,:,100:-100]\n",
    "        setinit(initVars[i], aln)\n",
    "\n",
    "        bestControl[i], bestState[i], cost_[i], runtime, grad, phi, costnode[i], total_cost_mean_std = aln.A1(\n",
    "            control_init, target[i], c_scheme, u_mat, u_scheme, max_iteration_ = max_it,\n",
    "            tolerance_ = tol, startStep_ = start_step, max_control_ = max_cntrl, min_control_ = min_cntrl,\n",
    "            t_sim_ = dur, t_sim_pre_ = dur_pre, t_sim_post_ = dur_post, CGVar = None,\n",
    "            control_variables_ = [0,1], prec_variables_ = prec_vars, transition_time_ = trans_time,\n",
    "            noise_real=noise_realizations, init_params = initVars[i], method='M2')\n",
    "\n",
    "        control_init = bestControl[i][:,:,100:-100]\n",
    "        setinit(initVars[i], aln)\n",
    "\n",
    "        plt.plot(np.arange(0,dur+aln.params.dt,aln.params.dt), control_init[0,0,:]/5., color=exc_red)\n",
    "        plt.plot(np.arange(0,dur+aln.params.dt,aln.params.dt), control_init[0,1,:]/5., color=inh_blue)\n",
    "        plt.show()\n",
    "\n",
    "        control_I[i] = bestControl[i]\n",
    "        cost_minind = 0\n",
    "        cost_I[i] = np.zeros(( max_it ))\n",
    "        for k in range(len(cost_I[i])):\n",
    "            cost_I[i][k] = np.mean(cost_[i][:,k])\n",
    "            if cost_I[i][k] > 0.:\n",
    "                cost_minind = k\n",
    "\n",
    "        with open(file_I,'wb') as f:\n",
    "            pickle.dump([control_I, cost_I], f)"
   ]
  },
  {
   "cell_type": "code",
   "execution_count": 75,
   "metadata": {},
   "outputs": [
    {
     "name": "stdout",
     "output_type": "stream",
     "text": [
      "-------  0 0.4000000000000001 0.3500000000000001\n",
      "-------  10 0.4250000000000001 0.42500000000000016\n",
      "13.37356779434171\n",
      "-------  20 0.4500000000000001 0.4750000000000002\n",
      "11.997452791020871\n",
      "-------  30 0.4250000000000001 0.5250000000000002\n",
      "13.485108471411626\n",
      "-------  40 0.5250000000000001 0.5500000000000003\n",
      "9.756746545983475\n",
      "-------  50 0.47500000000000014 0.6000000000000003\n",
      "13.257528851773502\n",
      "-------  60 0.5500000000000003 0.6250000000000003\n",
      "11.802702349666367\n"
     ]
    }
   ],
   "source": [
    "for i in i_range:\n",
    "    \n",
    "    aln.params.ext_exc_current = exc[i] * 5.\n",
    "    aln.params.ext_inh_current = inh[i] * 5.\n",
    "\n",
    "    print(\"------- \", i, exc[i], inh[i])\n",
    "    if i in stateswitch_i:\n",
    "        continue\n",
    "    \n",
    "    aln.params.duration = dur\n",
    "    init_control = aln.getZeroControl()           \n",
    "    init_control[:,:,:] = control_I[i][:,:,100:-100]\n",
    "    \n",
    "    target_ = target[i].copy()\n",
    "    target_[0,0,:int(trans_time * dur / aln.params.dt)] = -1000\n",
    "    target_[0,1,:int(trans_time * dur / aln.params.dt)] = -1000\n",
    "    \n",
    "    cost_I_final[i] = np.zeros(( noise_realizations_final ))\n",
    "    \n",
    "    for n_ in range(noise_realizations_final):\n",
    "    \n",
    "        setinit(initVars[i], aln)\n",
    "        state_ = fo.updateState(aln, init_control)\n",
    "        cost_I_final[i][n_] = cost.f_int(init_control.shape[0], init_control.shape[1],\n",
    "                        init_control.shape[2], aln.params.dt, state_, target_, init_control, w_p[i], w_e, w_s)\n",
    "    \n",
    "    print(np.mean(cost_I_final[i]))"
   ]
  },
  {
   "cell_type": "code",
   "execution_count": 60,
   "metadata": {},
   "outputs": [
    {
     "name": "stdout",
     "output_type": "stream",
     "text": [
      "-------  0 0.4000000000000001 0.3500000000000001\n",
      "-------  10 0.4250000000000001 0.42500000000000016\n",
      "12.150800214723317\n",
      "-------  20 0.4500000000000001 0.4750000000000002\n",
      "8.359626978259827\n",
      "-------  30 0.4250000000000001 0.5250000000000002\n",
      "11.967253776251216\n",
      "-------  40 0.5250000000000001 0.5500000000000003\n",
      "9.397974903269718\n",
      "-------  50 0.47500000000000014 0.6000000000000003\n",
      "9.971544141674118\n",
      "-------  60 0.5500000000000003 0.6250000000000003\n",
      "9.179904880605624\n"
     ]
    }
   ],
   "source": [
    "for i in i_range:\n",
    "    \n",
    "    aln.params.ext_exc_current = exc[i] * 5.\n",
    "    aln.params.ext_inh_current = inh[i] * 5.\n",
    "\n",
    "    print(\"------- \", i, exc[i], inh[i])\n",
    "    if i in stateswitch_i:\n",
    "        continue\n",
    "    \n",
    "    aln.params.duration = dur\n",
    "    init_control = aln.getZeroControl()\n",
    "    \n",
    "    if np.amax(np.abs(init_control_noisefree[i][0,0,:])) > np.amax(np.abs(init_control_noisefree[i][0,1,:])):\n",
    "        c_ind = 0\n",
    "    else:\n",
    "        c_ind = 1\n",
    "    \n",
    "    for t_ in range(init_control_noisefree[i].shape[2]):\n",
    "        if ( np.abs(init_control_noisefree[i][0,c_ind,t_-100+int( (trans_time * dur / aln.params.dt) )])\n",
    "             < np.abs(init_control_noisefree[i][0,c_ind,t_]) ):\n",
    "            break\n",
    "    init_control[:,c_ind,1:1-100+int( (trans_time * dur / aln.params.dt) )] = ( \n",
    "        1.5 * init_control_noisefree[i][:,c_ind,t_:t_-100+int( (trans_time * dur / aln.params.dt) )] )\n",
    "    \n",
    "    control_nf[i] = init_control\n",
    "    \n",
    "    target_ = target[i].copy()\n",
    "    target_[0,0,:int(trans_time * dur / aln.params.dt)] = -1000\n",
    "    target_[0,1,:int(trans_time * dur / aln.params.dt)] = -1000\n",
    "    \n",
    "    cost_nf_final[i] = np.zeros(( noise_realizations_final ))\n",
    "    \n",
    "    for n_ in range(noise_realizations_final):\n",
    "    \n",
    "        setinit(initVars[i], aln)\n",
    "        state_ = fo.updateState(aln, init_control)\n",
    "        cost_nf_final[i][n_] = cost.f_int(init_control.shape[0], init_control.shape[1],\n",
    "                        init_control.shape[2], aln.params.dt, state_, target_, init_control, w_p[i], w_e, w_s)\n",
    "    \n",
    "    print(np.mean(cost_nf_final[i]))"
   ]
  },
  {
   "cell_type": "code",
   "execution_count": 61,
   "metadata": {
    "scrolled": true
   },
   "outputs": [
    {
     "name": "stdout",
     "output_type": "stream",
     "text": [
      "-------  0 0.4000000000000001 0.3500000000000001\n",
      "-------  10 0.4250000000000001 0.42500000000000016\n",
      "set cost params:  0.00043292309974982514 0.0 1.0\n",
      "interpolate adjoint :  True True True\n",
      "RUN  0 , total integrated cost =  6.130401969476818\n",
      "Gradient descend method:  None\n",
      "RUN  1 , total integrated cost =  5.082680873240207\n",
      "RUN  2 , total integrated cost =  5.060089664782635\n",
      "RUN  3 , total integrated cost =  4.966935119142366\n",
      "RUN  4 , total integrated cost =  5.108355010971809\n",
      "RUN  5 , total integrated cost =  5.136389628371024\n",
      "RUN  6 , total integrated cost =  4.77924745164542\n",
      "RUN  7 , total integrated cost =  4.920035818852037\n",
      "RUN  8 , total integrated cost =  5.064450640648978\n",
      "RUN  9 , total integrated cost =  5.235336261393227\n",
      "no cost improvement\n",
      "RUN  10 , total integrated cost =  4.99659904390999\n",
      "RUN  11 , total integrated cost =  5.070496065639827\n",
      "RUN  12 , total integrated cost =  5.023083802071932\n",
      "RUN  13 , total integrated cost =  4.906485496662883\n",
      "RUN  13 , total integrated cost mean =  4.906485496662883\n",
      "Improved over  13  iterations in  37.89522408100311  seconds by  19.96470180761061  percent.\n"
     ]
    },
    {
     "data": {
      "image/png": "[encoded data removed]",
      "text/plain": [
       "<Figure size 432x288 with 1 Axes>"
      ]
     },
     "metadata": {
      "needs_background": "light"
     },
     "output_type": "display_data"
    },
    {
     "name": "stdout",
     "output_type": "stream",
     "text": [
      "[6.13040197 5.08268087 5.06008966 4.96693512 5.10835501 5.13638963\n",
      " 4.77924745 4.92003582 5.06445064 5.23533626 4.99659904 5.07049607\n",
      " 5.0230838  4.9064855  0.         0.         0.         0.\n",
      " 0.         0.         0.         0.         0.         0.\n",
      " 0.         0.         0.         0.         0.         0.\n",
      " 0.         0.         0.         0.         0.         0.\n",
      " 0.         0.         0.         0.         0.         0.\n",
      " 0.         0.         0.         0.         0.         0.\n",
      " 0.         0.         0.         0.         0.         0.\n",
      " 0.         0.         0.         0.         0.         0.\n",
      " 0.         0.         0.         0.         0.         0.\n",
      " 0.         0.         0.         0.        ]\n",
      "-------  20 0.4500000000000001 0.4750000000000002\n",
      "set cost params:  0.00048533461440437175 0.0 1.0\n",
      "interpolate adjoint :  True True True\n",
      "RUN  0 , total integrated cost =  14.607124475271476\n",
      "Gradient descend method:  None\n",
      "RUN  1 , total integrated cost =  6.590651270998903\n",
      "RUN  2 , total integrated cost =  6.8450181030009585\n",
      "RUN  3 , total integrated cost =  6.6590283055809945\n",
      "RUN  4 , total integrated cost =  6.548481788278461\n",
      "RUN  5 , total integrated cost =  6.332775585397213\n",
      "RUN  6 , total integrated cost =  6.809375394623464\n",
      "RUN  7 , total integrated cost =  6.447539910091163\n",
      "RUN  8 , total integrated cost =  6.209416646565748\n",
      "RUN  9 , total integrated cost =  6.165370293915728\n",
      "RUN  10 , total integrated cost =  6.098889716895731\n",
      "RUN  11 , total integrated cost =  5.9923074296005705\n",
      "RUN  12 , total integrated cost =  5.897367127949963\n",
      "RUN  13 , total integrated cost =  6.058072708098291\n",
      "RUN  14 , total integrated cost =  5.900317350100907\n",
      "RUN  15 , total integrated cost =  6.001806587233554\n",
      "RUN  16 , total integrated cost =  5.860021244759578\n",
      "RUN  17 , total integrated cost =  5.890536369910051\n",
      "RUN  18 , total integrated cost =  5.946611160599355\n",
      "RUN  19 , total integrated cost =  5.733137096999283\n",
      "RUN  20 , total integrated cost =  5.763607848353907\n",
      "RUN  30 , total integrated cost =  5.542574640088815\n",
      "RUN  40 , total integrated cost =  5.836185153613171\n",
      "no cost improvement\n",
      "RUN  50 , total integrated cost =  6.127796978301807\n",
      "RUN  51 , total integrated cost mean =  5.727763593838776\n",
      "Improved over  51  iterations in  278.7066281720181  seconds by  60.78787715176006  percent.\n"
     ]
    },
    {
     "data": {
      "image/png": "[encoded data removed]",
      "text/plain": [
       "<Figure size 432x288 with 1 Axes>"
      ]
     },
     "metadata": {
      "needs_background": "light"
     },
     "output_type": "display_data"
    },
    {
     "name": "stdout",
     "output_type": "stream",
     "text": [
      "[14.60712448  6.59065127  6.8450181   6.65902831  6.54848179  6.33277559\n",
      "  6.80937539  6.44753991  6.20941665  6.16537029  6.09888972  5.99230743\n",
      "  5.89736713  6.05807271  5.90031735  6.00180659  5.86002124  5.89053637\n",
      "  5.94661116  5.7331371   5.76360785  5.84985423  5.82750451  5.85093475\n",
      "  5.60700208  6.10040712  5.52410342  5.75061492  5.66308155  5.50461856\n",
      "  5.54257464  5.61791302  5.55223164  5.63981612  5.60813875  5.52731082\n",
      "  5.62186513  5.78190687  6.05689352  5.97651687  5.83618515  5.90639584\n",
      "  5.75511746  5.65204302  5.57692396  5.73746645  5.50722555  5.84650022\n",
      "  6.0421617   6.38737584  6.12779698  5.72776359  0.          0.\n",
      "  0.          0.          0.          0.          0.          0.\n",
      "  0.          0.          0.          0.          0.          0.\n",
      "  0.          0.          0.          0.        ]\n",
      "-------  30 0.4250000000000001 0.5250000000000002\n",
      "set cost params:  0.00042319840727018064 0.0 1.0\n",
      "interpolate adjoint :  True True True\n",
      "RUN  0 , total integrated cost =  11.68860207490046\n",
      "Gradient descend method:  None\n",
      "RUN  1 , total integrated cost =  10.48782483160107\n",
      "RUN  2 , total integrated cost =  10.488719511788855\n",
      "RUN  3 , total integrated cost =  10.21038838618552\n",
      "RUN  4 , total integrated cost =  10.613868700851722\n",
      "RUN  5 , total integrated cost =  10.497197089512674\n",
      "RUN  6 , total integrated cost =  10.375384543238988\n",
      "RUN  7 , total integrated cost =  10.561304355547955\n",
      "no cost improvement\n",
      "RUN  8 , total integrated cost =  10.45239923302452\n",
      "RUN  9 , total integrated cost =  10.268784365722102\n",
      "RUN  9 , total integrated cost mean =  10.268784365722102\n",
      "Improved over  9  iterations in  26.70635547398706  seconds by  12.14702750662721  percent.\n"
     ]
    },
    {
     "data": {
      "image/png": "[encoded data removed]",
      "text/plain": [
       "<Figure size 432x288 with 1 Axes>"
      ]
     },
     "metadata": {
      "needs_background": "light"
     },
     "output_type": "display_data"
    },
    {
     "name": "stdout",
     "output_type": "stream",
     "text": [
      "[11.68860207 10.48782483 10.48871951 10.21038839 10.6138687  10.49719709\n",
      " 10.37538454 10.56130436 10.45239923 10.26878437  0.          0.\n",
      "  0.          0.          0.          0.          0.          0.\n",
      "  0.          0.          0.          0.          0.          0.\n",
      "  0.          0.          0.          0.          0.          0.\n",
      "  0.          0.          0.          0.          0.          0.\n",
      "  0.          0.          0.          0.          0.          0.\n",
      "  0.          0.          0.          0.          0.          0.\n",
      "  0.          0.          0.          0.          0.          0.\n",
      "  0.          0.          0.          0.          0.          0.\n",
      "  0.          0.          0.          0.          0.          0.\n",
      "  0.          0.          0.          0.        ]\n",
      "-------  40 0.5250000000000001 0.5500000000000003\n",
      "set cost params:  0.0005416972460122833 0.0 1.0\n",
      "interpolate adjoint :  True True True\n",
      "RUN  0 , total integrated cost =  15.593230799305207\n",
      "Gradient descend method:  None\n",
      "RUN  1 , total integrated cost =  4.9514023307293105\n",
      "RUN  2 , total integrated cost =  5.0146802233387024\n",
      "RUN  3 , total integrated cost =  4.770069572268634\n",
      "RUN  4 , total integrated cost =  4.763323788316506\n",
      "RUN  5 , total integrated cost =  4.818549319024495\n",
      "RUN  6 , total integrated cost =  4.866596431701899\n",
      "RUN  7 , total integrated cost =  4.625866276640528\n",
      "RUN  8 , total integrated cost =  4.74350546797999\n",
      "RUN  9 , total integrated cost =  4.619807655987807\n",
      "RUN  10 , total integrated cost =  4.535983708927461\n",
      "RUN  11 , total integrated cost =  4.337992714398438\n",
      "RUN  12 , total integrated cost =  4.523577661974135\n",
      "RUN  13 , total integrated cost =  4.447416909741159\n",
      "RUN  14 , total integrated cost =  4.43209958694555\n",
      "RUN  15 , total integrated cost =  4.838728104288436\n",
      "RUN  16 , total integrated cost =  4.691964053615218\n",
      "RUN  17 , total integrated cost =  4.561306629068832\n",
      "RUN  18 , total integrated cost =  4.6105891985127005\n",
      "RUN  19 , total integrated cost =  4.317516563910638\n",
      "RUN  20 , total integrated cost =  4.322544763918498\n",
      "RUN  30 , total integrated cost =  4.533625083605926\n",
      "RUN  40 , total integrated cost =  4.332772546202622\n",
      "RUN  50 , total integrated cost =  4.1932430364272175\n",
      "no cost improvement\n",
      "RUN  54 , total integrated cost mean =  4.352374041463838\n",
      "Improved over  54  iterations in  178.22266281498014  seconds by  72.08805476246931  percent.\n"
     ]
    },
    {
     "data": {
      "image/png": "[encoded data removed]",
      "text/plain": [
       "<Figure size 432x288 with 1 Axes>"
      ]
     },
     "metadata": {
      "needs_background": "light"
     },
     "output_type": "display_data"
    },
    {
     "name": "stdout",
     "output_type": "stream",
     "text": [
      "[15.5932308   4.95140233  5.01468022  4.77006957  4.76332379  4.81854932\n",
      "  4.86659643  4.62586628  4.74350547  4.61980766  4.53598371  4.33799271\n",
      "  4.52357766  4.44741691  4.43209959  4.8387281   4.69196405  4.56130663\n",
      "  4.6105892   4.31751656  4.32254476  4.38667933  4.33413427  4.36648144\n",
      "  4.35489736  4.3903616   4.39166324  4.43889611  4.43502875  4.57393071\n",
      "  4.53362508  4.56703564  4.40523809  4.24067777  4.27971436  4.49007924\n",
      "  4.49106109  4.41818084  4.48851425  4.39999424  4.33277255  4.58576258\n",
      "  4.3329846   4.44875159  4.3484841   4.22771091  4.35628913  4.48342727\n",
      "  4.34268603  4.29834781  4.19324304  4.48480197  4.40254118  4.61153359\n",
      "  4.35237404  0.          0.          0.          0.          0.\n",
      "  0.          0.          0.          0.          0.          0.\n",
      "  0.          0.          0.          0.        ]\n",
      "-------  50 0.47500000000000014 0.6000000000000003\n",
      "set cost params:  0.0005170928862873417 0.0 1.0\n",
      "interpolate adjoint :  True True True\n",
      "RUN  0 , total integrated cost =  10.33890860206412\n",
      "Gradient descend method:  None\n",
      "RUN  1 , total integrated cost =  9.109823511157165\n",
      "RUN  2 , total integrated cost =  8.982442965512723\n",
      "RUN  3 , total integrated cost =  8.971779481885685\n",
      "RUN  4 , total integrated cost =  8.925045158803368\n",
      "RUN  5 , total integrated cost =  8.96894165440876\n",
      "RUN  6 , total integrated cost =  8.746988042836046\n",
      "RUN  7 , total integrated cost =  8.908191038913587\n",
      "RUN  8 , total integrated cost =  8.607676988715738\n",
      "RUN  9 , total integrated cost =  8.771789000414147\n",
      "RUN  10 , total integrated cost =  8.81761798533085\n",
      "RUN  11 , total integrated cost =  8.76556968131987\n",
      "RUN  12 , total integrated cost =  8.547727599775115\n",
      "RUN  13 , total integrated cost =  8.70454467904934\n",
      "RUN  14 , total integrated cost =  8.832373158014049\n",
      "RUN  15 , total integrated cost =  8.729285994295578\n",
      "RUN  16 , total integrated cost =  8.816117908539507\n",
      "RUN  17 , total integrated cost =  8.697801269359019\n",
      "RUN  18 , total integrated cost =  8.482632677294768\n",
      "RUN  19 , total integrated cost =  8.587800781954439\n",
      "RUN  20 , total integrated cost =  8.479168622360932\n",
      "RUN  30 , total integrated cost =  8.219907804034953\n",
      "RUN  40 , total integrated cost =  7.904577572219736\n",
      "RUN  50 , total integrated cost =  7.597961487283226\n",
      "RUN  60 , total integrated cost =  7.423762193017145\n",
      "RUN  70 , total integrated cost =  7.020055619276751\n",
      "RUN  70 , total integrated cost mean =  7.020055619276751\n",
      "Improved over  70  iterations in  317.9051058199839  seconds by  32.10061245850238  percent.\n"
     ]
    },
    {
     "data": {
      "image/png": "[encoded data removed]",
      "text/plain": [
       "<Figure size 432x288 with 1 Axes>"
      ]
     },
     "metadata": {
      "needs_background": "light"
     },
     "output_type": "display_data"
    },
    {
     "name": "stdout",
     "output_type": "stream",
     "text": [
      "[10.3389086   9.10982351  8.98244297  8.97177948  8.92504516  8.96894165\n",
      "  8.74698804  8.90819104  8.60767699  8.771789    8.81761799  8.76556968\n",
      "  8.5477276   8.70454468  8.83237316  8.72928599  8.81611791  8.69780127\n",
      "  8.48263268  8.58780078  8.47916862  8.49740437  8.48716975  8.31911112\n",
      "  8.43380824  8.38271376  8.45666144  8.28272765  8.31374072  8.28736099\n",
      "  8.2199078   8.13579238  8.19342492  7.95865756  8.22006282  8.11298593\n",
      "  8.04582746  8.04222404  7.97584195  8.17092167  7.90457757  7.94050589\n",
      "  7.83131262  7.88503898  7.73705269  7.72887835  7.68809116  7.68893779\n",
      "  7.8159929   7.65422173  7.59796149  7.45428615  7.60108363  7.50192938\n",
      "  7.49252542  7.6619603   7.63666578  7.75899989  7.29559231  7.40476269\n",
      "  7.42376219  7.29310577  7.40302825  7.39574667  7.3022097   7.24173998\n",
      "  7.29973791  7.17456186  7.15309802  6.893278  ]\n",
      "-------  60 0.5500000000000003 0.6250000000000003\n",
      "set cost params:  0.0005583387055123369 0.0 1.0\n",
      "interpolate adjoint :  True True True\n",
      "RUN  0 , total integrated cost =  5.137492496090791\n",
      "Gradient descend method:  None\n",
      "RUN  1 , total integrated cost =  4.590279547441021\n",
      "RUN  2 , total integrated cost =  4.4765469136592255\n",
      "RUN  3 , total integrated cost =  4.8102013948754205\n",
      "RUN  4 , total integrated cost =  4.466051186133178\n",
      "RUN  5 , total integrated cost =  4.450450979761497\n",
      "RUN  6 , total integrated cost =  4.55618183937914\n",
      "RUN  7 , total integrated cost =  4.590172739162983\n",
      "RUN  8 , total integrated cost =  4.379984189656318\n",
      "RUN  9 , total integrated cost =  4.46905685573838\n",
      "RUN  10 , total integrated cost =  4.3140922509149435\n",
      "RUN  11 , total integrated cost =  4.316533340820927\n",
      "RUN  12 , total integrated cost =  4.158401257692814\n",
      "RUN  13 , total integrated cost =  4.26925518223437\n",
      "RUN  14 , total integrated cost =  4.136264639058242\n",
      "RUN  15 , total integrated cost =  4.455951890649489\n",
      "RUN  16 , total integrated cost =  4.3622395907552995\n",
      "RUN  17 , total integrated cost =  4.243774708084532\n",
      "RUN  18 , total integrated cost =  4.45842398244694\n",
      "RUN  19 , total integrated cost =  4.130051562075184\n",
      "RUN  20 , total integrated cost =  4.402971775649201\n",
      "RUN  30 , total integrated cost =  4.14126821881276\n",
      "no cost improvement\n",
      "RUN  39 , total integrated cost mean =  4.1965775622844115\n",
      "Improved over  39  iterations in  225.47546261298703  seconds by  18.314672664190525  percent.\n"
     ]
    },
    {
     "data": {
      "image/png": "[encoded data removed]",
      "text/plain": [
       "<Figure size 432x288 with 1 Axes>"
      ]
     },
     "metadata": {
      "needs_background": "light"
     },
     "output_type": "display_data"
    },
    {
     "name": "stdout",
     "output_type": "stream",
     "text": [
      "[5.1374925  4.59027955 4.47654691 4.81020139 4.46605119 4.45045098\n",
      " 4.55618184 4.59017274 4.37998419 4.46905686 4.31409225 4.31653334\n",
      " 4.15840126 4.26925518 4.13626464 4.45595189 4.36223959 4.24377471\n",
      " 4.45842398 4.13005156 4.40297178 4.26004229 4.31605225 4.19890519\n",
      " 4.28157256 4.22155    4.12307964 4.2241823  4.26276504 4.30994352\n",
      " 4.14126822 4.1469899  4.08719097 4.1422464  4.16144301 4.42002076\n",
      " 4.47485939 4.28829724 4.38982732 4.19657756 0.         0.\n",
      " 0.         0.         0.         0.         0.         0.\n",
      " 0.         0.         0.         0.         0.         0.\n",
      " 0.         0.         0.         0.         0.         0.\n",
      " 0.         0.         0.         0.         0.         0.\n",
      " 0.         0.         0.         0.        ]\n"
     ]
    }
   ],
   "source": [
    "for i in i_range:\n",
    "    \n",
    "    aln.params.ext_exc_current = exc[i] * 5.\n",
    "    aln.params.ext_inh_current = inh[i] * 5.\n",
    "\n",
    "    print(\"------- \", i, exc[i], inh[i])\n",
    "    if i in stateswitch_i:\n",
    "        continue\n",
    "    \n",
    "    aln.params.duration = dur\n",
    "    init_control = aln.getZeroControl()\n",
    "    \n",
    "    if np.amax(np.abs(init_control_noisefree[i][0,0,:])) > np.amax(np.abs(init_control_noisefree[i][0,1,:])):\n",
    "        c_ind = 0\n",
    "    else:\n",
    "        c_ind = 1\n",
    "    \n",
    "    for t_ in range(init_control_noisefree[i].shape[2]):\n",
    "        if ( np.abs(init_control_noisefree[i][0,c_ind,t_-100+int( (trans_time * dur / aln.params.dt) )])\n",
    "             < np.abs(init_control_noisefree[i][0,c_ind,t_]) ):\n",
    "            break\n",
    "    init_control[:,c_ind,1:1-100+int( (trans_time * dur / aln.params.dt) )] = ( \n",
    "        1.5 * init_control_noisefree[i][:,c_ind,t_:t_-100+int( (trans_time * dur / aln.params.dt) )] )\n",
    "    \n",
    "    setinit(initVars[i], aln)\n",
    "    \n",
    "    cost.setParams(w_p[i], w_e, w_s)\n",
    "\n",
    "    bestControl[i], bestState[i], cost_[i], runtime, grad, phi, costnode[i], total_cost_mean_std = aln.A1(\n",
    "        init_control, target[i], c_scheme, u_mat, u_scheme, max_iteration_ = max_it,\n",
    "        tolerance_ = tol, startStep_ = start_step, max_control_ = max_cntrl, min_control_ = min_cntrl,\n",
    "        t_sim_ = dur, t_sim_pre_ = dur_pre, t_sim_post_ = dur_post, CGVar = None,\n",
    "        control_variables_ = [0,1], prec_variables_ = prec_vars, transition_time_ = trans_time,\n",
    "        noise_real=noise_realizations, init_params = initVars[i], method='M2')\n",
    "\n",
    "    control_init = bestControl[i][:,:,100:-100]\n",
    "\n",
    "    plt.plot(np.arange(0,dur+aln.params.dt,aln.params.dt), control_init[0,0,:]/5., color=exc_red)\n",
    "    plt.plot(np.arange(0,dur+aln.params.dt,aln.params.dt), control_init[0,1,:]/5., color=inh_blue)\n",
    "    plt.show()\n",
    "\n",
    "    control_nf_1[i] = bestControl[i]\n",
    "    cost_minind = 0\n",
    "    cost_nf_1[i] = np.zeros(( max_it ))\n",
    "    for k in range(len(cost_nf_1[i])):\n",
    "        cost_nf_1[i][k] = np.mean(cost_[i][:,k])\n",
    "        if cost_nf_1[i][k] > 0.:\n",
    "            cost_minind = k\n",
    "\n",
    "    print(cost_nf_1[i])\n",
    "    \n",
    "    with open(file_nf_1,'wb') as f:\n",
    "        pickle.dump([control_nf_1, control_nf_1], f)\n",
    "    "
   ]
  },
  {
   "cell_type": "code",
   "execution_count": 209,
   "metadata": {},
   "outputs": [
    {
     "name": "stdout",
     "output_type": "stream",
     "text": [
      "file found\n"
     ]
    }
   ],
   "source": [
    "if os.path.isfile(file_nf_1) :\n",
    "    print(\"file found\")\n",
    "    \n",
    "    with open(file_nf_1,'rb') as f:\n",
    "        load_array = pickle.load(f)\n",
    "\n",
    "    control_ = load_array[0]\n",
    "    cost_ = load_array[1]\n",
    "\n",
    "for i in i_range:\n",
    "    if i in stateswitch_i:\n",
    "        continue\n",
    "    control_nf_1[i] = control_[i].copy()"
   ]
  },
  {
   "cell_type": "code",
   "execution_count": 76,
   "metadata": {},
   "outputs": [
    {
     "name": "stdout",
     "output_type": "stream",
     "text": [
      "-------  0 0.4000000000000001 0.3500000000000001\n",
      "-------  10 0.4250000000000001 0.42500000000000016\n",
      "set cost params:  0.00043292309974982514 0.0 1.0\n",
      "interpolate adjoint :  True True True\n",
      "RUN  0 , total integrated cost =  41.22736457999668\n",
      "Gradient descend method:  None\n",
      "RUN  1 , total integrated cost =  5.899356395347666\n",
      "RUN  2 , total integrated cost =  4.987304338270195\n",
      "RUN  3 , total integrated cost =  5.039073587346337\n",
      "RUN  4 , total integrated cost =  4.646153410008395\n",
      "RUN  5 , total integrated cost =  4.867611078684477\n",
      "RUN  6 , total integrated cost =  4.987557678371172\n",
      "RUN  7 , total integrated cost =  4.756060978273899\n",
      "RUN  8 , total integrated cost =  5.034574670382758\n",
      "RUN  9 , total integrated cost =  5.314719956462908\n",
      "RUN  10 , total integrated cost =  5.191687320282236\n",
      "no cost improvement\n",
      "RUN  11 , total integrated cost =  5.658685626893499\n",
      "RUN  12 , total integrated cost =  5.0596262218985135\n",
      "RUN  13 , total integrated cost =  5.096748572502479\n",
      "RUN  13 , total integrated cost mean =  5.096748572502479\n",
      "Improved over  13  iterations in  41.509114845976  seconds by  87.63746209726101  percent.\n"
     ]
    },
    {
     "data": {
      "image/png": "[encoded data removed]",
      "text/plain": [
       "<Figure size 432x288 with 1 Axes>"
      ]
     },
     "metadata": {
      "needs_background": "light"
     },
     "output_type": "display_data"
    },
    {
     "ename": "NameError",
     "evalue": "name 'control_ne_1' is not defined",
     "output_type": "error",
     "traceback": [
      "\u001b[0;31m---------------------------------------------------------------------------\u001b[0m",
      "\u001b[0;31mNameError\u001b[0m                                 Traceback (most recent call last)",
      "\u001b[0;32m/tmp/ipykernel_153025/2786008976.py\u001b[0m in \u001b[0;36m<module>\u001b[0;34m\u001b[0m\n\u001b[1;32m     32\u001b[0m         \u001b[0mplt\u001b[0m\u001b[0;34m.\u001b[0m\u001b[0mshow\u001b[0m\u001b[0;34m(\u001b[0m\u001b[0;34m)\u001b[0m\u001b[0;34m\u001b[0m\u001b[0;34m\u001b[0m\u001b[0m\n\u001b[1;32m     33\u001b[0m \u001b[0;34m\u001b[0m\u001b[0m\n\u001b[0;32m---> 34\u001b[0;31m         \u001b[0mcontrol_ne_1\u001b[0m\u001b[0;34m[\u001b[0m\u001b[0mi\u001b[0m\u001b[0;34m]\u001b[0m \u001b[0;34m=\u001b[0m \u001b[0mbestControl\u001b[0m\u001b[0;34m[\u001b[0m\u001b[0mi\u001b[0m\u001b[0;34m]\u001b[0m\u001b[0;34m\u001b[0m\u001b[0;34m\u001b[0m\u001b[0m\n\u001b[0m\u001b[1;32m     35\u001b[0m         \u001b[0mcost_minind\u001b[0m \u001b[0;34m=\u001b[0m \u001b[0;36m0\u001b[0m\u001b[0;34m\u001b[0m\u001b[0;34m\u001b[0m\u001b[0m\n\u001b[1;32m     36\u001b[0m         \u001b[0mcost_nf_1\u001b[0m\u001b[0;34m[\u001b[0m\u001b[0mi\u001b[0m\u001b[0;34m]\u001b[0m \u001b[0;34m=\u001b[0m \u001b[0mnp\u001b[0m\u001b[0;34m.\u001b[0m\u001b[0mzeros\u001b[0m\u001b[0;34m(\u001b[0m\u001b[0;34m(\u001b[0m \u001b[0mmax_it\u001b[0m \u001b[0;34m)\u001b[0m\u001b[0;34m)\u001b[0m\u001b[0;34m\u001b[0m\u001b[0;34m\u001b[0m\u001b[0m\n",
      "\u001b[0;31mNameError\u001b[0m: name 'control_ne_1' is not defined"
     ]
    }
   ],
   "source": [
    "for i in i_range:\n",
    "    \n",
    "    aln.params.ext_exc_current = exc[i] * 5.\n",
    "    aln.params.ext_inh_current = inh[i] * 5.\n",
    "\n",
    "    print(\"------- \", i, exc[i], inh[i])\n",
    "    if i in stateswitch_i:\n",
    "        continue\n",
    "    \n",
    "    for k in range(repeat):\n",
    "        print(\"repeat \", k)\n",
    "    \n",
    "        control_list = []\n",
    "        cost_list = []\n",
    "        aln.params.duration = dur\n",
    "\n",
    "        cost.setParams(w_p[i], w_e, w_s)\n",
    "        control_init = control_nf_1[i][:,:,100:-100]\n",
    "        setinit(initVars[i], aln)\n",
    "\n",
    "        bestControl[i], bestState[i], cost_[i], runtime, grad, phi, costnode[i], total_cost_mean_std = aln.A1(\n",
    "            control_init, target[i], c_scheme, u_mat, u_scheme, max_iteration_ = max_it,\n",
    "            tolerance_ = tol, startStep_ = start_step, max_control_ = max_cntrl, min_control_ = min_cntrl,\n",
    "            t_sim_ = dur, t_sim_pre_ = dur_pre, t_sim_post_ = dur_post, CGVar = None,\n",
    "            control_variables_ = [0,1], prec_variables_ = prec_vars, transition_time_ = trans_time,\n",
    "            noise_real=noise_realizations, init_params = initVars[i], method='M2')\n",
    "\n",
    "        control_init = bestControl[i][:,:,100:-100]\n",
    "        setinit(initVars[i], aln)\n",
    "\n",
    "        plt.plot(np.arange(0,dur+aln.params.dt,aln.params.dt), control_init[0,0,:]/5., color=exc_red)\n",
    "        plt.plot(np.arange(0,dur+aln.params.dt,aln.params.dt), control_init[0,1,:]/5., color=inh_blue)\n",
    "        plt.show()\n",
    "\n",
    "        control_nf_1[i] = bestControl[i]\n",
    "        cost_minind = 0\n",
    "        cost_nf_1[i] = np.zeros(( max_it ))\n",
    "        for k in range(len(cost_nf_1[i])):\n",
    "            cost_nf_1[i][k] = np.mean(cost_[i][:,k])\n",
    "            if cost_nf_1[i][k] > 0.:\n",
    "                cost_minind = k\n",
    "\n",
    "        with open(file_nf_1,'wb') as f:\n",
    "            pickle.dump([control_nf_1, cost_nf_1], f)"
   ]
  },
  {
   "cell_type": "code",
   "execution_count": null,
   "metadata": {},
   "outputs": [],
   "source": [
    "for i in i_range:\n",
    "    \n",
    "    aln.params.ext_exc_current = exc[i] * 5.\n",
    "    aln.params.ext_inh_current = inh[i] * 5.\n",
    "\n",
    "    print(\"------- \", i, exc[i], inh[i])\n",
    "    if i in stateswitch_i:\n",
    "        continue\n",
    "    \n",
    "    aln.params.duration = dur\n",
    "    init_control = aln.getZeroControl()           \n",
    "    init_control[:,:,:] = control_nf_1[i][:,:,100:-100]\n",
    "    \n",
    "    target_ = target[i].copy()\n",
    "    target_[0,0,:int(trans_time * dur / aln.params.dt)] = -1000\n",
    "    target_[0,1,:int(trans_time * dur / aln.params.dt)] = -1000\n",
    "    \n",
    "    cost_nf_1_final[i] = np.zeros(( noise_realizations_final ))\n",
    "    \n",
    "    for n_ in range(noise_realizations_final):\n",
    "    \n",
    "        setinit(initVars[i], aln)\n",
    "        state_ = fo.updateState(aln, init_control)\n",
    "        cost_nf_1_final[i][n_] = cost.f_int(init_control.shape[0], init_control.shape[1],\n",
    "                        init_control.shape[2], aln.params.dt, state_, target_, init_control, w_p[i], w_e, w_s)\n",
    "    \n",
    "    print(np.mean(cost_nf_1_final[i]))"
   ]
  },
  {
   "cell_type": "code",
   "execution_count": 63,
   "metadata": {
    "scrolled": true
   },
   "outputs": [
    {
     "name": "stdout",
     "output_type": "stream",
     "text": [
      "-------  0 0.4000000000000001 0.3500000000000001\n",
      "-------  10 0.4250000000000001 0.42500000000000016\n",
      "10.844578958699527\n",
      "-------  20 0.4500000000000001 0.4750000000000002\n",
      "9.6838468431982\n",
      "-------  30 0.4250000000000001 0.5250000000000002\n",
      "41.67920546936309\n",
      "-------  40 0.5250000000000001 0.5500000000000003\n",
      "9.396611588421912\n",
      "-------  50 0.47500000000000014 0.6000000000000003\n",
      "9.830711593789921\n",
      "-------  60 0.5500000000000003 0.6250000000000003\n",
      "9.311705500878146\n"
     ]
    }
   ],
   "source": [
    "for i in i_range:\n",
    "    \n",
    "    aln.params.ext_exc_current = exc[i] * 5.\n",
    "    aln.params.ext_inh_current = inh[i] * 5.\n",
    "\n",
    "    print(\"------- \", i, exc[i], inh[i])\n",
    "    if i in stateswitch_i:\n",
    "        continue\n",
    "    \n",
    "    aln.params.duration = dur\n",
    "    init_control = aln.getZeroControl()\n",
    "    init_control[:,0,500:1000] = 1.\n",
    "    \n",
    "    rect_E[i] = init_control\n",
    "    \n",
    "    target_ = target[i].copy()\n",
    "    target_[0,0,:int(trans_time * dur / aln.params.dt)] = -1000\n",
    "    target_[0,1,:int(trans_time * dur / aln.params.dt)] = -1000\n",
    "    \n",
    "    cost_rect_E_final[i] = np.zeros(( noise_realizations_final ))\n",
    "    \n",
    "    for n_ in range(noise_realizations_final):\n",
    "    \n",
    "        setinit(initVars[i], aln)\n",
    "        aln.run(control=init_control)\n",
    "        state_ = fo.updateState(aln, init_control)\n",
    "        cost_rect_E_final[i][n_] = cost.f_int(init_control.shape[0], init_control.shape[1],\n",
    "                        init_control.shape[2], aln.params.dt, state_, target_, init_control, w_p[i], w_e, w_s)\n",
    "    \n",
    "    print(np.mean(cost_rect_E_final[i]))"
   ]
  },
  {
   "cell_type": "code",
   "execution_count": 64,
   "metadata": {},
   "outputs": [
    {
     "name": "stdout",
     "output_type": "stream",
     "text": [
      "-------  0 0.4000000000000001 0.3500000000000001\n",
      "-------  10 0.4250000000000001 0.42500000000000016\n",
      "11.051655591300387\n",
      "-------  20 0.4500000000000001 0.4750000000000002\n",
      "9.707054266022281\n",
      "-------  30 0.4250000000000001 0.5250000000000002\n",
      "73.73353600042982\n",
      "-------  40 0.5250000000000001 0.5500000000000003\n",
      "9.392332299739348\n",
      "-------  50 0.47500000000000014 0.6000000000000003\n",
      "254.80077298562685\n",
      "-------  60 0.5500000000000003 0.6250000000000003\n",
      "13.748059752773388\n"
     ]
    }
   ],
   "source": [
    "for i in i_range:\n",
    "    \n",
    "    aln.params.ext_exc_current = exc[i] * 5.\n",
    "    aln.params.ext_inh_current = inh[i] * 5.\n",
    "\n",
    "    print(\"------- \", i, exc[i], inh[i])\n",
    "    if i in stateswitch_i:\n",
    "        continue\n",
    "    \n",
    "    aln.params.duration = dur\n",
    "    init_control = aln.getZeroControl()\n",
    "    init_control[:,1,500:1000] = -1.\n",
    "\n",
    "    rect_I[i] = init_control\n",
    "    \n",
    "    target_ = target[i].copy()\n",
    "    target_[0,0,:int(trans_time * dur / aln.params.dt)] = -1000\n",
    "    target_[0,1,:int(trans_time * dur / aln.params.dt)] = -1000\n",
    "    \n",
    "    cost_rect_I_final[i] = np.zeros(( noise_realizations_final ))\n",
    "    \n",
    "    for n_ in range(noise_realizations_final):\n",
    "    \n",
    "        setinit(initVars[i], aln)\n",
    "        state_ = fo.updateState(aln, init_control)\n",
    "        cost_rect_I_final[i][n_] = cost.f_int(init_control.shape[0], init_control.shape[1],\n",
    "                        init_control.shape[2], aln.params.dt, state_, target_, init_control, w_p[i], w_e, w_s)\n",
    "    \n",
    "    print(np.mean(cost_rect_I_final[i]))"
   ]
  },
  {
   "cell_type": "code",
   "execution_count": 65,
   "metadata": {},
   "outputs": [],
   "source": [
    "title_ = [''] * len(exc)\n",
    "fs_ = 16\n",
    "for i in i_range:\n",
    "    title_[i] = 'Point {:d}'.format(i)"
   ]
  },
  {
   "cell_type": "code",
   "execution_count": null,
   "metadata": {},
   "outputs": [],
   "source": [
    "for i in i_range:\n",
    "\n",
    "    aln.params.ext_exc_current = exc[i] * 5.\n",
    "    aln.params.ext_inh_current = inh[i] * 5.\n",
    "    \n",
    "    filename_ = str('E_I_init_' + title_[i][-2:] + '.png' )\n",
    "    print(filename_)\n",
    "    \n",
    "    if i in stateswitch_i:\n",
    "        continue\n",
    "        \n",
    "    aln.params.duration = dur\n",
    "    aln.run(control=control_E[i][:,:,100:-100])\n",
    "\n",
    "    fig, ax = plt.subplots(4, 6, figsize=(20,12), constrained_layout=True)\n",
    "    fig.suptitle(title_[i], fontsize=fs_)\n",
    "\n",
    "    for k in range(6):\n",
    "        \n",
    "        if k == 0:\n",
    "            control_ = control_E[i][:,:,100:-100]\n",
    "            ax[0,k].set_title('E init \\n final cost = {:.2f}'.format(np.median(cost_E_final[i])), fontsize=fs_)\n",
    "        elif k == 1:\n",
    "            control_ = control_I[i][:,:,100:-100]\n",
    "            ax[0,k].set_title('I init \\n final cost = {:.2f}'.format(np.median(cost_I_final[i])), fontsize=fs_)\n",
    "        elif k == 2:\n",
    "            control_ = control_nf[i]\n",
    "            ax[0,k].set_title('noisefree \\n final cost = {:.2f}'.format(np.median(cost_nf_final[i])), fontsize=fs_)\n",
    "        elif k == 3:\n",
    "            control_ = control_nf_1[i][:,:,100:-100]\n",
    "            ax[0,k].set_title('noisefree init \\n final cost = {:.2f}'.format(np.median(cost_nf_1_final[i])), fontsize=fs_)\n",
    "        elif k == 4:\n",
    "            control_ = rect_E[i]\n",
    "            ax[0,k].set_title('rectangle pulse E \\n final cost = {:.2f}'.format(np.median(cost_rect_E_final[i])), fontsize=fs_)\n",
    "        elif k == 5:\n",
    "            control_ = rect_I[i]\n",
    "            ax[0,k].set_title('rectangle pulse I \\n final cost = {:.2f}'.format(np.median(cost_rect_I_final[i])), fontsize=fs_)\n",
    "\n",
    "        ax[3,k].plot(aln.t, control_[0,0,:]/5., color=exc_red, label='E')\n",
    "        ax[3,k].plot(aln.t, control_[0,1,:]/5., color=inh_blue, label='I')\n",
    "\n",
    "        ax[3,k].set_ylim(-0.4, 0.4)\n",
    "        ax[3,k].set_xlim(0,dur)\n",
    "        ax[3,k].set_xlabel('Time [ms]', fontsize=fs_)\n",
    "        ax[3,k].tick_params(axis='y', labelsize=fs_)\n",
    "        ax[3,k].tick_params(axis='x', labelsize=fs_)\n",
    "        ax[3,k].grid(False)\n",
    "\n",
    "        if k == 0:\n",
    "            ax[3,k].set_yticks(np.arange(-0.25, 0.55, 0.25))\n",
    "            ax[3,k].set_ylabel('Control [nA]', fontsize=fs_)\n",
    "            ax[3,k].tick_params(axis='y', labelsize=fs_)\n",
    "\n",
    "        else:\n",
    "            ax[3,k].set_yticks([])\n",
    "\n",
    "        # realization 1\n",
    "        for j in range(3):\n",
    "            setinit(initVars[i], aln)\n",
    "            aln.run(control=control_)\n",
    "            ax[j,k].plot(aln.t, aln.rates_exc[0,:], color=exc_red, label='E')\n",
    "            ax[j,k].plot(aln.t, aln.rates_inh[0,:], color=inh_blue, label='I')\n",
    "            ax[j,k].plot(aln.t, target[i][0,0,:], color=exc_red, linestyle='--', linewidth=1)\n",
    "            ax[j,k].plot(aln.t, target[i][0,1,:], color=inh_blue, linestyle='--', linewidth=1)\n",
    "            ax[j,k].set_xticks([])\n",
    "            ax[j,k].grid(False)\n",
    "\n",
    "            ax[j,k].set_ylim(0,130)\n",
    "            ax[j,k].set_xlim(0,dur)\n",
    "            if k == 0:\n",
    "                ax[j,k].set_ylabel('Activity [Hz]', fontsize=fs_)\n",
    "                ax[j,k].tick_params(axis='y', labelsize=fs_)\n",
    "            else:\n",
    "                ax[j,k].set_yticks([])\n",
    "            ax[j,k].axvspan( dur*trans_time, dur, facecolor='grey', alpha=0.2, zorder=-1, hatch='///', edgecolor = 'grey')\n",
    "\n",
    "\n",
    "    ax[0,0].legend(fontsize=fs_, loc='upper left')\n",
    "    ax[3,0].legend(fontsize=fs_, loc='upper left')\n",
    "\n",
    "    \n",
    "    fig.savefig( filename_, dpi=fig.dpi)\n",
    "    plt.show()\n"
   ]
  },
  {
   "cell_type": "code",
   "execution_count": 175,
   "metadata": {},
   "outputs": [
    {
     "ename": "TypeError",
     "evalue": "unsupported operand type(s) for /: 'NoneType' and 'int'",
     "output_type": "error",
     "traceback": [
      "\u001b[0;31m---------------------------------------------------------------------------\u001b[0m",
      "\u001b[0;31mTypeError\u001b[0m                                 Traceback (most recent call last)",
      "\u001b[0;32m/tmp/ipykernel_153025/1340574295.py\u001b[0m in \u001b[0;36m<module>\u001b[0;34m\u001b[0m\n\u001b[1;32m     14\u001b[0m     \u001b[0ml_\u001b[0m \u001b[0;34m=\u001b[0m \u001b[0;34m[\u001b[0m\u001b[0;34m''\u001b[0m\u001b[0;34m,\u001b[0m\u001b[0;34m''\u001b[0m\u001b[0;34m,\u001b[0m\u001b[0;34m''\u001b[0m\u001b[0;34m,\u001b[0m\u001b[0;34m''\u001b[0m\u001b[0;34m,\u001b[0m \u001b[0;34m''\u001b[0m\u001b[0;34m,\u001b[0m \u001b[0;34m''\u001b[0m\u001b[0;34m]\u001b[0m\u001b[0;34m\u001b[0m\u001b[0;34m\u001b[0m\u001b[0m\n\u001b[1;32m     15\u001b[0m     \u001b[0minit_\u001b[0m \u001b[0;34m=\u001b[0m \u001b[0;34m[\u001b[0m\u001b[0;34m'E init'\u001b[0m\u001b[0;34m,\u001b[0m \u001b[0;34m'I init'\u001b[0m\u001b[0;34m,\u001b[0m \u001b[0;34m'nf'\u001b[0m\u001b[0;34m,\u001b[0m \u001b[0;34m'nf init'\u001b[0m\u001b[0;34m,\u001b[0m \u001b[0;34m'rect E'\u001b[0m\u001b[0;34m,\u001b[0m \u001b[0;34m'rect I'\u001b[0m\u001b[0;34m]\u001b[0m\u001b[0;34m\u001b[0m\u001b[0;34m\u001b[0m\u001b[0m\n\u001b[0;32m---> 16\u001b[0;31m     mean_ = [np.mean(cost_E_final[i]), np.mean(cost_I_final[i]),\n\u001b[0m\u001b[1;32m     17\u001b[0m              \u001b[0mnp\u001b[0m\u001b[0;34m.\u001b[0m\u001b[0mmean\u001b[0m\u001b[0;34m(\u001b[0m\u001b[0mcost_nf_final\u001b[0m\u001b[0;34m[\u001b[0m\u001b[0mi\u001b[0m\u001b[0;34m]\u001b[0m\u001b[0;34m)\u001b[0m\u001b[0;34m,\u001b[0m \u001b[0mnp\u001b[0m\u001b[0;34m.\u001b[0m\u001b[0mmean\u001b[0m\u001b[0;34m(\u001b[0m\u001b[0mcost_nf_1_final\u001b[0m\u001b[0;34m[\u001b[0m\u001b[0mi\u001b[0m\u001b[0;34m]\u001b[0m\u001b[0;34m)\u001b[0m\u001b[0;34m,\u001b[0m\u001b[0;34m\u001b[0m\u001b[0;34m\u001b[0m\u001b[0m\n\u001b[1;32m     18\u001b[0m             np.mean(cost_rect_E_final[i]), np.mean(cost_rect_I_final[i])]\n",
      "\u001b[0;32m<__array_function__ internals>\u001b[0m in \u001b[0;36mmean\u001b[0;34m(*args, **kwargs)\u001b[0m\n",
      "\u001b[0;32m~/.local/lib/python3.9/site-packages/numpy/core/fromnumeric.py\u001b[0m in \u001b[0;36mmean\u001b[0;34m(a, axis, dtype, out, keepdims, where)\u001b[0m\n\u001b[1;32m   3438\u001b[0m             \u001b[0;32mreturn\u001b[0m \u001b[0mmean\u001b[0m\u001b[0;34m(\u001b[0m\u001b[0maxis\u001b[0m\u001b[0;34m=\u001b[0m\u001b[0maxis\u001b[0m\u001b[0;34m,\u001b[0m \u001b[0mdtype\u001b[0m\u001b[0;34m=\u001b[0m\u001b[0mdtype\u001b[0m\u001b[0;34m,\u001b[0m \u001b[0mout\u001b[0m\u001b[0;34m=\u001b[0m\u001b[0mout\u001b[0m\u001b[0;34m,\u001b[0m \u001b[0;34m**\u001b[0m\u001b[0mkwargs\u001b[0m\u001b[0;34m)\u001b[0m\u001b[0;34m\u001b[0m\u001b[0;34m\u001b[0m\u001b[0m\n\u001b[1;32m   3439\u001b[0m \u001b[0;34m\u001b[0m\u001b[0m\n\u001b[0;32m-> 3440\u001b[0;31m     return _methods._mean(a, axis=axis, dtype=dtype,\n\u001b[0m\u001b[1;32m   3441\u001b[0m                           out=out, **kwargs)\n\u001b[1;32m   3442\u001b[0m \u001b[0;34m\u001b[0m\u001b[0m\n",
      "\u001b[0;32m~/.local/lib/python3.9/site-packages/numpy/core/_methods.py\u001b[0m in \u001b[0;36m_mean\u001b[0;34m(a, axis, dtype, out, keepdims, where)\u001b[0m\n\u001b[1;32m    189\u001b[0m             \u001b[0mret\u001b[0m \u001b[0;34m=\u001b[0m \u001b[0mret\u001b[0m\u001b[0;34m.\u001b[0m\u001b[0mdtype\u001b[0m\u001b[0;34m.\u001b[0m\u001b[0mtype\u001b[0m\u001b[0;34m(\u001b[0m\u001b[0mret\u001b[0m \u001b[0;34m/\u001b[0m \u001b[0mrcount\u001b[0m\u001b[0;34m)\u001b[0m\u001b[0;34m\u001b[0m\u001b[0;34m\u001b[0m\u001b[0m\n\u001b[1;32m    190\u001b[0m     \u001b[0;32melse\u001b[0m\u001b[0;34m:\u001b[0m\u001b[0;34m\u001b[0m\u001b[0;34m\u001b[0m\u001b[0m\n\u001b[0;32m--> 191\u001b[0;31m         \u001b[0mret\u001b[0m \u001b[0;34m=\u001b[0m \u001b[0mret\u001b[0m \u001b[0;34m/\u001b[0m \u001b[0mrcount\u001b[0m\u001b[0;34m\u001b[0m\u001b[0;34m\u001b[0m\u001b[0m\n\u001b[0m\u001b[1;32m    192\u001b[0m \u001b[0;34m\u001b[0m\u001b[0m\n\u001b[1;32m    193\u001b[0m     \u001b[0;32mreturn\u001b[0m \u001b[0mret\u001b[0m\u001b[0;34m\u001b[0m\u001b[0;34m\u001b[0m\u001b[0m\n",
      "\u001b[0;31mTypeError\u001b[0m: unsupported operand type(s) for /: 'NoneType' and 'int'"
     ]
    }
   ],
   "source": [
    "hist_binwidth = 1\n",
    "hist_max = 30\n",
    "bins = []\n",
    "for k in np.arange(0,hist_max, hist_binwidth):\n",
    "    bins.append(k)\n",
    "    #bins.append(100)\n",
    "    #bins.append(1000)\n",
    "\n",
    "for i in i_range:\n",
    "    \n",
    "    if i in stateswitch_i:\n",
    "        continue\n",
    "\n",
    "    l_ = ['','','','', '', '']\n",
    "    init_ = ['E init', 'I init', 'nf', 'nf init', 'rect E', 'rect I']\n",
    "    mean_ = [np.mean(cost_E_final[i]), np.mean(cost_I_final[i]),\n",
    "             np.mean(cost_nf_final[i]), np.mean(cost_nf_1_final[i]),\n",
    "            np.mean(cost_rect_E_final[i]), np.mean(cost_rect_I_final[i])]\n",
    "    med_ = [np.median(cost_E_final[i]), np.median(cost_I_final[i]),\n",
    "            np.median(cost_nf_final[i]), np.median(cost_nf_1_final[i]),\n",
    "            np.median(cost_rect_E_final[i]), np.median(cost_rect_I_final[i])]\n",
    "    std_ = [np.std(cost_E_final[i]), np.std(cost_I_final[i]),\n",
    "            np.std(cost_nf_final[i]), np.std(cost_nf_1_final[i]),\n",
    "            np.std(cost_rect_E_final[i]), np.std(cost_rect_I_final[i])]\n",
    "    max_ = [np.amax(cost_E_final[i]), np.amax(cost_I_final[i]),\n",
    "            np.amax(cost_nf_final[i]), np.amax(cost_nf_1_final[i]),\n",
    "            np.amax(cost_rect_E_final[i]), np.amax(cost_rect_I_final[i])]\n",
    "\n",
    "    for k in range(6):\n",
    "        l_[k] = str( init_[k] + ', mean = {:.2f}, median = {:.2f}, std dev = {:.2f}, max = {:.2f}'.format(\n",
    "            mean_[k], med_[k], std_[k], max_[k]) )\n",
    "\n",
    "    plt.figure(figsize=(14,8))\n",
    "    kwargs = dict(histtype='barstacked', bins=bins, linewidth=2)\n",
    "\n",
    "    plt.hist(cost_E_final[i], **kwargs, color=exc_red, label=l_[0], rwidth=1.)\n",
    "    plt.hist(cost_I_final[i], **kwargs, color=inh_blue, label=l_[1], rwidth=0.85)\n",
    "    plt.hist(cost_nf_final[i], **kwargs, color=green, label=l_[2], rwidth=0.7)\n",
    "    plt.hist(cost_nf_1_final[i], **kwargs, color='orange', label=l_[3], rwidth=.55)\n",
    "    plt.hist(cost_rect_E_final[i], **kwargs, color='pink', label=l_[4], rwidth=0.4)\n",
    "    plt.hist(cost_rect_I_final[i], **kwargs, color='yellow', label=l_[5], rwidth=.25)\n",
    "\n",
    "    plt.title(title_[i], fontsize=fs_)\n",
    "    plt.xlabel('Cost', fontsize=fs_)\n",
    "    plt.xlim(0,hist_max+2)\n",
    "    plt.legend(fontsize=fs_, bbox_to_anchor=(0.4, 1.0))\n",
    "    plt.tick_params(axis='y', labelsize=fs_)\n",
    "    plt.tick_params(axis='x', labelsize=fs_)\n",
    "\n",
    "    filename_ = str('E_I_init_' + title_[i][-2:] + '_cost_hist.png' )\n",
    "    print(filename_)\n",
    "    plt.savefig( filename_, dpi=fig.dpi)\n",
    "    plt.show()\n"
   ]
  },
  {
   "cell_type": "code",
   "execution_count": null,
   "metadata": {},
   "outputs": [],
   "source": []
  }
 ],
 "metadata": {
  "interpreter": {
   "hash": "916dbcbb3f70747c44a77c7bcd40155683ae19c65e1c03b4aa3499c5328201f1"
  },
  "kernelspec": {
   "display_name": "Python 3 (ipykernel)",
   "language": "python",
   "name": "python3"
  },
  "language_info": {
   "codemirror_mode": {
    "name": "ipython",
    "version": 3
   },
   "file_extension": ".py",
   "mimetype": "text/x-python",
   "name": "python",
   "nbconvert_exporter": "python",
   "pygments_lexer": "ipython3",
   "version": "3.9.7"
  }
 },
 "nbformat": 4,
 "nbformat_minor": 4
}
