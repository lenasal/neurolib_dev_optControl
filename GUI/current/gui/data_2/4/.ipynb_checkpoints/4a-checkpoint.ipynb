{
 "cells": [
  {
   "cell_type": "code",
   "execution_count": 330,
   "metadata": {},
   "outputs": [
    {
     "name": "stdout",
     "output_type": "stream",
     "text": [
      "The autoreload extension is already loaded. To reload it, use:\n",
      "  %reload_ext autoreload\n"
     ]
    }
   ],
   "source": [
    "import matplotlib.pyplot as plt\n",
    "import numpy as np\n",
    "import os\n",
    "import sys\n",
    "import pickle\n",
    "\n",
    "path = os.getcwd().split(os.sep + 'GUI')[0]\n",
    "if path not in sys.path:\n",
    "    print(\"not here\")\n",
    "    sys.path.append(path)\n",
    "\n",
    "from neurolib.models.aln import ALNModel\n",
    "from neurolib.utils import plotFunctions as plotFunc\n",
    "from neurolib.utils import costFunctions as cost\n",
    "import neurolib.dashboard.functions as functions\n",
    "import neurolib.dashboard.data as data\n",
    "    \n",
    "# This will reload all imports as soon as the code changes\n",
    "%load_ext autoreload\n",
    "%autoreload 2 \n",
    "\n",
    "#path = os.path.join(os.getcwd(), \"plots\")"
   ]
  },
  {
   "cell_type": "code",
   "execution_count": 294,
   "metadata": {},
   "outputs": [
    {
     "name": "stdout",
     "output_type": "stream",
     "text": [
      "/home/lena/Promotion/neurolib/GUI/current/gui/bi.pickle\n",
      "147\n"
     ]
    }
   ],
   "source": [
    "grid_data_file = os.path.join(os.getcwd().split('data')[0], 'bi.pickle')\n",
    "print(grid_data_file)\n",
    "with open(grid_data_file,'rb') as f:\n",
    "    load_array= pickle.load(f)\n",
    "exc = load_array[0]\n",
    "inh = load_array[1]\n",
    "print(len(exc))\n",
    "case = '1'"
   ]
  },
  {
   "cell_type": "markdown",
   "metadata": {},
   "source": [
    "### Bistability"
   ]
  },
  {
   "cell_type": "code",
   "execution_count": 295,
   "metadata": {},
   "outputs": [],
   "source": [
    "aln = ALNModel()\n",
    "N = aln.params.N\n",
    "\n",
    "data.set_parameters(aln)\n",
    "\n",
    "state_vars = aln.state_vars\n",
    "init_vars = aln.init_vars\n",
    "\n",
    "##############################################################\n",
    "def setinit(init_vars_, model):\n",
    "    state_vars = model.state_vars\n",
    "    init_vars = model.init_vars\n",
    "    for iv in range(len(init_vars)):\n",
    "        for sv in range(len(state_vars)):\n",
    "            if state_vars[sv] in init_vars[iv]:\n",
    "                #print(\"set init vars \", )\n",
    "                if model.params[init_vars[iv]].ndim == 2:\n",
    "                    model.params[init_vars[iv]][0,:] = init_vars_[sv]\n",
    "                else:\n",
    "                    model.params[init_vars[iv]][0] = init_vars_[sv]\n",
    "                    \n",
    "##############################################################               \n",
    "def setmaxmincontrol(max_c_c, min_c_c, max_c_r, min_c_r):\n",
    "    import numpy as np\n",
    "    \n",
    "    max_cntrl = np.zeros(( 6 ))\n",
    "    min_cntrl = np.zeros(( 6 ))\n",
    "    \n",
    "    max_cntrl[0] = max_c_c\n",
    "    min_cntrl[0] = min_c_c\n",
    "    max_cntrl[1] = max_c_c\n",
    "    min_cntrl[1] = min_c_c\n",
    "    max_cntrl[2] = max_c_r\n",
    "    min_cntrl[2] = min_c_r\n",
    "    max_cntrl[3] = max_c_r\n",
    "    min_cntrl[3] = min_c_r\n",
    "    max_cntrl[4] = max_c_r\n",
    "    min_cntrl[4] = min_c_r\n",
    "    max_cntrl[5] = max_c_r\n",
    "    min_cntrl[5] = min_c_r\n",
    "            \n",
    "    return max_cntrl, min_cntrl"
   ]
  },
  {
   "cell_type": "code",
   "execution_count": 296,
   "metadata": {},
   "outputs": [
    {
     "name": "stdout",
     "output_type": "stream",
     "text": [
      "[0.98      0.979996  0.979992  ... 0.9002991 0.9001996 0.9000999]\n"
     ]
    }
   ],
   "source": [
    "d_array = np.arange(300., 20, -0.1)\n",
    "t0_array = d_array - 20.\n",
    "t_pen = np.zeros(( t0_array.shape ))\n",
    "for i in range(len(t_pen)):\n",
    "    t_pen[i] = t0_array[i] / d_array[i]\n",
    "print(t_pen[::50])"
   ]
  },
  {
   "cell_type": "code",
   "execution_count": 297,
   "metadata": {},
   "outputs": [
    {
     "name": "stdout",
     "output_type": "stream",
     "text": [
      "(147, 4000)\n"
     ]
    }
   ],
   "source": [
    "bestControl_ = np.array( [[None] * len(t_pen)] * len(exc) )\n",
    "bestState_ = np.array( [[None] * len(t_pen)] * len(exc) )\n",
    "cost_ = np.array( [[None] * len(t_pen)] * len(exc) )\n",
    "costnode_ = np.array( [[None] * len(t_pen)] * len(exc) )\n",
    "weights_ = np.array( [[None] * len(t_pen)] * len(exc) )\n",
    "convergence_ = np.array( [[None] * len(t_pen)] * len(exc) )\n",
    "\n",
    "initVars = [None] * len(exc)\n",
    "target = [None] * len(exc)\n",
    "cost_uncontrolled = [None] * len(exc)\n",
    "\n",
    "print(bestControl_.shape)"
   ]
  },
  {
   "cell_type": "code",
   "execution_count": 298,
   "metadata": {},
   "outputs": [],
   "source": [
    "file_ = '4a.pickle'\n",
    "case = '1'"
   ]
  },
  {
   "cell_type": "code",
   "execution_count": 263,
   "metadata": {},
   "outputs": [],
   "source": [
    "dur_pre = 10\n",
    "dur_post = 10\n",
    "\n",
    "n_pre = int(np.around(dur_pre/aln.params.dt + 1.,1))\n",
    "n_post = int(np.around(dur_post/aln.params.dt + 1.,1))\n",
    "\n",
    "tol = 1e-32\n",
    "start_step = 10.\n",
    "c_scheme = np.zeros(( 1,1 ))\n",
    "c_scheme[0,0] = 1.\n",
    "u_mat = np.identity(1)\n",
    "u_scheme = np.array([[1.]])\n",
    "\n",
    "c_var = [0,1]\n",
    "p_var = [0]\n",
    "\n",
    "if case in ['1', '2']:    # low to high\n",
    "    max_I = [3., -3.]\n",
    "else:\n",
    "    max_I = [-3., 3.]\n",
    "    \n",
    "if case in ['1', '3']:    # sparsity\n",
    "    factor_ws = 1.\n",
    "    factor_we = 0.\n",
    "else:\n",
    "    factor_ws = 0.\n",
    "    factor_we = 1.\n",
    "    \n",
    "maxC = [50., -50., 0.18, 0.]\n",
    "max_cntrl, min_cntrl = setmaxmincontrol(maxC[0], maxC[1], maxC[2], maxC[3])"
   ]
  },
  {
   "cell_type": "code",
   "execution_count": 186,
   "metadata": {},
   "outputs": [
    {
     "name": "stdout",
     "output_type": "stream",
     "text": [
      "file found\n"
     ]
    }
   ],
   "source": [
    "if os.path.isfile(file_) :\n",
    "    print(\"file found\")\n",
    "    \n",
    "    with open(file_,'rb') as f:\n",
    "        load_array = pickle.load(f)\n",
    "\n",
    "    bestControl_[20][i] = load_array[0][20][i]\n",
    "    bestState_[20][i] = load_array[1][20][i]\n",
    "    cost_[20][i] = load_array[2][20][i]\n",
    "    costnode_[20][i] = load_array[3][20][i]\n",
    "    weights_[20][i] = load_array[4][20][i]"
   ]
  },
  {
   "cell_type": "code",
   "execution_count": 77,
   "metadata": {},
   "outputs": [
    {
     "name": "stdout",
     "output_type": "stream",
     "text": [
      "opt file found\n",
      "(1, 6, 4201)\n"
     ]
    }
   ],
   "source": [
    "file_opt = 'control_1.pickle'\n",
    "if os.path.isfile(file_opt) :\n",
    "    print(\"opt file found\")\n",
    "    \n",
    "    with open(file_opt,'rb') as f:\n",
    "        load_array = pickle.load(f)\n",
    "\n",
    "    bestControl_opt = load_array[0][20]\n",
    "    bestState_opt = load_array[1][20]\n",
    "    cost_opt = load_array[2][20]\n",
    "    costnode_opt = load_array[3][20]\n",
    "    \n",
    "print(bestControl_opt.shape)"
   ]
  },
  {
   "cell_type": "code",
   "execution_count": 299,
   "metadata": {},
   "outputs": [
    {
     "name": "stdout",
     "output_type": "stream",
     "text": [
      "-------  50 0.47500000000000014 0.6000000000000003\n"
     ]
    }
   ],
   "source": [
    "# get initial parameters and target states\n",
    "\n",
    "#i_stepsize = 20\n",
    "#limit = 150\n",
    "#start_index = 0\n",
    "#i_range = range(start_index, limit,i_stepsize)\n",
    "i_range = [50]\n",
    "\n",
    "data.set_parameters(aln)\n",
    "\n",
    "for i in i_range:\n",
    "    print(\"------- \", i, exc[i], inh[i])\n",
    "    aln.params.ext_exc_current = exc[i] * 5.\n",
    "    aln.params.ext_inh_current = inh[i] * 5.\n",
    "    \n",
    "    aln.params.duration = 3000.\n",
    "    \n",
    "    control0 = aln.getZeroControl()\n",
    "    control0 = functions.step_control(aln, maxI_ = max_I[0])\n",
    "\n",
    "    aln.run(control=control0)\n",
    "    \n",
    "    target_rates = np.zeros((2))\n",
    "    target_rates[0] = aln.rates_exc[0,-1] \n",
    "    target_rates[1] = aln.rates_inh[0,-1]\n",
    "\n",
    "    control0 = functions.step_control(aln, maxI_ = max_I[1])\n",
    "    aln.run(control=control0)\n",
    "\n",
    "    init_state_vars = np.zeros(( len(state_vars) ))\n",
    "    for j in range(len(state_vars)):\n",
    "        if aln.state[state_vars[j]].size == 1:\n",
    "            init_state_vars[j] = aln.state[state_vars[j]][0]\n",
    "        else:\n",
    "            init_state_vars[j] = aln.state[state_vars[j]][0,-1]\n",
    "\n",
    "    initVars[i] = init_state_vars\n",
    "    target[i] = [target_rates[0], target_rates[1]]"
   ]
  },
  {
   "cell_type": "code",
   "execution_count": 327,
   "metadata": {
    "scrolled": true
   },
   "outputs": [
    {
     "name": "stdout",
     "output_type": "stream",
     "text": [
      "-------  50 0.47500000000000014 0.6000000000000003\n",
      "set cost params:  1.0 0.0 0.0\n",
      "interpolate adjoint :  True True True\n",
      "initial cost =  9563.860489547367\n",
      "RUN  0 , total integrated cost =  9563.860489547367\n",
      "Gradient descend method:  None\n",
      "RUN  0 , total integrated cost =  9563.860489547367\n",
      "Improved over  0  iterations in  0.0  seconds by  0.0  percent.\n"
     ]
    }
   ],
   "source": [
    "# get uncontrolled cost\n",
    "\n",
    "data.set_parameters(aln)\n",
    "\n",
    "for i in i_range:\n",
    "    print(\"------- \", i, exc[i], inh[i])\n",
    "    aln.params.ext_exc_current = exc[i] * 5.\n",
    "    aln.params.ext_inh_current = inh[i] * 5.\n",
    "    \n",
    "    dur = d_array[0]\n",
    "    aln.params.duration = dur\n",
    "    \n",
    "    target_ = aln.getZeroTarget()\n",
    "    target_[:,0,:] = target[i][0]\n",
    "    target_[:,1,:] = target[i][1]\n",
    "        \n",
    "    cost.setParams(1.0, 0.0, 0.0)\n",
    "\n",
    "    setinit(initVars[i], aln)\n",
    "    control0 = aln.getZeroControl()\n",
    "\n",
    "    # \"HS\", \"FR\", \"PR\", \"HZ\"\n",
    "    cgv = None\n",
    "    max_it = 0\n",
    "\n",
    "    bestControl_init_, bestState_init_, cost_init_, runtime_init_, grad_init_, phi_init_, phi_1init, costnode_init_ = aln.A1(\n",
    "        control0, target_, c_scheme, u_mat, u_scheme, max_iteration_ = max_it, tolerance_ = tol,\n",
    "        startStep_ = start_step, max_control_ = max_cntrl, min_control_ = min_cntrl, t_sim_ = dur,\n",
    "        t_sim_pre_ = dur_pre, t_sim_post_ = dur_post, CGVar = cgv, control_variables_ = c_var,\n",
    "        prec_variables_ = p_var, transition_time_ = 1. - 20./500.)\n",
    "    \n",
    "    cost_uncontrolled[i] = cost_init_[0]"
   ]
  },
  {
   "cell_type": "code",
   "execution_count": 329,
   "metadata": {
    "scrolled": false
   },
   "outputs": [
    {
     "name": "stdout",
     "output_type": "stream",
     "text": [
      "-------  50 0.47500000000000014 0.6000000000000003\n",
      "set cost params:  1.0 0.0 0.0\n",
      "interpolate adjoint :  True True True\n",
      "initial cost =  15937.642888446042\n",
      "RUN  0 , total integrated cost =  15937.642888446042\n",
      "Gradient descend method:  None\n",
      "RUN  1 , total integrated cost =  5171.62902830176\n",
      "RUN  1 , total integrated cost =  5171.62902830176\n",
      "Improved over  1  iterations in  0.04690359401865862  seconds by  67.55085388410276  percent.\n",
      "uncontrolled cost :  9563.860489547367\n",
      "cost splitting :  77239.96053153342 [6.35979702 0.        ]\n"
     ]
    },
    {
     "data": {
      "image/png": "[encoded data removed]",
      "text/plain": [
       "<Figure size 288x576 with 5 Axes>"
      ]
     },
     "metadata": {
      "needs_background": "light"
     },
     "output_type": "display_data"
    },
    {
     "name": "stdout",
     "output_type": "stream",
     "text": [
      "set cost params:  1.0 0.0 1.0\n",
      "interpolate adjoint :  True True True\n",
      "initial cost =  5177.988825326567\n",
      "RUN  0 , total integrated cost =  5177.988825326567\n",
      "Gradient descend method:  None\n",
      "RUN  1 , total integrated cost =  2569.626659255181\n",
      "RUN  2 , total integrated cost =  1981.4245109080268\n",
      "RUN  2 , total integrated cost =  1981.4245109080268\n",
      "Improved over  2  iterations in  0.12562682302086614  seconds by  61.73370438312868  percent.\n",
      "uncontrolled cost :  9563.860489547367\n",
      "cost splitting :  29498.881573568888 [6.31640367 0.        ]\n"
     ]
    },
    {
     "data": {
      "image/png": "[encoded data removed]",
      "text/plain": [
       "<Figure size 288x576 with 5 Axes>"
      ]
     },
     "metadata": {
      "needs_background": "light"
     },
     "output_type": "display_data"
    }
   ],
   "source": [
    "cgv = None\n",
    "j = 0\n",
    "\n",
    "dur = 500.\n",
    "t0__ = 400.\n",
    "t0_ = t0__ / dur\n",
    "cvar = [0,1]\n",
    "\n",
    "wp, ws = 1., 1.\n",
    "wp = 0.1\n",
    "ws = 2.\n",
    "print(\"t0 = \", t0__, t0_, \";   precision weight = \", wp)\n",
    "\n",
    "for i in i_range:\n",
    "    print(\"------- \", i, exc[i], inh[i])\n",
    "    aln.params.ext_exc_current = exc[i] * 5.\n",
    "    aln.params.ext_inh_current = inh[i] * 5.\n",
    "\n",
    "    aln.params.duration = dur\n",
    "    setinit(initVars[i], aln)\n",
    "\n",
    "    target_ = aln.getZeroTarget()\n",
    "    target_[:,0,:] = target[i][0]\n",
    "    target_[:,1,:] = target[i][1]\n",
    "\n",
    "    control0 = aln.getZeroControl()\n",
    "    cost.setParams(wp, 0., ws)\n",
    "    max_it = int(10)\n",
    "\n",
    "    bestControl_[i][j], bestState_[i][j], cost_[i][j], runtime_, grad_, phi_, phi1_, costnode_[i][j] = aln.A1(\n",
    "        control0, target_, c_scheme, u_mat, u_scheme, max_iteration_ = max_it, tolerance_ = tol,\n",
    "        startStep_ = start_step, max_control_ = max_cntrl, min_control_ = min_cntrl, t_sim_ = dur,\n",
    "        t_sim_pre_ = dur_pre, t_sim_post_ = dur_post, CGVar = cgv, control_variables_ = cvar,\n",
    "        prec_variables_ = p_var, transition_time_ = t0_)\n",
    "\n",
    "    print('uncontrolled cost : ', cost_uncontrolled[i])\n",
    "    print('cost splitting : ', costnode_[i][j][0][0][0], costnode_[i][j][2][0][:2])\n",
    "\n",
    "    if True:\n",
    "        time_ = np.arange(0.,round(dur+aln.params.dt,1),aln.params.dt)\n",
    "        target_ = aln.getZeroTarget()\n",
    "        target_[:,0,:] = target[i][0]\n",
    "        target_[:,1,:] = target[i][1]\n",
    "    \n",
    "        fig, ax = plt.subplots(3,1, constrained_layout=True, figsize = (4,8) )\n",
    "        ax[1].plot(time_, bestControl_[i][j][0,0,n_pre-1:-n_post+1], color = 'red')\n",
    "        ax[0].plot(time_, bestState_[i][j][0,0,n_pre-1:-n_post+1], color= 'red')\n",
    "        ax[1].plot(time_, bestControl_[i][j][0,1,n_pre-1:-n_post+1], color = 'blue')\n",
    "        ax[0].plot(time_, bestState_[i][j][0,1,n_pre-1:-n_post+1], color= 'blue')\n",
    "        ax[0].plot(time_, target_[0,0,n_pre-1:-n_post+1], linestyle = '--', color='red')\n",
    "        ax[0].plot(time_, target_[0,1,n_pre-1:-n_post+1], linestyle = '--', color='blue')\n",
    "        \n",
    "        ax[2].plot(time_, phi_[0,0,:], color = 'red')\n",
    "        ax[2].plot(time_, phi_[0,1,:], color = 'blue')\n",
    "        for i in range(3):\n",
    "            ax[i].set_xlim(0.,dur)\n",
    "            ax[i].axvspan(dur*t0_, dur, alpha=0.2, color='gray')\n",
    "            \n",
    "        plt.show()"
   ]
  },
  {
   "cell_type": "code",
   "execution_count": 326,
   "metadata": {},
   "outputs": [
    {
     "name": "stdout",
     "output_type": "stream",
     "text": [
      "-------  50 0.47500000000000014 0.6000000000000003\n",
      "set cost params:  100.0 0.0 1.0\n",
      "interpolate adjoint :  True True True\n",
      "RUN  0 , total integrated cost =  10.39806003823726\n",
      "Gradient descend method:  None\n",
      "RUN  1 , total integrated cost =  7.148060038237255\n",
      "RUN  2 , total integrated cost =  7.0152475382372605\n",
      "RUN  3 , total integrated cost =  7.0079843546435105\n",
      "RUN  4 , total integrated cost =  7.007927186400033\n",
      "RUN  5 , total integrated cost =  7.007927099309832\n",
      "RUN  6 , total integrated cost =  7.007927038090435\n",
      "RUN  7 , total integrated cost =  7.007926921255475\n",
      "RUN  8 , total integrated cost =  7.007926866462806\n",
      "RUN  9 , total integrated cost =  7.007926779136466\n",
      "RUN  10 , total integrated cost =  7.007926717625965\n",
      "RUN  10 , total integrated cost =  7.007926717625965\n",
      "Improved over  10  iterations in  1.8157833849982126  seconds by  32.60351746522528  percent.\n",
      "uncontrolled cost :  15942.955436075481\n",
      "cost splitting :  4.060656073035786e-10 [0.         7.00792668]\n"
     ]
    },
    {
     "data": {
      "image/png": "[encoded data removed]",
      "text/plain": [
       "<Figure size 288x432 with 3 Axes>"
      ]
     },
     "metadata": {
      "needs_background": "light"
     },
     "output_type": "display_data"
    }
   ],
   "source": [
    "for i in i_range:\n",
    "    print(\"------- \", i, exc[i], inh[i])\n",
    "    aln.params.ext_exc_current = exc[i] * 5.\n",
    "    aln.params.ext_inh_current = inh[i] * 5.\n",
    "\n",
    "    max_it = int(10)  \n",
    "    \n",
    "    for k in range(1):\n",
    "        dur = 500.\n",
    "        aln.params.duration = dur\n",
    "\n",
    "        setinit(initVars[i], aln)\n",
    "        target_ = aln.getZeroTarget()\n",
    "        target_[:,0,:] = target[i][0]\n",
    "        target_[:,1,:] = target[i][1]\n",
    "\n",
    "        control0 = aln.getZeroControl()\n",
    "        control0[:,1,:3001] = - 0.6 * control_1[:,1,:]\n",
    "\n",
    "        cost.setParams(100., 0., 1.)\n",
    "\n",
    "        bestControl_[i][j], bestState_[i][j], cost_[i][j], runtime_, grad_, phi_, phi1_, costnode_[i][j] = aln.A1(\n",
    "            control0, target_, c_scheme, u_mat, u_scheme, max_iteration_ = max_it, tolerance_ = tol,\n",
    "            startStep_ = start_step, max_control_ = max_cntrl, min_control_ = min_cntrl, t_sim_ = dur,\n",
    "            t_sim_pre_ = dur_pre, t_sim_post_ = dur_post, CGVar = cgv, control_variables_ = c_var,\n",
    "            prec_variables_ = p_var, transition_time_ = 0.95)\n",
    "\n",
    "        if max_it > 1:\n",
    "            if cost_[i][0][2] == 0.:\n",
    "                print('converged')\n",
    "                convergence_[i][j] = True\n",
    "\n",
    "        print('uncontrolled cost : ', cost_uncontrolled[i])\n",
    "        print('cost splitting : ', costnode_[i][j][0][0][0], costnode_[i][j][2][0][:2])\n",
    "\n",
    "        time_ = np.arange(-dur_pre,round(dur+dur_post+aln.params.dt,1),aln.params.dt)\n",
    "        dur += dur_pre + dur_post\n",
    "        target_ = aln.getZeroTarget()\n",
    "        target_[:,0,:] = target[i][0]\n",
    "        target_[:,1,:] = target[i][1]\n",
    "\n",
    "        if True:\n",
    "            fig, ax = plt.subplots(3,1, constrained_layout=True, figsize = (4,6) )\n",
    "            ax[1].plot(time_, bestControl_[i][j][0,0,:], color = 'red')\n",
    "            ax[0].plot(time_, bestState_[i][j][0,0,:], color= 'red')\n",
    "            ax[1].plot(time_, bestControl_[i][j][0,1,:], color = 'blue')\n",
    "            ax[0].plot(time_, bestState_[i][j][0,1,:], color= 'blue')\n",
    "            ax[0].plot(time_, target_[0,0,:], linestyle = '--', color='red')\n",
    "            ax[0].plot(time_, target_[0,1,:], linestyle = '--', color='blue')\n",
    "            ax[0].set_xlim(-dur_pre,dur-dur_post)\n",
    "            ax[1].set_xlim(-dur_pre,dur-dur_post)\n",
    "            ax[0].axvspan(t0_array[j], t0_array[j]+20, alpha=0.2, color='gray')\n",
    "            plt.show()\n",
    "\n",
    "    with open(file_,'wb') as f:\n",
    "        pickle.dump([bestControl_, bestState_, cost_, costnode_, weights_], f)"
   ]
  },
  {
   "cell_type": "code",
   "execution_count": 259,
   "metadata": {},
   "outputs": [
    {
     "name": "stdout",
     "output_type": "stream",
     "text": [
      "-------  35 0.5500000000000003 0.5250000000000002\n",
      "weight =  11778.426539602606\n",
      "set cost params:  1.0 0.0 11778.426539602606\n",
      "interpolate adjoint :  True True True\n",
      "RUN  0 , total integrated cost =  5087.7074654150165\n",
      "Gradient descend method:  None\n",
      "RUN  1 , total integrated cost =  616.8360236969619\n",
      "RUN  2 , total integrated cost =  28.311814758628405\n",
      "RUN  3 , total integrated cost =  6.536481567729985\n",
      "RUN  4 , total integrated cost =  6.125061509632268\n",
      "RUN  5 , total integrated cost =  6.108832958409116\n",
      "RUN  6 , total integrated cost =  6.108077785123674\n",
      "RUN  7 , total integrated cost =  6.108064414192849\n",
      "RUN  8 , total integrated cost =  6.108064195084936\n",
      "RUN  9 , total integrated cost =  6.108064184366338\n",
      "RUN  10 , total integrated cost =  6.108064184022563\n",
      "RUN  11 , total integrated cost =  6.108064184011117\n",
      "State only changes marginally.\n",
      "RUN  11 , total integrated cost =  6.108064184011117\n",
      "Improved over  11  iterations in  3.223647748003714  seconds by  99.87994466612847  percent.\n",
      "uncontrolled cost :  0.5089375039026678\n",
      "cost splitting :  760013.3898018681 [2.27133998e-17 0.00000000e+00]\n"
     ]
    },
    {
     "data": {
      "image/png": "[encoded data removed]",
      "text/plain": [
       "<Figure size 288x432 with 3 Axes>"
      ]
     },
     "metadata": {
      "needs_background": "light"
     },
     "output_type": "display_data"
    }
   ],
   "source": [
    "for i in i_range:\n",
    "    print(\"------- \", i, exc[i], inh[i])\n",
    "    aln.params.ext_exc_current = exc[i] * 5.\n",
    "    aln.params.ext_inh_current = inh[i] * 5.\n",
    "\n",
    "    max_it = int(100)  \n",
    "    \n",
    "    for k in range(1):\n",
    "        dur = 500.\n",
    "        aln.params.duration = dur\n",
    "\n",
    "        setinit(initVars[i], aln)\n",
    "        target_ = aln.getZeroTarget()\n",
    "        target_[:,0,:] = target[i][0]\n",
    "        target_[:,1,:] = target[i][1]\n",
    "\n",
    "        control0 = aln.getZeroControl()\n",
    "        control0 = bestControl_[i][0][:,:,n_pre-1:-n_post+1]\n",
    "\n",
    "        l = 1\n",
    "        while cost_[i][0][-l] == 0.:\n",
    "            l += 1\n",
    "\n",
    "        weight_ = ( 10000.*cost_uncontrolled[i] - costnode_[i][0][0][0][0] ) / sum( costnode_[i][0][2][0][:] )\n",
    "\n",
    "        print(\"weight = \", weight_)\n",
    "        cost.setParams(1.0, weight_ * factor_we, weight_ * factor_ws)\n",
    "        weights_[i][j] = cost.getParams()\n",
    "\n",
    "        bestControl_[i][j], bestState_[i][j], cost_[i][j], runtime_, grad_, phi_, phi_1, costnode_[i][j] = aln.A1(\n",
    "            control0, target_, c_scheme, u_mat, u_scheme, max_iteration_ = max_it, tolerance_ = tol,\n",
    "            startStep_ = start_step, max_control_ = max_cntrl, min_control_ = min_cntrl, t_sim_ = dur,\n",
    "            t_sim_pre_ = dur_pre, t_sim_post_ = dur_post, CGVar = cgv, control_variables_ = c_var,\n",
    "            prec_variables_ = p_var, transition_time_ = 0.96)\n",
    "\n",
    "        if max_it > 1:\n",
    "            if cost_[i][0][2] == 0.:\n",
    "                print('converged')\n",
    "                convergence_[i][j] = True\n",
    "\n",
    "        print('uncontrolled cost : ', cost_uncontrolled[i])\n",
    "        print('cost splitting : ', costnode_[i][j][0][0][0], costnode_[i][j][2][0][:2])\n",
    "\n",
    "        time_ = np.arange(-dur_pre,round(dur+dur_post+aln.params.dt,1),aln.params.dt)\n",
    "        dur += dur_pre + dur_post\n",
    "        target_ = aln.getZeroTarget()\n",
    "        target_[:,0,:] = target[i][0]\n",
    "        target_[:,1,:] = target[i][1]\n",
    "\n",
    "        if True:\n",
    "            fig, ax = plt.subplots(3,1, constrained_layout=True, figsize = (4,6) )\n",
    "            ax[1].plot(time_, bestControl_[i][j][0,0,:], color = 'red')\n",
    "            ax[0].plot(time_, bestState_[i][j][0,0,:], color= 'red')\n",
    "            ax[1].plot(time_, bestControl_[i][j][0,1,:], color = 'blue')\n",
    "            ax[0].plot(time_, bestState_[i][j][0,1,:], color= 'blue')\n",
    "            #ax[2].plot(time_, bestControl_opt[0,0,:], color = 'red')\n",
    "            #ax[2].plot(time_, bestControl_opt[0,1,:], color = 'blue')\n",
    "            ax[0].plot(time_, target_[0,0,:], linestyle = '--', color='red')\n",
    "            ax[0].plot(time_, target_[0,1,:], linestyle = '--', color='blue')\n",
    "            ax[0].set_xlim(-dur_pre,dur-dur_post)\n",
    "            ax[1].set_xlim(-dur_pre,dur-dur_post)\n",
    "            ax[0].axvspan(t0_array[j], t0_array[j]+20, alpha=0.2, color='gray')\n",
    "            plt.show()\n",
    "\n",
    "    with open(file_,'wb') as f:\n",
    "        pickle.dump([bestControl_, bestState_, cost_, costnode_, weights_], f)"
   ]
  },
  {
   "cell_type": "code",
   "execution_count": 111,
   "metadata": {},
   "outputs": [
    {
     "name": "stdout",
     "output_type": "stream",
     "text": [
      "-------  20 0.4500000000000001 0.4750000000000002\n",
      "set cost params:  1.0 0.0 1.0\n",
      "interpolate adjoint :  True True True\n",
      "RUN  0 , total integrated cost =  4.433660689715525\n",
      "Gradient descend method:  None\n",
      "RUN  1 , total integrated cost =  3.550848189715523\n",
      "RUN  2 , total integrated cost =  3.518659327416336\n",
      "RUN  3 , total integrated cost =  3.518091384295608\n",
      "RUN  4 , total integrated cost =  3.518068670937945\n",
      "RUN  5 , total integrated cost =  3.518068670805307\n",
      "RUN  6 , total integrated cost =  3.5180686708053064\n",
      "RUN  7 , total integrated cost =  3.5180686708053055\n",
      "RUN  8 , total integrated cost =  3.5180686708053055\n",
      "Control only changes marginally.\n",
      "RUN  8 , total integrated cost =  3.5180686708053055\n",
      "Improved over  8  iterations in  1.6014614419982536  seconds by  20.65092669436926  percent.\n",
      "uncontrolled cost :  253558.22844545657\n",
      "cost splitting :  3.980652569769362e-07 [1.39649453e-11 3.51806827e+00]\n"
     ]
    },
    {
     "data": {
      "image/png": "[encoded data removed]",
      "text/plain": [
       "<Figure size 288x432 with 3 Axes>"
      ]
     },
     "metadata": {
      "needs_background": "light"
     },
     "output_type": "display_data"
    }
   ],
   "source": [
    "for i in i_range:\n",
    "    print(\"------- \", i, exc[i], inh[i])\n",
    "    aln.params.ext_exc_current = exc[i] * 5.\n",
    "    aln.params.ext_inh_current = inh[i] * 5.\n",
    "\n",
    "    max_it = int(100)  \n",
    "    cost.setParams(1.0, 0., 1.)\n",
    "    \n",
    "    for k in range(1):\n",
    "        dur = d_array[0]\n",
    "        aln.params.duration = dur\n",
    "\n",
    "        setinit(initVars[i], aln)\n",
    "        target_ = aln.getZeroTarget()\n",
    "        target_[:,0,:] = target[i][0]\n",
    "        target_[:,1,:] = target[i][1]\n",
    "\n",
    "        control0 = aln.getZeroControl()\n",
    "        control0 = bestControl_[i][0][:,:,n_pre-1:-n_post+1]\n",
    "\n",
    "        l = 1\n",
    "        while cost_[i][0][-l] == 0.:\n",
    "            l += 1\n",
    "\n",
    "        #weight_ = ( cost_uncontrolled[i] - costnode_[i][0][0][0][0] ) / sum( costnode_[i][0][2][0][:] )\n",
    "\n",
    "        #print(\"weight = \", weight_)\n",
    "        #cost.setParams(1.0, weight_ * factor_we, weight_ * factor_ws)\n",
    "        #weights_[i][j] = cost.getParams()\n",
    "\n",
    "        bestControl_[i][j], bestState_[i][j], cost_[i][j], runtime_, grad_, phi_, costnode_[i][j] = aln.A1(\n",
    "            control0, target_, c_scheme, u_mat, u_scheme, max_iteration_ = max_it, tolerance_ = tol,\n",
    "            startStep_ = start_step, max_control_ = max_cntrl, min_control_ = min_cntrl, t_sim_ = dur,\n",
    "            t_sim_pre_ = dur_pre, t_sim_post_ = dur_post, CGVar = cgv, control_variables_ = c_var,\n",
    "            prec_variables_ = p_var, transition_time_ = t_pen[0])\n",
    "\n",
    "        if max_it > 1:\n",
    "            if cost_[i][0][2] == 0.:\n",
    "                print('converged')\n",
    "                convergence_[i][j] = True\n",
    "\n",
    "        print('uncontrolled cost : ', cost_uncontrolled[i])\n",
    "        print('cost splitting : ', costnode_[i][j][0][0][0], costnode_[i][j][2][0][:2])\n",
    "\n",
    "        time_ = np.arange(-dur_pre,round(dur+dur_post+aln.params.dt,1),aln.params.dt)\n",
    "        dur += dur_pre + dur_post\n",
    "        target_ = aln.getZeroTarget()\n",
    "        target_[:,0,:] = target[i][0]\n",
    "        target_[:,1,:] = target[i][1]\n",
    "\n",
    "        if True:\n",
    "            fig, ax = plt.subplots(3,1, constrained_layout=True, figsize = (4,6) )\n",
    "            ax[1].plot(time_, bestControl_[i][j][0,0,:], color = 'red')\n",
    "            ax[0].plot(time_, bestState_[i][j][0,0,:], color= 'red')\n",
    "            ax[1].plot(time_, bestControl_[i][j][0,1,:], color = 'blue')\n",
    "            ax[0].plot(time_, bestState_[i][j][0,1,:], color= 'blue')\n",
    "            ax[2].plot(time_, bestControl_opt[0,0,:], color = 'red')\n",
    "            ax[2].plot(time_, bestControl_opt[0,1,:], color = 'blue')\n",
    "            ax[0].plot(time_, target_[0,0,:], linestyle = '--', color='red')\n",
    "            ax[0].plot(time_, target_[0,1,:], linestyle = '--', color='blue')\n",
    "            ax[0].set_xlim(-dur_pre,dur-dur_post)\n",
    "            ax[1].set_xlim(-dur_pre,dur-dur_post)\n",
    "            ax[0].axvspan(t0_array[j], t0_array[j]+20, alpha=0.2, color='gray')\n",
    "            plt.show()\n",
    "\n",
    "    with open(file_,'wb') as f:\n",
    "        pickle.dump([bestControl_, bestState_, cost_, costnode_, weights_], f)"
   ]
  },
  {
   "cell_type": "code",
   "execution_count": 113,
   "metadata": {
    "scrolled": true
   },
   "outputs": [
    {
     "name": "stdout",
     "output_type": "stream",
     "text": [
      "-------  20 0.4500000000000001 0.4750000000000002\n",
      "set cost params:  1.0 0.0 1.0\n",
      "weight =  72073.15195960434\n",
      "set cost params:  1.0 0.0 72073.15195960434\n",
      "interpolate adjoint :  True True True\n",
      "RUN  0 , total integrated cost =  253558.22844545654\n",
      "Gradient descend method:  None\n",
      "RUN  1 , total integrated cost =  253558.22844545654\n",
      "Control only changes marginally.\n",
      "RUN  1 , total integrated cost =  253558.22844545654\n",
      "Improved over  1  iterations in  0.49944453898933716  seconds by  0.0  percent.\n",
      "converged\n",
      "uncontrolled cost :  253558.22844545657\n",
      "cost splitting :  0.0019698902156290356 [2.54629786e-17 3.51806768e+00]\n"
     ]
    },
    {
     "data": {
      "image/png": "[encoded data removed]",
      "text/plain": [
       "<Figure size 288x432 with 3 Axes>"
      ]
     },
     "metadata": {
      "needs_background": "light"
     },
     "output_type": "display_data"
    }
   ],
   "source": [
    "for i in i_range:\n",
    "    print(\"------- \", i, exc[i], inh[i])\n",
    "    aln.params.ext_exc_current = exc[i] * 5.\n",
    "    aln.params.ext_inh_current = inh[i] * 5.\n",
    "\n",
    "    max_it = int(100)  \n",
    "    cost.setParams(1.0, 0., 1.)\n",
    "    \n",
    "    for k in range(1):\n",
    "        dur = d_array[0]\n",
    "        aln.params.duration = dur\n",
    "\n",
    "        setinit(initVars[i], aln)\n",
    "        target_ = aln.getZeroTarget()\n",
    "        target_[:,0,:] = target[i][0]\n",
    "        target_[:,1,:] = target[i][1]\n",
    "\n",
    "        control0 = aln.getZeroControl()\n",
    "        control0 = bestControl_[i][0][:,:,n_pre-1:-n_post+1]\n",
    "\n",
    "        l = 1\n",
    "        while cost_[i][0][-l] == 0.:\n",
    "            l += 1\n",
    "\n",
    "        weight_ = ( cost_uncontrolled[i] - costnode_[i][0][0][0][0] ) / sum( costnode_[i][0][2][0][:] )\n",
    "\n",
    "        print(\"weight = \", weight_)\n",
    "        cost.setParams(1.0, weight_ * factor_we, weight_ * factor_ws)\n",
    "        weights_[i][j] = cost.getParams()\n",
    "\n",
    "        bestControl_[i][j], bestState_[i][j], cost_[i][j], runtime_, grad_, phi_, costnode_[i][j] = aln.A1(\n",
    "            control0, target_, c_scheme, u_mat, u_scheme, max_iteration_ = max_it, tolerance_ = tol,\n",
    "            startStep_ = start_step, max_control_ = max_cntrl, min_control_ = min_cntrl, t_sim_ = dur,\n",
    "            t_sim_pre_ = dur_pre, t_sim_post_ = dur_post, CGVar = cgv, control_variables_ = c_var,\n",
    "            prec_variables_ = p_var, transition_time_ = t_pen[0])\n",
    "\n",
    "        if max_it > 1:\n",
    "            if cost_[i][0][2] == 0.:\n",
    "                print('converged')\n",
    "                convergence_[i][j] = True\n",
    "\n",
    "        print('uncontrolled cost : ', cost_uncontrolled[i])\n",
    "        print('cost splitting : ', costnode_[i][j][0][0][0], costnode_[i][j][2][0][:2])\n",
    "\n",
    "        time_ = np.arange(-dur_pre,round(dur+dur_post+aln.params.dt,1),aln.params.dt)\n",
    "        dur += dur_pre + dur_post\n",
    "        target_ = aln.getZeroTarget()\n",
    "        target_[:,0,:] = target[i][0]\n",
    "        target_[:,1,:] = target[i][1]\n",
    "\n",
    "        if True:\n",
    "            fig, ax = plt.subplots(3,1, constrained_layout=True, figsize = (4,6) )\n",
    "            ax[1].plot(time_, bestControl_[i][j][0,0,:], color = 'red')\n",
    "            ax[0].plot(time_, bestState_[i][j][0,0,:], color= 'red')\n",
    "            ax[1].plot(time_, bestControl_[i][j][0,1,:], color = 'blue')\n",
    "            ax[0].plot(time_, bestState_[i][j][0,1,:], color= 'blue')\n",
    "            ax[2].plot(time_, bestControl_opt[0,0,:], color = 'red')\n",
    "            ax[2].plot(time_, bestControl_opt[0,1,:], color = 'blue')\n",
    "            ax[0].plot(time_, target_[0,0,:], linestyle = '--', color='red')\n",
    "            ax[0].plot(time_, target_[0,1,:], linestyle = '--', color='blue')\n",
    "            ax[0].set_xlim(-dur_pre,dur-dur_post)\n",
    "            ax[1].set_xlim(-dur_pre,dur-dur_post)\n",
    "            ax[0].axvspan(t0_array[j], t0_array[j]+20, alpha=0.2, color='gray')\n",
    "            plt.show()\n",
    "\n",
    "    with open(file_,'wb') as f:\n",
    "        pickle.dump([bestControl_, bestState_, cost_, costnode_, weights_], f)"
   ]
  },
  {
   "cell_type": "code",
   "execution_count": null,
   "metadata": {},
   "outputs": [],
   "source": []
  }
 ],
 "metadata": {
  "kernelspec": {
   "display_name": "Python 3 (ipykernel)",
   "language": "python",
   "name": "python3"
  },
  "language_info": {
   "codemirror_mode": {
    "name": "ipython",
    "version": 3
   },
   "file_extension": ".py",
   "mimetype": "text/x-python",
   "name": "python",
   "nbconvert_exporter": "python",
   "pygments_lexer": "ipython3",
   "version": "3.9.5"
  }
 },
 "nbformat": 4,
 "nbformat_minor": 4
}
