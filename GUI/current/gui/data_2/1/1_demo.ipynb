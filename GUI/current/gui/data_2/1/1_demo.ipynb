{
 "cells": [
  {
   "cell_type": "code",
   "execution_count": 1,
   "metadata": {},
   "outputs": [
    {
     "name": "stdout",
     "output_type": "stream",
     "text": [
      "not here\n"
     ]
    }
   ],
   "source": [
    "import matplotlib.pyplot as plt\n",
    "import numpy as np\n",
    "import os\n",
    "import sys\n",
    "import pickle\n",
    "import random\n",
    "\n",
    "path = os.getcwd().split(os.sep + 'GUI')[0]\n",
    "if path not in sys.path:\n",
    "    print(\"not here\")\n",
    "    sys.path.append(path)\n",
    "\n",
    "from neurolib.models.aln import ALNModel\n",
    "from neurolib.utils import plotFunctions as plotFunc\n",
    "from neurolib.utils import costFunctions as cost\n",
    "import neurolib.dashboard.functions as functions\n",
    "import neurolib.dashboard.data as data\n",
    "    \n",
    "# This will reload all imports as soon as the code changes\n",
    "%load_ext autoreload\n",
    "%autoreload 2 \n",
    "\n",
    "#path = os.path.join(os.getcwd(), \"plots\")"
   ]
  },
  {
   "cell_type": "code",
   "execution_count": 2,
   "metadata": {},
   "outputs": [
    {
     "name": "stdout",
     "output_type": "stream",
     "text": [
      "/home/lena/Promotion/neurolib/GUI/current/gui/bi.pickle\n",
      "147\n"
     ]
    }
   ],
   "source": [
    "grid_data_file = os.path.join(os.getcwd().split('data')[0], 'bi.pickle')\n",
    "print(grid_data_file)\n",
    "with open(grid_data_file,'rb') as f:\n",
    "    load_array= pickle.load(f)\n",
    "exc = load_array[0]\n",
    "inh = load_array[1]\n",
    "print(len(exc))"
   ]
  },
  {
   "cell_type": "code",
   "execution_count": 3,
   "metadata": {},
   "outputs": [],
   "source": [
    "aln = ALNModel()\n",
    "N = aln.params.N\n",
    "\n",
    "data.set_parameters(aln)\n",
    "\n",
    "state_vars = aln.state_vars\n",
    "init_vars = aln.init_vars\n",
    "\n",
    "##############################################################\n",
    "def setinit(init_vars_, model):\n",
    "    state_vars = model.state_vars\n",
    "    init_vars = model.init_vars\n",
    "    for iv in range(len(init_vars)):\n",
    "        for sv in range(len(state_vars)):\n",
    "            if state_vars[sv] in init_vars[iv]:\n",
    "                #print(\"set init vars \", )\n",
    "                if model.params[init_vars[iv]].ndim == 2:\n",
    "                    model.params[init_vars[iv]][0,:] = init_vars_[sv]\n",
    "                else:\n",
    "                    model.params[init_vars[iv]][0] = init_vars_[sv]\n",
    "                    \n",
    "##############################################################               \n",
    "def setmaxmincontrol(max_c_c, min_c_c, max_c_r, min_c_r):\n",
    "    import numpy as np\n",
    "    \n",
    "    max_cntrl = np.zeros(( 6 ))\n",
    "    min_cntrl = np.zeros(( 6 ))\n",
    "    \n",
    "    max_cntrl[0] = max_c_c\n",
    "    min_cntrl[0] = min_c_c\n",
    "    max_cntrl[1] = max_c_c\n",
    "    min_cntrl[1] = min_c_c\n",
    "    max_cntrl[2] = max_c_r\n",
    "    min_cntrl[2] = min_c_r\n",
    "    max_cntrl[3] = max_c_r\n",
    "    min_cntrl[3] = min_c_r\n",
    "    max_cntrl[4] = max_c_r\n",
    "    min_cntrl[4] = min_c_r\n",
    "    max_cntrl[5] = max_c_r\n",
    "    min_cntrl[5] = min_c_r\n",
    "            \n",
    "    return max_cntrl, min_cntrl"
   ]
  },
  {
   "cell_type": "code",
   "execution_count": 4,
   "metadata": {},
   "outputs": [],
   "source": [
    "dur = 500.\n",
    "t_pen = 0.96"
   ]
  },
  {
   "cell_type": "code",
   "execution_count": 5,
   "metadata": {},
   "outputs": [],
   "source": [
    "folder = str(os.getcwd().split('data_2')[1])\n",
    "case = str(folder[1])"
   ]
  },
  {
   "cell_type": "code",
   "execution_count": 6,
   "metadata": {},
   "outputs": [],
   "source": [
    "dur_pre = 10\n",
    "dur_post = 10\n",
    "\n",
    "n_pre = int(np.around(dur_pre/aln.params.dt + 1.,1))\n",
    "n_post = int(np.around(dur_post/aln.params.dt + 1.,1))\n",
    "\n",
    "tol = 1e-10\n",
    "start_step = 10.\n",
    "c_scheme = np.zeros(( 1,1 ))\n",
    "c_scheme[0,0] = 1.\n",
    "u_mat = np.identity(1)\n",
    "u_scheme = np.array([[1.]])\n",
    "\n",
    "p_var = [0]\n",
    "wp = 1. / (dur - t_pen * dur)\n",
    "\n",
    "if case in ['1', '2']:    # low to high\n",
    "    max_I = [3., -3.]\n",
    "else:\n",
    "    max_I = [-3., 3.]\n",
    "    \n",
    "if case in ['1', '3']:    # sparsity\n",
    "    factor_ws = 1.\n",
    "    factor_we = 0.\n",
    "else:\n",
    "    factor_ws = 0.\n",
    "    factor_we = 1.\n",
    "    \n",
    "maxC = [5., -5., 0.18, 0.]\n",
    "max_cntrl, min_cntrl = setmaxmincontrol(maxC[0], maxC[1], maxC[2], maxC[3])"
   ]
  },
  {
   "cell_type": "code",
   "execution_count": 13,
   "metadata": {},
   "outputs": [],
   "source": [
    "bestControl_ = [None] * len(exc) \n",
    "bestState_ = [None] * len(exc) \n",
    "cost_ = [None] * len(exc) \n",
    "costnode_ = [None] * len(exc) \n",
    "weights_ = [None] * len(exc) \n",
    "\n",
    "initVars = [None] * len(exc)\n",
    "target = [None] * len(exc)\n",
    "cost_uncontrolled = [None] * len(exc)"
   ]
  },
  {
   "cell_type": "code",
   "execution_count": 28,
   "metadata": {
    "scrolled": true
   },
   "outputs": [
    {
     "name": "stdout",
     "output_type": "stream",
     "text": [
      "-------  20 0.4500000000000001 0.4750000000000002\n"
     ]
    }
   ],
   "source": [
    "# get initial parameters and target states\n",
    "\n",
    "i_range = [20]\n",
    "\n",
    "data.set_parameters(aln)\n",
    "\n",
    "for i in i_range:\n",
    "    print(\"------- \", i, exc[i], inh[i])\n",
    "    aln.params.ext_exc_current = exc[i] * 5.\n",
    "    aln.params.ext_inh_current = inh[i] * 5.\n",
    "    \n",
    "    aln.params.duration = 3000.\n",
    "    \n",
    "    control0 = aln.getZeroControl()\n",
    "    control0 = functions.step_control(aln, maxI_ = max_I[0])\n",
    "\n",
    "    aln.run(control=control0)\n",
    "    \n",
    "    target_rates = np.zeros((2))\n",
    "    target_rates[0] = aln.rates_exc[0,-1] \n",
    "    target_rates[1] = aln.rates_inh[0,-1]\n",
    "\n",
    "    control0 = functions.step_control(aln, maxI_ = max_I[1])\n",
    "    aln.run(control=control0)\n",
    "\n",
    "    init_state_vars = np.zeros(( len(state_vars) ))\n",
    "    for j in range(len(state_vars)):\n",
    "        if aln.state[state_vars[j]].size == 1:\n",
    "            init_state_vars[j] = aln.state[state_vars[j]][0]\n",
    "        else:\n",
    "            init_state_vars[j] = aln.state[state_vars[j]][0,-1]\n",
    "\n",
    "    initVars[i] = init_state_vars\n",
    "    target[i] = [target_rates[0], target_rates[1]]"
   ]
  },
  {
   "cell_type": "code",
   "execution_count": 15,
   "metadata": {
    "scrolled": true
   },
   "outputs": [
    {
     "name": "stdout",
     "output_type": "stream",
     "text": [
      "-------  20 0.4500000000000001 0.4750000000000002\n",
      "set cost params:  0.05 0.0 0.0\n",
      "interpolate adjoint :  True True True\n",
      "initial cost =  636.9058225135838\n",
      "RUN  0 , total integrated cost =  636.9058225135838\n",
      "Gradient descend method:  None\n",
      "RUN  0 , total integrated cost =  636.9058225135838\n",
      "Improved over  0  iterations in  0.0  seconds by  0.0  percent.\n",
      "-------  50 0.47500000000000014 0.6000000000000003\n",
      "set cost params:  0.05 0.0 0.0\n",
      "interpolate adjoint :  True True True\n",
      "initial cost =  797.1477718037709\n",
      "RUN  0 , total integrated cost =  797.1477718037709\n",
      "Gradient descend method:  None\n",
      "RUN  0 , total integrated cost =  797.1477718037709\n",
      "Improved over  0  iterations in  0.0  seconds by  0.0  percent.\n"
     ]
    }
   ],
   "source": [
    "# get uncontrolled cost\n",
    "data.set_parameters(aln)\n",
    "c_var = [0,1]\n",
    "\n",
    "for i in i_range:\n",
    "    print(\"------- \", i, exc[i], inh[i])\n",
    "    aln.params.ext_exc_current = exc[i] * 5.\n",
    "    aln.params.ext_inh_current = inh[i] * 5.\n",
    "    \n",
    "    aln.params.duration = dur\n",
    "    \n",
    "    target_ = aln.getZeroTarget()\n",
    "    target_[:,0,:] = target[i][0]\n",
    "    target_[:,1,:] = target[i][1]\n",
    "            \n",
    "    cost.setParams(wp, 0.0, 0.0)\n",
    "\n",
    "    setinit(initVars[i], aln)\n",
    "    control0 = aln.getZeroControl()\n",
    "\n",
    "    cgv = None\n",
    "    max_it = 0\n",
    "\n",
    "    bestControl_init_, bestState_init_, cost_init_, runtime_init_, grad_init_, phi_init_, phi1_, costnode_init_ = aln.A1(\n",
    "        control0, target_, c_scheme, u_mat, u_scheme, max_iteration_ = max_it, tolerance_ = tol,\n",
    "        startStep_ = start_step, max_control_ = max_cntrl, min_control_ = min_cntrl, t_sim_ = dur,\n",
    "        t_sim_pre_ = dur_pre, t_sim_post_ = dur_post, CGVar = cgv, control_variables_ = c_var,\n",
    "        prec_variables_ = p_var, transition_time_ = t_pen)\n",
    "    \n",
    "    cost_uncontrolled[i] = cost_init_[0]"
   ]
  },
  {
   "cell_type": "code",
   "execution_count": 127,
   "metadata": {
    "scrolled": true
   },
   "outputs": [
    {
     "name": "stdout",
     "output_type": "stream",
     "text": [
      "-------  20 0.4500000000000001 0.4750000000000002\n",
      "set cost params:  0.05 0.0 10.0\n",
      "interpolate adjoint :  True True True\n",
      "initial cost =  154.9193338482974\n",
      "RUN  0 , total integrated cost =  154.9193338482974\n",
      "Gradient descend method:  None\n",
      "RUN  1 , total integrated cost =  48.6693338482971\n",
      "RUN  2 , total integrated cost =  45.54433384829716\n",
      "RUN  3 , total integrated cost =  45.489402207672086\n",
      "RUN  4 , total integrated cost =  45.48883000308287\n",
      "RUN  5 , total integrated cost =  45.4888047942782\n",
      "RUN  6 , total integrated cost =  45.488804465877486\n",
      "RUN  7 , total integrated cost =  45.48880425312615\n",
      "RUN  8 , total integrated cost =  45.48880381168585\n",
      "RUN  9 , total integrated cost =  45.48880358660309\n",
      "RUN  10 , total integrated cost =  45.488803098731054\n",
      "RUN  11 , total integrated cost =  45.44324480348499\n",
      "RUN  12 , total integrated cost =  44.66199480347086\n",
      "RUN  13 , total integrated cost =  44.6223219519081\n",
      "RUN  14 , total integrated cost =  44.62127291015787\n",
      "RUN  15 , total integrated cost =  44.621252137494\n",
      "RUN  16 , total integrated cost =  44.62125176035763\n",
      "RUN  17 , total integrated cost =  44.621251579132704\n",
      "RUN  18 , total integrated cost =  44.62125120590976\n",
      "RUN  19 , total integrated cost =  44.62125103151697\n",
      "RUN  20 , total integrated cost =  44.621250706444016\n",
      "RUN  29 , total integrated cost =  41.25299214308746\n",
      "Improved over  29  iterations in  19.046789269079454  seconds by  73.37130807476626  percent.\n"
     ]
    },
    {
     "data": {
      "image/png": "[encoded data removed]",
      "text/plain": [
       "<Figure size 288x288 with 2 Axes>"
      ]
     },
     "metadata": {
      "needs_background": "light"
     },
     "output_type": "display_data"
    },
    {
     "name": "stdout",
     "output_type": "stream",
     "text": [
      "uncontrolled cost :  636.9058225135838\n",
      "cost splitting :  0.0009673511699749905 [2.00521613 2.12007825]\n"
     ]
    }
   ],
   "source": [
    "cgv = None\n",
    "j = 0\n",
    "\n",
    "for i in i_range:\n",
    "    print(\"------- \", i, exc[i], inh[i])\n",
    "    aln.params.ext_exc_current = exc[i] * 5.\n",
    "    aln.params.ext_inh_current = inh[i] * 5.\n",
    "    \n",
    "    aln.params.duration = dur\n",
    "    setinit(initVars[i], aln)\n",
    "\n",
    "    target_ = aln.getZeroTarget()\n",
    "    target_[:,0,:] = target[i][0]\n",
    "    target_[:,1,:] = target[i][1]\n",
    "\n",
    "    control0 = aln.getZeroControl()\n",
    "    cost.setParams(wp, 0., 10.)\n",
    "    max_it = int(29)\n",
    "\n",
    "    control0[0,1,2200:2800] = -1.\n",
    "    control0[0,0,2200:2800] = 1.\n",
    "\n",
    "    bestControl_[i], bestState_[i], cost_[i], runtime_, grad_, phi_, phi1_, costnode_[i] = aln.A1(\n",
    "        control0, target_, c_scheme, u_mat, u_scheme, max_iteration_ = max_it, tolerance_ = tol,\n",
    "        startStep_ = start_step, max_control_ = max_cntrl, min_control_ = min_cntrl, t_sim_ = dur,\n",
    "        t_sim_pre_ = dur_pre, t_sim_post_ = dur_post, CGVar = cgv, control_variables_ = c_var,\n",
    "        prec_variables_ = p_var, transition_time_ = t_pen)\n",
    "\n",
    "    time_ = np.arange(-dur_pre,round(dur+dur_post+aln.params.dt,1),aln.params.dt)\n",
    "    target_ = aln.getZeroTarget()\n",
    "    target_[:,0,:] = target[i][0]\n",
    "    target_[:,1,:] = target[i][1]\n",
    "\n",
    "    fig, ax = plt.subplots(2,1, constrained_layout=True, figsize = (4,4) )\n",
    "    ax[1].plot(time_, bestControl_[i][0,0,:], color = 'red')\n",
    "    ax[0].plot(time_, bestState_[i][0,0,:], color= 'red')\n",
    "    ax[1].plot(time_, bestControl_[i][0,1,:], color = 'blue')\n",
    "    ax[0].plot(time_, bestState_[i][0,1,:], color= 'blue')\n",
    "    ax[0].plot(time_, target_[0,0,:], linestyle = '--', color='red')\n",
    "    ax[0].plot(time_, target_[0,1,:], linestyle = '--', color='blue')\n",
    "    ax[0].set_xlim(-dur_pre,dur+dur_post)\n",
    "    ax[1].set_xlim(-dur_pre,dur+dur_post)\n",
    "    ax[0].axvspan(dur*t_pen, dur, alpha=0.2, color='gray')\n",
    "    ax[1].plot(plot_time_array, control0[0,0,:], color = 'red', linestyle=':')\n",
    "    ax[1].plot(plot_time_array, control0[0,1,:], color = 'blue', linestyle=':')\n",
    "    plt.show()\n",
    "\n",
    "    print('uncontrolled cost : ', cost_uncontrolled[i])\n",
    "    print('cost splitting : ', costnode_[i][0][0][0], costnode_[i][2][0][:2])    "
   ]
  },
  {
   "cell_type": "code",
   "execution_count": 124,
   "metadata": {
    "scrolled": true
   },
   "outputs": [
    {
     "name": "stdout",
     "output_type": "stream",
     "text": [
      "-------  20 0.4500000000000001 0.4750000000000002\n",
      "set cost params:  0.05 0.0 10.0\n",
      "interpolate adjoint :  True True True\n",
      "initial cost =  44.62124994109744\n",
      "RUN  0 , total integrated cost =  44.62124994109744\n",
      "Gradient descend method:  None\n",
      "RUN  1 , total integrated cost =  44.621249775100516\n",
      "RUN  1 , total integrated cost =  44.621249775100516\n",
      "Improved over  1  iterations in  1.4041696799686179  seconds by  3.7201316160917486e-07  percent.\n",
      "cost splitting :  2.161058692884431e-06 [2.19150766 2.27061731]\n"
     ]
    },
    {
     "data": {
      "image/png": "[encoded data removed]",
      "text/plain": [
       "<Figure size 288x288 with 2 Axes>"
      ]
     },
     "metadata": {
      "needs_background": "light"
     },
     "output_type": "display_data"
    }
   ],
   "source": [
    "c_var = [0,1]\n",
    "conv = [None] * len(exc)\n",
    "max_it = int(1)\n",
    "\n",
    "tol = 1e-9\n",
    "\n",
    "for i in i_range:\n",
    "    print(\"------- \", i, exc[i], inh[i])\n",
    "    aln.params.ext_exc_current = exc[i] * 5.\n",
    "    aln.params.ext_inh_current = inh[i] * 5.\n",
    "        \n",
    "    while not conv[i]:\n",
    "            \n",
    "        aln.params.duration = dur\n",
    "        cost.setParams(wp, 0., 10.)\n",
    "        weights_[i] = cost.getParams()\n",
    "\n",
    "        setinit(initVars[i], aln)\n",
    "\n",
    "        target_ = aln.getZeroTarget()\n",
    "        target_[:,0,:] = target[i][0]\n",
    "        target_[:,1,:] = target[i][1]\n",
    "\n",
    "        control1 = aln.getZeroControl()\n",
    "        control1 = bestControl_[i][:,:,n_pre-1:-n_post+1]\n",
    "\n",
    "        bestControl_[i], bestState_[i], cost_[i], runtime_, grad_, phi_, phi1_, costnode_[i] = aln.A1(\n",
    "            control1, target_, c_scheme, u_mat, u_scheme, max_iteration_ = max_it, tolerance_ = tol,\n",
    "            startStep_ = start_step, max_control_ = max_cntrl, min_control_ = min_cntrl, t_sim_ = dur,\n",
    "            t_sim_pre_ = dur_pre, t_sim_post_ = dur_post, CGVar = cgv, control_variables_ = c_var,\n",
    "            prec_variables_ = p_var, transition_time_ = t_pen)\n",
    "        \n",
    "        if max_it > 2:\n",
    "            if cost_[i][2] == 0.:\n",
    "                conv[i] = True\n",
    "\n",
    "        print('cost splitting : ', costnode_[i][0][0][0], costnode_[i][2][0][:2])\n",
    "\n",
    "        time_ = np.arange(-dur_pre,round(dur+dur_post+aln.params.dt,1),aln.params.dt)\n",
    "        target_ = aln.getZeroTarget()\n",
    "        target_[:,0,:] = target[i][0]\n",
    "        target_[:,1,:] = target[i][1]\n",
    "\n",
    "        fig, ax = plt.subplots(2,1, constrained_layout=True, figsize = (4,4) )\n",
    "        ax[1].plot(time_, bestControl_[i][0,0,:], color = 'red')\n",
    "        ax[0].plot(time_, bestState_[i][0,0,:], color= 'red')\n",
    "        ax[1].plot(time_, bestControl_[i][0,1,:], color = 'blue')\n",
    "        ax[0].plot(time_, bestState_[i][0,1,:], color= 'blue')\n",
    "        ax[0].plot(time_, target_[0,0,:], linestyle = '--', color='red')\n",
    "        ax[0].plot(time_, target_[0,1,:], linestyle = '--', color='blue')\n",
    "        ax[0].set_xlim(-dur_pre,dur+dur_post)\n",
    "        ax[1].set_xlim(-dur_pre,dur+dur_post)\n",
    "        ax[0].axvspan(dur*t_pen, dur, alpha=0.2, color='gray')\n",
    "        ax[1].plot(plot_time_array, control0[0,0,:], color = 'red', linestyle=':')\n",
    "        ax[1].plot(plot_time_array, control0[0,1,:], color = 'blue', linestyle=':')\n",
    "        plt.show()\n",
    "        \n",
    "        break"
   ]
  },
  {
   "cell_type": "code",
   "execution_count": 35,
   "metadata": {},
   "outputs": [
    {
     "name": "stdout",
     "output_type": "stream",
     "text": [
      "-------  20 0.4500000000000001 0.4750000000000002\n"
     ]
    },
    {
     "data": {
      "image/png": "[encoded data removed]",
      "text/plain": [
       "<Figure size 288x288 with 2 Axes>"
      ]
     },
     "metadata": {
      "needs_background": "light"
     },
     "output_type": "display_data"
    }
   ],
   "source": [
    "for i in i_range:\n",
    "    print(\"------- \", i, exc[i], inh[i])\n",
    "    \n",
    "    aln.params.duration = dur + dur_pre + dur_post\n",
    "\n",
    "    time_ = np.arange(-dur_pre,round(dur+dur_post+aln.params.dt,1),aln.params.dt)\n",
    "    target_ = aln.getZeroTarget()\n",
    "    target_[:,0,:] = target[i][0]\n",
    "    target_[:,1,:] = target[i][1]\n",
    "\n",
    "    fig, ax = plt.subplots(2,1, constrained_layout=True, figsize = (4,4) )\n",
    "    ax[1].plot(time_, bestControl_[i][0,0,:], color = 'red')\n",
    "    ax[0].plot(time_, bestState_[i][0,0,:], color= 'red')\n",
    "    ax[1].plot(time_, bestControl_[i][0,1,:], color = 'blue')\n",
    "    ax[0].plot(time_, bestState_[i][0,1,:], color= 'blue')\n",
    "    ax[0].plot(time_, target_[0,0,:], linestyle = '--', color='red')\n",
    "    ax[0].plot(time_, target_[0,1,:], linestyle = '--', color='blue')\n",
    "    ax[0].set_xlim(-dur_pre,dur+dur_post)\n",
    "    ax[1].set_xlim(-dur_pre,dur+dur_post)\n",
    "    ax[0].axvspan(dur*t_pen, dur, alpha=0.2, color='gray')\n",
    "    plt.show()"
   ]
  },
  {
   "cell_type": "code",
   "execution_count": null,
   "metadata": {},
   "outputs": [],
   "source": []
  }
 ],
 "metadata": {
  "kernelspec": {
   "display_name": "Python 3 (ipykernel)",
   "language": "python",
   "name": "python3"
  },
  "language_info": {
   "codemirror_mode": {
    "name": "ipython",
    "version": 3
   },
   "file_extension": ".py",
   "mimetype": "text/x-python",
   "name": "python",
   "nbconvert_exporter": "python",
   "pygments_lexer": "ipython3",
   "version": "3.9.7"
  }
 },
 "nbformat": 4,
 "nbformat_minor": 4
}
