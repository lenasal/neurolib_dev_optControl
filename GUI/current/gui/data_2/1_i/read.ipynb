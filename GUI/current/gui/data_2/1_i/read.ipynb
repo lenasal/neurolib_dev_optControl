{
 "cells": [
  {
   "cell_type": "code",
   "execution_count": 5,
   "metadata": {},
   "outputs": [
    {
     "name": "stdout",
     "output_type": "stream",
     "text": [
      "The autoreload extension is already loaded. To reload it, use:\n",
      "  %reload_ext autoreload\n"
     ]
    }
   ],
   "source": [
    "import matplotlib.pyplot as plt\n",
    "import numpy as np\n",
    "import os\n",
    "import sys\n",
    "import pickle\n",
    "\n",
    "path = os.getcwd().split(os.sep + 'GUI')[0]\n",
    "if path not in sys.path:\n",
    "    print(\"not here\")\n",
    "    sys.path.append(path)\n",
    "\n",
    "from neurolib.models.aln import ALNModel\n",
    "from neurolib.utils import plotFunctions as plotFunc\n",
    "from neurolib.utils import costFunctions as cost\n",
    "import neurolib.dashboard.functions as functions\n",
    "import neurolib.dashboard.data as data\n",
    "    \n",
    "# This will reload all imports as soon as the code changes\n",
    "%load_ext autoreload\n",
    "%autoreload 2 \n",
    "\n",
    "#path = os.path.join(os.getcwd(), \"plots\")"
   ]
  },
  {
   "cell_type": "code",
   "execution_count": 6,
   "metadata": {},
   "outputs": [],
   "source": [
    "grid_data_file = os.path.join(os.getcwd().split('data')[0], 'bi.pickle')\n",
    "with open(grid_data_file,'rb') as f:\n",
    "    load_array= pickle.load(f)\n",
    "exc = [load_array[0][20], load_array[0][50]]\n",
    "inh = [load_array[1][20], load_array[1][50]]\n",
    "\n",
    "folder = str(os.getcwd().split('data_2')[1])\n",
    "\n",
    "d_array = np.arange(500., 20, -0.1)\n",
    "t0_array = d_array - 20.\n",
    "t_pen = np.zeros(( t0_array.shape ))\n",
    "for i in range(len(t_pen)):\n",
    "    t_pen[i] = t0_array[i] / d_array[i]"
   ]
  },
  {
   "cell_type": "code",
   "execution_count": 7,
   "metadata": {},
   "outputs": [
    {
     "name": "stdout",
     "output_type": "stream",
     "text": [
      "(2, 4800)\n"
     ]
    }
   ],
   "source": [
    "bestControl_ = np.array( [[None] * len(t_pen)] * len(exc) )\n",
    "bestState_ = np.array( [[None] * len(t_pen)] * len(exc) )\n",
    "cost_ = np.array( [[None] * len(t_pen)] * len(exc) )\n",
    "costnode_ = np.array( [[None] * len(t_pen)] * len(exc) )\n",
    "weights_ = np.array( [[None] * len(t_pen)] * len(exc) )\n",
    "\n",
    "print(bestControl_.shape)"
   ]
  },
  {
   "cell_type": "code",
   "execution_count": 8,
   "metadata": {},
   "outputs": [
    {
     "name": "stdout",
     "output_type": "stream",
     "text": [
      "file found\n",
      "file found\n"
     ]
    }
   ],
   "source": [
    "file_ = os.path.join(os.getcwd().split(folder)[0], '1', '1_I.pickle')\n",
    "\n",
    "if os.path.isfile(file_) :\n",
    "    print(\"file found\")\n",
    "    \n",
    "    with open(file_,'rb') as f:\n",
    "        load_array = pickle.load(f)\n",
    "\n",
    "    bestControl_[0][0] = load_array[0][20]\n",
    "    bestState_[0][0] = load_array[1][20]\n",
    "    cost_[0][0] = load_array[2][20]\n",
    "    costnode_[0][0] = load_array[3][20]\n",
    "    weights_[0][0] = load_array[4][20]\n",
    "    \n",
    "file_ = os.path.join(os.getcwd().split(folder)[0], '1', '1_E.pickle')\n",
    "\n",
    "if os.path.isfile(file_):\n",
    "    print(\"file found\")\n",
    "    \n",
    "    with open(file_,'rb') as f:\n",
    "        load_array = pickle.load(f)\n",
    "    \n",
    "    bestControl_[1][0] = load_array[0][50][0]\n",
    "    bestState_[1][0] = load_array[1][50][0]\n",
    "    cost_[1][0] = load_array[2][50][0]\n",
    "    costnode_[1][0] = load_array[3][50][0]\n",
    "    weights_[1][0] = load_array[4][50][0]\n",
    "    \n",
    "file_ = 'down.pickle'\n",
    "    \n",
    "with open(file_,'wb') as f:\n",
    "            pickle.dump([bestControl_, bestState_, cost_, costnode_, weights_], f)"
   ]
  },
  {
   "cell_type": "code",
   "execution_count": null,
   "metadata": {},
   "outputs": [],
   "source": []
  },
  {
   "cell_type": "code",
   "execution_count": null,
   "metadata": {},
   "outputs": [],
   "source": []
  }
 ],
 "metadata": {
  "kernelspec": {
   "display_name": "Python 3 (ipykernel)",
   "language": "python",
   "name": "python3"
  },
  "language_info": {
   "codemirror_mode": {
    "name": "ipython",
    "version": 3
   },
   "file_extension": ".py",
   "mimetype": "text/x-python",
   "name": "python",
   "nbconvert_exporter": "python",
   "pygments_lexer": "ipython3",
   "version": "3.9.7"
  }
 },
 "nbformat": 4,
 "nbformat_minor": 4
}
