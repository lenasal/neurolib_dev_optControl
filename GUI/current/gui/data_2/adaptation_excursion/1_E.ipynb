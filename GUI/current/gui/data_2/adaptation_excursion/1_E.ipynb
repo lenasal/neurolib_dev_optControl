{
 "cells": [
  {
   "cell_type": "code",
   "execution_count": 1,
   "metadata": {},
   "outputs": [
    {
     "name": "stdout",
     "output_type": "stream",
     "text": [
      "not here\n"
     ]
    }
   ],
   "source": [
    "import matplotlib.pyplot as plt\n",
    "import numpy as np\n",
    "import os\n",
    "import sys\n",
    "import pickle\n",
    "import random\n",
    "\n",
    "path = os.getcwd().split(os.sep + 'GUI')[0]\n",
    "if path not in sys.path:\n",
    "    print(\"not here\")\n",
    "    sys.path.append(path)\n",
    "\n",
    "from neurolib.models.aln import ALNModel\n",
    "from neurolib.utils import plotFunctions as plotFunc\n",
    "from neurolib.utils import costFunctions as cost\n",
    "import neurolib.dashboard.functions as functions\n",
    "import neurolib.dashboard.data as data\n",
    "    \n",
    "# This will reload all imports as soon as the code changes\n",
    "%load_ext autoreload\n",
    "%autoreload 2 \n",
    "\n",
    "#path = os.path.join(os.getcwd(), \"plots\")"
   ]
  },
  {
   "cell_type": "code",
   "execution_count": 280,
   "metadata": {},
   "outputs": [],
   "source": [
    "p0 = [0.86, 0.25] # high\n",
    "p1 = [0.74, 0.37] # low"
   ]
  },
  {
   "cell_type": "code",
   "execution_count": 328,
   "metadata": {},
   "outputs": [],
   "source": [
    "aln = ALNModel()\n",
    "\n",
    "aln.params.sigma_ou = 0.\n",
    "aln.params.mue_ext_mean = 0.\n",
    "aln.params.mui_ext_mean = 0.\n",
    "aln.params.ext_exc_current = 0.\n",
    "aln.params.ext_inh_current = 0.\n",
    "\n",
    "#aln.params.IA_init = np.zeros((1))\n",
    "\n",
    "N = aln.params.N\n",
    "\n",
    "state_vars = aln.state_vars\n",
    "init_vars = aln.init_vars\n",
    "\n",
    "##############################################################\n",
    "def setinit(init_vars_, model):\n",
    "    state_vars = model.state_vars\n",
    "    init_vars = model.init_vars\n",
    "    for iv in range(len(init_vars)):\n",
    "        for sv in range(len(state_vars)):\n",
    "            if state_vars[sv] in init_vars[iv]:\n",
    "                #print(\"set init vars \", )\n",
    "                if model.params[init_vars[iv]].ndim == 2:\n",
    "                    model.params[init_vars[iv]][0,:] = init_vars_[sv]\n",
    "                else:\n",
    "                    model.params[init_vars[iv]][0] = init_vars_[sv]\n",
    "                    \n",
    "##############################################################               \n",
    "def setmaxmincontrol(max_c_c, min_c_c, max_c_r, min_c_r):\n",
    "    import numpy as np\n",
    "    \n",
    "    max_cntrl = np.zeros(( 6 ))\n",
    "    min_cntrl = np.zeros(( 6 ))\n",
    "    \n",
    "    max_cntrl[0] = max_c_c\n",
    "    min_cntrl[0] = min_c_c\n",
    "    max_cntrl[1] = max_c_c\n",
    "    min_cntrl[1] = min_c_c\n",
    "    max_cntrl[2] = max_c_r\n",
    "    min_cntrl[2] = min_c_r\n",
    "    max_cntrl[3] = max_c_r\n",
    "    min_cntrl[3] = min_c_r\n",
    "    max_cntrl[4] = max_c_r\n",
    "    min_cntrl[4] = min_c_r\n",
    "    max_cntrl[5] = max_c_r\n",
    "    min_cntrl[5] = min_c_r\n",
    "            \n",
    "    return max_cntrl, min_cntrl"
   ]
  },
  {
   "cell_type": "code",
   "execution_count": 421,
   "metadata": {},
   "outputs": [],
   "source": [
    "dur = 500.\n",
    "t_pen = 0.6"
   ]
  },
  {
   "cell_type": "code",
   "execution_count": 422,
   "metadata": {},
   "outputs": [
    {
     "name": "stdout",
     "output_type": "stream",
     "text": [
      "/adaptation_excursion\n"
     ]
    }
   ],
   "source": [
    "file_ = '1_E.pickle'\n",
    "folder = str(os.getcwd().split('data_2')[1])\n",
    "print(folder)\n",
    "case = '1'"
   ]
  },
  {
   "cell_type": "code",
   "execution_count": 423,
   "metadata": {},
   "outputs": [],
   "source": [
    "dur_pre = 10\n",
    "dur_post = 100\n",
    "\n",
    "n_pre = int(np.around(dur_pre/aln.params.dt + 1.,1))\n",
    "n_post = int(np.around(dur_post/aln.params.dt + 1.,1))\n",
    "\n",
    "tol = 1e-10\n",
    "start_step = 10.\n",
    "c_scheme = np.zeros(( 1,1 ))\n",
    "c_scheme[0,0] = 1.\n",
    "u_mat = np.identity(1)\n",
    "u_scheme = np.array([[1.]])\n",
    "\n",
    "p_var = [0]\n",
    "c_var = [0]\n",
    "#wp = 1. / (dur * t_pen[1] - t_pen[0] * dur)\n",
    "wp = 1. / (dur - t_pen*dur)\n",
    "\n",
    "if case in ['1', '2']:    # low to high\n",
    "    max_I = [3., -3.]\n",
    "else:\n",
    "    max_I = [-3., 3.]\n",
    "    \n",
    "if case in ['1', '3']:    # sparsity\n",
    "    factor_ws = 1.\n",
    "    factor_we = 0.\n",
    "else:\n",
    "    factor_ws = 0.\n",
    "    factor_we = 1.\n",
    "    \n",
    "maxC = [5., -5., 0.18, 0.]\n",
    "max_cntrl, min_cntrl = setmaxmincontrol(maxC[0], maxC[1], maxC[2], maxC[3])"
   ]
  },
  {
   "cell_type": "code",
   "execution_count": 424,
   "metadata": {},
   "outputs": [
    {
     "name": "stdout",
     "output_type": "stream",
     "text": [
      "file found\n"
     ]
    }
   ],
   "source": [
    "bestControl_ = None\n",
    "\n",
    "if os.path.isfile(file_) :\n",
    "    print(\"file found\")\n",
    "    \n",
    "    with open(file_,'rb') as f:\n",
    "        load_array = pickle.load(f)\n",
    "\n",
    "    bestControl_ = load_array[0]"
   ]
  },
  {
   "cell_type": "code",
   "execution_count": 420,
   "metadata": {
    "scrolled": true
   },
   "outputs": [
    {
     "data": {
      "image/png": "[encoded data removed]",
      "text/plain": [
       "<Figure size 432x288 with 1 Axes>"
      ]
     },
     "metadata": {
      "needs_background": "light"
     },
     "output_type": "display_data"
    }
   ],
   "source": [
    "# get initial parameters and target states\n",
    "\n",
    "aln.params.sigma_ou = 0.\n",
    "\n",
    "aln.params.duration = 2000.\n",
    "\n",
    "aln.params.mue_ext_mean = p1[0] * 5.\n",
    "aln.params.mui_ext_mean = p1[1] * 5.\n",
    "\n",
    "aln.run(control=aln.getZeroControl())\n",
    "plt.plot(aln.t, aln.rates_exc[0,:], color='red')\n",
    "plt.plot(aln.t, aln.rates_inh[0,:], color='blue')\n",
    "plt.show()\n",
    "\n",
    "init_state_vars = np.zeros(( len(state_vars) ))\n",
    "for j in range(len(state_vars)):\n",
    "    if aln.state[state_vars[j]].size == 1:\n",
    "        init_state_vars[j] = aln.state[state_vars[j]][0]\n",
    "    else:\n",
    "        init_state_vars[j] = aln.state[state_vars[j]][0,-1]\n",
    "\n",
    "initVars = init_state_vars.copy()"
   ]
  },
  {
   "cell_type": "code",
   "execution_count": 404,
   "metadata": {},
   "outputs": [
    {
     "data": {
      "image/png": "[encoded data removed]",
      "text/plain": [
       "<Figure size 432x288 with 1 Axes>"
      ]
     },
     "metadata": {
      "needs_background": "light"
     },
     "output_type": "display_data"
    },
    {
     "name": "stdout",
     "output_type": "stream",
     "text": [
      "21.675775134201206\n",
      "68.9723480788201\n"
     ]
    }
   ],
   "source": [
    "aln.params.sigma_ou = 0.1\n",
    "\n",
    "aln.params.duration = 20000.\n",
    "\n",
    "aln.params.mue_ext_mean = p1[0] * 5.\n",
    "aln.params.mui_ext_mean = p1[1] * 5.\n",
    "\n",
    "aln.run(control=aln.getZeroControl())\n",
    "plt.plot(aln.t, aln.rates_exc[0,:], color='red')\n",
    "plt.plot(aln.t, aln.rates_inh[0,:], color='blue')\n",
    "plt.show()\n",
    "\n",
    "e_ = []\n",
    "i_ = []\n",
    "t_ind = []\n",
    "\n",
    "for t in range(len(aln.t)):\n",
    "    \n",
    "    if aln.rates_exc[0,t] < 10:\n",
    "        continue\n",
    "    if aln.rates_inh[0,t] < 50:\n",
    "        continue\n",
    "    \n",
    "    t_ind.append(t)\n",
    "    e_.append(aln.rates_exc[0,t])\n",
    "    i_.append(aln.rates_inh[0,t])\n",
    "    \n",
    "print(np.mean(e_))\n",
    "print(np.mean(i_))\n",
    "\n",
    "target = np.zeros((2))\n",
    "target[0] = np.mean(e_)\n",
    "target[1] = np.mean(i_)"
   ]
  },
  {
   "cell_type": "code",
   "execution_count": 405,
   "metadata": {
    "scrolled": true
   },
   "outputs": [
    {
     "name": "stdout",
     "output_type": "stream",
     "text": [
      "set cost params:  0.005 0.0 0.0\n",
      "interpolate adjoint :  True True True\n",
      "initial cost =  218.73170038784292\n",
      "RUN  0 , total integrated cost =  218.73170038784292\n",
      "Gradient descend method:  None\n",
      "RUN  0 , total integrated cost =  218.73170038784292\n",
      "Improved over  0  iterations in  0.0  seconds by  0.0  percent.\n"
     ]
    },
    {
     "data": {
      "image/png": "[encoded data removed]",
      "text/plain": [
       "<Figure size 288x432 with 2 Axes>"
      ]
     },
     "metadata": {
      "needs_background": "light"
     },
     "output_type": "display_data"
    }
   ],
   "source": [
    "# get uncontrolled cost\n",
    "    \n",
    "aln.params.duration = dur\n",
    "aln.params.sigma_ou = 0.\n",
    "\n",
    "target_ = aln.getZeroTarget()\n",
    "target_[:,0,:] = target[0]\n",
    "target_[:,1,:] = target[1]\n",
    "\n",
    "cost.setParams(wp, 0.0, 0.0)\n",
    "\n",
    "aln.params.mue_ext_mean = p1[0] * 5.\n",
    "aln.params.mui_ext_mean = p1[1] * 5.\n",
    "\n",
    "setinit(initVars, aln)\n",
    "control0 = aln.getZeroControl()\n",
    "\n",
    "cgv = None\n",
    "max_it = 0\n",
    "\n",
    "bestControl_init_, bestState_init_, cost_init_, runtime_init_, grad_init_, phi_init_, phi1_, costnode_init_ = aln.A1(\n",
    "    control0, target_, c_scheme, u_mat, u_scheme, max_iteration_ = max_it, tolerance_ = tol,\n",
    "    startStep_ = start_step, max_control_ = max_cntrl, min_control_ = min_cntrl, t_sim_ = dur,\n",
    "    t_sim_pre_ = dur_pre, t_sim_post_ = dur_post, CGVar = cgv, control_variables_ = c_var,\n",
    "    prec_variables_ = p_var, transition_time_ = t_pen)\n",
    "\n",
    "if True:\n",
    "    plot_time_array = np.arange(0.,round(dur+aln.params.dt,1),aln.params.dt)\n",
    "    target_ = aln.getZeroTarget()\n",
    "    target_[:,0,:] = target[0]\n",
    "    target_[:,1,:] = target[1]\n",
    "\n",
    "    fig, ax = plt.subplots(2,1, constrained_layout=True, figsize = (4,6) )\n",
    "    ax[1].plot(plot_time_array, bestControl_init_[0,0,n_pre-1:-n_post+1], color = 'red')\n",
    "    ax[0].plot(plot_time_array, bestState_init_[0,0,n_pre-1:-n_post+1], color= 'red')\n",
    "    ax[1].plot(plot_time_array, bestControl_init_[0,1,n_pre-1:-n_post+1], color = 'blue')\n",
    "    ax[0].plot(plot_time_array, bestState_init_[0,1,n_pre-1:-n_post+1], color= 'blue')\n",
    "    ax[0].plot(plot_time_array, target_[0,0,n_pre-1:-n_post+1], linestyle = '--', color='red')\n",
    "    ax[0].plot(plot_time_array, target_[0,1,n_pre-1:-n_post+1], linestyle = '--', color='blue')\n",
    "\n",
    "    for k in range(2):\n",
    "        ax[k].set_xlim(0.,dur)\n",
    "        ax[k].axvspan(dur*t_pen, dur, alpha=0.2, color='gray')\n",
    "    plt.show()\n",
    "\n",
    "cost_uncontrolled = cost_init_[0]"
   ]
  },
  {
   "cell_type": "code",
   "execution_count": 406,
   "metadata": {
    "scrolled": true
   },
   "outputs": [
    {
     "name": "stdout",
     "output_type": "stream",
     "text": [
      "set cost params:  0.005 0.0 10.0\n",
      "interpolate adjoint :  True True True\n",
      "initial cost =  218.73170038784292\n",
      "RUN  0 , total integrated cost =  218.73170038784292\n",
      "Gradient descend method:  None\n",
      "RUN  1 , total integrated cost =  102.46759488139062\n",
      "RUN  2 , total integrated cost =  98.70288601657005\n",
      "RUN  3 , total integrated cost =  98.62807666823434\n",
      "RUN  4 , total integrated cost =  98.55695681275404\n",
      "RUN  5 , total integrated cost =  98.53811442847153\n",
      "RUN  6 , total integrated cost =  98.5201653928207\n",
      "RUN  7 , total integrated cost =  98.50815444598459\n"
     ]
    },
    {
     "name": "stderr",
     "output_type": "stream",
     "text": [
      "ERROR:root:Problem in initial value trasfer post\n"
     ]
    },
    {
     "name": "stdout",
     "output_type": "stream",
     "text": [
      "RUN  8 , total integrated cost =  98.49590836409216\n",
      "RUN  9 , total integrated cost =  98.48172011087216\n",
      "RUN  10 , total integrated cost =  98.46541784139797\n",
      "RUN  10 , total integrated cost =  98.46541784139797\n",
      "Improved over  10  iterations in  1.0017385690007359  seconds by  54.983471683891935  percent.\n",
      "Problem in initial value trasfer post:  Vmean_exc -57.74817461601439 -57.765769560851645\n"
     ]
    },
    {
     "data": {
      "image/png": "[encoded data removed]",
      "text/plain": [
       "<Figure size 288x432 with 2 Axes>"
      ]
     },
     "metadata": {
      "needs_background": "light"
     },
     "output_type": "display_data"
    },
    {
     "name": "stdout",
     "output_type": "stream",
     "text": [
      "uncontrolled cost :  218.73170038784292\n",
      "cost splitting :  17582.004759785414 [1.0555394 0.       ]\n"
     ]
    }
   ],
   "source": [
    "cgv = None\n",
    "j = 0\n",
    "\n",
    "aln.params.duration = dur\n",
    "setinit(initVars, aln)\n",
    "\n",
    "target_ = aln.getZeroTarget()\n",
    "target_[:,0,:] = target[0]\n",
    "target_[:,1,:] = target[1]\n",
    "\n",
    "control0 = aln.getZeroControl()\n",
    "cost.setParams(wp, 0., 10.)\n",
    "max_it = int(10)\n",
    "\n",
    "#control0[0,0,2400:2500] = 0.5\n",
    "\n",
    "bestControl_, bestState_, cost_, runtime_, grad_, phi_, phi1_, costnode_ = aln.A1(\n",
    "    control0, target_, c_scheme, u_mat, u_scheme, max_iteration_ = max_it, tolerance_ = tol,\n",
    "    startStep_ = start_step, max_control_ = max_cntrl, min_control_ = min_cntrl, t_sim_ = dur,\n",
    "    t_sim_pre_ = dur_pre, t_sim_post_ = dur_post, CGVar = cgv, control_variables_ = c_var,\n",
    "    prec_variables_ = p_var, transition_time_ = t_pen)\n",
    "\n",
    "if True:\n",
    "    plot_time_array = np.arange(0.,round(dur+aln.params.dt,1),aln.params.dt)\n",
    "    target_ = aln.getZeroTarget()\n",
    "    target_[:,0,:] = target[0]\n",
    "    target_[:,1,:] = target[1]\n",
    "\n",
    "    fig, ax = plt.subplots(2,1, constrained_layout=True, figsize = (4,6) )\n",
    "    ax[1].plot(plot_time_array, bestControl_[0,0,n_pre-1:-n_post+1], color = 'red')\n",
    "    ax[0].plot(plot_time_array, bestState_[0,0,n_pre-1:-n_post+1], color= 'red')\n",
    "    ax[1].plot(plot_time_array, bestControl_[0,1,n_pre-1:-n_post+1], color = 'blue')\n",
    "    ax[0].plot(plot_time_array, bestState_[0,1,n_pre-1:-n_post+1], color= 'blue')\n",
    "    ax[0].plot(plot_time_array, target_[0,0,n_pre-1:-n_post+1], linestyle = '--', color='red')\n",
    "    ax[0].plot(plot_time_array, target_[0,1,n_pre-1:-n_post+1], linestyle = '--', color='blue')\n",
    "\n",
    "    for k in range(2):\n",
    "        ax[k].set_xlim(0.,dur)\n",
    "        ax[k].axvspan(dur*t_pen, dur, alpha=0.2, color='gray')\n",
    "    plt.show()\n",
    "\n",
    "print('uncontrolled cost : ', cost_uncontrolled)\n",
    "print('cost splitting : ', costnode_[0][0][0], costnode_[2][0][:2])    "
   ]
  },
  {
   "cell_type": "code",
   "execution_count": 407,
   "metadata": {
    "scrolled": true
   },
   "outputs": [
    {
     "name": "stdout",
     "output_type": "stream",
     "text": [
      "set cost params:  0.005 0.0 1.0\n",
      "interpolate adjoint :  True True True\n",
      "initial cost =  88.96556320317417\n",
      "RUN  0 , total integrated cost =  88.96556320317417\n",
      "Gradient descend method:  None\n",
      "RUN  1 , total integrated cost =  88.95349528396578\n",
      "RUN  2 , total integrated cost =  88.9414857358138\n",
      "RUN  3 , total integrated cost =  88.92934460255775\n",
      "RUN  4 , total integrated cost =  88.91739395920192\n",
      "RUN  5 , total integrated cost =  88.90624232633859\n",
      "RUN  6 , total integrated cost =  88.8948981369062\n",
      "RUN  7 , total integrated cost =  88.88292537598687\n",
      "RUN  8 , total integrated cost =  88.87088016162231\n",
      "RUN  9 , total integrated cost =  88.85947753426764\n",
      "RUN  10 , total integrated cost =  88.8483665501383\n",
      "RUN  11 , total integrated cost =  88.8356336264562\n",
      "RUN  12 , total integrated cost =  88.82269147900092\n",
      "RUN  13 , total integrated cost =  88.8112693804626\n",
      "RUN  14 , total integrated cost =  88.80005554627121\n",
      "RUN  15 , total integrated cost =  88.78782261539621\n",
      "RUN  16 , total integrated cost =  88.77443754425462\n",
      "RUN  17 , total integrated cost =  88.76379820508113\n",
      "RUN  18 , total integrated cost =  88.75337639377204\n",
      "RUN  19 , total integrated cost =  88.74314227459723\n",
      "RUN  20 , total integrated cost =  88.7323135181894\n",
      "RUN  30 , total integrated cost =  88.6393760041453\n",
      "RUN  40 , total integrated cost =  88.54221851744956\n",
      "RUN  50 , total integrated cost =  88.42701762865197\n",
      "RUN  60 , total integrated cost =  88.2735375606982\n",
      "RUN  70 , total integrated cost =  88.14262753173077\n",
      "RUN  80 , total integrated cost =  88.01140773635767\n",
      "RUN  90 , total integrated cost =  86.95876130153626\n",
      "RUN  100 , total integrated cost =  86.8025166924706\n",
      "RUN  110 , total integrated cost =  86.62810388410402\n",
      "RUN  120 , total integrated cost =  86.38667010167259\n",
      "RUN  130 , total integrated cost =  86.10744442559302\n",
      "RUN  140 , total integrated cost =  85.78323865874152\n",
      "RUN  150 , total integrated cost =  85.38285654393299\n",
      "RUN  160 , total integrated cost =  81.4513569911211\n",
      "RUN  170 , total integrated cost =  80.7588427383575\n",
      "RUN  180 , total integrated cost =  80.51586885187415\n",
      "RUN  190 , total integrated cost =  80.24490985896466\n",
      "RUN  200 , total integrated cost =  79.95973310448247\n",
      "RUN  300 , total integrated cost =  73.02067900799358\n",
      "RUN  400 , total integrated cost =  71.51374197101883\n",
      "RUN  500 , total integrated cost =  69.88353869847535\n",
      "RUN  600 , total integrated cost =  67.94310736832455\n",
      "RUN  700 , total integrated cost =  65.57320038216112\n",
      "RUN  800 , total integrated cost =  62.55494764543947\n",
      "RUN  900 , total integrated cost =  4.527106661165446\n"
     ]
    },
    {
     "name": "stderr",
     "output_type": "stream",
     "text": [
      "ERROR:root:Problem in initial value trasfer post\n"
     ]
    },
    {
     "name": "stdout",
     "output_type": "stream",
     "text": [
      "RUN  1000 , total integrated cost =  3.882777029796761\n",
      "RUN  1000 , total integrated cost =  3.882777029796761\n",
      "Improved over  1000  iterations in  164.74689888901776  seconds by  95.63564047705795  percent.\n",
      "Problem in initial value trasfer post:  Vmean_exc -56.643298222903255 -56.64762676368117\n",
      "cost splitting :  16.30117252450276 [3.80126493e+00 6.23621103e-06]\n",
      "set cost params:  0.005 0.0 1.0\n",
      "interpolate adjoint :  True True True\n",
      "initial cost =  3.882777029796761\n",
      "RUN  0 , total integrated cost =  3.882777029796761\n",
      "Gradient descend method:  None\n",
      "RUN  1 , total integrated cost =  3.8825360039425325\n",
      "RUN  2 , total integrated cost =  3.88230538278451\n",
      "RUN  3 , total integrated cost =  3.8820743327968623\n",
      "RUN  4 , total integrated cost =  3.8818541611927557\n",
      "RUN  5 , total integrated cost =  3.8816416235979325\n",
      "RUN  6 , total integrated cost =  3.8814314882898193\n",
      "RUN  7 , total integrated cost =  3.8812253149202633\n",
      "RUN  8 , total integrated cost =  3.8810251887256877\n",
      "RUN  9 , total integrated cost =  3.8808263217209418\n",
      "RUN  10 , total integrated cost =  3.8806356299277507\n",
      "RUN  11 , total integrated cost =  3.8804458979499876\n",
      "RUN  12 , total integrated cost =  3.880261236314634\n",
      "RUN  13 , total integrated cost =  3.8800792572435605\n",
      "RUN  14 , total integrated cost =  3.8798976385720034\n",
      "RUN  15 , total integrated cost =  3.8797215360951562\n",
      "RUN  16 , total integrated cost =  3.8795496922087254\n",
      "RUN  17 , total integrated cost =  3.879381806615853\n",
      "RUN  18 , total integrated cost =  3.8792171407286915\n",
      "RUN  19 , total integrated cost =  3.8790528319057156\n",
      "RUN  20 , total integrated cost =  3.878890555669833\n",
      "RUN  30 , total integrated cost =  3.8774134624820196\n",
      "RUN  40 , total integrated cost =  3.876162464294814\n",
      "RUN  50 , total integrated cost =  3.8750611331285607\n",
      "RUN  60 , total integrated cost =  3.8740862019409246\n",
      "RUN  70 , total integrated cost =  3.8732084243568066\n",
      "RUN  80 , total integrated cost =  3.8723985586815837\n",
      "RUN  90 , total integrated cost =  3.8716602621434273\n",
      "RUN  100 , total integrated cost =  3.8709852058341525\n",
      "RUN  110 , total integrated cost =  3.8703663738604677\n",
      "RUN  120 , total integrated cost =  3.8697898302830023\n",
      "RUN  130 , total integrated cost =  3.869250448349492\n",
      "RUN  140 , total integrated cost =  3.868739674691531\n",
      "RUN  150 , total integrated cost =  3.868225350387326\n",
      "RUN  160 , total integrated cost =  3.867761799830254\n",
      "RUN  170 , total integrated cost =  3.8673187849693704\n",
      "RUN  180 , total integrated cost =  3.866901733350899\n",
      "RUN  190 , total integrated cost =  3.866489853015212\n",
      "RUN  200 , total integrated cost =  3.866115832519269\n",
      "RUN  300 , total integrated cost =  3.8632579564042815\n",
      "RUN  400 , total integrated cost =  3.8611137713855577\n",
      "RUN  500 , total integrated cost =  3.8599660101809206\n",
      "RUN  600 , total integrated cost =  3.859452963164256\n",
      "RUN  700 , total integrated cost =  3.8590551534055444\n",
      "RUN  800 , total integrated cost =  3.8585727691638696\n",
      "RUN  900 , total integrated cost =  3.858471278606187\n"
     ]
    },
    {
     "name": "stderr",
     "output_type": "stream",
     "text": [
      "ERROR:root:Problem in initial value trasfer post\n"
     ]
    },
    {
     "name": "stdout",
     "output_type": "stream",
     "text": [
      "RUN  1000 , total integrated cost =  3.8584136175959283\n",
      "RUN  1000 , total integrated cost =  3.8584136175959283\n",
      "Improved over  1000  iterations in  162.9473458880093  seconds by  0.6274738933981041  percent.\n",
      "Problem in initial value trasfer post:  Vmean_exc -56.63772831075401 -56.6411771319168\n",
      "cost splitting :  13.46186233473418 [3.79109807e+00 6.23621103e-06]\n",
      "set cost params:  0.005 0.0 1.0\n",
      "interpolate adjoint :  True True True\n",
      "initial cost =  3.8584136175959283\n",
      "RUN  0 , total integrated cost =  3.8584136175959283\n",
      "Gradient descend method:  None\n",
      "RUN  1 , total integrated cost =  3.858413101891926\n",
      "RUN  2 , total integrated cost =  3.8584125806529035\n",
      "RUN  3 , total integrated cost =  3.85841202999728\n",
      "RUN  4 , total integrated cost =  3.858411488774641\n",
      "RUN  5 , total integrated cost =  3.858410972561377\n",
      "RUN  6 , total integrated cost =  3.8584104742111194\n",
      "RUN  7 , total integrated cost =  3.8584099219608485\n",
      "RUN  8 , total integrated cost =  3.8584093430753903\n",
      "RUN  9 , total integrated cost =  3.8584087676672385\n",
      "RUN  10 , total integrated cost =  3.8584081598594393\n",
      "RUN  11 , total integrated cost =  3.8584076217355325\n",
      "RUN  12 , total integrated cost =  3.8584070537248794\n",
      "RUN  13 , total integrated cost =  3.858406487829445\n",
      "RUN  14 , total integrated cost =  3.858405961697515\n",
      "RUN  15 , total integrated cost =  3.858405476288699\n",
      "RUN  16 , total integrated cost =  3.8584050034942714\n",
      "RUN  17 , total integrated cost =  3.8584044755570432\n",
      "RUN  18 , total integrated cost =  3.858403935867607\n",
      "RUN  19 , total integrated cost =  3.858403366519917\n",
      "RUN  20 , total integrated cost =  3.8584028171915374\n",
      "RUN  30 , total integrated cost =  3.8583718365939275\n",
      "RUN  40 , total integrated cost =  3.858358879909963\n",
      "RUN  50 , total integrated cost =  3.8583475299400996\n",
      "RUN  60 , total integrated cost =  3.8583399769060156\n",
      "RUN  70 , total integrated cost =  3.858335187498616\n",
      "RUN  80 , total integrated cost =  3.8583236308490982\n",
      "RUN  90 , total integrated cost =  3.858314184300625\n",
      "RUN  100 , total integrated cost =  3.8583006341196633\n",
      "RUN  110 , total integrated cost =  3.858299130420095\n",
      "RUN  120 , total integrated cost =  3.858295058782749\n",
      "RUN  130 , total integrated cost =  3.8582609874938867\n",
      "RUN  140 , total integrated cost =  3.8582601325423664\n",
      "RUN  150 , total integrated cost =  3.858259745129915\n",
      "RUN  160 , total integrated cost =  3.858257917835874\n",
      "RUN  170 , total integrated cost =  3.8582570054392575\n",
      "RUN  180 , total integrated cost =  3.8582566583271865\n"
     ]
    },
    {
     "name": "stderr",
     "output_type": "stream",
     "text": [
      "ERROR:root:Problem in initial value trasfer post\n",
      "ERROR:root:Problem in initial value trasfer post\n"
     ]
    },
    {
     "name": "stdout",
     "output_type": "stream",
     "text": [
      "Control only changes marginally.\n",
      "RUN  188 , total integrated cost =  3.8582564298394106\n",
      "Improved over  188  iterations in  28.099888555007055  seconds by  0.0040738959607864444  percent.\n",
      "Problem in initial value trasfer post:  Vmean_exc -56.637739858319534 -56.64119143323854\n",
      "cost splitting :  13.467318391965081 [3.79091360e+00 6.23621103e-06]\n",
      "set cost params:  0.005 0.0 1.0\n",
      "interpolate adjoint :  True True True\n",
      "initial cost =  3.8582564298394106\n",
      "RUN  0 , total integrated cost =  3.8582564298394106\n",
      "Gradient descend method:  None\n",
      "RUN  1 , total integrated cost =  3.8582564298394106\n",
      "Control only changes marginally.\n",
      "RUN  1 , total integrated cost =  3.8582564298394106\n",
      "Improved over  1  iterations in  0.16072744099074043  seconds by  0.0  percent.\n",
      "Problem in initial value trasfer post:  Vmean_exc -56.637739858319534 -56.64119143323854\n",
      "cost splitting :  13.467318391965081 [3.79091360e+00 6.23621103e-06]\n"
     ]
    },
    {
     "data": {
      "image/png": "[encoded data removed]",
      "text/plain": [
       "<Figure size 288x288 with 2 Axes>"
      ]
     },
     "metadata": {
      "needs_background": "light"
     },
     "output_type": "display_data"
    }
   ],
   "source": [
    "c_var = [0,1]\n",
    "max_it = int(1000)\n",
    "conv = False\n",
    "\n",
    "tol = 1e-6\n",
    "    \n",
    "while not conv:\n",
    "\n",
    "    weight_ = 1.\n",
    "\n",
    "    aln.params.duration = dur\n",
    "    cost.setParams(wp, weight_ * factor_we, weight_ * factor_ws)\n",
    "    weights_ = cost.getParams()\n",
    "\n",
    "    setinit(initVars, aln)\n",
    "\n",
    "    target_ = aln.getZeroTarget()\n",
    "    target_[:,0,:] = target[0]\n",
    "    target_[:,1,:] = target[1]\n",
    "\n",
    "    control0 = aln.getZeroControl()\n",
    "    control0 = bestControl_[:,:,n_pre-1:-n_post+1]\n",
    "\n",
    "    bestControl_, bestState_, cost_, runtime_, grad_, phi_, phi1_, costnode_ = aln.A1(\n",
    "        control0, target_, c_scheme, u_mat, u_scheme, max_iteration_ = max_it, tolerance_ = tol,\n",
    "        startStep_ = start_step, max_control_ = max_cntrl, min_control_ = min_cntrl, t_sim_ = dur,\n",
    "        t_sim_pre_ = dur_pre, t_sim_post_ = dur_post, CGVar = cgv, control_variables_ = c_var,\n",
    "        prec_variables_ = p_var, transition_time_ = t_pen)\n",
    "\n",
    "    if cost_[2] == 0.:\n",
    "        conv = True\n",
    "\n",
    "    #print('uncontrolled cost : ', cost_uncontrolled[i])\n",
    "    print('cost splitting : ', costnode_[0][0][0], costnode_[2][0][:2])\n",
    "\n",
    "    if conv and True:\n",
    "        time_ = np.arange(-dur_pre,round(dur+dur_post+aln.params.dt,1),aln.params.dt)\n",
    "        target_ = aln.getZeroTarget()\n",
    "        target_[:,0,:] = target[0]\n",
    "        target_[:,1,:] = target[1]\n",
    "\n",
    "        fig, ax = plt.subplots(2,1, constrained_layout=True, figsize = (4,4) )\n",
    "        ax[1].plot(time_, bestControl_[0,0,:], color = 'red')\n",
    "        ax[0].plot(time_, bestState_[0,0,:], color= 'red')\n",
    "        ax[1].plot(time_, bestControl_[0,1,:], color = 'blue')\n",
    "        ax[0].plot(time_, bestState_[0,1,:], color= 'blue')\n",
    "        ax[0].plot(time_, target_[0,0,:], linestyle = '--', color='red')\n",
    "        ax[0].plot(time_, target_[0,1,:], linestyle = '--', color='blue')\n",
    "        for k in range(2):\n",
    "            ax[k].set_xlim(0.,dur)\n",
    "            ax[k].axvspan(dur*t_pen, dur, alpha=0.2, color='gray')\n",
    "        plt.show()\n",
    "\n",
    "    with open(file_,'wb') as f:\n",
    "        pickle.dump([bestControl_, bestState_, cost_, costnode_, weights_], f)"
   ]
  },
  {
   "cell_type": "code",
   "execution_count": 409,
   "metadata": {
    "scrolled": true
   },
   "outputs": [
    {
     "name": "stderr",
     "output_type": "stream",
     "text": [
      "ERROR:root:Problem in initial value trasfer post\n"
     ]
    },
    {
     "name": "stdout",
     "output_type": "stream",
     "text": [
      "set cost params:  0.005 0.0 1.0\n",
      "interpolate adjoint :  True True True\n",
      "initial cost =  3.8582490059849817\n",
      "RUN  0 , total integrated cost =  3.8582490059849817\n",
      "Gradient descend method:  None\n",
      "RUN  1 , total integrated cost =  3.8582490059849817\n",
      "Control only changes marginally.\n",
      "RUN  1 , total integrated cost =  3.8582490059849817\n",
      "Improved over  1  iterations in  0.11791780500789173  seconds by  0.0  percent.\n",
      "Problem in initial value trasfer post:  Vmean_exc -56.63774206782227 -56.641194002926284\n",
      "cost splitting :  13.468146309309438 [3.79090822e+00 4.98673921e-08]\n"
     ]
    },
    {
     "data": {
      "image/png": "[encoded data removed]",
      "text/plain": [
       "<Figure size 288x288 with 2 Axes>"
      ]
     },
     "metadata": {
      "needs_background": "light"
     },
     "output_type": "display_data"
    }
   ],
   "source": [
    "c_var = [0,1]\n",
    "max_it = int(300)\n",
    "conv = False\n",
    "\n",
    "tol = 1e-8\n",
    "    \n",
    "while not conv:\n",
    "\n",
    "    aln.params.duration = dur\n",
    "    cost.setParams(wp, weight_ * factor_we, weight_ * factor_ws)\n",
    "    weights_ = cost.getParams()\n",
    "\n",
    "    setinit(initVars, aln)\n",
    "\n",
    "    target_ = aln.getZeroTarget()\n",
    "    target_[:,0,:] = target[0]\n",
    "    target_[:,1,:] = target[1]\n",
    "\n",
    "    control0 = aln.getZeroControl()\n",
    "    control0 = bestControl_[:,:,n_pre-1:-n_post+1]\n",
    "\n",
    "    bestControl_, bestState_, cost_, runtime_, grad_, phi_, phi1_, costnode_ = aln.A1(\n",
    "        control0, target_, c_scheme, u_mat, u_scheme, max_iteration_ = max_it, tolerance_ = tol,\n",
    "        startStep_ = start_step, max_control_ = max_cntrl, min_control_ = min_cntrl, t_sim_ = dur,\n",
    "        t_sim_pre_ = dur_pre, t_sim_post_ = dur_post, CGVar = cgv, control_variables_ = c_var,\n",
    "        prec_variables_ = p_var, transition_time_ = t_pen)\n",
    "\n",
    "    if cost_[3] == 0.:\n",
    "        conv = True\n",
    "\n",
    "    #print('uncontrolled cost : ', cost_uncontrolled[i])\n",
    "    print('cost splitting : ', costnode_[0][0][0], costnode_[2][0][:2])\n",
    "\n",
    "    if conv and True:\n",
    "        time_ = np.arange(-dur_pre,round(dur+dur_post+aln.params.dt,1),aln.params.dt)\n",
    "        target_ = aln.getZeroTarget()\n",
    "        target_[:,0,:] = target[0]\n",
    "        target_[:,1,:] = target[1]\n",
    "\n",
    "        fig, ax = plt.subplots(2,1, constrained_layout=True, figsize = (4,4) )\n",
    "        ax[1].plot(time_, bestControl_[0,0,:], color = 'red')\n",
    "        ax[0].plot(time_, bestState_[0,0,:], color= 'red')\n",
    "        ax[1].plot(time_, bestControl_[0,1,:], color = 'blue')\n",
    "        ax[0].plot(time_, bestState_[0,1,:], color= 'blue')\n",
    "        ax[0].plot(time_, target_[0,0,:], linestyle = '--', color='red')\n",
    "        ax[0].plot(time_, target_[0,1,:], linestyle = '--', color='blue')\n",
    "        ax[0].set_xlim(-dur_pre,dur+dur_post)\n",
    "        ax[1].set_xlim(-dur_pre,dur+dur_post)\n",
    "        ax[0].axvspan(dur*t_pen, dur, alpha=0.2, color='gray')\n",
    "        plt.show()\n",
    "\n",
    "    with open(file_,'wb') as f:\n",
    "        pickle.dump([bestControl_, bestState_, cost_, costnode_, weights_], f)"
   ]
  },
  {
   "cell_type": "code",
   "execution_count": 410,
   "metadata": {
    "scrolled": true
   },
   "outputs": [
    {
     "name": "stdout",
     "output_type": "stream",
     "text": [
      "set cost params:  0.005 0.0 1.0\n",
      "interpolate adjoint :  True True True\n",
      "initial cost =  3.8582490059849817\n",
      "RUN  0 , total integrated cost =  3.8582490059849817\n",
      "Gradient descend method:  None\n",
      "RUN  1 , total integrated cost =  3.858248974011576\n",
      "RUN  2 , total integrated cost =  3.8582489718478747\n",
      "RUN  3 , total integrated cost =  3.858248971847732\n",
      "RUN  4 , total integrated cost =  3.85824897184761\n",
      "RUN  5 , total integrated cost =  3.858248971847378\n",
      "RUN  6 , total integrated cost =  3.858248971846483\n",
      "RUN  7 , total integrated cost =  3.8582489718175483\n",
      "RUN  8 , total integrated cost =  3.8582489716919324\n",
      "RUN  9 , total integrated cost =  3.8582489716845587\n",
      "RUN  10 , total integrated cost =  3.8582489716841244\n",
      "RUN  11 , total integrated cost =  3.8582489716839334\n",
      "RUN  12 , total integrated cost =  3.8582489716838646\n",
      "RUN  13 , total integrated cost =  3.8582489716838064\n",
      "RUN  14 , total integrated cost =  3.8582489716837025\n",
      "RUN  15 , total integrated cost =  3.858248971683453\n",
      "RUN  16 , total integrated cost =  3.8582489716825323\n",
      "RUN  17 , total integrated cost =  3.858248971587437\n",
      "RUN  18 , total integrated cost =  3.858248971374348\n",
      "RUN  19 , total integrated cost =  3.8582489713701897\n",
      "RUN  20 , total integrated cost =  3.8582489713697585\n"
     ]
    },
    {
     "name": "stderr",
     "output_type": "stream",
     "text": [
      "ERROR:root:Problem in initial value trasfer post\n",
      "ERROR:root:Problem in initial value trasfer post\n"
     ]
    },
    {
     "name": "stdout",
     "output_type": "stream",
     "text": [
      "Control only changes marginally.\n",
      "RUN  22 , total integrated cost =  3.8582489713696337\n",
      "Improved over  22  iterations in  2.7015044300060254  seconds by  8.971776566113476e-07  percent.\n",
      "Problem in initial value trasfer post:  Vmean_exc -56.63774206134417 -56.64119399712557\n",
      "cost splitting :  13.46816052935231 [3.79090817e+00 5.69883478e-10]\n",
      "set cost params:  0.005 0.0 1.0\n",
      "interpolate adjoint :  True True True\n",
      "initial cost =  3.8582489713696337\n",
      "RUN  0 , total integrated cost =  3.8582489713696337\n",
      "Gradient descend method:  None\n",
      "RUN  1 , total integrated cost =  3.8582489713696337\n",
      "Control only changes marginally.\n",
      "RUN  1 , total integrated cost =  3.8582489713696337\n",
      "Improved over  1  iterations in  0.14639741901191883  seconds by  0.0  percent.\n",
      "Problem in initial value trasfer post:  Vmean_exc -56.63774206134417 -56.64119399712557\n",
      "cost splitting :  13.46816052935231 [3.79090817e+00 5.69883478e-10]\n"
     ]
    },
    {
     "data": {
      "image/png": "[encoded data removed]",
      "text/plain": [
       "<Figure size 288x288 with 2 Axes>"
      ]
     },
     "metadata": {
      "needs_background": "light"
     },
     "output_type": "display_data"
    }
   ],
   "source": [
    "c_var = [0,1]\n",
    "max_it = int(300)\n",
    "conv = False\n",
    "\n",
    "tol = 1e-10\n",
    "    \n",
    "while not conv:\n",
    "\n",
    "    aln.params.duration = dur\n",
    "    cost.setParams(wp, weight_ * factor_we, weight_ * factor_ws)\n",
    "    weights_ = cost.getParams()\n",
    "\n",
    "    setinit(initVars, aln)\n",
    "\n",
    "    target_ = aln.getZeroTarget()\n",
    "    target_[:,0,:] = target[0]\n",
    "    target_[:,1,:] = target[1]\n",
    "\n",
    "    control0 = aln.getZeroControl()\n",
    "    control0 = bestControl_[:,:,n_pre-1:-n_post+1]\n",
    "\n",
    "    bestControl_, bestState_, cost_, runtime_, grad_, phi_, phi1_, costnode_ = aln.A1(\n",
    "        control0, target_, c_scheme, u_mat, u_scheme, max_iteration_ = max_it, tolerance_ = tol,\n",
    "        startStep_ = start_step, max_control_ = max_cntrl, min_control_ = min_cntrl, t_sim_ = dur,\n",
    "        t_sim_pre_ = dur_pre, t_sim_post_ = dur_post, CGVar = cgv, control_variables_ = c_var,\n",
    "        prec_variables_ = p_var, transition_time_ = t_pen)\n",
    "\n",
    "    if cost_[3] == 0.:\n",
    "        conv = True\n",
    "\n",
    "    #print('uncontrolled cost : ', cost_uncontrolled[i])\n",
    "    print('cost splitting : ', costnode_[0][0][0], costnode_[2][0][:2])\n",
    "\n",
    "    if conv and True:\n",
    "        time_ = np.arange(-dur_pre,round(dur+dur_post+aln.params.dt,1),aln.params.dt)\n",
    "        target_ = aln.getZeroTarget()\n",
    "        target_[:,0,:] = target[0]\n",
    "        target_[:,1,:] = target[1]\n",
    "\n",
    "        fig, ax = plt.subplots(2,1, constrained_layout=True, figsize = (4,4) )\n",
    "        ax[1].plot(time_, bestControl_[0,0,:], color = 'red')\n",
    "        ax[0].plot(time_, bestState_[0,0,:], color= 'red')\n",
    "        ax[1].plot(time_, bestControl_[0,1,:], color = 'blue')\n",
    "        ax[0].plot(time_, bestState_[0,1,:], color= 'blue')\n",
    "        ax[0].plot(time_, target_[0,0,:], linestyle = '--', color='red')\n",
    "        ax[0].plot(time_, target_[0,1,:], linestyle = '--', color='blue')\n",
    "        ax[0].set_xlim(-dur_pre,dur+dur_post)\n",
    "        ax[1].set_xlim(-dur_pre,dur+dur_post)\n",
    "        ax[0].axvspan(dur*t_pen, dur, alpha=0.2, color='gray')\n",
    "        plt.show()\n",
    "\n",
    "    with open(file_,'wb') as f:\n",
    "        pickle.dump([bestControl_, bestState_, cost_, costnode_, weights_], f)"
   ]
  },
  {
   "cell_type": "code",
   "execution_count": null,
   "metadata": {},
   "outputs": [],
   "source": []
  }
 ],
 "metadata": {
  "kernelspec": {
   "display_name": "Python 3 (ipykernel)",
   "language": "python",
   "name": "python3"
  },
  "language_info": {
   "codemirror_mode": {
    "name": "ipython",
    "version": 3
   },
   "file_extension": ".py",
   "mimetype": "text/x-python",
   "name": "python",
   "nbconvert_exporter": "python",
   "pygments_lexer": "ipython3",
   "version": "3.9.7"
  }
 },
 "nbformat": 4,
 "nbformat_minor": 4
}
