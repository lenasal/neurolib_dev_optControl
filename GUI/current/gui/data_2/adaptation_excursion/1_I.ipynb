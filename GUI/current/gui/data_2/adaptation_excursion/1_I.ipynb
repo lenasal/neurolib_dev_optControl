{
 "cells": [
  {
   "cell_type": "code",
   "execution_count": 1,
   "metadata": {},
   "outputs": [
    {
     "name": "stdout",
     "output_type": "stream",
     "text": [
      "not here\n"
     ]
    }
   ],
   "source": [
    "import matplotlib.pyplot as plt\n",
    "import numpy as np\n",
    "import os\n",
    "import sys\n",
    "import pickle\n",
    "import random\n",
    "\n",
    "path = os.getcwd().split(os.sep + 'GUI')[0]\n",
    "if path not in sys.path:\n",
    "    print(\"not here\")\n",
    "    sys.path.append(path)\n",
    "\n",
    "from neurolib.models.aln import ALNModel\n",
    "from neurolib.utils import plotFunctions as plotFunc\n",
    "from neurolib.utils import costFunctions as cost\n",
    "import neurolib.dashboard.functions as functions\n",
    "import neurolib.dashboard.data as data\n",
    "    \n",
    "# This will reload all imports as soon as the code changes\n",
    "%load_ext autoreload\n",
    "%autoreload 2 \n",
    "\n",
    "#path = os.path.join(os.getcwd(), \"plots\")"
   ]
  },
  {
   "cell_type": "code",
   "execution_count": 2,
   "metadata": {},
   "outputs": [],
   "source": [
    "p0 = [0.86, 0.25] # high\n",
    "p1 = [0.74, 0.37] # low"
   ]
  },
  {
   "cell_type": "code",
   "execution_count": 3,
   "metadata": {},
   "outputs": [],
   "source": [
    "aln = ALNModel()\n",
    "\n",
    "aln.params.sigma_ou = 0.\n",
    "aln.params.mue_ext_mean = 0.\n",
    "aln.params.mui_ext_mean = 0.\n",
    "aln.params.ext_exc_current = 0.\n",
    "aln.params.ext_inh_current = 0.\n",
    "\n",
    "#aln.params.IA_init = np.zeros((1))\n",
    "\n",
    "N = aln.params.N\n",
    "\n",
    "state_vars = aln.state_vars\n",
    "init_vars = aln.init_vars\n",
    "\n",
    "##############################################################\n",
    "def setinit(init_vars_, model):\n",
    "    state_vars = model.state_vars\n",
    "    init_vars = model.init_vars\n",
    "    for iv in range(len(init_vars)):\n",
    "        for sv in range(len(state_vars)):\n",
    "            if state_vars[sv] in init_vars[iv]:\n",
    "                #print(\"set init vars \", )\n",
    "                if model.params[init_vars[iv]].ndim == 2:\n",
    "                    model.params[init_vars[iv]][0,:] = init_vars_[sv]\n",
    "                else:\n",
    "                    model.params[init_vars[iv]][0] = init_vars_[sv]\n",
    "                    \n",
    "##############################################################               \n",
    "def setmaxmincontrol(max_c_c, min_c_c, max_c_r, min_c_r):\n",
    "    import numpy as np\n",
    "    \n",
    "    max_cntrl = np.zeros(( 6 ))\n",
    "    min_cntrl = np.zeros(( 6 ))\n",
    "    \n",
    "    max_cntrl[0] = max_c_c\n",
    "    min_cntrl[0] = min_c_c\n",
    "    max_cntrl[1] = max_c_c\n",
    "    min_cntrl[1] = min_c_c\n",
    "    max_cntrl[2] = max_c_r\n",
    "    min_cntrl[2] = min_c_r\n",
    "    max_cntrl[3] = max_c_r\n",
    "    min_cntrl[3] = min_c_r\n",
    "    max_cntrl[4] = max_c_r\n",
    "    min_cntrl[4] = min_c_r\n",
    "    max_cntrl[5] = max_c_r\n",
    "    min_cntrl[5] = min_c_r\n",
    "            \n",
    "    return max_cntrl, min_cntrl"
   ]
  },
  {
   "cell_type": "code",
   "execution_count": 4,
   "metadata": {},
   "outputs": [],
   "source": [
    "dur = 500.\n",
    "t_pen = 0.6"
   ]
  },
  {
   "cell_type": "code",
   "execution_count": 5,
   "metadata": {},
   "outputs": [
    {
     "name": "stdout",
     "output_type": "stream",
     "text": [
      "/adaptation_excursion\n"
     ]
    }
   ],
   "source": [
    "file_ = '1_E.pickle'\n",
    "folder = str(os.getcwd().split('data_2')[1])\n",
    "print(folder)\n",
    "case = '1'"
   ]
  },
  {
   "cell_type": "code",
   "execution_count": 6,
   "metadata": {},
   "outputs": [],
   "source": [
    "dur_pre = 10\n",
    "dur_post = 100\n",
    "\n",
    "n_pre = int(np.around(dur_pre/aln.params.dt + 1.,1))\n",
    "n_post = int(np.around(dur_post/aln.params.dt + 1.,1))\n",
    "\n",
    "tol = 1e-10\n",
    "start_step = 10.\n",
    "c_scheme = np.zeros(( 1,1 ))\n",
    "c_scheme[0,0] = 1.\n",
    "u_mat = np.identity(1)\n",
    "u_scheme = np.array([[1.]])\n",
    "\n",
    "p_var = [0]\n",
    "c_var = [0]\n",
    "#wp = 1. / (dur * t_pen[1] - t_pen[0] * dur)\n",
    "wp = 1. / (dur - t_pen*dur)\n",
    "\n",
    "if case in ['1', '2']:    # low to high\n",
    "    max_I = [3., -3.]\n",
    "else:\n",
    "    max_I = [-3., 3.]\n",
    "    \n",
    "if case in ['1', '3']:    # sparsity\n",
    "    factor_ws = 1.\n",
    "    factor_we = 0.\n",
    "else:\n",
    "    factor_ws = 0.\n",
    "    factor_we = 1.\n",
    "    \n",
    "maxC = [5., -5., 0.18, 0.]\n",
    "max_cntrl, min_cntrl = setmaxmincontrol(maxC[0], maxC[1], maxC[2], maxC[3])"
   ]
  },
  {
   "cell_type": "code",
   "execution_count": 7,
   "metadata": {},
   "outputs": [
    {
     "name": "stdout",
     "output_type": "stream",
     "text": [
      "file found\n"
     ]
    }
   ],
   "source": [
    "bestControl_ = None\n",
    "\n",
    "if os.path.isfile(file_) :\n",
    "    print(\"file found\")\n",
    "    \n",
    "    with open(file_,'rb') as f:\n",
    "        load_array = pickle.load(f)\n",
    "\n",
    "    bestControl_ = load_array[0]"
   ]
  },
  {
   "cell_type": "code",
   "execution_count": 8,
   "metadata": {
    "scrolled": true
   },
   "outputs": [
    {
     "data": {
      "image/png": "[encoded data removed]",
      "text/plain": [
       "<Figure size 432x288 with 1 Axes>"
      ]
     },
     "metadata": {
      "needs_background": "light"
     },
     "output_type": "display_data"
    }
   ],
   "source": [
    "# get initial parameters and target states\n",
    "\n",
    "aln.params.sigma_ou = 0.\n",
    "\n",
    "aln.params.duration = 2000.\n",
    "\n",
    "aln.params.mue_ext_mean = p1[0] * 5.\n",
    "aln.params.mui_ext_mean = p1[1] * 5.\n",
    "\n",
    "aln.run(control=aln.getZeroControl())\n",
    "plt.plot(aln.t, aln.rates_exc[0,:], color='red')\n",
    "plt.plot(aln.t, aln.rates_inh[0,:], color='blue')\n",
    "plt.show()\n",
    "\n",
    "init_state_vars = np.zeros(( len(state_vars) ))\n",
    "for j in range(len(state_vars)):\n",
    "    if aln.state[state_vars[j]].size == 1:\n",
    "        init_state_vars[j] = aln.state[state_vars[j]][0]\n",
    "    else:\n",
    "        init_state_vars[j] = aln.state[state_vars[j]][0,-1]\n",
    "\n",
    "initVars = init_state_vars.copy()"
   ]
  },
  {
   "cell_type": "code",
   "execution_count": 9,
   "metadata": {},
   "outputs": [
    {
     "data": {
      "image/png": "[encoded data removed]",
      "text/plain": [
       "<Figure size 432x288 with 1 Axes>"
      ]
     },
     "metadata": {
      "needs_background": "light"
     },
     "output_type": "display_data"
    },
    {
     "name": "stdout",
     "output_type": "stream",
     "text": [
      "21.986651783821888\n",
      "69.19533764699759\n"
     ]
    }
   ],
   "source": [
    "aln.params.sigma_ou = 0.1\n",
    "\n",
    "aln.params.duration = 20000.\n",
    "\n",
    "aln.params.mue_ext_mean = p1[0] * 5.\n",
    "aln.params.mui_ext_mean = p1[1] * 5.\n",
    "\n",
    "aln.run(control=aln.getZeroControl())\n",
    "plt.plot(aln.t, aln.rates_exc[0,:], color='red')\n",
    "plt.plot(aln.t, aln.rates_inh[0,:], color='blue')\n",
    "plt.show()\n",
    "\n",
    "e_ = []\n",
    "i_ = []\n",
    "t_ind = []\n",
    "\n",
    "for t in range(len(aln.t)):\n",
    "    \n",
    "    if aln.rates_exc[0,t] < 10:\n",
    "        continue\n",
    "    if aln.rates_inh[0,t] < 50:\n",
    "        continue\n",
    "    \n",
    "    t_ind.append(t)\n",
    "    e_.append(aln.rates_exc[0,t])\n",
    "    i_.append(aln.rates_inh[0,t])\n",
    "    \n",
    "print(np.mean(e_))\n",
    "print(np.mean(i_))\n",
    "\n",
    "target = np.zeros((2))\n",
    "target[0] = np.mean(e_)\n",
    "target[1] = np.mean(i_)"
   ]
  },
  {
   "cell_type": "code",
   "execution_count": 10,
   "metadata": {
    "scrolled": true
   },
   "outputs": [
    {
     "name": "stdout",
     "output_type": "stream",
     "text": [
      "set cost params:  0.005 0.0 0.0\n",
      "interpolate adjoint :  True True True\n",
      "initial cost =  225.28220219413907\n",
      "RUN  0 , total integrated cost =  225.28220219413907\n",
      "Gradient descend method:  None\n",
      "RUN  0 , total integrated cost =  225.28220219413907\n",
      "Improved over  0  iterations in  0.0  seconds by  0.0  percent.\n"
     ]
    },
    {
     "data": {
      "image/png": "[encoded data removed]",
      "text/plain": [
       "<Figure size 288x432 with 2 Axes>"
      ]
     },
     "metadata": {
      "needs_background": "light"
     },
     "output_type": "display_data"
    }
   ],
   "source": [
    "# get uncontrolled cost\n",
    "    \n",
    "aln.params.duration = dur\n",
    "aln.params.sigma_ou = 0.\n",
    "\n",
    "target_ = aln.getZeroTarget()\n",
    "target_[:,0,:] = target[0]\n",
    "target_[:,1,:] = target[1]\n",
    "\n",
    "cost.setParams(wp, 0.0, 0.0)\n",
    "\n",
    "aln.params.mue_ext_mean = p1[0] * 5.\n",
    "aln.params.mui_ext_mean = p1[1] * 5.\n",
    "\n",
    "setinit(initVars, aln)\n",
    "control0 = aln.getZeroControl()\n",
    "\n",
    "cgv = None\n",
    "max_it = 0\n",
    "\n",
    "bestControl_init_, bestState_init_, cost_init_, runtime_init_, grad_init_, phi_init_, phi1_, costnode_init_ = aln.A1(\n",
    "    control0, target_, c_scheme, u_mat, u_scheme, max_iteration_ = max_it, tolerance_ = tol,\n",
    "    startStep_ = start_step, max_control_ = max_cntrl, min_control_ = min_cntrl, t_sim_ = dur,\n",
    "    t_sim_pre_ = dur_pre, t_sim_post_ = dur_post, CGVar = cgv, control_variables_ = c_var,\n",
    "    prec_variables_ = p_var, transition_time_ = t_pen)\n",
    "\n",
    "if True:\n",
    "    plot_time_array = np.arange(0.,round(dur+aln.params.dt,1),aln.params.dt)\n",
    "    target_ = aln.getZeroTarget()\n",
    "    target_[:,0,:] = target[0]\n",
    "    target_[:,1,:] = target[1]\n",
    "\n",
    "    fig, ax = plt.subplots(2,1, constrained_layout=True, figsize = (4,6) )\n",
    "    ax[1].plot(plot_time_array, bestControl_init_[0,0,n_pre-1:-n_post+1], color = 'red')\n",
    "    ax[0].plot(plot_time_array, bestState_init_[0,0,n_pre-1:-n_post+1], color= 'red')\n",
    "    ax[1].plot(plot_time_array, bestControl_init_[0,1,n_pre-1:-n_post+1], color = 'blue')\n",
    "    ax[0].plot(plot_time_array, bestState_init_[0,1,n_pre-1:-n_post+1], color= 'blue')\n",
    "    ax[0].plot(plot_time_array, target_[0,0,n_pre-1:-n_post+1], linestyle = '--', color='red')\n",
    "    ax[0].plot(plot_time_array, target_[0,1,n_pre-1:-n_post+1], linestyle = '--', color='blue')\n",
    "\n",
    "    for k in range(2):\n",
    "        ax[k].set_xlim(0.,dur)\n",
    "        ax[k].axvspan(dur*t_pen, dur, alpha=0.2, color='gray')\n",
    "    plt.show()\n",
    "\n",
    "cost_uncontrolled = cost_init_[0]"
   ]
  },
  {
   "cell_type": "code",
   "execution_count": 12,
   "metadata": {
    "scrolled": true
   },
   "outputs": [
    {
     "name": "stdout",
     "output_type": "stream",
     "text": [
      "set cost params:  0.005 0.0 10.0\n",
      "interpolate adjoint :  True True True\n",
      "initial cost =  225.28220219413907\n",
      "RUN  0 , total integrated cost =  225.28220219413907\n",
      "Gradient descend method:  None\n",
      "RUN  1 , total integrated cost =  127.39320969279673\n",
      "RUN  2 , total integrated cost =  121.01072190214593\n",
      "RUN  3 , total integrated cost =  116.83879463227314\n",
      "RUN  4 , total integrated cost =  115.45116157946072\n",
      "RUN  5 , total integrated cost =  112.97930806811291\n",
      "RUN  6 , total integrated cost =  111.78109130423448\n",
      "RUN  7 , total integrated cost =  109.55744547089915\n",
      "RUN  8 , total integrated cost =  108.59485036983473\n",
      "RUN  9 , total integrated cost =  106.94115667586527\n",
      "RUN  10 , total integrated cost =  106.14070457958887\n",
      "RUN  11 , total integrated cost =  102.80735494892193\n",
      "RUN  12 , total integrated cost =  102.75996576505281\n",
      "RUN  13 , total integrated cost =  102.71938141771153\n",
      "RUN  14 , total integrated cost =  102.67306163032916\n",
      "RUN  15 , total integrated cost =  102.63232843935488\n",
      "RUN  16 , total integrated cost =  102.58540781822163\n",
      "RUN  17 , total integrated cost =  102.54495266054971\n",
      "RUN  18 , total integrated cost =  102.49806033698013\n",
      "RUN  19 , total integrated cost =  102.45650097552576\n",
      "RUN  20 , total integrated cost =  102.41243120714122\n",
      "RUN  30 , total integrated cost =  102.11442316850588\n"
     ]
    },
    {
     "name": "stderr",
     "output_type": "stream",
     "text": [
      "ERROR:root:Problem in initial value trasfer post\n"
     ]
    },
    {
     "name": "stdout",
     "output_type": "stream",
     "text": [
      "RUN  40 , total integrated cost =  101.95234873674374\n",
      "RUN  40 , total integrated cost =  101.95234873674374\n",
      "Improved over  40  iterations in  1.8135812369873747  seconds by  54.74460576833081  percent.\n",
      "Problem in initial value trasfer post:  Vmean_exc -57.10814097007889 -57.114614424458665\n"
     ]
    },
    {
     "data": {
      "image/png": "[encoded data removed]",
      "text/plain": [
       "<Figure size 288x432 with 2 Axes>"
      ]
     },
     "metadata": {
      "needs_background": "light"
     },
     "output_type": "display_data"
    },
    {
     "name": "stdout",
     "output_type": "stream",
     "text": [
      "uncontrolled cost :  225.28220219413907\n",
      "cost splitting :  14883.11114279765 [0.        2.7536793]\n"
     ]
    }
   ],
   "source": [
    "cgv = None\n",
    "j = 0\n",
    "\n",
    "aln.params.duration = dur\n",
    "setinit(initVars, aln)\n",
    "\n",
    "target_ = aln.getZeroTarget()\n",
    "target_[:,0,:] = target[0]\n",
    "target_[:,1,:] = target[1]\n",
    "\n",
    "control0 = aln.getZeroControl()\n",
    "cost.setParams(wp, 0., 10.)\n",
    "max_it = int(40)\n",
    "\n",
    "#control0[0,0,2400:2500] = 0.5\n",
    "\n",
    "bestControl_, bestState_, cost_, runtime_, grad_, phi_, phi1_, costnode_ = aln.A1(\n",
    "    control0, target_, c_scheme, u_mat, u_scheme, max_iteration_ = max_it, tolerance_ = tol,\n",
    "    startStep_ = start_step, max_control_ = max_cntrl, min_control_ = min_cntrl, t_sim_ = dur,\n",
    "    t_sim_pre_ = dur_pre, t_sim_post_ = dur_post, CGVar = cgv, control_variables_ = [1],\n",
    "    prec_variables_ = p_var, transition_time_ = t_pen)\n",
    "\n",
    "if True:\n",
    "    plot_time_array = np.arange(0.,round(dur+aln.params.dt,1),aln.params.dt)\n",
    "    target_ = aln.getZeroTarget()\n",
    "    target_[:,0,:] = target[0]\n",
    "    target_[:,1,:] = target[1]\n",
    "\n",
    "    fig, ax = plt.subplots(2,1, constrained_layout=True, figsize = (4,6) )\n",
    "    ax[1].plot(plot_time_array, bestControl_[0,0,n_pre-1:-n_post+1], color = 'red')\n",
    "    ax[0].plot(plot_time_array, bestState_[0,0,n_pre-1:-n_post+1], color= 'red')\n",
    "    ax[1].plot(plot_time_array, bestControl_[0,1,n_pre-1:-n_post+1], color = 'blue')\n",
    "    ax[0].plot(plot_time_array, bestState_[0,1,n_pre-1:-n_post+1], color= 'blue')\n",
    "    ax[0].plot(plot_time_array, target_[0,0,n_pre-1:-n_post+1], linestyle = '--', color='red')\n",
    "    ax[0].plot(plot_time_array, target_[0,1,n_pre-1:-n_post+1], linestyle = '--', color='blue')\n",
    "\n",
    "    for k in range(2):\n",
    "        ax[k].set_xlim(0.,dur)\n",
    "        ax[k].axvspan(dur*t_pen, dur, alpha=0.2, color='gray')\n",
    "    plt.show()\n",
    "\n",
    "print('uncontrolled cost : ', cost_uncontrolled)\n",
    "print('cost splitting : ', costnode_[0][0][0], costnode_[2][0][:2])    "
   ]
  },
  {
   "cell_type": "code",
   "execution_count": 13,
   "metadata": {
    "scrolled": true
   },
   "outputs": [
    {
     "name": "stdout",
     "output_type": "stream",
     "text": [
      "set cost params:  0.005 0.0 1.0\n",
      "interpolate adjoint :  True True True\n",
      "initial cost =  77.16923501626368\n",
      "RUN  0 , total integrated cost =  77.16923501626368\n",
      "Gradient descend method:  None\n",
      "RUN  1 , total integrated cost =  63.872155526215224\n",
      "RUN  2 , total integrated cost =  59.0444309513007\n",
      "RUN  3 , total integrated cost =  55.48145065106603\n",
      "RUN  4 , total integrated cost =  53.26193077383887\n",
      "RUN  5 , total integrated cost =  50.87934054749229\n",
      "RUN  6 , total integrated cost =  49.5891017424861\n",
      "RUN  7 , total integrated cost =  48.001850238808366\n",
      "RUN  8 , total integrated cost =  46.907580484804406\n",
      "RUN  9 , total integrated cost =  45.583648640286896\n",
      "RUN  10 , total integrated cost =  44.630261691127174\n",
      "RUN  11 , total integrated cost =  43.52855521288924\n",
      "RUN  12 , total integrated cost =  42.67786693724882\n",
      "RUN  13 , total integrated cost =  41.6612877387377\n",
      "RUN  14 , total integrated cost =  40.87454990504849\n",
      "RUN  15 , total integrated cost =  39.79366263331381\n",
      "RUN  16 , total integrated cost =  38.952807309147424\n",
      "RUN  17 , total integrated cost =  32.14235838169545\n",
      "RUN  18 , total integrated cost =  19.35192436509896\n",
      "RUN  19 , total integrated cost =  13.727134428895727\n",
      "RUN  20 , total integrated cost =  11.880856428644218\n",
      "RUN  30 , total integrated cost =  7.375779527433637\n",
      "RUN  40 , total integrated cost =  7.114698424113295\n",
      "RUN  50 , total integrated cost =  6.997309896559269\n",
      "RUN  60 , total integrated cost =  6.880546737373425\n",
      "RUN  70 , total integrated cost =  6.7316379065637015\n",
      "RUN  80 , total integrated cost =  6.599156297001186\n",
      "RUN  90 , total integrated cost =  6.45129427920741\n",
      "RUN  100 , total integrated cost =  6.2056608437910725\n",
      "RUN  110 , total integrated cost =  6.003975343372751\n",
      "RUN  120 , total integrated cost =  5.796185299564278\n",
      "RUN  130 , total integrated cost =  5.516235900871248\n",
      "RUN  140 , total integrated cost =  5.390966269071832\n",
      "RUN  150 , total integrated cost =  5.238522715551542\n",
      "RUN  160 , total integrated cost =  5.08927285217141\n",
      "RUN  170 , total integrated cost =  4.982517162026411\n",
      "RUN  180 , total integrated cost =  4.886357533045373\n",
      "RUN  190 , total integrated cost =  4.798299627921714\n",
      "RUN  200 , total integrated cost =  4.693048520628734\n",
      "RUN  300 , total integrated cost =  3.9648395576264788\n",
      "RUN  400 , total integrated cost =  3.959253508831993\n",
      "RUN  500 , total integrated cost =  3.9563188527539475\n",
      "RUN  600 , total integrated cost =  3.9549929949400737\n",
      "RUN  700 , total integrated cost =  3.9542394794905684\n",
      "RUN  800 , total integrated cost =  3.953739863640155\n",
      "RUN  900 , total integrated cost =  3.953411484076054\n"
     ]
    },
    {
     "name": "stderr",
     "output_type": "stream",
     "text": [
      "ERROR:root:Problem in initial value trasfer post\n"
     ]
    },
    {
     "name": "stdout",
     "output_type": "stream",
     "text": [
      "RUN  1000 , total integrated cost =  3.9531694476754224\n",
      "RUN  1000 , total integrated cost =  3.9531694476754224\n",
      "Improved over  1000  iterations in  126.29922140605049  seconds by  94.87727272812504  percent.\n",
      "Problem in initial value trasfer post:  Vmean_exc -56.63533327491508 -56.638913971048524\n",
      "cost splitting :  13.817576535667353 [3.88407749e+00 4.07882212e-06]\n",
      "set cost params:  0.005 0.0 1.0\n",
      "interpolate adjoint :  True True True\n",
      "initial cost =  3.9531694476754224\n",
      "RUN  0 , total integrated cost =  3.9531694476754224\n",
      "Gradient descend method:  None\n",
      "RUN  1 , total integrated cost =  3.9531666145917193\n",
      "RUN  2 , total integrated cost =  3.9531639559147025\n",
      "RUN  3 , total integrated cost =  3.9531610766660963\n",
      "RUN  4 , total integrated cost =  3.9531580510860422\n",
      "RUN  5 , total integrated cost =  3.953155555059919\n",
      "RUN  6 , total integrated cost =  3.9531529535868097\n",
      "RUN  7 , total integrated cost =  3.9531502033871706\n",
      "RUN  8 , total integrated cost =  3.953147677146083\n",
      "RUN  9 , total integrated cost =  3.953144947538604\n",
      "RUN  10 , total integrated cost =  3.953142022436449\n",
      "RUN  11 , total integrated cost =  3.953139726813753\n",
      "RUN  12 , total integrated cost =  3.9531374026563295\n",
      "RUN  13 , total integrated cost =  3.953134391871765\n",
      "RUN  14 , total integrated cost =  3.9531313792706424\n",
      "RUN  15 , total integrated cost =  3.9531290838570725\n",
      "RUN  16 , total integrated cost =  3.9531267823094\n",
      "RUN  17 , total integrated cost =  3.953123701064843\n",
      "RUN  18 , total integrated cost =  3.9531207245759488\n",
      "RUN  19 , total integrated cost =  3.953118366202919\n",
      "RUN  20 , total integrated cost =  3.9531158351320466\n",
      "RUN  30 , total integrated cost =  3.9530899360000564\n",
      "RUN  40 , total integrated cost =  3.9530668274613237\n",
      "RUN  50 , total integrated cost =  3.9530426940790817\n",
      "RUN  60 , total integrated cost =  3.953027993801422\n",
      "RUN  70 , total integrated cost =  3.9530148835800865\n",
      "RUN  80 , total integrated cost =  3.9530023950363087\n",
      "RUN  90 , total integrated cost =  3.952990106285364\n",
      "RUN  100 , total integrated cost =  3.952977824685056\n",
      "RUN  110 , total integrated cost =  3.9529659147702034\n",
      "RUN  120 , total integrated cost =  3.9529546750415463\n",
      "RUN  130 , total integrated cost =  3.952944204983869\n",
      "RUN  140 , total integrated cost =  3.952934433607614\n",
      "RUN  150 , total integrated cost =  3.9529252965180715\n",
      "RUN  160 , total integrated cost =  3.952915759610424\n",
      "RUN  170 , total integrated cost =  3.9529057313353992\n",
      "RUN  180 , total integrated cost =  3.952895598138918\n",
      "RUN  190 , total integrated cost =  3.952886002778687\n",
      "RUN  200 , total integrated cost =  3.9528770414895016\n",
      "RUN  300 , total integrated cost =  3.952788800394146\n",
      "RUN  400 , total integrated cost =  3.952671800328122\n"
     ]
    },
    {
     "name": "stderr",
     "output_type": "stream",
     "text": [
      "ERROR:root:Problem in initial value trasfer post\n"
     ]
    },
    {
     "name": "stdout",
     "output_type": "stream",
     "text": [
      "Control only changes marginally.\n",
      "RUN  483 , total integrated cost =  3.9526275606684473\n",
      "Improved over  483  iterations in  90.87086350697791  seconds by  0.013707659490634683  percent.\n",
      "Problem in initial value trasfer post:  Vmean_exc -56.63532014463892 -56.63890833202571\n",
      "cost splitting :  13.811593083892578 [3.88356552e+00 4.07882212e-06]\n",
      "set cost params:  0.005 0.0 1.0\n",
      "interpolate adjoint :  True True True\n",
      "initial cost =  3.9526275606684473\n",
      "RUN  0 , total integrated cost =  3.9526275606684473\n",
      "Gradient descend method:  None\n"
     ]
    },
    {
     "name": "stderr",
     "output_type": "stream",
     "text": [
      "ERROR:root:Problem in initial value trasfer post\n"
     ]
    },
    {
     "name": "stdout",
     "output_type": "stream",
     "text": [
      "RUN  1 , total integrated cost =  3.9526275606684473\n",
      "Control only changes marginally.\n",
      "RUN  1 , total integrated cost =  3.9526275606684473\n",
      "Improved over  1  iterations in  0.18993504997342825  seconds by  0.0  percent.\n",
      "Problem in initial value trasfer post:  Vmean_exc -56.63532014463892 -56.63890833202571\n",
      "cost splitting :  13.811593083892578 [3.88356552e+00 4.07882212e-06]\n"
     ]
    },
    {
     "data": {
      "image/png": "[encoded data removed]",
      "text/plain": [
       "<Figure size 288x288 with 2 Axes>"
      ]
     },
     "metadata": {
      "needs_background": "light"
     },
     "output_type": "display_data"
    }
   ],
   "source": [
    "c_var = [0,1]\n",
    "max_it = int(1000)\n",
    "conv = False\n",
    "\n",
    "tol = 1e-6\n",
    "    \n",
    "while not conv:\n",
    "\n",
    "    weight_ = 1.\n",
    "\n",
    "    aln.params.duration = dur\n",
    "    cost.setParams(wp, weight_ * factor_we, weight_ * factor_ws)\n",
    "    weights_ = cost.getParams()\n",
    "\n",
    "    setinit(initVars, aln)\n",
    "\n",
    "    target_ = aln.getZeroTarget()\n",
    "    target_[:,0,:] = target[0]\n",
    "    target_[:,1,:] = target[1]\n",
    "\n",
    "    control0 = aln.getZeroControl()\n",
    "    control0 = bestControl_[:,:,n_pre-1:-n_post+1]\n",
    "\n",
    "    bestControl_, bestState_, cost_, runtime_, grad_, phi_, phi1_, costnode_ = aln.A1(\n",
    "        control0, target_, c_scheme, u_mat, u_scheme, max_iteration_ = max_it, tolerance_ = tol,\n",
    "        startStep_ = start_step, max_control_ = max_cntrl, min_control_ = min_cntrl, t_sim_ = dur,\n",
    "        t_sim_pre_ = dur_pre, t_sim_post_ = dur_post, CGVar = cgv, control_variables_ = c_var,\n",
    "        prec_variables_ = p_var, transition_time_ = t_pen)\n",
    "\n",
    "    if cost_[2] == 0.:\n",
    "        conv = True\n",
    "\n",
    "    #print('uncontrolled cost : ', cost_uncontrolled[i])\n",
    "    print('cost splitting : ', costnode_[0][0][0], costnode_[2][0][:2])\n",
    "\n",
    "    if conv and True:\n",
    "        time_ = np.arange(-dur_pre,round(dur+dur_post+aln.params.dt,1),aln.params.dt)\n",
    "        target_ = aln.getZeroTarget()\n",
    "        target_[:,0,:] = target[0]\n",
    "        target_[:,1,:] = target[1]\n",
    "\n",
    "        fig, ax = plt.subplots(2,1, constrained_layout=True, figsize = (4,4) )\n",
    "        ax[1].plot(time_, bestControl_[0,0,:], color = 'red')\n",
    "        ax[0].plot(time_, bestState_[0,0,:], color= 'red')\n",
    "        ax[1].plot(time_, bestControl_[0,1,:], color = 'blue')\n",
    "        ax[0].plot(time_, bestState_[0,1,:], color= 'blue')\n",
    "        ax[0].plot(time_, target_[0,0,:], linestyle = '--', color='red')\n",
    "        ax[0].plot(time_, target_[0,1,:], linestyle = '--', color='blue')\n",
    "        for k in range(2):\n",
    "            ax[k].set_xlim(0.,dur)\n",
    "            ax[k].axvspan(dur*t_pen, dur, alpha=0.2, color='gray')\n",
    "        plt.show()\n",
    "\n",
    "    with open(file_,'wb') as f:\n",
    "        pickle.dump([bestControl_, bestState_, cost_, costnode_, weights_], f)"
   ]
  },
  {
   "cell_type": "code",
   "execution_count": null,
   "metadata": {
    "scrolled": true
   },
   "outputs": [
    {
     "name": "stdout",
     "output_type": "stream",
     "text": [
      "set cost params:  0.005 0.0 1.0\n",
      "interpolate adjoint :  True True True\n",
      "initial cost =  3.8582564298394106\n",
      "RUN  0 , total integrated cost =  3.8582564298394106\n",
      "Gradient descend method:  None\n",
      "RUN  1 , total integrated cost =  3.858252526109613\n",
      "RUN  2 , total integrated cost =  3.858251378245371\n",
      "RUN  3 , total integrated cost =  3.8582512501272346\n",
      "RUN  4 , total integrated cost =  3.8582512472983095\n",
      "RUN  5 , total integrated cost =  3.85825120794455\n",
      "RUN  6 , total integrated cost =  3.858251176653016\n",
      "RUN  7 , total integrated cost =  3.8582511619795703\n",
      "RUN  8 , total integrated cost =  3.858251139269517\n",
      "RUN  9 , total integrated cost =  3.8582511365826018\n"
     ]
    }
   ],
   "source": [
    "c_var = [0,1]\n",
    "max_it = int(300)\n",
    "conv = False\n",
    "\n",
    "tol = 1e-8\n",
    "    \n",
    "while not conv:\n",
    "\n",
    "    aln.params.duration = dur\n",
    "    cost.setParams(wp, weight_ * factor_we, weight_ * factor_ws)\n",
    "    weights_ = cost.getParams()\n",
    "\n",
    "    setinit(initVars, aln)\n",
    "\n",
    "    target_ = aln.getZeroTarget()\n",
    "    target_[:,0,:] = target[0]\n",
    "    target_[:,1,:] = target[1]\n",
    "\n",
    "    control0 = aln.getZeroControl()\n",
    "    control0 = bestControl_[:,:,n_pre-1:-n_post+1]\n",
    "\n",
    "    bestControl_, bestState_, cost_, runtime_, grad_, phi_, phi1_, costnode_ = aln.A1(\n",
    "        control0, target_, c_scheme, u_mat, u_scheme, max_iteration_ = max_it, tolerance_ = tol,\n",
    "        startStep_ = start_step, max_control_ = max_cntrl, min_control_ = min_cntrl, t_sim_ = dur,\n",
    "        t_sim_pre_ = dur_pre, t_sim_post_ = dur_post, CGVar = cgv, control_variables_ = c_var,\n",
    "        prec_variables_ = p_var, transition_time_ = t_pen)\n",
    "\n",
    "    if cost_[3] == 0.:\n",
    "        conv = True\n",
    "\n",
    "    #print('uncontrolled cost : ', cost_uncontrolled[i])\n",
    "    print('cost splitting : ', costnode_[0][0][0], costnode_[2][0][:2])\n",
    "\n",
    "    if conv and True:\n",
    "        time_ = np.arange(-dur_pre,round(dur+dur_post+aln.params.dt,1),aln.params.dt)\n",
    "        target_ = aln.getZeroTarget()\n",
    "        target_[:,0,:] = target[0]\n",
    "        target_[:,1,:] = target[1]\n",
    "\n",
    "        fig, ax = plt.subplots(2,1, constrained_layout=True, figsize = (4,4) )\n",
    "        ax[1].plot(time_, bestControl_[0,0,:], color = 'red')\n",
    "        ax[0].plot(time_, bestState_[0,0,:], color= 'red')\n",
    "        ax[1].plot(time_, bestControl_[0,1,:], color = 'blue')\n",
    "        ax[0].plot(time_, bestState_[0,1,:], color= 'blue')\n",
    "        ax[0].plot(time_, target_[0,0,:], linestyle = '--', color='red')\n",
    "        ax[0].plot(time_, target_[0,1,:], linestyle = '--', color='blue')\n",
    "        ax[0].set_xlim(-dur_pre,dur+dur_post)\n",
    "        ax[1].set_xlim(-dur_pre,dur+dur_post)\n",
    "        ax[0].axvspan(dur*t_pen, dur, alpha=0.2, color='gray')\n",
    "        plt.show()\n",
    "\n",
    "    with open(file_,'wb') as f:\n",
    "        pickle.dump([bestControl_, bestState_, cost_, costnode_, weights_], f)"
   ]
  },
  {
   "cell_type": "code",
   "execution_count": 26,
   "metadata": {
    "scrolled": true
   },
   "outputs": [
    {
     "name": "stdout",
     "output_type": "stream",
     "text": [
      "set cost params:  0.05 0.0 454.44560346238933\n",
      "interpolate adjoint :  True True True\n",
      "initial cost =  240.33054035348857\n",
      "RUN  0 , total integrated cost =  240.33054035348857\n",
      "Gradient descend method:  None\n",
      "RUN  1 , total integrated cost =  240.33054035348857\n",
      "Control only changes marginally.\n",
      "RUN  1 , total integrated cost =  240.33054035348857\n",
      "Improved over  1  iterations in  0.30353394101257436  seconds by  0.0  percent.\n",
      "cost splitting :  3.402578243755628e-08 [8.80536580e-13 5.28843361e-01]\n"
     ]
    },
    {
     "data": {
      "image/png": "[encoded data removed]",
      "text/plain": [
       "<Figure size 288x288 with 2 Axes>"
      ]
     },
     "metadata": {
      "needs_background": "light"
     },
     "output_type": "display_data"
    }
   ],
   "source": [
    "c_var = [0,1]\n",
    "max_it = int(300)\n",
    "conv = False\n",
    "\n",
    "tol = 1e-10\n",
    "    \n",
    "while not conv:\n",
    "\n",
    "    aln.params.duration = dur\n",
    "    cost.setParams(wp, weight_ * factor_we, weight_ * factor_ws)\n",
    "    weights_ = cost.getParams()\n",
    "\n",
    "    setinit(initVars, aln)\n",
    "\n",
    "    target_ = aln.getZeroTarget()\n",
    "    target_[:,0,:] = target[0]\n",
    "    target_[:,1,:] = target[1]\n",
    "\n",
    "    control0 = aln.getZeroControl()\n",
    "    control0 = bestControl_[:,:,n_pre-1:-n_post+1]\n",
    "\n",
    "    bestControl_, bestState_, cost_, runtime_, grad_, phi_, phi1_, costnode_ = aln.A1(\n",
    "        control0, target_, c_scheme, u_mat, u_scheme, max_iteration_ = max_it, tolerance_ = tol,\n",
    "        startStep_ = start_step, max_control_ = max_cntrl, min_control_ = min_cntrl, t_sim_ = dur,\n",
    "        t_sim_pre_ = dur_pre, t_sim_post_ = dur_post, CGVar = cgv, control_variables_ = c_var,\n",
    "        prec_variables_ = p_var, transition_time_ = t_pen)\n",
    "\n",
    "    if cost_[3] == 0.:\n",
    "        conv = True\n",
    "\n",
    "    #print('uncontrolled cost : ', cost_uncontrolled[i])\n",
    "    print('cost splitting : ', costnode_[0][0][0], costnode_[2][0][:2])\n",
    "\n",
    "    if conv and True:\n",
    "        time_ = np.arange(-dur_pre,round(dur+dur_post+aln.params.dt,1),aln.params.dt)\n",
    "        target_ = aln.getZeroTarget()\n",
    "        target_[:,0,:] = target[0]\n",
    "        target_[:,1,:] = target[1]\n",
    "\n",
    "        fig, ax = plt.subplots(2,1, constrained_layout=True, figsize = (4,4) )\n",
    "        ax[1].plot(time_, bestControl_[0,0,:], color = 'red')\n",
    "        ax[0].plot(time_, bestState_[0,0,:], color= 'red')\n",
    "        ax[1].plot(time_, bestControl_[0,1,:], color = 'blue')\n",
    "        ax[0].plot(time_, bestState_[0,1,:], color= 'blue')\n",
    "        ax[0].plot(time_, target_[0,0,:], linestyle = '--', color='red')\n",
    "        ax[0].plot(time_, target_[0,1,:], linestyle = '--', color='blue')\n",
    "        ax[0].set_xlim(-dur_pre,dur+dur_post)\n",
    "        ax[1].set_xlim(-dur_pre,dur+dur_post)\n",
    "        ax[0].axvspan(dur*t_pen, dur, alpha=0.2, color='gray')\n",
    "        plt.show()\n",
    "\n",
    "    with open(file_,'wb') as f:\n",
    "        pickle.dump([bestControl_, bestState_, cost_, costnode_, weights_], f)"
   ]
  },
  {
   "cell_type": "code",
   "execution_count": null,
   "metadata": {},
   "outputs": [],
   "source": []
  }
 ],
 "metadata": {
  "kernelspec": {
   "display_name": "Python 3 (ipykernel)",
   "language": "python",
   "name": "python3"
  },
  "language_info": {
   "codemirror_mode": {
    "name": "ipython",
    "version": 3
   },
   "file_extension": ".py",
   "mimetype": "text/x-python",
   "name": "python",
   "nbconvert_exporter": "python",
   "pygments_lexer": "ipython3",
   "version": "3.9.7"
  }
 },
 "nbformat": 4,
 "nbformat_minor": 4
}
