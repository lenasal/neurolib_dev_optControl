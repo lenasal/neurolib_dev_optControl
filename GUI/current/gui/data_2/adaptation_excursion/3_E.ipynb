{
 "cells": [
  {
   "cell_type": "code",
   "execution_count": 1,
   "metadata": {},
   "outputs": [
    {
     "name": "stdout",
     "output_type": "stream",
     "text": [
      "not here\n"
     ]
    }
   ],
   "source": [
    "import matplotlib.pyplot as plt\n",
    "import numpy as np\n",
    "import os\n",
    "import sys\n",
    "import pickle\n",
    "import random\n",
    "\n",
    "path = os.getcwd().split(os.sep + 'GUI')[0]\n",
    "if path not in sys.path:\n",
    "    print(\"not here\")\n",
    "    sys.path.append(path)\n",
    "\n",
    "from neurolib.models.aln import ALNModel\n",
    "from neurolib.utils import plotFunctions as plotFunc\n",
    "from neurolib.utils import costFunctions as cost\n",
    "import neurolib.dashboard.functions as functions\n",
    "import neurolib.dashboard.data as data\n",
    "    \n",
    "# This will reload all imports as soon as the code changes\n",
    "%load_ext autoreload\n",
    "%autoreload 2 \n",
    "\n",
    "#path = os.path.join(os.getcwd(), \"plots\")"
   ]
  },
  {
   "cell_type": "code",
   "execution_count": 2,
   "metadata": {},
   "outputs": [],
   "source": [
    "p0 = [0.86, 0.25] # high\n",
    "p1 = [0.74, 0.37] # low"
   ]
  },
  {
   "cell_type": "code",
   "execution_count": 3,
   "metadata": {},
   "outputs": [],
   "source": [
    "aln = ALNModel()\n",
    "\n",
    "aln.params.sigma_ou = 0.\n",
    "aln.params.mue_ext_mean = 0.\n",
    "aln.params.mui_ext_mean = 0.\n",
    "aln.params.ext_exc_current = 0.\n",
    "aln.params.ext_inh_current = 0.\n",
    "\n",
    "#aln.params.IA_init = np.zeros((1))\n",
    "\n",
    "N = aln.params.N\n",
    "\n",
    "state_vars = aln.state_vars\n",
    "init_vars = aln.init_vars\n",
    "\n",
    "##############################################################\n",
    "def setinit(init_vars_, model):\n",
    "    state_vars = model.state_vars\n",
    "    init_vars = model.init_vars\n",
    "    for iv in range(len(init_vars)):\n",
    "        for sv in range(len(state_vars)):\n",
    "            if state_vars[sv] in init_vars[iv]:\n",
    "                #print(\"set init vars \", )\n",
    "                if model.params[init_vars[iv]].ndim == 2:\n",
    "                    model.params[init_vars[iv]][0,:] = init_vars_[sv]\n",
    "                else:\n",
    "                    model.params[init_vars[iv]][0] = init_vars_[sv]\n",
    "                    \n",
    "##############################################################               \n",
    "def setmaxmincontrol(max_c_c, min_c_c, max_c_r, min_c_r):\n",
    "    import numpy as np\n",
    "    \n",
    "    max_cntrl = np.zeros(( 6 ))\n",
    "    min_cntrl = np.zeros(( 6 ))\n",
    "    \n",
    "    max_cntrl[0] = max_c_c\n",
    "    min_cntrl[0] = min_c_c\n",
    "    max_cntrl[1] = max_c_c\n",
    "    min_cntrl[1] = min_c_c\n",
    "    max_cntrl[2] = max_c_r\n",
    "    min_cntrl[2] = min_c_r\n",
    "    max_cntrl[3] = max_c_r\n",
    "    min_cntrl[3] = min_c_r\n",
    "    max_cntrl[4] = max_c_r\n",
    "    min_cntrl[4] = min_c_r\n",
    "    max_cntrl[5] = max_c_r\n",
    "    min_cntrl[5] = min_c_r\n",
    "            \n",
    "    return max_cntrl, min_cntrl"
   ]
  },
  {
   "cell_type": "code",
   "execution_count": 23,
   "metadata": {},
   "outputs": [],
   "source": [
    "dur = 500.\n",
    "t_pen = 0.6"
   ]
  },
  {
   "cell_type": "code",
   "execution_count": 24,
   "metadata": {},
   "outputs": [
    {
     "name": "stdout",
     "output_type": "stream",
     "text": [
      "/adaptation_excursion\n"
     ]
    }
   ],
   "source": [
    "file_ = '3_E.pickle'\n",
    "folder = str(os.getcwd().split('data_2')[1])\n",
    "print(folder)\n",
    "case = '3'"
   ]
  },
  {
   "cell_type": "code",
   "execution_count": 25,
   "metadata": {},
   "outputs": [],
   "source": [
    "dur_pre = 10\n",
    "dur_post = 100\n",
    "\n",
    "n_pre = int(np.around(dur_pre/aln.params.dt + 1.,1))\n",
    "n_post = int(np.around(dur_post/aln.params.dt + 1.,1))\n",
    "\n",
    "tol = 1e-10\n",
    "start_step = 10.\n",
    "c_scheme = np.zeros(( 1,1 ))\n",
    "c_scheme[0,0] = 1.\n",
    "u_mat = np.identity(1)\n",
    "u_scheme = np.array([[1.]])\n",
    "\n",
    "p_var = [0]\n",
    "c_var = [0]\n",
    "#wp = 1. / (dur * t_pen[1] - t_pen[0] * dur)\n",
    "wp = 1. / (dur - t_pen*dur)\n",
    "\n",
    "if case in ['1', '2']:    # low to high\n",
    "    max_I = [3., -3.]\n",
    "else:\n",
    "    max_I = [-3., 3.]\n",
    "    \n",
    "if case in ['1', '3']:    # sparsity\n",
    "    factor_ws = 1.\n",
    "    factor_we = 0.\n",
    "else:\n",
    "    factor_ws = 0.\n",
    "    factor_we = 1.\n",
    "    \n",
    "maxC = [5., -5., 0.18, 0.]\n",
    "max_cntrl, min_cntrl = setmaxmincontrol(maxC[0], maxC[1], maxC[2], maxC[3])"
   ]
  },
  {
   "cell_type": "code",
   "execution_count": 26,
   "metadata": {},
   "outputs": [
    {
     "name": "stdout",
     "output_type": "stream",
     "text": [
      "file found\n"
     ]
    }
   ],
   "source": [
    "bestControl_ = None\n",
    "\n",
    "if os.path.isfile(file_) :\n",
    "    print(\"file found\")\n",
    "    \n",
    "    with open(file_,'rb') as f:\n",
    "        load_array = pickle.load(f)\n",
    "\n",
    "    bestControl_ = load_array[0]"
   ]
  },
  {
   "cell_type": "code",
   "execution_count": 27,
   "metadata": {
    "scrolled": true
   },
   "outputs": [
    {
     "data": {
      "image/png": "[encoded data removed]",
      "text/plain": [
       "<Figure size 432x288 with 1 Axes>"
      ]
     },
     "metadata": {
      "needs_background": "light"
     },
     "output_type": "display_data"
    }
   ],
   "source": [
    "# get initial parameters and target states\n",
    "\n",
    "aln.params.sigma_ou = 0.\n",
    "\n",
    "aln.params.duration = 2000.\n",
    "\n",
    "aln.params.mue_ext_mean = p0[0] * 5.\n",
    "aln.params.mui_ext_mean = p0[1] * 5.\n",
    "\n",
    "aln.run(control=aln.getZeroControl())\n",
    "plt.plot(aln.t, aln.rates_exc[0,:], color='red')\n",
    "plt.plot(aln.t, aln.rates_inh[0,:], color='blue')\n",
    "plt.show()\n",
    "\n",
    "init_state_vars = np.zeros(( len(state_vars) ))\n",
    "for j in range(len(state_vars)):\n",
    "    if aln.state[state_vars[j]].size == 1:\n",
    "        init_state_vars[j] = aln.state[state_vars[j]][0]\n",
    "    else:\n",
    "        init_state_vars[j] = aln.state[state_vars[j]][0,-1]\n",
    "\n",
    "initVars = init_state_vars.copy()"
   ]
  },
  {
   "cell_type": "code",
   "execution_count": 28,
   "metadata": {},
   "outputs": [
    {
     "data": {
      "image/png": "[encoded data removed]",
      "text/plain": [
       "<Figure size 432x288 with 1 Axes>"
      ]
     },
     "metadata": {
      "needs_background": "light"
     },
     "output_type": "display_data"
    },
    {
     "name": "stdout",
     "output_type": "stream",
     "text": [
      "3.9096302173218036\n",
      "18.406391521394816\n"
     ]
    }
   ],
   "source": [
    "aln.params.sigma_ou = 0.1\n",
    "\n",
    "aln.params.duration = 20000.\n",
    "\n",
    "aln.params.mue_ext_mean = p0[0] * 5.\n",
    "aln.params.mui_ext_mean = p0[1] * 5.\n",
    "\n",
    "setinit(initVars, aln)\n",
    "\n",
    "aln.run(control=aln.getZeroControl())\n",
    "plt.plot(aln.t, aln.rates_exc[0,:], color='red')\n",
    "plt.plot(aln.t, aln.rates_inh[0,:], color='blue')\n",
    "plt.show()\n",
    "\n",
    "e_ = []\n",
    "i_ = []\n",
    "t_ind = []\n",
    "\n",
    "for t in range(len(aln.t)):\n",
    "    \n",
    "    if aln.rates_exc[0,t] > 10:\n",
    "        continue\n",
    "    if aln.rates_inh[0,t] > 30:\n",
    "        continue\n",
    "    \n",
    "    t_ind.append(t)\n",
    "    e_.append(aln.rates_exc[0,t])\n",
    "    i_.append(aln.rates_inh[0,t])\n",
    "    \n",
    "print(np.mean(e_))\n",
    "print(np.mean(i_))\n",
    "\n",
    "target = np.zeros((2))\n",
    "target[0] = np.mean(e_)\n",
    "target[1] = np.mean(i_)"
   ]
  },
  {
   "cell_type": "code",
   "execution_count": 29,
   "metadata": {
    "scrolled": true
   },
   "outputs": [
    {
     "name": "stdout",
     "output_type": "stream",
     "text": [
      "set cost params:  0.005 0.0 0.0\n",
      "interpolate adjoint :  True True True\n",
      "initial cost =  93.37815264842904\n",
      "RUN  0 , total integrated cost =  93.37815264842904\n",
      "Gradient descend method:  None\n",
      "RUN  0 , total integrated cost =  93.37815264842904\n",
      "Improved over  0  iterations in  0.0  seconds by  0.0  percent.\n"
     ]
    },
    {
     "data": {
      "image/png": "[encoded data removed]",
      "text/plain": [
       "<Figure size 288x432 with 2 Axes>"
      ]
     },
     "metadata": {
      "needs_background": "light"
     },
     "output_type": "display_data"
    }
   ],
   "source": [
    "# get uncontrolled cost\n",
    "    \n",
    "aln.params.duration = dur\n",
    "aln.params.sigma_ou = 0.\n",
    "\n",
    "target_ = aln.getZeroTarget()\n",
    "target_[:,0,:] = target[0]\n",
    "target_[:,1,:] = target[1]\n",
    "\n",
    "cost.setParams(wp, 0.0, 0.0)\n",
    "\n",
    "aln.params.mue_ext_mean = p0[0] * 5.\n",
    "aln.params.mui_ext_mean = p0[1] * 5.\n",
    "\n",
    "setinit(initVars, aln)\n",
    "control0 = aln.getZeroControl()\n",
    "\n",
    "cgv = None\n",
    "max_it = 0\n",
    "\n",
    "bestControl_init_, bestState_init_, cost_init_, runtime_init_, grad_init_, phi_init_, phi1_, costnode_init_ = aln.A1(\n",
    "    control0, target_, c_scheme, u_mat, u_scheme, max_iteration_ = max_it, tolerance_ = tol,\n",
    "    startStep_ = start_step, max_control_ = max_cntrl, min_control_ = min_cntrl, t_sim_ = dur,\n",
    "    t_sim_pre_ = dur_pre, t_sim_post_ = dur_post, CGVar = cgv, control_variables_ = c_var,\n",
    "    prec_variables_ = p_var, transition_time_ = t_pen)\n",
    "\n",
    "if True:\n",
    "    plot_time_array = np.arange(0.,round(dur+aln.params.dt,1),aln.params.dt)\n",
    "    target_ = aln.getZeroTarget()\n",
    "    target_[:,0,:] = target[0]\n",
    "    target_[:,1,:] = target[1]\n",
    "\n",
    "    fig, ax = plt.subplots(2,1, constrained_layout=True, figsize = (4,6) )\n",
    "    ax[1].plot(plot_time_array, bestControl_init_[0,0,n_pre-1:-n_post+1], color = 'red')\n",
    "    ax[0].plot(plot_time_array, bestState_init_[0,0,n_pre-1:-n_post+1], color= 'red')\n",
    "    ax[1].plot(plot_time_array, bestControl_init_[0,1,n_pre-1:-n_post+1], color = 'blue')\n",
    "    ax[0].plot(plot_time_array, bestState_init_[0,1,n_pre-1:-n_post+1], color= 'blue')\n",
    "    ax[0].plot(plot_time_array, target_[0,0,n_pre-1:-n_post+1], linestyle = '--', color='red')\n",
    "    ax[0].plot(plot_time_array, target_[0,1,n_pre-1:-n_post+1], linestyle = '--', color='blue')\n",
    "\n",
    "    for k in range(2):\n",
    "        ax[k].set_xlim(0.,dur)\n",
    "        ax[k].axvspan(dur*t_pen, dur, alpha=0.2, color='gray')\n",
    "    plt.show()\n",
    "\n",
    "cost_uncontrolled = cost_init_[0]"
   ]
  },
  {
   "cell_type": "code",
   "execution_count": 30,
   "metadata": {
    "scrolled": true
   },
   "outputs": [
    {
     "name": "stdout",
     "output_type": "stream",
     "text": [
      "set cost params:  0.005 0.0 10.0\n",
      "interpolate adjoint :  True True True\n",
      "initial cost =  93.37815264842904\n",
      "RUN  0 , total integrated cost =  93.37815264842904\n",
      "Gradient descend method:  None\n",
      "RUN  1 , total integrated cost =  58.075365592084886\n",
      "RUN  2 , total integrated cost =  36.37903667129436\n",
      "RUN  3 , total integrated cost =  33.539288606081705\n",
      "RUN  4 , total integrated cost =  32.30162048180016\n",
      "RUN  5 , total integrated cost =  31.22796386032813\n",
      "RUN  6 , total integrated cost =  31.13906008601156\n",
      "RUN  7 , total integrated cost =  31.04781494118052\n",
      "RUN  8 , total integrated cost =  30.987236550267646\n",
      "RUN  9 , total integrated cost =  30.93318716774216\n"
     ]
    },
    {
     "name": "stderr",
     "output_type": "stream",
     "text": [
      "ERROR:root:Problem in initial value trasfer post\n"
     ]
    },
    {
     "name": "stdout",
     "output_type": "stream",
     "text": [
      "RUN  10 , total integrated cost =  30.887801242024548\n",
      "RUN  10 , total integrated cost =  30.887801242024548\n",
      "Improved over  10  iterations in  0.4701553210034035  seconds by  66.9218116165589  percent.\n",
      "Problem in initial value trasfer post:  Vmean_exc -56.704232126382024 -56.70076698518659\n"
     ]
    },
    {
     "data": {
      "image/png": "[encoded data removed]",
      "text/plain": [
       "<Figure size 288x432 with 2 Axes>"
      ]
     },
     "metadata": {
      "needs_background": "light"
     },
     "output_type": "display_data"
    },
    {
     "name": "stdout",
     "output_type": "stream",
     "text": [
      "uncontrolled cost :  93.37815264842904\n",
      "cost splitting :  2511.384123761279 [1.83308806 0.        ]\n"
     ]
    }
   ],
   "source": [
    "cgv = None\n",
    "j = 0\n",
    "\n",
    "aln.params.duration = dur\n",
    "setinit(initVars, aln)\n",
    "\n",
    "target_ = aln.getZeroTarget()\n",
    "target_[:,0,:] = target[0]\n",
    "target_[:,1,:] = target[1]\n",
    "\n",
    "control0 = aln.getZeroControl()\n",
    "cost.setParams(wp, 0., 10.)\n",
    "max_it = int(10)\n",
    "\n",
    "#control0[0,0,2400:2500] = 0.5\n",
    "\n",
    "bestControl_, bestState_, cost_, runtime_, grad_, phi_, phi1_, costnode_ = aln.A1(\n",
    "    control0, target_, c_scheme, u_mat, u_scheme, max_iteration_ = max_it, tolerance_ = tol,\n",
    "    startStep_ = start_step, max_control_ = max_cntrl, min_control_ = min_cntrl, t_sim_ = dur,\n",
    "    t_sim_pre_ = dur_pre, t_sim_post_ = dur_post, CGVar = cgv, control_variables_ = c_var,\n",
    "    prec_variables_ = p_var, transition_time_ = t_pen)\n",
    "\n",
    "if True:\n",
    "    plot_time_array = np.arange(0.,round(dur+aln.params.dt,1),aln.params.dt)\n",
    "    target_ = aln.getZeroTarget()\n",
    "    target_[:,0,:] = target[0]\n",
    "    target_[:,1,:] = target[1]\n",
    "\n",
    "    fig, ax = plt.subplots(2,1, constrained_layout=True, figsize = (4,6) )\n",
    "    ax[1].plot(plot_time_array, bestControl_[0,0,n_pre-1:-n_post+1], color = 'red')\n",
    "    ax[0].plot(plot_time_array, bestState_[0,0,n_pre-1:-n_post+1], color= 'red')\n",
    "    ax[1].plot(plot_time_array, bestControl_[0,1,n_pre-1:-n_post+1], color = 'blue')\n",
    "    ax[0].plot(plot_time_array, bestState_[0,1,n_pre-1:-n_post+1], color= 'blue')\n",
    "    ax[0].plot(plot_time_array, target_[0,0,n_pre-1:-n_post+1], linestyle = '--', color='red')\n",
    "    ax[0].plot(plot_time_array, target_[0,1,n_pre-1:-n_post+1], linestyle = '--', color='blue')\n",
    "\n",
    "    for k in range(2):\n",
    "        ax[k].set_xlim(0.,dur)\n",
    "        ax[k].axvspan(dur*t_pen, dur, alpha=0.2, color='gray')\n",
    "    plt.show()\n",
    "\n",
    "print('uncontrolled cost : ', cost_uncontrolled)\n",
    "print('cost splitting : ', costnode_[0][0][0], costnode_[2][0][:2])    "
   ]
  },
  {
   "cell_type": "code",
   "execution_count": 31,
   "metadata": {
    "scrolled": true
   },
   "outputs": [
    {
     "name": "stdout",
     "output_type": "stream",
     "text": [
      "set cost params:  0.005 0.0 1.0\n",
      "interpolate adjoint :  True True True\n",
      "initial cost =  14.390008681128185\n",
      "RUN  0 , total integrated cost =  14.390008681128185\n",
      "Gradient descend method:  None\n",
      "RUN  1 , total integrated cost =  11.641516948490061\n",
      "RUN  2 , total integrated cost =  11.184150428823376\n",
      "RUN  3 , total integrated cost =  10.940598481367523\n",
      "RUN  4 , total integrated cost =  10.882180450168356\n",
      "RUN  5 , total integrated cost =  10.81156507835994\n",
      "RUN  6 , total integrated cost =  10.745890998690347\n",
      "RUN  7 , total integrated cost =  10.661926307477131\n",
      "RUN  8 , total integrated cost =  10.591910209374888\n",
      "RUN  9 , total integrated cost =  10.456279594571953\n",
      "RUN  10 , total integrated cost =  10.358299833566866\n",
      "RUN  11 , total integrated cost =  10.203524402331663\n",
      "RUN  12 , total integrated cost =  10.07305667458052\n",
      "RUN  13 , total integrated cost =  9.87028977040127\n",
      "RUN  14 , total integrated cost =  9.710575876054858\n",
      "RUN  15 , total integrated cost =  9.570059057324807\n",
      "RUN  16 , total integrated cost =  9.44801056561409\n",
      "RUN  17 , total integrated cost =  8.870488945708356\n",
      "RUN  18 , total integrated cost =  8.339004146798322\n",
      "RUN  19 , total integrated cost =  8.288650274500883\n",
      "RUN  20 , total integrated cost =  8.25154247478052\n",
      "RUN  30 , total integrated cost =  7.823571400623084\n",
      "RUN  40 , total integrated cost =  7.501277188105441\n",
      "RUN  50 , total integrated cost =  7.1254123973512975\n",
      "RUN  60 , total integrated cost =  6.845708265121969\n",
      "RUN  70 , total integrated cost =  6.462724846946328\n",
      "RUN  80 , total integrated cost =  6.043712368100469\n",
      "RUN  90 , total integrated cost =  5.7263207672855945\n",
      "RUN  100 , total integrated cost =  5.440153201721008\n",
      "RUN  110 , total integrated cost =  5.2728306329574375\n",
      "RUN  120 , total integrated cost =  5.143576770718735\n",
      "RUN  130 , total integrated cost =  5.032684110701326\n",
      "RUN  140 , total integrated cost =  4.93519800866623\n",
      "RUN  150 , total integrated cost =  4.849051903235869\n",
      "RUN  160 , total integrated cost =  4.750583886721697\n",
      "RUN  170 , total integrated cost =  4.621387073721781\n",
      "RUN  180 , total integrated cost =  4.102948049743328\n",
      "RUN  190 , total integrated cost =  4.022442788134768\n",
      "RUN  200 , total integrated cost =  3.888038370354281\n"
     ]
    },
    {
     "name": "stderr",
     "output_type": "stream",
     "text": [
      "ERROR:root:Problem in initial value trasfer post\n"
     ]
    },
    {
     "name": "stdout",
     "output_type": "stream",
     "text": [
      "RUN  300 , total integrated cost =  3.660636935638136\n",
      "RUN  300 , total integrated cost =  3.660636935638136\n",
      "Improved over  300  iterations in  44.45501195100951  seconds by  74.56125971321416  percent.\n",
      "Problem in initial value trasfer post:  Vmean_exc -57.44073268931589 -57.42001604642919\n",
      "cost splitting :  49.33461086367726 [2.57074364 0.84322024]\n",
      "set cost params:  0.005 0.0 1.0\n",
      "interpolate adjoint :  True True True\n",
      "initial cost =  3.660636935638136\n",
      "RUN  0 , total integrated cost =  3.660636935638136\n",
      "Gradient descend method:  None\n",
      "RUN  1 , total integrated cost =  3.659092302041699\n",
      "RUN  2 , total integrated cost =  3.6576031648954905\n",
      "RUN  3 , total integrated cost =  3.655855905353892\n",
      "RUN  4 , total integrated cost =  3.65416928681059\n",
      "RUN  5 , total integrated cost =  3.6524497333799117\n",
      "RUN  6 , total integrated cost =  3.6508771773794617\n",
      "RUN  7 , total integrated cost =  3.649160514432206\n",
      "RUN  8 , total integrated cost =  3.6475656164608314\n",
      "RUN  9 , total integrated cost =  3.646189572907751\n",
      "RUN  10 , total integrated cost =  3.64487855805079\n",
      "RUN  11 , total integrated cost =  3.6435972430391796\n",
      "RUN  12 , total integrated cost =  3.642377611983767\n",
      "RUN  13 , total integrated cost =  3.6410682373414334\n",
      "RUN  14 , total integrated cost =  3.6398549107335016\n",
      "RUN  15 , total integrated cost =  3.638508848825108\n",
      "RUN  16 , total integrated cost =  3.637255080905454\n",
      "RUN  17 , total integrated cost =  3.635457841115446\n",
      "RUN  18 , total integrated cost =  3.633864568123623\n",
      "RUN  19 , total integrated cost =  3.6324311423276585\n",
      "RUN  20 , total integrated cost =  3.631123182871648\n",
      "RUN  30 , total integrated cost =  3.6127734042069797\n",
      "RUN  40 , total integrated cost =  3.5779995553271022\n",
      "RUN  50 , total integrated cost =  3.559266428585832\n",
      "RUN  60 , total integrated cost =  3.54688000355011\n",
      "RUN  70 , total integrated cost =  3.5369516945553237\n",
      "RUN  80 , total integrated cost =  3.5296886327786736\n",
      "RUN  90 , total integrated cost =  3.5207109867834916\n",
      "RUN  100 , total integrated cost =  3.51281570110893\n",
      "RUN  110 , total integrated cost =  3.496293415760065\n",
      "RUN  120 , total integrated cost =  3.4895134818191753\n",
      "RUN  130 , total integrated cost =  3.483296948616185\n",
      "RUN  140 , total integrated cost =  3.46743522335287\n",
      "RUN  150 , total integrated cost =  3.4613652097364658\n",
      "RUN  160 , total integrated cost =  3.4553383666825823\n",
      "RUN  170 , total integrated cost =  3.4491444277648142\n",
      "RUN  180 , total integrated cost =  3.4425577788295647\n",
      "RUN  190 , total integrated cost =  3.4359775809044004\n",
      "RUN  200 , total integrated cost =  3.4270892335229433\n"
     ]
    },
    {
     "name": "stderr",
     "output_type": "stream",
     "text": [
      "ERROR:root:Problem in initial value trasfer post\n"
     ]
    },
    {
     "name": "stdout",
     "output_type": "stream",
     "text": [
      "RUN  300 , total integrated cost =  3.363362349654569\n",
      "RUN  300 , total integrated cost =  3.363362349654569\n",
      "Improved over  300  iterations in  45.76895779601182  seconds by  8.120843208717318  percent.\n",
      "Problem in initial value trasfer post:  Vmean_exc -57.477711008210115 -57.4542755385025\n",
      "cost splitting :  48.87177032681699 [2.98084763 0.13815586]\n",
      "set cost params:  0.005 0.0 1.0\n",
      "interpolate adjoint :  True True True\n",
      "initial cost =  3.363362349654569\n",
      "RUN  0 , total integrated cost =  3.363362349654569\n",
      "Gradient descend method:  None\n",
      "RUN  1 , total integrated cost =  3.363061101047596\n",
      "RUN  2 , total integrated cost =  3.3626193553620727\n",
      "RUN  3 , total integrated cost =  3.362335681976767\n",
      "RUN  4 , total integrated cost =  3.362069344511704\n",
      "RUN  5 , total integrated cost =  3.3618263953123906\n",
      "RUN  6 , total integrated cost =  3.3615793022529434\n",
      "RUN  7 , total integrated cost =  3.3613330518691735\n",
      "RUN  8 , total integrated cost =  3.361065666708668\n",
      "RUN  9 , total integrated cost =  3.3606303470927723\n",
      "RUN  10 , total integrated cost =  3.3602952908410075\n",
      "RUN  11 , total integrated cost =  3.359546444768617\n",
      "RUN  12 , total integrated cost =  3.3592694430561942\n",
      "RUN  13 , total integrated cost =  3.3587322162005173\n",
      "RUN  14 , total integrated cost =  3.3584040433966384\n",
      "RUN  15 , total integrated cost =  3.3576757941330544\n",
      "RUN  16 , total integrated cost =  3.3573684359998106\n",
      "RUN  17 , total integrated cost =  3.356754612841389\n",
      "RUN  18 , total integrated cost =  3.3563937435461626\n",
      "RUN  19 , total integrated cost =  3.3555382926208943\n",
      "RUN  20 , total integrated cost =  3.3551889053903574\n",
      "RUN  30 , total integrated cost =  3.3514251550626373\n",
      "RUN  40 , total integrated cost =  3.3453759962651337\n",
      "RUN  50 , total integrated cost =  3.3422866122016086\n",
      "RUN  60 , total integrated cost =  3.3391802070809296\n",
      "RUN  70 , total integrated cost =  3.3362818513710653\n",
      "RUN  80 , total integrated cost =  3.3333354328063476\n",
      "RUN  90 , total integrated cost =  3.3297391833082153\n",
      "RUN  100 , total integrated cost =  3.3269803963615536\n",
      "RUN  110 , total integrated cost =  3.3239251017056075\n",
      "RUN  120 , total integrated cost =  3.3205428265458865\n",
      "RUN  130 , total integrated cost =  3.3181438026919574\n",
      "RUN  140 , total integrated cost =  3.3152012239662665\n",
      "RUN  150 , total integrated cost =  3.313220706224808\n",
      "RUN  160 , total integrated cost =  3.3110477208522577\n",
      "RUN  170 , total integrated cost =  3.309140911235893\n",
      "RUN  180 , total integrated cost =  3.3083794440094008\n",
      "RUN  190 , total integrated cost =  3.3079550749441866\n",
      "RUN  200 , total integrated cost =  3.307623127003985\n"
     ]
    },
    {
     "name": "stderr",
     "output_type": "stream",
     "text": [
      "ERROR:root:Problem in initial value trasfer post\n"
     ]
    },
    {
     "name": "stdout",
     "output_type": "stream",
     "text": [
      "RUN  300 , total integrated cost =  3.306001377227591\n",
      "RUN  300 , total integrated cost =  3.306001377227591\n",
      "Improved over  300  iterations in  48.25306433899095  seconds by  1.7054651406461971  percent.\n",
      "Problem in initial value trasfer post:  Vmean_exc -57.554084178322135 -57.5310247339055\n",
      "cost splitting :  37.192511280063044 [3.12003779e+00 1.03326443e-06]\n",
      "set cost params:  0.005 0.0 1.0\n",
      "interpolate adjoint :  True True True\n",
      "initial cost =  3.306001377227591\n",
      "RUN  0 , total integrated cost =  3.306001377227591\n",
      "Gradient descend method:  None\n",
      "RUN  1 , total integrated cost =  3.30599222204455\n",
      "RUN  2 , total integrated cost =  3.305983618459119\n",
      "RUN  3 , total integrated cost =  3.305974536917842\n",
      "RUN  4 , total integrated cost =  3.3059661428570406\n",
      "RUN  5 , total integrated cost =  3.30595756232403\n",
      "RUN  6 , total integrated cost =  3.305948996439585\n",
      "RUN  7 , total integrated cost =  3.3059405076146597\n",
      "RUN  8 , total integrated cost =  3.305932207410017\n",
      "RUN  9 , total integrated cost =  3.3059237968812725\n",
      "RUN  10 , total integrated cost =  3.3059157625198172\n",
      "RUN  11 , total integrated cost =  3.305907418640396\n",
      "RUN  12 , total integrated cost =  3.3058995595678033\n",
      "RUN  13 , total integrated cost =  3.3058916704142445\n",
      "RUN  14 , total integrated cost =  3.3058837127691514\n",
      "RUN  15 , total integrated cost =  3.305875843348618\n",
      "RUN  16 , total integrated cost =  3.3058681746150436\n",
      "RUN  17 , total integrated cost =  3.3058603393764816\n",
      "RUN  18 , total integrated cost =  3.305852920831333\n",
      "RUN  19 , total integrated cost =  3.305845435833771\n",
      "RUN  20 , total integrated cost =  3.3058379611088102\n",
      "RUN  30 , total integrated cost =  3.3057686320167305\n",
      "RUN  40 , total integrated cost =  3.3057018347752987\n",
      "RUN  50 , total integrated cost =  3.3056300750850696\n",
      "RUN  60 , total integrated cost =  3.305558604281438\n",
      "RUN  70 , total integrated cost =  3.3054947840444737\n",
      "RUN  80 , total integrated cost =  3.305435752460007\n",
      "RUN  90 , total integrated cost =  3.3053801652810453\n",
      "RUN  100 , total integrated cost =  3.3053330339600997\n",
      "RUN  110 , total integrated cost =  3.305289718051378\n",
      "RUN  120 , total integrated cost =  3.305248095541996\n",
      "RUN  130 , total integrated cost =  3.3052089615056373\n",
      "RUN  140 , total integrated cost =  3.3051763977038195\n",
      "RUN  150 , total integrated cost =  3.3051428413708086\n",
      "RUN  160 , total integrated cost =  3.305110778358665\n",
      "RUN  170 , total integrated cost =  3.305085213776745\n",
      "RUN  180 , total integrated cost =  3.305061995936767\n",
      "RUN  190 , total integrated cost =  3.3050450612447375\n",
      "RUN  200 , total integrated cost =  3.3050279070807527\n"
     ]
    },
    {
     "name": "stderr",
     "output_type": "stream",
     "text": [
      "ERROR:root:Problem in initial value trasfer post\n"
     ]
    },
    {
     "name": "stdout",
     "output_type": "stream",
     "text": [
      "RUN  300 , total integrated cost =  3.304911705775221\n",
      "RUN  300 , total integrated cost =  3.304911705775221\n",
      "Improved over  300  iterations in  54.956401282019215  seconds by  0.032960405276170945  percent.\n",
      "Problem in initial value trasfer post:  Vmean_exc -57.55888745118334 -57.53582783163317\n",
      "cost splitting :  36.40685008827612 [3.12287642e+00 1.03326443e-06]\n",
      "set cost params:  0.005 0.0 1.0\n",
      "interpolate adjoint :  True True True\n",
      "initial cost =  3.304911705775221\n",
      "RUN  0 , total integrated cost =  3.304911705775221\n",
      "Gradient descend method:  None\n",
      "RUN  1 , total integrated cost =  3.3049109312188873\n",
      "RUN  2 , total integrated cost =  3.304910153389898\n",
      "RUN  3 , total integrated cost =  3.3049093757089567\n",
      "RUN  4 , total integrated cost =  3.3049085432533603\n",
      "RUN  5 , total integrated cost =  3.30490783352678\n",
      "RUN  6 , total integrated cost =  3.3049071208998444\n",
      "RUN  7 , total integrated cost =  3.3049064428688655\n",
      "RUN  8 , total integrated cost =  3.3049057175212178\n",
      "RUN  9 , total integrated cost =  3.304904944276588\n",
      "RUN  10 , total integrated cost =  3.304904171047212\n",
      "RUN  11 , total integrated cost =  3.3049034678092672\n",
      "RUN  12 , total integrated cost =  3.3049027271939253\n",
      "RUN  13 , total integrated cost =  3.304902011962172\n",
      "RUN  14 , total integrated cost =  3.3049013015248407\n",
      "RUN  15 , total integrated cost =  3.3049005745316964\n",
      "RUN  16 , total integrated cost =  3.3048998141058803\n",
      "RUN  17 , total integrated cost =  3.304899145773521\n",
      "RUN  18 , total integrated cost =  3.3048984933449423\n",
      "RUN  19 , total integrated cost =  3.3048978535895484\n",
      "RUN  20 , total integrated cost =  3.3048971875966506\n",
      "RUN  30 , total integrated cost =  3.304890454099335\n",
      "RUN  40 , total integrated cost =  3.304884126536822\n",
      "RUN  50 , total integrated cost =  3.3048782941273283\n",
      "RUN  60 , total integrated cost =  3.30487272434682\n",
      "RUN  70 , total integrated cost =  3.304867436624898\n",
      "RUN  80 , total integrated cost =  3.304861597060572\n",
      "RUN  90 , total integrated cost =  3.3048550324531756\n",
      "RUN  100 , total integrated cost =  3.304849365418558\n",
      "RUN  110 , total integrated cost =  3.3048446657798944\n",
      "RUN  120 , total integrated cost =  3.304840151683252\n",
      "RUN  130 , total integrated cost =  3.3048360929040523\n",
      "RUN  140 , total integrated cost =  3.3048321615179335\n",
      "RUN  150 , total integrated cost =  3.304828564571617\n",
      "RUN  160 , total integrated cost =  3.3048250478280563\n",
      "RUN  170 , total integrated cost =  3.304821851208351\n",
      "RUN  180 , total integrated cost =  3.3048188012200015\n",
      "RUN  190 , total integrated cost =  3.3048160463947616\n",
      "RUN  200 , total integrated cost =  3.304813413765329\n"
     ]
    },
    {
     "name": "stderr",
     "output_type": "stream",
     "text": [
      "ERROR:root:Problem in initial value trasfer post\n"
     ]
    },
    {
     "name": "stdout",
     "output_type": "stream",
     "text": [
      "RUN  300 , total integrated cost =  3.3047765627653716\n",
      "RUN  300 , total integrated cost =  3.3047765627653716\n",
      "Improved over  300  iterations in  60.373784291004995  seconds by  0.004089156439889052  percent.\n",
      "Problem in initial value trasfer post:  Vmean_exc -57.55923121355562 -57.5361521139512\n",
      "cost splitting :  36.23593478015326 [3.12359586e+00 1.03326443e-06]\n",
      "set cost params:  0.005 0.0 1.0\n",
      "interpolate adjoint :  True True True\n",
      "initial cost =  3.3047765627653716\n",
      "RUN  0 , total integrated cost =  3.3047765627653716\n",
      "Gradient descend method:  None\n",
      "RUN  1 , total integrated cost =  3.3047765536091385\n",
      "RUN  2 , total integrated cost =  3.304776519612865\n",
      "RUN  3 , total integrated cost =  3.3047764930227945\n",
      "RUN  4 , total integrated cost =  3.3047762264511458\n",
      "RUN  5 , total integrated cost =  3.3047760115017244\n",
      "RUN  6 , total integrated cost =  3.304775997146165\n"
     ]
    },
    {
     "name": "stderr",
     "output_type": "stream",
     "text": [
      "ERROR:root:Problem in initial value trasfer post\n"
     ]
    },
    {
     "name": "stdout",
     "output_type": "stream",
     "text": [
      "RUN  7 , total integrated cost =  3.304775997146165\n",
      "Control only changes marginally.\n",
      "RUN  7 , total integrated cost =  3.304775997146165\n",
      "Improved over  7  iterations in  1.3645127800118644  seconds by  1.7115202680884067e-05  percent.\n",
      "Problem in initial value trasfer post:  Vmean_exc -57.55924132905678 -57.53616147068138\n",
      "cost splitting :  36.23203962154477 [3.12361477e+00 1.03326443e-06]\n",
      "set cost params:  0.005 0.0 1.0\n",
      "interpolate adjoint :  True True True\n",
      "initial cost =  3.304775997146165\n",
      "RUN  0 , total integrated cost =  3.304775997146165\n",
      "Gradient descend method:  None\n"
     ]
    },
    {
     "name": "stderr",
     "output_type": "stream",
     "text": [
      "ERROR:root:Problem in initial value trasfer post\n"
     ]
    },
    {
     "name": "stdout",
     "output_type": "stream",
     "text": [
      "RUN  1 , total integrated cost =  3.304775997146165\n",
      "Control only changes marginally.\n",
      "RUN  1 , total integrated cost =  3.304775997146165\n",
      "Improved over  1  iterations in  0.20279489099630155  seconds by  0.0  percent.\n",
      "Problem in initial value trasfer post:  Vmean_exc -57.55924132905678 -57.53616147068138\n",
      "cost splitting :  36.23203962154477 [3.12361477e+00 1.03326443e-06]\n"
     ]
    },
    {
     "data": {
      "image/png": "[encoded data removed]",
      "text/plain": [
       "<Figure size 288x288 with 2 Axes>"
      ]
     },
     "metadata": {
      "needs_background": "light"
     },
     "output_type": "display_data"
    }
   ],
   "source": [
    "c_var = [0,1]\n",
    "max_it = int(300)\n",
    "conv = False\n",
    "\n",
    "tol = 1e-6\n",
    "    \n",
    "while not conv:\n",
    "\n",
    "    weight_ = 1.\n",
    "\n",
    "    aln.params.duration = dur\n",
    "    cost.setParams(wp, weight_ * factor_we, weight_ * factor_ws)\n",
    "    weights_ = cost.getParams()\n",
    "\n",
    "    setinit(initVars, aln)\n",
    "\n",
    "    target_ = aln.getZeroTarget()\n",
    "    target_[:,0,:] = target[0]\n",
    "    target_[:,1,:] = target[1]\n",
    "\n",
    "    control0 = aln.getZeroControl()\n",
    "    control0 = bestControl_[:,:,n_pre-1:-n_post+1]\n",
    "\n",
    "    bestControl_, bestState_, cost_, runtime_, grad_, phi_, phi1_, costnode_ = aln.A1(\n",
    "        control0, target_, c_scheme, u_mat, u_scheme, max_iteration_ = max_it, tolerance_ = tol,\n",
    "        startStep_ = start_step, max_control_ = max_cntrl, min_control_ = min_cntrl, t_sim_ = dur,\n",
    "        t_sim_pre_ = dur_pre, t_sim_post_ = dur_post, CGVar = cgv, control_variables_ = c_var,\n",
    "        prec_variables_ = p_var, transition_time_ = t_pen)\n",
    "\n",
    "    if cost_[2] == 0.:\n",
    "        conv = True\n",
    "\n",
    "    #print('uncontrolled cost : ', cost_uncontrolled[i])\n",
    "    print('cost splitting : ', costnode_[0][0][0], costnode_[2][0][:2])\n",
    "\n",
    "    if conv and True:\n",
    "        time_ = np.arange(-dur_pre,round(dur+dur_post+aln.params.dt,1),aln.params.dt)\n",
    "        target_ = aln.getZeroTarget()\n",
    "        target_[:,0,:] = target[0]\n",
    "        target_[:,1,:] = target[1]\n",
    "\n",
    "        fig, ax = plt.subplots(2,1, constrained_layout=True, figsize = (4,4) )\n",
    "        ax[1].plot(time_, bestControl_[0,0,:], color = 'red')\n",
    "        ax[0].plot(time_, bestState_[0,0,:], color= 'red')\n",
    "        ax[1].plot(time_, bestControl_[0,1,:], color = 'blue')\n",
    "        ax[0].plot(time_, bestState_[0,1,:], color= 'blue')\n",
    "        ax[0].plot(time_, target_[0,0,:], linestyle = '--', color='red')\n",
    "        ax[0].plot(time_, target_[0,1,:], linestyle = '--', color='blue')\n",
    "        for k in range(2):\n",
    "            ax[k].set_xlim(0.,dur)\n",
    "            ax[k].axvspan(dur*t_pen, dur, alpha=0.2, color='gray')\n",
    "        plt.show()\n",
    "\n",
    "    with open(file_,'wb') as f:\n",
    "        pickle.dump([bestControl_, bestState_, cost_, costnode_, weights_], f)"
   ]
  },
  {
   "cell_type": "code",
   "execution_count": 32,
   "metadata": {
    "scrolled": true
   },
   "outputs": [
    {
     "name": "stdout",
     "output_type": "stream",
     "text": [
      "set cost params:  0.005 0.0 1.0\n",
      "interpolate adjoint :  True True True\n",
      "initial cost =  3.304775997146165\n",
      "RUN  0 , total integrated cost =  3.304775997146165\n",
      "Gradient descend method:  None\n",
      "RUN  1 , total integrated cost =  3.3047754912884586\n",
      "RUN  2 , total integrated cost =  3.304775337834545\n",
      "RUN  3 , total integrated cost =  3.3047753326725706\n",
      "RUN  4 , total integrated cost =  3.304775329830136\n",
      "RUN  5 , total integrated cost =  3.3047753244764424\n",
      "RUN  6 , total integrated cost =  3.304775320641779\n",
      "RUN  7 , total integrated cost =  3.3047753043112014\n",
      "RUN  8 , total integrated cost =  3.3047752929653145\n",
      "RUN  9 , total integrated cost =  3.304775223999432\n",
      "RUN  10 , total integrated cost =  3.304775202051199\n",
      "RUN  11 , total integrated cost =  3.3047751912637917\n",
      "RUN  12 , total integrated cost =  3.3047751809381523\n",
      "RUN  13 , total integrated cost =  3.3047751753268817\n",
      "RUN  14 , total integrated cost =  3.3047751622955444\n",
      "RUN  15 , total integrated cost =  3.3047751589854126\n",
      "RUN  16 , total integrated cost =  3.3047750326091796\n",
      "RUN  17 , total integrated cost =  3.3047749973976797\n",
      "RUN  18 , total integrated cost =  3.3047749791321155\n",
      "RUN  19 , total integrated cost =  3.304774963626205\n",
      "RUN  20 , total integrated cost =  3.3047749556933805\n",
      "RUN  30 , total integrated cost =  3.304774931812726\n"
     ]
    },
    {
     "name": "stderr",
     "output_type": "stream",
     "text": [
      "ERROR:root:Problem in initial value trasfer post\n"
     ]
    },
    {
     "name": "stdout",
     "output_type": "stream",
     "text": [
      "RUN  40 , total integrated cost =  3.3047747552336886\n",
      "Control only changes marginally.\n",
      "RUN  41 , total integrated cost =  3.3047747552336886\n",
      "Improved over  41  iterations in  5.845848703989759  seconds by  3.757932390158203e-05  percent.\n",
      "Problem in initial value trasfer post:  Vmean_exc -57.55918996829182 -57.53610841064932\n",
      "cost splitting :  36.2187412726487 [3.12368086e+00 1.87428367e-07]\n",
      "set cost params:  0.005 0.0 1.0\n",
      "interpolate adjoint :  True True True\n",
      "initial cost =  3.3047747552336886\n",
      "RUN  0 , total integrated cost =  3.3047747552336886\n",
      "Gradient descend method:  None\n"
     ]
    },
    {
     "name": "stderr",
     "output_type": "stream",
     "text": [
      "ERROR:root:Problem in initial value trasfer post\n"
     ]
    },
    {
     "name": "stdout",
     "output_type": "stream",
     "text": [
      "RUN  1 , total integrated cost =  3.3047747552336886\n",
      "Control only changes marginally.\n",
      "RUN  1 , total integrated cost =  3.3047747552336886\n",
      "Improved over  1  iterations in  0.19879718299489468  seconds by  0.0  percent.\n",
      "Problem in initial value trasfer post:  Vmean_exc -57.55918996829182 -57.53610841064932\n",
      "cost splitting :  36.2187412726487 [3.12368086e+00 1.87428367e-07]\n"
     ]
    },
    {
     "data": {
      "image/png": "[encoded data removed]",
      "text/plain": [
       "<Figure size 288x288 with 2 Axes>"
      ]
     },
     "metadata": {
      "needs_background": "light"
     },
     "output_type": "display_data"
    }
   ],
   "source": [
    "c_var = [0,1]\n",
    "max_it = int(300)\n",
    "conv = False\n",
    "\n",
    "tol = 1e-8\n",
    "    \n",
    "while not conv:\n",
    "\n",
    "    aln.params.duration = dur\n",
    "    cost.setParams(wp, weight_ * factor_we, weight_ * factor_ws)\n",
    "    weights_ = cost.getParams()\n",
    "\n",
    "    setinit(initVars, aln)\n",
    "\n",
    "    target_ = aln.getZeroTarget()\n",
    "    target_[:,0,:] = target[0]\n",
    "    target_[:,1,:] = target[1]\n",
    "\n",
    "    control0 = aln.getZeroControl()\n",
    "    control0 = bestControl_[:,:,n_pre-1:-n_post+1]\n",
    "\n",
    "    bestControl_, bestState_, cost_, runtime_, grad_, phi_, phi1_, costnode_ = aln.A1(\n",
    "        control0, target_, c_scheme, u_mat, u_scheme, max_iteration_ = max_it, tolerance_ = tol,\n",
    "        startStep_ = start_step, max_control_ = max_cntrl, min_control_ = min_cntrl, t_sim_ = dur,\n",
    "        t_sim_pre_ = dur_pre, t_sim_post_ = dur_post, CGVar = cgv, control_variables_ = c_var,\n",
    "        prec_variables_ = p_var, transition_time_ = t_pen)\n",
    "\n",
    "    if cost_[3] == 0.:\n",
    "        conv = True\n",
    "\n",
    "    #print('uncontrolled cost : ', cost_uncontrolled[i])\n",
    "    print('cost splitting : ', costnode_[0][0][0], costnode_[2][0][:2])\n",
    "\n",
    "    if conv and True:\n",
    "        time_ = np.arange(-dur_pre,round(dur+dur_post+aln.params.dt,1),aln.params.dt)\n",
    "        target_ = aln.getZeroTarget()\n",
    "        target_[:,0,:] = target[0]\n",
    "        target_[:,1,:] = target[1]\n",
    "\n",
    "        fig, ax = plt.subplots(2,1, constrained_layout=True, figsize = (4,4) )\n",
    "        ax[1].plot(time_, bestControl_[0,0,:], color = 'red')\n",
    "        ax[0].plot(time_, bestState_[0,0,:], color= 'red')\n",
    "        ax[1].plot(time_, bestControl_[0,1,:], color = 'blue')\n",
    "        ax[0].plot(time_, bestState_[0,1,:], color= 'blue')\n",
    "        ax[0].plot(time_, target_[0,0,:], linestyle = '--', color='red')\n",
    "        ax[0].plot(time_, target_[0,1,:], linestyle = '--', color='blue')\n",
    "        ax[0].set_xlim(-dur_pre,dur+dur_post)\n",
    "        ax[1].set_xlim(-dur_pre,dur+dur_post)\n",
    "        ax[0].axvspan(dur*t_pen, dur, alpha=0.2, color='gray')\n",
    "        plt.show()\n",
    "\n",
    "    with open(file_,'wb') as f:\n",
    "        pickle.dump([bestControl_, bestState_, cost_, costnode_, weights_], f)"
   ]
  },
  {
   "cell_type": "code",
   "execution_count": 33,
   "metadata": {
    "scrolled": true
   },
   "outputs": [
    {
     "name": "stdout",
     "output_type": "stream",
     "text": [
      "set cost params:  0.005 0.0 1.0\n",
      "interpolate adjoint :  True True True\n",
      "initial cost =  3.3047747552336886\n",
      "RUN  0 , total integrated cost =  3.3047747552336886\n",
      "Gradient descend method:  None\n",
      "RUN  1 , total integrated cost =  3.3047747175037836\n",
      "RUN  2 , total integrated cost =  3.304774694267117\n",
      "RUN  3 , total integrated cost =  3.3047746863352327\n",
      "RUN  4 , total integrated cost =  3.304774681770528\n",
      "RUN  5 , total integrated cost =  3.304774679604951\n",
      "RUN  6 , total integrated cost =  3.3047746783996725\n",
      "RUN  7 , total integrated cost =  3.30477467777206\n"
     ]
    },
    {
     "name": "stderr",
     "output_type": "stream",
     "text": [
      "ERROR:root:Problem in initial value trasfer post\n"
     ]
    },
    {
     "name": "stdout",
     "output_type": "stream",
     "text": [
      "RUN  8 , total integrated cost =  3.3047746777720137\n",
      "RUN  9 , total integrated cost =  3.3047746777720137\n",
      "Control only changes marginally.\n",
      "RUN  9 , total integrated cost =  3.3047746777720137\n",
      "Improved over  9  iterations in  0.8901047490071505  seconds by  2.3439320528950702e-06  percent.\n",
      "Problem in initial value trasfer post:  Vmean_exc -57.559189704924506 -57.53610814301935\n",
      "cost splitting :  36.21876213347251 [3.12368087e+00 2.02367624e-09]\n",
      "set cost params:  0.005 0.0 1.0\n",
      "interpolate adjoint :  True True True\n",
      "initial cost =  3.3047746777720137\n",
      "RUN  0 , total integrated cost =  3.3047746777720137\n",
      "Gradient descend method:  None\n"
     ]
    },
    {
     "name": "stderr",
     "output_type": "stream",
     "text": [
      "ERROR:root:Problem in initial value trasfer post\n"
     ]
    },
    {
     "name": "stdout",
     "output_type": "stream",
     "text": [
      "RUN  1 , total integrated cost =  3.3047746777720137\n",
      "Control only changes marginally.\n",
      "RUN  1 , total integrated cost =  3.3047746777720137\n",
      "Improved over  1  iterations in  0.14200723599060439  seconds by  0.0  percent.\n",
      "Problem in initial value trasfer post:  Vmean_exc -57.559189704924506 -57.53610814301935\n",
      "cost splitting :  36.21876213347251 [3.12368087e+00 2.02367624e-09]\n"
     ]
    },
    {
     "data": {
      "image/png": "[encoded data removed]",
      "text/plain": [
       "<Figure size 288x288 with 2 Axes>"
      ]
     },
     "metadata": {
      "needs_background": "light"
     },
     "output_type": "display_data"
    }
   ],
   "source": [
    "c_var = [0,1]\n",
    "max_it = int(300)\n",
    "conv = False\n",
    "\n",
    "tol = 1e-10\n",
    "    \n",
    "while not conv:\n",
    "\n",
    "    aln.params.duration = dur\n",
    "    cost.setParams(wp, weight_ * factor_we, weight_ * factor_ws)\n",
    "    weights_ = cost.getParams()\n",
    "\n",
    "    setinit(initVars, aln)\n",
    "\n",
    "    target_ = aln.getZeroTarget()\n",
    "    target_[:,0,:] = target[0]\n",
    "    target_[:,1,:] = target[1]\n",
    "\n",
    "    control0 = aln.getZeroControl()\n",
    "    control0 = bestControl_[:,:,n_pre-1:-n_post+1]\n",
    "\n",
    "    bestControl_, bestState_, cost_, runtime_, grad_, phi_, phi1_, costnode_ = aln.A1(\n",
    "        control0, target_, c_scheme, u_mat, u_scheme, max_iteration_ = max_it, tolerance_ = tol,\n",
    "        startStep_ = start_step, max_control_ = max_cntrl, min_control_ = min_cntrl, t_sim_ = dur,\n",
    "        t_sim_pre_ = dur_pre, t_sim_post_ = dur_post, CGVar = cgv, control_variables_ = c_var,\n",
    "        prec_variables_ = p_var, transition_time_ = t_pen)\n",
    "\n",
    "    if cost_[3] == 0.:\n",
    "        conv = True\n",
    "\n",
    "    #print('uncontrolled cost : ', cost_uncontrolled[i])\n",
    "    print('cost splitting : ', costnode_[0][0][0], costnode_[2][0][:2])\n",
    "\n",
    "    if conv and True:\n",
    "        time_ = np.arange(-dur_pre,round(dur+dur_post+aln.params.dt,1),aln.params.dt)\n",
    "        target_ = aln.getZeroTarget()\n",
    "        target_[:,0,:] = target[0]\n",
    "        target_[:,1,:] = target[1]\n",
    "\n",
    "        fig, ax = plt.subplots(2,1, constrained_layout=True, figsize = (4,4) )\n",
    "        ax[1].plot(time_, bestControl_[0,0,:], color = 'red')\n",
    "        ax[0].plot(time_, bestState_[0,0,:], color= 'red')\n",
    "        ax[1].plot(time_, bestControl_[0,1,:], color = 'blue')\n",
    "        ax[0].plot(time_, bestState_[0,1,:], color= 'blue')\n",
    "        ax[0].plot(time_, target_[0,0,:], linestyle = '--', color='red')\n",
    "        ax[0].plot(time_, target_[0,1,:], linestyle = '--', color='blue')\n",
    "        ax[0].set_xlim(-dur_pre,dur+dur_post)\n",
    "        ax[1].set_xlim(-dur_pre,dur+dur_post)\n",
    "        ax[0].axvspan(dur*t_pen, dur, alpha=0.2, color='gray')\n",
    "        plt.show()\n",
    "\n",
    "    with open(file_,'wb') as f:\n",
    "        pickle.dump([bestControl_, bestState_, cost_, costnode_, weights_], f)"
   ]
  },
  {
   "cell_type": "code",
   "execution_count": null,
   "metadata": {},
   "outputs": [],
   "source": []
  }
 ],
 "metadata": {
  "kernelspec": {
   "display_name": "Python 3 (ipykernel)",
   "language": "python",
   "name": "python3"
  },
  "language_info": {
   "codemirror_mode": {
    "name": "ipython",
    "version": 3
   },
   "file_extension": ".py",
   "mimetype": "text/x-python",
   "name": "python",
   "nbconvert_exporter": "python",
   "pygments_lexer": "ipython3",
   "version": "3.9.7"
  }
 },
 "nbformat": 4,
 "nbformat_minor": 4
}
