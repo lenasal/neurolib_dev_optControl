{
 "cells": [
  {
   "cell_type": "code",
   "execution_count": 28,
   "metadata": {},
   "outputs": [
    {
     "name": "stdout",
     "output_type": "stream",
     "text": [
      "The autoreload extension is already loaded. To reload it, use:\n",
      "  %reload_ext autoreload\n"
     ]
    }
   ],
   "source": [
    "import matplotlib.pyplot as plt\n",
    "import numpy as np\n",
    "import os\n",
    "import sys\n",
    "import pickle\n",
    "import random\n",
    "\n",
    "path = os.getcwd().split(os.sep + 'GUI')[0]\n",
    "if path not in sys.path:\n",
    "    print(\"not here\")\n",
    "    sys.path.append(path)\n",
    "\n",
    "from neurolib.models.aln import ALNModel\n",
    "from neurolib.utils import plotFunctions as plotFunc\n",
    "from neurolib.utils import costFunctions as cost\n",
    "import neurolib.dashboard.functions as functions\n",
    "import neurolib.dashboard.data as data\n",
    "    \n",
    "# This will reload all imports as soon as the code changes\n",
    "%load_ext autoreload\n",
    "%autoreload 2 \n",
    "\n",
    "#path = os.path.join(os.getcwd(), \"plots\")"
   ]
  },
  {
   "cell_type": "code",
   "execution_count": 29,
   "metadata": {},
   "outputs": [],
   "source": [
    "exc = 0.4\n",
    "inh = 0.322"
   ]
  },
  {
   "cell_type": "code",
   "execution_count": 30,
   "metadata": {},
   "outputs": [],
   "source": [
    "aln = ALNModel()\n",
    "N = aln.params.N\n",
    "\n",
    "data.set_parameters(aln)\n",
    "\n",
    "state_vars = aln.state_vars\n",
    "init_vars = aln.init_vars\n",
    "\n",
    "##############################################################\n",
    "def setinit(init_vars_, model):\n",
    "    state_vars = model.state_vars\n",
    "    init_vars = model.init_vars\n",
    "    for iv in range(len(init_vars)):\n",
    "        for sv in range(len(state_vars)):\n",
    "            if state_vars[sv] in init_vars[iv]:\n",
    "                #print(\"set init vars \", )\n",
    "                if model.params[init_vars[iv]].ndim == 2:\n",
    "                    model.params[init_vars[iv]][0,:] = init_vars_[sv]\n",
    "                else:\n",
    "                    model.params[init_vars[iv]][0] = init_vars_[sv]\n",
    "                    \n",
    "##############################################################               \n",
    "def setmaxmincontrol(max_c_c, min_c_c, max_c_r, min_c_r):\n",
    "    import numpy as np\n",
    "    \n",
    "    max_cntrl = np.zeros(( 6 ))\n",
    "    min_cntrl = np.zeros(( 6 ))\n",
    "    \n",
    "    max_cntrl[0] = max_c_c\n",
    "    min_cntrl[0] = min_c_c\n",
    "    max_cntrl[1] = max_c_c\n",
    "    min_cntrl[1] = min_c_c\n",
    "    max_cntrl[2] = max_c_r\n",
    "    min_cntrl[2] = min_c_r\n",
    "    max_cntrl[3] = max_c_r\n",
    "    min_cntrl[3] = min_c_r\n",
    "    max_cntrl[4] = max_c_r\n",
    "    min_cntrl[4] = min_c_r\n",
    "    max_cntrl[5] = max_c_r\n",
    "    min_cntrl[5] = min_c_r\n",
    "            \n",
    "    return max_cntrl, min_cntrl"
   ]
  },
  {
   "cell_type": "code",
   "execution_count": 31,
   "metadata": {},
   "outputs": [],
   "source": [
    "dur = 500.\n",
    "t_pen = 0.96"
   ]
  },
  {
   "cell_type": "code",
   "execution_count": 32,
   "metadata": {},
   "outputs": [
    {
     "name": "stdout",
     "output_type": "stream",
     "text": [
      "/high_osc\n"
     ]
    }
   ],
   "source": [
    "file_ = '1_E.pickle'\n",
    "folder = str(os.getcwd().split('data_2')[1])\n",
    "print(folder)\n",
    "case = '1'"
   ]
  },
  {
   "cell_type": "code",
   "execution_count": 33,
   "metadata": {},
   "outputs": [],
   "source": [
    "dur_pre = 10\n",
    "dur_post = 10\n",
    "\n",
    "n_pre = int(np.around(dur_pre/aln.params.dt + 1.,1))\n",
    "n_post = int(np.around(dur_post/aln.params.dt + 1.,1))\n",
    "\n",
    "tol = 1e-10\n",
    "start_step = 10.\n",
    "c_scheme = np.zeros(( 1,1 ))\n",
    "c_scheme[0,0] = 1.\n",
    "u_mat = np.identity(1)\n",
    "u_scheme = np.array([[1.]])\n",
    "\n",
    "p_var = [0]\n",
    "c_var = [0]\n",
    "wp = 1. / (dur - t_pen * dur)\n",
    "\n",
    "if case in ['1', '2']:    # osc to high\n",
    "    max_I = [3., -3.]\n",
    "else:\n",
    "    max_I = [-3., 3.]\n",
    "    \n",
    "if case in ['1', '3']:    # sparsity\n",
    "    factor_ws = 1.\n",
    "    factor_we = 0.\n",
    "else:\n",
    "    factor_ws = 0.\n",
    "    factor_we = 1.\n",
    "    \n",
    "maxC = [5., -5., 0.18, 0.]\n",
    "max_cntrl, min_cntrl = setmaxmincontrol(maxC[0], maxC[1], maxC[2], maxC[3])"
   ]
  },
  {
   "cell_type": "code",
   "execution_count": 34,
   "metadata": {},
   "outputs": [
    {
     "name": "stdout",
     "output_type": "stream",
     "text": [
      "file found\n"
     ]
    }
   ],
   "source": [
    "bestControl_ = None\n",
    "\n",
    "if os.path.isfile(file_) :\n",
    "    print(\"file found\")\n",
    "    \n",
    "    with open(file_,'rb') as f:\n",
    "        load_array = pickle.load(f)\n",
    "\n",
    "    bestControl_ = load_array[0]"
   ]
  },
  {
   "cell_type": "code",
   "execution_count": 35,
   "metadata": {
    "scrolled": true
   },
   "outputs": [
    {
     "data": {
      "image/png": "[encoded data removed]",
      "text/plain": [
       "<Figure size 432x288 with 1 Axes>"
      ]
     },
     "metadata": {
      "needs_background": "light"
     },
     "output_type": "display_data"
    },
    {
     "data": {
      "image/png": "[encoded data removed]",
      "text/plain": [
       "<Figure size 432x288 with 1 Axes>"
      ]
     },
     "metadata": {
      "needs_background": "light"
     },
     "output_type": "display_data"
    },
    {
     "name": "stdout",
     "output_type": "stream",
     "text": [
      "1.5457440477540358\n",
      "25.73160170281955\n"
     ]
    }
   ],
   "source": [
    "# get initial parameters and target states\n",
    "data.set_parameters(aln)\n",
    "\n",
    "aln.params.ext_exc_current = exc * 5.\n",
    "aln.params.ext_inh_current = inh * 5.\n",
    "\n",
    "aln.params.duration = 3000.\n",
    "\n",
    "control0 = aln.getZeroControl()\n",
    "control0 = functions.step_control(aln, maxI_ = max_I[0])\n",
    "\n",
    "aln.run(control=control0)\n",
    "plt.plot(aln.t, aln.rates_exc[0,:])\n",
    "plt.show()\n",
    "\n",
    "target_rates = np.zeros((2))\n",
    "target_rates[0] = aln.rates_exc[0,-1] \n",
    "target_rates[1] = aln.rates_inh[0,-1]\n",
    "\n",
    "control0 = functions.step_control(aln, maxI_ = max_I[1])\n",
    "aln.run(control=control0)\n",
    "plt.plot(aln.t, aln.rates_exc[0,:])\n",
    "plt.show()\n",
    "\n",
    "init_state_vars = np.zeros(( len(state_vars) ))\n",
    "for j in range(len(state_vars)):\n",
    "    if aln.state[state_vars[j]].size == 1:\n",
    "        init_state_vars[j] = aln.state[state_vars[j]][0]\n",
    "    else:\n",
    "        init_state_vars[j] = aln.state[state_vars[j]][0,-1]\n",
    "\n",
    "initVars = init_state_vars\n",
    "target = [target_rates[0], target_rates[1]]\n",
    "\n",
    "print(initVars[0])\n",
    "print(target[0])"
   ]
  },
  {
   "cell_type": "code",
   "execution_count": 36,
   "metadata": {
    "scrolled": true
   },
   "outputs": [
    {
     "name": "stdout",
     "output_type": "stream",
     "text": [
      "set cost params:  0.05 0.0 0.0\n",
      "interpolate adjoint :  True True True\n",
      "initial cost =  313.59573137650784\n",
      "RUN  0 , total integrated cost =  313.59573137650784\n",
      "Gradient descend method:  None\n",
      "RUN  0 , total integrated cost =  313.59573137650784\n",
      "Improved over  0  iterations in  0.0  seconds by  0.0  percent.\n"
     ]
    }
   ],
   "source": [
    "# get uncontrolled cost\n",
    "    \n",
    "aln.params.duration = dur\n",
    "\n",
    "target_ = aln.getZeroTarget()\n",
    "target_[:,0,:] = target[0]\n",
    "target_[:,1,:] = target[1]\n",
    "\n",
    "cost.setParams(wp, 0.0, 0.0)\n",
    "\n",
    "setinit(initVars, aln)\n",
    "control0 = aln.getZeroControl()\n",
    "\n",
    "cgv = None\n",
    "max_it = 0\n",
    "\n",
    "bestControl_init_, bestState_init_, cost_init_, runtime_init_, grad_init_, phi_init_, phi1_, costnode_init_ = aln.A1(\n",
    "    control0, target_, c_scheme, u_mat, u_scheme, max_iteration_ = max_it, tolerance_ = tol,\n",
    "    startStep_ = start_step, max_control_ = max_cntrl, min_control_ = min_cntrl, t_sim_ = dur,\n",
    "    t_sim_pre_ = dur_pre, t_sim_post_ = dur_post, CGVar = cgv, control_variables_ = c_var,\n",
    "    prec_variables_ = p_var, transition_time_ = t_pen)\n",
    "\n",
    "cost_uncontrolled = cost_init_[0]"
   ]
  },
  {
   "cell_type": "code",
   "execution_count": 37,
   "metadata": {
    "scrolled": true
   },
   "outputs": [
    {
     "name": "stdout",
     "output_type": "stream",
     "text": [
      "set cost params:  0.05 0.0 10.0\n",
      "interpolate adjoint :  True True True\n",
      "initial cost =  154.9193338482974\n",
      "RUN  0 , total integrated cost =  154.9193338482974\n",
      "Gradient descend method:  None\n",
      "RUN  1 , total integrated cost =  154.9193338482974\n",
      "Control only changes marginally.\n",
      "RUN  1 , total integrated cost =  154.9193338482974\n",
      "Improved over  1  iterations in  5.632935637026094  seconds by  0.0  percent.\n"
     ]
    },
    {
     "data": {
      "image/png": "[encoded data removed]",
      "text/plain": [
       "<Figure size 288x432 with 2 Axes>"
      ]
     },
     "metadata": {
      "needs_background": "light"
     },
     "output_type": "display_data"
    },
    {
     "name": "stdout",
     "output_type": "stream",
     "text": [
      "uncontrolled cost :  313.59573137650784\n",
      "cost splitting :  0.0 [ 0.         15.49193338]\n"
     ]
    }
   ],
   "source": [
    "cgv = None\n",
    "j = 0\n",
    "\n",
    "aln.params.duration = dur\n",
    "setinit(initVars, aln)\n",
    "\n",
    "target_ = aln.getZeroTarget()\n",
    "target_[:,0,:] = target[0]\n",
    "target_[:,1,:] = target[1]\n",
    "\n",
    "control0 = aln.getZeroControl()\n",
    "cost.setParams(wp, 0., 10.)\n",
    "max_it = int(10)\n",
    "\n",
    "control0[0,1,300:900] = -2.\n",
    "\n",
    "bestControl_, bestState_, cost_, runtime_, grad_, phi_, phi1_, costnode_ = aln.A1(\n",
    "    control0, target_, c_scheme, u_mat, u_scheme, max_iteration_ = max_it, tolerance_ = tol,\n",
    "    startStep_ = start_step, max_control_ = max_cntrl, min_control_ = min_cntrl, t_sim_ = dur,\n",
    "    t_sim_pre_ = dur_pre, t_sim_post_ = dur_post, CGVar = cgv, control_variables_ = c_var,\n",
    "    prec_variables_ = p_var, transition_time_ = t_pen)\n",
    "\n",
    "if True:\n",
    "    plot_time_array = np.arange(0.,round(dur+aln.params.dt,1),aln.params.dt)\n",
    "    target_ = aln.getZeroTarget()\n",
    "    target_[:,0,:] = target[0]\n",
    "    target_[:,1,:] = target[1]\n",
    "\n",
    "    fig, ax = plt.subplots(2,1, constrained_layout=True, figsize = (4,6) )\n",
    "    ax[1].plot(plot_time_array, bestControl_[0,0,n_pre-1:-n_post+1], color = 'red')\n",
    "    ax[0].plot(plot_time_array, bestState_[0,0,n_pre-1:-n_post+1], color= 'red')\n",
    "    ax[1].plot(plot_time_array, bestControl_[0,1,n_pre-1:-n_post+1], color = 'blue')\n",
    "    ax[0].plot(plot_time_array, bestState_[0,1,n_pre-1:-n_post+1], color= 'blue')\n",
    "    ax[0].plot(plot_time_array, target_[0,0,n_pre-1:-n_post+1], linestyle = '--', color='red')\n",
    "    ax[0].plot(plot_time_array, target_[0,1,n_pre-1:-n_post+1], linestyle = '--', color='blue')\n",
    "\n",
    "    for k in range(2):\n",
    "        ax[k].set_xlim(0.,dur)\n",
    "        ax[k].axvspan(dur*t_pen, dur, alpha=0.2, color='gray')\n",
    "    plt.show()\n",
    "\n",
    "print('uncontrolled cost : ', cost_uncontrolled)\n",
    "print('cost splitting : ', costnode_[0][0][0], costnode_[2][0][:2])    "
   ]
  },
  {
   "cell_type": "code",
   "execution_count": 24,
   "metadata": {
    "scrolled": true
   },
   "outputs": [
    {
     "name": "stdout",
     "output_type": "stream",
     "text": [
      "set cost params:  0.05 0.0 143.67457796364675\n",
      "interpolate adjoint :  True True True\n",
      "initial cost =  75.98134671017687\n",
      "RUN  0 , total integrated cost =  75.98134671017687\n",
      "Gradient descend method:  None\n",
      "RUN  1 , total integrated cost =  75.98134671017687\n",
      "Control only changes marginally.\n",
      "RUN  1 , total integrated cost =  75.98134671017687\n",
      "Improved over  1  iterations in  0.21417453300091438  seconds by  0.0  percent.\n",
      "cost splitting :  3.402578243755628e-08 [8.80536580e-13 5.28843361e-01]\n"
     ]
    },
    {
     "data": {
      "image/png": "[encoded data removed]",
      "text/plain": [
       "<Figure size 288x288 with 2 Axes>"
      ]
     },
     "metadata": {
      "needs_background": "light"
     },
     "output_type": "display_data"
    }
   ],
   "source": [
    "c_var = [0,1]\n",
    "max_it = int(30)\n",
    "conv = False\n",
    "\n",
    "tol = 1e-6\n",
    "    \n",
    "while not conv:\n",
    "\n",
    "    weight_ = random.random() * ( cost_uncontrolled -\n",
    "                                 costnode_[0][0][0] ) / sum( costnode_[2][0][:] )\n",
    "\n",
    "    aln.params.duration = dur\n",
    "    cost.setParams(wp, weight_ * factor_we, weight_ * factor_ws)\n",
    "    weights_ = cost.getParams()\n",
    "\n",
    "    setinit(initVars, aln)\n",
    "\n",
    "    target_ = aln.getZeroTarget()\n",
    "    target_[:,0,:] = target[0]\n",
    "    target_[:,1,:] = target[1]\n",
    "\n",
    "    control0 = aln.getZeroControl()\n",
    "    control0 = bestControl_[:,:,n_pre-1:-n_post+1]\n",
    "\n",
    "    bestControl_, bestState_, cost_, runtime_, grad_, phi_, phi1_, costnode_ = aln.A1(\n",
    "        control0, target_, c_scheme, u_mat, u_scheme, max_iteration_ = max_it, tolerance_ = tol,\n",
    "        startStep_ = start_step, max_control_ = max_cntrl, min_control_ = min_cntrl, t_sim_ = dur,\n",
    "        t_sim_pre_ = dur_pre, t_sim_post_ = dur_post, CGVar = cgv, control_variables_ = c_var,\n",
    "        prec_variables_ = p_var, transition_time_ = t_pen)\n",
    "\n",
    "    if cost_[2] == 0.:\n",
    "        conv = True\n",
    "\n",
    "    #print('uncontrolled cost : ', cost_uncontrolled[i])\n",
    "    print('cost splitting : ', costnode_[0][0][0], costnode_[2][0][:2])\n",
    "\n",
    "    if conv and True:\n",
    "        time_ = np.arange(-dur_pre,round(dur+dur_post+aln.params.dt,1),aln.params.dt)\n",
    "        target_ = aln.getZeroTarget()\n",
    "        target_[:,0,:] = target[0]\n",
    "        target_[:,1,:] = target[1]\n",
    "\n",
    "        fig, ax = plt.subplots(2,1, constrained_layout=True, figsize = (4,4) )\n",
    "        ax[1].plot(time_, bestControl_[0,0,:], color = 'red')\n",
    "        ax[0].plot(time_, bestState_[0,0,:], color= 'red')\n",
    "        ax[1].plot(time_, bestControl_[0,1,:], color = 'blue')\n",
    "        ax[0].plot(time_, bestState_[0,1,:], color= 'blue')\n",
    "        ax[0].plot(time_, target_[0,0,:], linestyle = '--', color='red')\n",
    "        ax[0].plot(time_, target_[0,1,:], linestyle = '--', color='blue')\n",
    "        ax[0].set_xlim(-dur_pre,dur+dur_post)\n",
    "        ax[1].set_xlim(-dur_pre,dur+dur_post)\n",
    "        ax[0].axvspan(dur*t_pen, dur, alpha=0.2, color='gray')\n",
    "        plt.show()\n",
    "\n",
    "    with open(file_,'wb') as f:\n",
    "        pickle.dump([bestControl_, bestState_, cost_, costnode_, weights_], f)"
   ]
  },
  {
   "cell_type": "code",
   "execution_count": 25,
   "metadata": {
    "scrolled": true
   },
   "outputs": [
    {
     "name": "stdout",
     "output_type": "stream",
     "text": [
      "set cost params:  0.05 0.0 203.0848980489481\n",
      "interpolate adjoint :  True True True\n",
      "initial cost =  107.40010006545012\n",
      "RUN  0 , total integrated cost =  107.40010006545012\n",
      "Gradient descend method:  None\n",
      "RUN  1 , total integrated cost =  107.40010006545012\n",
      "Control only changes marginally.\n",
      "RUN  1 , total integrated cost =  107.40010006545012\n",
      "Improved over  1  iterations in  0.25483272699057125  seconds by  0.0  percent.\n",
      "cost splitting :  3.402578243755628e-08 [8.80536580e-13 5.28843361e-01]\n"
     ]
    },
    {
     "data": {
      "image/png": "[encoded data removed]",
      "text/plain": [
       "<Figure size 288x288 with 2 Axes>"
      ]
     },
     "metadata": {
      "needs_background": "light"
     },
     "output_type": "display_data"
    }
   ],
   "source": [
    "c_var = [0,1]\n",
    "max_it = int(30)\n",
    "conv = False\n",
    "\n",
    "tol = 1e-8\n",
    "    \n",
    "while not conv:\n",
    "\n",
    "    weight_ = random.random() * ( cost_uncontrolled -\n",
    "                                 costnode_[0][0][0] ) / sum( costnode_[2][0][:] )\n",
    "\n",
    "    aln.params.duration = dur\n",
    "    cost.setParams(wp, weight_ * factor_we, weight_ * factor_ws)\n",
    "    weights_ = cost.getParams()\n",
    "\n",
    "    setinit(initVars, aln)\n",
    "\n",
    "    target_ = aln.getZeroTarget()\n",
    "    target_[:,0,:] = target[0]\n",
    "    target_[:,1,:] = target[1]\n",
    "\n",
    "    control0 = aln.getZeroControl()\n",
    "    control0 = bestControl_[:,:,n_pre-1:-n_post+1]\n",
    "\n",
    "    bestControl_, bestState_, cost_, runtime_, grad_, phi_, phi1_, costnode_ = aln.A1(\n",
    "        control0, target_, c_scheme, u_mat, u_scheme, max_iteration_ = max_it, tolerance_ = tol,\n",
    "        startStep_ = start_step, max_control_ = max_cntrl, min_control_ = min_cntrl, t_sim_ = dur,\n",
    "        t_sim_pre_ = dur_pre, t_sim_post_ = dur_post, CGVar = cgv, control_variables_ = c_var,\n",
    "        prec_variables_ = p_var, transition_time_ = t_pen)\n",
    "\n",
    "    if cost_[3] == 0.:\n",
    "        conv = True\n",
    "\n",
    "    #print('uncontrolled cost : ', cost_uncontrolled[i])\n",
    "    print('cost splitting : ', costnode_[0][0][0], costnode_[2][0][:2])\n",
    "\n",
    "    if conv and True:\n",
    "        time_ = np.arange(-dur_pre,round(dur+dur_post+aln.params.dt,1),aln.params.dt)\n",
    "        target_ = aln.getZeroTarget()\n",
    "        target_[:,0,:] = target[0]\n",
    "        target_[:,1,:] = target[1]\n",
    "\n",
    "        fig, ax = plt.subplots(2,1, constrained_layout=True, figsize = (4,4) )\n",
    "        ax[1].plot(time_, bestControl_[0,0,:], color = 'red')\n",
    "        ax[0].plot(time_, bestState_[0,0,:], color= 'red')\n",
    "        ax[1].plot(time_, bestControl_[0,1,:], color = 'blue')\n",
    "        ax[0].plot(time_, bestState_[0,1,:], color= 'blue')\n",
    "        ax[0].plot(time_, target_[0,0,:], linestyle = '--', color='red')\n",
    "        ax[0].plot(time_, target_[0,1,:], linestyle = '--', color='blue')\n",
    "        ax[0].set_xlim(-dur_pre,dur+dur_post)\n",
    "        ax[1].set_xlim(-dur_pre,dur+dur_post)\n",
    "        ax[0].axvspan(dur*t_pen, dur, alpha=0.2, color='gray')\n",
    "        plt.show()\n",
    "\n",
    "    with open(file_,'wb') as f:\n",
    "        pickle.dump([bestControl_, bestState_, cost_, costnode_, weights_], f)"
   ]
  },
  {
   "cell_type": "code",
   "execution_count": 26,
   "metadata": {
    "scrolled": true
   },
   "outputs": [
    {
     "name": "stdout",
     "output_type": "stream",
     "text": [
      "set cost params:  0.05 0.0 454.44560346238933\n",
      "interpolate adjoint :  True True True\n",
      "initial cost =  240.33054035348857\n",
      "RUN  0 , total integrated cost =  240.33054035348857\n",
      "Gradient descend method:  None\n",
      "RUN  1 , total integrated cost =  240.33054035348857\n",
      "Control only changes marginally.\n",
      "RUN  1 , total integrated cost =  240.33054035348857\n",
      "Improved over  1  iterations in  0.30353394101257436  seconds by  0.0  percent.\n",
      "cost splitting :  3.402578243755628e-08 [8.80536580e-13 5.28843361e-01]\n"
     ]
    },
    {
     "data": {
      "image/png": "[encoded data removed]",
      "text/plain": [
       "<Figure size 288x288 with 2 Axes>"
      ]
     },
     "metadata": {
      "needs_background": "light"
     },
     "output_type": "display_data"
    }
   ],
   "source": [
    "c_var = [0,1]\n",
    "max_it = int(30)\n",
    "conv = False\n",
    "\n",
    "tol = 1e-10\n",
    "    \n",
    "while not conv:\n",
    "\n",
    "    weight_ = random.random() * ( cost_uncontrolled -\n",
    "                                 costnode_[0][0][0] ) / sum( costnode_[2][0][:] )\n",
    "\n",
    "    aln.params.duration = dur\n",
    "    cost.setParams(wp, weight_ * factor_we, weight_ * factor_ws)\n",
    "    weights_ = cost.getParams()\n",
    "\n",
    "    setinit(initVars, aln)\n",
    "\n",
    "    target_ = aln.getZeroTarget()\n",
    "    target_[:,0,:] = target[0]\n",
    "    target_[:,1,:] = target[1]\n",
    "\n",
    "    control0 = aln.getZeroControl()\n",
    "    control0 = bestControl_[:,:,n_pre-1:-n_post+1]\n",
    "\n",
    "    bestControl_, bestState_, cost_, runtime_, grad_, phi_, phi1_, costnode_ = aln.A1(\n",
    "        control0, target_, c_scheme, u_mat, u_scheme, max_iteration_ = max_it, tolerance_ = tol,\n",
    "        startStep_ = start_step, max_control_ = max_cntrl, min_control_ = min_cntrl, t_sim_ = dur,\n",
    "        t_sim_pre_ = dur_pre, t_sim_post_ = dur_post, CGVar = cgv, control_variables_ = c_var,\n",
    "        prec_variables_ = p_var, transition_time_ = t_pen)\n",
    "\n",
    "    if cost_[3] == 0.:\n",
    "        conv = True\n",
    "\n",
    "    #print('uncontrolled cost : ', cost_uncontrolled[i])\n",
    "    print('cost splitting : ', costnode_[0][0][0], costnode_[2][0][:2])\n",
    "\n",
    "    if conv and True:\n",
    "        time_ = np.arange(-dur_pre,round(dur+dur_post+aln.params.dt,1),aln.params.dt)\n",
    "        target_ = aln.getZeroTarget()\n",
    "        target_[:,0,:] = target[0]\n",
    "        target_[:,1,:] = target[1]\n",
    "\n",
    "        fig, ax = plt.subplots(2,1, constrained_layout=True, figsize = (4,4) )\n",
    "        ax[1].plot(time_, bestControl_[0,0,:], color = 'red')\n",
    "        ax[0].plot(time_, bestState_[0,0,:], color= 'red')\n",
    "        ax[1].plot(time_, bestControl_[0,1,:], color = 'blue')\n",
    "        ax[0].plot(time_, bestState_[0,1,:], color= 'blue')\n",
    "        ax[0].plot(time_, target_[0,0,:], linestyle = '--', color='red')\n",
    "        ax[0].plot(time_, target_[0,1,:], linestyle = '--', color='blue')\n",
    "        ax[0].set_xlim(-dur_pre,dur+dur_post)\n",
    "        ax[1].set_xlim(-dur_pre,dur+dur_post)\n",
    "        ax[0].axvspan(dur*t_pen, dur, alpha=0.2, color='gray')\n",
    "        plt.show()\n",
    "\n",
    "    with open(file_,'wb') as f:\n",
    "        pickle.dump([bestControl_, bestState_, cost_, costnode_, weights_], f)"
   ]
  },
  {
   "cell_type": "code",
   "execution_count": 27,
   "metadata": {
    "scrolled": true
   },
   "outputs": [
    {
     "name": "stdout",
     "output_type": "stream",
     "text": [
      "set cost params:  0.05 0.0 526.4176184880447\n",
      "interpolate adjoint :  True True True\n",
      "initial cost =  278.39246268156813\n",
      "RUN  0 , total integrated cost =  278.39246268156813\n",
      "Gradient descend method:  None\n",
      "RUN  1 , total integrated cost =  278.39246266244544\n",
      "RUN  2 , total integrated cost =  278.39246265353114\n",
      "RUN  3 , total integrated cost =  278.39246261849405\n",
      "RUN  4 , total integrated cost =  278.3924626108059\n",
      "RUN  5 , total integrated cost =  278.39246259056995\n",
      "RUN  6 , total integrated cost =  277.5981301972918\n",
      "RUN  7 , total integrated cost =  260.6843418028452\n",
      "RUN  8 , total integrated cost =  259.8419558574186\n",
      "RUN  9 , total integrated cost =  259.8353747172198\n",
      "RUN  10 , total integrated cost =  259.83532636561534\n",
      "RUN  11 , total integrated cost =  259.83532634097446\n",
      "RUN  12 , total integrated cost =  259.83532631242764\n",
      "RUN  13 , total integrated cost =  259.8353262979861\n",
      "RUN  14 , total integrated cost =  259.8353262979861\n",
      "Control only changes marginally.\n",
      "RUN  14 , total integrated cost =  259.8353262979861\n",
      "Improved over  14  iterations in  4.3609924179909285  seconds by  6.665818537195136  percent.\n",
      "cost splitting :  1.1374132694052875e-07 [8.80536580e-13 4.93591622e-01]\n",
      "set cost params:  0.05 0.0 478.0838050120521\n",
      "interpolate adjoint :  True True True\n",
      "initial cost =  235.9781608946764\n",
      "RUN  0 , total integrated cost =  235.9781608946764\n",
      "Gradient descend method:  None\n",
      "RUN  1 , total integrated cost =  176.25481667121628\n",
      "RUN  2 , total integrated cost =  174.8652213586979\n",
      "RUN  3 , total integrated cost =  174.85415227838948\n",
      "RUN  4 , total integrated cost =  174.85351367760276\n",
      "RUN  5 , total integrated cost =  174.8535119106915\n",
      "RUN  6 , total integrated cost =  174.85351184946674\n",
      "RUN  7 , total integrated cost =  174.85351184946674\n",
      "Control only changes marginally.\n",
      "RUN  7 , total integrated cost =  174.85351184946674\n",
      "Improved over  7  iterations in  2.1016778360062744  seconds by  25.902672015691863  percent.\n",
      "cost splitting :  1.1350727269256714e-07 [8.80536580e-13 3.65738203e-01]\n",
      "set cost params:  0.05 0.0 200.2459249387706\n",
      "interpolate adjoint :  True True True\n",
      "initial cost =  73.2375847991398\n",
      "RUN  0 , total integrated cost =  73.2375847991398\n",
      "Gradient descend method:  None\n",
      "RUN  1 , total integrated cost =  73.2375847991398\n",
      "Control only changes marginally.\n",
      "RUN  1 , total integrated cost =  73.2375847991398\n",
      "Improved over  1  iterations in  0.385621343011735  seconds by  0.0  percent.\n",
      "cost splitting :  1.1350727269256714e-07 [8.80536580e-13 3.65738203e-01]\n"
     ]
    },
    {
     "data": {
      "image/png": "[encoded data removed]",
      "text/plain": [
       "<Figure size 288x288 with 2 Axes>"
      ]
     },
     "metadata": {
      "needs_background": "light"
     },
     "output_type": "display_data"
    }
   ],
   "source": [
    "c_var = [0,1]\n",
    "max_it = int(30)\n",
    "conv = False\n",
    "\n",
    "tol = 1e-12\n",
    "    \n",
    "while not conv:\n",
    "\n",
    "    weight_ = random.random() * ( cost_uncontrolled -\n",
    "                                 costnode_[0][0][0] ) / sum( costnode_[2][0][:] )\n",
    "\n",
    "    aln.params.duration = dur\n",
    "    cost.setParams(wp, weight_ * factor_we, weight_ * factor_ws)\n",
    "    weights_ = cost.getParams()\n",
    "\n",
    "    setinit(initVars, aln)\n",
    "\n",
    "    target_ = aln.getZeroTarget()\n",
    "    target_[:,0,:] = target[0]\n",
    "    target_[:,1,:] = target[1]\n",
    "\n",
    "    control0 = aln.getZeroControl()\n",
    "    control0 = bestControl_[:,:,n_pre-1:-n_post+1]\n",
    "\n",
    "    bestControl_, bestState_, cost_, runtime_, grad_, phi_, phi1_, costnode_ = aln.A1(\n",
    "        control0, target_, c_scheme, u_mat, u_scheme, max_iteration_ = max_it, tolerance_ = tol,\n",
    "        startStep_ = start_step, max_control_ = max_cntrl, min_control_ = min_cntrl, t_sim_ = dur,\n",
    "        t_sim_pre_ = dur_pre, t_sim_post_ = dur_post, CGVar = cgv, control_variables_ = c_var,\n",
    "        prec_variables_ = p_var, transition_time_ = t_pen)\n",
    "\n",
    "    if cost_[3] == 0.:\n",
    "        conv = True\n",
    "\n",
    "    #print('uncontrolled cost : ', cost_uncontrolled[i])\n",
    "    print('cost splitting : ', costnode_[0][0][0], costnode_[2][0][:2])\n",
    "\n",
    "    if conv and True:\n",
    "        time_ = np.arange(-dur_pre,round(dur+dur_post+aln.params.dt,1),aln.params.dt)\n",
    "        target_ = aln.getZeroTarget()\n",
    "        target_[:,0,:] = target[0]\n",
    "        target_[:,1,:] = target[1]\n",
    "\n",
    "        fig, ax = plt.subplots(2,1, constrained_layout=True, figsize = (4,4) )\n",
    "        ax[1].plot(time_, bestControl_[0,0,:], color = 'red')\n",
    "        ax[0].plot(time_, bestState_[0,0,:], color= 'red')\n",
    "        ax[1].plot(time_, bestControl_[0,1,:], color = 'blue')\n",
    "        ax[0].plot(time_, bestState_[0,1,:], color= 'blue')\n",
    "        ax[0].plot(time_, target_[0,0,:], linestyle = '--', color='red')\n",
    "        ax[0].plot(time_, target_[0,1,:], linestyle = '--', color='blue')\n",
    "        ax[0].set_xlim(-dur_pre,dur+dur_post)\n",
    "        ax[1].set_xlim(-dur_pre,dur+dur_post)\n",
    "        ax[0].axvspan(dur*t_pen, dur, alpha=0.2, color='gray')\n",
    "        plt.show()\n",
    "\n",
    "    with open(file_,'wb') as f:\n",
    "        pickle.dump([bestControl_, bestState_, cost_, costnode_, weights_], f)"
   ]
  },
  {
   "cell_type": "code",
   "execution_count": null,
   "metadata": {},
   "outputs": [],
   "source": []
  }
 ],
 "metadata": {
  "kernelspec": {
   "display_name": "Python 3 (ipykernel)",
   "language": "python",
   "name": "python3"
  },
  "language_info": {
   "codemirror_mode": {
    "name": "ipython",
    "version": 3
   },
   "file_extension": ".py",
   "mimetype": "text/x-python",
   "name": "python",
   "nbconvert_exporter": "python",
   "pygments_lexer": "ipython3",
   "version": "3.9.7"
  }
 },
 "nbformat": 4,
 "nbformat_minor": 4
}
