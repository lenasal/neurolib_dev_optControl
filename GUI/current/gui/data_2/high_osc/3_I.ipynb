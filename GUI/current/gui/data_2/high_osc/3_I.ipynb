{
 "cells": [
  {
   "cell_type": "code",
   "execution_count": 1,
   "metadata": {},
   "outputs": [
    {
     "name": "stdout",
     "output_type": "stream",
     "text": [
      "not here\n"
     ]
    }
   ],
   "source": [
    "import matplotlib.pyplot as plt\n",
    "import numpy as np\n",
    "import os\n",
    "import sys\n",
    "import pickle\n",
    "import random\n",
    "\n",
    "path = os.getcwd().split(os.sep + 'GUI')[0]\n",
    "if path not in sys.path:\n",
    "    print(\"not here\")\n",
    "    sys.path.append(path)\n",
    "\n",
    "from neurolib.models.aln import ALNModel\n",
    "from neurolib.utils import plotFunctions as plotFunc\n",
    "from neurolib.utils import costFunctions as cost\n",
    "import neurolib.dashboard.functions as functions\n",
    "import neurolib.dashboard.data as data\n",
    "    \n",
    "# This will reload all imports as soon as the code changes\n",
    "%load_ext autoreload\n",
    "%autoreload 2 \n",
    "\n",
    "#path = os.path.join(os.getcwd(), \"plots\")"
   ]
  },
  {
   "cell_type": "code",
   "execution_count": 2,
   "metadata": {},
   "outputs": [],
   "source": [
    "exc = 0.4\n",
    "inh = 0.322"
   ]
  },
  {
   "cell_type": "code",
   "execution_count": 3,
   "metadata": {},
   "outputs": [],
   "source": [
    "aln = ALNModel()\n",
    "N = aln.params.N\n",
    "\n",
    "data.set_parameters(aln)\n",
    "\n",
    "state_vars = aln.state_vars\n",
    "init_vars = aln.init_vars\n",
    "\n",
    "##############################################################\n",
    "def setinit(init_vars_, model):\n",
    "    state_vars = model.state_vars\n",
    "    init_vars = model.init_vars\n",
    "    for iv in range(len(init_vars)):\n",
    "        for sv in range(len(state_vars)):\n",
    "            if state_vars[sv] in init_vars[iv]:\n",
    "                #print(\"set init vars \", )\n",
    "                if model.params[init_vars[iv]].ndim == 2:\n",
    "                    model.params[init_vars[iv]][0,:] = init_vars_[sv]\n",
    "                else:\n",
    "                    model.params[init_vars[iv]][0] = init_vars_[sv]\n",
    "                    \n",
    "##############################################################               \n",
    "def setmaxmincontrol(max_c_c, min_c_c, max_c_r, min_c_r):\n",
    "    import numpy as np\n",
    "    \n",
    "    max_cntrl = np.zeros(( 6 ))\n",
    "    min_cntrl = np.zeros(( 6 ))\n",
    "    \n",
    "    max_cntrl[0] = max_c_c\n",
    "    min_cntrl[0] = min_c_c\n",
    "    max_cntrl[1] = max_c_c\n",
    "    min_cntrl[1] = min_c_c\n",
    "    max_cntrl[2] = max_c_r\n",
    "    min_cntrl[2] = min_c_r\n",
    "    max_cntrl[3] = max_c_r\n",
    "    min_cntrl[3] = min_c_r\n",
    "    max_cntrl[4] = max_c_r\n",
    "    min_cntrl[4] = min_c_r\n",
    "    max_cntrl[5] = max_c_r\n",
    "    min_cntrl[5] = min_c_r\n",
    "            \n",
    "    return max_cntrl, min_cntrl"
   ]
  },
  {
   "cell_type": "code",
   "execution_count": 4,
   "metadata": {},
   "outputs": [],
   "source": [
    "dur = 500.\n",
    "t_pen = 0.7\n",
    "int_t_pen = int((1.-t_pen)*dur/aln.params.dt)"
   ]
  },
  {
   "cell_type": "code",
   "execution_count": 5,
   "metadata": {},
   "outputs": [
    {
     "name": "stdout",
     "output_type": "stream",
     "text": [
      "/high_osc\n"
     ]
    }
   ],
   "source": [
    "file_ = '3_I.pickle'\n",
    "folder = str(os.getcwd().split('data_2')[1])\n",
    "print(folder)\n",
    "case = '3'"
   ]
  },
  {
   "cell_type": "code",
   "execution_count": 6,
   "metadata": {},
   "outputs": [],
   "source": [
    "dur_pre = 10\n",
    "dur_post = 10\n",
    "\n",
    "n_pre = int(np.around(dur_pre/aln.params.dt + 1.,1))\n",
    "n_post = int(np.around(dur_post/aln.params.dt + 1.,1))\n",
    "\n",
    "tol = 1e-10\n",
    "start_step = 10.\n",
    "c_scheme = np.zeros(( 1,1 ))\n",
    "c_scheme[0,0] = 1.\n",
    "u_mat = np.identity(1)\n",
    "u_scheme = np.array([[1.]])\n",
    "\n",
    "p_var = [0]\n",
    "c_var = [1]\n",
    "wp = 1. / (dur - t_pen * dur)\n",
    "\n",
    "if case in ['1', '2']:    # osc to high\n",
    "    max_I = [3., -3.]\n",
    "else:\n",
    "    max_I = [-3., 3.]\n",
    "    \n",
    "if case in ['1', '3']:    # sparsity\n",
    "    factor_ws = 1.\n",
    "    factor_we = 0.\n",
    "else:\n",
    "    factor_ws = 0.\n",
    "    factor_we = 1.\n",
    "    \n",
    "maxC = [5., -5., 0.18, 0.]\n",
    "max_cntrl, min_cntrl = setmaxmincontrol(maxC[0], maxC[1], maxC[2], maxC[3])"
   ]
  },
  {
   "cell_type": "code",
   "execution_count": 7,
   "metadata": {},
   "outputs": [
    {
     "name": "stdout",
     "output_type": "stream",
     "text": [
      "file found\n"
     ]
    }
   ],
   "source": [
    "bestControl_ = None\n",
    "\n",
    "if os.path.isfile(file_) :\n",
    "    print(\"file found\")\n",
    "    \n",
    "    with open(file_,'rb') as f:\n",
    "        load_array = pickle.load(f)\n",
    "\n",
    "    bestControl_ = load_array[0]"
   ]
  },
  {
   "cell_type": "code",
   "execution_count": 8,
   "metadata": {
    "scrolled": true
   },
   "outputs": [
    {
     "data": {
      "image/png": "[encoded data removed]",
      "text/plain": [
       "<Figure size 432x288 with 1 Axes>"
      ]
     },
     "metadata": {
      "needs_background": "light"
     },
     "output_type": "display_data"
    },
    {
     "data": {
      "image/png": "[encoded data removed]",
      "text/plain": [
       "<Figure size 432x288 with 1 Axes>"
      ]
     },
     "metadata": {
      "needs_background": "light"
     },
     "output_type": "display_data"
    },
    {
     "name": "stdout",
     "output_type": "stream",
     "text": [
      "25.73160170281955\n",
      "[1.17898505 0.62173334 0.52288618 0.89937247 1.46940135 1.37573782\n",
      " 0.76735634 0.50087305 0.72655858 1.30945585 1.51115031 0.95992528\n",
      " 0.53165845 0.59802359 1.10501279]\n"
     ]
    }
   ],
   "source": [
    "# get initial parameters and target states\n",
    "data.set_parameters(aln)\n",
    "\n",
    "aln.params.ext_exc_current = exc * 5.\n",
    "aln.params.ext_inh_current = inh * 5.\n",
    "\n",
    "aln.params.duration = 3000.\n",
    "\n",
    "control0 = aln.getZeroControl()\n",
    "control0 = functions.step_control(aln, maxI_ = max_I[0])\n",
    "\n",
    "aln.run(control=control0)\n",
    "plt.plot(aln.t, aln.rates_exc[0,:])\n",
    "plt.show()\n",
    "\n",
    "target_rates = np.zeros((2, int_t_pen))\n",
    "target_rates[0,:] = aln.rates_exc[0,-int_t_pen:] \n",
    "target_rates[1,:] = aln.rates_inh[0,-int_t_pen:]\n",
    "\n",
    "control0 = functions.step_control(aln, maxI_ = max_I[1])\n",
    "aln.run(control=control0)\n",
    "plt.plot(aln.t, aln.rates_exc[0,:])\n",
    "plt.show()\n",
    "\n",
    "init_state_vars = np.zeros(( len(state_vars) ))\n",
    "for j in range(len(state_vars)):\n",
    "    if aln.state[state_vars[j]].size == 1:\n",
    "        init_state_vars[j] = aln.state[state_vars[j]][0]\n",
    "    else:\n",
    "        init_state_vars[j] = aln.state[state_vars[j]][0,-1]\n",
    "\n",
    "initVars = init_state_vars\n",
    "target = [target_rates[0,:], target_rates[1,:]]\n",
    "\n",
    "print(initVars[0])\n",
    "print(target[0][::100])"
   ]
  },
  {
   "cell_type": "code",
   "execution_count": 9,
   "metadata": {
    "scrolled": true
   },
   "outputs": [
    {
     "name": "stdout",
     "output_type": "stream",
     "text": [
      "set cost params:  0.006666666666666667 0.0 0.0\n",
      "interpolate adjoint :  True True True\n",
      "initial cost =  307.22769784192036\n",
      "RUN  0 , total integrated cost =  307.22769784192036\n",
      "Gradient descend method:  None\n",
      "RUN  0 , total integrated cost =  307.22769784192036\n",
      "Improved over  0  iterations in  0.0  seconds by  0.0  percent.\n"
     ]
    }
   ],
   "source": [
    "# get uncontrolled cost\n",
    "    \n",
    "aln.params.duration = dur\n",
    "\n",
    "target_ = aln.getZeroTarget()\n",
    "target_[:,0,-int_t_pen:] = target[0]\n",
    "target_[:,1,-int_t_pen:] = target[1]\n",
    "\n",
    "cost.setParams(wp, 0.0, 0.0)\n",
    "\n",
    "setinit(initVars, aln)\n",
    "control0 = aln.getZeroControl()\n",
    "\n",
    "cgv = None\n",
    "max_it = 0\n",
    "\n",
    "bestControl_init_, bestState_init_, cost_init_, runtime_init_, grad_init_, phi_init_, phi1_, costnode_init_ = aln.A1(\n",
    "    control0, target_, c_scheme, u_mat, u_scheme, max_iteration_ = max_it, tolerance_ = tol,\n",
    "    startStep_ = start_step, max_control_ = max_cntrl, min_control_ = min_cntrl, t_sim_ = dur,\n",
    "    t_sim_pre_ = dur_pre, t_sim_post_ = dur_post, CGVar = cgv, control_variables_ = c_var,\n",
    "    prec_variables_ = p_var, transition_time_ = t_pen)\n",
    "\n",
    "cost_uncontrolled = cost_init_[0]"
   ]
  },
  {
   "cell_type": "code",
   "execution_count": 10,
   "metadata": {
    "scrolled": true
   },
   "outputs": [
    {
     "name": "stdout",
     "output_type": "stream",
     "text": [
      "set cost params:  0.006666666666666667 0.0 10.0\n",
      "interpolate adjoint :  True True True\n",
      "initial cost =  154.9797323921401\n",
      "RUN  0 , total integrated cost =  154.9797323921401\n",
      "Gradient descend method:  None\n",
      "RUN  1 , total integrated cost =  136.9103292529824\n",
      "RUN  2 , total integrated cost =  136.58125469327106\n",
      "RUN  3 , total integrated cost =  136.55199187904216\n",
      "RUN  4 , total integrated cost =  136.55183096871215\n",
      "RUN  5 , total integrated cost =  136.55161419815744\n",
      "RUN  6 , total integrated cost =  136.5514006768173\n",
      "RUN  7 , total integrated cost =  136.5512377898627\n",
      "RUN  8 , total integrated cost =  136.55108598129516\n",
      "RUN  9 , total integrated cost =  136.48446611262284\n",
      "RUN  10 , total integrated cost =  136.45352143469412\n",
      "RUN  10 , total integrated cost =  136.45352143469412\n",
      "Improved over  10  iterations in  22.18468794398359  seconds by  11.953957250726006  percent.\n"
     ]
    },
    {
     "data": {
      "image/png": "[encoded data removed]",
      "text/plain": [
       "<Figure size 288x432 with 2 Axes>"
      ]
     },
     "metadata": {
      "needs_background": "light"
     },
     "output_type": "display_data"
    },
    {
     "name": "stdout",
     "output_type": "stream",
     "text": [
      "uncontrolled cost :  307.22769784192036\n",
      "cost splitting :  6.40165738963164 [ 0.         13.64108437]\n"
     ]
    }
   ],
   "source": [
    "cgv = None\n",
    "j = 0\n",
    "\n",
    "aln.params.duration = dur\n",
    "setinit(initVars, aln)\n",
    "\n",
    "target_ = aln.getZeroTarget()\n",
    "target_[:,0,-int_t_pen:] = target[0]\n",
    "target_[:,1,-int_t_pen:] = target[1]\n",
    "\n",
    "control0 = aln.getZeroControl()\n",
    "cost.setParams(wp, 0., 10.)\n",
    "max_it = int(10)\n",
    "\n",
    "control0[0,1,1200:1800] = 2.\n",
    "\n",
    "bestControl_, bestState_, cost_, runtime_, grad_, phi_, phi1_, costnode_ = aln.A1(\n",
    "    control0, target_, c_scheme, u_mat, u_scheme, max_iteration_ = max_it, tolerance_ = tol,\n",
    "    startStep_ = start_step, max_control_ = max_cntrl, min_control_ = min_cntrl, t_sim_ = dur,\n",
    "    t_sim_pre_ = dur_pre, t_sim_post_ = dur_post, CGVar = cgv, control_variables_ = c_var,\n",
    "    prec_variables_ = p_var, transition_time_ = t_pen)\n",
    "\n",
    "if True:\n",
    "    plot_time_array = np.arange(0.,round(dur+aln.params.dt,1),aln.params.dt)\n",
    "    target_ = aln.getZeroTarget()\n",
    "    target_[:,0,-int_t_pen:] = target[0]\n",
    "    target_[:,1,-int_t_pen:] = target[1]\n",
    "\n",
    "    fig, ax = plt.subplots(2,1, constrained_layout=True, figsize = (4,6) )\n",
    "    ax[1].plot(plot_time_array, bestControl_[0,0,n_pre-1:-n_post+1], color = 'red')\n",
    "    ax[0].plot(plot_time_array, bestState_[0,0,n_pre-1:-n_post+1], color= 'red')\n",
    "    ax[1].plot(plot_time_array, bestControl_[0,1,n_pre-1:-n_post+1], color = 'blue')\n",
    "    ax[0].plot(plot_time_array, bestState_[0,1,n_pre-1:-n_post+1], color= 'blue')\n",
    "    ax[0].plot(plot_time_array, target_[0,0,n_pre-1:-n_post+1], linestyle = '--', color='red')\n",
    "    ax[0].plot(plot_time_array, target_[0,1,n_pre-1:-n_post+1], linestyle = '--', color='blue')\n",
    "\n",
    "    for k in range(2):\n",
    "        ax[k].set_xlim(0.,dur)\n",
    "        ax[k].axvspan(dur*t_pen, dur, alpha=0.2, color='gray')\n",
    "    plt.show()\n",
    "\n",
    "print('uncontrolled cost : ', cost_uncontrolled)\n",
    "print('cost splitting : ', costnode_[0][0][0], costnode_[2][0][:2])    "
   ]
  },
  {
   "cell_type": "code",
   "execution_count": 11,
   "metadata": {
    "scrolled": true
   },
   "outputs": [
    {
     "name": "stdout",
     "output_type": "stream",
     "text": [
      "set cost params:  0.006666666666666667 0.0 16.73417879397327\n",
      "interpolate adjoint :  True True True\n",
      "initial cost =  228.3150225385839\n",
      "RUN  0 , total integrated cost =  228.3150225385839\n",
      "Gradient descend method:  None\n",
      "RUN  1 , total integrated cost =  228.3150225385839\n",
      "Control only changes marginally.\n",
      "RUN  1 , total integrated cost =  228.3150225385839\n",
      "Improved over  1  iterations in  0.7091084790008608  seconds by  0.0  percent.\n",
      "cost splitting :  6.40165738963164 [ 0.         13.64108437]\n"
     ]
    },
    {
     "data": {
      "image/png": "[encoded data removed]",
      "text/plain": [
       "<Figure size 288x288 with 2 Axes>"
      ]
     },
     "metadata": {
      "needs_background": "light"
     },
     "output_type": "display_data"
    }
   ],
   "source": [
    "c_var = [0,1]\n",
    "max_it = int(30)\n",
    "conv = False\n",
    "\n",
    "tol = 1e-6\n",
    "    \n",
    "while not conv:\n",
    "\n",
    "    weight_ = random.random() * ( cost_uncontrolled -\n",
    "                                 costnode_[0][0][0] ) / sum( costnode_[2][0][:] )\n",
    "\n",
    "    aln.params.duration = dur\n",
    "    cost.setParams(wp, weight_ * factor_we, weight_ * factor_ws)\n",
    "    weights_ = cost.getParams()\n",
    "\n",
    "    setinit(initVars, aln)\n",
    "\n",
    "    target_ = aln.getZeroTarget()\n",
    "    target_[:,0,-int_t_pen:] = target[0]\n",
    "    target_[:,1,-int_t_pen:] = target[1]\n",
    "\n",
    "    control0 = aln.getZeroControl()\n",
    "    control0 = bestControl_[:,:,n_pre-1:-n_post+1]\n",
    "\n",
    "    bestControl_, bestState_, cost_, runtime_, grad_, phi_, phi1_, costnode_ = aln.A1(\n",
    "        control0, target_, c_scheme, u_mat, u_scheme, max_iteration_ = max_it, tolerance_ = tol,\n",
    "        startStep_ = start_step, max_control_ = max_cntrl, min_control_ = min_cntrl, t_sim_ = dur,\n",
    "        t_sim_pre_ = dur_pre, t_sim_post_ = dur_post, CGVar = cgv, control_variables_ = c_var,\n",
    "        prec_variables_ = p_var, transition_time_ = t_pen)\n",
    "\n",
    "    if cost_[3] == 0.:\n",
    "        conv = True\n",
    "\n",
    "    #print('uncontrolled cost : ', cost_uncontrolled[i])\n",
    "    print('cost splitting : ', costnode_[0][0][0], costnode_[2][0][:2])\n",
    "\n",
    "    if conv and True:\n",
    "        time_ = np.arange(-dur_pre,round(dur+dur_post+aln.params.dt,1),aln.params.dt)\n",
    "        target_ = aln.getZeroTarget()\n",
    "        target_[:,0,-int_t_pen:] = target[0]\n",
    "        target_[:,1,-int_t_pen:] = target[1]\n",
    "\n",
    "        fig, ax = plt.subplots(2,1, constrained_layout=True, figsize = (4,4) )\n",
    "        ax[1].plot(time_, bestControl_[0,0,:], color = 'red')\n",
    "        ax[0].plot(time_, bestState_[0,0,:], color= 'red')\n",
    "        ax[1].plot(time_, bestControl_[0,1,:], color = 'blue')\n",
    "        ax[0].plot(time_, bestState_[0,1,:], color= 'blue')\n",
    "        ax[0].plot(time_, target_[0,0,:], linestyle = '--', color='red')\n",
    "        ax[0].plot(time_, target_[0,1,:], linestyle = '--', color='blue')\n",
    "        ax[0].set_xlim(-dur_pre,dur+dur_post)\n",
    "        ax[1].set_xlim(-dur_pre,dur+dur_post)\n",
    "        ax[0].axvspan(dur*t_pen, dur, alpha=0.2, color='gray')\n",
    "        plt.show()\n",
    "\n",
    "    with open(file_,'wb') as f:\n",
    "        pickle.dump([bestControl_, bestState_, cost_, costnode_, weights_], f)"
   ]
  },
  {
   "cell_type": "code",
   "execution_count": 12,
   "metadata": {
    "scrolled": true
   },
   "outputs": [
    {
     "name": "stdout",
     "output_type": "stream",
     "text": [
      "set cost params:  0.006666666666666667 0.0 9.514200666505879\n",
      "interpolate adjoint :  True True True\n",
      "initial cost =  129.82669173869954\n",
      "RUN  0 , total integrated cost =  129.82669173869954\n",
      "Gradient descend method:  None\n",
      "RUN  1 , total integrated cost =  129.82660101908007\n",
      "RUN  2 , total integrated cost =  129.82660101908007\n",
      "Control only changes marginally.\n",
      "RUN  2 , total integrated cost =  129.82660101908007\n",
      "Improved over  2  iterations in  1.6393804679973982  seconds by  6.987747916298304e-05  percent.\n",
      "cost splitting :  6.388529483419177 [ 0.         13.64108404]\n"
     ]
    },
    {
     "data": {
      "image/png": "[encoded data removed]",
      "text/plain": [
       "<Figure size 288x288 with 2 Axes>"
      ]
     },
     "metadata": {
      "needs_background": "light"
     },
     "output_type": "display_data"
    }
   ],
   "source": [
    "c_var = [0,1]\n",
    "max_it = int(30)\n",
    "conv = False\n",
    "\n",
    "tol = 1e-8\n",
    "    \n",
    "while not conv:\n",
    "\n",
    "    weight_ = random.random() * ( cost_uncontrolled -\n",
    "                                 costnode_[0][0][0] ) / sum( costnode_[2][0][:] )\n",
    "\n",
    "    aln.params.duration = dur\n",
    "    cost.setParams(wp, weight_ * factor_we, weight_ * factor_ws)\n",
    "    weights_ = cost.getParams()\n",
    "\n",
    "    setinit(initVars, aln)\n",
    "\n",
    "    target_ = aln.getZeroTarget()\n",
    "    target_[:,0,-int_t_pen:] = target[0]\n",
    "    target_[:,1,-int_t_pen:] = target[1]\n",
    "\n",
    "    control0 = aln.getZeroControl()\n",
    "    control0 = bestControl_[:,:,n_pre-1:-n_post+1]\n",
    "\n",
    "    bestControl_, bestState_, cost_, runtime_, grad_, phi_, phi1_, costnode_ = aln.A1(\n",
    "        control0, target_, c_scheme, u_mat, u_scheme, max_iteration_ = max_it, tolerance_ = tol,\n",
    "        startStep_ = start_step, max_control_ = max_cntrl, min_control_ = min_cntrl, t_sim_ = dur,\n",
    "        t_sim_pre_ = dur_pre, t_sim_post_ = dur_post, CGVar = cgv, control_variables_ = c_var,\n",
    "        prec_variables_ = p_var, transition_time_ = t_pen)\n",
    "\n",
    "    if cost_[3] == 0.:\n",
    "        conv = True\n",
    "\n",
    "    #print('uncontrolled cost : ', cost_uncontrolled[i])\n",
    "    print('cost splitting : ', costnode_[0][0][0], costnode_[2][0][:2])\n",
    "\n",
    "    if conv and True:\n",
    "        time_ = np.arange(-dur_pre,round(dur+dur_post+aln.params.dt,1),aln.params.dt)\n",
    "        target_ = aln.getZeroTarget()\n",
    "        target_[:,0,-int_t_pen:] = target[0]\n",
    "        target_[:,1,-int_t_pen:] = target[1]\n",
    "\n",
    "        fig, ax = plt.subplots(2,1, constrained_layout=True, figsize = (4,4) )\n",
    "        ax[1].plot(time_, bestControl_[0,0,:], color = 'red')\n",
    "        ax[0].plot(time_, bestState_[0,0,:], color= 'red')\n",
    "        ax[1].plot(time_, bestControl_[0,1,:], color = 'blue')\n",
    "        ax[0].plot(time_, bestState_[0,1,:], color= 'blue')\n",
    "        ax[0].plot(time_, target_[0,0,:], linestyle = '--', color='red')\n",
    "        ax[0].plot(time_, target_[0,1,:], linestyle = '--', color='blue')\n",
    "        ax[0].set_xlim(-dur_pre,dur+dur_post)\n",
    "        ax[1].set_xlim(-dur_pre,dur+dur_post)\n",
    "        ax[0].axvspan(dur*t_pen, dur, alpha=0.2, color='gray')\n",
    "        plt.show()\n",
    "\n",
    "    with open(file_,'wb') as f:\n",
    "        pickle.dump([bestControl_, bestState_, cost_, costnode_, weights_], f)"
   ]
  },
  {
   "cell_type": "code",
   "execution_count": 13,
   "metadata": {
    "scrolled": true
   },
   "outputs": [
    {
     "name": "stdout",
     "output_type": "stream",
     "text": [
      "set cost params:  0.006666666666666667 0.0 4.226921668765698\n",
      "interpolate adjoint :  True True True\n",
      "initial cost =  57.70238389171251\n",
      "RUN  0 , total integrated cost =  57.70238389171251\n",
      "Gradient descend method:  None\n",
      "RUN  1 , total integrated cost =  57.70238371173993\n",
      "RUN  2 , total integrated cost =  57.70238371173993\n",
      "Control only changes marginally.\n",
      "RUN  2 , total integrated cost =  57.70238371173993\n",
      "Improved over  2  iterations in  1.2437134139763657  seconds by  3.118979918781406e-07  percent.\n",
      "cost splitting :  6.388511473499932 [ 0.         13.64108402]\n"
     ]
    },
    {
     "data": {
      "image/png": "[encoded data removed]",
      "text/plain": [
       "<Figure size 288x288 with 2 Axes>"
      ]
     },
     "metadata": {
      "needs_background": "light"
     },
     "output_type": "display_data"
    }
   ],
   "source": [
    "c_var = [0,1]\n",
    "max_it = int(30)\n",
    "conv = False\n",
    "\n",
    "tol = 1e-10\n",
    "    \n",
    "while not conv:\n",
    "\n",
    "    weight_ = random.random() * ( cost_uncontrolled -\n",
    "                                 costnode_[0][0][0] ) / sum( costnode_[2][0][:] )\n",
    "\n",
    "    aln.params.duration = dur\n",
    "    cost.setParams(wp, weight_ * factor_we, weight_ * factor_ws)\n",
    "    weights_ = cost.getParams()\n",
    "\n",
    "    setinit(initVars, aln)\n",
    "\n",
    "    target_ = aln.getZeroTarget()\n",
    "    target_[:,0,-int_t_pen:] = target[0]\n",
    "    target_[:,1,-int_t_pen:] = target[1]\n",
    "\n",
    "    control0 = aln.getZeroControl()\n",
    "    control0 = bestControl_[:,:,n_pre-1:-n_post+1]\n",
    "\n",
    "    bestControl_, bestState_, cost_, runtime_, grad_, phi_, phi1_, costnode_ = aln.A1(\n",
    "        control0, target_, c_scheme, u_mat, u_scheme, max_iteration_ = max_it, tolerance_ = tol,\n",
    "        startStep_ = start_step, max_control_ = max_cntrl, min_control_ = min_cntrl, t_sim_ = dur,\n",
    "        t_sim_pre_ = dur_pre, t_sim_post_ = dur_post, CGVar = cgv, control_variables_ = c_var,\n",
    "        prec_variables_ = p_var, transition_time_ = t_pen)\n",
    "\n",
    "    if cost_[3] == 0.:\n",
    "        conv = True\n",
    "\n",
    "    #print('uncontrolled cost : ', cost_uncontrolled[i])\n",
    "    print('cost splitting : ', costnode_[0][0][0], costnode_[2][0][:2])\n",
    "\n",
    "    if conv and True:\n",
    "        time_ = np.arange(-dur_pre,round(dur+dur_post+aln.params.dt,1),aln.params.dt)\n",
    "        target_ = aln.getZeroTarget()\n",
    "        target_[:,0,-int_t_pen:] = target[0]\n",
    "        target_[:,1,-int_t_pen:] = target[1]\n",
    "\n",
    "        fig, ax = plt.subplots(2,1, constrained_layout=True, figsize = (4,4) )\n",
    "        ax[1].plot(time_, bestControl_[0,0,:], color = 'red')\n",
    "        ax[0].plot(time_, bestState_[0,0,:], color= 'red')\n",
    "        ax[1].plot(time_, bestControl_[0,1,:], color = 'blue')\n",
    "        ax[0].plot(time_, bestState_[0,1,:], color= 'blue')\n",
    "        ax[0].plot(time_, target_[0,0,:], linestyle = '--', color='red')\n",
    "        ax[0].plot(time_, target_[0,1,:], linestyle = '--', color='blue')\n",
    "        ax[0].set_xlim(-dur_pre,dur+dur_post)\n",
    "        ax[1].set_xlim(-dur_pre,dur+dur_post)\n",
    "        ax[0].axvspan(dur*t_pen, dur, alpha=0.2, color='gray')\n",
    "        plt.show()\n",
    "\n",
    "    with open(file_,'wb') as f:\n",
    "        pickle.dump([bestControl_, bestState_, cost_, costnode_, weights_], f)"
   ]
  },
  {
   "cell_type": "code",
   "execution_count": 16,
   "metadata": {
    "scrolled": true
   },
   "outputs": [
    {
     "name": "stdout",
     "output_type": "stream",
     "text": [
      "set cost params:  0.006666666666666667 0.0 14.725643243205385\n",
      "interpolate adjoint :  True True True\n",
      "initial cost =  200.916031156471\n",
      "RUN  0 , total integrated cost =  200.916031156471\n",
      "Gradient descend method:  None\n",
      "RUN  1 , total integrated cost =  200.9160311336534\n",
      "RUN  2 , total integrated cost =  200.91602966052142\n",
      "RUN  3 , total integrated cost =  200.9160284655138\n",
      "RUN  4 , total integrated cost =  200.91602844974813\n",
      "RUN  5 , total integrated cost =  200.91600651512422\n",
      "RUN  6 , total integrated cost =  200.91599021301923\n",
      "RUN  7 , total integrated cost =  200.91598958720814\n",
      "RUN  8 , total integrated cost =  200.9159888729758\n",
      "RUN  9 , total integrated cost =  200.91598885341074\n",
      "RUN  10 , total integrated cost =  200.9159869076115\n",
      "RUN  11 , total integrated cost =  200.91598536386985\n",
      "RUN  12 , total integrated cost =  200.9159853350538\n",
      "RUN  13 , total integrated cost =  200.915984437981\n",
      "RUN  14 , total integrated cost =  200.91598344034344\n",
      "RUN  15 , total integrated cost =  200.915983420866\n",
      "RUN  16 , total integrated cost =  200.91598152838316\n",
      "RUN  17 , total integrated cost =  200.91597992135343\n",
      "RUN  18 , total integrated cost =  200.91597989281138\n",
      "RUN  19 , total integrated cost =  200.91597903688657\n",
      "RUN  20 , total integrated cost =  200.915978208234\n",
      "RUN  30 , total integrated cost =  200.9159469913372\n",
      "RUN  30 , total integrated cost =  200.9159469913372\n",
      "Improved over  30  iterations in  10.480595703993458  seconds by  4.18907009702707e-05  percent.\n",
      "cost splitting :  6.3884227273094165 [7.50155719e-07 1.36410575e+01]\n",
      "set cost params:  0.006666666666666667 0.0 17.821901716732878\n",
      "interpolate adjoint :  True True True\n",
      "initial cost =  243.1521892398625\n",
      "RUN  0 , total integrated cost =  243.1521892398625\n",
      "Gradient descend method:  None\n",
      "RUN  1 , total integrated cost =  243.15217149626616\n",
      "RUN  2 , total integrated cost =  243.15215408661075\n",
      "RUN  3 , total integrated cost =  243.15214641028044\n",
      "RUN  4 , total integrated cost =  243.15214018986796\n",
      "RUN  5 , total integrated cost =  243.1521255772081\n",
      "RUN  6 , total integrated cost =  243.15211166096236\n",
      "RUN  7 , total integrated cost =  243.15211160794385\n",
      "RUN  8 , total integrated cost =  243.152106189108\n",
      "RUN  9 , total integrated cost =  243.15209723125804\n",
      "RUN  10 , total integrated cost =  243.15209712746852\n",
      "RUN  11 , total integrated cost =  243.15208812924848\n",
      "RUN  12 , total integrated cost =  243.15207989816233\n",
      "RUN  13 , total integrated cost =  243.15207985042804\n",
      "RUN  14 , total integrated cost =  242.33179797570332\n",
      "RUN  15 , total integrated cost =  242.32328077140363\n",
      "RUN  16 , total integrated cost =  242.32327130053565\n",
      "RUN  17 , total integrated cost =  242.32327108191484\n",
      "RUN  18 , total integrated cost =  242.3232703156659\n",
      "RUN  19 , total integrated cost =  242.3232696112781\n",
      "RUN  20 , total integrated cost =  242.32326853564962\n",
      "RUN  30 , total integrated cost =  242.32325846635771\n",
      "RUN  30 , total integrated cost =  242.32325846635771\n",
      "Improved over  30  iterations in  9.498632367001846  seconds by  0.34091026533471336  percent.\n",
      "cost splitting :  6.10043308635633 [1.01714633e-06 1.35946531e+01]\n",
      "set cost params:  0.006666666666666667 0.0 21.664204499566843\n",
      "interpolate adjoint :  True True True\n",
      "initial cost =  294.5580356751491\n",
      "RUN  0 , total integrated cost =  294.5580356751491\n",
      "Gradient descend method:  None\n",
      "RUN  1 , total integrated cost =  294.5580343679944\n",
      "RUN  2 , total integrated cost =  294.55803156068055\n",
      "RUN  3 , total integrated cost =  294.55802798916255\n",
      "RUN  4 , total integrated cost =  294.55802787898637\n",
      "RUN  5 , total integrated cost =  294.55795937545537\n",
      "RUN  6 , total integrated cost =  294.557905775211\n",
      "RUN  7 , total integrated cost =  294.55783800939065\n",
      "RUN  8 , total integrated cost =  294.55776338387415\n",
      "RUN  9 , total integrated cost =  294.5577626570032\n",
      "RUN  10 , total integrated cost =  294.55776104921074\n",
      "RUN  11 , total integrated cost =  294.557758866424\n",
      "RUN  12 , total integrated cost =  294.55775747630474\n",
      "RUN  13 , total integrated cost =  294.55775526893297\n",
      "RUN  14 , total integrated cost =  294.5577535961881\n",
      "RUN  15 , total integrated cost =  294.55775126499316\n",
      "RUN  16 , total integrated cost =  294.5577487833318\n",
      "RUN  17 , total integrated cost =  294.5577457098647\n",
      "RUN  18 , total integrated cost =  294.55774560668897\n",
      "RUN  19 , total integrated cost =  294.55766989429566\n",
      "RUN  20 , total integrated cost =  294.5576020192201\n",
      "RUN  30 , total integrated cost =  294.5574625412939\n",
      "RUN  30 , total integrated cost =  294.5574625412939\n",
      "Improved over  30  iterations in  11.022541890997672  seconds by  0.00019457417072032968  percent.\n",
      "cost splitting :  6.100326963076416 [1.65154259e-06 1.35946260e+01]\n",
      "set cost params:  0.006666666666666667 0.0 2.0057105321576825\n",
      "interpolate adjoint :  True True True\n",
      "initial cost =  27.307556722360278\n",
      "RUN  0 , total integrated cost =  27.307556722360278\n",
      "Gradient descend method:  None\n",
      "RUN  1 , total integrated cost =  27.30755634623346\n",
      "RUN  2 , total integrated cost =  27.307556342395394\n",
      "RUN  3 , total integrated cost =  27.307556342384622\n",
      "RUN  4 , total integrated cost =  27.307556342384597\n",
      "RUN  5 , total integrated cost =  27.30755634238459\n",
      "RUN  6 , total integrated cost =  27.30755634238459\n",
      "Control only changes marginally.\n",
      "RUN  6 , total integrated cost =  27.30755634238459\n",
      "Improved over  6  iterations in  3.5391094500082545  seconds by  1.391467179701067e-06  percent.\n",
      "cost splitting :  6.100270537445393 [1.65309521e-06 1.35946260e+01]\n",
      "set cost params:  0.006666666666666667 0.0 4.210506589808526\n",
      "interpolate adjoint :  True True True\n",
      "initial cost =  57.28093780547025\n",
      "RUN  0 , total integrated cost =  57.28093780547025\n",
      "Gradient descend method:  None\n",
      "RUN  1 , total integrated cost =  57.28093780260616\n",
      "RUN  2 , total integrated cost =  57.28093780251169\n",
      "RUN  3 , total integrated cost =  57.28093780251058\n",
      "RUN  4 , total integrated cost =  57.28093780251054\n",
      "RUN  5 , total integrated cost =  57.28093780251054\n",
      "Control only changes marginally.\n",
      "RUN  5 , total integrated cost =  57.28093780251054\n",
      "Improved over  5  iterations in  4.49646747900988  seconds by  5.1669957201738725e-09  percent.\n",
      "cost splitting :  6.100272254973696 [1.65309521e-06 1.35946260e+01]\n",
      "set cost params:  0.006666666666666667 0.0 9.426908826368024\n",
      "interpolate adjoint :  True True True\n",
      "initial cost =  128.19598389911894\n",
      "RUN  0 , total integrated cost =  128.19598389911894\n",
      "Gradient descend method:  None\n",
      "RUN  1 , total integrated cost =  128.19598388117913\n",
      "RUN  2 , total integrated cost =  128.19598388098657\n",
      "RUN  3 , total integrated cost =  128.19598388097506\n",
      "RUN  4 , total integrated cost =  128.19598388097475\n",
      "RUN  5 , total integrated cost =  128.19598388097475\n",
      "Control only changes marginally.\n",
      "RUN  5 , total integrated cost =  128.19598388097475\n",
      "Improved over  5  iterations in  4.346599662996596  seconds by  1.4153471283862018e-08  percent.\n",
      "cost splitting :  6.100277301148759 [1.65309521e-06 1.35946260e+01]\n",
      "set cost params:  0.006666666666666667 0.0 8.700870249968034\n",
      "interpolate adjoint :  True True True\n",
      "initial cost =  118.32575977677018\n",
      "RUN  0 , total integrated cost =  118.32575977677018\n",
      "Gradient descend method:  None\n",
      "RUN  1 , total integrated cost =  118.32575977677018\n",
      "Control only changes marginally.\n",
      "RUN  1 , total integrated cost =  118.32575977677018\n",
      "Improved over  1  iterations in  0.9796664530003909  seconds by  0.0  percent.\n",
      "cost splitting :  6.100277301148759 [1.65309521e-06 1.35946260e+01]\n"
     ]
    },
    {
     "data": {
      "image/png": "[encoded data removed]",
      "text/plain": [
       "<Figure size 288x288 with 2 Axes>"
      ]
     },
     "metadata": {
      "needs_background": "light"
     },
     "output_type": "display_data"
    }
   ],
   "source": [
    "c_var = [0,1]\n",
    "max_it = int(30)\n",
    "conv = False\n",
    "\n",
    "tol = 1e-20\n",
    "    \n",
    "while not conv:\n",
    "\n",
    "    weight_ = random.random() * ( cost_uncontrolled -\n",
    "                                 costnode_[0][0][0] ) / sum( costnode_[2][0][:] )\n",
    "\n",
    "    aln.params.duration = dur\n",
    "    cost.setParams(wp, weight_ * factor_we, weight_ * factor_ws)\n",
    "    weights_ = cost.getParams()\n",
    "\n",
    "    setinit(initVars, aln)\n",
    "\n",
    "    target_ = aln.getZeroTarget()\n",
    "    target_[:,0,-int_t_pen:] = target[0]\n",
    "    target_[:,1,-int_t_pen:] = target[1]\n",
    "\n",
    "    control0 = aln.getZeroControl()\n",
    "    control0 = bestControl_[:,:,n_pre-1:-n_post+1]\n",
    "\n",
    "    bestControl_, bestState_, cost_, runtime_, grad_, phi_, phi1_, costnode_ = aln.A1(\n",
    "        control0, target_, c_scheme, u_mat, u_scheme, max_iteration_ = max_it, tolerance_ = tol,\n",
    "        startStep_ = start_step, max_control_ = max_cntrl, min_control_ = min_cntrl, t_sim_ = dur,\n",
    "        t_sim_pre_ = dur_pre, t_sim_post_ = dur_post, CGVar = cgv, control_variables_ = c_var,\n",
    "        prec_variables_ = p_var, transition_time_ = t_pen)\n",
    "\n",
    "    if cost_[3] == 0.:\n",
    "        conv = True\n",
    "\n",
    "    #print('uncontrolled cost : ', cost_uncontrolled[i])\n",
    "    print('cost splitting : ', costnode_[0][0][0], costnode_[2][0][:2])\n",
    "\n",
    "    if conv and True:\n",
    "        time_ = np.arange(-dur_pre,round(dur+dur_post+aln.params.dt,1),aln.params.dt)\n",
    "        target_ = aln.getZeroTarget()\n",
    "        target_[:,0,-int_t_pen:] = target[0]\n",
    "        target_[:,1,-int_t_pen:] = target[1]\n",
    "\n",
    "        fig, ax = plt.subplots(2,1, constrained_layout=True, figsize = (4,4) )\n",
    "        ax[1].plot(time_, bestControl_[0,0,:], color = 'red')\n",
    "        ax[0].plot(time_, bestState_[0,0,:], color= 'red')\n",
    "        ax[1].plot(time_, bestControl_[0,1,:], color = 'blue')\n",
    "        ax[0].plot(time_, bestState_[0,1,:], color= 'blue')\n",
    "        ax[0].plot(time_, target_[0,0,:], linestyle = '--', color='red')\n",
    "        ax[0].plot(time_, target_[0,1,:], linestyle = '--', color='blue')\n",
    "        ax[0].set_xlim(-dur_pre,dur+dur_post)\n",
    "        ax[1].set_xlim(-dur_pre,dur+dur_post)\n",
    "        ax[0].axvspan(dur*t_pen, dur, alpha=0.2, color='gray')\n",
    "        plt.show()\n",
    "\n",
    "    with open(file_,'wb') as f:\n",
    "        pickle.dump([bestControl_, bestState_, cost_, costnode_, weights_], f)"
   ]
  },
  {
   "cell_type": "code",
   "execution_count": null,
   "metadata": {},
   "outputs": [],
   "source": []
  }
 ],
 "metadata": {
  "kernelspec": {
   "display_name": "Python 3 (ipykernel)",
   "language": "python",
   "name": "python3"
  },
  "language_info": {
   "codemirror_mode": {
    "name": "ipython",
    "version": 3
   },
   "file_extension": ".py",
   "mimetype": "text/x-python",
   "name": "python",
   "nbconvert_exporter": "python",
   "pygments_lexer": "ipython3",
   "version": "3.9.7"
  }
 },
 "nbformat": 4,
 "nbformat_minor": 4
}
