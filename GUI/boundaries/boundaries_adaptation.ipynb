{
 "cells": [
  {
   "cell_type": "code",
   "execution_count": 1,
   "metadata": {},
   "outputs": [],
   "source": [
    "import matplotlib.pyplot as plt\n",
    "import numpy as np\n",
    "import os\n",
    "import pickle\n",
    "import sys\n",
    "\n",
    "path = os.getcwd().split(os.sep + 'GUI')[0]\n",
    "if path not in sys.path:\n",
    "    sys.path.append(path)\n",
    "\n",
    "from neurolib.models.aln import ALNModel\n",
    "from neurolib.utils import plotFunctions as plotFunc\n",
    "from neurolib.utils import costFunctions as cost\n",
    "import neurolib.dashboard.functions as functions\n",
    "import neurolib.dashboard.data as data\n",
    "    \n",
    "# This will reload all imports as soon as the code changes\n",
    "%load_ext autoreload\n",
    "%autoreload 2 "
   ]
  },
  {
   "cell_type": "code",
   "execution_count": 115,
   "metadata": {},
   "outputs": [],
   "source": [
    "aln = ALNModel()\n",
    "\n",
    "aln.params.sigma_ou = 0.\n",
    "aln.params.mue_ext_mean = 0.\n",
    "aln.params.mui_ext_mean = 0.\n",
    "aln.params.ext_exc_current = 0.\n",
    "aln.params.ext_inh_current = 0.\n",
    "\n",
    "down = []\n",
    "up = []\n",
    "lc = []"
   ]
  },
  {
   "cell_type": "code",
   "execution_count": 116,
   "metadata": {
    "scrolled": true
   },
   "outputs": [],
   "source": [
    "step = 0.005\n",
    "range_e = np.arange(0.0, 1., step)\n",
    "range_i = np.arange(0., 1., step)\n",
    "\n",
    "aln.params['duration'] = 1000.\n",
    "control0 = aln.getZeroControl()\n",
    "\n",
    "int_start = 5000\n",
    "\n",
    "for e in range_e:\n",
    "    for i in range_i:\n",
    "        #print('---------', e, i)        \n",
    "        aln.params.mue_ext_mean = e * 5.\n",
    "        aln.params.mui_ext_mean = i * 5.\n",
    "\n",
    "        aln.run(control=control0)    \n",
    "        #plt.plot(aln.t[int_start:], aln.rates_exc[0,int_start:])\n",
    "        #plt.ylim(0,20)\n",
    "        #plt.xlim(100,2000)\n",
    "        #plt.show()\n",
    "        \n",
    "        if np.amax(aln.rates_exc[0,int_start:]) - np.amin(aln.rates_exc[0,int_start:]) < 1.3:\n",
    "            if np.amax(aln.rates_exc[0,int_start:]) < 3.:\n",
    "                down.append( [e,i] )\n",
    "            elif np.amax(aln.rates_exc[0,int_start:]) > 5.:\n",
    "                up.append( [e,i] )\n",
    "            else:\n",
    "                print(\"error\")\n",
    "                print(np.amax(aln.rates_exc[0,int_start:]))\n",
    "        else:\n",
    "            lc.append( [e,i] )"
   ]
  },
  {
   "cell_type": "code",
   "execution_count": 108,
   "metadata": {},
   "outputs": [
    {
     "data": {
      "image/png": "[encoded data removed]",
      "text/plain": [
       "<Figure size 432x288 with 1 Axes>"
      ]
     },
     "metadata": {
      "needs_background": "light"
     },
     "output_type": "display_data"
    }
   ],
   "source": [
    "e,i = 0.665, 0.015\n",
    "\n",
    "aln.params['duration'] = 1000.\n",
    "control0 = aln.getZeroControl()\n",
    "\n",
    "aln.params.mue_ext_mean = e * 5.\n",
    "aln.params.mui_ext_mean = i * 5.\n",
    "\n",
    "aln.run(control=control0)    \n",
    "plt.plot(aln.t[int_start:], aln.rates_exc[0,int_start:])\n",
    "plt.ylim(0,20)\n",
    "plt.xlim(500,1000)\n",
    "plt.show()\n"
   ]
  },
  {
   "cell_type": "code",
   "execution_count": 111,
   "metadata": {},
   "outputs": [
    {
     "data": {
      "image/png": "[encoded data removed]",
      "text/plain": [
       "<Figure size 432x288 with 1 Axes>"
      ]
     },
     "metadata": {
      "needs_background": "light"
     },
     "output_type": "display_data"
    }
   ],
   "source": [
    "for x in down:\n",
    "    plt.plot(x[0], x[1], linestyle=None, color='grey', marker='.', markersize=5)\n",
    "for x in up:\n",
    "    plt.plot(x[0], x[1], linestyle=None, color='red', marker='.', markersize=5)\n",
    "for x in lc:\n",
    "    plt.plot(x[0], x[1], linestyle=None, color='blue', marker='.', markersize=5)\n",
    "#plt.xlim(0.65,0.75)\n",
    "#plt.ylim(0,0.1)\n",
    "plt.show()"
   ]
  },
  {
   "cell_type": "code",
   "execution_count": 117,
   "metadata": {},
   "outputs": [
    {
     "name": "stdout",
     "output_type": "stream",
     "text": [
      "[0.655, 0.305] [0.66, 0.0]\n",
      "[0.66, 0.305] [0.665, 0.01]\n",
      "[0.665, 0.31] [0.67, 0.02]\n",
      "[0.67, 0.31] [0.675, 0.035]\n",
      "[0.675, 0.31] [0.68, 0.045]\n",
      "[0.68, 0.315] [0.685, 0.065]\n",
      "[0.685, 0.315] [0.6900000000000001, 0.08]\n",
      "[0.6900000000000001, 0.32] [0.6950000000000001, 0.1]\n",
      "[0.6950000000000001, 0.32] [0.7000000000000001, 0.115]\n"
     ]
    },
    {
     "data": {
      "image/png": "[encoded data removed]",
      "text/plain": [
       "<Figure size 432x288 with 1 Axes>"
      ]
     },
     "metadata": {
      "needs_background": "light"
     },
     "output_type": "display_data"
    }
   ],
   "source": [
    "boundary_down = []\n",
    "\n",
    "for e in range_e:\n",
    "    for d in range(len(lc)-1):\n",
    "        if lc[d][0] == e:\n",
    "            if lc[d+1][0] > e:\n",
    "                if lc[d][1] == range_i[-1]:\n",
    "                    break\n",
    "                boundary_down.append(lc[d])\n",
    "                if 0.65 < e and e < 0.7:\n",
    "                    print(lc[d], lc[d+1])\n",
    "                break\n",
    "                                \n",
    "boundary_up = []\n",
    "\n",
    "for e in range_e:\n",
    "    for d in range(len(up)-1):\n",
    "        if up[d][0] == e:\n",
    "            if up[d+1][0] > e:\n",
    "                if up[d][1] == range_i[-1]:\n",
    "                    break\n",
    "                boundary_up.append(up[d])\n",
    "                break\n",
    "    \n",
    "for x in boundary_down:\n",
    "    plt.plot(x[0], x[1], linestyle=None, color='grey', marker='.', markersize=2)\n",
    "for x in boundary_up:\n",
    "    plt.plot(x[0], x[1], linestyle=None, color='red', marker='.', markersize=2) \n",
    "#plt.xlim(0.65,0.75)\n",
    "#plt.ylim(0,0.1)\n",
    "plt.show()"
   ]
  },
  {
   "cell_type": "code",
   "execution_count": 119,
   "metadata": {},
   "outputs": [],
   "source": [
    "file = open('boundary_adaptation.pickle',\"wb\")\n",
    "pickle.dump([boundary_down, boundary_up], file)"
   ]
  },
  {
   "cell_type": "code",
   "execution_count": null,
   "metadata": {},
   "outputs": [],
   "source": []
  }
 ],
 "metadata": {
  "kernelspec": {
   "display_name": "Python 3 (ipykernel)",
   "language": "python",
   "name": "python3"
  },
  "language_info": {
   "codemirror_mode": {
    "name": "ipython",
    "version": 3
   },
   "file_extension": ".py",
   "mimetype": "text/x-python",
   "name": "python",
   "nbconvert_exporter": "python",
   "pygments_lexer": "ipython3",
   "version": "3.9.7"
  }
 },
 "nbformat": 4,
 "nbformat_minor": 4
}
