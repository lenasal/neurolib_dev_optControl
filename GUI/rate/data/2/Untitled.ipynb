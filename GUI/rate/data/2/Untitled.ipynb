{
 "cells": [
  {
   "cell_type": "code",
   "execution_count": 53,
   "id": "34a164df",
   "metadata": {},
   "outputs": [
    {
     "name": "stdout",
     "output_type": "stream",
     "text": [
      "0.5667607758276165\n",
      "32.473000448482594\n"
     ]
    }
   ],
   "source": [
    "import numpy as np\n",
    "\n",
    "alpha = np.arccos( 300./ (711.2/2.) )\n",
    "print(alpha)\n",
    "print(alpha*180./np.pi)"
   ]
  },
  {
   "cell_type": "code",
   "execution_count": 64,
   "id": "bd55e0c6",
   "metadata": {},
   "outputs": [
    {
     "name": "stdout",
     "output_type": "stream",
     "text": [
      "21.934758155230593\n"
     ]
    }
   ],
   "source": [
    "result0 = 26.*np.cos(alpha)\n",
    "print(result0)"
   ]
  },
  {
   "cell_type": "code",
   "execution_count": 61,
   "id": "64712e90",
   "metadata": {},
   "outputs": [],
   "source": [
    "result1 = result / np.tan(alpha)\n",
    "print(result1)"
   ]
  },
  {
   "cell_type": "code",
   "execution_count": 62,
   "id": "7a435135",
   "metadata": {},
   "outputs": [],
   "source": [
    "result2 = 26.*np.sin(alpha)\n",
    "print(result2)"
   ]
  },
  {
   "cell_type": "code",
   "execution_count": 63,
   "id": "d0c19468",
   "metadata": {},
   "outputs": [
    {
     "data": {
      "text/plain": [
       "48.425959226673115"
      ]
     },
     "execution_count": 63,
     "metadata": {},
     "output_type": "execute_result"
    }
   ],
   "source": [
    "result1 + result2"
   ]
  },
  {
   "cell_type": "code",
   "execution_count": 66,
   "id": "af8e93e9",
   "metadata": {},
   "outputs": [],
   "source": [
    "result3 = result0/np.sin(alpha)"
   ]
  },
  {
   "cell_type": "code",
   "execution_count": 68,
   "id": "bce9a306",
   "metadata": {},
   "outputs": [],
   "source": [
    "result4 = result3 + 98.197"
   ]
  },
  {
   "cell_type": "code",
   "execution_count": 69,
   "id": "f22b208d",
   "metadata": {},
   "outputs": [
    {
     "data": {
      "text/plain": [
       "117.30986752851514"
      ]
     },
     "execution_count": 69,
     "metadata": {},
     "output_type": "execute_result"
    }
   ],
   "source": [
    "result4 * np.cos(alpha)"
   ]
  },
  {
   "cell_type": "code",
   "execution_count": 70,
   "id": "4a797189",
   "metadata": {},
   "outputs": [
    {
     "data": {
      "text/plain": [
       "74.65693528442898"
      ]
     },
     "execution_count": 70,
     "metadata": {},
     "output_type": "execute_result"
    }
   ],
   "source": [
    "result4 * np.sin(alpha)"
   ]
  },
  {
   "cell_type": "code",
   "execution_count": 26,
   "id": "0fa5588c",
   "metadata": {},
   "outputs": [],
   "source": [
    "h = np.sin(np.pi/2.-alpha) * 18\n",
    "p = np.cos(np.pi/2.-alpha) * 18"
   ]
  },
  {
   "cell_type": "code",
   "execution_count": 32,
   "id": "ab234881",
   "metadata": {},
   "outputs": [
    {
     "data": {
      "text/plain": [
       "12.096215606755793"
      ]
     },
     "execution_count": 32,
     "metadata": {},
     "output_type": "execute_result"
    }
   ],
   "source": [
    "np.sqrt( (26./np.sin(alpha))**2 - 26**2)"
   ]
  },
  {
   "cell_type": "code",
   "execution_count": 28,
   "id": "04f2ba6f",
   "metadata": {},
   "outputs": [
    {
     "data": {
      "text/plain": [
       "12.095990079361009"
      ]
     },
     "execution_count": 28,
     "metadata": {},
     "output_type": "execute_result"
    }
   ],
   "source": [
    "np.sqrt(28.676**2 - 26.**2)"
   ]
  },
  {
   "cell_type": "code",
   "execution_count": 31,
   "id": "f0bfa24f",
   "metadata": {},
   "outputs": [
    {
     "data": {
      "text/plain": [
       "10.9673790776153"
      ]
     },
     "execution_count": 31,
     "metadata": {},
     "output_type": "execute_result"
    }
   ],
   "source": [
    "26. * np.cos(alpha)"
   ]
  },
  {
   "cell_type": "code",
   "execution_count": 38,
   "id": "9a381d54",
   "metadata": {},
   "outputs": [
    {
     "data": {
      "text/plain": [
       "75.19990617982998"
      ]
     },
     "execution_count": 38,
     "metadata": {},
     "output_type": "execute_result"
    }
   ],
   "source": [
    "28.676 + 100/np.tan(alpha)"
   ]
  },
  {
   "cell_type": "code",
   "execution_count": 45,
   "id": "5bc7f2c9",
   "metadata": {},
   "outputs": [
    {
     "data": {
      "text/plain": [
       "616.524"
      ]
     },
     "execution_count": 45,
     "metadata": {},
     "output_type": "execute_result"
    }
   ],
   "source": [
    "46.524 + 600 - 30"
   ]
  },
  {
   "cell_type": "code",
   "execution_count": null,
   "id": "e23e2a8c",
   "metadata": {},
   "outputs": [],
   "source": []
  }
 ],
 "metadata": {
  "kernelspec": {
   "display_name": "Python 3 (ipykernel)",
   "language": "python",
   "name": "python3"
  },
  "language_info": {
   "codemirror_mode": {
    "name": "ipython",
    "version": 3
   },
   "file_extension": ".py",
   "mimetype": "text/x-python",
   "name": "python",
   "nbconvert_exporter": "python",
   "pygments_lexer": "ipython3",
   "version": "3.9.5"
  }
 },
 "nbformat": 4,
 "nbformat_minor": 5
}
