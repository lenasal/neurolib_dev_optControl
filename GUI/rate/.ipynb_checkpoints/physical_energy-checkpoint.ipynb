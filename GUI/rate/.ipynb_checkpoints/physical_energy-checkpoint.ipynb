{
 "cells": [
  {
   "cell_type": "code",
   "execution_count": 13,
   "metadata": {},
   "outputs": [
    {
     "name": "stdout",
     "output_type": "stream",
     "text": [
      "The autoreload extension is already loaded. To reload it, use:\n",
      "  %reload_ext autoreload\n"
     ]
    }
   ],
   "source": [
    "import os\n",
    "import pickle\n",
    "import sys\n",
    "import numpy as np\n",
    "\n",
    "path = os.getcwd().split(os.sep + 'GUI')[0]\n",
    "if path not in sys.path:\n",
    "    sys.path.append(path)\n",
    "\n",
    "import neurolib.energy.control_energy as ce\n",
    "from neurolib.models.aln import ALNModel\n",
    "\n",
    "%load_ext autoreload\n",
    "%autoreload 2   "
   ]
  },
  {
   "cell_type": "code",
   "execution_count": 35,
   "metadata": {},
   "outputs": [
    {
     "name": "stdout",
     "output_type": "stream",
     "text": [
      "file found\n",
      "file found\n"
     ]
    }
   ],
   "source": [
    "### physical energy of current control\n",
    "# TASK 1\n",
    "\n",
    "readfile_ = '.' + os.sep + 'data_final_current' + os.sep + 'control_1.pickle'\n",
    "\n",
    "if os.path.isfile(readfile_) :\n",
    "    print(\"file found\")\n",
    "    \n",
    "    with open(readfile_,'rb') as f:\n",
    "        load_array = pickle.load(f)\n",
    "\n",
    "    control_current = [None] * len(load_array[0])\n",
    "    \n",
    "    for i in range(len(control_)):\n",
    "        control_current[i] = load_array[0][i]\n",
    "        \n",
    "readfile_ = '.' + os.sep + 'data_final_rate' + os.sep + 'control_3.pickle'\n",
    "\n",
    "if os.path.isfile(readfile_) :\n",
    "    print(\"file found\")\n",
    "    \n",
    "    with open(readfile_,'rb') as f:\n",
    "        load_array = pickle.load(f)\n",
    "\n",
    "    control_rate = [None] * len(load_array[0])\n",
    "    \n",
    "    for i in range(len(control_)):\n",
    "        control_rate[i] = load_array[0][i]\n",
    "\n",
    "aln = ALNModel()"
   ]
  },
  {
   "cell_type": "code",
   "execution_count": 31,
   "metadata": {},
   "outputs": [
    {
     "name": "stdout",
     "output_type": "stream",
     "text": [
      "Total ATP molecules, max. ATP per second : 7.231e+12 , 3.211e+08\n"
     ]
    }
   ],
   "source": [
    "res = ce.current_metabolic_node_channel(aln, control_current[0], 1e6, 0, 1)\n",
    "print(\"Total ATP molecules, max. ATP per second : {:.3e}\".format(res[0]), \", {:.3e}\".format(res[1]) )"
   ]
  },
  {
   "cell_type": "code",
   "execution_count": 46,
   "metadata": {},
   "outputs": [
    {
     "name": "stdout",
     "output_type": "stream",
     "text": [
      "21.113097540795682\n",
      "Total Energy in Joule, ATP molecules : 5.278e-06\n"
     ]
    }
   ],
   "source": [
    "tc = np.zeros((1,6,5001))\n",
    "tc[0,3,1000:2000] = 100.\n",
    "\n",
    "res = ce.rate_spike_generation(aln, control_rate[30], 1e0, 0, 3)\n",
    "#res = ce.rate_spike_generation(aln, tc, 1e0, 0., 0, 3)\n",
    "\n",
    "print(\"Total Energy in Joule, ATP molecules : {:.3e}\".format(res[0]) , \", {:.3e}\".format(res[1]) )"
   ]
  },
  {
   "cell_type": "code",
   "execution_count": null,
   "metadata": {},
   "outputs": [],
   "source": []
  }
 ],
 "metadata": {
  "interpreter": {
   "hash": "916dbcbb3f70747c44a77c7bcd40155683ae19c65e1c03b4aa3499c5328201f1"
  },
  "kernelspec": {
   "display_name": "Python 3 (ipykernel)",
   "language": "python",
   "name": "python3"
  },
  "language_info": {
   "codemirror_mode": {
    "name": "ipython",
    "version": 3
   },
   "file_extension": ".py",
   "mimetype": "text/x-python",
   "name": "python",
   "nbconvert_exporter": "python",
   "pygments_lexer": "ipython3",
   "version": "3.9.5"
  }
 },
 "nbformat": 4,
 "nbformat_minor": 4
}
