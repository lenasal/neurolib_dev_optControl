{
 "cells": [
  {
   "cell_type": "code",
   "execution_count": 1,
   "metadata": {},
   "outputs": [],
   "source": [
    "#Scenario 2: bistable state\n",
    "#2.1.a: short simulation duration, constant target\n",
    "#2.1.b: long simulation duration, constant target\n",
    "#2.2.a: short simulation duration, sin target\n",
    "#2.2.b: long simulation duration, sin target"
   ]
  },
  {
   "cell_type": "code",
   "execution_count": 2,
   "metadata": {},
   "outputs": [
    {
     "name": "stdout",
     "output_type": "stream",
     "text": [
      "The autoreload extension is already loaded. To reload it, use:\n",
      "  %reload_ext autoreload\n"
     ]
    }
   ],
   "source": [
    "# change to the root directory of the project\n",
    "import os\n",
    "if os.getcwd().split(os.sep)[-1] == \"examples\":\n",
    "    os.chdir('..')\n",
    "    \n",
    "path = os.getcwd()\n",
    "import sys\n",
    "if path not in sys.path:\n",
    "    sys.path.append(path)\n",
    "    \n",
    "# This will reload all imports as soon as the code changes\n",
    "%load_ext autoreload\n",
    "%autoreload 2    \n",
    "\n",
    "import matplotlib.pyplot as plt\n",
    "import numpy as np\n",
    "#import testing"
   ]
  },
  {
   "cell_type": "code",
   "execution_count": 3,
   "metadata": {},
   "outputs": [],
   "source": [
    "# Let's import the aln model\n",
    "from neurolib.models.aln import ALNModel\n",
    "\n",
    "# Some useful functions are provided here\n",
    "import neurolib.utils.functions as func\n",
    "\n",
    "aln = ALNModel()"
   ]
  },
  {
   "cell_type": "code",
   "execution_count": 4,
   "metadata": {},
   "outputs": [],
   "source": [
    "def plot_rate(model, control_, target_ = None):\n",
    "    aln.run( control = control_ )\n",
    "    time = model['t']\n",
    "\n",
    "    fig, ax = plt.subplots()\n",
    "\n",
    "    ax.plot(time, model['rates_exc'].T, lw=2, c='k', label='Exc activity')\n",
    "    ax.set_xlabel(\"t [ms]\")\n",
    "    ax.set_ylabel(\"Rate [Hz]\")\n",
    "    ax.set_xlim([0,model.params['duration']])\n",
    "    \n",
    "    if type(target_) != type(None):\n",
    "        ax.plot(time, target_[0,0,:], lw=2, c='yellow', label='Target')\n",
    "\n",
    "    #ax2 = ax.twinx()\n",
    "    #ax2.plot(time, control_[0,0,:]/5., lw=1, c='red', label='Exc control')\n",
    "    #ax2.plot(time, control_[0,1,:]/5., lw=1, c='blue', label='Inh control')\n",
    "    #ax2.set_xlabel(\"t [ms]\")\n",
    "    #ax2.set_ylabel(\"Control current [nA]\")\n",
    "\n",
    "    plt.legend()\n",
    "    plt.show()"
   ]
  },
  {
   "cell_type": "code",
   "execution_count": 5,
   "metadata": {},
   "outputs": [
    {
     "name": "stdout",
     "output_type": "stream",
     "text": [
      "bistable state\n"
     ]
    },
    {
     "data": {
      "image/png": "[encoded data removed]",
      "text/plain": [
       "<Figure size 432x288 with 1 Axes>"
      ]
     },
     "metadata": {},
     "output_type": "display_data"
    }
   ],
   "source": [
    "#initialize model\n",
    "\n",
    "def set_aln_init_zero():\n",
    "    N = aln.params.N\n",
    "    aln.params.mufe_init = 0 * np.random.uniform(0, 1, (N,))  # mV/ms\n",
    "    aln.params.mufi_init = 0 * np.random.uniform(0, 1, (N,))  # mV/ms\n",
    "    aln.params.seem_init = 0. * np.random.uniform(0, 1, (N,))\n",
    "    aln.params.seim_init = 0. * np.random.uniform(0, 1, (N,))\n",
    "    aln.params.seev_init = 0. * np.random.uniform(0, 1, (N,))\n",
    "    aln.params.seiv_init = 0. * np.random.uniform(0, 1, (N,))\n",
    "    aln.params.siim_init = 0. * np.random.uniform(0, 1, (N,))\n",
    "    aln.params.siem_init = 0. * np.random.uniform(0, 1, (N,))\n",
    "    aln.params.siiv_init = 0. * np.random.uniform(0, 1, (N,))\n",
    "    aln.params.siev_init = 0. * np.random.uniform(0, 1, (N,))\n",
    "    aln.params.rates_exc_init = 0. * np.random.uniform(0, 1, (N, 1))\n",
    "    aln.params.rates_inh_init = 0. * np.random.uniform(0, 1, (N, 1))\n",
    "    aln.params.IA_init = 0.0 * np.zeros((N, 1))  # pA\n",
    "    aln.params.mue_ou = 0. * np.random.uniform(0, 1, (N,))\n",
    "    aln.params.mui_ou = 0. * np.random.uniform(0, 1, (N,))\n",
    "\n",
    "# reads final state of model dynamics\n",
    "# set before simulation such that system begins in stable state\n",
    "def read_state():\n",
    "    init_state_vars = np.zeros(( len(state_vars) ))\n",
    "    for j in range(len(state_vars)):\n",
    "        if aln.state[state_vars[j]].size == 1:\n",
    "            init_state_vars[j] = aln.state[state_vars[j]][0]\n",
    "        else:\n",
    "            init_state_vars[j] = aln.state[state_vars[j]][0,-1]\n",
    "    return init_state_vars\n",
    "    \n",
    "aln = ALNModel()\n",
    "set_aln_init_zero()\n",
    "aln.params.a = 0. # no adaptation\n",
    "aln.params.b = 0. # no adaptation\n",
    "aln.params.ext_exc_current = 0.\n",
    "aln.params.ext_inh_current = 0.\n",
    "aln.params['duration'] = 1000. \n",
    "\n",
    "control0 = aln.getZeroControl()\n",
    "control0[0,0,1000:2000] = 5.\n",
    "control0[0,0,5000:6000] = -5.\n",
    "\n",
    "state_vars = aln.state_vars\n",
    "\n",
    "# bistable state\n",
    "print(\"bistable state\")\n",
    "aln.params.mue_ext_mean = 0.5 * 5.\n",
    "aln.params.mui_ext_mean = 0.5 * 5.\n",
    "    \n",
    "plot_rate(aln, control0)\n",
    "init_bi_down = read_state()"
   ]
  },
  {
   "cell_type": "code",
   "execution_count": 6,
   "metadata": {},
   "outputs": [],
   "source": [
    " # to set initial parameters\n",
    "def setinit(init_vars_, model):\n",
    "    \n",
    "    for iv in range(len(model.init_vars)):\n",
    "        for sv in range(len(model.state_vars)):\n",
    "            if model.state_vars[sv] in model.init_vars[iv]:\n",
    "                if model.params[model.init_vars[iv]].ndim == 2:\n",
    "                    model.params[model.init_vars[iv]][0,:] = init_vars_[sv]\n",
    "                else:\n",
    "                    model.params[model.init_vars[iv]][0] = init_vars_[sv]"
   ]
  },
  {
   "cell_type": "code",
   "execution_count": 7,
   "metadata": {},
   "outputs": [
    {
     "data": {
      "image/png": "[encoded data removed]",
      "text/plain": [
       "<Figure size 432x288 with 1 Axes>"
      ]
     },
     "metadata": {},
     "output_type": "display_data"
    }
   ],
   "source": [
    "# fixed initialization should imply reproducibility, try also for other cases\n",
    "\n",
    "aln = ALNModel()\n",
    "set_aln_init_zero()\n",
    "aln.params.a = 0. # no adaptation\n",
    "aln.params.b = 0. # no adaptation\n",
    "aln.params.ext_exc_current = 0.\n",
    "aln.params.ext_inh_current = 0.\n",
    "aln.params['duration'] = 1000. \n",
    "aln.params.mue_ext_mean = 0.5 * 5.  # try also other cases parameters\n",
    "aln.params.mui_ext_mean = 0.5 * 5.\n",
    "setinit(init_bi_down, aln)\n",
    "\n",
    "control0 = aln.getZeroControl()\n",
    "plot_rate(aln, control0)"
   ]
  },
  {
   "cell_type": "code",
   "execution_count": 8,
   "metadata": {},
   "outputs": [],
   "source": [
    "# set parameters\n",
    "tol = 1e-12 # algorithm tolerance for convergence\n",
    "\n",
    "start_step = 10. # start step of gradient descent\n",
    "\n",
    "c_scheme = np.zeros(( 1,1 )) # coupling scheme, only relevant for networks\n",
    "c_scheme[0,0] = 1. # coupling scheme, only relevant for networks\n",
    "u_mat = np.identity(1) # control matrix\n",
    "u_scheme = np.array([[1.]]) # control scheme\n",
    "\n",
    "max_it = 1000 # maximum number of iterations\n",
    "\n",
    "max_cntrl = [5., 5., 0., 0., 0., 0.] # maximum value of control current in input nodes (exc current, inh current, rates)\n",
    "min_cntrl = [-5., -5., 0., 0., 0., 0.]\n",
    "\n",
    "cgv_list = [None, \"HS\", \"FR\", \"PR\", \"CD\", \"LS\", \"DY\", \"WYL\", \"HZ\"] # different gradient descent methods\n",
    "cgv = cgv_list[0]"
   ]
  },
  {
   "cell_type": "code",
   "execution_count": 10,
   "metadata": {},
   "outputs": [],
   "source": [
    "# scenario 2.1.a\n",
    "# const target, short sim time\n",
    "dur = 20. # simulation duration\n",
    "aln.params.duration = dur\n",
    "setinit(init_bi_down, aln)\n",
    "\n",
    "control0 = aln.getZeroControl()\n",
    "control0[0,0,1000:2000] = 0.1\n",
    "\n",
    "target_const = aln.getZeroTarget()\n",
    "target_const[0,0,:] = 50\n",
    "\n",
    "# oscillation should be somewhat realistic, so roughly like what we find in stable oscillatory states.\n",
    "# One period is roughly 40ms\n",
    "target_osc = aln.getZeroTarget()\n",
    "x_osc = np.arange(0.,dur+aln.params.dt,aln.params.dt)\n",
    "target_osc[0,0,:] = 25. + 25. * np.sin(0.2 * x_osc)"
   ]
  },
  {
   "cell_type": "code",
   "execution_count": 12,
   "metadata": {
    "scrolled": true
   },
   "outputs": [
    {
     "name": "stderr",
     "output_type": "stream",
     "text": [
      "ERROR:root:Not possible to set up initial conditions without sufficient simulation time before control\n"
     ]
    },
    {
     "name": "stdout",
     "output_type": "stream",
     "text": [
      "interpolate adjoint :  True True True\n"
     ]
    },
    {
     "name": "stderr",
     "output_type": "stream",
     "text": [
      "C:\\Users\\lenas\\anaconda3\\lib\\site-packages\\numba\\core\\ir_utils.py:2031: NumbaPendingDeprecationWarning: \u001b[1m\n",
      "Encountered the use of a type that is scheduled for deprecation: type 'reflected list' found for argument 'max_control_' of function 'setmaxcontrol'.\n",
      "\n",
      "For more information visit http://numba.pydata.org/numba-doc/latest/reference/deprecation.html#deprecation-of-reflection-for-list-and-set-types\n",
      "\u001b[1m\n",
      "File \"..\\..\\neurolib\\neurolib\\utils\\func_optimize.py\", line 132:\u001b[0m\n",
      "\u001b[1m@numba.njit\n",
      "\u001b[1mdef setmaxcontrol(n_control_vars, control_, max_control_, min_control_):\n",
      "\u001b[0m\u001b[1m^\u001b[0m\u001b[0m\n",
      "\u001b[0m\n",
      "  warnings.warn(NumbaPendingDeprecationWarning(msg, loc=loc))\n",
      "C:\\Users\\lenas\\anaconda3\\lib\\site-packages\\numba\\core\\ir_utils.py:2031: NumbaPendingDeprecationWarning: \u001b[1m\n",
      "Encountered the use of a type that is scheduled for deprecation: type 'reflected list' found for argument 'min_control_' of function 'setmaxcontrol'.\n",
      "\n",
      "For more information visit http://numba.pydata.org/numba-doc/latest/reference/deprecation.html#deprecation-of-reflection-for-list-and-set-types\n",
      "\u001b[1m\n",
      "File \"..\\..\\neurolib\\neurolib\\utils\\func_optimize.py\", line 132:\u001b[0m\n",
      "\u001b[1m@numba.njit\n",
      "\u001b[1mdef setmaxcontrol(n_control_vars, control_, max_control_, min_control_):\n",
      "\u001b[0m\u001b[1m^\u001b[0m\u001b[0m\n",
      "\u001b[0m\n",
      "  warnings.warn(NumbaPendingDeprecationWarning(msg, loc=loc))\n",
      "WARNING:root:Cost parameters not found, set default values.\n"
     ]
    },
    {
     "name": "stdout",
     "output_type": "stream",
     "text": [
      "set default params\n",
      "RUN  0 , total integrated cost =  18746.69450533585\n",
      "Gradient descend method:  None\n",
      "RUN  1 , total integrated cost =  6980.776572127541\n",
      "RUN  2 , total integrated cost =  5483.307313917221\n",
      "RUN  3 , total integrated cost =  4128.845639963405\n",
      "RUN  4 , total integrated cost =  3527.908519746807\n",
      "RUN  5 , total integrated cost =  2293.773669662438\n",
      "RUN  6 , total integrated cost =  1999.261389362899\n",
      "RUN  7 , total integrated cost =  1099.2412019026917\n",
      "RUN  8 , total integrated cost =  868.9442787221919\n",
      "RUN  9 , total integrated cost =  680.3495579396726\n",
      "RUN  10 , total integrated cost =  596.764666135937\n",
      "RUN  11 , total integrated cost =  405.32507522704185\n",
      "RUN  12 , total integrated cost =  325.56379857381074\n",
      "RUN  13 , total integrated cost =  158.81703489099652\n",
      "RUN  14 , total integrated cost =  132.6794246197697\n",
      "RUN  15 , total integrated cost =  123.53742547304648\n",
      "RUN  16 , total integrated cost =  111.63129220839622\n",
      "RUN  17 , total integrated cost =  106.17087154496409\n",
      "RUN  18 , total integrated cost =  87.57416087349345\n",
      "RUN  19 , total integrated cost =  77.9469696084652\n",
      "RUN  20 , total integrated cost =  61.64968836309449\n",
      "RUN  30 , total integrated cost =  43.90033372204024\n",
      "RUN  40 , total integrated cost =  42.45943842200873\n",
      "RUN  50 , total integrated cost =  42.45842707896955\n",
      "RUN  60 , total integrated cost =  42.4584269149405\n",
      "RUN  70 , total integrated cost =  42.45842691470828\n",
      "Control only changes marginally.\n",
      "RUN  74 , total integrated cost =  42.458426914707935\n",
      "Improved over  74  iterations in  12.699748700000015  seconds by  99.77351512874644  percent.\n"
     ]
    },
    {
     "name": "stderr",
     "output_type": "stream",
     "text": [
      "ERROR:root:Not possible to set up initial conditions without sufficient simulation time before control\n"
     ]
    },
    {
     "name": "stdout",
     "output_type": "stream",
     "text": [
      "interpolate adjoint :  True True True\n",
      "RUN  0 , total integrated cost =  18746.69450533585\n",
      "Gradient descend method:  HS\n",
      "RUN  1 , total integrated cost =  6980.776572127541\n",
      "RUN  2 , total integrated cost =  6784.440430755146\n",
      "RUN  3 , total integrated cost =  4413.718901153126\n",
      "RUN  4 , total integrated cost =  3283.6971150222066\n",
      "RUN  5 , total integrated cost =  2369.037217126357\n",
      "RUN  6 , total integrated cost =  1924.3261398775098\n",
      "RUN  7 , total integrated cost =  1225.59569564733\n",
      "RUN  8 , total integrated cost =  848.7840469360123\n",
      "RUN  9 , total integrated cost =  550.8910459533618\n",
      "RUN  10 , total integrated cost =  375.4402211394147\n",
      "RUN  11 , total integrated cost =  199.10343290841377\n",
      "RUN  12 , total integrated cost =  163.91908842177136\n",
      "RUN  13 , total integrated cost =  118.77492124198518\n",
      "RUN  14 , total integrated cost =  96.28556943523972\n",
      "RUN  15 , total integrated cost =  79.99338482206403\n",
      "RUN  16 , total integrated cost =  66.37508576172002\n",
      "RUN  17 , total integrated cost =  58.60148948197754\n",
      "RUN  18 , total integrated cost =  55.13244904913644\n",
      "RUN  19 , total integrated cost =  51.489440954235455\n",
      "RUN  20 , total integrated cost =  49.177312700180885\n",
      "RUN  30 , total integrated cost =  40.96257686261018\n",
      "RUN  40 , total integrated cost =  40.325629905200394\n",
      "RUN  50 , total integrated cost =  40.32559945258527\n",
      "RUN  60 , total integrated cost =  40.32559243695602\n",
      "RUN  70 , total integrated cost =  40.32555876628539\n",
      "RUN  80 , total integrated cost =  40.14040432572385\n",
      "RUN  "
     ]
    },
    {
     "name": "stderr",
     "output_type": "stream",
     "text": [
      "ERROR:root:Not possible to set up initial conditions without sufficient simulation time before control\n"
     ]
    },
    {
     "name": "stdout",
     "output_type": "stream",
     "text": [
      "90 , total integrated cost =  39.99528982970245\n",
      "RUN  100 , total integrated cost =  39.99439735087058\n",
      "Control only changes marginally.\n",
      "RUN  105 , total integrated cost =  39.994397350869605\n",
      "Improved over  105  iterations in  1.0395518999999922  seconds by  99.78665893691559  percent.\n",
      "interpolate adjoint :  True True True\n",
      "RUN  0 , total integrated cost =  18746.69450533585\n",
      "Gradient descend method:  FR\n"
     ]
    },
    {
     "name": "stderr",
     "output_type": "stream",
     "text": [
      "ERROR:root:Not possible to set up initial conditions without sufficient simulation time before control\n",
      "ERROR:root:Not possible to set up initial conditions without sufficient simulation time before control\n"
     ]
    },
    {
     "name": "stdout",
     "output_type": "stream",
     "text": [
      "RUN  1 , total integrated cost =  6980.776572127541\n",
      "RUN  2 , total integrated cost =  6980.776572127541\n",
      "Control only changes marginally.\n",
      "RUN  2 , total integrated cost =  6980.776572127541\n",
      "Improved over  2  iterations in  0.0660107999999866  seconds by  62.76262692529283  percent.\n",
      "interpolate adjoint :  True True True\n",
      "RUN  0 , total integrated cost =  18746.69450533585\n",
      "Gradient descend method:  PR\n",
      "RUN  1 , total integrated cost =  6980.776572127541\n",
      "RUN  2 , total integrated cost =  6980.776572127541\n",
      "Control only changes marginally.\n",
      "RUN  2 , total integrated cost =  6980.776572127541\n",
      "Improved over  2  iterations in  0.06164259999999899  seconds by  62.76262692529283  percent.\n",
      "interpolate adjoint :  True True True\n",
      "RUN  0 , total integrated cost =  18746.69450533585\n",
      "Gradient descend method:  CD\n",
      "RUN  1 , total integrated cost =  6980.776572127541\n",
      "RUN  2 , total integrated cost =  6980.776572127541\n",
      "Control only changes marginally.\n"
     ]
    },
    {
     "name": "stderr",
     "output_type": "stream",
     "text": [
      "ERROR:root:Not possible to set up initial conditions without sufficient simulation time before control\n",
      "ERROR:root:Not possible to set up initial conditions without sufficient simulation time before control\n"
     ]
    },
    {
     "name": "stdout",
     "output_type": "stream",
     "text": [
      "RUN  2 , total integrated cost =  6980.776572127541\n",
      "Improved over  2  iterations in  0.06231719999999541  seconds by  62.76262692529283  percent.\n",
      "interpolate adjoint :  True True True\n",
      "RUN  0 , total integrated cost =  18746.69450533585\n",
      "Gradient descend method:  LS\n",
      "RUN  1 , total integrated cost =  6980.776572127541\n",
      "RUN  2 , total integrated cost =  6980.776572127541\n",
      "Control only changes marginally.\n",
      "RUN  2 , total integrated cost =  6980.776572127541\n",
      "Improved over  2  iterations in  0.061845299999987446  seconds by  62.76262692529283  percent.\n",
      "interpolate adjoint :  True True True\n",
      "RUN  0 , total integrated cost =  18746.69450533585\n",
      "Gradient descend method:  DY\n",
      "RUN  1 , total integrated cost =  6980.776572127541\n",
      "RUN  2 , total integrated cost =  6783.6201575644245\n",
      "RUN  3 , total integrated cost =  6685.044106223148\n",
      "RUN  4 , total integrated cost =  6646.517839197381\n",
      "RUN  5 , total integrated cost =  6630.484184437097\n",
      "RUN  6 , total integrated cost =  6623.147411234434\n",
      "RUN  7 , total integrated cost =  6614.878849764227\n",
      "RUN  8 , total integrated cost =  6614.62454518927\n",
      "RUN  9 , total integrated cost =  6614.451367823014\n",
      "RUN  10 , total integrated cost =  6613.5508803194\n"
     ]
    },
    {
     "name": "stderr",
     "output_type": "stream",
     "text": [
      "ERROR:root:Not possible to set up initial conditions without sufficient simulation time before control\n",
      "D:\\Promotion\\neurolib\\neurolib\\utils\\func_optimize.py:478: RuntimeWarning: invalid value encountered in double_scalars\n",
      "  numerator = np.dot( grad1_[n,v,:], grad1_[n,v,:] - grad0_[n,v,:] * ( g1abs / g0abs ) )\n",
      "ERROR:root:Not possible to set up initial conditions without sufficient simulation time before control\n"
     ]
    },
    {
     "name": "stdout",
     "output_type": "stream",
     "text": [
      "RUN  11 , total integrated cost =  6613.481419616205\n",
      "RUN  12 , total integrated cost =  6613.429970186526\n",
      "RUN  13 , total integrated cost =  6613.356297655276\n",
      "RUN  14 , total integrated cost =  6613.344100543803\n",
      "RUN  15 , total integrated cost =  6613.339506350742\n",
      "RUN  16 , total integrated cost =  6613.326761767941\n",
      "RUN  17 , total integrated cost =  6610.187004358996\n",
      "RUN  18 , total integrated cost =  6610.187004358993\n",
      "Control only changes marginally.\n",
      "RUN  18 , total integrated cost =  6610.187004358993\n",
      "Improved over  18  iterations in  0.2276837999999941  seconds by  64.73945312077527  percent.\n",
      "interpolate adjoint :  True True True\n",
      "RUN  0 , total integrated cost =  18746.69450533585\n",
      "Gradient descend method:  WYL\n",
      "RUN  1 , total integrated cost =  6980.776572127541\n",
      "RUN  2 , total integrated cost =  6980.776572127541\n",
      "Control only changes marginally.\n",
      "RUN  2 , total integrated cost =  6980.776572127541\n",
      "Improved over  2  iterations in  0.061577400000004445  seconds by  62.76262692529283  percent.\n",
      "interpolate adjoint :  True True True\n",
      "RUN  0 , total integrated cost =  18746.69450533585\n",
      "Gradient descend method:  HZ\n",
      "RUN  1 , total integrated cost =  6980.776572127541\n",
      "RUN  2 , total integrated cost =  5483.314244166886\n",
      "RUN  3 , total integrated cost =  3958.770547682169\n",
      "RUN  4 , total integrated cost =  3086.317258466941\n",
      "RUN  5 , total integrated cost =  2077.2556823048285\n",
      "RUN  6 , total integrated cost =  1762.3245343209032\n",
      "RUN  7 , total integrated cost =  1276.2533778343052\n",
      "RUN  8 , total integrated cost =  800.6373254954046\n",
      "RUN  9 , total integrated cost =  659.0645492103675\n",
      "RUN  10 , total integrated cost =  328.68741570711603\n",
      "RUN  11 , total integrated cost =  272.0535313241538\n",
      "RUN  12 , total integrated cost =  184.3605963002023\n",
      "RUN  13 , total integrated cost =  162.42626230010143\n",
      "RUN  14 , total integrated cost =  145.8404846305093\n",
      "RUN  15 , total integrated cost =  113.37903074026006\n",
      "RUN  16 , total integrated cost =  103.25424150098623\n",
      "RUN  17 , total integrated cost =  98.54925191746132\n",
      "RUN  18 , total integrated cost =  71.94763944824295\n",
      "RUN  19 , total integrated cost =  66.79620688446518\n",
      "RUN  20 , total integrated cost =  65.34628920782387\n",
      "RUN  30 , total integrated cost =  43.568255930604096\n",
      "RUN  40 , total integrated cost =  42.25739779497599\n",
      "RUN  50 , total integrated cost =  41.679405236912345\n",
      "RUN  60 , total integrated cost =  41.679404007348765\n",
      "RUN  70 , total integrated cost =  41.67940400520679\n",
      "RUN  80 , total integrated cost =  41.67940400520284\n",
      "Control only changes marginally.\n",
      "RUN  84 , total integrated cost =  41.679404005202805\n",
      "Improved over  84  iterations in  0.9286546999999814  seconds by  99.77767065018668  percent.\n"
     ]
    }
   ],
   "source": [
    "#scenario 2.1.a\n",
    "\n",
    "max_it_ = 400\n",
    "cost_list_21a = []\n",
    "runtime_list_21a = []\n",
    "termination_it_21a = []\n",
    "best_control_list_21a = []\n",
    "\n",
    "for cgv_tmp in cgv_list:\n",
    "    setinit(init_bi_down, aln)\n",
    "    bestControl, bestState, cost, runtime, gradient, adjoint, costnode = aln.A1(\n",
    "        control0, target_const, c_scheme, u_mat, u_scheme, max_iteration_ = max_it, tolerance_ = tol,\n",
    "        startStep_ = start_step, max_control_ = max_cntrl, min_control_ = min_cntrl, t_sim_ = dur,\n",
    "        t_sim_pre_ = 0., t_sim_post_ = 0., CGVar = cgv_tmp, control_variables_ = [0],\n",
    "        prec_variables_ = [0], transition_time_ = 0.25)\n",
    "    \n",
    "    best_control_list_21a.append(bestControl)\n",
    "    cost_list_21a.append(cost)\n",
    "    runtime_list_21a.append(runtime)\n",
    "    \n",
    "    for cost_ind in range(len(cost)):\n",
    "        if cost[cost_ind] == 0.:\n",
    "            termination_it_21a.append(cost_ind-1)\n",
    "            break"
   ]
  },
  {
   "cell_type": "code",
   "execution_count": null,
   "metadata": {},
   "outputs": [],
   "source": [
    "for cgv_ind in range(len(cgv_list)):\n",
    "    plot_rate(aln, best_control_list_21a[cgv_ind], target_const)"
   ]
  },
  {
   "cell_type": "code",
   "execution_count": null,
   "metadata": {},
   "outputs": [],
   "source": [
    "marker_ = '.'\n",
    "markersize_ = 3\n",
    "linestyle_ = ''\n",
    "\n",
    "fig, ax = plt.subplots(2, figsize=(8,8))\n",
    "\n",
    "for i in range(len(termination_it_21a)):\n",
    "    ax[0].plot(runtime_list_21a[i][:termination_it_21a[i]], cost_list_21a[i][:termination_it_21a[i]], marker=marker_,\n",
    "             markersize = markersize_, linestyle=linestyle_, label = str(cgv_list[i]))\n",
    "    performance = []\n",
    "    for j in range(termination_it_21a[i]):\n",
    "        performance.append( 100. * ( cost_list_21a[i][0] - cost_list_21a[i][j]) / cost_list_21a[i][0] ) \n",
    "    ax[1].plot(runtime_list_21a[i][:termination_it_21a[i]], performance, marker=marker_,\n",
    "            markersize = markersize_, linestyle=linestyle_,\n",
    "            label = str(cgv_list[i]) + ', termination at {:.2f}'.format(performance[-1]) + '% after ' + str(termination_it_21a[i]) + ' iterations' )\n",
    "ax[0].legend()\n",
    "ax[0].set_xlabel('Runtime [s]')\n",
    "ax[0].set_ylabel('Cost')\n",
    "#ax[0].title.set_text('Cost per runtime')\n",
    "ax[1].legend()\n",
    "ax[1].set_xlabel('Runtime [s]')\n",
    "ax[1].set_ylabel('Improvement [%]')\n",
    "#ax[0].title.set_text('Cost per runtime')\n",
    "\n",
    "\n",
    "plt.show()"
   ]
  },
  {
   "cell_type": "code",
   "execution_count": null,
   "metadata": {
    "scrolled": true
   },
   "outputs": [],
   "source": [
    "#scenario 2.2.a\n",
    "\n",
    "max_it_ = 400\n",
    "cost_list_22a = []\n",
    "runtime_list_22a = []\n",
    "termination_it_22a = []\n",
    "best_control_list_22a = []\n",
    "\n",
    "for cgv_tmp in cgv_list:\n",
    "    setinit(init_bi, aln)\n",
    "    bestControl, bestState, cost, runtime, gradient, adjoint, costnode = aln.A1(\n",
    "        control0, target_osc, c_scheme, u_mat, u_scheme, max_iteration_ = max_it, tolerance_ = tol,\n",
    "        startStep_ = start_step, max_control_ = max_cntrl, min_control_ = min_cntrl, t_sim_ = dur,\n",
    "        t_sim_pre_ = 0., t_sim_post_ = 0., CGVar = cgv_tmp, control_variables_ = [0],\n",
    "        prec_variables_ = [0], transition_time_ = 0.25)\n",
    "    \n",
    "    best_control_list_22a.append(bestControl)\n",
    "    cost_list_22a.append(cost)\n",
    "    runtime_list_22a.append(runtime)\n",
    "    \n",
    "    for cost_ind in range(len(cost)):\n",
    "        if cost[cost_ind] == 0.:\n",
    "            termination_it_22a.append(cost_ind-1)\n",
    "            break"
   ]
  },
  {
   "cell_type": "code",
   "execution_count": null,
   "metadata": {},
   "outputs": [],
   "source": [
    "for cgv_ind in range(len(cgv_list)):\n",
    "    plot_rate(aln, best_control_list_22a[cgv_ind], target_osc)"
   ]
  },
  {
   "cell_type": "code",
   "execution_count": null,
   "metadata": {},
   "outputs": [],
   "source": [
    "marker_ = '.'\n",
    "markersize_ = 3\n",
    "linestyle_ = ''\n",
    "\n",
    "fig, ax = plt.subplots(2, figsize=(8,8))\n",
    "\n",
    "for i in range(len(termination_it_22a)):\n",
    "    ax[0].plot(runtime_list_22a[i][:termination_it_22a[i]], cost_list_22a[i][:termination_it_22a[i]], marker=marker_,\n",
    "             markersize = markersize_, linestyle=linestyle_, label = str(cgv_list[i]))\n",
    "    performance = []\n",
    "    for j in range(termination_it_22a[i]):\n",
    "        performance.append( 100. * ( cost_list_22a[i][0] - cost_list_22a[i][j]) / cost_list_22a[i][0] ) \n",
    "    ax[1].plot(runtime_list_22a[i][:termination_it_22a[i]], performance, marker=marker_,\n",
    "            markersize = markersize_, linestyle=linestyle_,\n",
    "            label = str(cgv_list[i]) + ', termination at {:.2f}'.format(performance[-1]) + '% after ' + str(termination_it_22a[i]) + ' iterations' )\n",
    "ax[0].legend()\n",
    "ax[0].set_xlabel('Runtime [s]')\n",
    "ax[0].set_ylabel('Cost')\n",
    "#ax[0].title.set_text('Cost per runtime')\n",
    "ax[1].legend()\n",
    "ax[1].set_xlabel('Runtime [s]')\n",
    "ax[1].set_ylabel('Improvement [%]')\n",
    "#ax[0].title.set_text('Cost per runtime')\n",
    "\n",
    "\n",
    "plt.show()"
   ]
  },
  {
   "cell_type": "code",
   "execution_count": null,
   "metadata": {},
   "outputs": [],
   "source": []
  }
 ],
 "metadata": {
  "kernelspec": {
   "display_name": "Python 3 (Spyder)",
   "language": "python3",
   "name": "python3"
  },
  "language_info": {
   "codemirror_mode": {
    "name": "ipython",
    "version": 3
   },
   "file_extension": ".py",
   "mimetype": "text/x-python",
   "name": "python",
   "nbconvert_exporter": "python",
   "pygments_lexer": "ipython3",
   "version": "3.7.6"
  }
 },
 "nbformat": 4,
 "nbformat_minor": 5
}
