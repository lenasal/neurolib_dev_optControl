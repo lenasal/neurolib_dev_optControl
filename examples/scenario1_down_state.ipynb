{
 "cells": [
  {
   "cell_type": "code",
   "execution_count": 1,
   "metadata": {},
   "outputs": [],
   "source": [
    "#Scenario 2: bistable state\n",
    "#2.1.a: short simulation duration, constant target\n",
    "#2.1.b: long simulation duration, constant target\n",
    "#2.2.a: short simulation duration, sin target\n",
    "#2.2.b: long simulation duration, sin target"
   ]
  },
  {
   "cell_type": "code",
   "execution_count": 2,
   "metadata": {},
   "outputs": [
    {
     "name": "stdout",
     "output_type": "stream",
     "text": [
      "The autoreload extension is already loaded. To reload it, use:\n",
      "  %reload_ext autoreload\n"
     ]
    }
   ],
   "source": [
    "# change to the root directory of the project\n",
    "import os\n",
    "if os.getcwd().split(os.sep)[-1] == \"examples\":\n",
    "    os.chdir('..')\n",
    "    \n",
    "path = os.getcwd()\n",
    "import sys\n",
    "if path not in sys.path:\n",
    "    sys.path.append(path)\n",
    "    \n",
    "# This will reload all imports as soon as the code changes\n",
    "%load_ext autoreload\n",
    "%autoreload 2    \n",
    "\n",
    "import matplotlib.pyplot as plt\n",
    "import numpy as np\n",
    "#import testing"
   ]
  },
  {
   "cell_type": "code",
   "execution_count": 3,
   "metadata": {},
   "outputs": [],
   "source": [
    "# Let's import the aln model\n",
    "from neurolib.models.aln import ALNModel\n",
    "\n",
    "# Some useful functions are provided here\n",
    "import neurolib.utils.functions as func\n",
    "\n",
    "aln = ALNModel()"
   ]
  },
  {
   "cell_type": "code",
   "execution_count": 4,
   "metadata": {},
   "outputs": [],
   "source": [
    "def plot_rate(model, control_, target_ = None):\n",
    "    aln.run( control = control_ )\n",
    "    time = model['t']\n",
    "\n",
    "    fig, ax = plt.subplots()\n",
    "\n",
    "    ax.plot(time, model['rates_exc'].T, lw=2, c='k', label='Exc activity')\n",
    "    ax.set_xlabel(\"t [ms]\")\n",
    "    ax.set_ylabel(\"Rate [Hz]\")\n",
    "    ax.set_xlim([0,model.params['duration']])\n",
    "    \n",
    "    if type(target_) != type(None):\n",
    "        ax.plot(time, target_[0,0,:], lw=2, c='yellow', label='Target')\n",
    "\n",
    "    #ax2 = ax.twinx()\n",
    "    #ax2.plot(time, control_[0,0,:]/5., lw=1, c='red', label='Exc control')\n",
    "    #ax2.plot(time, control_[0,1,:]/5., lw=1, c='blue', label='Inh control')\n",
    "    #ax2.set_xlabel(\"t [ms]\")\n",
    "    #ax2.set_ylabel(\"Control current [nA]\")\n",
    "\n",
    "    plt.legend()\n",
    "    plt.show()"
   ]
  },
  {
   "cell_type": "code",
   "execution_count": 5,
   "metadata": {},
   "outputs": [
    {
     "name": "stdout",
     "output_type": "stream",
     "text": [
      "down state\n"
     ]
    },
    {
     "data": {
      "image/png": "[encoded data removed]",
      "text/plain": [
       "<Figure size 432x288 with 1 Axes>"
      ]
     },
     "metadata": {},
     "output_type": "display_data"
    }
   ],
   "source": [
    "#initialize model\n",
    "\n",
    "def set_aln_init_zero():\n",
    "    N = aln.params.N\n",
    "    aln.params.mufe_init = 0 * np.random.uniform(0, 1, (N,))  # mV/ms\n",
    "    aln.params.mufi_init = 0 * np.random.uniform(0, 1, (N,))  # mV/ms\n",
    "    aln.params.seem_init = 0. * np.random.uniform(0, 1, (N,))\n",
    "    aln.params.seim_init = 0. * np.random.uniform(0, 1, (N,))\n",
    "    aln.params.seev_init = 0. * np.random.uniform(0, 1, (N,))\n",
    "    aln.params.seiv_init = 0. * np.random.uniform(0, 1, (N,))\n",
    "    aln.params.siim_init = 0. * np.random.uniform(0, 1, (N,))\n",
    "    aln.params.siem_init = 0. * np.random.uniform(0, 1, (N,))\n",
    "    aln.params.siiv_init = 0. * np.random.uniform(0, 1, (N,))\n",
    "    aln.params.siev_init = 0. * np.random.uniform(0, 1, (N,))\n",
    "    aln.params.rates_exc_init = 0. * np.random.uniform(0, 1, (N, 1))\n",
    "    aln.params.rates_inh_init = 0. * np.random.uniform(0, 1, (N, 1))\n",
    "    aln.params.IA_init = 0.0 * np.zeros((N, 1))  # pA\n",
    "    aln.params.mue_ou = 0. * np.random.uniform(0, 1, (N,))\n",
    "    aln.params.mui_ou = 0. * np.random.uniform(0, 1, (N,))\n",
    "\n",
    "# reads final state of model dynamics\n",
    "# set before simulation such that system begins in stable state\n",
    "def read_state():\n",
    "    init_state_vars = np.zeros(( len(state_vars) ))\n",
    "    for j in range(len(state_vars)):\n",
    "        if aln.state[state_vars[j]].size == 1:\n",
    "            init_state_vars[j] = aln.state[state_vars[j]][0]\n",
    "        else:\n",
    "            init_state_vars[j] = aln.state[state_vars[j]][0,-1]\n",
    "    return init_state_vars\n",
    "    \n",
    "aln = ALNModel()\n",
    "set_aln_init_zero()\n",
    "aln.params.a = 0. # no adaptation\n",
    "aln.params.b = 0. # no adaptation\n",
    "aln.params.ext_exc_current = 0.\n",
    "aln.params.ext_inh_current = 0.\n",
    "aln.params['duration'] = 1000. \n",
    "\n",
    "control0 = aln.getZeroControl()\n",
    "control0[0,0,1000:2000] = 5.\n",
    "control0[0,0,5000:6000] = -5.\n",
    "\n",
    "state_vars = aln.state_vars\n",
    "\n",
    "\n",
    "# down state\n",
    "print(\"down state\")\n",
    "aln.params.mue_ext_mean = 0. * 5.\n",
    "aln.params.mui_ext_mean = 0.5 * 5.\n",
    "    \n",
    "plot_rate(aln, control0)\n",
    "init_down = read_state()\n"
   ]
  },
  {
   "cell_type": "code",
   "execution_count": 6,
   "metadata": {},
   "outputs": [],
   "source": [
    " # to set initial parameters\n",
    "def setinit(init_vars_, model):\n",
    "    \n",
    "    for iv in range(len(model.init_vars)):\n",
    "        for sv in range(len(model.state_vars)):\n",
    "            if model.state_vars[sv] in model.init_vars[iv]:\n",
    "                if model.params[model.init_vars[iv]].ndim == 2:\n",
    "                    model.params[model.init_vars[iv]][0,:] = init_vars_[sv]\n",
    "                else:\n",
    "                    model.params[model.init_vars[iv]][0] = init_vars_[sv]"
   ]
  },
  {
   "cell_type": "code",
   "execution_count": 7,
   "metadata": {},
   "outputs": [
    {
     "data": {
      "image/png": "[encoded data removed]",
      "text/plain": [
       "<Figure size 432x288 with 1 Axes>"
      ]
     },
     "metadata": {},
     "output_type": "display_data"
    }
   ],
   "source": [
    "# fixed initialization should imply reproducibility, try also for other cases\n",
    "\n",
    "aln = ALNModel()\n",
    "set_aln_init_zero()\n",
    "aln.params.a = 0. # no adaptation\n",
    "aln.params.b = 0. # no adaptation\n",
    "aln.params.ext_exc_current = 0.\n",
    "aln.params.ext_inh_current = 0.\n",
    "aln.params['duration'] = 1000. \n",
    "aln.params.mue_ext_mean = 0. * 5.  # try also other cases parameters\n",
    "aln.params.mui_ext_mean = 0.5 * 5.\n",
    "setinit(init_down, aln)\n",
    "\n",
    "control0 = aln.getZeroControl()\n",
    "plot_rate(aln, control0)"
   ]
  },
  {
   "cell_type": "code",
   "execution_count": 8,
   "metadata": {},
   "outputs": [],
   "source": [
    "# set parameters\n",
    "tol = 1e-12 # algorithm tolerance for convergence\n",
    "\n",
    "start_step = 10. # start step of gradient descent\n",
    "\n",
    "c_scheme = np.zeros(( 1,1 )) # coupling scheme, only relevant for networks\n",
    "c_scheme[0,0] = 1. # coupling scheme, only relevant for networks\n",
    "u_mat = np.identity(1) # control matrix\n",
    "u_scheme = np.array([[1.]]) # control scheme\n",
    "\n",
    "max_it = 1000 # maximum number of iterations\n",
    "\n",
    "max_cntrl = [5., 5., 0., 0., 0., 0.] # maximum value of control current in input nodes (exc current, inh current, rates)\n",
    "min_cntrl = [-5., -5., 0., 0., 0., 0.]\n",
    "\n",
    "cgv_list = [None, \"HS\", \"FR\", \"PR\", \"CD\", \"LS\", \"DY\", \"WYL\", \"HZ\"] # different gradient descent methods\n",
    "cgv = cgv_list[0]"
   ]
  },
  {
   "cell_type": "code",
   "execution_count": 11,
   "metadata": {},
   "outputs": [],
   "source": [
    "# scenario 2.1.a\n",
    "# const target, short sim time\n",
    "dur = 20. # simulation duration\n",
    "aln.params.duration = dur\n",
    "setinit(init_down, aln)\n",
    "\n",
    "control0 = aln.getZeroControl()\n",
    "control0[0,0,-100:] = 1.\n",
    "\n",
    "target_const = aln.getZeroTarget()\n",
    "target_const[0,0,:] = 50\n",
    "\n",
    "# oscillation should be somewhat realistic, so roughly like what we find in stable oscillatory states.\n",
    "# One period is roughly 40ms\n",
    "target_osc = aln.getZeroTarget()\n",
    "x_osc = np.arange(0.,dur+aln.params.dt,aln.params.dt)\n",
    "target_osc[0,0,:] = 25. + 25. * np.sin(0.2 * x_osc)"
   ]
  },
  {
   "cell_type": "code",
   "execution_count": 14,
   "metadata": {
    "scrolled": true
   },
   "outputs": [
    {
     "name": "stderr",
     "output_type": "stream",
     "text": [
      "ERROR:root:Not possible to set up initial conditions without sufficient simulation time before control\n",
      "ERROR:root:Not possible to set up initial conditions without sufficient simulation time before control\n"
     ]
    },
    {
     "name": "stdout",
     "output_type": "stream",
     "text": [
      "interpolate adjoint :  True True True\n",
      "RUN  0 , total integrated cost =  18758.16227765926\n",
      "Gradient descend method:  None\n",
      "RUN  1 , total integrated cost =  18750.04139235285\n",
      "RUN  2 , total integrated cost =  18750.00007782985\n",
      "RUN  3 , total integrated cost =  18750.00000152694\n",
      "RUN  4 , total integrated cost =  18750.000000020962\n",
      "RUN  5 , total integrated cost =  18749.99999999957\n",
      "RUN  6 , total integrated cost =  18749.999999999105\n",
      "RUN  7 , total integrated cost =  18749.999999999094\n",
      "RUN  8 , total integrated cost =  18749.99999999909\n",
      "State only changes marginally.\n",
      "RUN  9 , total integrated cost =  18749.99999999909\n",
      "Control only changes marginally.\n",
      "RUN  9 , total integrated cost =  18749.99999999909\n",
      "Improved over  9  iterations in  0.1214647000000042  seconds by  0.04351320528817837  percent.\n",
      "interpolate adjoint :  True True True\n",
      "RUN  0 , total integrated cost =  18758.16227765926\n",
      "Gradient descend method:  HS\n",
      "RUN  1 , total integrated cost =  18750.04139235285\n",
      "Descent direction vanishing, use standard gradient descent\n",
      "RUN  2 , total integrated cost =  18750.00007782985\n",
      "Descent direction vanishing, use standard gradient descent\n",
      "RUN  3 , total integrated cost =  18750.00000152694\n",
      "Descent direction vanishing, use standard gradient descent\n",
      "RUN  4 , total integrated cost =  18750.000000020962\n"
     ]
    },
    {
     "name": "stderr",
     "output_type": "stream",
     "text": [
      "ERROR:root:Not possible to set up initial conditions without sufficient simulation time before control\n",
      "ERROR:root:Not possible to set up initial conditions without sufficient simulation time before control\n"
     ]
    },
    {
     "name": "stdout",
     "output_type": "stream",
     "text": [
      "Descent direction vanishing, use standard gradient descent\n",
      "RUN  5 , total integrated cost =  18749.99999999957\n",
      "Descent direction vanishing, use standard gradient descent\n",
      "RUN  6 , total integrated cost =  18749.999999999105\n",
      "RUN  7 , total integrated cost =  18749.999999999094\n",
      "Descent direction vanishing, use standard gradient descent\n",
      "RUN  8 , total integrated cost =  18749.99999999909\n",
      "State only changes marginally.\n",
      "RUN  9 , total integrated cost =  18749.99999999909\n",
      "Control only changes marginally.\n",
      "RUN  9 , total integrated cost =  18749.99999999909\n",
      "Improved over  9  iterations in  0.13864379999999699  seconds by  0.04351320528817837  percent.\n",
      "interpolate adjoint :  True True True\n",
      "RUN  0 , total integrated cost =  18758.16227765926\n",
      "Gradient descend method:  FR\n",
      "RUN  1 , total integrated cost =  18750.04139235285\n",
      "RUN  2 , total integrated cost =  18750.00007782985\n",
      "RUN  3 , total integrated cost =  18750.00007782985\n",
      "Control only changes marginally.\n",
      "RUN  3 , total integrated cost =  18750.00007782985\n",
      "Improved over  3  iterations in  0.0727468999999985  seconds by  0.04351279037142319  percent.\n",
      "interpolate adjoint :  True True True\n",
      "RUN  0 , total integrated cost =  18758.16227765926\n",
      "Gradient descend method:  PR\n",
      "RUN  1 , total integrated cost =  18750.04139235285\n",
      "RUN "
     ]
    },
    {
     "name": "stderr",
     "output_type": "stream",
     "text": [
      "ERROR:root:Not possible to set up initial conditions without sufficient simulation time before control\n"
     ]
    },
    {
     "name": "stdout",
     "output_type": "stream",
     "text": [
      " 2 , total integrated cost =  18750.00007782985\n",
      "RUN  3 , total integrated cost =  18750.000000042415\n",
      "RUN  4 , total integrated cost =  18750.00000000047\n",
      "RUN  5 , total integrated cost =  18750.00000000047\n",
      "Control only changes marginally.\n",
      "RUN  5 , total integrated cost =  18750.00000000047\n",
      "Improved over  5  iterations in  0.10541210000000945  seconds by  0.04351320528083136  percent.\n",
      "interpolate adjoint :  True True True\n",
      "RUN  0 , total integrated cost =  18758.16227765926\n",
      "Gradient descend method:  CD\n",
      "RUN  1 , total integrated cost =  18750.04139235285\n",
      "RUN  2 , total integrated cost =  18750.00007782985\n",
      "RUN  3 , total integrated cost =  18750.000001819124\n",
      "RUN  4 , total integrated cost =  18750.000000086337\n",
      "RUN  5 , total integrated cost =  18749.99999999984\n",
      "RUN  6 , total integrated cost =  18749.9999999991\n",
      "RUN  7 , total integrated cost =  18749.999999999094\n"
     ]
    },
    {
     "name": "stderr",
     "output_type": "stream",
     "text": [
      "ERROR:root:Not possible to set up initial conditions without sufficient simulation time before control\n",
      "ERROR:root:Not possible to set up initial conditions without sufficient simulation time before control\n"
     ]
    },
    {
     "name": "stdout",
     "output_type": "stream",
     "text": [
      "RUN  8 , total integrated cost =  18749.99999999909\n",
      "State only changes marginally.\n",
      "Descent direction vanishing, use standard gradient descent\n",
      "RUN  9 , total integrated cost =  18749.99999999909\n",
      "Control only changes marginally.\n",
      "RUN  9 , total integrated cost =  18749.99999999909\n",
      "Improved over  9  iterations in  0.16849729999999852  seconds by  0.04351320528817837  percent.\n",
      "interpolate adjoint :  True True True\n",
      "RUN  0 , total integrated cost =  18758.16227765926\n",
      "Gradient descend method:  LS\n",
      "RUN  1 , total integrated cost =  18750.04139235285\n",
      "RUN  2 , total integrated cost =  18750.00007782985\n",
      "RUN  3 , total integrated cost =  18750.00007782985\n",
      "Control only changes marginally.\n",
      "RUN  3 , total integrated cost =  18750.00007782985\n",
      "Improved over  3  iterations in  0.07261970000000417  seconds by  0.04351279037142319  percent.\n",
      "interpolate adjoint :  True True True\n",
      "RUN  0 , total integrated cost =  18758.16227765926\n",
      "Gradient descend method:  DY\n",
      "RUN  1 , total integrated cost =  18750.04139235285\n",
      "RUN  2 , total integrated cost =  18750.00007782985\n",
      "RUN  3 , total integrated cost =  18750.00000001296\n",
      "RUN  4 , total integrated cost =  18749.999999999807\n"
     ]
    },
    {
     "name": "stderr",
     "output_type": "stream",
     "text": [
      "ERROR:root:Not possible to set up initial conditions without sufficient simulation time before control\n",
      "ERROR:root:Not possible to set up initial conditions without sufficient simulation time before control\n"
     ]
    },
    {
     "name": "stdout",
     "output_type": "stream",
     "text": [
      "RUN  5 , total integrated cost =  18749.999999999098\n",
      "RUN  6 , total integrated cost =  18749.99999999909\n",
      "RUN  7 , total integrated cost =  18749.99999999909\n",
      "Control only changes marginally.\n",
      "RUN  7 , total integrated cost =  18749.99999999909\n",
      "Improved over  7  iterations in  0.15491070000000207  seconds by  0.04351320528817837  percent.\n",
      "interpolate adjoint :  True True True\n",
      "RUN  0 , total integrated cost =  18758.16227765926\n",
      "Gradient descend method:  WYL\n",
      "RUN  1 , total integrated cost =  18750.04139235285\n",
      "RUN  2 , total integrated cost =  18750.00007782985\n",
      "RUN  3 , total integrated cost =  18750.00007782985\n",
      "Control only changes marginally.\n",
      "RUN  3 , total integrated cost =  18750.00007782985\n",
      "Improved over  3  iterations in  0.07603790000000288  seconds by  0.04351279037142319  percent.\n",
      "interpolate adjoint :  True True True\n",
      "RUN  0 , total integrated cost =  18758.16227765926\n",
      "Gradient descend method:  HZ\n",
      "RUN  1 , total integrated cost =  18750.04139235285\n",
      "RUN  2 , total integrated cost =  18750.00007782985\n",
      "RUN  3 , total integrated cost =  18750.000001285676\n",
      "RUN  4 , total integrated cost =  18750.000000023807\n",
      "RUN  5 , total integrated cost =  18749.999999999516\n",
      "RUN  6 , total integrated cost =  18749.9999999991\n",
      "RUN  7 , total integrated cost =  18749.99999999909\n",
      "RUN  8 , total integrated cost =  18749.99999999909\n",
      "Control only changes marginally.\n",
      "RUN  8 , total integrated cost =  18749.99999999909\n",
      "Improved over  8  iterations in  0.14905069999998943  seconds by  0.04351320528817837  percent.\n"
     ]
    }
   ],
   "source": [
    "#scenario 2.1.a\n",
    "\n",
    "max_it_ = 400\n",
    "cost_list_21a = []\n",
    "runtime_list_21a = []\n",
    "termination_it_21a = []\n",
    "best_control_list_21a = []\n",
    "\n",
    "for cgv_tmp in cgv_list:\n",
    "    setinit(init_down, aln)\n",
    "    bestControl, bestState, cost, runtime, gradient, adjoint, costnode = aln.A1(\n",
    "        control0, target_const, c_scheme, u_mat, u_scheme, max_iteration_ = max_it, tolerance_ = tol,\n",
    "        startStep_ = start_step, max_control_ = max_cntrl, min_control_ = min_cntrl, t_sim_ = dur,\n",
    "        t_sim_pre_ = 0., t_sim_post_ = 0., CGVar = cgv_tmp, control_variables_ = [0],\n",
    "        prec_variables_ = [0], transition_time_ = 0.25)\n",
    "    \n",
    "    best_control_list_21a.append(bestControl)\n",
    "    cost_list_21a.append(cost)\n",
    "    runtime_list_21a.append(runtime)\n",
    "    \n",
    "    for cost_ind in range(len(cost)):\n",
    "        if cost[cost_ind] == 0.:\n",
    "            termination_it_21a.append(cost_ind-1)\n",
    "            break"
   ]
  },
  {
   "cell_type": "code",
   "execution_count": null,
   "metadata": {},
   "outputs": [],
   "source": [
    "for cgv_ind in range(len(cgv_list)):\n",
    "    plot_rate(aln, best_control_list_21a[cgv_ind], target_const)"
   ]
  },
  {
   "cell_type": "code",
   "execution_count": null,
   "metadata": {},
   "outputs": [],
   "source": [
    "marker_ = '.'\n",
    "markersize_ = 3\n",
    "linestyle_ = ''\n",
    "\n",
    "fig, ax = plt.subplots(2, figsize=(8,8))\n",
    "\n",
    "for i in range(len(termination_it_21a)):\n",
    "    ax[0].plot(runtime_list_21a[i][:termination_it_21a[i]], cost_list_21a[i][:termination_it_21a[i]], marker=marker_,\n",
    "             markersize = markersize_, linestyle=linestyle_, label = str(cgv_list[i]))\n",
    "    performance = []\n",
    "    for j in range(termination_it_21a[i]):\n",
    "        performance.append( 100. * ( cost_list_21a[i][0] - cost_list_21a[i][j]) / cost_list_21a[i][0] ) \n",
    "    ax[1].plot(runtime_list_21a[i][:termination_it_21a[i]], performance, marker=marker_,\n",
    "            markersize = markersize_, linestyle=linestyle_,\n",
    "            label = str(cgv_list[i]) + ', termination at {:.2f}'.format(performance[-1]) + '% after ' + str(termination_it_21a[i]) + ' iterations' )\n",
    "ax[0].legend()\n",
    "ax[0].set_xlabel('Runtime [s]')\n",
    "ax[0].set_ylabel('Cost')\n",
    "#ax[0].title.set_text('Cost per runtime')\n",
    "ax[1].legend()\n",
    "ax[1].set_xlabel('Runtime [s]')\n",
    "ax[1].set_ylabel('Improvement [%]')\n",
    "#ax[0].title.set_text('Cost per runtime')\n",
    "\n",
    "\n",
    "plt.show()"
   ]
  },
  {
   "cell_type": "code",
   "execution_count": 17,
   "metadata": {
    "scrolled": true
   },
   "outputs": [
    {
     "name": "stderr",
     "output_type": "stream",
     "text": [
      "ERROR:root:Not possible to set up initial conditions without sufficient simulation time before control\n",
      "ERROR:root:Not possible to set up initial conditions without sufficient simulation time before control\n"
     ]
    },
    {
     "name": "stdout",
     "output_type": "stream",
     "text": [
      "interpolate adjoint :  True True True\n",
      "RUN  0 , total integrated cost =  10687.038866311803\n",
      "Gradient descend method:  None\n",
      "RUN  1 , total integrated cost =  10678.917981005394\n",
      "RUN  2 , total integrated cost =  10678.876666482396\n",
      "RUN  3 , total integrated cost =  10678.876590179485\n",
      "RUN  4 , total integrated cost =  10678.876588673507\n",
      "RUN  5 , total integrated cost =  10678.876588652112\n",
      "RUN  6 , total integrated cost =  10678.876588651647\n",
      "RUN  7 , total integrated cost =  10678.876588651638\n",
      "RUN  8 , total integrated cost =  10678.876588651634\n",
      "State only changes marginally.\n",
      "RUN  9 , total integrated cost =  10678.876588651634\n",
      "Control only changes marginally.\n",
      "RUN  9 , total integrated cost =  10678.876588651634\n",
      "Improved over  9  iterations in  0.12633490000000336  seconds by  0.07637548400705896  percent.\n",
      "interpolate adjoint :  True True True\n",
      "RUN  0 , total integrated cost =  10687.038866311803\n",
      "Gradient descend method:  HS\n",
      "RUN  1 , total integrated cost =  10678.917981005394\n",
      "Descent direction vanishing, use standard gradient descent\n",
      "RUN  2 , total integrated cost =  10678.876666482396\n",
      "Descent direction vanishing, use standard gradient descent\n",
      "RUN  3 , total integrated cost =  10678.876590179485\n"
     ]
    },
    {
     "name": "stderr",
     "output_type": "stream",
     "text": [
      "ERROR:root:Not possible to set up initial conditions without sufficient simulation time before control\n",
      "ERROR:root:Not possible to set up initial conditions without sufficient simulation time before control\n"
     ]
    },
    {
     "name": "stdout",
     "output_type": "stream",
     "text": [
      "Descent direction vanishing, use standard gradient descent\n",
      "RUN  4 , total integrated cost =  10678.876588673507\n",
      "Descent direction vanishing, use standard gradient descent\n",
      "RUN  5 , total integrated cost =  10678.876588652112\n",
      "Descent direction vanishing, use standard gradient descent\n",
      "RUN  6 , total integrated cost =  10678.876588651647\n",
      "RUN  7 , total integrated cost =  10678.876588651638\n",
      "RUN  8 , total integrated cost =  10678.876588651634\n",
      "State only changes marginally.\n",
      "Descent direction vanishing, use standard gradient descent\n",
      "RUN  9 , total integrated cost =  10678.876588651634\n",
      "Control only changes marginally.\n",
      "RUN  9 , total integrated cost =  10678.876588651634\n",
      "Improved over  9  iterations in  0.14574730000001068  seconds by  0.07637548400705896  percent.\n",
      "interpolate adjoint :  True True True\n",
      "RUN  0 , total integrated cost =  10687.038866311803\n",
      "Gradient descend method:  FR\n",
      "RUN  1 , total integrated cost =  10678.917981005394\n",
      "RUN  2 , total integrated cost =  10678.876666482396\n",
      "RUN  3 , total integrated cost =  10678.876666482396\n",
      "Control only changes marginally.\n",
      "RUN  3 , total integrated cost =  10678.876666482396\n",
      "Improved over  3  iterations in  0.07389190000000667  seconds by  0.07637475573460506  percent.\n",
      "interpolate adjoint :  True True True\n",
      "RUN  0 , total integrated cost =  10687.038866311803\n",
      "Gradient descend method:  PR\n"
     ]
    },
    {
     "name": "stderr",
     "output_type": "stream",
     "text": [
      "ERROR:root:Not possible to set up initial conditions without sufficient simulation time before control\n"
     ]
    },
    {
     "name": "stdout",
     "output_type": "stream",
     "text": [
      "RUN  1 , total integrated cost =  10678.917981005394\n",
      "RUN  2 , total integrated cost =  10678.876666482396\n",
      "RUN  3 , total integrated cost =  10678.876588694959\n",
      "RUN  4 , total integrated cost =  10678.876588653011\n",
      "RUN  5 , total integrated cost =  10678.876588653011\n",
      "Control only changes marginally.\n",
      "RUN  5 , total integrated cost =  10678.876588653011\n",
      "Improved over  5  iterations in  0.10445620000000133  seconds by  0.07637548399418392  percent.\n",
      "interpolate adjoint :  True True True\n",
      "RUN  0 , total integrated cost =  10687.038866311803\n",
      "Gradient descend method:  CD\n",
      "RUN  1 , total integrated cost =  10678.917981005394\n",
      "RUN  2 , total integrated cost =  10678.876666482396\n",
      "RUN  3 , total integrated cost =  10678.87659047167\n",
      "RUN  4 , total integrated cost =  10678.87658873888\n",
      "RUN  5 , total integrated cost =  10678.876588652382\n",
      "RUN  6 , total integrated cost =  10678.876588651647\n",
      "RUN  7 , total integrated cost =  10678.876588651636\n"
     ]
    },
    {
     "name": "stderr",
     "output_type": "stream",
     "text": [
      "ERROR:root:Not possible to set up initial conditions without sufficient simulation time before control\n",
      "ERROR:root:Not possible to set up initial conditions without sufficient simulation time before control\n"
     ]
    },
    {
     "name": "stdout",
     "output_type": "stream",
     "text": [
      "RUN  8 , total integrated cost =  10678.876588651634\n",
      "Control only changes marginally.\n",
      "RUN  8 , total integrated cost =  10678.876588651634\n",
      "Improved over  8  iterations in  0.13522729999999683  seconds by  0.07637548400705896  percent.\n",
      "interpolate adjoint :  True True True\n",
      "RUN  0 , total integrated cost =  10687.038866311803\n",
      "Gradient descend method:  LS\n",
      "RUN  1 , total integrated cost =  10678.917981005394\n",
      "RUN  2 , total integrated cost =  10678.876666482396\n",
      "RUN  3 , total integrated cost =  10678.876666482396\n",
      "Control only changes marginally.\n",
      "RUN  3 , total integrated cost =  10678.876666482396\n",
      "Improved over  3  iterations in  0.0789120999999966  seconds by  0.07637475573460506  percent.\n",
      "interpolate adjoint :  True True True\n",
      "RUN  0 , total integrated cost =  10687.038866311803\n",
      "Gradient descend method:  DY\n",
      "RUN  1 , total integrated cost =  10678.917981005394\n",
      "RUN  2 , total integrated cost =  10678.876666482396\n",
      "RUN  3 , total integrated cost =  10678.876588665502\n",
      "RUN  4 , total integrated cost =  10678.876588652352\n",
      "RUN  5 , total integrated cost =  10678.876588651641\n"
     ]
    },
    {
     "name": "stderr",
     "output_type": "stream",
     "text": [
      "ERROR:root:Not possible to set up initial conditions without sufficient simulation time before control\n",
      "ERROR:root:Not possible to set up initial conditions without sufficient simulation time before control\n"
     ]
    },
    {
     "name": "stdout",
     "output_type": "stream",
     "text": [
      "RUN  6 , total integrated cost =  10678.876588651634\n",
      "State only changes marginally.\n",
      "RUN  7 , total integrated cost =  10678.876588651634\n",
      "Control only changes marginally.\n",
      "RUN  7 , total integrated cost =  10678.876588651634\n",
      "Improved over  7  iterations in  0.17550119999999936  seconds by  0.07637548400705896  percent.\n",
      "interpolate adjoint :  True True True\n",
      "RUN  0 , total integrated cost =  10687.038866311803\n",
      "Gradient descend method:  WYL\n",
      "RUN  1 , total integrated cost =  10678.917981005394\n",
      "RUN  2 , total integrated cost =  10678.876666482396\n",
      "RUN  3 , total integrated cost =  10678.876666482396\n",
      "Control only changes marginally.\n",
      "RUN  3 , total integrated cost =  10678.876666482396\n",
      "Improved over  3  iterations in  0.07499690000000214  seconds by  0.07637475573460506  percent.\n",
      "interpolate adjoint :  True True True\n",
      "RUN  0 , total integrated cost =  10687.038866311803\n",
      "Gradient descend method:  HZ\n",
      "RUN  1 , total integrated cost =  10678.917981005394\n",
      "RUN  2 , total integrated cost =  10678.876666482396\n",
      "RUN  3 , total integrated cost =  10678.876589938222\n",
      "RUN  4 , total integrated cost =  10678.87658867635\n",
      "RUN  5 , total integrated cost =  10678.87658865206\n",
      "RUN  6 , total integrated cost =  10678.876588651643\n",
      "RUN  7 , total integrated cost =  10678.876588651634\n",
      "RUN  8 , total integrated cost =  10678.876588651634\n",
      "Control only changes marginally.\n",
      "RUN  8 , total integrated cost =  10678.876588651634\n",
      "Improved over  8  iterations in  0.14506090000000427  seconds by  0.07637548400705896  percent.\n"
     ]
    }
   ],
   "source": [
    "#scenario 2.2.a\n",
    "\n",
    "max_it_ = 400\n",
    "cost_list_22a = []\n",
    "runtime_list_22a = []\n",
    "termination_it_22a = []\n",
    "best_control_list_22a = []\n",
    "\n",
    "for cgv_tmp in cgv_list:\n",
    "    setinit(init_down, aln)\n",
    "    bestControl, bestState, cost, runtime, gradient, adjoint, costnode = aln.A1(\n",
    "        control0, target_osc, c_scheme, u_mat, u_scheme, max_iteration_ = max_it, tolerance_ = tol,\n",
    "        startStep_ = start_step, max_control_ = max_cntrl, min_control_ = min_cntrl, t_sim_ = dur,\n",
    "        t_sim_pre_ = 0., t_sim_post_ = 0., CGVar = cgv_tmp, control_variables_ = [0],\n",
    "        prec_variables_ = [0], transition_time_ = 0.25)\n",
    "    \n",
    "    best_control_list_22a.append(bestControl)\n",
    "    cost_list_22a.append(cost)\n",
    "    runtime_list_22a.append(runtime)\n",
    "    \n",
    "    for cost_ind in range(len(cost)):\n",
    "        if cost[cost_ind] == 0.:\n",
    "            termination_it_22a.append(cost_ind-1)\n",
    "            break"
   ]
  },
  {
   "cell_type": "code",
   "execution_count": null,
   "metadata": {},
   "outputs": [],
   "source": [
    "for cgv_ind in range(len(cgv_list)):\n",
    "    plot_rate(aln, best_control_list_22a[cgv_ind], target_osc)"
   ]
  },
  {
   "cell_type": "code",
   "execution_count": null,
   "metadata": {},
   "outputs": [],
   "source": [
    "marker_ = '.'\n",
    "markersize_ = 3\n",
    "linestyle_ = ''\n",
    "\n",
    "fig, ax = plt.subplots(2, figsize=(8,8))\n",
    "\n",
    "for i in range(len(termination_it_22a)):\n",
    "    ax[0].plot(runtime_list_22a[i][:termination_it_22a[i]], cost_list_22a[i][:termination_it_22a[i]], marker=marker_,\n",
    "             markersize = markersize_, linestyle=linestyle_, label = str(cgv_list[i]))\n",
    "    performance = []\n",
    "    for j in range(termination_it_22a[i]):\n",
    "        performance.append( 100. * ( cost_list_22a[i][0] - cost_list_22a[i][j]) / cost_list_22a[i][0] ) \n",
    "    ax[1].plot(runtime_list_22a[i][:termination_it_22a[i]], performance, marker=marker_,\n",
    "            markersize = markersize_, linestyle=linestyle_,\n",
    "            label = str(cgv_list[i]) + ', termination at {:.2f}'.format(performance[-1]) + '% after ' + str(termination_it_22a[i]) + ' iterations' )\n",
    "ax[0].legend()\n",
    "ax[0].set_xlabel('Runtime [s]')\n",
    "ax[0].set_ylabel('Cost')\n",
    "#ax[0].title.set_text('Cost per runtime')\n",
    "ax[1].legend()\n",
    "ax[1].set_xlabel('Runtime [s]')\n",
    "ax[1].set_ylabel('Improvement [%]')\n",
    "#ax[0].title.set_text('Cost per runtime')\n",
    "\n",
    "\n",
    "plt.show()"
   ]
  },
  {
   "cell_type": "code",
   "execution_count": null,
   "metadata": {},
   "outputs": [],
   "source": []
  }
 ],
 "metadata": {
  "kernelspec": {
   "display_name": "Python 3 (Spyder)",
   "language": "python3",
   "name": "python3"
  },
  "language_info": {
   "codemirror_mode": {
    "name": "ipython",
    "version": 3
   },
   "file_extension": ".py",
   "mimetype": "text/x-python",
   "name": "python",
   "nbconvert_exporter": "python",
   "pygments_lexer": "ipython3",
   "version": "3.7.6"
  }
 },
 "nbformat": 4,
 "nbformat_minor": 5
}
