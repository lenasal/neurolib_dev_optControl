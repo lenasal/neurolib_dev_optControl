{
 "cells": [
  {
   "cell_type": "code",
   "execution_count": 1,
   "metadata": {},
   "outputs": [
    {
     "name": "stdout",
     "output_type": "stream",
     "text": [
      "The autoreload extension is already loaded. To reload it, use:\n",
      "  %reload_ext autoreload\n"
     ]
    }
   ],
   "source": [
    "# change to the root directory of the project\n",
    "import os\n",
    "if os.getcwd().split(\"/\")[-1] == \"examples\":\n",
    "    os.chdir('..')\n",
    "    \n",
    "# This will reload all imports as soon as the code changes\n",
    "%load_ext autoreload\n",
    "%autoreload 2    "
   ]
  },
  {
   "cell_type": "code",
   "execution_count": 2,
   "metadata": {},
   "outputs": [],
   "source": [
    "try:\n",
    "    import matplotlib.pyplot as plt\n",
    "except ImportError:\n",
    "    import sys\n",
    "    !{sys.executable} -m pip install matplotlib\n",
    "    import matplotlib.pyplot as plt\n",
    "    \n",
    "import numpy as np\n",
    "\n",
    "from neurolib.models.aln import ALNModel\n",
    "from neurolib.utils.parameterSpace import ParameterSpace\n",
    "from neurolib.optimize.exploration import BoxSearch\n",
    "\n",
    "# a nice color map\n",
    "plt.rcParams['image.cmap'] = 'plasma'"
   ]
  },
  {
   "cell_type": "code",
   "execution_count": 3,
   "metadata": {},
   "outputs": [],
   "source": [
    "aln = ALNModel()"
   ]
  },
  {
   "cell_type": "code",
   "execution_count": 4,
   "metadata": {},
   "outputs": [
    {
     "name": "stderr",
     "output_type": "stream",
     "text": [
      "MainProcess pypet.storageservice.HDF5StorageService INFO     I will use the hdf5 file `./data/hdf/example-1.hdf`.\n",
      "MainProcess pypet.environment.Environment INFO     Environment initialized.\n",
      "C:\\Users\\lenas\\anaconda3\\lib\\site-packages\\pypet\\parameter.py:884: FutureWarning: Conversion of the second argument of issubdtype from `str` to `str` is deprecated. In future, it will be treated as `np.str_ == np.dtype(str).type`.\n",
      "  if np.issubdtype(dtype, np.str):\n",
      "MainProcess root INFO     Number of parameter configurations: 4\n",
      "MainProcess root INFO     BoxSearch: Environment initialized.\n"
     ]
    }
   ],
   "source": [
    "parameters = ParameterSpace({\"mue_ext_mean\": np.linspace(0, 3, 2), \"mui_ext_mean\": np.linspace(0, 3, 2)})\n",
    "# info: chose np.linspace(0, 3, 21) or more, values here are low for testing\n",
    "\n",
    "search = BoxSearch(aln, parameters, filename=\"example-1.hdf\")"
   ]
  },
  {
   "cell_type": "code",
   "execution_count": 5,
   "metadata": {
    "scrolled": true
   },
   "outputs": [
    {
     "name": "stderr",
     "output_type": "stream",
     "text": [
      "MainProcess pypet.environment.Environment INFO     I am preparing the Trajectory for the experiment and initialise the store.\n",
      "MainProcess pypet.environment.Environment INFO     Initialising the storage for the trajectory.\n",
      "MainProcess pypet.storageservice.HDF5StorageService INFO     Initialising storage or updating meta data of Trajectory `results-2020-11-12-08H-41M-18S`.\n",
      "MainProcess pypet.storageservice.HDF5StorageService INFO     Finished init or meta data update for `results-2020-11-12-08H-41M-18S`.\n",
      "MainProcess pypet.environment.Environment INFO     \n",
      "************************************************************\n",
      "STARTING runs of trajectory\n",
      "`results-2020-11-12-08H-41M-18S`.\n",
      "************************************************************\n",
      "\n",
      "MainProcess pypet.storageservice.HDF5StorageService INFO     Initialising storage or updating meta data of Trajectory `results-2020-11-12-08H-41M-18S`.\n",
      "MainProcess pypet.storageservice.HDF5StorageService INFO     Finished init or meta data update for `results-2020-11-12-08H-41M-18S`.\n",
      "MainProcess pypet.environment.Environment INFO     Starting multiprocessing with at most 8 processes running at the same time.\n",
      "MainProcess pypet INFO     PROGRESS: Finished 0/4 runs [                    ]  0.0%\n"
     ]
    },
    {
     "ename": "PicklingError",
     "evalue": "Can't pickle <class 'neurolib.utils.parameterSpace.ParameterSpace'>: it's not the same object as neurolib.utils.parameterSpace.ParameterSpace",
     "output_type": "error",
     "traceback": [
      "Traceback \u001b[1;36m(most recent call last)\u001b[0m:\n",
      "  File \u001b[0;32m\"<ipython-input-5-1a76dac16502>\"\u001b[0m, line \u001b[0;32m1\u001b[0m, in \u001b[0;35m<module>\u001b[0m\n    search.run()\n",
      "  File \u001b[0;32m\"D:\\Promotion\\neurolib\\neurolib\\optimize\\exploration\\exploration.py\"\u001b[0m, line \u001b[0;32m258\u001b[0m, in \u001b[0;35mrun\u001b[0m\n    self.env.run(self.evalFunction)\n",
      "  File \u001b[0;32m\"C:\\Users\\lenas\\anaconda3\\lib\\site-packages\\pypet\\environment.py\"\u001b[0m, line \u001b[0;32m1806\u001b[0m, in \u001b[0;35mrun\u001b[0m\n    return self._execute_runs(pipeline)\n",
      "  File \u001b[0;32m\"C:\\Users\\lenas\\anaconda3\\lib\\site-packages\\pypet\\environment.py\"\u001b[0m, line \u001b[0;32m2330\u001b[0m, in \u001b[0;35m_execute_runs\u001b[0m\n    self._inner_run_loop(results)\n",
      "  File \u001b[0;32m\"C:\\Users\\lenas\\anaconda3\\lib\\site-packages\\pypet\\environment.py\"\u001b[0m, line \u001b[0;32m2463\u001b[0m, in \u001b[0;35m_inner_run_loop\u001b[0m\n    expanded_by_postproc = self._execute_multiprocessing(start_run_idx, results)\n",
      "  File \u001b[0;32m\"C:\\Users\\lenas\\anaconda3\\lib\\site-packages\\pypet\\environment.py\"\u001b[0m, line \u001b[0;32m2777\u001b[0m, in \u001b[0;35m_execute_multiprocessing\u001b[0m\n    proc.start()\n",
      "  File \u001b[0;32m\"C:\\Users\\lenas\\anaconda3\\lib\\multiprocessing\\process.py\"\u001b[0m, line \u001b[0;32m112\u001b[0m, in \u001b[0;35mstart\u001b[0m\n    self._popen = self._Popen(self)\n",
      "  File \u001b[0;32m\"C:\\Users\\lenas\\anaconda3\\lib\\multiprocessing\\context.py\"\u001b[0m, line \u001b[0;32m223\u001b[0m, in \u001b[0;35m_Popen\u001b[0m\n    return _default_context.get_context().Process._Popen(process_obj)\n",
      "  File \u001b[0;32m\"C:\\Users\\lenas\\anaconda3\\lib\\multiprocessing\\context.py\"\u001b[0m, line \u001b[0;32m322\u001b[0m, in \u001b[0;35m_Popen\u001b[0m\n    return Popen(process_obj)\n",
      "  File \u001b[0;32m\"C:\\Users\\lenas\\anaconda3\\lib\\multiprocessing\\popen_spawn_win32.py\"\u001b[0m, line \u001b[0;32m89\u001b[0m, in \u001b[0;35m__init__\u001b[0m\n    reduction.dump(process_obj, to_child)\n",
      "\u001b[1;36m  File \u001b[1;32m\"C:\\Users\\lenas\\anaconda3\\lib\\multiprocessing\\reduction.py\"\u001b[1;36m, line \u001b[1;32m60\u001b[1;36m, in \u001b[1;35mdump\u001b[1;36m\u001b[0m\n\u001b[1;33m    ForkingPickler(file, protocol).dump(obj)\u001b[0m\n",
      "\u001b[1;31mPicklingError\u001b[0m\u001b[1;31m:\u001b[0m Can't pickle <class 'neurolib.utils.parameterSpace.ParameterSpace'>: it's not the same object as neurolib.utils.parameterSpace.ParameterSpace\n"
     ]
    }
   ],
   "source": [
    "search.run()"
   ]
  },
  {
   "cell_type": "code",
   "execution_count": null,
   "metadata": {},
   "outputs": [],
   "source": [
    "search.loadResults()"
   ]
  },
  {
   "cell_type": "code",
   "execution_count": null,
   "metadata": {},
   "outputs": [],
   "source": [
    "print(\"Number of results: {}\".format(len(search.results)))"
   ]
  },
  {
   "cell_type": "code",
   "execution_count": 12,
   "metadata": {},
   "outputs": [],
   "source": [
    "# Example analysis of the results\n",
    "# The .results attribute is a list and can be indexed by the run \n",
    "# number (which is also the index of the pandas dataframe .dfResults).\n",
    "# Here we compute the maximum firing rate of the node in the last second\n",
    "# and add the result (a float) to the pandas dataframe.\n",
    "for i in search.dfResults.index:\n",
    "    search.dfResults.loc[i, 'max_r'] = np.max(search.results[i]['rates_exc'][:, -int(1000/aln.params['dt']):])"
   ]
  },
  {
   "cell_type": "code",
   "execution_count": 6,
   "metadata": {},
   "outputs": [
    {
     "ename": "AttributeError",
     "evalue": "'BoxSearch' object has no attribute 'dfResults'",
     "output_type": "error",
     "traceback": [
      "Traceback \u001b[1;36m(most recent call last)\u001b[0m:\n",
      "\u001b[1;36m  File \u001b[1;32m\"<ipython-input-6-9c5274aa9fff>\"\u001b[1;36m, line \u001b[1;32m1\u001b[1;36m, in \u001b[1;35m<module>\u001b[1;36m\u001b[0m\n\u001b[1;33m    plt.imshow(search.dfResults.pivot_table(values='max_r', index = 'mui_ext_mean', columns='mue_ext_mean'), \\\u001b[0m\n",
      "\u001b[1;31mAttributeError\u001b[0m\u001b[1;31m:\u001b[0m 'BoxSearch' object has no attribute 'dfResults'\n"
     ]
    }
   ],
   "source": [
    "plt.imshow(search.dfResults.pivot_table(values='max_r', index = 'mui_ext_mean', columns='mue_ext_mean'), \\\n",
    "           extent = [min(search.dfResults.mue_ext_mean), max(search.dfResults.mue_ext_mean),\n",
    "                     min(search.dfResults.mui_ext_mean), max(search.dfResults.mui_ext_mean)], origin='lower')\n",
    "plt.colorbar(label='Maximum rate [Hz]')\n",
    "plt.xlabel(\"Input to E\")\n",
    "plt.ylabel(\"Input to I\")"
   ]
  },
  {
   "cell_type": "code",
   "execution_count": null,
   "metadata": {},
   "outputs": [],
   "source": []
  }
 ],
 "metadata": {
  "kernelspec": {
   "display_name": "Python 3 (Spyder)",
   "language": "python3",
   "name": "python3"
  },
  "language_info": {
   "codemirror_mode": {
    "name": "ipython",
    "version": 3
   },
   "file_extension": ".py",
   "mimetype": "text/x-python",
   "name": "python",
   "nbconvert_exporter": "python",
   "pygments_lexer": "ipython3",
   "version": "3.7.6"
  }
 },
 "nbformat": 4,
 "nbformat_minor": 4
}
